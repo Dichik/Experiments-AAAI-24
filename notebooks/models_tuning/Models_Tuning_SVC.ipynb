{
 "cells": [
  {
   "cell_type": "markdown",
   "metadata": {
    "collapsed": false
   },
   "source": [
    "# Models Tuning"
   ]
  },
  {
   "cell_type": "markdown",
   "metadata": {
    "collapsed": false
   },
   "source": [
    "Enable auto-reloading of external modules"
   ]
  },
  {
   "cell_type": "code",
   "execution_count": 1,
   "metadata": {
    "collapsed": false
   },
   "outputs": [],
   "source": [
    "%matplotlib inline\n",
    "%load_ext autoreload\n",
    "%autoreload 2"
   ]
  },
  {
   "cell_type": "markdown",
   "metadata": {
    "collapsed": false
   },
   "source": [
    "Import dependencies"
   ]
  },
  {
   "cell_type": "code",
   "execution_count": 2,
   "metadata": {
    "collapsed": false
   },
   "outputs": [],
   "source": [
    "import os\n",
    "import warnings\n",
    "warnings.filterwarnings('ignore')\n",
    "os.environ[\"PYTHONWARNINGS\"] = \"ignore\""
   ]
  },
  {
   "cell_type": "code",
   "execution_count": 3,
   "id": "b7564726",
   "metadata": {},
   "outputs": [
    {
     "name": "stdout",
     "output_type": "stream",
     "text": [
      "/home/denys_herasymuk/UCU/4course_2term/Bachelor_Thesis/Code/fairness-variance\n"
     ]
    }
   ],
   "source": [
    "%cd .."
   ]
  },
  {
   "cell_type": "code",
   "execution_count": 4,
   "metadata": {
    "collapsed": false
   },
   "outputs": [],
   "source": [
    "import matplotlib\n",
    "import matplotlib.pyplot as plt\n",
    "from pprint import pprint\n",
    "\n",
    "from source.custom_classes.data_loaders import ACSEmploymentDataset\n",
    "from source.utils.model_tuning_utils import test_baseline_models\n",
    "\n",
    "plt.style.use('mpl20')\n",
    "matplotlib.rcParams['figure.dpi'] = 100"
   ]
  },
  {
   "cell_type": "code",
   "execution_count": 5,
   "metadata": {
    "collapsed": false
   },
   "outputs": [],
   "source": [
    "try:\n",
    "    from folktables import ACSDataSource, ACSEmployment\n",
    "except:\n",
    "    !pip install folktables\n",
    "    from folktables import ACSDataSource, ACSEmployment"
   ]
  },
  {
   "cell_type": "code",
   "execution_count": null,
   "outputs": [],
   "source": [
    "DATASET_CONFIG = {\n",
    "    'state': \"GA\",\n",
    "    'year': 2018,\n",
    "}"
   ],
   "metadata": {
    "collapsed": false
   }
  },
  {
   "cell_type": "code",
   "execution_count": 6,
   "metadata": {
    "collapsed": false
   },
   "outputs": [],
   "source": [
    "STATE = DATASET_CONFIG['state']\n",
    "YEAR = DATASET_CONFIG['year']\n",
    "DATASET_NAME = f\"Folktables_{STATE}_{YEAR}\""
   ]
  },
  {
   "cell_type": "markdown",
   "id": "e34f792f",
   "metadata": {},
   "source": [
    "## Loading ACSEmployment data"
   ]
  },
  {
   "cell_type": "code",
   "execution_count": 7,
   "id": "d7067c19",
   "metadata": {},
   "outputs": [],
   "source": [
    "dataset = ACSEmploymentDataset(state=[STATE], year=YEAR, root_dir='data', with_nulls=False)"
   ]
  },
  {
   "cell_type": "markdown",
   "metadata": {
    "collapsed": false
   },
   "source": [
    "## Tune hyper-parameters and find the best baseline model"
   ]
  },
  {
   "cell_type": "code",
   "execution_count": 8,
   "metadata": {
    "collapsed": false
   },
   "outputs": [
    {
     "name": "stdout",
     "output_type": "stream",
     "text": [
      "Baseline X_train shape:  (80684, 16)\n",
      "Baseline X_test shape:  (20171, 16)\n",
      "X_train_features.columns:  Index(['RAC1P_6', 'SCHL_24', 'ESP_7', 'SCHL_15', 'MAR_5', 'SCHL_11',\n",
      "       'NATIVITY_2', 'ESP_0', 'ANC_3', 'SEX_2', 'RAC1P_9', 'SCHL_16', 'DEAR_1',\n",
      "       'ANC_2', 'ESP_2', 'RELP_16', 'RELP_10', 'MAR_3', 'SCHL_4', 'ESP_6',\n",
      "       'MIG_3', 'SCHL_1', 'RELP_17', 'MAR_4', 'RELP_2', 'ESP_4', 'MIG_1',\n",
      "       'RAC1P_8', 'RELP_15', 'MIL_3', 'SEX_1', 'MIL_0', 'SCHL_20', 'MAR_2',\n",
      "       'RAC1P_2', 'CIT_1', 'DEAR_2', 'DREM_2', 'ESP_5', 'SCHL_2', 'MIL_2',\n",
      "       'SCHL_0', 'MIG_0', 'SCHL_10', 'RELP_3', 'NATIVITY_1', 'ANC_1', 'RELP_7',\n",
      "       'DIS_2', 'ESP_3', 'CIT_4', 'RELP_8', 'SCHL_14', 'RELP_5', 'RELP_1',\n",
      "       'SCHL_12', 'DREM_0', 'SCHL_13', 'RELP_12', 'DIS_1', 'SCHL_17', 'MIG_2',\n",
      "       'RELP_6', 'RAC1P_5', 'RELP_11', 'RELP_0', 'SCHL_8', 'SCHL_22', 'MIL_4',\n",
      "       'SCHL_6', 'SCHL_7', 'RELP_9', 'RELP_13', 'SCHL_21', 'DREM_1', 'CIT_5',\n",
      "       'SCHL_18', 'DEYE_1', 'RAC1P_3', 'SCHL_19', 'AGEP', 'CIT_3', 'CIT_2',\n",
      "       'RELP_14', 'ESP_8', 'ESP_1', 'SCHL_23', 'SCHL_3', 'SCHL_5', 'RAC1P_7',\n",
      "       'SCHL_9', 'ANC_4', 'DEYE_2', 'MAR_1', 'MIL_1', 'RAC1P_1', 'RELP_4'],\n",
      "      dtype='object')\n",
      "2022/12/15, 13:09:31: Tuning SVC...\n",
      "Fitting 3 folds for each of 9 candidates, totalling 27 fits\n",
      "[CV 1/3; 1/9] START C=10, gamma=0.01, kernel=rbf................................\n",
      "[CV 2/3; 1/9] START C=10, gamma=0.01, kernel=rbf................................\n",
      "[CV 3/3; 1/9] START C=10, gamma=0.01, kernel=rbf................................\n",
      "[CV 1/3; 2/9] START C=10, gamma=0.001, kernel=rbf...............................\n",
      "[CV 2/3; 2/9] START C=10, gamma=0.001, kernel=rbf...............................\n",
      "[CV 3/3; 2/9] START C=10, gamma=0.001, kernel=rbf...............................\n",
      "[CV 1/3; 3/9] START C=10, gamma=0.0001, kernel=rbf..............................\n",
      "[CV 2/3; 3/9] START C=10, gamma=0.0001, kernel=rbf..............................\n",
      "[CV 3/3; 3/9] START C=10, gamma=0.0001, kernel=rbf..............................\n",
      "[CV 1/3; 4/9] START C=100, gamma=0.01, kernel=rbf...............................\n",
      "[CV 2/3; 4/9] START C=100, gamma=0.01, kernel=rbf...............................\n",
      "[CV 3/3; 4/9] START C=100, gamma=0.01, kernel=rbf...............................\n",
      "[CV 3/3; 2/9] END C=10, gamma=0.001, kernel=rbf; Accuracy_Score: (test=0.818) F1_Score: (test=0.818) total time= 6.9min\n",
      "[CV 1/3; 5/9] START C=100, gamma=0.001, kernel=rbf..............................\n",
      "[CV 3/3; 3/9] END C=10, gamma=0.0001, kernel=rbf; Accuracy_Score: (test=0.787) F1_Score: (test=0.787) total time= 7.4min\n",
      "[CV 2/3; 5/9] START C=100, gamma=0.001, kernel=rbf..............................\n",
      "[CV 3/3; 1/9] END C=10, gamma=0.01, kernel=rbf; Accuracy_Score: (test=0.811) F1_Score: (test=0.810) total time= 8.9min\n",
      "[CV 3/3; 5/9] START C=100, gamma=0.001, kernel=rbf..............................\n",
      "[CV 3/3; 4/9] END C=100, gamma=0.01, kernel=rbf; Accuracy_Score: (test=0.801) F1_Score: (test=0.800) total time=10.1min\n",
      "[CV 1/3; 6/9] START C=100, gamma=0.0001, kernel=rbf.............................\n",
      "[CV 3/3; 5/9] END C=100, gamma=0.001, kernel=rbf; Accuracy_Score: (test=0.815) F1_Score: (test=0.814) total time= 7.2min\n",
      "[CV 2/3; 6/9] START C=100, gamma=0.0001, kernel=rbf.............................\n",
      "[CV 2/3; 2/9] END C=10, gamma=0.001, kernel=rbf; Accuracy_Score: (test=0.817) F1_Score: (test=0.817) total time=21.8min\n",
      "[CV 3/3; 6/9] START C=100, gamma=0.0001, kernel=rbf.............................\n",
      "[CV 2/3; 3/9] END C=10, gamma=0.0001, kernel=rbf; Accuracy_Score: (test=0.804) F1_Score: (test=0.804) total time=23.8min\n",
      "[CV 1/3; 7/9] START C=1000, gamma=0.01, kernel=rbf..............................\n",
      "[CV 3/3; 6/9] END C=100, gamma=0.0001, kernel=rbf; Accuracy_Score: (test=0.815) F1_Score: (test=0.814) total time= 6.8min\n",
      "[CV 2/3; 7/9] START C=1000, gamma=0.01, kernel=rbf..............................\n",
      "[CV 2/3; 1/9] END C=10, gamma=0.01, kernel=rbf; Accuracy_Score: (test=0.816) F1_Score: (test=0.816) total time=34.4min\n",
      "[CV 3/3; 7/9] START C=1000, gamma=0.01, kernel=rbf..............................\n",
      "[CV 2/3; 5/9] END C=100, gamma=0.001, kernel=rbf; Accuracy_Score: (test=0.820) F1_Score: (test=0.820) total time=27.5min\n",
      "[CV 1/3; 8/9] START C=1000, gamma=0.001, kernel=rbf.............................\n",
      "[CV 2/3; 6/9] END C=100, gamma=0.0001, kernel=rbf; Accuracy_Score: (test=0.814) F1_Score: (test=0.813) total time=21.5min\n",
      "[CV 2/3; 8/9] START C=1000, gamma=0.001, kernel=rbf.............................\n",
      "[CV 1/3; 2/9] END C=10, gamma=0.001, kernel=rbf; Accuracy_Score: (test=0.819) F1_Score: (test=0.819) total time=44.8min\n",
      "[CV 3/3; 8/9] START C=1000, gamma=0.001, kernel=rbf.............................\n",
      "[CV 3/3; 7/9] END C=1000, gamma=0.01, kernel=rbf; Accuracy_Score: (test=0.793) F1_Score: (test=0.791) total time=12.6min\n",
      "[CV 1/3; 9/9] START C=1000, gamma=0.0001, kernel=rbf............................\n",
      "[CV 1/3; 3/9] END C=10, gamma=0.0001, kernel=rbf; Accuracy_Score: (test=0.809) F1_Score: (test=0.809) total time=49.4min\n",
      "[CV 2/3; 9/9] START C=1000, gamma=0.0001, kernel=rbf............................\n",
      "[CV 2/3; 4/9] END C=100, gamma=0.01, kernel=rbf; Accuracy_Score: (test=0.806) F1_Score: (test=0.805) total time=51.5min\n",
      "[CV 3/3; 9/9] START C=1000, gamma=0.0001, kernel=rbf............................\n",
      "[CV 3/3; 8/9] END C=1000, gamma=0.001, kernel=rbf; Accuracy_Score: (test=0.815) F1_Score: (test=0.815) total time= 8.4min\n",
      "[CV 1/3; 6/9] END C=100, gamma=0.0001, kernel=rbf; Accuracy_Score: (test=0.815) F1_Score: (test=0.815) total time=47.1min\n",
      "[CV 3/3; 9/9] END C=1000, gamma=0.0001, kernel=rbf; Accuracy_Score: (test=0.819) F1_Score: (test=0.818) total time= 6.2min\n",
      "[CV 1/3; 5/9] END C=100, gamma=0.001, kernel=rbf; Accuracy_Score: (test=0.824) F1_Score: (test=0.823) total time=58.2min\n",
      "[CV 1/3; 1/9] END C=10, gamma=0.01, kernel=rbf; Accuracy_Score: (test=0.822) F1_Score: (test=0.821) total time=66.9min\n",
      "[CV 2/3; 9/9] END C=1000, gamma=0.0001, kernel=rbf; Accuracy_Score: (test=0.818) F1_Score: (test=0.817) total time=19.6min\n",
      "[CV 2/3; 8/9] END C=1000, gamma=0.001, kernel=rbf; Accuracy_Score: (test=0.819) F1_Score: (test=0.819) total time=38.0min\n",
      "[CV 2/3; 7/9] END C=1000, gamma=0.01, kernel=rbf; Accuracy_Score: (test=0.795) F1_Score: (test=0.794) total time=51.6min\n",
      "[CV 1/3; 9/9] END C=1000, gamma=0.0001, kernel=rbf; Accuracy_Score: (test=0.820) F1_Score: (test=0.819) total time=35.7min\n",
      "[CV 1/3; 4/9] END C=100, gamma=0.01, kernel=rbf; Accuracy_Score: (test=0.812) F1_Score: (test=0.811) total time=87.2min\n",
      "[CV 1/3; 8/9] END C=1000, gamma=0.001, kernel=rbf; Accuracy_Score: (test=0.826) F1_Score: (test=0.826) total time=63.8min\n",
      "[CV 1/3; 7/9] END C=1000, gamma=0.01, kernel=rbf; Accuracy_Score: (test=0.805) F1_Score: (test=0.804) total time=87.9min\n",
      "2022/12/15, 15:44:37: Tuning for SVC is finished\n",
      "####################  Folktables_GA_2018  ####################\n",
      "Test model:  SVC\n",
      "Test model parameters:\n",
      "{'C': 1000, 'gamma': 0.001, 'kernel': 'rbf'}\n",
      "\n",
      "              precision    recall  f1-score   support\n",
      "\n",
      "           0      0.874     0.795     0.833     11038\n",
      "           1      0.777     0.861     0.817      9133\n",
      "\n",
      "    accuracy                          0.825     20171\n",
      "   macro avg      0.825     0.828     0.825     20171\n",
      "weighted avg      0.830     0.825     0.825     20171\n",
      "\n"
     ]
    },
    {
     "data": {
      "image/png": "[encoded data removed]",
      "text/plain": [
       "<Figure size 640x480 with 2 Axes>"
      ]
     },
     "metadata": {},
     "output_type": "display_data"
    },
    {
     "data": {
      "text/html": [
       "<div>\n",
       "<style scoped>\n",
       "    .dataframe tbody tr th:only-of-type {\n",
       "        vertical-align: middle;\n",
       "    }\n",
       "\n",
       "    .dataframe tbody tr th {\n",
       "        vertical-align: top;\n",
       "    }\n",
       "\n",
       "    .dataframe thead th {\n",
       "        text-align: right;\n",
       "    }\n",
       "</style>\n",
       "<table border=\"1\" class=\"dataframe\">\n",
       "  <thead>\n",
       "    <tr style=\"text-align: right;\">\n",
       "      <th></th>\n",
       "      <th>Dataset_Name</th>\n",
       "      <th>Model_Name</th>\n",
       "      <th>F1_Score</th>\n",
       "      <th>Accuracy_Score</th>\n",
       "      <th>Model_Best_Params</th>\n",
       "    </tr>\n",
       "  </thead>\n",
       "  <tbody>\n",
       "    <tr>\n",
       "      <th>0</th>\n",
       "      <td>Folktables_GA_2018</td>\n",
       "      <td>SVC</td>\n",
       "      <td>0.824683</td>\n",
       "      <td>0.825046</td>\n",
       "      <td>{'C': 1000, 'gamma': 0.001, 'kernel': 'rbf'}</td>\n",
       "    </tr>\n",
       "  </tbody>\n",
       "</table>\n",
       "</div>"
      ],
      "text/plain": [
       "         Dataset_Name Model_Name  F1_Score  Accuracy_Score  \\\n",
       "0  Folktables_GA_2018        SVC  0.824683        0.825046   \n",
       "\n",
       "                              Model_Best_Params  \n",
       "0  {'C': 1000, 'gamma': 0.001, 'kernel': 'rbf'}  "
      ]
     },
     "execution_count": 8,
     "metadata": {},
     "output_type": "execute_result"
    }
   ],
   "source": [
    "ML_baseline_results_df, best_results_df = test_baseline_models(dataset, dataset_name=DATASET_NAME)\n",
    "ML_baseline_results_df"
   ]
  },
  {
   "cell_type": "code",
   "execution_count": 9,
   "metadata": {
    "collapsed": false
   },
   "outputs": [
    {
     "data": {
      "text/html": [
       "<div>\n",
       "<style scoped>\n",
       "    .dataframe tbody tr th:only-of-type {\n",
       "        vertical-align: middle;\n",
       "    }\n",
       "\n",
       "    .dataframe tbody tr th {\n",
       "        vertical-align: top;\n",
       "    }\n",
       "\n",
       "    .dataframe thead th {\n",
       "        text-align: right;\n",
       "    }\n",
       "</style>\n",
       "<table border=\"1\" class=\"dataframe\">\n",
       "  <thead>\n",
       "    <tr style=\"text-align: right;\">\n",
       "      <th></th>\n",
       "      <th>Dataset_Name</th>\n",
       "      <th>Model_Name</th>\n",
       "      <th>F1_Score</th>\n",
       "      <th>Accuracy_Score</th>\n",
       "      <th>Model_Best_Params</th>\n",
       "      <th>Model_Pred</th>\n",
       "    </tr>\n",
       "  </thead>\n",
       "  <tbody>\n",
       "    <tr>\n",
       "      <th>0</th>\n",
       "      <td>Folktables_GA_2018</td>\n",
       "      <td>SVC</td>\n",
       "      <td>0.824683</td>\n",
       "      <td>0.825046</td>\n",
       "      <td>{'C': 1000, 'gamma': 0.001, 'kernel': 'rbf'}</td>\n",
       "      <td>[1, 1, 0, 0, 0, 1, 0, 0, 0, 0, 1, 0, 1, 0, 1, ...</td>\n",
       "    </tr>\n",
       "  </tbody>\n",
       "</table>\n",
       "</div>"
      ],
      "text/plain": [
       "         Dataset_Name Model_Name  F1_Score  Accuracy_Score  \\\n",
       "0  Folktables_GA_2018        SVC  0.824683        0.825046   \n",
       "\n",
       "                              Model_Best_Params  \\\n",
       "0  {'C': 1000, 'gamma': 0.001, 'kernel': 'rbf'}   \n",
       "\n",
       "                                          Model_Pred  \n",
       "0  [1, 1, 0, 0, 0, 1, 0, 0, 0, 0, 1, 0, 1, 0, 1, ...  "
      ]
     },
     "execution_count": 9,
     "metadata": {},
     "output_type": "execute_result"
    }
   ],
   "source": [
    "best_results_df"
   ]
  },
  {
   "cell_type": "code",
   "execution_count": 10,
   "metadata": {
    "collapsed": false
   },
   "outputs": [
    {
     "name": "stdout",
     "output_type": "stream",
     "text": [
      "\n",
      "\n",
      "Model name: SVC\n",
      "{'C': 1000, 'gamma': 0.001, 'kernel': 'rbf'}\n"
     ]
    }
   ],
   "source": [
    "for index, row in ML_baseline_results_df.iterrows():\n",
    "    print(f'\\n\\nModel name: {row[\"Model_Name\"]}')\n",
    "    pprint(row['Model_Best_Params'])"
   ]
  },
  {
   "cell_type": "code",
   "execution_count": 11,
   "metadata": {
    "collapsed": false
   },
   "outputs": [],
   "source": [
    "from datetime import datetime, timezone\n",
    "\n",
    "now = datetime.now(timezone.utc)\n",
    "date_time_str = now.strftime(\"%Y%m%d__%H%M%S\")\n",
    "ML_baseline_results_df.to_csv(os.path.join('results', 'models_tuning', f'tuning_results_{DATASET_NAME}_{date_time_str}.csv'),\n",
    "                              sep=\",\", columns=ML_baseline_results_df.columns, float_format=\"%.4f\")"
   ]
  },
  {
   "cell_type": "code",
   "execution_count": null,
   "metadata": {
    "collapsed": false
   },
   "outputs": [],
   "source": []
  }
 ],
 "metadata": {
  "kernelspec": {
   "display_name": "Python 3.8.10 ('faact_venv': venv)",
   "language": "python",
   "name": "python3"
  },
  "language_info": {
   "codemirror_mode": {
    "name": "ipython",
    "version": 3
   },
   "file_extension": ".py",
   "mimetype": "text/x-python",
   "name": "python",
   "nbconvert_exporter": "python",
   "pygments_lexer": "ipython3",
   "version": "3.8.10"
  },
  "vscode": {
   "interpreter": {
    "hash": "aeeedfdcfbb7d0bd7e8ae453d9cd04ee7ebd63a67f7841163d9437c8723e8c72"
   }
  }
 },
 "nbformat": 4,
 "nbformat_minor": 5
}
