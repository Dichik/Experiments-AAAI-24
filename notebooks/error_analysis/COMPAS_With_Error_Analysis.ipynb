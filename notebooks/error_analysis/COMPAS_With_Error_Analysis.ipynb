{
 "cells": [
  {
   "cell_type": "code",
   "execution_count": 20,
   "outputs": [],
   "source": [
    "# !pip uninstall virny -y"
   ],
   "metadata": {
    "collapsed": false
   }
  },
  {
   "cell_type": "code",
   "execution_count": 21,
   "outputs": [],
   "source": [
    "# Install using an HTTP link\n",
    "# !pip install git+https://github.com/DataResponsibly/Virny.git@development\n",
    "\n",
    "# Install using an SSH link\n",
    "# !pip install git+ssh://git@github.com/DataResponsibly/Virny.git@development"
   ],
   "metadata": {
    "collapsed": false
   }
  },
  {
   "cell_type": "code",
   "execution_count": 22,
   "id": "248cbed8",
   "metadata": {},
   "outputs": [
    {
     "name": "stdout",
     "output_type": "stream",
     "text": [
      "The autoreload extension is already loaded. To reload it, use:\n",
      "  %reload_ext autoreload\n"
     ]
    }
   ],
   "source": [
    "%matplotlib inline\n",
    "%load_ext autoreload\n",
    "%autoreload 2"
   ]
  },
  {
   "cell_type": "code",
   "execution_count": 23,
   "id": "7ec6cd08",
   "metadata": {},
   "outputs": [],
   "source": [
    "import os\n",
    "import warnings\n",
    "warnings.filterwarnings('ignore')\n",
    "os.environ[\"PYTHONWARNINGS\"] = \"ignore\""
   ]
  },
  {
   "cell_type": "markdown",
   "id": "606df34d",
   "metadata": {},
   "source": [
    "## Import dependencies"
   ]
  },
  {
   "cell_type": "code",
   "execution_count": 24,
   "id": "7a9241de",
   "metadata": {},
   "outputs": [],
   "source": [
    "import os\n",
    "import pandas as pd\n",
    "from pprint import pprint\n",
    "from datetime import datetime, timezone\n",
    "\n",
    "from sklearn.compose import ColumnTransformer\n",
    "from sklearn.preprocessing import OneHotEncoder\n",
    "from sklearn.preprocessing import StandardScaler\n",
    "\n",
    "from virny.utils.custom_initializers import create_config_obj, read_model_metric_dfs, create_models_config_from_tuned_params_df\n",
    "from virny.user_interfaces.metrics_computation_interfaces import compute_metrics_multiple_runs\n",
    "from virny.preprocessing.basic_preprocessing import preprocess_dataset\n",
    "from virny.custom_classes.metrics_visualizer import MetricsVisualizer\n",
    "from virny.custom_classes.metrics_composer import MetricsComposer\n",
    "from virny.utils.model_tuning_utils import tune_ML_models\n",
    "from virny.datasets import CompasWithoutSensitiveAttrsDataset\n",
    "\n",
    "from configs.constants import TEST_SET_FRACTION, EXPERIMENT_SEEDS\n",
    "from configs.models_config_for_tuning import get_compas_models_params_for_tuning"
   ]
  },
  {
   "cell_type": "markdown",
   "source": [
    "## Define Input Variables"
   ],
   "metadata": {
    "collapsed": false
   }
  },
  {
   "cell_type": "code",
   "execution_count": 25,
   "outputs": [],
   "source": [
    "DATASET_SPLIT_SEED = EXPERIMENT_SEEDS[0]\n",
    "MODELS_TUNING_SEED = EXPERIMENT_SEEDS[0]"
   ],
   "metadata": {
    "collapsed": false
   }
  },
  {
   "cell_type": "code",
   "execution_count": 26,
   "outputs": [],
   "source": [
    "ROOT_DIR = os.path.join(os.getcwd(), \"..\", \"..\")\n",
    "# ROOT_DIR = os.getcwd()\n",
    "EXPERIMENT_NAME = 'error_analysis'\n",
    "DB_COLLECTION_NAME = f'exp_{EXPERIMENT_NAME}'\n",
    "SAVE_RESULTS_DIR_PATH = os.path.join(ROOT_DIR, 'results', EXPERIMENT_NAME)\n",
    "\n",
    "config_yaml_path = os.path.join(ROOT_DIR, 'notebooks', EXPERIMENT_NAME, 'compas_config.yaml')\n",
    "config = create_config_obj(config_yaml_path=config_yaml_path)"
   ],
   "metadata": {
    "collapsed": false
   }
  },
  {
   "cell_type": "code",
   "execution_count": 27,
   "outputs": [],
   "source": [
    "models_params_for_tuning = get_compas_models_params_for_tuning(MODELS_TUNING_SEED)"
   ],
   "metadata": {
    "collapsed": false
   }
  },
  {
   "cell_type": "markdown",
   "source": [
    "## Initialize custom objects"
   ],
   "metadata": {
    "collapsed": false
   }
  },
  {
   "cell_type": "code",
   "execution_count": 28,
   "id": "6c55c6a0",
   "metadata": {},
   "outputs": [
    {
     "data": {
      "text/plain": "   juv_fel_count  juv_misd_count  juv_other_count  priors_count  \\\n0            0.0       -2.340451              1.0    -15.010999   \n1            0.0        0.000000              0.0      0.000000   \n2            0.0        0.000000              0.0      0.000000   \n3            0.0        0.000000              0.0      6.000000   \n4            0.0        0.000000              0.0      7.513697   \n\n   age_cat_25 - 45  \n0                1  \n1                1  \n2                0  \n3                1  \n4                1  ",
      "text/html": "<div>\n<style scoped>\n    .dataframe tbody tr th:only-of-type {\n        vertical-align: middle;\n    }\n\n    .dataframe tbody tr th {\n        vertical-align: top;\n    }\n\n    .dataframe thead th {\n        text-align: right;\n    }\n</style>\n<table border=\"1\" class=\"dataframe\">\n  <thead>\n    <tr style=\"text-align: right;\">\n      <th></th>\n      <th>juv_fel_count</th>\n      <th>juv_misd_count</th>\n      <th>juv_other_count</th>\n      <th>priors_count</th>\n      <th>age_cat_25 - 45</th>\n    </tr>\n  </thead>\n  <tbody>\n    <tr>\n      <th>0</th>\n      <td>0.0</td>\n      <td>-2.340451</td>\n      <td>1.0</td>\n      <td>-15.010999</td>\n      <td>1</td>\n    </tr>\n    <tr>\n      <th>1</th>\n      <td>0.0</td>\n      <td>0.000000</td>\n      <td>0.0</td>\n      <td>0.000000</td>\n      <td>1</td>\n    </tr>\n    <tr>\n      <th>2</th>\n      <td>0.0</td>\n      <td>0.000000</td>\n      <td>0.0</td>\n      <td>0.000000</td>\n      <td>0</td>\n    </tr>\n    <tr>\n      <th>3</th>\n      <td>0.0</td>\n      <td>0.000000</td>\n      <td>0.0</td>\n      <td>6.000000</td>\n      <td>1</td>\n    </tr>\n    <tr>\n      <th>4</th>\n      <td>0.0</td>\n      <td>0.000000</td>\n      <td>0.0</td>\n      <td>7.513697</td>\n      <td>1</td>\n    </tr>\n  </tbody>\n</table>\n</div>"
     },
     "execution_count": 28,
     "metadata": {},
     "output_type": "execute_result"
    }
   ],
   "source": [
    "data_loader = CompasWithoutSensitiveAttrsDataset()\n",
    "data_loader.X_data[data_loader.X_data.columns[:5]].head()"
   ]
  },
  {
   "cell_type": "code",
   "execution_count": 29,
   "outputs": [],
   "source": [
    "column_transformer = ColumnTransformer(transformers=[\n",
    "    ('categorical_features', OneHotEncoder(handle_unknown='ignore', sparse=False), data_loader.categorical_columns),\n",
    "    ('numerical_features', StandardScaler(), data_loader.numerical_columns),\n",
    "])"
   ],
   "metadata": {
    "collapsed": false
   }
  },
  {
   "cell_type": "code",
   "execution_count": 30,
   "outputs": [],
   "source": [
    "base_flow_dataset = preprocess_dataset(data_loader, column_transformer, TEST_SET_FRACTION, DATASET_SPLIT_SEED)"
   ],
   "metadata": {
    "collapsed": false
   }
  },
  {
   "cell_type": "markdown",
   "source": [
    "### Tune models and create a models config for metrics computation"
   ],
   "metadata": {
    "collapsed": false
   }
  },
  {
   "cell_type": "code",
   "execution_count": 31,
   "outputs": [
    {
     "name": "stdout",
     "output_type": "stream",
     "text": [
      "2023/06/11, 13:33:00: Tuning DecisionTreeClassifier...\n",
      "Fitting 3 folds for each of 4 candidates, totalling 12 fits\n",
      "2023/06/11, 13:33:02: Tuning for DecisionTreeClassifier is finished [F1 score = 0.6472851634267528, Accuracy = 0.6521464646464646]\n",
      "\n"
     ]
    },
    {
     "data": {
      "text/plain": "                          Dataset_Name              Model_Name  F1_Score  \\\n0  COMPAS_Without_Sensitive_Attributes  DecisionTreeClassifier  0.647285   \n\n   Accuracy_Score                                  Model_Best_Params  \n0        0.652146  {'criterion': 'entropy', 'max_depth': 20, 'max...  ",
      "text/html": "<div>\n<style scoped>\n    .dataframe tbody tr th:only-of-type {\n        vertical-align: middle;\n    }\n\n    .dataframe tbody tr th {\n        vertical-align: top;\n    }\n\n    .dataframe thead th {\n        text-align: right;\n    }\n</style>\n<table border=\"1\" class=\"dataframe\">\n  <thead>\n    <tr style=\"text-align: right;\">\n      <th></th>\n      <th>Dataset_Name</th>\n      <th>Model_Name</th>\n      <th>F1_Score</th>\n      <th>Accuracy_Score</th>\n      <th>Model_Best_Params</th>\n    </tr>\n  </thead>\n  <tbody>\n    <tr>\n      <th>0</th>\n      <td>COMPAS_Without_Sensitive_Attributes</td>\n      <td>DecisionTreeClassifier</td>\n      <td>0.647285</td>\n      <td>0.652146</td>\n      <td>{'criterion': 'entropy', 'max_depth': 20, 'max...</td>\n    </tr>\n  </tbody>\n</table>\n</div>"
     },
     "execution_count": 31,
     "metadata": {},
     "output_type": "execute_result"
    }
   ],
   "source": [
    "tuned_params_df, models_config = tune_ML_models(models_params_for_tuning, base_flow_dataset, config.dataset_name, n_folds=3)\n",
    "tuned_params_df"
   ],
   "metadata": {
    "collapsed": false
   }
  },
  {
   "cell_type": "code",
   "execution_count": 32,
   "outputs": [],
   "source": [
    "now = datetime.now(timezone.utc)\n",
    "date_time_str = now.strftime(\"%Y%m%d__%H%M%S\")\n",
    "tuned_df_path = os.path.join(ROOT_DIR, 'results', 'models_tuning', f'tuning_results_{config.dataset_name}_{date_time_str}.csv')\n",
    "tuned_params_df.to_csv(tuned_df_path, sep=\",\", columns=tuned_params_df.columns, float_format=\"%.4f\", index=False)"
   ],
   "metadata": {
    "collapsed": false
   }
  },
  {
   "cell_type": "markdown",
   "source": [
    "Create models_config from the saved tuned_params_df for higher reliability"
   ],
   "metadata": {
    "collapsed": false
   }
  },
  {
   "cell_type": "code",
   "execution_count": 33,
   "outputs": [
    {
     "name": "stdout",
     "output_type": "stream",
     "text": [
      "{'DecisionTreeClassifier': DecisionTreeClassifier(criterion='entropy', max_depth=20, max_features='sqrt',\n",
      "                       min_samples_split=0.1, random_state=100)}\n"
     ]
    }
   ],
   "source": [
    "models_config = create_models_config_from_tuned_params_df(models_params_for_tuning, tuned_df_path)\n",
    "pprint(models_config)"
   ],
   "metadata": {
    "collapsed": false
   }
  },
  {
   "cell_type": "markdown",
   "id": "f445b64a",
   "metadata": {},
   "source": [
    "## Subgroup Metrics Computation"
   ]
  },
  {
   "cell_type": "code",
   "execution_count": 34,
   "id": "197eadaa",
   "metadata": {},
   "outputs": [
    {
     "data": {
      "text/plain": "Multiple runs progress:   0%|          | 0/2 [00:00<?, ?it/s]",
      "application/vnd.jupyter.widget-view+json": {
       "version_major": 2,
       "version_minor": 0,
       "model_id": "d825def5d0974215a5d152740fcedfb0"
      }
     },
     "metadata": {},
     "output_type": "display_data"
    },
    {
     "data": {
      "text/plain": "Analyze models in one run:   0%|          | 0/1 [00:00<?, ?it/s]",
      "application/vnd.jupyter.widget-view+json": {
       "version_major": 2,
       "version_minor": 0,
       "model_id": "df3d6763f05a47268713b6dfcba298b1"
      }
     },
     "metadata": {},
     "output_type": "display_data"
    },
    {
     "data": {
      "text/plain": "Classifiers testing by bootstrap:   0%|          | 0/10 [00:00<?, ?it/s]",
      "application/vnd.jupyter.widget-view+json": {
       "version_major": 2,
       "version_minor": 0,
       "model_id": "7dbfcb0a293640e09f6ec61335e85a85"
      }
     },
     "metadata": {},
     "output_type": "display_data"
    },
    {
     "data": {
      "text/plain": "Analyze models in one run:   0%|          | 0/1 [00:00<?, ?it/s]",
      "application/vnd.jupyter.widget-view+json": {
       "version_major": 2,
       "version_minor": 0,
       "model_id": "3b83b9b731db4b24991a4257bab43942"
      }
     },
     "metadata": {},
     "output_type": "display_data"
    },
    {
     "data": {
      "text/plain": "Classifiers testing by bootstrap:   0%|          | 0/10 [00:00<?, ?it/s]",
      "application/vnd.jupyter.widget-view+json": {
       "version_major": 2,
       "version_minor": 0,
       "model_id": "9ecafc53038141e7aaab5453f9ff9930"
      }
     },
     "metadata": {},
     "output_type": "display_data"
    }
   ],
   "source": [
    "multiple_run_metrics_dct = compute_metrics_multiple_runs(base_flow_dataset, config, models_config, SAVE_RESULTS_DIR_PATH)"
   ]
  },
  {
   "cell_type": "markdown",
   "id": "d6a8625a",
   "metadata": {},
   "source": [
    "Look at several columns in top rows of computed metrics"
   ]
  },
  {
   "cell_type": "code",
   "execution_count": 35,
   "id": "bea94683",
   "metadata": {},
   "outputs": [
    {
     "data": {
      "text/plain": "                   Metric     overall    sex_priv  sex_priv_correct  \\\n0                    Mean    0.532307    0.572984          0.582922   \n1                     Std    0.065312    0.064183          0.057393   \n2                     IQR    0.075384    0.077680          0.063336   \n3   Aleatoric_Uncertainty    0.873303    0.865860          0.859142   \n4     Overall_Uncertainty    0.893748    0.887829          0.875711   \n5                  Jitter    0.102273    0.085589          0.052469   \n6     Per_Sample_Accuracy    0.685606    0.717822          0.958333   \n7         Label_Stability    0.862879    0.887129          0.933333   \n8                     TPR    0.650000    0.550000          1.000000   \n9                     TNR    0.742537    0.819672          1.000000   \n10                    PPV    0.710084    0.666667          1.000000   \n11                    FNR    0.350000    0.450000          0.000000   \n12                    FPR    0.257463    0.180328          0.000000   \n13               Accuracy    0.696970    0.712871          1.000000   \n14                     F1    0.678715    0.602740          1.000000   \n15         Selection-Rate    0.450758    0.326733          0.305556   \n16          Positive-Rate    0.915385    0.825000          1.000000   \n17            Sample_Size  528.000000  101.000000         72.000000   \n0                    Mean    0.531150    0.567381          0.588755   \n1                     Std    0.079034    0.076702          0.065260   \n\n    sex_priv_incorrect     sex_dis  \n0             0.548312    0.522686  \n1             0.081042    0.065579  \n2             0.113292    0.074842  \n3             0.882540    0.875063  \n4             0.917913    0.895149  \n5             0.167816    0.106219  \n6             0.120690    0.677986  \n7             0.772414    0.857143  \n8             0.000000    0.668182  \n9             0.000000    0.719807  \n10            0.000000    0.717073  \n11            1.000000    0.331818  \n12            1.000000    0.280193  \n13            0.000000    0.693208  \n14            0.000000    0.691765  \n15            0.379310    0.480094  \n16            0.611111    0.931818  \n17           29.000000  427.000000  \n0             0.527076    0.522580  \n1             0.098278    0.079585  ",
      "text/html": "<div>\n<style scoped>\n    .dataframe tbody tr th:only-of-type {\n        vertical-align: middle;\n    }\n\n    .dataframe tbody tr th {\n        vertical-align: top;\n    }\n\n    .dataframe thead th {\n        text-align: right;\n    }\n</style>\n<table border=\"1\" class=\"dataframe\">\n  <thead>\n    <tr style=\"text-align: right;\">\n      <th></th>\n      <th>Metric</th>\n      <th>overall</th>\n      <th>sex_priv</th>\n      <th>sex_priv_correct</th>\n      <th>sex_priv_incorrect</th>\n      <th>sex_dis</th>\n    </tr>\n  </thead>\n  <tbody>\n    <tr>\n      <th>0</th>\n      <td>Mean</td>\n      <td>0.532307</td>\n      <td>0.572984</td>\n      <td>0.582922</td>\n      <td>0.548312</td>\n      <td>0.522686</td>\n    </tr>\n    <tr>\n      <th>1</th>\n      <td>Std</td>\n      <td>0.065312</td>\n      <td>0.064183</td>\n      <td>0.057393</td>\n      <td>0.081042</td>\n      <td>0.065579</td>\n    </tr>\n    <tr>\n      <th>2</th>\n      <td>IQR</td>\n      <td>0.075384</td>\n      <td>0.077680</td>\n      <td>0.063336</td>\n      <td>0.113292</td>\n      <td>0.074842</td>\n    </tr>\n    <tr>\n      <th>3</th>\n      <td>Aleatoric_Uncertainty</td>\n      <td>0.873303</td>\n      <td>0.865860</td>\n      <td>0.859142</td>\n      <td>0.882540</td>\n      <td>0.875063</td>\n    </tr>\n    <tr>\n      <th>4</th>\n      <td>Overall_Uncertainty</td>\n      <td>0.893748</td>\n      <td>0.887829</td>\n      <td>0.875711</td>\n      <td>0.917913</td>\n      <td>0.895149</td>\n    </tr>\n    <tr>\n      <th>5</th>\n      <td>Jitter</td>\n      <td>0.102273</td>\n      <td>0.085589</td>\n      <td>0.052469</td>\n      <td>0.167816</td>\n      <td>0.106219</td>\n    </tr>\n    <tr>\n      <th>6</th>\n      <td>Per_Sample_Accuracy</td>\n      <td>0.685606</td>\n      <td>0.717822</td>\n      <td>0.958333</td>\n      <td>0.120690</td>\n      <td>0.677986</td>\n    </tr>\n    <tr>\n      <th>7</th>\n      <td>Label_Stability</td>\n      <td>0.862879</td>\n      <td>0.887129</td>\n      <td>0.933333</td>\n      <td>0.772414</td>\n      <td>0.857143</td>\n    </tr>\n    <tr>\n      <th>8</th>\n      <td>TPR</td>\n      <td>0.650000</td>\n      <td>0.550000</td>\n      <td>1.000000</td>\n      <td>0.000000</td>\n      <td>0.668182</td>\n    </tr>\n    <tr>\n      <th>9</th>\n      <td>TNR</td>\n      <td>0.742537</td>\n      <td>0.819672</td>\n      <td>1.000000</td>\n      <td>0.000000</td>\n      <td>0.719807</td>\n    </tr>\n    <tr>\n      <th>10</th>\n      <td>PPV</td>\n      <td>0.710084</td>\n      <td>0.666667</td>\n      <td>1.000000</td>\n      <td>0.000000</td>\n      <td>0.717073</td>\n    </tr>\n    <tr>\n      <th>11</th>\n      <td>FNR</td>\n      <td>0.350000</td>\n      <td>0.450000</td>\n      <td>0.000000</td>\n      <td>1.000000</td>\n      <td>0.331818</td>\n    </tr>\n    <tr>\n      <th>12</th>\n      <td>FPR</td>\n      <td>0.257463</td>\n      <td>0.180328</td>\n      <td>0.000000</td>\n      <td>1.000000</td>\n      <td>0.280193</td>\n    </tr>\n    <tr>\n      <th>13</th>\n      <td>Accuracy</td>\n      <td>0.696970</td>\n      <td>0.712871</td>\n      <td>1.000000</td>\n      <td>0.000000</td>\n      <td>0.693208</td>\n    </tr>\n    <tr>\n      <th>14</th>\n      <td>F1</td>\n      <td>0.678715</td>\n      <td>0.602740</td>\n      <td>1.000000</td>\n      <td>0.000000</td>\n      <td>0.691765</td>\n    </tr>\n    <tr>\n      <th>15</th>\n      <td>Selection-Rate</td>\n      <td>0.450758</td>\n      <td>0.326733</td>\n      <td>0.305556</td>\n      <td>0.379310</td>\n      <td>0.480094</td>\n    </tr>\n    <tr>\n      <th>16</th>\n      <td>Positive-Rate</td>\n      <td>0.915385</td>\n      <td>0.825000</td>\n      <td>1.000000</td>\n      <td>0.611111</td>\n      <td>0.931818</td>\n    </tr>\n    <tr>\n      <th>17</th>\n      <td>Sample_Size</td>\n      <td>528.000000</td>\n      <td>101.000000</td>\n      <td>72.000000</td>\n      <td>29.000000</td>\n      <td>427.000000</td>\n    </tr>\n    <tr>\n      <th>0</th>\n      <td>Mean</td>\n      <td>0.531150</td>\n      <td>0.567381</td>\n      <td>0.588755</td>\n      <td>0.527076</td>\n      <td>0.522580</td>\n    </tr>\n    <tr>\n      <th>1</th>\n      <td>Std</td>\n      <td>0.079034</td>\n      <td>0.076702</td>\n      <td>0.065260</td>\n      <td>0.098278</td>\n      <td>0.079585</td>\n    </tr>\n  </tbody>\n</table>\n</div>"
     },
     "execution_count": 35,
     "metadata": {},
     "output_type": "execute_result"
    }
   ],
   "source": [
    "sample_model_metrics_df = multiple_run_metrics_dct[list(models_config.keys())[0]]\n",
    "sample_model_metrics_df[sample_model_metrics_df.columns[:6]].head(20)"
   ]
  },
  {
   "cell_type": "markdown",
   "id": "a7ff67e9",
   "metadata": {},
   "source": [
    "## Group Metrics Composition"
   ]
  },
  {
   "cell_type": "code",
   "execution_count": 36,
   "id": "f94a20dc",
   "metadata": {},
   "outputs": [],
   "source": [
    "models_metrics_dct = read_model_metric_dfs(SAVE_RESULTS_DIR_PATH, model_names=list(models_config.keys()))"
   ]
  },
  {
   "cell_type": "code",
   "execution_count": 37,
   "id": "b04d06cf",
   "metadata": {},
   "outputs": [],
   "source": [
    "metrics_composer = MetricsComposer(models_metrics_dct, config.sensitive_attributes_dct)"
   ]
  },
  {
   "cell_type": "markdown",
   "id": "e1a23ece",
   "metadata": {},
   "source": [
    "Compute composed metrics"
   ]
  },
  {
   "cell_type": "code",
   "execution_count": 38,
   "id": "be6ace22",
   "metadata": {},
   "outputs": [],
   "source": [
    "models_composed_metrics_df = metrics_composer.compose_metrics()"
   ]
  },
  {
   "cell_type": "code",
   "execution_count": 39,
   "id": "2326c129",
   "metadata": {},
   "outputs": [
    {
     "data": {
      "text/plain": "                           Metric       sex      race  sex&race  \\\n0              Equalized_Odds_TPR  0.152273  0.281008  0.372549   \n1              Equalized_Odds_FPR  0.059832  0.114977  0.116379   \n2              Equalized_Odds_FNR -0.152273 -0.281008 -0.372549   \n3                Disparate_Impact  1.098930  1.360771  1.359477   \n4   Statistical_Parity_Difference  0.084091  0.267395  0.269608   \n5                 Accuracy_Parity  0.018237  0.056400  0.089813   \n6           Label_Stability_Ratio  0.955201  0.967051  0.906661   \n7                      IQR_Parity  0.011284  0.009692  0.020932   \n8                      Std_Parity  0.008264  0.005659  0.012393   \n9                       Std_Ratio  1.142134  1.092229  1.221141   \n10                  Jitter_Parity  0.026249  0.021029  0.059037   \n11   Aleatoric_Uncertainty_Parity  0.002139  0.029012  0.045639   \n12     Overall_Uncertainty_Parity  0.004893  0.029398  0.048637   \n\n                Model_Name  \n0   DecisionTreeClassifier  \n1   DecisionTreeClassifier  \n2   DecisionTreeClassifier  \n3   DecisionTreeClassifier  \n4   DecisionTreeClassifier  \n5   DecisionTreeClassifier  \n6   DecisionTreeClassifier  \n7   DecisionTreeClassifier  \n8   DecisionTreeClassifier  \n9   DecisionTreeClassifier  \n10  DecisionTreeClassifier  \n11  DecisionTreeClassifier  \n12  DecisionTreeClassifier  ",
      "text/html": "<div>\n<style scoped>\n    .dataframe tbody tr th:only-of-type {\n        vertical-align: middle;\n    }\n\n    .dataframe tbody tr th {\n        vertical-align: top;\n    }\n\n    .dataframe thead th {\n        text-align: right;\n    }\n</style>\n<table border=\"1\" class=\"dataframe\">\n  <thead>\n    <tr style=\"text-align: right;\">\n      <th></th>\n      <th>Metric</th>\n      <th>sex</th>\n      <th>race</th>\n      <th>sex&amp;race</th>\n      <th>Model_Name</th>\n    </tr>\n  </thead>\n  <tbody>\n    <tr>\n      <th>0</th>\n      <td>Equalized_Odds_TPR</td>\n      <td>0.152273</td>\n      <td>0.281008</td>\n      <td>0.372549</td>\n      <td>DecisionTreeClassifier</td>\n    </tr>\n    <tr>\n      <th>1</th>\n      <td>Equalized_Odds_FPR</td>\n      <td>0.059832</td>\n      <td>0.114977</td>\n      <td>0.116379</td>\n      <td>DecisionTreeClassifier</td>\n    </tr>\n    <tr>\n      <th>2</th>\n      <td>Equalized_Odds_FNR</td>\n      <td>-0.152273</td>\n      <td>-0.281008</td>\n      <td>-0.372549</td>\n      <td>DecisionTreeClassifier</td>\n    </tr>\n    <tr>\n      <th>3</th>\n      <td>Disparate_Impact</td>\n      <td>1.098930</td>\n      <td>1.360771</td>\n      <td>1.359477</td>\n      <td>DecisionTreeClassifier</td>\n    </tr>\n    <tr>\n      <th>4</th>\n      <td>Statistical_Parity_Difference</td>\n      <td>0.084091</td>\n      <td>0.267395</td>\n      <td>0.269608</td>\n      <td>DecisionTreeClassifier</td>\n    </tr>\n    <tr>\n      <th>5</th>\n      <td>Accuracy_Parity</td>\n      <td>0.018237</td>\n      <td>0.056400</td>\n      <td>0.089813</td>\n      <td>DecisionTreeClassifier</td>\n    </tr>\n    <tr>\n      <th>6</th>\n      <td>Label_Stability_Ratio</td>\n      <td>0.955201</td>\n      <td>0.967051</td>\n      <td>0.906661</td>\n      <td>DecisionTreeClassifier</td>\n    </tr>\n    <tr>\n      <th>7</th>\n      <td>IQR_Parity</td>\n      <td>0.011284</td>\n      <td>0.009692</td>\n      <td>0.020932</td>\n      <td>DecisionTreeClassifier</td>\n    </tr>\n    <tr>\n      <th>8</th>\n      <td>Std_Parity</td>\n      <td>0.008264</td>\n      <td>0.005659</td>\n      <td>0.012393</td>\n      <td>DecisionTreeClassifier</td>\n    </tr>\n    <tr>\n      <th>9</th>\n      <td>Std_Ratio</td>\n      <td>1.142134</td>\n      <td>1.092229</td>\n      <td>1.221141</td>\n      <td>DecisionTreeClassifier</td>\n    </tr>\n    <tr>\n      <th>10</th>\n      <td>Jitter_Parity</td>\n      <td>0.026249</td>\n      <td>0.021029</td>\n      <td>0.059037</td>\n      <td>DecisionTreeClassifier</td>\n    </tr>\n    <tr>\n      <th>11</th>\n      <td>Aleatoric_Uncertainty_Parity</td>\n      <td>0.002139</td>\n      <td>0.029012</td>\n      <td>0.045639</td>\n      <td>DecisionTreeClassifier</td>\n    </tr>\n    <tr>\n      <th>12</th>\n      <td>Overall_Uncertainty_Parity</td>\n      <td>0.004893</td>\n      <td>0.029398</td>\n      <td>0.048637</td>\n      <td>DecisionTreeClassifier</td>\n    </tr>\n  </tbody>\n</table>\n</div>"
     },
     "execution_count": 39,
     "metadata": {},
     "output_type": "execute_result"
    }
   ],
   "source": [
    "models_composed_metrics_df.head(20)"
   ]
  },
  {
   "cell_type": "code",
   "execution_count": 39,
   "outputs": [],
   "source": [],
   "metadata": {
    "collapsed": false
   }
  }
 ],
 "metadata": {
  "kernelspec": {
   "display_name": "Python 3 (ipykernel)",
   "language": "python",
   "name": "python3"
  },
  "language_info": {
   "codemirror_mode": {
    "name": "ipython",
    "version": 3
   },
   "file_extension": ".py",
   "mimetype": "text/x-python",
   "name": "python",
   "nbconvert_exporter": "python",
   "pygments_lexer": "ipython3",
   "version": "3.8.10"
  }
 },
 "nbformat": 4,
 "nbformat_minor": 5
}
