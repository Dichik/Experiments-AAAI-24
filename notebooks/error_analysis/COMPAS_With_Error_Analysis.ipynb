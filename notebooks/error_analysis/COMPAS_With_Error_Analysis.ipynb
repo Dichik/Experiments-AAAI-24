{
 "cells": [
  {
   "cell_type": "code",
   "execution_count": 40,
   "outputs": [],
   "source": [
    "# !pip uninstall virny -y"
   ],
   "metadata": {
    "collapsed": false
   }
  },
  {
   "cell_type": "code",
   "execution_count": 41,
   "outputs": [],
   "source": [
    "# Install using an HTTP link\n",
    "# !pip install git+https://github.com/DataResponsibly/Virny.git@development\n",
    "\n",
    "# Install using an SSH link\n",
    "# !pip install git+ssh://git@github.com/DataResponsibly/Virny.git@development"
   ],
   "metadata": {
    "collapsed": false
   }
  },
  {
   "cell_type": "code",
   "execution_count": 42,
   "id": "248cbed8",
   "metadata": {},
   "outputs": [
    {
     "name": "stdout",
     "output_type": "stream",
     "text": [
      "The autoreload extension is already loaded. To reload it, use:\n",
      "  %reload_ext autoreload\n"
     ]
    }
   ],
   "source": [
    "%matplotlib inline\n",
    "%load_ext autoreload\n",
    "%autoreload 2"
   ]
  },
  {
   "cell_type": "code",
   "execution_count": 43,
   "id": "7ec6cd08",
   "metadata": {},
   "outputs": [],
   "source": [
    "import os\n",
    "import warnings\n",
    "warnings.filterwarnings('ignore')\n",
    "os.environ[\"PYTHONWARNINGS\"] = \"ignore\""
   ]
  },
  {
   "cell_type": "markdown",
   "id": "606df34d",
   "metadata": {},
   "source": [
    "## Import dependencies"
   ]
  },
  {
   "cell_type": "code",
   "execution_count": 44,
   "id": "7a9241de",
   "metadata": {},
   "outputs": [],
   "source": [
    "import os\n",
    "import pandas as pd\n",
    "from pprint import pprint\n",
    "from datetime import datetime, timezone\n",
    "\n",
    "from sklearn.compose import ColumnTransformer\n",
    "from sklearn.preprocessing import OneHotEncoder\n",
    "from sklearn.preprocessing import StandardScaler\n",
    "\n",
    "from virny.utils.custom_initializers import create_config_obj, read_model_metric_dfs, create_models_config_from_tuned_params_df\n",
    "from virny.user_interfaces.metrics_computation_interfaces import compute_metrics_multiple_runs\n",
    "from virny.preprocessing.basic_preprocessing import preprocess_dataset\n",
    "from virny.custom_classes.metrics_visualizer import MetricsVisualizer\n",
    "from virny.custom_classes.metrics_composer import MetricsComposer\n",
    "from virny.utils.model_tuning_utils import tune_ML_models\n",
    "from virny.datasets import CompasWithoutSensitiveAttrsDataset\n",
    "\n",
    "from configs.constants import TEST_SET_FRACTION, EXPERIMENT_SEEDS\n",
    "from configs.models_config_for_tuning import get_compas_models_params_for_tuning"
   ]
  },
  {
   "cell_type": "markdown",
   "source": [
    "## Define Input Variables"
   ],
   "metadata": {
    "collapsed": false
   }
  },
  {
   "cell_type": "code",
   "execution_count": 45,
   "outputs": [],
   "source": [
    "DATASET_SPLIT_SEED = EXPERIMENT_SEEDS[0]\n",
    "MODELS_TUNING_SEED = EXPERIMENT_SEEDS[0]"
   ],
   "metadata": {
    "collapsed": false
   }
  },
  {
   "cell_type": "code",
   "execution_count": 46,
   "outputs": [],
   "source": [
    "ROOT_DIR = os.path.join(os.getcwd(), \"..\", \"..\")\n",
    "# ROOT_DIR = os.getcwd()\n",
    "EXPERIMENT_NAME = 'error_analysis'\n",
    "DB_COLLECTION_NAME = f'exp_{EXPERIMENT_NAME}'\n",
    "SAVE_RESULTS_DIR_PATH = os.path.join(ROOT_DIR, 'results', EXPERIMENT_NAME)\n",
    "\n",
    "config_yaml_path = os.path.join(ROOT_DIR, 'notebooks', EXPERIMENT_NAME, 'compas_config.yaml')\n",
    "config = create_config_obj(config_yaml_path=config_yaml_path)"
   ],
   "metadata": {
    "collapsed": false
   }
  },
  {
   "cell_type": "code",
   "execution_count": 47,
   "outputs": [],
   "source": [
    "models_params_for_tuning = get_compas_models_params_for_tuning(MODELS_TUNING_SEED)"
   ],
   "metadata": {
    "collapsed": false
   }
  },
  {
   "cell_type": "markdown",
   "source": [
    "## Initialize custom objects"
   ],
   "metadata": {
    "collapsed": false
   }
  },
  {
   "cell_type": "code",
   "execution_count": 48,
   "id": "6c55c6a0",
   "metadata": {},
   "outputs": [
    {
     "data": {
      "text/plain": "   juv_fel_count  juv_misd_count  juv_other_count  priors_count  \\\n0            0.0       -2.340451              1.0    -15.010999   \n1            0.0        0.000000              0.0      0.000000   \n2            0.0        0.000000              0.0      0.000000   \n3            0.0        0.000000              0.0      6.000000   \n4            0.0        0.000000              0.0      7.513697   \n\n   age_cat_25 - 45  \n0                1  \n1                1  \n2                0  \n3                1  \n4                1  ",
      "text/html": "<div>\n<style scoped>\n    .dataframe tbody tr th:only-of-type {\n        vertical-align: middle;\n    }\n\n    .dataframe tbody tr th {\n        vertical-align: top;\n    }\n\n    .dataframe thead th {\n        text-align: right;\n    }\n</style>\n<table border=\"1\" class=\"dataframe\">\n  <thead>\n    <tr style=\"text-align: right;\">\n      <th></th>\n      <th>juv_fel_count</th>\n      <th>juv_misd_count</th>\n      <th>juv_other_count</th>\n      <th>priors_count</th>\n      <th>age_cat_25 - 45</th>\n    </tr>\n  </thead>\n  <tbody>\n    <tr>\n      <th>0</th>\n      <td>0.0</td>\n      <td>-2.340451</td>\n      <td>1.0</td>\n      <td>-15.010999</td>\n      <td>1</td>\n    </tr>\n    <tr>\n      <th>1</th>\n      <td>0.0</td>\n      <td>0.000000</td>\n      <td>0.0</td>\n      <td>0.000000</td>\n      <td>1</td>\n    </tr>\n    <tr>\n      <th>2</th>\n      <td>0.0</td>\n      <td>0.000000</td>\n      <td>0.0</td>\n      <td>0.000000</td>\n      <td>0</td>\n    </tr>\n    <tr>\n      <th>3</th>\n      <td>0.0</td>\n      <td>0.000000</td>\n      <td>0.0</td>\n      <td>6.000000</td>\n      <td>1</td>\n    </tr>\n    <tr>\n      <th>4</th>\n      <td>0.0</td>\n      <td>0.000000</td>\n      <td>0.0</td>\n      <td>7.513697</td>\n      <td>1</td>\n    </tr>\n  </tbody>\n</table>\n</div>"
     },
     "execution_count": 48,
     "metadata": {},
     "output_type": "execute_result"
    }
   ],
   "source": [
    "data_loader = CompasWithoutSensitiveAttrsDataset()\n",
    "data_loader.X_data[data_loader.X_data.columns[:5]].head()"
   ]
  },
  {
   "cell_type": "code",
   "execution_count": 49,
   "outputs": [],
   "source": [
    "column_transformer = ColumnTransformer(transformers=[\n",
    "    ('categorical_features', OneHotEncoder(handle_unknown='ignore', sparse=False), data_loader.categorical_columns),\n",
    "    ('numerical_features', StandardScaler(), data_loader.numerical_columns),\n",
    "])"
   ],
   "metadata": {
    "collapsed": false
   }
  },
  {
   "cell_type": "code",
   "execution_count": 50,
   "outputs": [],
   "source": [
    "base_flow_dataset = preprocess_dataset(data_loader, column_transformer, TEST_SET_FRACTION, DATASET_SPLIT_SEED)"
   ],
   "metadata": {
    "collapsed": false
   }
  },
  {
   "cell_type": "markdown",
   "source": [
    "### Tune models and create a models config for metrics computation"
   ],
   "metadata": {
    "collapsed": false
   }
  },
  {
   "cell_type": "code",
   "execution_count": 51,
   "outputs": [
    {
     "name": "stdout",
     "output_type": "stream",
     "text": [
      "2023/06/11, 02:16:26: Tuning DecisionTreeClassifier...\n",
      "Fitting 3 folds for each of 4 candidates, totalling 12 fits\n",
      "2023/06/11, 02:16:27: Tuning for DecisionTreeClassifier is finished [F1 score = 0.6472851634267528, Accuracy = 0.6521464646464646]\n",
      "\n",
      "2023/06/11, 02:16:27: Tuning LogisticRegression...\n",
      "Fitting 3 folds for each of 8 candidates, totalling 24 fits\n",
      "2023/06/11, 02:16:28: Tuning for LogisticRegression is finished [F1 score = 0.6569560772050841, Accuracy = 0.6628787878787878]\n",
      "\n",
      "2023/06/11, 02:16:28: Tuning RandomForestClassifier...\n",
      "Fitting 3 folds for each of 4 candidates, totalling 12 fits\n",
      "2023/06/11, 02:16:29: Tuning for RandomForestClassifier is finished [F1 score = 0.6644226216232815, Accuracy = 0.6691919191919191]\n",
      "\n",
      "2023/06/11, 02:16:29: Tuning XGBClassifier...\n",
      "Fitting 3 folds for each of 4 candidates, totalling 12 fits\n",
      "2023/06/11, 02:16:33: Tuning for XGBClassifier is finished [F1 score = 0.6645633664344377, Accuracy = 0.6691919191919191]\n",
      "\n"
     ]
    },
    {
     "data": {
      "text/plain": "                          Dataset_Name              Model_Name  F1_Score  \\\n0  COMPAS_Without_Sensitive_Attributes  DecisionTreeClassifier  0.647285   \n1  COMPAS_Without_Sensitive_Attributes      LogisticRegression  0.656956   \n2  COMPAS_Without_Sensitive_Attributes  RandomForestClassifier  0.664423   \n3  COMPAS_Without_Sensitive_Attributes           XGBClassifier  0.664563   \n\n   Accuracy_Score                                  Model_Best_Params  \n0        0.652146  {'criterion': 'entropy', 'max_depth': 20, 'max...  \n1        0.662879  {'C': 1, 'max_iter': 250, 'penalty': 'l2', 'so...  \n2        0.669192  {'max_depth': 10, 'max_features': 0.6, 'min_sa...  \n3        0.669192  {'lambda': 100, 'learning_rate': 0.1, 'max_dep...  ",
      "text/html": "<div>\n<style scoped>\n    .dataframe tbody tr th:only-of-type {\n        vertical-align: middle;\n    }\n\n    .dataframe tbody tr th {\n        vertical-align: top;\n    }\n\n    .dataframe thead th {\n        text-align: right;\n    }\n</style>\n<table border=\"1\" class=\"dataframe\">\n  <thead>\n    <tr style=\"text-align: right;\">\n      <th></th>\n      <th>Dataset_Name</th>\n      <th>Model_Name</th>\n      <th>F1_Score</th>\n      <th>Accuracy_Score</th>\n      <th>Model_Best_Params</th>\n    </tr>\n  </thead>\n  <tbody>\n    <tr>\n      <th>0</th>\n      <td>COMPAS_Without_Sensitive_Attributes</td>\n      <td>DecisionTreeClassifier</td>\n      <td>0.647285</td>\n      <td>0.652146</td>\n      <td>{'criterion': 'entropy', 'max_depth': 20, 'max...</td>\n    </tr>\n    <tr>\n      <th>1</th>\n      <td>COMPAS_Without_Sensitive_Attributes</td>\n      <td>LogisticRegression</td>\n      <td>0.656956</td>\n      <td>0.662879</td>\n      <td>{'C': 1, 'max_iter': 250, 'penalty': 'l2', 'so...</td>\n    </tr>\n    <tr>\n      <th>2</th>\n      <td>COMPAS_Without_Sensitive_Attributes</td>\n      <td>RandomForestClassifier</td>\n      <td>0.664423</td>\n      <td>0.669192</td>\n      <td>{'max_depth': 10, 'max_features': 0.6, 'min_sa...</td>\n    </tr>\n    <tr>\n      <th>3</th>\n      <td>COMPAS_Without_Sensitive_Attributes</td>\n      <td>XGBClassifier</td>\n      <td>0.664563</td>\n      <td>0.669192</td>\n      <td>{'lambda': 100, 'learning_rate': 0.1, 'max_dep...</td>\n    </tr>\n  </tbody>\n</table>\n</div>"
     },
     "execution_count": 51,
     "metadata": {},
     "output_type": "execute_result"
    }
   ],
   "source": [
    "tuned_params_df, models_config = tune_ML_models(models_params_for_tuning, base_flow_dataset, config.dataset_name, n_folds=3)\n",
    "tuned_params_df"
   ],
   "metadata": {
    "collapsed": false
   }
  },
  {
   "cell_type": "code",
   "execution_count": 52,
   "outputs": [],
   "source": [
    "now = datetime.now(timezone.utc)\n",
    "date_time_str = now.strftime(\"%Y%m%d__%H%M%S\")\n",
    "tuned_df_path = os.path.join(ROOT_DIR, 'results', 'models_tuning', f'tuning_results_{config.dataset_name}_{date_time_str}.csv')\n",
    "tuned_params_df.to_csv(tuned_df_path, sep=\",\", columns=tuned_params_df.columns, float_format=\"%.4f\", index=False)"
   ],
   "metadata": {
    "collapsed": false
   }
  },
  {
   "cell_type": "markdown",
   "source": [
    "Create models_config from the saved tuned_params_df for higher reliability"
   ],
   "metadata": {
    "collapsed": false
   }
  },
  {
   "cell_type": "code",
   "execution_count": 53,
   "outputs": [
    {
     "name": "stdout",
     "output_type": "stream",
     "text": [
      "{'DecisionTreeClassifier': DecisionTreeClassifier(criterion='entropy', max_depth=20, max_features='sqrt',\n",
      "                       min_samples_split=0.1, random_state=100),\n",
      " 'LogisticRegression': LogisticRegression(C=1, max_iter=250, random_state=100, solver='newton-cg'),\n",
      " 'RandomForestClassifier': RandomForestClassifier(max_depth=10, max_features=0.6, random_state=100),\n",
      " 'XGBClassifier': XGBClassifier(base_score=None, booster=None, callbacks=None,\n",
      "              colsample_bylevel=None, colsample_bynode=None,\n",
      "              colsample_bytree=None, early_stopping_rounds=None,\n",
      "              enable_categorical=False, eval_metric=None, feature_types=None,\n",
      "              gamma=None, gpu_id=None, grow_policy=None, importance_type=None,\n",
      "              interaction_constraints=None, lambda=100, learning_rate=0.1,\n",
      "              max_bin=None, max_cat_threshold=None, max_cat_to_onehot=None,\n",
      "              max_delta_step=None, max_depth=7, max_leaves=None,\n",
      "              min_child_weight=None, missing=nan, monotone_constraints=None,\n",
      "              n_estimators=200, n_jobs=None, num_parallel_tree=None,\n",
      "              predictor=None, ...)}\n"
     ]
    }
   ],
   "source": [
    "models_config = create_models_config_from_tuned_params_df(models_params_for_tuning, tuned_df_path)\n",
    "pprint(models_config)"
   ],
   "metadata": {
    "collapsed": false
   }
  },
  {
   "cell_type": "markdown",
   "id": "f445b64a",
   "metadata": {},
   "source": [
    "## Subgroup Metrics Computation"
   ]
  },
  {
   "cell_type": "code",
   "execution_count": 54,
   "id": "197eadaa",
   "metadata": {},
   "outputs": [
    {
     "data": {
      "text/plain": "Multiple runs progress:   0%|          | 0/2 [00:00<?, ?it/s]",
      "application/vnd.jupyter.widget-view+json": {
       "version_major": 2,
       "version_minor": 0,
       "model_id": "2232812d433444448b0e585ba8b00e64"
      }
     },
     "metadata": {},
     "output_type": "display_data"
    },
    {
     "data": {
      "text/plain": "Analyze models in one run:   0%|          | 0/4 [00:00<?, ?it/s]",
      "application/vnd.jupyter.widget-view+json": {
       "version_major": 2,
       "version_minor": 0,
       "model_id": "ca6b8838780d4a57bb48a2dcc54324f1"
      }
     },
     "metadata": {},
     "output_type": "display_data"
    },
    {
     "data": {
      "text/plain": "Classifiers testing by bootstrap:   0%|          | 0/10 [00:00<?, ?it/s]",
      "application/vnd.jupyter.widget-view+json": {
       "version_major": 2,
       "version_minor": 0,
       "model_id": "c4cedb37f245457f8860c22fead15738"
      }
     },
     "metadata": {},
     "output_type": "display_data"
    },
    {
     "data": {
      "text/plain": "Classifiers testing by bootstrap:   0%|          | 0/10 [00:00<?, ?it/s]",
      "application/vnd.jupyter.widget-view+json": {
       "version_major": 2,
       "version_minor": 0,
       "model_id": "15f084afbffa41d58b6fe4f0094f18c3"
      }
     },
     "metadata": {},
     "output_type": "display_data"
    },
    {
     "data": {
      "text/plain": "Classifiers testing by bootstrap:   0%|          | 0/10 [00:00<?, ?it/s]",
      "application/vnd.jupyter.widget-view+json": {
       "version_major": 2,
       "version_minor": 0,
       "model_id": "a190524b638b49ae8a0741d74a18fc5c"
      }
     },
     "metadata": {},
     "output_type": "display_data"
    },
    {
     "data": {
      "text/plain": "Classifiers testing by bootstrap:   0%|          | 0/10 [00:00<?, ?it/s]",
      "application/vnd.jupyter.widget-view+json": {
       "version_major": 2,
       "version_minor": 0,
       "model_id": "c222a636ffc64834907d2e9be6dddffd"
      }
     },
     "metadata": {},
     "output_type": "display_data"
    },
    {
     "data": {
      "text/plain": "Analyze models in one run:   0%|          | 0/4 [00:00<?, ?it/s]",
      "application/vnd.jupyter.widget-view+json": {
       "version_major": 2,
       "version_minor": 0,
       "model_id": "b5337c7cadee409a98fc7cbdb24c7700"
      }
     },
     "metadata": {},
     "output_type": "display_data"
    },
    {
     "data": {
      "text/plain": "Classifiers testing by bootstrap:   0%|          | 0/10 [00:00<?, ?it/s]",
      "application/vnd.jupyter.widget-view+json": {
       "version_major": 2,
       "version_minor": 0,
       "model_id": "c64bfe55a7f74620896a6c2b62acf083"
      }
     },
     "metadata": {},
     "output_type": "display_data"
    },
    {
     "data": {
      "text/plain": "Classifiers testing by bootstrap:   0%|          | 0/10 [00:00<?, ?it/s]",
      "application/vnd.jupyter.widget-view+json": {
       "version_major": 2,
       "version_minor": 0,
       "model_id": "33c251dc190240ee82cbbab554e6db41"
      }
     },
     "metadata": {},
     "output_type": "display_data"
    },
    {
     "data": {
      "text/plain": "Classifiers testing by bootstrap:   0%|          | 0/10 [00:00<?, ?it/s]",
      "application/vnd.jupyter.widget-view+json": {
       "version_major": 2,
       "version_minor": 0,
       "model_id": "29d41f8719be415fbba113b0288dfff7"
      }
     },
     "metadata": {},
     "output_type": "display_data"
    },
    {
     "data": {
      "text/plain": "Classifiers testing by bootstrap:   0%|          | 0/10 [00:00<?, ?it/s]",
      "application/vnd.jupyter.widget-view+json": {
       "version_major": 2,
       "version_minor": 0,
       "model_id": "b171998ca9e845cf865da5e8e84b09bd"
      }
     },
     "metadata": {},
     "output_type": "display_data"
    }
   ],
   "source": [
    "multiple_run_metrics_dct = compute_metrics_multiple_runs(base_flow_dataset, config, models_config, SAVE_RESULTS_DIR_PATH)"
   ]
  },
  {
   "cell_type": "markdown",
   "id": "d6a8625a",
   "metadata": {},
   "source": [
    "Look at several columns in top rows of computed metrics"
   ]
  },
  {
   "cell_type": "code",
   "execution_count": 55,
   "id": "bea94683",
   "metadata": {},
   "outputs": [
    {
     "data": {
      "text/plain": "                   Metric   overall  sex_priv  sex_priv_correct  \\\n0                    Mean  0.526494  0.567177          0.578390   \n1                     Std  0.063744  0.060350          0.048851   \n2                     IQR  0.074362  0.068990          0.057801   \n3   Aleatoric_Uncertainty  0.883299  0.881098          0.872740   \n4     Overall_Uncertainty  0.901517  0.899484          0.883848   \n5                  Jitter  0.171759  0.163256          0.115238   \n6     Per_Sample_Accuracy  0.677462  0.700990          0.930000   \n7         Label_Stability  0.777652  0.794059          0.860000   \n8                     TPR  0.653846  0.525000          1.000000   \n9                     TNR  0.735075  0.803279          1.000000   \n10                    PPV  0.705394  0.636364          1.000000   \n11                    FNR  0.346154  0.475000          0.000000   \n12                    FPR  0.264925  0.196721          0.000000   \n13               Accuracy  0.695076  0.693069          1.000000   \n14                     F1  0.678643  0.575342          1.000000   \n15         Selection-Rate  0.456439  0.326733          0.300000   \n16          Positive-Rate  0.926923  0.825000          1.000000   \n0                    Mean  0.533682  0.572200          0.591640   \n1                     Std  0.065903  0.055931          0.046879   \n2                     IQR  0.068722  0.055843          0.051226   \n\n    sex_priv_incorrect   sex_dis  \n0             0.541859  0.516871  \n1             0.086313  0.064546  \n2             0.094254  0.075633  \n3             0.899970  0.883819  \n4             0.934792  0.901998  \n5             0.271685  0.173770  \n6             0.183871  0.671897  \n7             0.645161  0.773770  \n8             0.000000  0.677273  \n9             0.000000  0.714976  \n10            0.000000  0.716346  \n11            1.000000  0.322727  \n12            1.000000  0.285024  \n13            0.000000  0.695550  \n14            0.000000  0.696262  \n15            0.387097  0.487119  \n16            0.631579  0.945455  \n0             0.532141  0.524571  \n1             0.074584  0.068261  \n2             0.065357  0.071768  ",
      "text/html": "<div>\n<style scoped>\n    .dataframe tbody tr th:only-of-type {\n        vertical-align: middle;\n    }\n\n    .dataframe tbody tr th {\n        vertical-align: top;\n    }\n\n    .dataframe thead th {\n        text-align: right;\n    }\n</style>\n<table border=\"1\" class=\"dataframe\">\n  <thead>\n    <tr style=\"text-align: right;\">\n      <th></th>\n      <th>Metric</th>\n      <th>overall</th>\n      <th>sex_priv</th>\n      <th>sex_priv_correct</th>\n      <th>sex_priv_incorrect</th>\n      <th>sex_dis</th>\n    </tr>\n  </thead>\n  <tbody>\n    <tr>\n      <th>0</th>\n      <td>Mean</td>\n      <td>0.526494</td>\n      <td>0.567177</td>\n      <td>0.578390</td>\n      <td>0.541859</td>\n      <td>0.516871</td>\n    </tr>\n    <tr>\n      <th>1</th>\n      <td>Std</td>\n      <td>0.063744</td>\n      <td>0.060350</td>\n      <td>0.048851</td>\n      <td>0.086313</td>\n      <td>0.064546</td>\n    </tr>\n    <tr>\n      <th>2</th>\n      <td>IQR</td>\n      <td>0.074362</td>\n      <td>0.068990</td>\n      <td>0.057801</td>\n      <td>0.094254</td>\n      <td>0.075633</td>\n    </tr>\n    <tr>\n      <th>3</th>\n      <td>Aleatoric_Uncertainty</td>\n      <td>0.883299</td>\n      <td>0.881098</td>\n      <td>0.872740</td>\n      <td>0.899970</td>\n      <td>0.883819</td>\n    </tr>\n    <tr>\n      <th>4</th>\n      <td>Overall_Uncertainty</td>\n      <td>0.901517</td>\n      <td>0.899484</td>\n      <td>0.883848</td>\n      <td>0.934792</td>\n      <td>0.901998</td>\n    </tr>\n    <tr>\n      <th>5</th>\n      <td>Jitter</td>\n      <td>0.171759</td>\n      <td>0.163256</td>\n      <td>0.115238</td>\n      <td>0.271685</td>\n      <td>0.173770</td>\n    </tr>\n    <tr>\n      <th>6</th>\n      <td>Per_Sample_Accuracy</td>\n      <td>0.677462</td>\n      <td>0.700990</td>\n      <td>0.930000</td>\n      <td>0.183871</td>\n      <td>0.671897</td>\n    </tr>\n    <tr>\n      <th>7</th>\n      <td>Label_Stability</td>\n      <td>0.777652</td>\n      <td>0.794059</td>\n      <td>0.860000</td>\n      <td>0.645161</td>\n      <td>0.773770</td>\n    </tr>\n    <tr>\n      <th>8</th>\n      <td>TPR</td>\n      <td>0.653846</td>\n      <td>0.525000</td>\n      <td>1.000000</td>\n      <td>0.000000</td>\n      <td>0.677273</td>\n    </tr>\n    <tr>\n      <th>9</th>\n      <td>TNR</td>\n      <td>0.735075</td>\n      <td>0.803279</td>\n      <td>1.000000</td>\n      <td>0.000000</td>\n      <td>0.714976</td>\n    </tr>\n    <tr>\n      <th>10</th>\n      <td>PPV</td>\n      <td>0.705394</td>\n      <td>0.636364</td>\n      <td>1.000000</td>\n      <td>0.000000</td>\n      <td>0.716346</td>\n    </tr>\n    <tr>\n      <th>11</th>\n      <td>FNR</td>\n      <td>0.346154</td>\n      <td>0.475000</td>\n      <td>0.000000</td>\n      <td>1.000000</td>\n      <td>0.322727</td>\n    </tr>\n    <tr>\n      <th>12</th>\n      <td>FPR</td>\n      <td>0.264925</td>\n      <td>0.196721</td>\n      <td>0.000000</td>\n      <td>1.000000</td>\n      <td>0.285024</td>\n    </tr>\n    <tr>\n      <th>13</th>\n      <td>Accuracy</td>\n      <td>0.695076</td>\n      <td>0.693069</td>\n      <td>1.000000</td>\n      <td>0.000000</td>\n      <td>0.695550</td>\n    </tr>\n    <tr>\n      <th>14</th>\n      <td>F1</td>\n      <td>0.678643</td>\n      <td>0.575342</td>\n      <td>1.000000</td>\n      <td>0.000000</td>\n      <td>0.696262</td>\n    </tr>\n    <tr>\n      <th>15</th>\n      <td>Selection-Rate</td>\n      <td>0.456439</td>\n      <td>0.326733</td>\n      <td>0.300000</td>\n      <td>0.387097</td>\n      <td>0.487119</td>\n    </tr>\n    <tr>\n      <th>16</th>\n      <td>Positive-Rate</td>\n      <td>0.926923</td>\n      <td>0.825000</td>\n      <td>1.000000</td>\n      <td>0.631579</td>\n      <td>0.945455</td>\n    </tr>\n    <tr>\n      <th>0</th>\n      <td>Mean</td>\n      <td>0.533682</td>\n      <td>0.572200</td>\n      <td>0.591640</td>\n      <td>0.532141</td>\n      <td>0.524571</td>\n    </tr>\n    <tr>\n      <th>1</th>\n      <td>Std</td>\n      <td>0.065903</td>\n      <td>0.055931</td>\n      <td>0.046879</td>\n      <td>0.074584</td>\n      <td>0.068261</td>\n    </tr>\n    <tr>\n      <th>2</th>\n      <td>IQR</td>\n      <td>0.068722</td>\n      <td>0.055843</td>\n      <td>0.051226</td>\n      <td>0.065357</td>\n      <td>0.071768</td>\n    </tr>\n  </tbody>\n</table>\n</div>"
     },
     "execution_count": 55,
     "metadata": {},
     "output_type": "execute_result"
    }
   ],
   "source": [
    "sample_model_metrics_df = multiple_run_metrics_dct[list(models_config.keys())[0]]\n",
    "sample_model_metrics_df[sample_model_metrics_df.columns[:6]].head(20)"
   ]
  },
  {
   "cell_type": "markdown",
   "id": "a7ff67e9",
   "metadata": {},
   "source": [
    "## Group Metrics Composition"
   ]
  },
  {
   "cell_type": "code",
   "execution_count": 56,
   "id": "f94a20dc",
   "metadata": {},
   "outputs": [],
   "source": [
    "models_metrics_dct = read_model_metric_dfs(SAVE_RESULTS_DIR_PATH, model_names=list(models_config.keys()))"
   ]
  },
  {
   "cell_type": "code",
   "execution_count": 57,
   "id": "b04d06cf",
   "metadata": {},
   "outputs": [],
   "source": [
    "metrics_composer = MetricsComposer(models_metrics_dct, config.sensitive_attributes_dct)"
   ]
  },
  {
   "cell_type": "markdown",
   "id": "e1a23ece",
   "metadata": {},
   "source": [
    "Compute composed metrics"
   ]
  },
  {
   "cell_type": "code",
   "execution_count": 58,
   "id": "be6ace22",
   "metadata": {},
   "outputs": [],
   "source": [
    "models_composed_metrics_df = metrics_composer.compose_metrics()"
   ]
  },
  {
   "cell_type": "code",
   "execution_count": 59,
   "id": "2326c129",
   "metadata": {},
   "outputs": [
    {
     "data": {
      "text/plain": "                           Metric       sex      race  sex&race  \\\n0              Equalized_Odds_TPR  0.152273  0.281008  0.372549   \n1              Equalized_Odds_FPR  0.059832  0.114977  0.116379   \n2              Equalized_Odds_FNR -0.152273 -0.281008 -0.372549   \n3                Disparate_Impact  1.098930  1.360771  1.359477   \n4   Statistical_Parity_Difference  0.084091  0.267395  0.269608   \n5                 Accuracy_Parity  0.018237  0.056400  0.089813   \n6           Label_Stability_Ratio  0.955201  0.967051  0.906661   \n7                      IQR_Parity  0.011284  0.009692  0.020932   \n8                      Std_Parity  0.008264  0.005659  0.012393   \n9                       Std_Ratio  1.142134  1.092229  1.221141   \n10                  Jitter_Parity  0.026249  0.021029  0.059037   \n11   Aleatoric_Uncertainty_Parity  0.002139  0.029012  0.045639   \n12     Overall_Uncertainty_Parity  0.004893  0.029398  0.048637   \n13             Equalized_Odds_TPR  0.059091  0.268739  0.253268   \n14             Equalized_Odds_FPR  0.026530  0.143356  0.176724   \n15             Equalized_Odds_FNR -0.059091 -0.268739 -0.253268   \n16               Disparate_Impact  0.942857  1.461640  1.421995   \n17  Statistical_Parity_Difference -0.050000  0.293277  0.269608   \n18                Accuracy_Parity -0.011675  0.024594 -0.014909   \n19          Label_Stability_Ratio  0.982751  0.955195  0.948215   \n\n                Model_Name  \n0   DecisionTreeClassifier  \n1   DecisionTreeClassifier  \n2   DecisionTreeClassifier  \n3   DecisionTreeClassifier  \n4   DecisionTreeClassifier  \n5   DecisionTreeClassifier  \n6   DecisionTreeClassifier  \n7   DecisionTreeClassifier  \n8   DecisionTreeClassifier  \n9   DecisionTreeClassifier  \n10  DecisionTreeClassifier  \n11  DecisionTreeClassifier  \n12  DecisionTreeClassifier  \n13      LogisticRegression  \n14      LogisticRegression  \n15      LogisticRegression  \n16      LogisticRegression  \n17      LogisticRegression  \n18      LogisticRegression  \n19      LogisticRegression  ",
      "text/html": "<div>\n<style scoped>\n    .dataframe tbody tr th:only-of-type {\n        vertical-align: middle;\n    }\n\n    .dataframe tbody tr th {\n        vertical-align: top;\n    }\n\n    .dataframe thead th {\n        text-align: right;\n    }\n</style>\n<table border=\"1\" class=\"dataframe\">\n  <thead>\n    <tr style=\"text-align: right;\">\n      <th></th>\n      <th>Metric</th>\n      <th>sex</th>\n      <th>race</th>\n      <th>sex&amp;race</th>\n      <th>Model_Name</th>\n    </tr>\n  </thead>\n  <tbody>\n    <tr>\n      <th>0</th>\n      <td>Equalized_Odds_TPR</td>\n      <td>0.152273</td>\n      <td>0.281008</td>\n      <td>0.372549</td>\n      <td>DecisionTreeClassifier</td>\n    </tr>\n    <tr>\n      <th>1</th>\n      <td>Equalized_Odds_FPR</td>\n      <td>0.059832</td>\n      <td>0.114977</td>\n      <td>0.116379</td>\n      <td>DecisionTreeClassifier</td>\n    </tr>\n    <tr>\n      <th>2</th>\n      <td>Equalized_Odds_FNR</td>\n      <td>-0.152273</td>\n      <td>-0.281008</td>\n      <td>-0.372549</td>\n      <td>DecisionTreeClassifier</td>\n    </tr>\n    <tr>\n      <th>3</th>\n      <td>Disparate_Impact</td>\n      <td>1.098930</td>\n      <td>1.360771</td>\n      <td>1.359477</td>\n      <td>DecisionTreeClassifier</td>\n    </tr>\n    <tr>\n      <th>4</th>\n      <td>Statistical_Parity_Difference</td>\n      <td>0.084091</td>\n      <td>0.267395</td>\n      <td>0.269608</td>\n      <td>DecisionTreeClassifier</td>\n    </tr>\n    <tr>\n      <th>5</th>\n      <td>Accuracy_Parity</td>\n      <td>0.018237</td>\n      <td>0.056400</td>\n      <td>0.089813</td>\n      <td>DecisionTreeClassifier</td>\n    </tr>\n    <tr>\n      <th>6</th>\n      <td>Label_Stability_Ratio</td>\n      <td>0.955201</td>\n      <td>0.967051</td>\n      <td>0.906661</td>\n      <td>DecisionTreeClassifier</td>\n    </tr>\n    <tr>\n      <th>7</th>\n      <td>IQR_Parity</td>\n      <td>0.011284</td>\n      <td>0.009692</td>\n      <td>0.020932</td>\n      <td>DecisionTreeClassifier</td>\n    </tr>\n    <tr>\n      <th>8</th>\n      <td>Std_Parity</td>\n      <td>0.008264</td>\n      <td>0.005659</td>\n      <td>0.012393</td>\n      <td>DecisionTreeClassifier</td>\n    </tr>\n    <tr>\n      <th>9</th>\n      <td>Std_Ratio</td>\n      <td>1.142134</td>\n      <td>1.092229</td>\n      <td>1.221141</td>\n      <td>DecisionTreeClassifier</td>\n    </tr>\n    <tr>\n      <th>10</th>\n      <td>Jitter_Parity</td>\n      <td>0.026249</td>\n      <td>0.021029</td>\n      <td>0.059037</td>\n      <td>DecisionTreeClassifier</td>\n    </tr>\n    <tr>\n      <th>11</th>\n      <td>Aleatoric_Uncertainty_Parity</td>\n      <td>0.002139</td>\n      <td>0.029012</td>\n      <td>0.045639</td>\n      <td>DecisionTreeClassifier</td>\n    </tr>\n    <tr>\n      <th>12</th>\n      <td>Overall_Uncertainty_Parity</td>\n      <td>0.004893</td>\n      <td>0.029398</td>\n      <td>0.048637</td>\n      <td>DecisionTreeClassifier</td>\n    </tr>\n    <tr>\n      <th>13</th>\n      <td>Equalized_Odds_TPR</td>\n      <td>0.059091</td>\n      <td>0.268739</td>\n      <td>0.253268</td>\n      <td>LogisticRegression</td>\n    </tr>\n    <tr>\n      <th>14</th>\n      <td>Equalized_Odds_FPR</td>\n      <td>0.026530</td>\n      <td>0.143356</td>\n      <td>0.176724</td>\n      <td>LogisticRegression</td>\n    </tr>\n    <tr>\n      <th>15</th>\n      <td>Equalized_Odds_FNR</td>\n      <td>-0.059091</td>\n      <td>-0.268739</td>\n      <td>-0.253268</td>\n      <td>LogisticRegression</td>\n    </tr>\n    <tr>\n      <th>16</th>\n      <td>Disparate_Impact</td>\n      <td>0.942857</td>\n      <td>1.461640</td>\n      <td>1.421995</td>\n      <td>LogisticRegression</td>\n    </tr>\n    <tr>\n      <th>17</th>\n      <td>Statistical_Parity_Difference</td>\n      <td>-0.050000</td>\n      <td>0.293277</td>\n      <td>0.269608</td>\n      <td>LogisticRegression</td>\n    </tr>\n    <tr>\n      <th>18</th>\n      <td>Accuracy_Parity</td>\n      <td>-0.011675</td>\n      <td>0.024594</td>\n      <td>-0.014909</td>\n      <td>LogisticRegression</td>\n    </tr>\n    <tr>\n      <th>19</th>\n      <td>Label_Stability_Ratio</td>\n      <td>0.982751</td>\n      <td>0.955195</td>\n      <td>0.948215</td>\n      <td>LogisticRegression</td>\n    </tr>\n  </tbody>\n</table>\n</div>"
     },
     "execution_count": 59,
     "metadata": {},
     "output_type": "execute_result"
    }
   ],
   "source": [
    "models_composed_metrics_df.head(20)"
   ]
  },
  {
   "cell_type": "code",
   "execution_count": 59,
   "outputs": [],
   "source": [],
   "metadata": {
    "collapsed": false
   }
  }
 ],
 "metadata": {
  "kernelspec": {
   "display_name": "Python 3 (ipykernel)",
   "language": "python",
   "name": "python3"
  },
  "language_info": {
   "codemirror_mode": {
    "name": "ipython",
    "version": 3
   },
   "file_extension": ".py",
   "mimetype": "text/x-python",
   "name": "python",
   "nbconvert_exporter": "python",
   "pygments_lexer": "ipython3",
   "version": "3.8.10"
  }
 },
 "nbformat": 4,
 "nbformat_minor": 5
}
