{
 "cells": [
  {
   "cell_type": "code",
   "execution_count": 21,
   "outputs": [],
   "source": [
    "# !pip uninstall virny -y"
   ],
   "metadata": {
    "collapsed": false
   }
  },
  {
   "cell_type": "code",
   "execution_count": 22,
   "outputs": [],
   "source": [
    "# Install using an HTTP link\n",
    "# !pip install git+https://github.com/DataResponsibly/Virny.git@development\n",
    "\n",
    "# Install using an SSH link\n",
    "# !pip install git+ssh://git@github.com/DataResponsibly/Virny.git@development"
   ],
   "metadata": {
    "collapsed": false
   }
  },
  {
   "cell_type": "code",
   "execution_count": 23,
   "id": "248cbed8",
   "metadata": {},
   "outputs": [
    {
     "name": "stdout",
     "output_type": "stream",
     "text": [
      "The autoreload extension is already loaded. To reload it, use:\n",
      "  %reload_ext autoreload\n"
     ]
    }
   ],
   "source": [
    "%matplotlib inline\n",
    "%load_ext autoreload\n",
    "%autoreload 2"
   ]
  },
  {
   "cell_type": "code",
   "execution_count": 24,
   "id": "7ec6cd08",
   "metadata": {},
   "outputs": [],
   "source": [
    "import os\n",
    "import warnings\n",
    "warnings.filterwarnings('ignore')\n",
    "os.environ[\"PYTHONWARNINGS\"] = \"ignore\""
   ]
  },
  {
   "cell_type": "markdown",
   "id": "606df34d",
   "metadata": {},
   "source": [
    "## Import dependencies"
   ]
  },
  {
   "cell_type": "code",
   "execution_count": 25,
   "id": "7a9241de",
   "metadata": {},
   "outputs": [],
   "source": [
    "import os\n",
    "import pandas as pd\n",
    "from pprint import pprint\n",
    "from datetime import datetime, timezone\n",
    "\n",
    "from sklearn.compose import ColumnTransformer\n",
    "from sklearn.preprocessing import OneHotEncoder\n",
    "from sklearn.preprocessing import StandardScaler\n",
    "\n",
    "from virny.utils.custom_initializers import create_config_obj, read_model_metric_dfs, create_models_config_from_tuned_params_df\n",
    "from virny.user_interfaces.metrics_computation_interfaces import compute_metrics_multiple_runs_with_db_writer\n",
    "from virny.preprocessing.basic_preprocessing import preprocess_dataset\n",
    "from virny.custom_classes.metrics_composer import MetricsComposer\n",
    "from virny.utils.model_tuning_utils import tune_ML_models\n",
    "from virny.datasets import CompasWithoutSensitiveAttrsDataset\n",
    "\n",
    "from configs.constants import TEST_SET_FRACTION, EXPERIMENT_SEEDS\n",
    "from configs.models_config_for_tuning import get_compas_models_params_for_tuning"
   ]
  },
  {
   "cell_type": "markdown",
   "source": [
    "## Define Input Variables"
   ],
   "metadata": {
    "collapsed": false
   }
  },
  {
   "cell_type": "code",
   "execution_count": 26,
   "outputs": [],
   "source": [
    "DATASET_SPLIT_SEED = EXPERIMENT_SEEDS[0]\n",
    "MODELS_TUNING_SEED = EXPERIMENT_SEEDS[0]"
   ],
   "metadata": {
    "collapsed": false
   }
  },
  {
   "cell_type": "code",
   "execution_count": 27,
   "outputs": [],
   "source": [
    "ROOT_DIR = os.path.join(os.getcwd(), \"..\", \"..\")\n",
    "# ROOT_DIR = os.getcwd()\n",
    "EXPERIMENT_NAME = 'error_analysis'\n",
    "DB_COLLECTION_NAME = f'exp_{EXPERIMENT_NAME}'\n",
    "SAVE_RESULTS_DIR_PATH = os.path.join(ROOT_DIR, 'results', EXPERIMENT_NAME)\n",
    "\n",
    "config_yaml_path = os.path.join(ROOT_DIR, 'notebooks', EXPERIMENT_NAME, 'compas_config.yaml')\n",
    "config = create_config_obj(config_yaml_path=config_yaml_path)"
   ],
   "metadata": {
    "collapsed": false
   }
  },
  {
   "cell_type": "code",
   "execution_count": 28,
   "outputs": [],
   "source": [
    "models_params_for_tuning = get_compas_models_params_for_tuning(MODELS_TUNING_SEED)"
   ],
   "metadata": {
    "collapsed": false
   }
  },
  {
   "cell_type": "markdown",
   "source": [
    "## Define a db writer and custom fields to insert into your database"
   ],
   "metadata": {
    "collapsed": false
   }
  },
  {
   "cell_type": "code",
   "execution_count": 29,
   "outputs": [],
   "source": [
    "from source.utils.db_functions import connect_to_mongodb\n",
    "\n",
    "client, collection_obj, db_writer_func = connect_to_mongodb(DB_COLLECTION_NAME)"
   ],
   "metadata": {
    "collapsed": false
   }
  },
  {
   "cell_type": "code",
   "execution_count": 30,
   "outputs": [
    {
     "name": "stdout",
     "output_type": "stream",
     "text": [
      "Current session uuid:  026172c9-4cf6-425b-ba25-8cd7660130f6\n"
     ]
    }
   ],
   "source": [
    "import uuid\n",
    "\n",
    "custom_table_fields_dct = {\n",
    "    'session_uuid': str(uuid.uuid4()),\n",
    "    'preprocessing_techniques': 'cat: mode, num: median',\n",
    "}\n",
    "print('Current session uuid: ', custom_table_fields_dct['session_uuid'])"
   ],
   "metadata": {
    "collapsed": false
   }
  },
  {
   "cell_type": "markdown",
   "source": [
    "## Initialize custom objects"
   ],
   "metadata": {
    "collapsed": false
   }
  },
  {
   "cell_type": "code",
   "execution_count": 31,
   "id": "6c55c6a0",
   "metadata": {},
   "outputs": [
    {
     "data": {
      "text/plain": "   juv_fel_count  juv_misd_count  juv_other_count  priors_count  \\\n0            0.0       -2.340451              1.0    -15.010999   \n1            0.0        0.000000              0.0      0.000000   \n2            0.0        0.000000              0.0      0.000000   \n3            0.0        0.000000              0.0      6.000000   \n4            0.0        0.000000              0.0      7.513697   \n\n   age_cat_25 - 45  \n0                1  \n1                1  \n2                0  \n3                1  \n4                1  ",
      "text/html": "<div>\n<style scoped>\n    .dataframe tbody tr th:only-of-type {\n        vertical-align: middle;\n    }\n\n    .dataframe tbody tr th {\n        vertical-align: top;\n    }\n\n    .dataframe thead th {\n        text-align: right;\n    }\n</style>\n<table border=\"1\" class=\"dataframe\">\n  <thead>\n    <tr style=\"text-align: right;\">\n      <th></th>\n      <th>juv_fel_count</th>\n      <th>juv_misd_count</th>\n      <th>juv_other_count</th>\n      <th>priors_count</th>\n      <th>age_cat_25 - 45</th>\n    </tr>\n  </thead>\n  <tbody>\n    <tr>\n      <th>0</th>\n      <td>0.0</td>\n      <td>-2.340451</td>\n      <td>1.0</td>\n      <td>-15.010999</td>\n      <td>1</td>\n    </tr>\n    <tr>\n      <th>1</th>\n      <td>0.0</td>\n      <td>0.000000</td>\n      <td>0.0</td>\n      <td>0.000000</td>\n      <td>1</td>\n    </tr>\n    <tr>\n      <th>2</th>\n      <td>0.0</td>\n      <td>0.000000</td>\n      <td>0.0</td>\n      <td>0.000000</td>\n      <td>0</td>\n    </tr>\n    <tr>\n      <th>3</th>\n      <td>0.0</td>\n      <td>0.000000</td>\n      <td>0.0</td>\n      <td>6.000000</td>\n      <td>1</td>\n    </tr>\n    <tr>\n      <th>4</th>\n      <td>0.0</td>\n      <td>0.000000</td>\n      <td>0.0</td>\n      <td>7.513697</td>\n      <td>1</td>\n    </tr>\n  </tbody>\n</table>\n</div>"
     },
     "execution_count": 31,
     "metadata": {},
     "output_type": "execute_result"
    }
   ],
   "source": [
    "data_loader = CompasWithoutSensitiveAttrsDataset()\n",
    "data_loader.X_data[data_loader.X_data.columns[:5]].head()"
   ]
  },
  {
   "cell_type": "code",
   "execution_count": 32,
   "outputs": [],
   "source": [
    "column_transformer = ColumnTransformer(transformers=[\n",
    "    ('categorical_features', OneHotEncoder(handle_unknown='ignore', sparse=False), data_loader.categorical_columns),\n",
    "    ('numerical_features', StandardScaler(), data_loader.numerical_columns),\n",
    "])"
   ],
   "metadata": {
    "collapsed": false
   }
  },
  {
   "cell_type": "code",
   "execution_count": 33,
   "outputs": [],
   "source": [
    "base_flow_dataset = preprocess_dataset(data_loader, column_transformer, TEST_SET_FRACTION, DATASET_SPLIT_SEED)"
   ],
   "metadata": {
    "collapsed": false
   }
  },
  {
   "cell_type": "markdown",
   "source": [
    "### Tune models and create a models config for metrics computation"
   ],
   "metadata": {
    "collapsed": false
   }
  },
  {
   "cell_type": "code",
   "execution_count": 34,
   "outputs": [
    {
     "name": "stdout",
     "output_type": "stream",
     "text": [
      "2023/06/22, 01:59:37: Tuning DecisionTreeClassifier...\n",
      "Fitting 3 folds for each of 4 candidates, totalling 12 fits\n",
      "2023/06/22, 01:59:39: Tuning for DecisionTreeClassifier is finished [F1 score = 0.6472851634267528, Accuracy = 0.6521464646464646]\n",
      "\n"
     ]
    },
    {
     "data": {
      "text/plain": "                          Dataset_Name              Model_Name  F1_Score  \\\n0  COMPAS_Without_Sensitive_Attributes  DecisionTreeClassifier  0.647285   \n\n   Accuracy_Score                                  Model_Best_Params  \n0        0.652146  {'criterion': 'entropy', 'max_depth': 20, 'max...  ",
      "text/html": "<div>\n<style scoped>\n    .dataframe tbody tr th:only-of-type {\n        vertical-align: middle;\n    }\n\n    .dataframe tbody tr th {\n        vertical-align: top;\n    }\n\n    .dataframe thead th {\n        text-align: right;\n    }\n</style>\n<table border=\"1\" class=\"dataframe\">\n  <thead>\n    <tr style=\"text-align: right;\">\n      <th></th>\n      <th>Dataset_Name</th>\n      <th>Model_Name</th>\n      <th>F1_Score</th>\n      <th>Accuracy_Score</th>\n      <th>Model_Best_Params</th>\n    </tr>\n  </thead>\n  <tbody>\n    <tr>\n      <th>0</th>\n      <td>COMPAS_Without_Sensitive_Attributes</td>\n      <td>DecisionTreeClassifier</td>\n      <td>0.647285</td>\n      <td>0.652146</td>\n      <td>{'criterion': 'entropy', 'max_depth': 20, 'max...</td>\n    </tr>\n  </tbody>\n</table>\n</div>"
     },
     "execution_count": 34,
     "metadata": {},
     "output_type": "execute_result"
    }
   ],
   "source": [
    "tuned_params_df, models_config = tune_ML_models(models_params_for_tuning, base_flow_dataset, config.dataset_name, n_folds=3)\n",
    "tuned_params_df"
   ],
   "metadata": {
    "collapsed": false
   }
  },
  {
   "cell_type": "code",
   "execution_count": 35,
   "outputs": [],
   "source": [
    "now = datetime.now(timezone.utc)\n",
    "date_time_str = now.strftime(\"%Y%m%d__%H%M%S\")\n",
    "tuned_df_path = os.path.join(ROOT_DIR, 'results', 'models_tuning', f'tuning_results_{config.dataset_name}_{date_time_str}.csv')\n",
    "tuned_params_df.to_csv(tuned_df_path, sep=\",\", columns=tuned_params_df.columns, float_format=\"%.4f\", index=False)"
   ],
   "metadata": {
    "collapsed": false
   }
  },
  {
   "cell_type": "markdown",
   "source": [
    "Create models_config from the saved tuned_params_df for higher reliability"
   ],
   "metadata": {
    "collapsed": false
   }
  },
  {
   "cell_type": "code",
   "execution_count": 36,
   "outputs": [
    {
     "name": "stdout",
     "output_type": "stream",
     "text": [
      "{'DecisionTreeClassifier': DecisionTreeClassifier(criterion='entropy', max_depth=20, max_features='sqrt',\n",
      "                       min_samples_split=0.1, random_state=100)}\n"
     ]
    }
   ],
   "source": [
    "models_config = create_models_config_from_tuned_params_df(models_params_for_tuning, tuned_df_path)\n",
    "pprint(models_config)"
   ],
   "metadata": {
    "collapsed": false
   }
  },
  {
   "cell_type": "markdown",
   "id": "f445b64a",
   "metadata": {},
   "source": [
    "## Subgroup Metrics Computation"
   ]
  },
  {
   "cell_type": "code",
   "execution_count": 37,
   "id": "197eadaa",
   "metadata": {},
   "outputs": [
    {
     "data": {
      "text/plain": "Multiple runs progress:   0%|          | 0/2 [00:00<?, ?it/s]",
      "application/vnd.jupyter.widget-view+json": {
       "version_major": 2,
       "version_minor": 0,
       "model_id": "8d025483433946159c68abd6b7d9b6b7"
      }
     },
     "metadata": {},
     "output_type": "display_data"
    },
    {
     "data": {
      "text/plain": "Analyze models in one run:   0%|          | 0/1 [00:00<?, ?it/s]",
      "application/vnd.jupyter.widget-view+json": {
       "version_major": 2,
       "version_minor": 0,
       "model_id": "b413a9f5650942e38d5a6ce9ac306c84"
      }
     },
     "metadata": {},
     "output_type": "display_data"
    },
    {
     "data": {
      "text/plain": "Classifiers testing by bootstrap:   0%|          | 0/10 [00:00<?, ?it/s]",
      "application/vnd.jupyter.widget-view+json": {
       "version_major": 2,
       "version_minor": 0,
       "model_id": "b86576537b57461f878631b83fe20059"
      }
     },
     "metadata": {},
     "output_type": "display_data"
    },
    {
     "data": {
      "text/plain": "Analyze models in one run:   0%|          | 0/1 [00:00<?, ?it/s]",
      "application/vnd.jupyter.widget-view+json": {
       "version_major": 2,
       "version_minor": 0,
       "model_id": "53a3a6ca4a7f437e948f014517e57d57"
      }
     },
     "metadata": {},
     "output_type": "display_data"
    },
    {
     "data": {
      "text/plain": "Classifiers testing by bootstrap:   0%|          | 0/10 [00:00<?, ?it/s]",
      "application/vnd.jupyter.widget-view+json": {
       "version_major": 2,
       "version_minor": 0,
       "model_id": "50f5354c13ce43d289859224bcc9f64e"
      }
     },
     "metadata": {},
     "output_type": "display_data"
    }
   ],
   "source": [
    "multiple_run_metrics_dct = compute_metrics_multiple_runs_with_db_writer(base_flow_dataset, config, models_config,\n",
    "                                                                        custom_table_fields_dct, db_writer_func)"
   ]
  },
  {
   "cell_type": "markdown",
   "id": "d6a8625a",
   "metadata": {},
   "source": [
    "Look at several columns in top rows of computed metrics"
   ]
  },
  {
   "cell_type": "code",
   "execution_count": 38,
   "id": "bea94683",
   "metadata": {},
   "outputs": [
    {
     "data": {
      "text/plain": "                   Metric     overall    sex_priv  sex_priv_correct  \\\n0                    Mean    0.536018    0.576907          0.587857   \n1                     Std    0.066000    0.064240          0.058124   \n2                     IQR    0.064431    0.062262          0.057667   \n3   Aleatoric_Uncertainty    0.869460    0.861114          0.856052   \n4     Overall_Uncertainty    0.890969    0.885508          0.875024   \n5                  Jitter    0.134428    0.097690          0.081381   \n6     Per_Sample_Accuracy    0.684470    0.720792          0.952703   \n7         Label_Stability    0.828030    0.885149          0.905405   \n8                     TPR    0.657692    0.600000          1.000000   \n9                     TNR    0.746269    0.819672          1.000000   \n10                    PPV    0.715481    0.685714          1.000000   \n11                    FNR    0.342308    0.400000          0.000000   \n12                    FPR    0.253731    0.180328          0.000000   \n13               Accuracy    0.702652    0.732673          1.000000   \n14                     F1    0.685371    0.640000          1.000000   \n15         Selection-Rate    0.452652    0.346535          0.324324   \n16          Positive-Rate    0.919231    0.875000          1.000000   \n17            Sample_Size  528.000000  101.000000         74.000000   \n0                    Mean    0.526616    0.562885          0.578851   \n1                     Std    0.064074    0.055298          0.052741   \n\n    sex_priv_incorrect     sex_dis  \n0             0.546899    0.526347  \n1             0.081005    0.066416  \n2             0.074855    0.064944  \n3             0.874989    0.871434  \n4             0.914242    0.892260  \n5             0.142387    0.143117  \n6             0.085185    0.675878  \n7             0.829630    0.814520  \n8             0.000000    0.668182  \n9             0.000000    0.724638  \n10            0.000000    0.720588  \n11            1.000000    0.331818  \n12            1.000000    0.275362  \n13            0.000000    0.695550  \n14            0.000000    0.693396  \n15            0.407407    0.477752  \n16            0.687500    0.927273  \n17           27.000000  427.000000  \n0             0.525097    0.518037  \n1             0.061351    0.066150  ",
      "text/html": "<div>\n<style scoped>\n    .dataframe tbody tr th:only-of-type {\n        vertical-align: middle;\n    }\n\n    .dataframe tbody tr th {\n        vertical-align: top;\n    }\n\n    .dataframe thead th {\n        text-align: right;\n    }\n</style>\n<table border=\"1\" class=\"dataframe\">\n  <thead>\n    <tr style=\"text-align: right;\">\n      <th></th>\n      <th>Metric</th>\n      <th>overall</th>\n      <th>sex_priv</th>\n      <th>sex_priv_correct</th>\n      <th>sex_priv_incorrect</th>\n      <th>sex_dis</th>\n    </tr>\n  </thead>\n  <tbody>\n    <tr>\n      <th>0</th>\n      <td>Mean</td>\n      <td>0.536018</td>\n      <td>0.576907</td>\n      <td>0.587857</td>\n      <td>0.546899</td>\n      <td>0.526347</td>\n    </tr>\n    <tr>\n      <th>1</th>\n      <td>Std</td>\n      <td>0.066000</td>\n      <td>0.064240</td>\n      <td>0.058124</td>\n      <td>0.081005</td>\n      <td>0.066416</td>\n    </tr>\n    <tr>\n      <th>2</th>\n      <td>IQR</td>\n      <td>0.064431</td>\n      <td>0.062262</td>\n      <td>0.057667</td>\n      <td>0.074855</td>\n      <td>0.064944</td>\n    </tr>\n    <tr>\n      <th>3</th>\n      <td>Aleatoric_Uncertainty</td>\n      <td>0.869460</td>\n      <td>0.861114</td>\n      <td>0.856052</td>\n      <td>0.874989</td>\n      <td>0.871434</td>\n    </tr>\n    <tr>\n      <th>4</th>\n      <td>Overall_Uncertainty</td>\n      <td>0.890969</td>\n      <td>0.885508</td>\n      <td>0.875024</td>\n      <td>0.914242</td>\n      <td>0.892260</td>\n    </tr>\n    <tr>\n      <th>5</th>\n      <td>Jitter</td>\n      <td>0.134428</td>\n      <td>0.097690</td>\n      <td>0.081381</td>\n      <td>0.142387</td>\n      <td>0.143117</td>\n    </tr>\n    <tr>\n      <th>6</th>\n      <td>Per_Sample_Accuracy</td>\n      <td>0.684470</td>\n      <td>0.720792</td>\n      <td>0.952703</td>\n      <td>0.085185</td>\n      <td>0.675878</td>\n    </tr>\n    <tr>\n      <th>7</th>\n      <td>Label_Stability</td>\n      <td>0.828030</td>\n      <td>0.885149</td>\n      <td>0.905405</td>\n      <td>0.829630</td>\n      <td>0.814520</td>\n    </tr>\n    <tr>\n      <th>8</th>\n      <td>TPR</td>\n      <td>0.657692</td>\n      <td>0.600000</td>\n      <td>1.000000</td>\n      <td>0.000000</td>\n      <td>0.668182</td>\n    </tr>\n    <tr>\n      <th>9</th>\n      <td>TNR</td>\n      <td>0.746269</td>\n      <td>0.819672</td>\n      <td>1.000000</td>\n      <td>0.000000</td>\n      <td>0.724638</td>\n    </tr>\n    <tr>\n      <th>10</th>\n      <td>PPV</td>\n      <td>0.715481</td>\n      <td>0.685714</td>\n      <td>1.000000</td>\n      <td>0.000000</td>\n      <td>0.720588</td>\n    </tr>\n    <tr>\n      <th>11</th>\n      <td>FNR</td>\n      <td>0.342308</td>\n      <td>0.400000</td>\n      <td>0.000000</td>\n      <td>1.000000</td>\n      <td>0.331818</td>\n    </tr>\n    <tr>\n      <th>12</th>\n      <td>FPR</td>\n      <td>0.253731</td>\n      <td>0.180328</td>\n      <td>0.000000</td>\n      <td>1.000000</td>\n      <td>0.275362</td>\n    </tr>\n    <tr>\n      <th>13</th>\n      <td>Accuracy</td>\n      <td>0.702652</td>\n      <td>0.732673</td>\n      <td>1.000000</td>\n      <td>0.000000</td>\n      <td>0.695550</td>\n    </tr>\n    <tr>\n      <th>14</th>\n      <td>F1</td>\n      <td>0.685371</td>\n      <td>0.640000</td>\n      <td>1.000000</td>\n      <td>0.000000</td>\n      <td>0.693396</td>\n    </tr>\n    <tr>\n      <th>15</th>\n      <td>Selection-Rate</td>\n      <td>0.452652</td>\n      <td>0.346535</td>\n      <td>0.324324</td>\n      <td>0.407407</td>\n      <td>0.477752</td>\n    </tr>\n    <tr>\n      <th>16</th>\n      <td>Positive-Rate</td>\n      <td>0.919231</td>\n      <td>0.875000</td>\n      <td>1.000000</td>\n      <td>0.687500</td>\n      <td>0.927273</td>\n    </tr>\n    <tr>\n      <th>17</th>\n      <td>Sample_Size</td>\n      <td>528.000000</td>\n      <td>101.000000</td>\n      <td>74.000000</td>\n      <td>27.000000</td>\n      <td>427.000000</td>\n    </tr>\n    <tr>\n      <th>0</th>\n      <td>Mean</td>\n      <td>0.526616</td>\n      <td>0.562885</td>\n      <td>0.578851</td>\n      <td>0.525097</td>\n      <td>0.518037</td>\n    </tr>\n    <tr>\n      <th>1</th>\n      <td>Std</td>\n      <td>0.064074</td>\n      <td>0.055298</td>\n      <td>0.052741</td>\n      <td>0.061351</td>\n      <td>0.066150</td>\n    </tr>\n  </tbody>\n</table>\n</div>"
     },
     "execution_count": 38,
     "metadata": {},
     "output_type": "execute_result"
    }
   ],
   "source": [
    "sample_model_metrics_df = multiple_run_metrics_dct[list(models_config.keys())[0]]\n",
    "sample_model_metrics_df[sample_model_metrics_df.columns[:6]].head(20)"
   ]
  },
  {
   "cell_type": "markdown",
   "id": "a7ff67e9",
   "metadata": {},
   "source": [
    "## Group Metrics Composition"
   ]
  },
  {
   "cell_type": "code",
   "execution_count": 39,
   "id": "f94a20dc",
   "metadata": {},
   "outputs": [],
   "source": [
    "models_metrics_dct = read_model_metric_dfs(SAVE_RESULTS_DIR_PATH, model_names=list(models_config.keys()))"
   ]
  },
  {
   "cell_type": "code",
   "execution_count": 40,
   "id": "b04d06cf",
   "metadata": {},
   "outputs": [],
   "source": [
    "metrics_composer = MetricsComposer(models_metrics_dct, config.sensitive_attributes_dct)"
   ]
  },
  {
   "cell_type": "markdown",
   "id": "e1a23ece",
   "metadata": {},
   "source": [
    "Compute composed metrics"
   ]
  },
  {
   "cell_type": "code",
   "execution_count": 41,
   "id": "be6ace22",
   "metadata": {},
   "outputs": [],
   "source": [
    "models_composed_metrics_df = metrics_composer.compose_metrics()"
   ]
  },
  {
   "cell_type": "code",
   "execution_count": 42,
   "id": "2326c129",
   "metadata": {},
   "outputs": [
    {
     "data": {
      "text/plain": "                           Metric       sex      race  sex&race  \\\n0              Equalized_Odds_TPR  0.152273  0.281008  0.372549   \n1              Equalized_Odds_FPR  0.059832  0.114977  0.116379   \n2              Equalized_Odds_FNR -0.152273 -0.281008 -0.372549   \n3                Disparate_Impact  1.098930  1.360771  1.359477   \n4   Statistical_Parity_Difference  0.084091  0.267395  0.269608   \n5                 Accuracy_Parity  0.018237  0.056400  0.089813   \n6           Label_Stability_Ratio  0.955201  0.967051  0.906661   \n7                      IQR_Parity  0.011284  0.009692  0.020932   \n8                      Std_Parity  0.008264  0.005659  0.012393   \n9                       Std_Ratio  1.142134  1.092229  1.221141   \n10                  Jitter_Parity  0.026249  0.021029  0.059037   \n11   Aleatoric_Uncertainty_Parity  0.002139  0.029012  0.045639   \n12     Overall_Uncertainty_Parity  0.004893  0.029398  0.048637   \n\n                Model_Name  \n0   DecisionTreeClassifier  \n1   DecisionTreeClassifier  \n2   DecisionTreeClassifier  \n3   DecisionTreeClassifier  \n4   DecisionTreeClassifier  \n5   DecisionTreeClassifier  \n6   DecisionTreeClassifier  \n7   DecisionTreeClassifier  \n8   DecisionTreeClassifier  \n9   DecisionTreeClassifier  \n10  DecisionTreeClassifier  \n11  DecisionTreeClassifier  \n12  DecisionTreeClassifier  ",
      "text/html": "<div>\n<style scoped>\n    .dataframe tbody tr th:only-of-type {\n        vertical-align: middle;\n    }\n\n    .dataframe tbody tr th {\n        vertical-align: top;\n    }\n\n    .dataframe thead th {\n        text-align: right;\n    }\n</style>\n<table border=\"1\" class=\"dataframe\">\n  <thead>\n    <tr style=\"text-align: right;\">\n      <th></th>\n      <th>Metric</th>\n      <th>sex</th>\n      <th>race</th>\n      <th>sex&amp;race</th>\n      <th>Model_Name</th>\n    </tr>\n  </thead>\n  <tbody>\n    <tr>\n      <th>0</th>\n      <td>Equalized_Odds_TPR</td>\n      <td>0.152273</td>\n      <td>0.281008</td>\n      <td>0.372549</td>\n      <td>DecisionTreeClassifier</td>\n    </tr>\n    <tr>\n      <th>1</th>\n      <td>Equalized_Odds_FPR</td>\n      <td>0.059832</td>\n      <td>0.114977</td>\n      <td>0.116379</td>\n      <td>DecisionTreeClassifier</td>\n    </tr>\n    <tr>\n      <th>2</th>\n      <td>Equalized_Odds_FNR</td>\n      <td>-0.152273</td>\n      <td>-0.281008</td>\n      <td>-0.372549</td>\n      <td>DecisionTreeClassifier</td>\n    </tr>\n    <tr>\n      <th>3</th>\n      <td>Disparate_Impact</td>\n      <td>1.098930</td>\n      <td>1.360771</td>\n      <td>1.359477</td>\n      <td>DecisionTreeClassifier</td>\n    </tr>\n    <tr>\n      <th>4</th>\n      <td>Statistical_Parity_Difference</td>\n      <td>0.084091</td>\n      <td>0.267395</td>\n      <td>0.269608</td>\n      <td>DecisionTreeClassifier</td>\n    </tr>\n    <tr>\n      <th>5</th>\n      <td>Accuracy_Parity</td>\n      <td>0.018237</td>\n      <td>0.056400</td>\n      <td>0.089813</td>\n      <td>DecisionTreeClassifier</td>\n    </tr>\n    <tr>\n      <th>6</th>\n      <td>Label_Stability_Ratio</td>\n      <td>0.955201</td>\n      <td>0.967051</td>\n      <td>0.906661</td>\n      <td>DecisionTreeClassifier</td>\n    </tr>\n    <tr>\n      <th>7</th>\n      <td>IQR_Parity</td>\n      <td>0.011284</td>\n      <td>0.009692</td>\n      <td>0.020932</td>\n      <td>DecisionTreeClassifier</td>\n    </tr>\n    <tr>\n      <th>8</th>\n      <td>Std_Parity</td>\n      <td>0.008264</td>\n      <td>0.005659</td>\n      <td>0.012393</td>\n      <td>DecisionTreeClassifier</td>\n    </tr>\n    <tr>\n      <th>9</th>\n      <td>Std_Ratio</td>\n      <td>1.142134</td>\n      <td>1.092229</td>\n      <td>1.221141</td>\n      <td>DecisionTreeClassifier</td>\n    </tr>\n    <tr>\n      <th>10</th>\n      <td>Jitter_Parity</td>\n      <td>0.026249</td>\n      <td>0.021029</td>\n      <td>0.059037</td>\n      <td>DecisionTreeClassifier</td>\n    </tr>\n    <tr>\n      <th>11</th>\n      <td>Aleatoric_Uncertainty_Parity</td>\n      <td>0.002139</td>\n      <td>0.029012</td>\n      <td>0.045639</td>\n      <td>DecisionTreeClassifier</td>\n    </tr>\n    <tr>\n      <th>12</th>\n      <td>Overall_Uncertainty_Parity</td>\n      <td>0.004893</td>\n      <td>0.029398</td>\n      <td>0.048637</td>\n      <td>DecisionTreeClassifier</td>\n    </tr>\n  </tbody>\n</table>\n</div>"
     },
     "execution_count": 42,
     "metadata": {},
     "output_type": "execute_result"
    }
   ],
   "source": [
    "models_composed_metrics_df.head(20)"
   ]
  },
  {
   "cell_type": "code",
   "execution_count": 42,
   "outputs": [],
   "source": [],
   "metadata": {
    "collapsed": false
   }
  }
 ],
 "metadata": {
  "kernelspec": {
   "display_name": "Python 3 (ipykernel)",
   "language": "python",
   "name": "python3"
  },
  "language_info": {
   "codemirror_mode": {
    "name": "ipython",
    "version": 3
   },
   "file_extension": ".py",
   "mimetype": "text/x-python",
   "name": "python",
   "nbconvert_exporter": "python",
   "pygments_lexer": "ipython3",
   "version": "3.8.10"
  }
 },
 "nbformat": 4,
 "nbformat_minor": 5
}
