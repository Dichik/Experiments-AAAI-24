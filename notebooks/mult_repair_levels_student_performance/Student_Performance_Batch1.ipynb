{
 "cells": [
  {
   "cell_type": "code",
   "execution_count": 1,
   "id": "7d1438c6",
   "metadata": {
    "ExecuteTime": {
     "end_time": "2023-11-21T13:35:55.437212Z",
     "start_time": "2023-11-21T13:35:55.410050Z"
    }
   },
   "outputs": [],
   "source": [
    "# !pip install -r ./requirements.txt"
   ]
  },
  {
   "cell_type": "code",
   "execution_count": 2,
   "id": "2f3a81cf",
   "metadata": {
    "ExecuteTime": {
     "end_time": "2023-11-21T13:35:55.437629Z",
     "start_time": "2023-11-21T13:35:55.413441Z"
    }
   },
   "outputs": [],
   "source": [
    "# !pip uninstall virny -y"
   ]
  },
  {
   "cell_type": "code",
   "execution_count": 3,
   "id": "463232bf",
   "metadata": {
    "ExecuteTime": {
     "end_time": "2023-11-21T13:35:55.437717Z",
     "start_time": "2023-11-21T13:35:55.413619Z"
    }
   },
   "outputs": [],
   "source": [
    "# Install using an HTTP link\n",
    "# !pip install git+https://github.com/DataResponsibly/Virny.git@development\n",
    "\n",
    "# Install using an SSH link\n",
    "# !pip install git+ssh://git@github.com/DataResponsibly/Virny.git@development"
   ]
  },
  {
   "cell_type": "code",
   "execution_count": 4,
   "id": "43d5f689",
   "metadata": {
    "ExecuteTime": {
     "end_time": "2023-11-21T13:35:55.437795Z",
     "start_time": "2023-11-21T13:35:55.417050Z"
    }
   },
   "outputs": [],
   "source": [
    "# !pip install aif360"
   ]
  },
  {
   "cell_type": "code",
   "execution_count": 5,
   "id": "75ef1d73",
   "metadata": {
    "ExecuteTime": {
     "end_time": "2023-11-21T13:35:55.437876Z",
     "start_time": "2023-11-21T13:35:55.419209Z"
    }
   },
   "outputs": [],
   "source": [
    "# !pip install BlackBoxAuditing==0.1.54"
   ]
  },
  {
   "cell_type": "code",
   "execution_count": 6,
   "id": "b986e53c",
   "metadata": {
    "ExecuteTime": {
     "end_time": "2023-11-21T13:35:56.351646Z",
     "start_time": "2023-11-21T13:35:55.424404Z"
    }
   },
   "outputs": [],
   "source": [
    "%matplotlib inline\n",
    "%load_ext autoreload\n",
    "%autoreload 2"
   ]
  },
  {
   "cell_type": "code",
   "execution_count": 7,
   "id": "1861607d",
   "metadata": {
    "ExecuteTime": {
     "end_time": "2023-11-21T13:35:56.362526Z",
     "start_time": "2023-11-21T13:35:56.349621Z"
    }
   },
   "outputs": [],
   "source": [
    "import os\n",
    "import warnings\n",
    "warnings.filterwarnings('ignore')\n",
    "os.environ[\"PYTHONWARNINGS\"] = \"ignore\""
   ]
  },
  {
   "cell_type": "code",
   "execution_count": 8,
   "id": "f7e74ec6",
   "metadata": {
    "ExecuteTime": {
     "end_time": "2023-11-21T13:35:56.388725Z",
     "start_time": "2023-11-21T13:35:56.360949Z"
    }
   },
   "outputs": [
    {
     "name": "stdout",
     "output_type": "stream",
     "text": [
      "Current location:  /Users/dmytroomelian/PycharmProjects/Experiments-AAAI-24\n"
     ]
    }
   ],
   "source": [
    "cur_folder_name = os.getcwd().split('/')[-1]\n",
    "if cur_folder_name != \"fairness-variance\":\n",
    "    os.chdir(\"../..\")\n",
    "\n",
    "print('Current location: ', os.getcwd())"
   ]
  },
  {
   "cell_type": "markdown",
   "id": "b5071ff7",
   "metadata": {},
   "source": [
    "## Import dependencies"
   ]
  },
  {
   "cell_type": "code",
   "execution_count": 9,
   "id": "442c943d",
   "metadata": {
    "ExecuteTime": {
     "end_time": "2023-11-21T13:35:57.851808Z",
     "start_time": "2023-11-21T13:35:56.380265Z"
    }
   },
   "outputs": [],
   "source": [
    "import os\n",
    "import copy\n",
    "import numpy as np\n",
    "\n",
    "from virny.utils.custom_initializers import create_config_obj\n",
    "\n",
    "from configs.constants import TEST_SET_FRACTION, EXPERIMENT_SEEDS"
   ]
  },
  {
   "cell_type": "code",
   "execution_count": 10,
   "outputs": [],
   "source": [
    "from configs.models_config_for_tuning import get_folktables_employment_models_params_for_tuning"
   ],
   "metadata": {
    "collapsed": false,
    "ExecuteTime": {
     "end_time": "2023-11-21T13:35:58.011809Z",
     "start_time": "2023-11-21T13:35:57.851122Z"
    }
   },
   "id": "e44ca14ff657a61f"
  },
  {
   "cell_type": "code",
   "execution_count": 11,
   "outputs": [
    {
     "name": "stderr",
     "output_type": "stream",
     "text": [
      "WARNING:root:No module named 'tempeh': LawSchoolGPADataset will be unavailable. To install, run:\n",
      "pip install 'aif360[LawSchoolGPA]'\n",
      "WARNING:root:No module named 'tensorflow': AdversarialDebiasing will be unavailable. To install, run:\n",
      "pip install 'aif360[AdversarialDebiasing]'\n",
      "WARNING:root:No module named 'tensorflow': AdversarialDebiasing will be unavailable. To install, run:\n",
      "pip install 'aif360[AdversarialDebiasing]'\n"
     ]
    }
   ],
   "source": [
    "from source.experiment_interface import run_exp_iter_with_disparate_impact"
   ],
   "metadata": {
    "collapsed": false,
    "ExecuteTime": {
     "end_time": "2023-11-21T13:35:58.686441Z",
     "start_time": "2023-11-21T13:35:58.012129Z"
    }
   },
   "id": "3fdb6c7a8ab335bf"
  },
  {
   "cell_type": "markdown",
   "id": "3318c8a5",
   "metadata": {},
   "source": [
    "## Define Input Variables"
   ]
  },
  {
   "cell_type": "code",
   "execution_count": 12,
   "id": "98235787",
   "metadata": {
    "ExecuteTime": {
     "end_time": "2023-11-21T13:35:58.718135Z",
     "start_time": "2023-11-21T13:35:58.689051Z"
    }
   },
   "outputs": [],
   "source": [
    "# ROOT_DIR = os.path.join(os.getcwd(), \"..\", \"..\")\n",
    "ROOT_DIR = os.getcwd()\n",
    "EXPERIMENT_NAME = 'mult_repair_levels_student_performance'\n",
    "DB_COLLECTION_NAME = 'exp_mult_repair_levels'\n",
    "SAVE_RESULTS_DIR_PATH = os.path.join(ROOT_DIR, 'results', EXPERIMENT_NAME)\n",
    "# FAIR_INTERVENTION_PARAMS_LST = [0.0, 0.1, 0.2, 0.3, 0.4, 0.5, 0.6, 0.7, 0.8, 0.9, 1.0]\n",
    "FAIR_INTERVENTION_PARAMS_LST = np.linspace(0, 50, 11)\n",
    "# FAIR_INTERVENTION_PARAMS_LST = [0.0]\n",
    "# FAIR_INTERVENTION_PARAMS_LST = [0.0, 0.2, 0.4, 0.6, 0.8, 1.0]\n",
    "# FAIR_INTERVENTION_PARAMS_LST = [0.0, 0.1, 0.2, 0.3, 0.4, 0.5]\n",
    "# FAIR_INTERVENTION_PARAMS_LST = [0.6, 0.7, 0.8, 0.9, 1.0]\n",
    "# FAIR_INTERVENTION_PARAMS_LST = [0.1]\n",
    "# FAIR_INTERVENTION_PARAMS_LST = [1, 2, 3, 4, 5, 6, 7, 8, 9, 10]\n",
    "# FAIR_INTERVENTION_PARAMS_LST = [1, 5, 10, 25, 50]\n",
    "#\n",
    "config_yaml_path = os.path.join(ROOT_DIR, 'notebooks', EXPERIMENT_NAME, 'student_performance_config.yaml')\n",
    "metrics_computation_config = create_config_obj(config_yaml_path=config_yaml_path)"
   ]
  },
  {
   "cell_type": "markdown",
   "id": "6caf325c",
   "metadata": {},
   "source": [
    "## Define a db writer and custom fields to insert into your database"
   ]
  },
  {
   "cell_type": "code",
   "execution_count": 13,
   "id": "096308fc",
   "metadata": {
    "ExecuteTime": {
     "end_time": "2023-11-21T13:35:58.748548Z",
     "start_time": "2023-11-21T13:35:58.719450Z"
    }
   },
   "outputs": [],
   "source": [
    "import os\n",
    "from dotenv import load_dotenv\n",
    "\n",
    "load_dotenv('./configs/secrets.env')\n",
    "os.getenv(\"DB_NAME\")"
   ]
  },
  {
   "cell_type": "code",
   "execution_count": 16,
   "id": "6f5d96ca",
   "metadata": {
    "ExecuteTime": {
     "end_time": "2023-11-21T13:39:11.530903Z",
     "start_time": "2023-11-21T13:39:11.338889Z"
    }
   },
   "outputs": [],
   "source": [
    "from source.utils.db_functions import connect_to_mongodb\n",
    "\n",
    "client, collection_obj, db_writer_func = connect_to_mongodb(DB_COLLECTION_NAME)"
   ]
  },
  {
   "cell_type": "code",
   "execution_count": 17,
   "id": "e809d2d4",
   "metadata": {
    "ExecuteTime": {
     "end_time": "2023-11-21T13:39:13.169961Z",
     "start_time": "2023-11-21T13:39:13.137839Z"
    }
   },
   "outputs": [
    {
     "name": "stdout",
     "output_type": "stream",
     "text": [
      "Current session uuid:  ee771c1d-f6ff-4267-a351-7d02ea98b5bb\n"
     ]
    }
   ],
   "source": [
    "import uuid\n",
    "\n",
    "custom_table_fields_dct = {\n",
    "    'session_uuid': str(uuid.uuid4()),\n",
    "    # 'session_uuid': '6f0b4970-ea21-4e40-a946-5fe50a4a3565', (LAST)\n",
    "    # 'session_uuid': '91249614-e7df-4b80-8c4e-110ef587b414',\n",
    "    # 'session_uuid': 'a10b8c6b-a184-4e02-a873-8240f5c798ed', # lfr test #1 positive\n",
    "    # 'session_uuid': '27fd2ec6-5813-4516-a411-992936b50ea1',\n",
    "    # 'session_uuid': '090abd0e-ab4d-4db4-a97b-60ed17c0a814', # test same uuid to see line bands\n",
    "    # 'session_uuid': '4cfe1f1a-acee-4f52-987f-9fa64345ca4d',\n",
    "    # 'session_uuid': 'ef8d0900-9015-42bc-a3d1-f3ae02155b5f',\n",
    "}\n",
    "print('Current session uuid: ', custom_table_fields_dct['session_uuid'])"
   ]
  },
  {
   "cell_type": "markdown",
   "id": "f1f5e2fc",
   "metadata": {},
   "source": [
    "## Initialize custom objects"
   ]
  },
  {
   "cell_type": "code",
   "execution_count": 18,
   "outputs": [],
   "source": [
    "class Config:\n",
    "  file_name = './data/student_performance/student-mat.csv'"
   ],
   "metadata": {
    "collapsed": false,
    "ExecuteTime": {
     "end_time": "2023-11-21T13:39:15.442243Z",
     "start_time": "2023-11-21T13:39:15.408943Z"
    }
   },
   "id": "5183c871a7ceffe4"
  },
  {
   "cell_type": "code",
   "execution_count": 19,
   "id": "a00297e9",
   "metadata": {
    "ExecuteTime": {
     "end_time": "2023-11-21T13:39:15.906310Z",
     "start_time": "2023-11-21T13:39:15.835930Z"
    }
   },
   "outputs": [
    {
     "data": {
      "text/plain": "   age  Medu  Fedu  traveltime  studytime  failures  famrel  freetime  goout  \\\n0   18     4     4           2          2         0       4         3      4   \n1   17     1     1           1          2         0       5         3      3   \n2   15     1     1           1          2         3       4         3      2   \n3   15     4     2           1          3         0       3         2      2   \n4   16     3     3           1          2         0       4         3      2   \n\n   Dalc  Walc  health  absences     Mjob      Fjob  reason guardian sex  \n0     1     1       3         6  at_home   teacher  course   mother   F  \n1     1     1       3         4  at_home     other  course   father   F  \n2     2     3       3        10  at_home     other   other   mother   F  \n3     1     1       5         2   health  services    home   mother   F  \n4     1     2       5         4    other     other    home   father   F  ",
      "text/html": "<div>\n<style scoped>\n    .dataframe tbody tr th:only-of-type {\n        vertical-align: middle;\n    }\n\n    .dataframe tbody tr th {\n        vertical-align: top;\n    }\n\n    .dataframe thead th {\n        text-align: right;\n    }\n</style>\n<table border=\"1\" class=\"dataframe\">\n  <thead>\n    <tr style=\"text-align: right;\">\n      <th></th>\n      <th>age</th>\n      <th>Medu</th>\n      <th>Fedu</th>\n      <th>traveltime</th>\n      <th>studytime</th>\n      <th>failures</th>\n      <th>famrel</th>\n      <th>freetime</th>\n      <th>goout</th>\n      <th>Dalc</th>\n      <th>Walc</th>\n      <th>health</th>\n      <th>absences</th>\n      <th>Mjob</th>\n      <th>Fjob</th>\n      <th>reason</th>\n      <th>guardian</th>\n      <th>sex</th>\n    </tr>\n  </thead>\n  <tbody>\n    <tr>\n      <th>0</th>\n      <td>18</td>\n      <td>4</td>\n      <td>4</td>\n      <td>2</td>\n      <td>2</td>\n      <td>0</td>\n      <td>4</td>\n      <td>3</td>\n      <td>4</td>\n      <td>1</td>\n      <td>1</td>\n      <td>3</td>\n      <td>6</td>\n      <td>at_home</td>\n      <td>teacher</td>\n      <td>course</td>\n      <td>mother</td>\n      <td>F</td>\n    </tr>\n    <tr>\n      <th>1</th>\n      <td>17</td>\n      <td>1</td>\n      <td>1</td>\n      <td>1</td>\n      <td>2</td>\n      <td>0</td>\n      <td>5</td>\n      <td>3</td>\n      <td>3</td>\n      <td>1</td>\n      <td>1</td>\n      <td>3</td>\n      <td>4</td>\n      <td>at_home</td>\n      <td>other</td>\n      <td>course</td>\n      <td>father</td>\n      <td>F</td>\n    </tr>\n    <tr>\n      <th>2</th>\n      <td>15</td>\n      <td>1</td>\n      <td>1</td>\n      <td>1</td>\n      <td>2</td>\n      <td>3</td>\n      <td>4</td>\n      <td>3</td>\n      <td>2</td>\n      <td>2</td>\n      <td>3</td>\n      <td>3</td>\n      <td>10</td>\n      <td>at_home</td>\n      <td>other</td>\n      <td>other</td>\n      <td>mother</td>\n      <td>F</td>\n    </tr>\n    <tr>\n      <th>3</th>\n      <td>15</td>\n      <td>4</td>\n      <td>2</td>\n      <td>1</td>\n      <td>3</td>\n      <td>0</td>\n      <td>3</td>\n      <td>2</td>\n      <td>2</td>\n      <td>1</td>\n      <td>1</td>\n      <td>5</td>\n      <td>2</td>\n      <td>health</td>\n      <td>services</td>\n      <td>home</td>\n      <td>mother</td>\n      <td>F</td>\n    </tr>\n    <tr>\n      <th>4</th>\n      <td>16</td>\n      <td>3</td>\n      <td>3</td>\n      <td>1</td>\n      <td>2</td>\n      <td>0</td>\n      <td>4</td>\n      <td>3</td>\n      <td>2</td>\n      <td>1</td>\n      <td>2</td>\n      <td>5</td>\n      <td>4</td>\n      <td>other</td>\n      <td>other</td>\n      <td>home</td>\n      <td>father</td>\n      <td>F</td>\n    </tr>\n  </tbody>\n</table>\n</div>"
     },
     "execution_count": 19,
     "metadata": {},
     "output_type": "execute_result"
    }
   ],
   "source": [
    "from notebooks.mult_repair_levels_student_performance.StudentPerformanceDataset import StudentPerformanceDataset\n",
    "\n",
    "data_loader = StudentPerformanceDataset(Config.file_name)\n",
    "data_loader.X_data.head()"
   ]
  },
  {
   "cell_type": "code",
   "execution_count": 20,
   "id": "f75cf672",
   "metadata": {
    "ExecuteTime": {
     "end_time": "2023-11-21T13:39:17.079178Z",
     "start_time": "2023-11-21T13:39:17.038402Z"
    }
   },
   "outputs": [],
   "source": [
    "# Configs for an experiment iteration\n",
    "exp_iter_num = 2\n",
    "experiment_seed = EXPERIMENT_SEEDS[exp_iter_num - 1]\n",
    "custom_table_fields_dct['experiment_iteration'] = f'Exp_iter_{exp_iter_num}'\n",
    "\n",
    "exp_iter_data_loader = copy.deepcopy(data_loader)  # Add deepcopy to avoid data leakage\n",
    "models_params_for_tuning = get_folktables_employment_models_params_for_tuning(experiment_seed)"
   ]
  },
  {
   "cell_type": "code",
   "execution_count": 21,
   "id": "cdbbac31",
   "metadata": {
    "ExecuteTime": {
     "end_time": "2023-11-21T13:39:19.434854Z",
     "start_time": "2023-11-21T13:39:18.777447Z"
    }
   },
   "outputs": [
    {
     "name": "stderr",
     "output_type": "stream",
     "text": [
      "2023-11-21 15:39:18 experiment_interface.py INFO    : Start an experiment iteration for the following custom params:\n"
     ]
    },
    {
     "name": "stdout",
     "output_type": "stream",
     "text": [
      "{'dataset_split_seed': 200,\n",
      " 'experiment_iteration': 'Exp_iter_2',\n",
      " 'fair_intervention_params_lst': '[ 0.  5. 10. 15. 20. 25. 30. 35. 40. 45. '\n",
      "                                 '50.]',\n",
      " 'model_init_seed': 200,\n",
      " 'session_uuid': 'ee771c1d-f6ff-4267-a351-7d02ea98b5bb'}\n"
     ]
    },
    {
     "name": "stderr",
     "output_type": "stream",
     "text": [
      "2023-11-21 15:39:18 experiment_interface.py INFO    : The dataset is preprocessed\n"
     ]
    },
    {
     "name": "stdout",
     "output_type": "stream",
     "text": [
      "Top indexes of an X_test in a base flow dataset:  Int64Index([268, 360,  50, 378,  92, 365, 217, 122, 213,  56, 211, 235,  16,\n",
      "            166, 371,  49, 250, 315, 265, 150],\n",
      "           dtype='int64')\n",
      "Top indexes of an y_test in a base flow dataset:  Int64Index([268, 360,  50, 378,  92, 365, 217, 122, 213,  56, 211, 235,  16,\n",
      "            166, 371,  49, 250, 315, 265, 150],\n",
      "           dtype='int64')\n"
     ]
    },
    {
     "data": {
      "text/plain": "Multiple alphas:   0%|          | 0/11 [00:00<?, ?it/s]",
      "application/vnd.jupyter.widget-view+json": {
       "version_major": 2,
       "version_minor": 0,
       "model_id": "9d66192569334ce9b357c1399745dc1d"
      }
     },
     "metadata": {},
     "output_type": "display_data"
    },
    {
     "name": "stdout",
     "output_type": "stream",
     "text": [
      "intervention_param:  0.0\n"
     ]
    },
    {
     "ename": "KeyError",
     "evalue": "\"None of [Index(['RACE'], dtype='object')] are in the [columns]\"",
     "output_type": "error",
     "traceback": [
      "\u001B[0;31m---------------------------------------------------------------------------\u001B[0m",
      "\u001B[0;31mKeyError\u001B[0m                                  Traceback (most recent call last)",
      "Cell \u001B[0;32mIn[21], line 1\u001B[0m\n\u001B[0;32m----> 1\u001B[0m \u001B[43mrun_exp_iter_with_disparate_impact\u001B[49m\u001B[43m(\u001B[49m\u001B[43mdata_loader\u001B[49m\u001B[38;5;241;43m=\u001B[39;49m\u001B[43mexp_iter_data_loader\u001B[49m\u001B[43m,\u001B[49m\n\u001B[1;32m      2\u001B[0m \u001B[43m                                   \u001B[49m\u001B[43mexperiment_seed\u001B[49m\u001B[38;5;241;43m=\u001B[39;49m\u001B[43mexperiment_seed\u001B[49m\u001B[43m,\u001B[49m\n\u001B[1;32m      3\u001B[0m \u001B[43m                                   \u001B[49m\u001B[43mtest_set_fraction\u001B[49m\u001B[38;5;241;43m=\u001B[39;49m\u001B[43mTEST_SET_FRACTION\u001B[49m\u001B[43m,\u001B[49m\n\u001B[1;32m      4\u001B[0m \u001B[43m                                   \u001B[49m\u001B[43mdb_writer_func\u001B[49m\u001B[38;5;241;43m=\u001B[39;49m\u001B[43mdb_writer_func\u001B[49m\u001B[43m,\u001B[49m\n\u001B[1;32m      5\u001B[0m \u001B[43m                                   \u001B[49m\u001B[43mfair_intervention_params_lst\u001B[49m\u001B[38;5;241;43m=\u001B[39;49m\u001B[43mFAIR_INTERVENTION_PARAMS_LST\u001B[49m\u001B[43m,\u001B[49m\n\u001B[1;32m      6\u001B[0m \u001B[43m                                   \u001B[49m\u001B[43mmodels_params_for_tuning\u001B[49m\u001B[38;5;241;43m=\u001B[39;49m\u001B[43mmodels_params_for_tuning\u001B[49m\u001B[43m,\u001B[49m\n\u001B[1;32m      7\u001B[0m \u001B[43m                                   \u001B[49m\u001B[43mmetrics_computation_config\u001B[49m\u001B[38;5;241;43m=\u001B[39;49m\u001B[43mmetrics_computation_config\u001B[49m\u001B[43m,\u001B[49m\n\u001B[1;32m      8\u001B[0m \u001B[43m                                   \u001B[49m\u001B[43mcustom_table_fields_dct\u001B[49m\u001B[38;5;241;43m=\u001B[39;49m\u001B[43mcustom_table_fields_dct\u001B[49m\u001B[43m,\u001B[49m\n\u001B[1;32m      9\u001B[0m \u001B[43m                                   \u001B[49m\u001B[43mwith_tuning\u001B[49m\u001B[38;5;241;43m=\u001B[39;49m\u001B[38;5;28;43;01mTrue\u001B[39;49;00m\u001B[43m,\u001B[49m\n\u001B[1;32m     10\u001B[0m \u001B[43m                                   \u001B[49m\u001B[38;5;66;43;03m# with_tuning=False,\u001B[39;49;00m\n\u001B[1;32m     11\u001B[0m \u001B[43m                                   \u001B[49m\u001B[38;5;66;43;03m# tuned_params_df_paths=tuned_params_df_paths,\u001B[39;49;00m\n\u001B[1;32m     12\u001B[0m \u001B[43m                                   \u001B[49m\u001B[43msave_results_dir_path\u001B[49m\u001B[38;5;241;43m=\u001B[39;49m\u001B[43mSAVE_RESULTS_DIR_PATH\u001B[49m\u001B[43m,\u001B[49m\n\u001B[1;32m     13\u001B[0m \u001B[43m                                   \u001B[49m\u001B[43mverbose\u001B[49m\u001B[38;5;241;43m=\u001B[39;49m\u001B[38;5;28;43;01mTrue\u001B[39;49;00m\u001B[43m,\u001B[49m\n\u001B[1;32m     14\u001B[0m \u001B[43m                                   \u001B[49m\u001B[43mdataset_name\u001B[49m\u001B[38;5;241;43m=\u001B[39;49m\u001B[38;5;124;43m'\u001B[39;49m\u001B[38;5;124;43mStudentPerformance\u001B[39;49m\u001B[38;5;124;43m'\u001B[39;49m\u001B[43m)\u001B[49m\n",
      "File \u001B[0;32m~/PycharmProjects/Experiments-AAAI-24/source/experiment_interface.py:186\u001B[0m, in \u001B[0;36mrun_exp_iter_with_disparate_impact\u001B[0;34m(data_loader, experiment_seed, test_set_fraction, db_writer_func, fair_intervention_params_lst, models_params_for_tuning, metrics_computation_config, custom_table_fields_dct, with_tuning, save_results_dir_path, tuned_params_df_paths, num_folds_for_tuning, verbose, dataset_name)\u001B[0m\n\u001B[1;32m    183\u001B[0m custom_table_fields_dct[\u001B[38;5;124m'\u001B[39m\u001B[38;5;124mintervention_param\u001B[39m\u001B[38;5;124m'\u001B[39m] \u001B[38;5;241m=\u001B[39m intervention_param\n\u001B[1;32m    185\u001B[0m \u001B[38;5;66;03m# cur_base_flow_dataset = remove_disparate_impact(base_flow_dataset, alpha=intervention_param)\u001B[39;00m\n\u001B[0;32m--> 186\u001B[0m cur_base_flow_dataset \u001B[38;5;241m=\u001B[39m \u001B[43mlfr\u001B[49m\u001B[43m(\u001B[49m\u001B[43mbase_flow_dataset\u001B[49m\u001B[43m,\u001B[49m\u001B[43m \u001B[49m\u001B[43minter_param\u001B[49m\u001B[38;5;241;43m=\u001B[39;49m\u001B[43mintervention_param\u001B[49m\u001B[43m)\u001B[49m\n\u001B[1;32m    187\u001B[0m \u001B[38;5;66;03m# display(cur_base_flow_dataset.X_train_val)\u001B[39;00m\n\u001B[1;32m    188\u001B[0m \u001B[38;5;66;03m# display(cur_base_flow_dataset.X_test)\u001B[39;00m\n\u001B[1;32m    189\u001B[0m \u001B[38;5;66;03m#\u001B[39;00m\n\u001B[0;32m   (...)\u001B[0m\n\u001B[1;32m    203\u001B[0m \n\u001B[1;32m    204\u001B[0m \u001B[38;5;66;03m# Tune model parameters if needed\u001B[39;00m\n\u001B[1;32m    205\u001B[0m \u001B[38;5;28;01mif\u001B[39;00m with_tuning:\n\u001B[1;32m    206\u001B[0m     \u001B[38;5;66;03m# Tune models and create a models config for metrics computation\u001B[39;00m\n",
      "File \u001B[0;32m~/PycharmProjects/Experiments-AAAI-24/source/preprocessing.py:183\u001B[0m, in \u001B[0;36mlfr\u001B[0;34m(init_base_flow_dataset, inter_param)\u001B[0m\n\u001B[1;32m    180\u001B[0m privileged_group \u001B[38;5;241m=\u001B[39m [{\u001B[38;5;124m'\u001B[39m\u001B[38;5;124mRACE\u001B[39m\u001B[38;5;124m'\u001B[39m: \u001B[38;5;241m1\u001B[39m}]\n\u001B[1;32m    181\u001B[0m unprivileged_group \u001B[38;5;241m=\u001B[39m [{\u001B[38;5;124m'\u001B[39m\u001B[38;5;124mRACE\u001B[39m\u001B[38;5;124m'\u001B[39m: \u001B[38;5;241m0\u001B[39m}]\n\u001B[0;32m--> 183\u001B[0m train_binary_dataset \u001B[38;5;241m=\u001B[39m \u001B[43mBinaryLabelDataset\u001B[49m\u001B[43m(\u001B[49m\u001B[43mdf\u001B[49m\u001B[38;5;241;43m=\u001B[39;49m\u001B[43mtrain_df\u001B[49m\u001B[43m,\u001B[49m\n\u001B[1;32m    184\u001B[0m \u001B[43m                                          \u001B[49m\u001B[43mlabel_names\u001B[49m\u001B[38;5;241;43m=\u001B[39;49m\u001B[43m[\u001B[49m\u001B[43mbase_flow_dataset\u001B[49m\u001B[38;5;241;43m.\u001B[39;49m\u001B[43mtarget\u001B[49m\u001B[43m]\u001B[49m\u001B[43m,\u001B[49m\n\u001B[1;32m    185\u001B[0m \u001B[43m                                          \u001B[49m\u001B[43mprotected_attribute_names\u001B[49m\u001B[38;5;241;43m=\u001B[39;49m\u001B[43m[\u001B[49m\u001B[43msensitive_attribute\u001B[49m\u001B[43m]\u001B[49m\u001B[43m,\u001B[49m\n\u001B[1;32m    186\u001B[0m \u001B[43m                                          \u001B[49m\u001B[43mfavorable_label\u001B[49m\u001B[38;5;241;43m=\u001B[39;49m\u001B[38;5;241;43m1\u001B[39;49m\u001B[43m,\u001B[49m\n\u001B[1;32m    187\u001B[0m \u001B[43m                                          \u001B[49m\u001B[43munfavorable_label\u001B[49m\u001B[38;5;241;43m=\u001B[39;49m\u001B[38;5;241;43m0\u001B[39;49m\u001B[43m)\u001B[49m\n\u001B[1;32m    188\u001B[0m test_binary_dataset \u001B[38;5;241m=\u001B[39m BinaryLabelDataset(df\u001B[38;5;241m=\u001B[39mtest_df,\n\u001B[1;32m    189\u001B[0m                                          label_names\u001B[38;5;241m=\u001B[39m[base_flow_dataset\u001B[38;5;241m.\u001B[39mtarget],\n\u001B[1;32m    190\u001B[0m                                          protected_attribute_names\u001B[38;5;241m=\u001B[39m[sensitive_attribute],\n\u001B[1;32m    191\u001B[0m                                          favorable_label\u001B[38;5;241m=\u001B[39m\u001B[38;5;241m1\u001B[39m,\n\u001B[1;32m    192\u001B[0m                                          unfavorable_label\u001B[38;5;241m=\u001B[39m\u001B[38;5;241m0\u001B[39m)\n\u001B[1;32m    194\u001B[0m \u001B[38;5;28;01mif\u001B[39;00m inter_param \u001B[38;5;241m!=\u001B[39m \u001B[38;5;241m0.0\u001B[39m:\n\u001B[1;32m    195\u001B[0m     \u001B[38;5;66;03m# lfr = LFR(unprivileged_group, privileged_group, Ax=10, Ay=0.01, Az=Az)\u001B[39;00m\n",
      "File \u001B[0;32m~/PycharmProjects/Experiments-AAAI-24/virny_venv/lib/python3.9/site-packages/aif360/datasets/binary_label_dataset.py:21\u001B[0m, in \u001B[0;36mBinaryLabelDataset.__init__\u001B[0;34m(self, favorable_label, unfavorable_label, **kwargs)\u001B[0m\n\u001B[1;32m     18\u001B[0m \u001B[38;5;28mself\u001B[39m\u001B[38;5;241m.\u001B[39mfavorable_label \u001B[38;5;241m=\u001B[39m \u001B[38;5;28mfloat\u001B[39m(favorable_label)\n\u001B[1;32m     19\u001B[0m \u001B[38;5;28mself\u001B[39m\u001B[38;5;241m.\u001B[39munfavorable_label \u001B[38;5;241m=\u001B[39m \u001B[38;5;28mfloat\u001B[39m(unfavorable_label)\n\u001B[0;32m---> 21\u001B[0m \u001B[38;5;28;43msuper\u001B[39;49m\u001B[43m(\u001B[49m\u001B[43mBinaryLabelDataset\u001B[49m\u001B[43m,\u001B[49m\u001B[43m \u001B[49m\u001B[38;5;28;43mself\u001B[39;49m\u001B[43m)\u001B[49m\u001B[38;5;241;43m.\u001B[39;49m\u001B[38;5;21;43m__init__\u001B[39;49m\u001B[43m(\u001B[49m\u001B[38;5;241;43m*\u001B[39;49m\u001B[38;5;241;43m*\u001B[39;49m\u001B[43mkwargs\u001B[49m\u001B[43m)\u001B[49m\n",
      "File \u001B[0;32m~/PycharmProjects/Experiments-AAAI-24/virny_venv/lib/python3.9/site-packages/aif360/datasets/structured_dataset.py:119\u001B[0m, in \u001B[0;36mStructuredDataset.__init__\u001B[0;34m(self, df, label_names, protected_attribute_names, instance_weights_name, scores_names, unprivileged_protected_attributes, privileged_protected_attributes, metadata)\u001B[0m\n\u001B[1;32m    116\u001B[0m \u001B[38;5;28;01melse\u001B[39;00m:\n\u001B[1;32m    117\u001B[0m     \u001B[38;5;28mself\u001B[39m\u001B[38;5;241m.\u001B[39mscores \u001B[38;5;241m=\u001B[39m \u001B[38;5;28mself\u001B[39m\u001B[38;5;241m.\u001B[39mlabels\u001B[38;5;241m.\u001B[39mcopy()\n\u001B[0;32m--> 119\u001B[0m df_prot \u001B[38;5;241m=\u001B[39m \u001B[43mdf\u001B[49m\u001B[38;5;241;43m.\u001B[39;49m\u001B[43mloc\u001B[49m\u001B[43m[\u001B[49m\u001B[43m:\u001B[49m\u001B[43m,\u001B[49m\u001B[43m \u001B[49m\u001B[43mprotected_attribute_names\u001B[49m\u001B[43m]\u001B[49m\n\u001B[1;32m    120\u001B[0m \u001B[38;5;28mself\u001B[39m\u001B[38;5;241m.\u001B[39mprotected_attribute_names \u001B[38;5;241m=\u001B[39m df_prot\u001B[38;5;241m.\u001B[39mcolumns\u001B[38;5;241m.\u001B[39mastype(\u001B[38;5;28mstr\u001B[39m)\u001B[38;5;241m.\u001B[39mtolist()\n\u001B[1;32m    121\u001B[0m \u001B[38;5;28mself\u001B[39m\u001B[38;5;241m.\u001B[39mprotected_attributes \u001B[38;5;241m=\u001B[39m df_prot\u001B[38;5;241m.\u001B[39mvalues\u001B[38;5;241m.\u001B[39mcopy()\n",
      "File \u001B[0;32m~/PycharmProjects/Experiments-AAAI-24/virny_venv/lib/python3.9/site-packages/pandas/core/indexing.py:1067\u001B[0m, in \u001B[0;36m_LocationIndexer.__getitem__\u001B[0;34m(self, key)\u001B[0m\n\u001B[1;32m   1065\u001B[0m     \u001B[38;5;28;01mif\u001B[39;00m \u001B[38;5;28mself\u001B[39m\u001B[38;5;241m.\u001B[39m_is_scalar_access(key):\n\u001B[1;32m   1066\u001B[0m         \u001B[38;5;28;01mreturn\u001B[39;00m \u001B[38;5;28mself\u001B[39m\u001B[38;5;241m.\u001B[39mobj\u001B[38;5;241m.\u001B[39m_get_value(\u001B[38;5;241m*\u001B[39mkey, takeable\u001B[38;5;241m=\u001B[39m\u001B[38;5;28mself\u001B[39m\u001B[38;5;241m.\u001B[39m_takeable)\n\u001B[0;32m-> 1067\u001B[0m     \u001B[38;5;28;01mreturn\u001B[39;00m \u001B[38;5;28;43mself\u001B[39;49m\u001B[38;5;241;43m.\u001B[39;49m\u001B[43m_getitem_tuple\u001B[49m\u001B[43m(\u001B[49m\u001B[43mkey\u001B[49m\u001B[43m)\u001B[49m\n\u001B[1;32m   1068\u001B[0m \u001B[38;5;28;01melse\u001B[39;00m:\n\u001B[1;32m   1069\u001B[0m     \u001B[38;5;66;03m# we by definition only have the 0th axis\u001B[39;00m\n\u001B[1;32m   1070\u001B[0m     axis \u001B[38;5;241m=\u001B[39m \u001B[38;5;28mself\u001B[39m\u001B[38;5;241m.\u001B[39maxis \u001B[38;5;129;01mor\u001B[39;00m \u001B[38;5;241m0\u001B[39m\n",
      "File \u001B[0;32m~/PycharmProjects/Experiments-AAAI-24/virny_venv/lib/python3.9/site-packages/pandas/core/indexing.py:1256\u001B[0m, in \u001B[0;36m_LocIndexer._getitem_tuple\u001B[0;34m(self, tup)\u001B[0m\n\u001B[1;32m   1253\u001B[0m \u001B[38;5;28;01mif\u001B[39;00m \u001B[38;5;28mself\u001B[39m\u001B[38;5;241m.\u001B[39m_multi_take_opportunity(tup):\n\u001B[1;32m   1254\u001B[0m     \u001B[38;5;28;01mreturn\u001B[39;00m \u001B[38;5;28mself\u001B[39m\u001B[38;5;241m.\u001B[39m_multi_take(tup)\n\u001B[0;32m-> 1256\u001B[0m \u001B[38;5;28;01mreturn\u001B[39;00m \u001B[38;5;28;43mself\u001B[39;49m\u001B[38;5;241;43m.\u001B[39;49m\u001B[43m_getitem_tuple_same_dim\u001B[49m\u001B[43m(\u001B[49m\u001B[43mtup\u001B[49m\u001B[43m)\u001B[49m\n",
      "File \u001B[0;32m~/PycharmProjects/Experiments-AAAI-24/virny_venv/lib/python3.9/site-packages/pandas/core/indexing.py:924\u001B[0m, in \u001B[0;36m_LocationIndexer._getitem_tuple_same_dim\u001B[0;34m(self, tup)\u001B[0m\n\u001B[1;32m    921\u001B[0m \u001B[38;5;28;01mif\u001B[39;00m com\u001B[38;5;241m.\u001B[39mis_null_slice(key):\n\u001B[1;32m    922\u001B[0m     \u001B[38;5;28;01mcontinue\u001B[39;00m\n\u001B[0;32m--> 924\u001B[0m retval \u001B[38;5;241m=\u001B[39m \u001B[38;5;28;43mgetattr\u001B[39;49m\u001B[43m(\u001B[49m\u001B[43mretval\u001B[49m\u001B[43m,\u001B[49m\u001B[43m \u001B[49m\u001B[38;5;28;43mself\u001B[39;49m\u001B[38;5;241;43m.\u001B[39;49m\u001B[43mname\u001B[49m\u001B[43m)\u001B[49m\u001B[38;5;241;43m.\u001B[39;49m\u001B[43m_getitem_axis\u001B[49m\u001B[43m(\u001B[49m\u001B[43mkey\u001B[49m\u001B[43m,\u001B[49m\u001B[43m \u001B[49m\u001B[43maxis\u001B[49m\u001B[38;5;241;43m=\u001B[39;49m\u001B[43mi\u001B[49m\u001B[43m)\u001B[49m\n\u001B[1;32m    925\u001B[0m \u001B[38;5;66;03m# We should never have retval.ndim < self.ndim, as that should\u001B[39;00m\n\u001B[1;32m    926\u001B[0m \u001B[38;5;66;03m#  be handled by the _getitem_lowerdim call above.\u001B[39;00m\n\u001B[1;32m    927\u001B[0m \u001B[38;5;28;01massert\u001B[39;00m retval\u001B[38;5;241m.\u001B[39mndim \u001B[38;5;241m==\u001B[39m \u001B[38;5;28mself\u001B[39m\u001B[38;5;241m.\u001B[39mndim\n",
      "File \u001B[0;32m~/PycharmProjects/Experiments-AAAI-24/virny_venv/lib/python3.9/site-packages/pandas/core/indexing.py:1301\u001B[0m, in \u001B[0;36m_LocIndexer._getitem_axis\u001B[0;34m(self, key, axis)\u001B[0m\n\u001B[1;32m   1298\u001B[0m     \u001B[38;5;28;01mif\u001B[39;00m \u001B[38;5;28mhasattr\u001B[39m(key, \u001B[38;5;124m\"\u001B[39m\u001B[38;5;124mndim\u001B[39m\u001B[38;5;124m\"\u001B[39m) \u001B[38;5;129;01mand\u001B[39;00m key\u001B[38;5;241m.\u001B[39mndim \u001B[38;5;241m>\u001B[39m \u001B[38;5;241m1\u001B[39m:\n\u001B[1;32m   1299\u001B[0m         \u001B[38;5;28;01mraise\u001B[39;00m \u001B[38;5;167;01mValueError\u001B[39;00m(\u001B[38;5;124m\"\u001B[39m\u001B[38;5;124mCannot index with multidimensional key\u001B[39m\u001B[38;5;124m\"\u001B[39m)\n\u001B[0;32m-> 1301\u001B[0m     \u001B[38;5;28;01mreturn\u001B[39;00m \u001B[38;5;28;43mself\u001B[39;49m\u001B[38;5;241;43m.\u001B[39;49m\u001B[43m_getitem_iterable\u001B[49m\u001B[43m(\u001B[49m\u001B[43mkey\u001B[49m\u001B[43m,\u001B[49m\u001B[43m \u001B[49m\u001B[43maxis\u001B[49m\u001B[38;5;241;43m=\u001B[39;49m\u001B[43maxis\u001B[49m\u001B[43m)\u001B[49m\n\u001B[1;32m   1303\u001B[0m \u001B[38;5;66;03m# nested tuple slicing\u001B[39;00m\n\u001B[1;32m   1304\u001B[0m \u001B[38;5;28;01mif\u001B[39;00m is_nested_tuple(key, labels):\n",
      "File \u001B[0;32m~/PycharmProjects/Experiments-AAAI-24/virny_venv/lib/python3.9/site-packages/pandas/core/indexing.py:1239\u001B[0m, in \u001B[0;36m_LocIndexer._getitem_iterable\u001B[0;34m(self, key, axis)\u001B[0m\n\u001B[1;32m   1236\u001B[0m \u001B[38;5;28mself\u001B[39m\u001B[38;5;241m.\u001B[39m_validate_key(key, axis)\n\u001B[1;32m   1238\u001B[0m \u001B[38;5;66;03m# A collection of keys\u001B[39;00m\n\u001B[0;32m-> 1239\u001B[0m keyarr, indexer \u001B[38;5;241m=\u001B[39m \u001B[38;5;28;43mself\u001B[39;49m\u001B[38;5;241;43m.\u001B[39;49m\u001B[43m_get_listlike_indexer\u001B[49m\u001B[43m(\u001B[49m\u001B[43mkey\u001B[49m\u001B[43m,\u001B[49m\u001B[43m \u001B[49m\u001B[43maxis\u001B[49m\u001B[43m)\u001B[49m\n\u001B[1;32m   1240\u001B[0m \u001B[38;5;28;01mreturn\u001B[39;00m \u001B[38;5;28mself\u001B[39m\u001B[38;5;241m.\u001B[39mobj\u001B[38;5;241m.\u001B[39m_reindex_with_indexers(\n\u001B[1;32m   1241\u001B[0m     {axis: [keyarr, indexer]}, copy\u001B[38;5;241m=\u001B[39m\u001B[38;5;28;01mTrue\u001B[39;00m, allow_dups\u001B[38;5;241m=\u001B[39m\u001B[38;5;28;01mTrue\u001B[39;00m\n\u001B[1;32m   1242\u001B[0m )\n",
      "File \u001B[0;32m~/PycharmProjects/Experiments-AAAI-24/virny_venv/lib/python3.9/site-packages/pandas/core/indexing.py:1432\u001B[0m, in \u001B[0;36m_LocIndexer._get_listlike_indexer\u001B[0;34m(self, key, axis)\u001B[0m\n\u001B[1;32m   1429\u001B[0m ax \u001B[38;5;241m=\u001B[39m \u001B[38;5;28mself\u001B[39m\u001B[38;5;241m.\u001B[39mobj\u001B[38;5;241m.\u001B[39m_get_axis(axis)\n\u001B[1;32m   1430\u001B[0m axis_name \u001B[38;5;241m=\u001B[39m \u001B[38;5;28mself\u001B[39m\u001B[38;5;241m.\u001B[39mobj\u001B[38;5;241m.\u001B[39m_get_axis_name(axis)\n\u001B[0;32m-> 1432\u001B[0m keyarr, indexer \u001B[38;5;241m=\u001B[39m \u001B[43max\u001B[49m\u001B[38;5;241;43m.\u001B[39;49m\u001B[43m_get_indexer_strict\u001B[49m\u001B[43m(\u001B[49m\u001B[43mkey\u001B[49m\u001B[43m,\u001B[49m\u001B[43m \u001B[49m\u001B[43maxis_name\u001B[49m\u001B[43m)\u001B[49m\n\u001B[1;32m   1434\u001B[0m \u001B[38;5;28;01mreturn\u001B[39;00m keyarr, indexer\n",
      "File \u001B[0;32m~/PycharmProjects/Experiments-AAAI-24/virny_venv/lib/python3.9/site-packages/pandas/core/indexes/base.py:6070\u001B[0m, in \u001B[0;36mIndex._get_indexer_strict\u001B[0;34m(self, key, axis_name)\u001B[0m\n\u001B[1;32m   6067\u001B[0m \u001B[38;5;28;01melse\u001B[39;00m:\n\u001B[1;32m   6068\u001B[0m     keyarr, indexer, new_indexer \u001B[38;5;241m=\u001B[39m \u001B[38;5;28mself\u001B[39m\u001B[38;5;241m.\u001B[39m_reindex_non_unique(keyarr)\n\u001B[0;32m-> 6070\u001B[0m \u001B[38;5;28;43mself\u001B[39;49m\u001B[38;5;241;43m.\u001B[39;49m\u001B[43m_raise_if_missing\u001B[49m\u001B[43m(\u001B[49m\u001B[43mkeyarr\u001B[49m\u001B[43m,\u001B[49m\u001B[43m \u001B[49m\u001B[43mindexer\u001B[49m\u001B[43m,\u001B[49m\u001B[43m \u001B[49m\u001B[43maxis_name\u001B[49m\u001B[43m)\u001B[49m\n\u001B[1;32m   6072\u001B[0m keyarr \u001B[38;5;241m=\u001B[39m \u001B[38;5;28mself\u001B[39m\u001B[38;5;241m.\u001B[39mtake(indexer)\n\u001B[1;32m   6073\u001B[0m \u001B[38;5;28;01mif\u001B[39;00m \u001B[38;5;28misinstance\u001B[39m(key, Index):\n\u001B[1;32m   6074\u001B[0m     \u001B[38;5;66;03m# GH 42790 - Preserve name from an Index\u001B[39;00m\n",
      "File \u001B[0;32m~/PycharmProjects/Experiments-AAAI-24/virny_venv/lib/python3.9/site-packages/pandas/core/indexes/base.py:6130\u001B[0m, in \u001B[0;36mIndex._raise_if_missing\u001B[0;34m(self, key, indexer, axis_name)\u001B[0m\n\u001B[1;32m   6128\u001B[0m     \u001B[38;5;28;01mif\u001B[39;00m use_interval_msg:\n\u001B[1;32m   6129\u001B[0m         key \u001B[38;5;241m=\u001B[39m \u001B[38;5;28mlist\u001B[39m(key)\n\u001B[0;32m-> 6130\u001B[0m     \u001B[38;5;28;01mraise\u001B[39;00m \u001B[38;5;167;01mKeyError\u001B[39;00m(\u001B[38;5;124mf\u001B[39m\u001B[38;5;124m\"\u001B[39m\u001B[38;5;124mNone of [\u001B[39m\u001B[38;5;132;01m{\u001B[39;00mkey\u001B[38;5;132;01m}\u001B[39;00m\u001B[38;5;124m] are in the [\u001B[39m\u001B[38;5;132;01m{\u001B[39;00maxis_name\u001B[38;5;132;01m}\u001B[39;00m\u001B[38;5;124m]\u001B[39m\u001B[38;5;124m\"\u001B[39m)\n\u001B[1;32m   6132\u001B[0m not_found \u001B[38;5;241m=\u001B[39m \u001B[38;5;28mlist\u001B[39m(ensure_index(key)[missing_mask\u001B[38;5;241m.\u001B[39mnonzero()[\u001B[38;5;241m0\u001B[39m]]\u001B[38;5;241m.\u001B[39munique())\n\u001B[1;32m   6133\u001B[0m \u001B[38;5;28;01mraise\u001B[39;00m \u001B[38;5;167;01mKeyError\u001B[39;00m(\u001B[38;5;124mf\u001B[39m\u001B[38;5;124m\"\u001B[39m\u001B[38;5;132;01m{\u001B[39;00mnot_found\u001B[38;5;132;01m}\u001B[39;00m\u001B[38;5;124m not in index\u001B[39m\u001B[38;5;124m\"\u001B[39m)\n",
      "\u001B[0;31mKeyError\u001B[0m: \"None of [Index(['RACE'], dtype='object')] are in the [columns]\""
     ]
    }
   ],
   "source": [
    "run_exp_iter_with_disparate_impact(data_loader=exp_iter_data_loader,\n",
    "                                   experiment_seed=experiment_seed,\n",
    "                                   test_set_fraction=TEST_SET_FRACTION,\n",
    "                                   db_writer_func=db_writer_func,\n",
    "                                   fair_intervention_params_lst=FAIR_INTERVENTION_PARAMS_LST,\n",
    "                                   models_params_for_tuning=models_params_for_tuning,\n",
    "                                   metrics_computation_config=metrics_computation_config,\n",
    "                                   custom_table_fields_dct=custom_table_fields_dct,\n",
    "                                   with_tuning=True,\n",
    "                                   # with_tuning=False,\n",
    "                                   # tuned_params_df_paths=tuned_params_df_paths,\n",
    "                                   save_results_dir_path=SAVE_RESULTS_DIR_PATH,\n",
    "                                   verbose=True,\n",
    "                                   dataset_name='StudentPerformance')"
   ]
  },
  {
   "cell_type": "markdown",
   "source": [],
   "metadata": {
    "collapsed": false
   },
   "id": "13741cdefcdd197a"
  }
 ],
 "metadata": {
  "kernelspec": {
   "display_name": "Python 3",
   "language": "python",
   "name": "python3"
  },
  "language_info": {
   "codemirror_mode": {
    "name": "ipython",
    "version": 3
   },
   "file_extension": ".py",
   "mimetype": "text/x-python",
   "name": "python",
   "nbconvert_exporter": "python",
   "pygments_lexer": "ipython3",
   "version": "3.8.5"
  }
 },
 "nbformat": 4,
 "nbformat_minor": 5
}
