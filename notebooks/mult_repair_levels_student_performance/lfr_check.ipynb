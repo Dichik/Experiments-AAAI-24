{
 "cells": [
  {
   "cell_type": "code",
   "execution_count": 6,
   "outputs": [
    {
     "name": "stdout",
     "output_type": "stream",
     "text": [
      "Current location:  /Users/tarasbohdan/Desktop/Experiments-AAAI-24\n"
     ]
    }
   ],
   "source": [
    "import os\n",
    "\n",
    "cur_folder_name = os.getcwd().split('/')[-1]\n",
    "if cur_folder_name != \"fairness-variance\":\n",
    "    os.chdir(\"../..\")\n",
    "\n",
    "print('Current location: ', os.getcwd())"
   ],
   "metadata": {
    "collapsed": false,
    "ExecuteTime": {
     "end_time": "2023-10-19T08:10:42.636054Z",
     "start_time": "2023-10-19T08:10:42.555996Z"
    }
   }
  },
  {
   "cell_type": "code",
   "execution_count": 2,
   "outputs": [
    {
     "name": "stderr",
     "output_type": "stream",
     "text": [
      "WARNING:root:No module named 'tempeh': LawSchoolGPADataset will be unavailable. To install, run:\n",
      "pip install 'aif360[LawSchoolGPA]'\n",
      "WARNING:root:No module named 'tensorflow': AdversarialDebiasing will be unavailable. To install, run:\n",
      "pip install 'aif360[AdversarialDebiasing]'\n",
      "WARNING:root:No module named 'tensorflow': AdversarialDebiasing will be unavailable. To install, run:\n",
      "pip install 'aif360[AdversarialDebiasing]'\n"
     ]
    }
   ],
   "source": [
    "%matplotlib inline\n",
    "\n",
    "import sys\n",
    "sys.path.append(\"../\")\n",
    "import copy\n",
    "\n",
    "from aif360.datasets import BinaryLabelDataset\n",
    "from aif360.datasets import AdultDataset\n",
    "from aif360.metrics import BinaryLabelDatasetMetric\n",
    "from aif360.metrics import ClassificationMetric\n",
    "from aif360.metrics.utils import compute_boolean_conditioning_vector\n",
    "\n",
    "from aif360.algorithms.preprocessing.optim_preproc_helpers.data_preproc_functions import load_preproc_data_adult\n",
    "from aif360.algorithms.preprocessing.lfr import LFR\n",
    "\n",
    "from sklearn.linear_model import LogisticRegression\n",
    "from sklearn.preprocessing import StandardScaler\n",
    "from sklearn.metrics import accuracy_score\n",
    "from sklearn.metrics import classification_report\n",
    "\n",
    "from IPython.display import Markdown, display\n",
    "import matplotlib.pyplot as plt\n",
    "import numpy as np\n"
   ],
   "metadata": {
    "collapsed": false,
    "ExecuteTime": {
     "end_time": "2023-10-19T08:10:15.938218Z",
     "start_time": "2023-10-19T08:10:12.315336Z"
    }
   }
  },
  {
   "cell_type": "code",
   "execution_count": 4,
   "outputs": [],
   "source": [
    "class Config:\n",
    "  file_name = './data/student_performance/student-mat.csv'"
   ],
   "metadata": {
    "collapsed": false,
    "ExecuteTime": {
     "end_time": "2023-10-19T08:10:15.941478Z",
     "start_time": "2023-10-19T08:10:15.884803Z"
    }
   }
  },
  {
   "cell_type": "code",
   "execution_count": 15,
   "outputs": [
    {
     "data": {
      "text/plain": "   age  Medu  Fedu  traveltime  studytime  failures  famrel  freetime  goout  \\\n0   18     4     4           2          2         0       4         3      4   \n1   17     1     1           1          2         0       5         3      3   \n2   15     1     1           1          2         3       4         3      2   \n3   15     4     2           1          3         0       3         2      2   \n4   16     3     3           1          2         0       4         3      2   \n\n   Dalc  Walc  health  absences  G1  G2     Mjob      Fjob  reason guardian  \\\n0     1     1       3         6   0   0  at_home   teacher  course   mother   \n1     1     1       3         4   0   0  at_home     other  course   father   \n2     2     3       3        10   0   0  at_home     other   other   mother   \n3     1     1       5         2   1   1   health  services    home   mother   \n4     1     2       5         4   0   1    other     other    home   father   \n\n  sex  \n0   F  \n1   F  \n2   F  \n3   F  \n4   F  ",
      "text/html": "<div>\n<style scoped>\n    .dataframe tbody tr th:only-of-type {\n        vertical-align: middle;\n    }\n\n    .dataframe tbody tr th {\n        vertical-align: top;\n    }\n\n    .dataframe thead th {\n        text-align: right;\n    }\n</style>\n<table border=\"1\" class=\"dataframe\">\n  <thead>\n    <tr style=\"text-align: right;\">\n      <th></th>\n      <th>age</th>\n      <th>Medu</th>\n      <th>Fedu</th>\n      <th>traveltime</th>\n      <th>studytime</th>\n      <th>failures</th>\n      <th>famrel</th>\n      <th>freetime</th>\n      <th>goout</th>\n      <th>Dalc</th>\n      <th>Walc</th>\n      <th>health</th>\n      <th>absences</th>\n      <th>G1</th>\n      <th>G2</th>\n      <th>Mjob</th>\n      <th>Fjob</th>\n      <th>reason</th>\n      <th>guardian</th>\n      <th>sex</th>\n    </tr>\n  </thead>\n  <tbody>\n    <tr>\n      <th>0</th>\n      <td>18</td>\n      <td>4</td>\n      <td>4</td>\n      <td>2</td>\n      <td>2</td>\n      <td>0</td>\n      <td>4</td>\n      <td>3</td>\n      <td>4</td>\n      <td>1</td>\n      <td>1</td>\n      <td>3</td>\n      <td>6</td>\n      <td>0</td>\n      <td>0</td>\n      <td>at_home</td>\n      <td>teacher</td>\n      <td>course</td>\n      <td>mother</td>\n      <td>F</td>\n    </tr>\n    <tr>\n      <th>1</th>\n      <td>17</td>\n      <td>1</td>\n      <td>1</td>\n      <td>1</td>\n      <td>2</td>\n      <td>0</td>\n      <td>5</td>\n      <td>3</td>\n      <td>3</td>\n      <td>1</td>\n      <td>1</td>\n      <td>3</td>\n      <td>4</td>\n      <td>0</td>\n      <td>0</td>\n      <td>at_home</td>\n      <td>other</td>\n      <td>course</td>\n      <td>father</td>\n      <td>F</td>\n    </tr>\n    <tr>\n      <th>2</th>\n      <td>15</td>\n      <td>1</td>\n      <td>1</td>\n      <td>1</td>\n      <td>2</td>\n      <td>3</td>\n      <td>4</td>\n      <td>3</td>\n      <td>2</td>\n      <td>2</td>\n      <td>3</td>\n      <td>3</td>\n      <td>10</td>\n      <td>0</td>\n      <td>0</td>\n      <td>at_home</td>\n      <td>other</td>\n      <td>other</td>\n      <td>mother</td>\n      <td>F</td>\n    </tr>\n    <tr>\n      <th>3</th>\n      <td>15</td>\n      <td>4</td>\n      <td>2</td>\n      <td>1</td>\n      <td>3</td>\n      <td>0</td>\n      <td>3</td>\n      <td>2</td>\n      <td>2</td>\n      <td>1</td>\n      <td>1</td>\n      <td>5</td>\n      <td>2</td>\n      <td>1</td>\n      <td>1</td>\n      <td>health</td>\n      <td>services</td>\n      <td>home</td>\n      <td>mother</td>\n      <td>F</td>\n    </tr>\n    <tr>\n      <th>4</th>\n      <td>16</td>\n      <td>3</td>\n      <td>3</td>\n      <td>1</td>\n      <td>2</td>\n      <td>0</td>\n      <td>4</td>\n      <td>3</td>\n      <td>2</td>\n      <td>1</td>\n      <td>2</td>\n      <td>5</td>\n      <td>4</td>\n      <td>0</td>\n      <td>1</td>\n      <td>other</td>\n      <td>other</td>\n      <td>home</td>\n      <td>father</td>\n      <td>F</td>\n    </tr>\n  </tbody>\n</table>\n</div>"
     },
     "execution_count": 15,
     "metadata": {},
     "output_type": "execute_result"
    }
   ],
   "source": [
    "from notebooks.mult_repair_levels_student_performance.StudentPerformanceDataset import StudentPerformanceDataset\n",
    "\n",
    "data_loader = StudentPerformanceDataset(Config.file_name)\n",
    "data_loader.X_data.head()"
   ],
   "metadata": {
    "collapsed": false,
    "ExecuteTime": {
     "end_time": "2023-10-19T08:16:38.036132Z",
     "start_time": "2023-10-19T08:16:37.873078Z"
    }
   }
  },
  {
   "cell_type": "code",
   "execution_count": 17,
   "outputs": [],
   "source": [
    "init_data_loader = copy.deepcopy(data_loader)"
   ],
   "metadata": {
    "collapsed": false,
    "ExecuteTime": {
     "end_time": "2023-10-19T08:16:39.019194Z",
     "start_time": "2023-10-19T08:16:38.951265Z"
    }
   }
  },
  {
   "cell_type": "code",
   "execution_count": 18,
   "outputs": [
    {
     "name": "stderr",
     "output_type": "stream",
     "text": [
      "/var/folders/cg/l243p36n10s5v1x_vrt2wzs80000gn/T/ipykernel_62768/2079174263.py:6: SettingWithCopyWarning: \n",
      "A value is trying to be set on a copy of a slice from a DataFrame.\n",
      "Try using .loc[row_indexer,col_indexer] = value instead\n",
      "\n",
      "See the caveats in the documentation: https://pandas.pydata.org/pandas-docs/stable/user_guide/indexing.html#returning-a-view-versus-a-copy\n",
      "  data_loader.X_data['sex_binary'] = data_loader.X_data['sex'].apply(lambda x: 1 if x == 'M' else 0)\n",
      "/Users/tarasbohdan/Desktop/Experiments-AAAI-24/virny_venv/lib/python3.9/site-packages/sklearn/preprocessing/_encoders.py:868: FutureWarning: `sparse` was renamed to `sparse_output` in version 1.2 and will be removed in 1.4. `sparse_output` is ignored unless you leave `sparse` to its default value.\n",
      "  warnings.warn(\n"
     ]
    }
   ],
   "source": [
    "from virny.preprocessing import preprocess_dataset\n",
    "from source.preprocessing import get_simple_preprocessor\n",
    "\n",
    "data_loader.categorical_columns = [col for col in data_loader.categorical_columns if\n",
    "                                   col not in ('sex')]\n",
    "data_loader.X_data['sex_binary'] = data_loader.X_data['sex'].apply(lambda x: 1 if x == 'M' else 0)\n",
    "data_loader.full_df = data_loader.full_df.drop(['sex'], axis=1)\n",
    "data_loader.X_data = data_loader.X_data.drop(['sex'], axis=1)\n",
    "\n",
    "# Preprocess the dataset using the defined preprocessor\n",
    "column_transformer = get_simple_preprocessor(data_loader)\n",
    "base_flow_dataset = preprocess_dataset(data_loader, column_transformer, 0.3, 42)\n",
    "base_flow_dataset.init_features_df = init_data_loader.full_df.drop(init_data_loader.target, axis=1,\n",
    "                                                                   errors='ignore')\n",
    "base_flow_dataset.X_train_val['sex_binary'] = data_loader.X_data.loc[\n",
    "    base_flow_dataset.X_train_val.index, 'sex_binary']\n",
    "base_flow_dataset.X_test['sex_binary'] = data_loader.X_data.loc[base_flow_dataset.X_test.index, 'sex_binary']"
   ],
   "metadata": {
    "collapsed": false,
    "ExecuteTime": {
     "end_time": "2023-10-19T08:16:39.942488Z",
     "start_time": "2023-10-19T08:16:39.896024Z"
    }
   }
  },
  {
   "cell_type": "code",
   "execution_count": 25,
   "outputs": [],
   "source": [
    "from sklearn.model_selection import train_test_split\n",
    "\n",
    "full_df = data_loader.X_data\n",
    "\n",
    "dataset_orig_train, dataset_orig_test = train_test_split(full_df, test_size=0.3)"
   ],
   "metadata": {
    "collapsed": false,
    "ExecuteTime": {
     "end_time": "2023-10-19T08:18:15.966632Z",
     "start_time": "2023-10-19T08:18:15.890824Z"
    }
   }
  },
  {
   "cell_type": "code",
   "execution_count": 20,
   "outputs": [],
   "source": [
    "sensitive_attribute = 'sex_binary'"
   ],
   "metadata": {
    "collapsed": false,
    "ExecuteTime": {
     "end_time": "2023-10-19T08:17:13.785607Z",
     "start_time": "2023-10-19T08:17:13.731221Z"
    }
   }
  },
  {
   "cell_type": "code",
   "execution_count": 34,
   "outputs": [],
   "source": [
    "train_df = base_flow_dataset.X_train_val\n",
    "train_df[base_flow_dataset.target] = base_flow_dataset.y_train_val\n",
    "\n",
    "test_df = base_flow_dataset.X_test\n",
    "test_df[base_flow_dataset.target] = base_flow_dataset.y_test"
   ],
   "metadata": {
    "collapsed": false,
    "ExecuteTime": {
     "end_time": "2023-10-19T08:22:48.813771Z",
     "start_time": "2023-10-19T08:22:48.761087Z"
    }
   }
  },
  {
   "cell_type": "code",
   "execution_count": 35,
   "outputs": [],
   "source": [
    "train_binary_dataset = BinaryLabelDataset(df=train_df,\n",
    "                                              label_names=[data_loader.target],\n",
    "                                              protected_attribute_names=[sensitive_attribute],\n",
    "                                              favorable_label=1,\n",
    "                                              unfavorable_label=0)\n",
    "test_binary_dataset = BinaryLabelDataset(df=test_df,\n",
    "                                         label_names=[data_loader.target],\n",
    "                                         protected_attribute_names=[sensitive_attribute],\n",
    "                                         favorable_label=1,\n",
    "                                         unfavorable_label=0)"
   ],
   "metadata": {
    "collapsed": false,
    "ExecuteTime": {
     "end_time": "2023-10-19T08:22:59.342159Z",
     "start_time": "2023-10-19T08:22:59.249994Z"
    }
   }
  },
  {
   "cell_type": "code",
   "execution_count": 38,
   "outputs": [
    {
     "data": {
      "text/plain": "<IPython.core.display.Markdown object>",
      "text/markdown": "#### Original training dataset"
     },
     "metadata": {},
     "output_type": "display_data"
    },
    {
     "name": "stdout",
     "output_type": "stream",
     "text": [
      "Difference in mean outcomes between unprivileged and privileged groups = -0.034286\n"
     ]
    },
    {
     "data": {
      "text/plain": "<IPython.core.display.Markdown object>",
      "text/markdown": "#### Original test dataset"
     },
     "metadata": {},
     "output_type": "display_data"
    },
    {
     "name": "stdout",
     "output_type": "stream",
     "text": [
      "Difference in mean outcomes between unprivileged and privileged groups = -0.154042\n"
     ]
    }
   ],
   "source": [
    "# Metric for the original dataset\n",
    "privileged_groups = [{'sex_binary': 1}]\n",
    "unprivileged_groups = [{'sex_binary': 0}]\n",
    "\n",
    "metric_orig_train = BinaryLabelDatasetMetric(train_binary_dataset,\n",
    "                                             unprivileged_groups=unprivileged_groups,\n",
    "                                             privileged_groups=privileged_groups)\n",
    "display(Markdown(\"#### Original training dataset\"))\n",
    "print(\"Difference in mean outcomes between unprivileged and privileged groups = %f\" % metric_orig_train.mean_difference())\n",
    "metric_orig_test = BinaryLabelDatasetMetric(test_binary_dataset,\n",
    "                                             unprivileged_groups=unprivileged_groups,\n",
    "                                             privileged_groups=privileged_groups)\n",
    "display(Markdown(\"#### Original test dataset\"))\n",
    "print(\"Difference in mean outcomes between unprivileged and privileged groups = %f\" % metric_orig_test.mean_difference())"
   ],
   "metadata": {
    "collapsed": false,
    "ExecuteTime": {
     "end_time": "2023-10-19T08:24:01.129715Z",
     "start_time": "2023-10-19T08:24:01.003405Z"
    }
   }
  },
  {
   "cell_type": "code",
   "execution_count": 48,
   "outputs": [
    {
     "name": "stdout",
     "output_type": "stream",
     "text": [
      "step: 0, loss: 0.6015379651479199, L_x: 1.4511874478533882,  L_y: 0.7271124973541402,  L_z: 0.023215742921377753\n",
      "RUNNING THE L-BFGS-B CODE\n",
      "\n",
      "           * * *\n",
      "\n",
      "Machine precision = 2.220D-16\n",
      " N =          102     M =           10\n",
      "\n",
      "At X0         0 variables are exactly at the bounds\n",
      "\n",
      "At iterate    0    f=  6.01538D-01    |proj g|=  1.98242D-01\n",
      "\n",
      "At iterate    1    f=  5.02594D-01    |proj g|=  1.03731D-01\n",
      "step: 250, loss: 0.5508369170817502, L_x: 1.4272710092473193,  L_y: 0.6255397888490272,  L_z: 0.02383498043312617\n",
      "\n",
      "At iterate    2    f=  4.76313D-01    |proj g|=  1.16559D-01\n",
      "step: 500, loss: 0.5241972815037808, L_x: 1.4300322369279046,  L_y: 0.6115257350878063,  L_z: 0.01885779756677179\n",
      "step: 750, loss: 0.4761851252648167, L_x: 1.4421989950868115,  L_y: 0.6070045775261261,  L_z: 0.007115734248268113\n",
      "\n",
      "At iterate    3    f=  4.76185D-01    |proj g|=  1.36423D-01\n",
      "step: 1000, loss: 0.46578322909357545, L_x: 1.4405550710849566,  L_y: 0.6091009467828086,  L_z: 0.004294312148418873\n",
      "\n",
      "At iterate    4    f=  4.48901D-01    |proj g|=  1.36445D-01\n",
      "step: 1250, loss: 0.48821263678608795, L_x: 1.4388028562845399,  L_y: 0.6058921768108867,  L_z: 0.010346565688047649\n",
      "step: 1500, loss: 0.448064384692662, L_x: 1.441249979175519,  L_y: 0.6052183165930508,  L_z: 0.00033255711964617446\n",
      "\n",
      "At iterate    5    f=  4.48064D-01    |proj g|=  1.00981D-01\n",
      "\n",
      "At iterate    6    f=  4.47422D-01    |proj g|=  1.32488D-01\n",
      "step: 1750, loss: 0.4465728014092986, L_x: 1.4411703079140317,  L_y: 0.6043898078410067,  L_z: 6.521667434801944e-05\n",
      "\n",
      "At iterate    7    f=  4.46572D-01    |proj g|=  1.36666D-01\n",
      "\n",
      "At iterate    8    f=  4.46329D-01    |proj g|=  1.17398D-01\n",
      "step: 2000, loss: 0.45275097090689614, L_x: 1.4411096180785479,  L_y: 0.6041058429056855,  L_z: 0.001646771911549642\n",
      "step: 2250, loss: 0.4464328268130972, L_x: 1.4411747234100192,  L_y: 0.6043421879690443,  L_z: 3.606512189328429e-05\n",
      "\n",
      "At iterate    9    f=  4.46326D-01    |proj g|=  1.01722D-01\n",
      "step: 2500, loss: 0.44630666732563434, L_x: 1.441181128616352,  L_y: 0.6043244277337386,  L_z: 6.5851492824601605e-06\n",
      "\n",
      "At iterate   10    f=  4.46306D-01    |proj g|=  1.17708D-01\n",
      "step: 2750, loss: 0.4459997050016869, L_x: 1.4413380012309478,  L_y: 0.6036060615074129,  L_z: 1.5718531221416605e-05\n",
      "\n",
      "At iterate   11    f=  4.46000D-01    |proj g|=  1.36630D-01\n",
      "\n",
      "At iterate   12    f=  4.44575D-01    |proj g|=  1.36447D-01\n",
      "step: 3000, loss: 0.4395736707431675, L_x: 1.4322280681855601,  L_y: 0.5919549938069816,  L_z: 9.334175528017778e-05\n",
      "\n",
      "At iterate   13    f=  4.39574D-01    |proj g|=  1.16897D-01\n",
      "\n",
      "At iterate   14    f=  4.14564D-01    |proj g|=  1.03478D-01\n",
      "step: 3250, loss: 0.4091741921749052, L_x: 1.2963637034471143,  L_y: 0.5502311369047477,  L_z: 0.0011055633444549777\n",
      "\n",
      "At iterate   15    f=  4.09174D-01    |proj g|=  1.01314D-01\n",
      "\n",
      "At iterate   16    f=  3.97880D-01    |proj g|=  1.02435D-01\n",
      "step: 3500, loss: 0.3681144579973817, L_x: 1.0941797853659883,  L_y: 0.4658931414646901,  L_z: 0.006437477182109445\n",
      "\n",
      "At iterate   17    f=  3.68114D-01    |proj g|=  1.21250D-01\n",
      "\n",
      "At iterate   18    f=  3.63061D-01    |proj g|=  1.23524D-01\n",
      "\n",
      "At iterate   19    f=  3.43434D-01    |proj g|=  1.24913D-01\n",
      "step: 3750, loss: 0.45369602026402756, L_x: 1.1277552189073448,  L_y: 0.4967449764775215,  L_z: 0.023137002533633075\n",
      "\n",
      "At iterate   20    f=  3.29523D-01    |proj g|=  1.28064D-01\n",
      "step: 4000, loss: 0.30523799824883774, L_x: 1.0156237875561882,  L_y: 0.396092864216358,  L_z: 0.001407296846259981\n",
      "\n",
      "At iterate   21    f=  3.05238D-01    |proj g|=  7.50899D-02\n",
      "\n",
      "At iterate   22    f=  2.99956D-01    |proj g|=  1.07411D-01\n",
      "step: 4250, loss: 0.2938342831897233, L_x: 1.0118948830977812,  L_y: 0.3787600346228487,  L_z: 0.0008161943921302095\n",
      "\n",
      "At iterate   23    f=  2.93834D-01    |proj g|=  1.03163D-01\n",
      "\n",
      "At iterate   24    f=  2.91695D-01    |proj g|=  7.00308D-02\n",
      "step: 4500, loss: 0.28935302871323104, L_x: 1.0139168611997016,  L_y: 0.37532228798237793,  L_z: 7.504965051797578e-05\n",
      "\n",
      "At iterate   25    f=  2.89088D-01    |proj g|=  1.02527D-01\n",
      "step: 4750, loss: 0.29064354541421733, L_x: 1.0143536411734322,  L_y: 0.3744960103974361,  L_z: 0.0004900440245390233\n",
      "step: 5000, loss: 0.2890909390639334, L_x: 1.0139403124408943,  L_y: 0.3753017032672807,  L_z: 1.151404655091078e-05\n",
      "\n",
      "At iterate   26    f=  2.89066D-01    |proj g|=  6.77161D-02\n",
      "\n",
      "           * * *\n",
      "\n",
      "Tit   = total number of iterations\n",
      "Tnf   = total number of function evaluations\n",
      "Tnint = total number of segments explored during Cauchy searches\n",
      "Skip  = number of BFGS updates skipped\n",
      "Nact  = number of active bounds at final generalized Cauchy point\n",
      "Projg = norm of the final projected gradient\n",
      "F     = final function value\n",
      "\n",
      "           * * *\n",
      "\n",
      "   N    Tit     Tnf  Tnint  Skip  Nact     Projg        F\n",
      "  102     26     50     27     0     2   6.772D-02   2.891D-01\n",
      "  F =  0.28906594345590858     \n",
      "\n",
      "STOP: TOTAL NO. of f AND g EVALUATIONS EXCEEDS LIMIT        \n"
     ]
    }
   ],
   "source": [
    "TR = LFR(unprivileged_groups=unprivileged_groups,\n",
    "         privileged_groups=privileged_groups,\n",
    "         k=3, Ax=0.1, Ay=0.5, Az=4.0,\n",
    "         verbose=1\n",
    "        )\n",
    "TR = TR.fit(train_binary_dataset, maxiter=5000, maxfun=5000)"
   ],
   "metadata": {
    "collapsed": false,
    "ExecuteTime": {
     "end_time": "2023-10-19T08:26:51.551306Z",
     "start_time": "2023-10-19T08:26:50.380948Z"
    }
   }
  },
  {
   "cell_type": "code",
   "execution_count": 49,
   "outputs": [],
   "source": [
    "dataset_transf_train = TR.transform(train_binary_dataset)\n",
    "dataset_transf_test = TR.transform(test_binary_dataset)"
   ],
   "metadata": {
    "collapsed": false,
    "ExecuteTime": {
     "end_time": "2023-10-19T08:26:56.020305Z",
     "start_time": "2023-10-19T08:26:55.965281Z"
    }
   }
  },
  {
   "cell_type": "code",
   "execution_count": 50,
   "outputs": [
    {
     "data": {
      "text/plain": "<IPython.core.display.Markdown object>",
      "text/markdown": "#### Transformed training dataset"
     },
     "metadata": {},
     "output_type": "display_data"
    },
    {
     "name": "stdout",
     "output_type": "stream",
     "text": [
      "Difference in mean outcomes between unprivileged and privileged groups = 0.044762\n"
     ]
    },
    {
     "data": {
      "text/plain": "<IPython.core.display.Markdown object>",
      "text/markdown": "#### Transformed test dataset"
     },
     "metadata": {},
     "output_type": "display_data"
    },
    {
     "name": "stdout",
     "output_type": "stream",
     "text": [
      "Difference in mean outcomes between unprivileged and privileged groups = -0.099774\n"
     ]
    }
   ],
   "source": [
    "metric_transf_train = BinaryLabelDatasetMetric(dataset_transf_train,\n",
    "                                             unprivileged_groups=unprivileged_groups,\n",
    "                                             privileged_groups=privileged_groups)\n",
    "display(Markdown(\"#### Transformed training dataset\"))\n",
    "print(\"Difference in mean outcomes between unprivileged and privileged groups = %f\" % metric_transf_train.mean_difference())\n",
    "metric_transf_test = BinaryLabelDatasetMetric(dataset_transf_test,\n",
    "                                             unprivileged_groups=unprivileged_groups,\n",
    "                                             privileged_groups=privileged_groups)\n",
    "display(Markdown(\"#### Transformed test dataset\"))\n",
    "print(\"Difference in mean outcomes between unprivileged and privileged groups = %f\" % metric_transf_test.mean_difference())"
   ],
   "metadata": {
    "collapsed": false,
    "ExecuteTime": {
     "end_time": "2023-10-19T08:26:56.220589Z",
     "start_time": "2023-10-19T08:26:56.204576Z"
    }
   }
  },
  {
   "cell_type": "code",
   "execution_count": 76,
   "outputs": [],
   "source": [
    "train_df, _ = train_binary_dataset.convert_to_dataframe()\n",
    "test_df, _ = test_binary_dataset.convert_to_dataframe()"
   ],
   "metadata": {
    "collapsed": false,
    "ExecuteTime": {
     "end_time": "2023-10-19T08:48:12.564768Z",
     "start_time": "2023-10-19T08:48:12.495943Z"
    }
   }
  },
  {
   "cell_type": "code",
   "execution_count": 77,
   "outputs": [],
   "source": [
    "from sklearn.ensemble import RandomForestClassifier\n",
    "\n",
    "rfc = RandomForestClassifier(random_state=42)"
   ],
   "metadata": {
    "collapsed": false,
    "ExecuteTime": {
     "end_time": "2023-10-19T08:48:12.709793Z",
     "start_time": "2023-10-19T08:48:12.700335Z"
    }
   }
  },
  {
   "cell_type": "code",
   "execution_count": 78,
   "outputs": [],
   "source": [
    "train_X = train_df.drop(['sex_binary', 'G3'], axis=1)\n",
    "train_y = train_df['sex_binary']"
   ],
   "metadata": {
    "collapsed": false,
    "ExecuteTime": {
     "end_time": "2023-10-19T08:48:12.851254Z",
     "start_time": "2023-10-19T08:48:12.821777Z"
    }
   }
  },
  {
   "cell_type": "code",
   "execution_count": 79,
   "outputs": [],
   "source": [
    "test_X = test_df.drop(['sex_binary', 'G3'], axis=1)\n",
    "test_y = test_df['sex_binary']"
   ],
   "metadata": {
    "collapsed": false,
    "ExecuteTime": {
     "end_time": "2023-10-19T08:48:13.011375Z",
     "start_time": "2023-10-19T08:48:12.968231Z"
    }
   }
  },
  {
   "cell_type": "code",
   "execution_count": 81,
   "outputs": [],
   "source": [
    "rfc = rfc.fit(train_X, train_y)"
   ],
   "metadata": {
    "collapsed": false,
    "ExecuteTime": {
     "end_time": "2023-10-19T08:48:13.445275Z",
     "start_time": "2023-10-19T08:48:13.279188Z"
    }
   }
  },
  {
   "cell_type": "code",
   "execution_count": 82,
   "outputs": [],
   "source": [
    "y_pred = rfc.predict(test_X)"
   ],
   "metadata": {
    "collapsed": false,
    "ExecuteTime": {
     "end_time": "2023-10-19T08:48:13.449854Z",
     "start_time": "2023-10-19T08:48:13.403963Z"
    }
   }
  },
  {
   "cell_type": "code",
   "execution_count": 83,
   "outputs": [
    {
     "name": "stdout",
     "output_type": "stream",
     "text": [
      "Accuracy: 63.87%\n",
      "F1 Score: 0.61\n",
      "Classification Report:\n",
      "               precision    recall  f1-score   support\n",
      "\n",
      "         0.0       0.61      0.72      0.66        58\n",
      "         1.0       0.68      0.56      0.61        61\n",
      "\n",
      "    accuracy                           0.64       119\n",
      "   macro avg       0.64      0.64      0.64       119\n",
      "weighted avg       0.65      0.64      0.64       119\n",
      "\n"
     ]
    }
   ],
   "source": [
    "report = classification_report(test_y, y_pred)\n",
    "print(\"Classification Report:\\n\", report)"
   ],
   "metadata": {
    "collapsed": false,
    "ExecuteTime": {
     "end_time": "2023-10-19T08:48:13.960189Z",
     "start_time": "2023-10-19T08:48:13.937237Z"
    }
   }
  },
  {
   "cell_type": "code",
   "execution_count": 86,
   "outputs": [
    {
     "name": "stdout",
     "output_type": "stream",
     "text": [
      "Classification Report:\n",
      "               precision    recall  f1-score   support\n",
      "\n",
      "         0.0       0.39      0.47      0.43        58\n",
      "         1.0       0.38      0.31      0.34        61\n",
      "\n",
      "    accuracy                           0.39       119\n",
      "   macro avg       0.39      0.39      0.38       119\n",
      "weighted avg       0.39      0.39      0.38       119\n",
      "\n"
     ]
    }
   ],
   "source": [
    "train_df, _ = dataset_transf_train.convert_to_dataframe()\n",
    "test_df, _ = dataset_transf_test.convert_to_dataframe()\n",
    "\n",
    "\n",
    "rfc = RandomForestClassifier(random_state=42)\n",
    "\n",
    "train_X = train_df.drop(['sex_binary', 'G3'], axis=1)\n",
    "train_y = train_df['sex_binary']\n",
    "\n",
    "test_X = test_df.drop(['sex_binary', 'G3'], axis=1)\n",
    "test_y = test_df['sex_binary']\n",
    "\n",
    "rfc = rfc.fit(train_X, train_y)\n",
    "\n",
    "y_pred = rfc.predict(test_X)\n",
    "\n",
    "report = classification_report(test_y, y_pred)\n",
    "print(\"Classification Report:\\n\", report)"
   ],
   "metadata": {
    "collapsed": false,
    "ExecuteTime": {
     "end_time": "2023-10-19T08:48:39.406346Z",
     "start_time": "2023-10-19T08:48:38.191622Z"
    }
   }
  },
  {
   "cell_type": "code",
   "execution_count": null,
   "outputs": [],
   "source": [],
   "metadata": {
    "collapsed": false
   }
  }
 ],
 "metadata": {
  "kernelspec": {
   "display_name": "Python 3",
   "language": "python",
   "name": "python3"
  },
  "language_info": {
   "codemirror_mode": {
    "name": "ipython",
    "version": 2
   },
   "file_extension": ".py",
   "mimetype": "text/x-python",
   "name": "python",
   "nbconvert_exporter": "python",
   "pygments_lexer": "ipython2",
   "version": "2.7.6"
  }
 },
 "nbformat": 4,
 "nbformat_minor": 0
}
