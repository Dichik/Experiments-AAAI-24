{
 "cells": [
  {
   "cell_type": "code",
   "execution_count": 1,
   "outputs": [
    {
     "name": "stdout",
     "output_type": "stream",
     "text": [
      "Current location:  /Users/tarasbohdan/Desktop/Experiments-AAAI-24\n"
     ]
    }
   ],
   "source": [
    "import os\n",
    "\n",
    "cur_folder_name = os.getcwd().split('/')[-1]\n",
    "if cur_folder_name != \"fairness-variance\":\n",
    "    os.chdir(\"../..\")\n",
    "\n",
    "print('Current location: ', os.getcwd())"
   ],
   "metadata": {
    "collapsed": false,
    "ExecuteTime": {
     "end_time": "2023-10-19T08:59:59.636370Z",
     "start_time": "2023-10-19T08:59:59.360175Z"
    }
   }
  },
  {
   "cell_type": "code",
   "execution_count": 2,
   "outputs": [
    {
     "name": "stderr",
     "output_type": "stream",
     "text": [
      "WARNING:root:No module named 'tempeh': LawSchoolGPADataset will be unavailable. To install, run:\n",
      "pip install 'aif360[LawSchoolGPA]'\n",
      "WARNING:root:No module named 'tensorflow': AdversarialDebiasing will be unavailable. To install, run:\n",
      "pip install 'aif360[AdversarialDebiasing]'\n",
      "WARNING:root:No module named 'tensorflow': AdversarialDebiasing will be unavailable. To install, run:\n",
      "pip install 'aif360[AdversarialDebiasing]'\n"
     ]
    }
   ],
   "source": [
    "%matplotlib inline\n",
    "\n",
    "import sys\n",
    "sys.path.append(\"../\")\n",
    "import copy\n",
    "\n",
    "from aif360.datasets import BinaryLabelDataset\n",
    "from aif360.datasets import AdultDataset\n",
    "from aif360.metrics import BinaryLabelDatasetMetric\n",
    "from aif360.metrics import ClassificationMetric\n",
    "from aif360.metrics.utils import compute_boolean_conditioning_vector\n",
    "\n",
    "from aif360.algorithms.preprocessing.optim_preproc_helpers.data_preproc_functions import load_preproc_data_adult\n",
    "from aif360.algorithms.preprocessing.lfr import LFR\n",
    "\n",
    "from sklearn.linear_model import LogisticRegression\n",
    "from sklearn.preprocessing import StandardScaler\n",
    "from sklearn.metrics import accuracy_score\n",
    "from sklearn.metrics import classification_report\n",
    "\n",
    "from IPython.display import Markdown, display\n",
    "import matplotlib.pyplot as plt\n",
    "import numpy as np\n"
   ],
   "metadata": {
    "collapsed": false,
    "ExecuteTime": {
     "end_time": "2023-10-19T09:00:00.598058Z",
     "start_time": "2023-10-19T08:59:59.378743Z"
    }
   }
  },
  {
   "cell_type": "code",
   "execution_count": 3,
   "outputs": [],
   "source": [
    "class Config:\n",
    "  file_name = './data/student_performance/student-mat.csv'"
   ],
   "metadata": {
    "collapsed": false,
    "ExecuteTime": {
     "end_time": "2023-10-19T09:00:00.636664Z",
     "start_time": "2023-10-19T09:00:00.103492Z"
    }
   }
  },
  {
   "cell_type": "code",
   "execution_count": 4,
   "outputs": [
    {
     "data": {
      "text/plain": "   age  Medu  Fedu  traveltime  studytime  failures  famrel  freetime  goout  \\\n0   18     4     4           2          2         0       4         3      4   \n1   17     1     1           1          2         0       5         3      3   \n2   15     1     1           1          2         3       4         3      2   \n3   15     4     2           1          3         0       3         2      2   \n4   16     3     3           1          2         0       4         3      2   \n\n   Dalc  Walc  health  absences  G1  G2     Mjob      Fjob  reason guardian  \\\n0     1     1       3         6   0   0  at_home   teacher  course   mother   \n1     1     1       3         4   0   0  at_home     other  course   father   \n2     2     3       3        10   0   0  at_home     other   other   mother   \n3     1     1       5         2   1   1   health  services    home   mother   \n4     1     2       5         4   0   1    other     other    home   father   \n\n  sex  \n0   F  \n1   F  \n2   F  \n3   F  \n4   F  ",
      "text/html": "<div>\n<style scoped>\n    .dataframe tbody tr th:only-of-type {\n        vertical-align: middle;\n    }\n\n    .dataframe tbody tr th {\n        vertical-align: top;\n    }\n\n    .dataframe thead th {\n        text-align: right;\n    }\n</style>\n<table border=\"1\" class=\"dataframe\">\n  <thead>\n    <tr style=\"text-align: right;\">\n      <th></th>\n      <th>age</th>\n      <th>Medu</th>\n      <th>Fedu</th>\n      <th>traveltime</th>\n      <th>studytime</th>\n      <th>failures</th>\n      <th>famrel</th>\n      <th>freetime</th>\n      <th>goout</th>\n      <th>Dalc</th>\n      <th>Walc</th>\n      <th>health</th>\n      <th>absences</th>\n      <th>G1</th>\n      <th>G2</th>\n      <th>Mjob</th>\n      <th>Fjob</th>\n      <th>reason</th>\n      <th>guardian</th>\n      <th>sex</th>\n    </tr>\n  </thead>\n  <tbody>\n    <tr>\n      <th>0</th>\n      <td>18</td>\n      <td>4</td>\n      <td>4</td>\n      <td>2</td>\n      <td>2</td>\n      <td>0</td>\n      <td>4</td>\n      <td>3</td>\n      <td>4</td>\n      <td>1</td>\n      <td>1</td>\n      <td>3</td>\n      <td>6</td>\n      <td>0</td>\n      <td>0</td>\n      <td>at_home</td>\n      <td>teacher</td>\n      <td>course</td>\n      <td>mother</td>\n      <td>F</td>\n    </tr>\n    <tr>\n      <th>1</th>\n      <td>17</td>\n      <td>1</td>\n      <td>1</td>\n      <td>1</td>\n      <td>2</td>\n      <td>0</td>\n      <td>5</td>\n      <td>3</td>\n      <td>3</td>\n      <td>1</td>\n      <td>1</td>\n      <td>3</td>\n      <td>4</td>\n      <td>0</td>\n      <td>0</td>\n      <td>at_home</td>\n      <td>other</td>\n      <td>course</td>\n      <td>father</td>\n      <td>F</td>\n    </tr>\n    <tr>\n      <th>2</th>\n      <td>15</td>\n      <td>1</td>\n      <td>1</td>\n      <td>1</td>\n      <td>2</td>\n      <td>3</td>\n      <td>4</td>\n      <td>3</td>\n      <td>2</td>\n      <td>2</td>\n      <td>3</td>\n      <td>3</td>\n      <td>10</td>\n      <td>0</td>\n      <td>0</td>\n      <td>at_home</td>\n      <td>other</td>\n      <td>other</td>\n      <td>mother</td>\n      <td>F</td>\n    </tr>\n    <tr>\n      <th>3</th>\n      <td>15</td>\n      <td>4</td>\n      <td>2</td>\n      <td>1</td>\n      <td>3</td>\n      <td>0</td>\n      <td>3</td>\n      <td>2</td>\n      <td>2</td>\n      <td>1</td>\n      <td>1</td>\n      <td>5</td>\n      <td>2</td>\n      <td>1</td>\n      <td>1</td>\n      <td>health</td>\n      <td>services</td>\n      <td>home</td>\n      <td>mother</td>\n      <td>F</td>\n    </tr>\n    <tr>\n      <th>4</th>\n      <td>16</td>\n      <td>3</td>\n      <td>3</td>\n      <td>1</td>\n      <td>2</td>\n      <td>0</td>\n      <td>4</td>\n      <td>3</td>\n      <td>2</td>\n      <td>1</td>\n      <td>2</td>\n      <td>5</td>\n      <td>4</td>\n      <td>0</td>\n      <td>1</td>\n      <td>other</td>\n      <td>other</td>\n      <td>home</td>\n      <td>father</td>\n      <td>F</td>\n    </tr>\n  </tbody>\n</table>\n</div>"
     },
     "execution_count": 4,
     "metadata": {},
     "output_type": "execute_result"
    }
   ],
   "source": [
    "from notebooks.mult_repair_levels_student_performance.StudentPerformanceDataset import StudentPerformanceDataset\n",
    "\n",
    "data_loader = StudentPerformanceDataset(Config.file_name)\n",
    "data_loader.X_data.head()"
   ],
   "metadata": {
    "collapsed": false,
    "ExecuteTime": {
     "end_time": "2023-10-19T09:00:00.646614Z",
     "start_time": "2023-10-19T09:00:00.118082Z"
    }
   }
  },
  {
   "cell_type": "code",
   "execution_count": 5,
   "outputs": [],
   "source": [
    "init_data_loader = copy.deepcopy(data_loader)"
   ],
   "metadata": {
    "collapsed": false,
    "ExecuteTime": {
     "end_time": "2023-10-19T09:00:00.646891Z",
     "start_time": "2023-10-19T09:00:00.224809Z"
    }
   }
  },
  {
   "cell_type": "code",
   "execution_count": 6,
   "outputs": [
    {
     "name": "stderr",
     "output_type": "stream",
     "text": [
      "/var/folders/cg/l243p36n10s5v1x_vrt2wzs80000gn/T/ipykernel_64506/2079174263.py:6: SettingWithCopyWarning: \n",
      "A value is trying to be set on a copy of a slice from a DataFrame.\n",
      "Try using .loc[row_indexer,col_indexer] = value instead\n",
      "\n",
      "See the caveats in the documentation: https://pandas.pydata.org/pandas-docs/stable/user_guide/indexing.html#returning-a-view-versus-a-copy\n",
      "  data_loader.X_data['sex_binary'] = data_loader.X_data['sex'].apply(lambda x: 1 if x == 'M' else 0)\n",
      "/Users/tarasbohdan/Desktop/Experiments-AAAI-24/virny_venv/lib/python3.9/site-packages/sklearn/preprocessing/_encoders.py:868: FutureWarning: `sparse` was renamed to `sparse_output` in version 1.2 and will be removed in 1.4. `sparse_output` is ignored unless you leave `sparse` to its default value.\n",
      "  warnings.warn(\n"
     ]
    }
   ],
   "source": [
    "from virny.preprocessing import preprocess_dataset\n",
    "from source.preprocessing import get_simple_preprocessor\n",
    "\n",
    "data_loader.categorical_columns = [col for col in data_loader.categorical_columns if\n",
    "                                   col not in ('sex')]\n",
    "data_loader.X_data['sex_binary'] = data_loader.X_data['sex'].apply(lambda x: 1 if x == 'M' else 0)\n",
    "data_loader.full_df = data_loader.full_df.drop(['sex'], axis=1)\n",
    "data_loader.X_data = data_loader.X_data.drop(['sex'], axis=1)\n",
    "\n",
    "# Preprocess the dataset using the defined preprocessor\n",
    "column_transformer = get_simple_preprocessor(data_loader)\n",
    "base_flow_dataset = preprocess_dataset(data_loader, column_transformer, 0.3, 42)\n",
    "base_flow_dataset.init_features_df = init_data_loader.full_df.drop(init_data_loader.target, axis=1,\n",
    "                                                                   errors='ignore')\n",
    "base_flow_dataset.X_train_val['sex_binary'] = data_loader.X_data.loc[\n",
    "    base_flow_dataset.X_train_val.index, 'sex_binary']\n",
    "base_flow_dataset.X_test['sex_binary'] = data_loader.X_data.loc[base_flow_dataset.X_test.index, 'sex_binary']"
   ],
   "metadata": {
    "collapsed": false,
    "ExecuteTime": {
     "end_time": "2023-10-19T09:00:01.592637Z",
     "start_time": "2023-10-19T09:00:00.230629Z"
    }
   }
  },
  {
   "cell_type": "code",
   "execution_count": 7,
   "outputs": [],
   "source": [
    "from sklearn.model_selection import train_test_split\n",
    "\n",
    "full_df = data_loader.X_data\n",
    "\n",
    "dataset_orig_train, dataset_orig_test = train_test_split(full_df, test_size=0.3)"
   ],
   "metadata": {
    "collapsed": false,
    "ExecuteTime": {
     "end_time": "2023-10-19T09:00:01.594714Z",
     "start_time": "2023-10-19T09:00:01.097959Z"
    }
   }
  },
  {
   "cell_type": "code",
   "execution_count": 8,
   "outputs": [],
   "source": [
    "sensitive_attribute = 'sex_binary'"
   ],
   "metadata": {
    "collapsed": false,
    "ExecuteTime": {
     "end_time": "2023-10-19T09:00:01.594951Z",
     "start_time": "2023-10-19T09:00:01.100587Z"
    }
   }
  },
  {
   "cell_type": "code",
   "execution_count": 9,
   "outputs": [],
   "source": [
    "train_df = base_flow_dataset.X_train_val\n",
    "train_df[base_flow_dataset.target] = base_flow_dataset.y_train_val\n",
    "\n",
    "test_df = base_flow_dataset.X_test\n",
    "test_df[base_flow_dataset.target] = base_flow_dataset.y_test"
   ],
   "metadata": {
    "collapsed": false,
    "ExecuteTime": {
     "end_time": "2023-10-19T09:00:01.595060Z",
     "start_time": "2023-10-19T09:00:01.100957Z"
    }
   }
  },
  {
   "cell_type": "code",
   "execution_count": 10,
   "outputs": [],
   "source": [
    "train_binary_dataset = BinaryLabelDataset(df=train_df,\n",
    "                                              label_names=[data_loader.target],\n",
    "                                              protected_attribute_names=[sensitive_attribute],\n",
    "                                              favorable_label=1,\n",
    "                                              unfavorable_label=0)\n",
    "test_binary_dataset = BinaryLabelDataset(df=test_df,\n",
    "                                         label_names=[data_loader.target],\n",
    "                                         protected_attribute_names=[sensitive_attribute],\n",
    "                                         favorable_label=1,\n",
    "                                         unfavorable_label=0)"
   ],
   "metadata": {
    "collapsed": false,
    "ExecuteTime": {
     "end_time": "2023-10-19T09:00:01.595176Z",
     "start_time": "2023-10-19T09:00:01.101479Z"
    }
   }
  },
  {
   "cell_type": "code",
   "execution_count": 11,
   "outputs": [
    {
     "data": {
      "text/plain": "<IPython.core.display.Markdown object>",
      "text/markdown": "#### Original training dataset"
     },
     "metadata": {},
     "output_type": "display_data"
    },
    {
     "name": "stdout",
     "output_type": "stream",
     "text": [
      "Difference in mean outcomes between unprivileged and privileged groups = -0.034286\n"
     ]
    },
    {
     "data": {
      "text/plain": "<IPython.core.display.Markdown object>",
      "text/markdown": "#### Original test dataset"
     },
     "metadata": {},
     "output_type": "display_data"
    },
    {
     "name": "stdout",
     "output_type": "stream",
     "text": [
      "Difference in mean outcomes between unprivileged and privileged groups = -0.154042\n"
     ]
    }
   ],
   "source": [
    "# Metric for the original dataset\n",
    "privileged_groups = [{'sex_binary': 1}]\n",
    "unprivileged_groups = [{'sex_binary': 0}]\n",
    "\n",
    "metric_orig_train = BinaryLabelDatasetMetric(train_binary_dataset,\n",
    "                                             unprivileged_groups=unprivileged_groups,\n",
    "                                             privileged_groups=privileged_groups)\n",
    "display(Markdown(\"#### Original training dataset\"))\n",
    "print(\"Difference in mean outcomes between unprivileged and privileged groups = %f\" % metric_orig_train.mean_difference())\n",
    "metric_orig_test = BinaryLabelDatasetMetric(test_binary_dataset,\n",
    "                                             unprivileged_groups=unprivileged_groups,\n",
    "                                             privileged_groups=privileged_groups)\n",
    "display(Markdown(\"#### Original test dataset\"))\n",
    "print(\"Difference in mean outcomes between unprivileged and privileged groups = %f\" % metric_orig_test.mean_difference())"
   ],
   "metadata": {
    "collapsed": false,
    "ExecuteTime": {
     "end_time": "2023-10-19T09:00:01.607187Z",
     "start_time": "2023-10-19T09:00:01.109207Z"
    }
   }
  },
  {
   "cell_type": "code",
   "execution_count": 12,
   "outputs": [
    {
     "name": "stdout",
     "output_type": "stream",
     "text": [
      "step: 0, loss: 0.7430054200325741, L_x: 1.420629279221906,  L_y: 0.8264132570182177,  L_z: 0.04693396590031864\n",
      "RUNNING THE L-BFGS-B CODE\n",
      "\n",
      "           * * *\n",
      "\n",
      "Machine precision = 2.220D-16\n",
      " N =          102     M =           10\n",
      "\n",
      "At X0         0 variables are exactly at the bounds\n",
      "\n",
      "At iterate    0    f=  7.43005D-01    |proj g|=  2.66210D-01\n",
      "\n",
      "At iterate    1    f=  6.25800D-01    |proj g|=  1.03889D-01\n",
      "step: 250, loss: 0.5595164928447789, L_x: 1.427293837833227,  L_y: 0.654619986439549,  L_z: 0.02236927896042042\n",
      "\n",
      "At iterate    2    f=  5.59516D-01    |proj g|=  1.28598D-01\n",
      "step: 500, loss: 0.5073393855144686, L_x: 1.427457465245675,  L_y: 0.6654308003439587,  L_z: 0.007969559704480414\n",
      "\n",
      "At iterate    3    f=  5.07339D-01    |proj g|=  1.92568D-01\n",
      "step: 750, loss: 0.48929696679366136, L_x: 1.426883668337707,  L_y: 0.6651215090570112,  L_z: 0.003511961357846279\n",
      "\n",
      "At iterate    4    f=  4.89297D-01    |proj g|=  1.99025D-01\n",
      "\n",
      "At iterate    5    f=  4.62329D-01    |proj g|=  1.16639D-01\n",
      "step: 1000, loss: 0.5678879130873731, L_x: 1.414646652771888,  L_y: 0.6720841871812061,  L_z: 0.022595288554895326\n",
      "\n",
      "At iterate    6    f=  4.56637D-01    |proj g|=  1.12504D-01\n",
      "step: 1250, loss: 0.459513491790206, L_x: 1.4242073443814764,  L_y: 0.6188504233201856,  L_z: 0.0019168864229913891\n",
      "\n",
      "At iterate    7    f=  4.56392D-01    |proj g|=  1.17607D-01\n",
      "step: 1500, loss: 0.45321877013144185, L_x: 1.4242462391481676,  L_y: 0.6182189416624233,  L_z: 0.00042116884635334806\n",
      "\n",
      "At iterate    8    f=  4.53219D-01    |proj g|=  1.12496D-01\n",
      "\n",
      "At iterate    9    f=  4.51604D-01    |proj g|=  1.17867D-01\n",
      "step: 1750, loss: 0.4523811699497428, L_x: 1.423754434010867,  L_y: 0.617710525546917,  L_z: 0.0002876159437994093\n",
      "\n",
      "At iterate   10    f=  4.51534D-01    |proj g|=  1.12081D-01\n",
      "step: 2000, loss: 0.4513864353173799, L_x: 1.4238758866460959,  L_y: 0.6177231816982114,  L_z: 3.431395091615016e-05\n",
      "\n",
      "At iterate   11    f=  4.51386D-01    |proj g|=  1.27895D-01\n",
      "\n",
      "At iterate   12    f=  4.51384D-01    |proj g|=  1.12445D-01\n",
      "step: 2250, loss: 0.45115206068305025, L_x: 1.4236552671766367,  L_y: 0.6173557895614321,  L_z: 2.7159796167630645e-05\n",
      "\n",
      "At iterate   13    f=  4.51152D-01    |proj g|=  1.27558D-01\n",
      "\n",
      "At iterate   14    f=  4.51010D-01    |proj g|=  1.11978D-01\n",
      "step: 2500, loss: 0.4496157018395616, L_x: 1.421605139067847,  L_y: 0.6143628395382055,  L_z: 6.844204091852972e-05\n",
      "\n",
      "At iterate   15    f=  4.49615D-01    |proj g|=  1.17993D-01\n",
      "\n",
      "At iterate   16    f=  4.38291D-01    |proj g|=  1.18577D-01\n",
      "step: 2750, loss: 0.43617281110594663, L_x: 1.3010974847436572,  L_y: 0.6003805229763439,  L_z: 0.0014682002858522336\n",
      "\n",
      "At iterate   17    f=  4.31235D-01    |proj g|=  1.21184D-01\n",
      "step: 3000, loss: 0.428026909566302, L_x: 1.2673217795000824,  L_y: 0.5876132924077091,  L_z: 0.0018720213531098113\n",
      "\n",
      "At iterate   18    f=  4.28027D-01    |proj g|=  1.22972D-01\n",
      "  Positive dir derivative in projection \n",
      "  Using the backtracking step \n",
      "\n",
      "At iterate   19    f=  4.26306D-01    |proj g|=  1.23072D-01\n",
      "step: 3250, loss: 0.39766081791154695, L_x: 1.0868201564940994,  L_y: 0.5460688910585795,  L_z: 0.003986089183211823\n",
      "\n",
      "At iterate   20    f=  3.97661D-01    |proj g|=  1.42227D-01\n",
      "step: 3500, loss: 0.36050101594652406, L_x: 1.0189214375796993,  L_y: 0.48770505556646343,  L_z: 0.0036890861013306095\n",
      "\n",
      "At iterate   21    f=  3.60501D-01    |proj g|=  1.24078D-01\n",
      "\n",
      "At iterate   22    f=  3.45038D-01    |proj g|=  6.84790D-02\n",
      "step: 3750, loss: 0.33894256880271795, L_x: 1.0144238744473482,  L_y: 0.456366420368873,  L_z: 0.002329242793386662\n",
      "\n",
      "At iterate   23    f=  3.38943D-01    |proj g|=  1.42641D-01\n",
      "\n",
      "At iterate   24    f=  3.30684D-01    |proj g|=  1.41508D-01\n",
      "step: 4000, loss: 0.4196679312139327, L_x: 0.9788019504526211,  L_y: 0.4008565869587269,  L_z: 0.03033986067232679\n",
      "\n",
      "At iterate   25    f=  3.14993D-01    |proj g|=  8.00615D-02\n",
      "\n",
      "At iterate   26    f=  3.01684D-01    |proj g|=  8.71033D-02\n",
      "step: 4250, loss: 0.5362559887275045, L_x: 1.2143521365230296,  L_y: 0.493345765503415,  L_z: 0.04203697308087349\n",
      "\n",
      "At iterate   27    f=  3.00361D-01    |proj g|=  1.45231D-01\n",
      "step: 4500, loss: 0.29475665912423643, L_x: 0.9971701358813511,  L_y: 0.36080041671151947,  L_z: 0.003659859295085388\n",
      "\n",
      "At iterate   28    f=  2.94757D-01    |proj g|=  8.22846D-02\n",
      "step: 4750, loss: 0.28463087106188134, L_x: 1.0053811204378584,  L_y: 0.36066325312714187,  L_z: 0.0009402831136311463\n",
      "\n",
      "At iterate   29    f=  2.84631D-01    |proj g|=  9.75555D-02\n",
      "\n",
      "At iterate   30    f=  2.83664D-01    |proj g|=  1.05218D-01\n",
      "step: 5000, loss: 0.27427380469162665, L_x: 1.0110623739459697,  L_y: 0.34338922370241565,  L_z: 0.00036823886145546475\n",
      "\n",
      "At iterate   31    f=  2.74274D-01    |proj g|=  1.07257D-01\n",
      "\n",
      "           * * *\n",
      "\n",
      "Tit   = total number of iterations\n",
      "Tnf   = total number of function evaluations\n",
      "Tnint = total number of segments explored during Cauchy searches\n",
      "Skip  = number of BFGS updates skipped\n",
      "Nact  = number of active bounds at final generalized Cauchy point\n",
      "Projg = norm of the final projected gradient\n",
      "F     = final function value\n",
      "\n",
      "           * * *\n",
      "\n",
      "   N    Tit     Tnf  Tnint  Skip  Nact     Projg        F\n",
      "  102     31     49     32     0     3   1.073D-01   2.743D-01\n",
      "  F =  0.27427368301004029     \n",
      "\n",
      "STOP: TOTAL NO. of f AND g EVALUATIONS EXCEEDS LIMIT        \n"
     ]
    }
   ],
   "source": [
    "TR = LFR(unprivileged_groups=unprivileged_groups,\n",
    "         privileged_groups=privileged_groups,\n",
    "         k=3, Ax=0.1, Ay=0.5, Az=4.0,\n",
    "         verbose=1\n",
    "        )\n",
    "TR = TR.fit(train_binary_dataset, maxiter=5000, maxfun=5000)"
   ],
   "metadata": {
    "collapsed": false,
    "ExecuteTime": {
     "end_time": "2023-10-19T09:00:02.424389Z",
     "start_time": "2023-10-19T09:00:01.121160Z"
    }
   }
  },
  {
   "cell_type": "code",
   "execution_count": 13,
   "outputs": [],
   "source": [
    "dataset_transf_train = TR.transform(train_binary_dataset)\n",
    "dataset_transf_test = TR.transform(test_binary_dataset)"
   ],
   "metadata": {
    "collapsed": false,
    "ExecuteTime": {
     "end_time": "2023-10-19T09:00:02.424914Z",
     "start_time": "2023-10-19T09:00:02.310785Z"
    }
   }
  },
  {
   "cell_type": "code",
   "execution_count": 14,
   "outputs": [
    {
     "data": {
      "text/plain": "<IPython.core.display.Markdown object>",
      "text/markdown": "#### Transformed training dataset"
     },
     "metadata": {},
     "output_type": "display_data"
    },
    {
     "name": "stdout",
     "output_type": "stream",
     "text": [
      "Difference in mean outcomes between unprivileged and privileged groups = 0.016508\n"
     ]
    },
    {
     "data": {
      "text/plain": "<IPython.core.display.Markdown object>",
      "text/markdown": "#### Transformed test dataset"
     },
     "metadata": {},
     "output_type": "display_data"
    },
    {
     "name": "stdout",
     "output_type": "stream",
     "text": [
      "Difference in mean outcomes between unprivileged and privileged groups = -0.103166\n"
     ]
    }
   ],
   "source": [
    "metric_transf_train = BinaryLabelDatasetMetric(dataset_transf_train,\n",
    "                                             unprivileged_groups=unprivileged_groups,\n",
    "                                             privileged_groups=privileged_groups)\n",
    "display(Markdown(\"#### Transformed training dataset\"))\n",
    "print(\"Difference in mean outcomes between unprivileged and privileged groups = %f\" % metric_transf_train.mean_difference())\n",
    "metric_transf_test = BinaryLabelDatasetMetric(dataset_transf_test,\n",
    "                                             unprivileged_groups=unprivileged_groups,\n",
    "                                             privileged_groups=privileged_groups)\n",
    "display(Markdown(\"#### Transformed test dataset\"))\n",
    "print(\"Difference in mean outcomes between unprivileged and privileged groups = %f\" % metric_transf_test.mean_difference())"
   ],
   "metadata": {
    "collapsed": false,
    "ExecuteTime": {
     "end_time": "2023-10-19T09:00:02.425356Z",
     "start_time": "2023-10-19T09:00:02.317011Z"
    }
   }
  },
  {
   "cell_type": "code",
   "execution_count": 15,
   "outputs": [],
   "source": [
    "train_df, _ = train_binary_dataset.convert_to_dataframe()\n",
    "test_df, _ = test_binary_dataset.convert_to_dataframe()"
   ],
   "metadata": {
    "collapsed": false,
    "ExecuteTime": {
     "end_time": "2023-10-19T09:00:02.512915Z",
     "start_time": "2023-10-19T09:00:02.329788Z"
    }
   }
  },
  {
   "cell_type": "code",
   "execution_count": 16,
   "outputs": [],
   "source": [
    "from sklearn.ensemble import RandomForestClassifier\n",
    "\n",
    "rfc = RandomForestClassifier(random_state=42)"
   ],
   "metadata": {
    "collapsed": false,
    "ExecuteTime": {
     "end_time": "2023-10-19T09:00:02.548887Z",
     "start_time": "2023-10-19T09:00:02.343919Z"
    }
   }
  },
  {
   "cell_type": "code",
   "execution_count": 17,
   "outputs": [],
   "source": [
    "train_X = train_df.drop(['G3'], axis=1)\n",
    "train_y = train_df['G3']"
   ],
   "metadata": {
    "collapsed": false,
    "ExecuteTime": {
     "end_time": "2023-10-19T09:00:02.560575Z",
     "start_time": "2023-10-19T09:00:02.410368Z"
    }
   }
  },
  {
   "cell_type": "code",
   "execution_count": 18,
   "outputs": [],
   "source": [
    "test_X = test_df.drop(['G3'], axis=1)\n",
    "test_y = test_df['G3']"
   ],
   "metadata": {
    "collapsed": false,
    "ExecuteTime": {
     "end_time": "2023-10-19T09:00:02.564412Z",
     "start_time": "2023-10-19T09:00:02.420155Z"
    }
   }
  },
  {
   "cell_type": "code",
   "execution_count": 19,
   "outputs": [],
   "source": [
    "rfc = rfc.fit(train_X, train_y)"
   ],
   "metadata": {
    "collapsed": false,
    "ExecuteTime": {
     "end_time": "2023-10-19T09:00:02.583714Z",
     "start_time": "2023-10-19T09:00:02.420462Z"
    }
   }
  },
  {
   "cell_type": "code",
   "execution_count": 20,
   "outputs": [],
   "source": [
    "y_pred = rfc.predict(test_X)"
   ],
   "metadata": {
    "collapsed": false,
    "ExecuteTime": {
     "end_time": "2023-10-19T09:00:02.584044Z",
     "start_time": "2023-10-19T09:00:02.529169Z"
    }
   }
  },
  {
   "cell_type": "code",
   "execution_count": 21,
   "outputs": [
    {
     "name": "stdout",
     "output_type": "stream",
     "text": [
      "Classification Report:\n",
      "               precision    recall  f1-score   support\n",
      "\n",
      "         0.0       0.85      0.96      0.90        46\n",
      "         1.0       0.97      0.89      0.93        73\n",
      "\n",
      "    accuracy                           0.92       119\n",
      "   macro avg       0.91      0.92      0.91       119\n",
      "weighted avg       0.92      0.92      0.92       119\n",
      "\n"
     ]
    }
   ],
   "source": [
    "report = classification_report(test_y, y_pred)\n",
    "print(\"Classification Report:\\n\", report)"
   ],
   "metadata": {
    "collapsed": false,
    "ExecuteTime": {
     "end_time": "2023-10-19T09:00:02.609962Z",
     "start_time": "2023-10-19T09:00:02.536008Z"
    }
   }
  },
  {
   "cell_type": "code",
   "execution_count": 22,
   "outputs": [
    {
     "name": "stdout",
     "output_type": "stream",
     "text": [
      "Classification Report:\n",
      "               precision    recall  f1-score   support\n",
      "\n",
      "         0.0       0.51      0.62      0.56        58\n",
      "         1.0       0.54      0.43      0.48        61\n",
      "\n",
      "    accuracy                           0.52       119\n",
      "   macro avg       0.52      0.52      0.52       119\n",
      "weighted avg       0.52      0.52      0.52       119\n",
      "\n"
     ]
    }
   ],
   "source": [
    "train_df, _ = dataset_transf_train.convert_to_dataframe()\n",
    "test_df, _ = dataset_transf_test.convert_to_dataframe()\n",
    "\n",
    "\n",
    "rfc = RandomForestClassifier(random_state=42)\n",
    "\n",
    "train_X = train_df.drop(['sex_binary', 'G3'], axis=1)\n",
    "train_y = train_df['sex_binary']\n",
    "\n",
    "test_X = test_df.drop(['sex_binary', 'G3'], axis=1)\n",
    "test_y = test_df['sex_binary']\n",
    "\n",
    "rfc = rfc.fit(train_X, train_y)\n",
    "\n",
    "y_pred = rfc.predict(test_X)\n",
    "\n",
    "report = classification_report(test_y, y_pred)\n",
    "print(\"Classification Report:\\n\", report)"
   ],
   "metadata": {
    "collapsed": false,
    "ExecuteTime": {
     "end_time": "2023-10-19T09:00:02.759352Z",
     "start_time": "2023-10-19T09:00:02.549741Z"
    }
   }
  },
  {
   "cell_type": "code",
   "execution_count": 22,
   "outputs": [],
   "source": [],
   "metadata": {
    "collapsed": false,
    "ExecuteTime": {
     "end_time": "2023-10-19T09:00:02.759808Z",
     "start_time": "2023-10-19T09:00:02.699839Z"
    }
   }
  }
 ],
 "metadata": {
  "kernelspec": {
   "display_name": "Python 3",
   "language": "python",
   "name": "python3"
  },
  "language_info": {
   "codemirror_mode": {
    "name": "ipython",
    "version": 2
   },
   "file_extension": ".py",
   "mimetype": "text/x-python",
   "name": "python",
   "nbconvert_exporter": "python",
   "pygments_lexer": "ipython2",
   "version": "2.7.6"
  }
 },
 "nbformat": 4,
 "nbformat_minor": 0
}
