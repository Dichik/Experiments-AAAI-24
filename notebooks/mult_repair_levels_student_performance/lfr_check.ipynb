{
 "cells": [
  {
   "cell_type": "code",
   "execution_count": 2,
   "outputs": [
    {
     "name": "stdout",
     "output_type": "stream",
     "text": [
      "Current location:  /Users/tarasbohdan/Desktop/Experiments-AAAI-24\n"
     ]
    }
   ],
   "source": [
    "import os\n",
    "\n",
    "cur_folder_name = os.getcwd().split('/')[-1]\n",
    "if cur_folder_name != \"fairness-variance\":\n",
    "    os.chdir(\"../..\")\n",
    "\n",
    "print('Current location: ', os.getcwd())"
   ],
   "metadata": {
    "collapsed": false,
    "ExecuteTime": {
     "end_time": "2023-10-19T10:54:51.855184Z",
     "start_time": "2023-10-19T10:54:51.439938Z"
    }
   }
  },
  {
   "cell_type": "code",
   "execution_count": 3,
   "outputs": [],
   "source": [
    "%matplotlib inline\n",
    "\n",
    "import sys\n",
    "sys.path.append(\"../\")\n",
    "import copy\n",
    "\n",
    "from aif360.datasets import BinaryLabelDataset\n",
    "from aif360.datasets import AdultDataset\n",
    "from aif360.metrics import BinaryLabelDatasetMetric\n",
    "from aif360.metrics import ClassificationMetric\n",
    "from aif360.metrics.utils import compute_boolean_conditioning_vector\n",
    "\n",
    "from aif360.algorithms.preprocessing.optim_preproc_helpers.data_preproc_functions import load_preproc_data_adult\n",
    "from aif360.algorithms.preprocessing.lfr import LFR\n",
    "\n",
    "from sklearn.linear_model import LogisticRegression\n",
    "from sklearn.preprocessing import StandardScaler\n",
    "from sklearn.metrics import accuracy_score\n",
    "from sklearn.metrics import classification_report\n",
    "\n",
    "from IPython.display import Markdown, display\n",
    "import matplotlib.pyplot as plt\n",
    "import numpy as np\n"
   ],
   "metadata": {
    "collapsed": false,
    "ExecuteTime": {
     "end_time": "2023-10-19T10:54:51.855346Z",
     "start_time": "2023-10-19T10:54:51.446049Z"
    }
   }
  },
  {
   "cell_type": "code",
   "execution_count": 4,
   "outputs": [],
   "source": [
    "class Config:\n",
    "  file_name = './data/student_performance/student-mat.csv'"
   ],
   "metadata": {
    "collapsed": false,
    "ExecuteTime": {
     "end_time": "2023-10-19T10:54:51.855431Z",
     "start_time": "2023-10-19T10:54:51.471878Z"
    }
   }
  },
  {
   "cell_type": "code",
   "execution_count": 5,
   "outputs": [
    {
     "data": {
      "text/plain": "   age  Medu  Fedu  traveltime  studytime  failures  famrel  freetime  goout  \\\n0   18     4     4           2          2         0       4         3      4   \n1   17     1     1           1          2         0       5         3      3   \n2   15     1     1           1          2         3       4         3      2   \n3   15     4     2           1          3         0       3         2      2   \n4   16     3     3           1          2         0       4         3      2   \n\n   Dalc  Walc  health  absences  G1  G2     Mjob      Fjob  reason guardian  \\\n0     1     1       3         6   0   0  at_home   teacher  course   mother   \n1     1     1       3         4   0   0  at_home     other  course   father   \n2     2     3       3        10   0   0  at_home     other   other   mother   \n3     1     1       5         2   1   1   health  services    home   mother   \n4     1     2       5         4   0   1    other     other    home   father   \n\n  sex  \n0   F  \n1   F  \n2   F  \n3   F  \n4   F  ",
      "text/html": "<div>\n<style scoped>\n    .dataframe tbody tr th:only-of-type {\n        vertical-align: middle;\n    }\n\n    .dataframe tbody tr th {\n        vertical-align: top;\n    }\n\n    .dataframe thead th {\n        text-align: right;\n    }\n</style>\n<table border=\"1\" class=\"dataframe\">\n  <thead>\n    <tr style=\"text-align: right;\">\n      <th></th>\n      <th>age</th>\n      <th>Medu</th>\n      <th>Fedu</th>\n      <th>traveltime</th>\n      <th>studytime</th>\n      <th>failures</th>\n      <th>famrel</th>\n      <th>freetime</th>\n      <th>goout</th>\n      <th>Dalc</th>\n      <th>Walc</th>\n      <th>health</th>\n      <th>absences</th>\n      <th>G1</th>\n      <th>G2</th>\n      <th>Mjob</th>\n      <th>Fjob</th>\n      <th>reason</th>\n      <th>guardian</th>\n      <th>sex</th>\n    </tr>\n  </thead>\n  <tbody>\n    <tr>\n      <th>0</th>\n      <td>18</td>\n      <td>4</td>\n      <td>4</td>\n      <td>2</td>\n      <td>2</td>\n      <td>0</td>\n      <td>4</td>\n      <td>3</td>\n      <td>4</td>\n      <td>1</td>\n      <td>1</td>\n      <td>3</td>\n      <td>6</td>\n      <td>0</td>\n      <td>0</td>\n      <td>at_home</td>\n      <td>teacher</td>\n      <td>course</td>\n      <td>mother</td>\n      <td>F</td>\n    </tr>\n    <tr>\n      <th>1</th>\n      <td>17</td>\n      <td>1</td>\n      <td>1</td>\n      <td>1</td>\n      <td>2</td>\n      <td>0</td>\n      <td>5</td>\n      <td>3</td>\n      <td>3</td>\n      <td>1</td>\n      <td>1</td>\n      <td>3</td>\n      <td>4</td>\n      <td>0</td>\n      <td>0</td>\n      <td>at_home</td>\n      <td>other</td>\n      <td>course</td>\n      <td>father</td>\n      <td>F</td>\n    </tr>\n    <tr>\n      <th>2</th>\n      <td>15</td>\n      <td>1</td>\n      <td>1</td>\n      <td>1</td>\n      <td>2</td>\n      <td>3</td>\n      <td>4</td>\n      <td>3</td>\n      <td>2</td>\n      <td>2</td>\n      <td>3</td>\n      <td>3</td>\n      <td>10</td>\n      <td>0</td>\n      <td>0</td>\n      <td>at_home</td>\n      <td>other</td>\n      <td>other</td>\n      <td>mother</td>\n      <td>F</td>\n    </tr>\n    <tr>\n      <th>3</th>\n      <td>15</td>\n      <td>4</td>\n      <td>2</td>\n      <td>1</td>\n      <td>3</td>\n      <td>0</td>\n      <td>3</td>\n      <td>2</td>\n      <td>2</td>\n      <td>1</td>\n      <td>1</td>\n      <td>5</td>\n      <td>2</td>\n      <td>1</td>\n      <td>1</td>\n      <td>health</td>\n      <td>services</td>\n      <td>home</td>\n      <td>mother</td>\n      <td>F</td>\n    </tr>\n    <tr>\n      <th>4</th>\n      <td>16</td>\n      <td>3</td>\n      <td>3</td>\n      <td>1</td>\n      <td>2</td>\n      <td>0</td>\n      <td>4</td>\n      <td>3</td>\n      <td>2</td>\n      <td>1</td>\n      <td>2</td>\n      <td>5</td>\n      <td>4</td>\n      <td>0</td>\n      <td>1</td>\n      <td>other</td>\n      <td>other</td>\n      <td>home</td>\n      <td>father</td>\n      <td>F</td>\n    </tr>\n  </tbody>\n</table>\n</div>"
     },
     "execution_count": 5,
     "metadata": {},
     "output_type": "execute_result"
    }
   ],
   "source": [
    "from notebooks.mult_repair_levels_student_performance.StudentPerformanceDataset import StudentPerformanceDataset\n",
    "\n",
    "data_loader = StudentPerformanceDataset(Config.file_name)\n",
    "data_loader.X_data.head()"
   ],
   "metadata": {
    "collapsed": false,
    "ExecuteTime": {
     "end_time": "2023-10-19T10:54:51.867579Z",
     "start_time": "2023-10-19T10:54:51.474845Z"
    }
   }
  },
  {
   "cell_type": "code",
   "execution_count": 6,
   "outputs": [],
   "source": [
    "init_data_loader = copy.deepcopy(data_loader)"
   ],
   "metadata": {
    "collapsed": false,
    "ExecuteTime": {
     "end_time": "2023-10-19T10:54:51.867913Z",
     "start_time": "2023-10-19T10:54:51.736342Z"
    }
   }
  },
  {
   "cell_type": "code",
   "execution_count": 7,
   "outputs": [
    {
     "name": "stderr",
     "output_type": "stream",
     "text": [
      "/var/folders/cg/l243p36n10s5v1x_vrt2wzs80000gn/T/ipykernel_68565/2079174263.py:6: SettingWithCopyWarning: \n",
      "A value is trying to be set on a copy of a slice from a DataFrame.\n",
      "Try using .loc[row_indexer,col_indexer] = value instead\n",
      "\n",
      "See the caveats in the documentation: https://pandas.pydata.org/pandas-docs/stable/user_guide/indexing.html#returning-a-view-versus-a-copy\n",
      "  data_loader.X_data['sex_binary'] = data_loader.X_data['sex'].apply(lambda x: 1 if x == 'M' else 0)\n",
      "/Users/tarasbohdan/Desktop/Experiments-AAAI-24/virny_venv/lib/python3.9/site-packages/sklearn/preprocessing/_encoders.py:868: FutureWarning: `sparse` was renamed to `sparse_output` in version 1.2 and will be removed in 1.4. `sparse_output` is ignored unless you leave `sparse` to its default value.\n",
      "  warnings.warn(\n"
     ]
    }
   ],
   "source": [
    "from virny.preprocessing import preprocess_dataset\n",
    "from source.preprocessing import get_simple_preprocessor\n",
    "\n",
    "data_loader.categorical_columns = [col for col in data_loader.categorical_columns if\n",
    "                                   col not in ('sex')]\n",
    "data_loader.X_data['sex_binary'] = data_loader.X_data['sex'].apply(lambda x: 1 if x == 'M' else 0)\n",
    "data_loader.full_df = data_loader.full_df.drop(['sex'], axis=1)\n",
    "data_loader.X_data = data_loader.X_data.drop(['sex'], axis=1)\n",
    "\n",
    "# Preprocess the dataset using the defined preprocessor\n",
    "column_transformer = get_simple_preprocessor(data_loader)\n",
    "base_flow_dataset = preprocess_dataset(data_loader, column_transformer, 0.3, 42)\n",
    "base_flow_dataset.init_features_df = init_data_loader.full_df.drop(init_data_loader.target, axis=1,\n",
    "                                                                   errors='ignore')\n",
    "base_flow_dataset.X_train_val['sex_binary'] = data_loader.X_data.loc[\n",
    "    base_flow_dataset.X_train_val.index, 'sex_binary']\n",
    "base_flow_dataset.X_test['sex_binary'] = data_loader.X_data.loc[base_flow_dataset.X_test.index, 'sex_binary']"
   ],
   "metadata": {
    "collapsed": false,
    "ExecuteTime": {
     "end_time": "2023-10-19T10:54:53.161160Z",
     "start_time": "2023-10-19T10:54:51.740860Z"
    }
   }
  },
  {
   "cell_type": "code",
   "execution_count": 8,
   "outputs": [],
   "source": [
    "from sklearn.model_selection import train_test_split\n",
    "\n",
    "full_df = data_loader.X_data\n",
    "\n",
    "dataset_orig_train, dataset_orig_test = train_test_split(full_df, test_size=0.3)"
   ],
   "metadata": {
    "collapsed": false,
    "ExecuteTime": {
     "end_time": "2023-10-19T10:54:53.203641Z",
     "start_time": "2023-10-19T10:54:52.896893Z"
    }
   }
  },
  {
   "cell_type": "code",
   "execution_count": 9,
   "outputs": [],
   "source": [
    "sensitive_attribute = 'sex_binary'"
   ],
   "metadata": {
    "collapsed": false,
    "ExecuteTime": {
     "end_time": "2023-10-19T10:54:53.212971Z",
     "start_time": "2023-10-19T10:54:52.899419Z"
    }
   }
  },
  {
   "cell_type": "code",
   "execution_count": 10,
   "outputs": [],
   "source": [
    "train_df = base_flow_dataset.X_train_val\n",
    "train_df[base_flow_dataset.target] = base_flow_dataset.y_train_val\n",
    "\n",
    "test_df = base_flow_dataset.X_test\n",
    "test_df[base_flow_dataset.target] = base_flow_dataset.y_test"
   ],
   "metadata": {
    "collapsed": false,
    "ExecuteTime": {
     "end_time": "2023-10-19T10:54:53.213352Z",
     "start_time": "2023-10-19T10:54:52.899988Z"
    }
   }
  },
  {
   "cell_type": "code",
   "execution_count": 11,
   "outputs": [],
   "source": [
    "train_binary_dataset = BinaryLabelDataset(df=train_df,\n",
    "                                              label_names=[data_loader.target],\n",
    "                                              protected_attribute_names=[sensitive_attribute],\n",
    "                                              favorable_label=1,\n",
    "                                              unfavorable_label=0)\n",
    "test_binary_dataset = BinaryLabelDataset(df=test_df,\n",
    "                                         label_names=[data_loader.target],\n",
    "                                         protected_attribute_names=[sensitive_attribute],\n",
    "                                         favorable_label=1,\n",
    "                                         unfavorable_label=0)"
   ],
   "metadata": {
    "collapsed": false,
    "ExecuteTime": {
     "end_time": "2023-10-19T10:54:53.213460Z",
     "start_time": "2023-10-19T10:54:52.900975Z"
    }
   }
  },
  {
   "cell_type": "code",
   "execution_count": 12,
   "outputs": [
    {
     "data": {
      "text/plain": "<IPython.core.display.Markdown object>",
      "text/markdown": "#### Original training dataset"
     },
     "metadata": {},
     "output_type": "display_data"
    },
    {
     "name": "stdout",
     "output_type": "stream",
     "text": [
      "Difference in mean outcomes between unprivileged and privileged groups = -0.034286\n"
     ]
    },
    {
     "data": {
      "text/plain": "<IPython.core.display.Markdown object>",
      "text/markdown": "#### Original test dataset"
     },
     "metadata": {},
     "output_type": "display_data"
    },
    {
     "name": "stdout",
     "output_type": "stream",
     "text": [
      "Difference in mean outcomes between unprivileged and privileged groups = -0.154042\n"
     ]
    }
   ],
   "source": [
    "# Metric for the original dataset\n",
    "privileged_groups = [{'sex_binary': 1}]\n",
    "unprivileged_groups = [{'sex_binary': 0}]\n",
    "\n",
    "metric_orig_train = BinaryLabelDatasetMetric(train_binary_dataset,\n",
    "                                             unprivileged_groups=unprivileged_groups,\n",
    "                                             privileged_groups=privileged_groups)\n",
    "display(Markdown(\"#### Original training dataset\"))\n",
    "print(\"Difference in mean outcomes between unprivileged and privileged groups = %f\" % metric_orig_train.mean_difference())\n",
    "metric_orig_test = BinaryLabelDatasetMetric(test_binary_dataset,\n",
    "                                             unprivileged_groups=unprivileged_groups,\n",
    "                                             privileged_groups=privileged_groups)\n",
    "display(Markdown(\"#### Original test dataset\"))\n",
    "print(\"Difference in mean outcomes between unprivileged and privileged groups = %f\" % metric_orig_test.mean_difference())"
   ],
   "metadata": {
    "collapsed": false,
    "ExecuteTime": {
     "end_time": "2023-10-19T10:54:53.214241Z",
     "start_time": "2023-10-19T10:54:52.913785Z"
    }
   }
  },
  {
   "cell_type": "code",
   "execution_count": 28,
   "outputs": [
    {
     "name": "stdout",
     "output_type": "stream",
     "text": [
      "step: 0, loss: 0.4809912317171258, L_x: 1.3810962672398244,  L_y: 0.6210111392736323,  L_z: 0.008094008839081809\n",
      "RUNNING THE L-BFGS-B CODE\n",
      "\n",
      "           * * *\n",
      "\n",
      "Machine precision = 2.220D-16\n",
      " N =          102     M =           10\n",
      "\n",
      "At X0         0 variables are exactly at the bounds\n",
      "\n",
      "At iterate    0    f=  4.80991D-01    |proj g|=  1.19131D-01\n",
      "step: 250, loss: 0.4545641387297948, L_x: 1.3801652538352993,  L_y: 0.6194608197858771,  L_z: 0.0017043008633315833\n",
      "\n",
      "At iterate    1    f=  4.54564D-01    |proj g|=  1.28906D-01\n",
      "step: 500, loss: 0.4574143723247141, L_x: 1.3793609912655986,  L_y: 0.6186717380447676,  L_z: 0.002535601043942607\n",
      "\n",
      "At iterate    2    f=  4.51204D-01    |proj g|=  1.16283D-01\n",
      "\n",
      "At iterate    3    f=  4.49093D-01    |proj g|=  1.28476D-01\n",
      "step: 750, loss: 0.4495155088083656, L_x: 1.3795554551067073,  L_y: 0.6189619372896487,  L_z: 0.000519748663217634\n",
      "\n",
      "At iterate    4    f=  4.48418D-01    |proj g|=  1.17345D-01\n",
      "step: 1000, loss: 0.4540590217875803, L_x: 1.3797901915440722,  L_y: 0.6190469430498033,  L_z: 0.001639132777067842\n",
      "\n",
      "At iterate    5    f=  4.47965D-01    |proj g|=  1.17922D-01\n",
      "step: 1250, loss: 0.44772261859920903, L_x: 1.3795040153409683,  L_y: 0.6188942587453446,  L_z: 8.127192310997122e-05\n",
      "step: 1500, loss: 0.44754058442751793, L_x: 1.379507588894525,  L_y: 0.6189016454831396,  L_z: 3.475069912391623e-05\n",
      "\n",
      "At iterate    6    f=  4.47457D-01    |proj g|=  1.29217D-01\n",
      "step: 1750, loss: 0.44797864448213526, L_x: 1.3794367952350886,  L_y: 0.6188394037768823,  L_z: 0.0001538157675463244\n",
      "\n",
      "At iterate    7    f=  4.47428D-01    |proj g|=  1.16202D-01\n",
      "step: 2000, loss: 0.4478385524418122, L_x: 1.3794458222664603,  L_y: 0.618858359799357,  L_z: 0.00011619757887191644\n",
      "step: 2250, loss: 0.44741121555797897, L_x: 1.3795027640714865,  L_y: 0.6189003640876912,  L_z: 2.6892767461631864e-06\n",
      "\n",
      "At iterate    8    f=  4.47411D-01    |proj g|=  1.18465D-01\n",
      "\n",
      "At iterate    9    f=  4.47404D-01    |proj g|=  1.28410D-01\n",
      "step: 2500, loss: 0.44741087949552566, L_x: 1.3794848239251558,  L_y: 0.6188832665200044,  L_z: 5.190960751984737e-06\n",
      "\n",
      "At iterate   10    f=  4.47401D-01    |proj g|=  1.11938D-01\n",
      "step: 2750, loss: 0.44738948789224275, L_x: 1.3794804384760226,  L_y: 0.6188792135156138,  L_z: 4.593217083903589e-07\n",
      "\n",
      "At iterate   11    f=  4.47389D-01    |proj g|=  1.29221D-01\n",
      "\n",
      "At iterate   12    f=  4.47348D-01    |proj g|=  1.18467D-01\n",
      "step: 3000, loss: 0.44640733874380634, L_x: 1.3774258635072139,  L_y: 0.6170279958545279,  L_z: 3.768861645523739e-05\n",
      "\n",
      "At iterate   13    f=  4.43941D-01    |proj g|=  1.18479D-01\n",
      "step: 3250, loss: 0.42952709903157466, L_x: 1.3287601832031657,  L_y: 0.5885231299793797,  L_z: 0.0005973789303920599\n",
      "\n",
      "At iterate   14    f=  4.29527D-01    |proj g|=  1.18137D-01\n",
      "\n",
      "At iterate   15    f=  4.11052D-01    |proj g|=  1.10074D-01\n",
      "step: 3500, loss: 0.4065539006721813, L_x: 1.1467380966841274,  L_y: 0.57125298052225,  L_z: 0.0015634001856608866\n",
      "\n",
      "At iterate   16    f=  4.06554D-01    |proj g|=  1.40299D-01\n",
      "\n",
      "At iterate   17    f=  3.95833D-01    |proj g|=  1.42197D-01\n",
      "\n",
      "At iterate   18    f=  3.74263D-01    |proj g|=  1.40238D-01\n",
      "step: 3750, loss: 0.36426667779626837, L_x: 1.0422376003211897,  L_y: 0.4607201760697432,  L_z: 0.007420707432319447\n",
      "\n",
      "At iterate   19    f=  3.64267D-01    |proj g|=  1.22063D-01\n",
      "\n",
      "At iterate   20    f=  3.45542D-01    |proj g|=  1.16196D-01\n",
      "step: 4000, loss: 0.40234255132203145, L_x: 1.1701950944470891,  L_y: 0.533908866645324,  L_z: 0.004592152138665133\n",
      "\n",
      "At iterate   21    f=  3.39148D-01    |proj g|=  1.12071D-01\n",
      "step: 4250, loss: 0.3346702436384384, L_x: 0.99140555550753,  L_y: 0.44071411865333326,  L_z: 0.0037931571902546923\n",
      "step: 4500, loss: 0.3336751913377617, L_x: 0.9916274578830873,  L_y: 0.44109460225270464,  L_z: 0.0034912861057751674\n",
      "\n",
      "At iterate   22    f=  3.33675D-01    |proj g|=  1.16549D-01\n",
      "step: 4750, loss: 0.3330860284905887, L_x: 0.9882874532282868,  L_y: 0.4374405955903036,  L_z: 0.003884246343152061\n",
      "\n",
      "At iterate   23    f=  3.33086D-01    |proj g|=  1.13818D-01\n",
      "\n",
      "At iterate   24    f=  3.29592D-01    |proj g|=  1.14386D-01\n",
      "step: 5000, loss: 0.324602776798484, L_x: 1.0006062886478386,  L_y: 0.43231008469857163,  L_z: 0.00209677639610358\n",
      "\n",
      "At iterate   25    f=  3.17996D-01    |proj g|=  1.02915D-01\n",
      "\n",
      "           * * *\n",
      "\n",
      "Tit   = total number of iterations\n",
      "Tnf   = total number of function evaluations\n",
      "Tnint = total number of segments explored during Cauchy searches\n",
      "Skip  = number of BFGS updates skipped\n",
      "Nact  = number of active bounds at final generalized Cauchy point\n",
      "Projg = norm of the final projected gradient\n",
      "F     = final function value\n",
      "\n",
      "           * * *\n",
      "\n",
      "   N    Tit     Tnf  Tnint  Skip  Nact     Projg        F\n",
      "  102     25     50     25     0     2   1.029D-01   3.180D-01\n",
      "  F =  0.31799614304284862     \n",
      "\n",
      "STOP: TOTAL NO. of f AND g EVALUATIONS EXCEEDS LIMIT        \n"
     ]
    }
   ],
   "source": [
    "TR = LFR(unprivileged_groups=unprivileged_groups,\n",
    "         privileged_groups=privileged_groups,\n",
    "         k=3, Ax=0.1, Ay=0.5, Az=4.0,\n",
    "         verbose=1\n",
    "        )\n",
    "TR = TR.fit(train_binary_dataset, maxiter=5000, maxfun=5000)"
   ],
   "metadata": {
    "collapsed": false,
    "ExecuteTime": {
     "end_time": "2023-10-19T10:56:06.946001Z",
     "start_time": "2023-10-19T10:56:05.713097Z"
    }
   }
  },
  {
   "cell_type": "code",
   "execution_count": 29,
   "outputs": [],
   "source": [
    "dataset_transf_train = TR.transform(train_binary_dataset)\n",
    "dataset_transf_test = TR.transform(test_binary_dataset)"
   ],
   "metadata": {
    "collapsed": false,
    "ExecuteTime": {
     "end_time": "2023-10-19T10:56:08.939799Z",
     "start_time": "2023-10-19T10:56:08.888965Z"
    }
   }
  },
  {
   "cell_type": "code",
   "execution_count": 30,
   "outputs": [
    {
     "data": {
      "text/plain": "<IPython.core.display.Markdown object>",
      "text/markdown": "#### Transformed training dataset"
     },
     "metadata": {},
     "output_type": "display_data"
    },
    {
     "name": "stdout",
     "output_type": "stream",
     "text": [
      "Difference in mean outcomes between unprivileged and privileged groups = 0.029206\n"
     ]
    },
    {
     "data": {
      "text/plain": "<IPython.core.display.Markdown object>",
      "text/markdown": "#### Transformed test dataset"
     },
     "metadata": {},
     "output_type": "display_data"
    },
    {
     "name": "stdout",
     "output_type": "stream",
     "text": [
      "Difference in mean outcomes between unprivileged and privileged groups = -0.045506\n"
     ]
    }
   ],
   "source": [
    "metric_transf_train = BinaryLabelDatasetMetric(dataset_transf_train,\n",
    "                                             unprivileged_groups=unprivileged_groups,\n",
    "                                             privileged_groups=privileged_groups)\n",
    "display(Markdown(\"#### Transformed training dataset\"))\n",
    "print(\"Difference in mean outcomes between unprivileged and privileged groups = %f\" % metric_transf_train.mean_difference())\n",
    "metric_transf_test = BinaryLabelDatasetMetric(dataset_transf_test,\n",
    "                                             unprivileged_groups=unprivileged_groups,\n",
    "                                             privileged_groups=privileged_groups)\n",
    "display(Markdown(\"#### Transformed test dataset\"))\n",
    "print(\"Difference in mean outcomes between unprivileged and privileged groups = %f\" % metric_transf_test.mean_difference())"
   ],
   "metadata": {
    "collapsed": false,
    "ExecuteTime": {
     "end_time": "2023-10-19T10:56:10.690692Z",
     "start_time": "2023-10-19T10:56:10.581399Z"
    }
   }
  },
  {
   "cell_type": "code",
   "execution_count": 31,
   "outputs": [],
   "source": [
    "train_df, _ = train_binary_dataset.convert_to_dataframe()\n",
    "test_df, _ = test_binary_dataset.convert_to_dataframe()"
   ],
   "metadata": {
    "collapsed": false,
    "ExecuteTime": {
     "end_time": "2023-10-19T10:56:13.142684Z",
     "start_time": "2023-10-19T10:56:13.078969Z"
    }
   }
  },
  {
   "cell_type": "code",
   "execution_count": 32,
   "outputs": [],
   "source": [
    "from sklearn.ensemble import RandomForestClassifier\n",
    "\n",
    "rfc = RandomForestClassifier(random_state=42)"
   ],
   "metadata": {
    "collapsed": false,
    "ExecuteTime": {
     "end_time": "2023-10-19T10:56:13.520262Z",
     "start_time": "2023-10-19T10:56:13.501935Z"
    }
   }
  },
  {
   "cell_type": "code",
   "execution_count": 33,
   "outputs": [],
   "source": [
    "train_X = train_df.drop(['G3'], axis=1)\n",
    "train_y = train_df['G3']"
   ],
   "metadata": {
    "collapsed": false,
    "ExecuteTime": {
     "end_time": "2023-10-19T10:56:14.995044Z",
     "start_time": "2023-10-19T10:56:14.882474Z"
    }
   }
  },
  {
   "cell_type": "code",
   "execution_count": 34,
   "outputs": [],
   "source": [
    "test_X = test_df.drop(['G3'], axis=1)\n",
    "test_y = test_df['G3']"
   ],
   "metadata": {
    "collapsed": false,
    "ExecuteTime": {
     "end_time": "2023-10-19T10:56:15.010440Z",
     "start_time": "2023-10-19T10:56:14.894522Z"
    }
   }
  },
  {
   "cell_type": "code",
   "execution_count": 35,
   "outputs": [],
   "source": [
    "rfc = rfc.fit(train_X, train_y)"
   ],
   "metadata": {
    "collapsed": false,
    "ExecuteTime": {
     "end_time": "2023-10-19T10:56:15.069815Z",
     "start_time": "2023-10-19T10:56:14.938466Z"
    }
   }
  },
  {
   "cell_type": "code",
   "execution_count": 36,
   "outputs": [],
   "source": [
    "y_pred = rfc.predict(test_X)"
   ],
   "metadata": {
    "collapsed": false,
    "ExecuteTime": {
     "end_time": "2023-10-19T10:56:19.285083Z",
     "start_time": "2023-10-19T10:56:18.497451Z"
    }
   }
  },
  {
   "cell_type": "code",
   "execution_count": 37,
   "outputs": [
    {
     "name": "stdout",
     "output_type": "stream",
     "text": [
      "Classification Report:\n",
      "               precision    recall  f1-score   support\n",
      "\n",
      "         0.0       0.85      0.96      0.90        46\n",
      "         1.0       0.97      0.89      0.93        73\n",
      "\n",
      "    accuracy                           0.92       119\n",
      "   macro avg       0.91      0.92      0.91       119\n",
      "weighted avg       0.92      0.92      0.92       119\n",
      "\n"
     ]
    }
   ],
   "source": [
    "report = classification_report(test_y, y_pred)\n",
    "print(\"Classification Report:\\n\", report)"
   ],
   "metadata": {
    "collapsed": false,
    "ExecuteTime": {
     "end_time": "2023-10-19T10:56:19.328985Z",
     "start_time": "2023-10-19T10:56:18.553059Z"
    }
   }
  },
  {
   "cell_type": "code",
   "execution_count": 38,
   "outputs": [
    {
     "name": "stdout",
     "output_type": "stream",
     "text": [
      "Classification Report:\n",
      "               precision    recall  f1-score   support\n",
      "\n",
      "         0.0       1.00      1.00      1.00        28\n",
      "         1.0       1.00      1.00      1.00        91\n",
      "\n",
      "    accuracy                           1.00       119\n",
      "   macro avg       1.00      1.00      1.00       119\n",
      "weighted avg       1.00      1.00      1.00       119\n",
      "\n"
     ]
    }
   ],
   "source": [
    "train_df, _ = dataset_transf_train.convert_to_dataframe()\n",
    "test_df, _ = dataset_transf_test.convert_to_dataframe()\n",
    "\n",
    "\n",
    "rfc = RandomForestClassifier(random_state=42)\n",
    "\n",
    "train_X = train_df.drop(['G3'], axis=1)\n",
    "train_y = train_df['G3']\n",
    "\n",
    "test_X = test_df.drop(['G3'], axis=1)\n",
    "test_y = test_df['G3']\n",
    "\n",
    "rfc = rfc.fit(train_X, train_y)\n",
    "\n",
    "y_pred = rfc.predict(test_X)\n",
    "\n",
    "report = classification_report(test_y, y_pred)\n",
    "print(\"Classification Report:\\n\", report)"
   ],
   "metadata": {
    "collapsed": false,
    "ExecuteTime": {
     "end_time": "2023-10-19T10:56:21.948932Z",
     "start_time": "2023-10-19T10:56:21.794137Z"
    }
   }
  },
  {
   "cell_type": "markdown",
   "source": [
    "### Tune parameters for LFR"
   ],
   "metadata": {
    "collapsed": false
   }
  },
  {
   "cell_type": "code",
   "execution_count": 24,
   "outputs": [
    {
     "name": "stdout",
     "output_type": "stream",
     "text": [
      "step: 0, loss: 0.22743167378713616, L_x: 1.58350173279866,  L_y: 0.6908150050727015,  L_z: 0.0\n",
      "RUNNING THE L-BFGS-B CODE\n",
      "\n",
      "           * * *\n",
      "\n",
      "Machine precision = 2.220D-16\n",
      " N =           34     M =           10\n",
      "\n",
      "At X0         0 variables are exactly at the bounds\n",
      "\n",
      "At iterate    0    f=  2.27432D-01    |proj g|=  1.21512D-01\n",
      "\n",
      "At iterate    1    f=  2.18864D-01    |proj g|=  1.67716D-02\n",
      "\n",
      "At iterate    2    f=  2.16821D-01    |proj g|=  1.02379D-02\n",
      "\n",
      "At iterate    3    f=  2.08828D-01    |proj g|=  4.13474D-02\n",
      "\n",
      "At iterate    4    f=  1.99629D-01    |proj g|=  7.13771D-02\n",
      "\n",
      "At iterate    5    f=  1.85753D-01    |proj g|=  8.44147D-02\n",
      "\n",
      "At iterate    6    f=  1.71273D-01    |proj g|=  3.54195D-02\n",
      "step: 250, loss: 0.1696971272844709, L_x: 1.0823854703358897,  L_y: 0.614585802508819,  L_z: 0.0\n",
      "\n",
      "At iterate    7    f=  1.69697D-01    |proj g|=  2.76917D-03\n",
      "\n",
      "At iterate    8    f=  1.69671D-01    |proj g|=  4.16873D-05\n",
      "\n",
      "At iterate    9    f=  1.69670D-01    |proj g|=  2.17361D-05\n",
      "\n",
      "At iterate   10    f=  1.69670D-01    |proj g|=  9.96447D-07\n",
      "\n",
      "           * * *\n",
      "\n",
      "Tit   = total number of iterations\n",
      "Tnf   = total number of function evaluations\n",
      "Tnint = total number of segments explored during Cauchy searches\n",
      "Skip  = number of BFGS updates skipped\n",
      "Nact  = number of active bounds at final generalized Cauchy point\n",
      "Projg = norm of the final projected gradient\n",
      "F     = final function value\n",
      "\n",
      "           * * *\n",
      "\n",
      "   N    Tit     Tnf  Tnint  Skip  Nact     Projg        F\n",
      "   34     10     11     10     0     0   9.964D-07   1.697D-01\n",
      "  F =  0.16967010051093784     \n",
      "\n",
      "CONVERGENCE: NORM_OF_PROJECTED_GRADIENT_<=_PGTOL            \n",
      "Classification Report:\n",
      "               precision    recall  f1-score   support\n",
      "\n",
      "         1.0       1.00      1.00      1.00       119\n",
      "\n",
      "    accuracy                           1.00       119\n",
      "   macro avg       1.00      1.00      1.00       119\n",
      "weighted avg       1.00      1.00      1.00       119\n",
      "\n"
     ]
    }
   ],
   "source": [
    "TR = LFR(unprivileged_groups=unprivileged_groups,\n",
    "         privileged_groups=privileged_groups,\n",
    "         k=1, Ax=0.1, Ay=0.1, Az=5,\n",
    "         verbose=1\n",
    "        )\n",
    "TR = TR.fit(train_binary_dataset, maxiter=5000, maxfun=5000)\n",
    "\n",
    "dataset_transf_train = TR.transform(train_binary_dataset)\n",
    "dataset_transf_test = TR.transform(test_binary_dataset)\n",
    "\n",
    "train_df, _ = dataset_transf_train.convert_to_dataframe()\n",
    "test_df, _ = dataset_transf_test.convert_to_dataframe()\n",
    "\n",
    "\n",
    "rfc = RandomForestClassifier(random_state=42)\n",
    "\n",
    "train_X = train_df.drop(['G3'], axis=1)\n",
    "train_y = train_df['G3']\n",
    "\n",
    "test_X = test_df.drop(['G3'], axis=1)\n",
    "test_y = test_df['G3']\n",
    "\n",
    "rfc = rfc.fit(train_X, train_y)\n",
    "\n",
    "y_pred = rfc.predict(test_X)\n",
    "\n",
    "report = classification_report(test_y, y_pred)\n",
    "print(\"Classification Report:\\n\", report)"
   ],
   "metadata": {
    "collapsed": false,
    "ExecuteTime": {
     "end_time": "2023-10-19T10:54:55.063194Z",
     "start_time": "2023-10-19T10:54:54.511091Z"
    }
   }
  },
  {
   "cell_type": "code",
   "execution_count": 25,
   "outputs": [
    {
     "name": "stderr",
     "output_type": "stream",
     "text": [
      "WARNING:root:No module named 'tempeh': LawSchoolGPADataset will be unavailable. To install, run:\n",
      "pip install 'aif360[LawSchoolGPA]'\n",
      "WARNING:root:No module named 'tensorflow': AdversarialDebiasing will be unavailable. To install, run:\n",
      "pip install 'aif360[AdversarialDebiasing]'\n",
      "WARNING:root:No module named 'tensorflow': AdversarialDebiasing will be unavailable. To install, run:\n",
      "pip install 'aif360[AdversarialDebiasing]'\n"
     ]
    }
   ],
   "source": [
    "from aif360.algorithms.preprocessing import LFR\n",
    "from sklearn.ensemble import RandomForestClassifier\n",
    "from sklearn.metrics import classification_report\n",
    "\n",
    "# k - Number of prototypes\n",
    "# Input recontruction quality - Ax\n",
    "# Fairness constraint - Az\n",
    "# Output prediction error - Ay\n",
    "def find_optimal():\n",
    "\n",
    "    k_values = [1, 2, 3, 4, 5]\n",
    "    Az_values = [1.0, 5.0, 25.0, 50.0]\n",
    "    Ay_values = [1.0, 2.0, 3.0, 4.0, 10.0]\n",
    "    Ax_values = [0.01, 0.1, 1.0, 10.0]\n",
    "\n",
    "    best_accuracy = 0.0\n",
    "    best_params = None\n",
    "\n",
    "    for k in k_values:\n",
    "        for Az in Az_values:\n",
    "            for Ay in Ay_values:\n",
    "                for Ax in Ax_values:\n",
    "                    lfr = LFR(unprivileged_groups=unprivileged_groups, privileged_groups=privileged_groups,\n",
    "                              k=k, Az=Az, Ay=Ay, Ax=Ax)\n",
    "\n",
    "                    lfr = lfr.fit(train_binary_dataset)\n",
    "\n",
    "                    dataset_transf_train = lfr.transform(train_binary_dataset)\n",
    "\n",
    "                    train_df, _ = dataset_transf_train.convert_to_dataframe()\n",
    "\n",
    "                    train_X = train_df.drop(['G3'], axis=1)\n",
    "                    train_y = train_df['G3']\n",
    "\n",
    "                    rfc = RandomForestClassifier(random_state=42)\n",
    "\n",
    "                    rfc.fit(train_X, train_y)\n",
    "\n",
    "                    dataset_transf_test = lfr.transform(test_binary_dataset)\n",
    "                    test_df, _ = dataset_transf_test.convert_to_dataframe()\n",
    "                    test_X = test_df.drop(['G3'], axis=1)\n",
    "                    test_y = test_df['G3']\n",
    "                    y_pred = rfc.predict(test_X)\n",
    "\n",
    "                    accuracy = accuracy_score(test_y, y_pred)\n",
    "\n",
    "                    if accuracy > best_accuracy:\n",
    "                        best_accuracy = accuracy\n",
    "                        best_params = (k, Az, Ay, Ax)\n",
    "\n",
    "                    if accuracy == 1.0:\n",
    "                        return best_accuracy, best_params\n",
    "\n",
    "    return best_accuracy, best_params"
   ],
   "metadata": {
    "collapsed": false,
    "ExecuteTime": {
     "end_time": "2023-10-19T10:54:55.070568Z",
     "start_time": "2023-10-19T10:54:49.838736Z"
    }
   }
  },
  {
   "cell_type": "code",
   "execution_count": 26,
   "outputs": [
    {
     "name": "stdout",
     "output_type": "stream",
     "text": [
      "Best Parameters (k, Az, Ay, Ax): (1, 1.0, 1.0, 0.01)\n",
      "Best Accuracy: 1.0\n"
     ]
    }
   ],
   "source": [
    "best_accuracy, best_params = find_optimal()\n",
    "print(\"Best Parameters (k, Az, Ay, Ax):\", best_params)\n",
    "print(\"Best Accuracy:\", best_accuracy)"
   ],
   "metadata": {
    "collapsed": false,
    "ExecuteTime": {
     "end_time": "2023-10-19T10:54:55.196960Z",
     "start_time": "2023-10-19T10:54:54.712793Z"
    }
   }
  }
 ],
 "metadata": {
  "kernelspec": {
   "display_name": "Python 3",
   "language": "python",
   "name": "python3"
  },
  "language_info": {
   "codemirror_mode": {
    "name": "ipython",
    "version": 2
   },
   "file_extension": ".py",
   "mimetype": "text/x-python",
   "name": "python",
   "nbconvert_exporter": "python",
   "pygments_lexer": "ipython2",
   "version": "2.7.6"
  }
 },
 "nbformat": 4,
 "nbformat_minor": 0
}
