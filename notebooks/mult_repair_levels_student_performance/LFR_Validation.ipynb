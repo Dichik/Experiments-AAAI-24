{
 "cells": [
  {
   "cell_type": "code",
   "execution_count": 1,
   "outputs": [],
   "source": [
    "%matplotlib inline\n",
    "%load_ext autoreload\n",
    "%autoreload 2"
   ],
   "metadata": {
    "collapsed": false,
    "ExecuteTime": {
     "end_time": "2023-10-13T08:25:24.641974Z",
     "start_time": "2023-10-13T08:25:24.027847Z"
    }
   }
  },
  {
   "cell_type": "code",
   "execution_count": 2,
   "outputs": [],
   "source": [
    "import os\n",
    "import warnings\n",
    "\n",
    "warnings.filterwarnings('ignore')\n",
    "os.environ[\"PYTHONWARNINGS\"] = \"ignore\""
   ],
   "metadata": {
    "collapsed": false,
    "ExecuteTime": {
     "end_time": "2023-10-13T08:25:24.663581Z",
     "start_time": "2023-10-13T08:25:24.639778Z"
    }
   }
  },
  {
   "cell_type": "code",
   "execution_count": 3,
   "outputs": [
    {
     "name": "stdout",
     "output_type": "stream",
     "text": [
      "Current location:  /Users/tarasbohdan/Desktop/university/Experiments-AAAI-24\n"
     ]
    }
   ],
   "source": [
    "cur_folder_name = os.getcwd().split('/')[-1]\n",
    "if cur_folder_name != \"fairness-variance\":\n",
    "    os.chdir(\"../..\")\n",
    "\n",
    "print('Current location: ', os.getcwd())"
   ],
   "metadata": {
    "collapsed": false,
    "ExecuteTime": {
     "end_time": "2023-10-13T08:25:24.813617Z",
     "start_time": "2023-10-13T08:25:24.649265Z"
    }
   }
  },
  {
   "cell_type": "code",
   "execution_count": 4,
   "metadata": {
    "collapsed": true,
    "ExecuteTime": {
     "end_time": "2023-10-13T08:25:28.055580Z",
     "start_time": "2023-10-13T08:25:24.668699Z"
    }
   },
   "outputs": [
    {
     "name": "stderr",
     "output_type": "stream",
     "text": [
      "WARNING:root:No module named 'tempeh': LawSchoolGPADataset will be unavailable. To install, run:\n",
      "pip install 'aif360[LawSchoolGPA]'\n",
      "WARNING:root:No module named 'tensorflow': AdversarialDebiasing will be unavailable. To install, run:\n",
      "pip install 'aif360[AdversarialDebiasing]'\n",
      "WARNING:root:No module named 'tensorflow': AdversarialDebiasing will be unavailable. To install, run:\n",
      "pip install 'aif360[AdversarialDebiasing]'\n"
     ]
    }
   ],
   "source": [
    "import copy\n",
    "\n",
    "from notebooks.mult_repair_levels_student_performance.StudentPerformanceDataset import StudentPerformanceDataset\n",
    "from source.preprocessing import get_simple_preprocessor\n",
    "from configs.constants import TEST_SET_FRACTION, EXPERIMENT_SEEDS\n",
    "\n",
    "from source.preprocessing import lfr\n",
    "\n",
    "from virny.preprocessing.basic_preprocessing import preprocess_dataset"
   ]
  },
  {
   "cell_type": "code",
   "execution_count": 5,
   "outputs": [],
   "source": [
    "class Config:\n",
    "  file_name = './data/student_performance/student-mat.csv'"
   ],
   "metadata": {
    "collapsed": false,
    "ExecuteTime": {
     "end_time": "2023-10-13T08:25:28.069008Z",
     "start_time": "2023-10-13T08:25:27.882862Z"
    }
   }
  },
  {
   "cell_type": "code",
   "execution_count": 6,
   "outputs": [
    {
     "data": {
      "text/plain": "   age  Medu  Fedu  traveltime  studytime  failures  famrel  freetime  goout  \\\n0   18     4     4           2          2         0       4         3      4   \n1   17     1     1           1          2         0       5         3      3   \n2   15     1     1           1          2         3       4         3      2   \n3   15     4     2           1          3         0       3         2      2   \n4   16     3     3           1          2         0       4         3      2   \n\n   Dalc  Walc  health  absences  G1  G2     Mjob      Fjob  reason guardian  \\\n0     1     1       3         6   0   0  at_home   teacher  course   mother   \n1     1     1       3         4   0   0  at_home     other  course   father   \n2     2     3       3        10   0   0  at_home     other   other   mother   \n3     1     1       5         2   1   1   health  services    home   mother   \n4     1     2       5         4   0   1    other     other    home   father   \n\n  sex  \n0   F  \n1   F  \n2   F  \n3   F  \n4   F  ",
      "text/html": "<div>\n<style scoped>\n    .dataframe tbody tr th:only-of-type {\n        vertical-align: middle;\n    }\n\n    .dataframe tbody tr th {\n        vertical-align: top;\n    }\n\n    .dataframe thead th {\n        text-align: right;\n    }\n</style>\n<table border=\"1\" class=\"dataframe\">\n  <thead>\n    <tr style=\"text-align: right;\">\n      <th></th>\n      <th>age</th>\n      <th>Medu</th>\n      <th>Fedu</th>\n      <th>traveltime</th>\n      <th>studytime</th>\n      <th>failures</th>\n      <th>famrel</th>\n      <th>freetime</th>\n      <th>goout</th>\n      <th>Dalc</th>\n      <th>Walc</th>\n      <th>health</th>\n      <th>absences</th>\n      <th>G1</th>\n      <th>G2</th>\n      <th>Mjob</th>\n      <th>Fjob</th>\n      <th>reason</th>\n      <th>guardian</th>\n      <th>sex</th>\n    </tr>\n  </thead>\n  <tbody>\n    <tr>\n      <th>0</th>\n      <td>18</td>\n      <td>4</td>\n      <td>4</td>\n      <td>2</td>\n      <td>2</td>\n      <td>0</td>\n      <td>4</td>\n      <td>3</td>\n      <td>4</td>\n      <td>1</td>\n      <td>1</td>\n      <td>3</td>\n      <td>6</td>\n      <td>0</td>\n      <td>0</td>\n      <td>at_home</td>\n      <td>teacher</td>\n      <td>course</td>\n      <td>mother</td>\n      <td>F</td>\n    </tr>\n    <tr>\n      <th>1</th>\n      <td>17</td>\n      <td>1</td>\n      <td>1</td>\n      <td>1</td>\n      <td>2</td>\n      <td>0</td>\n      <td>5</td>\n      <td>3</td>\n      <td>3</td>\n      <td>1</td>\n      <td>1</td>\n      <td>3</td>\n      <td>4</td>\n      <td>0</td>\n      <td>0</td>\n      <td>at_home</td>\n      <td>other</td>\n      <td>course</td>\n      <td>father</td>\n      <td>F</td>\n    </tr>\n    <tr>\n      <th>2</th>\n      <td>15</td>\n      <td>1</td>\n      <td>1</td>\n      <td>1</td>\n      <td>2</td>\n      <td>3</td>\n      <td>4</td>\n      <td>3</td>\n      <td>2</td>\n      <td>2</td>\n      <td>3</td>\n      <td>3</td>\n      <td>10</td>\n      <td>0</td>\n      <td>0</td>\n      <td>at_home</td>\n      <td>other</td>\n      <td>other</td>\n      <td>mother</td>\n      <td>F</td>\n    </tr>\n    <tr>\n      <th>3</th>\n      <td>15</td>\n      <td>4</td>\n      <td>2</td>\n      <td>1</td>\n      <td>3</td>\n      <td>0</td>\n      <td>3</td>\n      <td>2</td>\n      <td>2</td>\n      <td>1</td>\n      <td>1</td>\n      <td>5</td>\n      <td>2</td>\n      <td>1</td>\n      <td>1</td>\n      <td>health</td>\n      <td>services</td>\n      <td>home</td>\n      <td>mother</td>\n      <td>F</td>\n    </tr>\n    <tr>\n      <th>4</th>\n      <td>16</td>\n      <td>3</td>\n      <td>3</td>\n      <td>1</td>\n      <td>2</td>\n      <td>0</td>\n      <td>4</td>\n      <td>3</td>\n      <td>2</td>\n      <td>1</td>\n      <td>2</td>\n      <td>5</td>\n      <td>4</td>\n      <td>0</td>\n      <td>1</td>\n      <td>other</td>\n      <td>other</td>\n      <td>home</td>\n      <td>father</td>\n      <td>F</td>\n    </tr>\n  </tbody>\n</table>\n</div>"
     },
     "execution_count": 6,
     "metadata": {},
     "output_type": "execute_result"
    }
   ],
   "source": [
    "data_loader = StudentPerformanceDataset(Config.file_name)\n",
    "data_loader.X_data.head()"
   ],
   "metadata": {
    "collapsed": false,
    "ExecuteTime": {
     "end_time": "2023-10-13T08:25:28.138893Z",
     "start_time": "2023-10-13T08:25:28.067633Z"
    }
   }
  },
  {
   "cell_type": "code",
   "execution_count": 7,
   "outputs": [],
   "source": [
    "init_data_loader = copy.deepcopy(data_loader)"
   ],
   "metadata": {
    "collapsed": false,
    "ExecuteTime": {
     "end_time": "2023-10-13T08:25:28.140440Z",
     "start_time": "2023-10-13T08:25:28.072045Z"
    }
   }
  },
  {
   "cell_type": "code",
   "execution_count": 8,
   "outputs": [],
   "source": [
    "exp_iter_num = 7\n",
    "experiment_seed = EXPERIMENT_SEEDS[exp_iter_num - 1]\n",
    "test_set_fraction = TEST_SET_FRACTION"
   ],
   "metadata": {
    "collapsed": false,
    "ExecuteTime": {
     "end_time": "2023-10-13T08:25:28.141036Z",
     "start_time": "2023-10-13T08:25:28.072937Z"
    }
   }
  },
  {
   "cell_type": "code",
   "execution_count": 9,
   "outputs": [],
   "source": [
    "data_loader.categorical_columns = [col for col in data_loader.categorical_columns if\n",
    "                                           col not in ('sex')]\n",
    "data_loader.X_data['sex_binary'] = data_loader.X_data['sex'].apply(lambda x: 1 if x == 'M' else 0)\n",
    "data_loader.full_df = data_loader.full_df.drop(['sex'], axis=1)\n",
    "data_loader.X_data = data_loader.X_data.drop(['sex'], axis=1)\n",
    "\n",
    "# Preprocess the dataset using the defined preprocessor\n",
    "column_transformer = get_simple_preprocessor(data_loader)\n",
    "base_flow_dataset = preprocess_dataset(data_loader, column_transformer, test_set_fraction, experiment_seed)\n",
    "base_flow_dataset.init_features_df = init_data_loader.full_df.drop(init_data_loader.target, axis=1,\n",
    "                                                                   errors='ignore')\n",
    "base_flow_dataset.X_train_val['sex_binary'] = data_loader.X_data.loc[\n",
    "    base_flow_dataset.X_train_val.index, 'sex_binary']\n",
    "base_flow_dataset.X_test['sex_binary'] = data_loader.X_data.loc[base_flow_dataset.X_test.index, 'sex_binary']"
   ],
   "metadata": {
    "collapsed": false,
    "ExecuteTime": {
     "end_time": "2023-10-13T08:25:28.141293Z",
     "start_time": "2023-10-13T08:25:28.073175Z"
    }
   }
  },
  {
   "cell_type": "code",
   "execution_count": 10,
   "outputs": [
    {
     "data": {
      "text/plain": "     cat__Mjob_at_home  cat__Mjob_health  cat__Mjob_other  cat__Mjob_services  \\\n324                1.0               0.0              0.0                 0.0   \n184                0.0               0.0              1.0                 0.0   \n79                 1.0               0.0              0.0                 0.0   \n346                0.0               0.0              0.0                 0.0   \n299                0.0               0.0              0.0                 0.0   \n\n     cat__Mjob_teacher  cat__Fjob_at_home  cat__Fjob_health  cat__Fjob_other  \\\n324                0.0                1.0               0.0              0.0   \n184                0.0                0.0               0.0              1.0   \n79                 0.0                0.0               0.0              1.0   \n346                1.0                0.0               0.0              0.0   \n299                1.0                0.0               0.0              0.0   \n\n     cat__Fjob_services  cat__Fjob_teacher  ...  num__famrel  num__freetime  \\\n324                 0.0                0.0  ...    -0.994710      -0.249211   \n184                 0.0                0.0  ...    -3.156443      -1.246056   \n79                  0.0                0.0  ...    -2.075577       0.747634   \n346                 1.0                0.0  ...     1.167022      -0.249211   \n299                 0.0                1.0  ...    -3.156443       0.747634   \n\n     num__goout  num__Dalc  num__Walc  num__health  num__absences   num__G1  \\\n324   -0.087835   0.580313   0.515293    -1.115062      -0.688980  0.765641   \n184   -0.985706  -0.547619  -0.266141    -1.827463       0.950317  0.765641   \n79    -0.087835  -0.547619  -0.266141    -0.402661       0.716132 -1.306094   \n346   -0.985706  -0.547619  -0.266141     0.309740       0.364854  0.765641   \n299   -0.985706   0.580313  -0.266141    -1.827463      -0.103517  0.765641   \n\n      num__G2  sex_binary  \n324  0.777593           0  \n184  0.777593           0  \n79  -1.286019           0  \n346  0.777593           1  \n299  0.777593           1  \n\n[5 rows x 33 columns]",
      "text/html": "<div>\n<style scoped>\n    .dataframe tbody tr th:only-of-type {\n        vertical-align: middle;\n    }\n\n    .dataframe tbody tr th {\n        vertical-align: top;\n    }\n\n    .dataframe thead th {\n        text-align: right;\n    }\n</style>\n<table border=\"1\" class=\"dataframe\">\n  <thead>\n    <tr style=\"text-align: right;\">\n      <th></th>\n      <th>cat__Mjob_at_home</th>\n      <th>cat__Mjob_health</th>\n      <th>cat__Mjob_other</th>\n      <th>cat__Mjob_services</th>\n      <th>cat__Mjob_teacher</th>\n      <th>cat__Fjob_at_home</th>\n      <th>cat__Fjob_health</th>\n      <th>cat__Fjob_other</th>\n      <th>cat__Fjob_services</th>\n      <th>cat__Fjob_teacher</th>\n      <th>...</th>\n      <th>num__famrel</th>\n      <th>num__freetime</th>\n      <th>num__goout</th>\n      <th>num__Dalc</th>\n      <th>num__Walc</th>\n      <th>num__health</th>\n      <th>num__absences</th>\n      <th>num__G1</th>\n      <th>num__G2</th>\n      <th>sex_binary</th>\n    </tr>\n  </thead>\n  <tbody>\n    <tr>\n      <th>324</th>\n      <td>1.0</td>\n      <td>0.0</td>\n      <td>0.0</td>\n      <td>0.0</td>\n      <td>0.0</td>\n      <td>1.0</td>\n      <td>0.0</td>\n      <td>0.0</td>\n      <td>0.0</td>\n      <td>0.0</td>\n      <td>...</td>\n      <td>-0.994710</td>\n      <td>-0.249211</td>\n      <td>-0.087835</td>\n      <td>0.580313</td>\n      <td>0.515293</td>\n      <td>-1.115062</td>\n      <td>-0.688980</td>\n      <td>0.765641</td>\n      <td>0.777593</td>\n      <td>0</td>\n    </tr>\n    <tr>\n      <th>184</th>\n      <td>0.0</td>\n      <td>0.0</td>\n      <td>1.0</td>\n      <td>0.0</td>\n      <td>0.0</td>\n      <td>0.0</td>\n      <td>0.0</td>\n      <td>1.0</td>\n      <td>0.0</td>\n      <td>0.0</td>\n      <td>...</td>\n      <td>-3.156443</td>\n      <td>-1.246056</td>\n      <td>-0.985706</td>\n      <td>-0.547619</td>\n      <td>-0.266141</td>\n      <td>-1.827463</td>\n      <td>0.950317</td>\n      <td>0.765641</td>\n      <td>0.777593</td>\n      <td>0</td>\n    </tr>\n    <tr>\n      <th>79</th>\n      <td>1.0</td>\n      <td>0.0</td>\n      <td>0.0</td>\n      <td>0.0</td>\n      <td>0.0</td>\n      <td>0.0</td>\n      <td>0.0</td>\n      <td>1.0</td>\n      <td>0.0</td>\n      <td>0.0</td>\n      <td>...</td>\n      <td>-2.075577</td>\n      <td>0.747634</td>\n      <td>-0.087835</td>\n      <td>-0.547619</td>\n      <td>-0.266141</td>\n      <td>-0.402661</td>\n      <td>0.716132</td>\n      <td>-1.306094</td>\n      <td>-1.286019</td>\n      <td>0</td>\n    </tr>\n    <tr>\n      <th>346</th>\n      <td>0.0</td>\n      <td>0.0</td>\n      <td>0.0</td>\n      <td>0.0</td>\n      <td>1.0</td>\n      <td>0.0</td>\n      <td>0.0</td>\n      <td>0.0</td>\n      <td>1.0</td>\n      <td>0.0</td>\n      <td>...</td>\n      <td>1.167022</td>\n      <td>-0.249211</td>\n      <td>-0.985706</td>\n      <td>-0.547619</td>\n      <td>-0.266141</td>\n      <td>0.309740</td>\n      <td>0.364854</td>\n      <td>0.765641</td>\n      <td>0.777593</td>\n      <td>1</td>\n    </tr>\n    <tr>\n      <th>299</th>\n      <td>0.0</td>\n      <td>0.0</td>\n      <td>0.0</td>\n      <td>0.0</td>\n      <td>1.0</td>\n      <td>0.0</td>\n      <td>0.0</td>\n      <td>0.0</td>\n      <td>0.0</td>\n      <td>1.0</td>\n      <td>...</td>\n      <td>-3.156443</td>\n      <td>0.747634</td>\n      <td>-0.985706</td>\n      <td>0.580313</td>\n      <td>-0.266141</td>\n      <td>-1.827463</td>\n      <td>-0.103517</td>\n      <td>0.765641</td>\n      <td>0.777593</td>\n      <td>1</td>\n    </tr>\n  </tbody>\n</table>\n<p>5 rows × 33 columns</p>\n</div>"
     },
     "execution_count": 10,
     "metadata": {},
     "output_type": "execute_result"
    }
   ],
   "source": [
    "base_flow_dataset.X_train_val.head()"
   ],
   "metadata": {
    "collapsed": false,
    "ExecuteTime": {
     "end_time": "2023-10-13T08:25:28.150898Z",
     "start_time": "2023-10-13T08:25:28.073269Z"
    }
   }
  },
  {
   "cell_type": "code",
   "execution_count": 11,
   "outputs": [
    {
     "name": "stdout",
     "output_type": "stream",
     "text": [
      "Mean difference before:  -0.12\n",
      "Disparate impact before: 0.84\n",
      "Mean difference after:  0.00\n",
      "Disparate impact after: 1.00\n"
     ]
    }
   ],
   "source": [
    "cur_base_flow_dataset = lfr(base_flow_dataset, True)"
   ],
   "metadata": {
    "collapsed": false,
    "ExecuteTime": {
     "end_time": "2023-10-13T08:25:29.846673Z",
     "start_time": "2023-10-13T08:25:28.079040Z"
    }
   }
  },
  {
   "cell_type": "code",
   "execution_count": 12,
   "outputs": [
    {
     "data": {
      "text/plain": "     cat__Mjob_at_home  cat__Mjob_health  cat__Mjob_other  cat__Mjob_services  \\\n324           0.590410          0.379161         0.546567            0.527648   \n184           0.547686          0.358401         0.592104            0.547107   \n79            0.596685          0.408034         0.580705            0.502078   \n346           0.510903          0.337451         0.566718            0.487882   \n299           0.509184          0.349592         0.607299            0.499488   \n\n     cat__Mjob_teacher  cat__Fjob_at_home  cat__Fjob_health  cat__Fjob_other  \\\n324           0.393789           0.491360          0.366302         0.599981   \n184           0.445755           0.504554          0.373265         0.565404   \n79            0.382680           0.458566          0.363669         0.609214   \n346           0.473057           0.453147          0.352937         0.477255   \n299           0.476223           0.457360          0.358074         0.496064   \n\n     cat__Fjob_services  cat__Fjob_teacher  ...  num__failures  num__famrel  \\\n324            0.303586           0.367536  ...       0.414159     0.669467   \n184            0.373132           0.436816  ...       0.410513     0.629042   \n79             0.318601           0.377188  ...       0.401599     0.654021   \n346            0.416405           0.461516  ...       0.473101     0.635133   \n299            0.433796           0.481361  ...       0.446992     0.612309   \n\n     num__freetime  num__goout  num__Dalc  num__Walc  num__health  \\\n324       0.550259    0.412498   0.191511   0.481917     0.643229   \n184       0.553452    0.392025   0.208947   0.488573     0.649924   \n79        0.563513    0.401036   0.211167   0.496999     0.639221   \n346       0.559625    0.406253   0.248846   0.446440     0.618789   \n299       0.566842    0.387906   0.251723   0.469710     0.628883   \n\n     num__absences   num__G1   num__G2  \n324       0.566015  0.501933  0.656017  \n184       0.577743  0.504278  0.696812  \n79        0.541187  0.478972  0.656626  \n346       0.579802  0.535092  0.695577  \n299       0.571753  0.514414  0.710742  \n\n[5 rows x 32 columns]",
      "text/html": "<div>\n<style scoped>\n    .dataframe tbody tr th:only-of-type {\n        vertical-align: middle;\n    }\n\n    .dataframe tbody tr th {\n        vertical-align: top;\n    }\n\n    .dataframe thead th {\n        text-align: right;\n    }\n</style>\n<table border=\"1\" class=\"dataframe\">\n  <thead>\n    <tr style=\"text-align: right;\">\n      <th></th>\n      <th>cat__Mjob_at_home</th>\n      <th>cat__Mjob_health</th>\n      <th>cat__Mjob_other</th>\n      <th>cat__Mjob_services</th>\n      <th>cat__Mjob_teacher</th>\n      <th>cat__Fjob_at_home</th>\n      <th>cat__Fjob_health</th>\n      <th>cat__Fjob_other</th>\n      <th>cat__Fjob_services</th>\n      <th>cat__Fjob_teacher</th>\n      <th>...</th>\n      <th>num__failures</th>\n      <th>num__famrel</th>\n      <th>num__freetime</th>\n      <th>num__goout</th>\n      <th>num__Dalc</th>\n      <th>num__Walc</th>\n      <th>num__health</th>\n      <th>num__absences</th>\n      <th>num__G1</th>\n      <th>num__G2</th>\n    </tr>\n  </thead>\n  <tbody>\n    <tr>\n      <th>324</th>\n      <td>0.590410</td>\n      <td>0.379161</td>\n      <td>0.546567</td>\n      <td>0.527648</td>\n      <td>0.393789</td>\n      <td>0.491360</td>\n      <td>0.366302</td>\n      <td>0.599981</td>\n      <td>0.303586</td>\n      <td>0.367536</td>\n      <td>...</td>\n      <td>0.414159</td>\n      <td>0.669467</td>\n      <td>0.550259</td>\n      <td>0.412498</td>\n      <td>0.191511</td>\n      <td>0.481917</td>\n      <td>0.643229</td>\n      <td>0.566015</td>\n      <td>0.501933</td>\n      <td>0.656017</td>\n    </tr>\n    <tr>\n      <th>184</th>\n      <td>0.547686</td>\n      <td>0.358401</td>\n      <td>0.592104</td>\n      <td>0.547107</td>\n      <td>0.445755</td>\n      <td>0.504554</td>\n      <td>0.373265</td>\n      <td>0.565404</td>\n      <td>0.373132</td>\n      <td>0.436816</td>\n      <td>...</td>\n      <td>0.410513</td>\n      <td>0.629042</td>\n      <td>0.553452</td>\n      <td>0.392025</td>\n      <td>0.208947</td>\n      <td>0.488573</td>\n      <td>0.649924</td>\n      <td>0.577743</td>\n      <td>0.504278</td>\n      <td>0.696812</td>\n    </tr>\n    <tr>\n      <th>79</th>\n      <td>0.596685</td>\n      <td>0.408034</td>\n      <td>0.580705</td>\n      <td>0.502078</td>\n      <td>0.382680</td>\n      <td>0.458566</td>\n      <td>0.363669</td>\n      <td>0.609214</td>\n      <td>0.318601</td>\n      <td>0.377188</td>\n      <td>...</td>\n      <td>0.401599</td>\n      <td>0.654021</td>\n      <td>0.563513</td>\n      <td>0.401036</td>\n      <td>0.211167</td>\n      <td>0.496999</td>\n      <td>0.639221</td>\n      <td>0.541187</td>\n      <td>0.478972</td>\n      <td>0.656626</td>\n    </tr>\n    <tr>\n      <th>346</th>\n      <td>0.510903</td>\n      <td>0.337451</td>\n      <td>0.566718</td>\n      <td>0.487882</td>\n      <td>0.473057</td>\n      <td>0.453147</td>\n      <td>0.352937</td>\n      <td>0.477255</td>\n      <td>0.416405</td>\n      <td>0.461516</td>\n      <td>...</td>\n      <td>0.473101</td>\n      <td>0.635133</td>\n      <td>0.559625</td>\n      <td>0.406253</td>\n      <td>0.248846</td>\n      <td>0.446440</td>\n      <td>0.618789</td>\n      <td>0.579802</td>\n      <td>0.535092</td>\n      <td>0.695577</td>\n    </tr>\n    <tr>\n      <th>299</th>\n      <td>0.509184</td>\n      <td>0.349592</td>\n      <td>0.607299</td>\n      <td>0.499488</td>\n      <td>0.476223</td>\n      <td>0.457360</td>\n      <td>0.358074</td>\n      <td>0.496064</td>\n      <td>0.433796</td>\n      <td>0.481361</td>\n      <td>...</td>\n      <td>0.446992</td>\n      <td>0.612309</td>\n      <td>0.566842</td>\n      <td>0.387906</td>\n      <td>0.251723</td>\n      <td>0.469710</td>\n      <td>0.628883</td>\n      <td>0.571753</td>\n      <td>0.514414</td>\n      <td>0.710742</td>\n    </tr>\n  </tbody>\n</table>\n<p>5 rows × 32 columns</p>\n</div>"
     },
     "execution_count": 12,
     "metadata": {},
     "output_type": "execute_result"
    }
   ],
   "source": [
    "cur_base_flow_dataset.X_train_val.head()"
   ],
   "metadata": {
    "collapsed": false,
    "ExecuteTime": {
     "end_time": "2023-10-13T08:25:29.874639Z",
     "start_time": "2023-10-13T08:25:29.464715Z"
    }
   }
  },
  {
   "cell_type": "code",
   "execution_count": 12,
   "outputs": [],
   "source": [],
   "metadata": {
    "collapsed": false,
    "ExecuteTime": {
     "end_time": "2023-10-13T08:25:29.874963Z",
     "start_time": "2023-10-13T08:25:29.473448Z"
    }
   }
  }
 ],
 "metadata": {
  "kernelspec": {
   "display_name": "Python 3",
   "language": "python",
   "name": "python3"
  },
  "language_info": {
   "codemirror_mode": {
    "name": "ipython",
    "version": 2
   },
   "file_extension": ".py",
   "mimetype": "text/x-python",
   "name": "python",
   "nbconvert_exporter": "python",
   "pygments_lexer": "ipython2",
   "version": "2.7.6"
  }
 },
 "nbformat": 4,
 "nbformat_minor": 0
}
