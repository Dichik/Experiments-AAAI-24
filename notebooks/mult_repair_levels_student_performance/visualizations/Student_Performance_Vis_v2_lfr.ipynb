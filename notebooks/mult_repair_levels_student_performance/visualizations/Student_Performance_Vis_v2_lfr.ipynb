{
 "cells": [
  {
   "cell_type": "code",
   "execution_count": 1,
   "id": "0f667f8f",
   "metadata": {
    "ExecuteTime": {
     "end_time": "2023-10-18T18:44:26.098826Z",
     "start_time": "2023-10-18T18:44:23.665835Z"
    }
   },
   "outputs": [],
   "source": [
    "%matplotlib inline\n",
    "%load_ext autoreload\n",
    "%autoreload 2"
   ]
  },
  {
   "cell_type": "code",
   "execution_count": 2,
   "id": "0f28e72a",
   "metadata": {
    "ExecuteTime": {
     "end_time": "2023-10-18T18:44:26.120903Z",
     "start_time": "2023-10-18T18:44:24.303528Z"
    }
   },
   "outputs": [],
   "source": [
    "import os\n",
    "import warnings\n",
    "warnings.filterwarnings('ignore')\n",
    "os.environ[\"PYTHONWARNINGS\"] = \"ignore\""
   ]
  },
  {
   "cell_type": "code",
   "execution_count": 3,
   "id": "3c3bc544",
   "metadata": {
    "ExecuteTime": {
     "end_time": "2023-10-18T18:44:26.160364Z",
     "start_time": "2023-10-18T18:44:24.311038Z"
    }
   },
   "outputs": [
    {
     "name": "stdout",
     "output_type": "stream",
     "text": [
      "Current location:  /Users/tarasbohdan/Desktop/Experiments-AAAI-24\n"
     ]
    }
   ],
   "source": [
    "cur_folder_name = os.getcwd().split('/')[-1]\n",
    "if cur_folder_name != \"fairness-variance\":\n",
    "    os.chdir(\"../../..\")\n",
    "\n",
    "print('Current location: ', os.getcwd())"
   ]
  },
  {
   "cell_type": "markdown",
   "id": "0183a63a",
   "metadata": {},
   "source": [
    "# Visualizations"
   ]
  },
  {
   "cell_type": "code",
   "execution_count": 4,
   "id": "c39ce22f",
   "metadata": {
    "ExecuteTime": {
     "end_time": "2023-10-18T18:44:27.645926Z",
     "start_time": "2023-10-18T18:44:24.330966Z"
    }
   },
   "outputs": [],
   "source": [
    "import os\n",
    "import pandas as pd\n",
    "\n",
    "from virny.utils.custom_initializers import create_models_metrics_dct_from_database_df\n",
    "\n",
    "from source.utils.db_functions import read_model_metric_dfs_from_db\n",
    "from source.custom_classes.experiments_composer import ExperimentsComposer\n",
    "from source.custom_classes.experiments_visualizer import ExperimentsVisualizer"
   ]
  },
  {
   "cell_type": "markdown",
   "id": "3eeb633f",
   "metadata": {},
   "source": [
    "## Initialize Configs"
   ]
  },
  {
   "cell_type": "code",
   "execution_count": 5,
   "id": "bb4da773",
   "metadata": {
    "ExecuteTime": {
     "end_time": "2023-10-18T18:44:27.649291Z",
     "start_time": "2023-10-18T18:44:27.630210Z"
    }
   },
   "outputs": [],
   "source": [
    "DB_COLLECTION_NAME = 'exp_mult_repair_levels'\n",
    "DATASET_NAME = 'StudentPerformance'\n",
    "EXPERIMENT_SESSION_UUID = '143c04c7-209e-4945-a3cb-6009e72e36ff'\n",
    "SENSITIVE_ATTRS = ['sex']\n",
    "MODEL_NAMES = ['RandomForestClassifier']"
   ]
  },
  {
   "cell_type": "code",
   "execution_count": 6,
   "id": "cdfd5647",
   "metadata": {
    "ExecuteTime": {
     "end_time": "2023-10-18T18:44:27.837075Z",
     "start_time": "2023-10-18T18:44:27.648857Z"
    }
   },
   "outputs": [],
   "source": [
    "from source.utils.db_functions import connect_to_mongodb\n",
    "\n",
    "client, collection_obj, db_writer_func = connect_to_mongodb(DB_COLLECTION_NAME)"
   ]
  },
  {
   "cell_type": "markdown",
   "id": "781c4c15",
   "metadata": {},
   "source": [
    "## Group Metrics Composition"
   ]
  },
  {
   "cell_type": "code",
   "execution_count": 7,
   "id": "4e1b402a",
   "metadata": {
    "ExecuteTime": {
     "end_time": "2023-10-18T18:44:29.865450Z",
     "start_time": "2023-10-18T18:44:27.835092Z"
    }
   },
   "outputs": [],
   "source": [
    "model_metric_dfs = read_model_metric_dfs_from_db(collection_obj, EXPERIMENT_SESSION_UUID)\n",
    "models_metrics_dct = create_models_metrics_dct_from_database_df(model_metric_dfs)\n",
    "client.close()"
   ]
  },
  {
   "cell_type": "code",
   "execution_count": 8,
   "id": "6cdd8c64",
   "metadata": {
    "ExecuteTime": {
     "end_time": "2023-10-18T18:44:29.972845Z",
     "start_time": "2023-10-18T18:44:29.866232Z"
    }
   },
   "outputs": [
    {
     "data": {
      "text/plain": "(114, 16)"
     },
     "execution_count": 8,
     "metadata": {},
     "output_type": "execute_result"
    }
   ],
   "source": [
    "models_metrics_dct[list(models_metrics_dct.keys())[0]].shape"
   ]
  },
  {
   "cell_type": "code",
   "execution_count": 9,
   "id": "07c7c6d2",
   "metadata": {
    "ExecuteTime": {
     "end_time": "2023-10-18T18:44:29.977150Z",
     "start_time": "2023-10-18T18:44:29.903076Z"
    }
   },
   "outputs": [
    {
     "data": {
      "text/plain": "                   Metric              Model_Name  \\\n0                Accuracy  RandomForestClassifier   \n1                Accuracy  RandomForestClassifier   \n2                Accuracy  RandomForestClassifier   \n3                Accuracy  RandomForestClassifier   \n4                Accuracy  RandomForestClassifier   \n5                Accuracy  RandomForestClassifier   \n6   Aleatoric_Uncertainty  RandomForestClassifier   \n7   Aleatoric_Uncertainty  RandomForestClassifier   \n8   Aleatoric_Uncertainty  RandomForestClassifier   \n9   Aleatoric_Uncertainty  RandomForestClassifier   \n10  Aleatoric_Uncertainty  RandomForestClassifier   \n11  Aleatoric_Uncertainty  RandomForestClassifier   \n12                     F1  RandomForestClassifier   \n13                     F1  RandomForestClassifier   \n14                     F1  RandomForestClassifier   \n15                     F1  RandomForestClassifier   \n16                     F1  RandomForestClassifier   \n17                     F1  RandomForestClassifier   \n18                    FNR  RandomForestClassifier   \n19                    FNR  RandomForestClassifier   \n\n                                         Model_Params        Dataset_Name  \\\n0   {'bootstrap': True, 'ccp_alpha': 0.0, 'class_w...  StudentPerformance   \n1   {'bootstrap': True, 'ccp_alpha': 0.0, 'class_w...  StudentPerformance   \n2   {'bootstrap': True, 'ccp_alpha': 0.0, 'class_w...  StudentPerformance   \n3   {'bootstrap': True, 'ccp_alpha': 0.0, 'class_w...  StudentPerformance   \n4   {'bootstrap': True, 'ccp_alpha': 0.0, 'class_w...  StudentPerformance   \n5   {'bootstrap': True, 'ccp_alpha': 0.0, 'class_w...  StudentPerformance   \n6   {'bootstrap': True, 'ccp_alpha': 0.0, 'class_w...  StudentPerformance   \n7   {'bootstrap': True, 'ccp_alpha': 0.0, 'class_w...  StudentPerformance   \n8   {'bootstrap': True, 'ccp_alpha': 0.0, 'class_w...  StudentPerformance   \n9   {'bootstrap': True, 'ccp_alpha': 0.0, 'class_w...  StudentPerformance   \n10  {'bootstrap': True, 'ccp_alpha': 0.0, 'class_w...  StudentPerformance   \n11  {'bootstrap': True, 'ccp_alpha': 0.0, 'class_w...  StudentPerformance   \n12  {'bootstrap': True, 'ccp_alpha': 0.0, 'class_w...  StudentPerformance   \n13  {'bootstrap': True, 'ccp_alpha': 0.0, 'class_w...  StudentPerformance   \n14  {'bootstrap': True, 'ccp_alpha': 0.0, 'class_w...  StudentPerformance   \n15  {'bootstrap': True, 'ccp_alpha': 0.0, 'class_w...  StudentPerformance   \n16  {'bootstrap': True, 'ccp_alpha': 0.0, 'class_w...  StudentPerformance   \n17  {'bootstrap': True, 'ccp_alpha': 0.0, 'class_w...  StudentPerformance   \n18  {'bootstrap': True, 'ccp_alpha': 0.0, 'class_w...  StudentPerformance   \n19  {'bootstrap': True, 'ccp_alpha': 0.0, 'class_w...  StudentPerformance   \n\n    Num_Estimators Tag Record_Create_Date_Time  \\\n0               50  OK 2023-10-18 12:38:02.594   \n1               50  OK 2023-10-18 12:41:24.430   \n2               50  OK 2023-10-18 12:44:25.836   \n3               50  OK 2023-10-18 12:47:56.560   \n4               50  OK 2023-10-18 12:51:20.780   \n5               50  OK 2023-10-18 12:54:40.298   \n6               50  OK 2023-10-18 12:38:02.594   \n7               50  OK 2023-10-18 12:41:24.430   \n8               50  OK 2023-10-18 12:44:25.836   \n9               50  OK 2023-10-18 12:47:56.560   \n10              50  OK 2023-10-18 12:51:20.780   \n11              50  OK 2023-10-18 12:54:40.298   \n12              50  OK 2023-10-18 12:38:02.594   \n13              50  OK 2023-10-18 12:41:24.430   \n14              50  OK 2023-10-18 12:44:25.836   \n15              50  OK 2023-10-18 12:47:56.560   \n16              50  OK 2023-10-18 12:51:20.780   \n17              50  OK 2023-10-18 12:54:40.298   \n18              50  OK 2023-10-18 12:38:02.594   \n19              50  OK 2023-10-18 12:41:24.430   \n\n                            Session_Uuid Experiment_Iteration  \\\n0   143c04c7-209e-4945-a3cb-6009e72e36ff           Exp_iter_7   \n1   143c04c7-209e-4945-a3cb-6009e72e36ff           Exp_iter_7   \n2   143c04c7-209e-4945-a3cb-6009e72e36ff           Exp_iter_7   \n3   143c04c7-209e-4945-a3cb-6009e72e36ff           Exp_iter_7   \n4   143c04c7-209e-4945-a3cb-6009e72e36ff           Exp_iter_7   \n5   143c04c7-209e-4945-a3cb-6009e72e36ff           Exp_iter_7   \n6   143c04c7-209e-4945-a3cb-6009e72e36ff           Exp_iter_7   \n7   143c04c7-209e-4945-a3cb-6009e72e36ff           Exp_iter_7   \n8   143c04c7-209e-4945-a3cb-6009e72e36ff           Exp_iter_7   \n9   143c04c7-209e-4945-a3cb-6009e72e36ff           Exp_iter_7   \n10  143c04c7-209e-4945-a3cb-6009e72e36ff           Exp_iter_7   \n11  143c04c7-209e-4945-a3cb-6009e72e36ff           Exp_iter_7   \n12  143c04c7-209e-4945-a3cb-6009e72e36ff           Exp_iter_7   \n13  143c04c7-209e-4945-a3cb-6009e72e36ff           Exp_iter_7   \n14  143c04c7-209e-4945-a3cb-6009e72e36ff           Exp_iter_7   \n15  143c04c7-209e-4945-a3cb-6009e72e36ff           Exp_iter_7   \n16  143c04c7-209e-4945-a3cb-6009e72e36ff           Exp_iter_7   \n17  143c04c7-209e-4945-a3cb-6009e72e36ff           Exp_iter_7   \n18  143c04c7-209e-4945-a3cb-6009e72e36ff           Exp_iter_7   \n19  143c04c7-209e-4945-a3cb-6009e72e36ff           Exp_iter_7   \n\n    Dataset_Split_Seed  Model_Init_Seed    Fair_Intervention_Params_Lst  \\\n0                  700              700  [0.0, 0.1, 0.2, 0.3, 0.4, 0.5]   \n1                  700              700  [0.0, 0.1, 0.2, 0.3, 0.4, 0.5]   \n2                  700              700  [0.0, 0.1, 0.2, 0.3, 0.4, 0.5]   \n3                  700              700  [0.0, 0.1, 0.2, 0.3, 0.4, 0.5]   \n4                  700              700  [0.0, 0.1, 0.2, 0.3, 0.4, 0.5]   \n5                  700              700  [0.0, 0.1, 0.2, 0.3, 0.4, 0.5]   \n6                  700              700  [0.0, 0.1, 0.2, 0.3, 0.4, 0.5]   \n7                  700              700  [0.0, 0.1, 0.2, 0.3, 0.4, 0.5]   \n8                  700              700  [0.0, 0.1, 0.2, 0.3, 0.4, 0.5]   \n9                  700              700  [0.0, 0.1, 0.2, 0.3, 0.4, 0.5]   \n10                 700              700  [0.0, 0.1, 0.2, 0.3, 0.4, 0.5]   \n11                 700              700  [0.0, 0.1, 0.2, 0.3, 0.4, 0.5]   \n12                 700              700  [0.0, 0.1, 0.2, 0.3, 0.4, 0.5]   \n13                 700              700  [0.0, 0.1, 0.2, 0.3, 0.4, 0.5]   \n14                 700              700  [0.0, 0.1, 0.2, 0.3, 0.4, 0.5]   \n15                 700              700  [0.0, 0.1, 0.2, 0.3, 0.4, 0.5]   \n16                 700              700  [0.0, 0.1, 0.2, 0.3, 0.4, 0.5]   \n17                 700              700  [0.0, 0.1, 0.2, 0.3, 0.4, 0.5]   \n18                 700              700  [0.0, 0.1, 0.2, 0.3, 0.4, 0.5]   \n19                 700              700  [0.0, 0.1, 0.2, 0.3, 0.4, 0.5]   \n\n    Intervention_Param   overall   sex_dis  sex_priv  \n0                  0.0  0.000000  0.000000  0.000000  \n1                  0.1  0.000000  0.000000  0.000000  \n2                  0.2  0.000000  0.000000  0.000000  \n3                  0.3  0.957983  0.985714  0.918367  \n4                  0.4  0.000000  0.000000  0.000000  \n5                  0.5  0.949580  0.942857  0.959184  \n6                  0.0  0.000000  0.000000  0.000000  \n7                  0.1  0.000000  0.000000  0.000000  \n8                  0.2  0.000000  0.000000  0.000000  \n9                  0.3  0.009095  0.004221  0.016057  \n10                 0.4  0.000000  0.000000  0.000000  \n11                 0.5  0.295328  0.263307  0.341072  \n12                 0.0  0.000000  0.000000  0.000000  \n13                 0.1  0.000000  0.000000  0.000000  \n14                 0.2  0.000000  0.000000  0.000000  \n15                 0.3  0.978541  0.992806  0.957447  \n16                 0.4  0.000000  0.000000  0.000000  \n17                 0.5  0.957746  0.955556  0.961538  \n18                 0.0  1.000000  1.000000  1.000000  \n19                 0.1  1.000000  1.000000  1.000000  ",
      "text/html": "<div>\n<style scoped>\n    .dataframe tbody tr th:only-of-type {\n        vertical-align: middle;\n    }\n\n    .dataframe tbody tr th {\n        vertical-align: top;\n    }\n\n    .dataframe thead th {\n        text-align: right;\n    }\n</style>\n<table border=\"1\" class=\"dataframe\">\n  <thead>\n    <tr style=\"text-align: right;\">\n      <th></th>\n      <th>Metric</th>\n      <th>Model_Name</th>\n      <th>Model_Params</th>\n      <th>Dataset_Name</th>\n      <th>Num_Estimators</th>\n      <th>Tag</th>\n      <th>Record_Create_Date_Time</th>\n      <th>Session_Uuid</th>\n      <th>Experiment_Iteration</th>\n      <th>Dataset_Split_Seed</th>\n      <th>Model_Init_Seed</th>\n      <th>Fair_Intervention_Params_Lst</th>\n      <th>Intervention_Param</th>\n      <th>overall</th>\n      <th>sex_dis</th>\n      <th>sex_priv</th>\n    </tr>\n  </thead>\n  <tbody>\n    <tr>\n      <th>0</th>\n      <td>Accuracy</td>\n      <td>RandomForestClassifier</td>\n      <td>{'bootstrap': True, 'ccp_alpha': 0.0, 'class_w...</td>\n      <td>StudentPerformance</td>\n      <td>50</td>\n      <td>OK</td>\n      <td>2023-10-18 12:38:02.594</td>\n      <td>143c04c7-209e-4945-a3cb-6009e72e36ff</td>\n      <td>Exp_iter_7</td>\n      <td>700</td>\n      <td>700</td>\n      <td>[0.0, 0.1, 0.2, 0.3, 0.4, 0.5]</td>\n      <td>0.0</td>\n      <td>0.000000</td>\n      <td>0.000000</td>\n      <td>0.000000</td>\n    </tr>\n    <tr>\n      <th>1</th>\n      <td>Accuracy</td>\n      <td>RandomForestClassifier</td>\n      <td>{'bootstrap': True, 'ccp_alpha': 0.0, 'class_w...</td>\n      <td>StudentPerformance</td>\n      <td>50</td>\n      <td>OK</td>\n      <td>2023-10-18 12:41:24.430</td>\n      <td>143c04c7-209e-4945-a3cb-6009e72e36ff</td>\n      <td>Exp_iter_7</td>\n      <td>700</td>\n      <td>700</td>\n      <td>[0.0, 0.1, 0.2, 0.3, 0.4, 0.5]</td>\n      <td>0.1</td>\n      <td>0.000000</td>\n      <td>0.000000</td>\n      <td>0.000000</td>\n    </tr>\n    <tr>\n      <th>2</th>\n      <td>Accuracy</td>\n      <td>RandomForestClassifier</td>\n      <td>{'bootstrap': True, 'ccp_alpha': 0.0, 'class_w...</td>\n      <td>StudentPerformance</td>\n      <td>50</td>\n      <td>OK</td>\n      <td>2023-10-18 12:44:25.836</td>\n      <td>143c04c7-209e-4945-a3cb-6009e72e36ff</td>\n      <td>Exp_iter_7</td>\n      <td>700</td>\n      <td>700</td>\n      <td>[0.0, 0.1, 0.2, 0.3, 0.4, 0.5]</td>\n      <td>0.2</td>\n      <td>0.000000</td>\n      <td>0.000000</td>\n      <td>0.000000</td>\n    </tr>\n    <tr>\n      <th>3</th>\n      <td>Accuracy</td>\n      <td>RandomForestClassifier</td>\n      <td>{'bootstrap': True, 'ccp_alpha': 0.0, 'class_w...</td>\n      <td>StudentPerformance</td>\n      <td>50</td>\n      <td>OK</td>\n      <td>2023-10-18 12:47:56.560</td>\n      <td>143c04c7-209e-4945-a3cb-6009e72e36ff</td>\n      <td>Exp_iter_7</td>\n      <td>700</td>\n      <td>700</td>\n      <td>[0.0, 0.1, 0.2, 0.3, 0.4, 0.5]</td>\n      <td>0.3</td>\n      <td>0.957983</td>\n      <td>0.985714</td>\n      <td>0.918367</td>\n    </tr>\n    <tr>\n      <th>4</th>\n      <td>Accuracy</td>\n      <td>RandomForestClassifier</td>\n      <td>{'bootstrap': True, 'ccp_alpha': 0.0, 'class_w...</td>\n      <td>StudentPerformance</td>\n      <td>50</td>\n      <td>OK</td>\n      <td>2023-10-18 12:51:20.780</td>\n      <td>143c04c7-209e-4945-a3cb-6009e72e36ff</td>\n      <td>Exp_iter_7</td>\n      <td>700</td>\n      <td>700</td>\n      <td>[0.0, 0.1, 0.2, 0.3, 0.4, 0.5]</td>\n      <td>0.4</td>\n      <td>0.000000</td>\n      <td>0.000000</td>\n      <td>0.000000</td>\n    </tr>\n    <tr>\n      <th>5</th>\n      <td>Accuracy</td>\n      <td>RandomForestClassifier</td>\n      <td>{'bootstrap': True, 'ccp_alpha': 0.0, 'class_w...</td>\n      <td>StudentPerformance</td>\n      <td>50</td>\n      <td>OK</td>\n      <td>2023-10-18 12:54:40.298</td>\n      <td>143c04c7-209e-4945-a3cb-6009e72e36ff</td>\n      <td>Exp_iter_7</td>\n      <td>700</td>\n      <td>700</td>\n      <td>[0.0, 0.1, 0.2, 0.3, 0.4, 0.5]</td>\n      <td>0.5</td>\n      <td>0.949580</td>\n      <td>0.942857</td>\n      <td>0.959184</td>\n    </tr>\n    <tr>\n      <th>6</th>\n      <td>Aleatoric_Uncertainty</td>\n      <td>RandomForestClassifier</td>\n      <td>{'bootstrap': True, 'ccp_alpha': 0.0, 'class_w...</td>\n      <td>StudentPerformance</td>\n      <td>50</td>\n      <td>OK</td>\n      <td>2023-10-18 12:38:02.594</td>\n      <td>143c04c7-209e-4945-a3cb-6009e72e36ff</td>\n      <td>Exp_iter_7</td>\n      <td>700</td>\n      <td>700</td>\n      <td>[0.0, 0.1, 0.2, 0.3, 0.4, 0.5]</td>\n      <td>0.0</td>\n      <td>0.000000</td>\n      <td>0.000000</td>\n      <td>0.000000</td>\n    </tr>\n    <tr>\n      <th>7</th>\n      <td>Aleatoric_Uncertainty</td>\n      <td>RandomForestClassifier</td>\n      <td>{'bootstrap': True, 'ccp_alpha': 0.0, 'class_w...</td>\n      <td>StudentPerformance</td>\n      <td>50</td>\n      <td>OK</td>\n      <td>2023-10-18 12:41:24.430</td>\n      <td>143c04c7-209e-4945-a3cb-6009e72e36ff</td>\n      <td>Exp_iter_7</td>\n      <td>700</td>\n      <td>700</td>\n      <td>[0.0, 0.1, 0.2, 0.3, 0.4, 0.5]</td>\n      <td>0.1</td>\n      <td>0.000000</td>\n      <td>0.000000</td>\n      <td>0.000000</td>\n    </tr>\n    <tr>\n      <th>8</th>\n      <td>Aleatoric_Uncertainty</td>\n      <td>RandomForestClassifier</td>\n      <td>{'bootstrap': True, 'ccp_alpha': 0.0, 'class_w...</td>\n      <td>StudentPerformance</td>\n      <td>50</td>\n      <td>OK</td>\n      <td>2023-10-18 12:44:25.836</td>\n      <td>143c04c7-209e-4945-a3cb-6009e72e36ff</td>\n      <td>Exp_iter_7</td>\n      <td>700</td>\n      <td>700</td>\n      <td>[0.0, 0.1, 0.2, 0.3, 0.4, 0.5]</td>\n      <td>0.2</td>\n      <td>0.000000</td>\n      <td>0.000000</td>\n      <td>0.000000</td>\n    </tr>\n    <tr>\n      <th>9</th>\n      <td>Aleatoric_Uncertainty</td>\n      <td>RandomForestClassifier</td>\n      <td>{'bootstrap': True, 'ccp_alpha': 0.0, 'class_w...</td>\n      <td>StudentPerformance</td>\n      <td>50</td>\n      <td>OK</td>\n      <td>2023-10-18 12:47:56.560</td>\n      <td>143c04c7-209e-4945-a3cb-6009e72e36ff</td>\n      <td>Exp_iter_7</td>\n      <td>700</td>\n      <td>700</td>\n      <td>[0.0, 0.1, 0.2, 0.3, 0.4, 0.5]</td>\n      <td>0.3</td>\n      <td>0.009095</td>\n      <td>0.004221</td>\n      <td>0.016057</td>\n    </tr>\n    <tr>\n      <th>10</th>\n      <td>Aleatoric_Uncertainty</td>\n      <td>RandomForestClassifier</td>\n      <td>{'bootstrap': True, 'ccp_alpha': 0.0, 'class_w...</td>\n      <td>StudentPerformance</td>\n      <td>50</td>\n      <td>OK</td>\n      <td>2023-10-18 12:51:20.780</td>\n      <td>143c04c7-209e-4945-a3cb-6009e72e36ff</td>\n      <td>Exp_iter_7</td>\n      <td>700</td>\n      <td>700</td>\n      <td>[0.0, 0.1, 0.2, 0.3, 0.4, 0.5]</td>\n      <td>0.4</td>\n      <td>0.000000</td>\n      <td>0.000000</td>\n      <td>0.000000</td>\n    </tr>\n    <tr>\n      <th>11</th>\n      <td>Aleatoric_Uncertainty</td>\n      <td>RandomForestClassifier</td>\n      <td>{'bootstrap': True, 'ccp_alpha': 0.0, 'class_w...</td>\n      <td>StudentPerformance</td>\n      <td>50</td>\n      <td>OK</td>\n      <td>2023-10-18 12:54:40.298</td>\n      <td>143c04c7-209e-4945-a3cb-6009e72e36ff</td>\n      <td>Exp_iter_7</td>\n      <td>700</td>\n      <td>700</td>\n      <td>[0.0, 0.1, 0.2, 0.3, 0.4, 0.5]</td>\n      <td>0.5</td>\n      <td>0.295328</td>\n      <td>0.263307</td>\n      <td>0.341072</td>\n    </tr>\n    <tr>\n      <th>12</th>\n      <td>F1</td>\n      <td>RandomForestClassifier</td>\n      <td>{'bootstrap': True, 'ccp_alpha': 0.0, 'class_w...</td>\n      <td>StudentPerformance</td>\n      <td>50</td>\n      <td>OK</td>\n      <td>2023-10-18 12:38:02.594</td>\n      <td>143c04c7-209e-4945-a3cb-6009e72e36ff</td>\n      <td>Exp_iter_7</td>\n      <td>700</td>\n      <td>700</td>\n      <td>[0.0, 0.1, 0.2, 0.3, 0.4, 0.5]</td>\n      <td>0.0</td>\n      <td>0.000000</td>\n      <td>0.000000</td>\n      <td>0.000000</td>\n    </tr>\n    <tr>\n      <th>13</th>\n      <td>F1</td>\n      <td>RandomForestClassifier</td>\n      <td>{'bootstrap': True, 'ccp_alpha': 0.0, 'class_w...</td>\n      <td>StudentPerformance</td>\n      <td>50</td>\n      <td>OK</td>\n      <td>2023-10-18 12:41:24.430</td>\n      <td>143c04c7-209e-4945-a3cb-6009e72e36ff</td>\n      <td>Exp_iter_7</td>\n      <td>700</td>\n      <td>700</td>\n      <td>[0.0, 0.1, 0.2, 0.3, 0.4, 0.5]</td>\n      <td>0.1</td>\n      <td>0.000000</td>\n      <td>0.000000</td>\n      <td>0.000000</td>\n    </tr>\n    <tr>\n      <th>14</th>\n      <td>F1</td>\n      <td>RandomForestClassifier</td>\n      <td>{'bootstrap': True, 'ccp_alpha': 0.0, 'class_w...</td>\n      <td>StudentPerformance</td>\n      <td>50</td>\n      <td>OK</td>\n      <td>2023-10-18 12:44:25.836</td>\n      <td>143c04c7-209e-4945-a3cb-6009e72e36ff</td>\n      <td>Exp_iter_7</td>\n      <td>700</td>\n      <td>700</td>\n      <td>[0.0, 0.1, 0.2, 0.3, 0.4, 0.5]</td>\n      <td>0.2</td>\n      <td>0.000000</td>\n      <td>0.000000</td>\n      <td>0.000000</td>\n    </tr>\n    <tr>\n      <th>15</th>\n      <td>F1</td>\n      <td>RandomForestClassifier</td>\n      <td>{'bootstrap': True, 'ccp_alpha': 0.0, 'class_w...</td>\n      <td>StudentPerformance</td>\n      <td>50</td>\n      <td>OK</td>\n      <td>2023-10-18 12:47:56.560</td>\n      <td>143c04c7-209e-4945-a3cb-6009e72e36ff</td>\n      <td>Exp_iter_7</td>\n      <td>700</td>\n      <td>700</td>\n      <td>[0.0, 0.1, 0.2, 0.3, 0.4, 0.5]</td>\n      <td>0.3</td>\n      <td>0.978541</td>\n      <td>0.992806</td>\n      <td>0.957447</td>\n    </tr>\n    <tr>\n      <th>16</th>\n      <td>F1</td>\n      <td>RandomForestClassifier</td>\n      <td>{'bootstrap': True, 'ccp_alpha': 0.0, 'class_w...</td>\n      <td>StudentPerformance</td>\n      <td>50</td>\n      <td>OK</td>\n      <td>2023-10-18 12:51:20.780</td>\n      <td>143c04c7-209e-4945-a3cb-6009e72e36ff</td>\n      <td>Exp_iter_7</td>\n      <td>700</td>\n      <td>700</td>\n      <td>[0.0, 0.1, 0.2, 0.3, 0.4, 0.5]</td>\n      <td>0.4</td>\n      <td>0.000000</td>\n      <td>0.000000</td>\n      <td>0.000000</td>\n    </tr>\n    <tr>\n      <th>17</th>\n      <td>F1</td>\n      <td>RandomForestClassifier</td>\n      <td>{'bootstrap': True, 'ccp_alpha': 0.0, 'class_w...</td>\n      <td>StudentPerformance</td>\n      <td>50</td>\n      <td>OK</td>\n      <td>2023-10-18 12:54:40.298</td>\n      <td>143c04c7-209e-4945-a3cb-6009e72e36ff</td>\n      <td>Exp_iter_7</td>\n      <td>700</td>\n      <td>700</td>\n      <td>[0.0, 0.1, 0.2, 0.3, 0.4, 0.5]</td>\n      <td>0.5</td>\n      <td>0.957746</td>\n      <td>0.955556</td>\n      <td>0.961538</td>\n    </tr>\n    <tr>\n      <th>18</th>\n      <td>FNR</td>\n      <td>RandomForestClassifier</td>\n      <td>{'bootstrap': True, 'ccp_alpha': 0.0, 'class_w...</td>\n      <td>StudentPerformance</td>\n      <td>50</td>\n      <td>OK</td>\n      <td>2023-10-18 12:38:02.594</td>\n      <td>143c04c7-209e-4945-a3cb-6009e72e36ff</td>\n      <td>Exp_iter_7</td>\n      <td>700</td>\n      <td>700</td>\n      <td>[0.0, 0.1, 0.2, 0.3, 0.4, 0.5]</td>\n      <td>0.0</td>\n      <td>1.000000</td>\n      <td>1.000000</td>\n      <td>1.000000</td>\n    </tr>\n    <tr>\n      <th>19</th>\n      <td>FNR</td>\n      <td>RandomForestClassifier</td>\n      <td>{'bootstrap': True, 'ccp_alpha': 0.0, 'class_w...</td>\n      <td>StudentPerformance</td>\n      <td>50</td>\n      <td>OK</td>\n      <td>2023-10-18 12:41:24.430</td>\n      <td>143c04c7-209e-4945-a3cb-6009e72e36ff</td>\n      <td>Exp_iter_7</td>\n      <td>700</td>\n      <td>700</td>\n      <td>[0.0, 0.1, 0.2, 0.3, 0.4, 0.5]</td>\n      <td>0.1</td>\n      <td>1.000000</td>\n      <td>1.000000</td>\n      <td>1.000000</td>\n    </tr>\n  </tbody>\n</table>\n</div>"
     },
     "execution_count": 9,
     "metadata": {},
     "output_type": "execute_result"
    }
   ],
   "source": [
    "models_metrics_dct[list(models_metrics_dct.keys())[0]].head(20)"
   ]
  },
  {
   "cell_type": "code",
   "execution_count": 10,
   "id": "5e84f21a",
   "metadata": {
    "ExecuteTime": {
     "end_time": "2023-10-18T18:44:30.170850Z",
     "start_time": "2023-10-18T18:44:29.957173Z"
    }
   },
   "outputs": [
    {
     "data": {
      "text/plain": "                                                                             79\nMetric                                                              Sample_Size\nModel_Name                                               RandomForestClassifier\nModel_Params                  {'bootstrap': True, 'ccp_alpha': 0.0, 'class_w...\nDataset_Name                                                 StudentPerformance\nNum_Estimators                                                               50\nTag                                                                          OK\nRecord_Create_Date_Time                              2023-10-18 12:41:24.430000\nSession_Uuid                               143c04c7-209e-4945-a3cb-6009e72e36ff\nExperiment_Iteration                                                 Exp_iter_7\nDataset_Split_Seed                                                          700\nModel_Init_Seed                                                             700\nFair_Intervention_Params_Lst                     [0.0, 0.1, 0.2, 0.3, 0.4, 0.5]\nIntervention_Param                                                          0.1\noverall                                                                   119.0\nsex_dis                                                                     NaN\nsex_priv                                                                    NaN",
      "text/html": "<div>\n<style scoped>\n    .dataframe tbody tr th:only-of-type {\n        vertical-align: middle;\n    }\n\n    .dataframe tbody tr th {\n        vertical-align: top;\n    }\n\n    .dataframe thead th {\n        text-align: right;\n    }\n</style>\n<table border=\"1\" class=\"dataframe\">\n  <thead>\n    <tr style=\"text-align: right;\">\n      <th></th>\n      <th>79</th>\n    </tr>\n  </thead>\n  <tbody>\n    <tr>\n      <th>Metric</th>\n      <td>Sample_Size</td>\n    </tr>\n    <tr>\n      <th>Model_Name</th>\n      <td>RandomForestClassifier</td>\n    </tr>\n    <tr>\n      <th>Model_Params</th>\n      <td>{'bootstrap': True, 'ccp_alpha': 0.0, 'class_w...</td>\n    </tr>\n    <tr>\n      <th>Dataset_Name</th>\n      <td>StudentPerformance</td>\n    </tr>\n    <tr>\n      <th>Num_Estimators</th>\n      <td>50</td>\n    </tr>\n    <tr>\n      <th>Tag</th>\n      <td>OK</td>\n    </tr>\n    <tr>\n      <th>Record_Create_Date_Time</th>\n      <td>2023-10-18 12:41:24.430000</td>\n    </tr>\n    <tr>\n      <th>Session_Uuid</th>\n      <td>143c04c7-209e-4945-a3cb-6009e72e36ff</td>\n    </tr>\n    <tr>\n      <th>Experiment_Iteration</th>\n      <td>Exp_iter_7</td>\n    </tr>\n    <tr>\n      <th>Dataset_Split_Seed</th>\n      <td>700</td>\n    </tr>\n    <tr>\n      <th>Model_Init_Seed</th>\n      <td>700</td>\n    </tr>\n    <tr>\n      <th>Fair_Intervention_Params_Lst</th>\n      <td>[0.0, 0.1, 0.2, 0.3, 0.4, 0.5]</td>\n    </tr>\n    <tr>\n      <th>Intervention_Param</th>\n      <td>0.1</td>\n    </tr>\n    <tr>\n      <th>overall</th>\n      <td>119.0</td>\n    </tr>\n    <tr>\n      <th>sex_dis</th>\n      <td>NaN</td>\n    </tr>\n    <tr>\n      <th>sex_priv</th>\n      <td>NaN</td>\n    </tr>\n  </tbody>\n</table>\n</div>"
     },
     "execution_count": 10,
     "metadata": {},
     "output_type": "execute_result"
    }
   ],
   "source": [
    "df = models_metrics_dct[list(models_metrics_dct.keys())[0]]\n",
    "df[(df.Metric == 'Sample_Size') & (df.Experiment_Iteration == 'Exp_iter_7') & (df.Intervention_Param == 0.1)].T"
   ]
  },
  {
   "cell_type": "code",
   "execution_count": 11,
   "id": "7844f79c",
   "metadata": {
    "ExecuteTime": {
     "end_time": "2023-10-18T18:44:30.171945Z",
     "start_time": "2023-10-18T18:44:29.980084Z"
    }
   },
   "outputs": [],
   "source": [
    "exp_composer = ExperimentsComposer(models_metrics_dct, SENSITIVE_ATTRS)\n",
    "exp_subgroup_metrics_dct = exp_composer.create_exp_subgroup_metrics_dct()"
   ]
  },
  {
   "cell_type": "code",
   "execution_count": 12,
   "id": "cc285a55",
   "metadata": {
    "ExecuteTime": {
     "end_time": "2023-10-18T18:44:30.173749Z",
     "start_time": "2023-10-18T18:44:30.007136Z"
    }
   },
   "outputs": [],
   "source": [
    "exp_group_metrics_dct = exp_composer.compose_group_metrics(exp_subgroup_metrics_dct)"
   ]
  },
  {
   "cell_type": "code",
   "execution_count": 13,
   "outputs": [
    {
     "data": {
      "text/plain": "dict_keys(['Exp_iter_7'])"
     },
     "execution_count": 13,
     "metadata": {},
     "output_type": "execute_result"
    }
   ],
   "source": [
    "exp_subgroup_metrics_dct['RandomForestClassifier'].keys()"
   ],
   "metadata": {
    "collapsed": false,
    "ExecuteTime": {
     "end_time": "2023-10-18T18:44:30.174216Z",
     "start_time": "2023-10-18T18:44:30.069235Z"
    }
   }
  },
  {
   "cell_type": "code",
   "execution_count": 14,
   "id": "386203af",
   "metadata": {
    "ExecuteTime": {
     "end_time": "2023-10-18T18:44:30.483025Z",
     "start_time": "2023-10-18T18:44:30.093675Z"
    }
   },
   "outputs": [
    {
     "data": {
      "text/plain": "               Metric       sex              Model_Name Experiment_Iteration  \\\n0     Accuracy_Parity -0.016327  RandomForestClassifier           Exp_iter_7   \n1    Disparate_Impact  0.925926  RandomForestClassifier           Exp_iter_7   \n2  Equalized_Odds_FNR  0.044444  RandomForestClassifier           Exp_iter_7   \n3  Equalized_Odds_FPR -0.003333  RandomForestClassifier           Exp_iter_7   \n4  Equalized_Odds_TPR -0.044444  RandomForestClassifier           Exp_iter_7   \n\n   Intervention_Param  \n0                 0.5  \n1                 0.5  \n2                 0.5  \n3                 0.5  \n4                 0.5  ",
      "text/html": "<div>\n<style scoped>\n    .dataframe tbody tr th:only-of-type {\n        vertical-align: middle;\n    }\n\n    .dataframe tbody tr th {\n        vertical-align: top;\n    }\n\n    .dataframe thead th {\n        text-align: right;\n    }\n</style>\n<table border=\"1\" class=\"dataframe\">\n  <thead>\n    <tr style=\"text-align: right;\">\n      <th></th>\n      <th>Metric</th>\n      <th>sex</th>\n      <th>Model_Name</th>\n      <th>Experiment_Iteration</th>\n      <th>Intervention_Param</th>\n    </tr>\n  </thead>\n  <tbody>\n    <tr>\n      <th>0</th>\n      <td>Accuracy_Parity</td>\n      <td>-0.016327</td>\n      <td>RandomForestClassifier</td>\n      <td>Exp_iter_7</td>\n      <td>0.5</td>\n    </tr>\n    <tr>\n      <th>1</th>\n      <td>Disparate_Impact</td>\n      <td>0.925926</td>\n      <td>RandomForestClassifier</td>\n      <td>Exp_iter_7</td>\n      <td>0.5</td>\n    </tr>\n    <tr>\n      <th>2</th>\n      <td>Equalized_Odds_FNR</td>\n      <td>0.044444</td>\n      <td>RandomForestClassifier</td>\n      <td>Exp_iter_7</td>\n      <td>0.5</td>\n    </tr>\n    <tr>\n      <th>3</th>\n      <td>Equalized_Odds_FPR</td>\n      <td>-0.003333</td>\n      <td>RandomForestClassifier</td>\n      <td>Exp_iter_7</td>\n      <td>0.5</td>\n    </tr>\n    <tr>\n      <th>4</th>\n      <td>Equalized_Odds_TPR</td>\n      <td>-0.044444</td>\n      <td>RandomForestClassifier</td>\n      <td>Exp_iter_7</td>\n      <td>0.5</td>\n    </tr>\n  </tbody>\n</table>\n</div>"
     },
     "execution_count": 14,
     "metadata": {},
     "output_type": "execute_result"
    }
   ],
   "source": [
    "exp_group_metrics_dct['RandomForestClassifier']['Exp_iter_7'][0.5].head()"
   ]
  },
  {
   "cell_type": "code",
   "execution_count": 16,
   "outputs": [
    {
     "data": {
      "text/plain": "{0.0:                            Metric  sex              Model_Name  \\\n 0                 Accuracy_Parity  0.0  RandomForestClassifier   \n 1                Disparate_Impact  NaN  RandomForestClassifier   \n 2              Equalized_Odds_FNR  0.0  RandomForestClassifier   \n 3              Equalized_Odds_FPR  NaN  RandomForestClassifier   \n 4              Equalized_Odds_TPR  0.0  RandomForestClassifier   \n 5                      IQR_Parity  0.0  RandomForestClassifier   \n 6                   Jitter_Parity  0.0  RandomForestClassifier   \n 7           Label_Stability_Ratio  1.0  RandomForestClassifier   \n 8   Statistical_Parity_Difference  0.0  RandomForestClassifier   \n 9                      Std_Parity  0.0  RandomForestClassifier   \n 10                      Std_Ratio  NaN  RandomForestClassifier   \n \n    Experiment_Iteration  Intervention_Param  \n 0            Exp_iter_7                 0.0  \n 1            Exp_iter_7                 0.0  \n 2            Exp_iter_7                 0.0  \n 3            Exp_iter_7                 0.0  \n 4            Exp_iter_7                 0.0  \n 5            Exp_iter_7                 0.0  \n 6            Exp_iter_7                 0.0  \n 7            Exp_iter_7                 0.0  \n 8            Exp_iter_7                 0.0  \n 9            Exp_iter_7                 0.0  \n 10           Exp_iter_7                 0.0  ,\n 0.1:                            Metric  sex              Model_Name  \\\n 0                 Accuracy_Parity  0.0  RandomForestClassifier   \n 1                Disparate_Impact  NaN  RandomForestClassifier   \n 2              Equalized_Odds_FNR  0.0  RandomForestClassifier   \n 3              Equalized_Odds_FPR  NaN  RandomForestClassifier   \n 4              Equalized_Odds_TPR  0.0  RandomForestClassifier   \n 5                      IQR_Parity  0.0  RandomForestClassifier   \n 6                   Jitter_Parity  0.0  RandomForestClassifier   \n 7           Label_Stability_Ratio  1.0  RandomForestClassifier   \n 8   Statistical_Parity_Difference  0.0  RandomForestClassifier   \n 9                      Std_Parity  0.0  RandomForestClassifier   \n 10                      Std_Ratio  NaN  RandomForestClassifier   \n \n    Experiment_Iteration  Intervention_Param  \n 0            Exp_iter_7                 0.1  \n 1            Exp_iter_7                 0.1  \n 2            Exp_iter_7                 0.1  \n 3            Exp_iter_7                 0.1  \n 4            Exp_iter_7                 0.1  \n 5            Exp_iter_7                 0.1  \n 6            Exp_iter_7                 0.1  \n 7            Exp_iter_7                 0.1  \n 8            Exp_iter_7                 0.1  \n 9            Exp_iter_7                 0.1  \n 10           Exp_iter_7                 0.1  ,\n 0.2:                            Metric  sex              Model_Name  \\\n 0                 Accuracy_Parity  0.0  RandomForestClassifier   \n 1                Disparate_Impact  NaN  RandomForestClassifier   \n 2              Equalized_Odds_FNR  0.0  RandomForestClassifier   \n 3              Equalized_Odds_FPR  NaN  RandomForestClassifier   \n 4              Equalized_Odds_TPR  0.0  RandomForestClassifier   \n 5                      IQR_Parity  0.0  RandomForestClassifier   \n 6                   Jitter_Parity  0.0  RandomForestClassifier   \n 7           Label_Stability_Ratio  1.0  RandomForestClassifier   \n 8   Statistical_Parity_Difference  0.0  RandomForestClassifier   \n 9                      Std_Parity  0.0  RandomForestClassifier   \n 10                      Std_Ratio  NaN  RandomForestClassifier   \n \n    Experiment_Iteration  Intervention_Param  \n 0            Exp_iter_7                 0.2  \n 1            Exp_iter_7                 0.2  \n 2            Exp_iter_7                 0.2  \n 3            Exp_iter_7                 0.2  \n 4            Exp_iter_7                 0.2  \n 5            Exp_iter_7                 0.2  \n 6            Exp_iter_7                 0.2  \n 7            Exp_iter_7                 0.2  \n 8            Exp_iter_7                 0.2  \n 9            Exp_iter_7                 0.2  \n 10           Exp_iter_7                 0.2  ,\n 0.3:                            Metric       sex              Model_Name  \\\n 0                 Accuracy_Parity  0.067347  RandomForestClassifier   \n 1                Disparate_Impact  1.073333  RandomForestClassifier   \n 2              Equalized_Odds_FNR -0.067347  RandomForestClassifier   \n 3              Equalized_Odds_FPR       NaN  RandomForestClassifier   \n 4              Equalized_Odds_TPR  0.067347  RandomForestClassifier   \n 5                      IQR_Parity  0.004918  RandomForestClassifier   \n 6                   Jitter_Parity  0.000000  RandomForestClassifier   \n 7           Label_Stability_Ratio  1.000000  RandomForestClassifier   \n 8   Statistical_Parity_Difference  0.067347  RandomForestClassifier   \n 9                      Std_Parity  0.002531  RandomForestClassifier   \n 10                      Std_Ratio  1.005046  RandomForestClassifier   \n \n    Experiment_Iteration  Intervention_Param  \n 0            Exp_iter_7                 0.3  \n 1            Exp_iter_7                 0.3  \n 2            Exp_iter_7                 0.3  \n 3            Exp_iter_7                 0.3  \n 4            Exp_iter_7                 0.3  \n 5            Exp_iter_7                 0.3  \n 6            Exp_iter_7                 0.3  \n 7            Exp_iter_7                 0.3  \n 8            Exp_iter_7                 0.3  \n 9            Exp_iter_7                 0.3  \n 10           Exp_iter_7                 0.3  ,\n 0.4:                            Metric  sex              Model_Name  \\\n 0                 Accuracy_Parity  0.0  RandomForestClassifier   \n 1                Disparate_Impact  NaN  RandomForestClassifier   \n 2              Equalized_Odds_FNR  0.0  RandomForestClassifier   \n 3              Equalized_Odds_FPR  NaN  RandomForestClassifier   \n 4              Equalized_Odds_TPR  0.0  RandomForestClassifier   \n 5                      IQR_Parity  0.0  RandomForestClassifier   \n 6                   Jitter_Parity  0.0  RandomForestClassifier   \n 7           Label_Stability_Ratio  1.0  RandomForestClassifier   \n 8   Statistical_Parity_Difference  0.0  RandomForestClassifier   \n 9                      Std_Parity  0.0  RandomForestClassifier   \n 10                      Std_Ratio  NaN  RandomForestClassifier   \n \n    Experiment_Iteration  Intervention_Param  \n 0            Exp_iter_7                 0.4  \n 1            Exp_iter_7                 0.4  \n 2            Exp_iter_7                 0.4  \n 3            Exp_iter_7                 0.4  \n 4            Exp_iter_7                 0.4  \n 5            Exp_iter_7                 0.4  \n 6            Exp_iter_7                 0.4  \n 7            Exp_iter_7                 0.4  \n 8            Exp_iter_7                 0.4  \n 9            Exp_iter_7                 0.4  \n 10           Exp_iter_7                 0.4  ,\n 0.5:                            Metric       sex              Model_Name  \\\n 0                 Accuracy_Parity -0.016327  RandomForestClassifier   \n 1                Disparate_Impact  0.925926  RandomForestClassifier   \n 2              Equalized_Odds_FNR  0.044444  RandomForestClassifier   \n 3              Equalized_Odds_FPR -0.003333  RandomForestClassifier   \n 4              Equalized_Odds_TPR -0.044444  RandomForestClassifier   \n 5                      IQR_Parity -0.015556  RandomForestClassifier   \n 6                   Jitter_Parity  0.005738  RandomForestClassifier   \n 7           Label_Stability_Ratio  0.984786  RandomForestClassifier   \n 8   Statistical_Parity_Difference -0.080000  RandomForestClassifier   \n 9                      Std_Parity -0.009822  RandomForestClassifier   \n 10                      Std_Ratio  0.788207  RandomForestClassifier   \n \n    Experiment_Iteration  Intervention_Param  \n 0            Exp_iter_7                 0.5  \n 1            Exp_iter_7                 0.5  \n 2            Exp_iter_7                 0.5  \n 3            Exp_iter_7                 0.5  \n 4            Exp_iter_7                 0.5  \n 5            Exp_iter_7                 0.5  \n 6            Exp_iter_7                 0.5  \n 7            Exp_iter_7                 0.5  \n 8            Exp_iter_7                 0.5  \n 9            Exp_iter_7                 0.5  \n 10           Exp_iter_7                 0.5  }"
     },
     "execution_count": 16,
     "metadata": {},
     "output_type": "execute_result"
    }
   ],
   "source": [
    "exp_group_metrics_dct['RandomForestClassifier']['Exp_iter_7']"
   ],
   "metadata": {
    "collapsed": false,
    "ExecuteTime": {
     "end_time": "2023-10-18T18:44:51.416377Z",
     "start_time": "2023-10-18T18:44:51.279566Z"
    }
   }
  },
  {
   "cell_type": "code",
   "execution_count": 26,
   "outputs": [],
   "source": [
    "for interv_param in [0.0, 0.1, 0.2, 0.3, 0.4, 0.5]:\n",
    "    df = exp_group_metrics_dct['RandomForestClassifier']['Exp_iter_7'][interv_param]\n",
    "    df.to_csv(f'exp_group_metrics_dct_{interv_param}.csv')\n",
    "\n",
    "    df = exp_subgroup_metrics_dct['RandomForestClassifier']['Exp_iter_7'][interv_param]\n",
    "    df.to_csv(f'exp_subgroup_metrics_dct_{interv_param}.csv')"
   ],
   "metadata": {
    "collapsed": false,
    "ExecuteTime": {
     "end_time": "2023-10-18T18:53:30.292028Z",
     "start_time": "2023-10-18T18:53:30.127101Z"
    }
   }
  },
  {
   "cell_type": "code",
   "execution_count": null,
   "outputs": [],
   "source": [
    "exp_subgroup_metrics_dct['RandomForestClassifier']['Exp_iter_7'].to_csv('exp_subgroup_metrics_dct_rfc_7.csv')"
   ],
   "metadata": {
    "collapsed": false,
    "ExecuteTime": {
     "start_time": "2023-10-18T18:44:30.479735Z"
    }
   }
  },
  {
   "cell_type": "code",
   "execution_count": null,
   "outputs": [],
   "source": [
    "exp_group_metrics_dct['RandomForestClassifier']['Exp_iter_7'][0.4].head()"
   ],
   "metadata": {
    "collapsed": false,
    "ExecuteTime": {
     "start_time": "2023-10-18T18:44:30.484892Z"
    }
   }
  },
  {
   "cell_type": "code",
   "execution_count": null,
   "outputs": [],
   "source": [
    "exp_group_metrics_dct['RandomForestClassifier']['Exp_iter_7'][0.2].head()"
   ],
   "metadata": {
    "collapsed": false,
    "ExecuteTime": {
     "start_time": "2023-10-18T18:44:30.573300Z"
    }
   }
  },
  {
   "cell_type": "markdown",
   "id": "67c5b461",
   "metadata": {},
   "source": [
    "    ## Metrics Visualization and Reporting"
   ]
  },
  {
   "cell_type": "code",
   "execution_count": null,
   "id": "5f180d5f",
   "metadata": {
    "ExecuteTime": {
     "start_time": "2023-10-18T18:44:30.578917Z"
    }
   },
   "outputs": [],
   "source": [
    "visualizer = ExperimentsVisualizer(exp_subgroup_metrics_dct=exp_subgroup_metrics_dct,\n",
    "                                   exp_group_metrics_dct=exp_group_metrics_dct,\n",
    "                                   dataset_name=DATASET_NAME,\n",
    "                                   model_names=MODEL_NAMES,\n",
    "                                   sensitive_attrs=SENSITIVE_ATTRS)"
   ]
  },
  {
   "cell_type": "code",
   "execution_count": null,
   "id": "df7f18c9",
   "metadata": {
    "ExecuteTime": {
     "start_time": "2023-10-18T18:44:30.579486Z"
    }
   },
   "outputs": [],
   "source": [
    "visualizer.melted_all_group_metrics_per_model_dct[MODEL_NAMES[0]].head(20)"
   ]
  },
  {
   "cell_type": "markdown",
   "id": "668103b6",
   "metadata": {},
   "source": [
    "### Line band plots for subgroup metrics"
   ]
  },
  {
   "cell_type": "code",
   "execution_count": null,
   "id": "731fc8a3",
   "metadata": {
    "ExecuteTime": {
     "start_time": "2023-10-18T18:44:30.579700Z"
    }
   },
   "outputs": [],
   "source": [
    "visualizer.create_subgroup_metrics_line_band_plot(model_name=MODEL_NAMES[0],\n",
    "                                                  subgroup_metrics=['Accuracy', 'F1', 'FNR', 'Jitter', 'Label_Stability', 'FPR'])"
   ]
  },
  {
   "cell_type": "code",
   "execution_count": null,
   "id": "e5d1f2e3",
   "metadata": {
    "ExecuteTime": {
     "start_time": "2023-10-18T18:44:30.579963Z"
    }
   },
   "outputs": [],
   "source": [
    "visualizer.create_subgroup_metrics_line_band_plot(model_name=MODEL_NAMES[0],\n",
    "                                                  subgroup_metrics=['Aleatoric_Uncertainty', 'Overall_Uncertainty'])"
   ]
  },
  {
   "cell_type": "code",
   "execution_count": null,
   "id": "a7f8d325",
   "metadata": {
    "ExecuteTime": {
     "start_time": "2023-10-18T18:44:30.582566Z"
    }
   },
   "outputs": [],
   "source": [
    "visualizer.create_subgroup_metrics_line_band_plot(model_name=MODEL_NAMES[0],\n",
    "                                                  subgroup_metrics=['Aleatoric_Uncertainty', 'Overall_Uncertainty'],\n",
    "                                                  subgroup='sex_dis_correct')"
   ]
  },
  {
   "cell_type": "code",
   "execution_count": null,
   "id": "1a71d4ac",
   "metadata": {
    "ExecuteTime": {
     "start_time": "2023-10-18T18:44:30.584553Z"
    }
   },
   "outputs": [],
   "source": [
    "visualizer.create_subgroup_metrics_line_band_plot(model_name=MODEL_NAMES[0],\n",
    "                                                  subgroup_metrics=['Aleatoric_Uncertainty', 'Overall_Uncertainty'],\n",
    "                                                  subgroup='sex_dis_incorrect')"
   ]
  },
  {
   "cell_type": "code",
   "execution_count": null,
   "outputs": [],
   "source": [
    "visualizer.create_line_bands_per_group_metric_plot(model_name=MODEL_NAMES[0],\n",
    "                                                   group_metric='Std',\n",
    "                                                   group='sex',\n",
    "                                                   metric_type='subgroup')"
   ],
   "metadata": {
    "collapsed": false,
    "ExecuteTime": {
     "start_time": "2023-10-18T18:44:30.585048Z"
    }
   }
  },
  {
   "cell_type": "code",
   "execution_count": null,
   "outputs": [],
   "source": [
    "visualizer.create_line_bands_per_group_metric_plot(model_name=MODEL_NAMES[0],\n",
    "                                                   group_metric='Label_Stability',\n",
    "                                                   group='sex',\n",
    "                                                   metric_type='subgroup')"
   ],
   "metadata": {
    "collapsed": false,
    "ExecuteTime": {
     "start_time": "2023-10-18T18:44:30.585926Z"
    }
   }
  },
  {
   "cell_type": "markdown",
   "id": "c2b8be2c",
   "metadata": {},
   "source": [
    "### Line band plots for group metrics"
   ]
  },
  {
   "cell_type": "code",
   "execution_count": null,
   "id": "04145c60",
   "metadata": {
    "ExecuteTime": {
     "start_time": "2023-10-18T18:44:30.586227Z"
    }
   },
   "outputs": [],
   "source": [
    "visualizer.create_group_metrics_line_band_plot(group='sex',\n",
    "                                               model_name=MODEL_NAMES[0],\n",
    "                                               group_metrics=['Equalized_Odds_FPR', 'Std_Parity', 'Label_Stability_Ratio'])"
   ]
  },
  {
   "cell_type": "code",
   "execution_count": null,
   "id": "62169220",
   "metadata": {
    "ExecuteTime": {
     "start_time": "2023-10-18T18:44:30.586884Z"
    }
   },
   "outputs": [],
   "source": []
  },
  {
   "cell_type": "code",
   "execution_count": null,
   "outputs": [],
   "source": [],
   "metadata": {
    "collapsed": false,
    "ExecuteTime": {
     "start_time": "2023-10-18T18:44:30.587196Z"
    }
   }
  },
  {
   "cell_type": "code",
   "execution_count": null,
   "outputs": [],
   "source": [],
   "metadata": {
    "collapsed": false,
    "ExecuteTime": {
     "start_time": "2023-10-18T18:44:30.587590Z"
    }
   }
  }
 ],
 "metadata": {
  "kernelspec": {
   "display_name": "Python 3",
   "language": "python",
   "name": "python3"
  },
  "language_info": {
   "codemirror_mode": {
    "name": "ipython",
    "version": 3
   },
   "file_extension": ".py",
   "mimetype": "text/x-python",
   "name": "python",
   "nbconvert_exporter": "python",
   "pygments_lexer": "ipython3",
   "version": "3.8.5"
  },
  "vscode": {
   "interpreter": {
    "hash": "aeeedfdcfbb7d0bd7e8ae453d9cd04ee7ebd63a67f7841163d9437c8723e8c72"
   }
  }
 },
 "nbformat": 4,
 "nbformat_minor": 5
}
