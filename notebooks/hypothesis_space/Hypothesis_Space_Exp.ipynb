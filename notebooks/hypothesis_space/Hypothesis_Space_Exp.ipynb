{
 "cells": [
  {
   "cell_type": "code",
   "execution_count": 59,
   "outputs": [
    {
     "name": "stdout",
     "output_type": "stream",
     "text": [
      "The autoreload extension is already loaded. To reload it, use:\n",
      "  %reload_ext autoreload\n"
     ]
    }
   ],
   "source": [
    "%matplotlib inline\n",
    "%load_ext autoreload\n",
    "%autoreload 2"
   ],
   "metadata": {
    "collapsed": false,
    "pycharm": {
     "name": "#%%\n"
    }
   }
  },
  {
   "cell_type": "code",
   "execution_count": 60,
   "outputs": [],
   "source": [
    "import os\n",
    "import warnings\n",
    "warnings.filterwarnings('ignore')\n",
    "os.environ[\"PYTHONWARNINGS\"] = \"ignore\""
   ],
   "metadata": {
    "collapsed": false,
    "pycharm": {
     "name": "#%%\n"
    }
   }
  },
  {
   "cell_type": "markdown",
   "source": [
    "## Import dependencies"
   ],
   "metadata": {
    "collapsed": false
   }
  },
  {
   "cell_type": "code",
   "execution_count": 61,
   "id": "7a9241de",
   "metadata": {},
   "outputs": [],
   "source": [
    "import os\n",
    "import pandas as pd\n",
    "from IPython.display import display\n",
    "\n",
    "from configs import config\n",
    "from utils.common_helpers import create_tuned_base_model\n",
    "from utils.data_loader import ACSEmploymentDataset\n",
    "from utils.generic_pipeline import GenericPipeline\n",
    "from utils.generic_analyzer import GenericAnalyzer"
   ]
  },
  {
   "cell_type": "markdown",
   "source": [
    "## Configs"
   ],
   "metadata": {
    "collapsed": false
   }
  },
  {
   "cell_type": "code",
   "execution_count": 62,
   "outputs": [],
   "source": [
    "STATE = config.DATASET_CONFIG['state']\n",
    "YEAR = config.DATASET_CONFIG['year']\n",
    "DATASET_NAME = f\"Folktables_{STATE}_{YEAR}\"\n",
    "\n",
    "SEX_priv = RACE_priv = str(1)\n",
    "PROTECTED_GROUPS = ['SEX','RAC1P']\n",
    "PRIV_VALUES = [SEX_priv, RACE_priv]\n",
    "TUNED_PARAMS_FILE_PATH = os.path.join('..', '..', 'results', 'models_tuning', 'tuning_results_Folktables_GA_2018_20221215__105658.csv')"
   ],
   "metadata": {
    "collapsed": false,
    "pycharm": {
     "name": "#%%\n"
    }
   }
  },
  {
   "cell_type": "markdown",
   "source": [
    "## Models tuned hyper-parameters"
   ],
   "metadata": {
    "collapsed": false
   }
  },
  {
   "cell_type": "code",
   "execution_count": 63,
   "outputs": [
    {
     "data": {
      "text/plain": "   Unnamed: 0        Dataset_Name              Model_Name  F1_Score  \\\n0           0  Folktables_GA_2018      LogisticRegression    0.8117   \n1           1  Folktables_GA_2018  DecisionTreeClassifier    0.8228   \n2           2  Folktables_GA_2018  RandomForestClassifier    0.8292   \n3           3  Folktables_GA_2018           XGBClassifier    0.8313   \n4           4  Folktables_GA_2018    KNeighborsClassifier    0.8063   \n\n   Accuracy_Score                                  Model_Best_Params  \n0          0.8122  {'max_iter': 50, 'penalty': 'l2', 'solver': 'l...  \n1          0.8230  {'criterion': 'entropy', 'max_depth': 10, 'max...  \n2          0.8295  {'max_depth': 10, 'max_features': 0.6, 'min_sa...  \n3          0.8318  {'learning_rate': 0.1, 'max_depth': 5, 'n_esti...  \n4          0.8068  {'metric': 'manhattan', 'n_neighbors': 15, 'we...  ",
      "text/html": "<div>\n<style scoped>\n    .dataframe tbody tr th:only-of-type {\n        vertical-align: middle;\n    }\n\n    .dataframe tbody tr th {\n        vertical-align: top;\n    }\n\n    .dataframe thead th {\n        text-align: right;\n    }\n</style>\n<table border=\"1\" class=\"dataframe\">\n  <thead>\n    <tr style=\"text-align: right;\">\n      <th></th>\n      <th>Unnamed: 0</th>\n      <th>Dataset_Name</th>\n      <th>Model_Name</th>\n      <th>F1_Score</th>\n      <th>Accuracy_Score</th>\n      <th>Model_Best_Params</th>\n    </tr>\n  </thead>\n  <tbody>\n    <tr>\n      <th>0</th>\n      <td>0</td>\n      <td>Folktables_GA_2018</td>\n      <td>LogisticRegression</td>\n      <td>0.8117</td>\n      <td>0.8122</td>\n      <td>{'max_iter': 50, 'penalty': 'l2', 'solver': 'l...</td>\n    </tr>\n    <tr>\n      <th>1</th>\n      <td>1</td>\n      <td>Folktables_GA_2018</td>\n      <td>DecisionTreeClassifier</td>\n      <td>0.8228</td>\n      <td>0.8230</td>\n      <td>{'criterion': 'entropy', 'max_depth': 10, 'max...</td>\n    </tr>\n    <tr>\n      <th>2</th>\n      <td>2</td>\n      <td>Folktables_GA_2018</td>\n      <td>RandomForestClassifier</td>\n      <td>0.8292</td>\n      <td>0.8295</td>\n      <td>{'max_depth': 10, 'max_features': 0.6, 'min_sa...</td>\n    </tr>\n    <tr>\n      <th>3</th>\n      <td>3</td>\n      <td>Folktables_GA_2018</td>\n      <td>XGBClassifier</td>\n      <td>0.8313</td>\n      <td>0.8318</td>\n      <td>{'learning_rate': 0.1, 'max_depth': 5, 'n_esti...</td>\n    </tr>\n    <tr>\n      <th>4</th>\n      <td>4</td>\n      <td>Folktables_GA_2018</td>\n      <td>KNeighborsClassifier</td>\n      <td>0.8063</td>\n      <td>0.8068</td>\n      <td>{'metric': 'manhattan', 'n_neighbors': 15, 'we...</td>\n    </tr>\n  </tbody>\n</table>\n</div>"
     },
     "execution_count": 63,
     "metadata": {},
     "output_type": "execute_result"
    }
   ],
   "source": [
    "models_tuned_params_df = pd.read_csv(TUNED_PARAMS_FILE_PATH)\n",
    "models_tuned_params_df"
   ],
   "metadata": {
    "collapsed": false,
    "pycharm": {
     "name": "#%%\n"
    }
   }
  },
  {
   "cell_type": "markdown",
   "source": [
    "## Preprocess dataset"
   ],
   "metadata": {
    "collapsed": false
   }
  },
  {
   "cell_type": "code",
   "execution_count": 64,
   "id": "fafa0c9c",
   "metadata": {},
   "outputs": [
    {
     "data": {
      "text/plain": "  MAR MIL ESP MIG DREM NATIVITY DIS DEAR DEYE SEX RAC1P RELP CIT ANC SCHL  \\\n0   5   4   0   3    2        1   2    2    2   1     2   16   1   1   13   \n1   3   4   0   1    2        1   1    2    1   2     1   16   1   4   16   \n2   5   4   0   1    1        1   1    2    2   2     2   17   1   4   20   \n3   1   4   0   1    2        1   2    2    2   1     2   16   1   1   17   \n4   5   4   0   1    2        1   2    2    2   2     1   16   1   1   19   \n\n   AGEP  \n0    51  \n1    56  \n2    23  \n3    43  \n4    20  ",
      "text/html": "<div>\n<style scoped>\n    .dataframe tbody tr th:only-of-type {\n        vertical-align: middle;\n    }\n\n    .dataframe tbody tr th {\n        vertical-align: top;\n    }\n\n    .dataframe thead th {\n        text-align: right;\n    }\n</style>\n<table border=\"1\" class=\"dataframe\">\n  <thead>\n    <tr style=\"text-align: right;\">\n      <th></th>\n      <th>MAR</th>\n      <th>MIL</th>\n      <th>ESP</th>\n      <th>MIG</th>\n      <th>DREM</th>\n      <th>NATIVITY</th>\n      <th>DIS</th>\n      <th>DEAR</th>\n      <th>DEYE</th>\n      <th>SEX</th>\n      <th>RAC1P</th>\n      <th>RELP</th>\n      <th>CIT</th>\n      <th>ANC</th>\n      <th>SCHL</th>\n      <th>AGEP</th>\n    </tr>\n  </thead>\n  <tbody>\n    <tr>\n      <th>0</th>\n      <td>5</td>\n      <td>4</td>\n      <td>0</td>\n      <td>3</td>\n      <td>2</td>\n      <td>1</td>\n      <td>2</td>\n      <td>2</td>\n      <td>2</td>\n      <td>1</td>\n      <td>2</td>\n      <td>16</td>\n      <td>1</td>\n      <td>1</td>\n      <td>13</td>\n      <td>51</td>\n    </tr>\n    <tr>\n      <th>1</th>\n      <td>3</td>\n      <td>4</td>\n      <td>0</td>\n      <td>1</td>\n      <td>2</td>\n      <td>1</td>\n      <td>1</td>\n      <td>2</td>\n      <td>1</td>\n      <td>2</td>\n      <td>1</td>\n      <td>16</td>\n      <td>1</td>\n      <td>4</td>\n      <td>16</td>\n      <td>56</td>\n    </tr>\n    <tr>\n      <th>2</th>\n      <td>5</td>\n      <td>4</td>\n      <td>0</td>\n      <td>1</td>\n      <td>1</td>\n      <td>1</td>\n      <td>1</td>\n      <td>2</td>\n      <td>2</td>\n      <td>2</td>\n      <td>2</td>\n      <td>17</td>\n      <td>1</td>\n      <td>4</td>\n      <td>20</td>\n      <td>23</td>\n    </tr>\n    <tr>\n      <th>3</th>\n      <td>1</td>\n      <td>4</td>\n      <td>0</td>\n      <td>1</td>\n      <td>2</td>\n      <td>1</td>\n      <td>2</td>\n      <td>2</td>\n      <td>2</td>\n      <td>1</td>\n      <td>2</td>\n      <td>16</td>\n      <td>1</td>\n      <td>1</td>\n      <td>17</td>\n      <td>43</td>\n    </tr>\n    <tr>\n      <th>4</th>\n      <td>5</td>\n      <td>4</td>\n      <td>0</td>\n      <td>1</td>\n      <td>2</td>\n      <td>1</td>\n      <td>2</td>\n      <td>2</td>\n      <td>2</td>\n      <td>2</td>\n      <td>1</td>\n      <td>16</td>\n      <td>1</td>\n      <td>1</td>\n      <td>19</td>\n      <td>20</td>\n    </tr>\n  </tbody>\n</table>\n</div>"
     },
     "execution_count": 64,
     "metadata": {},
     "output_type": "execute_result"
    }
   ],
   "source": [
    "dataset = ACSEmploymentDataset(state=[STATE], year=YEAR, root_dir=os.path.join('..', '..', 'data'), with_nulls=False)\n",
    "dataset.X_data.head()"
   ]
  },
  {
   "cell_type": "markdown",
   "source": [
    "## Run experiments"
   ],
   "metadata": {
    "collapsed": false
   }
  },
  {
   "cell_type": "code",
   "execution_count": 65,
   "outputs": [],
   "source": [
    "def create_base_pipeline(dataset, protected_groups, priv_values, model_seed):\n",
    "    base_pipeline = GenericPipeline(dataset, protected_groups, priv_values)\n",
    "    _ = base_pipeline.create_preprocessed_train_test_split(dataset, config.TEST_SET_FRACTION, seed=model_seed)\n",
    "\n",
    "    print('\\nProtected groups splits:')\n",
    "    for g in base_pipeline.test_groups.keys():\n",
    "        print(g, base_pipeline.test_groups[g].shape)\n",
    "\n",
    "    return base_pipeline\n",
    "\n",
    "\n",
    "def get_model_metrics(base_model, dataset, protected_groups, priv_values, model_seed,\n",
    "                      dataset_name, base_model_name, exp_num=1):\n",
    "    base_pipeline = create_base_pipeline(dataset, protected_groups, priv_values, model_seed)\n",
    "\n",
    "    base_model.fit(base_pipeline.X_train_val, base_pipeline.y_train_val)\n",
    "    y_preds = base_model.predict(base_pipeline.X_test)\n",
    "\n",
    "    analyzer = GenericAnalyzer(base_pipeline.X_test, base_pipeline.y_test,\n",
    "                               ['SEX','RAC1P'], [SEX_priv, RACE_priv],\n",
    "                               base_pipeline.test_groups)\n",
    "    dtc_res = analyzer.compute_metrics(y_preds, base_model_name)\n",
    "    analyzer.save_metrics_to_file(dataset_name, base_model_name, exp_num=exp_num)\n",
    "\n",
    "    results_df = pd.DataFrame(dtc_res)\n",
    "    return results_df\n"
   ],
   "metadata": {
    "collapsed": false,
    "pycharm": {
     "name": "#%%\n"
    }
   }
  },
  {
   "cell_type": "code",
   "execution_count": 66,
   "outputs": [],
   "source": [
    "def run_experiment(exp_num, model_seed):\n",
    "    for model_idx in range(len(config.MODELS_CONFIG)):\n",
    "        print('#' * 30, f' [Experiment {exp_num}] Analyze {config.MODELS_CONFIG[model_idx][\"model_name\"]} ', '#' * 30)\n",
    "        model_seed += 1\n",
    "        base_model = create_tuned_base_model(config.MODELS_CONFIG[model_idx]['model'],\n",
    "                                             config.MODELS_CONFIG[model_idx]['model_name'],\n",
    "                                             models_tuned_params_df)\n",
    "        results_df = get_model_metrics(base_model, dataset, PROTECTED_GROUPS, PRIV_VALUES,\n",
    "                                       model_seed=model_seed,\n",
    "                                       dataset_name=DATASET_NAME,\n",
    "                                       base_model_name=config.MODELS_CONFIG[model_idx]['model_name'],\n",
    "                                       exp_num=exp_num)\n",
    "        print(f'\\n[Experiment {exp_num}] Metrics confusion matrix:')\n",
    "        display(results_df)\n",
    "\n",
    "        print('\\n\\n\\n')\n"
   ],
   "metadata": {
    "collapsed": false,
    "pycharm": {
     "name": "#%%\n"
    }
   }
  },
  {
   "cell_type": "markdown",
   "source": [
    "### Experiment 1"
   ],
   "metadata": {
    "collapsed": false
   }
  },
  {
   "cell_type": "code",
   "execution_count": 67,
   "outputs": [
    {
     "name": "stdout",
     "output_type": "stream",
     "text": [
      "##############################  [Experiment 1] Analyze LogisticRegression  ##############################\n",
      "Baseline X_train shape:  (80684, 16)\n",
      "Baseline X_test shape:  (20171, 16)\n",
      "\n",
      "Protected groups splits:\n",
      "SEX_RAC1P_priv (6609, 16)\n",
      "SEX_RAC1P_dis (3662, 16)\n",
      "SEX_priv (9901, 16)\n",
      "SEX_dis (10270, 16)\n",
      "RAC1P_priv (13217, 16)\n",
      "RAC1P_dis (6954, 16)\n",
      "\n",
      "[Experiment 1] Metrics confusion matrix:\n"
     ]
    },
    {
     "data": {
      "text/plain": "                 overall  SEX_RAC1P_priv  SEX_RAC1P_dis  SEX_priv   SEX_dis  \\\nTPR             0.832649        0.886848       0.780440  0.883288  0.775414   \nTNR             0.785842        0.780080       0.787535  0.789258  0.782947   \nPPV             0.758415        0.808097       0.728097  0.796492  0.714441   \nFNR             0.167351        0.113152       0.219560  0.116712  0.224586   \nFPR             0.214158        0.219920       0.212465  0.210742  0.217053   \nAccuracy        0.806752        0.834619       0.784544  0.834663  0.779844   \nF1              0.793800        0.845643       0.753360  0.837648  0.743680   \nSelection-Rate  0.490457        0.560599       0.451939  0.535501  0.447030   \nPositive-Rate   1.097880        1.097453       1.071891  1.108973  1.085343   \n\n                RAC1P_priv  RAC1P_dis  \nTPR               0.836193   0.825365  \nTNR               0.780294   0.795755  \nPPV               0.763289   0.748462  \nFNR               0.163807   0.174635  \nFPR               0.219706   0.204245  \nAccuracy          0.805932   0.808312  \nF1                0.798079   0.785035  \nSelection-Rate    0.502459   0.467645  \nPositive-Rate     1.095513   1.102747  ",
      "text/html": "<div>\n<style scoped>\n    .dataframe tbody tr th:only-of-type {\n        vertical-align: middle;\n    }\n\n    .dataframe tbody tr th {\n        vertical-align: top;\n    }\n\n    .dataframe thead th {\n        text-align: right;\n    }\n</style>\n<table border=\"1\" class=\"dataframe\">\n  <thead>\n    <tr style=\"text-align: right;\">\n      <th></th>\n      <th>overall</th>\n      <th>SEX_RAC1P_priv</th>\n      <th>SEX_RAC1P_dis</th>\n      <th>SEX_priv</th>\n      <th>SEX_dis</th>\n      <th>RAC1P_priv</th>\n      <th>RAC1P_dis</th>\n    </tr>\n  </thead>\n  <tbody>\n    <tr>\n      <th>TPR</th>\n      <td>0.832649</td>\n      <td>0.886848</td>\n      <td>0.780440</td>\n      <td>0.883288</td>\n      <td>0.775414</td>\n      <td>0.836193</td>\n      <td>0.825365</td>\n    </tr>\n    <tr>\n      <th>TNR</th>\n      <td>0.785842</td>\n      <td>0.780080</td>\n      <td>0.787535</td>\n      <td>0.789258</td>\n      <td>0.782947</td>\n      <td>0.780294</td>\n      <td>0.795755</td>\n    </tr>\n    <tr>\n      <th>PPV</th>\n      <td>0.758415</td>\n      <td>0.808097</td>\n      <td>0.728097</td>\n      <td>0.796492</td>\n      <td>0.714441</td>\n      <td>0.763289</td>\n      <td>0.748462</td>\n    </tr>\n    <tr>\n      <th>FNR</th>\n      <td>0.167351</td>\n      <td>0.113152</td>\n      <td>0.219560</td>\n      <td>0.116712</td>\n      <td>0.224586</td>\n      <td>0.163807</td>\n      <td>0.174635</td>\n    </tr>\n    <tr>\n      <th>FPR</th>\n      <td>0.214158</td>\n      <td>0.219920</td>\n      <td>0.212465</td>\n      <td>0.210742</td>\n      <td>0.217053</td>\n      <td>0.219706</td>\n      <td>0.204245</td>\n    </tr>\n    <tr>\n      <th>Accuracy</th>\n      <td>0.806752</td>\n      <td>0.834619</td>\n      <td>0.784544</td>\n      <td>0.834663</td>\n      <td>0.779844</td>\n      <td>0.805932</td>\n      <td>0.808312</td>\n    </tr>\n    <tr>\n      <th>F1</th>\n      <td>0.793800</td>\n      <td>0.845643</td>\n      <td>0.753360</td>\n      <td>0.837648</td>\n      <td>0.743680</td>\n      <td>0.798079</td>\n      <td>0.785035</td>\n    </tr>\n    <tr>\n      <th>Selection-Rate</th>\n      <td>0.490457</td>\n      <td>0.560599</td>\n      <td>0.451939</td>\n      <td>0.535501</td>\n      <td>0.447030</td>\n      <td>0.502459</td>\n      <td>0.467645</td>\n    </tr>\n    <tr>\n      <th>Positive-Rate</th>\n      <td>1.097880</td>\n      <td>1.097453</td>\n      <td>1.071891</td>\n      <td>1.108973</td>\n      <td>1.085343</td>\n      <td>1.095513</td>\n      <td>1.102747</td>\n    </tr>\n  </tbody>\n</table>\n</div>"
     },
     "metadata": {},
     "output_type": "display_data"
    },
    {
     "name": "stdout",
     "output_type": "stream",
     "text": [
      "\n",
      "\n",
      "\n",
      "\n",
      "##############################  [Experiment 1] Analyze DecisionTreeClassifier  ##############################\n",
      "Baseline X_train shape:  (80684, 16)\n",
      "Baseline X_test shape:  (20171, 16)\n",
      "\n",
      "Protected groups splits:\n",
      "SEX_RAC1P_priv (6582, 16)\n",
      "SEX_RAC1P_dis (3543, 16)\n",
      "SEX_priv (9817, 16)\n",
      "SEX_dis (10354, 16)\n",
      "RAC1P_priv (13393, 16)\n",
      "RAC1P_dis (6778, 16)\n",
      "\n",
      "[Experiment 1] Metrics confusion matrix:\n"
     ]
    },
    {
     "data": {
      "text/plain": "                 overall  SEX_RAC1P_priv  SEX_RAC1P_dis  SEX_priv   SEX_dis  \\\nTPR             0.857143        0.854853       0.862941  0.865376  0.848294   \nTNR             0.794157        0.862901       0.759314  0.849588  0.746544   \nPPV             0.765932        0.862943       0.725391  0.835223  0.702070   \nFNR             0.142857        0.145147       0.137059  0.134624  0.151706   \nFPR             0.205843        0.137099       0.240686  0.150412  0.253456   \nAccuracy        0.821873        0.858857       0.803274  0.856983  0.788584   \nF1              0.808974        0.858879       0.788210  0.850032  0.768286   \nSelection-Rate  0.492440        0.497721       0.504657  0.485281  0.499227   \nPositive-Rate   1.119085        0.990626       1.189621  1.036103  1.208275   \n\n                RAC1P_priv  RAC1P_dis  \nTPR               0.848241   0.876521  \nTNR               0.795103   0.792420  \nPPV               0.774974   0.747558  \nFNR               0.151759   0.123479  \nFPR               0.204897   0.207580  \nAccuracy          0.819234   0.827088  \nF1                0.809954   0.806919  \nSelection-Rate    0.497051   0.483328  \nPositive-Rate     1.094541   1.172513  ",
      "text/html": "<div>\n<style scoped>\n    .dataframe tbody tr th:only-of-type {\n        vertical-align: middle;\n    }\n\n    .dataframe tbody tr th {\n        vertical-align: top;\n    }\n\n    .dataframe thead th {\n        text-align: right;\n    }\n</style>\n<table border=\"1\" class=\"dataframe\">\n  <thead>\n    <tr style=\"text-align: right;\">\n      <th></th>\n      <th>overall</th>\n      <th>SEX_RAC1P_priv</th>\n      <th>SEX_RAC1P_dis</th>\n      <th>SEX_priv</th>\n      <th>SEX_dis</th>\n      <th>RAC1P_priv</th>\n      <th>RAC1P_dis</th>\n    </tr>\n  </thead>\n  <tbody>\n    <tr>\n      <th>TPR</th>\n      <td>0.857143</td>\n      <td>0.854853</td>\n      <td>0.862941</td>\n      <td>0.865376</td>\n      <td>0.848294</td>\n      <td>0.848241</td>\n      <td>0.876521</td>\n    </tr>\n    <tr>\n      <th>TNR</th>\n      <td>0.794157</td>\n      <td>0.862901</td>\n      <td>0.759314</td>\n      <td>0.849588</td>\n      <td>0.746544</td>\n      <td>0.795103</td>\n      <td>0.792420</td>\n    </tr>\n    <tr>\n      <th>PPV</th>\n      <td>0.765932</td>\n      <td>0.862943</td>\n      <td>0.725391</td>\n      <td>0.835223</td>\n      <td>0.702070</td>\n      <td>0.774974</td>\n      <td>0.747558</td>\n    </tr>\n    <tr>\n      <th>FNR</th>\n      <td>0.142857</td>\n      <td>0.145147</td>\n      <td>0.137059</td>\n      <td>0.134624</td>\n      <td>0.151706</td>\n      <td>0.151759</td>\n      <td>0.123479</td>\n    </tr>\n    <tr>\n      <th>FPR</th>\n      <td>0.205843</td>\n      <td>0.137099</td>\n      <td>0.240686</td>\n      <td>0.150412</td>\n      <td>0.253456</td>\n      <td>0.204897</td>\n      <td>0.207580</td>\n    </tr>\n    <tr>\n      <th>Accuracy</th>\n      <td>0.821873</td>\n      <td>0.858857</td>\n      <td>0.803274</td>\n      <td>0.856983</td>\n      <td>0.788584</td>\n      <td>0.819234</td>\n      <td>0.827088</td>\n    </tr>\n    <tr>\n      <th>F1</th>\n      <td>0.808974</td>\n      <td>0.858879</td>\n      <td>0.788210</td>\n      <td>0.850032</td>\n      <td>0.768286</td>\n      <td>0.809954</td>\n      <td>0.806919</td>\n    </tr>\n    <tr>\n      <th>Selection-Rate</th>\n      <td>0.492440</td>\n      <td>0.497721</td>\n      <td>0.504657</td>\n      <td>0.485281</td>\n      <td>0.499227</td>\n      <td>0.497051</td>\n      <td>0.483328</td>\n    </tr>\n    <tr>\n      <th>Positive-Rate</th>\n      <td>1.119085</td>\n      <td>0.990626</td>\n      <td>1.189621</td>\n      <td>1.036103</td>\n      <td>1.208275</td>\n      <td>1.094541</td>\n      <td>1.172513</td>\n    </tr>\n  </tbody>\n</table>\n</div>"
     },
     "metadata": {},
     "output_type": "display_data"
    },
    {
     "name": "stdout",
     "output_type": "stream",
     "text": [
      "\n",
      "\n",
      "\n",
      "\n",
      "##############################  [Experiment 1] Analyze RandomForestClassifier  ##############################\n",
      "Baseline X_train shape:  (80684, 16)\n",
      "Baseline X_test shape:  (20171, 16)\n",
      "\n",
      "Protected groups splits:\n",
      "SEX_RAC1P_priv (6642, 16)\n",
      "SEX_RAC1P_dis (3614, 16)\n",
      "SEX_priv (9811, 16)\n",
      "SEX_dis (10360, 16)\n",
      "RAC1P_priv (13388, 16)\n",
      "RAC1P_dis (6783, 16)\n",
      "\n",
      "[Experiment 1] Metrics confusion matrix:\n"
     ]
    },
    {
     "data": {
      "text/plain": "                 overall  SEX_RAC1P_priv  SEX_RAC1P_dis  SEX_priv   SEX_dis  \\\nTPR             0.873247        0.875474       0.874349  0.887526  0.857638   \nTNR             0.796563        0.848739       0.772377  0.841763  0.758495   \nPPV             0.777679        0.860665       0.739537  0.839264  0.718073   \nFNR             0.126753        0.124526       0.125651  0.112474  0.142362   \nFPR             0.203437        0.151261       0.227623  0.158237  0.241505   \nAccuracy        0.830995        0.862541       0.815717  0.863826  0.799903   \nF1              0.822697        0.868006       0.801313  0.862721  0.781675   \nSelection-Rate  0.504189        0.525143       0.502490  0.509836  0.498842   \nPositive-Rate   1.122888        1.017206       1.182292  1.057505  1.194361   \n\n                RAC1P_priv  RAC1P_dis  \nTPR               0.863344   0.894959  \nTNR               0.794922   0.799544  \nPPV               0.785088   0.762462  \nFNR               0.136656   0.105041  \nFPR               0.205078   0.200456  \nAccuracy          0.826710   0.839452  \nF1                0.822358   0.823415  \nSelection-Rate    0.510905   0.490933  \nPositive-Rate     1.099678   1.173775  ",
      "text/html": "<div>\n<style scoped>\n    .dataframe tbody tr th:only-of-type {\n        vertical-align: middle;\n    }\n\n    .dataframe tbody tr th {\n        vertical-align: top;\n    }\n\n    .dataframe thead th {\n        text-align: right;\n    }\n</style>\n<table border=\"1\" class=\"dataframe\">\n  <thead>\n    <tr style=\"text-align: right;\">\n      <th></th>\n      <th>overall</th>\n      <th>SEX_RAC1P_priv</th>\n      <th>SEX_RAC1P_dis</th>\n      <th>SEX_priv</th>\n      <th>SEX_dis</th>\n      <th>RAC1P_priv</th>\n      <th>RAC1P_dis</th>\n    </tr>\n  </thead>\n  <tbody>\n    <tr>\n      <th>TPR</th>\n      <td>0.873247</td>\n      <td>0.875474</td>\n      <td>0.874349</td>\n      <td>0.887526</td>\n      <td>0.857638</td>\n      <td>0.863344</td>\n      <td>0.894959</td>\n    </tr>\n    <tr>\n      <th>TNR</th>\n      <td>0.796563</td>\n      <td>0.848739</td>\n      <td>0.772377</td>\n      <td>0.841763</td>\n      <td>0.758495</td>\n      <td>0.794922</td>\n      <td>0.799544</td>\n    </tr>\n    <tr>\n      <th>PPV</th>\n      <td>0.777679</td>\n      <td>0.860665</td>\n      <td>0.739537</td>\n      <td>0.839264</td>\n      <td>0.718073</td>\n      <td>0.785088</td>\n      <td>0.762462</td>\n    </tr>\n    <tr>\n      <th>FNR</th>\n      <td>0.126753</td>\n      <td>0.124526</td>\n      <td>0.125651</td>\n      <td>0.112474</td>\n      <td>0.142362</td>\n      <td>0.136656</td>\n      <td>0.105041</td>\n    </tr>\n    <tr>\n      <th>FPR</th>\n      <td>0.203437</td>\n      <td>0.151261</td>\n      <td>0.227623</td>\n      <td>0.158237</td>\n      <td>0.241505</td>\n      <td>0.205078</td>\n      <td>0.200456</td>\n    </tr>\n    <tr>\n      <th>Accuracy</th>\n      <td>0.830995</td>\n      <td>0.862541</td>\n      <td>0.815717</td>\n      <td>0.863826</td>\n      <td>0.799903</td>\n      <td>0.826710</td>\n      <td>0.839452</td>\n    </tr>\n    <tr>\n      <th>F1</th>\n      <td>0.822697</td>\n      <td>0.868006</td>\n      <td>0.801313</td>\n      <td>0.862721</td>\n      <td>0.781675</td>\n      <td>0.822358</td>\n      <td>0.823415</td>\n    </tr>\n    <tr>\n      <th>Selection-Rate</th>\n      <td>0.504189</td>\n      <td>0.525143</td>\n      <td>0.502490</td>\n      <td>0.509836</td>\n      <td>0.498842</td>\n      <td>0.510905</td>\n      <td>0.490933</td>\n    </tr>\n    <tr>\n      <th>Positive-Rate</th>\n      <td>1.122888</td>\n      <td>1.017206</td>\n      <td>1.182292</td>\n      <td>1.057505</td>\n      <td>1.194361</td>\n      <td>1.099678</td>\n      <td>1.173775</td>\n    </tr>\n  </tbody>\n</table>\n</div>"
     },
     "metadata": {},
     "output_type": "display_data"
    },
    {
     "name": "stdout",
     "output_type": "stream",
     "text": [
      "\n",
      "\n",
      "\n",
      "\n",
      "##############################  [Experiment 1] Analyze XGBClassifier  ##############################\n",
      "Baseline X_train shape:  (80684, 16)\n",
      "Baseline X_test shape:  (20171, 16)\n",
      "\n",
      "Protected groups splits:\n",
      "SEX_RAC1P_priv (6371, 16)\n",
      "SEX_RAC1P_dis (3671, 16)\n",
      "SEX_priv (9718, 16)\n",
      "SEX_dis (10453, 16)\n",
      "RAC1P_priv (13153, 16)\n",
      "RAC1P_dis (7018, 16)\n",
      "\n",
      "[Experiment 1] Metrics confusion matrix:\n"
     ]
    },
    {
     "data": {
      "text/plain": "                 overall  SEX_RAC1P_priv  SEX_RAC1P_dis  SEX_priv   SEX_dis  \\\nTPR             0.865737        0.894720       0.848289  0.895902  0.834433   \nTNR             0.809205        0.832606       0.790292  0.840349  0.782695   \nPPV             0.783852        0.840511       0.747015  0.832417  0.736008   \nFNR             0.134263        0.105280       0.151711  0.104098  0.165567   \nFPR             0.190795        0.167394       0.209708  0.159651  0.217305   \nAccuracy        0.834317        0.863444       0.814764  0.866433  0.804458   \nF1              0.822762        0.866769       0.794438  0.862993  0.782136   \nSelection-Rate  0.490605        0.528488       0.479161  0.505351  0.476897   \nPositive-Rate   1.104464        1.064496       1.135571  1.076266  1.133728   \n\n                RAC1P_priv  RAC1P_dis  \nTPR               0.862585   0.872160  \nTNR               0.802856   0.820349  \nPPV               0.786440   0.778686  \nFNR               0.137415   0.127840  \nFPR               0.197144   0.179651  \nAccuracy          0.830153   0.842120  \nF1                0.822755   0.822777  \nSelection-Rate    0.501254   0.470647  \nPositive-Rate     1.096822   1.120041  ",
      "text/html": "<div>\n<style scoped>\n    .dataframe tbody tr th:only-of-type {\n        vertical-align: middle;\n    }\n\n    .dataframe tbody tr th {\n        vertical-align: top;\n    }\n\n    .dataframe thead th {\n        text-align: right;\n    }\n</style>\n<table border=\"1\" class=\"dataframe\">\n  <thead>\n    <tr style=\"text-align: right;\">\n      <th></th>\n      <th>overall</th>\n      <th>SEX_RAC1P_priv</th>\n      <th>SEX_RAC1P_dis</th>\n      <th>SEX_priv</th>\n      <th>SEX_dis</th>\n      <th>RAC1P_priv</th>\n      <th>RAC1P_dis</th>\n    </tr>\n  </thead>\n  <tbody>\n    <tr>\n      <th>TPR</th>\n      <td>0.865737</td>\n      <td>0.894720</td>\n      <td>0.848289</td>\n      <td>0.895902</td>\n      <td>0.834433</td>\n      <td>0.862585</td>\n      <td>0.872160</td>\n    </tr>\n    <tr>\n      <th>TNR</th>\n      <td>0.809205</td>\n      <td>0.832606</td>\n      <td>0.790292</td>\n      <td>0.840349</td>\n      <td>0.782695</td>\n      <td>0.802856</td>\n      <td>0.820349</td>\n    </tr>\n    <tr>\n      <th>PPV</th>\n      <td>0.783852</td>\n      <td>0.840511</td>\n      <td>0.747015</td>\n      <td>0.832417</td>\n      <td>0.736008</td>\n      <td>0.786440</td>\n      <td>0.778686</td>\n    </tr>\n    <tr>\n      <th>FNR</th>\n      <td>0.134263</td>\n      <td>0.105280</td>\n      <td>0.151711</td>\n      <td>0.104098</td>\n      <td>0.165567</td>\n      <td>0.137415</td>\n      <td>0.127840</td>\n    </tr>\n    <tr>\n      <th>FPR</th>\n      <td>0.190795</td>\n      <td>0.167394</td>\n      <td>0.209708</td>\n      <td>0.159651</td>\n      <td>0.217305</td>\n      <td>0.197144</td>\n      <td>0.179651</td>\n    </tr>\n    <tr>\n      <th>Accuracy</th>\n      <td>0.834317</td>\n      <td>0.863444</td>\n      <td>0.814764</td>\n      <td>0.866433</td>\n      <td>0.804458</td>\n      <td>0.830153</td>\n      <td>0.842120</td>\n    </tr>\n    <tr>\n      <th>F1</th>\n      <td>0.822762</td>\n      <td>0.866769</td>\n      <td>0.794438</td>\n      <td>0.862993</td>\n      <td>0.782136</td>\n      <td>0.822755</td>\n      <td>0.822777</td>\n    </tr>\n    <tr>\n      <th>Selection-Rate</th>\n      <td>0.490605</td>\n      <td>0.528488</td>\n      <td>0.479161</td>\n      <td>0.505351</td>\n      <td>0.476897</td>\n      <td>0.501254</td>\n      <td>0.470647</td>\n    </tr>\n    <tr>\n      <th>Positive-Rate</th>\n      <td>1.104464</td>\n      <td>1.064496</td>\n      <td>1.135571</td>\n      <td>1.076266</td>\n      <td>1.133728</td>\n      <td>1.096822</td>\n      <td>1.120041</td>\n    </tr>\n  </tbody>\n</table>\n</div>"
     },
     "metadata": {},
     "output_type": "display_data"
    },
    {
     "name": "stdout",
     "output_type": "stream",
     "text": [
      "\n",
      "\n",
      "\n",
      "\n",
      "##############################  [Experiment 1] Analyze KNeighborsClassifier  ##############################\n",
      "Baseline X_train shape:  (80684, 16)\n",
      "Baseline X_test shape:  (20171, 16)\n",
      "\n",
      "Protected groups splits:\n",
      "SEX_RAC1P_priv (6476, 16)\n",
      "SEX_RAC1P_dis (3601, 16)\n",
      "SEX_priv (9790, 16)\n",
      "SEX_dis (10381, 16)\n",
      "RAC1P_priv (13256, 16)\n",
      "RAC1P_dis (6915, 16)\n",
      "\n",
      "[Experiment 1] Metrics confusion matrix:\n"
     ]
    },
    {
     "data": {
      "text/plain": "                 overall  SEX_RAC1P_priv  SEX_RAC1P_dis  SEX_priv   SEX_dis  \\\nTPR             0.841386        0.881587       0.821192  0.880351  0.799353   \nTNR             0.775161        0.797101       0.751793  0.800117  0.754050   \nPPV             0.751041        0.818847       0.704946  0.800818  0.699394   \nFNR             0.158614        0.118413       0.178808  0.119649  0.200647   \nFPR             0.224839        0.202899       0.248207  0.199883  0.245950   \nAccuracy        0.804720        0.840179       0.780894  0.838407  0.772951   \nF1              0.793651        0.849059       0.758642  0.838703  0.746040   \nSelection-Rate  0.500025        0.548950       0.488475  0.524617  0.476833   \nPositive-Rate   1.120293        1.076620       1.164901  1.099315  1.142923   \n\n                RAC1P_priv  RAC1P_dis  \nTPR               0.838315   0.847917  \nTNR               0.773868   0.777447  \nPPV               0.760895   0.731138  \nFNR               0.161685   0.152083  \nFPR               0.226132   0.222553  \nAccuracy          0.803636   0.806797  \nF1                0.797731   0.785209  \nSelection-Rate    0.508902   0.483008  \nPositive-Rate     1.101748   1.159722  ",
      "text/html": "<div>\n<style scoped>\n    .dataframe tbody tr th:only-of-type {\n        vertical-align: middle;\n    }\n\n    .dataframe tbody tr th {\n        vertical-align: top;\n    }\n\n    .dataframe thead th {\n        text-align: right;\n    }\n</style>\n<table border=\"1\" class=\"dataframe\">\n  <thead>\n    <tr style=\"text-align: right;\">\n      <th></th>\n      <th>overall</th>\n      <th>SEX_RAC1P_priv</th>\n      <th>SEX_RAC1P_dis</th>\n      <th>SEX_priv</th>\n      <th>SEX_dis</th>\n      <th>RAC1P_priv</th>\n      <th>RAC1P_dis</th>\n    </tr>\n  </thead>\n  <tbody>\n    <tr>\n      <th>TPR</th>\n      <td>0.841386</td>\n      <td>0.881587</td>\n      <td>0.821192</td>\n      <td>0.880351</td>\n      <td>0.799353</td>\n      <td>0.838315</td>\n      <td>0.847917</td>\n    </tr>\n    <tr>\n      <th>TNR</th>\n      <td>0.775161</td>\n      <td>0.797101</td>\n      <td>0.751793</td>\n      <td>0.800117</td>\n      <td>0.754050</td>\n      <td>0.773868</td>\n      <td>0.777447</td>\n    </tr>\n    <tr>\n      <th>PPV</th>\n      <td>0.751041</td>\n      <td>0.818847</td>\n      <td>0.704946</td>\n      <td>0.800818</td>\n      <td>0.699394</td>\n      <td>0.760895</td>\n      <td>0.731138</td>\n    </tr>\n    <tr>\n      <th>FNR</th>\n      <td>0.158614</td>\n      <td>0.118413</td>\n      <td>0.178808</td>\n      <td>0.119649</td>\n      <td>0.200647</td>\n      <td>0.161685</td>\n      <td>0.152083</td>\n    </tr>\n    <tr>\n      <th>FPR</th>\n      <td>0.224839</td>\n      <td>0.202899</td>\n      <td>0.248207</td>\n      <td>0.199883</td>\n      <td>0.245950</td>\n      <td>0.226132</td>\n      <td>0.222553</td>\n    </tr>\n    <tr>\n      <th>Accuracy</th>\n      <td>0.804720</td>\n      <td>0.840179</td>\n      <td>0.780894</td>\n      <td>0.838407</td>\n      <td>0.772951</td>\n      <td>0.803636</td>\n      <td>0.806797</td>\n    </tr>\n    <tr>\n      <th>F1</th>\n      <td>0.793651</td>\n      <td>0.849059</td>\n      <td>0.758642</td>\n      <td>0.838703</td>\n      <td>0.746040</td>\n      <td>0.797731</td>\n      <td>0.785209</td>\n    </tr>\n    <tr>\n      <th>Selection-Rate</th>\n      <td>0.500025</td>\n      <td>0.548950</td>\n      <td>0.488475</td>\n      <td>0.524617</td>\n      <td>0.476833</td>\n      <td>0.508902</td>\n      <td>0.483008</td>\n    </tr>\n    <tr>\n      <th>Positive-Rate</th>\n      <td>1.120293</td>\n      <td>1.076620</td>\n      <td>1.164901</td>\n      <td>1.099315</td>\n      <td>1.142923</td>\n      <td>1.101748</td>\n      <td>1.159722</td>\n    </tr>\n  </tbody>\n</table>\n</div>"
     },
     "metadata": {},
     "output_type": "display_data"
    },
    {
     "name": "stdout",
     "output_type": "stream",
     "text": [
      "\n",
      "\n",
      "\n",
      "\n"
     ]
    }
   ],
   "source": [
    "run_experiment(exp_num=1, model_seed=100)"
   ],
   "metadata": {
    "collapsed": false,
    "pycharm": {
     "name": "#%%\n"
    }
   }
  },
  {
   "cell_type": "markdown",
   "source": [
    "### Experiment 2"
   ],
   "metadata": {
    "collapsed": false
   }
  },
  {
   "cell_type": "code",
   "execution_count": 68,
   "outputs": [
    {
     "name": "stdout",
     "output_type": "stream",
     "text": [
      "##############################  [Experiment 2] Analyze LogisticRegression  ##############################\n",
      "Baseline X_train shape:  (80684, 16)\n",
      "Baseline X_test shape:  (20171, 16)\n",
      "\n",
      "Protected groups splits:\n",
      "SEX_RAC1P_priv (6538, 16)\n",
      "SEX_RAC1P_dis (3565, 16)\n",
      "SEX_priv (9822, 16)\n",
      "SEX_dis (10349, 16)\n",
      "RAC1P_priv (13322, 16)\n",
      "RAC1P_dis (6849, 16)\n",
      "\n",
      "[Experiment 2] Metrics confusion matrix:\n"
     ]
    },
    {
     "data": {
      "text/plain": "                 overall  SEX_RAC1P_priv  SEX_RAC1P_dis  SEX_priv   SEX_dis  \\\nTPR             0.844023        0.898191       0.801061  0.897001  0.787535   \nTNR             0.787434        0.794934       0.794847  0.796552  0.779546   \nPPV             0.758847        0.813385       0.741104  0.795376  0.718757   \nFNR             0.155977        0.101809       0.198939  0.102999  0.212465   \nFPR             0.212566        0.205066       0.205153  0.203448  0.220454   \nAccuracy        0.812454        0.846436       0.797475  0.843616  0.782878   \nF1              0.799172        0.853687       0.769917  0.843137  0.751575   \nSelection-Rate  0.491746        0.550780       0.457223  0.528406  0.456952   \nPositive-Rate   1.112245        1.104262       1.080902  1.127771  1.095690   \n\n                RAC1P_priv  RAC1P_dis  \nTPR               0.843632   0.844858  \nTNR               0.782159   0.797000  \nPPV               0.764179   0.747748  \nFNR               0.156368   0.155142  \nFPR               0.217841   0.203000  \nAccuracy          0.810164   0.816908  \nF1                0.801942   0.793342  \nSelection-Rate    0.502927   0.469996  \nPositive-Rate     1.103971   1.129870  ",
      "text/html": "<div>\n<style scoped>\n    .dataframe tbody tr th:only-of-type {\n        vertical-align: middle;\n    }\n\n    .dataframe tbody tr th {\n        vertical-align: top;\n    }\n\n    .dataframe thead th {\n        text-align: right;\n    }\n</style>\n<table border=\"1\" class=\"dataframe\">\n  <thead>\n    <tr style=\"text-align: right;\">\n      <th></th>\n      <th>overall</th>\n      <th>SEX_RAC1P_priv</th>\n      <th>SEX_RAC1P_dis</th>\n      <th>SEX_priv</th>\n      <th>SEX_dis</th>\n      <th>RAC1P_priv</th>\n      <th>RAC1P_dis</th>\n    </tr>\n  </thead>\n  <tbody>\n    <tr>\n      <th>TPR</th>\n      <td>0.844023</td>\n      <td>0.898191</td>\n      <td>0.801061</td>\n      <td>0.897001</td>\n      <td>0.787535</td>\n      <td>0.843632</td>\n      <td>0.844858</td>\n    </tr>\n    <tr>\n      <th>TNR</th>\n      <td>0.787434</td>\n      <td>0.794934</td>\n      <td>0.794847</td>\n      <td>0.796552</td>\n      <td>0.779546</td>\n      <td>0.782159</td>\n      <td>0.797000</td>\n    </tr>\n    <tr>\n      <th>PPV</th>\n      <td>0.758847</td>\n      <td>0.813385</td>\n      <td>0.741104</td>\n      <td>0.795376</td>\n      <td>0.718757</td>\n      <td>0.764179</td>\n      <td>0.747748</td>\n    </tr>\n    <tr>\n      <th>FNR</th>\n      <td>0.155977</td>\n      <td>0.101809</td>\n      <td>0.198939</td>\n      <td>0.102999</td>\n      <td>0.212465</td>\n      <td>0.156368</td>\n      <td>0.155142</td>\n    </tr>\n    <tr>\n      <th>FPR</th>\n      <td>0.212566</td>\n      <td>0.205066</td>\n      <td>0.205153</td>\n      <td>0.203448</td>\n      <td>0.220454</td>\n      <td>0.217841</td>\n      <td>0.203000</td>\n    </tr>\n    <tr>\n      <th>Accuracy</th>\n      <td>0.812454</td>\n      <td>0.846436</td>\n      <td>0.797475</td>\n      <td>0.843616</td>\n      <td>0.782878</td>\n      <td>0.810164</td>\n      <td>0.816908</td>\n    </tr>\n    <tr>\n      <th>F1</th>\n      <td>0.799172</td>\n      <td>0.853687</td>\n      <td>0.769917</td>\n      <td>0.843137</td>\n      <td>0.751575</td>\n      <td>0.801942</td>\n      <td>0.793342</td>\n    </tr>\n    <tr>\n      <th>Selection-Rate</th>\n      <td>0.491746</td>\n      <td>0.550780</td>\n      <td>0.457223</td>\n      <td>0.528406</td>\n      <td>0.456952</td>\n      <td>0.502927</td>\n      <td>0.469996</td>\n    </tr>\n    <tr>\n      <th>Positive-Rate</th>\n      <td>1.112245</td>\n      <td>1.104262</td>\n      <td>1.080902</td>\n      <td>1.127771</td>\n      <td>1.095690</td>\n      <td>1.103971</td>\n      <td>1.129870</td>\n    </tr>\n  </tbody>\n</table>\n</div>"
     },
     "metadata": {},
     "output_type": "display_data"
    },
    {
     "name": "stdout",
     "output_type": "stream",
     "text": [
      "\n",
      "\n",
      "\n",
      "\n",
      "##############################  [Experiment 2] Analyze DecisionTreeClassifier  ##############################\n",
      "Baseline X_train shape:  (80684, 16)\n",
      "Baseline X_test shape:  (20171, 16)\n",
      "\n",
      "Protected groups splits:\n",
      "SEX_RAC1P_priv (6584, 16)\n",
      "SEX_RAC1P_dis (3677, 16)\n",
      "SEX_priv (9883, 16)\n",
      "SEX_dis (10288, 16)\n",
      "RAC1P_priv (13195, 16)\n",
      "RAC1P_dis (6976, 16)\n",
      "\n",
      "[Experiment 2] Metrics confusion matrix:\n"
     ]
    },
    {
     "data": {
      "text/plain": "                 overall  SEX_RAC1P_priv  SEX_RAC1P_dis  SEX_priv   SEX_dis  \\\nTPR             0.850873        0.872593       0.824127  0.879831  0.819068   \nTNR             0.802247        0.837021       0.782588  0.827894  0.780157   \nPPV             0.777710        0.849193       0.739601  0.824624  0.728793   \nFNR             0.149127        0.127407       0.175873  0.120169  0.180932   \nFPR             0.197753        0.162979       0.217412  0.172106  0.219843   \nAccuracy        0.824054        0.855255       0.800381  0.852777  0.796462   \nF1              0.812648        0.860734       0.779580  0.851333  0.771298   \nSelection-Rate  0.490655        0.526731       0.477291  0.511181  0.470937   \nPositive-Rate   1.094075        1.027556       1.114286  1.066948  1.123869   \n\n                RAC1P_priv  RAC1P_dis  \nTPR               0.847324   0.858262  \nTNR               0.805195   0.797080  \nPPV               0.789570   0.754417  \nFNR               0.152676   0.141738  \nFPR               0.194805   0.202920  \nAccuracy          0.824706   0.822821  \nF1                0.817428   0.802996  \nSelection-Rate    0.497006   0.478641  \nPositive-Rate     1.073147   1.137649  ",
      "text/html": "<div>\n<style scoped>\n    .dataframe tbody tr th:only-of-type {\n        vertical-align: middle;\n    }\n\n    .dataframe tbody tr th {\n        vertical-align: top;\n    }\n\n    .dataframe thead th {\n        text-align: right;\n    }\n</style>\n<table border=\"1\" class=\"dataframe\">\n  <thead>\n    <tr style=\"text-align: right;\">\n      <th></th>\n      <th>overall</th>\n      <th>SEX_RAC1P_priv</th>\n      <th>SEX_RAC1P_dis</th>\n      <th>SEX_priv</th>\n      <th>SEX_dis</th>\n      <th>RAC1P_priv</th>\n      <th>RAC1P_dis</th>\n    </tr>\n  </thead>\n  <tbody>\n    <tr>\n      <th>TPR</th>\n      <td>0.850873</td>\n      <td>0.872593</td>\n      <td>0.824127</td>\n      <td>0.879831</td>\n      <td>0.819068</td>\n      <td>0.847324</td>\n      <td>0.858262</td>\n    </tr>\n    <tr>\n      <th>TNR</th>\n      <td>0.802247</td>\n      <td>0.837021</td>\n      <td>0.782588</td>\n      <td>0.827894</td>\n      <td>0.780157</td>\n      <td>0.805195</td>\n      <td>0.797080</td>\n    </tr>\n    <tr>\n      <th>PPV</th>\n      <td>0.777710</td>\n      <td>0.849193</td>\n      <td>0.739601</td>\n      <td>0.824624</td>\n      <td>0.728793</td>\n      <td>0.789570</td>\n      <td>0.754417</td>\n    </tr>\n    <tr>\n      <th>FNR</th>\n      <td>0.149127</td>\n      <td>0.127407</td>\n      <td>0.175873</td>\n      <td>0.120169</td>\n      <td>0.180932</td>\n      <td>0.152676</td>\n      <td>0.141738</td>\n    </tr>\n    <tr>\n      <th>FPR</th>\n      <td>0.197753</td>\n      <td>0.162979</td>\n      <td>0.217412</td>\n      <td>0.172106</td>\n      <td>0.219843</td>\n      <td>0.194805</td>\n      <td>0.202920</td>\n    </tr>\n    <tr>\n      <th>Accuracy</th>\n      <td>0.824054</td>\n      <td>0.855255</td>\n      <td>0.800381</td>\n      <td>0.852777</td>\n      <td>0.796462</td>\n      <td>0.824706</td>\n      <td>0.822821</td>\n    </tr>\n    <tr>\n      <th>F1</th>\n      <td>0.812648</td>\n      <td>0.860734</td>\n      <td>0.779580</td>\n      <td>0.851333</td>\n      <td>0.771298</td>\n      <td>0.817428</td>\n      <td>0.802996</td>\n    </tr>\n    <tr>\n      <th>Selection-Rate</th>\n      <td>0.490655</td>\n      <td>0.526731</td>\n      <td>0.477291</td>\n      <td>0.511181</td>\n      <td>0.470937</td>\n      <td>0.497006</td>\n      <td>0.478641</td>\n    </tr>\n    <tr>\n      <th>Positive-Rate</th>\n      <td>1.094075</td>\n      <td>1.027556</td>\n      <td>1.114286</td>\n      <td>1.066948</td>\n      <td>1.123869</td>\n      <td>1.073147</td>\n      <td>1.137649</td>\n    </tr>\n  </tbody>\n</table>\n</div>"
     },
     "metadata": {},
     "output_type": "display_data"
    },
    {
     "name": "stdout",
     "output_type": "stream",
     "text": [
      "\n",
      "\n",
      "\n",
      "\n",
      "##############################  [Experiment 2] Analyze RandomForestClassifier  ##############################\n",
      "Baseline X_train shape:  (80684, 16)\n",
      "Baseline X_test shape:  (20171, 16)\n",
      "\n",
      "Protected groups splits:\n",
      "SEX_RAC1P_priv (6494, 16)\n",
      "SEX_RAC1P_dis (3561, 16)\n",
      "SEX_priv (9812, 16)\n",
      "SEX_dis (10359, 16)\n",
      "RAC1P_priv (13292, 16)\n",
      "RAC1P_dis (6879, 16)\n",
      "\n",
      "[Experiment 2] Metrics confusion matrix:\n"
     ]
    },
    {
     "data": {
      "text/plain": "                 overall  SEX_RAC1P_priv  SEX_RAC1P_dis  SEX_priv   SEX_dis  \\\nTPR             0.877959        0.882605       0.874425  0.889831  0.865411   \nTNR             0.795274        0.851691       0.757353  0.847409  0.750042   \nPPV             0.773994        0.857949       0.728767  0.837423  0.715126   \nFNR             0.122041        0.117395       0.125575  0.110169  0.134589   \nFPR             0.204726        0.148309       0.242647  0.152591  0.249958   \nAccuracy        0.831987        0.867262       0.807357  0.867305  0.798533   \nF1              0.822705        0.870102       0.794979  0.862832  0.783124   \nSelection-Rate  0.503644        0.518171       0.512496  0.498369  0.508640   \nPositive-Rate   1.134323        1.028737       1.199869  1.062581  1.210152   \n\n                RAC1P_priv  RAC1P_dis  \nTPR               0.872379   0.889902  \nTNR               0.793545   0.798361  \nPPV               0.782053   0.757612  \nFNR               0.127621   0.110098  \nFPR               0.206455   0.201639  \nAccuracy          0.829747   0.836313  \nF1                0.824750   0.818446  \nSelection-Rate    0.512263   0.486989  \nPositive-Rate     1.115498   1.174614  ",
      "text/html": "<div>\n<style scoped>\n    .dataframe tbody tr th:only-of-type {\n        vertical-align: middle;\n    }\n\n    .dataframe tbody tr th {\n        vertical-align: top;\n    }\n\n    .dataframe thead th {\n        text-align: right;\n    }\n</style>\n<table border=\"1\" class=\"dataframe\">\n  <thead>\n    <tr style=\"text-align: right;\">\n      <th></th>\n      <th>overall</th>\n      <th>SEX_RAC1P_priv</th>\n      <th>SEX_RAC1P_dis</th>\n      <th>SEX_priv</th>\n      <th>SEX_dis</th>\n      <th>RAC1P_priv</th>\n      <th>RAC1P_dis</th>\n    </tr>\n  </thead>\n  <tbody>\n    <tr>\n      <th>TPR</th>\n      <td>0.877959</td>\n      <td>0.882605</td>\n      <td>0.874425</td>\n      <td>0.889831</td>\n      <td>0.865411</td>\n      <td>0.872379</td>\n      <td>0.889902</td>\n    </tr>\n    <tr>\n      <th>TNR</th>\n      <td>0.795274</td>\n      <td>0.851691</td>\n      <td>0.757353</td>\n      <td>0.847409</td>\n      <td>0.750042</td>\n      <td>0.793545</td>\n      <td>0.798361</td>\n    </tr>\n    <tr>\n      <th>PPV</th>\n      <td>0.773994</td>\n      <td>0.857949</td>\n      <td>0.728767</td>\n      <td>0.837423</td>\n      <td>0.715126</td>\n      <td>0.782053</td>\n      <td>0.757612</td>\n    </tr>\n    <tr>\n      <th>FNR</th>\n      <td>0.122041</td>\n      <td>0.117395</td>\n      <td>0.125575</td>\n      <td>0.110169</td>\n      <td>0.134589</td>\n      <td>0.127621</td>\n      <td>0.110098</td>\n    </tr>\n    <tr>\n      <th>FPR</th>\n      <td>0.204726</td>\n      <td>0.148309</td>\n      <td>0.242647</td>\n      <td>0.152591</td>\n      <td>0.249958</td>\n      <td>0.206455</td>\n      <td>0.201639</td>\n    </tr>\n    <tr>\n      <th>Accuracy</th>\n      <td>0.831987</td>\n      <td>0.867262</td>\n      <td>0.807357</td>\n      <td>0.867305</td>\n      <td>0.798533</td>\n      <td>0.829747</td>\n      <td>0.836313</td>\n    </tr>\n    <tr>\n      <th>F1</th>\n      <td>0.822705</td>\n      <td>0.870102</td>\n      <td>0.794979</td>\n      <td>0.862832</td>\n      <td>0.783124</td>\n      <td>0.824750</td>\n      <td>0.818446</td>\n    </tr>\n    <tr>\n      <th>Selection-Rate</th>\n      <td>0.503644</td>\n      <td>0.518171</td>\n      <td>0.512496</td>\n      <td>0.498369</td>\n      <td>0.508640</td>\n      <td>0.512263</td>\n      <td>0.486989</td>\n    </tr>\n    <tr>\n      <th>Positive-Rate</th>\n      <td>1.134323</td>\n      <td>1.028737</td>\n      <td>1.199869</td>\n      <td>1.062581</td>\n      <td>1.210152</td>\n      <td>1.115498</td>\n      <td>1.174614</td>\n    </tr>\n  </tbody>\n</table>\n</div>"
     },
     "metadata": {},
     "output_type": "display_data"
    },
    {
     "name": "stdout",
     "output_type": "stream",
     "text": [
      "\n",
      "\n",
      "\n",
      "\n",
      "##############################  [Experiment 2] Analyze XGBClassifier  ##############################\n",
      "Baseline X_train shape:  (80684, 16)\n",
      "Baseline X_test shape:  (20171, 16)\n",
      "\n",
      "Protected groups splits:\n",
      "SEX_RAC1P_priv (6587, 16)\n",
      "SEX_RAC1P_dis (3569, 16)\n",
      "SEX_priv (9879, 16)\n",
      "SEX_dis (10292, 16)\n",
      "RAC1P_priv (13310, 16)\n",
      "RAC1P_dis (6861, 16)\n",
      "\n",
      "[Experiment 2] Metrics confusion matrix:\n"
     ]
    },
    {
     "data": {
      "text/plain": "                 overall  SEX_RAC1P_priv  SEX_RAC1P_dis  SEX_priv   SEX_dis  \\\nTPR             0.869789        0.900517       0.852362  0.900564  0.836962   \nTNR             0.801280        0.824848       0.787286  0.828371  0.777369   \nPPV             0.776433        0.836631       0.749135  0.820898  0.730987   \nFNR             0.130211        0.099483       0.147638  0.099436  0.163038   \nFPR             0.198720        0.175152       0.212714  0.171629  0.222631   \nAccuracy        0.831590        0.862608       0.815074  0.862031  0.802371   \nF1              0.820464        0.867399       0.797422  0.858888  0.780393   \nSelection-Rate  0.495613        0.537119       0.485850  0.511489  0.480373   \nPositive-Rate   1.120238        1.076361       1.137795  1.097047  1.144975   \n\n                RAC1P_priv  RAC1P_dis  \nTPR               0.867456   0.874780  \nTNR               0.796237   0.810353  \nPPV               0.781713   0.765466  \nFNR               0.132544   0.125220  \nFPR               0.203763   0.189647  \nAccuracy          0.828775   0.837050  \nF1                0.822356   0.816481  \nSelection-Rate    0.506987   0.473546  \nPositive-Rate     1.109686   1.142807  ",
      "text/html": "<div>\n<style scoped>\n    .dataframe tbody tr th:only-of-type {\n        vertical-align: middle;\n    }\n\n    .dataframe tbody tr th {\n        vertical-align: top;\n    }\n\n    .dataframe thead th {\n        text-align: right;\n    }\n</style>\n<table border=\"1\" class=\"dataframe\">\n  <thead>\n    <tr style=\"text-align: right;\">\n      <th></th>\n      <th>overall</th>\n      <th>SEX_RAC1P_priv</th>\n      <th>SEX_RAC1P_dis</th>\n      <th>SEX_priv</th>\n      <th>SEX_dis</th>\n      <th>RAC1P_priv</th>\n      <th>RAC1P_dis</th>\n    </tr>\n  </thead>\n  <tbody>\n    <tr>\n      <th>TPR</th>\n      <td>0.869789</td>\n      <td>0.900517</td>\n      <td>0.852362</td>\n      <td>0.900564</td>\n      <td>0.836962</td>\n      <td>0.867456</td>\n      <td>0.874780</td>\n    </tr>\n    <tr>\n      <th>TNR</th>\n      <td>0.801280</td>\n      <td>0.824848</td>\n      <td>0.787286</td>\n      <td>0.828371</td>\n      <td>0.777369</td>\n      <td>0.796237</td>\n      <td>0.810353</td>\n    </tr>\n    <tr>\n      <th>PPV</th>\n      <td>0.776433</td>\n      <td>0.836631</td>\n      <td>0.749135</td>\n      <td>0.820898</td>\n      <td>0.730987</td>\n      <td>0.781713</td>\n      <td>0.765466</td>\n    </tr>\n    <tr>\n      <th>FNR</th>\n      <td>0.130211</td>\n      <td>0.099483</td>\n      <td>0.147638</td>\n      <td>0.099436</td>\n      <td>0.163038</td>\n      <td>0.132544</td>\n      <td>0.125220</td>\n    </tr>\n    <tr>\n      <th>FPR</th>\n      <td>0.198720</td>\n      <td>0.175152</td>\n      <td>0.212714</td>\n      <td>0.171629</td>\n      <td>0.222631</td>\n      <td>0.203763</td>\n      <td>0.189647</td>\n    </tr>\n    <tr>\n      <th>Accuracy</th>\n      <td>0.831590</td>\n      <td>0.862608</td>\n      <td>0.815074</td>\n      <td>0.862031</td>\n      <td>0.802371</td>\n      <td>0.828775</td>\n      <td>0.837050</td>\n    </tr>\n    <tr>\n      <th>F1</th>\n      <td>0.820464</td>\n      <td>0.867399</td>\n      <td>0.797422</td>\n      <td>0.858888</td>\n      <td>0.780393</td>\n      <td>0.822356</td>\n      <td>0.816481</td>\n    </tr>\n    <tr>\n      <th>Selection-Rate</th>\n      <td>0.495613</td>\n      <td>0.537119</td>\n      <td>0.485850</td>\n      <td>0.511489</td>\n      <td>0.480373</td>\n      <td>0.506987</td>\n      <td>0.473546</td>\n    </tr>\n    <tr>\n      <th>Positive-Rate</th>\n      <td>1.120238</td>\n      <td>1.076361</td>\n      <td>1.137795</td>\n      <td>1.097047</td>\n      <td>1.144975</td>\n      <td>1.109686</td>\n      <td>1.142807</td>\n    </tr>\n  </tbody>\n</table>\n</div>"
     },
     "metadata": {},
     "output_type": "display_data"
    },
    {
     "name": "stdout",
     "output_type": "stream",
     "text": [
      "\n",
      "\n",
      "\n",
      "\n",
      "##############################  [Experiment 2] Analyze KNeighborsClassifier  ##############################\n",
      "Baseline X_train shape:  (80684, 16)\n",
      "Baseline X_test shape:  (20171, 16)\n",
      "\n",
      "Protected groups splits:\n",
      "SEX_RAC1P_priv (6625, 16)\n",
      "SEX_RAC1P_dis (3633, 16)\n",
      "SEX_priv (9838, 16)\n",
      "SEX_dis (10333, 16)\n",
      "RAC1P_priv (13325, 16)\n",
      "RAC1P_dis (6846, 16)\n",
      "\n",
      "[Experiment 2] Metrics confusion matrix:\n"
     ]
    },
    {
     "data": {
      "text/plain": "                 overall  SEX_RAC1P_priv  SEX_RAC1P_dis  SEX_priv   SEX_dis  \\\nTPR             0.838437        0.879134       0.816901  0.874396  0.799080   \nTNR             0.771881        0.807357       0.728634  0.800473  0.747618   \nPPV             0.751722        0.829376       0.694233  0.804289  0.697152   \nFNR             0.161563        0.120866       0.183099  0.125604  0.200920   \nFPR             0.228119        0.192643       0.271366  0.199527  0.252382   \nAccuracy        0.801943        0.844377       0.766584  0.836247  0.769283   \nF1              0.792715        0.853530       0.750588  0.837879  0.744644   \nSelection-Rate  0.503793        0.546717       0.505918  0.526123  0.482532   \nPositive-Rate   1.115355        1.059994       1.176697  1.087167  1.146207   \n\n                RAC1P_priv  RAC1P_dis  \nTPR               0.838678   0.837922  \nTNR               0.780056   0.757107  \nPPV               0.768685   0.717866  \nFNR               0.161322   0.162078  \nFPR               0.219944   0.242893  \nAccuracy          0.807355   0.791411  \nF1                0.802158   0.773261  \nSelection-Rate    0.508068   0.495472  \nPositive-Rate     1.091056   1.167240  ",
      "text/html": "<div>\n<style scoped>\n    .dataframe tbody tr th:only-of-type {\n        vertical-align: middle;\n    }\n\n    .dataframe tbody tr th {\n        vertical-align: top;\n    }\n\n    .dataframe thead th {\n        text-align: right;\n    }\n</style>\n<table border=\"1\" class=\"dataframe\">\n  <thead>\n    <tr style=\"text-align: right;\">\n      <th></th>\n      <th>overall</th>\n      <th>SEX_RAC1P_priv</th>\n      <th>SEX_RAC1P_dis</th>\n      <th>SEX_priv</th>\n      <th>SEX_dis</th>\n      <th>RAC1P_priv</th>\n      <th>RAC1P_dis</th>\n    </tr>\n  </thead>\n  <tbody>\n    <tr>\n      <th>TPR</th>\n      <td>0.838437</td>\n      <td>0.879134</td>\n      <td>0.816901</td>\n      <td>0.874396</td>\n      <td>0.799080</td>\n      <td>0.838678</td>\n      <td>0.837922</td>\n    </tr>\n    <tr>\n      <th>TNR</th>\n      <td>0.771881</td>\n      <td>0.807357</td>\n      <td>0.728634</td>\n      <td>0.800473</td>\n      <td>0.747618</td>\n      <td>0.780056</td>\n      <td>0.757107</td>\n    </tr>\n    <tr>\n      <th>PPV</th>\n      <td>0.751722</td>\n      <td>0.829376</td>\n      <td>0.694233</td>\n      <td>0.804289</td>\n      <td>0.697152</td>\n      <td>0.768685</td>\n      <td>0.717866</td>\n    </tr>\n    <tr>\n      <th>FNR</th>\n      <td>0.161563</td>\n      <td>0.120866</td>\n      <td>0.183099</td>\n      <td>0.125604</td>\n      <td>0.200920</td>\n      <td>0.161322</td>\n      <td>0.162078</td>\n    </tr>\n    <tr>\n      <th>FPR</th>\n      <td>0.228119</td>\n      <td>0.192643</td>\n      <td>0.271366</td>\n      <td>0.199527</td>\n      <td>0.252382</td>\n      <td>0.219944</td>\n      <td>0.242893</td>\n    </tr>\n    <tr>\n      <th>Accuracy</th>\n      <td>0.801943</td>\n      <td>0.844377</td>\n      <td>0.766584</td>\n      <td>0.836247</td>\n      <td>0.769283</td>\n      <td>0.807355</td>\n      <td>0.791411</td>\n    </tr>\n    <tr>\n      <th>F1</th>\n      <td>0.792715</td>\n      <td>0.853530</td>\n      <td>0.750588</td>\n      <td>0.837879</td>\n      <td>0.744644</td>\n      <td>0.802158</td>\n      <td>0.773261</td>\n    </tr>\n    <tr>\n      <th>Selection-Rate</th>\n      <td>0.503793</td>\n      <td>0.546717</td>\n      <td>0.505918</td>\n      <td>0.526123</td>\n      <td>0.482532</td>\n      <td>0.508068</td>\n      <td>0.495472</td>\n    </tr>\n    <tr>\n      <th>Positive-Rate</th>\n      <td>1.115355</td>\n      <td>1.059994</td>\n      <td>1.176697</td>\n      <td>1.087167</td>\n      <td>1.146207</td>\n      <td>1.091056</td>\n      <td>1.167240</td>\n    </tr>\n  </tbody>\n</table>\n</div>"
     },
     "metadata": {},
     "output_type": "display_data"
    },
    {
     "name": "stdout",
     "output_type": "stream",
     "text": [
      "\n",
      "\n",
      "\n",
      "\n"
     ]
    }
   ],
   "source": [
    "run_experiment(exp_num=2, model_seed=200)"
   ],
   "metadata": {
    "collapsed": false,
    "pycharm": {
     "name": "#%%\n"
    }
   }
  },
  {
   "cell_type": "code",
   "execution_count": null,
   "outputs": [],
   "source": [],
   "metadata": {
    "collapsed": false,
    "pycharm": {
     "name": "#%%\n"
    }
   }
  }
 ],
 "metadata": {
  "kernelspec": {
   "display_name": "Python 3 (ipykernel)",
   "language": "python",
   "name": "python3"
  },
  "language_info": {
   "codemirror_mode": {
    "name": "ipython",
    "version": 3
   },
   "file_extension": ".py",
   "mimetype": "text/x-python",
   "name": "python",
   "nbconvert_exporter": "python",
   "pygments_lexer": "ipython3",
   "version": "3.9.7"
  }
 },
 "nbformat": 4,
 "nbformat_minor": 5
}