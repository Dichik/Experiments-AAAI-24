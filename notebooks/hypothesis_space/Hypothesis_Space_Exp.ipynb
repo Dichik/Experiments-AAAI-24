{
 "cells": [
  {
   "cell_type": "code",
   "execution_count": 1,
   "outputs": [],
   "source": [
    "%matplotlib inline\n",
    "%load_ext autoreload\n",
    "%autoreload 2"
   ],
   "metadata": {
    "collapsed": false,
    "pycharm": {
     "name": "#%%\n"
    }
   }
  },
  {
   "cell_type": "code",
   "execution_count": 2,
   "outputs": [],
   "source": [
    "import os\n",
    "import warnings\n",
    "warnings.filterwarnings('ignore')\n",
    "os.environ[\"PYTHONWARNINGS\"] = \"ignore\""
   ],
   "metadata": {
    "collapsed": false,
    "pycharm": {
     "name": "#%%\n"
    }
   }
  },
  {
   "cell_type": "markdown",
   "source": [
    "## Import dependencies"
   ],
   "metadata": {
    "collapsed": false
   }
  },
  {
   "cell_type": "code",
   "execution_count": 3,
   "id": "7a9241de",
   "metadata": {},
   "outputs": [],
   "source": [
    "import os\n",
    "import pandas as pd\n",
    "from IPython.display import display\n",
    "from tqdm import tqdm\n",
    "\n",
    "from configs import config\n",
    "from configs.constants import ModelSetting\n",
    "from utils.analyzers.stability_fairness_analyzer import StabilityFairnessAnalyzer\n",
    "from utils.common_helpers import create_tuned_base_model, save_metrics_to_file\n",
    "from utils.custom_classes.data_loader import ACSEmploymentDataset\n",
    "from utils.custom_classes.generic_pipeline import GenericPipeline\n",
    "from utils.analyzers.bias_analyzer import BiasAnalyzer"
   ]
  },
  {
   "cell_type": "markdown",
   "source": [
    "## Configs"
   ],
   "metadata": {
    "collapsed": false
   }
  },
  {
   "cell_type": "code",
   "execution_count": 4,
   "outputs": [],
   "source": [
    "STATE = config.DATASET_CONFIG['state']\n",
    "YEAR = config.DATASET_CONFIG['year']\n",
    "DATASET_NAME = f\"Folktables_{STATE}_{YEAR}\"\n",
    "EXPERIMENT_NAME = 'Hypothesis_Space'\n",
    "\n",
    "SEX_priv = RACE_priv = str(1)\n",
    "# N_ESTIMATORS = 200\n",
    "N_ESTIMATORS = 10\n",
    "PROTECTED_GROUPS = ['SEX','RAC1P']\n",
    "PRIV_VALUES = [SEX_priv, RACE_priv]\n",
    "TUNED_PARAMS_FILE_PATH = os.path.join('..', '..', 'results', 'models_tuning', 'tuning_results_Folktables_GA_2018_20221215__105658.csv')"
   ],
   "metadata": {
    "collapsed": false,
    "pycharm": {
     "name": "#%%\n"
    }
   }
  },
  {
   "cell_type": "markdown",
   "source": [
    "## Models tuned hyper-parameters"
   ],
   "metadata": {
    "collapsed": false
   }
  },
  {
   "cell_type": "code",
   "execution_count": 5,
   "outputs": [
    {
     "data": {
      "text/plain": "   Unnamed: 0        Dataset_Name                   Model_Name  F1_Score  \\\n0           0  Folktables_GA_2018           LogisticRegression    0.8117   \n1           1  Folktables_GA_2018       DecisionTreeClassifier    0.8228   \n2           2  Folktables_GA_2018       RandomForestClassifier    0.8292   \n3           3  Folktables_GA_2018                XGBClassifier    0.8313   \n4           4  Folktables_GA_2018         KNeighborsClassifier    0.8063   \n5           5  Folktables_GA_2018         MLPClassifier_1L_100       NaN   \n6           6  Folktables_GA_2018  MLPClassifier_3L_100_50_100       NaN   \n7           7  Folktables_GA_2018                          SVC    0.8247   \n\n   Accuracy_Score                                  Model_Best_Params  \n0          0.8122  {'max_iter': 50, 'penalty': 'l2', 'solver': 'l...  \n1          0.8230  {'criterion': 'entropy', 'max_depth': 10, 'max...  \n2          0.8295  {'max_depth': 10, 'max_features': 0.6, 'min_sa...  \n3          0.8318  {'learning_rate': 0.1, 'max_depth': 5, 'n_esti...  \n4          0.8068  {'metric': 'manhattan', 'n_neighbors': 15, 'we...  \n5             NaN                                                 {}  \n6             NaN                                                 {}  \n7          0.8250       {'C': 1000, 'gamma': 0.001, 'kernel': 'rbf'}  ",
      "text/html": "<div>\n<style scoped>\n    .dataframe tbody tr th:only-of-type {\n        vertical-align: middle;\n    }\n\n    .dataframe tbody tr th {\n        vertical-align: top;\n    }\n\n    .dataframe thead th {\n        text-align: right;\n    }\n</style>\n<table border=\"1\" class=\"dataframe\">\n  <thead>\n    <tr style=\"text-align: right;\">\n      <th></th>\n      <th>Unnamed: 0</th>\n      <th>Dataset_Name</th>\n      <th>Model_Name</th>\n      <th>F1_Score</th>\n      <th>Accuracy_Score</th>\n      <th>Model_Best_Params</th>\n    </tr>\n  </thead>\n  <tbody>\n    <tr>\n      <th>0</th>\n      <td>0</td>\n      <td>Folktables_GA_2018</td>\n      <td>LogisticRegression</td>\n      <td>0.8117</td>\n      <td>0.8122</td>\n      <td>{'max_iter': 50, 'penalty': 'l2', 'solver': 'l...</td>\n    </tr>\n    <tr>\n      <th>1</th>\n      <td>1</td>\n      <td>Folktables_GA_2018</td>\n      <td>DecisionTreeClassifier</td>\n      <td>0.8228</td>\n      <td>0.8230</td>\n      <td>{'criterion': 'entropy', 'max_depth': 10, 'max...</td>\n    </tr>\n    <tr>\n      <th>2</th>\n      <td>2</td>\n      <td>Folktables_GA_2018</td>\n      <td>RandomForestClassifier</td>\n      <td>0.8292</td>\n      <td>0.8295</td>\n      <td>{'max_depth': 10, 'max_features': 0.6, 'min_sa...</td>\n    </tr>\n    <tr>\n      <th>3</th>\n      <td>3</td>\n      <td>Folktables_GA_2018</td>\n      <td>XGBClassifier</td>\n      <td>0.8313</td>\n      <td>0.8318</td>\n      <td>{'learning_rate': 0.1, 'max_depth': 5, 'n_esti...</td>\n    </tr>\n    <tr>\n      <th>4</th>\n      <td>4</td>\n      <td>Folktables_GA_2018</td>\n      <td>KNeighborsClassifier</td>\n      <td>0.8063</td>\n      <td>0.8068</td>\n      <td>{'metric': 'manhattan', 'n_neighbors': 15, 'we...</td>\n    </tr>\n    <tr>\n      <th>5</th>\n      <td>5</td>\n      <td>Folktables_GA_2018</td>\n      <td>MLPClassifier_1L_100</td>\n      <td>NaN</td>\n      <td>NaN</td>\n      <td>{}</td>\n    </tr>\n    <tr>\n      <th>6</th>\n      <td>6</td>\n      <td>Folktables_GA_2018</td>\n      <td>MLPClassifier_3L_100_50_100</td>\n      <td>NaN</td>\n      <td>NaN</td>\n      <td>{}</td>\n    </tr>\n    <tr>\n      <th>7</th>\n      <td>7</td>\n      <td>Folktables_GA_2018</td>\n      <td>SVC</td>\n      <td>0.8247</td>\n      <td>0.8250</td>\n      <td>{'C': 1000, 'gamma': 0.001, 'kernel': 'rbf'}</td>\n    </tr>\n  </tbody>\n</table>\n</div>"
     },
     "execution_count": 5,
     "metadata": {},
     "output_type": "execute_result"
    }
   ],
   "source": [
    "models_tuned_params_df = pd.read_csv(TUNED_PARAMS_FILE_PATH)\n",
    "models_tuned_params_df"
   ],
   "metadata": {
    "collapsed": false,
    "pycharm": {
     "name": "#%%\n"
    }
   }
  },
  {
   "cell_type": "markdown",
   "source": [
    "## Preprocess dataset"
   ],
   "metadata": {
    "collapsed": false
   }
  },
  {
   "cell_type": "code",
   "execution_count": 6,
   "id": "fafa0c9c",
   "metadata": {},
   "outputs": [
    {
     "data": {
      "text/plain": "  MAR MIL ESP MIG DREM NATIVITY DIS DEAR DEYE SEX RAC1P RELP CIT ANC SCHL  \\\n0   5   4   0   3    2        1   2    2    2   1     2   16   1   1   13   \n1   3   4   0   1    2        1   1    2    1   2     1   16   1   4   16   \n2   5   4   0   1    1        1   1    2    2   2     2   17   1   4   20   \n3   1   4   0   1    2        1   2    2    2   1     2   16   1   1   17   \n4   5   4   0   1    2        1   2    2    2   2     1   16   1   1   19   \n\n   AGEP  \n0    51  \n1    56  \n2    23  \n3    43  \n4    20  ",
      "text/html": "<div>\n<style scoped>\n    .dataframe tbody tr th:only-of-type {\n        vertical-align: middle;\n    }\n\n    .dataframe tbody tr th {\n        vertical-align: top;\n    }\n\n    .dataframe thead th {\n        text-align: right;\n    }\n</style>\n<table border=\"1\" class=\"dataframe\">\n  <thead>\n    <tr style=\"text-align: right;\">\n      <th></th>\n      <th>MAR</th>\n      <th>MIL</th>\n      <th>ESP</th>\n      <th>MIG</th>\n      <th>DREM</th>\n      <th>NATIVITY</th>\n      <th>DIS</th>\n      <th>DEAR</th>\n      <th>DEYE</th>\n      <th>SEX</th>\n      <th>RAC1P</th>\n      <th>RELP</th>\n      <th>CIT</th>\n      <th>ANC</th>\n      <th>SCHL</th>\n      <th>AGEP</th>\n    </tr>\n  </thead>\n  <tbody>\n    <tr>\n      <th>0</th>\n      <td>5</td>\n      <td>4</td>\n      <td>0</td>\n      <td>3</td>\n      <td>2</td>\n      <td>1</td>\n      <td>2</td>\n      <td>2</td>\n      <td>2</td>\n      <td>1</td>\n      <td>2</td>\n      <td>16</td>\n      <td>1</td>\n      <td>1</td>\n      <td>13</td>\n      <td>51</td>\n    </tr>\n    <tr>\n      <th>1</th>\n      <td>3</td>\n      <td>4</td>\n      <td>0</td>\n      <td>1</td>\n      <td>2</td>\n      <td>1</td>\n      <td>1</td>\n      <td>2</td>\n      <td>1</td>\n      <td>2</td>\n      <td>1</td>\n      <td>16</td>\n      <td>1</td>\n      <td>4</td>\n      <td>16</td>\n      <td>56</td>\n    </tr>\n    <tr>\n      <th>2</th>\n      <td>5</td>\n      <td>4</td>\n      <td>0</td>\n      <td>1</td>\n      <td>1</td>\n      <td>1</td>\n      <td>1</td>\n      <td>2</td>\n      <td>2</td>\n      <td>2</td>\n      <td>2</td>\n      <td>17</td>\n      <td>1</td>\n      <td>4</td>\n      <td>20</td>\n      <td>23</td>\n    </tr>\n    <tr>\n      <th>3</th>\n      <td>1</td>\n      <td>4</td>\n      <td>0</td>\n      <td>1</td>\n      <td>2</td>\n      <td>1</td>\n      <td>2</td>\n      <td>2</td>\n      <td>2</td>\n      <td>1</td>\n      <td>2</td>\n      <td>16</td>\n      <td>1</td>\n      <td>1</td>\n      <td>17</td>\n      <td>43</td>\n    </tr>\n    <tr>\n      <th>4</th>\n      <td>5</td>\n      <td>4</td>\n      <td>0</td>\n      <td>1</td>\n      <td>2</td>\n      <td>1</td>\n      <td>2</td>\n      <td>2</td>\n      <td>2</td>\n      <td>2</td>\n      <td>1</td>\n      <td>16</td>\n      <td>1</td>\n      <td>1</td>\n      <td>19</td>\n      <td>20</td>\n    </tr>\n  </tbody>\n</table>\n</div>"
     },
     "execution_count": 6,
     "metadata": {},
     "output_type": "execute_result"
    }
   ],
   "source": [
    "dataset = ACSEmploymentDataset(state=[STATE], year=YEAR, root_dir=os.path.join('..', '..', 'data'), with_nulls=False)\n",
    "dataset.X_data.head()"
   ]
  },
  {
   "cell_type": "markdown",
   "source": [
    "## Run experiments"
   ],
   "metadata": {
    "collapsed": false
   }
  },
  {
   "cell_type": "code",
   "execution_count": 7,
   "outputs": [],
   "source": [
    "def create_base_pipeline(dataset, protected_groups, priv_values, model_seed):\n",
    "    base_pipeline = GenericPipeline(dataset, protected_groups, priv_values)\n",
    "    _ = base_pipeline.create_preprocessed_train_test_split(dataset, config.TEST_SET_FRACTION, seed=model_seed)\n",
    "\n",
    "    print('\\nProtected groups splits:')\n",
    "    for g in base_pipeline.test_groups.keys():\n",
    "        print(g, base_pipeline.test_groups[g].shape)\n",
    "\n",
    "    return base_pipeline\n",
    "\n",
    "\n",
    "def get_model_metrics(base_model, n_estimators, dataset, protected_groups, priv_values, model_seed,\n",
    "                      dataset_name, base_model_name, exp_num=1):\n",
    "    base_pipeline = create_base_pipeline(dataset, protected_groups, priv_values, model_seed)\n",
    "\n",
    "    stability_fairness_analyzer = StabilityFairnessAnalyzer(ModelSetting.BATCH, n_estimators, base_model, base_model_name,\n",
    "                                                            base_pipeline.X_train_val, base_pipeline.y_train_val,\n",
    "                                                            base_pipeline.X_test, base_pipeline.y_test,\n",
    "                                                            base_pipeline.protected_groups, base_pipeline.priv_values, base_pipeline.test_groups,\n",
    "                                                            base_pipeline.target, dataset_name)\n",
    "\n",
    "    save_results = False\n",
    "    y_preds, variance_metrics_df = stability_fairness_analyzer.compute_metrics(save_results=save_results,\n",
    "                                                                               result_filename=None,\n",
    "                                                                               save_dir_path=None,\n",
    "                                                                               make_plots=False)\n",
    "\n",
    "    bias_analyzer = BiasAnalyzer(base_pipeline.X_test, base_pipeline.y_test,\n",
    "                                 base_pipeline.protected_groups, base_pipeline.priv_values,\n",
    "                                 base_pipeline.test_groups)\n",
    "    dtc_res = bias_analyzer.compute_subgroups_metrics(y_preds,\n",
    "                                                      save_results=False,\n",
    "                                                      result_filename=None,\n",
    "                                                      save_dir_path=None)\n",
    "    bias_metrics_df = pd.DataFrame(dtc_res)\n",
    "\n",
    "    metrics_df = pd.concat([variance_metrics_df, bias_metrics_df])\n",
    "    result_filename = f'{EXPERIMENT_NAME}_Metrics_{dataset_name}_Experiment_{exp_num}_{base_model_name}'\n",
    "    save_dir_path = os.path.join('..', '..', 'results', 'hypothesis_space')\n",
    "    save_metrics_to_file(metrics_df, result_filename, save_dir_path)\n",
    "\n",
    "    return metrics_df\n"
   ],
   "metadata": {
    "collapsed": false,
    "pycharm": {
     "name": "#%%\n"
    }
   }
  },
  {
   "cell_type": "code",
   "execution_count": 8,
   "outputs": [],
   "source": [
    "def run_experiment(exp_num, model_seed):\n",
    "    for model_idx in tqdm(range(len(config.MODELS_CONFIG))):\n",
    "        print('#' * 30, f' [Experiment {exp_num}] Analyze {config.MODELS_CONFIG[model_idx][\"model_name\"]} ', '#' * 30)\n",
    "        model_seed += 1\n",
    "        try:\n",
    "            base_model = create_tuned_base_model(config.MODELS_CONFIG[model_idx]['model'],\n",
    "                                                 config.MODELS_CONFIG[model_idx]['model_name'],\n",
    "                                                 models_tuned_params_df)\n",
    "            results_df = get_model_metrics(base_model, N_ESTIMATORS, dataset, PROTECTED_GROUPS, PRIV_VALUES,\n",
    "                                           model_seed=model_seed,\n",
    "                                           dataset_name=DATASET_NAME,\n",
    "                                           base_model_name=config.MODELS_CONFIG[model_idx]['model_name'],\n",
    "                                           exp_num=exp_num)\n",
    "            print(f'\\n[Experiment {exp_num}] Metrics confusion matrix:')\n",
    "            display(results_df)\n",
    "        except Exception as err:\n",
    "            print(f'ERROR with {config.MODELS_CONFIG[model_idx][\"model_name\"]}: ', err)\n",
    "\n",
    "        print('\\n\\n\\n')\n"
   ],
   "metadata": {
    "collapsed": false,
    "pycharm": {
     "name": "#%%\n"
    }
   }
  },
  {
   "cell_type": "markdown",
   "source": [
    "### Experiment 1"
   ],
   "metadata": {
    "collapsed": false
   }
  },
  {
   "cell_type": "code",
   "execution_count": 9,
   "outputs": [
    {
     "name": "stderr",
     "output_type": "stream",
     "text": [
      "  0%|          | 0/2 [00:00<?, ?it/s]"
     ]
    },
    {
     "name": "stdout",
     "output_type": "stream",
     "text": [
      "##############################  [Experiment 1] Analyze MLPClassifier_1L_100  ##############################\n",
      "Baseline X_train shape:  (80684, 16)\n",
      "Baseline X_test shape:  (20171, 16)\n"
     ]
    },
    {
     "name": "stderr",
     "output_type": "stream",
     "text": [
      "2022-12-16 12:40:42 abstract_stability_analyzer.py INFO    : Start testing of classifier 1 / 10\n"
     ]
    },
    {
     "name": "stdout",
     "output_type": "stream",
     "text": [
      "\n",
      "Protected groups splits:\n",
      "SEX_RAC1P_priv (6609, 16)\n",
      "SEX_RAC1P_dis (3662, 16)\n",
      "SEX_priv (9901, 16)\n",
      "SEX_dis (10270, 16)\n",
      "RAC1P_priv (13217, 16)\n",
      "RAC1P_dis (6954, 16)\n"
     ]
    },
    {
     "name": "stderr",
     "output_type": "stream",
     "text": [
      "2022-12-16 12:43:50 abstract_stability_analyzer.py INFO    : Classifier 1 / 10 was tested\n",
      "2022-12-16 12:43:50 abstract_stability_analyzer.py INFO    : Start testing of classifier 2 / 10\n",
      "2022-12-16 12:46:47 abstract_stability_analyzer.py INFO    : Classifier 2 / 10 was tested\n",
      "2022-12-16 12:46:47 abstract_stability_analyzer.py INFO    : Start testing of classifier 3 / 10\n",
      "2022-12-16 12:50:12 abstract_stability_analyzer.py INFO    : Classifier 3 / 10 was tested\n",
      "2022-12-16 12:50:12 abstract_stability_analyzer.py INFO    : Start testing of classifier 4 / 10\n",
      "2022-12-16 12:53:18 abstract_stability_analyzer.py INFO    : Classifier 4 / 10 was tested\n",
      "2022-12-16 12:53:18 abstract_stability_analyzer.py INFO    : Start testing of classifier 5 / 10\n",
      "2022-12-16 12:56:08 abstract_stability_analyzer.py INFO    : Classifier 5 / 10 was tested\n",
      "2022-12-16 12:56:08 abstract_stability_analyzer.py INFO    : Start testing of classifier 6 / 10\n",
      "2022-12-16 12:58:58 abstract_stability_analyzer.py INFO    : Classifier 6 / 10 was tested\n",
      "2022-12-16 12:58:58 abstract_stability_analyzer.py INFO    : Start testing of classifier 7 / 10\n",
      "2022-12-16 13:01:51 abstract_stability_analyzer.py INFO    : Classifier 7 / 10 was tested\n",
      "2022-12-16 13:01:51 abstract_stability_analyzer.py INFO    : Start testing of classifier 8 / 10\n",
      "2022-12-16 13:04:45 abstract_stability_analyzer.py INFO    : Classifier 8 / 10 was tested\n",
      "2022-12-16 13:04:45 abstract_stability_analyzer.py INFO    : Start testing of classifier 9 / 10\n",
      "2022-12-16 13:07:41 abstract_stability_analyzer.py INFO    : Classifier 9 / 10 was tested\n",
      "2022-12-16 13:07:41 abstract_stability_analyzer.py INFO    : Start testing of classifier 10 / 10\n",
      "2022-12-16 13:10:37 abstract_stability_analyzer.py INFO    : Classifier 10 / 10 was tested\n",
      "2022-12-16 13:10:46 abstract_stability_analyzer.py INFO    : Successfully computed predict proba metrics\n",
      "2022-12-16 13:10:51 abstract_stability_analyzer.py INFO    : Successfully computed predict labels metrics\n"
     ]
    },
    {
     "name": "stdout",
     "output_type": "stream",
     "text": [
      "\n",
      "\n",
      "##############################  Stability metrics  ##############################\n",
      "General Ensemble Accuracy: 0.8183\n",
      "Mean: 0.5559\n",
      "Std: 0.0983\n",
      "IQR: 0.1174\n",
      "Entropy: 0.0\n",
      "Jitter: 0.1166\n",
      "Per sample accuracy: 0.7987\n",
      "Label stability: 0.8463\n",
      "\n",
      "\n",
      "\n",
      "[Experiment 1] Metrics confusion matrix:\n"
     ]
    },
    {
     "data": {
      "text/plain": "                            overall  SEX_RAC1P_priv  SEX_RAC1P_dis  SEX_priv  \\\nGeneral_Ensemble_Accuracy  0.818300        0.849600       0.791400  0.848600   \nMean                       0.555900        0.492300       0.576800  0.522700   \nStd                        0.098300        0.087500       0.118800  0.092600   \nIQR                        0.117400        0.102800       0.144500  0.109000   \nEntropy                    0.000000        0.000000       0.200800  0.000000   \nJitter                     0.116600        0.095100       0.147500  0.102400   \nPer_Sample_Accuracy        0.798700        0.834200       0.767500  0.830400   \nLabel_Stability            0.846300        0.875300       0.805500  0.865500   \nTPR                        0.833537        0.880924       0.801166  0.869902   \nTNR                        0.805914        0.816888       0.784230  0.828711   \nPPV                        0.776170        0.833988       0.730224  0.825854   \nFNR                        0.166463        0.119076       0.198834  0.130098   \nFPR                        0.194086        0.183112       0.215770  0.171289   \nAccuracy                   0.818254        0.849599       0.791371  0.848601   \nF1                         0.803831        0.856814       0.764052  0.847306   \nSelection-Rate             0.479748        0.539567       0.462589  0.508635   \nPositive-Rate              1.073910        1.056280       1.097150  1.053336   \n\n                            SEX_dis  RAC1P_priv  RAC1P_dis  \nGeneral_Ensemble_Accuracy  0.789000    0.818600   0.817500  \nMean                       0.587900    0.543200   0.580100  \nStd                        0.103800    0.091500   0.111300  \nIQR                        0.125500    0.108900   0.133600  \nEntropy                    0.177600    0.147800   0.000000  \nJitter                     0.130300    0.107900   0.133000  \nPer_Sample_Accuracy        0.768100    0.801300   0.793700  \nLabel_Stability            0.827700    0.857700   0.824600  \nTPR                        0.792435    0.839492   0.821295  \nTNR                        0.786589    0.800978   0.814732  \nPPV                        0.722258    0.781360   0.765487  \nFNR                        0.207565    0.160508   0.178705  \nFPR                        0.213411    0.199022   0.185268  \nAccuracy                   0.788997    0.818643   0.817515  \nF1                         0.755721    0.809384   0.792410  \nSelection-Rate             0.451899    0.492774   0.454990  \nPositive-Rate              1.097163    1.074398   1.072906  ",
      "text/html": "<div>\n<style scoped>\n    .dataframe tbody tr th:only-of-type {\n        vertical-align: middle;\n    }\n\n    .dataframe tbody tr th {\n        vertical-align: top;\n    }\n\n    .dataframe thead th {\n        text-align: right;\n    }\n</style>\n<table border=\"1\" class=\"dataframe\">\n  <thead>\n    <tr style=\"text-align: right;\">\n      <th></th>\n      <th>overall</th>\n      <th>SEX_RAC1P_priv</th>\n      <th>SEX_RAC1P_dis</th>\n      <th>SEX_priv</th>\n      <th>SEX_dis</th>\n      <th>RAC1P_priv</th>\n      <th>RAC1P_dis</th>\n    </tr>\n  </thead>\n  <tbody>\n    <tr>\n      <th>General_Ensemble_Accuracy</th>\n      <td>0.818300</td>\n      <td>0.849600</td>\n      <td>0.791400</td>\n      <td>0.848600</td>\n      <td>0.789000</td>\n      <td>0.818600</td>\n      <td>0.817500</td>\n    </tr>\n    <tr>\n      <th>Mean</th>\n      <td>0.555900</td>\n      <td>0.492300</td>\n      <td>0.576800</td>\n      <td>0.522700</td>\n      <td>0.587900</td>\n      <td>0.543200</td>\n      <td>0.580100</td>\n    </tr>\n    <tr>\n      <th>Std</th>\n      <td>0.098300</td>\n      <td>0.087500</td>\n      <td>0.118800</td>\n      <td>0.092600</td>\n      <td>0.103800</td>\n      <td>0.091500</td>\n      <td>0.111300</td>\n    </tr>\n    <tr>\n      <th>IQR</th>\n      <td>0.117400</td>\n      <td>0.102800</td>\n      <td>0.144500</td>\n      <td>0.109000</td>\n      <td>0.125500</td>\n      <td>0.108900</td>\n      <td>0.133600</td>\n    </tr>\n    <tr>\n      <th>Entropy</th>\n      <td>0.000000</td>\n      <td>0.000000</td>\n      <td>0.200800</td>\n      <td>0.000000</td>\n      <td>0.177600</td>\n      <td>0.147800</td>\n      <td>0.000000</td>\n    </tr>\n    <tr>\n      <th>Jitter</th>\n      <td>0.116600</td>\n      <td>0.095100</td>\n      <td>0.147500</td>\n      <td>0.102400</td>\n      <td>0.130300</td>\n      <td>0.107900</td>\n      <td>0.133000</td>\n    </tr>\n    <tr>\n      <th>Per_Sample_Accuracy</th>\n      <td>0.798700</td>\n      <td>0.834200</td>\n      <td>0.767500</td>\n      <td>0.830400</td>\n      <td>0.768100</td>\n      <td>0.801300</td>\n      <td>0.793700</td>\n    </tr>\n    <tr>\n      <th>Label_Stability</th>\n      <td>0.846300</td>\n      <td>0.875300</td>\n      <td>0.805500</td>\n      <td>0.865500</td>\n      <td>0.827700</td>\n      <td>0.857700</td>\n      <td>0.824600</td>\n    </tr>\n    <tr>\n      <th>TPR</th>\n      <td>0.833537</td>\n      <td>0.880924</td>\n      <td>0.801166</td>\n      <td>0.869902</td>\n      <td>0.792435</td>\n      <td>0.839492</td>\n      <td>0.821295</td>\n    </tr>\n    <tr>\n      <th>TNR</th>\n      <td>0.805914</td>\n      <td>0.816888</td>\n      <td>0.784230</td>\n      <td>0.828711</td>\n      <td>0.786589</td>\n      <td>0.800978</td>\n      <td>0.814732</td>\n    </tr>\n    <tr>\n      <th>PPV</th>\n      <td>0.776170</td>\n      <td>0.833988</td>\n      <td>0.730224</td>\n      <td>0.825854</td>\n      <td>0.722258</td>\n      <td>0.781360</td>\n      <td>0.765487</td>\n    </tr>\n    <tr>\n      <th>FNR</th>\n      <td>0.166463</td>\n      <td>0.119076</td>\n      <td>0.198834</td>\n      <td>0.130098</td>\n      <td>0.207565</td>\n      <td>0.160508</td>\n      <td>0.178705</td>\n    </tr>\n    <tr>\n      <th>FPR</th>\n      <td>0.194086</td>\n      <td>0.183112</td>\n      <td>0.215770</td>\n      <td>0.171289</td>\n      <td>0.213411</td>\n      <td>0.199022</td>\n      <td>0.185268</td>\n    </tr>\n    <tr>\n      <th>Accuracy</th>\n      <td>0.818254</td>\n      <td>0.849599</td>\n      <td>0.791371</td>\n      <td>0.848601</td>\n      <td>0.788997</td>\n      <td>0.818643</td>\n      <td>0.817515</td>\n    </tr>\n    <tr>\n      <th>F1</th>\n      <td>0.803831</td>\n      <td>0.856814</td>\n      <td>0.764052</td>\n      <td>0.847306</td>\n      <td>0.755721</td>\n      <td>0.809384</td>\n      <td>0.792410</td>\n    </tr>\n    <tr>\n      <th>Selection-Rate</th>\n      <td>0.479748</td>\n      <td>0.539567</td>\n      <td>0.462589</td>\n      <td>0.508635</td>\n      <td>0.451899</td>\n      <td>0.492774</td>\n      <td>0.454990</td>\n    </tr>\n    <tr>\n      <th>Positive-Rate</th>\n      <td>1.073910</td>\n      <td>1.056280</td>\n      <td>1.097150</td>\n      <td>1.053336</td>\n      <td>1.097163</td>\n      <td>1.074398</td>\n      <td>1.072906</td>\n    </tr>\n  </tbody>\n</table>\n</div>"
     },
     "metadata": {},
     "output_type": "display_data"
    },
    {
     "name": "stderr",
     "output_type": "stream",
     "text": [
      " 50%|█████     | 1/2 [30:32<30:32, 1832.56s/it]"
     ]
    },
    {
     "name": "stdout",
     "output_type": "stream",
     "text": [
      "\n",
      "\n",
      "\n",
      "\n",
      "##############################  [Experiment 1] Analyze MLPClassifier_3L_100_50_100  ##############################\n",
      "Baseline X_train shape:  (80684, 16)\n",
      "Baseline X_test shape:  (20171, 16)\n"
     ]
    },
    {
     "name": "stderr",
     "output_type": "stream",
     "text": [
      "2022-12-16 13:11:15 abstract_stability_analyzer.py INFO    : Start testing of classifier 1 / 10\n"
     ]
    },
    {
     "name": "stdout",
     "output_type": "stream",
     "text": [
      "\n",
      "Protected groups splits:\n",
      "SEX_RAC1P_priv (6582, 16)\n",
      "SEX_RAC1P_dis (3543, 16)\n",
      "SEX_priv (9817, 16)\n",
      "SEX_dis (10354, 16)\n",
      "RAC1P_priv (13393, 16)\n",
      "RAC1P_dis (6778, 16)\n"
     ]
    },
    {
     "name": "stderr",
     "output_type": "stream",
     "text": [
      "2022-12-16 13:18:08 abstract_stability_analyzer.py INFO    : Classifier 1 / 10 was tested\n",
      "2022-12-16 13:18:08 abstract_stability_analyzer.py INFO    : Start testing of classifier 2 / 10\n",
      "2022-12-16 13:24:29 abstract_stability_analyzer.py INFO    : Classifier 2 / 10 was tested\n",
      "2022-12-16 13:24:29 abstract_stability_analyzer.py INFO    : Start testing of classifier 3 / 10\n",
      "2022-12-16 13:31:06 abstract_stability_analyzer.py INFO    : Classifier 3 / 10 was tested\n",
      "2022-12-16 13:31:06 abstract_stability_analyzer.py INFO    : Start testing of classifier 4 / 10\n",
      "2022-12-16 13:37:17 abstract_stability_analyzer.py INFO    : Classifier 4 / 10 was tested\n",
      "2022-12-16 13:37:17 abstract_stability_analyzer.py INFO    : Start testing of classifier 5 / 10\n",
      "2022-12-16 13:43:40 abstract_stability_analyzer.py INFO    : Classifier 5 / 10 was tested\n",
      "2022-12-16 13:43:40 abstract_stability_analyzer.py INFO    : Start testing of classifier 6 / 10\n",
      "2022-12-16 13:49:26 abstract_stability_analyzer.py INFO    : Classifier 6 / 10 was tested\n",
      "2022-12-16 13:49:26 abstract_stability_analyzer.py INFO    : Start testing of classifier 7 / 10\n",
      "2022-12-16 13:55:12 abstract_stability_analyzer.py INFO    : Classifier 7 / 10 was tested\n",
      "2022-12-16 13:55:12 abstract_stability_analyzer.py INFO    : Start testing of classifier 8 / 10\n",
      "2022-12-16 14:00:12 abstract_stability_analyzer.py INFO    : Classifier 8 / 10 was tested\n",
      "2022-12-16 14:00:12 abstract_stability_analyzer.py INFO    : Start testing of classifier 9 / 10\n",
      "2022-12-16 14:06:59 abstract_stability_analyzer.py INFO    : Classifier 9 / 10 was tested\n",
      "2022-12-16 14:06:59 abstract_stability_analyzer.py INFO    : Start testing of classifier 10 / 10\n",
      "2022-12-16 14:13:39 abstract_stability_analyzer.py INFO    : Classifier 10 / 10 was tested\n",
      "2022-12-16 14:13:48 abstract_stability_analyzer.py INFO    : Successfully computed predict proba metrics\n",
      "2022-12-16 14:13:53 abstract_stability_analyzer.py INFO    : Successfully computed predict labels metrics\n"
     ]
    },
    {
     "name": "stdout",
     "output_type": "stream",
     "text": [
      "\n",
      "\n",
      "##############################  Stability metrics  ##############################\n",
      "General Ensemble Accuracy: 0.8133\n",
      "Mean: 0.5532\n",
      "Std: 0.136\n",
      "IQR: 0.1537\n",
      "Entropy: 0.1981\n",
      "Jitter: 0.145\n",
      "Per sample accuracy: 0.7889\n",
      "Label stability: 0.8087\n",
      "\n",
      "\n",
      "\n",
      "[Experiment 1] Metrics confusion matrix:\n"
     ]
    },
    {
     "data": {
      "text/plain": "                            overall  SEX_RAC1P_priv  SEX_RAC1P_dis  SEX_priv  \\\nGeneral_Ensemble_Accuracy  0.813300        0.850200       0.789400  0.848100   \nMean                       0.553200        0.491700       0.573800  0.523900   \nStd                        0.136000        0.119700       0.164800  0.126000   \nIQR                        0.153700        0.130600       0.189800  0.137200   \nEntropy                    0.198100        0.000000       0.241900  0.175400   \nJitter                     0.145000        0.121100       0.177900  0.128100   \nPer_Sample_Accuracy        0.788900        0.825000       0.760300  0.822800   \nLabel_Stability            0.808700        0.841300       0.763400  0.831900   \nTPR                        0.830667        0.879347       0.800399  0.871248   \nTNR                        0.799734        0.820763       0.781373  0.827745   \nPPV                        0.765231        0.832046       0.729533  0.816718   \nFNR                        0.169333        0.120653       0.199601  0.128752   \nFPR                        0.200266        0.179237       0.218627  0.172255   \nAccuracy                   0.813346        0.850198       0.789444  0.848121   \nF1                         0.796607        0.855043       0.763325  0.843102   \nSelection-Rate             0.477666        0.530994       0.465425  0.499643   \nPositive-Rate              1.085511        1.056849       1.097139  1.066768   \n\n                            SEX_dis  RAC1P_priv  RAC1P_dis  \nGeneral_Ensemble_Accuracy  0.780400    0.812300   0.815400  \nMean                       0.580900    0.539000   0.581300  \nStd                        0.145600    0.127800   0.152300  \nIQR                        0.169400    0.145000   0.171100  \nEntropy                    0.000000    0.000000   0.219300  \nJitter                     0.161100    0.137000   0.160800  \nPer_Sample_Accuracy        0.756700    0.789300   0.788000  \nLabel_Stability            0.786600    0.819700   0.786900  \nTPR                        0.787050    0.833936   0.823550  \nTNR                        0.775675    0.794283   0.809739  \nPPV                        0.711839    0.771290   0.752207  \nFNR                        0.212950    0.166064   0.176450  \nFPR                        0.224325    0.205717   0.190261  \nAccuracy                   0.780375    0.812290   0.815432  \nF1                         0.747558    0.801390   0.786263  \nSelection-Rate             0.456828    0.491003   0.451313  \nPositive-Rate              1.105657    1.081223   1.094846  ",
      "text/html": "<div>\n<style scoped>\n    .dataframe tbody tr th:only-of-type {\n        vertical-align: middle;\n    }\n\n    .dataframe tbody tr th {\n        vertical-align: top;\n    }\n\n    .dataframe thead th {\n        text-align: right;\n    }\n</style>\n<table border=\"1\" class=\"dataframe\">\n  <thead>\n    <tr style=\"text-align: right;\">\n      <th></th>\n      <th>overall</th>\n      <th>SEX_RAC1P_priv</th>\n      <th>SEX_RAC1P_dis</th>\n      <th>SEX_priv</th>\n      <th>SEX_dis</th>\n      <th>RAC1P_priv</th>\n      <th>RAC1P_dis</th>\n    </tr>\n  </thead>\n  <tbody>\n    <tr>\n      <th>General_Ensemble_Accuracy</th>\n      <td>0.813300</td>\n      <td>0.850200</td>\n      <td>0.789400</td>\n      <td>0.848100</td>\n      <td>0.780400</td>\n      <td>0.812300</td>\n      <td>0.815400</td>\n    </tr>\n    <tr>\n      <th>Mean</th>\n      <td>0.553200</td>\n      <td>0.491700</td>\n      <td>0.573800</td>\n      <td>0.523900</td>\n      <td>0.580900</td>\n      <td>0.539000</td>\n      <td>0.581300</td>\n    </tr>\n    <tr>\n      <th>Std</th>\n      <td>0.136000</td>\n      <td>0.119700</td>\n      <td>0.164800</td>\n      <td>0.126000</td>\n      <td>0.145600</td>\n      <td>0.127800</td>\n      <td>0.152300</td>\n    </tr>\n    <tr>\n      <th>IQR</th>\n      <td>0.153700</td>\n      <td>0.130600</td>\n      <td>0.189800</td>\n      <td>0.137200</td>\n      <td>0.169400</td>\n      <td>0.145000</td>\n      <td>0.171100</td>\n    </tr>\n    <tr>\n      <th>Entropy</th>\n      <td>0.198100</td>\n      <td>0.000000</td>\n      <td>0.241900</td>\n      <td>0.175400</td>\n      <td>0.000000</td>\n      <td>0.000000</td>\n      <td>0.219300</td>\n    </tr>\n    <tr>\n      <th>Jitter</th>\n      <td>0.145000</td>\n      <td>0.121100</td>\n      <td>0.177900</td>\n      <td>0.128100</td>\n      <td>0.161100</td>\n      <td>0.137000</td>\n      <td>0.160800</td>\n    </tr>\n    <tr>\n      <th>Per_Sample_Accuracy</th>\n      <td>0.788900</td>\n      <td>0.825000</td>\n      <td>0.760300</td>\n      <td>0.822800</td>\n      <td>0.756700</td>\n      <td>0.789300</td>\n      <td>0.788000</td>\n    </tr>\n    <tr>\n      <th>Label_Stability</th>\n      <td>0.808700</td>\n      <td>0.841300</td>\n      <td>0.763400</td>\n      <td>0.831900</td>\n      <td>0.786600</td>\n      <td>0.819700</td>\n      <td>0.786900</td>\n    </tr>\n    <tr>\n      <th>TPR</th>\n      <td>0.830667</td>\n      <td>0.879347</td>\n      <td>0.800399</td>\n      <td>0.871248</td>\n      <td>0.787050</td>\n      <td>0.833936</td>\n      <td>0.823550</td>\n    </tr>\n    <tr>\n      <th>TNR</th>\n      <td>0.799734</td>\n      <td>0.820763</td>\n      <td>0.781373</td>\n      <td>0.827745</td>\n      <td>0.775675</td>\n      <td>0.794283</td>\n      <td>0.809739</td>\n    </tr>\n    <tr>\n      <th>PPV</th>\n      <td>0.765231</td>\n      <td>0.832046</td>\n      <td>0.729533</td>\n      <td>0.816718</td>\n      <td>0.711839</td>\n      <td>0.771290</td>\n      <td>0.752207</td>\n    </tr>\n    <tr>\n      <th>FNR</th>\n      <td>0.169333</td>\n      <td>0.120653</td>\n      <td>0.199601</td>\n      <td>0.128752</td>\n      <td>0.212950</td>\n      <td>0.166064</td>\n      <td>0.176450</td>\n    </tr>\n    <tr>\n      <th>FPR</th>\n      <td>0.200266</td>\n      <td>0.179237</td>\n      <td>0.218627</td>\n      <td>0.172255</td>\n      <td>0.224325</td>\n      <td>0.205717</td>\n      <td>0.190261</td>\n    </tr>\n    <tr>\n      <th>Accuracy</th>\n      <td>0.813346</td>\n      <td>0.850198</td>\n      <td>0.789444</td>\n      <td>0.848121</td>\n      <td>0.780375</td>\n      <td>0.812290</td>\n      <td>0.815432</td>\n    </tr>\n    <tr>\n      <th>F1</th>\n      <td>0.796607</td>\n      <td>0.855043</td>\n      <td>0.763325</td>\n      <td>0.843102</td>\n      <td>0.747558</td>\n      <td>0.801390</td>\n      <td>0.786263</td>\n    </tr>\n    <tr>\n      <th>Selection-Rate</th>\n      <td>0.477666</td>\n      <td>0.530994</td>\n      <td>0.465425</td>\n      <td>0.499643</td>\n      <td>0.456828</td>\n      <td>0.491003</td>\n      <td>0.451313</td>\n    </tr>\n    <tr>\n      <th>Positive-Rate</th>\n      <td>1.085511</td>\n      <td>1.056849</td>\n      <td>1.097139</td>\n      <td>1.066768</td>\n      <td>1.105657</td>\n      <td>1.081223</td>\n      <td>1.094846</td>\n    </tr>\n  </tbody>\n</table>\n</div>"
     },
     "metadata": {},
     "output_type": "display_data"
    },
    {
     "name": "stderr",
     "output_type": "stream",
     "text": [
      "100%|██████████| 2/2 [1:33:34<00:00, 2807.29s/it]"
     ]
    },
    {
     "name": "stdout",
     "output_type": "stream",
     "text": [
      "\n",
      "\n",
      "\n",
      "\n"
     ]
    },
    {
     "name": "stderr",
     "output_type": "stream",
     "text": [
      "\n"
     ]
    }
   ],
   "source": [
    "# TOD: add dataset as a parameter\n",
    "run_experiment(exp_num=1, model_seed=100)"
   ],
   "metadata": {
    "collapsed": false,
    "pycharm": {
     "name": "#%%\n"
    }
   }
  },
  {
   "cell_type": "markdown",
   "source": [
    "### Experiment 2"
   ],
   "metadata": {
    "collapsed": false
   }
  },
  {
   "cell_type": "code",
   "execution_count": 10,
   "outputs": [],
   "source": [
    "# run_experiment(exp_num=2, model_seed=200)"
   ],
   "metadata": {
    "collapsed": false,
    "pycharm": {
     "name": "#%%\n"
    }
   }
  },
  {
   "cell_type": "code",
   "execution_count": 10,
   "outputs": [],
   "source": [],
   "metadata": {
    "collapsed": false,
    "pycharm": {
     "name": "#%%\n"
    }
   }
  }
 ],
 "metadata": {
  "kernelspec": {
   "display_name": "Python 3 (ipykernel)",
   "language": "python",
   "name": "python3"
  },
  "language_info": {
   "codemirror_mode": {
    "name": "ipython",
    "version": 3
   },
   "file_extension": ".py",
   "mimetype": "text/x-python",
   "name": "python",
   "nbconvert_exporter": "python",
   "pygments_lexer": "ipython3",
   "version": "3.9.7"
  }
 },
 "nbformat": 4,
 "nbformat_minor": 5
}