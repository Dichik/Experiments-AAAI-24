{
 "cells": [
  {
   "cell_type": "code",
   "execution_count": 28,
   "outputs": [
    {
     "name": "stdout",
     "output_type": "stream",
     "text": [
      "The autoreload extension is already loaded. To reload it, use:\n",
      "  %reload_ext autoreload\n"
     ]
    }
   ],
   "source": [
    "%matplotlib inline\n",
    "%load_ext autoreload\n",
    "%autoreload 2"
   ],
   "metadata": {
    "collapsed": false,
    "pycharm": {
     "name": "#%%\n"
    }
   }
  },
  {
   "cell_type": "code",
   "execution_count": 29,
   "outputs": [],
   "source": [
    "import os\n",
    "import warnings\n",
    "warnings.filterwarnings('ignore')\n",
    "os.environ[\"PYTHONWARNINGS\"] = \"ignore\""
   ],
   "metadata": {
    "collapsed": false,
    "pycharm": {
     "name": "#%%\n"
    }
   }
  },
  {
   "cell_type": "markdown",
   "source": [
    "## Import dependencies"
   ],
   "metadata": {
    "collapsed": false
   }
  },
  {
   "cell_type": "code",
   "execution_count": 30,
   "id": "7a9241de",
   "metadata": {},
   "outputs": [],
   "source": [
    "import os\n",
    "import pandas as pd\n",
    "from IPython.display import display\n",
    "from tqdm import tqdm\n",
    "\n",
    "from configs import config\n",
    "from configs.constants import ModelSetting\n",
    "from utils.analyzers.stability_fairness_analyzer import StabilityFairnessAnalyzer\n",
    "from utils.common_helpers import create_tuned_base_model, save_metrics_to_file\n",
    "from utils.custom_classes.data_loader import ACSEmploymentDataset\n",
    "from utils.custom_classes.generic_pipeline import GenericPipeline\n",
    "from utils.analyzers.bias_analyzer import BiasAnalyzer"
   ]
  },
  {
   "cell_type": "markdown",
   "source": [
    "## Configs"
   ],
   "metadata": {
    "collapsed": false
   }
  },
  {
   "cell_type": "code",
   "execution_count": 31,
   "outputs": [],
   "source": [
    "STATE = config.DATASET_CONFIG['state']\n",
    "YEAR = config.DATASET_CONFIG['year']\n",
    "DATASET_NAME = f\"Folktables_{STATE}_{YEAR}\"\n",
    "EXPERIMENT_NAME = 'Hypothesis_Space'\n",
    "\n",
    "SEX_priv = RACE_priv = str(1)\n",
    "# N_ESTIMATORS = 200\n",
    "N_ESTIMATORS = 50\n",
    "PROTECTED_GROUPS = ['SEX','RAC1P']\n",
    "PRIV_VALUES = [SEX_priv, RACE_priv]\n",
    "TUNED_PARAMS_FILE_PATH = os.path.join('..', '..', 'results', 'models_tuning', 'tuning_results_Folktables_GA_2018_20221215__105658.csv')"
   ],
   "metadata": {
    "collapsed": false,
    "pycharm": {
     "name": "#%%\n"
    }
   }
  },
  {
   "cell_type": "markdown",
   "source": [
    "## Models tuned hyper-parameters"
   ],
   "metadata": {
    "collapsed": false
   }
  },
  {
   "cell_type": "code",
   "execution_count": 32,
   "outputs": [
    {
     "data": {
      "text/plain": "   Unnamed: 0        Dataset_Name                   Model_Name  F1_Score  \\\n0           0  Folktables_GA_2018           LogisticRegression    0.8117   \n1           1  Folktables_GA_2018       DecisionTreeClassifier    0.8228   \n2           2  Folktables_GA_2018       RandomForestClassifier    0.8292   \n3           3  Folktables_GA_2018                XGBClassifier    0.8313   \n4           4  Folktables_GA_2018         KNeighborsClassifier    0.8063   \n5           5  Folktables_GA_2018         MLPClassifier_1L_100       NaN   \n6           6  Folktables_GA_2018  MLPClassifier_3L_100_50_100       NaN   \n7           7  Folktables_GA_2018                          SVC    0.8247   \n\n   Accuracy_Score                                  Model_Best_Params  \n0          0.8122  {'max_iter': 50, 'penalty': 'l2', 'solver': 'l...  \n1          0.8230  {'criterion': 'entropy', 'max_depth': 10, 'max...  \n2          0.8295  {'max_depth': 10, 'max_features': 0.6, 'min_sa...  \n3          0.8318  {'learning_rate': 0.1, 'max_depth': 5, 'n_esti...  \n4          0.8068  {'metric': 'manhattan', 'n_neighbors': 15, 'we...  \n5             NaN                                                 {}  \n6             NaN                                                 {}  \n7          0.8250       {'C': 1000, 'gamma': 0.001, 'kernel': 'rbf'}  ",
      "text/html": "<div>\n<style scoped>\n    .dataframe tbody tr th:only-of-type {\n        vertical-align: middle;\n    }\n\n    .dataframe tbody tr th {\n        vertical-align: top;\n    }\n\n    .dataframe thead th {\n        text-align: right;\n    }\n</style>\n<table border=\"1\" class=\"dataframe\">\n  <thead>\n    <tr style=\"text-align: right;\">\n      <th></th>\n      <th>Unnamed: 0</th>\n      <th>Dataset_Name</th>\n      <th>Model_Name</th>\n      <th>F1_Score</th>\n      <th>Accuracy_Score</th>\n      <th>Model_Best_Params</th>\n    </tr>\n  </thead>\n  <tbody>\n    <tr>\n      <th>0</th>\n      <td>0</td>\n      <td>Folktables_GA_2018</td>\n      <td>LogisticRegression</td>\n      <td>0.8117</td>\n      <td>0.8122</td>\n      <td>{'max_iter': 50, 'penalty': 'l2', 'solver': 'l...</td>\n    </tr>\n    <tr>\n      <th>1</th>\n      <td>1</td>\n      <td>Folktables_GA_2018</td>\n      <td>DecisionTreeClassifier</td>\n      <td>0.8228</td>\n      <td>0.8230</td>\n      <td>{'criterion': 'entropy', 'max_depth': 10, 'max...</td>\n    </tr>\n    <tr>\n      <th>2</th>\n      <td>2</td>\n      <td>Folktables_GA_2018</td>\n      <td>RandomForestClassifier</td>\n      <td>0.8292</td>\n      <td>0.8295</td>\n      <td>{'max_depth': 10, 'max_features': 0.6, 'min_sa...</td>\n    </tr>\n    <tr>\n      <th>3</th>\n      <td>3</td>\n      <td>Folktables_GA_2018</td>\n      <td>XGBClassifier</td>\n      <td>0.8313</td>\n      <td>0.8318</td>\n      <td>{'learning_rate': 0.1, 'max_depth': 5, 'n_esti...</td>\n    </tr>\n    <tr>\n      <th>4</th>\n      <td>4</td>\n      <td>Folktables_GA_2018</td>\n      <td>KNeighborsClassifier</td>\n      <td>0.8063</td>\n      <td>0.8068</td>\n      <td>{'metric': 'manhattan', 'n_neighbors': 15, 'we...</td>\n    </tr>\n    <tr>\n      <th>5</th>\n      <td>5</td>\n      <td>Folktables_GA_2018</td>\n      <td>MLPClassifier_1L_100</td>\n      <td>NaN</td>\n      <td>NaN</td>\n      <td>{}</td>\n    </tr>\n    <tr>\n      <th>6</th>\n      <td>6</td>\n      <td>Folktables_GA_2018</td>\n      <td>MLPClassifier_3L_100_50_100</td>\n      <td>NaN</td>\n      <td>NaN</td>\n      <td>{}</td>\n    </tr>\n    <tr>\n      <th>7</th>\n      <td>7</td>\n      <td>Folktables_GA_2018</td>\n      <td>SVC</td>\n      <td>0.8247</td>\n      <td>0.8250</td>\n      <td>{'C': 1000, 'gamma': 0.001, 'kernel': 'rbf'}</td>\n    </tr>\n  </tbody>\n</table>\n</div>"
     },
     "execution_count": 32,
     "metadata": {},
     "output_type": "execute_result"
    }
   ],
   "source": [
    "models_tuned_params_df = pd.read_csv(TUNED_PARAMS_FILE_PATH)\n",
    "models_tuned_params_df"
   ],
   "metadata": {
    "collapsed": false,
    "pycharm": {
     "name": "#%%\n"
    }
   }
  },
  {
   "cell_type": "markdown",
   "source": [
    "## Preprocess dataset"
   ],
   "metadata": {
    "collapsed": false
   }
  },
  {
   "cell_type": "code",
   "execution_count": 33,
   "id": "fafa0c9c",
   "metadata": {},
   "outputs": [
    {
     "data": {
      "text/plain": "  MAR MIL ESP MIG DREM NATIVITY DIS DEAR DEYE SEX RAC1P RELP CIT ANC SCHL  \\\n0   5   4   0   3    2        1   2    2    2   1     2   16   1   1   13   \n1   3   4   0   1    2        1   1    2    1   2     1   16   1   4   16   \n2   5   4   0   1    1        1   1    2    2   2     2   17   1   4   20   \n3   1   4   0   1    2        1   2    2    2   1     2   16   1   1   17   \n4   5   4   0   1    2        1   2    2    2   2     1   16   1   1   19   \n\n   AGEP  \n0    51  \n1    56  \n2    23  \n3    43  \n4    20  ",
      "text/html": "<div>\n<style scoped>\n    .dataframe tbody tr th:only-of-type {\n        vertical-align: middle;\n    }\n\n    .dataframe tbody tr th {\n        vertical-align: top;\n    }\n\n    .dataframe thead th {\n        text-align: right;\n    }\n</style>\n<table border=\"1\" class=\"dataframe\">\n  <thead>\n    <tr style=\"text-align: right;\">\n      <th></th>\n      <th>MAR</th>\n      <th>MIL</th>\n      <th>ESP</th>\n      <th>MIG</th>\n      <th>DREM</th>\n      <th>NATIVITY</th>\n      <th>DIS</th>\n      <th>DEAR</th>\n      <th>DEYE</th>\n      <th>SEX</th>\n      <th>RAC1P</th>\n      <th>RELP</th>\n      <th>CIT</th>\n      <th>ANC</th>\n      <th>SCHL</th>\n      <th>AGEP</th>\n    </tr>\n  </thead>\n  <tbody>\n    <tr>\n      <th>0</th>\n      <td>5</td>\n      <td>4</td>\n      <td>0</td>\n      <td>3</td>\n      <td>2</td>\n      <td>1</td>\n      <td>2</td>\n      <td>2</td>\n      <td>2</td>\n      <td>1</td>\n      <td>2</td>\n      <td>16</td>\n      <td>1</td>\n      <td>1</td>\n      <td>13</td>\n      <td>51</td>\n    </tr>\n    <tr>\n      <th>1</th>\n      <td>3</td>\n      <td>4</td>\n      <td>0</td>\n      <td>1</td>\n      <td>2</td>\n      <td>1</td>\n      <td>1</td>\n      <td>2</td>\n      <td>1</td>\n      <td>2</td>\n      <td>1</td>\n      <td>16</td>\n      <td>1</td>\n      <td>4</td>\n      <td>16</td>\n      <td>56</td>\n    </tr>\n    <tr>\n      <th>2</th>\n      <td>5</td>\n      <td>4</td>\n      <td>0</td>\n      <td>1</td>\n      <td>1</td>\n      <td>1</td>\n      <td>1</td>\n      <td>2</td>\n      <td>2</td>\n      <td>2</td>\n      <td>2</td>\n      <td>17</td>\n      <td>1</td>\n      <td>4</td>\n      <td>20</td>\n      <td>23</td>\n    </tr>\n    <tr>\n      <th>3</th>\n      <td>1</td>\n      <td>4</td>\n      <td>0</td>\n      <td>1</td>\n      <td>2</td>\n      <td>1</td>\n      <td>2</td>\n      <td>2</td>\n      <td>2</td>\n      <td>1</td>\n      <td>2</td>\n      <td>16</td>\n      <td>1</td>\n      <td>1</td>\n      <td>17</td>\n      <td>43</td>\n    </tr>\n    <tr>\n      <th>4</th>\n      <td>5</td>\n      <td>4</td>\n      <td>0</td>\n      <td>1</td>\n      <td>2</td>\n      <td>1</td>\n      <td>2</td>\n      <td>2</td>\n      <td>2</td>\n      <td>2</td>\n      <td>1</td>\n      <td>16</td>\n      <td>1</td>\n      <td>1</td>\n      <td>19</td>\n      <td>20</td>\n    </tr>\n  </tbody>\n</table>\n</div>"
     },
     "execution_count": 33,
     "metadata": {},
     "output_type": "execute_result"
    }
   ],
   "source": [
    "dataset = ACSEmploymentDataset(state=[STATE], year=YEAR, root_dir=os.path.join('..', '..', 'data'), with_nulls=False)\n",
    "dataset.X_data.head()"
   ]
  },
  {
   "cell_type": "markdown",
   "source": [
    "## Run experiments"
   ],
   "metadata": {
    "collapsed": false
   }
  },
  {
   "cell_type": "code",
   "execution_count": 34,
   "outputs": [],
   "source": [
    "def create_base_pipeline(dataset, protected_groups, priv_values, model_seed):\n",
    "    base_pipeline = GenericPipeline(dataset, protected_groups, priv_values)\n",
    "    _ = base_pipeline.create_preprocessed_train_test_split(dataset, config.TEST_SET_FRACTION, seed=model_seed)\n",
    "\n",
    "    print('\\nProtected groups splits:')\n",
    "    for g in base_pipeline.test_groups.keys():\n",
    "        print(g, base_pipeline.test_groups[g].shape)\n",
    "\n",
    "    return base_pipeline\n",
    "\n",
    "\n",
    "def get_model_metrics(base_model, n_estimators, dataset, protected_groups, priv_values, model_seed,\n",
    "                      dataset_name, base_model_name, exp_num=1):\n",
    "    base_pipeline = create_base_pipeline(dataset, protected_groups, priv_values, model_seed)\n",
    "\n",
    "    stability_fairness_analyzer = StabilityFairnessAnalyzer(ModelSetting.BATCH, n_estimators, base_model, base_model_name,\n",
    "                                                            base_pipeline.X_train_val, base_pipeline.y_train_val,\n",
    "                                                            base_pipeline.X_test, base_pipeline.y_test,\n",
    "                                                            base_pipeline.protected_groups, base_pipeline.priv_values, base_pipeline.test_groups,\n",
    "                                                            base_pipeline.target, dataset_name)\n",
    "\n",
    "    save_results = False\n",
    "    y_preds, variance_metrics_df = stability_fairness_analyzer.compute_metrics(save_results=save_results,\n",
    "                                                                               result_filename=None,\n",
    "                                                                               save_dir_path=None,\n",
    "                                                                               make_plots=False)\n",
    "\n",
    "    bias_analyzer = BiasAnalyzer(base_pipeline.X_test, base_pipeline.y_test,\n",
    "                                 base_pipeline.protected_groups, base_pipeline.priv_values,\n",
    "                                 base_pipeline.test_groups)\n",
    "    dtc_res = bias_analyzer.compute_subgroups_metrics(y_preds,\n",
    "                                                      save_results=False,\n",
    "                                                      result_filename=None,\n",
    "                                                      save_dir_path=None)\n",
    "    bias_metrics_df = pd.DataFrame(dtc_res)\n",
    "\n",
    "    metrics_df = pd.concat([variance_metrics_df, bias_metrics_df])\n",
    "    result_filename = f'{EXPERIMENT_NAME}_Metrics_{dataset_name}_Experiment_{exp_num}_{base_model_name}'\n",
    "    save_dir_path = os.path.join('..', '..', 'results', 'hypothesis_space')\n",
    "    save_metrics_to_file(metrics_df, result_filename, save_dir_path)\n",
    "\n",
    "    return metrics_df\n"
   ],
   "metadata": {
    "collapsed": false,
    "pycharm": {
     "name": "#%%\n"
    }
   }
  },
  {
   "cell_type": "code",
   "execution_count": 35,
   "outputs": [],
   "source": [
    "def run_experiment(exp_num, model_seed):\n",
    "    for model_idx in tqdm(range(len(config.MODELS_CONFIG))):\n",
    "        print('#' * 30, f' [Experiment {exp_num}] Analyze {config.MODELS_CONFIG[model_idx][\"model_name\"]} ', '#' * 30)\n",
    "        model_seed += 1\n",
    "        try:\n",
    "            base_model = create_tuned_base_model(config.MODELS_CONFIG[model_idx]['model'],\n",
    "                                                 config.MODELS_CONFIG[model_idx]['model_name'],\n",
    "                                                 models_tuned_params_df)\n",
    "            results_df = get_model_metrics(base_model, N_ESTIMATORS, dataset, PROTECTED_GROUPS, PRIV_VALUES,\n",
    "                                           model_seed=model_seed,\n",
    "                                           dataset_name=DATASET_NAME,\n",
    "                                           base_model_name=config.MODELS_CONFIG[model_idx]['model_name'],\n",
    "                                           exp_num=exp_num)\n",
    "            print(f'\\n[Experiment {exp_num}] Metrics confusion matrix:')\n",
    "            display(results_df)\n",
    "        except Exception as err:\n",
    "            print(f'ERROR with {config.MODELS_CONFIG[model_idx][\"model_name\"]}: ', err)\n",
    "\n",
    "        print('\\n\\n\\n')\n"
   ],
   "metadata": {
    "collapsed": false,
    "pycharm": {
     "name": "#%%\n"
    }
   }
  },
  {
   "cell_type": "markdown",
   "source": [
    "### Experiment 1"
   ],
   "metadata": {
    "collapsed": false
   }
  },
  {
   "cell_type": "code",
   "execution_count": 36,
   "outputs": [
    {
     "name": "stderr",
     "output_type": "stream",
     "text": [
      "  0%|          | 0/2 [00:00<?, ?it/s]"
     ]
    },
    {
     "name": "stdout",
     "output_type": "stream",
     "text": [
      "##############################  [Experiment 1] Analyze RandomForestClassifier  ##############################\n",
      "Baseline X_train shape:  (80684, 16)\n",
      "Baseline X_test shape:  (20171, 16)\n"
     ]
    },
    {
     "name": "stderr",
     "output_type": "stream",
     "text": [
      "2022-12-16 10:24:25 abstract_stability_analyzer.py INFO    : Start testing of classifier 1 / 50\n"
     ]
    },
    {
     "name": "stdout",
     "output_type": "stream",
     "text": [
      "\n",
      "Protected groups splits:\n",
      "SEX_RAC1P_priv (6609, 16)\n",
      "SEX_RAC1P_dis (3662, 16)\n",
      "SEX_priv (9901, 16)\n",
      "SEX_dis (10270, 16)\n",
      "RAC1P_priv (13217, 16)\n",
      "RAC1P_dis (6954, 16)\n"
     ]
    },
    {
     "name": "stderr",
     "output_type": "stream",
     "text": [
      "2022-12-16 10:24:36 abstract_stability_analyzer.py INFO    : Classifier 1 / 50 was tested\n",
      "2022-12-16 10:24:36 abstract_stability_analyzer.py INFO    : Start testing of classifier 2 / 50\n",
      "2022-12-16 10:24:47 abstract_stability_analyzer.py INFO    : Classifier 2 / 50 was tested\n",
      "2022-12-16 10:24:47 abstract_stability_analyzer.py INFO    : Start testing of classifier 3 / 50\n",
      "2022-12-16 10:24:58 abstract_stability_analyzer.py INFO    : Classifier 3 / 50 was tested\n",
      "2022-12-16 10:24:58 abstract_stability_analyzer.py INFO    : Start testing of classifier 4 / 50\n",
      "2022-12-16 10:25:08 abstract_stability_analyzer.py INFO    : Classifier 4 / 50 was tested\n",
      "2022-12-16 10:25:08 abstract_stability_analyzer.py INFO    : Start testing of classifier 5 / 50\n",
      "2022-12-16 10:25:19 abstract_stability_analyzer.py INFO    : Classifier 5 / 50 was tested\n",
      "2022-12-16 10:25:19 abstract_stability_analyzer.py INFO    : Start testing of classifier 6 / 50\n",
      "2022-12-16 10:25:30 abstract_stability_analyzer.py INFO    : Classifier 6 / 50 was tested\n",
      "2022-12-16 10:25:30 abstract_stability_analyzer.py INFO    : Start testing of classifier 7 / 50\n",
      "2022-12-16 10:25:40 abstract_stability_analyzer.py INFO    : Classifier 7 / 50 was tested\n",
      "2022-12-16 10:25:40 abstract_stability_analyzer.py INFO    : Start testing of classifier 8 / 50\n",
      "2022-12-16 10:25:51 abstract_stability_analyzer.py INFO    : Classifier 8 / 50 was tested\n",
      "2022-12-16 10:25:51 abstract_stability_analyzer.py INFO    : Start testing of classifier 9 / 50\n",
      "2022-12-16 10:26:02 abstract_stability_analyzer.py INFO    : Classifier 9 / 50 was tested\n",
      "2022-12-16 10:26:02 abstract_stability_analyzer.py INFO    : Start testing of classifier 10 / 50\n",
      "2022-12-16 10:26:13 abstract_stability_analyzer.py INFO    : Classifier 10 / 50 was tested\n",
      "2022-12-16 10:26:13 abstract_stability_analyzer.py INFO    : Start testing of classifier 11 / 50\n",
      "2022-12-16 10:26:25 abstract_stability_analyzer.py INFO    : Classifier 11 / 50 was tested\n",
      "2022-12-16 10:26:25 abstract_stability_analyzer.py INFO    : Start testing of classifier 12 / 50\n",
      "2022-12-16 10:26:35 abstract_stability_analyzer.py INFO    : Classifier 12 / 50 was tested\n",
      "2022-12-16 10:26:35 abstract_stability_analyzer.py INFO    : Start testing of classifier 13 / 50\n",
      "2022-12-16 10:26:46 abstract_stability_analyzer.py INFO    : Classifier 13 / 50 was tested\n",
      "2022-12-16 10:26:46 abstract_stability_analyzer.py INFO    : Start testing of classifier 14 / 50\n",
      "2022-12-16 10:26:57 abstract_stability_analyzer.py INFO    : Classifier 14 / 50 was tested\n",
      "2022-12-16 10:26:57 abstract_stability_analyzer.py INFO    : Start testing of classifier 15 / 50\n",
      "2022-12-16 10:27:08 abstract_stability_analyzer.py INFO    : Classifier 15 / 50 was tested\n",
      "2022-12-16 10:27:08 abstract_stability_analyzer.py INFO    : Start testing of classifier 16 / 50\n",
      "2022-12-16 10:27:18 abstract_stability_analyzer.py INFO    : Classifier 16 / 50 was tested\n",
      "2022-12-16 10:27:18 abstract_stability_analyzer.py INFO    : Start testing of classifier 17 / 50\n",
      "2022-12-16 10:27:29 abstract_stability_analyzer.py INFO    : Classifier 17 / 50 was tested\n",
      "2022-12-16 10:27:29 abstract_stability_analyzer.py INFO    : Start testing of classifier 18 / 50\n",
      "2022-12-16 10:27:40 abstract_stability_analyzer.py INFO    : Classifier 18 / 50 was tested\n",
      "2022-12-16 10:27:40 abstract_stability_analyzer.py INFO    : Start testing of classifier 19 / 50\n",
      "2022-12-16 10:27:51 abstract_stability_analyzer.py INFO    : Classifier 19 / 50 was tested\n",
      "2022-12-16 10:27:51 abstract_stability_analyzer.py INFO    : Start testing of classifier 20 / 50\n",
      "2022-12-16 10:28:03 abstract_stability_analyzer.py INFO    : Classifier 20 / 50 was tested\n",
      "2022-12-16 10:28:03 abstract_stability_analyzer.py INFO    : Start testing of classifier 21 / 50\n",
      "2022-12-16 10:28:14 abstract_stability_analyzer.py INFO    : Classifier 21 / 50 was tested\n",
      "2022-12-16 10:28:14 abstract_stability_analyzer.py INFO    : Start testing of classifier 22 / 50\n",
      "2022-12-16 10:28:26 abstract_stability_analyzer.py INFO    : Classifier 22 / 50 was tested\n",
      "2022-12-16 10:28:26 abstract_stability_analyzer.py INFO    : Start testing of classifier 23 / 50\n",
      "2022-12-16 10:28:37 abstract_stability_analyzer.py INFO    : Classifier 23 / 50 was tested\n",
      "2022-12-16 10:28:37 abstract_stability_analyzer.py INFO    : Start testing of classifier 24 / 50\n",
      "2022-12-16 10:28:48 abstract_stability_analyzer.py INFO    : Classifier 24 / 50 was tested\n",
      "2022-12-16 10:28:48 abstract_stability_analyzer.py INFO    : Start testing of classifier 25 / 50\n",
      "2022-12-16 10:28:59 abstract_stability_analyzer.py INFO    : Classifier 25 / 50 was tested\n",
      "2022-12-16 10:28:59 abstract_stability_analyzer.py INFO    : Start testing of classifier 26 / 50\n",
      "2022-12-16 10:29:09 abstract_stability_analyzer.py INFO    : Classifier 26 / 50 was tested\n",
      "2022-12-16 10:29:09 abstract_stability_analyzer.py INFO    : Start testing of classifier 27 / 50\n",
      "2022-12-16 10:29:20 abstract_stability_analyzer.py INFO    : Classifier 27 / 50 was tested\n",
      "2022-12-16 10:29:20 abstract_stability_analyzer.py INFO    : Start testing of classifier 28 / 50\n",
      "2022-12-16 10:29:31 abstract_stability_analyzer.py INFO    : Classifier 28 / 50 was tested\n",
      "2022-12-16 10:29:31 abstract_stability_analyzer.py INFO    : Start testing of classifier 29 / 50\n",
      "2022-12-16 10:29:41 abstract_stability_analyzer.py INFO    : Classifier 29 / 50 was tested\n",
      "2022-12-16 10:29:41 abstract_stability_analyzer.py INFO    : Start testing of classifier 30 / 50\n",
      "2022-12-16 10:29:52 abstract_stability_analyzer.py INFO    : Classifier 30 / 50 was tested\n",
      "2022-12-16 10:29:52 abstract_stability_analyzer.py INFO    : Start testing of classifier 31 / 50\n",
      "2022-12-16 10:30:03 abstract_stability_analyzer.py INFO    : Classifier 31 / 50 was tested\n",
      "2022-12-16 10:30:03 abstract_stability_analyzer.py INFO    : Start testing of classifier 32 / 50\n",
      "2022-12-16 10:30:14 abstract_stability_analyzer.py INFO    : Classifier 32 / 50 was tested\n",
      "2022-12-16 10:30:14 abstract_stability_analyzer.py INFO    : Start testing of classifier 33 / 50\n",
      "2022-12-16 10:30:24 abstract_stability_analyzer.py INFO    : Classifier 33 / 50 was tested\n",
      "2022-12-16 10:30:24 abstract_stability_analyzer.py INFO    : Start testing of classifier 34 / 50\n",
      "2022-12-16 10:30:36 abstract_stability_analyzer.py INFO    : Classifier 34 / 50 was tested\n",
      "2022-12-16 10:30:36 abstract_stability_analyzer.py INFO    : Start testing of classifier 35 / 50\n",
      "2022-12-16 10:30:47 abstract_stability_analyzer.py INFO    : Classifier 35 / 50 was tested\n",
      "2022-12-16 10:30:47 abstract_stability_analyzer.py INFO    : Start testing of classifier 36 / 50\n",
      "2022-12-16 10:30:58 abstract_stability_analyzer.py INFO    : Classifier 36 / 50 was tested\n",
      "2022-12-16 10:30:58 abstract_stability_analyzer.py INFO    : Start testing of classifier 37 / 50\n",
      "2022-12-16 10:31:09 abstract_stability_analyzer.py INFO    : Classifier 37 / 50 was tested\n",
      "2022-12-16 10:31:09 abstract_stability_analyzer.py INFO    : Start testing of classifier 38 / 50\n",
      "2022-12-16 10:31:22 abstract_stability_analyzer.py INFO    : Classifier 38 / 50 was tested\n",
      "2022-12-16 10:31:22 abstract_stability_analyzer.py INFO    : Start testing of classifier 39 / 50\n",
      "2022-12-16 10:31:34 abstract_stability_analyzer.py INFO    : Classifier 39 / 50 was tested\n",
      "2022-12-16 10:31:34 abstract_stability_analyzer.py INFO    : Start testing of classifier 40 / 50\n",
      "2022-12-16 10:31:45 abstract_stability_analyzer.py INFO    : Classifier 40 / 50 was tested\n",
      "2022-12-16 10:31:45 abstract_stability_analyzer.py INFO    : Start testing of classifier 41 / 50\n",
      "2022-12-16 10:31:56 abstract_stability_analyzer.py INFO    : Classifier 41 / 50 was tested\n",
      "2022-12-16 10:31:56 abstract_stability_analyzer.py INFO    : Start testing of classifier 42 / 50\n",
      "2022-12-16 10:32:07 abstract_stability_analyzer.py INFO    : Classifier 42 / 50 was tested\n",
      "2022-12-16 10:32:07 abstract_stability_analyzer.py INFO    : Start testing of classifier 43 / 50\n",
      "2022-12-16 10:32:18 abstract_stability_analyzer.py INFO    : Classifier 43 / 50 was tested\n",
      "2022-12-16 10:32:18 abstract_stability_analyzer.py INFO    : Start testing of classifier 44 / 50\n",
      "2022-12-16 10:32:30 abstract_stability_analyzer.py INFO    : Classifier 44 / 50 was tested\n",
      "2022-12-16 10:32:30 abstract_stability_analyzer.py INFO    : Start testing of classifier 45 / 50\n",
      "2022-12-16 10:32:41 abstract_stability_analyzer.py INFO    : Classifier 45 / 50 was tested\n",
      "2022-12-16 10:32:41 abstract_stability_analyzer.py INFO    : Start testing of classifier 46 / 50\n",
      "2022-12-16 10:32:52 abstract_stability_analyzer.py INFO    : Classifier 46 / 50 was tested\n",
      "2022-12-16 10:32:52 abstract_stability_analyzer.py INFO    : Start testing of classifier 47 / 50\n",
      "2022-12-16 10:33:02 abstract_stability_analyzer.py INFO    : Classifier 47 / 50 was tested\n",
      "2022-12-16 10:33:02 abstract_stability_analyzer.py INFO    : Start testing of classifier 48 / 50\n",
      "2022-12-16 10:33:13 abstract_stability_analyzer.py INFO    : Classifier 48 / 50 was tested\n",
      "2022-12-16 10:33:13 abstract_stability_analyzer.py INFO    : Start testing of classifier 49 / 50\n",
      "2022-12-16 10:33:24 abstract_stability_analyzer.py INFO    : Classifier 49 / 50 was tested\n",
      "2022-12-16 10:33:24 abstract_stability_analyzer.py INFO    : Start testing of classifier 50 / 50\n",
      "2022-12-16 10:33:35 abstract_stability_analyzer.py INFO    : Classifier 50 / 50 was tested\n",
      "2022-12-16 10:33:59 abstract_stability_analyzer.py INFO    : Successfully computed predict proba metrics\n",
      "2022-12-16 10:34:04 abstract_stability_analyzer.py INFO    : Successfully computed predict labels metrics\n"
     ]
    },
    {
     "name": "stdout",
     "output_type": "stream",
     "text": [
      "\n",
      "\n",
      "##############################  Stability metrics  ##############################\n",
      "General Ensemble Accuracy: 0.8236\n",
      "Mean: 0.5532\n",
      "Std: 0.0198\n",
      "IQR: 0.0253\n",
      "Entropy: 0.0\n",
      "Jitter: 0.0233\n",
      "Per sample accuracy: 0.8226\n",
      "Label stability: 0.9678\n",
      "\n",
      "\n",
      "\n",
      "[Experiment 1] Metrics confusion matrix:\n"
     ]
    },
    {
     "data": {
      "text/plain": "                            overall  SEX_RAC1P_priv  SEX_RAC1P_dis  SEX_priv  \\\nGeneral_Ensemble_Accuracy  0.823600        0.854100       0.804200  0.856600   \nMean                       0.553200        0.501600       0.577500  0.521500   \nStd                        0.019800        0.019500       0.021500  0.019100   \nIQR                        0.025300        0.024900       0.027800  0.024400   \nEntropy                    0.000000        0.000000       0.051200  0.000000   \nJitter                     0.023300        0.017000       0.033100  0.016600   \nPer_Sample_Accuracy        0.822600        0.853500       0.800700  0.855800   \nLabel_Stability            0.967800        0.976500       0.954600  0.977000   \nTPR                        0.869271        0.872630       0.882124  0.879941   \nTNR                        0.786738        0.834828       0.747403  0.834766   \nPPV                        0.766964        0.846552       0.717976  0.832575   \nFNR                        0.130729        0.127370       0.117876  0.120059   \nFPR                        0.213262        0.165172       0.252597  0.165234   \nAccuracy                   0.823608        0.854138       0.804205  0.856580   \nF1                         0.814919        0.859393       0.791630  0.855603   \nSelection-Rate             0.506321        0.526555       0.518023  0.510352   \nPositive-Rate              1.133393        1.030806       1.228627  1.056892   \n\n                            SEX_dis  RAC1P_priv  RAC1P_dis  \nGeneral_Ensemble_Accuracy  0.791800    0.819600   0.831300  \nMean                       0.583800    0.544400   0.569900  \nStd                        0.020500    0.019700   0.020100  \nIQR                        0.026200    0.025100   0.025800  \nEntropy                    0.045900    0.034800   0.000000  \nJitter                     0.029700    0.022400   0.024900  \nPer_Sample_Accuracy        0.790700    0.819300   0.829000  \nLabel_Stability            0.958900    0.968900   0.965800  \nTPR                        0.857210    0.859452   0.889454  \nTNR                        0.746026    0.785744   0.788514  \nPPV                        0.702713    0.772653   0.755908  \nFNR                        0.142790    0.140548   0.110546  \nFPR                        0.253974    0.214256   0.211486  \nAccuracy                   0.791821    0.819551   0.831320  \nF1                         0.772311    0.813745   0.817261  \nSelection-Rate             0.502434    0.510176   0.498993  \nPositive-Rate              1.219858    1.112339   1.176670  ",
      "text/html": "<div>\n<style scoped>\n    .dataframe tbody tr th:only-of-type {\n        vertical-align: middle;\n    }\n\n    .dataframe tbody tr th {\n        vertical-align: top;\n    }\n\n    .dataframe thead th {\n        text-align: right;\n    }\n</style>\n<table border=\"1\" class=\"dataframe\">\n  <thead>\n    <tr style=\"text-align: right;\">\n      <th></th>\n      <th>overall</th>\n      <th>SEX_RAC1P_priv</th>\n      <th>SEX_RAC1P_dis</th>\n      <th>SEX_priv</th>\n      <th>SEX_dis</th>\n      <th>RAC1P_priv</th>\n      <th>RAC1P_dis</th>\n    </tr>\n  </thead>\n  <tbody>\n    <tr>\n      <th>General_Ensemble_Accuracy</th>\n      <td>0.823600</td>\n      <td>0.854100</td>\n      <td>0.804200</td>\n      <td>0.856600</td>\n      <td>0.791800</td>\n      <td>0.819600</td>\n      <td>0.831300</td>\n    </tr>\n    <tr>\n      <th>Mean</th>\n      <td>0.553200</td>\n      <td>0.501600</td>\n      <td>0.577500</td>\n      <td>0.521500</td>\n      <td>0.583800</td>\n      <td>0.544400</td>\n      <td>0.569900</td>\n    </tr>\n    <tr>\n      <th>Std</th>\n      <td>0.019800</td>\n      <td>0.019500</td>\n      <td>0.021500</td>\n      <td>0.019100</td>\n      <td>0.020500</td>\n      <td>0.019700</td>\n      <td>0.020100</td>\n    </tr>\n    <tr>\n      <th>IQR</th>\n      <td>0.025300</td>\n      <td>0.024900</td>\n      <td>0.027800</td>\n      <td>0.024400</td>\n      <td>0.026200</td>\n      <td>0.025100</td>\n      <td>0.025800</td>\n    </tr>\n    <tr>\n      <th>Entropy</th>\n      <td>0.000000</td>\n      <td>0.000000</td>\n      <td>0.051200</td>\n      <td>0.000000</td>\n      <td>0.045900</td>\n      <td>0.034800</td>\n      <td>0.000000</td>\n    </tr>\n    <tr>\n      <th>Jitter</th>\n      <td>0.023300</td>\n      <td>0.017000</td>\n      <td>0.033100</td>\n      <td>0.016600</td>\n      <td>0.029700</td>\n      <td>0.022400</td>\n      <td>0.024900</td>\n    </tr>\n    <tr>\n      <th>Per_Sample_Accuracy</th>\n      <td>0.822600</td>\n      <td>0.853500</td>\n      <td>0.800700</td>\n      <td>0.855800</td>\n      <td>0.790700</td>\n      <td>0.819300</td>\n      <td>0.829000</td>\n    </tr>\n    <tr>\n      <th>Label_Stability</th>\n      <td>0.967800</td>\n      <td>0.976500</td>\n      <td>0.954600</td>\n      <td>0.977000</td>\n      <td>0.958900</td>\n      <td>0.968900</td>\n      <td>0.965800</td>\n    </tr>\n    <tr>\n      <th>TPR</th>\n      <td>0.869271</td>\n      <td>0.872630</td>\n      <td>0.882124</td>\n      <td>0.879941</td>\n      <td>0.857210</td>\n      <td>0.859452</td>\n      <td>0.889454</td>\n    </tr>\n    <tr>\n      <th>TNR</th>\n      <td>0.786738</td>\n      <td>0.834828</td>\n      <td>0.747403</td>\n      <td>0.834766</td>\n      <td>0.746026</td>\n      <td>0.785744</td>\n      <td>0.788514</td>\n    </tr>\n    <tr>\n      <th>PPV</th>\n      <td>0.766964</td>\n      <td>0.846552</td>\n      <td>0.717976</td>\n      <td>0.832575</td>\n      <td>0.702713</td>\n      <td>0.772653</td>\n      <td>0.755908</td>\n    </tr>\n    <tr>\n      <th>FNR</th>\n      <td>0.130729</td>\n      <td>0.127370</td>\n      <td>0.117876</td>\n      <td>0.120059</td>\n      <td>0.142790</td>\n      <td>0.140548</td>\n      <td>0.110546</td>\n    </tr>\n    <tr>\n      <th>FPR</th>\n      <td>0.213262</td>\n      <td>0.165172</td>\n      <td>0.252597</td>\n      <td>0.165234</td>\n      <td>0.253974</td>\n      <td>0.214256</td>\n      <td>0.211486</td>\n    </tr>\n    <tr>\n      <th>Accuracy</th>\n      <td>0.823608</td>\n      <td>0.854138</td>\n      <td>0.804205</td>\n      <td>0.856580</td>\n      <td>0.791821</td>\n      <td>0.819551</td>\n      <td>0.831320</td>\n    </tr>\n    <tr>\n      <th>F1</th>\n      <td>0.814919</td>\n      <td>0.859393</td>\n      <td>0.791630</td>\n      <td>0.855603</td>\n      <td>0.772311</td>\n      <td>0.813745</td>\n      <td>0.817261</td>\n    </tr>\n    <tr>\n      <th>Selection-Rate</th>\n      <td>0.506321</td>\n      <td>0.526555</td>\n      <td>0.518023</td>\n      <td>0.510352</td>\n      <td>0.502434</td>\n      <td>0.510176</td>\n      <td>0.498993</td>\n    </tr>\n    <tr>\n      <th>Positive-Rate</th>\n      <td>1.133393</td>\n      <td>1.030806</td>\n      <td>1.228627</td>\n      <td>1.056892</td>\n      <td>1.219858</td>\n      <td>1.112339</td>\n      <td>1.176670</td>\n    </tr>\n  </tbody>\n</table>\n</div>"
     },
     "metadata": {},
     "output_type": "display_data"
    },
    {
     "name": "stderr",
     "output_type": "stream",
     "text": [
      " 50%|█████     | 1/2 [10:35<10:35, 635.35s/it]"
     ]
    },
    {
     "name": "stdout",
     "output_type": "stream",
     "text": [
      "\n",
      "\n",
      "\n",
      "\n",
      "##############################  [Experiment 1] Analyze KNeighborsClassifier  ##############################\n",
      "Baseline X_train shape:  (80684, 16)\n",
      "Baseline X_test shape:  (20171, 16)\n"
     ]
    },
    {
     "name": "stderr",
     "output_type": "stream",
     "text": [
      "2022-12-16 10:35:00 abstract_stability_analyzer.py INFO    : Start testing of classifier 1 / 50\n"
     ]
    },
    {
     "name": "stdout",
     "output_type": "stream",
     "text": [
      "\n",
      "Protected groups splits:\n",
      "SEX_RAC1P_priv (6582, 16)\n",
      "SEX_RAC1P_dis (3543, 16)\n",
      "SEX_priv (9817, 16)\n",
      "SEX_dis (10354, 16)\n",
      "RAC1P_priv (13393, 16)\n",
      "RAC1P_dis (6778, 16)\n"
     ]
    },
    {
     "name": "stderr",
     "output_type": "stream",
     "text": [
      "2022-12-16 10:35:48 abstract_stability_analyzer.py INFO    : Classifier 1 / 50 was tested\n",
      "2022-12-16 10:35:48 abstract_stability_analyzer.py INFO    : Start testing of classifier 2 / 50\n",
      "2022-12-16 10:36:48 abstract_stability_analyzer.py INFO    : Classifier 2 / 50 was tested\n",
      "2022-12-16 10:36:48 abstract_stability_analyzer.py INFO    : Start testing of classifier 3 / 50\n",
      "2022-12-16 10:37:39 abstract_stability_analyzer.py INFO    : Classifier 3 / 50 was tested\n",
      "2022-12-16 10:37:39 abstract_stability_analyzer.py INFO    : Start testing of classifier 4 / 50\n",
      "2022-12-16 10:38:29 abstract_stability_analyzer.py INFO    : Classifier 4 / 50 was tested\n",
      "2022-12-16 10:38:29 abstract_stability_analyzer.py INFO    : Start testing of classifier 5 / 50\n",
      "2022-12-16 10:39:20 abstract_stability_analyzer.py INFO    : Classifier 5 / 50 was tested\n",
      "2022-12-16 10:39:20 abstract_stability_analyzer.py INFO    : Start testing of classifier 6 / 50\n",
      "2022-12-16 10:40:13 abstract_stability_analyzer.py INFO    : Classifier 6 / 50 was tested\n",
      "2022-12-16 10:40:13 abstract_stability_analyzer.py INFO    : Start testing of classifier 7 / 50\n",
      "2022-12-16 10:41:01 abstract_stability_analyzer.py INFO    : Classifier 7 / 50 was tested\n",
      "2022-12-16 10:41:01 abstract_stability_analyzer.py INFO    : Start testing of classifier 8 / 50\n",
      "2022-12-16 10:41:56 abstract_stability_analyzer.py INFO    : Classifier 8 / 50 was tested\n",
      "2022-12-16 10:41:56 abstract_stability_analyzer.py INFO    : Start testing of classifier 9 / 50\n",
      "2022-12-16 10:42:45 abstract_stability_analyzer.py INFO    : Classifier 9 / 50 was tested\n",
      "2022-12-16 10:42:45 abstract_stability_analyzer.py INFO    : Start testing of classifier 10 / 50\n",
      "2022-12-16 10:43:34 abstract_stability_analyzer.py INFO    : Classifier 10 / 50 was tested\n",
      "2022-12-16 10:43:34 abstract_stability_analyzer.py INFO    : Start testing of classifier 11 / 50\n",
      "2022-12-16 10:44:30 abstract_stability_analyzer.py INFO    : Classifier 11 / 50 was tested\n",
      "2022-12-16 10:44:30 abstract_stability_analyzer.py INFO    : Start testing of classifier 12 / 50\n",
      "2022-12-16 10:45:25 abstract_stability_analyzer.py INFO    : Classifier 12 / 50 was tested\n",
      "2022-12-16 10:45:25 abstract_stability_analyzer.py INFO    : Start testing of classifier 13 / 50\n",
      "2022-12-16 10:46:12 abstract_stability_analyzer.py INFO    : Classifier 13 / 50 was tested\n",
      "2022-12-16 10:46:12 abstract_stability_analyzer.py INFO    : Start testing of classifier 14 / 50\n",
      "2022-12-16 10:47:01 abstract_stability_analyzer.py INFO    : Classifier 14 / 50 was tested\n",
      "2022-12-16 10:47:01 abstract_stability_analyzer.py INFO    : Start testing of classifier 15 / 50\n",
      "2022-12-16 10:47:55 abstract_stability_analyzer.py INFO    : Classifier 15 / 50 was tested\n",
      "2022-12-16 10:47:55 abstract_stability_analyzer.py INFO    : Start testing of classifier 16 / 50\n",
      "2022-12-16 10:48:46 abstract_stability_analyzer.py INFO    : Classifier 16 / 50 was tested\n",
      "2022-12-16 10:48:46 abstract_stability_analyzer.py INFO    : Start testing of classifier 17 / 50\n",
      "2022-12-16 10:49:37 abstract_stability_analyzer.py INFO    : Classifier 17 / 50 was tested\n",
      "2022-12-16 10:49:37 abstract_stability_analyzer.py INFO    : Start testing of classifier 18 / 50\n",
      "2022-12-16 10:50:28 abstract_stability_analyzer.py INFO    : Classifier 18 / 50 was tested\n",
      "2022-12-16 10:50:28 abstract_stability_analyzer.py INFO    : Start testing of classifier 19 / 50\n",
      "2022-12-16 10:51:19 abstract_stability_analyzer.py INFO    : Classifier 19 / 50 was tested\n",
      "2022-12-16 10:51:19 abstract_stability_analyzer.py INFO    : Start testing of classifier 20 / 50\n",
      "2022-12-16 10:52:13 abstract_stability_analyzer.py INFO    : Classifier 20 / 50 was tested\n",
      "2022-12-16 10:52:13 abstract_stability_analyzer.py INFO    : Start testing of classifier 21 / 50\n",
      "2022-12-16 10:53:05 abstract_stability_analyzer.py INFO    : Classifier 21 / 50 was tested\n",
      "2022-12-16 10:53:05 abstract_stability_analyzer.py INFO    : Start testing of classifier 22 / 50\n",
      "2022-12-16 10:53:59 abstract_stability_analyzer.py INFO    : Classifier 22 / 50 was tested\n",
      "2022-12-16 10:53:59 abstract_stability_analyzer.py INFO    : Start testing of classifier 23 / 50\n",
      "2022-12-16 10:54:53 abstract_stability_analyzer.py INFO    : Classifier 23 / 50 was tested\n",
      "2022-12-16 10:54:53 abstract_stability_analyzer.py INFO    : Start testing of classifier 24 / 50\n",
      "2022-12-16 10:55:47 abstract_stability_analyzer.py INFO    : Classifier 24 / 50 was tested\n",
      "2022-12-16 10:55:47 abstract_stability_analyzer.py INFO    : Start testing of classifier 25 / 50\n",
      "2022-12-16 10:56:39 abstract_stability_analyzer.py INFO    : Classifier 25 / 50 was tested\n",
      "2022-12-16 10:56:39 abstract_stability_analyzer.py INFO    : Start testing of classifier 26 / 50\n",
      "2022-12-16 10:57:38 abstract_stability_analyzer.py INFO    : Classifier 26 / 50 was tested\n",
      "2022-12-16 10:57:38 abstract_stability_analyzer.py INFO    : Start testing of classifier 27 / 50\n",
      "2022-12-16 10:58:36 abstract_stability_analyzer.py INFO    : Classifier 27 / 50 was tested\n",
      "2022-12-16 10:58:36 abstract_stability_analyzer.py INFO    : Start testing of classifier 28 / 50\n",
      "2022-12-16 10:59:30 abstract_stability_analyzer.py INFO    : Classifier 28 / 50 was tested\n",
      "2022-12-16 10:59:30 abstract_stability_analyzer.py INFO    : Start testing of classifier 29 / 50\n",
      "2022-12-16 11:00:28 abstract_stability_analyzer.py INFO    : Classifier 29 / 50 was tested\n",
      "2022-12-16 11:00:28 abstract_stability_analyzer.py INFO    : Start testing of classifier 30 / 50\n",
      "2022-12-16 11:01:22 abstract_stability_analyzer.py INFO    : Classifier 30 / 50 was tested\n",
      "2022-12-16 11:01:22 abstract_stability_analyzer.py INFO    : Start testing of classifier 31 / 50\n",
      "2022-12-16 11:02:14 abstract_stability_analyzer.py INFO    : Classifier 31 / 50 was tested\n",
      "2022-12-16 11:02:14 abstract_stability_analyzer.py INFO    : Start testing of classifier 32 / 50\n",
      "2022-12-16 11:03:07 abstract_stability_analyzer.py INFO    : Classifier 32 / 50 was tested\n",
      "2022-12-16 11:03:07 abstract_stability_analyzer.py INFO    : Start testing of classifier 33 / 50\n",
      "2022-12-16 11:04:05 abstract_stability_analyzer.py INFO    : Classifier 33 / 50 was tested\n",
      "2022-12-16 11:04:05 abstract_stability_analyzer.py INFO    : Start testing of classifier 34 / 50\n",
      "2022-12-16 11:04:59 abstract_stability_analyzer.py INFO    : Classifier 34 / 50 was tested\n",
      "2022-12-16 11:04:59 abstract_stability_analyzer.py INFO    : Start testing of classifier 35 / 50\n",
      "2022-12-16 11:05:52 abstract_stability_analyzer.py INFO    : Classifier 35 / 50 was tested\n",
      "2022-12-16 11:05:52 abstract_stability_analyzer.py INFO    : Start testing of classifier 36 / 50\n",
      "2022-12-16 11:06:41 abstract_stability_analyzer.py INFO    : Classifier 36 / 50 was tested\n",
      "2022-12-16 11:06:41 abstract_stability_analyzer.py INFO    : Start testing of classifier 37 / 50\n",
      "2022-12-16 11:07:31 abstract_stability_analyzer.py INFO    : Classifier 37 / 50 was tested\n",
      "2022-12-16 11:07:31 abstract_stability_analyzer.py INFO    : Start testing of classifier 38 / 50\n",
      "2022-12-16 11:08:30 abstract_stability_analyzer.py INFO    : Classifier 38 / 50 was tested\n",
      "2022-12-16 11:08:30 abstract_stability_analyzer.py INFO    : Start testing of classifier 39 / 50\n",
      "2022-12-16 11:09:23 abstract_stability_analyzer.py INFO    : Classifier 39 / 50 was tested\n",
      "2022-12-16 11:09:23 abstract_stability_analyzer.py INFO    : Start testing of classifier 40 / 50\n",
      "2022-12-16 11:10:15 abstract_stability_analyzer.py INFO    : Classifier 40 / 50 was tested\n",
      "2022-12-16 11:10:15 abstract_stability_analyzer.py INFO    : Start testing of classifier 41 / 50\n",
      "2022-12-16 11:11:07 abstract_stability_analyzer.py INFO    : Classifier 41 / 50 was tested\n",
      "2022-12-16 11:11:07 abstract_stability_analyzer.py INFO    : Start testing of classifier 42 / 50\n",
      "2022-12-16 11:12:00 abstract_stability_analyzer.py INFO    : Classifier 42 / 50 was tested\n",
      "2022-12-16 11:12:00 abstract_stability_analyzer.py INFO    : Start testing of classifier 43 / 50\n",
      "2022-12-16 11:12:55 abstract_stability_analyzer.py INFO    : Classifier 43 / 50 was tested\n",
      "2022-12-16 11:12:55 abstract_stability_analyzer.py INFO    : Start testing of classifier 44 / 50\n",
      "2022-12-16 11:13:52 abstract_stability_analyzer.py INFO    : Classifier 44 / 50 was tested\n",
      "2022-12-16 11:13:52 abstract_stability_analyzer.py INFO    : Start testing of classifier 45 / 50\n",
      "2022-12-16 11:14:48 abstract_stability_analyzer.py INFO    : Classifier 45 / 50 was tested\n",
      "2022-12-16 11:14:48 abstract_stability_analyzer.py INFO    : Start testing of classifier 46 / 50\n",
      "2022-12-16 11:15:50 abstract_stability_analyzer.py INFO    : Classifier 46 / 50 was tested\n",
      "2022-12-16 11:15:50 abstract_stability_analyzer.py INFO    : Start testing of classifier 47 / 50\n",
      "2022-12-16 11:16:46 abstract_stability_analyzer.py INFO    : Classifier 47 / 50 was tested\n",
      "2022-12-16 11:16:46 abstract_stability_analyzer.py INFO    : Start testing of classifier 48 / 50\n",
      "2022-12-16 11:17:47 abstract_stability_analyzer.py INFO    : Classifier 48 / 50 was tested\n",
      "2022-12-16 11:17:47 abstract_stability_analyzer.py INFO    : Start testing of classifier 49 / 50\n",
      "2022-12-16 11:18:59 abstract_stability_analyzer.py INFO    : Classifier 49 / 50 was tested\n",
      "2022-12-16 11:18:59 abstract_stability_analyzer.py INFO    : Start testing of classifier 50 / 50\n",
      "2022-12-16 11:20:00 abstract_stability_analyzer.py INFO    : Classifier 50 / 50 was tested\n",
      "2022-12-16 11:20:31 abstract_stability_analyzer.py INFO    : Successfully computed predict proba metrics\n",
      "2022-12-16 11:20:40 abstract_stability_analyzer.py INFO    : Successfully computed predict labels metrics\n"
     ]
    },
    {
     "name": "stdout",
     "output_type": "stream",
     "text": [
      "\n",
      "\n",
      "##############################  Stability metrics  ##############################\n",
      "General Ensemble Accuracy: 0.8014\n",
      "Mean: 0.5398\n",
      "Std: 0.0841\n",
      "IQR: 0.1109\n",
      "Entropy: 0.0\n",
      "Jitter: 0.0999\n",
      "Per sample accuracy: 0.7899\n",
      "Label stability: 0.8624\n",
      "\n",
      "\n",
      "\n",
      "[Experiment 1] Metrics confusion matrix:\n"
     ]
    },
    {
     "data": {
      "text/plain": "                            overall  SEX_RAC1P_priv  SEX_RAC1P_dis  SEX_priv  \\\nGeneral_Ensemble_Accuracy  0.801400        0.836100       0.778700  0.834300   \nMean                       0.539800        0.492500       0.552400  0.520100   \nStd                        0.084100        0.078800       0.088200  0.077900   \nIQR                        0.110900        0.103100       0.116700  0.102200   \nEntropy                    0.000000        0.134500       0.175900  0.000000   \nJitter                     0.099900        0.086300       0.113100  0.086200   \nPer_Sample_Accuracy        0.789900        0.824600       0.768200  0.822600   \nLabel_Stability            0.862400        0.881300       0.841500  0.881600   \nTPR                        0.847341        0.873299       0.838323  0.878425   \nTNR                        0.765383        0.798473       0.734804  0.795363   \nPPV                        0.739455        0.813980       0.699611  0.790875   \nFNR                        0.152659        0.126701       0.161677  0.121575   \nFPR                        0.234617        0.201527       0.265196  0.204637   \nAccuracy                   0.801448        0.836068       0.778719  0.834267   \nF1                         0.789731        0.842597       0.762712  0.832354   \nSelection-Rate             0.504239        0.539046       0.508326  0.520220   \nPositive-Rate              1.145899        1.072876       1.198270  1.110700   \n\n                            SEX_dis  RAC1P_priv  RAC1P_dis  \nGeneral_Ensemble_Accuracy  0.770300    0.800400   0.803500  \nMean                       0.558600    0.527700   0.563700  \nStd                        0.090000    0.084900   0.082400  \nIQR                        0.119100    0.111900   0.108900  \nEntropy                    0.000000    0.155700   0.000000  \nJitter                     0.112900    0.099700   0.100200  \nPer_Sample_Accuracy        0.758900    0.788700   0.792200  \nLabel_Stability            0.844200    0.863100   0.860900  \nTPR                        0.813932    0.840184   0.862921  \nTNR                        0.739631    0.767337   0.761797  \nPPV                        0.687599    0.750257   0.717560  \nFNR                        0.186068    0.159816   0.137079  \nFPR                        0.260369    0.232663   0.238203  \nAccuracy                   0.770330    0.800418   0.803482  \nF1                         0.745451    0.792678   0.783555  \nSelection-Rate             0.489086    0.508549   0.495721  \nPositive-Rate              1.183731    1.119862   1.202577  ",
      "text/html": "<div>\n<style scoped>\n    .dataframe tbody tr th:only-of-type {\n        vertical-align: middle;\n    }\n\n    .dataframe tbody tr th {\n        vertical-align: top;\n    }\n\n    .dataframe thead th {\n        text-align: right;\n    }\n</style>\n<table border=\"1\" class=\"dataframe\">\n  <thead>\n    <tr style=\"text-align: right;\">\n      <th></th>\n      <th>overall</th>\n      <th>SEX_RAC1P_priv</th>\n      <th>SEX_RAC1P_dis</th>\n      <th>SEX_priv</th>\n      <th>SEX_dis</th>\n      <th>RAC1P_priv</th>\n      <th>RAC1P_dis</th>\n    </tr>\n  </thead>\n  <tbody>\n    <tr>\n      <th>General_Ensemble_Accuracy</th>\n      <td>0.801400</td>\n      <td>0.836100</td>\n      <td>0.778700</td>\n      <td>0.834300</td>\n      <td>0.770300</td>\n      <td>0.800400</td>\n      <td>0.803500</td>\n    </tr>\n    <tr>\n      <th>Mean</th>\n      <td>0.539800</td>\n      <td>0.492500</td>\n      <td>0.552400</td>\n      <td>0.520100</td>\n      <td>0.558600</td>\n      <td>0.527700</td>\n      <td>0.563700</td>\n    </tr>\n    <tr>\n      <th>Std</th>\n      <td>0.084100</td>\n      <td>0.078800</td>\n      <td>0.088200</td>\n      <td>0.077900</td>\n      <td>0.090000</td>\n      <td>0.084900</td>\n      <td>0.082400</td>\n    </tr>\n    <tr>\n      <th>IQR</th>\n      <td>0.110900</td>\n      <td>0.103100</td>\n      <td>0.116700</td>\n      <td>0.102200</td>\n      <td>0.119100</td>\n      <td>0.111900</td>\n      <td>0.108900</td>\n    </tr>\n    <tr>\n      <th>Entropy</th>\n      <td>0.000000</td>\n      <td>0.134500</td>\n      <td>0.175900</td>\n      <td>0.000000</td>\n      <td>0.000000</td>\n      <td>0.155700</td>\n      <td>0.000000</td>\n    </tr>\n    <tr>\n      <th>Jitter</th>\n      <td>0.099900</td>\n      <td>0.086300</td>\n      <td>0.113100</td>\n      <td>0.086200</td>\n      <td>0.112900</td>\n      <td>0.099700</td>\n      <td>0.100200</td>\n    </tr>\n    <tr>\n      <th>Per_Sample_Accuracy</th>\n      <td>0.789900</td>\n      <td>0.824600</td>\n      <td>0.768200</td>\n      <td>0.822600</td>\n      <td>0.758900</td>\n      <td>0.788700</td>\n      <td>0.792200</td>\n    </tr>\n    <tr>\n      <th>Label_Stability</th>\n      <td>0.862400</td>\n      <td>0.881300</td>\n      <td>0.841500</td>\n      <td>0.881600</td>\n      <td>0.844200</td>\n      <td>0.863100</td>\n      <td>0.860900</td>\n    </tr>\n    <tr>\n      <th>TPR</th>\n      <td>0.847341</td>\n      <td>0.873299</td>\n      <td>0.838323</td>\n      <td>0.878425</td>\n      <td>0.813932</td>\n      <td>0.840184</td>\n      <td>0.862921</td>\n    </tr>\n    <tr>\n      <th>TNR</th>\n      <td>0.765383</td>\n      <td>0.798473</td>\n      <td>0.734804</td>\n      <td>0.795363</td>\n      <td>0.739631</td>\n      <td>0.767337</td>\n      <td>0.761797</td>\n    </tr>\n    <tr>\n      <th>PPV</th>\n      <td>0.739455</td>\n      <td>0.813980</td>\n      <td>0.699611</td>\n      <td>0.790875</td>\n      <td>0.687599</td>\n      <td>0.750257</td>\n      <td>0.717560</td>\n    </tr>\n    <tr>\n      <th>FNR</th>\n      <td>0.152659</td>\n      <td>0.126701</td>\n      <td>0.161677</td>\n      <td>0.121575</td>\n      <td>0.186068</td>\n      <td>0.159816</td>\n      <td>0.137079</td>\n    </tr>\n    <tr>\n      <th>FPR</th>\n      <td>0.234617</td>\n      <td>0.201527</td>\n      <td>0.265196</td>\n      <td>0.204637</td>\n      <td>0.260369</td>\n      <td>0.232663</td>\n      <td>0.238203</td>\n    </tr>\n    <tr>\n      <th>Accuracy</th>\n      <td>0.801448</td>\n      <td>0.836068</td>\n      <td>0.778719</td>\n      <td>0.834267</td>\n      <td>0.770330</td>\n      <td>0.800418</td>\n      <td>0.803482</td>\n    </tr>\n    <tr>\n      <th>F1</th>\n      <td>0.789731</td>\n      <td>0.842597</td>\n      <td>0.762712</td>\n      <td>0.832354</td>\n      <td>0.745451</td>\n      <td>0.792678</td>\n      <td>0.783555</td>\n    </tr>\n    <tr>\n      <th>Selection-Rate</th>\n      <td>0.504239</td>\n      <td>0.539046</td>\n      <td>0.508326</td>\n      <td>0.520220</td>\n      <td>0.489086</td>\n      <td>0.508549</td>\n      <td>0.495721</td>\n    </tr>\n    <tr>\n      <th>Positive-Rate</th>\n      <td>1.145899</td>\n      <td>1.072876</td>\n      <td>1.198270</td>\n      <td>1.110700</td>\n      <td>1.183731</td>\n      <td>1.119862</td>\n      <td>1.202577</td>\n    </tr>\n  </tbody>\n</table>\n</div>"
     },
     "metadata": {},
     "output_type": "display_data"
    },
    {
     "name": "stderr",
     "output_type": "stream",
     "text": [
      "100%|██████████| 2/2 [57:23<00:00, 1721.68s/it]"
     ]
    },
    {
     "name": "stdout",
     "output_type": "stream",
     "text": [
      "\n",
      "\n",
      "\n",
      "\n"
     ]
    },
    {
     "name": "stderr",
     "output_type": "stream",
     "text": [
      "\n"
     ]
    }
   ],
   "source": [
    "# TOD: add dataset as a parameter\n",
    "run_experiment(exp_num=1, model_seed=100)"
   ],
   "metadata": {
    "collapsed": false,
    "pycharm": {
     "name": "#%%\n"
    }
   }
  },
  {
   "cell_type": "markdown",
   "source": [
    "### Experiment 2"
   ],
   "metadata": {
    "collapsed": false
   }
  },
  {
   "cell_type": "code",
   "execution_count": 37,
   "outputs": [],
   "source": [
    "# run_experiment(exp_num=2, model_seed=200)"
   ],
   "metadata": {
    "collapsed": false,
    "pycharm": {
     "name": "#%%\n"
    }
   }
  },
  {
   "cell_type": "code",
   "execution_count": 37,
   "outputs": [],
   "source": [],
   "metadata": {
    "collapsed": false,
    "pycharm": {
     "name": "#%%\n"
    }
   }
  }
 ],
 "metadata": {
  "kernelspec": {
   "display_name": "Python 3 (ipykernel)",
   "language": "python",
   "name": "python3"
  },
  "language_info": {
   "codemirror_mode": {
    "name": "ipython",
    "version": 3
   },
   "file_extension": ".py",
   "mimetype": "text/x-python",
   "name": "python",
   "nbconvert_exporter": "python",
   "pygments_lexer": "ipython3",
   "version": "3.9.7"
  }
 },
 "nbformat": 4,
 "nbformat_minor": 5
}