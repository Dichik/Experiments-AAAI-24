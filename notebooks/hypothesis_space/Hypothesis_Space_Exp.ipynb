{
 "cells": [
  {
   "cell_type": "code",
   "execution_count": 1,
   "outputs": [],
   "source": [
    "%matplotlib inline\n",
    "%load_ext autoreload\n",
    "%autoreload 2"
   ],
   "metadata": {
    "collapsed": false,
    "pycharm": {
     "name": "#%%\n"
    }
   }
  },
  {
   "cell_type": "code",
   "execution_count": 2,
   "outputs": [],
   "source": [
    "import os\n",
    "import warnings\n",
    "warnings.filterwarnings('ignore')\n",
    "os.environ[\"PYTHONWARNINGS\"] = \"ignore\""
   ],
   "metadata": {
    "collapsed": false,
    "pycharm": {
     "name": "#%%\n"
    }
   }
  },
  {
   "cell_type": "markdown",
   "source": [
    "## Import dependencies"
   ],
   "metadata": {
    "collapsed": false
   }
  },
  {
   "cell_type": "code",
   "execution_count": 3,
   "id": "7a9241de",
   "metadata": {},
   "outputs": [],
   "source": [
    "import os\n",
    "import pandas as pd\n",
    "from IPython.display import display\n",
    "\n",
    "from configs import config\n",
    "from utils.common_helpers import create_tuned_base_model\n",
    "from utils.data_loader import ACSEmploymentDataset\n",
    "from utils.generic_pipeline import GenericPipeline\n",
    "from utils.generic_analyzer import GenericAnalyzer"
   ]
  },
  {
   "cell_type": "markdown",
   "source": [
    "## Configs"
   ],
   "metadata": {
    "collapsed": false
   }
  },
  {
   "cell_type": "code",
   "execution_count": 4,
   "outputs": [],
   "source": [
    "STATE = config.DATASET_CONFIG['state']\n",
    "YEAR = config.DATASET_CONFIG['year']\n",
    "DATASET_NAME = f\"Folktables_{STATE}_{YEAR}\"\n",
    "\n",
    "SEX_priv = RACE_priv = str(1)\n",
    "PROTECTED_GROUPS = ['SEX','RAC1P']\n",
    "PRIV_VALUES = [SEX_priv, RACE_priv]\n",
    "TUNED_PARAMS_FILE_PATH = os.path.join('..', '..', 'results', 'models_tuning', 'tuning_results_Folktables_GA_2018_20221215__105658.csv')"
   ],
   "metadata": {
    "collapsed": false,
    "pycharm": {
     "name": "#%%\n"
    }
   }
  },
  {
   "cell_type": "markdown",
   "source": [
    "## Models tuned hyper-parameters"
   ],
   "metadata": {
    "collapsed": false
   }
  },
  {
   "cell_type": "code",
   "execution_count": 5,
   "outputs": [
    {
     "data": {
      "text/plain": "   Unnamed: 0        Dataset_Name                   Model_Name  F1_Score  \\\n0           0  Folktables_GA_2018           LogisticRegression    0.8117   \n1           1  Folktables_GA_2018       DecisionTreeClassifier    0.8228   \n2           2  Folktables_GA_2018       RandomForestClassifier    0.8292   \n3           3  Folktables_GA_2018                XGBClassifier    0.8313   \n4           4  Folktables_GA_2018         KNeighborsClassifier    0.8063   \n5           5  Folktables_GA_2018         MLPClassifier_1L_100       NaN   \n6           6  Folktables_GA_2018  MLPClassifier_3L_100_50_100       NaN   \n7           7  Folktables_GA_2018                          SVC    0.8247   \n\n   Accuracy_Score                                  Model_Best_Params  \n0          0.8122  {'max_iter': 50, 'penalty': 'l2', 'solver': 'l...  \n1          0.8230  {'criterion': 'entropy', 'max_depth': 10, 'max...  \n2          0.8295  {'max_depth': 10, 'max_features': 0.6, 'min_sa...  \n3          0.8318  {'learning_rate': 0.1, 'max_depth': 5, 'n_esti...  \n4          0.8068  {'metric': 'manhattan', 'n_neighbors': 15, 'we...  \n5             NaN                                                 {}  \n6             NaN                                                 {}  \n7          0.8250       {'C': 1000, 'gamma': 0.001, 'kernel': 'rbf'}  ",
      "text/html": "<div>\n<style scoped>\n    .dataframe tbody tr th:only-of-type {\n        vertical-align: middle;\n    }\n\n    .dataframe tbody tr th {\n        vertical-align: top;\n    }\n\n    .dataframe thead th {\n        text-align: right;\n    }\n</style>\n<table border=\"1\" class=\"dataframe\">\n  <thead>\n    <tr style=\"text-align: right;\">\n      <th></th>\n      <th>Unnamed: 0</th>\n      <th>Dataset_Name</th>\n      <th>Model_Name</th>\n      <th>F1_Score</th>\n      <th>Accuracy_Score</th>\n      <th>Model_Best_Params</th>\n    </tr>\n  </thead>\n  <tbody>\n    <tr>\n      <th>0</th>\n      <td>0</td>\n      <td>Folktables_GA_2018</td>\n      <td>LogisticRegression</td>\n      <td>0.8117</td>\n      <td>0.8122</td>\n      <td>{'max_iter': 50, 'penalty': 'l2', 'solver': 'l...</td>\n    </tr>\n    <tr>\n      <th>1</th>\n      <td>1</td>\n      <td>Folktables_GA_2018</td>\n      <td>DecisionTreeClassifier</td>\n      <td>0.8228</td>\n      <td>0.8230</td>\n      <td>{'criterion': 'entropy', 'max_depth': 10, 'max...</td>\n    </tr>\n    <tr>\n      <th>2</th>\n      <td>2</td>\n      <td>Folktables_GA_2018</td>\n      <td>RandomForestClassifier</td>\n      <td>0.8292</td>\n      <td>0.8295</td>\n      <td>{'max_depth': 10, 'max_features': 0.6, 'min_sa...</td>\n    </tr>\n    <tr>\n      <th>3</th>\n      <td>3</td>\n      <td>Folktables_GA_2018</td>\n      <td>XGBClassifier</td>\n      <td>0.8313</td>\n      <td>0.8318</td>\n      <td>{'learning_rate': 0.1, 'max_depth': 5, 'n_esti...</td>\n    </tr>\n    <tr>\n      <th>4</th>\n      <td>4</td>\n      <td>Folktables_GA_2018</td>\n      <td>KNeighborsClassifier</td>\n      <td>0.8063</td>\n      <td>0.8068</td>\n      <td>{'metric': 'manhattan', 'n_neighbors': 15, 'we...</td>\n    </tr>\n    <tr>\n      <th>5</th>\n      <td>5</td>\n      <td>Folktables_GA_2018</td>\n      <td>MLPClassifier_1L_100</td>\n      <td>NaN</td>\n      <td>NaN</td>\n      <td>{}</td>\n    </tr>\n    <tr>\n      <th>6</th>\n      <td>6</td>\n      <td>Folktables_GA_2018</td>\n      <td>MLPClassifier_3L_100_50_100</td>\n      <td>NaN</td>\n      <td>NaN</td>\n      <td>{}</td>\n    </tr>\n    <tr>\n      <th>7</th>\n      <td>7</td>\n      <td>Folktables_GA_2018</td>\n      <td>SVC</td>\n      <td>0.8247</td>\n      <td>0.8250</td>\n      <td>{'C': 1000, 'gamma': 0.001, 'kernel': 'rbf'}</td>\n    </tr>\n  </tbody>\n</table>\n</div>"
     },
     "execution_count": 5,
     "metadata": {},
     "output_type": "execute_result"
    }
   ],
   "source": [
    "models_tuned_params_df = pd.read_csv(TUNED_PARAMS_FILE_PATH)\n",
    "models_tuned_params_df"
   ],
   "metadata": {
    "collapsed": false,
    "pycharm": {
     "name": "#%%\n"
    }
   }
  },
  {
   "cell_type": "markdown",
   "source": [
    "## Preprocess dataset"
   ],
   "metadata": {
    "collapsed": false
   }
  },
  {
   "cell_type": "code",
   "execution_count": 6,
   "id": "fafa0c9c",
   "metadata": {},
   "outputs": [
    {
     "data": {
      "text/plain": "  MAR MIL ESP MIG DREM NATIVITY DIS DEAR DEYE SEX RAC1P RELP CIT ANC SCHL  \\\n0   5   4   0   3    2        1   2    2    2   1     2   16   1   1   13   \n1   3   4   0   1    2        1   1    2    1   2     1   16   1   4   16   \n2   5   4   0   1    1        1   1    2    2   2     2   17   1   4   20   \n3   1   4   0   1    2        1   2    2    2   1     2   16   1   1   17   \n4   5   4   0   1    2        1   2    2    2   2     1   16   1   1   19   \n\n   AGEP  \n0    51  \n1    56  \n2    23  \n3    43  \n4    20  ",
      "text/html": "<div>\n<style scoped>\n    .dataframe tbody tr th:only-of-type {\n        vertical-align: middle;\n    }\n\n    .dataframe tbody tr th {\n        vertical-align: top;\n    }\n\n    .dataframe thead th {\n        text-align: right;\n    }\n</style>\n<table border=\"1\" class=\"dataframe\">\n  <thead>\n    <tr style=\"text-align: right;\">\n      <th></th>\n      <th>MAR</th>\n      <th>MIL</th>\n      <th>ESP</th>\n      <th>MIG</th>\n      <th>DREM</th>\n      <th>NATIVITY</th>\n      <th>DIS</th>\n      <th>DEAR</th>\n      <th>DEYE</th>\n      <th>SEX</th>\n      <th>RAC1P</th>\n      <th>RELP</th>\n      <th>CIT</th>\n      <th>ANC</th>\n      <th>SCHL</th>\n      <th>AGEP</th>\n    </tr>\n  </thead>\n  <tbody>\n    <tr>\n      <th>0</th>\n      <td>5</td>\n      <td>4</td>\n      <td>0</td>\n      <td>3</td>\n      <td>2</td>\n      <td>1</td>\n      <td>2</td>\n      <td>2</td>\n      <td>2</td>\n      <td>1</td>\n      <td>2</td>\n      <td>16</td>\n      <td>1</td>\n      <td>1</td>\n      <td>13</td>\n      <td>51</td>\n    </tr>\n    <tr>\n      <th>1</th>\n      <td>3</td>\n      <td>4</td>\n      <td>0</td>\n      <td>1</td>\n      <td>2</td>\n      <td>1</td>\n      <td>1</td>\n      <td>2</td>\n      <td>1</td>\n      <td>2</td>\n      <td>1</td>\n      <td>16</td>\n      <td>1</td>\n      <td>4</td>\n      <td>16</td>\n      <td>56</td>\n    </tr>\n    <tr>\n      <th>2</th>\n      <td>5</td>\n      <td>4</td>\n      <td>0</td>\n      <td>1</td>\n      <td>1</td>\n      <td>1</td>\n      <td>1</td>\n      <td>2</td>\n      <td>2</td>\n      <td>2</td>\n      <td>2</td>\n      <td>17</td>\n      <td>1</td>\n      <td>4</td>\n      <td>20</td>\n      <td>23</td>\n    </tr>\n    <tr>\n      <th>3</th>\n      <td>1</td>\n      <td>4</td>\n      <td>0</td>\n      <td>1</td>\n      <td>2</td>\n      <td>1</td>\n      <td>2</td>\n      <td>2</td>\n      <td>2</td>\n      <td>1</td>\n      <td>2</td>\n      <td>16</td>\n      <td>1</td>\n      <td>1</td>\n      <td>17</td>\n      <td>43</td>\n    </tr>\n    <tr>\n      <th>4</th>\n      <td>5</td>\n      <td>4</td>\n      <td>0</td>\n      <td>1</td>\n      <td>2</td>\n      <td>1</td>\n      <td>2</td>\n      <td>2</td>\n      <td>2</td>\n      <td>2</td>\n      <td>1</td>\n      <td>16</td>\n      <td>1</td>\n      <td>1</td>\n      <td>19</td>\n      <td>20</td>\n    </tr>\n  </tbody>\n</table>\n</div>"
     },
     "execution_count": 6,
     "metadata": {},
     "output_type": "execute_result"
    }
   ],
   "source": [
    "dataset = ACSEmploymentDataset(state=[STATE], year=YEAR, root_dir=os.path.join('..', '..', 'data'), with_nulls=False)\n",
    "dataset.X_data.head()"
   ]
  },
  {
   "cell_type": "markdown",
   "source": [
    "## Run experiments"
   ],
   "metadata": {
    "collapsed": false
   }
  },
  {
   "cell_type": "code",
   "execution_count": 7,
   "outputs": [],
   "source": [
    "def create_base_pipeline(dataset, protected_groups, priv_values, model_seed):\n",
    "    base_pipeline = GenericPipeline(dataset, protected_groups, priv_values)\n",
    "    _ = base_pipeline.create_preprocessed_train_test_split(dataset, config.TEST_SET_FRACTION, seed=model_seed)\n",
    "\n",
    "    print('\\nProtected groups splits:')\n",
    "    for g in base_pipeline.test_groups.keys():\n",
    "        print(g, base_pipeline.test_groups[g].shape)\n",
    "\n",
    "    return base_pipeline\n",
    "\n",
    "\n",
    "def get_model_metrics(base_model, dataset, protected_groups, priv_values, model_seed,\n",
    "                      dataset_name, base_model_name, exp_num=1):\n",
    "    base_pipeline = create_base_pipeline(dataset, protected_groups, priv_values, model_seed)\n",
    "\n",
    "    base_model.fit(base_pipeline.X_train_val, base_pipeline.y_train_val)\n",
    "    y_preds = base_model.predict(base_pipeline.X_test)\n",
    "\n",
    "    analyzer = GenericAnalyzer(base_pipeline.X_test, base_pipeline.y_test,\n",
    "                               ['SEX','RAC1P'], [SEX_priv, RACE_priv],\n",
    "                               base_pipeline.test_groups)\n",
    "    dtc_res = analyzer.compute_metrics(y_preds, base_model_name)\n",
    "    analyzer.save_metrics_to_file(dataset_name, base_model_name, exp_num=exp_num)\n",
    "\n",
    "    results_df = pd.DataFrame(dtc_res)\n",
    "    return results_df\n"
   ],
   "metadata": {
    "collapsed": false,
    "pycharm": {
     "name": "#%%\n"
    }
   }
  },
  {
   "cell_type": "code",
   "execution_count": 8,
   "outputs": [],
   "source": [
    "def run_experiment(exp_num, model_seed):\n",
    "    for model_idx in range(len(config.MODELS_CONFIG)):\n",
    "        print('#' * 30, f' [Experiment {exp_num}] Analyze {config.MODELS_CONFIG[model_idx][\"model_name\"]} ', '#' * 30)\n",
    "        model_seed += 1\n",
    "        base_model = create_tuned_base_model(config.MODELS_CONFIG[model_idx]['model'],\n",
    "                                             config.MODELS_CONFIG[model_idx]['model_name'],\n",
    "                                             models_tuned_params_df)\n",
    "        results_df = get_model_metrics(base_model, dataset, PROTECTED_GROUPS, PRIV_VALUES,\n",
    "                                       model_seed=model_seed,\n",
    "                                       dataset_name=DATASET_NAME,\n",
    "                                       base_model_name=config.MODELS_CONFIG[model_idx]['model_name'],\n",
    "                                       exp_num=exp_num)\n",
    "        print(f'\\n[Experiment {exp_num}] Metrics confusion matrix:')\n",
    "        display(results_df)\n",
    "\n",
    "        print('\\n\\n\\n')\n"
   ],
   "metadata": {
    "collapsed": false,
    "pycharm": {
     "name": "#%%\n"
    }
   }
  },
  {
   "cell_type": "markdown",
   "source": [
    "### Experiment 1"
   ],
   "metadata": {
    "collapsed": false
   }
  },
  {
   "cell_type": "code",
   "execution_count": 9,
   "outputs": [
    {
     "name": "stdout",
     "output_type": "stream",
     "text": [
      "##############################  [Experiment 1] Analyze MLPClassifier_1L_100  ##############################\n",
      "Baseline X_train shape:  (80684, 16)\n",
      "Baseline X_test shape:  (20171, 16)\n",
      "\n",
      "Protected groups splits:\n",
      "SEX_RAC1P_priv (6609, 16)\n",
      "SEX_RAC1P_dis (3662, 16)\n",
      "SEX_priv (9901, 16)\n",
      "SEX_dis (10270, 16)\n",
      "RAC1P_priv (13217, 16)\n",
      "RAC1P_dis (6954, 16)\n",
      "\n",
      "[Experiment 1] Metrics confusion matrix:\n"
     ]
    },
    {
     "data": {
      "text/plain": "                 overall  SEX_RAC1P_priv  SEX_RAC1P_dis  SEX_priv   SEX_dis  \\\nTPR             0.832649        0.876481       0.811528  0.864673  0.796454   \nTNR             0.795341        0.813177       0.768178  0.821484  0.773179   \nPPV             0.766629        0.830480       0.718463  0.818938  0.710909   \nFNR             0.167351        0.123519       0.188472  0.135327  0.203546   \nFPR             0.204659        0.186823       0.231822  0.178516  0.226821   \nAccuracy        0.812007        0.845514       0.786455  0.842339  0.782765   \nF1              0.798276        0.852861       0.762165  0.841184  0.751254   \nSelection-Rate  0.485202        0.539113       0.476242  0.509847  0.461441   \nPositive-Rate   1.086117        1.055391       1.129534  1.055846  1.120331   \n\n                RAC1P_priv  RAC1P_dis  \nTPR               0.837182   0.823330  \nTNR               0.792732   0.800000  \nPPV               0.773864   0.751936  \nFNR               0.162818   0.176670  \nFPR               0.207268   0.200000  \nAccuracy          0.813119   0.809894  \nF1                0.804279   0.786015  \nSelection-Rate    0.496179   0.464337  \nPositive-Rate     1.081821   1.094947  ",
      "text/html": "<div>\n<style scoped>\n    .dataframe tbody tr th:only-of-type {\n        vertical-align: middle;\n    }\n\n    .dataframe tbody tr th {\n        vertical-align: top;\n    }\n\n    .dataframe thead th {\n        text-align: right;\n    }\n</style>\n<table border=\"1\" class=\"dataframe\">\n  <thead>\n    <tr style=\"text-align: right;\">\n      <th></th>\n      <th>overall</th>\n      <th>SEX_RAC1P_priv</th>\n      <th>SEX_RAC1P_dis</th>\n      <th>SEX_priv</th>\n      <th>SEX_dis</th>\n      <th>RAC1P_priv</th>\n      <th>RAC1P_dis</th>\n    </tr>\n  </thead>\n  <tbody>\n    <tr>\n      <th>TPR</th>\n      <td>0.832649</td>\n      <td>0.876481</td>\n      <td>0.811528</td>\n      <td>0.864673</td>\n      <td>0.796454</td>\n      <td>0.837182</td>\n      <td>0.823330</td>\n    </tr>\n    <tr>\n      <th>TNR</th>\n      <td>0.795341</td>\n      <td>0.813177</td>\n      <td>0.768178</td>\n      <td>0.821484</td>\n      <td>0.773179</td>\n      <td>0.792732</td>\n      <td>0.800000</td>\n    </tr>\n    <tr>\n      <th>PPV</th>\n      <td>0.766629</td>\n      <td>0.830480</td>\n      <td>0.718463</td>\n      <td>0.818938</td>\n      <td>0.710909</td>\n      <td>0.773864</td>\n      <td>0.751936</td>\n    </tr>\n    <tr>\n      <th>FNR</th>\n      <td>0.167351</td>\n      <td>0.123519</td>\n      <td>0.188472</td>\n      <td>0.135327</td>\n      <td>0.203546</td>\n      <td>0.162818</td>\n      <td>0.176670</td>\n    </tr>\n    <tr>\n      <th>FPR</th>\n      <td>0.204659</td>\n      <td>0.186823</td>\n      <td>0.231822</td>\n      <td>0.178516</td>\n      <td>0.226821</td>\n      <td>0.207268</td>\n      <td>0.200000</td>\n    </tr>\n    <tr>\n      <th>Accuracy</th>\n      <td>0.812007</td>\n      <td>0.845514</td>\n      <td>0.786455</td>\n      <td>0.842339</td>\n      <td>0.782765</td>\n      <td>0.813119</td>\n      <td>0.809894</td>\n    </tr>\n    <tr>\n      <th>F1</th>\n      <td>0.798276</td>\n      <td>0.852861</td>\n      <td>0.762165</td>\n      <td>0.841184</td>\n      <td>0.751254</td>\n      <td>0.804279</td>\n      <td>0.786015</td>\n    </tr>\n    <tr>\n      <th>Selection-Rate</th>\n      <td>0.485202</td>\n      <td>0.539113</td>\n      <td>0.476242</td>\n      <td>0.509847</td>\n      <td>0.461441</td>\n      <td>0.496179</td>\n      <td>0.464337</td>\n    </tr>\n    <tr>\n      <th>Positive-Rate</th>\n      <td>1.086117</td>\n      <td>1.055391</td>\n      <td>1.129534</td>\n      <td>1.055846</td>\n      <td>1.120331</td>\n      <td>1.081821</td>\n      <td>1.094947</td>\n    </tr>\n  </tbody>\n</table>\n</div>"
     },
     "metadata": {},
     "output_type": "display_data"
    },
    {
     "name": "stdout",
     "output_type": "stream",
     "text": [
      "\n",
      "\n",
      "\n",
      "\n",
      "##############################  [Experiment 1] Analyze MLPClassifier_3L_100_50_100  ##############################\n",
      "Baseline X_train shape:  (80684, 16)\n",
      "Baseline X_test shape:  (20171, 16)\n",
      "\n",
      "Protected groups splits:\n",
      "SEX_RAC1P_priv (6582, 16)\n",
      "SEX_RAC1P_dis (3543, 16)\n",
      "SEX_priv (9817, 16)\n",
      "SEX_dis (10354, 16)\n",
      "RAC1P_priv (13393, 16)\n",
      "RAC1P_dis (6778, 16)\n",
      "\n",
      "[Experiment 1] Metrics confusion matrix:\n"
     ]
    },
    {
     "data": {
      "text/plain": "                 overall  SEX_RAC1P_priv  SEX_RAC1P_dis  SEX_priv   SEX_dis  \\\nTPR             0.845426        0.874811       0.827013  0.872988  0.815802   \nTNR             0.798052        0.835725       0.771078  0.837517  0.764154   \nPPV             0.766888        0.843194       0.726901  0.825586  0.708917   \nFNR             0.154574        0.125189       0.172987  0.127012  0.184198   \nFPR             0.201948        0.164275       0.228922  0.162483  0.235846   \nAccuracy        0.818898        0.855363       0.794807  0.854131  0.785494   \nF1              0.804244        0.858712       0.773732  0.848626  0.758613   \nSelection-Rate  0.485102        0.521270       0.482642  0.495263  0.475468   \nPositive-Rate   1.102411        1.037496       1.137725  1.057416  1.150771   \n\n                RAC1P_priv  RAC1P_dis  \nTPR               0.845117   0.846099  \nTNR               0.794283   0.804970  \nPPV               0.773630   0.752627  \nFNR               0.154883   0.153901  \nFPR               0.205717   0.195030  \nAccuracy          0.817367   0.821924  \nF1                0.807795   0.796630  \nSelection-Rate    0.496080   0.463411  \nPositive-Rate     1.092404   1.124195  ",
      "text/html": "<div>\n<style scoped>\n    .dataframe tbody tr th:only-of-type {\n        vertical-align: middle;\n    }\n\n    .dataframe tbody tr th {\n        vertical-align: top;\n    }\n\n    .dataframe thead th {\n        text-align: right;\n    }\n</style>\n<table border=\"1\" class=\"dataframe\">\n  <thead>\n    <tr style=\"text-align: right;\">\n      <th></th>\n      <th>overall</th>\n      <th>SEX_RAC1P_priv</th>\n      <th>SEX_RAC1P_dis</th>\n      <th>SEX_priv</th>\n      <th>SEX_dis</th>\n      <th>RAC1P_priv</th>\n      <th>RAC1P_dis</th>\n    </tr>\n  </thead>\n  <tbody>\n    <tr>\n      <th>TPR</th>\n      <td>0.845426</td>\n      <td>0.874811</td>\n      <td>0.827013</td>\n      <td>0.872988</td>\n      <td>0.815802</td>\n      <td>0.845117</td>\n      <td>0.846099</td>\n    </tr>\n    <tr>\n      <th>TNR</th>\n      <td>0.798052</td>\n      <td>0.835725</td>\n      <td>0.771078</td>\n      <td>0.837517</td>\n      <td>0.764154</td>\n      <td>0.794283</td>\n      <td>0.804970</td>\n    </tr>\n    <tr>\n      <th>PPV</th>\n      <td>0.766888</td>\n      <td>0.843194</td>\n      <td>0.726901</td>\n      <td>0.825586</td>\n      <td>0.708917</td>\n      <td>0.773630</td>\n      <td>0.752627</td>\n    </tr>\n    <tr>\n      <th>FNR</th>\n      <td>0.154574</td>\n      <td>0.125189</td>\n      <td>0.172987</td>\n      <td>0.127012</td>\n      <td>0.184198</td>\n      <td>0.154883</td>\n      <td>0.153901</td>\n    </tr>\n    <tr>\n      <th>FPR</th>\n      <td>0.201948</td>\n      <td>0.164275</td>\n      <td>0.228922</td>\n      <td>0.162483</td>\n      <td>0.235846</td>\n      <td>0.205717</td>\n      <td>0.195030</td>\n    </tr>\n    <tr>\n      <th>Accuracy</th>\n      <td>0.818898</td>\n      <td>0.855363</td>\n      <td>0.794807</td>\n      <td>0.854131</td>\n      <td>0.785494</td>\n      <td>0.817367</td>\n      <td>0.821924</td>\n    </tr>\n    <tr>\n      <th>F1</th>\n      <td>0.804244</td>\n      <td>0.858712</td>\n      <td>0.773732</td>\n      <td>0.848626</td>\n      <td>0.758613</td>\n      <td>0.807795</td>\n      <td>0.796630</td>\n    </tr>\n    <tr>\n      <th>Selection-Rate</th>\n      <td>0.485102</td>\n      <td>0.521270</td>\n      <td>0.482642</td>\n      <td>0.495263</td>\n      <td>0.475468</td>\n      <td>0.496080</td>\n      <td>0.463411</td>\n    </tr>\n    <tr>\n      <th>Positive-Rate</th>\n      <td>1.102411</td>\n      <td>1.037496</td>\n      <td>1.137725</td>\n      <td>1.057416</td>\n      <td>1.150771</td>\n      <td>1.092404</td>\n      <td>1.124195</td>\n    </tr>\n  </tbody>\n</table>\n</div>"
     },
     "metadata": {},
     "output_type": "display_data"
    },
    {
     "name": "stdout",
     "output_type": "stream",
     "text": [
      "\n",
      "\n",
      "\n",
      "\n"
     ]
    }
   ],
   "source": [
    "# TOD: add dataset as a parameter\n",
    "run_experiment(exp_num=1, model_seed=100)"
   ],
   "metadata": {
    "collapsed": false,
    "pycharm": {
     "name": "#%%\n"
    }
   }
  },
  {
   "cell_type": "markdown",
   "source": [
    "### Experiment 2"
   ],
   "metadata": {
    "collapsed": false
   }
  },
  {
   "cell_type": "code",
   "execution_count": 73,
   "outputs": [
    {
     "name": "stdout",
     "output_type": "stream",
     "text": [
      "##############################  [Experiment 2] Analyze LogisticRegression  ##############################\n",
      "Baseline X_train shape:  (80684, 16)\n",
      "Baseline X_test shape:  (20171, 16)\n",
      "\n",
      "Protected groups splits:\n",
      "SEX_RAC1P_priv (6538, 16)\n",
      "SEX_RAC1P_dis (3565, 16)\n",
      "SEX_priv (9822, 16)\n",
      "SEX_dis (10349, 16)\n",
      "RAC1P_priv (13322, 16)\n",
      "RAC1P_dis (6849, 16)\n",
      "\n",
      "[Experiment 2] Metrics confusion matrix:\n"
     ]
    },
    {
     "data": {
      "text/plain": "                 overall  SEX_RAC1P_priv  SEX_RAC1P_dis  SEX_priv   SEX_dis  \\\nTPR             0.844023        0.898191       0.801061  0.897001  0.787535   \nTNR             0.787434        0.794934       0.794847  0.796552  0.779546   \nPPV             0.758847        0.813385       0.741104  0.795376  0.718757   \nFNR             0.155977        0.101809       0.198939  0.102999  0.212465   \nFPR             0.212566        0.205066       0.205153  0.203448  0.220454   \nAccuracy        0.812454        0.846436       0.797475  0.843616  0.782878   \nF1              0.799172        0.853687       0.769917  0.843137  0.751575   \nSelection-Rate  0.491746        0.550780       0.457223  0.528406  0.456952   \nPositive-Rate   1.112245        1.104262       1.080902  1.127771  1.095690   \n\n                RAC1P_priv  RAC1P_dis  \nTPR               0.843632   0.844858  \nTNR               0.782159   0.797000  \nPPV               0.764179   0.747748  \nFNR               0.156368   0.155142  \nFPR               0.217841   0.203000  \nAccuracy          0.810164   0.816908  \nF1                0.801942   0.793342  \nSelection-Rate    0.502927   0.469996  \nPositive-Rate     1.103971   1.129870  ",
      "text/html": "<div>\n<style scoped>\n    .dataframe tbody tr th:only-of-type {\n        vertical-align: middle;\n    }\n\n    .dataframe tbody tr th {\n        vertical-align: top;\n    }\n\n    .dataframe thead th {\n        text-align: right;\n    }\n</style>\n<table border=\"1\" class=\"dataframe\">\n  <thead>\n    <tr style=\"text-align: right;\">\n      <th></th>\n      <th>overall</th>\n      <th>SEX_RAC1P_priv</th>\n      <th>SEX_RAC1P_dis</th>\n      <th>SEX_priv</th>\n      <th>SEX_dis</th>\n      <th>RAC1P_priv</th>\n      <th>RAC1P_dis</th>\n    </tr>\n  </thead>\n  <tbody>\n    <tr>\n      <th>TPR</th>\n      <td>0.844023</td>\n      <td>0.898191</td>\n      <td>0.801061</td>\n      <td>0.897001</td>\n      <td>0.787535</td>\n      <td>0.843632</td>\n      <td>0.844858</td>\n    </tr>\n    <tr>\n      <th>TNR</th>\n      <td>0.787434</td>\n      <td>0.794934</td>\n      <td>0.794847</td>\n      <td>0.796552</td>\n      <td>0.779546</td>\n      <td>0.782159</td>\n      <td>0.797000</td>\n    </tr>\n    <tr>\n      <th>PPV</th>\n      <td>0.758847</td>\n      <td>0.813385</td>\n      <td>0.741104</td>\n      <td>0.795376</td>\n      <td>0.718757</td>\n      <td>0.764179</td>\n      <td>0.747748</td>\n    </tr>\n    <tr>\n      <th>FNR</th>\n      <td>0.155977</td>\n      <td>0.101809</td>\n      <td>0.198939</td>\n      <td>0.102999</td>\n      <td>0.212465</td>\n      <td>0.156368</td>\n      <td>0.155142</td>\n    </tr>\n    <tr>\n      <th>FPR</th>\n      <td>0.212566</td>\n      <td>0.205066</td>\n      <td>0.205153</td>\n      <td>0.203448</td>\n      <td>0.220454</td>\n      <td>0.217841</td>\n      <td>0.203000</td>\n    </tr>\n    <tr>\n      <th>Accuracy</th>\n      <td>0.812454</td>\n      <td>0.846436</td>\n      <td>0.797475</td>\n      <td>0.843616</td>\n      <td>0.782878</td>\n      <td>0.810164</td>\n      <td>0.816908</td>\n    </tr>\n    <tr>\n      <th>F1</th>\n      <td>0.799172</td>\n      <td>0.853687</td>\n      <td>0.769917</td>\n      <td>0.843137</td>\n      <td>0.751575</td>\n      <td>0.801942</td>\n      <td>0.793342</td>\n    </tr>\n    <tr>\n      <th>Selection-Rate</th>\n      <td>0.491746</td>\n      <td>0.550780</td>\n      <td>0.457223</td>\n      <td>0.528406</td>\n      <td>0.456952</td>\n      <td>0.502927</td>\n      <td>0.469996</td>\n    </tr>\n    <tr>\n      <th>Positive-Rate</th>\n      <td>1.112245</td>\n      <td>1.104262</td>\n      <td>1.080902</td>\n      <td>1.127771</td>\n      <td>1.095690</td>\n      <td>1.103971</td>\n      <td>1.129870</td>\n    </tr>\n  </tbody>\n</table>\n</div>"
     },
     "metadata": {},
     "output_type": "display_data"
    },
    {
     "name": "stdout",
     "output_type": "stream",
     "text": [
      "\n",
      "\n",
      "\n",
      "\n",
      "##############################  [Experiment 2] Analyze DecisionTreeClassifier  ##############################\n",
      "Baseline X_train shape:  (80684, 16)\n",
      "Baseline X_test shape:  (20171, 16)\n",
      "\n",
      "Protected groups splits:\n",
      "SEX_RAC1P_priv (6584, 16)\n",
      "SEX_RAC1P_dis (3677, 16)\n",
      "SEX_priv (9883, 16)\n",
      "SEX_dis (10288, 16)\n",
      "RAC1P_priv (13195, 16)\n",
      "RAC1P_dis (6976, 16)\n",
      "\n",
      "[Experiment 2] Metrics confusion matrix:\n"
     ]
    },
    {
     "data": {
      "text/plain": "                 overall  SEX_RAC1P_priv  SEX_RAC1P_dis  SEX_priv   SEX_dis  \\\nTPR             0.850873        0.872593       0.824127  0.879831  0.819068   \nTNR             0.802247        0.837021       0.782588  0.827894  0.780157   \nPPV             0.777710        0.849193       0.739601  0.824624  0.728793   \nFNR             0.149127        0.127407       0.175873  0.120169  0.180932   \nFPR             0.197753        0.162979       0.217412  0.172106  0.219843   \nAccuracy        0.824054        0.855255       0.800381  0.852777  0.796462   \nF1              0.812648        0.860734       0.779580  0.851333  0.771298   \nSelection-Rate  0.490655        0.526731       0.477291  0.511181  0.470937   \nPositive-Rate   1.094075        1.027556       1.114286  1.066948  1.123869   \n\n                RAC1P_priv  RAC1P_dis  \nTPR               0.847324   0.858262  \nTNR               0.805195   0.797080  \nPPV               0.789570   0.754417  \nFNR               0.152676   0.141738  \nFPR               0.194805   0.202920  \nAccuracy          0.824706   0.822821  \nF1                0.817428   0.802996  \nSelection-Rate    0.497006   0.478641  \nPositive-Rate     1.073147   1.137649  ",
      "text/html": "<div>\n<style scoped>\n    .dataframe tbody tr th:only-of-type {\n        vertical-align: middle;\n    }\n\n    .dataframe tbody tr th {\n        vertical-align: top;\n    }\n\n    .dataframe thead th {\n        text-align: right;\n    }\n</style>\n<table border=\"1\" class=\"dataframe\">\n  <thead>\n    <tr style=\"text-align: right;\">\n      <th></th>\n      <th>overall</th>\n      <th>SEX_RAC1P_priv</th>\n      <th>SEX_RAC1P_dis</th>\n      <th>SEX_priv</th>\n      <th>SEX_dis</th>\n      <th>RAC1P_priv</th>\n      <th>RAC1P_dis</th>\n    </tr>\n  </thead>\n  <tbody>\n    <tr>\n      <th>TPR</th>\n      <td>0.850873</td>\n      <td>0.872593</td>\n      <td>0.824127</td>\n      <td>0.879831</td>\n      <td>0.819068</td>\n      <td>0.847324</td>\n      <td>0.858262</td>\n    </tr>\n    <tr>\n      <th>TNR</th>\n      <td>0.802247</td>\n      <td>0.837021</td>\n      <td>0.782588</td>\n      <td>0.827894</td>\n      <td>0.780157</td>\n      <td>0.805195</td>\n      <td>0.797080</td>\n    </tr>\n    <tr>\n      <th>PPV</th>\n      <td>0.777710</td>\n      <td>0.849193</td>\n      <td>0.739601</td>\n      <td>0.824624</td>\n      <td>0.728793</td>\n      <td>0.789570</td>\n      <td>0.754417</td>\n    </tr>\n    <tr>\n      <th>FNR</th>\n      <td>0.149127</td>\n      <td>0.127407</td>\n      <td>0.175873</td>\n      <td>0.120169</td>\n      <td>0.180932</td>\n      <td>0.152676</td>\n      <td>0.141738</td>\n    </tr>\n    <tr>\n      <th>FPR</th>\n      <td>0.197753</td>\n      <td>0.162979</td>\n      <td>0.217412</td>\n      <td>0.172106</td>\n      <td>0.219843</td>\n      <td>0.194805</td>\n      <td>0.202920</td>\n    </tr>\n    <tr>\n      <th>Accuracy</th>\n      <td>0.824054</td>\n      <td>0.855255</td>\n      <td>0.800381</td>\n      <td>0.852777</td>\n      <td>0.796462</td>\n      <td>0.824706</td>\n      <td>0.822821</td>\n    </tr>\n    <tr>\n      <th>F1</th>\n      <td>0.812648</td>\n      <td>0.860734</td>\n      <td>0.779580</td>\n      <td>0.851333</td>\n      <td>0.771298</td>\n      <td>0.817428</td>\n      <td>0.802996</td>\n    </tr>\n    <tr>\n      <th>Selection-Rate</th>\n      <td>0.490655</td>\n      <td>0.526731</td>\n      <td>0.477291</td>\n      <td>0.511181</td>\n      <td>0.470937</td>\n      <td>0.497006</td>\n      <td>0.478641</td>\n    </tr>\n    <tr>\n      <th>Positive-Rate</th>\n      <td>1.094075</td>\n      <td>1.027556</td>\n      <td>1.114286</td>\n      <td>1.066948</td>\n      <td>1.123869</td>\n      <td>1.073147</td>\n      <td>1.137649</td>\n    </tr>\n  </tbody>\n</table>\n</div>"
     },
     "metadata": {},
     "output_type": "display_data"
    },
    {
     "name": "stdout",
     "output_type": "stream",
     "text": [
      "\n",
      "\n",
      "\n",
      "\n",
      "##############################  [Experiment 2] Analyze RandomForestClassifier  ##############################\n",
      "Baseline X_train shape:  (80684, 16)\n",
      "Baseline X_test shape:  (20171, 16)\n",
      "\n",
      "Protected groups splits:\n",
      "SEX_RAC1P_priv (6494, 16)\n",
      "SEX_RAC1P_dis (3561, 16)\n",
      "SEX_priv (9812, 16)\n",
      "SEX_dis (10359, 16)\n",
      "RAC1P_priv (13292, 16)\n",
      "RAC1P_dis (6879, 16)\n",
      "\n",
      "[Experiment 2] Metrics confusion matrix:\n"
     ]
    },
    {
     "data": {
      "text/plain": "                 overall  SEX_RAC1P_priv  SEX_RAC1P_dis  SEX_priv   SEX_dis  \\\nTPR             0.877959        0.882605       0.874425  0.889831  0.865411   \nTNR             0.795274        0.851691       0.757353  0.847409  0.750042   \nPPV             0.773994        0.857949       0.728767  0.837423  0.715126   \nFNR             0.122041        0.117395       0.125575  0.110169  0.134589   \nFPR             0.204726        0.148309       0.242647  0.152591  0.249958   \nAccuracy        0.831987        0.867262       0.807357  0.867305  0.798533   \nF1              0.822705        0.870102       0.794979  0.862832  0.783124   \nSelection-Rate  0.503644        0.518171       0.512496  0.498369  0.508640   \nPositive-Rate   1.134323        1.028737       1.199869  1.062581  1.210152   \n\n                RAC1P_priv  RAC1P_dis  \nTPR               0.872379   0.889902  \nTNR               0.793545   0.798361  \nPPV               0.782053   0.757612  \nFNR               0.127621   0.110098  \nFPR               0.206455   0.201639  \nAccuracy          0.829747   0.836313  \nF1                0.824750   0.818446  \nSelection-Rate    0.512263   0.486989  \nPositive-Rate     1.115498   1.174614  ",
      "text/html": "<div>\n<style scoped>\n    .dataframe tbody tr th:only-of-type {\n        vertical-align: middle;\n    }\n\n    .dataframe tbody tr th {\n        vertical-align: top;\n    }\n\n    .dataframe thead th {\n        text-align: right;\n    }\n</style>\n<table border=\"1\" class=\"dataframe\">\n  <thead>\n    <tr style=\"text-align: right;\">\n      <th></th>\n      <th>overall</th>\n      <th>SEX_RAC1P_priv</th>\n      <th>SEX_RAC1P_dis</th>\n      <th>SEX_priv</th>\n      <th>SEX_dis</th>\n      <th>RAC1P_priv</th>\n      <th>RAC1P_dis</th>\n    </tr>\n  </thead>\n  <tbody>\n    <tr>\n      <th>TPR</th>\n      <td>0.877959</td>\n      <td>0.882605</td>\n      <td>0.874425</td>\n      <td>0.889831</td>\n      <td>0.865411</td>\n      <td>0.872379</td>\n      <td>0.889902</td>\n    </tr>\n    <tr>\n      <th>TNR</th>\n      <td>0.795274</td>\n      <td>0.851691</td>\n      <td>0.757353</td>\n      <td>0.847409</td>\n      <td>0.750042</td>\n      <td>0.793545</td>\n      <td>0.798361</td>\n    </tr>\n    <tr>\n      <th>PPV</th>\n      <td>0.773994</td>\n      <td>0.857949</td>\n      <td>0.728767</td>\n      <td>0.837423</td>\n      <td>0.715126</td>\n      <td>0.782053</td>\n      <td>0.757612</td>\n    </tr>\n    <tr>\n      <th>FNR</th>\n      <td>0.122041</td>\n      <td>0.117395</td>\n      <td>0.125575</td>\n      <td>0.110169</td>\n      <td>0.134589</td>\n      <td>0.127621</td>\n      <td>0.110098</td>\n    </tr>\n    <tr>\n      <th>FPR</th>\n      <td>0.204726</td>\n      <td>0.148309</td>\n      <td>0.242647</td>\n      <td>0.152591</td>\n      <td>0.249958</td>\n      <td>0.206455</td>\n      <td>0.201639</td>\n    </tr>\n    <tr>\n      <th>Accuracy</th>\n      <td>0.831987</td>\n      <td>0.867262</td>\n      <td>0.807357</td>\n      <td>0.867305</td>\n      <td>0.798533</td>\n      <td>0.829747</td>\n      <td>0.836313</td>\n    </tr>\n    <tr>\n      <th>F1</th>\n      <td>0.822705</td>\n      <td>0.870102</td>\n      <td>0.794979</td>\n      <td>0.862832</td>\n      <td>0.783124</td>\n      <td>0.824750</td>\n      <td>0.818446</td>\n    </tr>\n    <tr>\n      <th>Selection-Rate</th>\n      <td>0.503644</td>\n      <td>0.518171</td>\n      <td>0.512496</td>\n      <td>0.498369</td>\n      <td>0.508640</td>\n      <td>0.512263</td>\n      <td>0.486989</td>\n    </tr>\n    <tr>\n      <th>Positive-Rate</th>\n      <td>1.134323</td>\n      <td>1.028737</td>\n      <td>1.199869</td>\n      <td>1.062581</td>\n      <td>1.210152</td>\n      <td>1.115498</td>\n      <td>1.174614</td>\n    </tr>\n  </tbody>\n</table>\n</div>"
     },
     "metadata": {},
     "output_type": "display_data"
    },
    {
     "name": "stdout",
     "output_type": "stream",
     "text": [
      "\n",
      "\n",
      "\n",
      "\n",
      "##############################  [Experiment 2] Analyze XGBClassifier  ##############################\n",
      "Baseline X_train shape:  (80684, 16)\n",
      "Baseline X_test shape:  (20171, 16)\n",
      "\n",
      "Protected groups splits:\n",
      "SEX_RAC1P_priv (6587, 16)\n",
      "SEX_RAC1P_dis (3569, 16)\n",
      "SEX_priv (9879, 16)\n",
      "SEX_dis (10292, 16)\n",
      "RAC1P_priv (13310, 16)\n",
      "RAC1P_dis (6861, 16)\n",
      "\n",
      "[Experiment 2] Metrics confusion matrix:\n"
     ]
    },
    {
     "data": {
      "text/plain": "                 overall  SEX_RAC1P_priv  SEX_RAC1P_dis  SEX_priv   SEX_dis  \\\nTPR             0.869789        0.900517       0.852362  0.900564  0.836962   \nTNR             0.801280        0.824848       0.787286  0.828371  0.777369   \nPPV             0.776433        0.836631       0.749135  0.820898  0.730987   \nFNR             0.130211        0.099483       0.147638  0.099436  0.163038   \nFPR             0.198720        0.175152       0.212714  0.171629  0.222631   \nAccuracy        0.831590        0.862608       0.815074  0.862031  0.802371   \nF1              0.820464        0.867399       0.797422  0.858888  0.780393   \nSelection-Rate  0.495613        0.537119       0.485850  0.511489  0.480373   \nPositive-Rate   1.120238        1.076361       1.137795  1.097047  1.144975   \n\n                RAC1P_priv  RAC1P_dis  \nTPR               0.867456   0.874780  \nTNR               0.796237   0.810353  \nPPV               0.781713   0.765466  \nFNR               0.132544   0.125220  \nFPR               0.203763   0.189647  \nAccuracy          0.828775   0.837050  \nF1                0.822356   0.816481  \nSelection-Rate    0.506987   0.473546  \nPositive-Rate     1.109686   1.142807  ",
      "text/html": "<div>\n<style scoped>\n    .dataframe tbody tr th:only-of-type {\n        vertical-align: middle;\n    }\n\n    .dataframe tbody tr th {\n        vertical-align: top;\n    }\n\n    .dataframe thead th {\n        text-align: right;\n    }\n</style>\n<table border=\"1\" class=\"dataframe\">\n  <thead>\n    <tr style=\"text-align: right;\">\n      <th></th>\n      <th>overall</th>\n      <th>SEX_RAC1P_priv</th>\n      <th>SEX_RAC1P_dis</th>\n      <th>SEX_priv</th>\n      <th>SEX_dis</th>\n      <th>RAC1P_priv</th>\n      <th>RAC1P_dis</th>\n    </tr>\n  </thead>\n  <tbody>\n    <tr>\n      <th>TPR</th>\n      <td>0.869789</td>\n      <td>0.900517</td>\n      <td>0.852362</td>\n      <td>0.900564</td>\n      <td>0.836962</td>\n      <td>0.867456</td>\n      <td>0.874780</td>\n    </tr>\n    <tr>\n      <th>TNR</th>\n      <td>0.801280</td>\n      <td>0.824848</td>\n      <td>0.787286</td>\n      <td>0.828371</td>\n      <td>0.777369</td>\n      <td>0.796237</td>\n      <td>0.810353</td>\n    </tr>\n    <tr>\n      <th>PPV</th>\n      <td>0.776433</td>\n      <td>0.836631</td>\n      <td>0.749135</td>\n      <td>0.820898</td>\n      <td>0.730987</td>\n      <td>0.781713</td>\n      <td>0.765466</td>\n    </tr>\n    <tr>\n      <th>FNR</th>\n      <td>0.130211</td>\n      <td>0.099483</td>\n      <td>0.147638</td>\n      <td>0.099436</td>\n      <td>0.163038</td>\n      <td>0.132544</td>\n      <td>0.125220</td>\n    </tr>\n    <tr>\n      <th>FPR</th>\n      <td>0.198720</td>\n      <td>0.175152</td>\n      <td>0.212714</td>\n      <td>0.171629</td>\n      <td>0.222631</td>\n      <td>0.203763</td>\n      <td>0.189647</td>\n    </tr>\n    <tr>\n      <th>Accuracy</th>\n      <td>0.831590</td>\n      <td>0.862608</td>\n      <td>0.815074</td>\n      <td>0.862031</td>\n      <td>0.802371</td>\n      <td>0.828775</td>\n      <td>0.837050</td>\n    </tr>\n    <tr>\n      <th>F1</th>\n      <td>0.820464</td>\n      <td>0.867399</td>\n      <td>0.797422</td>\n      <td>0.858888</td>\n      <td>0.780393</td>\n      <td>0.822356</td>\n      <td>0.816481</td>\n    </tr>\n    <tr>\n      <th>Selection-Rate</th>\n      <td>0.495613</td>\n      <td>0.537119</td>\n      <td>0.485850</td>\n      <td>0.511489</td>\n      <td>0.480373</td>\n      <td>0.506987</td>\n      <td>0.473546</td>\n    </tr>\n    <tr>\n      <th>Positive-Rate</th>\n      <td>1.120238</td>\n      <td>1.076361</td>\n      <td>1.137795</td>\n      <td>1.097047</td>\n      <td>1.144975</td>\n      <td>1.109686</td>\n      <td>1.142807</td>\n    </tr>\n  </tbody>\n</table>\n</div>"
     },
     "metadata": {},
     "output_type": "display_data"
    },
    {
     "name": "stdout",
     "output_type": "stream",
     "text": [
      "\n",
      "\n",
      "\n",
      "\n",
      "##############################  [Experiment 2] Analyze KNeighborsClassifier  ##############################\n",
      "Baseline X_train shape:  (80684, 16)\n",
      "Baseline X_test shape:  (20171, 16)\n",
      "\n",
      "Protected groups splits:\n",
      "SEX_RAC1P_priv (6625, 16)\n",
      "SEX_RAC1P_dis (3633, 16)\n",
      "SEX_priv (9838, 16)\n",
      "SEX_dis (10333, 16)\n",
      "RAC1P_priv (13325, 16)\n",
      "RAC1P_dis (6846, 16)\n",
      "\n",
      "[Experiment 2] Metrics confusion matrix:\n"
     ]
    },
    {
     "data": {
      "text/plain": "                 overall  SEX_RAC1P_priv  SEX_RAC1P_dis  SEX_priv   SEX_dis  \\\nTPR             0.838437        0.879134       0.816901  0.874396  0.799080   \nTNR             0.771881        0.807357       0.728634  0.800473  0.747618   \nPPV             0.751722        0.829376       0.694233  0.804289  0.697152   \nFNR             0.161563        0.120866       0.183099  0.125604  0.200920   \nFPR             0.228119        0.192643       0.271366  0.199527  0.252382   \nAccuracy        0.801943        0.844377       0.766584  0.836247  0.769283   \nF1              0.792715        0.853530       0.750588  0.837879  0.744644   \nSelection-Rate  0.503793        0.546717       0.505918  0.526123  0.482532   \nPositive-Rate   1.115355        1.059994       1.176697  1.087167  1.146207   \n\n                RAC1P_priv  RAC1P_dis  \nTPR               0.838678   0.837922  \nTNR               0.780056   0.757107  \nPPV               0.768685   0.717866  \nFNR               0.161322   0.162078  \nFPR               0.219944   0.242893  \nAccuracy          0.807355   0.791411  \nF1                0.802158   0.773261  \nSelection-Rate    0.508068   0.495472  \nPositive-Rate     1.091056   1.167240  ",
      "text/html": "<div>\n<style scoped>\n    .dataframe tbody tr th:only-of-type {\n        vertical-align: middle;\n    }\n\n    .dataframe tbody tr th {\n        vertical-align: top;\n    }\n\n    .dataframe thead th {\n        text-align: right;\n    }\n</style>\n<table border=\"1\" class=\"dataframe\">\n  <thead>\n    <tr style=\"text-align: right;\">\n      <th></th>\n      <th>overall</th>\n      <th>SEX_RAC1P_priv</th>\n      <th>SEX_RAC1P_dis</th>\n      <th>SEX_priv</th>\n      <th>SEX_dis</th>\n      <th>RAC1P_priv</th>\n      <th>RAC1P_dis</th>\n    </tr>\n  </thead>\n  <tbody>\n    <tr>\n      <th>TPR</th>\n      <td>0.838437</td>\n      <td>0.879134</td>\n      <td>0.816901</td>\n      <td>0.874396</td>\n      <td>0.799080</td>\n      <td>0.838678</td>\n      <td>0.837922</td>\n    </tr>\n    <tr>\n      <th>TNR</th>\n      <td>0.771881</td>\n      <td>0.807357</td>\n      <td>0.728634</td>\n      <td>0.800473</td>\n      <td>0.747618</td>\n      <td>0.780056</td>\n      <td>0.757107</td>\n    </tr>\n    <tr>\n      <th>PPV</th>\n      <td>0.751722</td>\n      <td>0.829376</td>\n      <td>0.694233</td>\n      <td>0.804289</td>\n      <td>0.697152</td>\n      <td>0.768685</td>\n      <td>0.717866</td>\n    </tr>\n    <tr>\n      <th>FNR</th>\n      <td>0.161563</td>\n      <td>0.120866</td>\n      <td>0.183099</td>\n      <td>0.125604</td>\n      <td>0.200920</td>\n      <td>0.161322</td>\n      <td>0.162078</td>\n    </tr>\n    <tr>\n      <th>FPR</th>\n      <td>0.228119</td>\n      <td>0.192643</td>\n      <td>0.271366</td>\n      <td>0.199527</td>\n      <td>0.252382</td>\n      <td>0.219944</td>\n      <td>0.242893</td>\n    </tr>\n    <tr>\n      <th>Accuracy</th>\n      <td>0.801943</td>\n      <td>0.844377</td>\n      <td>0.766584</td>\n      <td>0.836247</td>\n      <td>0.769283</td>\n      <td>0.807355</td>\n      <td>0.791411</td>\n    </tr>\n    <tr>\n      <th>F1</th>\n      <td>0.792715</td>\n      <td>0.853530</td>\n      <td>0.750588</td>\n      <td>0.837879</td>\n      <td>0.744644</td>\n      <td>0.802158</td>\n      <td>0.773261</td>\n    </tr>\n    <tr>\n      <th>Selection-Rate</th>\n      <td>0.503793</td>\n      <td>0.546717</td>\n      <td>0.505918</td>\n      <td>0.526123</td>\n      <td>0.482532</td>\n      <td>0.508068</td>\n      <td>0.495472</td>\n    </tr>\n    <tr>\n      <th>Positive-Rate</th>\n      <td>1.115355</td>\n      <td>1.059994</td>\n      <td>1.176697</td>\n      <td>1.087167</td>\n      <td>1.146207</td>\n      <td>1.091056</td>\n      <td>1.167240</td>\n    </tr>\n  </tbody>\n</table>\n</div>"
     },
     "metadata": {},
     "output_type": "display_data"
    },
    {
     "name": "stdout",
     "output_type": "stream",
     "text": [
      "\n",
      "\n",
      "\n",
      "\n"
     ]
    }
   ],
   "source": [
    "run_experiment(exp_num=2, model_seed=200)"
   ],
   "metadata": {
    "collapsed": false,
    "pycharm": {
     "name": "#%%\n"
    }
   }
  },
  {
   "cell_type": "code",
   "execution_count": null,
   "outputs": [],
   "source": [],
   "metadata": {
    "collapsed": false,
    "pycharm": {
     "name": "#%%\n"
    }
   }
  }
 ],
 "metadata": {
  "kernelspec": {
   "display_name": "Python 3 (ipykernel)",
   "language": "python",
   "name": "python3"
  },
  "language_info": {
   "codemirror_mode": {
    "name": "ipython",
    "version": 3
   },
   "file_extension": ".py",
   "mimetype": "text/x-python",
   "name": "python",
   "nbconvert_exporter": "python",
   "pygments_lexer": "ipython3",
   "version": "3.9.7"
  }
 },
 "nbformat": 4,
 "nbformat_minor": 5
}