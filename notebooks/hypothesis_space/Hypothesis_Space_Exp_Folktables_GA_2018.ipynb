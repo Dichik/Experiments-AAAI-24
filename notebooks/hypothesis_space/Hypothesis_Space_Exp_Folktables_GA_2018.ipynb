{
 "cells": [
  {
   "cell_type": "code",
   "execution_count": 20,
   "id": "248cbed8",
   "metadata": {},
   "outputs": [
    {
     "name": "stdout",
     "output_type": "stream",
     "text": [
      "The autoreload extension is already loaded. To reload it, use:\n",
      "  %reload_ext autoreload\n"
     ]
    }
   ],
   "source": [
    "%matplotlib inline\n",
    "%load_ext autoreload\n",
    "%autoreload 2"
   ]
  },
  {
   "cell_type": "code",
   "execution_count": 21,
   "id": "7ec6cd08",
   "metadata": {},
   "outputs": [],
   "source": [
    "import os\n",
    "import warnings\n",
    "warnings.filterwarnings('ignore')\n",
    "os.environ[\"PYTHONWARNINGS\"] = \"ignore\""
   ]
  },
  {
   "cell_type": "code",
   "execution_count": 22,
   "id": "b8cb69f2",
   "metadata": {},
   "outputs": [
    {
     "name": "stdout",
     "output_type": "stream",
     "text": [
      "Current location:  /home/denys_herasymuk/UCU/4course_2term/Bachelor_Thesis/Code/fairness-variance\n"
     ]
    }
   ],
   "source": [
    "cur_folder_name = os.getcwd().split('/')[-1]\n",
    "if cur_folder_name != \"fairness-variance\":\n",
    "    os.chdir(\"../..\")\n",
    "\n",
    "print('Current location: ', os.getcwd())"
   ]
  },
  {
   "cell_type": "markdown",
   "id": "606df34d",
   "metadata": {},
   "source": [
    "## Import dependencies"
   ]
  },
  {
   "cell_type": "code",
   "execution_count": 23,
   "id": "7a9241de",
   "metadata": {},
   "outputs": [],
   "source": [
    "import os\n",
    "import pandas as pd\n",
    "from datetime import datetime, timezone\n",
    "\n",
    "from configs.models_config_for_tuning import MODELS_CONFIG\n",
    "from source.custom_initializers import create_config_obj, create_models_config_from_tuned_params_df\n",
    "from source.custom_classes.data_loaders import ACSEmploymentDataset\n",
    "from source.metrics_computation_interfaces import compute_metrics_multiple_runs"
   ]
  },
  {
   "cell_type": "markdown",
   "id": "95f15603",
   "metadata": {},
   "source": [
    "## Configs"
   ]
  },
  {
   "cell_type": "code",
   "execution_count": 24,
   "id": "71d8f24a",
   "metadata": {},
   "outputs": [],
   "source": [
    "config = create_config_obj(config_yaml_path=os.path.join('configs', 'experiment1_folktables_GA_2018_config.yaml'))\n",
    "\n",
    "TUNED_PARAMS_FILE_PATH = os.path.join('results', 'models_tuning', f'tuning_results_{config.dataset_name}_20230117__023240.csv')\n",
    "SAVE_RESULTS_DIR_PATH = os.path.join('results', 'hypothesis_space',\n",
    "                                     f'{config.dataset_name}_Metrics_{datetime.now(timezone.utc).strftime(\"%Y%m%d__%H%M%S\")}')"
   ]
  },
  {
   "cell_type": "markdown",
   "source": [
    "## Models tuned hyper-parameters"
   ],
   "metadata": {
    "collapsed": false
   }
  },
  {
   "cell_type": "code",
   "execution_count": 25,
   "outputs": [
    {
     "data": {
      "text/plain": "   Unnamed: 0        Dataset_Name              Model_Name  F1_Score  \\\n0           0  Folktables_GA_2018      LogisticRegression    0.8195   \n1           1  Folktables_GA_2018  DecisionTreeClassifier    0.8304   \n2           2  Folktables_GA_2018  RandomForestClassifier    0.8354   \n3           3  Folktables_GA_2018           XGBClassifier    0.8371   \n4           4  Folktables_GA_2018    KNeighborsClassifier    0.8136   \n5           5  Folktables_GA_2018           MLPClassifier    0.8345   \n\n   Accuracy_Score                                  Model_Best_Params  \n0          0.8203  {'C': 1, 'max_iter': 150, 'penalty': 'l2', 'so...  \n1          0.8313  {'criterion': 'gini', 'max_depth': 10, 'max_fe...  \n2          0.8357  {'max_depth': 10, 'max_features': 0.6, 'min_sa...  \n3          0.8375  {'lambda': 1, 'learning_rate': 0.1, 'max_depth...  \n4          0.8137  {'metric': 'minkowski', 'n_neighbors': 25, 'we...  \n5          0.8353  {'activation': 'logistic', 'hidden_layer_sizes...  ",
      "text/html": "<div>\n<style scoped>\n    .dataframe tbody tr th:only-of-type {\n        vertical-align: middle;\n    }\n\n    .dataframe tbody tr th {\n        vertical-align: top;\n    }\n\n    .dataframe thead th {\n        text-align: right;\n    }\n</style>\n<table border=\"1\" class=\"dataframe\">\n  <thead>\n    <tr style=\"text-align: right;\">\n      <th></th>\n      <th>Unnamed: 0</th>\n      <th>Dataset_Name</th>\n      <th>Model_Name</th>\n      <th>F1_Score</th>\n      <th>Accuracy_Score</th>\n      <th>Model_Best_Params</th>\n    </tr>\n  </thead>\n  <tbody>\n    <tr>\n      <th>0</th>\n      <td>0</td>\n      <td>Folktables_GA_2018</td>\n      <td>LogisticRegression</td>\n      <td>0.8195</td>\n      <td>0.8203</td>\n      <td>{'C': 1, 'max_iter': 150, 'penalty': 'l2', 'so...</td>\n    </tr>\n    <tr>\n      <th>1</th>\n      <td>1</td>\n      <td>Folktables_GA_2018</td>\n      <td>DecisionTreeClassifier</td>\n      <td>0.8304</td>\n      <td>0.8313</td>\n      <td>{'criterion': 'gini', 'max_depth': 10, 'max_fe...</td>\n    </tr>\n    <tr>\n      <th>2</th>\n      <td>2</td>\n      <td>Folktables_GA_2018</td>\n      <td>RandomForestClassifier</td>\n      <td>0.8354</td>\n      <td>0.8357</td>\n      <td>{'max_depth': 10, 'max_features': 0.6, 'min_sa...</td>\n    </tr>\n    <tr>\n      <th>3</th>\n      <td>3</td>\n      <td>Folktables_GA_2018</td>\n      <td>XGBClassifier</td>\n      <td>0.8371</td>\n      <td>0.8375</td>\n      <td>{'lambda': 1, 'learning_rate': 0.1, 'max_depth...</td>\n    </tr>\n    <tr>\n      <th>4</th>\n      <td>4</td>\n      <td>Folktables_GA_2018</td>\n      <td>KNeighborsClassifier</td>\n      <td>0.8136</td>\n      <td>0.8137</td>\n      <td>{'metric': 'minkowski', 'n_neighbors': 25, 'we...</td>\n    </tr>\n    <tr>\n      <th>5</th>\n      <td>5</td>\n      <td>Folktables_GA_2018</td>\n      <td>MLPClassifier</td>\n      <td>0.8345</td>\n      <td>0.8353</td>\n      <td>{'activation': 'logistic', 'hidden_layer_sizes...</td>\n    </tr>\n  </tbody>\n</table>\n</div>"
     },
     "execution_count": 25,
     "metadata": {},
     "output_type": "execute_result"
    }
   ],
   "source": [
    "models_tuned_params_df = pd.read_csv(TUNED_PARAMS_FILE_PATH)\n",
    "models_tuned_params_df"
   ],
   "metadata": {
    "collapsed": false
   }
  },
  {
   "cell_type": "code",
   "execution_count": 26,
   "outputs": [],
   "source": [
    "experiment_models_config = create_models_config_from_tuned_params_df(\n",
    "    models_config_for_tuning=MODELS_CONFIG,\n",
    "    models_tuned_params_df=models_tuned_params_df,\n",
    ")"
   ],
   "metadata": {
    "collapsed": false
   }
  },
  {
   "cell_type": "code",
   "execution_count": 27,
   "outputs": [
    {
     "data": {
      "text/plain": "dict_keys(['DecisionTreeClassifier', 'KNeighborsClassifier'])"
     },
     "execution_count": 27,
     "metadata": {},
     "output_type": "execute_result"
    }
   ],
   "source": [
    "experiment_models_config.keys()"
   ],
   "metadata": {
    "collapsed": false
   }
  },
  {
   "cell_type": "markdown",
   "id": "5c60057a",
   "metadata": {},
   "source": [
    "## Load dataset"
   ]
  },
  {
   "cell_type": "code",
   "execution_count": 28,
   "id": "3e53fe9a",
   "metadata": {},
   "outputs": [
    {
     "data": {
      "text/plain": "      MAR MIL ESP MIG DREM NATIVITY DIS DEAR DEYE SEX RAC1P RELP CIT ANC SCHL  \\\n69773   5   0   7   1    2        1   2    2    2   2     2    2   1   1    3   \n88669   3   4   0   1    2        1   2    2    2   2     1    0   1   2   22   \n1682    5   2   0   1    2        1   2    2    2   1     2   16   1   1   16   \n6242    5   4   0   1    2        1   2    2    2   2     2   11   1   4   20   \n43040   5   4   0   1    2        1   2    2    2   2     1    0   1   1   21   \n\n       AGEP  \n69773     6  \n88669    71  \n1682     54  \n6242     46  \n43040    31  ",
      "text/html": "<div>\n<style scoped>\n    .dataframe tbody tr th:only-of-type {\n        vertical-align: middle;\n    }\n\n    .dataframe tbody tr th {\n        vertical-align: top;\n    }\n\n    .dataframe thead th {\n        text-align: right;\n    }\n</style>\n<table border=\"1\" class=\"dataframe\">\n  <thead>\n    <tr style=\"text-align: right;\">\n      <th></th>\n      <th>MAR</th>\n      <th>MIL</th>\n      <th>ESP</th>\n      <th>MIG</th>\n      <th>DREM</th>\n      <th>NATIVITY</th>\n      <th>DIS</th>\n      <th>DEAR</th>\n      <th>DEYE</th>\n      <th>SEX</th>\n      <th>RAC1P</th>\n      <th>RELP</th>\n      <th>CIT</th>\n      <th>ANC</th>\n      <th>SCHL</th>\n      <th>AGEP</th>\n    </tr>\n  </thead>\n  <tbody>\n    <tr>\n      <th>69773</th>\n      <td>5</td>\n      <td>0</td>\n      <td>7</td>\n      <td>1</td>\n      <td>2</td>\n      <td>1</td>\n      <td>2</td>\n      <td>2</td>\n      <td>2</td>\n      <td>2</td>\n      <td>2</td>\n      <td>2</td>\n      <td>1</td>\n      <td>1</td>\n      <td>3</td>\n      <td>6</td>\n    </tr>\n    <tr>\n      <th>88669</th>\n      <td>3</td>\n      <td>4</td>\n      <td>0</td>\n      <td>1</td>\n      <td>2</td>\n      <td>1</td>\n      <td>2</td>\n      <td>2</td>\n      <td>2</td>\n      <td>2</td>\n      <td>1</td>\n      <td>0</td>\n      <td>1</td>\n      <td>2</td>\n      <td>22</td>\n      <td>71</td>\n    </tr>\n    <tr>\n      <th>1682</th>\n      <td>5</td>\n      <td>2</td>\n      <td>0</td>\n      <td>1</td>\n      <td>2</td>\n      <td>1</td>\n      <td>2</td>\n      <td>2</td>\n      <td>2</td>\n      <td>1</td>\n      <td>2</td>\n      <td>16</td>\n      <td>1</td>\n      <td>1</td>\n      <td>16</td>\n      <td>54</td>\n    </tr>\n    <tr>\n      <th>6242</th>\n      <td>5</td>\n      <td>4</td>\n      <td>0</td>\n      <td>1</td>\n      <td>2</td>\n      <td>1</td>\n      <td>2</td>\n      <td>2</td>\n      <td>2</td>\n      <td>2</td>\n      <td>2</td>\n      <td>11</td>\n      <td>1</td>\n      <td>4</td>\n      <td>20</td>\n      <td>46</td>\n    </tr>\n    <tr>\n      <th>43040</th>\n      <td>5</td>\n      <td>4</td>\n      <td>0</td>\n      <td>1</td>\n      <td>2</td>\n      <td>1</td>\n      <td>2</td>\n      <td>2</td>\n      <td>2</td>\n      <td>2</td>\n      <td>1</td>\n      <td>0</td>\n      <td>1</td>\n      <td>1</td>\n      <td>21</td>\n      <td>31</td>\n    </tr>\n  </tbody>\n</table>\n</div>"
     },
     "execution_count": 28,
     "metadata": {},
     "output_type": "execute_result"
    }
   ],
   "source": [
    "dataset = ACSEmploymentDataset(state=['GA'], year=2018, root_dir=os.path.join('data'), with_nulls=False, subsample=20000)\n",
    "dataset.X_data.head()"
   ]
  },
  {
   "cell_type": "markdown",
   "id": "c3530f06",
   "metadata": {},
   "source": [
    "## Run experiments"
   ]
  },
  {
   "cell_type": "code",
   "execution_count": 29,
   "id": "2528579c",
   "metadata": {},
   "outputs": [
    {
     "name": "stderr",
     "output_type": "stream",
     "text": [
      "Analyze models in one run:   0%|          | 0/2 [00:00<?, ?it/s]2023-01-24 01:27:46 abstract_overall_variance_analyzer.py INFO    : Start classifiers testing by bootstrap\n"
     ]
    },
    {
     "name": "stdout",
     "output_type": "stream",
     "text": [
      "##############################  [Model 1 / 2] Analyze DecisionTreeClassifier  ##############################\n",
      "Model random_state:  101\n",
      "Baseline X_train shape:  (16000, 16)\n",
      "Baseline X_test shape:  (4000, 16)\n",
      "\n",
      "\n"
     ]
    },
    {
     "name": "stderr",
     "output_type": "stream",
     "text": [
      "\n",
      "Classifiers testing by bootstrap:   0%|          | 0/10 [00:00<?, ?it/s]\u001B[A\n",
      "Classifiers testing by bootstrap:  30%|███       | 3/10 [00:00<00:00, 26.56it/s]\u001B[A\n",
      "Classifiers testing by bootstrap:  60%|██████    | 6/10 [00:00<00:00, 27.10it/s]\u001B[A\n",
      "Classifiers testing by bootstrap: 100%|██████████| 10/10 [00:00<00:00, 27.04it/s][A\n",
      "2023-01-24 01:27:46 abstract_overall_variance_analyzer.py INFO    : Successfully tested classifiers by bootstrap\n"
     ]
    },
    {
     "name": "stdout",
     "output_type": "stream",
     "text": [
      "\n",
      "\n"
     ]
    },
    {
     "name": "stderr",
     "output_type": "stream",
     "text": [
      "2023-01-24 01:27:47 abstract_overall_variance_analyzer.py INFO    : Successfully computed predict proba metrics\n"
     ]
    },
    {
     "name": "stdout",
     "output_type": "stream",
     "text": [
      "\n",
      "\n",
      "##############################  Stability metrics  ##############################\n",
      "General Ensemble Accuracy: 0.8082\n",
      "Mean: 0.5485\n",
      "Std: 0.0461\n",
      "IQR: 0.0454\n",
      "Entropy: 0.0328\n",
      "Jitter: 0.0219\n",
      "Per sample accuracy: 0.808\n",
      "Label stability: 0.9761\n",
      "\n",
      "\n"
     ]
    },
    {
     "name": "stderr",
     "output_type": "stream",
     "text": [
      "Analyze models in one run:  50%|█████     | 1/2 [00:03<00:03,  3.57s/it]2023-01-24 01:27:49 abstract_overall_variance_analyzer.py INFO    : Start classifiers testing by bootstrap\n"
     ]
    },
    {
     "name": "stdout",
     "output_type": "stream",
     "text": [
      "\n",
      "\n",
      "\n",
      "\n",
      "##############################  [Model 2 / 2] Analyze KNeighborsClassifier  ##############################\n",
      "Model random_state:  None\n",
      "Baseline X_train shape:  (16000, 16)\n",
      "Baseline X_test shape:  (4000, 16)\n",
      "\n",
      "\n"
     ]
    },
    {
     "name": "stderr",
     "output_type": "stream",
     "text": [
      "\n",
      "Classifiers testing by bootstrap:   0%|          | 0/10 [00:00<?, ?it/s]\u001B[A\n",
      "Classifiers testing by bootstrap:  10%|█         | 1/10 [00:00<00:03,  2.30it/s]\u001B[A\n",
      "Classifiers testing by bootstrap:  20%|██        | 2/10 [00:00<00:02,  3.44it/s]\u001B[A\n",
      "Classifiers testing by bootstrap:  30%|███       | 3/10 [00:01<00:02,  2.64it/s]\u001B[A\n",
      "Classifiers testing by bootstrap:  40%|████      | 4/10 [00:01<00:01,  3.25it/s]\u001B[A\n",
      "Classifiers testing by bootstrap:  50%|█████     | 5/10 [00:01<00:01,  3.44it/s]\u001B[A\n",
      "Classifiers testing by bootstrap:  60%|██████    | 6/10 [00:01<00:01,  3.88it/s]\u001B[A\n",
      "Classifiers testing by bootstrap:  70%|███████   | 7/10 [00:01<00:00,  4.21it/s]\u001B[A\n",
      "Classifiers testing by bootstrap:  80%|████████  | 8/10 [00:02<00:00,  4.47it/s]\u001B[A\n",
      "Classifiers testing by bootstrap:  90%|█████████ | 9/10 [00:02<00:00,  4.45it/s]\u001B[A\n",
      "Classifiers testing by bootstrap: 100%|██████████| 10/10 [00:03<00:00,  3.29it/s]\u001B[A\n",
      "2023-01-24 01:27:52 abstract_overall_variance_analyzer.py INFO    : Successfully tested classifiers by bootstrap\n"
     ]
    },
    {
     "name": "stdout",
     "output_type": "stream",
     "text": [
      "\n",
      "\n"
     ]
    },
    {
     "name": "stderr",
     "output_type": "stream",
     "text": [
      "2023-01-24 01:27:53 abstract_overall_variance_analyzer.py INFO    : Successfully computed predict proba metrics\n"
     ]
    },
    {
     "name": "stdout",
     "output_type": "stream",
     "text": [
      "\n",
      "\n",
      "##############################  Stability metrics  ##############################\n",
      "General Ensemble Accuracy: 0.8005\n",
      "Mean: 0.5211\n",
      "Std: 0.068\n",
      "IQR: 0.081\n",
      "Entropy: 0.0\n",
      "Jitter: 0.0902\n",
      "Per sample accuracy: 0.7892\n",
      "Label stability: 0.8826\n",
      "\n",
      "\n"
     ]
    },
    {
     "name": "stderr",
     "output_type": "stream",
     "text": [
      "Analyze models in one run: 100%|██████████| 2/2 [00:09<00:00,  4.86s/it]\n"
     ]
    },
    {
     "name": "stdout",
     "output_type": "stream",
     "text": [
      "\n",
      "\n",
      "\n",
      "\n"
     ]
    },
    {
     "name": "stderr",
     "output_type": "stream",
     "text": [
      "Analyze models in one run:   0%|          | 0/2 [00:00<?, ?it/s]2023-01-24 01:27:55 abstract_overall_variance_analyzer.py INFO    : Start classifiers testing by bootstrap\n"
     ]
    },
    {
     "name": "stdout",
     "output_type": "stream",
     "text": [
      "##############################  [Model 1 / 2] Analyze DecisionTreeClassifier  ##############################\n",
      "Model random_state:  201\n",
      "Baseline X_train shape:  (16000, 16)\n",
      "Baseline X_test shape:  (4000, 16)\n",
      "\n",
      "\n"
     ]
    },
    {
     "name": "stderr",
     "output_type": "stream",
     "text": [
      "\n",
      "Classifiers testing by bootstrap:   0%|          | 0/10 [00:00<?, ?it/s]\u001B[A\n",
      "Classifiers testing by bootstrap:  40%|████      | 4/10 [00:00<00:00, 34.32it/s]\u001B[A\n",
      "Classifiers testing by bootstrap: 100%|██████████| 10/10 [00:00<00:00, 33.00it/s][A\n",
      "2023-01-24 01:27:56 abstract_overall_variance_analyzer.py INFO    : Successfully tested classifiers by bootstrap\n"
     ]
    },
    {
     "name": "stdout",
     "output_type": "stream",
     "text": [
      "\n",
      "\n"
     ]
    },
    {
     "name": "stderr",
     "output_type": "stream",
     "text": [
      "2023-01-24 01:27:57 abstract_overall_variance_analyzer.py INFO    : Successfully computed predict proba metrics\n"
     ]
    },
    {
     "name": "stdout",
     "output_type": "stream",
     "text": [
      "\n",
      "\n",
      "##############################  Stability metrics  ##############################\n",
      "General Ensemble Accuracy: 0.828\n",
      "Mean: 0.5566\n",
      "Std: 0.0517\n",
      "IQR: 0.0526\n",
      "Entropy: 0.0\n",
      "Jitter: 0.0529\n",
      "Per sample accuracy: 0.8212\n",
      "Label stability: 0.9261\n",
      "\n",
      "\n"
     ]
    },
    {
     "name": "stderr",
     "output_type": "stream",
     "text": [
      "Analyze models in one run:  50%|█████     | 1/2 [00:03<00:03,  3.25s/it]2023-01-24 01:27:59 abstract_overall_variance_analyzer.py INFO    : Start classifiers testing by bootstrap\n"
     ]
    },
    {
     "name": "stdout",
     "output_type": "stream",
     "text": [
      "\n",
      "\n",
      "\n",
      "\n",
      "##############################  [Model 2 / 2] Analyze KNeighborsClassifier  ##############################\n",
      "Model random_state:  None\n",
      "Baseline X_train shape:  (16000, 16)\n",
      "Baseline X_test shape:  (4000, 16)\n",
      "\n",
      "\n"
     ]
    },
    {
     "name": "stderr",
     "output_type": "stream",
     "text": [
      "\n",
      "Classifiers testing by bootstrap:   0%|          | 0/10 [00:00<?, ?it/s]\u001B[A\n",
      "Classifiers testing by bootstrap:  10%|█         | 1/10 [00:00<00:02,  4.43it/s]\u001B[A\n",
      "Classifiers testing by bootstrap:  20%|██        | 2/10 [00:00<00:01,  4.51it/s]\u001B[A\n",
      "Classifiers testing by bootstrap:  30%|███       | 3/10 [00:00<00:01,  4.68it/s]\u001B[A\n",
      "Classifiers testing by bootstrap:  40%|████      | 4/10 [00:01<00:01,  3.49it/s]\u001B[A\n",
      "Classifiers testing by bootstrap:  50%|█████     | 5/10 [00:01<00:01,  3.91it/s]\u001B[A\n",
      "Classifiers testing by bootstrap:  60%|██████    | 6/10 [00:01<00:00,  4.01it/s]\u001B[A\n",
      "Classifiers testing by bootstrap:  70%|███████   | 7/10 [00:01<00:00,  4.25it/s]\u001B[A\n",
      "Classifiers testing by bootstrap:  80%|████████  | 8/10 [00:01<00:00,  4.39it/s]\u001B[A\n",
      "Classifiers testing by bootstrap:  90%|█████████ | 9/10 [00:02<00:00,  4.27it/s]\u001B[A\n",
      "Classifiers testing by bootstrap: 100%|██████████| 10/10 [00:02<00:00,  4.23it/s]\u001B[A\n",
      "2023-01-24 01:28:01 abstract_overall_variance_analyzer.py INFO    : Successfully tested classifiers by bootstrap\n"
     ]
    },
    {
     "name": "stdout",
     "output_type": "stream",
     "text": [
      "\n",
      "\n"
     ]
    },
    {
     "name": "stderr",
     "output_type": "stream",
     "text": [
      "2023-01-24 01:28:02 abstract_overall_variance_analyzer.py INFO    : Successfully computed predict proba metrics\n"
     ]
    },
    {
     "name": "stdout",
     "output_type": "stream",
     "text": [
      "\n",
      "\n",
      "##############################  Stability metrics  ##############################\n",
      "General Ensemble Accuracy: 0.7968\n",
      "Mean: 0.5118\n",
      "Std: 0.0676\n",
      "IQR: 0.0818\n",
      "Entropy: 0.0\n",
      "Jitter: 0.0895\n",
      "Per sample accuracy: 0.7876\n",
      "Label stability: 0.8831\n",
      "\n",
      "\n"
     ]
    },
    {
     "name": "stderr",
     "output_type": "stream",
     "text": [
      "Analyze models in one run: 100%|██████████| 2/2 [00:08<00:00,  4.30s/it]"
     ]
    },
    {
     "name": "stdout",
     "output_type": "stream",
     "text": [
      "\n",
      "\n",
      "\n",
      "\n"
     ]
    },
    {
     "name": "stderr",
     "output_type": "stream",
     "text": [
      "\n"
     ]
    }
   ],
   "source": [
    "multiple_runs_metrics_dct = compute_metrics_multiple_runs(dataset, config, experiment_models_config, SAVE_RESULTS_DIR_PATH, debug_mode=False)"
   ]
  },
  {
   "cell_type": "code",
   "execution_count": 29,
   "id": "197eadaa",
   "metadata": {},
   "outputs": [],
   "source": []
  }
 ],
 "metadata": {
  "kernelspec": {
   "display_name": "Python 3 (ipykernel)",
   "language": "python",
   "name": "python3"
  },
  "language_info": {
   "codemirror_mode": {
    "name": "ipython",
    "version": 3
   },
   "file_extension": ".py",
   "mimetype": "text/x-python",
   "name": "python",
   "nbconvert_exporter": "python",
   "pygments_lexer": "ipython3",
   "version": "3.8.10"
  }
 },
 "nbformat": 4,
 "nbformat_minor": 5
}
