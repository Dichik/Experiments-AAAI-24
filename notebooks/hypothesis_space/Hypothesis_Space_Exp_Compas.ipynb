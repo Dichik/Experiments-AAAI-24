{
 "cells": [
  {
   "cell_type": "code",
   "execution_count": 21,
   "outputs": [
    {
     "name": "stdout",
     "output_type": "stream",
     "text": [
      "The autoreload extension is already loaded. To reload it, use:\n",
      "  %reload_ext autoreload\n"
     ]
    }
   ],
   "source": [
    "%matplotlib inline\n",
    "%load_ext autoreload\n",
    "%autoreload 2"
   ],
   "metadata": {
    "collapsed": false,
    "pycharm": {
     "name": "#%%\n"
    }
   }
  },
  {
   "cell_type": "code",
   "execution_count": 22,
   "outputs": [],
   "source": [
    "import os\n",
    "import warnings\n",
    "warnings.filterwarnings('ignore')\n",
    "os.environ[\"PYTHONWARNINGS\"] = \"ignore\""
   ],
   "metadata": {
    "collapsed": false,
    "pycharm": {
     "name": "#%%\n"
    }
   }
  },
  {
   "cell_type": "markdown",
   "source": [
    "## Import dependencies"
   ],
   "metadata": {
    "collapsed": false,
    "pycharm": {
     "name": "#%% md\n"
    }
   }
  },
  {
   "cell_type": "code",
   "execution_count": 23,
   "id": "7a9241de",
   "metadata": {
    "pycharm": {
     "name": "#%%\n"
    }
   },
   "outputs": [],
   "source": [
    "import os\n",
    "import pandas as pd\n",
    "from IPython.display import display\n",
    "from tqdm import tqdm\n",
    "\n",
    "from configs import config\n",
    "from configs.constants import ModelSetting\n",
    "from utils.analyzers.stability_fairness_analyzer import StabilityFairnessAnalyzer\n",
    "from utils.common_helpers import create_tuned_base_model, save_metrics_to_file\n",
    "from utils.custom_classes.data_loader import CompasDataset\n",
    "from utils.custom_classes.generic_pipeline import GenericPipeline\n",
    "from utils.analyzers.bias_analyzer import BiasAnalyzer"
   ]
  },
  {
   "cell_type": "markdown",
   "source": [
    "## Configs"
   ],
   "metadata": {
    "collapsed": false,
    "pycharm": {
     "name": "#%% md\n"
    }
   }
  },
  {
   "cell_type": "code",
   "execution_count": 24,
   "outputs": [],
   "source": [
    "DATASET_NAME = \"COMPAS\"\n",
    "EXPERIMENT_NAME = 'Hypothesis_Space'\n",
    "\n",
    "SEX_priv = 1\n",
    "RACE_priv = 'Caucasian'\n",
    "N_ESTIMATORS = 200\n",
    "PROTECTED_GROUPS = ['sex', 'race']\n",
    "PRIV_VALUES = [SEX_priv, RACE_priv]\n",
    "TUNED_PARAMS_FILE_PATH = os.path.join('..', '..', 'results', 'models_tuning', 'tuning_results_COMPAS_20230115__142510.csv')"
   ],
   "metadata": {
    "collapsed": false,
    "pycharm": {
     "name": "#%%\n"
    }
   }
  },
  {
   "cell_type": "markdown",
   "source": [
    "## Models tuned hyper-parameters"
   ],
   "metadata": {
    "collapsed": false,
    "pycharm": {
     "name": "#%% md\n"
    }
   }
  },
  {
   "cell_type": "code",
   "execution_count": 25,
   "outputs": [
    {
     "data": {
      "text/plain": "  Dataset_Name              Model_Name  F1_Score  Accuracy_Score  \\\n0       COMPAS      LogisticRegression    0.6785          0.6837   \n1       COMPAS  DecisionTreeClassifier    0.6835          0.6856   \n2       COMPAS  RandomForestClassifier    0.6921          0.6989   \n3       COMPAS           XGBClassifier    0.7012          0.7064   \n4       COMPAS    KNeighborsClassifier    0.6941          0.6960   \n\n                                   Model_Best_Params  \n0  {'max_iter': 50, 'penalty': 'none', 'solver': ...  \n1  {'criterion': 'entropy', 'max_depth': 5, 'max_...  \n2  {'max_depth': 3, 'max_features': 'auto', 'min_...  \n3  {'learning_rate': 0.1, 'max_depth': 5, 'n_esti...  \n4  {'metric': 'minkowski', 'n_neighbors': 15, 'we...  ",
      "text/html": "<div>\n<style scoped>\n    .dataframe tbody tr th:only-of-type {\n        vertical-align: middle;\n    }\n\n    .dataframe tbody tr th {\n        vertical-align: top;\n    }\n\n    .dataframe thead th {\n        text-align: right;\n    }\n</style>\n<table border=\"1\" class=\"dataframe\">\n  <thead>\n    <tr style=\"text-align: right;\">\n      <th></th>\n      <th>Dataset_Name</th>\n      <th>Model_Name</th>\n      <th>F1_Score</th>\n      <th>Accuracy_Score</th>\n      <th>Model_Best_Params</th>\n    </tr>\n  </thead>\n  <tbody>\n    <tr>\n      <th>0</th>\n      <td>COMPAS</td>\n      <td>LogisticRegression</td>\n      <td>0.6785</td>\n      <td>0.6837</td>\n      <td>{'max_iter': 50, 'penalty': 'none', 'solver': ...</td>\n    </tr>\n    <tr>\n      <th>1</th>\n      <td>COMPAS</td>\n      <td>DecisionTreeClassifier</td>\n      <td>0.6835</td>\n      <td>0.6856</td>\n      <td>{'criterion': 'entropy', 'max_depth': 5, 'max_...</td>\n    </tr>\n    <tr>\n      <th>2</th>\n      <td>COMPAS</td>\n      <td>RandomForestClassifier</td>\n      <td>0.6921</td>\n      <td>0.6989</td>\n      <td>{'max_depth': 3, 'max_features': 'auto', 'min_...</td>\n    </tr>\n    <tr>\n      <th>3</th>\n      <td>COMPAS</td>\n      <td>XGBClassifier</td>\n      <td>0.7012</td>\n      <td>0.7064</td>\n      <td>{'learning_rate': 0.1, 'max_depth': 5, 'n_esti...</td>\n    </tr>\n    <tr>\n      <th>4</th>\n      <td>COMPAS</td>\n      <td>KNeighborsClassifier</td>\n      <td>0.6941</td>\n      <td>0.6960</td>\n      <td>{'metric': 'minkowski', 'n_neighbors': 15, 'we...</td>\n    </tr>\n  </tbody>\n</table>\n</div>"
     },
     "execution_count": 25,
     "metadata": {},
     "output_type": "execute_result"
    }
   ],
   "source": [
    "models_tuned_params_df = pd.read_csv(TUNED_PARAMS_FILE_PATH)\n",
    "models_tuned_params_df"
   ],
   "metadata": {
    "collapsed": false,
    "pycharm": {
     "name": "#%%\n"
    }
   }
  },
  {
   "cell_type": "markdown",
   "source": [
    "## Load dataset"
   ],
   "metadata": {
    "collapsed": false,
    "pycharm": {
     "name": "#%% md\n"
    }
   }
  },
  {
   "cell_type": "code",
   "execution_count": 26,
   "outputs": [
    {
     "data": {
      "text/plain": "   age  juv_fel_count  juv_misd_count  juv_other_count  priors_count  \\\n0   25            0.0       -2.340451              1.0    -15.010999   \n1   26            0.0        0.000000              0.0      0.000000   \n2   21            0.0        0.000000              0.0      0.000000   \n3   29            0.0        0.000000              0.0      6.000000   \n4   40            0.0        0.000000              0.0      7.513697   \n\n               race  age_cat_25 - 45  age_cat_Greater than 45  \\\n0  African-American                1                        0   \n1         Caucasian                1                        0   \n2         Caucasian                0                        0   \n3  African-American                1                        0   \n4         Caucasian                1                        0   \n\n   age_cat_Less than 25  c_charge_degree_F  c_charge_degree_M  sex  \n0                     0                  0                  1    1  \n1                     0                  1                  0    0  \n2                     1                  1                  0    1  \n3                     0                  0                  1    1  \n4                     0                  1                  0    1  ",
      "text/html": "<div>\n<style scoped>\n    .dataframe tbody tr th:only-of-type {\n        vertical-align: middle;\n    }\n\n    .dataframe tbody tr th {\n        vertical-align: top;\n    }\n\n    .dataframe thead th {\n        text-align: right;\n    }\n</style>\n<table border=\"1\" class=\"dataframe\">\n  <thead>\n    <tr style=\"text-align: right;\">\n      <th></th>\n      <th>age</th>\n      <th>juv_fel_count</th>\n      <th>juv_misd_count</th>\n      <th>juv_other_count</th>\n      <th>priors_count</th>\n      <th>race</th>\n      <th>age_cat_25 - 45</th>\n      <th>age_cat_Greater than 45</th>\n      <th>age_cat_Less than 25</th>\n      <th>c_charge_degree_F</th>\n      <th>c_charge_degree_M</th>\n      <th>sex</th>\n    </tr>\n  </thead>\n  <tbody>\n    <tr>\n      <th>0</th>\n      <td>25</td>\n      <td>0.0</td>\n      <td>-2.340451</td>\n      <td>1.0</td>\n      <td>-15.010999</td>\n      <td>African-American</td>\n      <td>1</td>\n      <td>0</td>\n      <td>0</td>\n      <td>0</td>\n      <td>1</td>\n      <td>1</td>\n    </tr>\n    <tr>\n      <th>1</th>\n      <td>26</td>\n      <td>0.0</td>\n      <td>0.000000</td>\n      <td>0.0</td>\n      <td>0.000000</td>\n      <td>Caucasian</td>\n      <td>1</td>\n      <td>0</td>\n      <td>0</td>\n      <td>1</td>\n      <td>0</td>\n      <td>0</td>\n    </tr>\n    <tr>\n      <th>2</th>\n      <td>21</td>\n      <td>0.0</td>\n      <td>0.000000</td>\n      <td>0.0</td>\n      <td>0.000000</td>\n      <td>Caucasian</td>\n      <td>0</td>\n      <td>0</td>\n      <td>1</td>\n      <td>1</td>\n      <td>0</td>\n      <td>1</td>\n    </tr>\n    <tr>\n      <th>3</th>\n      <td>29</td>\n      <td>0.0</td>\n      <td>0.000000</td>\n      <td>0.0</td>\n      <td>6.000000</td>\n      <td>African-American</td>\n      <td>1</td>\n      <td>0</td>\n      <td>0</td>\n      <td>0</td>\n      <td>1</td>\n      <td>1</td>\n    </tr>\n    <tr>\n      <th>4</th>\n      <td>40</td>\n      <td>0.0</td>\n      <td>0.000000</td>\n      <td>0.0</td>\n      <td>7.513697</td>\n      <td>Caucasian</td>\n      <td>1</td>\n      <td>0</td>\n      <td>0</td>\n      <td>1</td>\n      <td>0</td>\n      <td>1</td>\n    </tr>\n  </tbody>\n</table>\n</div>"
     },
     "execution_count": 26,
     "metadata": {},
     "output_type": "execute_result"
    }
   ],
   "source": [
    "dataset = CompasDataset(dataset_path='../../data/COMPAS.csv')\n",
    "dataset.X_data.head()"
   ],
   "metadata": {
    "collapsed": false,
    "pycharm": {
     "name": "#%%\n"
    }
   }
  },
  {
   "cell_type": "markdown",
   "source": [
    "## Run experiments"
   ],
   "metadata": {
    "collapsed": false,
    "pycharm": {
     "name": "#%% md\n"
    }
   }
  },
  {
   "cell_type": "code",
   "execution_count": 27,
   "outputs": [],
   "source": [
    "def create_base_pipeline(dataset, protected_groups, priv_values, model_seed):\n",
    "    base_pipeline = GenericPipeline(dataset, protected_groups, priv_values)\n",
    "    _ = base_pipeline.create_preprocessed_train_test_split(dataset, config.TEST_SET_FRACTION, seed=model_seed)\n",
    "\n",
    "    print('\\nProtected groups splits:')\n",
    "    for g in base_pipeline.test_groups.keys():\n",
    "        print(g, base_pipeline.test_groups[g].shape)\n",
    "\n",
    "    return base_pipeline\n",
    "\n",
    "\n",
    "def get_model_metrics(base_model, n_estimators, dataset, protected_groups, priv_values, model_seed,\n",
    "                      dataset_name, base_model_name, exp_num=1):\n",
    "    base_pipeline = create_base_pipeline(dataset, protected_groups, priv_values, model_seed)\n",
    "\n",
    "    # Compute variance metrics for subgroups\n",
    "    save_results = False\n",
    "    stability_fairness_analyzer = StabilityFairnessAnalyzer(ModelSetting.BATCH, n_estimators, base_model, base_model_name,\n",
    "                                                            base_pipeline.X_train_val, base_pipeline.y_train_val,\n",
    "                                                            base_pipeline.X_test, base_pipeline.y_test,\n",
    "                                                            base_pipeline.protected_groups, base_pipeline.priv_values, base_pipeline.test_groups,\n",
    "                                                            base_pipeline.target, dataset_name)\n",
    "\n",
    "    y_preds, variance_metrics_df = stability_fairness_analyzer.compute_metrics(save_results=save_results,\n",
    "                                                                               result_filename=None,\n",
    "                                                                               save_dir_path=None,\n",
    "                                                                               make_plots=False)\n",
    "\n",
    "    # Compute bias metrics for subgroups\n",
    "    bias_analyzer = BiasAnalyzer(base_pipeline.X_test, base_pipeline.y_test,\n",
    "                                 base_pipeline.protected_groups, base_pipeline.priv_values,\n",
    "                                 base_pipeline.test_groups)\n",
    "    dtc_res = bias_analyzer.compute_subgroups_metrics(y_preds,\n",
    "                                                      save_results=False,\n",
    "                                                      result_filename=None,\n",
    "                                                      save_dir_path=None)\n",
    "    bias_metrics_df = pd.DataFrame(dtc_res)\n",
    "\n",
    "    # Save metrics\n",
    "    metrics_df = pd.concat([variance_metrics_df, bias_metrics_df])\n",
    "    result_filename = f'{EXPERIMENT_NAME}_Metrics_{dataset_name}_Experiment_{exp_num}_{base_model_name}'\n",
    "    save_dir_path = os.path.join('..', '..', 'results', 'hypothesis_space')\n",
    "    save_metrics_to_file(metrics_df, result_filename, save_dir_path)\n",
    "\n",
    "    return metrics_df\n"
   ],
   "metadata": {
    "collapsed": false,
    "pycharm": {
     "name": "#%%\n"
    }
   }
  },
  {
   "cell_type": "code",
   "execution_count": 28,
   "outputs": [],
   "source": [
    "def run_experiment(dataset, exp_num: int, model_seed: int):\n",
    "    \"\"\"\n",
    "    Find variance and bias metrics for each model in config.MODELS_CONFIG.\n",
    "    Save results in results/config.MODELS_CONFIG folder.\n",
    "\n",
    "    :param exp_num: the number of experiment; is used to name the result file with metrics\n",
    "    \"\"\"\n",
    "    for model_idx in tqdm(range(len(config.MODELS_CONFIG))):\n",
    "        print('#' * 30, f' [Experiment {exp_num}] Analyze {config.MODELS_CONFIG[model_idx][\"model_name\"]} ', '#' * 30)\n",
    "        model_seed += 1\n",
    "        try:\n",
    "            base_model = create_tuned_base_model(config.MODELS_CONFIG[model_idx]['model'],\n",
    "                                                 config.MODELS_CONFIG[model_idx]['model_name'],\n",
    "                                                 models_tuned_params_df)\n",
    "            results_df = get_model_metrics(base_model, N_ESTIMATORS, dataset, PROTECTED_GROUPS, PRIV_VALUES,\n",
    "                                           model_seed=model_seed,\n",
    "                                           dataset_name=DATASET_NAME,\n",
    "                                           base_model_name=config.MODELS_CONFIG[model_idx]['model_name'],\n",
    "                                           exp_num=exp_num)\n",
    "            print(f'\\n[Experiment {exp_num}] Metrics confusion matrix:')\n",
    "            display(results_df)\n",
    "        except Exception as err:\n",
    "            print(f'ERROR with {config.MODELS_CONFIG[model_idx][\"model_name\"]}: ', err)\n",
    "\n",
    "        print('\\n\\n\\n')\n"
   ],
   "metadata": {
    "collapsed": false,
    "pycharm": {
     "name": "#%%\n"
    }
   }
  },
  {
   "cell_type": "markdown",
   "source": [
    "### Experiment 1"
   ],
   "metadata": {
    "collapsed": false,
    "pycharm": {
     "name": "#%% md\n"
    }
   }
  },
  {
   "cell_type": "code",
   "execution_count": 29,
   "outputs": [
    {
     "name": "stderr",
     "output_type": "stream",
     "text": [
      "  0%|          | 0/1 [00:00<?, ?it/s]"
     ]
    },
    {
     "name": "stdout",
     "output_type": "stream",
     "text": [
      "##############################  [Experiment 1] Analyze DecisionTreeClassifier  ##############################\n",
      "Baseline X_train shape:  (4222, 12)\n",
      "Baseline X_test shape:  (1056, 12)\n"
     ]
    },
    {
     "name": "stderr",
     "output_type": "stream",
     "text": [
      "2023-01-15 18:59:36 abstract_stability_analyzer.py INFO    : Start testing of classifier 1 / 200\n",
      "2023-01-15 18:59:36 abstract_stability_analyzer.py INFO    : Classifier 1 / 200 was tested\n",
      "2023-01-15 18:59:36 abstract_stability_analyzer.py INFO    : Start testing of classifier 2 / 200\n",
      "2023-01-15 18:59:36 abstract_stability_analyzer.py INFO    : Classifier 2 / 200 was tested\n",
      "2023-01-15 18:59:36 abstract_stability_analyzer.py INFO    : Start testing of classifier 3 / 200\n",
      "2023-01-15 18:59:36 abstract_stability_analyzer.py INFO    : Classifier 3 / 200 was tested\n",
      "2023-01-15 18:59:36 abstract_stability_analyzer.py INFO    : Start testing of classifier 4 / 200\n",
      "2023-01-15 18:59:36 abstract_stability_analyzer.py INFO    : Classifier 4 / 200 was tested\n",
      "2023-01-15 18:59:36 abstract_stability_analyzer.py INFO    : Start testing of classifier 5 / 200\n",
      "2023-01-15 18:59:36 abstract_stability_analyzer.py INFO    : Classifier 5 / 200 was tested\n",
      "2023-01-15 18:59:36 abstract_stability_analyzer.py INFO    : Start testing of classifier 6 / 200\n",
      "2023-01-15 18:59:36 abstract_stability_analyzer.py INFO    : Classifier 6 / 200 was tested\n",
      "2023-01-15 18:59:36 abstract_stability_analyzer.py INFO    : Start testing of classifier 7 / 200\n",
      "2023-01-15 18:59:36 abstract_stability_analyzer.py INFO    : Classifier 7 / 200 was tested\n",
      "2023-01-15 18:59:36 abstract_stability_analyzer.py INFO    : Start testing of classifier 8 / 200\n",
      "2023-01-15 18:59:36 abstract_stability_analyzer.py INFO    : Classifier 8 / 200 was tested\n",
      "2023-01-15 18:59:36 abstract_stability_analyzer.py INFO    : Start testing of classifier 9 / 200\n",
      "2023-01-15 18:59:36 abstract_stability_analyzer.py INFO    : Classifier 9 / 200 was tested\n",
      "2023-01-15 18:59:36 abstract_stability_analyzer.py INFO    : Start testing of classifier 10 / 200\n",
      "2023-01-15 18:59:36 abstract_stability_analyzer.py INFO    : Classifier 10 / 200 was tested\n",
      "2023-01-15 18:59:36 abstract_stability_analyzer.py INFO    : Start testing of classifier 11 / 200\n",
      "2023-01-15 18:59:36 abstract_stability_analyzer.py INFO    : Classifier 11 / 200 was tested\n",
      "2023-01-15 18:59:36 abstract_stability_analyzer.py INFO    : Start testing of classifier 12 / 200\n",
      "2023-01-15 18:59:36 abstract_stability_analyzer.py INFO    : Classifier 12 / 200 was tested\n",
      "2023-01-15 18:59:36 abstract_stability_analyzer.py INFO    : Start testing of classifier 13 / 200\n",
      "2023-01-15 18:59:36 abstract_stability_analyzer.py INFO    : Classifier 13 / 200 was tested\n",
      "2023-01-15 18:59:36 abstract_stability_analyzer.py INFO    : Start testing of classifier 14 / 200\n",
      "2023-01-15 18:59:36 abstract_stability_analyzer.py INFO    : Classifier 14 / 200 was tested\n",
      "2023-01-15 18:59:36 abstract_stability_analyzer.py INFO    : Start testing of classifier 15 / 200\n",
      "2023-01-15 18:59:36 abstract_stability_analyzer.py INFO    : Classifier 15 / 200 was tested\n",
      "2023-01-15 18:59:36 abstract_stability_analyzer.py INFO    : Start testing of classifier 16 / 200\n",
      "2023-01-15 18:59:36 abstract_stability_analyzer.py INFO    : Classifier 16 / 200 was tested\n",
      "2023-01-15 18:59:36 abstract_stability_analyzer.py INFO    : Start testing of classifier 17 / 200\n",
      "2023-01-15 18:59:36 abstract_stability_analyzer.py INFO    : Classifier 17 / 200 was tested\n",
      "2023-01-15 18:59:36 abstract_stability_analyzer.py INFO    : Start testing of classifier 18 / 200\n",
      "2023-01-15 18:59:36 abstract_stability_analyzer.py INFO    : Classifier 18 / 200 was tested\n",
      "2023-01-15 18:59:36 abstract_stability_analyzer.py INFO    : Start testing of classifier 19 / 200\n",
      "2023-01-15 18:59:36 abstract_stability_analyzer.py INFO    : Classifier 19 / 200 was tested\n",
      "2023-01-15 18:59:36 abstract_stability_analyzer.py INFO    : Start testing of classifier 20 / 200\n",
      "2023-01-15 18:59:36 abstract_stability_analyzer.py INFO    : Classifier 20 / 200 was tested\n",
      "2023-01-15 18:59:36 abstract_stability_analyzer.py INFO    : Start testing of classifier 21 / 200\n",
      "2023-01-15 18:59:36 abstract_stability_analyzer.py INFO    : Classifier 21 / 200 was tested\n",
      "2023-01-15 18:59:36 abstract_stability_analyzer.py INFO    : Start testing of classifier 22 / 200\n",
      "2023-01-15 18:59:36 abstract_stability_analyzer.py INFO    : Classifier 22 / 200 was tested\n",
      "2023-01-15 18:59:36 abstract_stability_analyzer.py INFO    : Start testing of classifier 23 / 200\n",
      "2023-01-15 18:59:36 abstract_stability_analyzer.py INFO    : Classifier 23 / 200 was tested\n"
     ]
    },
    {
     "name": "stdout",
     "output_type": "stream",
     "text": [
      "\n",
      "Protected groups splits:\n",
      "sex_race_priv (339, 12)\n",
      "sex_race_dis (111, 12)\n",
      "sex_priv (857, 12)\n",
      "sex_dis (199, 12)\n",
      "race_priv (427, 12)\n",
      "race_dis (629, 12)\n"
     ]
    },
    {
     "name": "stderr",
     "output_type": "stream",
     "text": [
      "2023-01-15 18:59:36 abstract_stability_analyzer.py INFO    : Start testing of classifier 24 / 200\n",
      "2023-01-15 18:59:36 abstract_stability_analyzer.py INFO    : Classifier 24 / 200 was tested\n",
      "2023-01-15 18:59:36 abstract_stability_analyzer.py INFO    : Start testing of classifier 25 / 200\n",
      "2023-01-15 18:59:36 abstract_stability_analyzer.py INFO    : Classifier 25 / 200 was tested\n",
      "2023-01-15 18:59:36 abstract_stability_analyzer.py INFO    : Start testing of classifier 26 / 200\n",
      "2023-01-15 18:59:36 abstract_stability_analyzer.py INFO    : Classifier 26 / 200 was tested\n",
      "2023-01-15 18:59:36 abstract_stability_analyzer.py INFO    : Start testing of classifier 27 / 200\n",
      "2023-01-15 18:59:36 abstract_stability_analyzer.py INFO    : Classifier 27 / 200 was tested\n",
      "2023-01-15 18:59:36 abstract_stability_analyzer.py INFO    : Start testing of classifier 28 / 200\n",
      "2023-01-15 18:59:36 abstract_stability_analyzer.py INFO    : Classifier 28 / 200 was tested\n",
      "2023-01-15 18:59:36 abstract_stability_analyzer.py INFO    : Start testing of classifier 29 / 200\n",
      "2023-01-15 18:59:36 abstract_stability_analyzer.py INFO    : Classifier 29 / 200 was tested\n",
      "2023-01-15 18:59:36 abstract_stability_analyzer.py INFO    : Start testing of classifier 30 / 200\n",
      "2023-01-15 18:59:36 abstract_stability_analyzer.py INFO    : Classifier 30 / 200 was tested\n",
      "2023-01-15 18:59:36 abstract_stability_analyzer.py INFO    : Start testing of classifier 31 / 200\n",
      "2023-01-15 18:59:36 abstract_stability_analyzer.py INFO    : Classifier 31 / 200 was tested\n",
      "2023-01-15 18:59:36 abstract_stability_analyzer.py INFO    : Start testing of classifier 32 / 200\n",
      "2023-01-15 18:59:36 abstract_stability_analyzer.py INFO    : Classifier 32 / 200 was tested\n",
      "2023-01-15 18:59:36 abstract_stability_analyzer.py INFO    : Start testing of classifier 33 / 200\n",
      "2023-01-15 18:59:36 abstract_stability_analyzer.py INFO    : Classifier 33 / 200 was tested\n",
      "2023-01-15 18:59:36 abstract_stability_analyzer.py INFO    : Start testing of classifier 34 / 200\n",
      "2023-01-15 18:59:36 abstract_stability_analyzer.py INFO    : Classifier 34 / 200 was tested\n",
      "2023-01-15 18:59:36 abstract_stability_analyzer.py INFO    : Start testing of classifier 35 / 200\n",
      "2023-01-15 18:59:36 abstract_stability_analyzer.py INFO    : Classifier 35 / 200 was tested\n",
      "2023-01-15 18:59:36 abstract_stability_analyzer.py INFO    : Start testing of classifier 36 / 200\n",
      "2023-01-15 18:59:36 abstract_stability_analyzer.py INFO    : Classifier 36 / 200 was tested\n",
      "2023-01-15 18:59:36 abstract_stability_analyzer.py INFO    : Start testing of classifier 37 / 200\n",
      "2023-01-15 18:59:36 abstract_stability_analyzer.py INFO    : Classifier 37 / 200 was tested\n",
      "2023-01-15 18:59:36 abstract_stability_analyzer.py INFO    : Start testing of classifier 38 / 200\n",
      "2023-01-15 18:59:36 abstract_stability_analyzer.py INFO    : Classifier 38 / 200 was tested\n",
      "2023-01-15 18:59:36 abstract_stability_analyzer.py INFO    : Start testing of classifier 39 / 200\n",
      "2023-01-15 18:59:36 abstract_stability_analyzer.py INFO    : Classifier 39 / 200 was tested\n",
      "2023-01-15 18:59:36 abstract_stability_analyzer.py INFO    : Start testing of classifier 40 / 200\n",
      "2023-01-15 18:59:36 abstract_stability_analyzer.py INFO    : Classifier 40 / 200 was tested\n",
      "2023-01-15 18:59:36 abstract_stability_analyzer.py INFO    : Start testing of classifier 41 / 200\n",
      "2023-01-15 18:59:37 abstract_stability_analyzer.py INFO    : Classifier 41 / 200 was tested\n",
      "2023-01-15 18:59:37 abstract_stability_analyzer.py INFO    : Start testing of classifier 42 / 200\n",
      "2023-01-15 18:59:37 abstract_stability_analyzer.py INFO    : Classifier 42 / 200 was tested\n",
      "2023-01-15 18:59:37 abstract_stability_analyzer.py INFO    : Start testing of classifier 43 / 200\n",
      "2023-01-15 18:59:37 abstract_stability_analyzer.py INFO    : Classifier 43 / 200 was tested\n",
      "2023-01-15 18:59:37 abstract_stability_analyzer.py INFO    : Start testing of classifier 44 / 200\n",
      "2023-01-15 18:59:37 abstract_stability_analyzer.py INFO    : Classifier 44 / 200 was tested\n",
      "2023-01-15 18:59:37 abstract_stability_analyzer.py INFO    : Start testing of classifier 45 / 200\n",
      "2023-01-15 18:59:37 abstract_stability_analyzer.py INFO    : Classifier 45 / 200 was tested\n",
      "2023-01-15 18:59:37 abstract_stability_analyzer.py INFO    : Start testing of classifier 46 / 200\n",
      "2023-01-15 18:59:37 abstract_stability_analyzer.py INFO    : Classifier 46 / 200 was tested\n",
      "2023-01-15 18:59:37 abstract_stability_analyzer.py INFO    : Start testing of classifier 47 / 200\n",
      "2023-01-15 18:59:37 abstract_stability_analyzer.py INFO    : Classifier 47 / 200 was tested\n",
      "2023-01-15 18:59:37 abstract_stability_analyzer.py INFO    : Start testing of classifier 48 / 200\n",
      "2023-01-15 18:59:37 abstract_stability_analyzer.py INFO    : Classifier 48 / 200 was tested\n",
      "2023-01-15 18:59:37 abstract_stability_analyzer.py INFO    : Start testing of classifier 49 / 200\n",
      "2023-01-15 18:59:37 abstract_stability_analyzer.py INFO    : Classifier 49 / 200 was tested\n",
      "2023-01-15 18:59:37 abstract_stability_analyzer.py INFO    : Start testing of classifier 50 / 200\n",
      "2023-01-15 18:59:37 abstract_stability_analyzer.py INFO    : Classifier 50 / 200 was tested\n",
      "2023-01-15 18:59:37 abstract_stability_analyzer.py INFO    : Start testing of classifier 51 / 200\n",
      "2023-01-15 18:59:37 abstract_stability_analyzer.py INFO    : Classifier 51 / 200 was tested\n",
      "2023-01-15 18:59:37 abstract_stability_analyzer.py INFO    : Start testing of classifier 52 / 200\n",
      "2023-01-15 18:59:37 abstract_stability_analyzer.py INFO    : Classifier 52 / 200 was tested\n",
      "2023-01-15 18:59:37 abstract_stability_analyzer.py INFO    : Start testing of classifier 53 / 200\n",
      "2023-01-15 18:59:37 abstract_stability_analyzer.py INFO    : Classifier 53 / 200 was tested\n",
      "2023-01-15 18:59:37 abstract_stability_analyzer.py INFO    : Start testing of classifier 54 / 200\n",
      "2023-01-15 18:59:37 abstract_stability_analyzer.py INFO    : Classifier 54 / 200 was tested\n",
      "2023-01-15 18:59:37 abstract_stability_analyzer.py INFO    : Start testing of classifier 55 / 200\n",
      "2023-01-15 18:59:37 abstract_stability_analyzer.py INFO    : Classifier 55 / 200 was tested\n",
      "2023-01-15 18:59:37 abstract_stability_analyzer.py INFO    : Start testing of classifier 56 / 200\n",
      "2023-01-15 18:59:37 abstract_stability_analyzer.py INFO    : Classifier 56 / 200 was tested\n",
      "2023-01-15 18:59:37 abstract_stability_analyzer.py INFO    : Start testing of classifier 57 / 200\n",
      "2023-01-15 18:59:37 abstract_stability_analyzer.py INFO    : Classifier 57 / 200 was tested\n",
      "2023-01-15 18:59:37 abstract_stability_analyzer.py INFO    : Start testing of classifier 58 / 200\n",
      "2023-01-15 18:59:37 abstract_stability_analyzer.py INFO    : Classifier 58 / 200 was tested\n",
      "2023-01-15 18:59:37 abstract_stability_analyzer.py INFO    : Start testing of classifier 59 / 200\n",
      "2023-01-15 18:59:37 abstract_stability_analyzer.py INFO    : Classifier 59 / 200 was tested\n",
      "2023-01-15 18:59:37 abstract_stability_analyzer.py INFO    : Start testing of classifier 60 / 200\n",
      "2023-01-15 18:59:37 abstract_stability_analyzer.py INFO    : Classifier 60 / 200 was tested\n",
      "2023-01-15 18:59:37 abstract_stability_analyzer.py INFO    : Start testing of classifier 61 / 200\n",
      "2023-01-15 18:59:37 abstract_stability_analyzer.py INFO    : Classifier 61 / 200 was tested\n",
      "2023-01-15 18:59:37 abstract_stability_analyzer.py INFO    : Start testing of classifier 62 / 200\n",
      "2023-01-15 18:59:37 abstract_stability_analyzer.py INFO    : Classifier 62 / 200 was tested\n",
      "2023-01-15 18:59:37 abstract_stability_analyzer.py INFO    : Start testing of classifier 63 / 200\n",
      "2023-01-15 18:59:37 abstract_stability_analyzer.py INFO    : Classifier 63 / 200 was tested\n",
      "2023-01-15 18:59:37 abstract_stability_analyzer.py INFO    : Start testing of classifier 64 / 200\n",
      "2023-01-15 18:59:37 abstract_stability_analyzer.py INFO    : Classifier 64 / 200 was tested\n",
      "2023-01-15 18:59:37 abstract_stability_analyzer.py INFO    : Start testing of classifier 65 / 200\n",
      "2023-01-15 18:59:37 abstract_stability_analyzer.py INFO    : Classifier 65 / 200 was tested\n",
      "2023-01-15 18:59:37 abstract_stability_analyzer.py INFO    : Start testing of classifier 66 / 200\n",
      "2023-01-15 18:59:37 abstract_stability_analyzer.py INFO    : Classifier 66 / 200 was tested\n",
      "2023-01-15 18:59:37 abstract_stability_analyzer.py INFO    : Start testing of classifier 67 / 200\n",
      "2023-01-15 18:59:37 abstract_stability_analyzer.py INFO    : Classifier 67 / 200 was tested\n",
      "2023-01-15 18:59:37 abstract_stability_analyzer.py INFO    : Start testing of classifier 68 / 200\n",
      "2023-01-15 18:59:37 abstract_stability_analyzer.py INFO    : Classifier 68 / 200 was tested\n",
      "2023-01-15 18:59:37 abstract_stability_analyzer.py INFO    : Start testing of classifier 69 / 200\n",
      "2023-01-15 18:59:37 abstract_stability_analyzer.py INFO    : Classifier 69 / 200 was tested\n",
      "2023-01-15 18:59:37 abstract_stability_analyzer.py INFO    : Start testing of classifier 70 / 200\n",
      "2023-01-15 18:59:37 abstract_stability_analyzer.py INFO    : Classifier 70 / 200 was tested\n",
      "2023-01-15 18:59:37 abstract_stability_analyzer.py INFO    : Start testing of classifier 71 / 200\n",
      "2023-01-15 18:59:37 abstract_stability_analyzer.py INFO    : Classifier 71 / 200 was tested\n",
      "2023-01-15 18:59:37 abstract_stability_analyzer.py INFO    : Start testing of classifier 72 / 200\n",
      "2023-01-15 18:59:37 abstract_stability_analyzer.py INFO    : Classifier 72 / 200 was tested\n",
      "2023-01-15 18:59:37 abstract_stability_analyzer.py INFO    : Start testing of classifier 73 / 200\n",
      "2023-01-15 18:59:37 abstract_stability_analyzer.py INFO    : Classifier 73 / 200 was tested\n",
      "2023-01-15 18:59:37 abstract_stability_analyzer.py INFO    : Start testing of classifier 74 / 200\n",
      "2023-01-15 18:59:37 abstract_stability_analyzer.py INFO    : Classifier 74 / 200 was tested\n",
      "2023-01-15 18:59:37 abstract_stability_analyzer.py INFO    : Start testing of classifier 75 / 200\n",
      "2023-01-15 18:59:37 abstract_stability_analyzer.py INFO    : Classifier 75 / 200 was tested\n",
      "2023-01-15 18:59:37 abstract_stability_analyzer.py INFO    : Start testing of classifier 76 / 200\n",
      "2023-01-15 18:59:37 abstract_stability_analyzer.py INFO    : Classifier 76 / 200 was tested\n",
      "2023-01-15 18:59:37 abstract_stability_analyzer.py INFO    : Start testing of classifier 77 / 200\n",
      "2023-01-15 18:59:37 abstract_stability_analyzer.py INFO    : Classifier 77 / 200 was tested\n",
      "2023-01-15 18:59:37 abstract_stability_analyzer.py INFO    : Start testing of classifier 78 / 200\n",
      "2023-01-15 18:59:37 abstract_stability_analyzer.py INFO    : Classifier 78 / 200 was tested\n",
      "2023-01-15 18:59:37 abstract_stability_analyzer.py INFO    : Start testing of classifier 79 / 200\n",
      "2023-01-15 18:59:37 abstract_stability_analyzer.py INFO    : Classifier 79 / 200 was tested\n",
      "2023-01-15 18:59:37 abstract_stability_analyzer.py INFO    : Start testing of classifier 80 / 200\n",
      "2023-01-15 18:59:37 abstract_stability_analyzer.py INFO    : Classifier 80 / 200 was tested\n",
      "2023-01-15 18:59:37 abstract_stability_analyzer.py INFO    : Start testing of classifier 81 / 200\n",
      "2023-01-15 18:59:37 abstract_stability_analyzer.py INFO    : Classifier 81 / 200 was tested\n",
      "2023-01-15 18:59:37 abstract_stability_analyzer.py INFO    : Start testing of classifier 82 / 200\n",
      "2023-01-15 18:59:37 abstract_stability_analyzer.py INFO    : Classifier 82 / 200 was tested\n",
      "2023-01-15 18:59:37 abstract_stability_analyzer.py INFO    : Start testing of classifier 83 / 200\n",
      "2023-01-15 18:59:37 abstract_stability_analyzer.py INFO    : Classifier 83 / 200 was tested\n",
      "2023-01-15 18:59:37 abstract_stability_analyzer.py INFO    : Start testing of classifier 84 / 200\n",
      "2023-01-15 18:59:37 abstract_stability_analyzer.py INFO    : Classifier 84 / 200 was tested\n",
      "2023-01-15 18:59:37 abstract_stability_analyzer.py INFO    : Start testing of classifier 85 / 200\n",
      "2023-01-15 18:59:37 abstract_stability_analyzer.py INFO    : Classifier 85 / 200 was tested\n",
      "2023-01-15 18:59:37 abstract_stability_analyzer.py INFO    : Start testing of classifier 86 / 200\n",
      "2023-01-15 18:59:37 abstract_stability_analyzer.py INFO    : Classifier 86 / 200 was tested\n",
      "2023-01-15 18:59:37 abstract_stability_analyzer.py INFO    : Start testing of classifier 87 / 200\n",
      "2023-01-15 18:59:37 abstract_stability_analyzer.py INFO    : Classifier 87 / 200 was tested\n",
      "2023-01-15 18:59:37 abstract_stability_analyzer.py INFO    : Start testing of classifier 88 / 200\n",
      "2023-01-15 18:59:37 abstract_stability_analyzer.py INFO    : Classifier 88 / 200 was tested\n",
      "2023-01-15 18:59:37 abstract_stability_analyzer.py INFO    : Start testing of classifier 89 / 200\n",
      "2023-01-15 18:59:37 abstract_stability_analyzer.py INFO    : Classifier 89 / 200 was tested\n",
      "2023-01-15 18:59:37 abstract_stability_analyzer.py INFO    : Start testing of classifier 90 / 200\n",
      "2023-01-15 18:59:37 abstract_stability_analyzer.py INFO    : Classifier 90 / 200 was tested\n",
      "2023-01-15 18:59:37 abstract_stability_analyzer.py INFO    : Start testing of classifier 91 / 200\n",
      "2023-01-15 18:59:37 abstract_stability_analyzer.py INFO    : Classifier 91 / 200 was tested\n",
      "2023-01-15 18:59:37 abstract_stability_analyzer.py INFO    : Start testing of classifier 92 / 200\n",
      "2023-01-15 18:59:37 abstract_stability_analyzer.py INFO    : Classifier 92 / 200 was tested\n",
      "2023-01-15 18:59:37 abstract_stability_analyzer.py INFO    : Start testing of classifier 93 / 200\n",
      "2023-01-15 18:59:37 abstract_stability_analyzer.py INFO    : Classifier 93 / 200 was tested\n",
      "2023-01-15 18:59:37 abstract_stability_analyzer.py INFO    : Start testing of classifier 94 / 200\n",
      "2023-01-15 18:59:37 abstract_stability_analyzer.py INFO    : Classifier 94 / 200 was tested\n",
      "2023-01-15 18:59:37 abstract_stability_analyzer.py INFO    : Start testing of classifier 95 / 200\n",
      "2023-01-15 18:59:37 abstract_stability_analyzer.py INFO    : Classifier 95 / 200 was tested\n",
      "2023-01-15 18:59:37 abstract_stability_analyzer.py INFO    : Start testing of classifier 96 / 200\n",
      "2023-01-15 18:59:37 abstract_stability_analyzer.py INFO    : Classifier 96 / 200 was tested\n",
      "2023-01-15 18:59:37 abstract_stability_analyzer.py INFO    : Start testing of classifier 97 / 200\n",
      "2023-01-15 18:59:37 abstract_stability_analyzer.py INFO    : Classifier 97 / 200 was tested\n",
      "2023-01-15 18:59:37 abstract_stability_analyzer.py INFO    : Start testing of classifier 98 / 200\n",
      "2023-01-15 18:59:37 abstract_stability_analyzer.py INFO    : Classifier 98 / 200 was tested\n",
      "2023-01-15 18:59:37 abstract_stability_analyzer.py INFO    : Start testing of classifier 99 / 200\n",
      "2023-01-15 18:59:37 abstract_stability_analyzer.py INFO    : Classifier 99 / 200 was tested\n",
      "2023-01-15 18:59:37 abstract_stability_analyzer.py INFO    : Start testing of classifier 100 / 200\n",
      "2023-01-15 18:59:37 abstract_stability_analyzer.py INFO    : Classifier 100 / 200 was tested\n",
      "2023-01-15 18:59:37 abstract_stability_analyzer.py INFO    : Start testing of classifier 101 / 200\n",
      "2023-01-15 18:59:37 abstract_stability_analyzer.py INFO    : Classifier 101 / 200 was tested\n",
      "2023-01-15 18:59:37 abstract_stability_analyzer.py INFO    : Start testing of classifier 102 / 200\n",
      "2023-01-15 18:59:37 abstract_stability_analyzer.py INFO    : Classifier 102 / 200 was tested\n",
      "2023-01-15 18:59:37 abstract_stability_analyzer.py INFO    : Start testing of classifier 103 / 200\n",
      "2023-01-15 18:59:37 abstract_stability_analyzer.py INFO    : Classifier 103 / 200 was tested\n",
      "2023-01-15 18:59:37 abstract_stability_analyzer.py INFO    : Start testing of classifier 104 / 200\n",
      "2023-01-15 18:59:37 abstract_stability_analyzer.py INFO    : Classifier 104 / 200 was tested\n",
      "2023-01-15 18:59:37 abstract_stability_analyzer.py INFO    : Start testing of classifier 105 / 200\n",
      "2023-01-15 18:59:37 abstract_stability_analyzer.py INFO    : Classifier 105 / 200 was tested\n",
      "2023-01-15 18:59:37 abstract_stability_analyzer.py INFO    : Start testing of classifier 106 / 200\n",
      "2023-01-15 18:59:37 abstract_stability_analyzer.py INFO    : Classifier 106 / 200 was tested\n",
      "2023-01-15 18:59:37 abstract_stability_analyzer.py INFO    : Start testing of classifier 107 / 200\n",
      "2023-01-15 18:59:37 abstract_stability_analyzer.py INFO    : Classifier 107 / 200 was tested\n",
      "2023-01-15 18:59:37 abstract_stability_analyzer.py INFO    : Start testing of classifier 108 / 200\n",
      "2023-01-15 18:59:37 abstract_stability_analyzer.py INFO    : Classifier 108 / 200 was tested\n",
      "2023-01-15 18:59:37 abstract_stability_analyzer.py INFO    : Start testing of classifier 109 / 200\n",
      "2023-01-15 18:59:37 abstract_stability_analyzer.py INFO    : Classifier 109 / 200 was tested\n",
      "2023-01-15 18:59:37 abstract_stability_analyzer.py INFO    : Start testing of classifier 110 / 200\n",
      "2023-01-15 18:59:37 abstract_stability_analyzer.py INFO    : Classifier 110 / 200 was tested\n",
      "2023-01-15 18:59:37 abstract_stability_analyzer.py INFO    : Start testing of classifier 111 / 200\n",
      "2023-01-15 18:59:37 abstract_stability_analyzer.py INFO    : Classifier 111 / 200 was tested\n",
      "2023-01-15 18:59:37 abstract_stability_analyzer.py INFO    : Start testing of classifier 112 / 200\n",
      "2023-01-15 18:59:37 abstract_stability_analyzer.py INFO    : Classifier 112 / 200 was tested\n",
      "2023-01-15 18:59:37 abstract_stability_analyzer.py INFO    : Start testing of classifier 113 / 200\n",
      "2023-01-15 18:59:37 abstract_stability_analyzer.py INFO    : Classifier 113 / 200 was tested\n",
      "2023-01-15 18:59:37 abstract_stability_analyzer.py INFO    : Start testing of classifier 114 / 200\n",
      "2023-01-15 18:59:37 abstract_stability_analyzer.py INFO    : Classifier 114 / 200 was tested\n",
      "2023-01-15 18:59:37 abstract_stability_analyzer.py INFO    : Start testing of classifier 115 / 200\n",
      "2023-01-15 18:59:37 abstract_stability_analyzer.py INFO    : Classifier 115 / 200 was tested\n",
      "2023-01-15 18:59:37 abstract_stability_analyzer.py INFO    : Start testing of classifier 116 / 200\n",
      "2023-01-15 18:59:37 abstract_stability_analyzer.py INFO    : Classifier 116 / 200 was tested\n",
      "2023-01-15 18:59:37 abstract_stability_analyzer.py INFO    : Start testing of classifier 117 / 200\n",
      "2023-01-15 18:59:37 abstract_stability_analyzer.py INFO    : Classifier 117 / 200 was tested\n",
      "2023-01-15 18:59:37 abstract_stability_analyzer.py INFO    : Start testing of classifier 118 / 200\n",
      "2023-01-15 18:59:37 abstract_stability_analyzer.py INFO    : Classifier 118 / 200 was tested\n",
      "2023-01-15 18:59:37 abstract_stability_analyzer.py INFO    : Start testing of classifier 119 / 200\n",
      "2023-01-15 18:59:37 abstract_stability_analyzer.py INFO    : Classifier 119 / 200 was tested\n",
      "2023-01-15 18:59:37 abstract_stability_analyzer.py INFO    : Start testing of classifier 120 / 200\n",
      "2023-01-15 18:59:37 abstract_stability_analyzer.py INFO    : Classifier 120 / 200 was tested\n",
      "2023-01-15 18:59:37 abstract_stability_analyzer.py INFO    : Start testing of classifier 121 / 200\n",
      "2023-01-15 18:59:37 abstract_stability_analyzer.py INFO    : Classifier 121 / 200 was tested\n",
      "2023-01-15 18:59:37 abstract_stability_analyzer.py INFO    : Start testing of classifier 122 / 200\n",
      "2023-01-15 18:59:37 abstract_stability_analyzer.py INFO    : Classifier 122 / 200 was tested\n",
      "2023-01-15 18:59:37 abstract_stability_analyzer.py INFO    : Start testing of classifier 123 / 200\n",
      "2023-01-15 18:59:37 abstract_stability_analyzer.py INFO    : Classifier 123 / 200 was tested\n",
      "2023-01-15 18:59:37 abstract_stability_analyzer.py INFO    : Start testing of classifier 124 / 200\n",
      "2023-01-15 18:59:37 abstract_stability_analyzer.py INFO    : Classifier 124 / 200 was tested\n",
      "2023-01-15 18:59:37 abstract_stability_analyzer.py INFO    : Start testing of classifier 125 / 200\n",
      "2023-01-15 18:59:37 abstract_stability_analyzer.py INFO    : Classifier 125 / 200 was tested\n",
      "2023-01-15 18:59:37 abstract_stability_analyzer.py INFO    : Start testing of classifier 126 / 200\n",
      "2023-01-15 18:59:37 abstract_stability_analyzer.py INFO    : Classifier 126 / 200 was tested\n",
      "2023-01-15 18:59:37 abstract_stability_analyzer.py INFO    : Start testing of classifier 127 / 200\n",
      "2023-01-15 18:59:37 abstract_stability_analyzer.py INFO    : Classifier 127 / 200 was tested\n",
      "2023-01-15 18:59:37 abstract_stability_analyzer.py INFO    : Start testing of classifier 128 / 200\n",
      "2023-01-15 18:59:37 abstract_stability_analyzer.py INFO    : Classifier 128 / 200 was tested\n",
      "2023-01-15 18:59:37 abstract_stability_analyzer.py INFO    : Start testing of classifier 129 / 200\n",
      "2023-01-15 18:59:37 abstract_stability_analyzer.py INFO    : Classifier 129 / 200 was tested\n",
      "2023-01-15 18:59:37 abstract_stability_analyzer.py INFO    : Start testing of classifier 130 / 200\n",
      "2023-01-15 18:59:37 abstract_stability_analyzer.py INFO    : Classifier 130 / 200 was tested\n",
      "2023-01-15 18:59:37 abstract_stability_analyzer.py INFO    : Start testing of classifier 131 / 200\n",
      "2023-01-15 18:59:37 abstract_stability_analyzer.py INFO    : Classifier 131 / 200 was tested\n",
      "2023-01-15 18:59:37 abstract_stability_analyzer.py INFO    : Start testing of classifier 132 / 200\n",
      "2023-01-15 18:59:37 abstract_stability_analyzer.py INFO    : Classifier 132 / 200 was tested\n",
      "2023-01-15 18:59:37 abstract_stability_analyzer.py INFO    : Start testing of classifier 133 / 200\n",
      "2023-01-15 18:59:37 abstract_stability_analyzer.py INFO    : Classifier 133 / 200 was tested\n",
      "2023-01-15 18:59:37 abstract_stability_analyzer.py INFO    : Start testing of classifier 134 / 200\n",
      "2023-01-15 18:59:37 abstract_stability_analyzer.py INFO    : Classifier 134 / 200 was tested\n",
      "2023-01-15 18:59:37 abstract_stability_analyzer.py INFO    : Start testing of classifier 135 / 200\n",
      "2023-01-15 18:59:37 abstract_stability_analyzer.py INFO    : Classifier 135 / 200 was tested\n",
      "2023-01-15 18:59:37 abstract_stability_analyzer.py INFO    : Start testing of classifier 136 / 200\n",
      "2023-01-15 18:59:37 abstract_stability_analyzer.py INFO    : Classifier 136 / 200 was tested\n",
      "2023-01-15 18:59:37 abstract_stability_analyzer.py INFO    : Start testing of classifier 137 / 200\n",
      "2023-01-15 18:59:37 abstract_stability_analyzer.py INFO    : Classifier 137 / 200 was tested\n",
      "2023-01-15 18:59:37 abstract_stability_analyzer.py INFO    : Start testing of classifier 138 / 200\n",
      "2023-01-15 18:59:37 abstract_stability_analyzer.py INFO    : Classifier 138 / 200 was tested\n",
      "2023-01-15 18:59:37 abstract_stability_analyzer.py INFO    : Start testing of classifier 139 / 200\n",
      "2023-01-15 18:59:37 abstract_stability_analyzer.py INFO    : Classifier 139 / 200 was tested\n",
      "2023-01-15 18:59:37 abstract_stability_analyzer.py INFO    : Start testing of classifier 140 / 200\n",
      "2023-01-15 18:59:37 abstract_stability_analyzer.py INFO    : Classifier 140 / 200 was tested\n",
      "2023-01-15 18:59:37 abstract_stability_analyzer.py INFO    : Start testing of classifier 141 / 200\n",
      "2023-01-15 18:59:37 abstract_stability_analyzer.py INFO    : Classifier 141 / 200 was tested\n",
      "2023-01-15 18:59:37 abstract_stability_analyzer.py INFO    : Start testing of classifier 142 / 200\n",
      "2023-01-15 18:59:37 abstract_stability_analyzer.py INFO    : Classifier 142 / 200 was tested\n",
      "2023-01-15 18:59:37 abstract_stability_analyzer.py INFO    : Start testing of classifier 143 / 200\n",
      "2023-01-15 18:59:37 abstract_stability_analyzer.py INFO    : Classifier 143 / 200 was tested\n",
      "2023-01-15 18:59:37 abstract_stability_analyzer.py INFO    : Start testing of classifier 144 / 200\n",
      "2023-01-15 18:59:37 abstract_stability_analyzer.py INFO    : Classifier 144 / 200 was tested\n",
      "2023-01-15 18:59:37 abstract_stability_analyzer.py INFO    : Start testing of classifier 145 / 200\n",
      "2023-01-15 18:59:37 abstract_stability_analyzer.py INFO    : Classifier 145 / 200 was tested\n",
      "2023-01-15 18:59:37 abstract_stability_analyzer.py INFO    : Start testing of classifier 146 / 200\n",
      "2023-01-15 18:59:37 abstract_stability_analyzer.py INFO    : Classifier 146 / 200 was tested\n",
      "2023-01-15 18:59:37 abstract_stability_analyzer.py INFO    : Start testing of classifier 147 / 200\n",
      "2023-01-15 18:59:37 abstract_stability_analyzer.py INFO    : Classifier 147 / 200 was tested\n",
      "2023-01-15 18:59:37 abstract_stability_analyzer.py INFO    : Start testing of classifier 148 / 200\n",
      "2023-01-15 18:59:37 abstract_stability_analyzer.py INFO    : Classifier 148 / 200 was tested\n",
      "2023-01-15 18:59:37 abstract_stability_analyzer.py INFO    : Start testing of classifier 149 / 200\n",
      "2023-01-15 18:59:37 abstract_stability_analyzer.py INFO    : Classifier 149 / 200 was tested\n",
      "2023-01-15 18:59:37 abstract_stability_analyzer.py INFO    : Start testing of classifier 150 / 200\n",
      "2023-01-15 18:59:37 abstract_stability_analyzer.py INFO    : Classifier 150 / 200 was tested\n",
      "2023-01-15 18:59:37 abstract_stability_analyzer.py INFO    : Start testing of classifier 151 / 200\n",
      "2023-01-15 18:59:37 abstract_stability_analyzer.py INFO    : Classifier 151 / 200 was tested\n",
      "2023-01-15 18:59:37 abstract_stability_analyzer.py INFO    : Start testing of classifier 152 / 200\n",
      "2023-01-15 18:59:37 abstract_stability_analyzer.py INFO    : Classifier 152 / 200 was tested\n",
      "2023-01-15 18:59:37 abstract_stability_analyzer.py INFO    : Start testing of classifier 153 / 200\n",
      "2023-01-15 18:59:37 abstract_stability_analyzer.py INFO    : Classifier 153 / 200 was tested\n",
      "2023-01-15 18:59:37 abstract_stability_analyzer.py INFO    : Start testing of classifier 154 / 200\n",
      "2023-01-15 18:59:37 abstract_stability_analyzer.py INFO    : Classifier 154 / 200 was tested\n",
      "2023-01-15 18:59:37 abstract_stability_analyzer.py INFO    : Start testing of classifier 155 / 200\n",
      "2023-01-15 18:59:37 abstract_stability_analyzer.py INFO    : Classifier 155 / 200 was tested\n",
      "2023-01-15 18:59:37 abstract_stability_analyzer.py INFO    : Start testing of classifier 156 / 200\n",
      "2023-01-15 18:59:37 abstract_stability_analyzer.py INFO    : Classifier 156 / 200 was tested\n",
      "2023-01-15 18:59:37 abstract_stability_analyzer.py INFO    : Start testing of classifier 157 / 200\n",
      "2023-01-15 18:59:37 abstract_stability_analyzer.py INFO    : Classifier 157 / 200 was tested\n",
      "2023-01-15 18:59:37 abstract_stability_analyzer.py INFO    : Start testing of classifier 158 / 200\n",
      "2023-01-15 18:59:37 abstract_stability_analyzer.py INFO    : Classifier 158 / 200 was tested\n",
      "2023-01-15 18:59:37 abstract_stability_analyzer.py INFO    : Start testing of classifier 159 / 200\n",
      "2023-01-15 18:59:37 abstract_stability_analyzer.py INFO    : Classifier 159 / 200 was tested\n",
      "2023-01-15 18:59:37 abstract_stability_analyzer.py INFO    : Start testing of classifier 160 / 200\n",
      "2023-01-15 18:59:37 abstract_stability_analyzer.py INFO    : Classifier 160 / 200 was tested\n",
      "2023-01-15 18:59:37 abstract_stability_analyzer.py INFO    : Start testing of classifier 161 / 200\n",
      "2023-01-15 18:59:37 abstract_stability_analyzer.py INFO    : Classifier 161 / 200 was tested\n",
      "2023-01-15 18:59:37 abstract_stability_analyzer.py INFO    : Start testing of classifier 162 / 200\n",
      "2023-01-15 18:59:37 abstract_stability_analyzer.py INFO    : Classifier 162 / 200 was tested\n",
      "2023-01-15 18:59:37 abstract_stability_analyzer.py INFO    : Start testing of classifier 163 / 200\n",
      "2023-01-15 18:59:37 abstract_stability_analyzer.py INFO    : Classifier 163 / 200 was tested\n",
      "2023-01-15 18:59:37 abstract_stability_analyzer.py INFO    : Start testing of classifier 164 / 200\n",
      "2023-01-15 18:59:37 abstract_stability_analyzer.py INFO    : Classifier 164 / 200 was tested\n",
      "2023-01-15 18:59:37 abstract_stability_analyzer.py INFO    : Start testing of classifier 165 / 200\n",
      "2023-01-15 18:59:37 abstract_stability_analyzer.py INFO    : Classifier 165 / 200 was tested\n",
      "2023-01-15 18:59:37 abstract_stability_analyzer.py INFO    : Start testing of classifier 166 / 200\n",
      "2023-01-15 18:59:37 abstract_stability_analyzer.py INFO    : Classifier 166 / 200 was tested\n",
      "2023-01-15 18:59:37 abstract_stability_analyzer.py INFO    : Start testing of classifier 167 / 200\n",
      "2023-01-15 18:59:37 abstract_stability_analyzer.py INFO    : Classifier 167 / 200 was tested\n",
      "2023-01-15 18:59:37 abstract_stability_analyzer.py INFO    : Start testing of classifier 168 / 200\n",
      "2023-01-15 18:59:37 abstract_stability_analyzer.py INFO    : Classifier 168 / 200 was tested\n",
      "2023-01-15 18:59:37 abstract_stability_analyzer.py INFO    : Start testing of classifier 169 / 200\n",
      "2023-01-15 18:59:37 abstract_stability_analyzer.py INFO    : Classifier 169 / 200 was tested\n",
      "2023-01-15 18:59:37 abstract_stability_analyzer.py INFO    : Start testing of classifier 170 / 200\n",
      "2023-01-15 18:59:38 abstract_stability_analyzer.py INFO    : Classifier 170 / 200 was tested\n",
      "2023-01-15 18:59:38 abstract_stability_analyzer.py INFO    : Start testing of classifier 171 / 200\n",
      "2023-01-15 18:59:38 abstract_stability_analyzer.py INFO    : Classifier 171 / 200 was tested\n",
      "2023-01-15 18:59:38 abstract_stability_analyzer.py INFO    : Start testing of classifier 172 / 200\n",
      "2023-01-15 18:59:38 abstract_stability_analyzer.py INFO    : Classifier 172 / 200 was tested\n",
      "2023-01-15 18:59:38 abstract_stability_analyzer.py INFO    : Start testing of classifier 173 / 200\n",
      "2023-01-15 18:59:38 abstract_stability_analyzer.py INFO    : Classifier 173 / 200 was tested\n",
      "2023-01-15 18:59:38 abstract_stability_analyzer.py INFO    : Start testing of classifier 174 / 200\n",
      "2023-01-15 18:59:38 abstract_stability_analyzer.py INFO    : Classifier 174 / 200 was tested\n",
      "2023-01-15 18:59:38 abstract_stability_analyzer.py INFO    : Start testing of classifier 175 / 200\n",
      "2023-01-15 18:59:38 abstract_stability_analyzer.py INFO    : Classifier 175 / 200 was tested\n",
      "2023-01-15 18:59:38 abstract_stability_analyzer.py INFO    : Start testing of classifier 176 / 200\n",
      "2023-01-15 18:59:38 abstract_stability_analyzer.py INFO    : Classifier 176 / 200 was tested\n",
      "2023-01-15 18:59:38 abstract_stability_analyzer.py INFO    : Start testing of classifier 177 / 200\n",
      "2023-01-15 18:59:38 abstract_stability_analyzer.py INFO    : Classifier 177 / 200 was tested\n",
      "2023-01-15 18:59:38 abstract_stability_analyzer.py INFO    : Start testing of classifier 178 / 200\n",
      "2023-01-15 18:59:38 abstract_stability_analyzer.py INFO    : Classifier 178 / 200 was tested\n",
      "2023-01-15 18:59:38 abstract_stability_analyzer.py INFO    : Start testing of classifier 179 / 200\n",
      "2023-01-15 18:59:38 abstract_stability_analyzer.py INFO    : Classifier 179 / 200 was tested\n",
      "2023-01-15 18:59:38 abstract_stability_analyzer.py INFO    : Start testing of classifier 180 / 200\n",
      "2023-01-15 18:59:38 abstract_stability_analyzer.py INFO    : Classifier 180 / 200 was tested\n",
      "2023-01-15 18:59:38 abstract_stability_analyzer.py INFO    : Start testing of classifier 181 / 200\n",
      "2023-01-15 18:59:38 abstract_stability_analyzer.py INFO    : Classifier 181 / 200 was tested\n",
      "2023-01-15 18:59:38 abstract_stability_analyzer.py INFO    : Start testing of classifier 182 / 200\n",
      "2023-01-15 18:59:38 abstract_stability_analyzer.py INFO    : Classifier 182 / 200 was tested\n",
      "2023-01-15 18:59:38 abstract_stability_analyzer.py INFO    : Start testing of classifier 183 / 200\n",
      "2023-01-15 18:59:38 abstract_stability_analyzer.py INFO    : Classifier 183 / 200 was tested\n",
      "2023-01-15 18:59:38 abstract_stability_analyzer.py INFO    : Start testing of classifier 184 / 200\n",
      "2023-01-15 18:59:38 abstract_stability_analyzer.py INFO    : Classifier 184 / 200 was tested\n",
      "2023-01-15 18:59:38 abstract_stability_analyzer.py INFO    : Start testing of classifier 185 / 200\n",
      "2023-01-15 18:59:38 abstract_stability_analyzer.py INFO    : Classifier 185 / 200 was tested\n",
      "2023-01-15 18:59:38 abstract_stability_analyzer.py INFO    : Start testing of classifier 186 / 200\n",
      "2023-01-15 18:59:38 abstract_stability_analyzer.py INFO    : Classifier 186 / 200 was tested\n",
      "2023-01-15 18:59:38 abstract_stability_analyzer.py INFO    : Start testing of classifier 187 / 200\n",
      "2023-01-15 18:59:38 abstract_stability_analyzer.py INFO    : Classifier 187 / 200 was tested\n",
      "2023-01-15 18:59:38 abstract_stability_analyzer.py INFO    : Start testing of classifier 188 / 200\n",
      "2023-01-15 18:59:38 abstract_stability_analyzer.py INFO    : Classifier 188 / 200 was tested\n",
      "2023-01-15 18:59:38 abstract_stability_analyzer.py INFO    : Start testing of classifier 189 / 200\n",
      "2023-01-15 18:59:38 abstract_stability_analyzer.py INFO    : Classifier 189 / 200 was tested\n",
      "2023-01-15 18:59:38 abstract_stability_analyzer.py INFO    : Start testing of classifier 190 / 200\n",
      "2023-01-15 18:59:38 abstract_stability_analyzer.py INFO    : Classifier 190 / 200 was tested\n",
      "2023-01-15 18:59:38 abstract_stability_analyzer.py INFO    : Start testing of classifier 191 / 200\n",
      "2023-01-15 18:59:38 abstract_stability_analyzer.py INFO    : Classifier 191 / 200 was tested\n",
      "2023-01-15 18:59:38 abstract_stability_analyzer.py INFO    : Start testing of classifier 192 / 200\n",
      "2023-01-15 18:59:38 abstract_stability_analyzer.py INFO    : Classifier 192 / 200 was tested\n",
      "2023-01-15 18:59:38 abstract_stability_analyzer.py INFO    : Start testing of classifier 193 / 200\n",
      "2023-01-15 18:59:38 abstract_stability_analyzer.py INFO    : Classifier 193 / 200 was tested\n",
      "2023-01-15 18:59:38 abstract_stability_analyzer.py INFO    : Start testing of classifier 194 / 200\n",
      "2023-01-15 18:59:38 abstract_stability_analyzer.py INFO    : Classifier 194 / 200 was tested\n",
      "2023-01-15 18:59:38 abstract_stability_analyzer.py INFO    : Start testing of classifier 195 / 200\n",
      "2023-01-15 18:59:38 abstract_stability_analyzer.py INFO    : Classifier 195 / 200 was tested\n",
      "2023-01-15 18:59:38 abstract_stability_analyzer.py INFO    : Start testing of classifier 196 / 200\n",
      "2023-01-15 18:59:38 abstract_stability_analyzer.py INFO    : Classifier 196 / 200 was tested\n",
      "2023-01-15 18:59:38 abstract_stability_analyzer.py INFO    : Start testing of classifier 197 / 200\n",
      "2023-01-15 18:59:38 abstract_stability_analyzer.py INFO    : Classifier 197 / 200 was tested\n",
      "2023-01-15 18:59:38 abstract_stability_analyzer.py INFO    : Start testing of classifier 198 / 200\n",
      "2023-01-15 18:59:38 abstract_stability_analyzer.py INFO    : Classifier 198 / 200 was tested\n",
      "2023-01-15 18:59:38 abstract_stability_analyzer.py INFO    : Start testing of classifier 199 / 200\n",
      "2023-01-15 18:59:38 abstract_stability_analyzer.py INFO    : Classifier 199 / 200 was tested\n",
      "2023-01-15 18:59:38 abstract_stability_analyzer.py INFO    : Start testing of classifier 200 / 200\n",
      "2023-01-15 18:59:38 abstract_stability_analyzer.py INFO    : Classifier 200 / 200 was tested\n",
      "2023-01-15 18:59:46 abstract_stability_analyzer.py INFO    : Successfully computed predict proba metrics\n"
     ]
    },
    {
     "name": "stdout",
     "output_type": "stream",
     "text": [
      "\n",
      "\n",
      "##############################  Stability metrics  ##############################\n",
      "General Ensemble Accuracy: 0.679\n",
      "Mean: 0.53\n",
      "Std: 0.1049\n",
      "IQR: 0.1363\n",
      "Entropy: 0.0\n",
      "Jitter: 0.1761\n",
      "Per sample accuracy: 0.6535\n",
      "Label stability: 0.7482\n",
      "\n",
      "\n",
      "\n",
      "[Experiment 1] Metrics confusion matrix:\n"
     ]
    },
    {
     "data": {
      "text/plain": "                            overall  sex_race_priv  sex_race_dis  sex_priv  \\\nGeneral_Ensemble_Accuracy  0.679000       0.666700      0.720700  0.676800   \nMean                       0.530000       0.592200      0.569400  0.514700   \nStd                        0.104900       0.097400      0.120100  0.100600   \nIQR                        0.136300       0.127300      0.153100  0.132200   \nEntropy                    0.000000       0.000000      0.313800  0.000000   \nJitter                     0.176100       0.155300      0.202500  0.172400   \nPer_Sample_Accuracy        0.653500       0.656300      0.682700  0.650800   \nLabel_Stability            0.748200       0.779200      0.712900  0.753200   \nTPR                        0.624230       0.455224      0.600000  0.645084   \nTNR                        0.725835       0.804878      0.803030  0.706818   \nPPV                        0.660870       0.603960      0.675000  0.675879   \nFNR                        0.375770       0.544776      0.400000  0.354916   \nFPR                        0.274165       0.195122      0.196970  0.293182   \nAccuracy                   0.678977       0.666667      0.720721  0.676779   \nF1                         0.642027       0.519149      0.635294  0.660123   \nSelection-Rate             0.435606       0.297935      0.360360  0.464411   \nPositive-Rate              0.944559       0.753731      0.888889  0.954436   \n\n                            sex_dis  race_priv  race_dis  \nGeneral_Ensemble_Accuracy  0.688400   0.662800  0.690000  \nMean                       0.595700   0.599800  0.482600  \nStd                        0.123500   0.103700  0.105800  \nIQR                        0.154100   0.133000  0.138500  \nEntropy                    0.297600   0.000000  0.291400  \nJitter                     0.191700   0.160000  0.186900  \nPer_Sample_Accuracy        0.665200   0.653500  0.653400  \nLabel_Stability            0.727000   0.772100  0.732100  \nTPR                        0.500000   0.433962  0.716463  \nTNR                        0.790698   0.798507  0.661130  \nPPV                        0.564516   0.560976  0.697329  \nFNR                        0.500000   0.566038  0.283537  \nFPR                        0.209302   0.201493  0.338870  \nAccuracy                   0.688442   0.662763  0.689984  \nF1                         0.530303   0.489362  0.706767  \nSelection-Rate             0.311558   0.288056  0.535771  \nPositive-Rate              0.885714   0.773585  1.027439  ",
      "text/html": "<div>\n<style scoped>\n    .dataframe tbody tr th:only-of-type {\n        vertical-align: middle;\n    }\n\n    .dataframe tbody tr th {\n        vertical-align: top;\n    }\n\n    .dataframe thead th {\n        text-align: right;\n    }\n</style>\n<table border=\"1\" class=\"dataframe\">\n  <thead>\n    <tr style=\"text-align: right;\">\n      <th></th>\n      <th>overall</th>\n      <th>sex_race_priv</th>\n      <th>sex_race_dis</th>\n      <th>sex_priv</th>\n      <th>sex_dis</th>\n      <th>race_priv</th>\n      <th>race_dis</th>\n    </tr>\n  </thead>\n  <tbody>\n    <tr>\n      <th>General_Ensemble_Accuracy</th>\n      <td>0.679000</td>\n      <td>0.666700</td>\n      <td>0.720700</td>\n      <td>0.676800</td>\n      <td>0.688400</td>\n      <td>0.662800</td>\n      <td>0.690000</td>\n    </tr>\n    <tr>\n      <th>Mean</th>\n      <td>0.530000</td>\n      <td>0.592200</td>\n      <td>0.569400</td>\n      <td>0.514700</td>\n      <td>0.595700</td>\n      <td>0.599800</td>\n      <td>0.482600</td>\n    </tr>\n    <tr>\n      <th>Std</th>\n      <td>0.104900</td>\n      <td>0.097400</td>\n      <td>0.120100</td>\n      <td>0.100600</td>\n      <td>0.123500</td>\n      <td>0.103700</td>\n      <td>0.105800</td>\n    </tr>\n    <tr>\n      <th>IQR</th>\n      <td>0.136300</td>\n      <td>0.127300</td>\n      <td>0.153100</td>\n      <td>0.132200</td>\n      <td>0.154100</td>\n      <td>0.133000</td>\n      <td>0.138500</td>\n    </tr>\n    <tr>\n      <th>Entropy</th>\n      <td>0.000000</td>\n      <td>0.000000</td>\n      <td>0.313800</td>\n      <td>0.000000</td>\n      <td>0.297600</td>\n      <td>0.000000</td>\n      <td>0.291400</td>\n    </tr>\n    <tr>\n      <th>Jitter</th>\n      <td>0.176100</td>\n      <td>0.155300</td>\n      <td>0.202500</td>\n      <td>0.172400</td>\n      <td>0.191700</td>\n      <td>0.160000</td>\n      <td>0.186900</td>\n    </tr>\n    <tr>\n      <th>Per_Sample_Accuracy</th>\n      <td>0.653500</td>\n      <td>0.656300</td>\n      <td>0.682700</td>\n      <td>0.650800</td>\n      <td>0.665200</td>\n      <td>0.653500</td>\n      <td>0.653400</td>\n    </tr>\n    <tr>\n      <th>Label_Stability</th>\n      <td>0.748200</td>\n      <td>0.779200</td>\n      <td>0.712900</td>\n      <td>0.753200</td>\n      <td>0.727000</td>\n      <td>0.772100</td>\n      <td>0.732100</td>\n    </tr>\n    <tr>\n      <th>TPR</th>\n      <td>0.624230</td>\n      <td>0.455224</td>\n      <td>0.600000</td>\n      <td>0.645084</td>\n      <td>0.500000</td>\n      <td>0.433962</td>\n      <td>0.716463</td>\n    </tr>\n    <tr>\n      <th>TNR</th>\n      <td>0.725835</td>\n      <td>0.804878</td>\n      <td>0.803030</td>\n      <td>0.706818</td>\n      <td>0.790698</td>\n      <td>0.798507</td>\n      <td>0.661130</td>\n    </tr>\n    <tr>\n      <th>PPV</th>\n      <td>0.660870</td>\n      <td>0.603960</td>\n      <td>0.675000</td>\n      <td>0.675879</td>\n      <td>0.564516</td>\n      <td>0.560976</td>\n      <td>0.697329</td>\n    </tr>\n    <tr>\n      <th>FNR</th>\n      <td>0.375770</td>\n      <td>0.544776</td>\n      <td>0.400000</td>\n      <td>0.354916</td>\n      <td>0.500000</td>\n      <td>0.566038</td>\n      <td>0.283537</td>\n    </tr>\n    <tr>\n      <th>FPR</th>\n      <td>0.274165</td>\n      <td>0.195122</td>\n      <td>0.196970</td>\n      <td>0.293182</td>\n      <td>0.209302</td>\n      <td>0.201493</td>\n      <td>0.338870</td>\n    </tr>\n    <tr>\n      <th>Accuracy</th>\n      <td>0.678977</td>\n      <td>0.666667</td>\n      <td>0.720721</td>\n      <td>0.676779</td>\n      <td>0.688442</td>\n      <td>0.662763</td>\n      <td>0.689984</td>\n    </tr>\n    <tr>\n      <th>F1</th>\n      <td>0.642027</td>\n      <td>0.519149</td>\n      <td>0.635294</td>\n      <td>0.660123</td>\n      <td>0.530303</td>\n      <td>0.489362</td>\n      <td>0.706767</td>\n    </tr>\n    <tr>\n      <th>Selection-Rate</th>\n      <td>0.435606</td>\n      <td>0.297935</td>\n      <td>0.360360</td>\n      <td>0.464411</td>\n      <td>0.311558</td>\n      <td>0.288056</td>\n      <td>0.535771</td>\n    </tr>\n    <tr>\n      <th>Positive-Rate</th>\n      <td>0.944559</td>\n      <td>0.753731</td>\n      <td>0.888889</td>\n      <td>0.954436</td>\n      <td>0.885714</td>\n      <td>0.773585</td>\n      <td>1.027439</td>\n    </tr>\n  </tbody>\n</table>\n</div>"
     },
     "metadata": {},
     "output_type": "display_data"
    },
    {
     "name": "stderr",
     "output_type": "stream",
     "text": [
      "100%|██████████| 1/1 [00:34<00:00, 34.66s/it]"
     ]
    },
    {
     "name": "stdout",
     "output_type": "stream",
     "text": [
      "\n",
      "\n",
      "\n",
      "\n"
     ]
    },
    {
     "name": "stderr",
     "output_type": "stream",
     "text": [
      "\n"
     ]
    }
   ],
   "source": [
    "# TOD: add dataset as a parameter\n",
    "run_experiment(dataset, exp_num=1, model_seed=100)"
   ],
   "metadata": {
    "collapsed": false,
    "pycharm": {
     "name": "#%%\n"
    }
   }
  },
  {
   "cell_type": "markdown",
   "source": [
    "### Experiment 2"
   ],
   "metadata": {
    "collapsed": false,
    "pycharm": {
     "name": "#%% md\n"
    }
   }
  },
  {
   "cell_type": "code",
   "execution_count": 30,
   "outputs": [],
   "source": [
    "# run_experiment(exp_num=2, model_seed=200)"
   ],
   "metadata": {
    "collapsed": false,
    "pycharm": {
     "name": "#%%\n"
    }
   }
  },
  {
   "cell_type": "code",
   "execution_count": 30,
   "outputs": [],
   "source": [],
   "metadata": {
    "collapsed": false,
    "pycharm": {
     "name": "#%%\n"
    }
   }
  }
 ],
 "metadata": {
  "kernelspec": {
   "display_name": "Python 3 (ipykernel)",
   "language": "python",
   "name": "python3"
  },
  "language_info": {
   "codemirror_mode": {
    "name": "ipython",
    "version": 3
   },
   "file_extension": ".py",
   "mimetype": "text/x-python",
   "name": "python",
   "nbconvert_exporter": "python",
   "pygments_lexer": "ipython3",
   "version": "3.9.7"
  }
 },
 "nbformat": 4,
 "nbformat_minor": 5
}