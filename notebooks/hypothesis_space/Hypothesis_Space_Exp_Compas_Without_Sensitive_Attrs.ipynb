{
 "cells": [
  {
   "cell_type": "code",
   "execution_count": 11,
   "id": "248cbed8",
   "metadata": {},
   "outputs": [
    {
     "name": "stdout",
     "output_type": "stream",
     "text": [
      "The autoreload extension is already loaded. To reload it, use:\n",
      "  %reload_ext autoreload\n"
     ]
    }
   ],
   "source": [
    "%matplotlib inline\n",
    "%load_ext autoreload\n",
    "%autoreload 2"
   ]
  },
  {
   "cell_type": "code",
   "execution_count": 12,
   "id": "7ec6cd08",
   "metadata": {},
   "outputs": [],
   "source": [
    "import os\n",
    "import warnings\n",
    "warnings.filterwarnings('ignore')\n",
    "os.environ[\"PYTHONWARNINGS\"] = \"ignore\""
   ]
  },
  {
   "cell_type": "code",
   "execution_count": 13,
   "id": "b8cb69f2",
   "metadata": {},
   "outputs": [
    {
     "name": "stdout",
     "output_type": "stream",
     "text": [
      "Current location:  /home/denys_herasymuk/UCU/4course_2term/Bachelor_Thesis/Code/fairness-variance\n"
     ]
    }
   ],
   "source": [
    "cur_folder_name = os.getcwd().split('/')[-1]\n",
    "if cur_folder_name != \"fairness-variance\":\n",
    "    os.chdir(\"../..\")\n",
    "\n",
    "print('Current location: ', os.getcwd())"
   ]
  },
  {
   "cell_type": "markdown",
   "id": "606df34d",
   "metadata": {},
   "source": [
    "## Import dependencies"
   ]
  },
  {
   "cell_type": "code",
   "execution_count": 14,
   "id": "7a9241de",
   "metadata": {},
   "outputs": [],
   "source": [
    "import os\n",
    "import pandas as pd\n",
    "from datetime import datetime, timezone\n",
    "\n",
    "from configs.models_config_for_tuning import MODELS_CONFIG\n",
    "from source.custom_initializers import create_config_obj, create_models_config_from_tuned_params_df\n",
    "from source.custom_classes.data_loaders import CompasWithoutSensitiveAttrsDataset\n",
    "from source.metrics_computation_interfaces import compute_metrics_multiple_runs"
   ]
  },
  {
   "cell_type": "markdown",
   "id": "95f15603",
   "metadata": {},
   "source": [
    "## Configs"
   ]
  },
  {
   "cell_type": "code",
   "execution_count": 15,
   "id": "71d8f24a",
   "metadata": {},
   "outputs": [],
   "source": [
    "config = create_config_obj(config_yaml_path=os.path.join('configs', 'experiment1_compas_config.yaml'))\n",
    "\n",
    "TUNED_PARAMS_FILE_PATH = os.path.join('results', 'models_tuning', f'tuning_results_{config.dataset_name}_20230117__012024.csv')\n",
    "SAVE_RESULTS_DIR_PATH = os.path.join('results', 'hypothesis_space',\n",
    "                                     f'{config.dataset_name}_Metrics_{datetime.now(timezone.utc).strftime(\"%Y%m%d__%H%M%S\")}')"
   ]
  },
  {
   "cell_type": "markdown",
   "source": [
    "## Models tuned hyper-parameters"
   ],
   "metadata": {
    "collapsed": false
   }
  },
  {
   "cell_type": "code",
   "execution_count": 16,
   "outputs": [
    {
     "data": {
      "text/plain": "                          Dataset_Name              Model_Name  F1_Score  \\\n0  COMPAS_Without_Sensitive_Attributes      LogisticRegression    0.6785   \n1  COMPAS_Without_Sensitive_Attributes  DecisionTreeClassifier    0.6952   \n2  COMPAS_Without_Sensitive_Attributes  RandomForestClassifier    0.6962   \n3  COMPAS_Without_Sensitive_Attributes           XGBClassifier    0.6971   \n4  COMPAS_Without_Sensitive_Attributes    KNeighborsClassifier    0.7056   \n5  COMPAS_Without_Sensitive_Attributes           MLPClassifier    0.6834   \n\n   Accuracy_Score                                  Model_Best_Params  \n0          0.6837  {'C': 1, 'max_iter': 50, 'penalty': 'l2', 'sol...  \n1          0.6989  {'criterion': 'gini', 'max_depth': 20, 'max_fe...  \n2          0.7008  {'max_depth': 4, 'max_features': 0.6, 'min_sam...  \n3          0.7008  {'lambda': 100, 'learning_rate': 0.1, 'max_dep...  \n4          0.7112  {'metric': 'minkowski', 'n_neighbors': 25, 'we...  \n5          0.6875  {'activation': 'relu', 'hidden_layer_sizes': (...  ",
      "text/html": "<div>\n<style scoped>\n    .dataframe tbody tr th:only-of-type {\n        vertical-align: middle;\n    }\n\n    .dataframe tbody tr th {\n        vertical-align: top;\n    }\n\n    .dataframe thead th {\n        text-align: right;\n    }\n</style>\n<table border=\"1\" class=\"dataframe\">\n  <thead>\n    <tr style=\"text-align: right;\">\n      <th></th>\n      <th>Dataset_Name</th>\n      <th>Model_Name</th>\n      <th>F1_Score</th>\n      <th>Accuracy_Score</th>\n      <th>Model_Best_Params</th>\n    </tr>\n  </thead>\n  <tbody>\n    <tr>\n      <th>0</th>\n      <td>COMPAS_Without_Sensitive_Attributes</td>\n      <td>LogisticRegression</td>\n      <td>0.6785</td>\n      <td>0.6837</td>\n      <td>{'C': 1, 'max_iter': 50, 'penalty': 'l2', 'sol...</td>\n    </tr>\n    <tr>\n      <th>1</th>\n      <td>COMPAS_Without_Sensitive_Attributes</td>\n      <td>DecisionTreeClassifier</td>\n      <td>0.6952</td>\n      <td>0.6989</td>\n      <td>{'criterion': 'gini', 'max_depth': 20, 'max_fe...</td>\n    </tr>\n    <tr>\n      <th>2</th>\n      <td>COMPAS_Without_Sensitive_Attributes</td>\n      <td>RandomForestClassifier</td>\n      <td>0.6962</td>\n      <td>0.7008</td>\n      <td>{'max_depth': 4, 'max_features': 0.6, 'min_sam...</td>\n    </tr>\n    <tr>\n      <th>3</th>\n      <td>COMPAS_Without_Sensitive_Attributes</td>\n      <td>XGBClassifier</td>\n      <td>0.6971</td>\n      <td>0.7008</td>\n      <td>{'lambda': 100, 'learning_rate': 0.1, 'max_dep...</td>\n    </tr>\n    <tr>\n      <th>4</th>\n      <td>COMPAS_Without_Sensitive_Attributes</td>\n      <td>KNeighborsClassifier</td>\n      <td>0.7056</td>\n      <td>0.7112</td>\n      <td>{'metric': 'minkowski', 'n_neighbors': 25, 'we...</td>\n    </tr>\n    <tr>\n      <th>5</th>\n      <td>COMPAS_Without_Sensitive_Attributes</td>\n      <td>MLPClassifier</td>\n      <td>0.6834</td>\n      <td>0.6875</td>\n      <td>{'activation': 'relu', 'hidden_layer_sizes': (...</td>\n    </tr>\n  </tbody>\n</table>\n</div>"
     },
     "execution_count": 16,
     "metadata": {},
     "output_type": "execute_result"
    }
   ],
   "source": [
    "models_tuned_params_df = pd.read_csv(TUNED_PARAMS_FILE_PATH)\n",
    "models_tuned_params_df"
   ],
   "metadata": {
    "collapsed": false
   }
  },
  {
   "cell_type": "code",
   "execution_count": 17,
   "outputs": [],
   "source": [
    "experiment_models_config = create_models_config_from_tuned_params_df(\n",
    "    models_config_for_tuning=MODELS_CONFIG,\n",
    "    models_tuned_params_df=models_tuned_params_df,\n",
    ")"
   ],
   "metadata": {
    "collapsed": false
   }
  },
  {
   "cell_type": "code",
   "execution_count": 18,
   "outputs": [
    {
     "data": {
      "text/plain": "dict_keys(['DecisionTreeClassifier', 'LogisticRegression'])"
     },
     "execution_count": 18,
     "metadata": {},
     "output_type": "execute_result"
    }
   ],
   "source": [
    "experiment_models_config.keys()"
   ],
   "metadata": {
    "collapsed": false
   }
  },
  {
   "cell_type": "markdown",
   "id": "5c60057a",
   "metadata": {},
   "source": [
    "## Load dataset"
   ]
  },
  {
   "cell_type": "code",
   "execution_count": 19,
   "id": "3e53fe9a",
   "metadata": {},
   "outputs": [
    {
     "data": {
      "text/plain": "   juv_fel_count  juv_misd_count  juv_other_count  priors_count  \\\n0            0.0       -2.340451              1.0    -15.010999   \n1            0.0        0.000000              0.0      0.000000   \n2            0.0        0.000000              0.0      0.000000   \n3            0.0        0.000000              0.0      6.000000   \n4            0.0        0.000000              0.0      7.513697   \n\n   age_cat_25 - 45  age_cat_Greater than 45  age_cat_Less than 25  \\\n0                1                        0                     0   \n1                1                        0                     0   \n2                0                        0                     1   \n3                1                        0                     0   \n4                1                        0                     0   \n\n   c_charge_degree_F  c_charge_degree_M  \n0                  0                  1  \n1                  1                  0  \n2                  1                  0  \n3                  0                  1  \n4                  1                  0  ",
      "text/html": "<div>\n<style scoped>\n    .dataframe tbody tr th:only-of-type {\n        vertical-align: middle;\n    }\n\n    .dataframe tbody tr th {\n        vertical-align: top;\n    }\n\n    .dataframe thead th {\n        text-align: right;\n    }\n</style>\n<table border=\"1\" class=\"dataframe\">\n  <thead>\n    <tr style=\"text-align: right;\">\n      <th></th>\n      <th>juv_fel_count</th>\n      <th>juv_misd_count</th>\n      <th>juv_other_count</th>\n      <th>priors_count</th>\n      <th>age_cat_25 - 45</th>\n      <th>age_cat_Greater than 45</th>\n      <th>age_cat_Less than 25</th>\n      <th>c_charge_degree_F</th>\n      <th>c_charge_degree_M</th>\n    </tr>\n  </thead>\n  <tbody>\n    <tr>\n      <th>0</th>\n      <td>0.0</td>\n      <td>-2.340451</td>\n      <td>1.0</td>\n      <td>-15.010999</td>\n      <td>1</td>\n      <td>0</td>\n      <td>0</td>\n      <td>0</td>\n      <td>1</td>\n    </tr>\n    <tr>\n      <th>1</th>\n      <td>0.0</td>\n      <td>0.000000</td>\n      <td>0.0</td>\n      <td>0.000000</td>\n      <td>1</td>\n      <td>0</td>\n      <td>0</td>\n      <td>1</td>\n      <td>0</td>\n    </tr>\n    <tr>\n      <th>2</th>\n      <td>0.0</td>\n      <td>0.000000</td>\n      <td>0.0</td>\n      <td>0.000000</td>\n      <td>0</td>\n      <td>0</td>\n      <td>1</td>\n      <td>1</td>\n      <td>0</td>\n    </tr>\n    <tr>\n      <th>3</th>\n      <td>0.0</td>\n      <td>0.000000</td>\n      <td>0.0</td>\n      <td>6.000000</td>\n      <td>1</td>\n      <td>0</td>\n      <td>0</td>\n      <td>0</td>\n      <td>1</td>\n    </tr>\n    <tr>\n      <th>4</th>\n      <td>0.0</td>\n      <td>0.000000</td>\n      <td>0.0</td>\n      <td>7.513697</td>\n      <td>1</td>\n      <td>0</td>\n      <td>0</td>\n      <td>1</td>\n      <td>0</td>\n    </tr>\n  </tbody>\n</table>\n</div>"
     },
     "execution_count": 19,
     "metadata": {},
     "output_type": "execute_result"
    }
   ],
   "source": [
    "dataset = CompasWithoutSensitiveAttrsDataset(dataset_path='data/COMPAS.csv')\n",
    "dataset.X_data.head()"
   ]
  },
  {
   "cell_type": "markdown",
   "id": "c3530f06",
   "metadata": {},
   "source": [
    "## Run experiments"
   ]
  },
  {
   "cell_type": "code",
   "execution_count": 20,
   "id": "2528579c",
   "metadata": {},
   "outputs": [
    {
     "name": "stderr",
     "output_type": "stream",
     "text": [
      "Analyze models in one run:   0%|          | 0/2 [00:00<?, ?it/s]"
     ]
    },
    {
     "name": "stdout",
     "output_type": "stream",
     "text": [
      "##############################  [Model 1 / 2] Analyze DecisionTreeClassifier  ##############################\n",
      "Model random_state:  101\n",
      "Baseline X_train shape:  (4222, 9)\n",
      "Baseline X_test shape:  (1056, 9)\n"
     ]
    },
    {
     "name": "stderr",
     "output_type": "stream",
     "text": [
      "2023-01-23 23:09:56 abstract_overall_variance_analyzer.py INFO    : Start classifiers testing by bootstrap\n"
     ]
    },
    {
     "name": "stdout",
     "output_type": "stream",
     "text": [
      "\n",
      "\n"
     ]
    },
    {
     "name": "stderr",
     "output_type": "stream",
     "text": [
      "\n",
      "Classifiers testing by bootstrap: 100%|██████████| 10/10 [00:00<00:00, 183.67it/s]\n",
      "2023-01-23 23:09:56 abstract_overall_variance_analyzer.py INFO    : Successfully tested classifiers by bootstrap\n"
     ]
    },
    {
     "name": "stdout",
     "output_type": "stream",
     "text": [
      "\n",
      "\n"
     ]
    },
    {
     "name": "stderr",
     "output_type": "stream",
     "text": [
      "2023-01-23 23:09:56 abstract_overall_variance_analyzer.py INFO    : Successfully computed predict proba metrics\n"
     ]
    },
    {
     "name": "stdout",
     "output_type": "stream",
     "text": [
      "\n",
      "\n",
      "##############################  Stability metrics  ##############################\n",
      "General Ensemble Accuracy: 0.6761\n",
      "Mean: 0.5283\n",
      "Std: 0.0685\n",
      "IQR: 0.0805\n",
      "Entropy: 0.0\n",
      "Jitter: 0.126\n",
      "Per sample accuracy: 0.6642\n",
      "Label stability: 0.8409\n",
      "\n",
      "\n"
     ]
    },
    {
     "name": "stderr",
     "output_type": "stream",
     "text": [
      "Analyze models in one run:  50%|█████     | 1/2 [00:01<00:01,  1.23s/it]2023-01-23 23:09:57 abstract_overall_variance_analyzer.py INFO    : Start classifiers testing by bootstrap\n"
     ]
    },
    {
     "name": "stdout",
     "output_type": "stream",
     "text": [
      "\n",
      "\n",
      "\n",
      "\n",
      "##############################  [Model 2 / 2] Analyze LogisticRegression  ##############################\n",
      "Model random_state:  102\n",
      "Baseline X_train shape:  (4222, 9)\n",
      "Baseline X_test shape:  (1056, 9)\n",
      "\n",
      "\n"
     ]
    },
    {
     "name": "stderr",
     "output_type": "stream",
     "text": [
      "\n",
      "Classifiers testing by bootstrap:   0%|          | 0/10 [00:00<?, ?it/s]\u001B[A\n",
      "Classifiers testing by bootstrap:  20%|██        | 2/10 [00:00<00:00, 12.22it/s]\u001B[A\n",
      "Classifiers testing by bootstrap:  40%|████      | 4/10 [00:00<00:00, 10.31it/s]\u001B[A\n",
      "Classifiers testing by bootstrap:  60%|██████    | 6/10 [00:00<00:00, 10.26it/s]\u001B[A\n",
      "Classifiers testing by bootstrap:  80%|████████  | 8/10 [00:00<00:00,  9.70it/s]\u001B[A\n",
      "Classifiers testing by bootstrap: 100%|██████████| 10/10 [00:00<00:00, 10.48it/s]\u001B[A\n",
      "2023-01-23 23:09:58 abstract_overall_variance_analyzer.py INFO    : Successfully tested classifiers by bootstrap\n"
     ]
    },
    {
     "name": "stdout",
     "output_type": "stream",
     "text": [
      "\n",
      "\n"
     ]
    },
    {
     "name": "stderr",
     "output_type": "stream",
     "text": [
      "2023-01-23 23:09:59 abstract_overall_variance_analyzer.py INFO    : Successfully computed predict proba metrics\n"
     ]
    },
    {
     "name": "stdout",
     "output_type": "stream",
     "text": [
      "\n",
      "\n",
      "##############################  Stability metrics  ##############################\n",
      "General Ensemble Accuracy: 0.6638\n",
      "Mean: 0.535\n",
      "Std: 0.0203\n",
      "IQR: 0.0229\n",
      "Entropy: 0.0\n",
      "Jitter: 0.0367\n",
      "Per sample accuracy: 0.6629\n",
      "Label stability: 0.9496\n",
      "\n",
      "\n"
     ]
    },
    {
     "name": "stderr",
     "output_type": "stream",
     "text": [
      "Analyze models in one run: 100%|██████████| 2/2 [00:03<00:00,  1.53s/it]\n"
     ]
    },
    {
     "name": "stdout",
     "output_type": "stream",
     "text": [
      "\n",
      "\n",
      "\n",
      "\n"
     ]
    },
    {
     "name": "stderr",
     "output_type": "stream",
     "text": [
      "Analyze models in one run:   0%|          | 0/2 [00:00<?, ?it/s]2023-01-23 23:09:59 abstract_overall_variance_analyzer.py INFO    : Start classifiers testing by bootstrap\n"
     ]
    },
    {
     "name": "stdout",
     "output_type": "stream",
     "text": [
      "##############################  [Model 1 / 2] Analyze DecisionTreeClassifier  ##############################\n",
      "Model random_state:  201\n",
      "Baseline X_train shape:  (4222, 9)\n",
      "Baseline X_test shape:  (1056, 9)\n",
      "\n",
      "\n"
     ]
    },
    {
     "name": "stderr",
     "output_type": "stream",
     "text": [
      "\n",
      "Classifiers testing by bootstrap: 100%|██████████| 10/10 [00:00<00:00, 186.30it/s]\n",
      "2023-01-23 23:09:59 abstract_overall_variance_analyzer.py INFO    : Successfully tested classifiers by bootstrap\n"
     ]
    },
    {
     "name": "stdout",
     "output_type": "stream",
     "text": [
      "\n",
      "\n"
     ]
    },
    {
     "name": "stderr",
     "output_type": "stream",
     "text": [
      "2023-01-23 23:09:59 abstract_overall_variance_analyzer.py INFO    : Successfully computed predict proba metrics\n"
     ]
    },
    {
     "name": "stdout",
     "output_type": "stream",
     "text": [
      "\n",
      "\n",
      "##############################  Stability metrics  ##############################\n",
      "General Ensemble Accuracy: 0.6809\n",
      "Mean: 0.522\n",
      "Std: 0.0589\n",
      "IQR: 0.0617\n",
      "Entropy: 0.0\n",
      "Jitter: 0.0913\n",
      "Per sample accuracy: 0.6703\n",
      "Label stability: 0.8833\n",
      "\n",
      "\n"
     ]
    },
    {
     "name": "stderr",
     "output_type": "stream",
     "text": [
      "Analyze models in one run:  50%|█████     | 1/2 [00:01<00:01,  1.01s/it]2023-01-23 23:10:00 abstract_overall_variance_analyzer.py INFO    : Start classifiers testing by bootstrap\n"
     ]
    },
    {
     "name": "stdout",
     "output_type": "stream",
     "text": [
      "\n",
      "\n",
      "\n",
      "\n",
      "##############################  [Model 2 / 2] Analyze LogisticRegression  ##############################\n",
      "Model random_state:  202\n",
      "Baseline X_train shape:  (4222, 9)\n",
      "Baseline X_test shape:  (1056, 9)\n",
      "\n",
      "\n"
     ]
    },
    {
     "name": "stderr",
     "output_type": "stream",
     "text": [
      "\n",
      "Classifiers testing by bootstrap:   0%|          | 0/10 [00:00<?, ?it/s]\u001B[A\n",
      "Classifiers testing by bootstrap:  10%|█         | 1/10 [00:00<00:00,  9.19it/s]\u001B[A\n",
      "Classifiers testing by bootstrap:  20%|██        | 2/10 [00:00<00:01,  4.83it/s]\u001B[A\n",
      "Classifiers testing by bootstrap:  30%|███       | 3/10 [00:00<00:01,  4.71it/s]\u001B[A\n",
      "Classifiers testing by bootstrap:  40%|████      | 4/10 [00:00<00:01,  4.79it/s]\u001B[A\n",
      "Classifiers testing by bootstrap:  60%|██████    | 6/10 [00:00<00:00,  7.35it/s]\u001B[A\n",
      "Classifiers testing by bootstrap:  80%|████████  | 8/10 [00:01<00:00,  8.69it/s]\u001B[A\n",
      "Classifiers testing by bootstrap: 100%|██████████| 10/10 [00:01<00:00,  7.82it/s]\u001B[A\n",
      "2023-01-23 23:10:01 abstract_overall_variance_analyzer.py INFO    : Successfully tested classifiers by bootstrap\n"
     ]
    },
    {
     "name": "stdout",
     "output_type": "stream",
     "text": [
      "\n",
      "\n"
     ]
    },
    {
     "name": "stderr",
     "output_type": "stream",
     "text": [
      "2023-01-23 23:10:02 abstract_overall_variance_analyzer.py INFO    : Successfully computed predict proba metrics\n"
     ]
    },
    {
     "name": "stdout",
     "output_type": "stream",
     "text": [
      "\n",
      "\n",
      "##############################  Stability metrics  ##############################\n",
      "General Ensemble Accuracy: 0.6534\n",
      "Mean: 0.5212\n",
      "Std: 0.0183\n",
      "IQR: 0.0209\n",
      "Entropy: 0.0\n",
      "Jitter: 0.0364\n",
      "Per sample accuracy: 0.6504\n",
      "Label stability: 0.9534\n",
      "\n",
      "\n"
     ]
    },
    {
     "name": "stderr",
     "output_type": "stream",
     "text": [
      "Analyze models in one run: 100%|██████████| 2/2 [00:03<00:00,  1.76s/it]"
     ]
    },
    {
     "name": "stdout",
     "output_type": "stream",
     "text": [
      "\n",
      "\n",
      "\n",
      "\n"
     ]
    },
    {
     "name": "stderr",
     "output_type": "stream",
     "text": [
      "\n"
     ]
    }
   ],
   "source": [
    "multiple_runs_metrics_dct = compute_metrics_multiple_runs(dataset, config, experiment_models_config, SAVE_RESULTS_DIR_PATH, debug_mode=False)"
   ]
  },
  {
   "cell_type": "code",
   "execution_count": 20,
   "id": "197eadaa",
   "metadata": {},
   "outputs": [],
   "source": []
  }
 ],
 "metadata": {
  "kernelspec": {
   "display_name": "Python 3 (ipykernel)",
   "language": "python",
   "name": "python3"
  },
  "language_info": {
   "codemirror_mode": {
    "name": "ipython",
    "version": 3
   },
   "file_extension": ".py",
   "mimetype": "text/x-python",
   "name": "python",
   "nbconvert_exporter": "python",
   "pygments_lexer": "ipython3",
   "version": "3.8.10"
  }
 },
 "nbformat": 4,
 "nbformat_minor": 5
}
