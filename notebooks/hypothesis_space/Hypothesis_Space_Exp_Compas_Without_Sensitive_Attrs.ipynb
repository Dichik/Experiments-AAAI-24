{
 "cells": [
  {
   "cell_type": "code",
   "execution_count": 32,
   "id": "248cbed8",
   "metadata": {},
   "outputs": [
    {
     "name": "stdout",
     "output_type": "stream",
     "text": [
      "The autoreload extension is already loaded. To reload it, use:\n",
      "  %reload_ext autoreload\n"
     ]
    }
   ],
   "source": [
    "%matplotlib inline\n",
    "%load_ext autoreload\n",
    "%autoreload 2"
   ]
  },
  {
   "cell_type": "code",
   "execution_count": 33,
   "id": "7ec6cd08",
   "metadata": {},
   "outputs": [],
   "source": [
    "import os\n",
    "import warnings\n",
    "warnings.filterwarnings('ignore')\n",
    "os.environ[\"PYTHONWARNINGS\"] = \"ignore\""
   ]
  },
  {
   "cell_type": "code",
   "execution_count": 34,
   "id": "b8cb69f2",
   "metadata": {},
   "outputs": [
    {
     "name": "stdout",
     "output_type": "stream",
     "text": [
      "Current location:  /home/denys_herasymuk/UCU/4course_2term/Bachelor_Thesis/Code/fairness-variance\n"
     ]
    }
   ],
   "source": [
    "cur_folder_name = os.getcwd().split('/')[-1]\n",
    "if cur_folder_name != \"fairness-variance\":\n",
    "    os.chdir(\"../..\")\n",
    "\n",
    "print('Current location: ', os.getcwd())"
   ]
  },
  {
   "cell_type": "markdown",
   "id": "606df34d",
   "metadata": {},
   "source": [
    "## Import dependencies"
   ]
  },
  {
   "cell_type": "code",
   "execution_count": 35,
   "id": "7a9241de",
   "metadata": {},
   "outputs": [],
   "source": [
    "import os\n",
    "import pandas as pd\n",
    "from datetime import datetime, timezone\n",
    "\n",
    "from configs.models_config_for_tuning import MODELS_CONFIG\n",
    "from source.custom_initializers import create_config_obj, create_models_config_from_tuned_params_df\n",
    "from source.custom_classes.data_loaders import CompasWithoutSensitiveAttrsDataset\n",
    "from source.metrics_computation_interfaces import compute_metrics_multiple_runs"
   ]
  },
  {
   "cell_type": "markdown",
   "id": "95f15603",
   "metadata": {},
   "source": [
    "## Configs"
   ]
  },
  {
   "cell_type": "code",
   "execution_count": 36,
   "id": "71d8f24a",
   "metadata": {},
   "outputs": [],
   "source": [
    "config = create_config_obj(config_yaml_path=os.path.join('configs', 'experiment1_compas_config.yaml'))\n",
    "\n",
    "TUNED_PARAMS_FILE_PATH = os.path.join('results', 'models_tuning', f'tuning_results_{config.dataset_name}_20230117__012024.csv')\n",
    "SAVE_RESULTS_DIR_PATH = os.path.join('results', 'hypothesis_space',\n",
    "                                     f'{config.dataset_name}_Metrics_{datetime.now(timezone.utc).strftime(\"%Y%m%d__%H%M%S\")}')"
   ]
  },
  {
   "cell_type": "markdown",
   "source": [
    "## Models tuned hyper-parameters"
   ],
   "metadata": {
    "collapsed": false
   }
  },
  {
   "cell_type": "code",
   "execution_count": 37,
   "outputs": [
    {
     "data": {
      "text/plain": "                          Dataset_Name              Model_Name  F1_Score  \\\n0  COMPAS_Without_Sensitive_Attributes      LogisticRegression    0.6785   \n1  COMPAS_Without_Sensitive_Attributes  DecisionTreeClassifier    0.6952   \n2  COMPAS_Without_Sensitive_Attributes  RandomForestClassifier    0.6962   \n3  COMPAS_Without_Sensitive_Attributes           XGBClassifier    0.6971   \n4  COMPAS_Without_Sensitive_Attributes    KNeighborsClassifier    0.7056   \n5  COMPAS_Without_Sensitive_Attributes           MLPClassifier    0.6834   \n\n   Accuracy_Score                                  Model_Best_Params  \n0          0.6837  {'C': 1, 'max_iter': 50, 'penalty': 'l2', 'sol...  \n1          0.6989  {'criterion': 'gini', 'max_depth': 20, 'max_fe...  \n2          0.7008  {'max_depth': 4, 'max_features': 0.6, 'min_sam...  \n3          0.7008  {'lambda': 100, 'learning_rate': 0.1, 'max_dep...  \n4          0.7112  {'metric': 'minkowski', 'n_neighbors': 25, 'we...  \n5          0.6875  {'activation': 'relu', 'hidden_layer_sizes': (...  ",
      "text/html": "<div>\n<style scoped>\n    .dataframe tbody tr th:only-of-type {\n        vertical-align: middle;\n    }\n\n    .dataframe tbody tr th {\n        vertical-align: top;\n    }\n\n    .dataframe thead th {\n        text-align: right;\n    }\n</style>\n<table border=\"1\" class=\"dataframe\">\n  <thead>\n    <tr style=\"text-align: right;\">\n      <th></th>\n      <th>Dataset_Name</th>\n      <th>Model_Name</th>\n      <th>F1_Score</th>\n      <th>Accuracy_Score</th>\n      <th>Model_Best_Params</th>\n    </tr>\n  </thead>\n  <tbody>\n    <tr>\n      <th>0</th>\n      <td>COMPAS_Without_Sensitive_Attributes</td>\n      <td>LogisticRegression</td>\n      <td>0.6785</td>\n      <td>0.6837</td>\n      <td>{'C': 1, 'max_iter': 50, 'penalty': 'l2', 'sol...</td>\n    </tr>\n    <tr>\n      <th>1</th>\n      <td>COMPAS_Without_Sensitive_Attributes</td>\n      <td>DecisionTreeClassifier</td>\n      <td>0.6952</td>\n      <td>0.6989</td>\n      <td>{'criterion': 'gini', 'max_depth': 20, 'max_fe...</td>\n    </tr>\n    <tr>\n      <th>2</th>\n      <td>COMPAS_Without_Sensitive_Attributes</td>\n      <td>RandomForestClassifier</td>\n      <td>0.6962</td>\n      <td>0.7008</td>\n      <td>{'max_depth': 4, 'max_features': 0.6, 'min_sam...</td>\n    </tr>\n    <tr>\n      <th>3</th>\n      <td>COMPAS_Without_Sensitive_Attributes</td>\n      <td>XGBClassifier</td>\n      <td>0.6971</td>\n      <td>0.7008</td>\n      <td>{'lambda': 100, 'learning_rate': 0.1, 'max_dep...</td>\n    </tr>\n    <tr>\n      <th>4</th>\n      <td>COMPAS_Without_Sensitive_Attributes</td>\n      <td>KNeighborsClassifier</td>\n      <td>0.7056</td>\n      <td>0.7112</td>\n      <td>{'metric': 'minkowski', 'n_neighbors': 25, 'we...</td>\n    </tr>\n    <tr>\n      <th>5</th>\n      <td>COMPAS_Without_Sensitive_Attributes</td>\n      <td>MLPClassifier</td>\n      <td>0.6834</td>\n      <td>0.6875</td>\n      <td>{'activation': 'relu', 'hidden_layer_sizes': (...</td>\n    </tr>\n  </tbody>\n</table>\n</div>"
     },
     "execution_count": 37,
     "metadata": {},
     "output_type": "execute_result"
    }
   ],
   "source": [
    "models_tuned_params_df = pd.read_csv(TUNED_PARAMS_FILE_PATH)\n",
    "models_tuned_params_df"
   ],
   "metadata": {
    "collapsed": false
   }
  },
  {
   "cell_type": "code",
   "execution_count": 38,
   "outputs": [],
   "source": [
    "experiment_models_config = create_models_config_from_tuned_params_df(\n",
    "    models_config_for_tuning=MODELS_CONFIG,\n",
    "    models_tuned_params_df=models_tuned_params_df,\n",
    ")"
   ],
   "metadata": {
    "collapsed": false
   }
  },
  {
   "cell_type": "code",
   "execution_count": 39,
   "outputs": [
    {
     "data": {
      "text/plain": "dict_keys(['DecisionTreeClassifier', 'LogisticRegression', 'RandomForestClassifier', 'XGBClassifier', 'KNeighborsClassifier'])"
     },
     "execution_count": 39,
     "metadata": {},
     "output_type": "execute_result"
    }
   ],
   "source": [
    "experiment_models_config.keys()"
   ],
   "metadata": {
    "collapsed": false
   }
  },
  {
   "cell_type": "markdown",
   "id": "5c60057a",
   "metadata": {},
   "source": [
    "## Load dataset"
   ]
  },
  {
   "cell_type": "code",
   "execution_count": 40,
   "id": "3e53fe9a",
   "metadata": {},
   "outputs": [
    {
     "data": {
      "text/plain": "   juv_fel_count  juv_misd_count  juv_other_count  priors_count  \\\n0            0.0       -2.340451              1.0    -15.010999   \n1            0.0        0.000000              0.0      0.000000   \n2            0.0        0.000000              0.0      0.000000   \n3            0.0        0.000000              0.0      6.000000   \n4            0.0        0.000000              0.0      7.513697   \n\n   age_cat_25 - 45  age_cat_Greater than 45  age_cat_Less than 25  \\\n0                1                        0                     0   \n1                1                        0                     0   \n2                0                        0                     1   \n3                1                        0                     0   \n4                1                        0                     0   \n\n   c_charge_degree_F  c_charge_degree_M  \n0                  0                  1  \n1                  1                  0  \n2                  1                  0  \n3                  0                  1  \n4                  1                  0  ",
      "text/html": "<div>\n<style scoped>\n    .dataframe tbody tr th:only-of-type {\n        vertical-align: middle;\n    }\n\n    .dataframe tbody tr th {\n        vertical-align: top;\n    }\n\n    .dataframe thead th {\n        text-align: right;\n    }\n</style>\n<table border=\"1\" class=\"dataframe\">\n  <thead>\n    <tr style=\"text-align: right;\">\n      <th></th>\n      <th>juv_fel_count</th>\n      <th>juv_misd_count</th>\n      <th>juv_other_count</th>\n      <th>priors_count</th>\n      <th>age_cat_25 - 45</th>\n      <th>age_cat_Greater than 45</th>\n      <th>age_cat_Less than 25</th>\n      <th>c_charge_degree_F</th>\n      <th>c_charge_degree_M</th>\n    </tr>\n  </thead>\n  <tbody>\n    <tr>\n      <th>0</th>\n      <td>0.0</td>\n      <td>-2.340451</td>\n      <td>1.0</td>\n      <td>-15.010999</td>\n      <td>1</td>\n      <td>0</td>\n      <td>0</td>\n      <td>0</td>\n      <td>1</td>\n    </tr>\n    <tr>\n      <th>1</th>\n      <td>0.0</td>\n      <td>0.000000</td>\n      <td>0.0</td>\n      <td>0.000000</td>\n      <td>1</td>\n      <td>0</td>\n      <td>0</td>\n      <td>1</td>\n      <td>0</td>\n    </tr>\n    <tr>\n      <th>2</th>\n      <td>0.0</td>\n      <td>0.000000</td>\n      <td>0.0</td>\n      <td>0.000000</td>\n      <td>0</td>\n      <td>0</td>\n      <td>1</td>\n      <td>1</td>\n      <td>0</td>\n    </tr>\n    <tr>\n      <th>3</th>\n      <td>0.0</td>\n      <td>0.000000</td>\n      <td>0.0</td>\n      <td>6.000000</td>\n      <td>1</td>\n      <td>0</td>\n      <td>0</td>\n      <td>0</td>\n      <td>1</td>\n    </tr>\n    <tr>\n      <th>4</th>\n      <td>0.0</td>\n      <td>0.000000</td>\n      <td>0.0</td>\n      <td>7.513697</td>\n      <td>1</td>\n      <td>0</td>\n      <td>0</td>\n      <td>1</td>\n      <td>0</td>\n    </tr>\n  </tbody>\n</table>\n</div>"
     },
     "execution_count": 40,
     "metadata": {},
     "output_type": "execute_result"
    }
   ],
   "source": [
    "dataset = CompasWithoutSensitiveAttrsDataset(dataset_path='data/COMPAS.csv')\n",
    "dataset.X_data.head()    # {\n",
    "    #     'model_name': 'LogisticRegression',\n",
    "    #     'model': LogisticRegression(random_state=MODELS_TUNING_SEED),\n",
    "    #     'params': {\n",
    "    #         'penalty': ['l1', 'l2'],\n",
    "    #         'C' : [0.00001, 0.0001, 0.001, 0.01, 0.1, 1, 10, 100],\n",
    "    #         'solver': ['newton-cg', 'lbfgs', 'liblinear', 'sag', 'saga'],\n",
    "    #         'max_iter': range(50, 251, 50),\n",
    "    #     }\n",
    "    # },\n",
    "    # {\n",
    "    #     'model_name': 'RandomForestClassifier',\n",
    "    #     'model': RandomForestClassifier(random_state=MODELS_TUNING_SEED),\n",
    "    #     'params': {\n",
    "    #         \"max_depth\": [3, 4, 6, 10],\n",
    "    #         \"min_samples_leaf\": [1, 2, 4],\n",
    "    #         \"n_estimators\": [50, 100, 500, 700],\n",
    "    #         \"max_features\": [0.6, 'auto', 'sqrt']\n",
    "    #     }\n",
    "    # },\n",
    "    # {\n",
    "    #     'model_name': 'XGBClassifier',\n",
    "    #     'model': XGBClassifier(random_state=MODELS_TUNING_SEED, verbosity=0),\n",
    "    #     'params': {\n",
    "    #         'learning_rate': [0.1],\n",
    "    #         'n_estimators': [100, 200, 300, 500],\n",
    "    #         'max_depth': [3,5,7,10],\n",
    "    #         'lambda':  [1,10,100]\n",
    "    #     }\n",
    "    # },"
   ]
  },
  {
   "cell_type": "markdown",
   "id": "c3530f06",
   "metadata": {},
   "source": [
    "## Run experiments"
   ]
  },
  {
   "cell_type": "code",
   "execution_count": 41,
   "id": "2528579c",
   "metadata": {},
   "outputs": [
    {
     "name": "stderr",
     "output_type": "stream",
     "text": [
      "Analyze models in one run:   0%|          | 0/5 [00:00<?, ?it/s]"
     ]
    },
    {
     "name": "stdout",
     "output_type": "stream",
     "text": [
      "##############################  [Model 1 / 5] Analyze DecisionTreeClassifier  ##############################\n",
      "Model random_state:  101\n",
      "Baseline X_train shape:  (4222, 9)\n",
      "Baseline X_test shape:  (1056, 9)\n"
     ]
    },
    {
     "name": "stderr",
     "output_type": "stream",
     "text": [
      "2023-01-24 01:39:17 abstract_overall_variance_analyzer.py INFO    : Start classifiers testing by bootstrap\n"
     ]
    },
    {
     "name": "stdout",
     "output_type": "stream",
     "text": [
      "\n",
      "\n"
     ]
    },
    {
     "name": "stderr",
     "output_type": "stream",
     "text": [
      "\n",
      "Classifiers testing by bootstrap: 100%|██████████| 10/10 [00:00<00:00, 203.10it/s]\n",
      "2023-01-24 01:39:17 abstract_overall_variance_analyzer.py INFO    : Successfully tested classifiers by bootstrap\n"
     ]
    },
    {
     "name": "stdout",
     "output_type": "stream",
     "text": [
      "\n",
      "\n"
     ]
    },
    {
     "name": "stderr",
     "output_type": "stream",
     "text": [
      "2023-01-24 01:39:18 abstract_overall_variance_analyzer.py INFO    : Successfully computed predict proba metrics\n"
     ]
    },
    {
     "name": "stdout",
     "output_type": "stream",
     "text": [
      "\n",
      "\n",
      "##############################  Stability metrics  ##############################\n",
      "General Ensemble Accuracy: 0.6761\n",
      "Mean: 0.5265\n",
      "Std: 0.0709\n",
      "IQR: 0.0811\n",
      "Entropy: 0.0\n",
      "Jitter: 0.106\n",
      "Per sample accuracy: 0.6645\n",
      "Label stability: 0.8574\n",
      "\n",
      "\n"
     ]
    },
    {
     "name": "stderr",
     "output_type": "stream",
     "text": [
      "Analyze models in one run:  20%|██        | 1/5 [00:00<00:03,  1.05it/s]2023-01-24 01:39:18 abstract_overall_variance_analyzer.py INFO    : Start classifiers testing by bootstrap\n"
     ]
    },
    {
     "name": "stdout",
     "output_type": "stream",
     "text": [
      "\n",
      "\n",
      "\n",
      "\n",
      "##############################  [Model 2 / 5] Analyze LogisticRegression  ##############################\n",
      "Model random_state:  102\n",
      "Baseline X_train shape:  (4222, 9)\n",
      "Baseline X_test shape:  (1056, 9)\n",
      "\n",
      "\n"
     ]
    },
    {
     "name": "stderr",
     "output_type": "stream",
     "text": [
      "\n",
      "Classifiers testing by bootstrap:   0%|          | 0/10 [00:00<?, ?it/s]\u001B[A\n",
      "Classifiers testing by bootstrap:  50%|█████     | 5/10 [00:00<00:00, 44.25it/s]\u001B[A\n",
      "Classifiers testing by bootstrap: 100%|██████████| 10/10 [00:00<00:00, 36.41it/s]\u001B[A\n",
      "2023-01-24 01:39:19 abstract_overall_variance_analyzer.py INFO    : Successfully tested classifiers by bootstrap\n"
     ]
    },
    {
     "name": "stdout",
     "output_type": "stream",
     "text": [
      "\n",
      "\n"
     ]
    },
    {
     "name": "stderr",
     "output_type": "stream",
     "text": [
      "2023-01-24 01:39:19 abstract_overall_variance_analyzer.py INFO    : Successfully computed predict proba metrics\n"
     ]
    },
    {
     "name": "stdout",
     "output_type": "stream",
     "text": [
      "\n",
      "\n",
      "##############################  Stability metrics  ##############################\n",
      "General Ensemble Accuracy: 0.661\n",
      "Mean: 0.537\n",
      "Std: 0.0206\n",
      "IQR: 0.0247\n",
      "Entropy: 0.0\n",
      "Jitter: 0.0544\n",
      "Per sample accuracy: 0.6663\n",
      "Label stability: 0.9337\n",
      "\n",
      "\n"
     ]
    },
    {
     "name": "stderr",
     "output_type": "stream",
     "text": [
      "Analyze models in one run:  40%|████      | 2/5 [00:02<00:03,  1.13s/it]2023-01-24 01:39:19 abstract_overall_variance_analyzer.py INFO    : Start classifiers testing by bootstrap\n"
     ]
    },
    {
     "name": "stdout",
     "output_type": "stream",
     "text": [
      "\n",
      "\n",
      "\n",
      "\n",
      "##############################  [Model 3 / 5] Analyze RandomForestClassifier  ##############################\n",
      "Model random_state:  103\n",
      "Baseline X_train shape:  (4222, 9)\n",
      "Baseline X_test shape:  (1056, 9)\n",
      "\n",
      "\n"
     ]
    },
    {
     "name": "stderr",
     "output_type": "stream",
     "text": [
      "\n",
      "Classifiers testing by bootstrap:   0%|          | 0/10 [00:00<?, ?it/s]\u001B[A\n",
      "Classifiers testing by bootstrap:  10%|█         | 1/10 [00:01<00:09,  1.02s/it]\u001B[A\n",
      "Classifiers testing by bootstrap:  20%|██        | 2/10 [00:01<00:07,  1.12it/s]\u001B[A\n",
      "Classifiers testing by bootstrap:  30%|███       | 3/10 [00:02<00:05,  1.18it/s]\u001B[A\n",
      "Classifiers testing by bootstrap:  40%|████      | 4/10 [00:03<00:04,  1.21it/s]\u001B[A\n",
      "Classifiers testing by bootstrap:  50%|█████     | 5/10 [00:04<00:04,  1.23it/s]\u001B[A\n",
      "Classifiers testing by bootstrap:  60%|██████    | 6/10 [00:05<00:03,  1.23it/s]\u001B[A\n",
      "Classifiers testing by bootstrap:  70%|███████   | 7/10 [00:05<00:02,  1.20it/s]\u001B[A\n",
      "Classifiers testing by bootstrap:  80%|████████  | 8/10 [00:06<00:01,  1.21it/s]\u001B[A\n",
      "Classifiers testing by bootstrap:  90%|█████████ | 9/10 [00:07<00:00,  1.14it/s]\u001B[A\n",
      "Classifiers testing by bootstrap: 100%|██████████| 10/10 [00:08<00:00,  1.18it/s]\u001B[A\n",
      "2023-01-24 01:39:28 abstract_overall_variance_analyzer.py INFO    : Successfully tested classifiers by bootstrap\n",
      "2023-01-24 01:39:28 abstract_overall_variance_analyzer.py INFO    : Successfully computed predict proba metrics\n"
     ]
    },
    {
     "name": "stdout",
     "output_type": "stream",
     "text": [
      "\n",
      "\n",
      "\n",
      "\n",
      "##############################  Stability metrics  ##############################\n",
      "General Ensemble Accuracy: 0.6733\n",
      "Mean: 0.5297\n",
      "Std: 0.0387\n",
      "IQR: 0.0486\n",
      "Entropy: 0.0\n",
      "Jitter: 0.0575\n",
      "Per sample accuracy: 0.6728\n",
      "Label stability: 0.9282\n",
      "\n",
      "\n"
     ]
    },
    {
     "name": "stderr",
     "output_type": "stream",
     "text": [
      "Analyze models in one run:  60%|██████    | 3/5 [00:11<00:09,  4.81s/it]2023-01-24 01:39:29 abstract_overall_variance_analyzer.py INFO    : Start classifiers testing by bootstrap\n"
     ]
    },
    {
     "name": "stdout",
     "output_type": "stream",
     "text": [
      "\n",
      "\n",
      "\n",
      "\n",
      "##############################  [Model 4 / 5] Analyze XGBClassifier  ##############################\n",
      "Model random_state:  104\n",
      "Baseline X_train shape:  (4222, 9)\n",
      "Baseline X_test shape:  (1056, 9)\n",
      "\n",
      "\n"
     ]
    },
    {
     "name": "stderr",
     "output_type": "stream",
     "text": [
      "\n",
      "Classifiers testing by bootstrap:   0%|          | 0/10 [00:00<?, ?it/s]\u001B[A\n",
      "Classifiers testing by bootstrap:  10%|█         | 1/10 [00:00<00:01,  4.68it/s]\u001B[A\n",
      "Classifiers testing by bootstrap:  20%|██        | 2/10 [00:00<00:01,  5.26it/s]\u001B[A\n",
      "Classifiers testing by bootstrap:  30%|███       | 3/10 [00:00<00:01,  5.82it/s]\u001B[A\n",
      "Classifiers testing by bootstrap:  40%|████      | 4/10 [00:00<00:01,  5.81it/s]\u001B[A\n",
      "Classifiers testing by bootstrap:  50%|█████     | 5/10 [00:00<00:00,  6.09it/s]\u001B[A\n",
      "Classifiers testing by bootstrap:  60%|██████    | 6/10 [00:01<00:00,  5.01it/s]\u001B[A\n",
      "Classifiers testing by bootstrap:  70%|███████   | 7/10 [00:01<00:00,  5.22it/s]\u001B[A\n",
      "Classifiers testing by bootstrap:  80%|████████  | 8/10 [00:02<00:01,  1.95it/s]\u001B[A\n",
      "Classifiers testing by bootstrap:  90%|█████████ | 9/10 [00:02<00:00,  2.42it/s]\u001B[A\n",
      "Classifiers testing by bootstrap: 100%|██████████| 10/10 [00:02<00:00,  3.46it/s]\u001B[A\n",
      "2023-01-24 01:39:32 abstract_overall_variance_analyzer.py INFO    : Successfully tested classifiers by bootstrap\n",
      "2023-01-24 01:39:32 abstract_overall_variance_analyzer.py INFO    : Successfully computed predict proba metrics\n"
     ]
    },
    {
     "name": "stdout",
     "output_type": "stream",
     "text": [
      "\n",
      "\n",
      "\n",
      "\n",
      "##############################  Stability metrics  ##############################\n",
      "General Ensemble Accuracy: 0.6922\n",
      "Mean: 0.5259000062942505\n",
      "Std: 0.043299999088048935\n",
      "IQR: 0.0534\n",
      "Entropy: 0.0\n",
      "Jitter: 0.0686\n",
      "Per sample accuracy: 0.6908\n",
      "Label stability: 0.9119\n",
      "\n",
      "\n"
     ]
    },
    {
     "name": "stderr",
     "output_type": "stream",
     "text": [
      "Analyze models in one run:  80%|████████  | 4/5 [00:15<00:04,  4.38s/it]2023-01-24 01:39:32 abstract_overall_variance_analyzer.py INFO    : Start classifiers testing by bootstrap\n"
     ]
    },
    {
     "name": "stdout",
     "output_type": "stream",
     "text": [
      "\n",
      "\n",
      "\n",
      "\n",
      "##############################  [Model 5 / 5] Analyze KNeighborsClassifier  ##############################\n",
      "Model random_state:  None\n",
      "Baseline X_train shape:  (4222, 9)\n",
      "Baseline X_test shape:  (1056, 9)\n",
      "\n",
      "\n"
     ]
    },
    {
     "name": "stderr",
     "output_type": "stream",
     "text": [
      "\n",
      "Classifiers testing by bootstrap:   0%|          | 0/10 [00:00<?, ?it/s]\u001B[A\n",
      "Classifiers testing by bootstrap:  30%|███       | 3/10 [00:00<00:00, 22.77it/s]\u001B[A\n",
      "Classifiers testing by bootstrap:  60%|██████    | 6/10 [00:00<00:00, 21.87it/s]\u001B[A\n",
      "Classifiers testing by bootstrap: 100%|██████████| 10/10 [00:00<00:00, 21.50it/s][A\n",
      "2023-01-24 01:39:33 abstract_overall_variance_analyzer.py INFO    : Successfully tested classifiers by bootstrap\n",
      "2023-01-24 01:39:33 abstract_overall_variance_analyzer.py INFO    : Successfully computed predict proba metrics\n"
     ]
    },
    {
     "name": "stdout",
     "output_type": "stream",
     "text": [
      "\n",
      "\n",
      "\n",
      "\n",
      "##############################  Stability metrics  ##############################\n",
      "General Ensemble Accuracy: 0.6828\n",
      "Mean: 0.5479\n",
      "Std: 0.0913\n",
      "IQR: 0.115\n",
      "Entropy: 0.2095\n",
      "Jitter: 0.1569\n",
      "Per sample accuracy: 0.6606\n",
      "Label stability: 0.789\n",
      "\n",
      "\n"
     ]
    },
    {
     "name": "stderr",
     "output_type": "stream",
     "text": [
      "Analyze models in one run: 100%|██████████| 5/5 [00:16<00:00,  3.27s/it]\n"
     ]
    },
    {
     "name": "stdout",
     "output_type": "stream",
     "text": [
      "\n",
      "\n",
      "\n",
      "\n"
     ]
    },
    {
     "name": "stderr",
     "output_type": "stream",
     "text": [
      "Analyze models in one run:   0%|          | 0/5 [00:00<?, ?it/s]2023-01-24 01:39:34 abstract_overall_variance_analyzer.py INFO    : Start classifiers testing by bootstrap\n"
     ]
    },
    {
     "name": "stdout",
     "output_type": "stream",
     "text": [
      "##############################  [Model 1 / 5] Analyze DecisionTreeClassifier  ##############################\n",
      "Model random_state:  201\n",
      "Baseline X_train shape:  (4222, 9)\n",
      "Baseline X_test shape:  (1056, 9)\n",
      "\n",
      "\n"
     ]
    },
    {
     "name": "stderr",
     "output_type": "stream",
     "text": [
      "\n",
      "Classifiers testing by bootstrap: 100%|██████████| 10/10 [00:00<00:00, 229.81it/s]\n",
      "2023-01-24 01:39:34 abstract_overall_variance_analyzer.py INFO    : Successfully tested classifiers by bootstrap\n"
     ]
    },
    {
     "name": "stdout",
     "output_type": "stream",
     "text": [
      "\n",
      "\n"
     ]
    },
    {
     "name": "stderr",
     "output_type": "stream",
     "text": [
      "2023-01-24 01:39:34 abstract_overall_variance_analyzer.py INFO    : Successfully computed predict proba metrics\n"
     ]
    },
    {
     "name": "stdout",
     "output_type": "stream",
     "text": [
      "\n",
      "\n",
      "##############################  Stability metrics  ##############################\n",
      "General Ensemble Accuracy: 0.6761\n",
      "Mean: 0.5209\n",
      "Std: 0.0631\n",
      "IQR: 0.0685\n",
      "Entropy: 0.0\n",
      "Jitter: 0.0995\n",
      "Per sample accuracy: 0.6687\n",
      "Label stability: 0.8744\n",
      "\n",
      "\n"
     ]
    },
    {
     "name": "stderr",
     "output_type": "stream",
     "text": [
      "Analyze models in one run:  20%|██        | 1/5 [00:00<00:03,  1.18it/s]2023-01-24 01:39:34 abstract_overall_variance_analyzer.py INFO    : Start classifiers testing by bootstrap\n"
     ]
    },
    {
     "name": "stdout",
     "output_type": "stream",
     "text": [
      "\n",
      "\n",
      "\n",
      "\n",
      "##############################  [Model 2 / 5] Analyze LogisticRegression  ##############################\n",
      "Model random_state:  202\n",
      "Baseline X_train shape:  (4222, 9)\n",
      "Baseline X_test shape:  (1056, 9)\n",
      "\n",
      "\n"
     ]
    },
    {
     "name": "stderr",
     "output_type": "stream",
     "text": [
      "\n",
      "Classifiers testing by bootstrap:   0%|          | 0/10 [00:00<?, ?it/s]\u001B[A\n",
      "Classifiers testing by bootstrap:  20%|██        | 2/10 [00:00<00:00, 16.87it/s]\u001B[A\n",
      "Classifiers testing by bootstrap: 100%|██████████| 10/10 [00:00<00:00, 32.50it/s][A\n",
      "2023-01-24 01:39:35 abstract_overall_variance_analyzer.py INFO    : Successfully tested classifiers by bootstrap\n"
     ]
    },
    {
     "name": "stdout",
     "output_type": "stream",
     "text": [
      "\n",
      "\n"
     ]
    },
    {
     "name": "stderr",
     "output_type": "stream",
     "text": [
      "2023-01-24 01:39:35 abstract_overall_variance_analyzer.py INFO    : Successfully computed predict proba metrics\n"
     ]
    },
    {
     "name": "stdout",
     "output_type": "stream",
     "text": [
      "\n",
      "\n",
      "##############################  Stability metrics  ##############################\n",
      "General Ensemble Accuracy: 0.6496\n",
      "Mean: 0.526\n",
      "Std: 0.0229\n",
      "IQR: 0.0265\n",
      "Entropy: 0.0\n",
      "Jitter: 0.0506\n",
      "Per sample accuracy: 0.6483\n",
      "Label stability: 0.9352\n",
      "\n",
      "\n"
     ]
    },
    {
     "name": "stderr",
     "output_type": "stream",
     "text": [
      "Analyze models in one run:  40%|████      | 2/5 [00:01<00:02,  1.02it/s]2023-01-24 01:39:36 abstract_overall_variance_analyzer.py INFO    : Start classifiers testing by bootstrap\n"
     ]
    },
    {
     "name": "stdout",
     "output_type": "stream",
     "text": [
      "\n",
      "\n",
      "\n",
      "\n",
      "##############################  [Model 3 / 5] Analyze RandomForestClassifier  ##############################\n",
      "Model random_state:  203\n",
      "Baseline X_train shape:  (4222, 9)\n",
      "Baseline X_test shape:  (1056, 9)\n",
      "\n",
      "\n"
     ]
    },
    {
     "name": "stderr",
     "output_type": "stream",
     "text": [
      "\n",
      "Classifiers testing by bootstrap:   0%|          | 0/10 [00:00<?, ?it/s]\u001B[A\n",
      "Classifiers testing by bootstrap:  10%|█         | 1/10 [00:01<00:10,  1.11s/it]\u001B[A\n",
      "Classifiers testing by bootstrap:  20%|██        | 2/10 [00:02<00:10,  1.27s/it]\u001B[A\n",
      "Classifiers testing by bootstrap:  30%|███       | 3/10 [00:03<00:09,  1.33s/it]\u001B[A\n",
      "Classifiers testing by bootstrap:  40%|████      | 4/10 [00:04<00:07,  1.17s/it]\u001B[A\n",
      "Classifiers testing by bootstrap:  50%|█████     | 5/10 [00:05<00:05,  1.07s/it]\u001B[A\n",
      "Classifiers testing by bootstrap:  60%|██████    | 6/10 [00:06<00:04,  1.10s/it]\u001B[A\n",
      "Classifiers testing by bootstrap:  70%|███████   | 7/10 [00:08<00:03,  1.26s/it]\u001B[A\n",
      "Classifiers testing by bootstrap:  80%|████████  | 8/10 [00:09<00:02,  1.28s/it]\u001B[A\n",
      "Classifiers testing by bootstrap:  90%|█████████ | 9/10 [00:11<00:01,  1.38s/it]\u001B[A\n",
      "Classifiers testing by bootstrap: 100%|██████████| 10/10 [00:12<00:00,  1.26s/it]\u001B[A\n",
      "2023-01-24 01:39:48 abstract_overall_variance_analyzer.py INFO    : Successfully tested classifiers by bootstrap\n"
     ]
    },
    {
     "name": "stdout",
     "output_type": "stream",
     "text": [
      "\n",
      "\n"
     ]
    },
    {
     "name": "stderr",
     "output_type": "stream",
     "text": [
      "2023-01-24 01:39:48 abstract_overall_variance_analyzer.py INFO    : Successfully computed predict proba metrics\n"
     ]
    },
    {
     "name": "stdout",
     "output_type": "stream",
     "text": [
      "\n",
      "\n",
      "##############################  Stability metrics  ##############################\n",
      "General Ensemble Accuracy: 0.6752\n",
      "Mean: 0.522\n",
      "Std: 0.0348\n",
      "IQR: 0.0429\n",
      "Entropy: 0.0\n",
      "Jitter: 0.0793\n",
      "Per sample accuracy: 0.671\n",
      "Label stability: 0.8985\n",
      "\n",
      "\n"
     ]
    },
    {
     "name": "stderr",
     "output_type": "stream",
     "text": [
      "Analyze models in one run:  60%|██████    | 3/5 [00:15<00:13,  6.78s/it]2023-01-24 01:39:49 abstract_overall_variance_analyzer.py INFO    : Start classifiers testing by bootstrap\n"
     ]
    },
    {
     "name": "stdout",
     "output_type": "stream",
     "text": [
      "\n",
      "\n",
      "\n",
      "\n",
      "##############################  [Model 4 / 5] Analyze XGBClassifier  ##############################\n",
      "Model random_state:  204\n",
      "Baseline X_train shape:  (4222, 9)\n",
      "Baseline X_test shape:  (1056, 9)\n",
      "\n",
      "\n"
     ]
    },
    {
     "name": "stderr",
     "output_type": "stream",
     "text": [
      "\n",
      "Classifiers testing by bootstrap:   0%|          | 0/10 [00:00<?, ?it/s]\u001B[A\n",
      "Classifiers testing by bootstrap:  10%|█         | 1/10 [00:27<04:05, 27.31s/it]\u001B[A\n",
      "Classifiers testing by bootstrap:  20%|██        | 2/10 [00:39<02:27, 18.43s/it]\u001B[A\n",
      "Classifiers testing by bootstrap:  30%|███       | 3/10 [00:49<01:43, 14.73s/it]\u001B[A\n",
      "Classifiers testing by bootstrap:  40%|████      | 4/10 [00:56<01:10, 11.68s/it]\u001B[A\n",
      "Classifiers testing by bootstrap:  50%|█████     | 5/10 [01:57<02:27, 29.48s/it]\u001B[A\n",
      "Classifiers testing by bootstrap:  60%|██████    | 6/10 [01:58<01:19, 19.78s/it]\u001B[A\n",
      "Classifiers testing by bootstrap:  70%|███████   | 7/10 [01:59<00:40, 13.41s/it]\u001B[A\n",
      "Classifiers testing by bootstrap:  80%|████████  | 8/10 [01:59<00:18,  9.30s/it]\u001B[A\n",
      "Classifiers testing by bootstrap:  90%|█████████ | 9/10 [02:00<00:06,  6.56s/it]\u001B[A\n",
      "Classifiers testing by bootstrap: 100%|██████████| 10/10 [02:00<00:00, 12.05s/it]\u001B[A\n",
      "2023-01-24 01:41:50 abstract_overall_variance_analyzer.py INFO    : Successfully tested classifiers by bootstrap\n"
     ]
    },
    {
     "name": "stdout",
     "output_type": "stream",
     "text": [
      "\n",
      "\n"
     ]
    },
    {
     "name": "stderr",
     "output_type": "stream",
     "text": [
      "2023-01-24 01:41:50 abstract_overall_variance_analyzer.py INFO    : Successfully computed predict proba metrics\n"
     ]
    },
    {
     "name": "stdout",
     "output_type": "stream",
     "text": [
      "\n",
      "\n",
      "##############################  Stability metrics  ##############################\n",
      "General Ensemble Accuracy: 0.6828\n",
      "Mean: 0.5264000296592712\n",
      "Std: 0.04899999871850014\n",
      "IQR: 0.0575\n",
      "Entropy: 0.0\n",
      "Jitter: 0.1155\n",
      "Per sample accuracy: 0.6706\n",
      "Label stability: 0.8477\n",
      "\n",
      "\n"
     ]
    },
    {
     "name": "stderr",
     "output_type": "stream",
     "text": [
      "Analyze models in one run:  80%|████████  | 4/5 [02:17<00:52, 52.08s/it]2023-01-24 01:41:51 abstract_overall_variance_analyzer.py INFO    : Start classifiers testing by bootstrap\n"
     ]
    },
    {
     "name": "stdout",
     "output_type": "stream",
     "text": [
      "\n",
      "\n",
      "\n",
      "\n",
      "##############################  [Model 5 / 5] Analyze KNeighborsClassifier  ##############################\n",
      "Model random_state:  None\n",
      "Baseline X_train shape:  (4222, 9)\n",
      "Baseline X_test shape:  (1056, 9)\n",
      "\n",
      "\n"
     ]
    },
    {
     "name": "stderr",
     "output_type": "stream",
     "text": [
      "\n",
      "Classifiers testing by bootstrap:   0%|          | 0/10 [00:00<?, ?it/s]\u001B[A\n",
      "Classifiers testing by bootstrap:  20%|██        | 2/10 [00:00<00:00, 17.94it/s]\u001B[A\n",
      "Classifiers testing by bootstrap:  40%|████      | 4/10 [00:00<00:00, 17.55it/s]\u001B[A\n",
      "Classifiers testing by bootstrap:  60%|██████    | 6/10 [00:00<00:00, 17.71it/s]\u001B[A\n",
      "Classifiers testing by bootstrap:  80%|████████  | 8/10 [00:00<00:00, 17.43it/s]\u001B[A\n",
      "Classifiers testing by bootstrap: 100%|██████████| 10/10 [00:00<00:00, 17.33it/s]\u001B[A\n",
      "2023-01-24 01:41:51 abstract_overall_variance_analyzer.py INFO    : Successfully tested classifiers by bootstrap\n"
     ]
    },
    {
     "name": "stdout",
     "output_type": "stream",
     "text": [
      "\n",
      "\n"
     ]
    },
    {
     "name": "stderr",
     "output_type": "stream",
     "text": [
      "2023-01-24 01:41:52 abstract_overall_variance_analyzer.py INFO    : Successfully computed predict proba metrics\n"
     ]
    },
    {
     "name": "stdout",
     "output_type": "stream",
     "text": [
      "\n",
      "\n",
      "##############################  Stability metrics  ##############################\n",
      "General Ensemble Accuracy: 0.6686\n",
      "Mean: 0.5393\n",
      "Std: 0.0902\n",
      "IQR: 0.1109\n",
      "Entropy: 0.0\n",
      "Jitter: 0.146\n",
      "Per sample accuracy: 0.6546\n",
      "Label stability: 0.8108\n",
      "\n",
      "\n"
     ]
    },
    {
     "name": "stderr",
     "output_type": "stream",
     "text": [
      "Analyze models in one run: 100%|██████████| 5/5 [02:18<00:00, 27.73s/it]\n"
     ]
    },
    {
     "name": "stdout",
     "output_type": "stream",
     "text": [
      "\n",
      "\n",
      "\n",
      "\n"
     ]
    },
    {
     "name": "stderr",
     "output_type": "stream",
     "text": [
      "Analyze models in one run:   0%|          | 0/5 [00:00<?, ?it/s]2023-01-24 01:41:52 abstract_overall_variance_analyzer.py INFO    : Start classifiers testing by bootstrap\n"
     ]
    },
    {
     "name": "stdout",
     "output_type": "stream",
     "text": [
      "##############################  [Model 1 / 5] Analyze DecisionTreeClassifier  ##############################\n",
      "Model random_state:  301\n",
      "Baseline X_train shape:  (4222, 9)\n",
      "Baseline X_test shape:  (1056, 9)\n",
      "\n",
      "\n"
     ]
    },
    {
     "name": "stderr",
     "output_type": "stream",
     "text": [
      "\n",
      "Classifiers testing by bootstrap: 100%|██████████| 10/10 [00:00<00:00, 199.12it/s]\n",
      "2023-01-24 01:41:52 abstract_overall_variance_analyzer.py INFO    : Successfully tested classifiers by bootstrap\n"
     ]
    },
    {
     "name": "stdout",
     "output_type": "stream",
     "text": [
      "\n",
      "\n"
     ]
    },
    {
     "name": "stderr",
     "output_type": "stream",
     "text": [
      "2023-01-24 01:41:53 abstract_overall_variance_analyzer.py INFO    : Successfully computed predict proba metrics\n"
     ]
    },
    {
     "name": "stdout",
     "output_type": "stream",
     "text": [
      "\n",
      "\n",
      "##############################  Stability metrics  ##############################\n",
      "General Ensemble Accuracy: 0.6657\n",
      "Mean: 0.5262\n",
      "Std: 0.0709\n",
      "IQR: 0.0754\n",
      "Entropy: 0.0\n",
      "Jitter: 0.1181\n",
      "Per sample accuracy: 0.6531\n",
      "Label stability: 0.8555\n",
      "\n",
      "\n"
     ]
    },
    {
     "name": "stderr",
     "output_type": "stream",
     "text": [
      "Analyze models in one run:  20%|██        | 1/5 [00:00<00:03,  1.02it/s]2023-01-24 01:41:53 abstract_overall_variance_analyzer.py INFO    : Start classifiers testing by bootstrap\n"
     ]
    },
    {
     "name": "stdout",
     "output_type": "stream",
     "text": [
      "\n",
      "\n",
      "\n",
      "\n",
      "##############################  [Model 2 / 5] Analyze LogisticRegression  ##############################\n",
      "Model random_state:  302\n",
      "Baseline X_train shape:  (4222, 9)\n",
      "Baseline X_test shape:  (1056, 9)\n",
      "\n",
      "\n"
     ]
    },
    {
     "name": "stderr",
     "output_type": "stream",
     "text": [
      "\n",
      "Classifiers testing by bootstrap:   0%|          | 0/10 [00:00<?, ?it/s]\u001B[A\n",
      "Classifiers testing by bootstrap:  40%|████      | 4/10 [00:00<00:00, 37.81it/s]\u001B[A\n",
      "Classifiers testing by bootstrap: 100%|██████████| 10/10 [00:00<00:00, 34.68it/s][A\n",
      "2023-01-24 01:41:54 abstract_overall_variance_analyzer.py INFO    : Successfully tested classifiers by bootstrap\n"
     ]
    },
    {
     "name": "stdout",
     "output_type": "stream",
     "text": [
      "\n",
      "\n"
     ]
    },
    {
     "name": "stderr",
     "output_type": "stream",
     "text": [
      "2023-01-24 01:41:54 abstract_overall_variance_analyzer.py INFO    : Successfully computed predict proba metrics\n"
     ]
    },
    {
     "name": "stdout",
     "output_type": "stream",
     "text": [
      "\n",
      "\n",
      "##############################  Stability metrics  ##############################\n",
      "General Ensemble Accuracy: 0.6581\n",
      "Mean: 0.5258\n",
      "Std: 0.0199\n",
      "IQR: 0.0218\n",
      "Entropy: 0.0867\n",
      "Jitter: 0.063\n",
      "Per sample accuracy: 0.6509\n",
      "Label stability: 0.9172\n",
      "\n",
      "\n"
     ]
    },
    {
     "name": "stderr",
     "output_type": "stream",
     "text": [
      "Analyze models in one run:  40%|████      | 2/5 [00:02<00:03,  1.22s/it]2023-01-24 01:41:55 abstract_overall_variance_analyzer.py INFO    : Start classifiers testing by bootstrap\n"
     ]
    },
    {
     "name": "stdout",
     "output_type": "stream",
     "text": [
      "\n",
      "\n",
      "\n",
      "\n",
      "##############################  [Model 3 / 5] Analyze RandomForestClassifier  ##############################\n",
      "Model random_state:  303\n",
      "Baseline X_train shape:  (4222, 9)\n",
      "Baseline X_test shape:  (1056, 9)\n",
      "\n",
      "\n"
     ]
    },
    {
     "name": "stderr",
     "output_type": "stream",
     "text": [
      "\n",
      "Classifiers testing by bootstrap:   0%|          | 0/10 [00:00<?, ?it/s]\u001B[A\n",
      "Classifiers testing by bootstrap:  10%|█         | 1/10 [00:00<00:08,  1.10it/s]\u001B[A\n",
      "Classifiers testing by bootstrap:  20%|██        | 2/10 [00:01<00:07,  1.13it/s]\u001B[A\n",
      "Classifiers testing by bootstrap:  30%|███       | 3/10 [00:02<00:06,  1.13it/s]\u001B[A\n",
      "Classifiers testing by bootstrap:  40%|████      | 4/10 [00:03<00:05,  1.07it/s]\u001B[A\n",
      "Classifiers testing by bootstrap:  50%|█████     | 5/10 [00:04<00:04,  1.09it/s]\u001B[A\n",
      "Classifiers testing by bootstrap:  60%|██████    | 6/10 [00:05<00:03,  1.08it/s]\u001B[A\n",
      "Classifiers testing by bootstrap:  70%|███████   | 7/10 [00:06<00:02,  1.05it/s]\u001B[A\n",
      "Classifiers testing by bootstrap:  80%|████████  | 8/10 [00:07<00:02,  1.08s/it]\u001B[A\n",
      "Classifiers testing by bootstrap:  90%|█████████ | 9/10 [00:08<00:01,  1.07s/it]\u001B[A\n",
      "Classifiers testing by bootstrap: 100%|██████████| 10/10 [00:09<00:00,  1.01it/s]\u001B[A\n",
      "2023-01-24 01:42:05 abstract_overall_variance_analyzer.py INFO    : Successfully tested classifiers by bootstrap\n"
     ]
    },
    {
     "name": "stdout",
     "output_type": "stream",
     "text": [
      "\n",
      "\n"
     ]
    },
    {
     "name": "stderr",
     "output_type": "stream",
     "text": [
      "2023-01-24 01:42:05 abstract_overall_variance_analyzer.py INFO    : Successfully computed predict proba metrics\n"
     ]
    },
    {
     "name": "stdout",
     "output_type": "stream",
     "text": [
      "\n",
      "\n",
      "##############################  Stability metrics  ##############################\n",
      "General Ensemble Accuracy: 0.679\n",
      "Mean: 0.5412\n",
      "Std: 0.0382\n",
      "IQR: 0.0459\n",
      "Entropy: 0.0\n",
      "Jitter: 0.0655\n",
      "Per sample accuracy: 0.679\n",
      "Label stability: 0.9189\n",
      "\n",
      "\n"
     ]
    },
    {
     "name": "stderr",
     "output_type": "stream",
     "text": [
      "Analyze models in one run:  60%|██████    | 3/5 [00:13<00:11,  5.56s/it]2023-01-24 01:42:05 abstract_overall_variance_analyzer.py INFO    : Start classifiers testing by bootstrap\n"
     ]
    },
    {
     "name": "stdout",
     "output_type": "stream",
     "text": [
      "\n",
      "\n",
      "\n",
      "\n",
      "##############################  [Model 4 / 5] Analyze XGBClassifier  ##############################\n",
      "Model random_state:  304\n",
      "Baseline X_train shape:  (4222, 9)\n",
      "Baseline X_test shape:  (1056, 9)\n",
      "\n",
      "\n"
     ]
    },
    {
     "name": "stderr",
     "output_type": "stream",
     "text": [
      "\n",
      "Classifiers testing by bootstrap:   0%|          | 0/10 [00:00<?, ?it/s]\u001B[A\n",
      "Classifiers testing by bootstrap:  10%|█         | 1/10 [00:00<00:02,  3.18it/s]\u001B[A\n",
      "Classifiers testing by bootstrap:  20%|██        | 2/10 [00:00<00:02,  3.03it/s]\u001B[A\n",
      "Classifiers testing by bootstrap:  30%|███       | 3/10 [00:01<00:04,  1.46it/s]\u001B[A\n",
      "Classifiers testing by bootstrap:  40%|████      | 4/10 [00:02<00:03,  1.88it/s]\u001B[A\n",
      "Classifiers testing by bootstrap:  50%|█████     | 5/10 [00:02<00:02,  2.14it/s]\u001B[A\n",
      "Classifiers testing by bootstrap:  60%|██████    | 6/10 [00:02<00:01,  2.34it/s]\u001B[A\n",
      "Classifiers testing by bootstrap:  70%|███████   | 7/10 [00:03<00:01,  2.44it/s]\u001B[A\n",
      "Classifiers testing by bootstrap:  80%|████████  | 8/10 [00:04<00:01,  1.60it/s]\u001B[A\n",
      "Classifiers testing by bootstrap:  90%|█████████ | 9/10 [00:04<00:00,  1.69it/s]\u001B[A\n",
      "Classifiers testing by bootstrap: 100%|██████████| 10/10 [00:05<00:00,  1.98it/s]\u001B[A\n",
      "2023-01-24 01:42:10 abstract_overall_variance_analyzer.py INFO    : Successfully tested classifiers by bootstrap\n"
     ]
    },
    {
     "name": "stdout",
     "output_type": "stream",
     "text": [
      "\n",
      "\n"
     ]
    },
    {
     "name": "stderr",
     "output_type": "stream",
     "text": [
      "2023-01-24 01:42:11 abstract_overall_variance_analyzer.py INFO    : Successfully computed predict proba metrics\n"
     ]
    },
    {
     "name": "stdout",
     "output_type": "stream",
     "text": [
      "\n",
      "\n",
      "##############################  Stability metrics  ##############################\n",
      "General Ensemble Accuracy: 0.6799\n",
      "Mean: 0.5284000039100647\n",
      "Std: 0.04580000042915344\n",
      "IQR: 0.0563\n",
      "Entropy: 0.0\n",
      "Jitter: 0.094\n",
      "Per sample accuracy: 0.6698\n",
      "Label stability: 0.8714\n",
      "\n",
      "\n"
     ]
    },
    {
     "name": "stderr",
     "output_type": "stream",
     "text": [
      "Analyze models in one run:  80%|████████  | 4/5 [00:19<00:05,  5.76s/it]2023-01-24 01:42:11 abstract_overall_variance_analyzer.py INFO    : Start classifiers testing by bootstrap\n"
     ]
    },
    {
     "name": "stdout",
     "output_type": "stream",
     "text": [
      "\n",
      "\n",
      "\n",
      "\n",
      "##############################  [Model 5 / 5] Analyze KNeighborsClassifier  ##############################\n",
      "Model random_state:  None\n",
      "Baseline X_train shape:  (4222, 9)\n",
      "Baseline X_test shape:  (1056, 9)\n",
      "\n",
      "\n"
     ]
    },
    {
     "name": "stderr",
     "output_type": "stream",
     "text": [
      "\n",
      "Classifiers testing by bootstrap:   0%|          | 0/10 [00:00<?, ?it/s]\u001B[A\n",
      "Classifiers testing by bootstrap:  20%|██        | 2/10 [00:00<00:00, 18.87it/s]\u001B[A\n",
      "Classifiers testing by bootstrap:  40%|████      | 4/10 [00:00<00:00, 18.25it/s]\u001B[A\n",
      "Classifiers testing by bootstrap:  60%|██████    | 6/10 [00:00<00:00, 18.04it/s]\u001B[A\n",
      "Classifiers testing by bootstrap:  80%|████████  | 8/10 [00:00<00:00, 18.05it/s]\u001B[A\n",
      "Classifiers testing by bootstrap: 100%|██████████| 10/10 [00:00<00:00, 17.91it/s]\u001B[A\n",
      "2023-01-24 01:42:12 abstract_overall_variance_analyzer.py INFO    : Successfully tested classifiers by bootstrap\n"
     ]
    },
    {
     "name": "stdout",
     "output_type": "stream",
     "text": [
      "\n",
      "\n"
     ]
    },
    {
     "name": "stderr",
     "output_type": "stream",
     "text": [
      "2023-01-24 01:42:12 abstract_overall_variance_analyzer.py INFO    : Successfully computed predict proba metrics\n"
     ]
    },
    {
     "name": "stdout",
     "output_type": "stream",
     "text": [
      "\n",
      "\n",
      "##############################  Stability metrics  ##############################\n",
      "General Ensemble Accuracy: 0.6723\n",
      "Mean: 0.5319\n",
      "Std: 0.0912\n",
      "IQR: 0.1189\n",
      "Entropy: 0.2134\n",
      "Jitter: 0.1579\n",
      "Per sample accuracy: 0.6578\n",
      "Label stability: 0.7924\n",
      "\n",
      "\n"
     ]
    },
    {
     "name": "stderr",
     "output_type": "stream",
     "text": [
      "Analyze models in one run: 100%|██████████| 5/5 [00:20<00:00,  4.10s/it]\n"
     ]
    },
    {
     "name": "stdout",
     "output_type": "stream",
     "text": [
      "\n",
      "\n",
      "\n",
      "\n"
     ]
    },
    {
     "name": "stderr",
     "output_type": "stream",
     "text": [
      "Analyze models in one run:   0%|          | 0/5 [00:00<?, ?it/s]2023-01-24 01:42:13 abstract_overall_variance_analyzer.py INFO    : Start classifiers testing by bootstrap\n"
     ]
    },
    {
     "name": "stdout",
     "output_type": "stream",
     "text": [
      "##############################  [Model 1 / 5] Analyze DecisionTreeClassifier  ##############################\n",
      "Model random_state:  401\n",
      "Baseline X_train shape:  (4222, 9)\n",
      "Baseline X_test shape:  (1056, 9)\n",
      "\n",
      "\n"
     ]
    },
    {
     "name": "stderr",
     "output_type": "stream",
     "text": [
      "\n",
      "Classifiers testing by bootstrap: 100%|██████████| 10/10 [00:00<00:00, 223.65it/s]\n",
      "2023-01-24 01:42:13 abstract_overall_variance_analyzer.py INFO    : Successfully tested classifiers by bootstrap\n"
     ]
    },
    {
     "name": "stdout",
     "output_type": "stream",
     "text": [
      "\n",
      "\n"
     ]
    },
    {
     "name": "stderr",
     "output_type": "stream",
     "text": [
      "2023-01-24 01:42:13 abstract_overall_variance_analyzer.py INFO    : Successfully computed predict proba metrics\n"
     ]
    },
    {
     "name": "stdout",
     "output_type": "stream",
     "text": [
      "\n",
      "\n",
      "##############################  Stability metrics  ##############################\n",
      "General Ensemble Accuracy: 0.6638\n",
      "Mean: 0.5279\n",
      "Std: 0.071\n",
      "IQR: 0.0775\n",
      "Entropy: 0.1665\n",
      "Jitter: 0.1183\n",
      "Per sample accuracy: 0.6545\n",
      "Label stability: 0.8489\n",
      "\n",
      "\n"
     ]
    },
    {
     "name": "stderr",
     "output_type": "stream",
     "text": [
      "Analyze models in one run:  20%|██        | 1/5 [00:00<00:03,  1.09it/s]2023-01-24 01:42:14 abstract_overall_variance_analyzer.py INFO    : Start classifiers testing by bootstrap\n"
     ]
    },
    {
     "name": "stdout",
     "output_type": "stream",
     "text": [
      "\n",
      "\n",
      "\n",
      "\n",
      "##############################  [Model 2 / 5] Analyze LogisticRegression  ##############################\n",
      "Model random_state:  402\n",
      "Baseline X_train shape:  (4222, 9)\n",
      "Baseline X_test shape:  (1056, 9)\n",
      "\n",
      "\n"
     ]
    },
    {
     "name": "stderr",
     "output_type": "stream",
     "text": [
      "\n",
      "Classifiers testing by bootstrap:   0%|          | 0/10 [00:00<?, ?it/s]\u001B[A\n",
      "Classifiers testing by bootstrap:  20%|██        | 2/10 [00:00<00:00, 19.63it/s]\u001B[A\n",
      "Classifiers testing by bootstrap:  50%|█████     | 5/10 [00:00<00:00, 25.31it/s]\u001B[A\n",
      "Classifiers testing by bootstrap: 100%|██████████| 10/10 [00:00<00:00, 21.05it/s][A\n",
      "2023-01-24 01:42:14 abstract_overall_variance_analyzer.py INFO    : Successfully tested classifiers by bootstrap\n"
     ]
    },
    {
     "name": "stdout",
     "output_type": "stream",
     "text": [
      "\n",
      "\n"
     ]
    },
    {
     "name": "stderr",
     "output_type": "stream",
     "text": [
      "2023-01-24 01:42:15 abstract_overall_variance_analyzer.py INFO    : Successfully computed predict proba metrics\n"
     ]
    },
    {
     "name": "stdout",
     "output_type": "stream",
     "text": [
      "\n",
      "\n",
      "##############################  Stability metrics  ##############################\n",
      "General Ensemble Accuracy: 0.6657\n",
      "Mean: 0.5338\n",
      "Std: 0.0229\n",
      "IQR: 0.0272\n",
      "Entropy: 0.0\n",
      "Jitter: 0.0534\n",
      "Per sample accuracy: 0.6662\n",
      "Label stability: 0.9339\n",
      "\n",
      "\n"
     ]
    },
    {
     "name": "stderr",
     "output_type": "stream",
     "text": [
      "Analyze models in one run:  40%|████      | 2/5 [00:02<00:03,  1.26s/it]2023-01-24 01:42:15 abstract_overall_variance_analyzer.py INFO    : Start classifiers testing by bootstrap\n"
     ]
    },
    {
     "name": "stdout",
     "output_type": "stream",
     "text": [
      "\n",
      "\n",
      "\n",
      "\n",
      "##############################  [Model 3 / 5] Analyze RandomForestClassifier  ##############################\n",
      "Model random_state:  403\n",
      "Baseline X_train shape:  (4222, 9)\n",
      "Baseline X_test shape:  (1056, 9)\n",
      "\n",
      "\n"
     ]
    },
    {
     "name": "stderr",
     "output_type": "stream",
     "text": [
      "\n",
      "Classifiers testing by bootstrap:   0%|          | 0/10 [00:00<?, ?it/s]\u001B[A\n",
      "Classifiers testing by bootstrap:  10%|█         | 1/10 [00:01<00:09,  1.06s/it]\u001B[A\n",
      "Classifiers testing by bootstrap:  20%|██        | 2/10 [00:01<00:07,  1.06it/s]\u001B[A\n",
      "Classifiers testing by bootstrap:  30%|███       | 3/10 [00:02<00:06,  1.11it/s]\u001B[A\n",
      "Classifiers testing by bootstrap:  40%|████      | 4/10 [00:03<00:06,  1.00s/it]\u001B[A\n",
      "Classifiers testing by bootstrap:  50%|█████     | 5/10 [00:05<00:05,  1.12s/it]\u001B[A\n",
      "Classifiers testing by bootstrap:  60%|██████    | 6/10 [00:06<00:04,  1.18s/it]\u001B[A\n",
      "Classifiers testing by bootstrap:  70%|███████   | 7/10 [00:07<00:03,  1.19s/it]\u001B[A\n",
      "Classifiers testing by bootstrap:  80%|████████  | 8/10 [00:08<00:02,  1.15s/it]\u001B[A\n",
      "Classifiers testing by bootstrap:  90%|█████████ | 9/10 [00:09<00:01,  1.08s/it]\u001B[A\n",
      "Classifiers testing by bootstrap: 100%|██████████| 10/10 [00:10<00:00,  1.07s/it]\u001B[A\n",
      "2023-01-24 01:42:26 abstract_overall_variance_analyzer.py INFO    : Successfully tested classifiers by bootstrap\n"
     ]
    },
    {
     "name": "stdout",
     "output_type": "stream",
     "text": [
      "\n",
      "\n"
     ]
    },
    {
     "name": "stderr",
     "output_type": "stream",
     "text": [
      "2023-01-24 01:42:26 abstract_overall_variance_analyzer.py INFO    : Successfully computed predict proba metrics\n"
     ]
    },
    {
     "name": "stdout",
     "output_type": "stream",
     "text": [
      "\n",
      "\n",
      "##############################  Stability metrics  ##############################\n",
      "General Ensemble Accuracy: 0.6307\n",
      "Mean: 0.5303\n",
      "Std: 0.0373\n",
      "IQR: 0.046\n",
      "Entropy: 0.0\n",
      "Jitter: 0.0563\n",
      "Per sample accuracy: 0.6321\n",
      "Label stability: 0.935\n",
      "\n",
      "\n"
     ]
    },
    {
     "name": "stderr",
     "output_type": "stream",
     "text": [
      "Analyze models in one run:  60%|██████    | 3/5 [00:14<00:12,  6.09s/it]2023-01-24 01:42:27 abstract_overall_variance_analyzer.py INFO    : Start classifiers testing by bootstrap\n"
     ]
    },
    {
     "name": "stdout",
     "output_type": "stream",
     "text": [
      "\n",
      "\n",
      "\n",
      "\n",
      "##############################  [Model 4 / 5] Analyze XGBClassifier  ##############################\n",
      "Model random_state:  404\n",
      "Baseline X_train shape:  (4222, 9)\n",
      "Baseline X_test shape:  (1056, 9)\n",
      "\n",
      "\n"
     ]
    },
    {
     "name": "stderr",
     "output_type": "stream",
     "text": [
      "\n",
      "Classifiers testing by bootstrap:   0%|          | 0/10 [00:00<?, ?it/s]\u001B[A\n",
      "Classifiers testing by bootstrap:  10%|█         | 1/10 [00:03<00:33,  3.67s/it]\u001B[A\n",
      "Classifiers testing by bootstrap:  20%|██        | 2/10 [00:07<00:30,  3.80s/it]\u001B[A\n",
      "Classifiers testing by bootstrap:  30%|███       | 3/10 [00:08<00:17,  2.48s/it]\u001B[A\n",
      "Classifiers testing by bootstrap:  40%|████      | 4/10 [00:09<00:10,  1.75s/it]\u001B[A\n",
      "Classifiers testing by bootstrap:  50%|█████     | 5/10 [00:09<00:06,  1.23s/it]\u001B[A\n",
      "Classifiers testing by bootstrap:  60%|██████    | 6/10 [00:09<00:03,  1.08it/s]\u001B[A\n",
      "Classifiers testing by bootstrap:  70%|███████   | 7/10 [00:10<00:02,  1.34it/s]\u001B[A\n",
      "Classifiers testing by bootstrap:  80%|████████  | 8/10 [00:10<00:01,  1.65it/s]\u001B[A\n",
      "Classifiers testing by bootstrap:  90%|█████████ | 9/10 [00:10<00:00,  1.93it/s]\u001B[A\n",
      "Classifiers testing by bootstrap: 100%|██████████| 10/10 [00:11<00:00,  1.11s/it]\u001B[A\n",
      "2023-01-24 01:42:38 abstract_overall_variance_analyzer.py INFO    : Successfully tested classifiers by bootstrap\n"
     ]
    },
    {
     "name": "stdout",
     "output_type": "stream",
     "text": [
      "\n",
      "\n"
     ]
    },
    {
     "name": "stderr",
     "output_type": "stream",
     "text": [
      "2023-01-24 01:42:38 abstract_overall_variance_analyzer.py INFO    : Successfully computed predict proba metrics\n"
     ]
    },
    {
     "name": "stdout",
     "output_type": "stream",
     "text": [
      "\n",
      "\n",
      "##############################  Stability metrics  ##############################\n",
      "General Ensemble Accuracy: 0.6714\n",
      "Mean: 0.5264999866485596\n",
      "Std: 0.04800000041723251\n",
      "IQR: 0.0571\n",
      "Entropy: 0.1192\n",
      "Jitter: 0.0835\n",
      "Per sample accuracy: 0.6665\n",
      "Label stability: 0.8962\n",
      "\n",
      "\n"
     ]
    },
    {
     "name": "stderr",
     "output_type": "stream",
     "text": [
      "Analyze models in one run:  80%|████████  | 4/5 [00:26<00:08,  8.46s/it]2023-01-24 01:42:39 abstract_overall_variance_analyzer.py INFO    : Start classifiers testing by bootstrap\n"
     ]
    },
    {
     "name": "stdout",
     "output_type": "stream",
     "text": [
      "\n",
      "\n",
      "\n",
      "\n",
      "##############################  [Model 5 / 5] Analyze KNeighborsClassifier  ##############################\n",
      "Model random_state:  None\n",
      "Baseline X_train shape:  (4222, 9)\n",
      "Baseline X_test shape:  (1056, 9)\n",
      "\n",
      "\n"
     ]
    },
    {
     "name": "stderr",
     "output_type": "stream",
     "text": [
      "\n",
      "Classifiers testing by bootstrap:   0%|          | 0/10 [00:00<?, ?it/s]\u001B[A\n",
      "Classifiers testing by bootstrap:  20%|██        | 2/10 [00:00<00:00, 17.67it/s]\u001B[A\n",
      "Classifiers testing by bootstrap:  40%|████      | 4/10 [00:00<00:00, 17.56it/s]\u001B[A\n",
      "Classifiers testing by bootstrap:  60%|██████    | 6/10 [00:00<00:00, 17.42it/s]\u001B[A\n",
      "Classifiers testing by bootstrap:  80%|████████  | 8/10 [00:00<00:00, 16.69it/s]\u001B[A\n",
      "Classifiers testing by bootstrap: 100%|██████████| 10/10 [00:00<00:00, 16.40it/s]\u001B[A\n",
      "2023-01-24 01:42:40 abstract_overall_variance_analyzer.py INFO    : Successfully tested classifiers by bootstrap\n"
     ]
    },
    {
     "name": "stdout",
     "output_type": "stream",
     "text": [
      "\n",
      "\n"
     ]
    },
    {
     "name": "stderr",
     "output_type": "stream",
     "text": [
      "2023-01-24 01:42:40 abstract_overall_variance_analyzer.py INFO    : Successfully computed predict proba metrics\n"
     ]
    },
    {
     "name": "stdout",
     "output_type": "stream",
     "text": [
      "\n",
      "\n",
      "##############################  Stability metrics  ##############################\n",
      "General Ensemble Accuracy: 0.6638\n",
      "Mean: 0.5286\n",
      "Std: 0.0895\n",
      "IQR: 0.1052\n",
      "Entropy: 0.2453\n",
      "Jitter: 0.1756\n",
      "Per sample accuracy: 0.6501\n",
      "Label stability: 0.7759\n",
      "\n",
      "\n"
     ]
    },
    {
     "name": "stderr",
     "output_type": "stream",
     "text": [
      "Analyze models in one run: 100%|██████████| 5/5 [00:27<00:00,  5.59s/it]\n"
     ]
    },
    {
     "name": "stdout",
     "output_type": "stream",
     "text": [
      "\n",
      "\n",
      "\n",
      "\n"
     ]
    },
    {
     "name": "stderr",
     "output_type": "stream",
     "text": [
      "Analyze models in one run:   0%|          | 0/5 [00:00<?, ?it/s]2023-01-24 01:42:41 abstract_overall_variance_analyzer.py INFO    : Start classifiers testing by bootstrap\n"
     ]
    },
    {
     "name": "stdout",
     "output_type": "stream",
     "text": [
      "##############################  [Model 1 / 5] Analyze DecisionTreeClassifier  ##############################\n",
      "Model random_state:  501\n",
      "Baseline X_train shape:  (4222, 9)\n",
      "Baseline X_test shape:  (1056, 9)\n",
      "\n",
      "\n"
     ]
    },
    {
     "name": "stderr",
     "output_type": "stream",
     "text": [
      "\n",
      "Classifiers testing by bootstrap: 100%|██████████| 10/10 [00:00<00:00, 224.60it/s]\n",
      "2023-01-24 01:42:41 abstract_overall_variance_analyzer.py INFO    : Successfully tested classifiers by bootstrap\n"
     ]
    },
    {
     "name": "stdout",
     "output_type": "stream",
     "text": [
      "\n",
      "\n"
     ]
    },
    {
     "name": "stderr",
     "output_type": "stream",
     "text": [
      "2023-01-24 01:42:41 abstract_overall_variance_analyzer.py INFO    : Successfully computed predict proba metrics\n"
     ]
    },
    {
     "name": "stdout",
     "output_type": "stream",
     "text": [
      "\n",
      "\n",
      "##############################  Stability metrics  ##############################\n",
      "General Ensemble Accuracy: 0.6903\n",
      "Mean: 0.5264\n",
      "Std: 0.0751\n",
      "IQR: 0.0916\n",
      "Entropy: 0.0\n",
      "Jitter: 0.1126\n",
      "Per sample accuracy: 0.6784\n",
      "Label stability: 0.8553\n",
      "\n",
      "\n"
     ]
    },
    {
     "name": "stderr",
     "output_type": "stream",
     "text": [
      "Analyze models in one run:  20%|██        | 1/5 [00:00<00:03,  1.03it/s]2023-01-24 01:42:42 abstract_overall_variance_analyzer.py INFO    : Start classifiers testing by bootstrap\n"
     ]
    },
    {
     "name": "stdout",
     "output_type": "stream",
     "text": [
      "\n",
      "\n",
      "\n",
      "\n",
      "##############################  [Model 2 / 5] Analyze LogisticRegression  ##############################\n",
      "Model random_state:  502\n",
      "Baseline X_train shape:  (4222, 9)\n",
      "Baseline X_test shape:  (1056, 9)\n",
      "\n",
      "\n"
     ]
    },
    {
     "name": "stderr",
     "output_type": "stream",
     "text": [
      "\n",
      "Classifiers testing by bootstrap:   0%|          | 0/10 [00:00<?, ?it/s]\u001B[A\n",
      "Classifiers testing by bootstrap:  30%|███       | 3/10 [00:00<00:00, 28.49it/s]\u001B[A\n",
      "Classifiers testing by bootstrap:  60%|██████    | 6/10 [00:00<00:00, 24.95it/s]\u001B[A\n",
      "Classifiers testing by bootstrap: 100%|██████████| 10/10 [00:00<00:00, 20.29it/s][A\n",
      "2023-01-24 01:42:42 abstract_overall_variance_analyzer.py INFO    : Successfully tested classifiers by bootstrap\n"
     ]
    },
    {
     "name": "stdout",
     "output_type": "stream",
     "text": [
      "\n",
      "\n"
     ]
    },
    {
     "name": "stderr",
     "output_type": "stream",
     "text": [
      "2023-01-24 01:42:43 abstract_overall_variance_analyzer.py INFO    : Successfully computed predict proba metrics\n"
     ]
    },
    {
     "name": "stdout",
     "output_type": "stream",
     "text": [
      "\n",
      "\n",
      "##############################  Stability metrics  ##############################\n",
      "General Ensemble Accuracy: 0.6572\n",
      "Mean: 0.5296\n",
      "Std: 0.0215\n",
      "IQR: 0.0269\n",
      "Entropy: 0.063\n",
      "Jitter: 0.0451\n",
      "Per sample accuracy: 0.6513\n",
      "Label stability: 0.9451\n",
      "\n",
      "\n"
     ]
    },
    {
     "name": "stderr",
     "output_type": "stream",
     "text": [
      "Analyze models in one run:  40%|████      | 2/5 [00:02<00:03,  1.31s/it]2023-01-24 01:42:43 abstract_overall_variance_analyzer.py INFO    : Start classifiers testing by bootstrap\n"
     ]
    },
    {
     "name": "stdout",
     "output_type": "stream",
     "text": [
      "\n",
      "\n",
      "\n",
      "\n",
      "##############################  [Model 3 / 5] Analyze RandomForestClassifier  ##############################\n",
      "Model random_state:  503\n",
      "Baseline X_train shape:  (4222, 9)\n",
      "Baseline X_test shape:  (1056, 9)\n",
      "\n",
      "\n"
     ]
    },
    {
     "name": "stderr",
     "output_type": "stream",
     "text": [
      "\n",
      "Classifiers testing by bootstrap:   0%|          | 0/10 [00:00<?, ?it/s]\u001B[A\n",
      "Classifiers testing by bootstrap:  10%|█         | 1/10 [00:00<00:08,  1.07it/s]\u001B[A\n",
      "Classifiers testing by bootstrap:  20%|██        | 2/10 [00:01<00:07,  1.10it/s]\u001B[A\n",
      "Classifiers testing by bootstrap:  30%|███       | 3/10 [00:02<00:06,  1.03it/s]\u001B[A\n",
      "Classifiers testing by bootstrap:  40%|████      | 4/10 [00:03<00:06,  1.01s/it]\u001B[A\n",
      "Classifiers testing by bootstrap:  50%|█████     | 5/10 [00:04<00:04,  1.02it/s]\u001B[A\n",
      "Classifiers testing by bootstrap:  60%|██████    | 6/10 [00:05<00:03,  1.06it/s]\u001B[A\n",
      "Classifiers testing by bootstrap:  70%|███████   | 7/10 [00:06<00:02,  1.08it/s]\u001B[A\n",
      "Classifiers testing by bootstrap:  80%|████████  | 8/10 [00:07<00:01,  1.08it/s]\u001B[A\n",
      "Classifiers testing by bootstrap:  90%|█████████ | 9/10 [00:08<00:00,  1.04it/s]\u001B[A\n",
      "Classifiers testing by bootstrap: 100%|██████████| 10/10 [00:09<00:00,  1.05it/s]\u001B[A\n",
      "2023-01-24 01:42:53 abstract_overall_variance_analyzer.py INFO    : Successfully tested classifiers by bootstrap\n",
      "2023-01-24 01:42:53 abstract_overall_variance_analyzer.py INFO    : Successfully computed predict proba metrics\n"
     ]
    },
    {
     "name": "stdout",
     "output_type": "stream",
     "text": [
      "\n",
      "\n",
      "\n",
      "\n",
      "##############################  Stability metrics  ##############################\n",
      "General Ensemble Accuracy: 0.6638\n",
      "Mean: 0.5423\n",
      "Std: 0.0339\n",
      "IQR: 0.0416\n",
      "Entropy: 0.0\n",
      "Jitter: 0.0436\n",
      "Per sample accuracy: 0.6652\n",
      "Label stability: 0.9403\n",
      "\n",
      "\n"
     ]
    },
    {
     "name": "stderr",
     "output_type": "stream",
     "text": [
      "Analyze models in one run:  60%|██████    | 3/5 [00:12<00:10,  5.49s/it]2023-01-24 01:42:54 abstract_overall_variance_analyzer.py INFO    : Start classifiers testing by bootstrap\n"
     ]
    },
    {
     "name": "stdout",
     "output_type": "stream",
     "text": [
      "\n",
      "\n",
      "\n",
      "\n",
      "##############################  [Model 4 / 5] Analyze XGBClassifier  ##############################\n",
      "Model random_state:  504\n",
      "Baseline X_train shape:  (4222, 9)\n",
      "Baseline X_test shape:  (1056, 9)\n",
      "\n",
      "\n"
     ]
    },
    {
     "name": "stderr",
     "output_type": "stream",
     "text": [
      "\n",
      "Classifiers testing by bootstrap:   0%|          | 0/10 [00:00<?, ?it/s]\u001B[A\n",
      "Classifiers testing by bootstrap:  10%|█         | 1/10 [00:02<00:20,  2.29s/it]\u001B[A\n",
      "Classifiers testing by bootstrap:  20%|██        | 2/10 [00:02<00:09,  1.13s/it]\u001B[A\n",
      "Classifiers testing by bootstrap:  30%|███       | 3/10 [00:02<00:05,  1.30it/s]\u001B[A\n",
      "Classifiers testing by bootstrap:  40%|████      | 4/10 [00:04<00:05,  1.04it/s]\u001B[A\n",
      "Classifiers testing by bootstrap:  50%|█████     | 5/10 [00:04<00:03,  1.39it/s]\u001B[A\n",
      "Classifiers testing by bootstrap:  60%|██████    | 6/10 [00:04<00:02,  1.74it/s]\u001B[A\n",
      "Classifiers testing by bootstrap:  70%|███████   | 7/10 [00:05<00:01,  2.03it/s]\u001B[A\n",
      "Classifiers testing by bootstrap:  80%|████████  | 8/10 [00:05<00:00,  2.11it/s]\u001B[A\n",
      "Classifiers testing by bootstrap:  90%|█████████ | 9/10 [00:05<00:00,  2.22it/s]\u001B[A\n",
      "Classifiers testing by bootstrap: 100%|██████████| 10/10 [00:06<00:00,  1.59it/s]\u001B[A\n",
      "2023-01-24 01:43:00 abstract_overall_variance_analyzer.py INFO    : Successfully tested classifiers by bootstrap\n"
     ]
    },
    {
     "name": "stdout",
     "output_type": "stream",
     "text": [
      "\n",
      "\n"
     ]
    },
    {
     "name": "stderr",
     "output_type": "stream",
     "text": [
      "2023-01-24 01:43:00 abstract_overall_variance_analyzer.py INFO    : Successfully computed predict proba metrics\n"
     ]
    },
    {
     "name": "stdout",
     "output_type": "stream",
     "text": [
      "\n",
      "\n",
      "##############################  Stability metrics  ##############################\n",
      "General Ensemble Accuracy: 0.661\n",
      "Mean: 0.5338000059127808\n",
      "Std: 0.04540000110864639\n",
      "IQR: 0.0569\n",
      "Entropy: 0.0\n",
      "Jitter: 0.0708\n",
      "Per sample accuracy: 0.6555\n",
      "Label stability: 0.9087\n",
      "\n",
      "\n"
     ]
    },
    {
     "name": "stderr",
     "output_type": "stream",
     "text": [
      "Analyze models in one run:  80%|████████  | 4/5 [00:20<00:06,  6.27s/it]2023-01-24 01:43:01 abstract_overall_variance_analyzer.py INFO    : Start classifiers testing by bootstrap\n"
     ]
    },
    {
     "name": "stdout",
     "output_type": "stream",
     "text": [
      "\n",
      "\n",
      "\n",
      "\n",
      "##############################  [Model 5 / 5] Analyze KNeighborsClassifier  ##############################\n",
      "Model random_state:  None\n",
      "Baseline X_train shape:  (4222, 9)\n",
      "Baseline X_test shape:  (1056, 9)\n",
      "\n",
      "\n"
     ]
    },
    {
     "name": "stderr",
     "output_type": "stream",
     "text": [
      "\n",
      "Classifiers testing by bootstrap:   0%|          | 0/10 [00:00<?, ?it/s]\u001B[A\n",
      "Classifiers testing by bootstrap:  20%|██        | 2/10 [00:00<00:00, 10.95it/s]\u001B[A\n",
      "Classifiers testing by bootstrap:  40%|████      | 4/10 [00:00<00:00, 11.46it/s]\u001B[A\n",
      "Classifiers testing by bootstrap:  60%|██████    | 6/10 [00:00<00:00, 12.11it/s]\u001B[A\n",
      "Classifiers testing by bootstrap:  80%|████████  | 8/10 [00:00<00:00, 13.27it/s]\u001B[A\n",
      "Classifiers testing by bootstrap: 100%|██████████| 10/10 [00:00<00:00, 12.99it/s]\u001B[A\n",
      "2023-01-24 01:43:02 abstract_overall_variance_analyzer.py INFO    : Successfully tested classifiers by bootstrap\n"
     ]
    },
    {
     "name": "stdout",
     "output_type": "stream",
     "text": [
      "\n",
      "\n"
     ]
    },
    {
     "name": "stderr",
     "output_type": "stream",
     "text": [
      "2023-01-24 01:43:02 abstract_overall_variance_analyzer.py INFO    : Successfully computed predict proba metrics\n"
     ]
    },
    {
     "name": "stdout",
     "output_type": "stream",
     "text": [
      "\n",
      "\n",
      "##############################  Stability metrics  ##############################\n",
      "General Ensemble Accuracy: 0.6799\n",
      "Mean: 0.5488\n",
      "Std: 0.0884\n",
      "IQR: 0.1069\n",
      "Entropy: 0.2192\n",
      "Jitter: 0.1624\n",
      "Per sample accuracy: 0.6691\n",
      "Label stability: 0.7705\n",
      "\n",
      "\n"
     ]
    },
    {
     "name": "stderr",
     "output_type": "stream",
     "text": [
      "Analyze models in one run: 100%|██████████| 5/5 [00:22<00:00,  4.42s/it]\n"
     ]
    },
    {
     "name": "stdout",
     "output_type": "stream",
     "text": [
      "\n",
      "\n",
      "\n",
      "\n"
     ]
    },
    {
     "name": "stderr",
     "output_type": "stream",
     "text": [
      "Analyze models in one run:   0%|          | 0/5 [00:00<?, ?it/s]2023-01-24 01:43:03 abstract_overall_variance_analyzer.py INFO    : Start classifiers testing by bootstrap\n"
     ]
    },
    {
     "name": "stdout",
     "output_type": "stream",
     "text": [
      "##############################  [Model 1 / 5] Analyze DecisionTreeClassifier  ##############################\n",
      "Model random_state:  601\n",
      "Baseline X_train shape:  (4222, 9)\n",
      "Baseline X_test shape:  (1056, 9)\n",
      "\n",
      "\n"
     ]
    },
    {
     "name": "stderr",
     "output_type": "stream",
     "text": [
      "\n",
      "Classifiers testing by bootstrap: 100%|██████████| 10/10 [00:00<00:00, 201.09it/s]\n",
      "2023-01-24 01:43:03 abstract_overall_variance_analyzer.py INFO    : Successfully tested classifiers by bootstrap\n"
     ]
    },
    {
     "name": "stdout",
     "output_type": "stream",
     "text": [
      "\n",
      "\n"
     ]
    },
    {
     "name": "stderr",
     "output_type": "stream",
     "text": [
      "2023-01-24 01:43:03 abstract_overall_variance_analyzer.py INFO    : Successfully computed predict proba metrics\n"
     ]
    },
    {
     "name": "stdout",
     "output_type": "stream",
     "text": [
      "\n",
      "\n",
      "##############################  Stability metrics  ##############################\n",
      "General Ensemble Accuracy: 0.6648\n",
      "Mean: 0.534\n",
      "Std: 0.0654\n",
      "IQR: 0.0777\n",
      "Entropy: 0.1435\n",
      "Jitter: 0.1022\n",
      "Per sample accuracy: 0.6556\n",
      "Label stability: 0.8718\n",
      "\n",
      "\n"
     ]
    },
    {
     "name": "stderr",
     "output_type": "stream",
     "text": [
      "Analyze models in one run:  20%|██        | 1/5 [00:01<00:04,  1.10s/it]2023-01-24 01:43:04 abstract_overall_variance_analyzer.py INFO    : Start classifiers testing by bootstrap\n"
     ]
    },
    {
     "name": "stdout",
     "output_type": "stream",
     "text": [
      "\n",
      "\n",
      "\n",
      "\n",
      "##############################  [Model 2 / 5] Analyze LogisticRegression  ##############################\n",
      "Model random_state:  602\n",
      "Baseline X_train shape:  (4222, 9)\n",
      "Baseline X_test shape:  (1056, 9)\n",
      "\n",
      "\n"
     ]
    },
    {
     "name": "stderr",
     "output_type": "stream",
     "text": [
      "\n",
      "Classifiers testing by bootstrap:   0%|          | 0/10 [00:00<?, ?it/s]\u001B[A\n",
      "Classifiers testing by bootstrap:  50%|█████     | 5/10 [00:00<00:00, 41.99it/s]\u001B[A\n",
      "Classifiers testing by bootstrap: 100%|██████████| 10/10 [00:00<00:00, 38.39it/s]\u001B[A\n",
      "2023-01-24 01:43:04 abstract_overall_variance_analyzer.py INFO    : Successfully tested classifiers by bootstrap\n"
     ]
    },
    {
     "name": "stdout",
     "output_type": "stream",
     "text": [
      "\n",
      "\n"
     ]
    },
    {
     "name": "stderr",
     "output_type": "stream",
     "text": [
      "2023-01-24 01:43:05 abstract_overall_variance_analyzer.py INFO    : Successfully computed predict proba metrics\n"
     ]
    },
    {
     "name": "stdout",
     "output_type": "stream",
     "text": [
      "\n",
      "\n",
      "##############################  Stability metrics  ##############################\n",
      "General Ensemble Accuracy: 0.6402\n",
      "Mean: 0.5294\n",
      "Std: 0.0205\n",
      "IQR: 0.0265\n",
      "Entropy: 0.0\n",
      "Jitter: 0.0343\n",
      "Per sample accuracy: 0.6367\n",
      "Label stability: 0.9561\n",
      "\n",
      "\n"
     ]
    },
    {
     "name": "stderr",
     "output_type": "stream",
     "text": [
      "Analyze models in one run:  40%|████      | 2/5 [00:02<00:03,  1.21s/it]2023-01-24 01:43:05 abstract_overall_variance_analyzer.py INFO    : Start classifiers testing by bootstrap\n"
     ]
    },
    {
     "name": "stdout",
     "output_type": "stream",
     "text": [
      "\n",
      "\n",
      "\n",
      "\n",
      "##############################  [Model 3 / 5] Analyze RandomForestClassifier  ##############################\n",
      "Model random_state:  603\n",
      "Baseline X_train shape:  (4222, 9)\n",
      "Baseline X_test shape:  (1056, 9)\n",
      "\n",
      "\n"
     ]
    },
    {
     "name": "stderr",
     "output_type": "stream",
     "text": [
      "\n",
      "Classifiers testing by bootstrap:   0%|          | 0/10 [00:00<?, ?it/s]\u001B[A\n",
      "Classifiers testing by bootstrap:  10%|█         | 1/10 [00:00<00:08,  1.11it/s]\u001B[A\n",
      "Classifiers testing by bootstrap:  20%|██        | 2/10 [00:01<00:07,  1.07it/s]\u001B[A\n",
      "Classifiers testing by bootstrap:  30%|███       | 3/10 [00:02<00:06,  1.03it/s]\u001B[A\n",
      "Classifiers testing by bootstrap:  40%|████      | 4/10 [00:03<00:05,  1.05it/s]\u001B[A\n",
      "Classifiers testing by bootstrap:  50%|█████     | 5/10 [00:04<00:04,  1.02it/s]\u001B[A\n",
      "Classifiers testing by bootstrap:  60%|██████    | 6/10 [00:05<00:03,  1.06it/s]\u001B[A\n",
      "Classifiers testing by bootstrap:  70%|███████   | 7/10 [00:06<00:02,  1.08it/s]\u001B[A\n",
      "Classifiers testing by bootstrap:  80%|████████  | 8/10 [00:07<00:01,  1.10it/s]\u001B[A\n",
      "Classifiers testing by bootstrap:  90%|█████████ | 9/10 [00:08<00:00,  1.11it/s]\u001B[A\n",
      "Classifiers testing by bootstrap: 100%|██████████| 10/10 [00:09<00:00,  1.08it/s]\u001B[A\n",
      "2023-01-24 01:43:15 abstract_overall_variance_analyzer.py INFO    : Successfully tested classifiers by bootstrap\n"
     ]
    },
    {
     "name": "stdout",
     "output_type": "stream",
     "text": [
      "\n",
      "\n"
     ]
    },
    {
     "name": "stderr",
     "output_type": "stream",
     "text": [
      "2023-01-24 01:43:15 abstract_overall_variance_analyzer.py INFO    : Successfully computed predict proba metrics\n"
     ]
    },
    {
     "name": "stdout",
     "output_type": "stream",
     "text": [
      "\n",
      "\n",
      "##############################  Stability metrics  ##############################\n",
      "General Ensemble Accuracy: 0.6629\n",
      "Mean: 0.531\n",
      "Std: 0.0422\n",
      "IQR: 0.0517\n",
      "Entropy: 0.0\n",
      "Jitter: 0.0948\n",
      "Per sample accuracy: 0.6571\n",
      "Label stability: 0.8858\n",
      "\n",
      "\n"
     ]
    },
    {
     "name": "stderr",
     "output_type": "stream",
     "text": [
      "Analyze models in one run:  60%|██████    | 3/5 [00:12<00:10,  5.32s/it]2023-01-24 01:43:16 abstract_overall_variance_analyzer.py INFO    : Start classifiers testing by bootstrap\n"
     ]
    },
    {
     "name": "stdout",
     "output_type": "stream",
     "text": [
      "\n",
      "\n",
      "\n",
      "\n",
      "##############################  [Model 4 / 5] Analyze XGBClassifier  ##############################\n",
      "Model random_state:  604\n",
      "Baseline X_train shape:  (4222, 9)\n",
      "Baseline X_test shape:  (1056, 9)\n",
      "\n",
      "\n"
     ]
    },
    {
     "name": "stderr",
     "output_type": "stream",
     "text": [
      "\n",
      "Classifiers testing by bootstrap:   0%|          | 0/10 [00:00<?, ?it/s]\u001B[A\n",
      "Classifiers testing by bootstrap:  10%|█         | 1/10 [00:00<00:03,  2.84it/s]\u001B[A\n",
      "Classifiers testing by bootstrap:  20%|██        | 2/10 [00:00<00:02,  3.20it/s]\u001B[A\n",
      "Classifiers testing by bootstrap:  30%|███       | 3/10 [00:00<00:02,  3.21it/s]\u001B[A\n",
      "Classifiers testing by bootstrap:  40%|████      | 4/10 [00:01<00:01,  3.17it/s]\u001B[A\n",
      "Classifiers testing by bootstrap:  50%|█████     | 5/10 [00:01<00:01,  3.23it/s]\u001B[A\n",
      "Classifiers testing by bootstrap:  60%|██████    | 6/10 [00:01<00:01,  2.96it/s]\u001B[A\n",
      "Classifiers testing by bootstrap:  70%|███████   | 7/10 [00:02<00:01,  2.76it/s]\u001B[A\n",
      "Classifiers testing by bootstrap:  80%|████████  | 8/10 [00:02<00:00,  2.90it/s]\u001B[A\n",
      "Classifiers testing by bootstrap:  90%|█████████ | 9/10 [00:02<00:00,  3.09it/s]\u001B[A\n",
      "Classifiers testing by bootstrap: 100%|██████████| 10/10 [00:03<00:00,  3.04it/s]\u001B[A\n",
      "2023-01-24 01:43:19 abstract_overall_variance_analyzer.py INFO    : Successfully tested classifiers by bootstrap\n"
     ]
    },
    {
     "name": "stdout",
     "output_type": "stream",
     "text": [
      "\n",
      "\n"
     ]
    },
    {
     "name": "stderr",
     "output_type": "stream",
     "text": [
      "2023-01-24 01:43:19 abstract_overall_variance_analyzer.py INFO    : Successfully computed predict proba metrics\n"
     ]
    },
    {
     "name": "stdout",
     "output_type": "stream",
     "text": [
      "\n",
      "\n",
      "##############################  Stability metrics  ##############################\n",
      "General Ensemble Accuracy: 0.6922\n",
      "Mean: 0.5292999744415283\n",
      "Std: 0.046799998730421066\n",
      "IQR: 0.0537\n",
      "Entropy: 0.1313\n",
      "Jitter: 0.0947\n",
      "Per sample accuracy: 0.6778\n",
      "Label stability: 0.8746\n",
      "\n",
      "\n"
     ]
    },
    {
     "name": "stderr",
     "output_type": "stream",
     "text": [
      "Analyze models in one run:  80%|████████  | 4/5 [00:16<00:04,  4.92s/it]2023-01-24 01:43:20 abstract_overall_variance_analyzer.py INFO    : Start classifiers testing by bootstrap\n"
     ]
    },
    {
     "name": "stdout",
     "output_type": "stream",
     "text": [
      "\n",
      "\n",
      "\n",
      "\n",
      "##############################  [Model 5 / 5] Analyze KNeighborsClassifier  ##############################\n",
      "Model random_state:  None\n",
      "Baseline X_train shape:  (4222, 9)\n",
      "Baseline X_test shape:  (1056, 9)\n",
      "\n",
      "\n"
     ]
    },
    {
     "name": "stderr",
     "output_type": "stream",
     "text": [
      "\n",
      "Classifiers testing by bootstrap:   0%|          | 0/10 [00:00<?, ?it/s]\u001B[A\n",
      "Classifiers testing by bootstrap:  20%|██        | 2/10 [00:00<00:00, 16.79it/s]\u001B[A\n",
      "Classifiers testing by bootstrap:  40%|████      | 4/10 [00:00<00:00, 17.29it/s]\u001B[A\n",
      "Classifiers testing by bootstrap:  60%|██████    | 6/10 [00:00<00:00, 17.03it/s]\u001B[A\n",
      "Classifiers testing by bootstrap:  80%|████████  | 8/10 [00:00<00:00, 17.34it/s]\u001B[A\n",
      "Classifiers testing by bootstrap: 100%|██████████| 10/10 [00:00<00:00, 17.10it/s]\u001B[A\n",
      "2023-01-24 01:43:20 abstract_overall_variance_analyzer.py INFO    : Successfully tested classifiers by bootstrap\n"
     ]
    },
    {
     "name": "stdout",
     "output_type": "stream",
     "text": [
      "\n",
      "\n"
     ]
    },
    {
     "name": "stderr",
     "output_type": "stream",
     "text": [
      "2023-01-24 01:43:21 abstract_overall_variance_analyzer.py INFO    : Successfully computed predict proba metrics\n"
     ]
    },
    {
     "name": "stdout",
     "output_type": "stream",
     "text": [
      "\n",
      "\n",
      "##############################  Stability metrics  ##############################\n",
      "General Ensemble Accuracy: 0.6884\n",
      "Mean: 0.5435\n",
      "Std: 0.0867\n",
      "IQR: 0.1109\n",
      "Entropy: 0.0\n",
      "Jitter: 0.1358\n",
      "Per sample accuracy: 0.6779\n",
      "Label stability: 0.8104\n",
      "\n",
      "\n"
     ]
    },
    {
     "name": "stderr",
     "output_type": "stream",
     "text": [
      "Analyze models in one run: 100%|██████████| 5/5 [00:18<00:00,  3.68s/it]"
     ]
    },
    {
     "name": "stdout",
     "output_type": "stream",
     "text": [
      "\n",
      "\n",
      "\n",
      "\n"
     ]
    },
    {
     "name": "stderr",
     "output_type": "stream",
     "text": [
      "\n"
     ]
    }
   ],
   "source": [
    "multiple_runs_metrics_dct = compute_metrics_multiple_runs(dataset, config, experiment_models_config, SAVE_RESULTS_DIR_PATH, debug_mode=False)"
   ]
  },
  {
   "cell_type": "code",
   "execution_count": 41,
   "id": "197eadaa",
   "metadata": {},
   "outputs": [],
   "source": []
  }
 ],
 "metadata": {
  "kernelspec": {
   "display_name": "Python 3 (ipykernel)",
   "language": "python",
   "name": "python3"
  },
  "language_info": {
   "codemirror_mode": {
    "name": "ipython",
    "version": 3
   },
   "file_extension": ".py",
   "mimetype": "text/x-python",
   "name": "python",
   "nbconvert_exporter": "python",
   "pygments_lexer": "ipython3",
   "version": "3.8.10"
  }
 },
 "nbformat": 4,
 "nbformat_minor": 5
}
