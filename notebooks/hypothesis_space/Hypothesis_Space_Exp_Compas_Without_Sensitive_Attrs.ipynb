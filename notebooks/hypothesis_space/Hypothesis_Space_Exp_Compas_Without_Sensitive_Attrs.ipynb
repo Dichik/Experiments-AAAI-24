{
 "cells": [
  {
   "cell_type": "code",
   "execution_count": 1,
   "id": "248cbed8",
   "metadata": {
    "pycharm": {
     "name": "#%%\n"
    }
   },
   "outputs": [],
   "source": [
    "%matplotlib inline\n",
    "%load_ext autoreload\n",
    "%autoreload 2"
   ]
  },
  {
   "cell_type": "code",
   "execution_count": 2,
   "id": "7ec6cd08",
   "metadata": {
    "pycharm": {
     "name": "#%%\n"
    }
   },
   "outputs": [],
   "source": [
    "import os\n",
    "import warnings\n",
    "warnings.filterwarnings('ignore')\n",
    "os.environ[\"PYTHONWARNINGS\"] = \"ignore\""
   ]
  },
  {
   "cell_type": "code",
   "execution_count": 3,
   "id": "b8cb69f2",
   "metadata": {},
   "outputs": [
    {
     "name": "stdout",
     "output_type": "stream",
     "text": [
      "Current location:  /home/denys_herasymuk/UCU/4course_2term/Bachelor_Thesis/Code/fairness-variance\n"
     ]
    }
   ],
   "source": [
    "cur_folder_name = os.getcwd().split('/')[-1]\n",
    "if cur_folder_name != \"fairness-variance\":\n",
    "    os.chdir(\"../..\")\n",
    "\n",
    "print('Current location: ', os.getcwd())"
   ]
  },
  {
   "cell_type": "markdown",
   "id": "606df34d",
   "metadata": {
    "pycharm": {
     "name": "#%% md\n"
    }
   },
   "source": [
    "## Import dependencies"
   ]
  },
  {
   "cell_type": "code",
   "execution_count": 4,
   "id": "7a9241de",
   "metadata": {
    "pycharm": {
     "name": "#%%\n"
    }
   },
   "outputs": [],
   "source": [
    "import os\n",
    "import pandas as pd\n",
    "from datetime import datetime, timezone\n",
    "\n",
    "from configs import config\n",
    "from utils.custom_classes.data_loader import CompasWithoutSensitiveAttrsDataset\n",
    "from utils.metrics_computation_interfaces import compute_metrics_multiple_runs"
   ]
  },
  {
   "cell_type": "markdown",
   "id": "95f15603",
   "metadata": {
    "pycharm": {
     "name": "#%% md\n"
    }
   },
   "source": [
    "## Configs"
   ]
  },
  {
   "cell_type": "code",
   "execution_count": 5,
   "id": "71d8f24a",
   "metadata": {
    "pycharm": {
     "name": "#%%\n"
    }
   },
   "outputs": [],
   "source": [
    "DATASET_NAME = \"COMPAS_Without_Sensitive_Attributes\"\n",
    "\n",
    "# RUNS_SEED_LST = [101, 111, 201, 221, 311, 333, 410, 555, 666, 851, 999, 1010]\n",
    "RUNS_SEED_LST = [100, 200]\n",
    "SEX_priv = 0\n",
    "RACE_priv = 'Caucasian'\n",
    "N_ESTIMATORS = 10\n",
    "SENSITIVE_ATTRIBUTES = ['sex', 'race']\n",
    "PRIV_VALUES = [SEX_priv, RACE_priv]\n",
    "TUNED_PARAMS_FILE_PATH = os.path.join('results', 'models_tuning', f'tuning_results_{DATASET_NAME}_20230117__012024.csv')\n",
    "SAVE_RESULTS_DIR_PATH = os.path.join('results', 'hypothesis_space', f'{DATASET_NAME}_Metrics_{datetime.now(timezone.utc).strftime(\"%Y%m%d__%H%M%S\")}')"
   ]
  },
  {
   "cell_type": "markdown",
   "id": "1fd3a1c8",
   "metadata": {
    "pycharm": {
     "name": "#%% md\n"
    }
   },
   "source": [
    "## Models tuned hyper-parameters"
   ]
  },
  {
   "cell_type": "code",
   "execution_count": 6,
   "id": "6aca46f3",
   "metadata": {
    "pycharm": {
     "name": "#%%\n"
    }
   },
   "outputs": [
    {
     "data": {
      "text/html": [
       "<div>\n",
       "<style scoped>\n",
       "    .dataframe tbody tr th:only-of-type {\n",
       "        vertical-align: middle;\n",
       "    }\n",
       "\n",
       "    .dataframe tbody tr th {\n",
       "        vertical-align: top;\n",
       "    }\n",
       "\n",
       "    .dataframe thead th {\n",
       "        text-align: right;\n",
       "    }\n",
       "</style>\n",
       "<table border=\"1\" class=\"dataframe\">\n",
       "  <thead>\n",
       "    <tr style=\"text-align: right;\">\n",
       "      <th></th>\n",
       "      <th>Dataset_Name</th>\n",
       "      <th>Model_Name</th>\n",
       "      <th>F1_Score</th>\n",
       "      <th>Accuracy_Score</th>\n",
       "      <th>Model_Best_Params</th>\n",
       "    </tr>\n",
       "  </thead>\n",
       "  <tbody>\n",
       "    <tr>\n",
       "      <th>0</th>\n",
       "      <td>COMPAS_Without_Sensitive_Attributes</td>\n",
       "      <td>LogisticRegression</td>\n",
       "      <td>0.6785</td>\n",
       "      <td>0.6837</td>\n",
       "      <td>{'C': 1, 'max_iter': 50, 'penalty': 'l2', 'sol...</td>\n",
       "    </tr>\n",
       "    <tr>\n",
       "      <th>1</th>\n",
       "      <td>COMPAS_Without_Sensitive_Attributes</td>\n",
       "      <td>DecisionTreeClassifier</td>\n",
       "      <td>0.6952</td>\n",
       "      <td>0.6989</td>\n",
       "      <td>{'criterion': 'gini', 'max_depth': 20, 'max_fe...</td>\n",
       "    </tr>\n",
       "    <tr>\n",
       "      <th>2</th>\n",
       "      <td>COMPAS_Without_Sensitive_Attributes</td>\n",
       "      <td>RandomForestClassifier</td>\n",
       "      <td>0.6962</td>\n",
       "      <td>0.7008</td>\n",
       "      <td>{'max_depth': 4, 'max_features': 0.6, 'min_sam...</td>\n",
       "    </tr>\n",
       "    <tr>\n",
       "      <th>3</th>\n",
       "      <td>COMPAS_Without_Sensitive_Attributes</td>\n",
       "      <td>XGBClassifier</td>\n",
       "      <td>0.6971</td>\n",
       "      <td>0.7008</td>\n",
       "      <td>{'lambda': 100, 'learning_rate': 0.1, 'max_dep...</td>\n",
       "    </tr>\n",
       "    <tr>\n",
       "      <th>4</th>\n",
       "      <td>COMPAS_Without_Sensitive_Attributes</td>\n",
       "      <td>KNeighborsClassifier</td>\n",
       "      <td>0.7056</td>\n",
       "      <td>0.7112</td>\n",
       "      <td>{'metric': 'minkowski', 'n_neighbors': 25, 'we...</td>\n",
       "    </tr>\n",
       "    <tr>\n",
       "      <th>5</th>\n",
       "      <td>COMPAS_Without_Sensitive_Attributes</td>\n",
       "      <td>MLPClassifier</td>\n",
       "      <td>0.6834</td>\n",
       "      <td>0.6875</td>\n",
       "      <td>{'activation': 'relu', 'hidden_layer_sizes': (...</td>\n",
       "    </tr>\n",
       "  </tbody>\n",
       "</table>\n",
       "</div>"
      ],
      "text/plain": [
       "                          Dataset_Name              Model_Name  F1_Score  \\\n",
       "0  COMPAS_Without_Sensitive_Attributes      LogisticRegression    0.6785   \n",
       "1  COMPAS_Without_Sensitive_Attributes  DecisionTreeClassifier    0.6952   \n",
       "2  COMPAS_Without_Sensitive_Attributes  RandomForestClassifier    0.6962   \n",
       "3  COMPAS_Without_Sensitive_Attributes           XGBClassifier    0.6971   \n",
       "4  COMPAS_Without_Sensitive_Attributes    KNeighborsClassifier    0.7056   \n",
       "5  COMPAS_Without_Sensitive_Attributes           MLPClassifier    0.6834   \n",
       "\n",
       "   Accuracy_Score                                  Model_Best_Params  \n",
       "0          0.6837  {'C': 1, 'max_iter': 50, 'penalty': 'l2', 'sol...  \n",
       "1          0.6989  {'criterion': 'gini', 'max_depth': 20, 'max_fe...  \n",
       "2          0.7008  {'max_depth': 4, 'max_features': 0.6, 'min_sam...  \n",
       "3          0.7008  {'lambda': 100, 'learning_rate': 0.1, 'max_dep...  \n",
       "4          0.7112  {'metric': 'minkowski', 'n_neighbors': 25, 'we...  \n",
       "5          0.6875  {'activation': 'relu', 'hidden_layer_sizes': (...  "
      ]
     },
     "execution_count": 6,
     "metadata": {},
     "output_type": "execute_result"
    }
   ],
   "source": [
    "models_tuned_params_df = pd.read_csv(TUNED_PARAMS_FILE_PATH)\n",
    "models_tuned_params_df"
   ]
  },
  {
   "cell_type": "markdown",
   "id": "5c60057a",
   "metadata": {
    "pycharm": {
     "name": "#%% md\n"
    }
   },
   "source": [
    "## Load dataset"
   ]
  },
  {
   "cell_type": "code",
   "execution_count": 7,
   "id": "3e53fe9a",
   "metadata": {
    "pycharm": {
     "name": "#%%\n"
    }
   },
   "outputs": [
    {
     "data": {
      "text/html": [
       "<div>\n",
       "<style scoped>\n",
       "    .dataframe tbody tr th:only-of-type {\n",
       "        vertical-align: middle;\n",
       "    }\n",
       "\n",
       "    .dataframe tbody tr th {\n",
       "        vertical-align: top;\n",
       "    }\n",
       "\n",
       "    .dataframe thead th {\n",
       "        text-align: right;\n",
       "    }\n",
       "</style>\n",
       "<table border=\"1\" class=\"dataframe\">\n",
       "  <thead>\n",
       "    <tr style=\"text-align: right;\">\n",
       "      <th></th>\n",
       "      <th>juv_fel_count</th>\n",
       "      <th>juv_misd_count</th>\n",
       "      <th>juv_other_count</th>\n",
       "      <th>priors_count</th>\n",
       "      <th>age_cat_25 - 45</th>\n",
       "      <th>age_cat_Greater than 45</th>\n",
       "      <th>age_cat_Less than 25</th>\n",
       "      <th>c_charge_degree_F</th>\n",
       "      <th>c_charge_degree_M</th>\n",
       "    </tr>\n",
       "  </thead>\n",
       "  <tbody>\n",
       "    <tr>\n",
       "      <th>0</th>\n",
       "      <td>0.0</td>\n",
       "      <td>-2.340451</td>\n",
       "      <td>1.0</td>\n",
       "      <td>-15.010999</td>\n",
       "      <td>1</td>\n",
       "      <td>0</td>\n",
       "      <td>0</td>\n",
       "      <td>0</td>\n",
       "      <td>1</td>\n",
       "    </tr>\n",
       "    <tr>\n",
       "      <th>1</th>\n",
       "      <td>0.0</td>\n",
       "      <td>0.000000</td>\n",
       "      <td>0.0</td>\n",
       "      <td>0.000000</td>\n",
       "      <td>1</td>\n",
       "      <td>0</td>\n",
       "      <td>0</td>\n",
       "      <td>1</td>\n",
       "      <td>0</td>\n",
       "    </tr>\n",
       "    <tr>\n",
       "      <th>2</th>\n",
       "      <td>0.0</td>\n",
       "      <td>0.000000</td>\n",
       "      <td>0.0</td>\n",
       "      <td>0.000000</td>\n",
       "      <td>0</td>\n",
       "      <td>0</td>\n",
       "      <td>1</td>\n",
       "      <td>1</td>\n",
       "      <td>0</td>\n",
       "    </tr>\n",
       "    <tr>\n",
       "      <th>3</th>\n",
       "      <td>0.0</td>\n",
       "      <td>0.000000</td>\n",
       "      <td>0.0</td>\n",
       "      <td>6.000000</td>\n",
       "      <td>1</td>\n",
       "      <td>0</td>\n",
       "      <td>0</td>\n",
       "      <td>0</td>\n",
       "      <td>1</td>\n",
       "    </tr>\n",
       "    <tr>\n",
       "      <th>4</th>\n",
       "      <td>0.0</td>\n",
       "      <td>0.000000</td>\n",
       "      <td>0.0</td>\n",
       "      <td>7.513697</td>\n",
       "      <td>1</td>\n",
       "      <td>0</td>\n",
       "      <td>0</td>\n",
       "      <td>1</td>\n",
       "      <td>0</td>\n",
       "    </tr>\n",
       "  </tbody>\n",
       "</table>\n",
       "</div>"
      ],
      "text/plain": [
       "   juv_fel_count  juv_misd_count  juv_other_count  priors_count  \\\n",
       "0            0.0       -2.340451              1.0    -15.010999   \n",
       "1            0.0        0.000000              0.0      0.000000   \n",
       "2            0.0        0.000000              0.0      0.000000   \n",
       "3            0.0        0.000000              0.0      6.000000   \n",
       "4            0.0        0.000000              0.0      7.513697   \n",
       "\n",
       "   age_cat_25 - 45  age_cat_Greater than 45  age_cat_Less than 25  \\\n",
       "0                1                        0                     0   \n",
       "1                1                        0                     0   \n",
       "2                0                        0                     1   \n",
       "3                1                        0                     0   \n",
       "4                1                        0                     0   \n",
       "\n",
       "   c_charge_degree_F  c_charge_degree_M  \n",
       "0                  0                  1  \n",
       "1                  1                  0  \n",
       "2                  1                  0  \n",
       "3                  0                  1  \n",
       "4                  1                  0  "
      ]
     },
     "execution_count": 7,
     "metadata": {},
     "output_type": "execute_result"
    }
   ],
   "source": [
    "dataset = CompasWithoutSensitiveAttrsDataset(dataset_path='data/COMPAS.csv')\n",
    "dataset.X_data.head()"
   ]
  },
  {
   "cell_type": "markdown",
   "id": "c3530f06",
   "metadata": {
    "pycharm": {
     "name": "#%% md\n"
    }
   },
   "source": [
    "## Run experiments"
   ]
  },
  {
   "cell_type": "code",
   "execution_count": 8,
   "id": "2528579c",
   "metadata": {
    "pycharm": {
     "name": "#%%\n"
    }
   },
   "outputs": [
    {
     "name": "stderr",
     "output_type": "stream",
     "text": [
      "  0%|                                                                                                                                                                                 | 0/6 [00:00<?, ?it/s]2023-01-22 22:20:38 abstract_overall_variance_analyzer.py INFO    : Start testing of classifier 1 / 10\n",
      "2023-01-22 22:20:38 abstract_overall_variance_analyzer.py INFO    : Classifier 1 / 10 was tested\n",
      "2023-01-22 22:20:38 abstract_overall_variance_analyzer.py INFO    : Start testing of classifier 2 / 10\n",
      "2023-01-22 22:20:38 abstract_overall_variance_analyzer.py INFO    : Classifier 2 / 10 was tested\n",
      "2023-01-22 22:20:38 abstract_overall_variance_analyzer.py INFO    : Start testing of classifier 3 / 10\n",
      "2023-01-22 22:20:38 abstract_overall_variance_analyzer.py INFO    : Classifier 3 / 10 was tested\n",
      "2023-01-22 22:20:38 abstract_overall_variance_analyzer.py INFO    : Start testing of classifier 4 / 10\n",
      "2023-01-22 22:20:38 abstract_overall_variance_analyzer.py INFO    : Classifier 4 / 10 was tested\n",
      "2023-01-22 22:20:38 abstract_overall_variance_analyzer.py INFO    : Start testing of classifier 5 / 10\n",
      "2023-01-22 22:20:38 abstract_overall_variance_analyzer.py INFO    : Classifier 5 / 10 was tested\n",
      "2023-01-22 22:20:38 abstract_overall_variance_analyzer.py INFO    : Start testing of classifier 6 / 10\n",
      "2023-01-22 22:20:38 abstract_overall_variance_analyzer.py INFO    : Classifier 6 / 10 was tested\n",
      "2023-01-22 22:20:38 abstract_overall_variance_analyzer.py INFO    : Start testing of classifier 7 / 10\n",
      "2023-01-22 22:20:38 abstract_overall_variance_analyzer.py INFO    : Classifier 7 / 10 was tested\n",
      "2023-01-22 22:20:38 abstract_overall_variance_analyzer.py INFO    : Start testing of classifier 8 / 10\n",
      "2023-01-22 22:20:38 abstract_overall_variance_analyzer.py INFO    : Classifier 8 / 10 was tested\n",
      "2023-01-22 22:20:38 abstract_overall_variance_analyzer.py INFO    : Start testing of classifier 9 / 10\n",
      "2023-01-22 22:20:38 abstract_overall_variance_analyzer.py INFO    : Classifier 9 / 10 was tested\n",
      "2023-01-22 22:20:38 abstract_overall_variance_analyzer.py INFO    : Start testing of classifier 10 / 10\n",
      "2023-01-22 22:20:38 abstract_overall_variance_analyzer.py INFO    : Classifier 10 / 10 was tested\n"
     ]
    },
    {
     "name": "stdout",
     "output_type": "stream",
     "text": [
      "##############################  [Model 1 / 6] Analyze DecisionTreeClassifier  ##############################\n",
      "Baseline X_train shape:  (4222, 9)\n",
      "Baseline X_test shape:  (1056, 9)\n"
     ]
    },
    {
     "name": "stderr",
     "output_type": "stream",
     "text": [
      "2023-01-22 22:20:39 abstract_overall_variance_analyzer.py INFO    : Successfully computed predict proba metrics\n"
     ]
    },
    {
     "name": "stdout",
     "output_type": "stream",
     "text": [
      "\n",
      "\n",
      "##############################  Stability metrics  ##############################\n",
      "General Ensemble Accuracy: 0.6799\n",
      "Mean: 0.5249\n",
      "Std: 0.0697\n",
      "IQR: 0.0747\n",
      "Entropy: 0.0\n",
      "Jitter: 0.1371\n",
      "Per sample accuracy: 0.6576\n",
      "Label stability: 0.8258\n",
      "\n",
      "\n"
     ]
    },
    {
     "name": "stderr",
     "output_type": "stream",
     "text": [
      " 17%|████████████████████████████▏                                                                                                                                            | 1/6 [00:02<00:10,  2.05s/it]2023-01-22 22:20:40 abstract_overall_variance_analyzer.py INFO    : Start testing of classifier 1 / 10\n",
      "2023-01-22 22:20:40 abstract_overall_variance_analyzer.py INFO    : Classifier 1 / 10 was tested\n",
      "2023-01-22 22:20:40 abstract_overall_variance_analyzer.py INFO    : Start testing of classifier 2 / 10\n",
      "2023-01-22 22:20:40 abstract_overall_variance_analyzer.py INFO    : Classifier 2 / 10 was tested\n",
      "2023-01-22 22:20:40 abstract_overall_variance_analyzer.py INFO    : Start testing of classifier 3 / 10\n",
      "2023-01-22 22:20:40 abstract_overall_variance_analyzer.py INFO    : Classifier 3 / 10 was tested\n",
      "2023-01-22 22:20:40 abstract_overall_variance_analyzer.py INFO    : Start testing of classifier 4 / 10\n",
      "2023-01-22 22:20:40 abstract_overall_variance_analyzer.py INFO    : Classifier 4 / 10 was tested\n",
      "2023-01-22 22:20:40 abstract_overall_variance_analyzer.py INFO    : Start testing of classifier 5 / 10\n",
      "2023-01-22 22:20:40 abstract_overall_variance_analyzer.py INFO    : Classifier 5 / 10 was tested\n",
      "2023-01-22 22:20:40 abstract_overall_variance_analyzer.py INFO    : Start testing of classifier 6 / 10\n"
     ]
    },
    {
     "name": "stdout",
     "output_type": "stream",
     "text": [
      "\n",
      "\n",
      "\n",
      "\n",
      "##############################  [Model 2 / 6] Analyze LogisticRegression  ##############################\n",
      "Baseline X_train shape:  (4222, 9)\n",
      "Baseline X_test shape:  (1056, 9)\n"
     ]
    },
    {
     "name": "stderr",
     "output_type": "stream",
     "text": [
      "2023-01-22 22:20:40 abstract_overall_variance_analyzer.py INFO    : Classifier 6 / 10 was tested\n",
      "2023-01-22 22:20:40 abstract_overall_variance_analyzer.py INFO    : Start testing of classifier 7 / 10\n",
      "2023-01-22 22:20:40 abstract_overall_variance_analyzer.py INFO    : Classifier 7 / 10 was tested\n",
      "2023-01-22 22:20:40 abstract_overall_variance_analyzer.py INFO    : Start testing of classifier 8 / 10\n",
      "2023-01-22 22:20:40 abstract_overall_variance_analyzer.py INFO    : Classifier 8 / 10 was tested\n",
      "2023-01-22 22:20:40 abstract_overall_variance_analyzer.py INFO    : Start testing of classifier 9 / 10\n",
      "2023-01-22 22:20:40 abstract_overall_variance_analyzer.py INFO    : Classifier 9 / 10 was tested\n",
      "2023-01-22 22:20:40 abstract_overall_variance_analyzer.py INFO    : Start testing of classifier 10 / 10\n",
      "2023-01-22 22:20:40 abstract_overall_variance_analyzer.py INFO    : Classifier 10 / 10 was tested\n",
      "2023-01-22 22:20:41 abstract_overall_variance_analyzer.py INFO    : Successfully computed predict proba metrics\n"
     ]
    },
    {
     "name": "stdout",
     "output_type": "stream",
     "text": [
      "\n",
      "\n",
      "##############################  Stability metrics  ##############################\n",
      "General Ensemble Accuracy: 0.6714\n",
      "Mean: 0.5339\n",
      "Std: 0.0186\n",
      "IQR: 0.0244\n",
      "Entropy: 0.0\n",
      "Jitter: 0.0281\n",
      "Per sample accuracy: 0.667\n",
      "Label stability: 0.9659\n",
      "\n",
      "\n"
     ]
    },
    {
     "name": "stderr",
     "output_type": "stream",
     "text": [
      " 33%|████████████████████████████████████████████████████████▎                                                                                                                | 2/6 [00:04<00:09,  2.25s/it]2023-01-22 22:20:42 abstract_overall_variance_analyzer.py INFO    : Start testing of classifier 1 / 10\n"
     ]
    },
    {
     "name": "stdout",
     "output_type": "stream",
     "text": [
      "\n",
      "\n",
      "\n",
      "\n",
      "##############################  [Model 3 / 6] Analyze RandomForestClassifier  ##############################\n",
      "Baseline X_train shape:  (4222, 9)\n",
      "Baseline X_test shape:  (1056, 9)\n"
     ]
    },
    {
     "name": "stderr",
     "output_type": "stream",
     "text": [
      "2023-01-22 22:20:43 abstract_overall_variance_analyzer.py INFO    : Classifier 1 / 10 was tested\n",
      "2023-01-22 22:20:43 abstract_overall_variance_analyzer.py INFO    : Start testing of classifier 2 / 10\n",
      "2023-01-22 22:20:44 abstract_overall_variance_analyzer.py INFO    : Classifier 2 / 10 was tested\n",
      "2023-01-22 22:20:44 abstract_overall_variance_analyzer.py INFO    : Start testing of classifier 3 / 10\n",
      "2023-01-22 22:20:45 abstract_overall_variance_analyzer.py INFO    : Classifier 3 / 10 was tested\n",
      "2023-01-22 22:20:45 abstract_overall_variance_analyzer.py INFO    : Start testing of classifier 4 / 10\n",
      "2023-01-22 22:20:46 abstract_overall_variance_analyzer.py INFO    : Classifier 4 / 10 was tested\n",
      "2023-01-22 22:20:46 abstract_overall_variance_analyzer.py INFO    : Start testing of classifier 5 / 10\n",
      "2023-01-22 22:20:47 abstract_overall_variance_analyzer.py INFO    : Classifier 5 / 10 was tested\n",
      "2023-01-22 22:20:47 abstract_overall_variance_analyzer.py INFO    : Start testing of classifier 6 / 10\n",
      "2023-01-22 22:20:48 abstract_overall_variance_analyzer.py INFO    : Classifier 6 / 10 was tested\n",
      "2023-01-22 22:20:48 abstract_overall_variance_analyzer.py INFO    : Start testing of classifier 7 / 10\n",
      "2023-01-22 22:20:49 abstract_overall_variance_analyzer.py INFO    : Classifier 7 / 10 was tested\n",
      "2023-01-22 22:20:49 abstract_overall_variance_analyzer.py INFO    : Start testing of classifier 8 / 10\n",
      "2023-01-22 22:20:50 abstract_overall_variance_analyzer.py INFO    : Classifier 8 / 10 was tested\n",
      "2023-01-22 22:20:50 abstract_overall_variance_analyzer.py INFO    : Start testing of classifier 9 / 10\n",
      "2023-01-22 22:20:51 abstract_overall_variance_analyzer.py INFO    : Classifier 9 / 10 was tested\n",
      "2023-01-22 22:20:51 abstract_overall_variance_analyzer.py INFO    : Start testing of classifier 10 / 10\n",
      "2023-01-22 22:20:52 abstract_overall_variance_analyzer.py INFO    : Classifier 10 / 10 was tested\n",
      "2023-01-22 22:20:53 abstract_overall_variance_analyzer.py INFO    : Successfully computed predict proba metrics\n"
     ]
    },
    {
     "name": "stdout",
     "output_type": "stream",
     "text": [
      "\n",
      "\n",
      "##############################  Stability metrics  ##############################\n",
      "General Ensemble Accuracy: 0.679\n",
      "Mean: 0.5309\n",
      "Std: 0.035\n",
      "IQR: 0.0448\n",
      "Entropy: 0.0\n",
      "Jitter: 0.0503\n",
      "Per sample accuracy: 0.6754\n",
      "Label stability: 0.9379\n",
      "\n",
      "\n"
     ]
    },
    {
     "name": "stderr",
     "output_type": "stream",
     "text": [
      " 50%|████████████████████████████████████████████████████████████████████████████████████▌                                                                                    | 3/6 [00:15<00:19,  6.46s/it]2023-01-22 22:20:54 abstract_overall_variance_analyzer.py INFO    : Start testing of classifier 1 / 10\n"
     ]
    },
    {
     "name": "stdout",
     "output_type": "stream",
     "text": [
      "\n",
      "\n",
      "\n",
      "\n",
      "##############################  [Model 4 / 6] Analyze XGBClassifier  ##############################\n",
      "Baseline X_train shape:  (4222, 9)\n",
      "Baseline X_test shape:  (1056, 9)\n"
     ]
    },
    {
     "name": "stderr",
     "output_type": "stream",
     "text": [
      "2023-01-22 22:20:54 abstract_overall_variance_analyzer.py INFO    : Classifier 1 / 10 was tested\n",
      "2023-01-22 22:20:54 abstract_overall_variance_analyzer.py INFO    : Start testing of classifier 2 / 10\n",
      "2023-01-22 22:20:54 abstract_overall_variance_analyzer.py INFO    : Classifier 2 / 10 was tested\n",
      "2023-01-22 22:20:54 abstract_overall_variance_analyzer.py INFO    : Start testing of classifier 3 / 10\n",
      "2023-01-22 22:20:55 abstract_overall_variance_analyzer.py INFO    : Classifier 3 / 10 was tested\n",
      "2023-01-22 22:20:55 abstract_overall_variance_analyzer.py INFO    : Start testing of classifier 4 / 10\n",
      "2023-01-22 22:20:55 abstract_overall_variance_analyzer.py INFO    : Classifier 4 / 10 was tested\n",
      "2023-01-22 22:20:55 abstract_overall_variance_analyzer.py INFO    : Start testing of classifier 5 / 10\n",
      "2023-01-22 22:20:55 abstract_overall_variance_analyzer.py INFO    : Classifier 5 / 10 was tested\n",
      "2023-01-22 22:20:55 abstract_overall_variance_analyzer.py INFO    : Start testing of classifier 6 / 10\n",
      "2023-01-22 22:20:55 abstract_overall_variance_analyzer.py INFO    : Classifier 6 / 10 was tested\n",
      "2023-01-22 22:20:55 abstract_overall_variance_analyzer.py INFO    : Start testing of classifier 7 / 10\n",
      "2023-01-22 22:20:56 abstract_overall_variance_analyzer.py INFO    : Classifier 7 / 10 was tested\n",
      "2023-01-22 22:20:56 abstract_overall_variance_analyzer.py INFO    : Start testing of classifier 8 / 10\n",
      "2023-01-22 22:20:56 abstract_overall_variance_analyzer.py INFO    : Classifier 8 / 10 was tested\n",
      "2023-01-22 22:20:56 abstract_overall_variance_analyzer.py INFO    : Start testing of classifier 9 / 10\n",
      "2023-01-22 22:20:56 abstract_overall_variance_analyzer.py INFO    : Classifier 9 / 10 was tested\n",
      "2023-01-22 22:20:56 abstract_overall_variance_analyzer.py INFO    : Start testing of classifier 10 / 10\n",
      "2023-01-22 22:20:56 abstract_overall_variance_analyzer.py INFO    : Classifier 10 / 10 was tested\n",
      "2023-01-22 22:20:57 abstract_overall_variance_analyzer.py INFO    : Successfully computed predict proba metrics\n"
     ]
    },
    {
     "name": "stdout",
     "output_type": "stream",
     "text": [
      "\n",
      "\n",
      "##############################  Stability metrics  ##############################\n",
      "General Ensemble Accuracy: 0.7036\n",
      "Mean: 0.5291000008583069\n",
      "Std: 0.045899998396635056\n",
      "IQR: 0.0562\n",
      "Entropy: 0.0\n",
      "Jitter: 0.0633\n",
      "Per sample accuracy: 0.6995\n",
      "Label stability: 0.9184\n",
      "\n",
      "\n"
     ]
    },
    {
     "name": "stderr",
     "output_type": "stream",
     "text": [
      " 67%|████████████████████████████████████████████████████████████████████████████████████████████████████████████████▋                                                        | 4/6 [00:20<00:11,  5.69s/it]2023-01-22 22:20:58 abstract_overall_variance_analyzer.py INFO    : Start testing of classifier 1 / 10\n",
      "2023-01-22 22:20:59 abstract_overall_variance_analyzer.py INFO    : Classifier 1 / 10 was tested\n",
      "2023-01-22 22:20:59 abstract_overall_variance_analyzer.py INFO    : Start testing of classifier 2 / 10\n",
      "2023-01-22 22:20:59 abstract_overall_variance_analyzer.py INFO    : Classifier 2 / 10 was tested\n",
      "2023-01-22 22:20:59 abstract_overall_variance_analyzer.py INFO    : Start testing of classifier 3 / 10\n",
      "2023-01-22 22:20:59 abstract_overall_variance_analyzer.py INFO    : Classifier 3 / 10 was tested\n",
      "2023-01-22 22:20:59 abstract_overall_variance_analyzer.py INFO    : Start testing of classifier 4 / 10\n"
     ]
    },
    {
     "name": "stdout",
     "output_type": "stream",
     "text": [
      "\n",
      "\n",
      "\n",
      "\n",
      "##############################  [Model 5 / 6] Analyze KNeighborsClassifier  ##############################\n",
      "Baseline X_train shape:  (4222, 9)\n",
      "Baseline X_test shape:  (1056, 9)\n"
     ]
    },
    {
     "name": "stderr",
     "output_type": "stream",
     "text": [
      "2023-01-22 22:20:59 abstract_overall_variance_analyzer.py INFO    : Classifier 4 / 10 was tested\n",
      "2023-01-22 22:20:59 abstract_overall_variance_analyzer.py INFO    : Start testing of classifier 5 / 10\n",
      "2023-01-22 22:20:59 abstract_overall_variance_analyzer.py INFO    : Classifier 5 / 10 was tested\n",
      "2023-01-22 22:20:59 abstract_overall_variance_analyzer.py INFO    : Start testing of classifier 6 / 10\n",
      "2023-01-22 22:20:59 abstract_overall_variance_analyzer.py INFO    : Classifier 6 / 10 was tested\n",
      "2023-01-22 22:20:59 abstract_overall_variance_analyzer.py INFO    : Start testing of classifier 7 / 10\n",
      "2023-01-22 22:20:59 abstract_overall_variance_analyzer.py INFO    : Classifier 7 / 10 was tested\n",
      "2023-01-22 22:20:59 abstract_overall_variance_analyzer.py INFO    : Start testing of classifier 8 / 10\n",
      "2023-01-22 22:20:59 abstract_overall_variance_analyzer.py INFO    : Classifier 8 / 10 was tested\n",
      "2023-01-22 22:20:59 abstract_overall_variance_analyzer.py INFO    : Start testing of classifier 9 / 10\n",
      "2023-01-22 22:20:59 abstract_overall_variance_analyzer.py INFO    : Classifier 9 / 10 was tested\n",
      "2023-01-22 22:20:59 abstract_overall_variance_analyzer.py INFO    : Start testing of classifier 10 / 10\n",
      "2023-01-22 22:20:59 abstract_overall_variance_analyzer.py INFO    : Classifier 10 / 10 was tested\n",
      "2023-01-22 22:21:00 abstract_overall_variance_analyzer.py INFO    : Successfully computed predict proba metrics\n"
     ]
    },
    {
     "name": "stdout",
     "output_type": "stream",
     "text": [
      "\n",
      "\n",
      "##############################  Stability metrics  ##############################\n",
      "General Ensemble Accuracy: 0.6752\n",
      "Mean: 0.5357\n",
      "Std: 0.0954\n",
      "IQR: 0.1087\n",
      "Entropy: 0.2385\n",
      "Jitter: 0.1759\n",
      "Per sample accuracy: 0.6561\n",
      "Label stability: 0.7686\n",
      "\n",
      "\n"
     ]
    },
    {
     "name": "stderr",
     "output_type": "stream",
     "text": [
      " 83%|████████████████████████████████████████████████████████████████████████████████████████████████████████████████████████████████████████████▊                            | 5/6 [00:22<00:04,  4.53s/it]2023-01-22 22:21:01 abstract_overall_variance_analyzer.py INFO    : Start testing of classifier 1 / 10\n"
     ]
    },
    {
     "name": "stdout",
     "output_type": "stream",
     "text": [
      "\n",
      "\n",
      "\n",
      "\n",
      "##############################  [Model 6 / 6] Analyze MLPClassifier  ##############################\n",
      "Baseline X_train shape:  (4222, 9)\n",
      "Baseline X_test shape:  (1056, 9)\n"
     ]
    },
    {
     "name": "stderr",
     "output_type": "stream",
     "text": [
      "2023-01-22 22:21:07 abstract_overall_variance_analyzer.py INFO    : Classifier 1 / 10 was tested\n",
      "2023-01-22 22:21:07 abstract_overall_variance_analyzer.py INFO    : Start testing of classifier 2 / 10\n",
      "2023-01-22 22:21:12 abstract_overall_variance_analyzer.py INFO    : Classifier 2 / 10 was tested\n",
      "2023-01-22 22:21:12 abstract_overall_variance_analyzer.py INFO    : Start testing of classifier 3 / 10\n",
      "2023-01-22 22:21:17 abstract_overall_variance_analyzer.py INFO    : Classifier 3 / 10 was tested\n",
      "2023-01-22 22:21:17 abstract_overall_variance_analyzer.py INFO    : Start testing of classifier 4 / 10\n",
      "2023-01-22 22:21:22 abstract_overall_variance_analyzer.py INFO    : Classifier 4 / 10 was tested\n",
      "2023-01-22 22:21:22 abstract_overall_variance_analyzer.py INFO    : Start testing of classifier 5 / 10\n",
      "2023-01-22 22:21:26 abstract_overall_variance_analyzer.py INFO    : Classifier 5 / 10 was tested\n",
      "2023-01-22 22:21:26 abstract_overall_variance_analyzer.py INFO    : Start testing of classifier 6 / 10\n",
      "2023-01-22 22:21:33 abstract_overall_variance_analyzer.py INFO    : Classifier 6 / 10 was tested\n",
      "2023-01-22 22:21:33 abstract_overall_variance_analyzer.py INFO    : Start testing of classifier 7 / 10\n",
      "2023-01-22 22:21:38 abstract_overall_variance_analyzer.py INFO    : Classifier 7 / 10 was tested\n",
      "2023-01-22 22:21:38 abstract_overall_variance_analyzer.py INFO    : Start testing of classifier 8 / 10\n",
      "2023-01-22 22:21:46 abstract_overall_variance_analyzer.py INFO    : Classifier 8 / 10 was tested\n",
      "2023-01-22 22:21:46 abstract_overall_variance_analyzer.py INFO    : Start testing of classifier 9 / 10\n",
      "2023-01-22 22:21:53 abstract_overall_variance_analyzer.py INFO    : Classifier 9 / 10 was tested\n",
      "2023-01-22 22:21:53 abstract_overall_variance_analyzer.py INFO    : Start testing of classifier 10 / 10\n",
      "2023-01-22 22:22:01 abstract_overall_variance_analyzer.py INFO    : Classifier 10 / 10 was tested\n",
      "2023-01-22 22:22:02 abstract_overall_variance_analyzer.py INFO    : Successfully computed predict proba metrics\n"
     ]
    },
    {
     "name": "stdout",
     "output_type": "stream",
     "text": [
      "\n",
      "\n",
      "##############################  Stability metrics  ##############################\n",
      "General Ensemble Accuracy: 0.6544\n",
      "Mean: 0.5228\n",
      "Std: 0.0244\n",
      "IQR: 0.0288\n",
      "Entropy: 0.0\n",
      "Jitter: 0.0662\n",
      "Per sample accuracy: 0.6648\n",
      "Label stability: 0.8928\n",
      "\n",
      "\n"
     ]
    },
    {
     "name": "stderr",
     "output_type": "stream",
     "text": [
      "100%|█████████████████████████████████████████████████████████████████████████████████████████████████████████████████████████████████████████████████████████████████████████| 6/6 [01:25<00:00, 14.31s/it]\n"
     ]
    },
    {
     "name": "stdout",
     "output_type": "stream",
     "text": [
      "\n",
      "\n",
      "\n",
      "\n"
     ]
    },
    {
     "name": "stderr",
     "output_type": "stream",
     "text": [
      "  0%|                                                                                                                                                                                 | 0/6 [00:00<?, ?it/s]2023-01-22 22:22:04 abstract_overall_variance_analyzer.py INFO    : Start testing of classifier 1 / 10\n",
      "2023-01-22 22:22:04 abstract_overall_variance_analyzer.py INFO    : Classifier 1 / 10 was tested\n",
      "2023-01-22 22:22:04 abstract_overall_variance_analyzer.py INFO    : Start testing of classifier 2 / 10\n",
      "2023-01-22 22:22:04 abstract_overall_variance_analyzer.py INFO    : Classifier 2 / 10 was tested\n",
      "2023-01-22 22:22:04 abstract_overall_variance_analyzer.py INFO    : Start testing of classifier 3 / 10\n",
      "2023-01-22 22:22:04 abstract_overall_variance_analyzer.py INFO    : Classifier 3 / 10 was tested\n",
      "2023-01-22 22:22:04 abstract_overall_variance_analyzer.py INFO    : Start testing of classifier 4 / 10\n",
      "2023-01-22 22:22:04 abstract_overall_variance_analyzer.py INFO    : Classifier 4 / 10 was tested\n",
      "2023-01-22 22:22:04 abstract_overall_variance_analyzer.py INFO    : Start testing of classifier 5 / 10\n",
      "2023-01-22 22:22:04 abstract_overall_variance_analyzer.py INFO    : Classifier 5 / 10 was tested\n",
      "2023-01-22 22:22:04 abstract_overall_variance_analyzer.py INFO    : Start testing of classifier 6 / 10\n",
      "2023-01-22 22:22:04 abstract_overall_variance_analyzer.py INFO    : Classifier 6 / 10 was tested\n",
      "2023-01-22 22:22:04 abstract_overall_variance_analyzer.py INFO    : Start testing of classifier 7 / 10\n",
      "2023-01-22 22:22:04 abstract_overall_variance_analyzer.py INFO    : Classifier 7 / 10 was tested\n",
      "2023-01-22 22:22:04 abstract_overall_variance_analyzer.py INFO    : Start testing of classifier 8 / 10\n",
      "2023-01-22 22:22:04 abstract_overall_variance_analyzer.py INFO    : Classifier 8 / 10 was tested\n",
      "2023-01-22 22:22:04 abstract_overall_variance_analyzer.py INFO    : Start testing of classifier 9 / 10\n",
      "2023-01-22 22:22:04 abstract_overall_variance_analyzer.py INFO    : Classifier 9 / 10 was tested\n",
      "2023-01-22 22:22:04 abstract_overall_variance_analyzer.py INFO    : Start testing of classifier 10 / 10\n",
      "2023-01-22 22:22:04 abstract_overall_variance_analyzer.py INFO    : Classifier 10 / 10 was tested\n"
     ]
    },
    {
     "name": "stdout",
     "output_type": "stream",
     "text": [
      "##############################  [Model 1 / 6] Analyze DecisionTreeClassifier  ##############################\n",
      "Baseline X_train shape:  (4222, 9)\n",
      "Baseline X_test shape:  (1056, 9)\n"
     ]
    },
    {
     "name": "stderr",
     "output_type": "stream",
     "text": [
      "2023-01-22 22:22:05 abstract_overall_variance_analyzer.py INFO    : Successfully computed predict proba metrics\n"
     ]
    },
    {
     "name": "stdout",
     "output_type": "stream",
     "text": [
      "\n",
      "\n",
      "##############################  Stability metrics  ##############################\n",
      "General Ensemble Accuracy: 0.6771\n",
      "Mean: 0.5227\n",
      "Std: 0.0676\n",
      "IQR: 0.0846\n",
      "Entropy: 0.0\n",
      "Jitter: 0.1153\n",
      "Per sample accuracy: 0.6616\n",
      "Label stability: 0.8572\n",
      "\n",
      "\n"
     ]
    },
    {
     "name": "stderr",
     "output_type": "stream",
     "text": [
      " 17%|████████████████████████████▏                                                                                                                                            | 1/6 [00:02<00:12,  2.46s/it]2023-01-22 22:22:06 abstract_overall_variance_analyzer.py INFO    : Start testing of classifier 1 / 10\n",
      "2023-01-22 22:22:06 abstract_overall_variance_analyzer.py INFO    : Classifier 1 / 10 was tested\n",
      "2023-01-22 22:22:06 abstract_overall_variance_analyzer.py INFO    : Start testing of classifier 2 / 10\n",
      "2023-01-22 22:22:06 abstract_overall_variance_analyzer.py INFO    : Classifier 2 / 10 was tested\n",
      "2023-01-22 22:22:06 abstract_overall_variance_analyzer.py INFO    : Start testing of classifier 3 / 10\n"
     ]
    },
    {
     "name": "stdout",
     "output_type": "stream",
     "text": [
      "\n",
      "\n",
      "\n",
      "\n",
      "##############################  [Model 2 / 6] Analyze LogisticRegression  ##############################\n",
      "Baseline X_train shape:  (4222, 9)\n",
      "Baseline X_test shape:  (1056, 9)\n"
     ]
    },
    {
     "name": "stderr",
     "output_type": "stream",
     "text": [
      "2023-01-22 22:22:07 abstract_overall_variance_analyzer.py INFO    : Classifier 3 / 10 was tested\n",
      "2023-01-22 22:22:07 abstract_overall_variance_analyzer.py INFO    : Start testing of classifier 4 / 10\n",
      "2023-01-22 22:22:07 abstract_overall_variance_analyzer.py INFO    : Classifier 4 / 10 was tested\n",
      "2023-01-22 22:22:07 abstract_overall_variance_analyzer.py INFO    : Start testing of classifier 5 / 10\n",
      "2023-01-22 22:22:07 abstract_overall_variance_analyzer.py INFO    : Classifier 5 / 10 was tested\n",
      "2023-01-22 22:22:07 abstract_overall_variance_analyzer.py INFO    : Start testing of classifier 6 / 10\n",
      "2023-01-22 22:22:07 abstract_overall_variance_analyzer.py INFO    : Classifier 6 / 10 was tested\n",
      "2023-01-22 22:22:07 abstract_overall_variance_analyzer.py INFO    : Start testing of classifier 7 / 10\n",
      "2023-01-22 22:22:07 abstract_overall_variance_analyzer.py INFO    : Classifier 7 / 10 was tested\n",
      "2023-01-22 22:22:07 abstract_overall_variance_analyzer.py INFO    : Start testing of classifier 8 / 10\n",
      "2023-01-22 22:22:07 abstract_overall_variance_analyzer.py INFO    : Classifier 8 / 10 was tested\n",
      "2023-01-22 22:22:07 abstract_overall_variance_analyzer.py INFO    : Start testing of classifier 9 / 10\n",
      "2023-01-22 22:22:07 abstract_overall_variance_analyzer.py INFO    : Classifier 9 / 10 was tested\n",
      "2023-01-22 22:22:07 abstract_overall_variance_analyzer.py INFO    : Start testing of classifier 10 / 10\n",
      "2023-01-22 22:22:07 abstract_overall_variance_analyzer.py INFO    : Classifier 10 / 10 was tested\n",
      "2023-01-22 22:22:08 abstract_overall_variance_analyzer.py INFO    : Successfully computed predict proba metrics\n"
     ]
    },
    {
     "name": "stdout",
     "output_type": "stream",
     "text": [
      "\n",
      "\n",
      "##############################  Stability metrics  ##############################\n",
      "General Ensemble Accuracy: 0.6562\n",
      "Mean: 0.5207\n",
      "Std: 0.0203\n",
      "IQR: 0.0249\n",
      "Entropy: 0.0\n",
      "Jitter: 0.0402\n",
      "Per sample accuracy: 0.6506\n",
      "Label stability: 0.9481\n",
      "\n",
      "\n"
     ]
    },
    {
     "name": "stderr",
     "output_type": "stream",
     "text": [
      " 33%|████████████████████████████████████████████████████████▎                                                                                                                | 2/6 [00:05<00:10,  2.74s/it]2023-01-22 22:22:09 abstract_overall_variance_analyzer.py INFO    : Start testing of classifier 1 / 10\n"
     ]
    },
    {
     "name": "stdout",
     "output_type": "stream",
     "text": [
      "\n",
      "\n",
      "\n",
      "\n",
      "##############################  [Model 3 / 6] Analyze RandomForestClassifier  ##############################\n",
      "Baseline X_train shape:  (4222, 9)\n",
      "Baseline X_test shape:  (1056, 9)\n"
     ]
    },
    {
     "name": "stderr",
     "output_type": "stream",
     "text": [
      "2023-01-22 22:22:10 abstract_overall_variance_analyzer.py INFO    : Classifier 1 / 10 was tested\n",
      "2023-01-22 22:22:10 abstract_overall_variance_analyzer.py INFO    : Start testing of classifier 2 / 10\n",
      "2023-01-22 22:22:12 abstract_overall_variance_analyzer.py INFO    : Classifier 2 / 10 was tested\n",
      "2023-01-22 22:22:12 abstract_overall_variance_analyzer.py INFO    : Start testing of classifier 3 / 10\n",
      "2023-01-22 22:22:13 abstract_overall_variance_analyzer.py INFO    : Classifier 3 / 10 was tested\n",
      "2023-01-22 22:22:13 abstract_overall_variance_analyzer.py INFO    : Start testing of classifier 4 / 10\n",
      "2023-01-22 22:22:14 abstract_overall_variance_analyzer.py INFO    : Classifier 4 / 10 was tested\n",
      "2023-01-22 22:22:14 abstract_overall_variance_analyzer.py INFO    : Start testing of classifier 5 / 10\n",
      "2023-01-22 22:22:14 abstract_overall_variance_analyzer.py INFO    : Classifier 5 / 10 was tested\n",
      "2023-01-22 22:22:14 abstract_overall_variance_analyzer.py INFO    : Start testing of classifier 6 / 10\n",
      "2023-01-22 22:22:15 abstract_overall_variance_analyzer.py INFO    : Classifier 6 / 10 was tested\n",
      "2023-01-22 22:22:15 abstract_overall_variance_analyzer.py INFO    : Start testing of classifier 7 / 10\n",
      "2023-01-22 22:22:16 abstract_overall_variance_analyzer.py INFO    : Classifier 7 / 10 was tested\n",
      "2023-01-22 22:22:16 abstract_overall_variance_analyzer.py INFO    : Start testing of classifier 8 / 10\n",
      "2023-01-22 22:22:17 abstract_overall_variance_analyzer.py INFO    : Classifier 8 / 10 was tested\n",
      "2023-01-22 22:22:17 abstract_overall_variance_analyzer.py INFO    : Start testing of classifier 9 / 10\n",
      "2023-01-22 22:22:18 abstract_overall_variance_analyzer.py INFO    : Classifier 9 / 10 was tested\n",
      "2023-01-22 22:22:18 abstract_overall_variance_analyzer.py INFO    : Start testing of classifier 10 / 10\n",
      "2023-01-22 22:22:19 abstract_overall_variance_analyzer.py INFO    : Classifier 10 / 10 was tested\n",
      "2023-01-22 22:22:19 abstract_overall_variance_analyzer.py INFO    : Successfully computed predict proba metrics\n"
     ]
    },
    {
     "name": "stdout",
     "output_type": "stream",
     "text": [
      "\n",
      "\n",
      "##############################  Stability metrics  ##############################\n",
      "General Ensemble Accuracy: 0.6733\n",
      "Mean: 0.5202\n",
      "Std: 0.0404\n",
      "IQR: 0.0491\n",
      "Entropy: 0.0\n",
      "Jitter: 0.0967\n",
      "Per sample accuracy: 0.6677\n",
      "Label stability: 0.8858\n",
      "\n",
      "\n"
     ]
    },
    {
     "name": "stderr",
     "output_type": "stream",
     "text": [
      " 50%|████████████████████████████████████████████████████████████████████████████████████▌                                                                                    | 3/6 [00:16<00:20,  6.68s/it]2023-01-22 22:22:21 abstract_overall_variance_analyzer.py INFO    : Start testing of classifier 1 / 10\n"
     ]
    },
    {
     "name": "stdout",
     "output_type": "stream",
     "text": [
      "\n",
      "\n",
      "\n",
      "\n",
      "##############################  [Model 4 / 6] Analyze XGBClassifier  ##############################\n",
      "Baseline X_train shape:  (4222, 9)\n",
      "Baseline X_test shape:  (1056, 9)\n"
     ]
    },
    {
     "name": "stderr",
     "output_type": "stream",
     "text": [
      "2023-01-22 22:22:21 abstract_overall_variance_analyzer.py INFO    : Classifier 1 / 10 was tested\n",
      "2023-01-22 22:22:21 abstract_overall_variance_analyzer.py INFO    : Start testing of classifier 2 / 10\n",
      "2023-01-22 22:22:21 abstract_overall_variance_analyzer.py INFO    : Classifier 2 / 10 was tested\n",
      "2023-01-22 22:22:21 abstract_overall_variance_analyzer.py INFO    : Start testing of classifier 3 / 10\n",
      "2023-01-22 22:22:21 abstract_overall_variance_analyzer.py INFO    : Classifier 3 / 10 was tested\n",
      "2023-01-22 22:22:21 abstract_overall_variance_analyzer.py INFO    : Start testing of classifier 4 / 10\n",
      "2023-01-22 22:22:22 abstract_overall_variance_analyzer.py INFO    : Classifier 4 / 10 was tested\n",
      "2023-01-22 22:22:22 abstract_overall_variance_analyzer.py INFO    : Start testing of classifier 5 / 10\n",
      "2023-01-22 22:22:22 abstract_overall_variance_analyzer.py INFO    : Classifier 5 / 10 was tested\n",
      "2023-01-22 22:22:22 abstract_overall_variance_analyzer.py INFO    : Start testing of classifier 6 / 10\n",
      "2023-01-22 22:22:22 abstract_overall_variance_analyzer.py INFO    : Classifier 6 / 10 was tested\n",
      "2023-01-22 22:22:22 abstract_overall_variance_analyzer.py INFO    : Start testing of classifier 7 / 10\n",
      "2023-01-22 22:22:22 abstract_overall_variance_analyzer.py INFO    : Classifier 7 / 10 was tested\n",
      "2023-01-22 22:22:22 abstract_overall_variance_analyzer.py INFO    : Start testing of classifier 8 / 10\n",
      "2023-01-22 22:22:23 abstract_overall_variance_analyzer.py INFO    : Classifier 8 / 10 was tested\n",
      "2023-01-22 22:22:23 abstract_overall_variance_analyzer.py INFO    : Start testing of classifier 9 / 10\n",
      "2023-01-22 22:22:23 abstract_overall_variance_analyzer.py INFO    : Classifier 9 / 10 was tested\n",
      "2023-01-22 22:22:23 abstract_overall_variance_analyzer.py INFO    : Start testing of classifier 10 / 10\n",
      "2023-01-22 22:22:23 abstract_overall_variance_analyzer.py INFO    : Classifier 10 / 10 was tested\n",
      "2023-01-22 22:22:24 abstract_overall_variance_analyzer.py INFO    : Successfully computed predict proba metrics\n"
     ]
    },
    {
     "name": "stdout",
     "output_type": "stream",
     "text": [
      "\n",
      "\n",
      "##############################  Stability metrics  ##############################\n",
      "General Ensemble Accuracy: 0.6761\n",
      "Mean: 0.5238999724388123\n",
      "Std: 0.046300001442432404\n",
      "IQR: 0.0538\n",
      "Entropy: 0.0\n",
      "Jitter: 0.0728\n",
      "Per sample accuracy: 0.6759\n",
      "Label stability: 0.9002\n",
      "\n",
      "\n"
     ]
    },
    {
     "name": "stderr",
     "output_type": "stream",
     "text": [
      " 67%|████████████████████████████████████████████████████████████████████████████████████████████████████████████████▋                                                        | 4/6 [00:21<00:11,  5.81s/it]2023-01-22 22:22:25 abstract_overall_variance_analyzer.py INFO    : Start testing of classifier 1 / 10\n",
      "2023-01-22 22:22:25 abstract_overall_variance_analyzer.py INFO    : Classifier 1 / 10 was tested\n",
      "2023-01-22 22:22:25 abstract_overall_variance_analyzer.py INFO    : Start testing of classifier 2 / 10\n",
      "2023-01-22 22:22:25 abstract_overall_variance_analyzer.py INFO    : Classifier 2 / 10 was tested\n",
      "2023-01-22 22:22:25 abstract_overall_variance_analyzer.py INFO    : Start testing of classifier 3 / 10\n"
     ]
    },
    {
     "name": "stdout",
     "output_type": "stream",
     "text": [
      "\n",
      "\n",
      "\n",
      "\n",
      "##############################  [Model 5 / 6] Analyze KNeighborsClassifier  ##############################\n",
      "Baseline X_train shape:  (4222, 9)\n",
      "Baseline X_test shape:  (1056, 9)\n"
     ]
    },
    {
     "name": "stderr",
     "output_type": "stream",
     "text": [
      "2023-01-22 22:22:25 abstract_overall_variance_analyzer.py INFO    : Classifier 3 / 10 was tested\n",
      "2023-01-22 22:22:25 abstract_overall_variance_analyzer.py INFO    : Start testing of classifier 4 / 10\n",
      "2023-01-22 22:22:25 abstract_overall_variance_analyzer.py INFO    : Classifier 4 / 10 was tested\n",
      "2023-01-22 22:22:25 abstract_overall_variance_analyzer.py INFO    : Start testing of classifier 5 / 10\n",
      "2023-01-22 22:22:25 abstract_overall_variance_analyzer.py INFO    : Classifier 5 / 10 was tested\n",
      "2023-01-22 22:22:25 abstract_overall_variance_analyzer.py INFO    : Start testing of classifier 6 / 10\n",
      "2023-01-22 22:22:26 abstract_overall_variance_analyzer.py INFO    : Classifier 6 / 10 was tested\n",
      "2023-01-22 22:22:26 abstract_overall_variance_analyzer.py INFO    : Start testing of classifier 7 / 10\n",
      "2023-01-22 22:22:26 abstract_overall_variance_analyzer.py INFO    : Classifier 7 / 10 was tested\n",
      "2023-01-22 22:22:26 abstract_overall_variance_analyzer.py INFO    : Start testing of classifier 8 / 10\n",
      "2023-01-22 22:22:26 abstract_overall_variance_analyzer.py INFO    : Classifier 8 / 10 was tested\n",
      "2023-01-22 22:22:26 abstract_overall_variance_analyzer.py INFO    : Start testing of classifier 9 / 10\n",
      "2023-01-22 22:22:26 abstract_overall_variance_analyzer.py INFO    : Classifier 9 / 10 was tested\n",
      "2023-01-22 22:22:26 abstract_overall_variance_analyzer.py INFO    : Start testing of classifier 10 / 10\n",
      "2023-01-22 22:22:26 abstract_overall_variance_analyzer.py INFO    : Classifier 10 / 10 was tested\n",
      "2023-01-22 22:22:26 abstract_overall_variance_analyzer.py INFO    : Successfully computed predict proba metrics\n"
     ]
    },
    {
     "name": "stdout",
     "output_type": "stream",
     "text": [
      "\n",
      "\n",
      "##############################  Stability metrics  ##############################\n",
      "General Ensemble Accuracy: 0.6667\n",
      "Mean: 0.5408\n",
      "Std: 0.0837\n",
      "IQR: 0.1042\n",
      "Entropy: 0.0\n",
      "Jitter: 0.1316\n",
      "Per sample accuracy: 0.6571\n",
      "Label stability: 0.8366\n",
      "\n",
      "\n"
     ]
    },
    {
     "name": "stderr",
     "output_type": "stream",
     "text": [
      " 83%|████████████████████████████████████████████████████████████████████████████████████████████████████████████████████████████████████████████▊                            | 5/6 [00:23<00:04,  4.67s/it]2023-01-22 22:22:28 abstract_overall_variance_analyzer.py INFO    : Start testing of classifier 1 / 10\n"
     ]
    },
    {
     "name": "stdout",
     "output_type": "stream",
     "text": [
      "\n",
      "\n",
      "\n",
      "\n",
      "##############################  [Model 6 / 6] Analyze MLPClassifier  ##############################\n",
      "Baseline X_train shape:  (4222, 9)\n",
      "Baseline X_test shape:  (1056, 9)\n"
     ]
    },
    {
     "name": "stderr",
     "output_type": "stream",
     "text": [
      "2023-01-22 22:22:32 abstract_overall_variance_analyzer.py INFO    : Classifier 1 / 10 was tested\n",
      "2023-01-22 22:22:32 abstract_overall_variance_analyzer.py INFO    : Start testing of classifier 2 / 10\n",
      "2023-01-22 22:22:37 abstract_overall_variance_analyzer.py INFO    : Classifier 2 / 10 was tested\n",
      "2023-01-22 22:22:37 abstract_overall_variance_analyzer.py INFO    : Start testing of classifier 3 / 10\n",
      "2023-01-22 22:22:44 abstract_overall_variance_analyzer.py INFO    : Classifier 3 / 10 was tested\n",
      "2023-01-22 22:22:44 abstract_overall_variance_analyzer.py INFO    : Start testing of classifier 4 / 10\n",
      "2023-01-22 22:22:50 abstract_overall_variance_analyzer.py INFO    : Classifier 4 / 10 was tested\n",
      "2023-01-22 22:22:50 abstract_overall_variance_analyzer.py INFO    : Start testing of classifier 5 / 10\n",
      "2023-01-22 22:22:56 abstract_overall_variance_analyzer.py INFO    : Classifier 5 / 10 was tested\n",
      "2023-01-22 22:22:56 abstract_overall_variance_analyzer.py INFO    : Start testing of classifier 6 / 10\n",
      "2023-01-22 22:23:02 abstract_overall_variance_analyzer.py INFO    : Classifier 6 / 10 was tested\n",
      "2023-01-22 22:23:02 abstract_overall_variance_analyzer.py INFO    : Start testing of classifier 7 / 10\n",
      "2023-01-22 22:23:08 abstract_overall_variance_analyzer.py INFO    : Classifier 7 / 10 was tested\n",
      "2023-01-22 22:23:08 abstract_overall_variance_analyzer.py INFO    : Start testing of classifier 8 / 10\n",
      "2023-01-22 22:23:15 abstract_overall_variance_analyzer.py INFO    : Classifier 8 / 10 was tested\n",
      "2023-01-22 22:23:15 abstract_overall_variance_analyzer.py INFO    : Start testing of classifier 9 / 10\n",
      "2023-01-22 22:23:22 abstract_overall_variance_analyzer.py INFO    : Classifier 9 / 10 was tested\n",
      "2023-01-22 22:23:22 abstract_overall_variance_analyzer.py INFO    : Start testing of classifier 10 / 10\n",
      "2023-01-22 22:23:29 abstract_overall_variance_analyzer.py INFO    : Classifier 10 / 10 was tested\n",
      "2023-01-22 22:23:29 abstract_overall_variance_analyzer.py INFO    : Successfully computed predict proba metrics\n"
     ]
    },
    {
     "name": "stdout",
     "output_type": "stream",
     "text": [
      "\n",
      "\n",
      "##############################  Stability metrics  ##############################\n",
      "General Ensemble Accuracy: 0.6591\n",
      "Mean: 0.5312\n",
      "Std: 0.022\n",
      "IQR: 0.0259\n",
      "Entropy: 0.0\n",
      "Jitter: 0.0551\n",
      "Per sample accuracy: 0.6583\n",
      "Label stability: 0.9311\n",
      "\n",
      "\n"
     ]
    },
    {
     "name": "stderr",
     "output_type": "stream",
     "text": [
      "100%|█████████████████████████████████████████████████████████████████████████████████████████████████████████████████████████████████████████████████████████████████████████| 6/6 [01:26<00:00, 14.49s/it]"
     ]
    },
    {
     "name": "stdout",
     "output_type": "stream",
     "text": [
      "\n",
      "\n",
      "\n",
      "\n"
     ]
    },
    {
     "name": "stderr",
     "output_type": "stream",
     "text": [
      "\n"
     ]
    }
   ],
   "source": [
    "multiple_runs_metrics_dct = compute_metrics_multiple_runs(dataset, config.TEST_SET_FRACTION, DATASET_NAME,\n",
    "                                                          config, models_tuned_params_df, N_ESTIMATORS, SENSITIVE_ATTRIBUTES, PRIV_VALUES,\n",
    "                                                          RUNS_SEED_LST, SAVE_RESULTS_DIR_PATH, debug_mode=False)"
   ]
  },
  {
   "cell_type": "code",
   "execution_count": 16,
   "id": "197eadaa",
   "metadata": {},
   "outputs": [],
   "source": []
  }
 ],
 "metadata": {
  "kernelspec": {
   "display_name": "Python 3 (ipykernel)",
   "language": "python",
   "name": "python3"
  },
  "language_info": {
   "codemirror_mode": {
    "name": "ipython",
    "version": 3
   },
   "file_extension": ".py",
   "mimetype": "text/x-python",
   "name": "python",
   "nbconvert_exporter": "python",
   "pygments_lexer": "ipython3",
   "version": "3.8.10"
  }
 },
 "nbformat": 4,
 "nbformat_minor": 5
}
