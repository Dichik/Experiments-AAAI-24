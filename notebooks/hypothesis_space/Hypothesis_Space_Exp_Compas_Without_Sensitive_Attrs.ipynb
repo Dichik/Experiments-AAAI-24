{
 "cells": [
  {
   "cell_type": "code",
   "execution_count": 5,
   "id": "248cbed8",
   "metadata": {
    "pycharm": {
     "name": "#%%\n"
    }
   },
   "outputs": [
    {
     "name": "stdout",
     "output_type": "stream",
     "text": [
      "The autoreload extension is already loaded. To reload it, use:\n",
      "  %reload_ext autoreload\n"
     ]
    }
   ],
   "source": [
    "%matplotlib inline\n",
    "%load_ext autoreload\n",
    "%autoreload 2"
   ]
  },
  {
   "cell_type": "code",
   "execution_count": 6,
   "id": "7ec6cd08",
   "metadata": {
    "pycharm": {
     "name": "#%%\n"
    }
   },
   "outputs": [],
   "source": [
    "import os\n",
    "import warnings\n",
    "warnings.filterwarnings('ignore')\n",
    "os.environ[\"PYTHONWARNINGS\"] = \"ignore\""
   ]
  },
  {
   "cell_type": "code",
   "execution_count": 7,
   "id": "b8cb69f2",
   "metadata": {},
   "outputs": [
    {
     "name": "stdout",
     "output_type": "stream",
     "text": [
      "Current location:  /home/denys_herasymuk/UCU/4course_2term/Bachelor_Thesis/Code/fairness-variance\n"
     ]
    }
   ],
   "source": [
    "cur_folder_name = os.getcwd().split('/')[-1]\n",
    "if cur_folder_name != \"fairness-variance\":\n",
    "    os.chdir(\"../..\")\n",
    "\n",
    "print('Current location: ', os.getcwd())"
   ]
  },
  {
   "cell_type": "markdown",
   "id": "606df34d",
   "metadata": {
    "pycharm": {
     "name": "#%% md\n"
    }
   },
   "source": [
    "## Import dependencies"
   ]
  },
  {
   "cell_type": "code",
   "execution_count": 8,
   "id": "7a9241de",
   "metadata": {
    "pycharm": {
     "name": "#%%\n"
    }
   },
   "outputs": [],
   "source": [
    "import os\n",
    "import pandas as pd\n",
    "from IPython.display import display\n",
    "from tqdm import tqdm\n",
    "\n",
    "from configs import config\n",
    "from configs.constants import ModelSetting\n",
    "from utils.analyzers.subgroups_variance_analyzer import SubgroupsVarianceAnalyzer\n",
    "from utils.common_helpers import create_tuned_base_model, save_metrics_to_file\n",
    "from utils.custom_classes.data_loader import CompasWithoutSensitiveAttrsDataset\n",
    "from utils.custom_classes.generic_pipeline import GenericPipeline\n",
    "from utils.analyzers.subgroups_statistical_bias_analyzer import SubgroupsStatisticalBiasAnalyzer"
   ]
  },
  {
   "cell_type": "markdown",
   "id": "95f15603",
   "metadata": {
    "pycharm": {
     "name": "#%% md\n"
    }
   },
   "source": [
    "## Configs"
   ]
  },
  {
   "cell_type": "code",
   "execution_count": 9,
   "id": "71d8f24a",
   "metadata": {
    "pycharm": {
     "name": "#%%\n"
    }
   },
   "outputs": [],
   "source": [
    "DATASET_NAME = \"COMPAS_Without_Sensitive_Attributes\"\n",
    "EXPERIMENT_NAME = 'Hypothesis_Space'\n",
    "\n",
    "seed_lst = [101, 111, 201, 221, 311, 333, 410, 555, 666, 851, 999, 1010]\n",
    "SEX_priv = 0\n",
    "RACE_priv = 'Caucasian'\n",
    "N_ESTIMATORS = 20\n",
    "SENSITIVE_ATTRIBUTES = ['sex', 'race']\n",
    "PRIV_VALUES = [SEX_priv, RACE_priv]\n",
    "TUNED_PARAMS_FILE_PATH = os.path.join('results', 'models_tuning', f'tuning_results_{DATASET_NAME}_20230117__012024.csv')"
   ]
  },
  {
   "cell_type": "markdown",
   "id": "1fd3a1c8",
   "metadata": {
    "pycharm": {
     "name": "#%% md\n"
    }
   },
   "source": [
    "## Models tuned hyper-parameters"
   ]
  },
  {
   "cell_type": "code",
   "execution_count": 10,
   "id": "6aca46f3",
   "metadata": {
    "pycharm": {
     "name": "#%%\n"
    }
   },
   "outputs": [
    {
     "data": {
      "text/plain": "                          Dataset_Name              Model_Name  F1_Score  \\\n0  COMPAS_Without_Sensitive_Attributes      LogisticRegression    0.6785   \n1  COMPAS_Without_Sensitive_Attributes  DecisionTreeClassifier    0.6952   \n2  COMPAS_Without_Sensitive_Attributes  RandomForestClassifier    0.6962   \n3  COMPAS_Without_Sensitive_Attributes           XGBClassifier    0.6971   \n4  COMPAS_Without_Sensitive_Attributes    KNeighborsClassifier    0.7056   \n5  COMPAS_Without_Sensitive_Attributes           MLPClassifier    0.6834   \n\n   Accuracy_Score                                  Model_Best_Params  \n0          0.6837  {'C': 1, 'max_iter': 50, 'penalty': 'l2', 'sol...  \n1          0.6989  {'criterion': 'gini', 'max_depth': 20, 'max_fe...  \n2          0.7008  {'max_depth': 4, 'max_features': 0.6, 'min_sam...  \n3          0.7008  {'lambda': 100, 'learning_rate': 0.1, 'max_dep...  \n4          0.7112  {'metric': 'minkowski', 'n_neighbors': 25, 'we...  \n5          0.6875  {'activation': 'relu', 'hidden_layer_sizes': (...  ",
      "text/html": "<div>\n<style scoped>\n    .dataframe tbody tr th:only-of-type {\n        vertical-align: middle;\n    }\n\n    .dataframe tbody tr th {\n        vertical-align: top;\n    }\n\n    .dataframe thead th {\n        text-align: right;\n    }\n</style>\n<table border=\"1\" class=\"dataframe\">\n  <thead>\n    <tr style=\"text-align: right;\">\n      <th></th>\n      <th>Dataset_Name</th>\n      <th>Model_Name</th>\n      <th>F1_Score</th>\n      <th>Accuracy_Score</th>\n      <th>Model_Best_Params</th>\n    </tr>\n  </thead>\n  <tbody>\n    <tr>\n      <th>0</th>\n      <td>COMPAS_Without_Sensitive_Attributes</td>\n      <td>LogisticRegression</td>\n      <td>0.6785</td>\n      <td>0.6837</td>\n      <td>{'C': 1, 'max_iter': 50, 'penalty': 'l2', 'sol...</td>\n    </tr>\n    <tr>\n      <th>1</th>\n      <td>COMPAS_Without_Sensitive_Attributes</td>\n      <td>DecisionTreeClassifier</td>\n      <td>0.6952</td>\n      <td>0.6989</td>\n      <td>{'criterion': 'gini', 'max_depth': 20, 'max_fe...</td>\n    </tr>\n    <tr>\n      <th>2</th>\n      <td>COMPAS_Without_Sensitive_Attributes</td>\n      <td>RandomForestClassifier</td>\n      <td>0.6962</td>\n      <td>0.7008</td>\n      <td>{'max_depth': 4, 'max_features': 0.6, 'min_sam...</td>\n    </tr>\n    <tr>\n      <th>3</th>\n      <td>COMPAS_Without_Sensitive_Attributes</td>\n      <td>XGBClassifier</td>\n      <td>0.6971</td>\n      <td>0.7008</td>\n      <td>{'lambda': 100, 'learning_rate': 0.1, 'max_dep...</td>\n    </tr>\n    <tr>\n      <th>4</th>\n      <td>COMPAS_Without_Sensitive_Attributes</td>\n      <td>KNeighborsClassifier</td>\n      <td>0.7056</td>\n      <td>0.7112</td>\n      <td>{'metric': 'minkowski', 'n_neighbors': 25, 'we...</td>\n    </tr>\n    <tr>\n      <th>5</th>\n      <td>COMPAS_Without_Sensitive_Attributes</td>\n      <td>MLPClassifier</td>\n      <td>0.6834</td>\n      <td>0.6875</td>\n      <td>{'activation': 'relu', 'hidden_layer_sizes': (...</td>\n    </tr>\n  </tbody>\n</table>\n</div>"
     },
     "execution_count": 10,
     "metadata": {},
     "output_type": "execute_result"
    }
   ],
   "source": [
    "models_tuned_params_df = pd.read_csv(TUNED_PARAMS_FILE_PATH)\n",
    "models_tuned_params_df"
   ]
  },
  {
   "cell_type": "markdown",
   "id": "5c60057a",
   "metadata": {
    "pycharm": {
     "name": "#%% md\n"
    }
   },
   "source": [
    "## Load dataset"
   ]
  },
  {
   "cell_type": "code",
   "execution_count": 11,
   "id": "3e53fe9a",
   "metadata": {
    "pycharm": {
     "name": "#%%\n"
    }
   },
   "outputs": [
    {
     "data": {
      "text/plain": "   juv_fel_count  juv_misd_count  juv_other_count  priors_count  \\\n0            0.0       -2.340451              1.0    -15.010999   \n1            0.0        0.000000              0.0      0.000000   \n2            0.0        0.000000              0.0      0.000000   \n3            0.0        0.000000              0.0      6.000000   \n4            0.0        0.000000              0.0      7.513697   \n\n   age_cat_25 - 45  age_cat_Greater than 45  age_cat_Less than 25  \\\n0                1                        0                     0   \n1                1                        0                     0   \n2                0                        0                     1   \n3                1                        0                     0   \n4                1                        0                     0   \n\n   c_charge_degree_F  c_charge_degree_M  \n0                  0                  1  \n1                  1                  0  \n2                  1                  0  \n3                  0                  1  \n4                  1                  0  ",
      "text/html": "<div>\n<style scoped>\n    .dataframe tbody tr th:only-of-type {\n        vertical-align: middle;\n    }\n\n    .dataframe tbody tr th {\n        vertical-align: top;\n    }\n\n    .dataframe thead th {\n        text-align: right;\n    }\n</style>\n<table border=\"1\" class=\"dataframe\">\n  <thead>\n    <tr style=\"text-align: right;\">\n      <th></th>\n      <th>juv_fel_count</th>\n      <th>juv_misd_count</th>\n      <th>juv_other_count</th>\n      <th>priors_count</th>\n      <th>age_cat_25 - 45</th>\n      <th>age_cat_Greater than 45</th>\n      <th>age_cat_Less than 25</th>\n      <th>c_charge_degree_F</th>\n      <th>c_charge_degree_M</th>\n    </tr>\n  </thead>\n  <tbody>\n    <tr>\n      <th>0</th>\n      <td>0.0</td>\n      <td>-2.340451</td>\n      <td>1.0</td>\n      <td>-15.010999</td>\n      <td>1</td>\n      <td>0</td>\n      <td>0</td>\n      <td>0</td>\n      <td>1</td>\n    </tr>\n    <tr>\n      <th>1</th>\n      <td>0.0</td>\n      <td>0.000000</td>\n      <td>0.0</td>\n      <td>0.000000</td>\n      <td>1</td>\n      <td>0</td>\n      <td>0</td>\n      <td>1</td>\n      <td>0</td>\n    </tr>\n    <tr>\n      <th>2</th>\n      <td>0.0</td>\n      <td>0.000000</td>\n      <td>0.0</td>\n      <td>0.000000</td>\n      <td>0</td>\n      <td>0</td>\n      <td>1</td>\n      <td>1</td>\n      <td>0</td>\n    </tr>\n    <tr>\n      <th>3</th>\n      <td>0.0</td>\n      <td>0.000000</td>\n      <td>0.0</td>\n      <td>6.000000</td>\n      <td>1</td>\n      <td>0</td>\n      <td>0</td>\n      <td>0</td>\n      <td>1</td>\n    </tr>\n    <tr>\n      <th>4</th>\n      <td>0.0</td>\n      <td>0.000000</td>\n      <td>0.0</td>\n      <td>7.513697</td>\n      <td>1</td>\n      <td>0</td>\n      <td>0</td>\n      <td>1</td>\n      <td>0</td>\n    </tr>\n  </tbody>\n</table>\n</div>"
     },
     "execution_count": 11,
     "metadata": {},
     "output_type": "execute_result"
    }
   ],
   "source": [
    "dataset = CompasWithoutSensitiveAttrsDataset(dataset_path='data/COMPAS.csv')\n",
    "dataset.X_data.head()"
   ]
  },
  {
   "cell_type": "markdown",
   "id": "c3530f06",
   "metadata": {
    "pycharm": {
     "name": "#%% md\n"
    }
   },
   "source": [
    "## Run experiments"
   ]
  },
  {
   "cell_type": "code",
   "execution_count": 12,
   "id": "b4ae4aac",
   "metadata": {
    "pycharm": {
     "name": "#%%\n"
    }
   },
   "outputs": [],
   "source": [
    "def create_base_pipeline(dataset, sensitive_attributes, priv_values, model_seed):\n",
    "    base_pipeline = GenericPipeline(dataset, sensitive_attributes, priv_values)\n",
    "    _ = base_pipeline.create_train_test_split_without_sensitive_attrs(dataset, config.TEST_SET_FRACTION, seed=model_seed)\n",
    "\n",
    "    print('\\nProtected groups splits:')\n",
    "    for g in base_pipeline.test_groups.keys():\n",
    "        print(g, base_pipeline.test_groups[g].shape)\n",
    "\n",
    "    return base_pipeline\n",
    "\n",
    "\n",
    "def get_model_metrics(base_model, n_estimators, dataset, sensitive_attributes, priv_values, model_seed,\n",
    "                      dataset_name, base_model_name, exp_num=1):\n",
    "    base_pipeline = create_base_pipeline(dataset, sensitive_attributes, priv_values, model_seed)\n",
    "    print('\\n\\nX train and validation set: ')\n",
    "    display(base_pipeline.X_train_val.head(10))\n",
    "\n",
    "    # Compute variance metrics for subgroups\n",
    "    save_results = False\n",
    "    stability_fairness_analyzer = SubgroupsVarianceAnalyzer(ModelSetting.BATCH, n_estimators, base_model, base_model_name,\n",
    "                                                            base_pipeline.X_train_val, base_pipeline.y_train_val,\n",
    "                                                            base_pipeline.X_test, base_pipeline.y_test,\n",
    "                                                            base_pipeline.sensitive_attributes, base_pipeline.priv_values, base_pipeline.test_groups,\n",
    "                                                            base_pipeline.target, dataset_name)\n",
    "\n",
    "    y_preds, variance_metrics_df = stability_fairness_analyzer.compute_metrics(save_results=save_results,\n",
    "                                                                               result_filename=None,\n",
    "                                                                               save_dir_path=None,\n",
    "                                                                               make_plots=False)\n",
    "\n",
    "    # Compute bias metrics for subgroups\n",
    "    bias_analyzer = SubgroupsStatisticalBiasAnalyzer(base_pipeline.X_test, base_pipeline.y_test,\n",
    "                                                     base_pipeline.sensitive_attributes, base_pipeline.priv_values,\n",
    "                                                     base_pipeline.test_groups)\n",
    "    dtc_res = bias_analyzer.compute_subgroups_metrics(y_preds,\n",
    "                                                      save_results=False,\n",
    "                                                      result_filename=None,\n",
    "                                                      save_dir_path=None)\n",
    "    bias_metrics_df = pd.DataFrame(dtc_res)\n",
    "\n",
    "    # Save metrics\n",
    "    metrics_df = pd.concat([variance_metrics_df, bias_metrics_df])\n",
    "    result_filename = f'{EXPERIMENT_NAME}_Metrics_{dataset_name}_Experiment_{exp_num}_{base_model_name}'\n",
    "    save_dir_path = os.path.join('..', '..', 'results', 'hypothesis_space')\n",
    "    save_metrics_to_file(metrics_df, result_filename, save_dir_path)\n",
    "\n",
    "    return metrics_df\n"
   ]
  },
  {
   "cell_type": "code",
   "execution_count": 13,
   "id": "11f80246",
   "metadata": {
    "pycharm": {
     "name": "#%%\n"
    }
   },
   "outputs": [],
   "source": [
    "def run_experiment(dataset, exp_num: int, model_seed: int):\n",
    "    \"\"\"\n",
    "    Find variance and bias metrics for each model in config.MODELS_CONFIG.\n",
    "    Save results in results/config.MODELS_CONFIG folder.\n",
    "\n",
    "    :param exp_num: the number of experiment; is used to name the result file with metrics\n",
    "    \"\"\"\n",
    "    for model_idx in tqdm(range(len(config.MODELS_CONFIG))):\n",
    "        print('#' * 30, f' [Experiment {exp_num}] Analyze {config.MODELS_CONFIG[model_idx][\"model_name\"]} ', '#' * 30)\n",
    "        model_seed += 1\n",
    "        try:\n",
    "            base_model = create_tuned_base_model(config.MODELS_CONFIG[model_idx]['model'],\n",
    "                                                 config.MODELS_CONFIG[model_idx]['model_name'],\n",
    "                                                 models_tuned_params_df)\n",
    "            results_df = get_model_metrics(base_model, N_ESTIMATORS, dataset, SENSITIVE_ATTRIBUTES, PRIV_VALUES,\n",
    "                                           model_seed=model_seed,\n",
    "                                           dataset_name=DATASET_NAME,\n",
    "                                           base_model_name=config.MODELS_CONFIG[model_idx]['model_name'],\n",
    "                                           exp_num=exp_num)\n",
    "            print(f'\\n[Experiment {exp_num}] Metrics confusion matrix:')\n",
    "            display(results_df)\n",
    "        except Exception as err:\n",
    "            print(f'ERROR with {config.MODELS_CONFIG[model_idx][\"model_name\"]}: ', err)\n",
    "\n",
    "        print('\\n\\n\\n')"
   ]
  },
  {
   "cell_type": "markdown",
   "id": "c8a7835e",
   "metadata": {
    "pycharm": {
     "name": "#%% md\n"
    }
   },
   "source": [
    "### Experiment 1"
   ]
  },
  {
   "cell_type": "code",
   "execution_count": 14,
   "id": "2528579c",
   "metadata": {
    "pycharm": {
     "name": "#%%\n"
    }
   },
   "outputs": [
    {
     "name": "stderr",
     "output_type": "stream",
     "text": [
      "  0%|          | 0/1 [00:00<?, ?it/s]"
     ]
    },
    {
     "name": "stdout",
     "output_type": "stream",
     "text": [
      "##############################  [Experiment 1] Analyze DecisionTreeClassifier  ##############################\n",
      "Baseline X_train shape:  (4222, 9)\n",
      "Baseline X_test shape:  (1056, 9)\n",
      "\n",
      "Protected groups splits:\n",
      "sex_race_priv (88, 11)\n",
      "sex_race_dis (518, 11)\n",
      "sex_priv (199, 11)\n",
      "sex_dis (857, 11)\n",
      "race_priv (427, 11)\n",
      "race_dis (629, 11)\n",
      "\n",
      "\n",
      "X train and validation set: \n"
     ]
    },
    {
     "data": {
      "text/plain": "      age_cat_25 - 45_0  c_charge_degree_M_1  juv_other_count  \\\n470                   0                    0        -0.148179   \n1328                  0                    0        -0.148179   \n3551                  0                    1        -0.148179   \n1628                  0                    1        -0.148179   \n4138                  0                    0         1.111816   \n5030                  0                    0        -0.148179   \n4510                  0                    1        -0.148179   \n1676                  1                    0        -0.148179   \n5047                  0                    1        -0.148179   \n1554                  1                    1        -0.148179   \n\n      age_cat_Less than 25_0  c_charge_degree_F_0  c_charge_degree_F_1  \\\n470                        1                    0                    1   \n1328                       1                    0                    1   \n3551                       1                    1                    0   \n1628                       1                    1                    0   \n4138                       1                    0                    1   \n5030                       1                    0                    1   \n4510                       1                    1                    0   \n1676                       0                    0                    1   \n5047                       1                    1                    0   \n1554                       1                    1                    0   \n\n      age_cat_Less than 25_1  age_cat_25 - 45_1  juv_fel_count  \\\n470                        0                  1      -0.098697   \n1328                       0                  1      -0.098697   \n3551                       0                  1      -0.098697   \n1628                       0                  1      -0.098697   \n4138                       0                  1      -0.098697   \n5030                       0                  1      -0.098697   \n4510                       0                  1      -0.098697   \n1676                       1                  0      -0.098697   \n5047                       0                  1      -0.098697   \n1554                       0                  0      -0.098697   \n\n      juv_misd_count  priors_count  c_charge_degree_M_0  \\\n470        -0.127240      0.106154                    1   \n1328        0.348324      2.409132                    1   \n3551       -0.127240      0.620185                    0   \n1628       -0.127240     -0.085761                    0   \n4138       -0.127240     -0.280851                    1   \n5030       -0.127240      0.693041                    1   \n4510       -0.127240     -0.085761                    0   \n1676       -0.127240     -0.661506                    1   \n5047       -0.127240     -0.469591                    0   \n1554       -0.127240     -0.668317                    0   \n\n      age_cat_Greater than 45_0  age_cat_Greater than 45_1  \n470                           1                          0  \n1328                          1                          0  \n3551                          1                          0  \n1628                          1                          0  \n4138                          1                          0  \n5030                          1                          0  \n4510                          1                          0  \n1676                          1                          0  \n5047                          1                          0  \n1554                          0                          1  ",
      "text/html": "<div>\n<style scoped>\n    .dataframe tbody tr th:only-of-type {\n        vertical-align: middle;\n    }\n\n    .dataframe tbody tr th {\n        vertical-align: top;\n    }\n\n    .dataframe thead th {\n        text-align: right;\n    }\n</style>\n<table border=\"1\" class=\"dataframe\">\n  <thead>\n    <tr style=\"text-align: right;\">\n      <th></th>\n      <th>age_cat_25 - 45_0</th>\n      <th>c_charge_degree_M_1</th>\n      <th>juv_other_count</th>\n      <th>age_cat_Less than 25_0</th>\n      <th>c_charge_degree_F_0</th>\n      <th>c_charge_degree_F_1</th>\n      <th>age_cat_Less than 25_1</th>\n      <th>age_cat_25 - 45_1</th>\n      <th>juv_fel_count</th>\n      <th>juv_misd_count</th>\n      <th>priors_count</th>\n      <th>c_charge_degree_M_0</th>\n      <th>age_cat_Greater than 45_0</th>\n      <th>age_cat_Greater than 45_1</th>\n    </tr>\n  </thead>\n  <tbody>\n    <tr>\n      <th>470</th>\n      <td>0</td>\n      <td>0</td>\n      <td>-0.148179</td>\n      <td>1</td>\n      <td>0</td>\n      <td>1</td>\n      <td>0</td>\n      <td>1</td>\n      <td>-0.098697</td>\n      <td>-0.127240</td>\n      <td>0.106154</td>\n      <td>1</td>\n      <td>1</td>\n      <td>0</td>\n    </tr>\n    <tr>\n      <th>1328</th>\n      <td>0</td>\n      <td>0</td>\n      <td>-0.148179</td>\n      <td>1</td>\n      <td>0</td>\n      <td>1</td>\n      <td>0</td>\n      <td>1</td>\n      <td>-0.098697</td>\n      <td>0.348324</td>\n      <td>2.409132</td>\n      <td>1</td>\n      <td>1</td>\n      <td>0</td>\n    </tr>\n    <tr>\n      <th>3551</th>\n      <td>0</td>\n      <td>1</td>\n      <td>-0.148179</td>\n      <td>1</td>\n      <td>1</td>\n      <td>0</td>\n      <td>0</td>\n      <td>1</td>\n      <td>-0.098697</td>\n      <td>-0.127240</td>\n      <td>0.620185</td>\n      <td>0</td>\n      <td>1</td>\n      <td>0</td>\n    </tr>\n    <tr>\n      <th>1628</th>\n      <td>0</td>\n      <td>1</td>\n      <td>-0.148179</td>\n      <td>1</td>\n      <td>1</td>\n      <td>0</td>\n      <td>0</td>\n      <td>1</td>\n      <td>-0.098697</td>\n      <td>-0.127240</td>\n      <td>-0.085761</td>\n      <td>0</td>\n      <td>1</td>\n      <td>0</td>\n    </tr>\n    <tr>\n      <th>4138</th>\n      <td>0</td>\n      <td>0</td>\n      <td>1.111816</td>\n      <td>1</td>\n      <td>0</td>\n      <td>1</td>\n      <td>0</td>\n      <td>1</td>\n      <td>-0.098697</td>\n      <td>-0.127240</td>\n      <td>-0.280851</td>\n      <td>1</td>\n      <td>1</td>\n      <td>0</td>\n    </tr>\n    <tr>\n      <th>5030</th>\n      <td>0</td>\n      <td>0</td>\n      <td>-0.148179</td>\n      <td>1</td>\n      <td>0</td>\n      <td>1</td>\n      <td>0</td>\n      <td>1</td>\n      <td>-0.098697</td>\n      <td>-0.127240</td>\n      <td>0.693041</td>\n      <td>1</td>\n      <td>1</td>\n      <td>0</td>\n    </tr>\n    <tr>\n      <th>4510</th>\n      <td>0</td>\n      <td>1</td>\n      <td>-0.148179</td>\n      <td>1</td>\n      <td>1</td>\n      <td>0</td>\n      <td>0</td>\n      <td>1</td>\n      <td>-0.098697</td>\n      <td>-0.127240</td>\n      <td>-0.085761</td>\n      <td>0</td>\n      <td>1</td>\n      <td>0</td>\n    </tr>\n    <tr>\n      <th>1676</th>\n      <td>1</td>\n      <td>0</td>\n      <td>-0.148179</td>\n      <td>0</td>\n      <td>0</td>\n      <td>1</td>\n      <td>1</td>\n      <td>0</td>\n      <td>-0.098697</td>\n      <td>-0.127240</td>\n      <td>-0.661506</td>\n      <td>1</td>\n      <td>1</td>\n      <td>0</td>\n    </tr>\n    <tr>\n      <th>5047</th>\n      <td>0</td>\n      <td>1</td>\n      <td>-0.148179</td>\n      <td>1</td>\n      <td>1</td>\n      <td>0</td>\n      <td>0</td>\n      <td>1</td>\n      <td>-0.098697</td>\n      <td>-0.127240</td>\n      <td>-0.469591</td>\n      <td>0</td>\n      <td>1</td>\n      <td>0</td>\n    </tr>\n    <tr>\n      <th>1554</th>\n      <td>1</td>\n      <td>1</td>\n      <td>-0.148179</td>\n      <td>1</td>\n      <td>1</td>\n      <td>0</td>\n      <td>0</td>\n      <td>0</td>\n      <td>-0.098697</td>\n      <td>-0.127240</td>\n      <td>-0.668317</td>\n      <td>0</td>\n      <td>0</td>\n      <td>1</td>\n    </tr>\n  </tbody>\n</table>\n</div>"
     },
     "metadata": {},
     "output_type": "display_data"
    },
    {
     "name": "stderr",
     "output_type": "stream",
     "text": [
      "2023-01-21 22:32:33 abstract_overall_variance_analyzer.py INFO    : Start testing of classifier 1 / 200\n",
      "2023-01-21 22:32:33 abstract_overall_variance_analyzer.py INFO    : Classifier 1 / 200 was tested\n",
      "2023-01-21 22:32:33 abstract_overall_variance_analyzer.py INFO    : Start testing of classifier 2 / 200\n",
      "2023-01-21 22:32:33 abstract_overall_variance_analyzer.py INFO    : Classifier 2 / 200 was tested\n",
      "2023-01-21 22:32:33 abstract_overall_variance_analyzer.py INFO    : Start testing of classifier 3 / 200\n",
      "2023-01-21 22:32:33 abstract_overall_variance_analyzer.py INFO    : Classifier 3 / 200 was tested\n",
      "2023-01-21 22:32:33 abstract_overall_variance_analyzer.py INFO    : Start testing of classifier 4 / 200\n",
      "2023-01-21 22:32:33 abstract_overall_variance_analyzer.py INFO    : Classifier 4 / 200 was tested\n",
      "2023-01-21 22:32:33 abstract_overall_variance_analyzer.py INFO    : Start testing of classifier 5 / 200\n",
      "2023-01-21 22:32:33 abstract_overall_variance_analyzer.py INFO    : Classifier 5 / 200 was tested\n",
      "2023-01-21 22:32:33 abstract_overall_variance_analyzer.py INFO    : Start testing of classifier 6 / 200\n",
      "2023-01-21 22:32:33 abstract_overall_variance_analyzer.py INFO    : Classifier 6 / 200 was tested\n",
      "2023-01-21 22:32:33 abstract_overall_variance_analyzer.py INFO    : Start testing of classifier 7 / 200\n",
      "2023-01-21 22:32:33 abstract_overall_variance_analyzer.py INFO    : Classifier 7 / 200 was tested\n",
      "2023-01-21 22:32:33 abstract_overall_variance_analyzer.py INFO    : Start testing of classifier 8 / 200\n",
      "2023-01-21 22:32:33 abstract_overall_variance_analyzer.py INFO    : Classifier 8 / 200 was tested\n",
      "2023-01-21 22:32:33 abstract_overall_variance_analyzer.py INFO    : Start testing of classifier 9 / 200\n",
      "2023-01-21 22:32:33 abstract_overall_variance_analyzer.py INFO    : Classifier 9 / 200 was tested\n",
      "2023-01-21 22:32:33 abstract_overall_variance_analyzer.py INFO    : Start testing of classifier 10 / 200\n",
      "2023-01-21 22:32:33 abstract_overall_variance_analyzer.py INFO    : Classifier 10 / 200 was tested\n",
      "2023-01-21 22:32:33 abstract_overall_variance_analyzer.py INFO    : Start testing of classifier 11 / 200\n",
      "2023-01-21 22:32:33 abstract_overall_variance_analyzer.py INFO    : Classifier 11 / 200 was tested\n",
      "2023-01-21 22:32:33 abstract_overall_variance_analyzer.py INFO    : Start testing of classifier 12 / 200\n",
      "2023-01-21 22:32:33 abstract_overall_variance_analyzer.py INFO    : Classifier 12 / 200 was tested\n",
      "2023-01-21 22:32:33 abstract_overall_variance_analyzer.py INFO    : Start testing of classifier 13 / 200\n",
      "2023-01-21 22:32:33 abstract_overall_variance_analyzer.py INFO    : Classifier 13 / 200 was tested\n",
      "2023-01-21 22:32:33 abstract_overall_variance_analyzer.py INFO    : Start testing of classifier 14 / 200\n",
      "2023-01-21 22:32:33 abstract_overall_variance_analyzer.py INFO    : Classifier 14 / 200 was tested\n",
      "2023-01-21 22:32:33 abstract_overall_variance_analyzer.py INFO    : Start testing of classifier 15 / 200\n",
      "2023-01-21 22:32:33 abstract_overall_variance_analyzer.py INFO    : Classifier 15 / 200 was tested\n",
      "2023-01-21 22:32:33 abstract_overall_variance_analyzer.py INFO    : Start testing of classifier 16 / 200\n",
      "2023-01-21 22:32:33 abstract_overall_variance_analyzer.py INFO    : Classifier 16 / 200 was tested\n",
      "2023-01-21 22:32:33 abstract_overall_variance_analyzer.py INFO    : Start testing of classifier 17 / 200\n",
      "2023-01-21 22:32:33 abstract_overall_variance_analyzer.py INFO    : Classifier 17 / 200 was tested\n",
      "2023-01-21 22:32:33 abstract_overall_variance_analyzer.py INFO    : Start testing of classifier 18 / 200\n",
      "2023-01-21 22:32:33 abstract_overall_variance_analyzer.py INFO    : Classifier 18 / 200 was tested\n",
      "2023-01-21 22:32:33 abstract_overall_variance_analyzer.py INFO    : Start testing of classifier 19 / 200\n",
      "2023-01-21 22:32:33 abstract_overall_variance_analyzer.py INFO    : Classifier 19 / 200 was tested\n",
      "2023-01-21 22:32:33 abstract_overall_variance_analyzer.py INFO    : Start testing of classifier 20 / 200\n",
      "2023-01-21 22:32:33 abstract_overall_variance_analyzer.py INFO    : Classifier 20 / 200 was tested\n",
      "2023-01-21 22:32:33 abstract_overall_variance_analyzer.py INFO    : Start testing of classifier 21 / 200\n",
      "2023-01-21 22:32:33 abstract_overall_variance_analyzer.py INFO    : Classifier 21 / 200 was tested\n",
      "2023-01-21 22:32:33 abstract_overall_variance_analyzer.py INFO    : Start testing of classifier 22 / 200\n",
      "2023-01-21 22:32:33 abstract_overall_variance_analyzer.py INFO    : Classifier 22 / 200 was tested\n",
      "2023-01-21 22:32:33 abstract_overall_variance_analyzer.py INFO    : Start testing of classifier 23 / 200\n",
      "2023-01-21 22:32:33 abstract_overall_variance_analyzer.py INFO    : Classifier 23 / 200 was tested\n",
      "2023-01-21 22:32:33 abstract_overall_variance_analyzer.py INFO    : Start testing of classifier 24 / 200\n",
      "2023-01-21 22:32:33 abstract_overall_variance_analyzer.py INFO    : Classifier 24 / 200 was tested\n",
      "2023-01-21 22:32:33 abstract_overall_variance_analyzer.py INFO    : Start testing of classifier 25 / 200\n",
      "2023-01-21 22:32:33 abstract_overall_variance_analyzer.py INFO    : Classifier 25 / 200 was tested\n",
      "2023-01-21 22:32:33 abstract_overall_variance_analyzer.py INFO    : Start testing of classifier 26 / 200\n",
      "2023-01-21 22:32:33 abstract_overall_variance_analyzer.py INFO    : Classifier 26 / 200 was tested\n",
      "2023-01-21 22:32:33 abstract_overall_variance_analyzer.py INFO    : Start testing of classifier 27 / 200\n",
      "2023-01-21 22:32:33 abstract_overall_variance_analyzer.py INFO    : Classifier 27 / 200 was tested\n",
      "2023-01-21 22:32:33 abstract_overall_variance_analyzer.py INFO    : Start testing of classifier 28 / 200\n",
      "2023-01-21 22:32:33 abstract_overall_variance_analyzer.py INFO    : Classifier 28 / 200 was tested\n",
      "2023-01-21 22:32:33 abstract_overall_variance_analyzer.py INFO    : Start testing of classifier 29 / 200\n",
      "2023-01-21 22:32:33 abstract_overall_variance_analyzer.py INFO    : Classifier 29 / 200 was tested\n",
      "2023-01-21 22:32:33 abstract_overall_variance_analyzer.py INFO    : Start testing of classifier 30 / 200\n",
      "2023-01-21 22:32:33 abstract_overall_variance_analyzer.py INFO    : Classifier 30 / 200 was tested\n",
      "2023-01-21 22:32:33 abstract_overall_variance_analyzer.py INFO    : Start testing of classifier 31 / 200\n",
      "2023-01-21 22:32:33 abstract_overall_variance_analyzer.py INFO    : Classifier 31 / 200 was tested\n",
      "2023-01-21 22:32:33 abstract_overall_variance_analyzer.py INFO    : Start testing of classifier 32 / 200\n",
      "2023-01-21 22:32:33 abstract_overall_variance_analyzer.py INFO    : Classifier 32 / 200 was tested\n",
      "2023-01-21 22:32:33 abstract_overall_variance_analyzer.py INFO    : Start testing of classifier 33 / 200\n",
      "2023-01-21 22:32:33 abstract_overall_variance_analyzer.py INFO    : Classifier 33 / 200 was tested\n",
      "2023-01-21 22:32:33 abstract_overall_variance_analyzer.py INFO    : Start testing of classifier 34 / 200\n",
      "2023-01-21 22:32:33 abstract_overall_variance_analyzer.py INFO    : Classifier 34 / 200 was tested\n",
      "2023-01-21 22:32:33 abstract_overall_variance_analyzer.py INFO    : Start testing of classifier 35 / 200\n",
      "2023-01-21 22:32:33 abstract_overall_variance_analyzer.py INFO    : Classifier 35 / 200 was tested\n",
      "2023-01-21 22:32:33 abstract_overall_variance_analyzer.py INFO    : Start testing of classifier 36 / 200\n",
      "2023-01-21 22:32:33 abstract_overall_variance_analyzer.py INFO    : Classifier 36 / 200 was tested\n",
      "2023-01-21 22:32:33 abstract_overall_variance_analyzer.py INFO    : Start testing of classifier 37 / 200\n",
      "2023-01-21 22:32:33 abstract_overall_variance_analyzer.py INFO    : Classifier 37 / 200 was tested\n",
      "2023-01-21 22:32:33 abstract_overall_variance_analyzer.py INFO    : Start testing of classifier 38 / 200\n",
      "2023-01-21 22:32:33 abstract_overall_variance_analyzer.py INFO    : Classifier 38 / 200 was tested\n",
      "2023-01-21 22:32:33 abstract_overall_variance_analyzer.py INFO    : Start testing of classifier 39 / 200\n",
      "2023-01-21 22:32:33 abstract_overall_variance_analyzer.py INFO    : Classifier 39 / 200 was tested\n",
      "2023-01-21 22:32:33 abstract_overall_variance_analyzer.py INFO    : Start testing of classifier 40 / 200\n",
      "2023-01-21 22:32:33 abstract_overall_variance_analyzer.py INFO    : Classifier 40 / 200 was tested\n",
      "2023-01-21 22:32:33 abstract_overall_variance_analyzer.py INFO    : Start testing of classifier 41 / 200\n",
      "2023-01-21 22:32:33 abstract_overall_variance_analyzer.py INFO    : Classifier 41 / 200 was tested\n",
      "2023-01-21 22:32:33 abstract_overall_variance_analyzer.py INFO    : Start testing of classifier 42 / 200\n",
      "2023-01-21 22:32:33 abstract_overall_variance_analyzer.py INFO    : Classifier 42 / 200 was tested\n",
      "2023-01-21 22:32:33 abstract_overall_variance_analyzer.py INFO    : Start testing of classifier 43 / 200\n",
      "2023-01-21 22:32:33 abstract_overall_variance_analyzer.py INFO    : Classifier 43 / 200 was tested\n",
      "2023-01-21 22:32:33 abstract_overall_variance_analyzer.py INFO    : Start testing of classifier 44 / 200\n",
      "2023-01-21 22:32:33 abstract_overall_variance_analyzer.py INFO    : Classifier 44 / 200 was tested\n",
      "2023-01-21 22:32:33 abstract_overall_variance_analyzer.py INFO    : Start testing of classifier 45 / 200\n",
      "2023-01-21 22:32:33 abstract_overall_variance_analyzer.py INFO    : Classifier 45 / 200 was tested\n",
      "2023-01-21 22:32:33 abstract_overall_variance_analyzer.py INFO    : Start testing of classifier 46 / 200\n",
      "2023-01-21 22:32:33 abstract_overall_variance_analyzer.py INFO    : Classifier 46 / 200 was tested\n",
      "2023-01-21 22:32:33 abstract_overall_variance_analyzer.py INFO    : Start testing of classifier 47 / 200\n",
      "2023-01-21 22:32:33 abstract_overall_variance_analyzer.py INFO    : Classifier 47 / 200 was tested\n",
      "2023-01-21 22:32:33 abstract_overall_variance_analyzer.py INFO    : Start testing of classifier 48 / 200\n",
      "2023-01-21 22:32:33 abstract_overall_variance_analyzer.py INFO    : Classifier 48 / 200 was tested\n",
      "2023-01-21 22:32:33 abstract_overall_variance_analyzer.py INFO    : Start testing of classifier 49 / 200\n",
      "2023-01-21 22:32:33 abstract_overall_variance_analyzer.py INFO    : Classifier 49 / 200 was tested\n",
      "2023-01-21 22:32:33 abstract_overall_variance_analyzer.py INFO    : Start testing of classifier 50 / 200\n",
      "2023-01-21 22:32:33 abstract_overall_variance_analyzer.py INFO    : Classifier 50 / 200 was tested\n",
      "2023-01-21 22:32:33 abstract_overall_variance_analyzer.py INFO    : Start testing of classifier 51 / 200\n",
      "2023-01-21 22:32:33 abstract_overall_variance_analyzer.py INFO    : Classifier 51 / 200 was tested\n",
      "2023-01-21 22:32:33 abstract_overall_variance_analyzer.py INFO    : Start testing of classifier 52 / 200\n",
      "2023-01-21 22:32:33 abstract_overall_variance_analyzer.py INFO    : Classifier 52 / 200 was tested\n",
      "2023-01-21 22:32:33 abstract_overall_variance_analyzer.py INFO    : Start testing of classifier 53 / 200\n",
      "2023-01-21 22:32:33 abstract_overall_variance_analyzer.py INFO    : Classifier 53 / 200 was tested\n",
      "2023-01-21 22:32:33 abstract_overall_variance_analyzer.py INFO    : Start testing of classifier 54 / 200\n",
      "2023-01-21 22:32:33 abstract_overall_variance_analyzer.py INFO    : Classifier 54 / 200 was tested\n",
      "2023-01-21 22:32:33 abstract_overall_variance_analyzer.py INFO    : Start testing of classifier 55 / 200\n",
      "2023-01-21 22:32:33 abstract_overall_variance_analyzer.py INFO    : Classifier 55 / 200 was tested\n",
      "2023-01-21 22:32:33 abstract_overall_variance_analyzer.py INFO    : Start testing of classifier 56 / 200\n",
      "2023-01-21 22:32:33 abstract_overall_variance_analyzer.py INFO    : Classifier 56 / 200 was tested\n",
      "2023-01-21 22:32:33 abstract_overall_variance_analyzer.py INFO    : Start testing of classifier 57 / 200\n",
      "2023-01-21 22:32:33 abstract_overall_variance_analyzer.py INFO    : Classifier 57 / 200 was tested\n",
      "2023-01-21 22:32:33 abstract_overall_variance_analyzer.py INFO    : Start testing of classifier 58 / 200\n",
      "2023-01-21 22:32:33 abstract_overall_variance_analyzer.py INFO    : Classifier 58 / 200 was tested\n",
      "2023-01-21 22:32:33 abstract_overall_variance_analyzer.py INFO    : Start testing of classifier 59 / 200\n",
      "2023-01-21 22:32:33 abstract_overall_variance_analyzer.py INFO    : Classifier 59 / 200 was tested\n",
      "2023-01-21 22:32:33 abstract_overall_variance_analyzer.py INFO    : Start testing of classifier 60 / 200\n",
      "2023-01-21 22:32:33 abstract_overall_variance_analyzer.py INFO    : Classifier 60 / 200 was tested\n",
      "2023-01-21 22:32:33 abstract_overall_variance_analyzer.py INFO    : Start testing of classifier 61 / 200\n",
      "2023-01-21 22:32:33 abstract_overall_variance_analyzer.py INFO    : Classifier 61 / 200 was tested\n",
      "2023-01-21 22:32:33 abstract_overall_variance_analyzer.py INFO    : Start testing of classifier 62 / 200\n",
      "2023-01-21 22:32:33 abstract_overall_variance_analyzer.py INFO    : Classifier 62 / 200 was tested\n",
      "2023-01-21 22:32:33 abstract_overall_variance_analyzer.py INFO    : Start testing of classifier 63 / 200\n",
      "2023-01-21 22:32:33 abstract_overall_variance_analyzer.py INFO    : Classifier 63 / 200 was tested\n",
      "2023-01-21 22:32:33 abstract_overall_variance_analyzer.py INFO    : Start testing of classifier 64 / 200\n",
      "2023-01-21 22:32:33 abstract_overall_variance_analyzer.py INFO    : Classifier 64 / 200 was tested\n",
      "2023-01-21 22:32:33 abstract_overall_variance_analyzer.py INFO    : Start testing of classifier 65 / 200\n",
      "2023-01-21 22:32:33 abstract_overall_variance_analyzer.py INFO    : Classifier 65 / 200 was tested\n",
      "2023-01-21 22:32:33 abstract_overall_variance_analyzer.py INFO    : Start testing of classifier 66 / 200\n",
      "2023-01-21 22:32:33 abstract_overall_variance_analyzer.py INFO    : Classifier 66 / 200 was tested\n",
      "2023-01-21 22:32:33 abstract_overall_variance_analyzer.py INFO    : Start testing of classifier 67 / 200\n",
      "2023-01-21 22:32:33 abstract_overall_variance_analyzer.py INFO    : Classifier 67 / 200 was tested\n",
      "2023-01-21 22:32:33 abstract_overall_variance_analyzer.py INFO    : Start testing of classifier 68 / 200\n",
      "2023-01-21 22:32:33 abstract_overall_variance_analyzer.py INFO    : Classifier 68 / 200 was tested\n",
      "2023-01-21 22:32:33 abstract_overall_variance_analyzer.py INFO    : Start testing of classifier 69 / 200\n",
      "2023-01-21 22:32:33 abstract_overall_variance_analyzer.py INFO    : Classifier 69 / 200 was tested\n",
      "2023-01-21 22:32:33 abstract_overall_variance_analyzer.py INFO    : Start testing of classifier 70 / 200\n",
      "2023-01-21 22:32:33 abstract_overall_variance_analyzer.py INFO    : Classifier 70 / 200 was tested\n",
      "2023-01-21 22:32:33 abstract_overall_variance_analyzer.py INFO    : Start testing of classifier 71 / 200\n",
      "2023-01-21 22:32:33 abstract_overall_variance_analyzer.py INFO    : Classifier 71 / 200 was tested\n",
      "2023-01-21 22:32:33 abstract_overall_variance_analyzer.py INFO    : Start testing of classifier 72 / 200\n",
      "2023-01-21 22:32:33 abstract_overall_variance_analyzer.py INFO    : Classifier 72 / 200 was tested\n",
      "2023-01-21 22:32:33 abstract_overall_variance_analyzer.py INFO    : Start testing of classifier 73 / 200\n",
      "2023-01-21 22:32:33 abstract_overall_variance_analyzer.py INFO    : Classifier 73 / 200 was tested\n",
      "2023-01-21 22:32:33 abstract_overall_variance_analyzer.py INFO    : Start testing of classifier 74 / 200\n",
      "2023-01-21 22:32:33 abstract_overall_variance_analyzer.py INFO    : Classifier 74 / 200 was tested\n",
      "2023-01-21 22:32:33 abstract_overall_variance_analyzer.py INFO    : Start testing of classifier 75 / 200\n",
      "2023-01-21 22:32:33 abstract_overall_variance_analyzer.py INFO    : Classifier 75 / 200 was tested\n",
      "2023-01-21 22:32:33 abstract_overall_variance_analyzer.py INFO    : Start testing of classifier 76 / 200\n",
      "2023-01-21 22:32:33 abstract_overall_variance_analyzer.py INFO    : Classifier 76 / 200 was tested\n",
      "2023-01-21 22:32:33 abstract_overall_variance_analyzer.py INFO    : Start testing of classifier 77 / 200\n",
      "2023-01-21 22:32:33 abstract_overall_variance_analyzer.py INFO    : Classifier 77 / 200 was tested\n",
      "2023-01-21 22:32:33 abstract_overall_variance_analyzer.py INFO    : Start testing of classifier 78 / 200\n",
      "2023-01-21 22:32:33 abstract_overall_variance_analyzer.py INFO    : Classifier 78 / 200 was tested\n",
      "2023-01-21 22:32:33 abstract_overall_variance_analyzer.py INFO    : Start testing of classifier 79 / 200\n",
      "2023-01-21 22:32:33 abstract_overall_variance_analyzer.py INFO    : Classifier 79 / 200 was tested\n",
      "2023-01-21 22:32:33 abstract_overall_variance_analyzer.py INFO    : Start testing of classifier 80 / 200\n",
      "2023-01-21 22:32:33 abstract_overall_variance_analyzer.py INFO    : Classifier 80 / 200 was tested\n",
      "2023-01-21 22:32:33 abstract_overall_variance_analyzer.py INFO    : Start testing of classifier 81 / 200\n",
      "2023-01-21 22:32:33 abstract_overall_variance_analyzer.py INFO    : Classifier 81 / 200 was tested\n",
      "2023-01-21 22:32:33 abstract_overall_variance_analyzer.py INFO    : Start testing of classifier 82 / 200\n",
      "2023-01-21 22:32:33 abstract_overall_variance_analyzer.py INFO    : Classifier 82 / 200 was tested\n",
      "2023-01-21 22:32:33 abstract_overall_variance_analyzer.py INFO    : Start testing of classifier 83 / 200\n",
      "2023-01-21 22:32:33 abstract_overall_variance_analyzer.py INFO    : Classifier 83 / 200 was tested\n",
      "2023-01-21 22:32:33 abstract_overall_variance_analyzer.py INFO    : Start testing of classifier 84 / 200\n",
      "2023-01-21 22:32:33 abstract_overall_variance_analyzer.py INFO    : Classifier 84 / 200 was tested\n",
      "2023-01-21 22:32:33 abstract_overall_variance_analyzer.py INFO    : Start testing of classifier 85 / 200\n",
      "2023-01-21 22:32:33 abstract_overall_variance_analyzer.py INFO    : Classifier 85 / 200 was tested\n",
      "2023-01-21 22:32:33 abstract_overall_variance_analyzer.py INFO    : Start testing of classifier 86 / 200\n",
      "2023-01-21 22:32:33 abstract_overall_variance_analyzer.py INFO    : Classifier 86 / 200 was tested\n",
      "2023-01-21 22:32:33 abstract_overall_variance_analyzer.py INFO    : Start testing of classifier 87 / 200\n",
      "2023-01-21 22:32:33 abstract_overall_variance_analyzer.py INFO    : Classifier 87 / 200 was tested\n",
      "2023-01-21 22:32:33 abstract_overall_variance_analyzer.py INFO    : Start testing of classifier 88 / 200\n",
      "2023-01-21 22:32:33 abstract_overall_variance_analyzer.py INFO    : Classifier 88 / 200 was tested\n",
      "2023-01-21 22:32:33 abstract_overall_variance_analyzer.py INFO    : Start testing of classifier 89 / 200\n",
      "2023-01-21 22:32:33 abstract_overall_variance_analyzer.py INFO    : Classifier 89 / 200 was tested\n",
      "2023-01-21 22:32:33 abstract_overall_variance_analyzer.py INFO    : Start testing of classifier 90 / 200\n",
      "2023-01-21 22:32:33 abstract_overall_variance_analyzer.py INFO    : Classifier 90 / 200 was tested\n",
      "2023-01-21 22:32:33 abstract_overall_variance_analyzer.py INFO    : Start testing of classifier 91 / 200\n",
      "2023-01-21 22:32:34 abstract_overall_variance_analyzer.py INFO    : Classifier 91 / 200 was tested\n",
      "2023-01-21 22:32:34 abstract_overall_variance_analyzer.py INFO    : Start testing of classifier 92 / 200\n",
      "2023-01-21 22:32:34 abstract_overall_variance_analyzer.py INFO    : Classifier 92 / 200 was tested\n",
      "2023-01-21 22:32:34 abstract_overall_variance_analyzer.py INFO    : Start testing of classifier 93 / 200\n",
      "2023-01-21 22:32:34 abstract_overall_variance_analyzer.py INFO    : Classifier 93 / 200 was tested\n",
      "2023-01-21 22:32:34 abstract_overall_variance_analyzer.py INFO    : Start testing of classifier 94 / 200\n",
      "2023-01-21 22:32:34 abstract_overall_variance_analyzer.py INFO    : Classifier 94 / 200 was tested\n",
      "2023-01-21 22:32:34 abstract_overall_variance_analyzer.py INFO    : Start testing of classifier 95 / 200\n",
      "2023-01-21 22:32:34 abstract_overall_variance_analyzer.py INFO    : Classifier 95 / 200 was tested\n",
      "2023-01-21 22:32:34 abstract_overall_variance_analyzer.py INFO    : Start testing of classifier 96 / 200\n",
      "2023-01-21 22:32:34 abstract_overall_variance_analyzer.py INFO    : Classifier 96 / 200 was tested\n",
      "2023-01-21 22:32:34 abstract_overall_variance_analyzer.py INFO    : Start testing of classifier 97 / 200\n",
      "2023-01-21 22:32:34 abstract_overall_variance_analyzer.py INFO    : Classifier 97 / 200 was tested\n",
      "2023-01-21 22:32:34 abstract_overall_variance_analyzer.py INFO    : Start testing of classifier 98 / 200\n",
      "2023-01-21 22:32:34 abstract_overall_variance_analyzer.py INFO    : Classifier 98 / 200 was tested\n",
      "2023-01-21 22:32:34 abstract_overall_variance_analyzer.py INFO    : Start testing of classifier 99 / 200\n",
      "2023-01-21 22:32:34 abstract_overall_variance_analyzer.py INFO    : Classifier 99 / 200 was tested\n",
      "2023-01-21 22:32:34 abstract_overall_variance_analyzer.py INFO    : Start testing of classifier 100 / 200\n",
      "2023-01-21 22:32:34 abstract_overall_variance_analyzer.py INFO    : Classifier 100 / 200 was tested\n",
      "2023-01-21 22:32:34 abstract_overall_variance_analyzer.py INFO    : Start testing of classifier 101 / 200\n",
      "2023-01-21 22:32:34 abstract_overall_variance_analyzer.py INFO    : Classifier 101 / 200 was tested\n",
      "2023-01-21 22:32:34 abstract_overall_variance_analyzer.py INFO    : Start testing of classifier 102 / 200\n",
      "2023-01-21 22:32:34 abstract_overall_variance_analyzer.py INFO    : Classifier 102 / 200 was tested\n",
      "2023-01-21 22:32:34 abstract_overall_variance_analyzer.py INFO    : Start testing of classifier 103 / 200\n",
      "2023-01-21 22:32:34 abstract_overall_variance_analyzer.py INFO    : Classifier 103 / 200 was tested\n",
      "2023-01-21 22:32:34 abstract_overall_variance_analyzer.py INFO    : Start testing of classifier 104 / 200\n",
      "2023-01-21 22:32:34 abstract_overall_variance_analyzer.py INFO    : Classifier 104 / 200 was tested\n",
      "2023-01-21 22:32:34 abstract_overall_variance_analyzer.py INFO    : Start testing of classifier 105 / 200\n",
      "2023-01-21 22:32:34 abstract_overall_variance_analyzer.py INFO    : Classifier 105 / 200 was tested\n",
      "2023-01-21 22:32:34 abstract_overall_variance_analyzer.py INFO    : Start testing of classifier 106 / 200\n",
      "2023-01-21 22:32:34 abstract_overall_variance_analyzer.py INFO    : Classifier 106 / 200 was tested\n",
      "2023-01-21 22:32:34 abstract_overall_variance_analyzer.py INFO    : Start testing of classifier 107 / 200\n",
      "2023-01-21 22:32:34 abstract_overall_variance_analyzer.py INFO    : Classifier 107 / 200 was tested\n",
      "2023-01-21 22:32:34 abstract_overall_variance_analyzer.py INFO    : Start testing of classifier 108 / 200\n",
      "2023-01-21 22:32:34 abstract_overall_variance_analyzer.py INFO    : Classifier 108 / 200 was tested\n",
      "2023-01-21 22:32:34 abstract_overall_variance_analyzer.py INFO    : Start testing of classifier 109 / 200\n",
      "2023-01-21 22:32:34 abstract_overall_variance_analyzer.py INFO    : Classifier 109 / 200 was tested\n",
      "2023-01-21 22:32:34 abstract_overall_variance_analyzer.py INFO    : Start testing of classifier 110 / 200\n",
      "2023-01-21 22:32:34 abstract_overall_variance_analyzer.py INFO    : Classifier 110 / 200 was tested\n",
      "2023-01-21 22:32:34 abstract_overall_variance_analyzer.py INFO    : Start testing of classifier 111 / 200\n",
      "2023-01-21 22:32:34 abstract_overall_variance_analyzer.py INFO    : Classifier 111 / 200 was tested\n",
      "2023-01-21 22:32:34 abstract_overall_variance_analyzer.py INFO    : Start testing of classifier 112 / 200\n",
      "2023-01-21 22:32:34 abstract_overall_variance_analyzer.py INFO    : Classifier 112 / 200 was tested\n",
      "2023-01-21 22:32:34 abstract_overall_variance_analyzer.py INFO    : Start testing of classifier 113 / 200\n",
      "2023-01-21 22:32:34 abstract_overall_variance_analyzer.py INFO    : Classifier 113 / 200 was tested\n",
      "2023-01-21 22:32:34 abstract_overall_variance_analyzer.py INFO    : Start testing of classifier 114 / 200\n",
      "2023-01-21 22:32:34 abstract_overall_variance_analyzer.py INFO    : Classifier 114 / 200 was tested\n",
      "2023-01-21 22:32:34 abstract_overall_variance_analyzer.py INFO    : Start testing of classifier 115 / 200\n",
      "2023-01-21 22:32:34 abstract_overall_variance_analyzer.py INFO    : Classifier 115 / 200 was tested\n",
      "2023-01-21 22:32:34 abstract_overall_variance_analyzer.py INFO    : Start testing of classifier 116 / 200\n",
      "2023-01-21 22:32:34 abstract_overall_variance_analyzer.py INFO    : Classifier 116 / 200 was tested\n",
      "2023-01-21 22:32:34 abstract_overall_variance_analyzer.py INFO    : Start testing of classifier 117 / 200\n",
      "2023-01-21 22:32:34 abstract_overall_variance_analyzer.py INFO    : Classifier 117 / 200 was tested\n",
      "2023-01-21 22:32:34 abstract_overall_variance_analyzer.py INFO    : Start testing of classifier 118 / 200\n",
      "2023-01-21 22:32:34 abstract_overall_variance_analyzer.py INFO    : Classifier 118 / 200 was tested\n",
      "2023-01-21 22:32:34 abstract_overall_variance_analyzer.py INFO    : Start testing of classifier 119 / 200\n",
      "2023-01-21 22:32:34 abstract_overall_variance_analyzer.py INFO    : Classifier 119 / 200 was tested\n",
      "2023-01-21 22:32:34 abstract_overall_variance_analyzer.py INFO    : Start testing of classifier 120 / 200\n",
      "2023-01-21 22:32:34 abstract_overall_variance_analyzer.py INFO    : Classifier 120 / 200 was tested\n",
      "2023-01-21 22:32:34 abstract_overall_variance_analyzer.py INFO    : Start testing of classifier 121 / 200\n",
      "2023-01-21 22:32:34 abstract_overall_variance_analyzer.py INFO    : Classifier 121 / 200 was tested\n",
      "2023-01-21 22:32:34 abstract_overall_variance_analyzer.py INFO    : Start testing of classifier 122 / 200\n",
      "2023-01-21 22:32:34 abstract_overall_variance_analyzer.py INFO    : Classifier 122 / 200 was tested\n",
      "2023-01-21 22:32:34 abstract_overall_variance_analyzer.py INFO    : Start testing of classifier 123 / 200\n",
      "2023-01-21 22:32:34 abstract_overall_variance_analyzer.py INFO    : Classifier 123 / 200 was tested\n",
      "2023-01-21 22:32:34 abstract_overall_variance_analyzer.py INFO    : Start testing of classifier 124 / 200\n",
      "2023-01-21 22:32:34 abstract_overall_variance_analyzer.py INFO    : Classifier 124 / 200 was tested\n",
      "2023-01-21 22:32:34 abstract_overall_variance_analyzer.py INFO    : Start testing of classifier 125 / 200\n",
      "2023-01-21 22:32:34 abstract_overall_variance_analyzer.py INFO    : Classifier 125 / 200 was tested\n",
      "2023-01-21 22:32:34 abstract_overall_variance_analyzer.py INFO    : Start testing of classifier 126 / 200\n",
      "2023-01-21 22:32:34 abstract_overall_variance_analyzer.py INFO    : Classifier 126 / 200 was tested\n",
      "2023-01-21 22:32:34 abstract_overall_variance_analyzer.py INFO    : Start testing of classifier 127 / 200\n",
      "2023-01-21 22:32:34 abstract_overall_variance_analyzer.py INFO    : Classifier 127 / 200 was tested\n",
      "2023-01-21 22:32:34 abstract_overall_variance_analyzer.py INFO    : Start testing of classifier 128 / 200\n",
      "2023-01-21 22:32:34 abstract_overall_variance_analyzer.py INFO    : Classifier 128 / 200 was tested\n",
      "2023-01-21 22:32:34 abstract_overall_variance_analyzer.py INFO    : Start testing of classifier 129 / 200\n",
      "2023-01-21 22:32:34 abstract_overall_variance_analyzer.py INFO    : Classifier 129 / 200 was tested\n",
      "2023-01-21 22:32:34 abstract_overall_variance_analyzer.py INFO    : Start testing of classifier 130 / 200\n",
      "2023-01-21 22:32:34 abstract_overall_variance_analyzer.py INFO    : Classifier 130 / 200 was tested\n",
      "2023-01-21 22:32:34 abstract_overall_variance_analyzer.py INFO    : Start testing of classifier 131 / 200\n",
      "2023-01-21 22:32:34 abstract_overall_variance_analyzer.py INFO    : Classifier 131 / 200 was tested\n",
      "2023-01-21 22:32:34 abstract_overall_variance_analyzer.py INFO    : Start testing of classifier 132 / 200\n",
      "2023-01-21 22:32:34 abstract_overall_variance_analyzer.py INFO    : Classifier 132 / 200 was tested\n",
      "2023-01-21 22:32:34 abstract_overall_variance_analyzer.py INFO    : Start testing of classifier 133 / 200\n",
      "2023-01-21 22:32:34 abstract_overall_variance_analyzer.py INFO    : Classifier 133 / 200 was tested\n",
      "2023-01-21 22:32:34 abstract_overall_variance_analyzer.py INFO    : Start testing of classifier 134 / 200\n",
      "2023-01-21 22:32:34 abstract_overall_variance_analyzer.py INFO    : Classifier 134 / 200 was tested\n",
      "2023-01-21 22:32:34 abstract_overall_variance_analyzer.py INFO    : Start testing of classifier 135 / 200\n",
      "2023-01-21 22:32:34 abstract_overall_variance_analyzer.py INFO    : Classifier 135 / 200 was tested\n",
      "2023-01-21 22:32:34 abstract_overall_variance_analyzer.py INFO    : Start testing of classifier 136 / 200\n",
      "2023-01-21 22:32:34 abstract_overall_variance_analyzer.py INFO    : Classifier 136 / 200 was tested\n",
      "2023-01-21 22:32:34 abstract_overall_variance_analyzer.py INFO    : Start testing of classifier 137 / 200\n",
      "2023-01-21 22:32:34 abstract_overall_variance_analyzer.py INFO    : Classifier 137 / 200 was tested\n",
      "2023-01-21 22:32:34 abstract_overall_variance_analyzer.py INFO    : Start testing of classifier 138 / 200\n",
      "2023-01-21 22:32:34 abstract_overall_variance_analyzer.py INFO    : Classifier 138 / 200 was tested\n",
      "2023-01-21 22:32:34 abstract_overall_variance_analyzer.py INFO    : Start testing of classifier 139 / 200\n",
      "2023-01-21 22:32:34 abstract_overall_variance_analyzer.py INFO    : Classifier 139 / 200 was tested\n",
      "2023-01-21 22:32:34 abstract_overall_variance_analyzer.py INFO    : Start testing of classifier 140 / 200\n",
      "2023-01-21 22:32:34 abstract_overall_variance_analyzer.py INFO    : Classifier 140 / 200 was tested\n",
      "2023-01-21 22:32:34 abstract_overall_variance_analyzer.py INFO    : Start testing of classifier 141 / 200\n",
      "2023-01-21 22:32:34 abstract_overall_variance_analyzer.py INFO    : Classifier 141 / 200 was tested\n",
      "2023-01-21 22:32:34 abstract_overall_variance_analyzer.py INFO    : Start testing of classifier 142 / 200\n",
      "2023-01-21 22:32:34 abstract_overall_variance_analyzer.py INFO    : Classifier 142 / 200 was tested\n",
      "2023-01-21 22:32:34 abstract_overall_variance_analyzer.py INFO    : Start testing of classifier 143 / 200\n",
      "2023-01-21 22:32:34 abstract_overall_variance_analyzer.py INFO    : Classifier 143 / 200 was tested\n",
      "2023-01-21 22:32:34 abstract_overall_variance_analyzer.py INFO    : Start testing of classifier 144 / 200\n",
      "2023-01-21 22:32:34 abstract_overall_variance_analyzer.py INFO    : Classifier 144 / 200 was tested\n",
      "2023-01-21 22:32:34 abstract_overall_variance_analyzer.py INFO    : Start testing of classifier 145 / 200\n",
      "2023-01-21 22:32:34 abstract_overall_variance_analyzer.py INFO    : Classifier 145 / 200 was tested\n",
      "2023-01-21 22:32:34 abstract_overall_variance_analyzer.py INFO    : Start testing of classifier 146 / 200\n",
      "2023-01-21 22:32:34 abstract_overall_variance_analyzer.py INFO    : Classifier 146 / 200 was tested\n",
      "2023-01-21 22:32:34 abstract_overall_variance_analyzer.py INFO    : Start testing of classifier 147 / 200\n",
      "2023-01-21 22:32:34 abstract_overall_variance_analyzer.py INFO    : Classifier 147 / 200 was tested\n",
      "2023-01-21 22:32:34 abstract_overall_variance_analyzer.py INFO    : Start testing of classifier 148 / 200\n",
      "2023-01-21 22:32:34 abstract_overall_variance_analyzer.py INFO    : Classifier 148 / 200 was tested\n",
      "2023-01-21 22:32:34 abstract_overall_variance_analyzer.py INFO    : Start testing of classifier 149 / 200\n",
      "2023-01-21 22:32:34 abstract_overall_variance_analyzer.py INFO    : Classifier 149 / 200 was tested\n",
      "2023-01-21 22:32:34 abstract_overall_variance_analyzer.py INFO    : Start testing of classifier 150 / 200\n",
      "2023-01-21 22:32:34 abstract_overall_variance_analyzer.py INFO    : Classifier 150 / 200 was tested\n",
      "2023-01-21 22:32:34 abstract_overall_variance_analyzer.py INFO    : Start testing of classifier 151 / 200\n",
      "2023-01-21 22:32:34 abstract_overall_variance_analyzer.py INFO    : Classifier 151 / 200 was tested\n",
      "2023-01-21 22:32:34 abstract_overall_variance_analyzer.py INFO    : Start testing of classifier 152 / 200\n",
      "2023-01-21 22:32:34 abstract_overall_variance_analyzer.py INFO    : Classifier 152 / 200 was tested\n",
      "2023-01-21 22:32:34 abstract_overall_variance_analyzer.py INFO    : Start testing of classifier 153 / 200\n",
      "2023-01-21 22:32:34 abstract_overall_variance_analyzer.py INFO    : Classifier 153 / 200 was tested\n",
      "2023-01-21 22:32:34 abstract_overall_variance_analyzer.py INFO    : Start testing of classifier 154 / 200\n",
      "2023-01-21 22:32:34 abstract_overall_variance_analyzer.py INFO    : Classifier 154 / 200 was tested\n",
      "2023-01-21 22:32:34 abstract_overall_variance_analyzer.py INFO    : Start testing of classifier 155 / 200\n",
      "2023-01-21 22:32:34 abstract_overall_variance_analyzer.py INFO    : Classifier 155 / 200 was tested\n",
      "2023-01-21 22:32:34 abstract_overall_variance_analyzer.py INFO    : Start testing of classifier 156 / 200\n",
      "2023-01-21 22:32:34 abstract_overall_variance_analyzer.py INFO    : Classifier 156 / 200 was tested\n",
      "2023-01-21 22:32:34 abstract_overall_variance_analyzer.py INFO    : Start testing of classifier 157 / 200\n",
      "2023-01-21 22:32:34 abstract_overall_variance_analyzer.py INFO    : Classifier 157 / 200 was tested\n",
      "2023-01-21 22:32:34 abstract_overall_variance_analyzer.py INFO    : Start testing of classifier 158 / 200\n",
      "2023-01-21 22:32:34 abstract_overall_variance_analyzer.py INFO    : Classifier 158 / 200 was tested\n",
      "2023-01-21 22:32:34 abstract_overall_variance_analyzer.py INFO    : Start testing of classifier 159 / 200\n",
      "2023-01-21 22:32:34 abstract_overall_variance_analyzer.py INFO    : Classifier 159 / 200 was tested\n",
      "2023-01-21 22:32:34 abstract_overall_variance_analyzer.py INFO    : Start testing of classifier 160 / 200\n",
      "2023-01-21 22:32:34 abstract_overall_variance_analyzer.py INFO    : Classifier 160 / 200 was tested\n",
      "2023-01-21 22:32:34 abstract_overall_variance_analyzer.py INFO    : Start testing of classifier 161 / 200\n",
      "2023-01-21 22:32:34 abstract_overall_variance_analyzer.py INFO    : Classifier 161 / 200 was tested\n",
      "2023-01-21 22:32:34 abstract_overall_variance_analyzer.py INFO    : Start testing of classifier 162 / 200\n",
      "2023-01-21 22:32:34 abstract_overall_variance_analyzer.py INFO    : Classifier 162 / 200 was tested\n",
      "2023-01-21 22:32:34 abstract_overall_variance_analyzer.py INFO    : Start testing of classifier 163 / 200\n",
      "2023-01-21 22:32:34 abstract_overall_variance_analyzer.py INFO    : Classifier 163 / 200 was tested\n",
      "2023-01-21 22:32:34 abstract_overall_variance_analyzer.py INFO    : Start testing of classifier 164 / 200\n",
      "2023-01-21 22:32:34 abstract_overall_variance_analyzer.py INFO    : Classifier 164 / 200 was tested\n",
      "2023-01-21 22:32:34 abstract_overall_variance_analyzer.py INFO    : Start testing of classifier 165 / 200\n",
      "2023-01-21 22:32:34 abstract_overall_variance_analyzer.py INFO    : Classifier 165 / 200 was tested\n",
      "2023-01-21 22:32:34 abstract_overall_variance_analyzer.py INFO    : Start testing of classifier 166 / 200\n",
      "2023-01-21 22:32:34 abstract_overall_variance_analyzer.py INFO    : Classifier 166 / 200 was tested\n",
      "2023-01-21 22:32:34 abstract_overall_variance_analyzer.py INFO    : Start testing of classifier 167 / 200\n",
      "2023-01-21 22:32:34 abstract_overall_variance_analyzer.py INFO    : Classifier 167 / 200 was tested\n",
      "2023-01-21 22:32:34 abstract_overall_variance_analyzer.py INFO    : Start testing of classifier 168 / 200\n",
      "2023-01-21 22:32:34 abstract_overall_variance_analyzer.py INFO    : Classifier 168 / 200 was tested\n",
      "2023-01-21 22:32:34 abstract_overall_variance_analyzer.py INFO    : Start testing of classifier 169 / 200\n",
      "2023-01-21 22:32:34 abstract_overall_variance_analyzer.py INFO    : Classifier 169 / 200 was tested\n",
      "2023-01-21 22:32:34 abstract_overall_variance_analyzer.py INFO    : Start testing of classifier 170 / 200\n",
      "2023-01-21 22:32:34 abstract_overall_variance_analyzer.py INFO    : Classifier 170 / 200 was tested\n",
      "2023-01-21 22:32:34 abstract_overall_variance_analyzer.py INFO    : Start testing of classifier 171 / 200\n",
      "2023-01-21 22:32:34 abstract_overall_variance_analyzer.py INFO    : Classifier 171 / 200 was tested\n",
      "2023-01-21 22:32:34 abstract_overall_variance_analyzer.py INFO    : Start testing of classifier 172 / 200\n",
      "2023-01-21 22:32:34 abstract_overall_variance_analyzer.py INFO    : Classifier 172 / 200 was tested\n",
      "2023-01-21 22:32:34 abstract_overall_variance_analyzer.py INFO    : Start testing of classifier 173 / 200\n",
      "2023-01-21 22:32:34 abstract_overall_variance_analyzer.py INFO    : Classifier 173 / 200 was tested\n",
      "2023-01-21 22:32:34 abstract_overall_variance_analyzer.py INFO    : Start testing of classifier 174 / 200\n",
      "2023-01-21 22:32:34 abstract_overall_variance_analyzer.py INFO    : Classifier 174 / 200 was tested\n",
      "2023-01-21 22:32:34 abstract_overall_variance_analyzer.py INFO    : Start testing of classifier 175 / 200\n",
      "2023-01-21 22:32:34 abstract_overall_variance_analyzer.py INFO    : Classifier 175 / 200 was tested\n",
      "2023-01-21 22:32:34 abstract_overall_variance_analyzer.py INFO    : Start testing of classifier 176 / 200\n",
      "2023-01-21 22:32:34 abstract_overall_variance_analyzer.py INFO    : Classifier 176 / 200 was tested\n",
      "2023-01-21 22:32:34 abstract_overall_variance_analyzer.py INFO    : Start testing of classifier 177 / 200\n",
      "2023-01-21 22:32:34 abstract_overall_variance_analyzer.py INFO    : Classifier 177 / 200 was tested\n",
      "2023-01-21 22:32:34 abstract_overall_variance_analyzer.py INFO    : Start testing of classifier 178 / 200\n",
      "2023-01-21 22:32:34 abstract_overall_variance_analyzer.py INFO    : Classifier 178 / 200 was tested\n",
      "2023-01-21 22:32:34 abstract_overall_variance_analyzer.py INFO    : Start testing of classifier 179 / 200\n",
      "2023-01-21 22:32:34 abstract_overall_variance_analyzer.py INFO    : Classifier 179 / 200 was tested\n",
      "2023-01-21 22:32:34 abstract_overall_variance_analyzer.py INFO    : Start testing of classifier 180 / 200\n",
      "2023-01-21 22:32:34 abstract_overall_variance_analyzer.py INFO    : Classifier 180 / 200 was tested\n",
      "2023-01-21 22:32:34 abstract_overall_variance_analyzer.py INFO    : Start testing of classifier 181 / 200\n",
      "2023-01-21 22:32:34 abstract_overall_variance_analyzer.py INFO    : Classifier 181 / 200 was tested\n",
      "2023-01-21 22:32:34 abstract_overall_variance_analyzer.py INFO    : Start testing of classifier 182 / 200\n",
      "2023-01-21 22:32:34 abstract_overall_variance_analyzer.py INFO    : Classifier 182 / 200 was tested\n",
      "2023-01-21 22:32:34 abstract_overall_variance_analyzer.py INFO    : Start testing of classifier 183 / 200\n",
      "2023-01-21 22:32:34 abstract_overall_variance_analyzer.py INFO    : Classifier 183 / 200 was tested\n",
      "2023-01-21 22:32:34 abstract_overall_variance_analyzer.py INFO    : Start testing of classifier 184 / 200\n",
      "2023-01-21 22:32:34 abstract_overall_variance_analyzer.py INFO    : Classifier 184 / 200 was tested\n",
      "2023-01-21 22:32:34 abstract_overall_variance_analyzer.py INFO    : Start testing of classifier 185 / 200\n",
      "2023-01-21 22:32:34 abstract_overall_variance_analyzer.py INFO    : Classifier 185 / 200 was tested\n",
      "2023-01-21 22:32:34 abstract_overall_variance_analyzer.py INFO    : Start testing of classifier 186 / 200\n",
      "2023-01-21 22:32:34 abstract_overall_variance_analyzer.py INFO    : Classifier 186 / 200 was tested\n",
      "2023-01-21 22:32:34 abstract_overall_variance_analyzer.py INFO    : Start testing of classifier 187 / 200\n",
      "2023-01-21 22:32:34 abstract_overall_variance_analyzer.py INFO    : Classifier 187 / 200 was tested\n",
      "2023-01-21 22:32:34 abstract_overall_variance_analyzer.py INFO    : Start testing of classifier 188 / 200\n",
      "2023-01-21 22:32:34 abstract_overall_variance_analyzer.py INFO    : Classifier 188 / 200 was tested\n",
      "2023-01-21 22:32:34 abstract_overall_variance_analyzer.py INFO    : Start testing of classifier 189 / 200\n",
      "2023-01-21 22:32:34 abstract_overall_variance_analyzer.py INFO    : Classifier 189 / 200 was tested\n",
      "2023-01-21 22:32:34 abstract_overall_variance_analyzer.py INFO    : Start testing of classifier 190 / 200\n",
      "2023-01-21 22:32:34 abstract_overall_variance_analyzer.py INFO    : Classifier 190 / 200 was tested\n",
      "2023-01-21 22:32:34 abstract_overall_variance_analyzer.py INFO    : Start testing of classifier 191 / 200\n",
      "2023-01-21 22:32:34 abstract_overall_variance_analyzer.py INFO    : Classifier 191 / 200 was tested\n",
      "2023-01-21 22:32:34 abstract_overall_variance_analyzer.py INFO    : Start testing of classifier 192 / 200\n",
      "2023-01-21 22:32:34 abstract_overall_variance_analyzer.py INFO    : Classifier 192 / 200 was tested\n",
      "2023-01-21 22:32:34 abstract_overall_variance_analyzer.py INFO    : Start testing of classifier 193 / 200\n",
      "2023-01-21 22:32:34 abstract_overall_variance_analyzer.py INFO    : Classifier 193 / 200 was tested\n",
      "2023-01-21 22:32:34 abstract_overall_variance_analyzer.py INFO    : Start testing of classifier 194 / 200\n",
      "2023-01-21 22:32:34 abstract_overall_variance_analyzer.py INFO    : Classifier 194 / 200 was tested\n",
      "2023-01-21 22:32:34 abstract_overall_variance_analyzer.py INFO    : Start testing of classifier 195 / 200\n",
      "2023-01-21 22:32:34 abstract_overall_variance_analyzer.py INFO    : Classifier 195 / 200 was tested\n",
      "2023-01-21 22:32:34 abstract_overall_variance_analyzer.py INFO    : Start testing of classifier 196 / 200\n",
      "2023-01-21 22:32:34 abstract_overall_variance_analyzer.py INFO    : Classifier 196 / 200 was tested\n",
      "2023-01-21 22:32:34 abstract_overall_variance_analyzer.py INFO    : Start testing of classifier 197 / 200\n",
      "2023-01-21 22:32:34 abstract_overall_variance_analyzer.py INFO    : Classifier 197 / 200 was tested\n",
      "2023-01-21 22:32:34 abstract_overall_variance_analyzer.py INFO    : Start testing of classifier 198 / 200\n",
      "2023-01-21 22:32:34 abstract_overall_variance_analyzer.py INFO    : Classifier 198 / 200 was tested\n",
      "2023-01-21 22:32:34 abstract_overall_variance_analyzer.py INFO    : Start testing of classifier 199 / 200\n",
      "2023-01-21 22:32:34 abstract_overall_variance_analyzer.py INFO    : Classifier 199 / 200 was tested\n",
      "2023-01-21 22:32:34 abstract_overall_variance_analyzer.py INFO    : Start testing of classifier 200 / 200\n",
      "2023-01-21 22:32:34 abstract_overall_variance_analyzer.py INFO    : Classifier 200 / 200 was tested\n",
      "2023-01-21 22:32:43 abstract_overall_variance_analyzer.py INFO    : Successfully computed predict proba metrics\n"
     ]
    },
    {
     "name": "stdout",
     "output_type": "stream",
     "text": [
      "\n",
      "\n",
      "##############################  Stability metrics  ##############################\n",
      "General Ensemble Accuracy: 0.6809\n",
      "Mean: 0.5252\n",
      "Std: 0.0722\n",
      "IQR: 0.0882\n",
      "Entropy: 0.0\n",
      "Jitter: 0.1238\n",
      "Per sample accuracy: 0.6621\n",
      "Label stability: 0.831\n",
      "\n",
      "\n",
      "\n",
      "[Experiment 1] Metrics confusion matrix:\n"
     ]
    },
    {
     "data": {
      "text/plain": "                            overall  sex_race_priv  sex_race_dis  sex_priv  \\\nGeneral_Ensemble_Accuracy  0.680871       0.647727      0.679537  0.688442   \nMean                       0.525200       0.589072      0.468731  0.560918   \nStd                        0.072228       0.087174      0.074123  0.078152   \nIQR                        0.088245       0.110280      0.088685  0.096666   \nEntropy                    0.000000       0.217598      0.210717  0.221136   \nJitter                     0.123833       0.137687      0.130049  0.138903   \nPer_Sample_Accuracy        0.662088       0.643920      0.654508  0.682789   \nLabel_Stability            0.830975       0.801023      0.827973  0.803568   \nTPR                        0.632444       0.440000      0.717314  0.571429   \nTNR                        0.722320       0.730159      0.634043  0.751938   \nPPV                        0.660944       0.392857      0.702422  0.555556   \nFNR                        0.367556       0.560000      0.282686  0.428571   \nFPR                        0.277680       0.269841      0.365957  0.248062   \nAccuracy                   0.680871       0.647727      0.679537  0.688442   \nF1                         0.646380       0.415094      0.709790  0.563380   \nSelection-Rate             0.441288       0.318182      0.557915  0.361809   \nPositive-Rate              0.956879       1.120000      1.021201  1.028571   \n\n                            sex_dis  race_priv  race_dis  \nGeneral_Ensemble_Accuracy  0.679113   0.672131  0.686804  \nMean                       0.516906   0.590219  0.481061  \nStd                        0.070852   0.070249  0.073572  \nIQR                        0.086290   0.088330  0.088188  \nEntropy                    0.000000   0.000000  0.213051  \nJitter                     0.120333   0.112123  0.131782  \nPer_Sample_Accuracy        0.657281   0.657892  0.664936  \nLabel_Stability            0.837340   0.841218  0.824022  \nTPR                        0.642686   0.477987  0.707317  \nTNR                        0.713636   0.787313  0.664452  \nPPV                        0.680203   0.571429  0.696697  \nFNR                        0.357314   0.522013  0.292683  \nFPR                        0.286364   0.212687  0.335548  \nAccuracy                   0.679113   0.672131  0.686804  \nF1                         0.660912   0.520548  0.701967  \nSelection-Rate             0.459743   0.311475  0.529412  \nPositive-Rate              0.944844   0.836478  1.015244  ",
      "text/html": "<div>\n<style scoped>\n    .dataframe tbody tr th:only-of-type {\n        vertical-align: middle;\n    }\n\n    .dataframe tbody tr th {\n        vertical-align: top;\n    }\n\n    .dataframe thead th {\n        text-align: right;\n    }\n</style>\n<table border=\"1\" class=\"dataframe\">\n  <thead>\n    <tr style=\"text-align: right;\">\n      <th></th>\n      <th>overall</th>\n      <th>sex_race_priv</th>\n      <th>sex_race_dis</th>\n      <th>sex_priv</th>\n      <th>sex_dis</th>\n      <th>race_priv</th>\n      <th>race_dis</th>\n    </tr>\n  </thead>\n  <tbody>\n    <tr>\n      <th>General_Ensemble_Accuracy</th>\n      <td>0.680871</td>\n      <td>0.647727</td>\n      <td>0.679537</td>\n      <td>0.688442</td>\n      <td>0.679113</td>\n      <td>0.672131</td>\n      <td>0.686804</td>\n    </tr>\n    <tr>\n      <th>Mean</th>\n      <td>0.525200</td>\n      <td>0.589072</td>\n      <td>0.468731</td>\n      <td>0.560918</td>\n      <td>0.516906</td>\n      <td>0.590219</td>\n      <td>0.481061</td>\n    </tr>\n    <tr>\n      <th>Std</th>\n      <td>0.072228</td>\n      <td>0.087174</td>\n      <td>0.074123</td>\n      <td>0.078152</td>\n      <td>0.070852</td>\n      <td>0.070249</td>\n      <td>0.073572</td>\n    </tr>\n    <tr>\n      <th>IQR</th>\n      <td>0.088245</td>\n      <td>0.110280</td>\n      <td>0.088685</td>\n      <td>0.096666</td>\n      <td>0.086290</td>\n      <td>0.088330</td>\n      <td>0.088188</td>\n    </tr>\n    <tr>\n      <th>Entropy</th>\n      <td>0.000000</td>\n      <td>0.217598</td>\n      <td>0.210717</td>\n      <td>0.221136</td>\n      <td>0.000000</td>\n      <td>0.000000</td>\n      <td>0.213051</td>\n    </tr>\n    <tr>\n      <th>Jitter</th>\n      <td>0.123833</td>\n      <td>0.137687</td>\n      <td>0.130049</td>\n      <td>0.138903</td>\n      <td>0.120333</td>\n      <td>0.112123</td>\n      <td>0.131782</td>\n    </tr>\n    <tr>\n      <th>Per_Sample_Accuracy</th>\n      <td>0.662088</td>\n      <td>0.643920</td>\n      <td>0.654508</td>\n      <td>0.682789</td>\n      <td>0.657281</td>\n      <td>0.657892</td>\n      <td>0.664936</td>\n    </tr>\n    <tr>\n      <th>Label_Stability</th>\n      <td>0.830975</td>\n      <td>0.801023</td>\n      <td>0.827973</td>\n      <td>0.803568</td>\n      <td>0.837340</td>\n      <td>0.841218</td>\n      <td>0.824022</td>\n    </tr>\n    <tr>\n      <th>TPR</th>\n      <td>0.632444</td>\n      <td>0.440000</td>\n      <td>0.717314</td>\n      <td>0.571429</td>\n      <td>0.642686</td>\n      <td>0.477987</td>\n      <td>0.707317</td>\n    </tr>\n    <tr>\n      <th>TNR</th>\n      <td>0.722320</td>\n      <td>0.730159</td>\n      <td>0.634043</td>\n      <td>0.751938</td>\n      <td>0.713636</td>\n      <td>0.787313</td>\n      <td>0.664452</td>\n    </tr>\n    <tr>\n      <th>PPV</th>\n      <td>0.660944</td>\n      <td>0.392857</td>\n      <td>0.702422</td>\n      <td>0.555556</td>\n      <td>0.680203</td>\n      <td>0.571429</td>\n      <td>0.696697</td>\n    </tr>\n    <tr>\n      <th>FNR</th>\n      <td>0.367556</td>\n      <td>0.560000</td>\n      <td>0.282686</td>\n      <td>0.428571</td>\n      <td>0.357314</td>\n      <td>0.522013</td>\n      <td>0.292683</td>\n    </tr>\n    <tr>\n      <th>FPR</th>\n      <td>0.277680</td>\n      <td>0.269841</td>\n      <td>0.365957</td>\n      <td>0.248062</td>\n      <td>0.286364</td>\n      <td>0.212687</td>\n      <td>0.335548</td>\n    </tr>\n    <tr>\n      <th>Accuracy</th>\n      <td>0.680871</td>\n      <td>0.647727</td>\n      <td>0.679537</td>\n      <td>0.688442</td>\n      <td>0.679113</td>\n      <td>0.672131</td>\n      <td>0.686804</td>\n    </tr>\n    <tr>\n      <th>F1</th>\n      <td>0.646380</td>\n      <td>0.415094</td>\n      <td>0.709790</td>\n      <td>0.563380</td>\n      <td>0.660912</td>\n      <td>0.520548</td>\n      <td>0.701967</td>\n    </tr>\n    <tr>\n      <th>Selection-Rate</th>\n      <td>0.441288</td>\n      <td>0.318182</td>\n      <td>0.557915</td>\n      <td>0.361809</td>\n      <td>0.459743</td>\n      <td>0.311475</td>\n      <td>0.529412</td>\n    </tr>\n    <tr>\n      <th>Positive-Rate</th>\n      <td>0.956879</td>\n      <td>1.120000</td>\n      <td>1.021201</td>\n      <td>1.028571</td>\n      <td>0.944844</td>\n      <td>0.836478</td>\n      <td>1.015244</td>\n    </tr>\n  </tbody>\n</table>\n</div>"
     },
     "metadata": {},
     "output_type": "display_data"
    },
    {
     "name": "stderr",
     "output_type": "stream",
     "text": [
      "100%|██████████| 1/1 [00:36<00:00, 36.15s/it]"
     ]
    },
    {
     "name": "stdout",
     "output_type": "stream",
     "text": [
      "\n",
      "\n",
      "\n",
      "\n"
     ]
    },
    {
     "name": "stderr",
     "output_type": "stream",
     "text": [
      "\n"
     ]
    }
   ],
   "source": [
    "# TOD: add dataset as a parameter\n",
    "run_experiment(dataset, exp_num=1, model_seed=100)"
   ]
  },
  {
   "cell_type": "code",
   "execution_count": 14,
   "id": "197eadaa",
   "metadata": {},
   "outputs": [],
   "source": []
  }
 ],
 "metadata": {
  "kernelspec": {
   "display_name": "Python 3 (ipykernel)",
   "language": "python",
   "name": "python3"
  },
  "language_info": {
   "codemirror_mode": {
    "name": "ipython",
    "version": 3
   },
   "file_extension": ".py",
   "mimetype": "text/x-python",
   "name": "python",
   "nbconvert_exporter": "python",
   "pygments_lexer": "ipython3",
   "version": "3.9.7"
  }
 },
 "nbformat": 4,
 "nbformat_minor": 5
}