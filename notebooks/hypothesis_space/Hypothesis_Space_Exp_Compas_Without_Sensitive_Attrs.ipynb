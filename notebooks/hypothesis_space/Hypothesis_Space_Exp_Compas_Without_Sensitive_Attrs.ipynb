{
 "cells": [
  {
   "cell_type": "code",
   "execution_count": 35,
   "id": "248cbed8",
   "metadata": {
    "pycharm": {
     "name": "#%%\n"
    }
   },
   "outputs": [
    {
     "name": "stdout",
     "output_type": "stream",
     "text": [
      "The autoreload extension is already loaded. To reload it, use:\n",
      "  %reload_ext autoreload\n"
     ]
    }
   ],
   "source": [
    "%matplotlib inline\n",
    "%load_ext autoreload\n",
    "%autoreload 2"
   ]
  },
  {
   "cell_type": "code",
   "execution_count": 36,
   "id": "7ec6cd08",
   "metadata": {
    "pycharm": {
     "name": "#%%\n"
    }
   },
   "outputs": [],
   "source": [
    "import os\n",
    "import warnings\n",
    "warnings.filterwarnings('ignore')\n",
    "os.environ[\"PYTHONWARNINGS\"] = \"ignore\""
   ]
  },
  {
   "cell_type": "code",
   "execution_count": 37,
   "id": "b8cb69f2",
   "metadata": {},
   "outputs": [
    {
     "name": "stdout",
     "output_type": "stream",
     "text": [
      "Current location:  /home/denys_herasymuk/UCU/4course_2term/Bachelor_Thesis/Code/fairness-variance\n"
     ]
    }
   ],
   "source": [
    "cur_folder_name = os.getcwd().split('/')[-1]\n",
    "if cur_folder_name != \"fairness-variance\":\n",
    "    os.chdir(\"../..\")\n",
    "\n",
    "print('Current location: ', os.getcwd())"
   ]
  },
  {
   "cell_type": "markdown",
   "id": "606df34d",
   "metadata": {
    "pycharm": {
     "name": "#%% md\n"
    }
   },
   "source": [
    "## Import dependencies"
   ]
  },
  {
   "cell_type": "code",
   "execution_count": 38,
   "id": "7a9241de",
   "metadata": {
    "pycharm": {
     "name": "#%%\n"
    }
   },
   "outputs": [],
   "source": [
    "import os\n",
    "import pandas as pd\n",
    "from datetime import datetime, timezone\n",
    "\n",
    "from configs import config\n",
    "from utils.custom_classes.data_loader import CompasWithoutSensitiveAttrsDataset\n",
    "from utils.metrics_computation_interfaces import compute_metrics_multiple_runs"
   ]
  },
  {
   "cell_type": "markdown",
   "id": "95f15603",
   "metadata": {
    "pycharm": {
     "name": "#%% md\n"
    }
   },
   "source": [
    "## Configs"
   ]
  },
  {
   "cell_type": "code",
   "execution_count": 39,
   "id": "71d8f24a",
   "metadata": {
    "pycharm": {
     "name": "#%%\n"
    }
   },
   "outputs": [],
   "source": [
    "DATASET_NAME = \"COMPAS_Without_Sensitive_Attributes\"\n",
    "\n",
    "# RUNS_SEED_LST = [101, 111, 201, 221, 311, 333, 410, 555, 666, 851, 999, 1010]\n",
    "RUNS_SEED_LST = [100, 200]\n",
    "SEX_priv = 0\n",
    "RACE_priv = 'Caucasian'\n",
    "N_ESTIMATORS = 20\n",
    "SENSITIVE_ATTRIBUTES = ['sex', 'race']\n",
    "PRIV_VALUES = [SEX_priv, RACE_priv]\n",
    "TUNED_PARAMS_FILE_PATH = os.path.join('results', 'models_tuning', f'tuning_results_{DATASET_NAME}_20230117__012024.csv')\n",
    "SAVE_RESULTS_DIR_PATH = os.path.join('results', 'hypothesis_space', f'{DATASET_NAME}_Metrics_{datetime.now(timezone.utc).strftime(\"%Y%m%d__%H%M%S\")}')"
   ]
  },
  {
   "cell_type": "markdown",
   "id": "1fd3a1c8",
   "metadata": {
    "pycharm": {
     "name": "#%% md\n"
    }
   },
   "source": [
    "## Models tuned hyper-parameters"
   ]
  },
  {
   "cell_type": "code",
   "execution_count": 40,
   "id": "6aca46f3",
   "metadata": {
    "pycharm": {
     "name": "#%%\n"
    }
   },
   "outputs": [
    {
     "data": {
      "text/plain": "                          Dataset_Name              Model_Name  F1_Score  \\\n0  COMPAS_Without_Sensitive_Attributes      LogisticRegression    0.6785   \n1  COMPAS_Without_Sensitive_Attributes  DecisionTreeClassifier    0.6952   \n2  COMPAS_Without_Sensitive_Attributes  RandomForestClassifier    0.6962   \n3  COMPAS_Without_Sensitive_Attributes           XGBClassifier    0.6971   \n4  COMPAS_Without_Sensitive_Attributes    KNeighborsClassifier    0.7056   \n5  COMPAS_Without_Sensitive_Attributes           MLPClassifier    0.6834   \n\n   Accuracy_Score                                  Model_Best_Params  \n0          0.6837  {'C': 1, 'max_iter': 50, 'penalty': 'l2', 'sol...  \n1          0.6989  {'criterion': 'gini', 'max_depth': 20, 'max_fe...  \n2          0.7008  {'max_depth': 4, 'max_features': 0.6, 'min_sam...  \n3          0.7008  {'lambda': 100, 'learning_rate': 0.1, 'max_dep...  \n4          0.7112  {'metric': 'minkowski', 'n_neighbors': 25, 'we...  \n5          0.6875  {'activation': 'relu', 'hidden_layer_sizes': (...  ",
      "text/html": "<div>\n<style scoped>\n    .dataframe tbody tr th:only-of-type {\n        vertical-align: middle;\n    }\n\n    .dataframe tbody tr th {\n        vertical-align: top;\n    }\n\n    .dataframe thead th {\n        text-align: right;\n    }\n</style>\n<table border=\"1\" class=\"dataframe\">\n  <thead>\n    <tr style=\"text-align: right;\">\n      <th></th>\n      <th>Dataset_Name</th>\n      <th>Model_Name</th>\n      <th>F1_Score</th>\n      <th>Accuracy_Score</th>\n      <th>Model_Best_Params</th>\n    </tr>\n  </thead>\n  <tbody>\n    <tr>\n      <th>0</th>\n      <td>COMPAS_Without_Sensitive_Attributes</td>\n      <td>LogisticRegression</td>\n      <td>0.6785</td>\n      <td>0.6837</td>\n      <td>{'C': 1, 'max_iter': 50, 'penalty': 'l2', 'sol...</td>\n    </tr>\n    <tr>\n      <th>1</th>\n      <td>COMPAS_Without_Sensitive_Attributes</td>\n      <td>DecisionTreeClassifier</td>\n      <td>0.6952</td>\n      <td>0.6989</td>\n      <td>{'criterion': 'gini', 'max_depth': 20, 'max_fe...</td>\n    </tr>\n    <tr>\n      <th>2</th>\n      <td>COMPAS_Without_Sensitive_Attributes</td>\n      <td>RandomForestClassifier</td>\n      <td>0.6962</td>\n      <td>0.7008</td>\n      <td>{'max_depth': 4, 'max_features': 0.6, 'min_sam...</td>\n    </tr>\n    <tr>\n      <th>3</th>\n      <td>COMPAS_Without_Sensitive_Attributes</td>\n      <td>XGBClassifier</td>\n      <td>0.6971</td>\n      <td>0.7008</td>\n      <td>{'lambda': 100, 'learning_rate': 0.1, 'max_dep...</td>\n    </tr>\n    <tr>\n      <th>4</th>\n      <td>COMPAS_Without_Sensitive_Attributes</td>\n      <td>KNeighborsClassifier</td>\n      <td>0.7056</td>\n      <td>0.7112</td>\n      <td>{'metric': 'minkowski', 'n_neighbors': 25, 'we...</td>\n    </tr>\n    <tr>\n      <th>5</th>\n      <td>COMPAS_Without_Sensitive_Attributes</td>\n      <td>MLPClassifier</td>\n      <td>0.6834</td>\n      <td>0.6875</td>\n      <td>{'activation': 'relu', 'hidden_layer_sizes': (...</td>\n    </tr>\n  </tbody>\n</table>\n</div>"
     },
     "execution_count": 40,
     "metadata": {},
     "output_type": "execute_result"
    }
   ],
   "source": [
    "models_tuned_params_df = pd.read_csv(TUNED_PARAMS_FILE_PATH)\n",
    "models_tuned_params_df"
   ]
  },
  {
   "cell_type": "markdown",
   "id": "5c60057a",
   "metadata": {
    "pycharm": {
     "name": "#%% md\n"
    }
   },
   "source": [
    "## Load dataset"
   ]
  },
  {
   "cell_type": "code",
   "execution_count": 41,
   "id": "3e53fe9a",
   "metadata": {
    "pycharm": {
     "name": "#%%\n"
    }
   },
   "outputs": [
    {
     "data": {
      "text/plain": "   juv_fel_count  juv_misd_count  juv_other_count  priors_count  \\\n0            0.0       -2.340451              1.0    -15.010999   \n1            0.0        0.000000              0.0      0.000000   \n2            0.0        0.000000              0.0      0.000000   \n3            0.0        0.000000              0.0      6.000000   \n4            0.0        0.000000              0.0      7.513697   \n\n   age_cat_25 - 45  age_cat_Greater than 45  age_cat_Less than 25  \\\n0                1                        0                     0   \n1                1                        0                     0   \n2                0                        0                     1   \n3                1                        0                     0   \n4                1                        0                     0   \n\n   c_charge_degree_F  c_charge_degree_M  \n0                  0                  1  \n1                  1                  0  \n2                  1                  0  \n3                  0                  1  \n4                  1                  0  ",
      "text/html": "<div>\n<style scoped>\n    .dataframe tbody tr th:only-of-type {\n        vertical-align: middle;\n    }\n\n    .dataframe tbody tr th {\n        vertical-align: top;\n    }\n\n    .dataframe thead th {\n        text-align: right;\n    }\n</style>\n<table border=\"1\" class=\"dataframe\">\n  <thead>\n    <tr style=\"text-align: right;\">\n      <th></th>\n      <th>juv_fel_count</th>\n      <th>juv_misd_count</th>\n      <th>juv_other_count</th>\n      <th>priors_count</th>\n      <th>age_cat_25 - 45</th>\n      <th>age_cat_Greater than 45</th>\n      <th>age_cat_Less than 25</th>\n      <th>c_charge_degree_F</th>\n      <th>c_charge_degree_M</th>\n    </tr>\n  </thead>\n  <tbody>\n    <tr>\n      <th>0</th>\n      <td>0.0</td>\n      <td>-2.340451</td>\n      <td>1.0</td>\n      <td>-15.010999</td>\n      <td>1</td>\n      <td>0</td>\n      <td>0</td>\n      <td>0</td>\n      <td>1</td>\n    </tr>\n    <tr>\n      <th>1</th>\n      <td>0.0</td>\n      <td>0.000000</td>\n      <td>0.0</td>\n      <td>0.000000</td>\n      <td>1</td>\n      <td>0</td>\n      <td>0</td>\n      <td>1</td>\n      <td>0</td>\n    </tr>\n    <tr>\n      <th>2</th>\n      <td>0.0</td>\n      <td>0.000000</td>\n      <td>0.0</td>\n      <td>0.000000</td>\n      <td>0</td>\n      <td>0</td>\n      <td>1</td>\n      <td>1</td>\n      <td>0</td>\n    </tr>\n    <tr>\n      <th>3</th>\n      <td>0.0</td>\n      <td>0.000000</td>\n      <td>0.0</td>\n      <td>6.000000</td>\n      <td>1</td>\n      <td>0</td>\n      <td>0</td>\n      <td>0</td>\n      <td>1</td>\n    </tr>\n    <tr>\n      <th>4</th>\n      <td>0.0</td>\n      <td>0.000000</td>\n      <td>0.0</td>\n      <td>7.513697</td>\n      <td>1</td>\n      <td>0</td>\n      <td>0</td>\n      <td>1</td>\n      <td>0</td>\n    </tr>\n  </tbody>\n</table>\n</div>"
     },
     "execution_count": 41,
     "metadata": {},
     "output_type": "execute_result"
    }
   ],
   "source": [
    "dataset = CompasWithoutSensitiveAttrsDataset(dataset_path='data/COMPAS.csv')\n",
    "dataset.X_data.head()"
   ]
  },
  {
   "cell_type": "markdown",
   "id": "c3530f06",
   "metadata": {
    "pycharm": {
     "name": "#%% md\n"
    }
   },
   "source": [
    "## Run experiments"
   ]
  },
  {
   "cell_type": "code",
   "execution_count": 42,
   "id": "2528579c",
   "metadata": {
    "pycharm": {
     "name": "#%%\n"
    }
   },
   "outputs": [
    {
     "name": "stderr",
     "output_type": "stream",
     "text": [
      "  0%|          | 0/1 [00:00<?, ?it/s]"
     ]
    },
    {
     "name": "stdout",
     "output_type": "stream",
     "text": [
      "##############################  [Model 1 / 1] Analyze DecisionTreeClassifier  ##############################\n",
      "Baseline X_train shape:  (4222, 9)\n",
      "Baseline X_test shape:  (1056, 9)\n",
      "\n",
      "Protected groups splits:\n",
      "sex_race_priv (88, 11)\n",
      "sex_race_dis (518, 11)\n",
      "sex_priv (199, 11)\n",
      "sex_dis (857, 11)\n",
      "race_priv (427, 11)\n",
      "race_dis (629, 11)\n",
      "\n",
      "\n",
      "X train and validation set: \n"
     ]
    },
    {
     "data": {
      "text/plain": "      age_cat_25 - 45_0  c_charge_degree_M_1  juv_other_count  \\\n470                   0                    0        -0.148179   \n1328                  0                    0        -0.148179   \n3551                  0                    1        -0.148179   \n1628                  0                    1        -0.148179   \n4138                  0                    0         1.111816   \n5030                  0                    0        -0.148179   \n4510                  0                    1        -0.148179   \n1676                  1                    0        -0.148179   \n5047                  0                    1        -0.148179   \n1554                  1                    1        -0.148179   \n\n      age_cat_Less than 25_0  c_charge_degree_F_0  c_charge_degree_F_1  \\\n470                        1                    0                    1   \n1328                       1                    0                    1   \n3551                       1                    1                    0   \n1628                       1                    1                    0   \n4138                       1                    0                    1   \n5030                       1                    0                    1   \n4510                       1                    1                    0   \n1676                       0                    0                    1   \n5047                       1                    1                    0   \n1554                       1                    1                    0   \n\n      age_cat_Less than 25_1  age_cat_25 - 45_1  juv_fel_count  \\\n470                        0                  1      -0.098697   \n1328                       0                  1      -0.098697   \n3551                       0                  1      -0.098697   \n1628                       0                  1      -0.098697   \n4138                       0                  1      -0.098697   \n5030                       0                  1      -0.098697   \n4510                       0                  1      -0.098697   \n1676                       1                  0      -0.098697   \n5047                       0                  1      -0.098697   \n1554                       0                  0      -0.098697   \n\n      juv_misd_count  priors_count  c_charge_degree_M_0  \\\n470        -0.127240      0.106154                    1   \n1328        0.348324      2.409132                    1   \n3551       -0.127240      0.620185                    0   \n1628       -0.127240     -0.085761                    0   \n4138       -0.127240     -0.280851                    1   \n5030       -0.127240      0.693041                    1   \n4510       -0.127240     -0.085761                    0   \n1676       -0.127240     -0.661506                    1   \n5047       -0.127240     -0.469591                    0   \n1554       -0.127240     -0.668317                    0   \n\n      age_cat_Greater than 45_0  age_cat_Greater than 45_1  \n470                           1                          0  \n1328                          1                          0  \n3551                          1                          0  \n1628                          1                          0  \n4138                          1                          0  \n5030                          1                          0  \n4510                          1                          0  \n1676                          1                          0  \n5047                          1                          0  \n1554                          0                          1  ",
      "text/html": "<div>\n<style scoped>\n    .dataframe tbody tr th:only-of-type {\n        vertical-align: middle;\n    }\n\n    .dataframe tbody tr th {\n        vertical-align: top;\n    }\n\n    .dataframe thead th {\n        text-align: right;\n    }\n</style>\n<table border=\"1\" class=\"dataframe\">\n  <thead>\n    <tr style=\"text-align: right;\">\n      <th></th>\n      <th>age_cat_25 - 45_0</th>\n      <th>c_charge_degree_M_1</th>\n      <th>juv_other_count</th>\n      <th>age_cat_Less than 25_0</th>\n      <th>c_charge_degree_F_0</th>\n      <th>c_charge_degree_F_1</th>\n      <th>age_cat_Less than 25_1</th>\n      <th>age_cat_25 - 45_1</th>\n      <th>juv_fel_count</th>\n      <th>juv_misd_count</th>\n      <th>priors_count</th>\n      <th>c_charge_degree_M_0</th>\n      <th>age_cat_Greater than 45_0</th>\n      <th>age_cat_Greater than 45_1</th>\n    </tr>\n  </thead>\n  <tbody>\n    <tr>\n      <th>470</th>\n      <td>0</td>\n      <td>0</td>\n      <td>-0.148179</td>\n      <td>1</td>\n      <td>0</td>\n      <td>1</td>\n      <td>0</td>\n      <td>1</td>\n      <td>-0.098697</td>\n      <td>-0.127240</td>\n      <td>0.106154</td>\n      <td>1</td>\n      <td>1</td>\n      <td>0</td>\n    </tr>\n    <tr>\n      <th>1328</th>\n      <td>0</td>\n      <td>0</td>\n      <td>-0.148179</td>\n      <td>1</td>\n      <td>0</td>\n      <td>1</td>\n      <td>0</td>\n      <td>1</td>\n      <td>-0.098697</td>\n      <td>0.348324</td>\n      <td>2.409132</td>\n      <td>1</td>\n      <td>1</td>\n      <td>0</td>\n    </tr>\n    <tr>\n      <th>3551</th>\n      <td>0</td>\n      <td>1</td>\n      <td>-0.148179</td>\n      <td>1</td>\n      <td>1</td>\n      <td>0</td>\n      <td>0</td>\n      <td>1</td>\n      <td>-0.098697</td>\n      <td>-0.127240</td>\n      <td>0.620185</td>\n      <td>0</td>\n      <td>1</td>\n      <td>0</td>\n    </tr>\n    <tr>\n      <th>1628</th>\n      <td>0</td>\n      <td>1</td>\n      <td>-0.148179</td>\n      <td>1</td>\n      <td>1</td>\n      <td>0</td>\n      <td>0</td>\n      <td>1</td>\n      <td>-0.098697</td>\n      <td>-0.127240</td>\n      <td>-0.085761</td>\n      <td>0</td>\n      <td>1</td>\n      <td>0</td>\n    </tr>\n    <tr>\n      <th>4138</th>\n      <td>0</td>\n      <td>0</td>\n      <td>1.111816</td>\n      <td>1</td>\n      <td>0</td>\n      <td>1</td>\n      <td>0</td>\n      <td>1</td>\n      <td>-0.098697</td>\n      <td>-0.127240</td>\n      <td>-0.280851</td>\n      <td>1</td>\n      <td>1</td>\n      <td>0</td>\n    </tr>\n    <tr>\n      <th>5030</th>\n      <td>0</td>\n      <td>0</td>\n      <td>-0.148179</td>\n      <td>1</td>\n      <td>0</td>\n      <td>1</td>\n      <td>0</td>\n      <td>1</td>\n      <td>-0.098697</td>\n      <td>-0.127240</td>\n      <td>0.693041</td>\n      <td>1</td>\n      <td>1</td>\n      <td>0</td>\n    </tr>\n    <tr>\n      <th>4510</th>\n      <td>0</td>\n      <td>1</td>\n      <td>-0.148179</td>\n      <td>1</td>\n      <td>1</td>\n      <td>0</td>\n      <td>0</td>\n      <td>1</td>\n      <td>-0.098697</td>\n      <td>-0.127240</td>\n      <td>-0.085761</td>\n      <td>0</td>\n      <td>1</td>\n      <td>0</td>\n    </tr>\n    <tr>\n      <th>1676</th>\n      <td>1</td>\n      <td>0</td>\n      <td>-0.148179</td>\n      <td>0</td>\n      <td>0</td>\n      <td>1</td>\n      <td>1</td>\n      <td>0</td>\n      <td>-0.098697</td>\n      <td>-0.127240</td>\n      <td>-0.661506</td>\n      <td>1</td>\n      <td>1</td>\n      <td>0</td>\n    </tr>\n    <tr>\n      <th>5047</th>\n      <td>0</td>\n      <td>1</td>\n      <td>-0.148179</td>\n      <td>1</td>\n      <td>1</td>\n      <td>0</td>\n      <td>0</td>\n      <td>1</td>\n      <td>-0.098697</td>\n      <td>-0.127240</td>\n      <td>-0.469591</td>\n      <td>0</td>\n      <td>1</td>\n      <td>0</td>\n    </tr>\n    <tr>\n      <th>1554</th>\n      <td>1</td>\n      <td>1</td>\n      <td>-0.148179</td>\n      <td>1</td>\n      <td>1</td>\n      <td>0</td>\n      <td>0</td>\n      <td>0</td>\n      <td>-0.098697</td>\n      <td>-0.127240</td>\n      <td>-0.668317</td>\n      <td>0</td>\n      <td>0</td>\n      <td>1</td>\n    </tr>\n  </tbody>\n</table>\n</div>"
     },
     "metadata": {},
     "output_type": "display_data"
    },
    {
     "name": "stderr",
     "output_type": "stream",
     "text": [
      "2023-01-22 01:59:39 abstract_overall_variance_analyzer.py INFO    : Start testing of classifier 1 / 20\n",
      "2023-01-22 01:59:39 abstract_overall_variance_analyzer.py INFO    : Classifier 1 / 20 was tested\n",
      "2023-01-22 01:59:39 abstract_overall_variance_analyzer.py INFO    : Start testing of classifier 2 / 20\n",
      "2023-01-22 01:59:39 abstract_overall_variance_analyzer.py INFO    : Classifier 2 / 20 was tested\n",
      "2023-01-22 01:59:39 abstract_overall_variance_analyzer.py INFO    : Start testing of classifier 3 / 20\n",
      "2023-01-22 01:59:39 abstract_overall_variance_analyzer.py INFO    : Classifier 3 / 20 was tested\n",
      "2023-01-22 01:59:39 abstract_overall_variance_analyzer.py INFO    : Start testing of classifier 4 / 20\n",
      "2023-01-22 01:59:39 abstract_overall_variance_analyzer.py INFO    : Classifier 4 / 20 was tested\n",
      "2023-01-22 01:59:39 abstract_overall_variance_analyzer.py INFO    : Start testing of classifier 5 / 20\n",
      "2023-01-22 01:59:39 abstract_overall_variance_analyzer.py INFO    : Classifier 5 / 20 was tested\n",
      "2023-01-22 01:59:39 abstract_overall_variance_analyzer.py INFO    : Start testing of classifier 6 / 20\n",
      "2023-01-22 01:59:39 abstract_overall_variance_analyzer.py INFO    : Classifier 6 / 20 was tested\n",
      "2023-01-22 01:59:39 abstract_overall_variance_analyzer.py INFO    : Start testing of classifier 7 / 20\n",
      "2023-01-22 01:59:39 abstract_overall_variance_analyzer.py INFO    : Classifier 7 / 20 was tested\n",
      "2023-01-22 01:59:39 abstract_overall_variance_analyzer.py INFO    : Start testing of classifier 8 / 20\n",
      "2023-01-22 01:59:39 abstract_overall_variance_analyzer.py INFO    : Classifier 8 / 20 was tested\n",
      "2023-01-22 01:59:39 abstract_overall_variance_analyzer.py INFO    : Start testing of classifier 9 / 20\n",
      "2023-01-22 01:59:39 abstract_overall_variance_analyzer.py INFO    : Classifier 9 / 20 was tested\n",
      "2023-01-22 01:59:39 abstract_overall_variance_analyzer.py INFO    : Start testing of classifier 10 / 20\n",
      "2023-01-22 01:59:39 abstract_overall_variance_analyzer.py INFO    : Classifier 10 / 20 was tested\n",
      "2023-01-22 01:59:39 abstract_overall_variance_analyzer.py INFO    : Start testing of classifier 11 / 20\n",
      "2023-01-22 01:59:39 abstract_overall_variance_analyzer.py INFO    : Classifier 11 / 20 was tested\n",
      "2023-01-22 01:59:39 abstract_overall_variance_analyzer.py INFO    : Start testing of classifier 12 / 20\n",
      "2023-01-22 01:59:39 abstract_overall_variance_analyzer.py INFO    : Classifier 12 / 20 was tested\n",
      "2023-01-22 01:59:39 abstract_overall_variance_analyzer.py INFO    : Start testing of classifier 13 / 20\n",
      "2023-01-22 01:59:39 abstract_overall_variance_analyzer.py INFO    : Classifier 13 / 20 was tested\n",
      "2023-01-22 01:59:39 abstract_overall_variance_analyzer.py INFO    : Start testing of classifier 14 / 20\n",
      "2023-01-22 01:59:39 abstract_overall_variance_analyzer.py INFO    : Classifier 14 / 20 was tested\n",
      "2023-01-22 01:59:39 abstract_overall_variance_analyzer.py INFO    : Start testing of classifier 15 / 20\n",
      "2023-01-22 01:59:39 abstract_overall_variance_analyzer.py INFO    : Classifier 15 / 20 was tested\n",
      "2023-01-22 01:59:39 abstract_overall_variance_analyzer.py INFO    : Start testing of classifier 16 / 20\n",
      "2023-01-22 01:59:39 abstract_overall_variance_analyzer.py INFO    : Classifier 16 / 20 was tested\n",
      "2023-01-22 01:59:39 abstract_overall_variance_analyzer.py INFO    : Start testing of classifier 17 / 20\n",
      "2023-01-22 01:59:39 abstract_overall_variance_analyzer.py INFO    : Classifier 17 / 20 was tested\n",
      "2023-01-22 01:59:39 abstract_overall_variance_analyzer.py INFO    : Start testing of classifier 18 / 20\n",
      "2023-01-22 01:59:39 abstract_overall_variance_analyzer.py INFO    : Classifier 18 / 20 was tested\n",
      "2023-01-22 01:59:39 abstract_overall_variance_analyzer.py INFO    : Start testing of classifier 19 / 20\n",
      "2023-01-22 01:59:39 abstract_overall_variance_analyzer.py INFO    : Classifier 19 / 20 was tested\n",
      "2023-01-22 01:59:39 abstract_overall_variance_analyzer.py INFO    : Start testing of classifier 20 / 20\n",
      "2023-01-22 01:59:39 abstract_overall_variance_analyzer.py INFO    : Classifier 20 / 20 was tested\n",
      "2023-01-22 01:59:39 abstract_overall_variance_analyzer.py INFO    : Successfully computed predict proba metrics\n"
     ]
    },
    {
     "name": "stdout",
     "output_type": "stream",
     "text": [
      "\n",
      "\n",
      "##############################  Stability metrics  ##############################\n",
      "General Ensemble Accuracy: 0.6818\n",
      "Mean: 0.527\n",
      "Std: 0.073\n",
      "IQR: 0.0854\n",
      "Entropy: 0.0\n",
      "Jitter: 0.1427\n",
      "Per sample accuracy: 0.6588\n",
      "Label stability: 0.8114\n",
      "\n",
      "\n",
      "\n",
      "[DecisionTreeClassifier] Metrics confusion matrix:\n"
     ]
    },
    {
     "data": {
      "text/plain": "                       Metric   overall  sex_race_priv  sex_race_dis  \\\n0   General_Ensemble_Accuracy  0.681818       0.636364      0.679537   \n1                        Mean  0.527020       0.595319      0.471571   \n2                         Std  0.073038       0.085193      0.075874   \n3                         IQR  0.085390       0.083619      0.089834   \n4                     Entropy  0.000000       0.000000      0.230817   \n5                      Jitter  0.142683       0.140132      0.156706   \n6         Per_Sample_Accuracy  0.658807       0.641477      0.649710   \n7             Label_Stability  0.811364       0.826136      0.792857   \n8                         TPR  0.634497       0.360000      0.720848   \n9                         TNR  0.722320       0.746032      0.629787   \n10                        PPV  0.661670       0.360000      0.701031   \n11                        FNR  0.365503       0.640000      0.279152   \n12                        FPR  0.277680       0.253968      0.370213   \n13                   Accuracy  0.681818       0.636364      0.679537   \n14                         F1  0.647799       0.360000      0.710801   \n15             Selection-Rate  0.442235       0.284091      0.561776   \n16              Positive-Rate  0.958932       1.000000      1.028269   \n\n    sex_priv   sex_dis  race_priv  race_dis  Model_Seed  \\\n0   0.683417  0.681447   0.674473  0.686804         101   \n1   0.564177  0.518392   0.591045  0.483556         101   \n2   0.075944  0.072363   0.070749  0.074592         101   \n3   0.081929  0.086193   0.081246  0.088203         101   \n4   0.000000  0.000000   0.000000  0.229910         101   \n5   0.147210  0.141632   0.123037  0.156020         101   \n6   0.681910  0.653442   0.655504  0.661049         101   \n7   0.807035  0.812369   0.838876  0.792687         101   \n8   0.557143  0.647482   0.471698  0.713415         101   \n9   0.751938  0.713636   0.794776  0.657807         101   \n10  0.549296  0.681818   0.576923  0.694362         101   \n11  0.442857  0.352518   0.528302  0.286585         101   \n12  0.248062  0.286364   0.205224  0.342193         101   \n13  0.683417  0.681447   0.674473  0.686804         101   \n14  0.553191  0.664207   0.519031  0.703759         101   \n15  0.356784  0.462077   0.304450  0.535771         101   \n16  1.014286  0.949640   0.817610  1.027439         101   \n\n                Model_Name  \n0   DecisionTreeClassifier  \n1   DecisionTreeClassifier  \n2   DecisionTreeClassifier  \n3   DecisionTreeClassifier  \n4   DecisionTreeClassifier  \n5   DecisionTreeClassifier  \n6   DecisionTreeClassifier  \n7   DecisionTreeClassifier  \n8   DecisionTreeClassifier  \n9   DecisionTreeClassifier  \n10  DecisionTreeClassifier  \n11  DecisionTreeClassifier  \n12  DecisionTreeClassifier  \n13  DecisionTreeClassifier  \n14  DecisionTreeClassifier  \n15  DecisionTreeClassifier  \n16  DecisionTreeClassifier  ",
      "text/html": "<div>\n<style scoped>\n    .dataframe tbody tr th:only-of-type {\n        vertical-align: middle;\n    }\n\n    .dataframe tbody tr th {\n        vertical-align: top;\n    }\n\n    .dataframe thead th {\n        text-align: right;\n    }\n</style>\n<table border=\"1\" class=\"dataframe\">\n  <thead>\n    <tr style=\"text-align: right;\">\n      <th></th>\n      <th>Metric</th>\n      <th>overall</th>\n      <th>sex_race_priv</th>\n      <th>sex_race_dis</th>\n      <th>sex_priv</th>\n      <th>sex_dis</th>\n      <th>race_priv</th>\n      <th>race_dis</th>\n      <th>Model_Seed</th>\n      <th>Model_Name</th>\n    </tr>\n  </thead>\n  <tbody>\n    <tr>\n      <th>0</th>\n      <td>General_Ensemble_Accuracy</td>\n      <td>0.681818</td>\n      <td>0.636364</td>\n      <td>0.679537</td>\n      <td>0.683417</td>\n      <td>0.681447</td>\n      <td>0.674473</td>\n      <td>0.686804</td>\n      <td>101</td>\n      <td>DecisionTreeClassifier</td>\n    </tr>\n    <tr>\n      <th>1</th>\n      <td>Mean</td>\n      <td>0.527020</td>\n      <td>0.595319</td>\n      <td>0.471571</td>\n      <td>0.564177</td>\n      <td>0.518392</td>\n      <td>0.591045</td>\n      <td>0.483556</td>\n      <td>101</td>\n      <td>DecisionTreeClassifier</td>\n    </tr>\n    <tr>\n      <th>2</th>\n      <td>Std</td>\n      <td>0.073038</td>\n      <td>0.085193</td>\n      <td>0.075874</td>\n      <td>0.075944</td>\n      <td>0.072363</td>\n      <td>0.070749</td>\n      <td>0.074592</td>\n      <td>101</td>\n      <td>DecisionTreeClassifier</td>\n    </tr>\n    <tr>\n      <th>3</th>\n      <td>IQR</td>\n      <td>0.085390</td>\n      <td>0.083619</td>\n      <td>0.089834</td>\n      <td>0.081929</td>\n      <td>0.086193</td>\n      <td>0.081246</td>\n      <td>0.088203</td>\n      <td>101</td>\n      <td>DecisionTreeClassifier</td>\n    </tr>\n    <tr>\n      <th>4</th>\n      <td>Entropy</td>\n      <td>0.000000</td>\n      <td>0.000000</td>\n      <td>0.230817</td>\n      <td>0.000000</td>\n      <td>0.000000</td>\n      <td>0.000000</td>\n      <td>0.229910</td>\n      <td>101</td>\n      <td>DecisionTreeClassifier</td>\n    </tr>\n    <tr>\n      <th>5</th>\n      <td>Jitter</td>\n      <td>0.142683</td>\n      <td>0.140132</td>\n      <td>0.156706</td>\n      <td>0.147210</td>\n      <td>0.141632</td>\n      <td>0.123037</td>\n      <td>0.156020</td>\n      <td>101</td>\n      <td>DecisionTreeClassifier</td>\n    </tr>\n    <tr>\n      <th>6</th>\n      <td>Per_Sample_Accuracy</td>\n      <td>0.658807</td>\n      <td>0.641477</td>\n      <td>0.649710</td>\n      <td>0.681910</td>\n      <td>0.653442</td>\n      <td>0.655504</td>\n      <td>0.661049</td>\n      <td>101</td>\n      <td>DecisionTreeClassifier</td>\n    </tr>\n    <tr>\n      <th>7</th>\n      <td>Label_Stability</td>\n      <td>0.811364</td>\n      <td>0.826136</td>\n      <td>0.792857</td>\n      <td>0.807035</td>\n      <td>0.812369</td>\n      <td>0.838876</td>\n      <td>0.792687</td>\n      <td>101</td>\n      <td>DecisionTreeClassifier</td>\n    </tr>\n    <tr>\n      <th>8</th>\n      <td>TPR</td>\n      <td>0.634497</td>\n      <td>0.360000</td>\n      <td>0.720848</td>\n      <td>0.557143</td>\n      <td>0.647482</td>\n      <td>0.471698</td>\n      <td>0.713415</td>\n      <td>101</td>\n      <td>DecisionTreeClassifier</td>\n    </tr>\n    <tr>\n      <th>9</th>\n      <td>TNR</td>\n      <td>0.722320</td>\n      <td>0.746032</td>\n      <td>0.629787</td>\n      <td>0.751938</td>\n      <td>0.713636</td>\n      <td>0.794776</td>\n      <td>0.657807</td>\n      <td>101</td>\n      <td>DecisionTreeClassifier</td>\n    </tr>\n    <tr>\n      <th>10</th>\n      <td>PPV</td>\n      <td>0.661670</td>\n      <td>0.360000</td>\n      <td>0.701031</td>\n      <td>0.549296</td>\n      <td>0.681818</td>\n      <td>0.576923</td>\n      <td>0.694362</td>\n      <td>101</td>\n      <td>DecisionTreeClassifier</td>\n    </tr>\n    <tr>\n      <th>11</th>\n      <td>FNR</td>\n      <td>0.365503</td>\n      <td>0.640000</td>\n      <td>0.279152</td>\n      <td>0.442857</td>\n      <td>0.352518</td>\n      <td>0.528302</td>\n      <td>0.286585</td>\n      <td>101</td>\n      <td>DecisionTreeClassifier</td>\n    </tr>\n    <tr>\n      <th>12</th>\n      <td>FPR</td>\n      <td>0.277680</td>\n      <td>0.253968</td>\n      <td>0.370213</td>\n      <td>0.248062</td>\n      <td>0.286364</td>\n      <td>0.205224</td>\n      <td>0.342193</td>\n      <td>101</td>\n      <td>DecisionTreeClassifier</td>\n    </tr>\n    <tr>\n      <th>13</th>\n      <td>Accuracy</td>\n      <td>0.681818</td>\n      <td>0.636364</td>\n      <td>0.679537</td>\n      <td>0.683417</td>\n      <td>0.681447</td>\n      <td>0.674473</td>\n      <td>0.686804</td>\n      <td>101</td>\n      <td>DecisionTreeClassifier</td>\n    </tr>\n    <tr>\n      <th>14</th>\n      <td>F1</td>\n      <td>0.647799</td>\n      <td>0.360000</td>\n      <td>0.710801</td>\n      <td>0.553191</td>\n      <td>0.664207</td>\n      <td>0.519031</td>\n      <td>0.703759</td>\n      <td>101</td>\n      <td>DecisionTreeClassifier</td>\n    </tr>\n    <tr>\n      <th>15</th>\n      <td>Selection-Rate</td>\n      <td>0.442235</td>\n      <td>0.284091</td>\n      <td>0.561776</td>\n      <td>0.356784</td>\n      <td>0.462077</td>\n      <td>0.304450</td>\n      <td>0.535771</td>\n      <td>101</td>\n      <td>DecisionTreeClassifier</td>\n    </tr>\n    <tr>\n      <th>16</th>\n      <td>Positive-Rate</td>\n      <td>0.958932</td>\n      <td>1.000000</td>\n      <td>1.028269</td>\n      <td>1.014286</td>\n      <td>0.949640</td>\n      <td>0.817610</td>\n      <td>1.027439</td>\n      <td>101</td>\n      <td>DecisionTreeClassifier</td>\n    </tr>\n  </tbody>\n</table>\n</div>"
     },
     "metadata": {},
     "output_type": "display_data"
    },
    {
     "name": "stderr",
     "output_type": "stream",
     "text": [
      "100%|██████████| 1/1 [00:02<00:00,  2.38s/it]\n"
     ]
    },
    {
     "name": "stdout",
     "output_type": "stream",
     "text": [
      "\n",
      "\n",
      "\n",
      "\n"
     ]
    },
    {
     "name": "stderr",
     "output_type": "stream",
     "text": [
      "  0%|          | 0/1 [00:00<?, ?it/s]"
     ]
    },
    {
     "name": "stdout",
     "output_type": "stream",
     "text": [
      "##############################  [Model 1 / 1] Analyze DecisionTreeClassifier  ##############################\n",
      "Baseline X_train shape:  (4222, 9)\n",
      "Baseline X_test shape:  (1056, 9)\n",
      "\n",
      "Protected groups splits:\n",
      "sex_race_priv (87, 11)\n",
      "sex_race_dis (534, 11)\n",
      "sex_priv (200, 11)\n",
      "sex_dis (856, 11)\n",
      "race_priv (409, 11)\n",
      "race_dis (647, 11)\n",
      "\n",
      "\n",
      "X train and validation set: \n"
     ]
    },
    {
     "data": {
      "text/plain": "      age_cat_25 - 45_0  c_charge_degree_M_1  juv_other_count  \\\n2780                  0                    0        -0.157934   \n1047                  0                    1        -0.157934   \n3152                  1                    0        -0.157934   \n2076                  1                    0        -0.157934   \n1015                  1                    1        -0.157934   \n3981                  0                    0        -0.157934   \n1171                  1                    0         3.909141   \n2653                  0                    1        -0.157934   \n4567                  1                    0        -0.157934   \n2102                  0                    0        -0.157934   \n\n      age_cat_Less than 25_0  c_charge_degree_F_0  c_charge_degree_F_1  \\\n2780                       1                    0                    1   \n1047                       1                    1                    0   \n3152                       1                    0                    1   \n2076                       0                    0                    1   \n1015                       1                    1                    0   \n3981                       1                    0                    1   \n1171                       0                    0                    1   \n2653                       1                    1                    0   \n4567                       1                    0                    1   \n2102                       1                    0                    1   \n\n      age_cat_Less than 25_1  age_cat_25 - 45_1  juv_fel_count  \\\n2780                       0                  1      -0.090147   \n1047                       0                  1      -0.090147   \n3152                       0                  0      -0.090147   \n2076                       1                  0      -0.090147   \n1015                       0                  0      -0.090147   \n3981                       0                  1      -0.090147   \n1171                       1                  0      -0.090147   \n2653                       0                  1      -0.090147   \n4567                       0                  0      -0.090147   \n2102                       0                  1      -0.090147   \n\n      juv_misd_count  priors_count  c_charge_degree_M_0  \\\n2780       -0.131370      2.962771                    1   \n1047       -0.131370      0.106375                    0   \n3152       -0.131370      2.440022                    1   \n2076        1.035096     -0.274477                    1   \n1015       -0.131370      1.635749                    0   \n3981       -0.131370     -0.655330                    1   \n1171        0.261117      0.015578                    1   \n2653       -0.131370     -0.655330                    0   \n4567       -0.131370      0.487228                    1   \n2102       -0.131370     -0.655330                    1   \n\n      age_cat_Greater than 45_0  age_cat_Greater than 45_1  \n2780                          1                          0  \n1047                          1                          0  \n3152                          0                          1  \n2076                          1                          0  \n1015                          0                          1  \n3981                          1                          0  \n1171                          1                          0  \n2653                          1                          0  \n4567                          0                          1  \n2102                          1                          0  ",
      "text/html": "<div>\n<style scoped>\n    .dataframe tbody tr th:only-of-type {\n        vertical-align: middle;\n    }\n\n    .dataframe tbody tr th {\n        vertical-align: top;\n    }\n\n    .dataframe thead th {\n        text-align: right;\n    }\n</style>\n<table border=\"1\" class=\"dataframe\">\n  <thead>\n    <tr style=\"text-align: right;\">\n      <th></th>\n      <th>age_cat_25 - 45_0</th>\n      <th>c_charge_degree_M_1</th>\n      <th>juv_other_count</th>\n      <th>age_cat_Less than 25_0</th>\n      <th>c_charge_degree_F_0</th>\n      <th>c_charge_degree_F_1</th>\n      <th>age_cat_Less than 25_1</th>\n      <th>age_cat_25 - 45_1</th>\n      <th>juv_fel_count</th>\n      <th>juv_misd_count</th>\n      <th>priors_count</th>\n      <th>c_charge_degree_M_0</th>\n      <th>age_cat_Greater than 45_0</th>\n      <th>age_cat_Greater than 45_1</th>\n    </tr>\n  </thead>\n  <tbody>\n    <tr>\n      <th>2780</th>\n      <td>0</td>\n      <td>0</td>\n      <td>-0.157934</td>\n      <td>1</td>\n      <td>0</td>\n      <td>1</td>\n      <td>0</td>\n      <td>1</td>\n      <td>-0.090147</td>\n      <td>-0.131370</td>\n      <td>2.962771</td>\n      <td>1</td>\n      <td>1</td>\n      <td>0</td>\n    </tr>\n    <tr>\n      <th>1047</th>\n      <td>0</td>\n      <td>1</td>\n      <td>-0.157934</td>\n      <td>1</td>\n      <td>1</td>\n      <td>0</td>\n      <td>0</td>\n      <td>1</td>\n      <td>-0.090147</td>\n      <td>-0.131370</td>\n      <td>0.106375</td>\n      <td>0</td>\n      <td>1</td>\n      <td>0</td>\n    </tr>\n    <tr>\n      <th>3152</th>\n      <td>1</td>\n      <td>0</td>\n      <td>-0.157934</td>\n      <td>1</td>\n      <td>0</td>\n      <td>1</td>\n      <td>0</td>\n      <td>0</td>\n      <td>-0.090147</td>\n      <td>-0.131370</td>\n      <td>2.440022</td>\n      <td>1</td>\n      <td>0</td>\n      <td>1</td>\n    </tr>\n    <tr>\n      <th>2076</th>\n      <td>1</td>\n      <td>0</td>\n      <td>-0.157934</td>\n      <td>0</td>\n      <td>0</td>\n      <td>1</td>\n      <td>1</td>\n      <td>0</td>\n      <td>-0.090147</td>\n      <td>1.035096</td>\n      <td>-0.274477</td>\n      <td>1</td>\n      <td>1</td>\n      <td>0</td>\n    </tr>\n    <tr>\n      <th>1015</th>\n      <td>1</td>\n      <td>1</td>\n      <td>-0.157934</td>\n      <td>1</td>\n      <td>1</td>\n      <td>0</td>\n      <td>0</td>\n      <td>0</td>\n      <td>-0.090147</td>\n      <td>-0.131370</td>\n      <td>1.635749</td>\n      <td>0</td>\n      <td>0</td>\n      <td>1</td>\n    </tr>\n    <tr>\n      <th>3981</th>\n      <td>0</td>\n      <td>0</td>\n      <td>-0.157934</td>\n      <td>1</td>\n      <td>0</td>\n      <td>1</td>\n      <td>0</td>\n      <td>1</td>\n      <td>-0.090147</td>\n      <td>-0.131370</td>\n      <td>-0.655330</td>\n      <td>1</td>\n      <td>1</td>\n      <td>0</td>\n    </tr>\n    <tr>\n      <th>1171</th>\n      <td>1</td>\n      <td>0</td>\n      <td>3.909141</td>\n      <td>0</td>\n      <td>0</td>\n      <td>1</td>\n      <td>1</td>\n      <td>0</td>\n      <td>-0.090147</td>\n      <td>0.261117</td>\n      <td>0.015578</td>\n      <td>1</td>\n      <td>1</td>\n      <td>0</td>\n    </tr>\n    <tr>\n      <th>2653</th>\n      <td>0</td>\n      <td>1</td>\n      <td>-0.157934</td>\n      <td>1</td>\n      <td>1</td>\n      <td>0</td>\n      <td>0</td>\n      <td>1</td>\n      <td>-0.090147</td>\n      <td>-0.131370</td>\n      <td>-0.655330</td>\n      <td>0</td>\n      <td>1</td>\n      <td>0</td>\n    </tr>\n    <tr>\n      <th>4567</th>\n      <td>1</td>\n      <td>0</td>\n      <td>-0.157934</td>\n      <td>1</td>\n      <td>0</td>\n      <td>1</td>\n      <td>0</td>\n      <td>0</td>\n      <td>-0.090147</td>\n      <td>-0.131370</td>\n      <td>0.487228</td>\n      <td>1</td>\n      <td>0</td>\n      <td>1</td>\n    </tr>\n    <tr>\n      <th>2102</th>\n      <td>0</td>\n      <td>0</td>\n      <td>-0.157934</td>\n      <td>1</td>\n      <td>0</td>\n      <td>1</td>\n      <td>0</td>\n      <td>1</td>\n      <td>-0.090147</td>\n      <td>-0.131370</td>\n      <td>-0.655330</td>\n      <td>1</td>\n      <td>1</td>\n      <td>0</td>\n    </tr>\n  </tbody>\n</table>\n</div>"
     },
     "metadata": {},
     "output_type": "display_data"
    },
    {
     "name": "stderr",
     "output_type": "stream",
     "text": [
      "2023-01-22 01:59:41 abstract_overall_variance_analyzer.py INFO    : Start testing of classifier 1 / 20\n",
      "2023-01-22 01:59:41 abstract_overall_variance_analyzer.py INFO    : Classifier 1 / 20 was tested\n",
      "2023-01-22 01:59:41 abstract_overall_variance_analyzer.py INFO    : Start testing of classifier 2 / 20\n",
      "2023-01-22 01:59:41 abstract_overall_variance_analyzer.py INFO    : Classifier 2 / 20 was tested\n",
      "2023-01-22 01:59:41 abstract_overall_variance_analyzer.py INFO    : Start testing of classifier 3 / 20\n",
      "2023-01-22 01:59:41 abstract_overall_variance_analyzer.py INFO    : Classifier 3 / 20 was tested\n",
      "2023-01-22 01:59:41 abstract_overall_variance_analyzer.py INFO    : Start testing of classifier 4 / 20\n",
      "2023-01-22 01:59:41 abstract_overall_variance_analyzer.py INFO    : Classifier 4 / 20 was tested\n",
      "2023-01-22 01:59:41 abstract_overall_variance_analyzer.py INFO    : Start testing of classifier 5 / 20\n",
      "2023-01-22 01:59:41 abstract_overall_variance_analyzer.py INFO    : Classifier 5 / 20 was tested\n",
      "2023-01-22 01:59:41 abstract_overall_variance_analyzer.py INFO    : Start testing of classifier 6 / 20\n",
      "2023-01-22 01:59:41 abstract_overall_variance_analyzer.py INFO    : Classifier 6 / 20 was tested\n",
      "2023-01-22 01:59:41 abstract_overall_variance_analyzer.py INFO    : Start testing of classifier 7 / 20\n",
      "2023-01-22 01:59:41 abstract_overall_variance_analyzer.py INFO    : Classifier 7 / 20 was tested\n",
      "2023-01-22 01:59:41 abstract_overall_variance_analyzer.py INFO    : Start testing of classifier 8 / 20\n",
      "2023-01-22 01:59:41 abstract_overall_variance_analyzer.py INFO    : Classifier 8 / 20 was tested\n",
      "2023-01-22 01:59:41 abstract_overall_variance_analyzer.py INFO    : Start testing of classifier 9 / 20\n",
      "2023-01-22 01:59:41 abstract_overall_variance_analyzer.py INFO    : Classifier 9 / 20 was tested\n",
      "2023-01-22 01:59:41 abstract_overall_variance_analyzer.py INFO    : Start testing of classifier 10 / 20\n",
      "2023-01-22 01:59:41 abstract_overall_variance_analyzer.py INFO    : Classifier 10 / 20 was tested\n",
      "2023-01-22 01:59:41 abstract_overall_variance_analyzer.py INFO    : Start testing of classifier 11 / 20\n",
      "2023-01-22 01:59:41 abstract_overall_variance_analyzer.py INFO    : Classifier 11 / 20 was tested\n",
      "2023-01-22 01:59:41 abstract_overall_variance_analyzer.py INFO    : Start testing of classifier 12 / 20\n",
      "2023-01-22 01:59:41 abstract_overall_variance_analyzer.py INFO    : Classifier 12 / 20 was tested\n",
      "2023-01-22 01:59:41 abstract_overall_variance_analyzer.py INFO    : Start testing of classifier 13 / 20\n",
      "2023-01-22 01:59:41 abstract_overall_variance_analyzer.py INFO    : Classifier 13 / 20 was tested\n",
      "2023-01-22 01:59:41 abstract_overall_variance_analyzer.py INFO    : Start testing of classifier 14 / 20\n",
      "2023-01-22 01:59:41 abstract_overall_variance_analyzer.py INFO    : Classifier 14 / 20 was tested\n",
      "2023-01-22 01:59:41 abstract_overall_variance_analyzer.py INFO    : Start testing of classifier 15 / 20\n",
      "2023-01-22 01:59:41 abstract_overall_variance_analyzer.py INFO    : Classifier 15 / 20 was tested\n",
      "2023-01-22 01:59:41 abstract_overall_variance_analyzer.py INFO    : Start testing of classifier 16 / 20\n",
      "2023-01-22 01:59:41 abstract_overall_variance_analyzer.py INFO    : Classifier 16 / 20 was tested\n",
      "2023-01-22 01:59:41 abstract_overall_variance_analyzer.py INFO    : Start testing of classifier 17 / 20\n",
      "2023-01-22 01:59:41 abstract_overall_variance_analyzer.py INFO    : Classifier 17 / 20 was tested\n",
      "2023-01-22 01:59:41 abstract_overall_variance_analyzer.py INFO    : Start testing of classifier 18 / 20\n",
      "2023-01-22 01:59:41 abstract_overall_variance_analyzer.py INFO    : Classifier 18 / 20 was tested\n",
      "2023-01-22 01:59:41 abstract_overall_variance_analyzer.py INFO    : Start testing of classifier 19 / 20\n",
      "2023-01-22 01:59:41 abstract_overall_variance_analyzer.py INFO    : Classifier 19 / 20 was tested\n",
      "2023-01-22 01:59:41 abstract_overall_variance_analyzer.py INFO    : Start testing of classifier 20 / 20\n",
      "2023-01-22 01:59:41 abstract_overall_variance_analyzer.py INFO    : Classifier 20 / 20 was tested\n",
      "2023-01-22 01:59:42 abstract_overall_variance_analyzer.py INFO    : Successfully computed predict proba metrics\n"
     ]
    },
    {
     "name": "stdout",
     "output_type": "stream",
     "text": [
      "\n",
      "\n",
      "##############################  Stability metrics  ##############################\n",
      "General Ensemble Accuracy: 0.6695\n",
      "Mean: 0.5227\n",
      "Std: 0.0708\n",
      "IQR: 0.0843\n",
      "Entropy: 0.0\n",
      "Jitter: 0.1211\n",
      "Per sample accuracy: 0.6624\n",
      "Label stability: 0.8501\n",
      "\n",
      "\n",
      "\n",
      "[DecisionTreeClassifier] Metrics confusion matrix:\n"
     ]
    },
    {
     "data": {
      "text/plain": "                       Metric   overall  sex_race_priv  sex_race_dis  \\\n0   General_Ensemble_Accuracy  0.669508       0.701149      0.674157   \n1                        Mean  0.522703       0.601949      0.471472   \n2                         Std  0.070803       0.080199      0.072303   \n3                         IQR  0.084336       0.104779      0.083739   \n4                     Entropy  0.000000       0.000000      0.000000   \n5                      Jitter  0.121117       0.133031      0.129489   \n6         Per_Sample_Accuracy  0.662358       0.677586      0.663670   \n7             Label_Stability  0.850095       0.819540      0.841573   \n8                         TPR  0.637895       0.531250      0.720848   \n9                         TNR  0.695353       0.800000      0.621514   \n10                        PPV  0.631250       0.607143      0.682274   \n11                        FNR  0.362105       0.468750      0.279152   \n12                        FPR  0.304647       0.200000      0.378486   \n13                   Accuracy  0.669508       0.701149      0.674157   \n14                         F1  0.634555       0.566667      0.701031   \n15             Selection-Rate  0.454545       0.321839      0.559925   \n16              Positive-Rate  1.010526       0.875000      1.056537   \n\n    sex_priv   sex_dis  race_priv  race_dis  Model_Seed  \\\n0   0.680000  0.667056   0.665037  0.672334         201   \n1   0.558899  0.514245   0.588747  0.480953         201   \n2   0.077259  0.069295   0.067687  0.072773         201   \n3   0.094597  0.081939   0.084446  0.084267         201   \n4   0.199215  0.000000   0.000000  0.000000         201   \n5   0.133842  0.118144   0.106499  0.130359         201   \n6   0.665000  0.661741   0.662592  0.662210         201   \n7   0.824000  0.856192   0.867482  0.839104         201   \n8   0.610390  0.643216   0.469388  0.713415         201   \n9   0.723577  0.687773   0.774809  0.630094         201   \n10  0.580247  0.641604   0.539062  0.664773         201   \n11  0.389610  0.356784   0.530612  0.286585         201   \n12  0.276423  0.312227   0.225191  0.369906         201   \n13  0.680000  0.667056   0.665037  0.672334         201   \n14  0.594937  0.642409   0.501818  0.688235         201   \n15  0.405000  0.466121   0.312958  0.544049         201   \n16  1.051948  1.002513   0.870748  1.073171         201   \n\n                Model_Name  \n0   DecisionTreeClassifier  \n1   DecisionTreeClassifier  \n2   DecisionTreeClassifier  \n3   DecisionTreeClassifier  \n4   DecisionTreeClassifier  \n5   DecisionTreeClassifier  \n6   DecisionTreeClassifier  \n7   DecisionTreeClassifier  \n8   DecisionTreeClassifier  \n9   DecisionTreeClassifier  \n10  DecisionTreeClassifier  \n11  DecisionTreeClassifier  \n12  DecisionTreeClassifier  \n13  DecisionTreeClassifier  \n14  DecisionTreeClassifier  \n15  DecisionTreeClassifier  \n16  DecisionTreeClassifier  ",
      "text/html": "<div>\n<style scoped>\n    .dataframe tbody tr th:only-of-type {\n        vertical-align: middle;\n    }\n\n    .dataframe tbody tr th {\n        vertical-align: top;\n    }\n\n    .dataframe thead th {\n        text-align: right;\n    }\n</style>\n<table border=\"1\" class=\"dataframe\">\n  <thead>\n    <tr style=\"text-align: right;\">\n      <th></th>\n      <th>Metric</th>\n      <th>overall</th>\n      <th>sex_race_priv</th>\n      <th>sex_race_dis</th>\n      <th>sex_priv</th>\n      <th>sex_dis</th>\n      <th>race_priv</th>\n      <th>race_dis</th>\n      <th>Model_Seed</th>\n      <th>Model_Name</th>\n    </tr>\n  </thead>\n  <tbody>\n    <tr>\n      <th>0</th>\n      <td>General_Ensemble_Accuracy</td>\n      <td>0.669508</td>\n      <td>0.701149</td>\n      <td>0.674157</td>\n      <td>0.680000</td>\n      <td>0.667056</td>\n      <td>0.665037</td>\n      <td>0.672334</td>\n      <td>201</td>\n      <td>DecisionTreeClassifier</td>\n    </tr>\n    <tr>\n      <th>1</th>\n      <td>Mean</td>\n      <td>0.522703</td>\n      <td>0.601949</td>\n      <td>0.471472</td>\n      <td>0.558899</td>\n      <td>0.514245</td>\n      <td>0.588747</td>\n      <td>0.480953</td>\n      <td>201</td>\n      <td>DecisionTreeClassifier</td>\n    </tr>\n    <tr>\n      <th>2</th>\n      <td>Std</td>\n      <td>0.070803</td>\n      <td>0.080199</td>\n      <td>0.072303</td>\n      <td>0.077259</td>\n      <td>0.069295</td>\n      <td>0.067687</td>\n      <td>0.072773</td>\n      <td>201</td>\n      <td>DecisionTreeClassifier</td>\n    </tr>\n    <tr>\n      <th>3</th>\n      <td>IQR</td>\n      <td>0.084336</td>\n      <td>0.104779</td>\n      <td>0.083739</td>\n      <td>0.094597</td>\n      <td>0.081939</td>\n      <td>0.084446</td>\n      <td>0.084267</td>\n      <td>201</td>\n      <td>DecisionTreeClassifier</td>\n    </tr>\n    <tr>\n      <th>4</th>\n      <td>Entropy</td>\n      <td>0.000000</td>\n      <td>0.000000</td>\n      <td>0.000000</td>\n      <td>0.199215</td>\n      <td>0.000000</td>\n      <td>0.000000</td>\n      <td>0.000000</td>\n      <td>201</td>\n      <td>DecisionTreeClassifier</td>\n    </tr>\n    <tr>\n      <th>5</th>\n      <td>Jitter</td>\n      <td>0.121117</td>\n      <td>0.133031</td>\n      <td>0.129489</td>\n      <td>0.133842</td>\n      <td>0.118144</td>\n      <td>0.106499</td>\n      <td>0.130359</td>\n      <td>201</td>\n      <td>DecisionTreeClassifier</td>\n    </tr>\n    <tr>\n      <th>6</th>\n      <td>Per_Sample_Accuracy</td>\n      <td>0.662358</td>\n      <td>0.677586</td>\n      <td>0.663670</td>\n      <td>0.665000</td>\n      <td>0.661741</td>\n      <td>0.662592</td>\n      <td>0.662210</td>\n      <td>201</td>\n      <td>DecisionTreeClassifier</td>\n    </tr>\n    <tr>\n      <th>7</th>\n      <td>Label_Stability</td>\n      <td>0.850095</td>\n      <td>0.819540</td>\n      <td>0.841573</td>\n      <td>0.824000</td>\n      <td>0.856192</td>\n      <td>0.867482</td>\n      <td>0.839104</td>\n      <td>201</td>\n      <td>DecisionTreeClassifier</td>\n    </tr>\n    <tr>\n      <th>8</th>\n      <td>TPR</td>\n      <td>0.637895</td>\n      <td>0.531250</td>\n      <td>0.720848</td>\n      <td>0.610390</td>\n      <td>0.643216</td>\n      <td>0.469388</td>\n      <td>0.713415</td>\n      <td>201</td>\n      <td>DecisionTreeClassifier</td>\n    </tr>\n    <tr>\n      <th>9</th>\n      <td>TNR</td>\n      <td>0.695353</td>\n      <td>0.800000</td>\n      <td>0.621514</td>\n      <td>0.723577</td>\n      <td>0.687773</td>\n      <td>0.774809</td>\n      <td>0.630094</td>\n      <td>201</td>\n      <td>DecisionTreeClassifier</td>\n    </tr>\n    <tr>\n      <th>10</th>\n      <td>PPV</td>\n      <td>0.631250</td>\n      <td>0.607143</td>\n      <td>0.682274</td>\n      <td>0.580247</td>\n      <td>0.641604</td>\n      <td>0.539062</td>\n      <td>0.664773</td>\n      <td>201</td>\n      <td>DecisionTreeClassifier</td>\n    </tr>\n    <tr>\n      <th>11</th>\n      <td>FNR</td>\n      <td>0.362105</td>\n      <td>0.468750</td>\n      <td>0.279152</td>\n      <td>0.389610</td>\n      <td>0.356784</td>\n      <td>0.530612</td>\n      <td>0.286585</td>\n      <td>201</td>\n      <td>DecisionTreeClassifier</td>\n    </tr>\n    <tr>\n      <th>12</th>\n      <td>FPR</td>\n      <td>0.304647</td>\n      <td>0.200000</td>\n      <td>0.378486</td>\n      <td>0.276423</td>\n      <td>0.312227</td>\n      <td>0.225191</td>\n      <td>0.369906</td>\n      <td>201</td>\n      <td>DecisionTreeClassifier</td>\n    </tr>\n    <tr>\n      <th>13</th>\n      <td>Accuracy</td>\n      <td>0.669508</td>\n      <td>0.701149</td>\n      <td>0.674157</td>\n      <td>0.680000</td>\n      <td>0.667056</td>\n      <td>0.665037</td>\n      <td>0.672334</td>\n      <td>201</td>\n      <td>DecisionTreeClassifier</td>\n    </tr>\n    <tr>\n      <th>14</th>\n      <td>F1</td>\n      <td>0.634555</td>\n      <td>0.566667</td>\n      <td>0.701031</td>\n      <td>0.594937</td>\n      <td>0.642409</td>\n      <td>0.501818</td>\n      <td>0.688235</td>\n      <td>201</td>\n      <td>DecisionTreeClassifier</td>\n    </tr>\n    <tr>\n      <th>15</th>\n      <td>Selection-Rate</td>\n      <td>0.454545</td>\n      <td>0.321839</td>\n      <td>0.559925</td>\n      <td>0.405000</td>\n      <td>0.466121</td>\n      <td>0.312958</td>\n      <td>0.544049</td>\n      <td>201</td>\n      <td>DecisionTreeClassifier</td>\n    </tr>\n    <tr>\n      <th>16</th>\n      <td>Positive-Rate</td>\n      <td>1.010526</td>\n      <td>0.875000</td>\n      <td>1.056537</td>\n      <td>1.051948</td>\n      <td>1.002513</td>\n      <td>0.870748</td>\n      <td>1.073171</td>\n      <td>201</td>\n      <td>DecisionTreeClassifier</td>\n    </tr>\n  </tbody>\n</table>\n</div>"
     },
     "metadata": {},
     "output_type": "display_data"
    },
    {
     "name": "stderr",
     "output_type": "stream",
     "text": [
      "100%|██████████| 1/1 [00:02<00:00,  2.38s/it]"
     ]
    },
    {
     "name": "stdout",
     "output_type": "stream",
     "text": [
      "\n",
      "\n",
      "\n",
      "\n"
     ]
    },
    {
     "name": "stderr",
     "output_type": "stream",
     "text": [
      "\n"
     ]
    }
   ],
   "source": [
    "multiple_runs_metrics_dct = compute_metrics_multiple_runs(dataset, config.TEST_SET_FRACTION, DATASET_NAME,\n",
    "                                                          config, models_tuned_params_df, N_ESTIMATORS, SENSITIVE_ATTRIBUTES, PRIV_VALUES,\n",
    "                                                          RUNS_SEED_LST, SAVE_RESULTS_DIR_PATH)"
   ]
  },
  {
   "cell_type": "code",
   "execution_count": 42,
   "id": "197eadaa",
   "metadata": {},
   "outputs": [],
   "source": []
  }
 ],
 "metadata": {
  "kernelspec": {
   "display_name": "Python 3 (ipykernel)",
   "language": "python",
   "name": "python3"
  },
  "language_info": {
   "codemirror_mode": {
    "name": "ipython",
    "version": 3
   },
   "file_extension": ".py",
   "mimetype": "text/x-python",
   "name": "python",
   "nbconvert_exporter": "python",
   "pygments_lexer": "ipython3",
   "version": "3.9.7"
  }
 },
 "nbformat": 4,
 "nbformat_minor": 5
}