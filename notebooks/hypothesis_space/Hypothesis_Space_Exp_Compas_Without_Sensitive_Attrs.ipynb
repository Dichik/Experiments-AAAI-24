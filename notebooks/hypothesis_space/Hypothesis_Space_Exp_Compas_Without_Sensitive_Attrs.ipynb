{
 "cells": [
  {
   "cell_type": "code",
   "execution_count": 12,
   "id": "248cbed8",
   "metadata": {},
   "outputs": [
    {
     "name": "stdout",
     "output_type": "stream",
     "text": [
      "The autoreload extension is already loaded. To reload it, use:\n",
      "  %reload_ext autoreload\n"
     ]
    }
   ],
   "source": [
    "%matplotlib inline\n",
    "%load_ext autoreload\n",
    "%autoreload 2"
   ]
  },
  {
   "cell_type": "code",
   "execution_count": 13,
   "id": "7ec6cd08",
   "metadata": {},
   "outputs": [],
   "source": [
    "import os\n",
    "import warnings\n",
    "warnings.filterwarnings('ignore')\n",
    "os.environ[\"PYTHONWARNINGS\"] = \"ignore\""
   ]
  },
  {
   "cell_type": "code",
   "execution_count": 14,
   "id": "b8cb69f2",
   "metadata": {},
   "outputs": [
    {
     "name": "stdout",
     "output_type": "stream",
     "text": [
      "Current location:  /home/denys_herasymuk/UCU/4course_2term/Bachelor_Thesis/Code/fairness-variance\n"
     ]
    }
   ],
   "source": [
    "cur_folder_name = os.getcwd().split('/')[-1]\n",
    "if cur_folder_name != \"fairness-variance\":\n",
    "    os.chdir(\"../..\")\n",
    "\n",
    "print('Current location: ', os.getcwd())"
   ]
  },
  {
   "cell_type": "markdown",
   "id": "606df34d",
   "metadata": {},
   "source": [
    "## Import dependencies"
   ]
  },
  {
   "cell_type": "code",
   "execution_count": 15,
   "id": "7a9241de",
   "metadata": {},
   "outputs": [],
   "source": [
    "import os\n",
    "import pandas as pd\n",
    "from datetime import datetime, timezone\n",
    "\n",
    "from configs.models_config_for_tuning import MODELS_CONFIG\n",
    "from source.custom_initializers import create_config_obj, create_models_config_from_tuned_params_df\n",
    "from source.custom_classes.data_loaders import CompasWithoutSensitiveAttrsDataset\n",
    "from source.metrics_computation_interfaces import compute_metrics_multiple_runs"
   ]
  },
  {
   "cell_type": "markdown",
   "id": "95f15603",
   "metadata": {},
   "source": [
    "## Configs"
   ]
  },
  {
   "cell_type": "code",
   "execution_count": 16,
   "id": "71d8f24a",
   "metadata": {},
   "outputs": [],
   "source": [
    "config = create_config_obj(config_yaml_path=os.path.join('configs', 'experiment1_compas_config.yaml'))\n",
    "\n",
    "TUNED_PARAMS_FILE_PATH = os.path.join('results', 'models_tuning', f'tuning_results_{config.dataset_name}_20230117__012024.csv')\n",
    "SAVE_RESULTS_DIR_PATH = os.path.join('results', 'hypothesis_space',\n",
    "                                     f'{config.dataset_name}_Metrics_{datetime.now(timezone.utc).strftime(\"%Y%m%d__%H%M%S\")}')"
   ]
  },
  {
   "cell_type": "markdown",
   "source": [
    "## Models tuned hyper-parameters"
   ],
   "metadata": {
    "collapsed": false
   }
  },
  {
   "cell_type": "code",
   "execution_count": 17,
   "outputs": [
    {
     "data": {
      "text/plain": "                          Dataset_Name              Model_Name  F1_Score  \\\n0  COMPAS_Without_Sensitive_Attributes      LogisticRegression    0.6785   \n1  COMPAS_Without_Sensitive_Attributes  DecisionTreeClassifier    0.6952   \n2  COMPAS_Without_Sensitive_Attributes  RandomForestClassifier    0.6962   \n3  COMPAS_Without_Sensitive_Attributes           XGBClassifier    0.6971   \n4  COMPAS_Without_Sensitive_Attributes    KNeighborsClassifier    0.7056   \n5  COMPAS_Without_Sensitive_Attributes           MLPClassifier    0.6834   \n\n   Accuracy_Score                                  Model_Best_Params  \n0          0.6837  {'C': 1, 'max_iter': 50, 'penalty': 'l2', 'sol...  \n1          0.6989  {'criterion': 'gini', 'max_depth': 20, 'max_fe...  \n2          0.7008  {'max_depth': 4, 'max_features': 0.6, 'min_sam...  \n3          0.7008  {'lambda': 100, 'learning_rate': 0.1, 'max_dep...  \n4          0.7112  {'metric': 'minkowski', 'n_neighbors': 25, 'we...  \n5          0.6875  {'activation': 'relu', 'hidden_layer_sizes': (...  ",
      "text/html": "<div>\n<style scoped>\n    .dataframe tbody tr th:only-of-type {\n        vertical-align: middle;\n    }\n\n    .dataframe tbody tr th {\n        vertical-align: top;\n    }\n\n    .dataframe thead th {\n        text-align: right;\n    }\n</style>\n<table border=\"1\" class=\"dataframe\">\n  <thead>\n    <tr style=\"text-align: right;\">\n      <th></th>\n      <th>Dataset_Name</th>\n      <th>Model_Name</th>\n      <th>F1_Score</th>\n      <th>Accuracy_Score</th>\n      <th>Model_Best_Params</th>\n    </tr>\n  </thead>\n  <tbody>\n    <tr>\n      <th>0</th>\n      <td>COMPAS_Without_Sensitive_Attributes</td>\n      <td>LogisticRegression</td>\n      <td>0.6785</td>\n      <td>0.6837</td>\n      <td>{'C': 1, 'max_iter': 50, 'penalty': 'l2', 'sol...</td>\n    </tr>\n    <tr>\n      <th>1</th>\n      <td>COMPAS_Without_Sensitive_Attributes</td>\n      <td>DecisionTreeClassifier</td>\n      <td>0.6952</td>\n      <td>0.6989</td>\n      <td>{'criterion': 'gini', 'max_depth': 20, 'max_fe...</td>\n    </tr>\n    <tr>\n      <th>2</th>\n      <td>COMPAS_Without_Sensitive_Attributes</td>\n      <td>RandomForestClassifier</td>\n      <td>0.6962</td>\n      <td>0.7008</td>\n      <td>{'max_depth': 4, 'max_features': 0.6, 'min_sam...</td>\n    </tr>\n    <tr>\n      <th>3</th>\n      <td>COMPAS_Without_Sensitive_Attributes</td>\n      <td>XGBClassifier</td>\n      <td>0.6971</td>\n      <td>0.7008</td>\n      <td>{'lambda': 100, 'learning_rate': 0.1, 'max_dep...</td>\n    </tr>\n    <tr>\n      <th>4</th>\n      <td>COMPAS_Without_Sensitive_Attributes</td>\n      <td>KNeighborsClassifier</td>\n      <td>0.7056</td>\n      <td>0.7112</td>\n      <td>{'metric': 'minkowski', 'n_neighbors': 25, 'we...</td>\n    </tr>\n    <tr>\n      <th>5</th>\n      <td>COMPAS_Without_Sensitive_Attributes</td>\n      <td>MLPClassifier</td>\n      <td>0.6834</td>\n      <td>0.6875</td>\n      <td>{'activation': 'relu', 'hidden_layer_sizes': (...</td>\n    </tr>\n  </tbody>\n</table>\n</div>"
     },
     "execution_count": 17,
     "metadata": {},
     "output_type": "execute_result"
    }
   ],
   "source": [
    "models_tuned_params_df = pd.read_csv(TUNED_PARAMS_FILE_PATH)\n",
    "models_tuned_params_df"
   ],
   "metadata": {
    "collapsed": false
   }
  },
  {
   "cell_type": "code",
   "execution_count": 18,
   "outputs": [],
   "source": [
    "experiment_models_config = create_models_config_from_tuned_params_df(\n",
    "    models_config_for_tuning=MODELS_CONFIG,\n",
    "    models_tuned_params_df=models_tuned_params_df,\n",
    ")"
   ],
   "metadata": {
    "collapsed": false
   }
  },
  {
   "cell_type": "code",
   "execution_count": 19,
   "outputs": [
    {
     "data": {
      "text/plain": "dict_keys(['DecisionTreeClassifier', 'KNeighborsClassifier'])"
     },
     "execution_count": 19,
     "metadata": {},
     "output_type": "execute_result"
    }
   ],
   "source": [
    "experiment_models_config.keys()"
   ],
   "metadata": {
    "collapsed": false
   }
  },
  {
   "cell_type": "markdown",
   "id": "5c60057a",
   "metadata": {},
   "source": [
    "## Load dataset"
   ]
  },
  {
   "cell_type": "code",
   "execution_count": 20,
   "id": "3e53fe9a",
   "metadata": {},
   "outputs": [
    {
     "data": {
      "text/plain": "   juv_fel_count  juv_misd_count  juv_other_count  priors_count  \\\n0            0.0       -2.340451              1.0    -15.010999   \n1            0.0        0.000000              0.0      0.000000   \n2            0.0        0.000000              0.0      0.000000   \n3            0.0        0.000000              0.0      6.000000   \n4            0.0        0.000000              0.0      7.513697   \n\n   age_cat_25 - 45  age_cat_Greater than 45  age_cat_Less than 25  \\\n0                1                        0                     0   \n1                1                        0                     0   \n2                0                        0                     1   \n3                1                        0                     0   \n4                1                        0                     0   \n\n   c_charge_degree_F  c_charge_degree_M  \n0                  0                  1  \n1                  1                  0  \n2                  1                  0  \n3                  0                  1  \n4                  1                  0  ",
      "text/html": "<div>\n<style scoped>\n    .dataframe tbody tr th:only-of-type {\n        vertical-align: middle;\n    }\n\n    .dataframe tbody tr th {\n        vertical-align: top;\n    }\n\n    .dataframe thead th {\n        text-align: right;\n    }\n</style>\n<table border=\"1\" class=\"dataframe\">\n  <thead>\n    <tr style=\"text-align: right;\">\n      <th></th>\n      <th>juv_fel_count</th>\n      <th>juv_misd_count</th>\n      <th>juv_other_count</th>\n      <th>priors_count</th>\n      <th>age_cat_25 - 45</th>\n      <th>age_cat_Greater than 45</th>\n      <th>age_cat_Less than 25</th>\n      <th>c_charge_degree_F</th>\n      <th>c_charge_degree_M</th>\n    </tr>\n  </thead>\n  <tbody>\n    <tr>\n      <th>0</th>\n      <td>0.0</td>\n      <td>-2.340451</td>\n      <td>1.0</td>\n      <td>-15.010999</td>\n      <td>1</td>\n      <td>0</td>\n      <td>0</td>\n      <td>0</td>\n      <td>1</td>\n    </tr>\n    <tr>\n      <th>1</th>\n      <td>0.0</td>\n      <td>0.000000</td>\n      <td>0.0</td>\n      <td>0.000000</td>\n      <td>1</td>\n      <td>0</td>\n      <td>0</td>\n      <td>1</td>\n      <td>0</td>\n    </tr>\n    <tr>\n      <th>2</th>\n      <td>0.0</td>\n      <td>0.000000</td>\n      <td>0.0</td>\n      <td>0.000000</td>\n      <td>0</td>\n      <td>0</td>\n      <td>1</td>\n      <td>1</td>\n      <td>0</td>\n    </tr>\n    <tr>\n      <th>3</th>\n      <td>0.0</td>\n      <td>0.000000</td>\n      <td>0.0</td>\n      <td>6.000000</td>\n      <td>1</td>\n      <td>0</td>\n      <td>0</td>\n      <td>0</td>\n      <td>1</td>\n    </tr>\n    <tr>\n      <th>4</th>\n      <td>0.0</td>\n      <td>0.000000</td>\n      <td>0.0</td>\n      <td>7.513697</td>\n      <td>1</td>\n      <td>0</td>\n      <td>0</td>\n      <td>1</td>\n      <td>0</td>\n    </tr>\n  </tbody>\n</table>\n</div>"
     },
     "execution_count": 20,
     "metadata": {},
     "output_type": "execute_result"
    }
   ],
   "source": [
    "dataset = CompasWithoutSensitiveAttrsDataset(dataset_path='data/COMPAS.csv')\n",
    "dataset.X_data.head()"
   ]
  },
  {
   "cell_type": "markdown",
   "id": "c3530f06",
   "metadata": {},
   "source": [
    "## Run experiments"
   ]
  },
  {
   "cell_type": "code",
   "execution_count": 21,
   "id": "2528579c",
   "metadata": {},
   "outputs": [
    {
     "name": "stderr",
     "output_type": "stream",
     "text": [
      "Analyze models in one run:   0%|          | 0/2 [00:00<?, ?it/s]"
     ]
    },
    {
     "name": "stdout",
     "output_type": "stream",
     "text": [
      "##############################  [Model 1 / 2] Analyze DecisionTreeClassifier  ##############################\n",
      "Model random_state:  101\n",
      "Baseline X_train shape:  (4222, 9)\n",
      "Baseline X_test shape:  (1056, 9)\n"
     ]
    },
    {
     "name": "stderr",
     "output_type": "stream",
     "text": [
      "2023-01-24 01:15:26 abstract_overall_variance_analyzer.py INFO    : Start classifiers testing by bootstrap\n"
     ]
    },
    {
     "name": "stdout",
     "output_type": "stream",
     "text": [
      "\n",
      "\n"
     ]
    },
    {
     "name": "stderr",
     "output_type": "stream",
     "text": [
      "\n",
      "Classifiers testing by bootstrap:   0%|          | 0/100 [00:00<?, ?it/s]\u001B[A\n",
      "Classifiers testing by bootstrap:  20%|██        | 20/100 [00:00<00:00, 198.52it/s]\u001B[A\n",
      "Classifiers testing by bootstrap:  40%|████      | 40/100 [00:00<00:00, 198.31it/s]\u001B[A\n",
      "Classifiers testing by bootstrap:  63%|██████▎   | 63/100 [00:00<00:00, 208.98it/s]\u001B[A\n",
      "Classifiers testing by bootstrap: 100%|██████████| 100/100 [00:00<00:00, 212.70it/s][A\n",
      "2023-01-24 01:15:27 abstract_overall_variance_analyzer.py INFO    : Successfully tested classifiers by bootstrap\n"
     ]
    },
    {
     "name": "stdout",
     "output_type": "stream",
     "text": [
      "\n",
      "\n"
     ]
    },
    {
     "name": "stderr",
     "output_type": "stream",
     "text": [
      "2023-01-24 01:15:30 abstract_overall_variance_analyzer.py INFO    : Successfully computed predict proba metrics\n"
     ]
    },
    {
     "name": "stdout",
     "output_type": "stream",
     "text": [
      "\n",
      "\n",
      "##############################  Stability metrics  ##############################\n",
      "General Ensemble Accuracy: 0.6723\n",
      "Mean: 0.5274\n",
      "Std: 0.0761\n",
      "IQR: 0.0938\n",
      "Entropy: 0.0\n",
      "Jitter: 0.1201\n",
      "Per sample accuracy: 0.6624\n",
      "Label stability: 0.8449\n",
      "\n",
      "\n"
     ]
    },
    {
     "name": "stderr",
     "output_type": "stream",
     "text": [
      "Analyze models in one run:  50%|█████     | 1/2 [00:09<00:09,  9.34s/it]2023-01-24 01:15:36 abstract_overall_variance_analyzer.py INFO    : Start classifiers testing by bootstrap\n"
     ]
    },
    {
     "name": "stdout",
     "output_type": "stream",
     "text": [
      "\n",
      "\n",
      "\n",
      "\n",
      "##############################  [Model 2 / 2] Analyze KNeighborsClassifier  ##############################\n",
      "Model random_state:  None\n",
      "Baseline X_train shape:  (4222, 9)\n",
      "Baseline X_test shape:  (1056, 9)\n",
      "\n",
      "\n"
     ]
    },
    {
     "name": "stderr",
     "output_type": "stream",
     "text": [
      "\n",
      "Classifiers testing by bootstrap:   0%|          | 0/100 [00:00<?, ?it/s]\u001B[A\n",
      "Classifiers testing by bootstrap:   2%|▏         | 2/100 [00:00<00:06, 14.50it/s]\u001B[A\n",
      "Classifiers testing by bootstrap:   4%|▍         | 4/100 [00:00<00:05, 17.15it/s]\u001B[A\n",
      "Classifiers testing by bootstrap:   6%|▌         | 6/100 [00:00<00:05, 17.72it/s]\u001B[A\n",
      "Classifiers testing by bootstrap:   8%|▊         | 8/100 [00:00<00:05, 16.36it/s]\u001B[A\n",
      "Classifiers testing by bootstrap:  10%|█         | 10/100 [00:00<00:05, 15.93it/s]\u001B[A\n",
      "Classifiers testing by bootstrap:  12%|█▏        | 12/100 [00:00<00:05, 16.93it/s]\u001B[A\n",
      "Classifiers testing by bootstrap:  14%|█▍        | 14/100 [00:00<00:04, 17.35it/s]\u001B[A\n",
      "Classifiers testing by bootstrap:  16%|█▌        | 16/100 [00:00<00:04, 17.74it/s]\u001B[A\n",
      "Classifiers testing by bootstrap:  18%|█▊        | 18/100 [00:01<00:04, 17.81it/s]\u001B[A\n",
      "Classifiers testing by bootstrap:  20%|██        | 20/100 [00:01<00:04, 17.55it/s]\u001B[A\n",
      "Classifiers testing by bootstrap:  23%|██▎       | 23/100 [00:01<00:04, 18.70it/s]\u001B[A\n",
      "Classifiers testing by bootstrap:  25%|██▌       | 25/100 [00:01<00:04, 18.22it/s]\u001B[A\n",
      "Classifiers testing by bootstrap:  27%|██▋       | 27/100 [00:01<00:04, 18.10it/s]\u001B[A\n",
      "Classifiers testing by bootstrap:  29%|██▉       | 29/100 [00:01<00:03, 18.34it/s]\u001B[A\n",
      "Classifiers testing by bootstrap:  31%|███       | 31/100 [00:01<00:03, 18.26it/s]\u001B[A\n",
      "Classifiers testing by bootstrap:  33%|███▎      | 33/100 [00:01<00:03, 17.82it/s]\u001B[A\n",
      "Classifiers testing by bootstrap:  35%|███▌      | 35/100 [00:01<00:03, 17.83it/s]\u001B[A\n",
      "Classifiers testing by bootstrap:  37%|███▋      | 37/100 [00:02<00:03, 18.04it/s]\u001B[A\n",
      "Classifiers testing by bootstrap:  39%|███▉      | 39/100 [00:02<00:03, 18.44it/s]\u001B[A\n",
      "Classifiers testing by bootstrap:  41%|████      | 41/100 [00:02<00:03, 18.73it/s]\u001B[A\n",
      "Classifiers testing by bootstrap:  43%|████▎     | 43/100 [00:02<00:03, 18.25it/s]\u001B[A\n",
      "Classifiers testing by bootstrap:  45%|████▌     | 45/100 [00:02<00:02, 18.57it/s]\u001B[A\n",
      "Classifiers testing by bootstrap:  47%|████▋     | 47/100 [00:02<00:02, 18.28it/s]\u001B[A\n",
      "Classifiers testing by bootstrap:  49%|████▉     | 49/100 [00:02<00:02, 18.29it/s]\u001B[A\n",
      "Classifiers testing by bootstrap:  51%|█████     | 51/100 [00:02<00:02, 18.73it/s]\u001B[A\n",
      "Classifiers testing by bootstrap:  53%|█████▎    | 53/100 [00:02<00:02, 17.23it/s]\u001B[A\n",
      "Classifiers testing by bootstrap:  56%|█████▌    | 56/100 [00:03<00:02, 18.27it/s]\u001B[A\n",
      "Classifiers testing by bootstrap:  58%|█████▊    | 58/100 [00:03<00:02, 18.55it/s]\u001B[A\n",
      "Classifiers testing by bootstrap:  60%|██████    | 60/100 [00:03<00:02, 18.92it/s]\u001B[A\n",
      "Classifiers testing by bootstrap:  62%|██████▏   | 62/100 [00:03<00:02, 18.83it/s]\u001B[A\n",
      "Classifiers testing by bootstrap:  65%|██████▌   | 65/100 [00:03<00:01, 19.35it/s]\u001B[A\n",
      "Classifiers testing by bootstrap:  67%|██████▋   | 67/100 [00:03<00:01, 18.58it/s]\u001B[A\n",
      "Classifiers testing by bootstrap:  69%|██████▉   | 69/100 [00:03<00:01, 18.13it/s]\u001B[A\n",
      "Classifiers testing by bootstrap:  71%|███████   | 71/100 [00:03<00:01, 17.67it/s]\u001B[A\n",
      "Classifiers testing by bootstrap:  73%|███████▎  | 73/100 [00:04<00:01, 17.52it/s]\u001B[A\n",
      "Classifiers testing by bootstrap:  75%|███████▌  | 75/100 [00:04<00:01, 16.97it/s]\u001B[A\n",
      "Classifiers testing by bootstrap:  77%|███████▋  | 77/100 [00:04<00:01, 15.94it/s]\u001B[A\n",
      "Classifiers testing by bootstrap:  79%|███████▉  | 79/100 [00:04<00:01, 15.71it/s]\u001B[A\n",
      "Classifiers testing by bootstrap:  81%|████████  | 81/100 [00:04<00:01, 16.28it/s]\u001B[A\n",
      "Classifiers testing by bootstrap:  83%|████████▎ | 83/100 [00:04<00:01, 16.74it/s]\u001B[A\n",
      "Classifiers testing by bootstrap:  85%|████████▌ | 85/100 [00:04<00:00, 16.53it/s]\u001B[A\n",
      "Classifiers testing by bootstrap:  87%|████████▋ | 87/100 [00:04<00:00, 17.17it/s]\u001B[A\n",
      "Classifiers testing by bootstrap:  89%|████████▉ | 89/100 [00:05<00:00, 17.93it/s]\u001B[A\n",
      "Classifiers testing by bootstrap:  92%|█████████▏| 92/100 [00:05<00:00, 17.60it/s]\u001B[A\n",
      "Analyze models in one run:  50%|█████     | 1/2 [00:14<00:14, 14.59s/it]\n"
     ]
    },
    {
     "ename": "KeyboardInterrupt",
     "evalue": "",
     "output_type": "error",
     "traceback": [
      "\u001B[0;31m---------------------------------------------------------------------------\u001B[0m",
      "\u001B[0;31mKeyboardInterrupt\u001B[0m                         Traceback (most recent call last)",
      "Cell \u001B[0;32mIn[21], line 1\u001B[0m\n\u001B[0;32m----> 1\u001B[0m multiple_runs_metrics_dct \u001B[38;5;241m=\u001B[39m \u001B[43mcompute_metrics_multiple_runs\u001B[49m\u001B[43m(\u001B[49m\u001B[43mdataset\u001B[49m\u001B[43m,\u001B[49m\u001B[43m \u001B[49m\u001B[43mconfig\u001B[49m\u001B[43m,\u001B[49m\u001B[43m \u001B[49m\u001B[43mexperiment_models_config\u001B[49m\u001B[43m,\u001B[49m\u001B[43m \u001B[49m\u001B[43mSAVE_RESULTS_DIR_PATH\u001B[49m\u001B[43m,\u001B[49m\u001B[43m \u001B[49m\u001B[43mdebug_mode\u001B[49m\u001B[38;5;241;43m=\u001B[39;49m\u001B[38;5;28;43;01mFalse\u001B[39;49;00m\u001B[43m)\u001B[49m\n",
      "File \u001B[0;32m~/UCU/4course_2term/Bachelor_Thesis/Code/fairness-variance/source/metrics_computation_interfaces.py:106\u001B[0m, in \u001B[0;36mcompute_metrics_multiple_runs\u001B[0;34m(dataset, config, models_config, save_results_dir_path, debug_mode)\u001B[0m\n\u001B[1;32m    104\u001B[0m multiple_runs_metrics_dct \u001B[38;5;241m=\u001B[39m \u001B[38;5;28mdict\u001B[39m()\n\u001B[1;32m    105\u001B[0m \u001B[38;5;28;01mfor\u001B[39;00m run_num, run_seed \u001B[38;5;129;01min\u001B[39;00m \u001B[38;5;28menumerate\u001B[39m(config\u001B[38;5;241m.\u001B[39mruns_seed_lst):\n\u001B[0;32m--> 106\u001B[0m     models_metrics_dct \u001B[38;5;241m=\u001B[39m \u001B[43mrun_metrics_computation\u001B[49m\u001B[43m(\u001B[49m\u001B[43mdataset\u001B[49m\u001B[43m,\u001B[49m\u001B[43m \u001B[49m\u001B[43mconfig\u001B[49m\u001B[38;5;241;43m.\u001B[39;49m\u001B[43mtest_set_fraction\u001B[49m\u001B[43m,\u001B[49m\u001B[43m \u001B[49m\u001B[43mconfig\u001B[49m\u001B[38;5;241;43m.\u001B[39;49m\u001B[43mbootstrap_fraction\u001B[49m\u001B[43m,\u001B[49m\n\u001B[1;32m    107\u001B[0m \u001B[43m                                                 \u001B[49m\u001B[43mconfig\u001B[49m\u001B[38;5;241;43m.\u001B[39;49m\u001B[43mdataset_name\u001B[49m\u001B[43m,\u001B[49m\u001B[43m \u001B[49m\u001B[43mrun_seed\u001B[49m\u001B[43m,\u001B[49m\u001B[43m \u001B[49m\u001B[43mmodels_config\u001B[49m\u001B[43m,\u001B[49m\u001B[43m \u001B[49m\u001B[43mconfig\u001B[49m\u001B[38;5;241;43m.\u001B[39;49m\u001B[43mn_estimators\u001B[49m\u001B[43m,\u001B[49m\n\u001B[1;32m    108\u001B[0m \u001B[43m                                                 \u001B[49m\u001B[43mconfig\u001B[49m\u001B[38;5;241;43m.\u001B[39;49m\u001B[43msensitive_attributes_dct\u001B[49m\u001B[43m,\u001B[49m\n\u001B[1;32m    109\u001B[0m \u001B[43m                                                 \u001B[49m\u001B[43msave_results\u001B[49m\u001B[38;5;241;43m=\u001B[39;49m\u001B[38;5;28;43;01mFalse\u001B[39;49;00m\u001B[43m,\u001B[49m\u001B[43m \u001B[49m\u001B[43mdebug_mode\u001B[49m\u001B[38;5;241;43m=\u001B[39;49m\u001B[43mdebug_mode\u001B[49m\u001B[43m)\u001B[49m\n\u001B[1;32m    111\u001B[0m     \u001B[38;5;66;03m# Concatenate with previous results and save them in an overwrite mode each time for backups\u001B[39;00m\n\u001B[1;32m    112\u001B[0m     \u001B[38;5;28;01mfor\u001B[39;00m model_name \u001B[38;5;129;01min\u001B[39;00m models_metrics_dct\u001B[38;5;241m.\u001B[39mkeys():\n",
      "File \u001B[0;32m~/UCU/4course_2term/Bachelor_Thesis/Code/fairness-variance/source/metrics_computation_interfaces.py:79\u001B[0m, in \u001B[0;36mrun_metrics_computation\u001B[0;34m(dataset, test_set_fraction, bootstrap_fraction, dataset_name, model_seed, models_config, n_estimators, sensitive_attributes_dct, save_results, save_results_dir_path, debug_mode)\u001B[0m\n\u001B[1;32m     77\u001B[0m \u001B[38;5;66;03m# try:\u001B[39;00m\n\u001B[1;32m     78\u001B[0m base_model \u001B[38;5;241m=\u001B[39m models_config[model_name]\n\u001B[0;32m---> 79\u001B[0m model_metrics_df \u001B[38;5;241m=\u001B[39m \u001B[43mcompute_model_metrics\u001B[49m\u001B[43m(\u001B[49m\u001B[43mbase_model\u001B[49m\u001B[43m,\u001B[49m\u001B[43m \u001B[49m\u001B[43mn_estimators\u001B[49m\u001B[43m,\u001B[49m\u001B[43m \u001B[49m\u001B[43mdataset\u001B[49m\u001B[43m,\u001B[49m\u001B[43m \u001B[49m\u001B[43mtest_set_fraction\u001B[49m\u001B[43m,\u001B[49m\n\u001B[1;32m     80\u001B[0m \u001B[43m                                         \u001B[49m\u001B[43mbootstrap_fraction\u001B[49m\u001B[43m,\u001B[49m\u001B[43m \u001B[49m\u001B[43msensitive_attributes_dct\u001B[49m\u001B[43m,\u001B[49m\n\u001B[1;32m     81\u001B[0m \u001B[43m                                         \u001B[49m\u001B[43mmodel_seed\u001B[49m\u001B[38;5;241;43m=\u001B[39;49m\u001B[43mmodel_seed\u001B[49m\u001B[43m,\u001B[49m\n\u001B[1;32m     82\u001B[0m \u001B[43m                                         \u001B[49m\u001B[43mdataset_name\u001B[49m\u001B[38;5;241;43m=\u001B[39;49m\u001B[43mdataset_name\u001B[49m\u001B[43m,\u001B[49m\n\u001B[1;32m     83\u001B[0m \u001B[43m                                         \u001B[49m\u001B[43mbase_model_name\u001B[49m\u001B[38;5;241;43m=\u001B[39;49m\u001B[43mmodel_name\u001B[49m\u001B[43m,\u001B[49m\n\u001B[1;32m     84\u001B[0m \u001B[43m                                         \u001B[49m\u001B[43msave_results\u001B[49m\u001B[38;5;241;43m=\u001B[39;49m\u001B[43msave_results\u001B[49m\u001B[43m,\u001B[49m\n\u001B[1;32m     85\u001B[0m \u001B[43m                                         \u001B[49m\u001B[43msave_results_dir_path\u001B[49m\u001B[38;5;241;43m=\u001B[39;49m\u001B[43msave_results_dir_path\u001B[49m\u001B[43m,\u001B[49m\n\u001B[1;32m     86\u001B[0m \u001B[43m                                         \u001B[49m\u001B[43mdebug_mode\u001B[49m\u001B[38;5;241;43m=\u001B[39;49m\u001B[43mdebug_mode\u001B[49m\u001B[43m)\u001B[49m\n\u001B[1;32m     87\u001B[0m model_metrics_df[\u001B[38;5;124m'\u001B[39m\u001B[38;5;124mModel_Name\u001B[39m\u001B[38;5;124m'\u001B[39m] \u001B[38;5;241m=\u001B[39m model_name\n\u001B[1;32m     88\u001B[0m models_metrics_dct[\u001B[38;5;124mf\u001B[39m\u001B[38;5;124m'\u001B[39m\u001B[38;5;124mModel_\u001B[39m\u001B[38;5;132;01m{\u001B[39;00mmodel_idx \u001B[38;5;241m+\u001B[39m \u001B[38;5;241m1\u001B[39m\u001B[38;5;132;01m}\u001B[39;00m\u001B[38;5;124m_\u001B[39m\u001B[38;5;132;01m{\u001B[39;00mmodel_name\u001B[38;5;132;01m}\u001B[39;00m\u001B[38;5;124m'\u001B[39m] \u001B[38;5;241m=\u001B[39m model_metrics_df\n",
      "File \u001B[0;32m~/UCU/4course_2term/Bachelor_Thesis/Code/fairness-variance/source/metrics_computation_interfaces.py:34\u001B[0m, in \u001B[0;36mcompute_model_metrics\u001B[0;34m(base_model, n_estimators, dataset, test_set_fraction, bootstrap_fraction, sensitive_attributes_dct, model_seed, dataset_name, base_model_name, save_results, save_results_dir_path, debug_mode)\u001B[0m\n\u001B[1;32m     30\u001B[0m \u001B[38;5;66;03m# Compute variance metrics for subgroups\u001B[39;00m\n\u001B[1;32m     31\u001B[0m subgroups_variance_analyzer \u001B[38;5;241m=\u001B[39m SubgroupsVarianceAnalyzer(ModelSetting\u001B[38;5;241m.\u001B[39mBATCH, n_estimators, base_model, base_model_name,\n\u001B[1;32m     32\u001B[0m                                                         bootstrap_fraction, base_pipeline, dataset_name)\n\u001B[0;32m---> 34\u001B[0m y_preds, variance_metrics_df \u001B[38;5;241m=\u001B[39m \u001B[43msubgroups_variance_analyzer\u001B[49m\u001B[38;5;241;43m.\u001B[39;49m\u001B[43mcompute_metrics\u001B[49m\u001B[43m(\u001B[49m\u001B[43msave_results\u001B[49m\u001B[38;5;241;43m=\u001B[39;49m\u001B[43msave_results\u001B[49m\u001B[43m,\u001B[49m\n\u001B[1;32m     35\u001B[0m \u001B[43m                                                                           \u001B[49m\u001B[43mresult_filename\u001B[49m\u001B[38;5;241;43m=\u001B[39;49m\u001B[38;5;28;43;01mNone\u001B[39;49;00m\u001B[43m,\u001B[49m\n\u001B[1;32m     36\u001B[0m \u001B[43m                                                                           \u001B[49m\u001B[43msave_dir_path\u001B[49m\u001B[38;5;241;43m=\u001B[39;49m\u001B[38;5;28;43;01mNone\u001B[39;49;00m\u001B[43m,\u001B[49m\n\u001B[1;32m     37\u001B[0m \u001B[43m                                                                           \u001B[49m\u001B[43mmake_plots\u001B[49m\u001B[38;5;241;43m=\u001B[39;49m\u001B[38;5;28;43;01mFalse\u001B[39;49;00m\u001B[43m)\u001B[49m\n\u001B[1;32m     39\u001B[0m \u001B[38;5;66;03m# Compute bias metrics for subgroups\u001B[39;00m\n\u001B[1;32m     40\u001B[0m bias_analyzer \u001B[38;5;241m=\u001B[39m SubgroupsStatisticalBiasAnalyzer(base_pipeline\u001B[38;5;241m.\u001B[39mX_test, base_pipeline\u001B[38;5;241m.\u001B[39my_test,\n\u001B[1;32m     41\u001B[0m                                                  base_pipeline\u001B[38;5;241m.\u001B[39msensitive_attributes_dct, base_pipeline\u001B[38;5;241m.\u001B[39mtest_groups)\n",
      "File \u001B[0;32m~/UCU/4course_2term/Bachelor_Thesis/Code/fairness-variance/source/analyzers/subgroups_variance_analyzer.py:54\u001B[0m, in \u001B[0;36mSubgroupsVarianceAnalyzer.compute_metrics\u001B[0;34m(self, save_results, result_filename, save_dir_path, make_plots)\u001B[0m\n\u001B[1;32m     45\u001B[0m \u001B[38;5;28;01mdef\u001B[39;00m \u001B[38;5;21mcompute_metrics\u001B[39m(\u001B[38;5;28mself\u001B[39m, save_results, result_filename, save_dir_path, make_plots\u001B[38;5;241m=\u001B[39m\u001B[38;5;28;01mTrue\u001B[39;00m,):\n\u001B[1;32m     46\u001B[0m     \u001B[38;5;124;03m\"\"\"\u001B[39;00m\n\u001B[1;32m     47\u001B[0m \u001B[38;5;124;03m    Measure variance metrics for subgroups for the base model.\u001B[39;00m\n\u001B[1;32m     48\u001B[0m \u001B[38;5;124;03m    Display stability plots for analysis if needed.\u001B[39;00m\n\u001B[0;32m   (...)\u001B[0m\n\u001B[1;32m     52\u001B[0m \u001B[38;5;124;03m    :param make_plots: bool, if display plots for analysis\u001B[39;00m\n\u001B[1;32m     53\u001B[0m \u001B[38;5;124;03m    \"\"\"\u001B[39;00m\n\u001B[0;32m---> 54\u001B[0m     y_preds, y_test_true \u001B[38;5;241m=\u001B[39m \u001B[38;5;28;43mself\u001B[39;49m\u001B[38;5;241;43m.\u001B[39;49m\u001B[43m__overall_variance_analyzer\u001B[49m\u001B[38;5;241;43m.\u001B[39;49m\u001B[43mcompute_metrics\u001B[49m\u001B[43m(\u001B[49m\u001B[43mmake_plots\u001B[49m\u001B[43m,\u001B[49m\u001B[43m \u001B[49m\u001B[43msave_results\u001B[49m\u001B[38;5;241;43m=\u001B[39;49m\u001B[38;5;28;43;01mFalse\u001B[39;49;00m\u001B[43m)\u001B[49m\n\u001B[1;32m     55\u001B[0m     \u001B[38;5;28mself\u001B[39m\u001B[38;5;241m.\u001B[39mstability_metrics_dct \u001B[38;5;241m=\u001B[39m \u001B[38;5;28mself\u001B[39m\u001B[38;5;241m.\u001B[39m__overall_variance_analyzer\u001B[38;5;241m.\u001B[39mget_metrics_dict()\n\u001B[1;32m     57\u001B[0m     \u001B[38;5;66;03m# Count and display fairness metrics\u001B[39;00m\n",
      "File \u001B[0;32m~/UCU/4course_2term/Bachelor_Thesis/Code/fairness-variance/source/analyzers/abstract_overall_variance_analyzer.py:71\u001B[0m, in \u001B[0;36mAbstractOverallVarianceAnalyzer.compute_metrics\u001B[0;34m(self, make_plots, save_results)\u001B[0m\n\u001B[1;32m     69\u001B[0m \u001B[38;5;66;03m# Quantify uncertainty for the base model\u001B[39;00m\n\u001B[1;32m     70\u001B[0m boostrap_size \u001B[38;5;241m=\u001B[39m \u001B[38;5;28mint\u001B[39m(\u001B[38;5;28mself\u001B[39m\u001B[38;5;241m.\u001B[39mbootstrap_fraction \u001B[38;5;241m*\u001B[39m \u001B[38;5;28mself\u001B[39m\u001B[38;5;241m.\u001B[39mX_train\u001B[38;5;241m.\u001B[39mshape[\u001B[38;5;241m0\u001B[39m])\n\u001B[0;32m---> 71\u001B[0m \u001B[38;5;28mself\u001B[39m\u001B[38;5;241m.\u001B[39mmodels_predictions \u001B[38;5;241m=\u001B[39m \u001B[38;5;28;43mself\u001B[39;49m\u001B[38;5;241;43m.\u001B[39;49m\u001B[43mUQ_by_boostrap\u001B[49m\u001B[43m(\u001B[49m\u001B[43mboostrap_size\u001B[49m\u001B[43m,\u001B[49m\u001B[43m \u001B[49m\u001B[43mwith_replacement\u001B[49m\u001B[38;5;241;43m=\u001B[39;49m\u001B[38;5;28;43;01mTrue\u001B[39;49;00m\u001B[43m)\u001B[49m\n\u001B[1;32m     73\u001B[0m \u001B[38;5;66;03m# Count metrics based on prediction proba results\u001B[39;00m\n\u001B[1;32m     74\u001B[0m y_preds, uq_labels, prediction_stats \u001B[38;5;241m=\u001B[39m count_prediction_stats(\u001B[38;5;28mself\u001B[39m\u001B[38;5;241m.\u001B[39my_test\u001B[38;5;241m.\u001B[39mvalues, \u001B[38;5;28mself\u001B[39m\u001B[38;5;241m.\u001B[39mmodels_predictions)\n",
      "File \u001B[0;32m~/UCU/4course_2term/Bachelor_Thesis/Code/fairness-variance/source/analyzers/abstract_overall_variance_analyzer.py:117\u001B[0m, in \u001B[0;36mAbstractOverallVarianceAnalyzer.UQ_by_boostrap\u001B[0;34m(self, boostrap_size, with_replacement)\u001B[0m\n\u001B[1;32m    115\u001B[0m     X_sample, y_sample \u001B[38;5;241m=\u001B[39m generate_bootstrap(\u001B[38;5;28mself\u001B[39m\u001B[38;5;241m.\u001B[39mX_train, \u001B[38;5;28mself\u001B[39m\u001B[38;5;241m.\u001B[39my_train, boostrap_size, with_replacement)\n\u001B[1;32m    116\u001B[0m     classifier \u001B[38;5;241m=\u001B[39m \u001B[38;5;28mself\u001B[39m\u001B[38;5;241m.\u001B[39m_fit_model(classifier, X_sample, y_sample)\n\u001B[0;32m--> 117\u001B[0m     models_predictions[idx] \u001B[38;5;241m=\u001B[39m \u001B[38;5;28;43mself\u001B[39;49m\u001B[38;5;241;43m.\u001B[39;49m\u001B[43m_batch_predict_proba\u001B[49m\u001B[43m(\u001B[49m\u001B[43mclassifier\u001B[49m\u001B[43m,\u001B[49m\u001B[43m \u001B[49m\u001B[38;5;28;43mself\u001B[39;49m\u001B[38;5;241;43m.\u001B[39;49m\u001B[43mX_test\u001B[49m\u001B[43m)\u001B[49m\n\u001B[1;32m    119\u001B[0m \u001B[38;5;28mprint\u001B[39m(\u001B[38;5;124m'\u001B[39m\u001B[38;5;130;01m\\n\u001B[39;00m\u001B[38;5;124m'\u001B[39m)\n\u001B[1;32m    120\u001B[0m \u001B[38;5;28mself\u001B[39m\u001B[38;5;241m.\u001B[39m__logger\u001B[38;5;241m.\u001B[39minfo(\u001B[38;5;124m'\u001B[39m\u001B[38;5;124mSuccessfully tested classifiers by bootstrap\u001B[39m\u001B[38;5;124m'\u001B[39m)\n",
      "File \u001B[0;32m~/UCU/4course_2term/Bachelor_Thesis/Code/fairness-variance/source/analyzers/batch_overall_variance_analyzer.py:23\u001B[0m, in \u001B[0;36mBatchOverallVarianceAnalyzer._batch_predict_proba\u001B[0;34m(self, classifier, X_test)\u001B[0m\n\u001B[1;32m     22\u001B[0m \u001B[38;5;28;01mdef\u001B[39;00m \u001B[38;5;21m_batch_predict_proba\u001B[39m(\u001B[38;5;28mself\u001B[39m, classifier, X_test):\n\u001B[0;32m---> 23\u001B[0m     \u001B[38;5;28;01mreturn\u001B[39;00m \u001B[43mclassifier\u001B[49m\u001B[38;5;241;43m.\u001B[39;49m\u001B[43mpredict_proba\u001B[49m\u001B[43m(\u001B[49m\u001B[43mX_test\u001B[49m\u001B[43m)\u001B[49m[:, \u001B[38;5;241m0\u001B[39m]\n",
      "File \u001B[0;32m~/UCU/4course_2term/Bachelor_Thesis/Code/fairness-variance/faact_venv/lib/python3.8/site-packages/sklearn/neighbors/_classification.py:283\u001B[0m, in \u001B[0;36mKNeighborsClassifier.predict_proba\u001B[0;34m(self, X)\u001B[0m\n\u001B[1;32m    265\u001B[0m \u001B[38;5;124;03m\"\"\"Return probability estimates for the test data X.\u001B[39;00m\n\u001B[1;32m    266\u001B[0m \n\u001B[1;32m    267\u001B[0m \u001B[38;5;124;03mParameters\u001B[39;00m\n\u001B[0;32m   (...)\u001B[0m\n\u001B[1;32m    278\u001B[0m \u001B[38;5;124;03m    by lexicographic order.\u001B[39;00m\n\u001B[1;32m    279\u001B[0m \u001B[38;5;124;03m\"\"\"\u001B[39;00m\n\u001B[1;32m    280\u001B[0m \u001B[38;5;28;01mif\u001B[39;00m \u001B[38;5;28mself\u001B[39m\u001B[38;5;241m.\u001B[39mweights \u001B[38;5;241m==\u001B[39m \u001B[38;5;124m\"\u001B[39m\u001B[38;5;124muniform\u001B[39m\u001B[38;5;124m\"\u001B[39m:\n\u001B[1;32m    281\u001B[0m     \u001B[38;5;66;03m# In that case, we do not need the distances to perform\u001B[39;00m\n\u001B[1;32m    282\u001B[0m     \u001B[38;5;66;03m# the weighting so we do not compute them.\u001B[39;00m\n\u001B[0;32m--> 283\u001B[0m     neigh_ind \u001B[38;5;241m=\u001B[39m \u001B[38;5;28;43mself\u001B[39;49m\u001B[38;5;241;43m.\u001B[39;49m\u001B[43mkneighbors\u001B[49m\u001B[43m(\u001B[49m\u001B[43mX\u001B[49m\u001B[43m,\u001B[49m\u001B[43m \u001B[49m\u001B[43mreturn_distance\u001B[49m\u001B[38;5;241;43m=\u001B[39;49m\u001B[38;5;28;43;01mFalse\u001B[39;49;00m\u001B[43m)\u001B[49m\n\u001B[1;32m    284\u001B[0m     neigh_dist \u001B[38;5;241m=\u001B[39m \u001B[38;5;28;01mNone\u001B[39;00m\n\u001B[1;32m    285\u001B[0m \u001B[38;5;28;01melse\u001B[39;00m:\n",
      "File \u001B[0;32m~/UCU/4course_2term/Bachelor_Thesis/Code/fairness-variance/faact_venv/lib/python3.8/site-packages/sklearn/neighbors/_base.py:879\u001B[0m, in \u001B[0;36mKNeighborsMixin.kneighbors\u001B[0;34m(self, X, n_neighbors, return_distance)\u001B[0m\n\u001B[1;32m    873\u001B[0m     \u001B[38;5;28;01mif\u001B[39;00m issparse(X):\n\u001B[1;32m    874\u001B[0m         \u001B[38;5;28;01mraise\u001B[39;00m \u001B[38;5;167;01mValueError\u001B[39;00m(\n\u001B[1;32m    875\u001B[0m             \u001B[38;5;124m\"\u001B[39m\u001B[38;5;132;01m%s\u001B[39;00m\u001B[38;5;124m does not work with sparse matrices. Densify the data, \u001B[39m\u001B[38;5;124m\"\u001B[39m\n\u001B[1;32m    876\u001B[0m             \u001B[38;5;124m\"\u001B[39m\u001B[38;5;124mor set algorithm=\u001B[39m\u001B[38;5;124m'\u001B[39m\u001B[38;5;124mbrute\u001B[39m\u001B[38;5;124m'\u001B[39m\u001B[38;5;124m\"\u001B[39m\n\u001B[1;32m    877\u001B[0m             \u001B[38;5;241m%\u001B[39m \u001B[38;5;28mself\u001B[39m\u001B[38;5;241m.\u001B[39m_fit_method\n\u001B[1;32m    878\u001B[0m         )\n\u001B[0;32m--> 879\u001B[0m     chunked_results \u001B[38;5;241m=\u001B[39m \u001B[43mParallel\u001B[49m\u001B[43m(\u001B[49m\u001B[43mn_jobs\u001B[49m\u001B[43m,\u001B[49m\u001B[43m \u001B[49m\u001B[43mprefer\u001B[49m\u001B[38;5;241;43m=\u001B[39;49m\u001B[38;5;124;43m\"\u001B[39;49m\u001B[38;5;124;43mthreads\u001B[39;49m\u001B[38;5;124;43m\"\u001B[39;49m\u001B[43m)\u001B[49m\u001B[43m(\u001B[49m\n\u001B[1;32m    880\u001B[0m \u001B[43m        \u001B[49m\u001B[43mdelayed\u001B[49m\u001B[43m(\u001B[49m\u001B[43m_tree_query_parallel_helper\u001B[49m\u001B[43m)\u001B[49m\u001B[43m(\u001B[49m\n\u001B[1;32m    881\u001B[0m \u001B[43m            \u001B[49m\u001B[38;5;28;43mself\u001B[39;49m\u001B[38;5;241;43m.\u001B[39;49m\u001B[43m_tree\u001B[49m\u001B[43m,\u001B[49m\u001B[43m \u001B[49m\u001B[43mX\u001B[49m\u001B[43m[\u001B[49m\u001B[43ms\u001B[49m\u001B[43m]\u001B[49m\u001B[43m,\u001B[49m\u001B[43m \u001B[49m\u001B[43mn_neighbors\u001B[49m\u001B[43m,\u001B[49m\u001B[43m \u001B[49m\u001B[43mreturn_distance\u001B[49m\n\u001B[1;32m    882\u001B[0m \u001B[43m        \u001B[49m\u001B[43m)\u001B[49m\n\u001B[1;32m    883\u001B[0m \u001B[43m        \u001B[49m\u001B[38;5;28;43;01mfor\u001B[39;49;00m\u001B[43m \u001B[49m\u001B[43ms\u001B[49m\u001B[43m \u001B[49m\u001B[38;5;129;43;01min\u001B[39;49;00m\u001B[43m \u001B[49m\u001B[43mgen_even_slices\u001B[49m\u001B[43m(\u001B[49m\u001B[43mX\u001B[49m\u001B[38;5;241;43m.\u001B[39;49m\u001B[43mshape\u001B[49m\u001B[43m[\u001B[49m\u001B[38;5;241;43m0\u001B[39;49m\u001B[43m]\u001B[49m\u001B[43m,\u001B[49m\u001B[43m \u001B[49m\u001B[43mn_jobs\u001B[49m\u001B[43m)\u001B[49m\n\u001B[1;32m    884\u001B[0m \u001B[43m    \u001B[49m\u001B[43m)\u001B[49m\n\u001B[1;32m    885\u001B[0m \u001B[38;5;28;01melse\u001B[39;00m:\n\u001B[1;32m    886\u001B[0m     \u001B[38;5;28;01mraise\u001B[39;00m \u001B[38;5;167;01mValueError\u001B[39;00m(\u001B[38;5;124m\"\u001B[39m\u001B[38;5;124minternal: _fit_method not recognized\u001B[39m\u001B[38;5;124m\"\u001B[39m)\n",
      "File \u001B[0;32m~/UCU/4course_2term/Bachelor_Thesis/Code/fairness-variance/faact_venv/lib/python3.8/site-packages/joblib/parallel.py:1085\u001B[0m, in \u001B[0;36mParallel.__call__\u001B[0;34m(self, iterable)\u001B[0m\n\u001B[1;32m   1076\u001B[0m \u001B[38;5;28;01mtry\u001B[39;00m:\n\u001B[1;32m   1077\u001B[0m     \u001B[38;5;66;03m# Only set self._iterating to True if at least a batch\u001B[39;00m\n\u001B[1;32m   1078\u001B[0m     \u001B[38;5;66;03m# was dispatched. In particular this covers the edge\u001B[39;00m\n\u001B[0;32m   (...)\u001B[0m\n\u001B[1;32m   1082\u001B[0m     \u001B[38;5;66;03m# was very quick and its callback already dispatched all the\u001B[39;00m\n\u001B[1;32m   1083\u001B[0m     \u001B[38;5;66;03m# remaining jobs.\u001B[39;00m\n\u001B[1;32m   1084\u001B[0m     \u001B[38;5;28mself\u001B[39m\u001B[38;5;241m.\u001B[39m_iterating \u001B[38;5;241m=\u001B[39m \u001B[38;5;28;01mFalse\u001B[39;00m\n\u001B[0;32m-> 1085\u001B[0m     \u001B[38;5;28;01mif\u001B[39;00m \u001B[38;5;28;43mself\u001B[39;49m\u001B[38;5;241;43m.\u001B[39;49m\u001B[43mdispatch_one_batch\u001B[49m\u001B[43m(\u001B[49m\u001B[43miterator\u001B[49m\u001B[43m)\u001B[49m:\n\u001B[1;32m   1086\u001B[0m         \u001B[38;5;28mself\u001B[39m\u001B[38;5;241m.\u001B[39m_iterating \u001B[38;5;241m=\u001B[39m \u001B[38;5;28mself\u001B[39m\u001B[38;5;241m.\u001B[39m_original_iterator \u001B[38;5;129;01mis\u001B[39;00m \u001B[38;5;129;01mnot\u001B[39;00m \u001B[38;5;28;01mNone\u001B[39;00m\n\u001B[1;32m   1088\u001B[0m     \u001B[38;5;28;01mwhile\u001B[39;00m \u001B[38;5;28mself\u001B[39m\u001B[38;5;241m.\u001B[39mdispatch_one_batch(iterator):\n",
      "File \u001B[0;32m~/UCU/4course_2term/Bachelor_Thesis/Code/fairness-variance/faact_venv/lib/python3.8/site-packages/joblib/parallel.py:901\u001B[0m, in \u001B[0;36mParallel.dispatch_one_batch\u001B[0;34m(self, iterator)\u001B[0m\n\u001B[1;32m    899\u001B[0m     \u001B[38;5;28;01mreturn\u001B[39;00m \u001B[38;5;28;01mFalse\u001B[39;00m\n\u001B[1;32m    900\u001B[0m \u001B[38;5;28;01melse\u001B[39;00m:\n\u001B[0;32m--> 901\u001B[0m     \u001B[38;5;28;43mself\u001B[39;49m\u001B[38;5;241;43m.\u001B[39;49m\u001B[43m_dispatch\u001B[49m\u001B[43m(\u001B[49m\u001B[43mtasks\u001B[49m\u001B[43m)\u001B[49m\n\u001B[1;32m    902\u001B[0m     \u001B[38;5;28;01mreturn\u001B[39;00m \u001B[38;5;28;01mTrue\u001B[39;00m\n",
      "File \u001B[0;32m~/UCU/4course_2term/Bachelor_Thesis/Code/fairness-variance/faact_venv/lib/python3.8/site-packages/joblib/parallel.py:819\u001B[0m, in \u001B[0;36mParallel._dispatch\u001B[0;34m(self, batch)\u001B[0m\n\u001B[1;32m    817\u001B[0m \u001B[38;5;28;01mwith\u001B[39;00m \u001B[38;5;28mself\u001B[39m\u001B[38;5;241m.\u001B[39m_lock:\n\u001B[1;32m    818\u001B[0m     job_idx \u001B[38;5;241m=\u001B[39m \u001B[38;5;28mlen\u001B[39m(\u001B[38;5;28mself\u001B[39m\u001B[38;5;241m.\u001B[39m_jobs)\n\u001B[0;32m--> 819\u001B[0m     job \u001B[38;5;241m=\u001B[39m \u001B[38;5;28;43mself\u001B[39;49m\u001B[38;5;241;43m.\u001B[39;49m\u001B[43m_backend\u001B[49m\u001B[38;5;241;43m.\u001B[39;49m\u001B[43mapply_async\u001B[49m\u001B[43m(\u001B[49m\u001B[43mbatch\u001B[49m\u001B[43m,\u001B[49m\u001B[43m \u001B[49m\u001B[43mcallback\u001B[49m\u001B[38;5;241;43m=\u001B[39;49m\u001B[43mcb\u001B[49m\u001B[43m)\u001B[49m\n\u001B[1;32m    820\u001B[0m     \u001B[38;5;66;03m# A job can complete so quickly than its callback is\u001B[39;00m\n\u001B[1;32m    821\u001B[0m     \u001B[38;5;66;03m# called before we get here, causing self._jobs to\u001B[39;00m\n\u001B[1;32m    822\u001B[0m     \u001B[38;5;66;03m# grow. To ensure correct results ordering, .insert is\u001B[39;00m\n\u001B[1;32m    823\u001B[0m     \u001B[38;5;66;03m# used (rather than .append) in the following line\u001B[39;00m\n\u001B[1;32m    824\u001B[0m     \u001B[38;5;28mself\u001B[39m\u001B[38;5;241m.\u001B[39m_jobs\u001B[38;5;241m.\u001B[39minsert(job_idx, job)\n",
      "File \u001B[0;32m~/UCU/4course_2term/Bachelor_Thesis/Code/fairness-variance/faact_venv/lib/python3.8/site-packages/joblib/_parallel_backends.py:208\u001B[0m, in \u001B[0;36mSequentialBackend.apply_async\u001B[0;34m(self, func, callback)\u001B[0m\n\u001B[1;32m    206\u001B[0m \u001B[38;5;28;01mdef\u001B[39;00m \u001B[38;5;21mapply_async\u001B[39m(\u001B[38;5;28mself\u001B[39m, func, callback\u001B[38;5;241m=\u001B[39m\u001B[38;5;28;01mNone\u001B[39;00m):\n\u001B[1;32m    207\u001B[0m     \u001B[38;5;124;03m\"\"\"Schedule a func to be run\"\"\"\u001B[39;00m\n\u001B[0;32m--> 208\u001B[0m     result \u001B[38;5;241m=\u001B[39m \u001B[43mImmediateResult\u001B[49m\u001B[43m(\u001B[49m\u001B[43mfunc\u001B[49m\u001B[43m)\u001B[49m\n\u001B[1;32m    209\u001B[0m     \u001B[38;5;28;01mif\u001B[39;00m callback:\n\u001B[1;32m    210\u001B[0m         callback(result)\n",
      "File \u001B[0;32m~/UCU/4course_2term/Bachelor_Thesis/Code/fairness-variance/faact_venv/lib/python3.8/site-packages/joblib/_parallel_backends.py:597\u001B[0m, in \u001B[0;36mImmediateResult.__init__\u001B[0;34m(self, batch)\u001B[0m\n\u001B[1;32m    594\u001B[0m \u001B[38;5;28;01mdef\u001B[39;00m \u001B[38;5;21m__init__\u001B[39m(\u001B[38;5;28mself\u001B[39m, batch):\n\u001B[1;32m    595\u001B[0m     \u001B[38;5;66;03m# Don't delay the application, to avoid keeping the input\u001B[39;00m\n\u001B[1;32m    596\u001B[0m     \u001B[38;5;66;03m# arguments in memory\u001B[39;00m\n\u001B[0;32m--> 597\u001B[0m     \u001B[38;5;28mself\u001B[39m\u001B[38;5;241m.\u001B[39mresults \u001B[38;5;241m=\u001B[39m \u001B[43mbatch\u001B[49m\u001B[43m(\u001B[49m\u001B[43m)\u001B[49m\n",
      "File \u001B[0;32m~/UCU/4course_2term/Bachelor_Thesis/Code/fairness-variance/faact_venv/lib/python3.8/site-packages/joblib/parallel.py:288\u001B[0m, in \u001B[0;36mBatchedCalls.__call__\u001B[0;34m(self)\u001B[0m\n\u001B[1;32m    284\u001B[0m \u001B[38;5;28;01mdef\u001B[39;00m \u001B[38;5;21m__call__\u001B[39m(\u001B[38;5;28mself\u001B[39m):\n\u001B[1;32m    285\u001B[0m     \u001B[38;5;66;03m# Set the default nested backend to self._backend but do not set the\u001B[39;00m\n\u001B[1;32m    286\u001B[0m     \u001B[38;5;66;03m# change the default number of processes to -1\u001B[39;00m\n\u001B[1;32m    287\u001B[0m     \u001B[38;5;28;01mwith\u001B[39;00m parallel_backend(\u001B[38;5;28mself\u001B[39m\u001B[38;5;241m.\u001B[39m_backend, n_jobs\u001B[38;5;241m=\u001B[39m\u001B[38;5;28mself\u001B[39m\u001B[38;5;241m.\u001B[39m_n_jobs):\n\u001B[0;32m--> 288\u001B[0m         \u001B[38;5;28;01mreturn\u001B[39;00m [func(\u001B[38;5;241m*\u001B[39margs, \u001B[38;5;241m*\u001B[39m\u001B[38;5;241m*\u001B[39mkwargs)\n\u001B[1;32m    289\u001B[0m                 \u001B[38;5;28;01mfor\u001B[39;00m func, args, kwargs \u001B[38;5;129;01min\u001B[39;00m \u001B[38;5;28mself\u001B[39m\u001B[38;5;241m.\u001B[39mitems]\n",
      "File \u001B[0;32m~/UCU/4course_2term/Bachelor_Thesis/Code/fairness-variance/faact_venv/lib/python3.8/site-packages/joblib/parallel.py:288\u001B[0m, in \u001B[0;36m<listcomp>\u001B[0;34m(.0)\u001B[0m\n\u001B[1;32m    284\u001B[0m \u001B[38;5;28;01mdef\u001B[39;00m \u001B[38;5;21m__call__\u001B[39m(\u001B[38;5;28mself\u001B[39m):\n\u001B[1;32m    285\u001B[0m     \u001B[38;5;66;03m# Set the default nested backend to self._backend but do not set the\u001B[39;00m\n\u001B[1;32m    286\u001B[0m     \u001B[38;5;66;03m# change the default number of processes to -1\u001B[39;00m\n\u001B[1;32m    287\u001B[0m     \u001B[38;5;28;01mwith\u001B[39;00m parallel_backend(\u001B[38;5;28mself\u001B[39m\u001B[38;5;241m.\u001B[39m_backend, n_jobs\u001B[38;5;241m=\u001B[39m\u001B[38;5;28mself\u001B[39m\u001B[38;5;241m.\u001B[39m_n_jobs):\n\u001B[0;32m--> 288\u001B[0m         \u001B[38;5;28;01mreturn\u001B[39;00m [\u001B[43mfunc\u001B[49m\u001B[43m(\u001B[49m\u001B[38;5;241;43m*\u001B[39;49m\u001B[43margs\u001B[49m\u001B[43m,\u001B[49m\u001B[43m \u001B[49m\u001B[38;5;241;43m*\u001B[39;49m\u001B[38;5;241;43m*\u001B[39;49m\u001B[43mkwargs\u001B[49m\u001B[43m)\u001B[49m\n\u001B[1;32m    289\u001B[0m                 \u001B[38;5;28;01mfor\u001B[39;00m func, args, kwargs \u001B[38;5;129;01min\u001B[39;00m \u001B[38;5;28mself\u001B[39m\u001B[38;5;241m.\u001B[39mitems]\n",
      "File \u001B[0;32m~/UCU/4course_2term/Bachelor_Thesis/Code/fairness-variance/faact_venv/lib/python3.8/site-packages/sklearn/utils/fixes.py:117\u001B[0m, in \u001B[0;36m_FuncWrapper.__call__\u001B[0;34m(self, *args, **kwargs)\u001B[0m\n\u001B[1;32m    115\u001B[0m \u001B[38;5;28;01mdef\u001B[39;00m \u001B[38;5;21m__call__\u001B[39m(\u001B[38;5;28mself\u001B[39m, \u001B[38;5;241m*\u001B[39margs, \u001B[38;5;241m*\u001B[39m\u001B[38;5;241m*\u001B[39mkwargs):\n\u001B[1;32m    116\u001B[0m     \u001B[38;5;28;01mwith\u001B[39;00m config_context(\u001B[38;5;241m*\u001B[39m\u001B[38;5;241m*\u001B[39m\u001B[38;5;28mself\u001B[39m\u001B[38;5;241m.\u001B[39mconfig):\n\u001B[0;32m--> 117\u001B[0m         \u001B[38;5;28;01mreturn\u001B[39;00m \u001B[38;5;28;43mself\u001B[39;49m\u001B[38;5;241;43m.\u001B[39;49m\u001B[43mfunction\u001B[49m\u001B[43m(\u001B[49m\u001B[38;5;241;43m*\u001B[39;49m\u001B[43margs\u001B[49m\u001B[43m,\u001B[49m\u001B[43m \u001B[49m\u001B[38;5;241;43m*\u001B[39;49m\u001B[38;5;241;43m*\u001B[39;49m\u001B[43mkwargs\u001B[49m\u001B[43m)\u001B[49m\n",
      "File \u001B[0;32m~/UCU/4course_2term/Bachelor_Thesis/Code/fairness-variance/faact_venv/lib/python3.8/site-packages/sklearn/neighbors/_base.py:685\u001B[0m, in \u001B[0;36m_tree_query_parallel_helper\u001B[0;34m(tree, *args, **kwargs)\u001B[0m\n\u001B[1;32m    679\u001B[0m \u001B[38;5;28;01mdef\u001B[39;00m \u001B[38;5;21m_tree_query_parallel_helper\u001B[39m(tree, \u001B[38;5;241m*\u001B[39margs, \u001B[38;5;241m*\u001B[39m\u001B[38;5;241m*\u001B[39mkwargs):\n\u001B[1;32m    680\u001B[0m     \u001B[38;5;124;03m\"\"\"Helper for the Parallel calls in KNeighborsMixin.kneighbors.\u001B[39;00m\n\u001B[1;32m    681\u001B[0m \n\u001B[1;32m    682\u001B[0m \u001B[38;5;124;03m    The Cython method tree.query is not directly picklable by cloudpickle\u001B[39;00m\n\u001B[1;32m    683\u001B[0m \u001B[38;5;124;03m    under PyPy.\u001B[39;00m\n\u001B[1;32m    684\u001B[0m \u001B[38;5;124;03m    \"\"\"\u001B[39;00m\n\u001B[0;32m--> 685\u001B[0m     \u001B[38;5;28;01mreturn\u001B[39;00m \u001B[43mtree\u001B[49m\u001B[38;5;241;43m.\u001B[39;49m\u001B[43mquery\u001B[49m\u001B[43m(\u001B[49m\u001B[38;5;241;43m*\u001B[39;49m\u001B[43margs\u001B[49m\u001B[43m,\u001B[49m\u001B[43m \u001B[49m\u001B[38;5;241;43m*\u001B[39;49m\u001B[38;5;241;43m*\u001B[39;49m\u001B[43mkwargs\u001B[49m\u001B[43m)\u001B[49m\n",
      "\u001B[0;31mKeyboardInterrupt\u001B[0m: "
     ]
    }
   ],
   "source": [
    "multiple_runs_metrics_dct = compute_metrics_multiple_runs(dataset, config, experiment_models_config, SAVE_RESULTS_DIR_PATH, debug_mode=False)"
   ]
  },
  {
   "cell_type": "code",
   "execution_count": null,
   "id": "197eadaa",
   "metadata": {},
   "outputs": [],
   "source": []
  }
 ],
 "metadata": {
  "kernelspec": {
   "display_name": "Python 3 (ipykernel)",
   "language": "python",
   "name": "python3"
  },
  "language_info": {
   "codemirror_mode": {
    "name": "ipython",
    "version": 3
   },
   "file_extension": ".py",
   "mimetype": "text/x-python",
   "name": "python",
   "nbconvert_exporter": "python",
   "pygments_lexer": "ipython3",
   "version": "3.8.10"
  }
 },
 "nbformat": 4,
 "nbformat_minor": 5
}
