{
 "cells": [
  {
   "cell_type": "code",
   "execution_count": 23,
   "metadata": {
    "collapsed": true
   },
   "outputs": [
    {
     "name": "stdout",
     "output_type": "stream",
     "text": [
      "The autoreload extension is already loaded. To reload it, use:\n",
      "  %reload_ext autoreload\n"
     ]
    }
   ],
   "source": [
    "%matplotlib inline\n",
    "%load_ext autoreload\n",
    "%autoreload 2"
   ]
  },
  {
   "cell_type": "code",
   "execution_count": 24,
   "outputs": [],
   "source": [
    "import os\n",
    "import warnings\n",
    "warnings.filterwarnings('ignore')\n",
    "os.environ[\"PYTHONWARNINGS\"] = \"ignore\""
   ],
   "metadata": {
    "collapsed": false
   }
  },
  {
   "cell_type": "code",
   "execution_count": 25,
   "outputs": [
    {
     "name": "stdout",
     "output_type": "stream",
     "text": [
      "Current location:  /home/denys_herasymuk/UCU/4course_2term\n"
     ]
    }
   ],
   "source": [
    "cur_folder_name = os.getcwd().split('/')[-1]\n",
    "if cur_folder_name != \"fairness-variance\":\n",
    "    os.chdir(\"../..\")\n",
    "\n",
    "print('Current location: ', os.getcwd())"
   ],
   "metadata": {
    "collapsed": false
   }
  },
  {
   "cell_type": "code",
   "execution_count": 26,
   "outputs": [],
   "source": [
    "import pandas as pd\n",
    "\n",
    "from virny.datasets.data_loaders import ACSIncomeDataset\n",
    "from virny.utils.protected_groups_partitioning import create_test_protected_groups"
   ],
   "metadata": {
    "collapsed": false
   }
  },
  {
   "cell_type": "code",
   "execution_count": 57,
   "outputs": [],
   "source": [
    "def get_proportions(protected_groups, X_data):\n",
    "    for col_name in protected_groups.keys():\n",
    "        proportion = protected_groups[col_name].shape[0] / X_data.shape[0]\n",
    "        print(f'{col_name}: {round(proportion, 3)}')\n",
    "\n",
    "\n",
    "def get_base_rate(protected_groups, y_data):\n",
    "    for col_name in protected_groups.keys():\n",
    "        filtered_df = y_data.iloc[protected_groups[col_name].index].copy(deep=True)\n",
    "        base_rate = filtered_df[filtered_df == 1].shape[0] / filtered_df.shape[0]\n",
    "        print(f'{col_name}: {round(base_rate, 3)}')\n",
    "\n",
    "    base_rate = y_data[y_data == 1].shape[0] / y_data.shape[0]\n",
    "    print(f'overall: {round(base_rate, 3)}')"
   ],
   "metadata": {
    "collapsed": false
   }
  },
  {
   "cell_type": "markdown",
   "source": [
    "## ACSIncome"
   ],
   "metadata": {
    "collapsed": false
   }
  },
  {
   "cell_type": "code",
   "execution_count": 28,
   "outputs": [],
   "source": [
    "sensitive_attributes_dct = {'SEX': '2', 'RAC1P': ['2', '3', '4', '5', '6', '7', '8', '9'], 'SEX & RAC1P': None}"
   ],
   "metadata": {
    "collapsed": false
   }
  },
  {
   "cell_type": "code",
   "execution_count": 29,
   "outputs": [
    {
     "data": {
      "text/plain": "  SCHL COW MAR  OCCP POBP RELP SEX RAC1P  AGEP  WKHP\n0   23   7   3   230   36    0   1     1    55  55.0\n1   16   1   5  4110   13    2   2     1    20  35.0\n2   16   4   3  4130   51    0   2     1    59  30.0\n3   18   4   1  4020   13    0   1     2    43  40.0\n4   14   1   1  8300   20    1   2     2    33  20.0",
      "text/html": "<div>\n<style scoped>\n    .dataframe tbody tr th:only-of-type {\n        vertical-align: middle;\n    }\n\n    .dataframe tbody tr th {\n        vertical-align: top;\n    }\n\n    .dataframe thead th {\n        text-align: right;\n    }\n</style>\n<table border=\"1\" class=\"dataframe\">\n  <thead>\n    <tr style=\"text-align: right;\">\n      <th></th>\n      <th>SCHL</th>\n      <th>COW</th>\n      <th>MAR</th>\n      <th>OCCP</th>\n      <th>POBP</th>\n      <th>RELP</th>\n      <th>SEX</th>\n      <th>RAC1P</th>\n      <th>AGEP</th>\n      <th>WKHP</th>\n    </tr>\n  </thead>\n  <tbody>\n    <tr>\n      <th>0</th>\n      <td>23</td>\n      <td>7</td>\n      <td>3</td>\n      <td>230</td>\n      <td>36</td>\n      <td>0</td>\n      <td>1</td>\n      <td>1</td>\n      <td>55</td>\n      <td>55.0</td>\n    </tr>\n    <tr>\n      <th>1</th>\n      <td>16</td>\n      <td>1</td>\n      <td>5</td>\n      <td>4110</td>\n      <td>13</td>\n      <td>2</td>\n      <td>2</td>\n      <td>1</td>\n      <td>20</td>\n      <td>35.0</td>\n    </tr>\n    <tr>\n      <th>2</th>\n      <td>16</td>\n      <td>4</td>\n      <td>3</td>\n      <td>4130</td>\n      <td>51</td>\n      <td>0</td>\n      <td>2</td>\n      <td>1</td>\n      <td>59</td>\n      <td>30.0</td>\n    </tr>\n    <tr>\n      <th>3</th>\n      <td>18</td>\n      <td>4</td>\n      <td>1</td>\n      <td>4020</td>\n      <td>13</td>\n      <td>0</td>\n      <td>1</td>\n      <td>2</td>\n      <td>43</td>\n      <td>40.0</td>\n    </tr>\n    <tr>\n      <th>4</th>\n      <td>14</td>\n      <td>1</td>\n      <td>1</td>\n      <td>8300</td>\n      <td>20</td>\n      <td>1</td>\n      <td>2</td>\n      <td>2</td>\n      <td>33</td>\n      <td>20.0</td>\n    </tr>\n  </tbody>\n</table>\n</div>"
     },
     "execution_count": 29,
     "metadata": {},
     "output_type": "execute_result"
    }
   ],
   "source": [
    "data_loader = ACSIncomeDataset(state=['GA'], year=2018, with_nulls=False, subsample_size=15_000, subsample_seed=42)\n",
    "data_loader.full_df.head()"
   ],
   "metadata": {
    "collapsed": false
   }
  },
  {
   "cell_type": "code",
   "execution_count": 30,
   "outputs": [
    {
     "data": {
      "text/plain": "(15000, 10)"
     },
     "execution_count": 30,
     "metadata": {},
     "output_type": "execute_result"
    }
   ],
   "source": [
    "data_loader.full_df.shape"
   ],
   "metadata": {
    "collapsed": false
   }
  },
  {
   "cell_type": "code",
   "execution_count": 31,
   "outputs": [
    {
     "data": {
      "text/plain": "1    7669\n2    7331\nName: SEX, dtype: int64"
     },
     "execution_count": 31,
     "metadata": {},
     "output_type": "execute_result"
    }
   ],
   "source": [
    "data_loader.full_df['SEX'].value_counts()"
   ],
   "metadata": {
    "collapsed": false
   }
  },
  {
   "cell_type": "code",
   "execution_count": 32,
   "outputs": [],
   "source": [
    "protected_groups = create_test_protected_groups(data_loader.X_data, data_loader.X_data, sensitive_attributes_dct)"
   ],
   "metadata": {
    "collapsed": false
   }
  },
  {
   "cell_type": "code",
   "execution_count": 33,
   "outputs": [
    {
     "name": "stdout",
     "output_type": "stream",
     "text": [
      "SEX_priv: 7669\n",
      "SEX_dis: 7331\n",
      "RAC1P_priv: 10163\n",
      "RAC1P_dis: 4837\n",
      "SEX&RAC1P_priv: 12431\n",
      "SEX&RAC1P_dis: 2569\n"
     ]
    }
   ],
   "source": [
    "for col_name in protected_groups.keys():\n",
    "    print(f'{col_name}: {protected_groups[col_name].shape[0]}')"
   ],
   "metadata": {
    "collapsed": false
   }
  },
  {
   "cell_type": "code",
   "execution_count": 34,
   "outputs": [
    {
     "data": {
      "text/plain": "dict_keys(['SEX_priv', 'SEX_dis', 'RAC1P_priv', 'RAC1P_dis', 'SEX&RAC1P_priv', 'SEX&RAC1P_dis'])"
     },
     "execution_count": 34,
     "metadata": {},
     "output_type": "execute_result"
    }
   ],
   "source": [
    "protected_groups.keys()"
   ],
   "metadata": {
    "collapsed": false
   }
  },
  {
   "cell_type": "code",
   "execution_count": 52,
   "outputs": [
    {
     "name": "stdout",
     "output_type": "stream",
     "text": [
      "SEX_priv: 0.511\n",
      "SEX_dis: 0.489\n",
      "RAC1P_priv: 0.678\n",
      "RAC1P_dis: 0.322\n",
      "SEX&RAC1P_priv: 0.829\n",
      "SEX&RAC1P_dis: 0.171\n"
     ]
    }
   ],
   "source": [
    "get_proportions(protected_groups, data_loader.X_data)"
   ],
   "metadata": {
    "collapsed": false
   }
  },
  {
   "cell_type": "code",
   "execution_count": 58,
   "outputs": [
    {
     "name": "stdout",
     "output_type": "stream",
     "text": [
      "SEX_priv: 0.422\n",
      "SEX_dis: 0.274\n",
      "RAC1P_priv: 0.389\n",
      "RAC1P_dis: 0.267\n",
      "SEX&RAC1P_priv: 0.374\n",
      "SEX&RAC1P_dis: 0.232\n",
      "overall: 0.35\n"
     ]
    }
   ],
   "source": [
    "get_base_rate(protected_groups, data_loader.y_data)"
   ],
   "metadata": {
    "collapsed": false
   }
  },
  {
   "cell_type": "code",
   "execution_count": 36,
   "outputs": [],
   "source": [],
   "metadata": {
    "collapsed": false
   }
  },
  {
   "cell_type": "code",
   "execution_count": 37,
   "outputs": [
    {
     "data": {
      "text/plain": "0    1\n3    0\n5    1\n6    1\n7    0\nName: PINCP, dtype: int64"
     },
     "execution_count": 37,
     "metadata": {},
     "output_type": "execute_result"
    }
   ],
   "source": [
    "data_loader.y_data.iloc[protected_groups['SEX_priv'].index].head()"
   ],
   "metadata": {
    "collapsed": false
   }
  },
  {
   "cell_type": "code",
   "execution_count": 38,
   "outputs": [
    {
     "data": {
      "text/plain": "dtype('int64')"
     },
     "execution_count": 38,
     "metadata": {},
     "output_type": "execute_result"
    }
   ],
   "source": [
    "data_loader.y_data.iloc[protected_groups['SEX_priv'].index].dtype"
   ],
   "metadata": {
    "collapsed": false
   }
  },
  {
   "cell_type": "code",
   "execution_count": 39,
   "outputs": [],
   "source": [
    "filtered_df = data_loader.y_data.iloc[protected_groups['SEX_priv'].index].copy(deep=True)\n",
    "base_rate = filtered_df[filtered_df == 1].shape[0] / filtered_df.shape[0]"
   ],
   "metadata": {
    "collapsed": false
   }
  },
  {
   "cell_type": "code",
   "execution_count": 40,
   "outputs": [
    {
     "data": {
      "text/plain": "0.4219585343591081"
     },
     "execution_count": 40,
     "metadata": {},
     "output_type": "execute_result"
    }
   ],
   "source": [
    "base_rate"
   ],
   "metadata": {
    "collapsed": false
   }
  },
  {
   "cell_type": "code",
   "execution_count": 41,
   "outputs": [
    {
     "data": {
      "text/plain": "3236"
     },
     "execution_count": 41,
     "metadata": {},
     "output_type": "execute_result"
    }
   ],
   "source": [
    "filtered_df[filtered_df == 1].shape[0]"
   ],
   "metadata": {
    "collapsed": false
   }
  },
  {
   "cell_type": "code",
   "execution_count": 42,
   "outputs": [
    {
     "data": {
      "text/plain": "7669"
     },
     "execution_count": 42,
     "metadata": {},
     "output_type": "execute_result"
    }
   ],
   "source": [
    "filtered_df.shape[0]"
   ],
   "metadata": {
    "collapsed": false
   }
  },
  {
   "cell_type": "code",
   "execution_count": 42,
   "outputs": [],
   "source": [],
   "metadata": {
    "collapsed": false
   }
  }
 ],
 "metadata": {
  "kernelspec": {
   "display_name": "Python 3",
   "language": "python",
   "name": "python3"
  },
  "language_info": {
   "codemirror_mode": {
    "name": "ipython",
    "version": 2
   },
   "file_extension": ".py",
   "mimetype": "text/x-python",
   "name": "python",
   "nbconvert_exporter": "python",
   "pygments_lexer": "ipython2",
   "version": "2.7.6"
  }
 },
 "nbformat": 4,
 "nbformat_minor": 0
}
