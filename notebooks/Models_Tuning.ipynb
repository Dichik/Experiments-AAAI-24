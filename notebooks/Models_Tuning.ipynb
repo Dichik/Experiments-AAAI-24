{
 "cells": [
  {
   "cell_type": "markdown",
   "metadata": {
    "collapsed": false
   },
   "source": [
    "# Models Tuning"
   ]
  },
  {
   "cell_type": "markdown",
   "metadata": {
    "collapsed": false
   },
   "source": [
    "Enable auto-reloading of external modules"
   ]
  },
  {
   "cell_type": "code",
   "execution_count": 1,
   "metadata": {
    "collapsed": false,
    "pycharm": {
     "name": "#%%\n"
    }
   },
   "outputs": [],
   "source": [
    "%matplotlib inline\n",
    "%load_ext autoreload\n",
    "%autoreload 2"
   ]
  },
  {
   "cell_type": "markdown",
   "metadata": {
    "collapsed": false
   },
   "source": [
    "Import dependencies"
   ]
  },
  {
   "cell_type": "code",
   "execution_count": 2,
   "metadata": {
    "collapsed": false,
    "pycharm": {
     "name": "#%%\n"
    }
   },
   "outputs": [],
   "source": [
    "import os\n",
    "import warnings\n",
    "warnings.filterwarnings('ignore')\n",
    "os.environ[\"PYTHONWARNINGS\"] = \"ignore\""
   ]
  },
  {
   "cell_type": "code",
   "execution_count": 3,
   "id": "b7564726",
   "metadata": {},
   "outputs": [
    {
     "name": "stdout",
     "output_type": "stream",
     "text": [
      "/home/denys_herasymuk/UCU/4course_2term/Bachelor_Thesis/Code/fairness-variance\n"
     ]
    }
   ],
   "source": [
    "%cd .."
   ]
  },
  {
   "cell_type": "code",
   "execution_count": 4,
   "metadata": {
    "collapsed": false,
    "pycharm": {
     "name": "#%%\n"
    }
   },
   "outputs": [],
   "source": [
    "import matplotlib\n",
    "import matplotlib.pyplot as plt\n",
    "\n",
    "from utils.data_loader import ACSEmploymentDataset\n",
    "from utils.model_tuning_utils import *\n",
    "from configs.config import *\n",
    "\n",
    "plt.style.use('mpl20')\n",
    "matplotlib.rcParams['figure.dpi'] = 100"
   ]
  },
  {
   "cell_type": "code",
   "execution_count": 5,
   "metadata": {
    "collapsed": false,
    "pycharm": {
     "name": "#%%\n"
    }
   },
   "outputs": [],
   "source": [
    "try:\n",
    "    from folktables import ACSDataSource, ACSEmployment\n",
    "except:\n",
    "    !pip install folktables\n",
    "    from folktables import ACSDataSource, ACSEmployment"
   ]
  },
  {
   "cell_type": "code",
   "execution_count": 6,
   "metadata": {
    "collapsed": false,
    "pycharm": {
     "name": "#%%\n"
    }
   },
   "outputs": [],
   "source": [
    "STATE = DATASET_CONFIG['state']\n",
    "YEAR = DATASET_CONFIG['year']\n",
    "DATASET_NAME = f\"Folktables_{STATE}_{YEAR}\""
   ]
  },
  {
   "cell_type": "markdown",
   "id": "e34f792f",
   "metadata": {},
   "source": [
    "## Loading ACSEmployment data"
   ]
  },
  {
   "cell_type": "code",
   "execution_count": 7,
   "id": "d7067c19",
   "metadata": {},
   "outputs": [],
   "source": [
    "dataset = ACSEmploymentDataset(state=[STATE], year=YEAR, root_dir='data', with_nulls=False)"
   ]
  },
  {
   "cell_type": "markdown",
   "metadata": {
    "collapsed": false
   },
   "source": [
    "## Tune hyper-parameters and find the best baseline model"
   ]
  },
  {
   "cell_type": "code",
   "execution_count": 8,
   "metadata": {
    "collapsed": false,
    "pycharm": {
     "name": "#%%\n"
    }
   },
   "outputs": [
    {
     "name": "stdout",
     "output_type": "stream",
     "text": [
      "Baseline X_train shape:  (80684, 16)\n",
      "Baseline X_test shape:  (20171, 16)\n",
      "X_train_features.columns:  Index(['SCHL_16', 'RELP_15', 'ESP_4', 'RAC1P_7', 'SCHL_24', 'RELP_6', 'ESP_8',\n",
      "       'ANC_2', 'RELP_14', 'ESP_7', 'SCHL_13', 'SCHL_4', 'SCHL_9', 'SCHL_15',\n",
      "       'ANC_4', 'DIS_2', 'SCHL_11', 'SCHL_19', 'ESP_1', 'MIL_0', 'DEAR_1',\n",
      "       'RELP_4', 'DREM_2', 'SCHL_18', 'SCHL_17', 'SCHL_2', 'SCHL_12', 'RELP_0',\n",
      "       'SCHL_14', 'AGEP', 'MAR_4', 'SCHL_8', 'ESP_6', 'DIS_1', 'RELP_7',\n",
      "       'MIG_2', 'MIG_3', 'NATIVITY_2', 'CIT_5', 'RAC1P_8', 'RELP_12',\n",
      "       'RAC1P_9', 'RAC1P_3', 'SCHL_20', 'SCHL_7', 'MIG_1', 'RELP_2', 'RAC1P_1',\n",
      "       'CIT_3', 'RAC1P_2', 'RELP_3', 'MAR_1', 'SCHL_5', 'NATIVITY_1', 'CIT_1',\n",
      "       'SCHL_21', 'SCHL_1', 'RELP_17', 'SCHL_0', 'ESP_3', 'SCHL_22', 'DEYE_2',\n",
      "       'RELP_11', 'RAC1P_5', 'SCHL_10', 'MAR_5', 'RELP_16', 'SEX_2', 'SCHL_23',\n",
      "       'SCHL_3', 'ESP_5', 'CIT_4', 'DEAR_2', 'DEYE_1', 'RELP_5', 'MIL_4',\n",
      "       'MIL_3', 'RELP_10', 'RELP_13', 'DREM_1', 'RAC1P_6', 'MIL_1', 'RELP_1',\n",
      "       'MAR_2', 'SEX_1', 'ESP_2', 'RELP_8', 'ESP_0', 'SCHL_6', 'CIT_2',\n",
      "       'DREM_0', 'MAR_3', 'MIL_2', 'MIG_0', 'RELP_9', 'ANC_1', 'ANC_3'],\n",
      "      dtype='object')\n",
      "Tuning DecisionTreeClassifier...\n",
      "Fitting 3 folds for each of 16 candidates, totalling 48 fits\n",
      "[CV 1/3; 1/16] START criterion=gini, max_depth=5, max_features=0.6..............\n",
      "[CV 2/3; 1/16] START criterion=gini, max_depth=5, max_features=0.6..............\n",
      "[CV 3/3; 1/16] START criterion=gini, max_depth=5, max_features=0.6..............\n",
      "[CV 1/3; 1/16] END criterion=gini, max_depth=5, max_features=0.6; Accuracy_Score: (test=0.803) F1_Score: (test=0.802) total time=   0.9s\n",
      "[CV 1/3; 2/16] START criterion=gini, max_depth=5, max_features=sqrt.............\n",
      "[CV 2/3; 1/16] END criterion=gini, max_depth=5, max_features=0.6; Accuracy_Score: (test=0.801) F1_Score: (test=0.801) total time=   0.8s\n",
      "[CV 3/3; 1/16] END criterion=gini, max_depth=5, max_features=0.6; Accuracy_Score: (test=0.817) F1_Score: (test=0.816) total time=   0.6s\n",
      "[CV 1/3; 2/16] END criterion=gini, max_depth=5, max_features=sqrt; Accuracy_Score: (test=0.678) F1_Score: (test=0.669) total time=   0.7s\n",
      "[CV 3/3; 2/16] START criterion=gini, max_depth=5, max_features=sqrt.............\n",
      "[CV 2/3; 2/16] START criterion=gini, max_depth=5, max_features=sqrt.............\n",
      "[CV 3/3; 2/16] END criterion=gini, max_depth=5, max_features=sqrt; Accuracy_Score: (test=0.732) F1_Score: (test=0.731) total time=   0.5s\n",
      "[CV 1/3; 5/16] START criterion=gini, max_depth=20, max_features=0.6.............\n",
      "[CV 1/3; 3/16] START criterion=gini, max_depth=10, max_features=0.6.............\n",
      "[CV 2/3; 2/16] END criterion=gini, max_depth=5, max_features=sqrt; Accuracy_Score: (test=0.736) F1_Score: (test=0.734) total time=   0.7s\n",
      "[CV 2/3; 3/16] START criterion=gini, max_depth=10, max_features=0.6.............\n",
      "[CV 2/3; 5/16] START criterion=gini, max_depth=20, max_features=0.6.............\n",
      "[CV 3/3; 3/16] START criterion=gini, max_depth=10, max_features=0.6.............\n",
      "[CV 3/3; 5/16] START criterion=gini, max_depth=20, max_features=0.6.............\n",
      "[CV 1/3; 4/16] START criterion=gini, max_depth=10, max_features=sqrt............\n",
      "[CV 1/3; 6/16] START criterion=gini, max_depth=20, max_features=sqrt............\n",
      "[CV 2/3; 4/16] START criterion=gini, max_depth=10, max_features=sqrt............\n",
      "[CV 2/3; 3/16] END criterion=gini, max_depth=10, max_features=0.6; Accuracy_Score: (test=0.825) F1_Score: (test=0.824) total time=   1.3s\n",
      "[CV 3/3; 3/16] END criterion=gini, max_depth=10, max_features=0.6; Accuracy_Score: (test=0.820) F1_Score: (test=0.820) total time=   0.8s\n",
      "[CV 3/3; 5/16] END criterion=gini, max_depth=20, max_features=0.6; Accuracy_Score: (test=0.795) F1_Score: (test=0.794) total time=   0.9s\n",
      "[CV 2/3; 6/16] START criterion=gini, max_depth=20, max_features=sqrt............\n",
      "[CV 2/3; 5/16] END criterion=gini, max_depth=20, max_features=0.6; Accuracy_Score: (test=0.805) F1_Score: (test=0.805) total time=   1.5s\n",
      "[CV 1/3; 4/16] END criterion=gini, max_depth=10, max_features=sqrt; Accuracy_Score: (test=0.801) F1_Score: (test=0.801) total time=   0.9s\n",
      "[CV 1/3; 3/16] END criterion=gini, max_depth=10, max_features=0.6; Accuracy_Score: (test=0.827) F1_Score: (test=0.826) total time=   2.0s\n",
      "[CV 3/3; 4/16] START criterion=gini, max_depth=10, max_features=sqrt............\n",
      "[CV 2/3; 4/16] END criterion=gini, max_depth=10, max_features=sqrt; Accuracy_Score: (test=0.775) F1_Score: (test=0.774) total time=   0.7s\n",
      "[CV 3/3; 6/16] START criterion=gini, max_depth=20, max_features=sqrt............\n",
      "[CV 1/3; 6/16] END criterion=gini, max_depth=20, max_features=sqrt; Accuracy_Score: (test=0.811) F1_Score: (test=0.810) total time=   1.1s\n",
      "[CV 3/3; 4/16] END criterion=gini, max_depth=10, max_features=sqrt; Accuracy_Score: (test=0.803) F1_Score: (test=0.803) total time=   0.4s\n",
      "[CV 1/3; 5/16] END criterion=gini, max_depth=20, max_features=0.6; Accuracy_Score: (test=0.811) F1_Score: (test=0.810) total time=   2.4s\n",
      "[CV 2/3; 6/16] END criterion=gini, max_depth=20, max_features=sqrt; Accuracy_Score: (test=0.798) F1_Score: (test=0.798) total time=   0.6s\n",
      "[CV 3/3; 6/16] END criterion=gini, max_depth=20, max_features=sqrt; Accuracy_Score: (test=0.795) F1_Score: (test=0.793) total time=   0.2s\n",
      "[CV 1/3; 7/16] START criterion=gini, max_depth=30, max_features=0.6.............\n",
      "[CV 2/3; 7/16] START criterion=gini, max_depth=30, max_features=0.6.............\n",
      "[CV 3/3; 7/16] START criterion=gini, max_depth=30, max_features=0.6.............\n",
      "[CV 1/3; 8/16] START criterion=gini, max_depth=30, max_features=sqrt............\n",
      "[CV 3/3; 7/16] END criterion=gini, max_depth=30, max_features=0.6; Accuracy_Score: (test=0.779) F1_Score: (test=0.776) total time=   0.4s\n",
      "[CV 2/3; 7/16] END criterion=gini, max_depth=30, max_features=0.6; Accuracy_Score: (test=0.783) F1_Score: (test=0.781) total time=   0.6s\n",
      "[CV 1/3; 7/16] END criterion=gini, max_depth=30, max_features=0.6; Accuracy_Score: (test=0.786) F1_Score: (test=0.784) total time=   0.8s\n",
      "[CV 2/3; 8/16] START criterion=gini, max_depth=30, max_features=sqrt............\n",
      "[CV 1/3; 8/16] END criterion=gini, max_depth=30, max_features=sqrt; Accuracy_Score: (test=0.797) F1_Score: (test=0.796) total time=   0.4s\n",
      "[CV 3/3; 8/16] START criterion=gini, max_depth=30, max_features=sqrt............\n",
      "[CV 2/3; 8/16] END criterion=gini, max_depth=30, max_features=sqrt; Accuracy_Score: (test=0.780) F1_Score: (test=0.779) total time=   0.3s\n",
      "[CV 3/3; 8/16] END criterion=gini, max_depth=30, max_features=sqrt; Accuracy_Score: (test=0.775) F1_Score: (test=0.772) total time=   0.2s\n",
      "[CV 1/3; 9/16] START criterion=entropy, max_depth=5, max_features=0.6...........\n",
      "[CV 2/3; 9/16] START criterion=entropy, max_depth=5, max_features=0.6...........\n",
      "[CV 1/3; 9/16] END criterion=entropy, max_depth=5, max_features=0.6; Accuracy_Score: (test=0.800) F1_Score: (test=0.799) total time=   0.3s\n",
      "[CV 3/3; 9/16] START criterion=entropy, max_depth=5, max_features=0.6...........\n",
      "[CV 2/3; 9/16] END criterion=entropy, max_depth=5, max_features=0.6; Accuracy_Score: (test=0.807) F1_Score: (test=0.807) total time=   0.2s\n",
      "[CV 3/3; 9/16] END criterion=entropy, max_depth=5, max_features=0.6; Accuracy_Score: (test=0.808) F1_Score: (test=0.808) total time=   0.1s\n",
      "[CV 1/3; 10/16] START criterion=entropy, max_depth=5, max_features=sqrt.........\n",
      "[CV 1/3; 10/16] END criterion=entropy, max_depth=5, max_features=sqrt; Accuracy_Score: (test=0.678) F1_Score: (test=0.668) total time=   0.1s\n",
      "[CV 2/3; 10/16] START criterion=entropy, max_depth=5, max_features=sqrt.........\n",
      "[CV 2/3; 10/16] END criterion=entropy, max_depth=5, max_features=sqrt; Accuracy_Score: (test=0.686) F1_Score: (test=0.676) total time=   0.1s\n",
      "[CV 3/3; 10/16] START criterion=entropy, max_depth=5, max_features=sqrt.........\n",
      "[CV 3/3; 10/16] END criterion=entropy, max_depth=5, max_features=sqrt; Accuracy_Score: (test=0.680) F1_Score: (test=0.670) total time=   0.1s\n",
      "[CV 1/3; 11/16] START criterion=entropy, max_depth=10, max_features=0.6.........\n",
      "[CV 2/3; 11/16] START criterion=entropy, max_depth=10, max_features=0.6.........\n",
      "[CV 3/3; 11/16] START criterion=entropy, max_depth=10, max_features=0.6.........\n",
      "[CV 1/3; 11/16] END criterion=entropy, max_depth=10, max_features=0.6; Accuracy_Score: (test=0.826) F1_Score: (test=0.825) total time=   0.5s\n",
      "[CV 2/3; 11/16] END criterion=entropy, max_depth=10, max_features=0.6; Accuracy_Score: (test=0.821) F1_Score: (test=0.821) total time=   0.4s\n",
      "[CV 3/3; 11/16] END criterion=entropy, max_depth=10, max_features=0.6; Accuracy_Score: (test=0.820) F1_Score: (test=0.819) total time=   0.2s\n",
      "[CV 1/3; 12/16] START criterion=entropy, max_depth=10, max_features=sqrt........\n",
      "[CV 2/3; 12/16] START criterion=entropy, max_depth=10, max_features=sqrt........\n",
      "[CV 1/3; 12/16] END criterion=entropy, max_depth=10, max_features=sqrt; Accuracy_Score: (test=0.802) F1_Score: (test=0.801) total time=   0.2s\n",
      "[CV 2/3; 12/16] END criterion=entropy, max_depth=10, max_features=sqrt; Accuracy_Score: (test=0.804) F1_Score: (test=0.804) total time=   0.1s\n",
      "[CV 3/3; 12/16] START criterion=entropy, max_depth=10, max_features=sqrt........\n",
      "[CV 3/3; 12/16] END criterion=entropy, max_depth=10, max_features=sqrt; Accuracy_Score: (test=0.713) F1_Score: (test=0.708) total time=   0.1s\n",
      "[CV 1/3; 13/16] START criterion=entropy, max_depth=20, max_features=0.6.........\n",
      "[CV 2/3; 13/16] START criterion=entropy, max_depth=20, max_features=0.6.........\n",
      "[CV 3/3; 13/16] START criterion=entropy, max_depth=20, max_features=0.6.........\n",
      "[CV 1/3; 14/16] START criterion=entropy, max_depth=20, max_features=sqrt........\n",
      "[CV 2/3; 13/16] END criterion=entropy, max_depth=20, max_features=0.6; Accuracy_Score: (test=0.807) F1_Score: (test=0.807) total time=   0.5s\n",
      "[CV 3/3; 13/16] END criterion=entropy, max_depth=20, max_features=0.6; Accuracy_Score: (test=0.803) F1_Score: (test=0.802) total time=   0.3s\n",
      "[CV 1/3; 13/16] END criterion=entropy, max_depth=20, max_features=0.6; Accuracy_Score: (test=0.806) F1_Score: (test=0.806) total time=   0.7s\n",
      "[CV 2/3; 14/16] START criterion=entropy, max_depth=20, max_features=sqrt........\n",
      "[CV 1/3; 14/16] END criterion=entropy, max_depth=20, max_features=sqrt; Accuracy_Score: (test=0.800) F1_Score: (test=0.799) total time=   0.3s\n",
      "[CV 2/3; 14/16] END criterion=entropy, max_depth=20, max_features=sqrt; Accuracy_Score: (test=0.776) F1_Score: (test=0.776) total time=   0.2s\n",
      "[CV 3/3; 14/16] START criterion=entropy, max_depth=20, max_features=sqrt........\n",
      "[CV 3/3; 14/16] END criterion=entropy, max_depth=20, max_features=sqrt; Accuracy_Score: (test=0.786) F1_Score: (test=0.785) total time=   0.1s\n",
      "[CV 1/3; 15/16] START criterion=entropy, max_depth=30, max_features=0.6.........\n",
      "[CV 2/3; 15/16] START criterion=entropy, max_depth=30, max_features=0.6.........\n",
      "[CV 3/3; 15/16] START criterion=entropy, max_depth=30, max_features=0.6.........\n",
      "[CV 1/3; 16/16] START criterion=entropy, max_depth=30, max_features=sqrt........\n",
      "[CV 3/3; 15/16] END criterion=entropy, max_depth=30, max_features=0.6; Accuracy_Score: (test=0.773) F1_Score: (test=0.771) total time=   0.4s\n",
      "[CV 2/3; 15/16] END criterion=entropy, max_depth=30, max_features=0.6; Accuracy_Score: (test=0.779) F1_Score: (test=0.778) total time=   0.6s\n",
      "[CV 1/3; 15/16] END criterion=entropy, max_depth=30, max_features=0.6; Accuracy_Score: (test=0.788) F1_Score: (test=0.786) total time=   0.8s\n",
      "[CV 2/3; 16/16] START criterion=entropy, max_depth=30, max_features=sqrt........\n",
      "[CV 1/3; 16/16] END criterion=entropy, max_depth=30, max_features=sqrt; Accuracy_Score: (test=0.801) F1_Score: (test=0.800) total time=   0.4s\n",
      "[CV 3/3; 16/16] START criterion=entropy, max_depth=30, max_features=sqrt........\n",
      "[CV 2/3; 16/16] END criterion=entropy, max_depth=30, max_features=sqrt; Accuracy_Score: (test=0.788) F1_Score: (test=0.788) total time=   0.2s\n",
      "[CV 3/3; 16/16] END criterion=entropy, max_depth=30, max_features=sqrt; Accuracy_Score: (test=0.789) F1_Score: (test=0.787) total time=   0.1s\n",
      "Tuning for DecisionTreeClassifier is finished\n",
      "####################  Folktables_GA_2018  ####################\n",
      "Test model:  DecisionTreeClassifier\n",
      "Test model parameters:\n",
      "{'criterion': 'gini', 'max_depth': 10, 'max_features': 0.6}\n",
      "\n",
      "              precision    recall  f1-score   support\n",
      "\n",
      "           0      0.871     0.801     0.835     11038\n",
      "           1      0.781     0.856     0.817      9133\n",
      "\n",
      "    accuracy                          0.826     20171\n",
      "   macro avg      0.826     0.829     0.826     20171\n",
      "weighted avg      0.830     0.826     0.827     20171\n",
      "\n"
     ]
    },
    {
     "data": {
      "image/png": "[encoded data removed]",
      "text/plain": [
       "<Figure size 640x480 with 2 Axes>"
      ]
     },
     "metadata": {},
     "output_type": "display_data"
    },
    {
     "data": {
      "text/html": [
       "<div>\n",
       "<style scoped>\n",
       "    .dataframe tbody tr th:only-of-type {\n",
       "        vertical-align: middle;\n",
       "    }\n",
       "\n",
       "    .dataframe tbody tr th {\n",
       "        vertical-align: top;\n",
       "    }\n",
       "\n",
       "    .dataframe thead th {\n",
       "        text-align: right;\n",
       "    }\n",
       "</style>\n",
       "<table border=\"1\" class=\"dataframe\">\n",
       "  <thead>\n",
       "    <tr style=\"text-align: right;\">\n",
       "      <th></th>\n",
       "      <th>Dataset_Name</th>\n",
       "      <th>Model_Name</th>\n",
       "      <th>F1_Score</th>\n",
       "      <th>Accuracy_Score</th>\n",
       "      <th>Model_Best_Params</th>\n",
       "    </tr>\n",
       "  </thead>\n",
       "  <tbody>\n",
       "    <tr>\n",
       "      <th>0</th>\n",
       "      <td>Folktables_GA_2018</td>\n",
       "      <td>DecisionTreeClassifier</td>\n",
       "      <td>0.825886</td>\n",
       "      <td>0.826335</td>\n",
       "      <td>{'criterion': 'gini', 'max_depth': 10, 'max_fe...</td>\n",
       "    </tr>\n",
       "  </tbody>\n",
       "</table>\n",
       "</div>"
      ],
      "text/plain": [
       "         Dataset_Name              Model_Name  F1_Score  Accuracy_Score  \\\n",
       "0  Folktables_GA_2018  DecisionTreeClassifier  0.825886        0.826335   \n",
       "\n",
       "                                   Model_Best_Params  \n",
       "0  {'criterion': 'gini', 'max_depth': 10, 'max_fe...  "
      ]
     },
     "execution_count": 8,
     "metadata": {},
     "output_type": "execute_result"
    }
   ],
   "source": [
    "ML_baseline_results_df, best_results_df = test_baseline_models(dataset, dataset_name=DATASET_NAME)\n",
    "ML_baseline_results_df"
   ]
  },
  {
   "cell_type": "code",
   "execution_count": 9,
   "metadata": {
    "collapsed": false,
    "pycharm": {
     "name": "#%%\n"
    }
   },
   "outputs": [
    {
     "data": {
      "text/html": [
       "<div>\n",
       "<style scoped>\n",
       "    .dataframe tbody tr th:only-of-type {\n",
       "        vertical-align: middle;\n",
       "    }\n",
       "\n",
       "    .dataframe tbody tr th {\n",
       "        vertical-align: top;\n",
       "    }\n",
       "\n",
       "    .dataframe thead th {\n",
       "        text-align: right;\n",
       "    }\n",
       "</style>\n",
       "<table border=\"1\" class=\"dataframe\">\n",
       "  <thead>\n",
       "    <tr style=\"text-align: right;\">\n",
       "      <th></th>\n",
       "      <th>Dataset_Name</th>\n",
       "      <th>Model_Name</th>\n",
       "      <th>F1_Score</th>\n",
       "      <th>Accuracy_Score</th>\n",
       "      <th>Model_Best_Params</th>\n",
       "      <th>Model_Pred</th>\n",
       "    </tr>\n",
       "  </thead>\n",
       "  <tbody>\n",
       "    <tr>\n",
       "      <th>0</th>\n",
       "      <td>Folktables_GA_2018</td>\n",
       "      <td>DecisionTreeClassifier</td>\n",
       "      <td>0.825886</td>\n",
       "      <td>0.826335</td>\n",
       "      <td>{'criterion': 'gini', 'max_depth': 10, 'max_fe...</td>\n",
       "      <td>[1, 1, 0, 0, 0, 1, 0, 0, 0, 0, 1, 0, 1, 0, 1, ...</td>\n",
       "    </tr>\n",
       "  </tbody>\n",
       "</table>\n",
       "</div>"
      ],
      "text/plain": [
       "         Dataset_Name              Model_Name  F1_Score  Accuracy_Score  \\\n",
       "0  Folktables_GA_2018  DecisionTreeClassifier  0.825886        0.826335   \n",
       "\n",
       "                                   Model_Best_Params  \\\n",
       "0  {'criterion': 'gini', 'max_depth': 10, 'max_fe...   \n",
       "\n",
       "                                          Model_Pred  \n",
       "0  [1, 1, 0, 0, 0, 1, 0, 0, 0, 0, 1, 0, 1, 0, 1, ...  "
      ]
     },
     "execution_count": 9,
     "metadata": {},
     "output_type": "execute_result"
    }
   ],
   "source": [
    "best_results_df"
   ]
  },
  {
   "cell_type": "code",
   "execution_count": 10,
   "metadata": {
    "collapsed": false,
    "pycharm": {
     "name": "#%%\n"
    }
   },
   "outputs": [
    {
     "name": "stdout",
     "output_type": "stream",
     "text": [
      "\n",
      "\n",
      "Model name: DecisionTreeClassifier\n",
      "{'criterion': 'gini', 'max_depth': 10, 'max_features': 0.6}\n"
     ]
    }
   ],
   "source": [
    "for index, row in ML_baseline_results_df.iterrows():\n",
    "    print(f'\\n\\nModel name: {row[\"Model_Name\"]}')\n",
    "    pprint(row['Model_Best_Params'])"
   ]
  },
  {
   "cell_type": "code",
   "execution_count": 12,
   "metadata": {
    "collapsed": false,
    "pycharm": {
     "name": "#%%\n"
    }
   },
   "outputs": [],
   "source": [
    "from datetime import datetime, timezone\n",
    "\n",
    "now = datetime.now(timezone.utc)\n",
    "date_time_str = now.strftime(\"%Y%m%d__%H%M%S\")\n",
    "ML_baseline_results_df.to_csv(os.path.join('results', 'models_tuning', f'tuning_results_{DATASET_NAME}_{date_time_str}.csv'),\n",
    "                              sep=\",\", columns=ML_baseline_results_df.columns, float_format=\"%.4f\")"
   ]
  },
  {
   "cell_type": "code",
   "execution_count": null,
   "metadata": {
    "collapsed": false,
    "pycharm": {
     "name": "#%%\n"
    }
   },
   "outputs": [],
   "source": []
  }
 ],
 "metadata": {
  "kernelspec": {
   "display_name": "Python 3.8.10 ('faact_venv': venv)",
   "language": "python",
   "name": "python3"
  },
  "language_info": {
   "codemirror_mode": {
    "name": "ipython",
    "version": 3
   },
   "file_extension": ".py",
   "mimetype": "text/x-python",
   "name": "python",
   "nbconvert_exporter": "python",
   "pygments_lexer": "ipython3",
   "version": "3.8.10"
  },
  "vscode": {
   "interpreter": {
    "hash": "aeeedfdcfbb7d0bd7e8ae453d9cd04ee7ebd63a67f7841163d9437c8723e8c72"
   }
  }
 },
 "nbformat": 4,
 "nbformat_minor": 5
}
