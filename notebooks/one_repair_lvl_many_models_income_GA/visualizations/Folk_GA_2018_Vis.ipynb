{
 "cells": [
  {
   "cell_type": "code",
   "execution_count": 1,
   "id": "39e91cd0",
   "metadata": {
    "ExecuteTime": {
     "end_time": "2023-11-19T08:04:38.907157Z",
     "start_time": "2023-11-19T08:04:38.144427Z"
    }
   },
   "outputs": [],
   "source": [
    "%matplotlib inline\n",
    "%load_ext autoreload\n",
    "%autoreload 2"
   ]
  },
  {
   "cell_type": "code",
   "execution_count": 2,
   "id": "4efe89f5",
   "metadata": {
    "ExecuteTime": {
     "end_time": "2023-11-19T08:04:38.962338Z",
     "start_time": "2023-11-19T08:04:38.805163Z"
    }
   },
   "outputs": [],
   "source": [
    "import os\n",
    "import warnings\n",
    "warnings.filterwarnings('ignore')\n",
    "os.environ[\"PYTHONWARNINGS\"] = \"ignore\""
   ]
  },
  {
   "cell_type": "code",
   "execution_count": 3,
   "id": "6a451e2e",
   "metadata": {
    "ExecuteTime": {
     "end_time": "2023-11-19T08:04:38.979512Z",
     "start_time": "2023-11-19T08:04:38.815830Z"
    }
   },
   "outputs": [
    {
     "name": "stdout",
     "output_type": "stream",
     "text": [
      "Current location:  /Users/tarasbohdan/Desktop/Experiments-AAAI-24\n"
     ]
    }
   ],
   "source": [
    "cur_folder_name = os.getcwd().split('/')[-1]\n",
    "if cur_folder_name != \"fairness-variance\":\n",
    "    os.chdir(\"../../..\")\n",
    "\n",
    "print('Current location: ', os.getcwd())"
   ]
  },
  {
   "cell_type": "markdown",
   "id": "eb58106e",
   "metadata": {},
   "source": [
    "# Visualizations"
   ]
  },
  {
   "cell_type": "code",
   "execution_count": 4,
   "id": "18cb3aa6",
   "metadata": {
    "ExecuteTime": {
     "end_time": "2023-11-19T08:04:41.937631Z",
     "start_time": "2023-11-19T08:04:38.831409Z"
    }
   },
   "outputs": [
    {
     "name": "stderr",
     "output_type": "stream",
     "text": [
      "WARNING:root:No module named 'tempeh': LawSchoolGPADataset will be unavailable. To install, run:\n",
      "pip install 'aif360[LawSchoolGPA]'\n",
      "WARNING:root:No module named 'tensorflow': AdversarialDebiasing will be unavailable. To install, run:\n",
      "pip install 'aif360[AdversarialDebiasing]'\n",
      "WARNING:root:No module named 'tensorflow': AdversarialDebiasing will be unavailable. To install, run:\n",
      "pip install 'aif360[AdversarialDebiasing]'\n"
     ]
    }
   ],
   "source": [
    "from virny.utils.custom_initializers import create_models_metrics_dct_from_database_df\n",
    "\n",
    "from source.utils.db_functions import read_model_metric_dfs_from_db\n",
    "from source.custom_classes.experiments_composer import ExperimentsComposer\n",
    "from source.visualizations import preprocess_metrics, create_group_base_and_fair_models_box_plot, \\\n",
    "    create_scatter_plot, create_group_models_box_plot_per_test_set, create_bar_plot_for_model_selection"
   ]
  },
  {
   "cell_type": "markdown",
   "id": "0184daf8",
   "metadata": {},
   "source": [
    "## Initialize Configs"
   ]
  },
  {
   "cell_type": "code",
   "execution_count": 5,
   "id": "37622cae",
   "metadata": {
    "ExecuteTime": {
     "end_time": "2023-11-19T08:04:41.938502Z",
     "start_time": "2023-11-19T08:04:41.900563Z"
    }
   },
   "outputs": [],
   "source": [
    "EXPERIMENT_NAME = 'mult_repair_levels_student_performance'\n",
    "DB_COLLECTION_NAME = 'exp_mult_repair_levels'\n",
    "DATASET_NAME = 'Folktables_GA_2018_Income'\n",
    "EXPERIMENT_SESSION_UUID = 'ffc416f4-b58b-4c97-8f17-ceb409d69cfb'\n",
    "SENSITIVE_ATTRS = ['SEX', 'RAC1P', 'SEX&RAC1P']\n",
    "MODEL_NAMES = ['RandomForestClassifier']"
   ]
  },
  {
   "cell_type": "code",
   "execution_count": 6,
   "id": "679894e4",
   "metadata": {
    "ExecuteTime": {
     "end_time": "2023-11-19T08:04:42.025177Z",
     "start_time": "2023-11-19T08:04:41.926969Z"
    }
   },
   "outputs": [],
   "source": [
    "from source.utils.db_functions import connect_to_mongodb\n",
    "\n",
    "client, collection_obj, db_writer_func = connect_to_mongodb(DB_COLLECTION_NAME)"
   ]
  },
  {
   "cell_type": "markdown",
   "id": "49aebdbb",
   "metadata": {},
   "source": [
    "## Group Metrics Composition"
   ]
  },
  {
   "cell_type": "code",
   "execution_count": 7,
   "id": "34efd295",
   "metadata": {
    "ExecuteTime": {
     "end_time": "2023-11-19T08:04:44.508065Z",
     "start_time": "2023-11-19T08:04:42.007349Z"
    }
   },
   "outputs": [],
   "source": [
    "model_metric_dfs = read_model_metric_dfs_from_db(collection_obj, EXPERIMENT_SESSION_UUID)\n",
    "models_metrics_dct = create_models_metrics_dct_from_database_df(model_metric_dfs)\n",
    "client.close()"
   ]
  },
  {
   "cell_type": "code",
   "execution_count": 8,
   "id": "8f1c2a29",
   "metadata": {
    "ExecuteTime": {
     "end_time": "2023-11-19T08:04:44.534944Z",
     "start_time": "2023-11-19T08:04:44.404505Z"
    }
   },
   "outputs": [
    {
     "data": {
      "text/plain": "(57, 32)"
     },
     "execution_count": 8,
     "metadata": {},
     "output_type": "execute_result"
    }
   ],
   "source": [
    "models_metrics_dct[list(models_metrics_dct.keys())[0]].shape"
   ]
  },
  {
   "cell_type": "code",
   "execution_count": 9,
   "id": "e70c2fe9",
   "metadata": {
    "ExecuteTime": {
     "end_time": "2023-11-19T08:04:44.805481Z",
     "start_time": "2023-11-19T08:04:44.413785Z"
    }
   },
   "outputs": [
    {
     "data": {
      "text/plain": "Empty DataFrame\nColumns: [Metric, Model_Name, Model_Params, Dataset_Name, Num_Estimators, Tag, Record_Create_Date_Time, Session_Uuid, Experiment_Iteration, Dataset_Split_Seed, Model_Init_Seed, Fair_Intervention_Params_Lst, Intervention_Param, RAC1P_dis, RAC1P_dis_correct, RAC1P_dis_incorrect, RAC1P_priv, RAC1P_priv_correct, RAC1P_priv_incorrect, SEX&RAC1P_dis, SEX&RAC1P_dis_correct, SEX&RAC1P_dis_incorrect, SEX&RAC1P_priv, SEX&RAC1P_priv_correct, SEX&RAC1P_priv_incorrect, SEX_dis, SEX_dis_correct, SEX_dis_incorrect, SEX_priv, SEX_priv_correct, SEX_priv_incorrect, overall]\nIndex: []\n\n[0 rows x 32 columns]",
      "text/html": "<div>\n<style scoped>\n    .dataframe tbody tr th:only-of-type {\n        vertical-align: middle;\n    }\n\n    .dataframe tbody tr th {\n        vertical-align: top;\n    }\n\n    .dataframe thead th {\n        text-align: right;\n    }\n</style>\n<table border=\"1\" class=\"dataframe\">\n  <thead>\n    <tr style=\"text-align: right;\">\n      <th></th>\n      <th>Metric</th>\n      <th>Model_Name</th>\n      <th>Model_Params</th>\n      <th>Dataset_Name</th>\n      <th>Num_Estimators</th>\n      <th>Tag</th>\n      <th>Record_Create_Date_Time</th>\n      <th>Session_Uuid</th>\n      <th>Experiment_Iteration</th>\n      <th>Dataset_Split_Seed</th>\n      <th>...</th>\n      <th>SEX&amp;RAC1P_priv</th>\n      <th>SEX&amp;RAC1P_priv_correct</th>\n      <th>SEX&amp;RAC1P_priv_incorrect</th>\n      <th>SEX_dis</th>\n      <th>SEX_dis_correct</th>\n      <th>SEX_dis_incorrect</th>\n      <th>SEX_priv</th>\n      <th>SEX_priv_correct</th>\n      <th>SEX_priv_incorrect</th>\n      <th>overall</th>\n    </tr>\n  </thead>\n  <tbody>\n  </tbody>\n</table>\n<p>0 rows × 32 columns</p>\n</div>"
     },
     "execution_count": 9,
     "metadata": {},
     "output_type": "execute_result"
    }
   ],
   "source": [
    "models_metrics_dct[list(models_metrics_dct.keys())[0]][\n",
    "    models_metrics_dct[list(models_metrics_dct.keys())[0]]['Experiment_Iteration'] == 'Exp_iter_1'\n",
    "].head(20)"
   ]
  },
  {
   "cell_type": "code",
   "execution_count": 10,
   "id": "b6856661",
   "metadata": {
    "ExecuteTime": {
     "end_time": "2023-11-19T08:04:46.416141Z",
     "start_time": "2023-11-19T08:04:44.449242Z"
    }
   },
   "outputs": [
    {
     "ename": "KeyError",
     "evalue": "'Test_Set_Index'",
     "output_type": "error",
     "traceback": [
      "\u001B[0;31m---------------------------------------------------------------------------\u001B[0m",
      "\u001B[0;31mKeyError\u001B[0m                                  Traceback (most recent call last)",
      "File \u001B[0;32m~/Desktop/Experiments-AAAI-24/virny_venv/lib/python3.9/site-packages/pandas/core/indexes/base.py:3802\u001B[0m, in \u001B[0;36mIndex.get_loc\u001B[0;34m(self, key, method, tolerance)\u001B[0m\n\u001B[1;32m   3801\u001B[0m \u001B[38;5;28;01mtry\u001B[39;00m:\n\u001B[0;32m-> 3802\u001B[0m     \u001B[38;5;28;01mreturn\u001B[39;00m \u001B[38;5;28;43mself\u001B[39;49m\u001B[38;5;241;43m.\u001B[39;49m\u001B[43m_engine\u001B[49m\u001B[38;5;241;43m.\u001B[39;49m\u001B[43mget_loc\u001B[49m\u001B[43m(\u001B[49m\u001B[43mcasted_key\u001B[49m\u001B[43m)\u001B[49m\n\u001B[1;32m   3803\u001B[0m \u001B[38;5;28;01mexcept\u001B[39;00m \u001B[38;5;167;01mKeyError\u001B[39;00m \u001B[38;5;28;01mas\u001B[39;00m err:\n",
      "File \u001B[0;32m~/Desktop/Experiments-AAAI-24/virny_venv/lib/python3.9/site-packages/pandas/_libs/index.pyx:138\u001B[0m, in \u001B[0;36mpandas._libs.index.IndexEngine.get_loc\u001B[0;34m()\u001B[0m\n",
      "File \u001B[0;32m~/Desktop/Experiments-AAAI-24/virny_venv/lib/python3.9/site-packages/pandas/_libs/index.pyx:165\u001B[0m, in \u001B[0;36mpandas._libs.index.IndexEngine.get_loc\u001B[0;34m()\u001B[0m\n",
      "File \u001B[0;32mpandas/_libs/hashtable_class_helper.pxi:5745\u001B[0m, in \u001B[0;36mpandas._libs.hashtable.PyObjectHashTable.get_item\u001B[0;34m()\u001B[0m\n",
      "File \u001B[0;32mpandas/_libs/hashtable_class_helper.pxi:5753\u001B[0m, in \u001B[0;36mpandas._libs.hashtable.PyObjectHashTable.get_item\u001B[0;34m()\u001B[0m\n",
      "\u001B[0;31mKeyError\u001B[0m: 'Test_Set_Index'",
      "\nThe above exception was the direct cause of the following exception:\n",
      "\u001B[0;31mKeyError\u001B[0m                                  Traceback (most recent call last)",
      "Cell \u001B[0;32mIn[10], line 2\u001B[0m\n\u001B[1;32m      1\u001B[0m exp_composer \u001B[38;5;241m=\u001B[39m ExperimentsComposer(models_metrics_dct, SENSITIVE_ATTRS)\n\u001B[0;32m----> 2\u001B[0m exp_subgroup_metrics_dct \u001B[38;5;241m=\u001B[39m \u001B[43mexp_composer\u001B[49m\u001B[38;5;241;43m.\u001B[39;49m\u001B[43mcreate_exp_subgroup_metrics_dct_for_mult_test_sets\u001B[49m\u001B[43m(\u001B[49m\u001B[43m)\u001B[49m\n",
      "File \u001B[0;32m~/Desktop/Experiments-AAAI-24/source/custom_classes/experiments_composer.py:69\u001B[0m, in \u001B[0;36mExperimentsComposer.create_exp_subgroup_metrics_dct_for_mult_test_sets\u001B[0;34m(self)\u001B[0m\n\u001B[1;32m     66\u001B[0m \u001B[38;5;28;01mfor\u001B[39;00m intervention_param \u001B[38;5;129;01min\u001B[39;00m distinct_intervention_params:\n\u001B[1;32m     67\u001B[0m     structured_exp_results_dct[model_name][exp_iter][intervention_param] \u001B[38;5;241m=\u001B[39m \u001B[38;5;28mdict\u001B[39m()\n\u001B[1;32m     68\u001B[0m     distinct_test_set_indexes \u001B[38;5;241m=\u001B[39m \\\n\u001B[0;32m---> 69\u001B[0m         \u001B[38;5;28;43mself\u001B[39;49m\u001B[38;5;241;43m.\u001B[39;49m\u001B[43mmodels_metrics_dct\u001B[49m\u001B[43m[\u001B[49m\u001B[43mmodel_name\u001B[49m\u001B[43m]\u001B[49m\u001B[43m[\u001B[49m\n\u001B[1;32m     70\u001B[0m \u001B[43m            \u001B[49m\u001B[43m(\u001B[49m\u001B[38;5;28;43mself\u001B[39;49m\u001B[38;5;241;43m.\u001B[39;49m\u001B[43mmodels_metrics_dct\u001B[49m\u001B[43m[\u001B[49m\u001B[43mmodel_name\u001B[49m\u001B[43m]\u001B[49m\u001B[43m[\u001B[49m\u001B[38;5;124;43m'\u001B[39;49m\u001B[38;5;124;43mExperiment_Iteration\u001B[39;49m\u001B[38;5;124;43m'\u001B[39;49m\u001B[43m]\u001B[49m\u001B[43m \u001B[49m\u001B[38;5;241;43m==\u001B[39;49m\u001B[43m \u001B[49m\u001B[43mexp_iter\u001B[49m\u001B[43m)\u001B[49m\u001B[43m \u001B[49m\u001B[38;5;241;43m&\u001B[39;49m\n\u001B[1;32m     71\u001B[0m \u001B[43m            \u001B[49m\u001B[43m(\u001B[49m\u001B[38;5;28;43mself\u001B[39;49m\u001B[38;5;241;43m.\u001B[39;49m\u001B[43mmodels_metrics_dct\u001B[49m\u001B[43m[\u001B[49m\u001B[43mmodel_name\u001B[49m\u001B[43m]\u001B[49m\u001B[43m[\u001B[49m\u001B[38;5;124;43m'\u001B[39;49m\u001B[38;5;124;43mIntervention_Param\u001B[39;49m\u001B[38;5;124;43m'\u001B[39;49m\u001B[43m]\u001B[49m\u001B[43m \u001B[49m\u001B[38;5;241;43m==\u001B[39;49m\u001B[43m \u001B[49m\u001B[43mintervention_param\u001B[49m\u001B[43m)\u001B[49m\n\u001B[1;32m     72\u001B[0m \u001B[43m        \u001B[49m\u001B[43m]\u001B[49m\u001B[43m[\u001B[49m\u001B[38;5;124;43m'\u001B[39;49m\u001B[38;5;124;43mTest_Set_Index\u001B[39;49m\u001B[38;5;124;43m'\u001B[39;49m\u001B[43m]\u001B[49m\u001B[38;5;241m.\u001B[39munique()\n\u001B[1;32m     74\u001B[0m     \u001B[38;5;28;01mfor\u001B[39;00m test_set_index \u001B[38;5;129;01min\u001B[39;00m distinct_test_set_indexes:\n\u001B[1;32m     75\u001B[0m         model_metrics_per_run_per_percentage \u001B[38;5;241m=\u001B[39m \\\n\u001B[1;32m     76\u001B[0m             \u001B[38;5;28mself\u001B[39m\u001B[38;5;241m.\u001B[39mmodels_metrics_dct[model_name][\n\u001B[1;32m     77\u001B[0m                 (\u001B[38;5;28mself\u001B[39m\u001B[38;5;241m.\u001B[39mmodels_metrics_dct[model_name][\u001B[38;5;124m'\u001B[39m\u001B[38;5;124mExperiment_Iteration\u001B[39m\u001B[38;5;124m'\u001B[39m] \u001B[38;5;241m==\u001B[39m exp_iter) \u001B[38;5;241m&\u001B[39m\n\u001B[1;32m     78\u001B[0m                 (\u001B[38;5;28mself\u001B[39m\u001B[38;5;241m.\u001B[39mmodels_metrics_dct[model_name][\u001B[38;5;124m'\u001B[39m\u001B[38;5;124mIntervention_Param\u001B[39m\u001B[38;5;124m'\u001B[39m] \u001B[38;5;241m==\u001B[39m intervention_param) \u001B[38;5;241m&\u001B[39m\n\u001B[1;32m     79\u001B[0m                 (\u001B[38;5;28mself\u001B[39m\u001B[38;5;241m.\u001B[39mmodels_metrics_dct[model_name][\u001B[38;5;124m'\u001B[39m\u001B[38;5;124mTest_Set_Index\u001B[39m\u001B[38;5;124m'\u001B[39m] \u001B[38;5;241m==\u001B[39m test_set_index)\n\u001B[1;32m     80\u001B[0m             ]\n",
      "File \u001B[0;32m~/Desktop/Experiments-AAAI-24/virny_venv/lib/python3.9/site-packages/pandas/core/frame.py:3807\u001B[0m, in \u001B[0;36mDataFrame.__getitem__\u001B[0;34m(self, key)\u001B[0m\n\u001B[1;32m   3805\u001B[0m \u001B[38;5;28;01mif\u001B[39;00m \u001B[38;5;28mself\u001B[39m\u001B[38;5;241m.\u001B[39mcolumns\u001B[38;5;241m.\u001B[39mnlevels \u001B[38;5;241m>\u001B[39m \u001B[38;5;241m1\u001B[39m:\n\u001B[1;32m   3806\u001B[0m     \u001B[38;5;28;01mreturn\u001B[39;00m \u001B[38;5;28mself\u001B[39m\u001B[38;5;241m.\u001B[39m_getitem_multilevel(key)\n\u001B[0;32m-> 3807\u001B[0m indexer \u001B[38;5;241m=\u001B[39m \u001B[38;5;28;43mself\u001B[39;49m\u001B[38;5;241;43m.\u001B[39;49m\u001B[43mcolumns\u001B[49m\u001B[38;5;241;43m.\u001B[39;49m\u001B[43mget_loc\u001B[49m\u001B[43m(\u001B[49m\u001B[43mkey\u001B[49m\u001B[43m)\u001B[49m\n\u001B[1;32m   3808\u001B[0m \u001B[38;5;28;01mif\u001B[39;00m is_integer(indexer):\n\u001B[1;32m   3809\u001B[0m     indexer \u001B[38;5;241m=\u001B[39m [indexer]\n",
      "File \u001B[0;32m~/Desktop/Experiments-AAAI-24/virny_venv/lib/python3.9/site-packages/pandas/core/indexes/base.py:3804\u001B[0m, in \u001B[0;36mIndex.get_loc\u001B[0;34m(self, key, method, tolerance)\u001B[0m\n\u001B[1;32m   3802\u001B[0m     \u001B[38;5;28;01mreturn\u001B[39;00m \u001B[38;5;28mself\u001B[39m\u001B[38;5;241m.\u001B[39m_engine\u001B[38;5;241m.\u001B[39mget_loc(casted_key)\n\u001B[1;32m   3803\u001B[0m \u001B[38;5;28;01mexcept\u001B[39;00m \u001B[38;5;167;01mKeyError\u001B[39;00m \u001B[38;5;28;01mas\u001B[39;00m err:\n\u001B[0;32m-> 3804\u001B[0m     \u001B[38;5;28;01mraise\u001B[39;00m \u001B[38;5;167;01mKeyError\u001B[39;00m(key) \u001B[38;5;28;01mfrom\u001B[39;00m \u001B[38;5;21;01merr\u001B[39;00m\n\u001B[1;32m   3805\u001B[0m \u001B[38;5;28;01mexcept\u001B[39;00m \u001B[38;5;167;01mTypeError\u001B[39;00m:\n\u001B[1;32m   3806\u001B[0m     \u001B[38;5;66;03m# If we have a listlike key, _check_indexing_error will raise\u001B[39;00m\n\u001B[1;32m   3807\u001B[0m     \u001B[38;5;66;03m#  InvalidIndexError. Otherwise we fall through and re-raise\u001B[39;00m\n\u001B[1;32m   3808\u001B[0m     \u001B[38;5;66;03m#  the TypeError.\u001B[39;00m\n\u001B[1;32m   3809\u001B[0m     \u001B[38;5;28mself\u001B[39m\u001B[38;5;241m.\u001B[39m_check_indexing_error(key)\n",
      "\u001B[0;31mKeyError\u001B[0m: 'Test_Set_Index'"
     ]
    }
   ],
   "source": [
    "exp_composer = ExperimentsComposer(models_metrics_dct, SENSITIVE_ATTRS)\n",
    "exp_subgroup_metrics_dct = exp_composer.create_exp_subgroup_metrics_dct_for_mult_test_sets()"
   ]
  },
  {
   "cell_type": "code",
   "execution_count": null,
   "id": "91d6b7fa",
   "metadata": {
    "ExecuteTime": {
     "start_time": "2023-11-19T08:04:45.969882Z"
    }
   },
   "outputs": [],
   "source": [
    "exp_subgroup_metrics_dct['RandomForestClassifier']['Exp_iter_1'][0.0][3].head(20)"
   ]
  },
  {
   "cell_type": "code",
   "execution_count": null,
   "id": "246a61c1",
   "metadata": {
    "ExecuteTime": {
     "start_time": "2023-11-19T08:04:45.982151Z"
    }
   },
   "outputs": [],
   "source": [
    "exp_group_metrics_dct = exp_composer.compose_group_metrics_for_mult_test_sets(exp_subgroup_metrics_dct)"
   ]
  },
  {
   "cell_type": "code",
   "execution_count": null,
   "id": "eb5f3416",
   "metadata": {
    "ExecuteTime": {
     "start_time": "2023-11-19T08:04:45.984257Z"
    }
   },
   "outputs": [],
   "source": [
    "exp_group_metrics_dct['RandomForestClassifier']['Exp_iter_1'][0.0][3].head(20)"
   ]
  },
  {
   "cell_type": "code",
   "execution_count": null,
   "id": "4f687a78",
   "metadata": {
    "ExecuteTime": {
     "start_time": "2023-11-19T08:04:45.997439Z"
    }
   },
   "outputs": [],
   "source": [
    "exp_group_metrics_dct['RandomForestClassifier']['Exp_iter_1'][0.7][0].head()"
   ]
  },
  {
   "cell_type": "markdown",
   "id": "eeb6d1a0",
   "metadata": {},
   "source": [
    "## Figure 1. Subgroup boxplots."
   ]
  },
  {
   "cell_type": "code",
   "execution_count": null,
   "id": "eb0b41ec",
   "metadata": {
    "ExecuteTime": {
     "start_time": "2023-11-19T08:04:46.012982Z"
    }
   },
   "outputs": [],
   "source": [
    "melted_all_subgroup_metrics_per_model_dct, melted_all_group_metrics_per_model_dct = \\\n",
    "    preprocess_metrics(exp_subgroup_metrics_dct, exp_group_metrics_dct)"
   ]
  },
  {
   "cell_type": "code",
   "execution_count": null,
   "id": "5a7b9c64",
   "metadata": {
    "ExecuteTime": {
     "start_time": "2023-11-19T08:04:46.016065Z"
    }
   },
   "outputs": [],
   "source": [
    "vals_to_replace = {\n",
    "    'Model_Name': {\n",
    "        'RandomForestClassifier': 'RF',\n",
    "    }\n",
    "}"
   ]
  },
  {
   "cell_type": "code",
   "execution_count": null,
   "id": "c0140d69",
   "metadata": {
    "ExecuteTime": {
     "start_time": "2023-11-19T08:04:46.016243Z"
    }
   },
   "outputs": [],
   "source": [
    "create_group_base_and_fair_models_box_plot(melted_all_subgroup_metrics_per_model_dct,\n",
    "                                           ylim=(0.6, 1.0),\n",
    "                                           metric_names=['F1', 'Accuracy', 'Label_Stability'],\n",
    "                                           vals_to_replace=vals_to_replace)"
   ]
  },
  {
   "cell_type": "code",
   "execution_count": null,
   "outputs": [],
   "source": [
    "create_group_base_and_fair_models_box_plot(melted_all_subgroup_metrics_per_model_dct,\n",
    "                                           ylim=(0.82, 0.95),\n",
    "                                           metric_names=['Label_Stability'],\n",
    "                                           vals_to_replace=vals_to_replace)"
   ],
   "metadata": {
    "collapsed": false,
    "ExecuteTime": {
     "start_time": "2023-11-19T08:04:46.016394Z"
    }
   }
  },
  {
   "cell_type": "markdown",
   "id": "f2bc5941",
   "metadata": {},
   "source": [
    "## Figure 2. Create group boxplots."
   ]
  },
  {
   "cell_type": "code",
   "execution_count": null,
   "outputs": [],
   "source": [
    "create_group_base_and_fair_models_box_plot(melted_all_group_metrics_per_model_dct,\n",
    "                                           group='SEX&RAC1P',\n",
    "                                           metric_names=['Label_Stability_Ratio'],\n",
    "                                           vals_to_replace=vals_to_replace)"
   ],
   "metadata": {
    "collapsed": false,
    "ExecuteTime": {
     "start_time": "2023-11-19T08:04:46.016574Z"
    }
   }
  },
  {
   "cell_type": "code",
   "execution_count": null,
   "id": "3123843d",
   "metadata": {
    "ExecuteTime": {
     "start_time": "2023-11-19T08:04:46.016803Z"
    }
   },
   "outputs": [],
   "source": [
    "create_group_base_and_fair_models_box_plot(melted_all_group_metrics_per_model_dct,\n",
    "                                           group='RAC1P',\n",
    "                                           metric_names=['Equalized_Odds_FPR', 'Equalized_Odds_FNR'],\n",
    "                                           vals_to_replace=vals_to_replace)"
   ]
  },
  {
   "cell_type": "markdown",
   "id": "4bfdfedb",
   "metadata": {},
   "source": [
    "## Figure 5. Out-of-domain boxplots."
   ]
  },
  {
   "cell_type": "code",
   "execution_count": null,
   "id": "74f3988d",
   "metadata": {
    "ExecuteTime": {
     "start_time": "2023-11-19T08:04:46.017147Z"
    }
   },
   "outputs": [],
   "source": [
    "new_vals_to_replace = vals_to_replace\n",
    "new_vals_to_replace['Test_Set_Index'] = {\n",
    "    0: 'GA 2018',\n",
    "    1: 'GA 2017',\n",
    "    2: 'NY 2018',\n",
    "    3: 'NY 2017',\n",
    "}"
   ]
  },
  {
   "cell_type": "code",
   "execution_count": null,
   "id": "171f7974",
   "metadata": {
    "ExecuteTime": {
     "start_time": "2023-11-19T08:04:46.017261Z"
    }
   },
   "outputs": [],
   "source": [
    "create_group_models_box_plot_per_test_set(melted_all_subgroup_metrics_per_model_dct, metric_name='Accuracy',\n",
    "                                          vals_to_replace=new_vals_to_replace)"
   ]
  },
  {
   "cell_type": "code",
   "execution_count": null,
   "id": "1b16cc5a",
   "metadata": {
    "ExecuteTime": {
     "start_time": "2023-11-19T08:04:46.017353Z"
    }
   },
   "outputs": [],
   "source": [
    "create_group_models_box_plot_per_test_set(melted_all_subgroup_metrics_per_model_dct, metric_name='Aleatoric_Uncertainty',\n",
    "                                          vals_to_replace=new_vals_to_replace)"
   ]
  },
  {
   "cell_type": "code",
   "execution_count": null,
   "id": "37d8cbef",
   "metadata": {
    "ExecuteTime": {
     "start_time": "2023-11-19T08:04:46.017481Z"
    }
   },
   "outputs": [],
   "source": [
    "create_group_models_box_plot_per_test_set(melted_all_group_metrics_per_model_dct, metric_name='Equalized_Odds_FNR', group='SEX',\n",
    "                                          vals_to_replace=new_vals_to_replace)"
   ]
  },
  {
   "cell_type": "markdown",
   "id": "546ce6a4",
   "metadata": {},
   "source": [
    "## Figure 3. Scatter plots."
   ]
  },
  {
   "cell_type": "code",
   "execution_count": null,
   "id": "032eb259",
   "metadata": {
    "ExecuteTime": {
     "start_time": "2023-11-19T08:04:46.017601Z"
    }
   },
   "outputs": [],
   "source": [
    "create_scatter_plot(melted_all_group_metrics_per_model_dct,\n",
    "                    group='SEX',\n",
    "                    fairness_metric_name='Equalized_Odds_FPR',\n",
    "                    stability_metric_name='Label_Stability_Ratio')"
   ]
  },
  {
   "cell_type": "code",
   "execution_count": null,
   "id": "cf41db7f",
   "metadata": {
    "ExecuteTime": {
     "start_time": "2023-11-19T08:04:46.017698Z"
    }
   },
   "outputs": [],
   "source": [
    "create_scatter_plot(melted_all_group_metrics_per_model_dct,\n",
    "                    group='SEX&RAC1P',\n",
    "                    fairness_metric_name='Equalized_Odds_FPR',\n",
    "                    stability_metric_name='Label_Stability_Ratio')"
   ]
  },
  {
   "cell_type": "code",
   "execution_count": null,
   "id": "2f9676d7",
   "metadata": {
    "ExecuteTime": {
     "start_time": "2023-11-19T08:04:46.017793Z"
    }
   },
   "outputs": [],
   "source": [
    "create_scatter_plot(melted_all_group_metrics_per_model_dct,\n",
    "                    group='RAC1P',\n",
    "                    fairness_metric_name='Equalized_Odds_FNR',\n",
    "                    stability_metric_name='Label_Stability_Ratio')"
   ]
  },
  {
   "cell_type": "markdown",
   "source": [
    "## Figure 6. Responsible model selection"
   ],
   "metadata": {
    "collapsed": false
   }
  },
  {
   "cell_type": "code",
   "execution_count": null,
   "outputs": [],
   "source": [
    "metrics_value_range_dct = {\n",
    "    'Accuracy': [0.815, 0.85], # C1\n",
    "    'Equalized_Odds_FPR': [-0.03, 0.03], # C2\n",
    "    'Label_Stability': [0.9, 0.94], # C3\n",
    "    'Label_Stability_Ratio': [1.0, 1.03], # C4\n",
    "    'Accuracy&Equalized_Odds_FPR': None, # C1 + C2\n",
    "    'Accuracy&Label_Stability': None, # C1 + C3\n",
    "    'Accuracy&Label_Stability_Ratio': None, # C1 + C4\n",
    "    'Accuracy&Equalized_Odds_FPR&Label_Stability&Label_Stability_Ratio': None, # C1 + C2 + C3 + C4\n",
    "}\n",
    "create_bar_plot_for_model_selection(melted_all_subgroup_metrics_per_model_dct,\n",
    "                                    melted_all_group_metrics_per_model_dct,\n",
    "                                    metrics_value_range_dct,\n",
    "                                    group='SEX&RAC1P')"
   ],
   "metadata": {
    "collapsed": false,
    "ExecuteTime": {
     "start_time": "2023-11-19T08:04:46.017893Z"
    }
   }
  },
  {
   "cell_type": "code",
   "execution_count": null,
   "outputs": [],
   "source": [],
   "metadata": {
    "collapsed": false,
    "ExecuteTime": {
     "start_time": "2023-11-19T08:04:46.017993Z"
    }
   }
  }
 ],
 "metadata": {
  "kernelspec": {
   "display_name": "Python 3",
   "language": "python",
   "name": "python3"
  },
  "language_info": {
   "codemirror_mode": {
    "name": "ipython",
    "version": 3
   },
   "file_extension": ".py",
   "mimetype": "text/x-python",
   "name": "python",
   "nbconvert_exporter": "python",
   "pygments_lexer": "ipython3",
   "version": "3.8.5"
  },
  "vscode": {
   "interpreter": {
    "hash": "aeeedfdcfbb7d0bd7e8ae453d9cd04ee7ebd63a67f7841163d9437c8723e8c72"
   }
  }
 },
 "nbformat": 4,
 "nbformat_minor": 5
}
