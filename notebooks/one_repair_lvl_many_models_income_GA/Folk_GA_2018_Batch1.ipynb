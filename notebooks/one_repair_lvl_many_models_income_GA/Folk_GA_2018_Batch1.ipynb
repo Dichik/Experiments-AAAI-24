{
 "cells": [
  {
   "cell_type": "code",
   "execution_count": 15,
   "id": "8912553c",
   "metadata": {},
   "outputs": [],
   "source": [
    "# !pip install -r ./requirements.txt"
   ]
  },
  {
   "cell_type": "code",
   "execution_count": 3,
   "id": "2b71b753",
   "metadata": {},
   "outputs": [],
   "source": [
    "# !pip uninstall virny -y"
   ]
  },
  {
   "cell_type": "code",
   "execution_count": 5,
   "id": "2f671c36",
   "metadata": {},
   "outputs": [],
   "source": [
    "# Install using an HTTP link\n",
    "# !pip install git+https://github.com/DataResponsibly/Virny.git@development\n",
    "\n",
    "# Install using an SSH link\n",
    "# !pip install git+ssh://git@github.com/DataResponsibly/Virny.git@development"
   ]
  },
  {
   "cell_type": "code",
   "execution_count": 6,
   "id": "1bc8c438",
   "metadata": {},
   "outputs": [],
   "source": [
    "# !pip install aif360"
   ]
  },
  {
   "cell_type": "code",
   "execution_count": 7,
   "id": "9600ad6d",
   "metadata": {},
   "outputs": [],
   "source": [
    "# !pip install BlackBoxAuditing==0.1.54"
   ]
  },
  {
   "cell_type": "code",
   "execution_count": 5,
   "id": "10c25a69",
   "metadata": {},
   "outputs": [],
   "source": [
    "%matplotlib inline\n",
    "%load_ext autoreload\n",
    "%autoreload 2"
   ]
  },
  {
   "cell_type": "code",
   "execution_count": 6,
   "id": "ce8b85e2",
   "metadata": {},
   "outputs": [],
   "source": [
    "import os\n",
    "import warnings\n",
    "warnings.filterwarnings('ignore')\n",
    "os.environ[\"PYTHONWARNINGS\"] = \"ignore\""
   ]
  },
  {
   "cell_type": "code",
   "execution_count": 7,
   "id": "e59097d9",
   "metadata": {},
   "outputs": [
    {
     "name": "stdout",
     "output_type": "stream",
     "text": [
      "Current location:  /home/denys_herasymuk/UCU/4course_2term/Bachelor_Thesis/Code/fairness-variance\n"
     ]
    }
   ],
   "source": [
    "cur_folder_name = os.getcwd().split('/')[-1]\n",
    "if cur_folder_name != \"fairness-variance\":\n",
    "    os.chdir(\"../..\")\n",
    "\n",
    "print('Current location: ', os.getcwd())"
   ]
  },
  {
   "cell_type": "markdown",
   "id": "0d9ee703",
   "metadata": {},
   "source": [
    "## Import dependencies"
   ]
  },
  {
   "cell_type": "code",
   "execution_count": 8,
   "id": "f5992b19",
   "metadata": {},
   "outputs": [
    {
     "name": "stderr",
     "output_type": "stream",
     "text": [
      "WARNING:root:No module named 'tempeh': LawSchoolGPADataset will be unavailable. To install, run:\n",
      "pip install 'aif360[LawSchoolGPA]'\n",
      "WARNING:root:No module named 'tensorflow': AdversarialDebiasing will be unavailable. To install, run:\n",
      "pip install 'aif360[AdversarialDebiasing]'\n",
      "WARNING:root:No module named 'tensorflow': AdversarialDebiasing will be unavailable. To install, run:\n",
      "pip install 'aif360[AdversarialDebiasing]'\n"
     ]
    }
   ],
   "source": [
    "import os\n",
    "import copy\n",
    "\n",
    "from virny.utils.custom_initializers import create_config_obj\n",
    "from virny.datasets import ACSIncomeDataset\n",
    "\n",
    "from configs.constants import TEST_SET_FRACTION, EXPERIMENT_SEEDS\n",
    "from configs.models_config_for_tuning import get_folktables_employment_models_params_for_tuning\n",
    "\n",
    "from source.experiment_interface import run_exp_iter_with_disparate_impact_and_mult_sets"
   ]
  },
  {
   "cell_type": "markdown",
   "id": "5c529c0e",
   "metadata": {},
   "source": [
    "## Define Input Variables"
   ]
  },
  {
   "cell_type": "code",
   "execution_count": 9,
   "id": "547450ee",
   "metadata": {},
   "outputs": [],
   "source": [
    "# ROOT_DIR = os.path.join(os.getcwd(), \"..\", \"..\")\n",
    "ROOT_DIR = os.getcwd()\n",
    "EXPERIMENT_NAME = 'one_repair_lvl_many_models_income_GA'\n",
    "DB_COLLECTION_NAME = 'one_repair_lvl_many_models'\n",
    "SAVE_RESULTS_DIR_PATH = os.path.join(ROOT_DIR, 'results', EXPERIMENT_NAME)\n",
    "FAIR_INTERVENTION_PARAMS_LST = [0.0, 0.7]\n",
    "\n",
    "config_yaml_path = os.path.join(ROOT_DIR, 'notebooks', EXPERIMENT_NAME, 'folk_GA_2018_config.yaml')\n",
    "metrics_computation_config = create_config_obj(config_yaml_path=config_yaml_path)"
   ]
  },
  {
   "cell_type": "markdown",
   "id": "8e70fc23",
   "metadata": {},
   "source": [
    "## Define a db writer and custom fields to insert into your database"
   ]
  },
  {
   "cell_type": "code",
   "execution_count": 10,
   "id": "14cb12fe",
   "metadata": {},
   "outputs": [
    {
     "data": {
      "text/plain": "'fairness_variance'"
     },
     "execution_count": 10,
     "metadata": {},
     "output_type": "execute_result"
    }
   ],
   "source": [
    "import os\n",
    "from dotenv import load_dotenv\n",
    "\n",
    "load_dotenv('./configs/secrets.env')\n",
    "os.getenv(\"DB_NAME\")"
   ]
  },
  {
   "cell_type": "code",
   "execution_count": 11,
   "id": "605d332e",
   "metadata": {},
   "outputs": [],
   "source": [
    "from source.utils.db_functions import connect_to_mongodb\n",
    "\n",
    "client, collection_obj, db_writer_func = connect_to_mongodb(DB_COLLECTION_NAME)"
   ]
  },
  {
   "cell_type": "code",
   "execution_count": 13,
   "id": "0852ee87",
   "metadata": {},
   "outputs": [
    {
     "name": "stdout",
     "output_type": "stream",
     "text": [
      "Current session uuid:  78049b4f-0ef4-41d7-b3c5-9c3ab8a019f8\n"
     ]
    }
   ],
   "source": [
    "import uuid\n",
    "\n",
    "custom_table_fields_dct = {\n",
    "    # 'session_uuid': str(uuid.uuid4()),\n",
    "    'session_uuid': '78049b4f-0ef4-41d7-b3c5-9c3ab8a019f8',\n",
    "}\n",
    "print('Current session uuid: ', custom_table_fields_dct['session_uuid'])"
   ]
  },
  {
   "cell_type": "markdown",
   "id": "e4e5a89f",
   "metadata": {},
   "source": [
    "## Initialize custom objects"
   ]
  },
  {
   "cell_type": "code",
   "execution_count": 48,
   "id": "5c0b614f",
   "metadata": {},
   "outputs": [
    {
     "data": {
      "text/plain": "  SCHL COW MAR  OCCP POBP RELP SEX RAC1P  AGEP  WKHP\n0   23   7   3   230   36    0   1     1    55  55.0\n1   16   1   5  4110   13    2   2     1    20  35.0\n2   16   4   3  4130   51    0   2     1    59  30.0\n3   18   4   1  4020   13    0   1     2    43  40.0\n4   14   1   1  8300   20    1   2     2    33  20.0",
      "text/html": "<div>\n<style scoped>\n    .dataframe tbody tr th:only-of-type {\n        vertical-align: middle;\n    }\n\n    .dataframe tbody tr th {\n        vertical-align: top;\n    }\n\n    .dataframe thead th {\n        text-align: right;\n    }\n</style>\n<table border=\"1\" class=\"dataframe\">\n  <thead>\n    <tr style=\"text-align: right;\">\n      <th></th>\n      <th>SCHL</th>\n      <th>COW</th>\n      <th>MAR</th>\n      <th>OCCP</th>\n      <th>POBP</th>\n      <th>RELP</th>\n      <th>SEX</th>\n      <th>RAC1P</th>\n      <th>AGEP</th>\n      <th>WKHP</th>\n    </tr>\n  </thead>\n  <tbody>\n    <tr>\n      <th>0</th>\n      <td>23</td>\n      <td>7</td>\n      <td>3</td>\n      <td>230</td>\n      <td>36</td>\n      <td>0</td>\n      <td>1</td>\n      <td>1</td>\n      <td>55</td>\n      <td>55.0</td>\n    </tr>\n    <tr>\n      <th>1</th>\n      <td>16</td>\n      <td>1</td>\n      <td>5</td>\n      <td>4110</td>\n      <td>13</td>\n      <td>2</td>\n      <td>2</td>\n      <td>1</td>\n      <td>20</td>\n      <td>35.0</td>\n    </tr>\n    <tr>\n      <th>2</th>\n      <td>16</td>\n      <td>4</td>\n      <td>3</td>\n      <td>4130</td>\n      <td>51</td>\n      <td>0</td>\n      <td>2</td>\n      <td>1</td>\n      <td>59</td>\n      <td>30.0</td>\n    </tr>\n    <tr>\n      <th>3</th>\n      <td>18</td>\n      <td>4</td>\n      <td>1</td>\n      <td>4020</td>\n      <td>13</td>\n      <td>0</td>\n      <td>1</td>\n      <td>2</td>\n      <td>43</td>\n      <td>40.0</td>\n    </tr>\n    <tr>\n      <th>4</th>\n      <td>14</td>\n      <td>1</td>\n      <td>1</td>\n      <td>8300</td>\n      <td>20</td>\n      <td>1</td>\n      <td>2</td>\n      <td>2</td>\n      <td>33</td>\n      <td>20.0</td>\n    </tr>\n  </tbody>\n</table>\n</div>"
     },
     "execution_count": 48,
     "metadata": {},
     "output_type": "execute_result"
    }
   ],
   "source": [
    "data_loader = ACSIncomeDataset(state=['GA'], year=2018, with_nulls=False,\n",
    "                               subsample_size=15_000, subsample_seed=42)\n",
    "data_loader.X_data.head()"
   ]
  },
  {
   "cell_type": "code",
   "execution_count": 49,
   "id": "24348758",
   "metadata": {},
   "outputs": [
    {
     "data": {
      "text/plain": "(15000, 10)"
     },
     "execution_count": 49,
     "metadata": {},
     "output_type": "execute_result"
    }
   ],
   "source": [
    "data_loader.X_data.shape"
   ]
  },
  {
   "cell_type": "code",
   "execution_count": 50,
   "outputs": [
    {
     "data": {
      "text/plain": "  SCHL COW MAR  OCCP POBP RELP SEX RAC1P  AGEP  WKHP\n0   16   1   1  6260  104    1   1     1    31  40.0\n1   20   1   1  5160   13    1   2     1    47  40.0\n2   16   1   1   530   13    0   1     1    43  40.0\n3   22   2   5   800   17    0   2     1    32  43.0\n4   22   3   1  3800   51    0   1     1    71  30.0",
      "text/html": "<div>\n<style scoped>\n    .dataframe tbody tr th:only-of-type {\n        vertical-align: middle;\n    }\n\n    .dataframe tbody tr th {\n        vertical-align: top;\n    }\n\n    .dataframe thead th {\n        text-align: right;\n    }\n</style>\n<table border=\"1\" class=\"dataframe\">\n  <thead>\n    <tr style=\"text-align: right;\">\n      <th></th>\n      <th>SCHL</th>\n      <th>COW</th>\n      <th>MAR</th>\n      <th>OCCP</th>\n      <th>POBP</th>\n      <th>RELP</th>\n      <th>SEX</th>\n      <th>RAC1P</th>\n      <th>AGEP</th>\n      <th>WKHP</th>\n    </tr>\n  </thead>\n  <tbody>\n    <tr>\n      <th>0</th>\n      <td>16</td>\n      <td>1</td>\n      <td>1</td>\n      <td>6260</td>\n      <td>104</td>\n      <td>1</td>\n      <td>1</td>\n      <td>1</td>\n      <td>31</td>\n      <td>40.0</td>\n    </tr>\n    <tr>\n      <th>1</th>\n      <td>20</td>\n      <td>1</td>\n      <td>1</td>\n      <td>5160</td>\n      <td>13</td>\n      <td>1</td>\n      <td>2</td>\n      <td>1</td>\n      <td>47</td>\n      <td>40.0</td>\n    </tr>\n    <tr>\n      <th>2</th>\n      <td>16</td>\n      <td>1</td>\n      <td>1</td>\n      <td>530</td>\n      <td>13</td>\n      <td>0</td>\n      <td>1</td>\n      <td>1</td>\n      <td>43</td>\n      <td>40.0</td>\n    </tr>\n    <tr>\n      <th>3</th>\n      <td>22</td>\n      <td>2</td>\n      <td>5</td>\n      <td>800</td>\n      <td>17</td>\n      <td>0</td>\n      <td>2</td>\n      <td>1</td>\n      <td>32</td>\n      <td>43.0</td>\n    </tr>\n    <tr>\n      <th>4</th>\n      <td>22</td>\n      <td>3</td>\n      <td>1</td>\n      <td>3800</td>\n      <td>51</td>\n      <td>0</td>\n      <td>1</td>\n      <td>1</td>\n      <td>71</td>\n      <td>30.0</td>\n    </tr>\n  </tbody>\n</table>\n</div>"
     },
     "execution_count": 50,
     "metadata": {},
     "output_type": "execute_result"
    }
   ],
   "source": [
    "data_loader2 = ACSIncomeDataset(state=['GA'], year=2017, with_nulls=False,\n",
    "                               subsample_size=15_000, subsample_seed=42)\n",
    "data_loader2.X_data.head()"
   ],
   "metadata": {
    "collapsed": false
   }
  },
  {
   "cell_type": "code",
   "execution_count": 51,
   "outputs": [
    {
     "data": {
      "text/plain": "(15000, 10)"
     },
     "execution_count": 51,
     "metadata": {},
     "output_type": "execute_result"
    }
   ],
   "source": [
    "data_loader2.X_data.shape"
   ],
   "metadata": {
    "collapsed": false
   }
  },
  {
   "cell_type": "code",
   "execution_count": 52,
   "outputs": [
    {
     "data": {
      "text/plain": "  SCHL COW MAR  OCCP POBP RELP SEX RAC1P  AGEP  WKHP\n0   15   1   1  4220  207    0   1     6    61  40.0\n1   21   3   5  3870   36    2   1     1    30  40.0\n2   16   1   5  3930   36    3   1     2    30  40.0\n3   17   2   5  4965  329    6   2     8    51  28.0\n4   16   1   1  4000  231    0   1     6    54  15.0",
      "text/html": "<div>\n<style scoped>\n    .dataframe tbody tr th:only-of-type {\n        vertical-align: middle;\n    }\n\n    .dataframe tbody tr th {\n        vertical-align: top;\n    }\n\n    .dataframe thead th {\n        text-align: right;\n    }\n</style>\n<table border=\"1\" class=\"dataframe\">\n  <thead>\n    <tr style=\"text-align: right;\">\n      <th></th>\n      <th>SCHL</th>\n      <th>COW</th>\n      <th>MAR</th>\n      <th>OCCP</th>\n      <th>POBP</th>\n      <th>RELP</th>\n      <th>SEX</th>\n      <th>RAC1P</th>\n      <th>AGEP</th>\n      <th>WKHP</th>\n    </tr>\n  </thead>\n  <tbody>\n    <tr>\n      <th>0</th>\n      <td>15</td>\n      <td>1</td>\n      <td>1</td>\n      <td>4220</td>\n      <td>207</td>\n      <td>0</td>\n      <td>1</td>\n      <td>6</td>\n      <td>61</td>\n      <td>40.0</td>\n    </tr>\n    <tr>\n      <th>1</th>\n      <td>21</td>\n      <td>3</td>\n      <td>5</td>\n      <td>3870</td>\n      <td>36</td>\n      <td>2</td>\n      <td>1</td>\n      <td>1</td>\n      <td>30</td>\n      <td>40.0</td>\n    </tr>\n    <tr>\n      <th>2</th>\n      <td>16</td>\n      <td>1</td>\n      <td>5</td>\n      <td>3930</td>\n      <td>36</td>\n      <td>3</td>\n      <td>1</td>\n      <td>2</td>\n      <td>30</td>\n      <td>40.0</td>\n    </tr>\n    <tr>\n      <th>3</th>\n      <td>17</td>\n      <td>2</td>\n      <td>5</td>\n      <td>4965</td>\n      <td>329</td>\n      <td>6</td>\n      <td>2</td>\n      <td>8</td>\n      <td>51</td>\n      <td>28.0</td>\n    </tr>\n    <tr>\n      <th>4</th>\n      <td>16</td>\n      <td>1</td>\n      <td>1</td>\n      <td>4000</td>\n      <td>231</td>\n      <td>0</td>\n      <td>1</td>\n      <td>6</td>\n      <td>54</td>\n      <td>15.0</td>\n    </tr>\n  </tbody>\n</table>\n</div>"
     },
     "execution_count": 52,
     "metadata": {},
     "output_type": "execute_result"
    }
   ],
   "source": [
    "data_loader3 = ACSIncomeDataset(state=['NY'], year=2018, with_nulls=False,\n",
    "                                subsample_size=15_000, subsample_seed=42)\n",
    "data_loader3.X_data.head()"
   ],
   "metadata": {
    "collapsed": false
   }
  },
  {
   "cell_type": "code",
   "execution_count": 53,
   "outputs": [
    {
     "data": {
      "text/plain": "(15000, 10)"
     },
     "execution_count": 53,
     "metadata": {},
     "output_type": "execute_result"
    }
   ],
   "source": [
    "data_loader3.X_data.shape"
   ],
   "metadata": {
    "collapsed": false
   }
  },
  {
   "cell_type": "code",
   "execution_count": 54,
   "outputs": [
    {
     "data": {
      "text/plain": "  SCHL COW MAR  OCCP POBP RELP SEX RAC1P  AGEP  WKHP\n0   16   2   1   630   36    0   1     1    48  50.0\n1   20   7   1  9130  330    0   1     2    51  40.0\n2   21   1   1   430   36    1   1     1    44  40.0\n3   16   1   1  4760   36    0   2     1    59  28.0\n4   19   7   1  5860   36    1   2     1    51  40.0",
      "text/html": "<div>\n<style scoped>\n    .dataframe tbody tr th:only-of-type {\n        vertical-align: middle;\n    }\n\n    .dataframe tbody tr th {\n        vertical-align: top;\n    }\n\n    .dataframe thead th {\n        text-align: right;\n    }\n</style>\n<table border=\"1\" class=\"dataframe\">\n  <thead>\n    <tr style=\"text-align: right;\">\n      <th></th>\n      <th>SCHL</th>\n      <th>COW</th>\n      <th>MAR</th>\n      <th>OCCP</th>\n      <th>POBP</th>\n      <th>RELP</th>\n      <th>SEX</th>\n      <th>RAC1P</th>\n      <th>AGEP</th>\n      <th>WKHP</th>\n    </tr>\n  </thead>\n  <tbody>\n    <tr>\n      <th>0</th>\n      <td>16</td>\n      <td>2</td>\n      <td>1</td>\n      <td>630</td>\n      <td>36</td>\n      <td>0</td>\n      <td>1</td>\n      <td>1</td>\n      <td>48</td>\n      <td>50.0</td>\n    </tr>\n    <tr>\n      <th>1</th>\n      <td>20</td>\n      <td>7</td>\n      <td>1</td>\n      <td>9130</td>\n      <td>330</td>\n      <td>0</td>\n      <td>1</td>\n      <td>2</td>\n      <td>51</td>\n      <td>40.0</td>\n    </tr>\n    <tr>\n      <th>2</th>\n      <td>21</td>\n      <td>1</td>\n      <td>1</td>\n      <td>430</td>\n      <td>36</td>\n      <td>1</td>\n      <td>1</td>\n      <td>1</td>\n      <td>44</td>\n      <td>40.0</td>\n    </tr>\n    <tr>\n      <th>3</th>\n      <td>16</td>\n      <td>1</td>\n      <td>1</td>\n      <td>4760</td>\n      <td>36</td>\n      <td>0</td>\n      <td>2</td>\n      <td>1</td>\n      <td>59</td>\n      <td>28.0</td>\n    </tr>\n    <tr>\n      <th>4</th>\n      <td>19</td>\n      <td>7</td>\n      <td>1</td>\n      <td>5860</td>\n      <td>36</td>\n      <td>1</td>\n      <td>2</td>\n      <td>1</td>\n      <td>51</td>\n      <td>40.0</td>\n    </tr>\n  </tbody>\n</table>\n</div>"
     },
     "execution_count": 54,
     "metadata": {},
     "output_type": "execute_result"
    }
   ],
   "source": [
    "data_loader4 = ACSIncomeDataset(state=['NY'], year=2017, with_nulls=False,\n",
    "                                subsample_size=15_000, subsample_seed=42)\n",
    "data_loader4.X_data.head()"
   ],
   "metadata": {
    "collapsed": false
   }
  },
  {
   "cell_type": "code",
   "execution_count": 55,
   "outputs": [
    {
     "data": {
      "text/plain": "(15000, 10)"
     },
     "execution_count": 55,
     "metadata": {},
     "output_type": "execute_result"
    }
   ],
   "source": [
    "data_loader4.X_data.shape"
   ],
   "metadata": {
    "collapsed": false
   }
  },
  {
   "cell_type": "code",
   "execution_count": 56,
   "outputs": [],
   "source": [
    "extra_data_loaders = [data_loader2, data_loader3, data_loader4]"
   ],
   "metadata": {
    "collapsed": false
   }
  },
  {
   "cell_type": "code",
   "execution_count": 34,
   "outputs": [],
   "source": [],
   "metadata": {
    "collapsed": false
   }
  },
  {
   "cell_type": "code",
   "execution_count": 57,
   "outputs": [],
   "source": [
    "from source.preprocessing import preprocess_mult_data_loaders_for_disp_imp, remove_disparate_impact_with_mult_sets\n",
    "\n",
    "init_base_flow_dataset, extra_base_flow_datasets = \\\n",
    "    preprocess_mult_data_loaders_for_disp_imp(data_loaders=[data_loader] + extra_data_loaders,\n",
    "                                              test_set_fraction=TEST_SET_FRACTION,\n",
    "                                              experiment_seed=100)"
   ],
   "metadata": {
    "collapsed": false
   }
  },
  {
   "cell_type": "code",
   "execution_count": 58,
   "outputs": [],
   "source": [
    "# Fair preprocessing\n",
    "cur_base_flow_dataset, cur_extra_test_sets = \\\n",
    "    remove_disparate_impact_with_mult_sets(init_base_flow_dataset, alpha=0.7,\n",
    "                                           init_extra_base_flow_datasets=extra_base_flow_datasets)"
   ],
   "metadata": {
    "collapsed": false
   }
  },
  {
   "cell_type": "code",
   "execution_count": 59,
   "outputs": [
    {
     "data": {
      "text/plain": "       cat__SCHL_1  cat__SCHL_10  cat__SCHL_11  cat__SCHL_12  cat__SCHL_13  \\\n10155          0.0           0.0           0.0           0.0           0.0   \n11689          0.0           0.0           0.0           0.0           0.0   \n12599          0.0           0.0           0.0           0.0           0.0   \n12193          0.0           0.0           0.0           0.0           0.0   \n8678           0.0           0.0           0.0           0.0           0.0   \n\n       cat__SCHL_14  cat__SCHL_15  cat__SCHL_16  cat__SCHL_17  cat__SCHL_18  \\\n10155           0.0           1.0           0.0           0.0           0.0   \n11689           0.0           0.0           0.0           0.0           0.0   \n12599           0.0           0.0           0.0           0.0           0.0   \n12193           0.0           0.0           0.0           0.0           0.0   \n8678            0.0           0.0           1.0           0.0           0.0   \n\n       ...  cat__RELP_3  cat__RELP_4  cat__RELP_5  cat__RELP_6  cat__RELP_7  \\\n10155  ...          0.0          0.0          0.0          0.0          0.0   \n11689  ...          0.0          0.0          0.0          0.0          0.0   \n12599  ...          0.0          0.0          0.0          0.0          0.0   \n12193  ...          0.0          0.0          0.0          0.0          0.0   \n8678   ...          0.0          0.0          0.0          0.0          0.0   \n\n       cat__RELP_8  cat__RELP_9  num__AGEP  num__WKHP  RACE  \n10155          0.0          0.0   1.160915   0.453605     0  \n11689          0.0          0.0  -0.455527   1.621426     0  \n12599          0.0          0.0   0.824156   0.064331     1  \n12193          0.0          0.0   0.756804   0.842879     1  \n8678           0.0          0.0  -0.926990   0.064331     0  \n\n[5 rows x 740 columns]",
      "text/html": "<div>\n<style scoped>\n    .dataframe tbody tr th:only-of-type {\n        vertical-align: middle;\n    }\n\n    .dataframe tbody tr th {\n        vertical-align: top;\n    }\n\n    .dataframe thead th {\n        text-align: right;\n    }\n</style>\n<table border=\"1\" class=\"dataframe\">\n  <thead>\n    <tr style=\"text-align: right;\">\n      <th></th>\n      <th>cat__SCHL_1</th>\n      <th>cat__SCHL_10</th>\n      <th>cat__SCHL_11</th>\n      <th>cat__SCHL_12</th>\n      <th>cat__SCHL_13</th>\n      <th>cat__SCHL_14</th>\n      <th>cat__SCHL_15</th>\n      <th>cat__SCHL_16</th>\n      <th>cat__SCHL_17</th>\n      <th>cat__SCHL_18</th>\n      <th>...</th>\n      <th>cat__RELP_3</th>\n      <th>cat__RELP_4</th>\n      <th>cat__RELP_5</th>\n      <th>cat__RELP_6</th>\n      <th>cat__RELP_7</th>\n      <th>cat__RELP_8</th>\n      <th>cat__RELP_9</th>\n      <th>num__AGEP</th>\n      <th>num__WKHP</th>\n      <th>RACE</th>\n    </tr>\n  </thead>\n  <tbody>\n    <tr>\n      <th>10155</th>\n      <td>0.0</td>\n      <td>0.0</td>\n      <td>0.0</td>\n      <td>0.0</td>\n      <td>0.0</td>\n      <td>0.0</td>\n      <td>1.0</td>\n      <td>0.0</td>\n      <td>0.0</td>\n      <td>0.0</td>\n      <td>...</td>\n      <td>0.0</td>\n      <td>0.0</td>\n      <td>0.0</td>\n      <td>0.0</td>\n      <td>0.0</td>\n      <td>0.0</td>\n      <td>0.0</td>\n      <td>1.160915</td>\n      <td>0.453605</td>\n      <td>0</td>\n    </tr>\n    <tr>\n      <th>11689</th>\n      <td>0.0</td>\n      <td>0.0</td>\n      <td>0.0</td>\n      <td>0.0</td>\n      <td>0.0</td>\n      <td>0.0</td>\n      <td>0.0</td>\n      <td>0.0</td>\n      <td>0.0</td>\n      <td>0.0</td>\n      <td>...</td>\n      <td>0.0</td>\n      <td>0.0</td>\n      <td>0.0</td>\n      <td>0.0</td>\n      <td>0.0</td>\n      <td>0.0</td>\n      <td>0.0</td>\n      <td>-0.455527</td>\n      <td>1.621426</td>\n      <td>0</td>\n    </tr>\n    <tr>\n      <th>12599</th>\n      <td>0.0</td>\n      <td>0.0</td>\n      <td>0.0</td>\n      <td>0.0</td>\n      <td>0.0</td>\n      <td>0.0</td>\n      <td>0.0</td>\n      <td>0.0</td>\n      <td>0.0</td>\n      <td>0.0</td>\n      <td>...</td>\n      <td>0.0</td>\n      <td>0.0</td>\n      <td>0.0</td>\n      <td>0.0</td>\n      <td>0.0</td>\n      <td>0.0</td>\n      <td>0.0</td>\n      <td>0.824156</td>\n      <td>0.064331</td>\n      <td>1</td>\n    </tr>\n    <tr>\n      <th>12193</th>\n      <td>0.0</td>\n      <td>0.0</td>\n      <td>0.0</td>\n      <td>0.0</td>\n      <td>0.0</td>\n      <td>0.0</td>\n      <td>0.0</td>\n      <td>0.0</td>\n      <td>0.0</td>\n      <td>0.0</td>\n      <td>...</td>\n      <td>0.0</td>\n      <td>0.0</td>\n      <td>0.0</td>\n      <td>0.0</td>\n      <td>0.0</td>\n      <td>0.0</td>\n      <td>0.0</td>\n      <td>0.756804</td>\n      <td>0.842879</td>\n      <td>1</td>\n    </tr>\n    <tr>\n      <th>8678</th>\n      <td>0.0</td>\n      <td>0.0</td>\n      <td>0.0</td>\n      <td>0.0</td>\n      <td>0.0</td>\n      <td>0.0</td>\n      <td>0.0</td>\n      <td>1.0</td>\n      <td>0.0</td>\n      <td>0.0</td>\n      <td>...</td>\n      <td>0.0</td>\n      <td>0.0</td>\n      <td>0.0</td>\n      <td>0.0</td>\n      <td>0.0</td>\n      <td>0.0</td>\n      <td>0.0</td>\n      <td>-0.926990</td>\n      <td>0.064331</td>\n      <td>0</td>\n    </tr>\n  </tbody>\n</table>\n<p>5 rows × 740 columns</p>\n</div>"
     },
     "execution_count": 59,
     "metadata": {},
     "output_type": "execute_result"
    }
   ],
   "source": [
    "init_base_flow_dataset.X_test.head(5)"
   ],
   "metadata": {
    "collapsed": false
   }
  },
  {
   "cell_type": "code",
   "execution_count": 60,
   "outputs": [
    {
     "data": {
      "text/plain": "       cat__SCHL_1  cat__SCHL_10  cat__SCHL_11  cat__SCHL_12  cat__SCHL_13  \\\n10155          0.0           0.0           0.0           0.0           0.0   \n11689          0.0           0.0           0.0           0.0           0.0   \n12599          0.0           0.0           0.0           0.0           0.0   \n12193          0.0           0.0           0.0           0.0           0.0   \n8678           0.0           0.0           0.0           0.0           0.0   \n\n       cat__SCHL_14  cat__SCHL_15  cat__SCHL_16  cat__SCHL_17  cat__SCHL_18  \\\n10155           0.0           1.0           0.0           0.0           0.0   \n11689           0.0           0.0           0.0           0.0           0.0   \n12599           0.0           0.0           0.0           0.0           0.0   \n12193           0.0           0.0           0.0           0.0           0.0   \n8678            0.0           0.0           1.0           0.0           0.0   \n\n       ...  cat__RELP_2  cat__RELP_3  cat__RELP_4  cat__RELP_5  cat__RELP_6  \\\n10155  ...          0.0          0.0          0.0          0.0          0.0   \n11689  ...          0.0          0.0          0.0          0.0          0.0   \n12599  ...          0.0          0.0          0.0          0.0          0.0   \n12193  ...          0.0          0.0          0.0          0.0          0.0   \n8678   ...          0.0          0.0          0.0          0.0          0.0   \n\n       cat__RELP_7  cat__RELP_8  cat__RELP_9  num__AGEP  num__WKHP  \n10155          0.0          0.0          0.0   1.160915   0.453605  \n11689          0.0          0.0          0.0  -0.455527   1.543572  \n12599          0.0          0.0          0.0   0.689453  -0.091378  \n12193          0.0          0.0          0.0   0.622101   0.687169  \n8678           0.0          0.0          0.0  -0.926990   0.064331  \n\n[5 rows x 739 columns]",
      "text/html": "<div>\n<style scoped>\n    .dataframe tbody tr th:only-of-type {\n        vertical-align: middle;\n    }\n\n    .dataframe tbody tr th {\n        vertical-align: top;\n    }\n\n    .dataframe thead th {\n        text-align: right;\n    }\n</style>\n<table border=\"1\" class=\"dataframe\">\n  <thead>\n    <tr style=\"text-align: right;\">\n      <th></th>\n      <th>cat__SCHL_1</th>\n      <th>cat__SCHL_10</th>\n      <th>cat__SCHL_11</th>\n      <th>cat__SCHL_12</th>\n      <th>cat__SCHL_13</th>\n      <th>cat__SCHL_14</th>\n      <th>cat__SCHL_15</th>\n      <th>cat__SCHL_16</th>\n      <th>cat__SCHL_17</th>\n      <th>cat__SCHL_18</th>\n      <th>...</th>\n      <th>cat__RELP_2</th>\n      <th>cat__RELP_3</th>\n      <th>cat__RELP_4</th>\n      <th>cat__RELP_5</th>\n      <th>cat__RELP_6</th>\n      <th>cat__RELP_7</th>\n      <th>cat__RELP_8</th>\n      <th>cat__RELP_9</th>\n      <th>num__AGEP</th>\n      <th>num__WKHP</th>\n    </tr>\n  </thead>\n  <tbody>\n    <tr>\n      <th>10155</th>\n      <td>0.0</td>\n      <td>0.0</td>\n      <td>0.0</td>\n      <td>0.0</td>\n      <td>0.0</td>\n      <td>0.0</td>\n      <td>1.0</td>\n      <td>0.0</td>\n      <td>0.0</td>\n      <td>0.0</td>\n      <td>...</td>\n      <td>0.0</td>\n      <td>0.0</td>\n      <td>0.0</td>\n      <td>0.0</td>\n      <td>0.0</td>\n      <td>0.0</td>\n      <td>0.0</td>\n      <td>0.0</td>\n      <td>1.160915</td>\n      <td>0.453605</td>\n    </tr>\n    <tr>\n      <th>11689</th>\n      <td>0.0</td>\n      <td>0.0</td>\n      <td>0.0</td>\n      <td>0.0</td>\n      <td>0.0</td>\n      <td>0.0</td>\n      <td>0.0</td>\n      <td>0.0</td>\n      <td>0.0</td>\n      <td>0.0</td>\n      <td>...</td>\n      <td>0.0</td>\n      <td>0.0</td>\n      <td>0.0</td>\n      <td>0.0</td>\n      <td>0.0</td>\n      <td>0.0</td>\n      <td>0.0</td>\n      <td>0.0</td>\n      <td>-0.455527</td>\n      <td>1.543572</td>\n    </tr>\n    <tr>\n      <th>12599</th>\n      <td>0.0</td>\n      <td>0.0</td>\n      <td>0.0</td>\n      <td>0.0</td>\n      <td>0.0</td>\n      <td>0.0</td>\n      <td>0.0</td>\n      <td>0.0</td>\n      <td>0.0</td>\n      <td>0.0</td>\n      <td>...</td>\n      <td>0.0</td>\n      <td>0.0</td>\n      <td>0.0</td>\n      <td>0.0</td>\n      <td>0.0</td>\n      <td>0.0</td>\n      <td>0.0</td>\n      <td>0.0</td>\n      <td>0.689453</td>\n      <td>-0.091378</td>\n    </tr>\n    <tr>\n      <th>12193</th>\n      <td>0.0</td>\n      <td>0.0</td>\n      <td>0.0</td>\n      <td>0.0</td>\n      <td>0.0</td>\n      <td>0.0</td>\n      <td>0.0</td>\n      <td>0.0</td>\n      <td>0.0</td>\n      <td>0.0</td>\n      <td>...</td>\n      <td>0.0</td>\n      <td>0.0</td>\n      <td>0.0</td>\n      <td>0.0</td>\n      <td>0.0</td>\n      <td>0.0</td>\n      <td>0.0</td>\n      <td>0.0</td>\n      <td>0.622101</td>\n      <td>0.687169</td>\n    </tr>\n    <tr>\n      <th>8678</th>\n      <td>0.0</td>\n      <td>0.0</td>\n      <td>0.0</td>\n      <td>0.0</td>\n      <td>0.0</td>\n      <td>0.0</td>\n      <td>0.0</td>\n      <td>1.0</td>\n      <td>0.0</td>\n      <td>0.0</td>\n      <td>...</td>\n      <td>0.0</td>\n      <td>0.0</td>\n      <td>0.0</td>\n      <td>0.0</td>\n      <td>0.0</td>\n      <td>0.0</td>\n      <td>0.0</td>\n      <td>0.0</td>\n      <td>-0.926990</td>\n      <td>0.064331</td>\n    </tr>\n  </tbody>\n</table>\n<p>5 rows × 739 columns</p>\n</div>"
     },
     "execution_count": 60,
     "metadata": {},
     "output_type": "execute_result"
    }
   ],
   "source": [
    "cur_base_flow_dataset.X_test.head(5)"
   ],
   "metadata": {
    "collapsed": false
   }
  },
  {
   "cell_type": "code",
   "execution_count": 61,
   "outputs": [
    {
     "data": {
      "text/plain": "      SCHL COW MAR  OCCP POBP RELP  AGEP  WKHP  RACE\n10155   15   2   1  4120  423    0    60  45.0     0\n11689   22   3   1  2310   13    0    36  60.0     0\n12599   19   1   3  4720   13    0    55  40.0     1\n12193   23   1   1  2100   17    1    54  50.0     1\n8678    16   1   5  7810   13   13    29  40.0     0",
      "text/html": "<div>\n<style scoped>\n    .dataframe tbody tr th:only-of-type {\n        vertical-align: middle;\n    }\n\n    .dataframe tbody tr th {\n        vertical-align: top;\n    }\n\n    .dataframe thead th {\n        text-align: right;\n    }\n</style>\n<table border=\"1\" class=\"dataframe\">\n  <thead>\n    <tr style=\"text-align: right;\">\n      <th></th>\n      <th>SCHL</th>\n      <th>COW</th>\n      <th>MAR</th>\n      <th>OCCP</th>\n      <th>POBP</th>\n      <th>RELP</th>\n      <th>AGEP</th>\n      <th>WKHP</th>\n      <th>RACE</th>\n    </tr>\n  </thead>\n  <tbody>\n    <tr>\n      <th>10155</th>\n      <td>15</td>\n      <td>2</td>\n      <td>1</td>\n      <td>4120</td>\n      <td>423</td>\n      <td>0</td>\n      <td>60</td>\n      <td>45.0</td>\n      <td>0</td>\n    </tr>\n    <tr>\n      <th>11689</th>\n      <td>22</td>\n      <td>3</td>\n      <td>1</td>\n      <td>2310</td>\n      <td>13</td>\n      <td>0</td>\n      <td>36</td>\n      <td>60.0</td>\n      <td>0</td>\n    </tr>\n    <tr>\n      <th>12599</th>\n      <td>19</td>\n      <td>1</td>\n      <td>3</td>\n      <td>4720</td>\n      <td>13</td>\n      <td>0</td>\n      <td>55</td>\n      <td>40.0</td>\n      <td>1</td>\n    </tr>\n    <tr>\n      <th>12193</th>\n      <td>23</td>\n      <td>1</td>\n      <td>1</td>\n      <td>2100</td>\n      <td>17</td>\n      <td>1</td>\n      <td>54</td>\n      <td>50.0</td>\n      <td>1</td>\n    </tr>\n    <tr>\n      <th>8678</th>\n      <td>16</td>\n      <td>1</td>\n      <td>5</td>\n      <td>7810</td>\n      <td>13</td>\n      <td>13</td>\n      <td>29</td>\n      <td>40.0</td>\n      <td>0</td>\n    </tr>\n  </tbody>\n</table>\n</div>"
     },
     "execution_count": 61,
     "metadata": {},
     "output_type": "execute_result"
    }
   ],
   "source": [
    "data_loader.X_data.loc[init_base_flow_dataset.X_test.index, :].head(5)"
   ],
   "metadata": {
    "collapsed": false
   }
  },
  {
   "cell_type": "code",
   "execution_count": 62,
   "outputs": [
    {
     "data": {
      "text/plain": "       cat__SCHL_1  cat__SCHL_10  cat__SCHL_11  cat__SCHL_12  cat__SCHL_13  \\\n10155          0.0           0.0           0.0           0.0           0.0   \n11689          0.0           0.0           0.0           0.0           0.0   \n12599          0.0           0.0           0.0           0.0           0.0   \n12193          0.0           0.0           0.0           0.0           0.0   \n8678           0.0           0.0           0.0           0.0           0.0   \n\n       cat__SCHL_14  cat__SCHL_15  cat__SCHL_16  cat__SCHL_17  cat__SCHL_18  \\\n10155           0.0           0.0           0.0           0.0           0.0   \n11689           0.0           0.0           1.0           0.0           0.0   \n12599           0.0           0.0           0.0           0.0           1.0   \n12193           0.0           0.0           1.0           0.0           0.0   \n8678            0.0           0.0           0.0           0.0           0.0   \n\n       ...  cat__RELP_3  cat__RELP_4  cat__RELP_5  cat__RELP_6  cat__RELP_7  \\\n10155  ...          0.0          0.0          0.0          0.0          0.0   \n11689  ...          0.0          0.0          0.0          0.0          0.0   \n12599  ...          0.0          0.0          0.0          0.0          0.0   \n12193  ...          0.0          0.0          0.0          0.0          0.0   \n8678   ...          0.0          0.0          0.0          0.0          0.0   \n\n       cat__RELP_8  cat__RELP_9  num__AGEP  num__WKHP  RACE  \n10155          0.0          0.0  -0.399185  -0.305913     1  \n11689          0.0          0.0  -0.602286   0.085971     1  \n12599          0.0          0.0   0.684017   0.085971     0  \n12193          0.0          0.0   0.142416   1.653506     1  \n8678           0.0          0.0  -0.602286   0.869738     1  \n\n[5 rows x 672 columns]",
      "text/html": "<div>\n<style scoped>\n    .dataframe tbody tr th:only-of-type {\n        vertical-align: middle;\n    }\n\n    .dataframe tbody tr th {\n        vertical-align: top;\n    }\n\n    .dataframe thead th {\n        text-align: right;\n    }\n</style>\n<table border=\"1\" class=\"dataframe\">\n  <thead>\n    <tr style=\"text-align: right;\">\n      <th></th>\n      <th>cat__SCHL_1</th>\n      <th>cat__SCHL_10</th>\n      <th>cat__SCHL_11</th>\n      <th>cat__SCHL_12</th>\n      <th>cat__SCHL_13</th>\n      <th>cat__SCHL_14</th>\n      <th>cat__SCHL_15</th>\n      <th>cat__SCHL_16</th>\n      <th>cat__SCHL_17</th>\n      <th>cat__SCHL_18</th>\n      <th>...</th>\n      <th>cat__RELP_3</th>\n      <th>cat__RELP_4</th>\n      <th>cat__RELP_5</th>\n      <th>cat__RELP_6</th>\n      <th>cat__RELP_7</th>\n      <th>cat__RELP_8</th>\n      <th>cat__RELP_9</th>\n      <th>num__AGEP</th>\n      <th>num__WKHP</th>\n      <th>RACE</th>\n    </tr>\n  </thead>\n  <tbody>\n    <tr>\n      <th>10155</th>\n      <td>0.0</td>\n      <td>0.0</td>\n      <td>0.0</td>\n      <td>0.0</td>\n      <td>0.0</td>\n      <td>0.0</td>\n      <td>0.0</td>\n      <td>0.0</td>\n      <td>0.0</td>\n      <td>0.0</td>\n      <td>...</td>\n      <td>0.0</td>\n      <td>0.0</td>\n      <td>0.0</td>\n      <td>0.0</td>\n      <td>0.0</td>\n      <td>0.0</td>\n      <td>0.0</td>\n      <td>-0.399185</td>\n      <td>-0.305913</td>\n      <td>1</td>\n    </tr>\n    <tr>\n      <th>11689</th>\n      <td>0.0</td>\n      <td>0.0</td>\n      <td>0.0</td>\n      <td>0.0</td>\n      <td>0.0</td>\n      <td>0.0</td>\n      <td>0.0</td>\n      <td>1.0</td>\n      <td>0.0</td>\n      <td>0.0</td>\n      <td>...</td>\n      <td>0.0</td>\n      <td>0.0</td>\n      <td>0.0</td>\n      <td>0.0</td>\n      <td>0.0</td>\n      <td>0.0</td>\n      <td>0.0</td>\n      <td>-0.602286</td>\n      <td>0.085971</td>\n      <td>1</td>\n    </tr>\n    <tr>\n      <th>12599</th>\n      <td>0.0</td>\n      <td>0.0</td>\n      <td>0.0</td>\n      <td>0.0</td>\n      <td>0.0</td>\n      <td>0.0</td>\n      <td>0.0</td>\n      <td>0.0</td>\n      <td>0.0</td>\n      <td>1.0</td>\n      <td>...</td>\n      <td>0.0</td>\n      <td>0.0</td>\n      <td>0.0</td>\n      <td>0.0</td>\n      <td>0.0</td>\n      <td>0.0</td>\n      <td>0.0</td>\n      <td>0.684017</td>\n      <td>0.085971</td>\n      <td>0</td>\n    </tr>\n    <tr>\n      <th>12193</th>\n      <td>0.0</td>\n      <td>0.0</td>\n      <td>0.0</td>\n      <td>0.0</td>\n      <td>0.0</td>\n      <td>0.0</td>\n      <td>0.0</td>\n      <td>1.0</td>\n      <td>0.0</td>\n      <td>0.0</td>\n      <td>...</td>\n      <td>0.0</td>\n      <td>0.0</td>\n      <td>0.0</td>\n      <td>0.0</td>\n      <td>0.0</td>\n      <td>0.0</td>\n      <td>0.0</td>\n      <td>0.142416</td>\n      <td>1.653506</td>\n      <td>1</td>\n    </tr>\n    <tr>\n      <th>8678</th>\n      <td>0.0</td>\n      <td>0.0</td>\n      <td>0.0</td>\n      <td>0.0</td>\n      <td>0.0</td>\n      <td>0.0</td>\n      <td>0.0</td>\n      <td>0.0</td>\n      <td>0.0</td>\n      <td>0.0</td>\n      <td>...</td>\n      <td>0.0</td>\n      <td>0.0</td>\n      <td>0.0</td>\n      <td>0.0</td>\n      <td>0.0</td>\n      <td>0.0</td>\n      <td>0.0</td>\n      <td>-0.602286</td>\n      <td>0.869738</td>\n      <td>1</td>\n    </tr>\n  </tbody>\n</table>\n<p>5 rows × 672 columns</p>\n</div>"
     },
     "execution_count": 62,
     "metadata": {},
     "output_type": "execute_result"
    }
   ],
   "source": [
    "extra_base_flow_datasets[0].X_test.head(5)"
   ],
   "metadata": {
    "collapsed": false
   }
  },
  {
   "cell_type": "code",
   "execution_count": 63,
   "outputs": [
    {
     "data": {
      "text/plain": "       cat__SCHL_1  cat__SCHL_10  cat__SCHL_11  cat__SCHL_12  cat__SCHL_13  \\\n10155          0.0           0.0           0.0           0.0           0.0   \n11689          0.0           0.0           0.0           0.0           0.0   \n12599          0.0           0.0           0.0           0.0           0.0   \n12193          0.0           0.0           0.0           0.0           0.0   \n8678           0.0           0.0           0.0           0.0           0.0   \n\n       cat__SCHL_14  cat__SCHL_15  cat__SCHL_16  cat__SCHL_17  cat__SCHL_18  \\\n10155           0.0           0.0           0.0           0.0           0.0   \n11689           0.0           0.0           1.0           0.0           0.0   \n12599           0.0           0.0           0.0           0.0           1.0   \n12193           0.0           0.0           1.0           0.0           0.0   \n8678            0.0           0.0           0.0           0.0           0.0   \n\n       ...  cat__RELP_2  cat__RELP_3  cat__RELP_4  cat__RELP_5  cat__RELP_6  \\\n10155  ...          0.0          0.0          0.0          0.0          0.0   \n11689  ...          0.0          0.0          0.0          0.0          0.0   \n12599  ...          0.0          0.0          0.0          0.0          0.0   \n12193  ...          0.0          0.0          0.0          0.0          0.0   \n8678   ...          0.0          0.0          0.0          0.0          0.0   \n\n       cat__RELP_7  cat__RELP_8  cat__RELP_9  num__AGEP  num__WKHP  \n10155          0.0          0.0          0.0  -0.534585  -0.305913  \n11689          0.0          0.0          0.0  -0.669986   0.085971  \n12599          0.0          0.0          0.0   0.684017   0.085971  \n12193          0.0          0.0          0.0  -0.060684   1.653506  \n8678           0.0          0.0          0.0  -0.669986   0.712985  \n\n[5 rows x 739 columns]",
      "text/html": "<div>\n<style scoped>\n    .dataframe tbody tr th:only-of-type {\n        vertical-align: middle;\n    }\n\n    .dataframe tbody tr th {\n        vertical-align: top;\n    }\n\n    .dataframe thead th {\n        text-align: right;\n    }\n</style>\n<table border=\"1\" class=\"dataframe\">\n  <thead>\n    <tr style=\"text-align: right;\">\n      <th></th>\n      <th>cat__SCHL_1</th>\n      <th>cat__SCHL_10</th>\n      <th>cat__SCHL_11</th>\n      <th>cat__SCHL_12</th>\n      <th>cat__SCHL_13</th>\n      <th>cat__SCHL_14</th>\n      <th>cat__SCHL_15</th>\n      <th>cat__SCHL_16</th>\n      <th>cat__SCHL_17</th>\n      <th>cat__SCHL_18</th>\n      <th>...</th>\n      <th>cat__RELP_2</th>\n      <th>cat__RELP_3</th>\n      <th>cat__RELP_4</th>\n      <th>cat__RELP_5</th>\n      <th>cat__RELP_6</th>\n      <th>cat__RELP_7</th>\n      <th>cat__RELP_8</th>\n      <th>cat__RELP_9</th>\n      <th>num__AGEP</th>\n      <th>num__WKHP</th>\n    </tr>\n  </thead>\n  <tbody>\n    <tr>\n      <th>10155</th>\n      <td>0.0</td>\n      <td>0.0</td>\n      <td>0.0</td>\n      <td>0.0</td>\n      <td>0.0</td>\n      <td>0.0</td>\n      <td>0.0</td>\n      <td>0.0</td>\n      <td>0.0</td>\n      <td>0.0</td>\n      <td>...</td>\n      <td>0.0</td>\n      <td>0.0</td>\n      <td>0.0</td>\n      <td>0.0</td>\n      <td>0.0</td>\n      <td>0.0</td>\n      <td>0.0</td>\n      <td>0.0</td>\n      <td>-0.534585</td>\n      <td>-0.305913</td>\n    </tr>\n    <tr>\n      <th>11689</th>\n      <td>0.0</td>\n      <td>0.0</td>\n      <td>0.0</td>\n      <td>0.0</td>\n      <td>0.0</td>\n      <td>0.0</td>\n      <td>0.0</td>\n      <td>1.0</td>\n      <td>0.0</td>\n      <td>0.0</td>\n      <td>...</td>\n      <td>0.0</td>\n      <td>0.0</td>\n      <td>0.0</td>\n      <td>0.0</td>\n      <td>0.0</td>\n      <td>0.0</td>\n      <td>0.0</td>\n      <td>0.0</td>\n      <td>-0.669986</td>\n      <td>0.085971</td>\n    </tr>\n    <tr>\n      <th>12599</th>\n      <td>0.0</td>\n      <td>0.0</td>\n      <td>0.0</td>\n      <td>0.0</td>\n      <td>0.0</td>\n      <td>0.0</td>\n      <td>0.0</td>\n      <td>0.0</td>\n      <td>0.0</td>\n      <td>1.0</td>\n      <td>...</td>\n      <td>0.0</td>\n      <td>0.0</td>\n      <td>0.0</td>\n      <td>0.0</td>\n      <td>0.0</td>\n      <td>0.0</td>\n      <td>0.0</td>\n      <td>0.0</td>\n      <td>0.684017</td>\n      <td>0.085971</td>\n    </tr>\n    <tr>\n      <th>12193</th>\n      <td>0.0</td>\n      <td>0.0</td>\n      <td>0.0</td>\n      <td>0.0</td>\n      <td>0.0</td>\n      <td>0.0</td>\n      <td>0.0</td>\n      <td>1.0</td>\n      <td>0.0</td>\n      <td>0.0</td>\n      <td>...</td>\n      <td>0.0</td>\n      <td>0.0</td>\n      <td>0.0</td>\n      <td>0.0</td>\n      <td>0.0</td>\n      <td>0.0</td>\n      <td>0.0</td>\n      <td>0.0</td>\n      <td>-0.060684</td>\n      <td>1.653506</td>\n    </tr>\n    <tr>\n      <th>8678</th>\n      <td>0.0</td>\n      <td>0.0</td>\n      <td>0.0</td>\n      <td>0.0</td>\n      <td>0.0</td>\n      <td>0.0</td>\n      <td>0.0</td>\n      <td>0.0</td>\n      <td>0.0</td>\n      <td>0.0</td>\n      <td>...</td>\n      <td>0.0</td>\n      <td>0.0</td>\n      <td>0.0</td>\n      <td>0.0</td>\n      <td>0.0</td>\n      <td>0.0</td>\n      <td>0.0</td>\n      <td>0.0</td>\n      <td>-0.669986</td>\n      <td>0.712985</td>\n    </tr>\n  </tbody>\n</table>\n<p>5 rows × 739 columns</p>\n</div>"
     },
     "execution_count": 63,
     "metadata": {},
     "output_type": "execute_result"
    }
   ],
   "source": [
    "cur_extra_test_sets[0][0].head(5)"
   ],
   "metadata": {
    "collapsed": false
   }
  },
  {
   "cell_type": "code",
   "execution_count": 64,
   "outputs": [
    {
     "data": {
      "text/plain": "       cat__SCHL_1  cat__SCHL_10  cat__SCHL_11  cat__SCHL_12  cat__SCHL_13  \\\n10155          0.0           0.0           0.0           0.0           0.0   \n11689          0.0           0.0           0.0           0.0           0.0   \n12599          0.0           0.0           0.0           0.0           0.0   \n12193          0.0           0.0           0.0           0.0           0.0   \n8678           0.0           0.0           0.0           0.0           0.0   \n\n       cat__SCHL_14  cat__SCHL_15  cat__SCHL_16  cat__SCHL_17  cat__SCHL_18  \\\n10155           0.0           0.0           0.0           0.0           1.0   \n11689           0.0           0.0           0.0           0.0           0.0   \n12599           0.0           0.0           0.0           0.0           0.0   \n12193           0.0           0.0           0.0           0.0           0.0   \n8678            0.0           0.0           0.0           0.0           0.0   \n\n       ...  cat__RELP_3  cat__RELP_4  cat__RELP_5  cat__RELP_6  cat__RELP_7  \\\n10155  ...          0.0          0.0          0.0          0.0          0.0   \n11689  ...          0.0          0.0          0.0          0.0          0.0   \n12599  ...          0.0          0.0          0.0          0.0          0.0   \n12193  ...          0.0          0.0          0.0          0.0          0.0   \n8678   ...          0.0          0.0          0.0          0.0          0.0   \n\n       cat__RELP_8  cat__RELP_9  num__AGEP  num__WKHP  RACE  \n10155          0.0          0.0  -1.095199  -1.523256     1  \n11689          0.0          0.0   0.758660   1.723586     1  \n12599          0.0          0.0  -1.095199   1.723586     1  \n12193          0.0          0.0  -0.035851   1.723586     1  \n8678           0.0          0.0  -1.095199  -0.209058     1  \n\n[5 rows x 693 columns]",
      "text/html": "<div>\n<style scoped>\n    .dataframe tbody tr th:only-of-type {\n        vertical-align: middle;\n    }\n\n    .dataframe tbody tr th {\n        vertical-align: top;\n    }\n\n    .dataframe thead th {\n        text-align: right;\n    }\n</style>\n<table border=\"1\" class=\"dataframe\">\n  <thead>\n    <tr style=\"text-align: right;\">\n      <th></th>\n      <th>cat__SCHL_1</th>\n      <th>cat__SCHL_10</th>\n      <th>cat__SCHL_11</th>\n      <th>cat__SCHL_12</th>\n      <th>cat__SCHL_13</th>\n      <th>cat__SCHL_14</th>\n      <th>cat__SCHL_15</th>\n      <th>cat__SCHL_16</th>\n      <th>cat__SCHL_17</th>\n      <th>cat__SCHL_18</th>\n      <th>...</th>\n      <th>cat__RELP_3</th>\n      <th>cat__RELP_4</th>\n      <th>cat__RELP_5</th>\n      <th>cat__RELP_6</th>\n      <th>cat__RELP_7</th>\n      <th>cat__RELP_8</th>\n      <th>cat__RELP_9</th>\n      <th>num__AGEP</th>\n      <th>num__WKHP</th>\n      <th>RACE</th>\n    </tr>\n  </thead>\n  <tbody>\n    <tr>\n      <th>10155</th>\n      <td>0.0</td>\n      <td>0.0</td>\n      <td>0.0</td>\n      <td>0.0</td>\n      <td>0.0</td>\n      <td>0.0</td>\n      <td>0.0</td>\n      <td>0.0</td>\n      <td>0.0</td>\n      <td>1.0</td>\n      <td>...</td>\n      <td>0.0</td>\n      <td>0.0</td>\n      <td>0.0</td>\n      <td>0.0</td>\n      <td>0.0</td>\n      <td>0.0</td>\n      <td>0.0</td>\n      <td>-1.095199</td>\n      <td>-1.523256</td>\n      <td>1</td>\n    </tr>\n    <tr>\n      <th>11689</th>\n      <td>0.0</td>\n      <td>0.0</td>\n      <td>0.0</td>\n      <td>0.0</td>\n      <td>0.0</td>\n      <td>0.0</td>\n      <td>0.0</td>\n      <td>0.0</td>\n      <td>0.0</td>\n      <td>0.0</td>\n      <td>...</td>\n      <td>0.0</td>\n      <td>0.0</td>\n      <td>0.0</td>\n      <td>0.0</td>\n      <td>0.0</td>\n      <td>0.0</td>\n      <td>0.0</td>\n      <td>0.758660</td>\n      <td>1.723586</td>\n      <td>1</td>\n    </tr>\n    <tr>\n      <th>12599</th>\n      <td>0.0</td>\n      <td>0.0</td>\n      <td>0.0</td>\n      <td>0.0</td>\n      <td>0.0</td>\n      <td>0.0</td>\n      <td>0.0</td>\n      <td>0.0</td>\n      <td>0.0</td>\n      <td>0.0</td>\n      <td>...</td>\n      <td>0.0</td>\n      <td>0.0</td>\n      <td>0.0</td>\n      <td>0.0</td>\n      <td>0.0</td>\n      <td>0.0</td>\n      <td>0.0</td>\n      <td>-1.095199</td>\n      <td>1.723586</td>\n      <td>1</td>\n    </tr>\n    <tr>\n      <th>12193</th>\n      <td>0.0</td>\n      <td>0.0</td>\n      <td>0.0</td>\n      <td>0.0</td>\n      <td>0.0</td>\n      <td>0.0</td>\n      <td>0.0</td>\n      <td>0.0</td>\n      <td>0.0</td>\n      <td>0.0</td>\n      <td>...</td>\n      <td>0.0</td>\n      <td>0.0</td>\n      <td>0.0</td>\n      <td>0.0</td>\n      <td>0.0</td>\n      <td>0.0</td>\n      <td>0.0</td>\n      <td>-0.035851</td>\n      <td>1.723586</td>\n      <td>1</td>\n    </tr>\n    <tr>\n      <th>8678</th>\n      <td>0.0</td>\n      <td>0.0</td>\n      <td>0.0</td>\n      <td>0.0</td>\n      <td>0.0</td>\n      <td>0.0</td>\n      <td>0.0</td>\n      <td>0.0</td>\n      <td>0.0</td>\n      <td>0.0</td>\n      <td>...</td>\n      <td>0.0</td>\n      <td>0.0</td>\n      <td>0.0</td>\n      <td>0.0</td>\n      <td>0.0</td>\n      <td>0.0</td>\n      <td>0.0</td>\n      <td>-1.095199</td>\n      <td>-0.209058</td>\n      <td>1</td>\n    </tr>\n  </tbody>\n</table>\n<p>5 rows × 693 columns</p>\n</div>"
     },
     "execution_count": 64,
     "metadata": {},
     "output_type": "execute_result"
    }
   ],
   "source": [
    "extra_base_flow_datasets[2].X_test.head(5)"
   ],
   "metadata": {
    "collapsed": false
   }
  },
  {
   "cell_type": "code",
   "execution_count": 65,
   "outputs": [
    {
     "data": {
      "text/plain": "       cat__SCHL_1  cat__SCHL_10  cat__SCHL_11  cat__SCHL_12  cat__SCHL_13  \\\n10155          0.0           0.0           0.0           0.0           0.0   \n11689          0.0           0.0           0.0           0.0           0.0   \n12599          0.0           0.0           0.0           0.0           0.0   \n12193          0.0           0.0           0.0           0.0           0.0   \n8678           0.0           0.0           0.0           0.0           0.0   \n\n       cat__SCHL_14  cat__SCHL_15  cat__SCHL_16  cat__SCHL_17  cat__SCHL_18  \\\n10155           0.0           0.0           0.0           0.0           1.0   \n11689           0.0           0.0           0.0           0.0           0.0   \n12599           0.0           0.0           0.0           0.0           0.0   \n12193           0.0           0.0           0.0           0.0           0.0   \n8678            0.0           0.0           0.0           0.0           0.0   \n\n       ...  cat__RELP_2  cat__RELP_3  cat__RELP_4  cat__RELP_5  cat__RELP_6  \\\n10155  ...          0.0          0.0          0.0          0.0          0.0   \n11689  ...          0.0          0.0          0.0          0.0          0.0   \n12599  ...          0.0          0.0          0.0          0.0          0.0   \n12193  ...          0.0          0.0          0.0          0.0          0.0   \n8678   ...          0.0          0.0          0.0          0.0          0.0   \n\n       cat__RELP_7  cat__RELP_8  cat__RELP_9  num__AGEP  num__WKHP  \n10155          0.0          0.0          0.0  -1.161409  -1.523256  \n11689          0.0          0.0          0.0   0.427614   1.723586  \n12599          0.0          0.0          0.0  -1.161409   1.723586  \n12193          0.0          0.0          0.0  -0.300688   1.723586  \n8678           0.0          0.0          0.0  -1.161409  -0.209058  \n\n[5 rows x 739 columns]",
      "text/html": "<div>\n<style scoped>\n    .dataframe tbody tr th:only-of-type {\n        vertical-align: middle;\n    }\n\n    .dataframe tbody tr th {\n        vertical-align: top;\n    }\n\n    .dataframe thead th {\n        text-align: right;\n    }\n</style>\n<table border=\"1\" class=\"dataframe\">\n  <thead>\n    <tr style=\"text-align: right;\">\n      <th></th>\n      <th>cat__SCHL_1</th>\n      <th>cat__SCHL_10</th>\n      <th>cat__SCHL_11</th>\n      <th>cat__SCHL_12</th>\n      <th>cat__SCHL_13</th>\n      <th>cat__SCHL_14</th>\n      <th>cat__SCHL_15</th>\n      <th>cat__SCHL_16</th>\n      <th>cat__SCHL_17</th>\n      <th>cat__SCHL_18</th>\n      <th>...</th>\n      <th>cat__RELP_2</th>\n      <th>cat__RELP_3</th>\n      <th>cat__RELP_4</th>\n      <th>cat__RELP_5</th>\n      <th>cat__RELP_6</th>\n      <th>cat__RELP_7</th>\n      <th>cat__RELP_8</th>\n      <th>cat__RELP_9</th>\n      <th>num__AGEP</th>\n      <th>num__WKHP</th>\n    </tr>\n  </thead>\n  <tbody>\n    <tr>\n      <th>10155</th>\n      <td>0.0</td>\n      <td>0.0</td>\n      <td>0.0</td>\n      <td>0.0</td>\n      <td>0.0</td>\n      <td>0.0</td>\n      <td>0.0</td>\n      <td>0.0</td>\n      <td>0.0</td>\n      <td>1.0</td>\n      <td>...</td>\n      <td>0.0</td>\n      <td>0.0</td>\n      <td>0.0</td>\n      <td>0.0</td>\n      <td>0.0</td>\n      <td>0.0</td>\n      <td>0.0</td>\n      <td>0.0</td>\n      <td>-1.161409</td>\n      <td>-1.523256</td>\n    </tr>\n    <tr>\n      <th>11689</th>\n      <td>0.0</td>\n      <td>0.0</td>\n      <td>0.0</td>\n      <td>0.0</td>\n      <td>0.0</td>\n      <td>0.0</td>\n      <td>0.0</td>\n      <td>0.0</td>\n      <td>0.0</td>\n      <td>0.0</td>\n      <td>...</td>\n      <td>0.0</td>\n      <td>0.0</td>\n      <td>0.0</td>\n      <td>0.0</td>\n      <td>0.0</td>\n      <td>0.0</td>\n      <td>0.0</td>\n      <td>0.0</td>\n      <td>0.427614</td>\n      <td>1.723586</td>\n    </tr>\n    <tr>\n      <th>12599</th>\n      <td>0.0</td>\n      <td>0.0</td>\n      <td>0.0</td>\n      <td>0.0</td>\n      <td>0.0</td>\n      <td>0.0</td>\n      <td>0.0</td>\n      <td>0.0</td>\n      <td>0.0</td>\n      <td>0.0</td>\n      <td>...</td>\n      <td>0.0</td>\n      <td>0.0</td>\n      <td>0.0</td>\n      <td>0.0</td>\n      <td>0.0</td>\n      <td>0.0</td>\n      <td>0.0</td>\n      <td>0.0</td>\n      <td>-1.161409</td>\n      <td>1.723586</td>\n    </tr>\n    <tr>\n      <th>12193</th>\n      <td>0.0</td>\n      <td>0.0</td>\n      <td>0.0</td>\n      <td>0.0</td>\n      <td>0.0</td>\n      <td>0.0</td>\n      <td>0.0</td>\n      <td>0.0</td>\n      <td>0.0</td>\n      <td>0.0</td>\n      <td>...</td>\n      <td>0.0</td>\n      <td>0.0</td>\n      <td>0.0</td>\n      <td>0.0</td>\n      <td>0.0</td>\n      <td>0.0</td>\n      <td>0.0</td>\n      <td>0.0</td>\n      <td>-0.300688</td>\n      <td>1.723586</td>\n    </tr>\n    <tr>\n      <th>8678</th>\n      <td>0.0</td>\n      <td>0.0</td>\n      <td>0.0</td>\n      <td>0.0</td>\n      <td>0.0</td>\n      <td>0.0</td>\n      <td>0.0</td>\n      <td>0.0</td>\n      <td>0.0</td>\n      <td>0.0</td>\n      <td>...</td>\n      <td>0.0</td>\n      <td>0.0</td>\n      <td>0.0</td>\n      <td>0.0</td>\n      <td>0.0</td>\n      <td>0.0</td>\n      <td>0.0</td>\n      <td>0.0</td>\n      <td>-1.161409</td>\n      <td>-0.209058</td>\n    </tr>\n  </tbody>\n</table>\n<p>5 rows × 739 columns</p>\n</div>"
     },
     "execution_count": 65,
     "metadata": {},
     "output_type": "execute_result"
    }
   ],
   "source": [
    "cur_extra_test_sets[2][0].head(5)"
   ],
   "metadata": {
    "collapsed": false
   }
  },
  {
   "cell_type": "code",
   "execution_count": 66,
   "outputs": [
    {
     "data": {
      "text/plain": "      SCHL COW MAR  OCCP POBP RELP  AGEP  WKHP  RACE\n10155   18   1   5  4510   36   13    27  18.0     1\n11689   22   1   1   710   36    1    55  60.0     1\n12599   19   1   5   310   26   11    27  60.0     1\n12193   22   1   1   136  119    0    43  60.0     1\n8678    20   1   5  4110   36    0    27  35.0     1",
      "text/html": "<div>\n<style scoped>\n    .dataframe tbody tr th:only-of-type {\n        vertical-align: middle;\n    }\n\n    .dataframe tbody tr th {\n        vertical-align: top;\n    }\n\n    .dataframe thead th {\n        text-align: right;\n    }\n</style>\n<table border=\"1\" class=\"dataframe\">\n  <thead>\n    <tr style=\"text-align: right;\">\n      <th></th>\n      <th>SCHL</th>\n      <th>COW</th>\n      <th>MAR</th>\n      <th>OCCP</th>\n      <th>POBP</th>\n      <th>RELP</th>\n      <th>AGEP</th>\n      <th>WKHP</th>\n      <th>RACE</th>\n    </tr>\n  </thead>\n  <tbody>\n    <tr>\n      <th>10155</th>\n      <td>18</td>\n      <td>1</td>\n      <td>5</td>\n      <td>4510</td>\n      <td>36</td>\n      <td>13</td>\n      <td>27</td>\n      <td>18.0</td>\n      <td>1</td>\n    </tr>\n    <tr>\n      <th>11689</th>\n      <td>22</td>\n      <td>1</td>\n      <td>1</td>\n      <td>710</td>\n      <td>36</td>\n      <td>1</td>\n      <td>55</td>\n      <td>60.0</td>\n      <td>1</td>\n    </tr>\n    <tr>\n      <th>12599</th>\n      <td>19</td>\n      <td>1</td>\n      <td>5</td>\n      <td>310</td>\n      <td>26</td>\n      <td>11</td>\n      <td>27</td>\n      <td>60.0</td>\n      <td>1</td>\n    </tr>\n    <tr>\n      <th>12193</th>\n      <td>22</td>\n      <td>1</td>\n      <td>1</td>\n      <td>136</td>\n      <td>119</td>\n      <td>0</td>\n      <td>43</td>\n      <td>60.0</td>\n      <td>1</td>\n    </tr>\n    <tr>\n      <th>8678</th>\n      <td>20</td>\n      <td>1</td>\n      <td>5</td>\n      <td>4110</td>\n      <td>36</td>\n      <td>0</td>\n      <td>27</td>\n      <td>35.0</td>\n      <td>1</td>\n    </tr>\n  </tbody>\n</table>\n</div>"
     },
     "execution_count": 66,
     "metadata": {},
     "output_type": "execute_result"
    }
   ],
   "source": [
    "extra_data_loaders[2].X_data.loc[extra_base_flow_datasets[2].X_test.index, :].head(5)"
   ],
   "metadata": {
    "collapsed": false
   }
  },
  {
   "cell_type": "markdown",
   "id": "bdb20008",
   "metadata": {},
   "source": [
    "## Run experiment iterations"
   ]
  },
  {
   "cell_type": "markdown",
   "id": "f4b30770",
   "metadata": {},
   "source": [
    "### Experiment iteration 1"
   ]
  },
  {
   "cell_type": "code",
   "execution_count": 23,
   "id": "39082b06",
   "metadata": {},
   "outputs": [],
   "source": [
    "# tuned_params_filenames = ['tuning_results_Folktables_NY_2018_Employment_alpha_0.8_20230706__115508.csv']\n",
    "# tuned_params_df_paths = [os.path.join(ROOT_DIR, 'results', EXPERIMENT_NAME, tuned_params_filename)\n",
    "#                          for tuned_params_filename in tuned_params_filenames]"
   ]
  },
  {
   "cell_type": "code",
   "execution_count": 24,
   "id": "87edf673",
   "metadata": {},
   "outputs": [],
   "source": [
    "# Configs for an experiment iteration\n",
    "exp_iter_num = 1\n",
    "experiment_seed = EXPERIMENT_SEEDS[exp_iter_num - 1]\n",
    "custom_table_fields_dct['experiment_iteration'] = f'Exp_iter_{exp_iter_num}'\n",
    "\n",
    "exp_iter_data_loader = copy.deepcopy(data_loader)  # Add deepcopy to avoid data leakage\n",
    "exp_extra_data_loaders = copy.deepcopy(extra_data_loaders)  # Add deepcopy to avoid data leakage\n",
    "models_params_for_tuning = get_folktables_employment_models_params_for_tuning(experiment_seed)"
   ]
  },
  {
   "cell_type": "code",
   "execution_count": 25,
   "id": "b356ceab",
   "metadata": {},
   "outputs": [
    {
     "name": "stderr",
     "output_type": "stream",
     "text": [
      "2023-07-27 00:16:14 experiment_interface.py INFO    : Start an experiment iteration for the following custom params:\n",
      "INFO:root:Start an experiment iteration for the following custom params:\n"
     ]
    },
    {
     "name": "stdout",
     "output_type": "stream",
     "text": [
      "{'dataset_split_seed': 100,\n",
      " 'experiment_iteration': 'Exp_iter_1',\n",
      " 'fair_intervention_params_lst': '[0.0, 0.7]',\n",
      " 'model_init_seed': 100,\n",
      " 'session_uuid': '78049b4f-0ef4-41d7-b3c5-9c3ab8a019f8'}\n",
      "\n",
      "\n"
     ]
    },
    {
     "name": "stderr",
     "output_type": "stream",
     "text": [
      "2023-07-27 00:16:15 experiment_interface.py INFO    : The dataset is preprocessed\n",
      "INFO:root:The dataset is preprocessed\n"
     ]
    },
    {
     "name": "stdout",
     "output_type": "stream",
     "text": [
      "Top indexes of an X_test in a base flow dataset:  Int64Index([10155, 11689, 12599, 12193,  8678,  8217,  4670, 12087,  5235,\n",
      "             4189,  7278, 10642,  5284,  7002, 14642, 10594,  7701,  8686,\n",
      "             8665,  6253],\n",
      "           dtype='int64')\n",
      "Top indexes of an y_test in a base flow dataset:  Int64Index([10155, 11689, 12599, 12193,  8678,  8217,  4670, 12087,  5235,\n",
      "             4189,  7278, 10642,  5284,  7002, 14642, 10594,  7701,  8686,\n",
      "             8665,  6253],\n",
      "           dtype='int64')\n"
     ]
    },
    {
     "data": {
      "text/plain": "Multiple alphas:   0%|          | 0/2 [00:00<?, ?it/s]",
      "application/vnd.jupyter.widget-view+json": {
       "version_major": 2,
       "version_minor": 0,
       "model_id": "744d3b1ef9fd47648669e7a02244e0da"
      }
     },
     "metadata": {},
     "output_type": "display_data"
    },
    {
     "name": "stdout",
     "output_type": "stream",
     "text": [
      "intervention_param:  0.0\n"
     ]
    },
    {
     "ename": "KeyboardInterrupt",
     "evalue": "",
     "output_type": "error",
     "traceback": [
      "\u001B[0;31m---------------------------------------------------------------------------\u001B[0m",
      "\u001B[0;31mKeyboardInterrupt\u001B[0m                         Traceback (most recent call last)",
      "Cell \u001B[0;32mIn[25], line 1\u001B[0m\n\u001B[0;32m----> 1\u001B[0m \u001B[43mrun_exp_iter_with_disparate_impact_and_mult_sets\u001B[49m\u001B[43m(\u001B[49m\u001B[43mdata_loader\u001B[49m\u001B[38;5;241;43m=\u001B[39;49m\u001B[43mexp_iter_data_loader\u001B[49m\u001B[43m,\u001B[49m\n\u001B[1;32m      2\u001B[0m \u001B[43m                                                 \u001B[49m\u001B[43mextra_data_loaders\u001B[49m\u001B[38;5;241;43m=\u001B[39;49m\u001B[43mexp_extra_data_loaders\u001B[49m\u001B[43m,\u001B[49m\n\u001B[1;32m      3\u001B[0m \u001B[43m                                                 \u001B[49m\u001B[43mexperiment_seed\u001B[49m\u001B[38;5;241;43m=\u001B[39;49m\u001B[43mexperiment_seed\u001B[49m\u001B[43m,\u001B[49m\n\u001B[1;32m      4\u001B[0m \u001B[43m                                                 \u001B[49m\u001B[43mtest_set_fraction\u001B[49m\u001B[38;5;241;43m=\u001B[39;49m\u001B[43mTEST_SET_FRACTION\u001B[49m\u001B[43m,\u001B[49m\n\u001B[1;32m      5\u001B[0m \u001B[43m                                                 \u001B[49m\u001B[43mdb_writer_func\u001B[49m\u001B[38;5;241;43m=\u001B[39;49m\u001B[43mdb_writer_func\u001B[49m\u001B[43m,\u001B[49m\n\u001B[1;32m      6\u001B[0m \u001B[43m                                                 \u001B[49m\u001B[43mfair_intervention_params_lst\u001B[49m\u001B[38;5;241;43m=\u001B[39;49m\u001B[43mFAIR_INTERVENTION_PARAMS_LST\u001B[49m\u001B[43m,\u001B[49m\n\u001B[1;32m      7\u001B[0m \u001B[43m                                                 \u001B[49m\u001B[43mmodels_params_for_tuning\u001B[49m\u001B[38;5;241;43m=\u001B[39;49m\u001B[43mmodels_params_for_tuning\u001B[49m\u001B[43m,\u001B[49m\n\u001B[1;32m      8\u001B[0m \u001B[43m                                                 \u001B[49m\u001B[43mmetrics_computation_config\u001B[49m\u001B[38;5;241;43m=\u001B[39;49m\u001B[43mmetrics_computation_config\u001B[49m\u001B[43m,\u001B[49m\n\u001B[1;32m      9\u001B[0m \u001B[43m                                                 \u001B[49m\u001B[43mcustom_table_fields_dct\u001B[49m\u001B[38;5;241;43m=\u001B[39;49m\u001B[43mcustom_table_fields_dct\u001B[49m\u001B[43m,\u001B[49m\n\u001B[1;32m     10\u001B[0m \u001B[43m                                                 \u001B[49m\u001B[43mwith_tuning\u001B[49m\u001B[38;5;241;43m=\u001B[39;49m\u001B[38;5;28;43;01mTrue\u001B[39;49;00m\u001B[43m,\u001B[49m\n\u001B[1;32m     11\u001B[0m \u001B[43m                                                 \u001B[49m\u001B[38;5;66;43;03m# with_tuning=False,\u001B[39;49;00m\n\u001B[1;32m     12\u001B[0m \u001B[43m                                                 \u001B[49m\u001B[38;5;66;43;03m# tuned_params_df_paths=tuned_params_df_paths,\u001B[39;49;00m\n\u001B[1;32m     13\u001B[0m \u001B[43m                                                 \u001B[49m\u001B[43msave_results_dir_path\u001B[49m\u001B[38;5;241;43m=\u001B[39;49m\u001B[43mSAVE_RESULTS_DIR_PATH\u001B[49m\u001B[43m,\u001B[49m\n\u001B[1;32m     14\u001B[0m \u001B[43m                                                 \u001B[49m\u001B[43mverbose\u001B[49m\u001B[38;5;241;43m=\u001B[39;49m\u001B[38;5;28;43;01mTrue\u001B[39;49;00m\u001B[43m)\u001B[49m\n",
      "File \u001B[0;32m~/UCU/4course_2term/Bachelor_Thesis/Code/fairness-variance/source/experiment_interface.py:199\u001B[0m, in \u001B[0;36mrun_exp_iter_with_disparate_impact_and_mult_sets\u001B[0;34m(data_loader, extra_data_loaders, experiment_seed, test_set_fraction, db_writer_func, fair_intervention_params_lst, models_params_for_tuning, metrics_computation_config, custom_table_fields_dct, with_tuning, save_results_dir_path, tuned_params_df_paths, num_folds_for_tuning, verbose)\u001B[0m\n\u001B[1;32m    195\u001B[0m custom_table_fields_dct[\u001B[38;5;124m'\u001B[39m\u001B[38;5;124mintervention_param\u001B[39m\u001B[38;5;124m'\u001B[39m] \u001B[38;5;241m=\u001B[39m intervention_param\n\u001B[1;32m    197\u001B[0m \u001B[38;5;66;03m# Fair preprocessing\u001B[39;00m\n\u001B[1;32m    198\u001B[0m cur_base_flow_dataset, cur_extra_test_sets \u001B[38;5;241m=\u001B[39m\\\n\u001B[0;32m--> 199\u001B[0m     \u001B[43mremove_disparate_impact_with_mult_sets\u001B[49m\u001B[43m(\u001B[49m\u001B[43minit_base_flow_dataset\u001B[49m\u001B[43m,\u001B[49m\u001B[43m \u001B[49m\u001B[43malpha\u001B[49m\u001B[38;5;241;43m=\u001B[39;49m\u001B[43mintervention_param\u001B[49m\u001B[43m,\u001B[49m\n\u001B[1;32m    200\u001B[0m \u001B[43m                                           \u001B[49m\u001B[43minit_extra_base_flow_datasets\u001B[49m\u001B[38;5;241;43m=\u001B[39;49m\u001B[43mextra_base_flow_datasets\u001B[49m\u001B[43m)\u001B[49m\n\u001B[1;32m    202\u001B[0m \u001B[38;5;66;03m# Tune model parameters if needed\u001B[39;00m\n\u001B[1;32m    203\u001B[0m \u001B[38;5;28;01mif\u001B[39;00m with_tuning:\n\u001B[1;32m    204\u001B[0m     \u001B[38;5;66;03m# Tune models and create a models config for metrics computation\u001B[39;00m\n",
      "File \u001B[0;32m~/UCU/4course_2term/Bachelor_Thesis/Code/fairness-variance/source/preprocessing.py:137\u001B[0m, in \u001B[0;36mremove_disparate_impact_with_mult_sets\u001B[0;34m(init_base_flow_dataset, alpha, init_extra_base_flow_datasets)\u001B[0m\n\u001B[1;32m    130\u001B[0m test_binary_dataset \u001B[38;5;241m=\u001B[39m BinaryLabelDataset(df\u001B[38;5;241m=\u001B[39mtest_df,\n\u001B[1;32m    131\u001B[0m                                          label_names\u001B[38;5;241m=\u001B[39m[main_base_flow_dataset\u001B[38;5;241m.\u001B[39mtarget],\n\u001B[1;32m    132\u001B[0m                                          protected_attribute_names\u001B[38;5;241m=\u001B[39m[sensitive_attribute],\n\u001B[1;32m    133\u001B[0m                                          favorable_label\u001B[38;5;241m=\u001B[39m\u001B[38;5;241m1\u001B[39m,\n\u001B[1;32m    134\u001B[0m                                          unfavorable_label\u001B[38;5;241m=\u001B[39m\u001B[38;5;241m0\u001B[39m)\n\u001B[1;32m    136\u001B[0m di \u001B[38;5;241m=\u001B[39m DisparateImpactRemover(repair_level\u001B[38;5;241m=\u001B[39malpha, sensitive_attribute\u001B[38;5;241m=\u001B[39msensitive_attribute)\n\u001B[0;32m--> 137\u001B[0m train_repaired_df, _ \u001B[38;5;241m=\u001B[39m \u001B[43mdi\u001B[49m\u001B[38;5;241;43m.\u001B[39;49m\u001B[43mfit_transform\u001B[49m\u001B[43m(\u001B[49m\u001B[43mtrain_binary_dataset\u001B[49m\u001B[43m)\u001B[49m\u001B[38;5;241m.\u001B[39mconvert_to_dataframe()\n\u001B[1;32m    138\u001B[0m test_repaired_df , _ \u001B[38;5;241m=\u001B[39m di\u001B[38;5;241m.\u001B[39mfit_transform(test_binary_dataset)\u001B[38;5;241m.\u001B[39mconvert_to_dataframe()\n\u001B[1;32m    139\u001B[0m train_repaired_df\u001B[38;5;241m.\u001B[39mindex \u001B[38;5;241m=\u001B[39m train_repaired_df\u001B[38;5;241m.\u001B[39mindex\u001B[38;5;241m.\u001B[39mastype(dtype\u001B[38;5;241m=\u001B[39m\u001B[38;5;124m'\u001B[39m\u001B[38;5;124mint64\u001B[39m\u001B[38;5;124m'\u001B[39m)\n",
      "File \u001B[0;32m~/UCU/4course_2term/Bachelor_Thesis/Code/fairness-variance/faact_venv/lib/python3.8/site-packages/aif360/algorithms/transformer.py:27\u001B[0m, in \u001B[0;36maddmetadata.<locals>.wrapper\u001B[0;34m(self, *args, **kwargs)\u001B[0m\n\u001B[1;32m     25\u001B[0m \u001B[38;5;129m@wraps\u001B[39m(func)\n\u001B[1;32m     26\u001B[0m \u001B[38;5;28;01mdef\u001B[39;00m \u001B[38;5;21mwrapper\u001B[39m(\u001B[38;5;28mself\u001B[39m, \u001B[38;5;241m*\u001B[39margs, \u001B[38;5;241m*\u001B[39m\u001B[38;5;241m*\u001B[39mkwargs):\n\u001B[0;32m---> 27\u001B[0m     new_dataset \u001B[38;5;241m=\u001B[39m \u001B[43mfunc\u001B[49m\u001B[43m(\u001B[49m\u001B[38;5;28;43mself\u001B[39;49m\u001B[43m,\u001B[49m\u001B[43m \u001B[49m\u001B[38;5;241;43m*\u001B[39;49m\u001B[43margs\u001B[49m\u001B[43m,\u001B[49m\u001B[43m \u001B[49m\u001B[38;5;241;43m*\u001B[39;49m\u001B[38;5;241;43m*\u001B[39;49m\u001B[43mkwargs\u001B[49m\u001B[43m)\u001B[49m\n\u001B[1;32m     28\u001B[0m     \u001B[38;5;28;01mif\u001B[39;00m \u001B[38;5;28misinstance\u001B[39m(new_dataset, Dataset):\n\u001B[1;32m     29\u001B[0m         new_dataset\u001B[38;5;241m.\u001B[39mmetadata \u001B[38;5;241m=\u001B[39m new_dataset\u001B[38;5;241m.\u001B[39mmetadata\u001B[38;5;241m.\u001B[39mcopy()\n",
      "File \u001B[0;32m~/UCU/4course_2term/Bachelor_Thesis/Code/fairness-variance/faact_venv/lib/python3.8/site-packages/aif360/algorithms/preprocessing/disparate_impact_remover.py:60\u001B[0m, in \u001B[0;36mDisparateImpactRemover.fit_transform\u001B[0;34m(self, dataset)\u001B[0m\n\u001B[1;32m     57\u001B[0m repairer \u001B[38;5;241m=\u001B[39m \u001B[38;5;28mself\u001B[39m\u001B[38;5;241m.\u001B[39mRepairer(features, index, \u001B[38;5;28mself\u001B[39m\u001B[38;5;241m.\u001B[39mrepair_level, \u001B[38;5;28;01mFalse\u001B[39;00m)\n\u001B[1;32m     59\u001B[0m repaired \u001B[38;5;241m=\u001B[39m dataset\u001B[38;5;241m.\u001B[39mcopy()\n\u001B[0;32m---> 60\u001B[0m repaired_features \u001B[38;5;241m=\u001B[39m \u001B[43mrepairer\u001B[49m\u001B[38;5;241;43m.\u001B[39;49m\u001B[43mrepair\u001B[49m\u001B[43m(\u001B[49m\u001B[43mfeatures\u001B[49m\u001B[43m)\u001B[49m\n\u001B[1;32m     61\u001B[0m repaired\u001B[38;5;241m.\u001B[39mfeatures \u001B[38;5;241m=\u001B[39m np\u001B[38;5;241m.\u001B[39marray(repaired_features, dtype\u001B[38;5;241m=\u001B[39mnp\u001B[38;5;241m.\u001B[39mfloat64)\n\u001B[1;32m     62\u001B[0m \u001B[38;5;66;03m# protected attribute shouldn't change\u001B[39;00m\n",
      "File \u001B[0;32m~/UCU/4course_2term/Bachelor_Thesis/Code/fairness-variance/faact_venv/lib/python3.8/site-packages/BlackBoxAuditing/repairers/GeneralRepairer.py:20\u001B[0m, in \u001B[0;36mRepairer.repair\u001B[0;34m(self, data_to_repair)\u001B[0m\n\u001B[1;32m     19\u001B[0m \u001B[38;5;28;01mdef\u001B[39;00m \u001B[38;5;21mrepair\u001B[39m(\u001B[38;5;28mself\u001B[39m, data_to_repair):\n\u001B[0;32m---> 20\u001B[0m   \u001B[38;5;28;01mreturn\u001B[39;00m \u001B[38;5;28;43mself\u001B[39;49m\u001B[38;5;241;43m.\u001B[39;49m\u001B[43mrepairer\u001B[49m\u001B[38;5;241;43m.\u001B[39;49m\u001B[43mrepair\u001B[49m\u001B[43m(\u001B[49m\u001B[43mdata_to_repair\u001B[49m\u001B[43m)\u001B[49m\n",
      "File \u001B[0;32m~/UCU/4course_2term/Bachelor_Thesis/Code/fairness-variance/faact_venv/lib/python3.8/site-packages/BlackBoxAuditing/repairers/NumericRepairer.py:28\u001B[0m, in \u001B[0;36mRepairer.repair\u001B[0;34m(self, data_to_repair)\u001B[0m\n\u001B[1;32m     25\u001B[0m   category_vals \u001B[38;5;241m=\u001B[39m [data_to_repair[j][\u001B[38;5;28mself\u001B[39m\u001B[38;5;241m.\u001B[39mfeature_to_repair] \u001B[38;5;28;01mfor\u001B[39;00m j \u001B[38;5;129;01min\u001B[39;00m index_bin]\n\u001B[1;32m     26\u001B[0m   category_medians[bin_name] \u001B[38;5;241m=\u001B[39m get_median(category_vals, \u001B[38;5;28mself\u001B[39m\u001B[38;5;241m.\u001B[39mkdd)\n\u001B[0;32m---> 28\u001B[0m repaired_data \u001B[38;5;241m=\u001B[39m \u001B[38;5;28;43mself\u001B[39;49m\u001B[38;5;241;43m.\u001B[39;49m\u001B[43mcategoric_repairer\u001B[49m\u001B[38;5;241;43m.\u001B[39;49m\u001B[43mrepair\u001B[49m\u001B[43m(\u001B[49m\u001B[43mbinned_data\u001B[49m\u001B[43m)\u001B[49m\n\u001B[1;32m     30\u001B[0m \u001B[38;5;66;03m# Replace the \"feature_to_repair\" column with the median numeric value.\u001B[39;00m\n\u001B[1;32m     31\u001B[0m \u001B[38;5;28;01mfor\u001B[39;00m i \u001B[38;5;129;01min\u001B[39;00m \u001B[38;5;28mrange\u001B[39m(\u001B[38;5;28mlen\u001B[39m(repaired_data)):\n",
      "File \u001B[0;32m~/UCU/4course_2term/Bachelor_Thesis/Code/fairness-variance/faact_venv/lib/python3.8/site-packages/BlackBoxAuditing/repairers/CategoricRepairer.py:161\u001B[0m, in \u001B[0;36mRepairer.repair\u001B[0;34m(self, data_to_repair)\u001B[0m\n\u001B[1;32m    158\u001B[0m         repaired_value \u001B[38;5;241m=\u001B[39m unique_col_vals[col_id][index_of_repair_value]\n\u001B[1;32m    160\u001B[0m         \u001B[38;5;66;03m# Update data to repaired valued\u001B[39;00m\n\u001B[0;32m--> 161\u001B[0m         \u001B[43mdata_dict\u001B[49m\u001B[43m[\u001B[49m\u001B[43mcol_id\u001B[49m\u001B[43m]\u001B[49m\u001B[43m[\u001B[49m\u001B[43mindex\u001B[49m\u001B[43m]\u001B[49m \u001B[38;5;241m=\u001B[39m repaired_value\n\u001B[1;32m    163\u001B[0m \u001B[38;5;66;03m#Categorical Repair is done below\u001B[39;00m\n\u001B[1;32m    164\u001B[0m \u001B[38;5;28;01melif\u001B[39;00m repair_types[col_id] \u001B[38;5;129;01min\u001B[39;00m {\u001B[38;5;28mstr\u001B[39m}:\n",
      "\u001B[0;31mKeyboardInterrupt\u001B[0m: "
     ]
    }
   ],
   "source": [
    "run_exp_iter_with_disparate_impact_and_mult_sets(data_loader=exp_iter_data_loader,\n",
    "                                                 extra_data_loaders=exp_extra_data_loaders,\n",
    "                                                 experiment_seed=experiment_seed,\n",
    "                                                 test_set_fraction=TEST_SET_FRACTION,\n",
    "                                                 db_writer_func=db_writer_func,\n",
    "                                                 fair_intervention_params_lst=FAIR_INTERVENTION_PARAMS_LST,\n",
    "                                                 models_params_for_tuning=models_params_for_tuning,\n",
    "                                                 metrics_computation_config=metrics_computation_config,\n",
    "                                                 custom_table_fields_dct=custom_table_fields_dct,\n",
    "                                                 with_tuning=True,\n",
    "                                                 # with_tuning=False,\n",
    "                                                 # tuned_params_df_paths=tuned_params_df_paths,\n",
    "                                                 save_results_dir_path=SAVE_RESULTS_DIR_PATH,\n",
    "                                                 verbose=True)"
   ]
  },
  {
   "cell_type": "markdown",
   "id": "f2bd6bf7",
   "metadata": {},
   "source": [
    "### Experiment iteration 2"
   ]
  },
  {
   "cell_type": "code",
   "execution_count": 18,
   "id": "bea2fbdf",
   "metadata": {},
   "outputs": [],
   "source": [
    "# Configs for an experiment iteration\n",
    "exp_iter_num = 2\n",
    "experiment_seed = EXPERIMENT_SEEDS[exp_iter_num - 1]\n",
    "tuned_params_filenames = [\n",
    "    'tuning_results_Folktables_GA_2018_Income_alpha_0.0_20230723__005125.csv',\n",
    "    'tuning_results_Folktables_GA_2018_Income_alpha_0.1_20230723__013608.csv',\n",
    "    'tuning_results_Folktables_GA_2018_Income_alpha_0.2_20230723__021138.csv',\n",
    "    'tuning_results_Folktables_GA_2018_Income_alpha_0.3_20230723__040607.csv',\n",
    "    'tuning_results_Folktables_GA_2018_Income_alpha_0.4_20230723__005850.csv',\n",
    "    'tuning_results_Folktables_GA_2018_Income_alpha_0.5_20230723__014556.csv',\n",
    "]\n",
    "tuned_params_df_paths = [os.path.join(ROOT_DIR, 'results', EXPERIMENT_NAME, tuned_params_filename)\n",
    "                         for tuned_params_filename in tuned_params_filenames]\n",
    "custom_table_fields_dct['experiment_iteration'] = f'Exp_iter_{exp_iter_num}'\n",
    "\n",
    "exp_iter_data_loader = copy.deepcopy(data_loader)  # Add deepcopy to avoid data leakage\n",
    "models_params_for_tuning = get_folktables_employment_models_params_for_tuning(experiment_seed)"
   ]
  },
  {
   "cell_type": "code",
   "execution_count": 4,
   "id": "00446747",
   "metadata": {},
   "outputs": [],
   "source": [
    "# run_exp_iter_with_disparate_impact(data_loader=exp_iter_data_loader,\n",
    "#                                    experiment_seed=experiment_seed,\n",
    "#                                    test_set_fraction=TEST_SET_FRACTION,\n",
    "#                                    db_writer_func=db_writer_func,\n",
    "#                                    fair_intervention_params_lst=FAIR_INTERVENTION_PARAMS_LST,\n",
    "#                                    models_params_for_tuning=models_params_for_tuning,\n",
    "#                                    metrics_computation_config=metrics_computation_config,\n",
    "#                                    custom_table_fields_dct=custom_table_fields_dct,\n",
    "# #                                    with_tuning=True,\n",
    "#                                    with_tuning=False,\n",
    "#                                    tuned_params_df_paths=tuned_params_df_paths,\n",
    "#                                    save_results_dir_path=SAVE_RESULTS_DIR_PATH,\n",
    "#                                    verbose=True)"
   ]
  },
  {
   "cell_type": "markdown",
   "id": "731c6a15",
   "metadata": {},
   "source": [
    "### Experiment iteration 3"
   ]
  },
  {
   "cell_type": "markdown",
   "id": "70fcaacb",
   "metadata": {},
   "source": [
    "### Experiment iteration 4"
   ]
  },
  {
   "cell_type": "markdown",
   "id": "e43bbf98",
   "metadata": {},
   "source": [
    "### Experiment iteration 5"
   ]
  },
  {
   "cell_type": "markdown",
   "id": "e2f1624f",
   "metadata": {},
   "source": [
    "### Experiment iteration 6"
   ]
  },
  {
   "cell_type": "code",
   "execution_count": null,
   "id": "8d760dc3",
   "metadata": {},
   "outputs": [],
   "source": []
  }
 ],
 "metadata": {
  "kernelspec": {
   "display_name": "Python 3",
   "language": "python",
   "name": "python3"
  },
  "language_info": {
   "codemirror_mode": {
    "name": "ipython",
    "version": 3
   },
   "file_extension": ".py",
   "mimetype": "text/x-python",
   "name": "python",
   "nbconvert_exporter": "python",
   "pygments_lexer": "ipython3",
   "version": "3.8.5"
  }
 },
 "nbformat": 4,
 "nbformat_minor": 5
}
