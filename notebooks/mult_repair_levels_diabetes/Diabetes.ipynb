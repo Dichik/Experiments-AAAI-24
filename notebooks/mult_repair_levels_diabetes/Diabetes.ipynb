{
 "cells": [
  {
   "cell_type": "code",
   "execution_count": 15,
   "id": "78b09e23",
   "metadata": {},
   "outputs": [],
   "source": [
    "# !pip install -r ./requirements.txt"
   ]
  },
  {
   "cell_type": "code",
   "execution_count": 18,
   "id": "d89cbc18",
   "metadata": {},
   "outputs": [],
   "source": [
    "# !pip uninstall virny -y"
   ]
  },
  {
   "cell_type": "code",
   "execution_count": 4,
   "id": "9b3d208f",
   "metadata": {},
   "outputs": [],
   "source": [
    "# Install using an HTTP link\n",
    "# !pip install git+https://github.com/DataResponsibly/Virny.git@development\n",
    "\n",
    "# Install using an SSH link\n",
    "# !pip install git+ssh://git@github.com/DataResponsibly/Virny.git@development"
   ]
  },
  {
   "cell_type": "code",
   "execution_count": 5,
   "id": "55610a9e",
   "metadata": {},
   "outputs": [],
   "source": [
    "# !pip install aif360"
   ]
  },
  {
   "cell_type": "code",
   "execution_count": 6,
   "id": "5431bf42",
   "metadata": {},
   "outputs": [],
   "source": [
    "# !pip install BlackBoxAuditing==0.1.54"
   ]
  },
  {
   "cell_type": "code",
   "execution_count": 1,
   "id": "1e39a21e",
   "metadata": {},
   "outputs": [],
   "source": [
    "%matplotlib inline\n",
    "%load_ext autoreload\n",
    "%autoreload 2"
   ]
  },
  {
   "cell_type": "code",
   "execution_count": 2,
   "id": "fd7afb46",
   "metadata": {},
   "outputs": [],
   "source": [
    "import os\n",
    "import warnings\n",
    "warnings.filterwarnings('ignore')\n",
    "os.environ[\"PYTHONWARNINGS\"] = \"ignore\""
   ]
  },
  {
   "cell_type": "code",
   "execution_count": 3,
   "id": "7a0c3dd6",
   "metadata": {},
   "outputs": [
    {
     "name": "stdout",
     "output_type": "stream",
     "text": [
      "Current location:  /home/denys_herasymuk/UCU/4course_2term/Bachelor_Thesis/Code/fairness-variance\n"
     ]
    }
   ],
   "source": [
    "cur_folder_name = os.getcwd().split('/')[-1]\n",
    "if cur_folder_name != \"fairness-variance\":\n",
    "    os.chdir(\"../..\")\n",
    "\n",
    "print('Current location: ', os.getcwd())"
   ]
  },
  {
   "cell_type": "markdown",
   "id": "52625a6c",
   "metadata": {},
   "source": [
    "## Import dependencies"
   ]
  },
  {
   "cell_type": "code",
   "execution_count": 4,
   "id": "aa2d2637",
   "metadata": {},
   "outputs": [
    {
     "name": "stderr",
     "output_type": "stream",
     "text": [
      "WARNING:root:No module named 'tempeh': LawSchoolGPADataset will be unavailable. To install, run:\n",
      "pip install 'aif360[LawSchoolGPA]'\n",
      "WARNING:root:No module named 'tensorflow': AdversarialDebiasing will be unavailable. To install, run:\n",
      "pip install 'aif360[AdversarialDebiasing]'\n",
      "WARNING:root:No module named 'tensorflow': AdversarialDebiasing will be unavailable. To install, run:\n",
      "pip install 'aif360[AdversarialDebiasing]'\n"
     ]
    }
   ],
   "source": [
    "import os\n",
    "import copy\n",
    "\n",
    "from virny.utils.custom_initializers import create_config_obj\n",
    "from virny.datasets import DiabetesDataset\n",
    "\n",
    "from configs.constants import TEST_SET_FRACTION, EXPERIMENT_SEEDS\n",
    "from configs.models_config_for_tuning import get_model_params_for_mult_repair_levels\n",
    "\n",
    "from source.preprocessing import get_preprocessor_for_diabetes\n",
    "from source.experiment_interface import run_exp_iter_with_disparate_impact"
   ]
  },
  {
   "cell_type": "markdown",
   "id": "f944def4",
   "metadata": {},
   "source": [
    "## Define Input Variables"
   ]
  },
  {
   "cell_type": "code",
   "execution_count": 5,
   "id": "3c90b269",
   "metadata": {},
   "outputs": [],
   "source": [
    "# ROOT_DIR = os.path.join(os.getcwd(), \"..\", \"..\")\n",
    "ROOT_DIR = os.getcwd()\n",
    "EXPERIMENT_NAME = 'mult_repair_levels_diabetes'\n",
    "DB_COLLECTION_NAME = 'exp_mult_repair_levels'\n",
    "SAVE_RESULTS_DIR_PATH = os.path.join(ROOT_DIR, 'results', EXPERIMENT_NAME)\n",
    "# FAIR_INTERVENTION_PARAMS_LST = [0.0, 0.1, 0.2, 0.3, 0.4, 0.5, 0.6, 0.7, 0.8, 0.9, 1.0]\n",
    "FAIR_INTERVENTION_PARAMS_LST = [0.0, 0.2, 0.4]\n",
    "\n",
    "config_yaml_path = os.path.join(ROOT_DIR, 'notebooks', EXPERIMENT_NAME, 'diabetes_config.yaml')\n",
    "metrics_computation_config = create_config_obj(config_yaml_path=config_yaml_path)"
   ]
  },
  {
   "cell_type": "markdown",
   "id": "536f226f",
   "metadata": {},
   "source": [
    "## Define a db writer and custom fields to insert into your database"
   ]
  },
  {
   "cell_type": "code",
   "execution_count": 6,
   "id": "045c6566",
   "metadata": {},
   "outputs": [
    {
     "data": {
      "text/plain": "'fairness_variance'"
     },
     "execution_count": 6,
     "metadata": {},
     "output_type": "execute_result"
    }
   ],
   "source": [
    "import os\n",
    "from dotenv import load_dotenv\n",
    "\n",
    "load_dotenv('./configs/secrets.env')\n",
    "os.getenv(\"DB_NAME\")"
   ]
  },
  {
   "cell_type": "code",
   "execution_count": 7,
   "id": "1c59354a",
   "metadata": {},
   "outputs": [],
   "source": [
    "from source.utils.db_functions import connect_to_mongodb\n",
    "\n",
    "client, collection_obj, db_writer_func = connect_to_mongodb(DB_COLLECTION_NAME)"
   ]
  },
  {
   "cell_type": "code",
   "execution_count": 8,
   "id": "b599c05f",
   "metadata": {},
   "outputs": [
    {
     "name": "stdout",
     "output_type": "stream",
     "text": [
      "Current session uuid:  163da20d-0491-493d-b718-b33de7b259fd\n"
     ]
    }
   ],
   "source": [
    "import uuid\n",
    "\n",
    "custom_table_fields_dct = {\n",
    "    # 'session_uuid': str(uuid.uuid4()),\n",
    "    'session_uuid': '163da20d-0491-493d-b718-b33de7b259fd',\n",
    "}\n",
    "print('Current session uuid: ', custom_table_fields_dct['session_uuid'])"
   ]
  },
  {
   "cell_type": "markdown",
   "id": "9d735d1f",
   "metadata": {},
   "source": [
    "## Initialize custom objects"
   ]
  },
  {
   "cell_type": "code",
   "execution_count": 9,
   "id": "d246bf38",
   "metadata": {},
   "outputs": [
    {
     "data": {
      "text/plain": "   number_diagnoses  time_in_hospital  num_lab_procedures  num_procedures  \\\n0                 9                 3                  59               0   \n1                 9                 3                  31               6   \n2                 8                 5                  73               0   \n3                 9                 9                  47               2   \n4                 7                 7                  62               0   \n\n   num_medications  number_outpatient  number_emergency  number_inpatient  \\\n0               18                  0                 0                 0   \n1               16                  0                 0                 0   \n2               12                  0                 0                 0   \n3               17                  0                 0                 0   \n4               11                  0                 0                 0   \n\n              race  gender  ... examide citoglipton insulin  \\\n0        Caucasian  Female  ...      No          No      Up   \n1        Caucasian    Male  ...      No          No  Steady   \n2        Caucasian    Male  ...      No          No      No   \n3  AfricanAmerican  Female  ...      No          No  Steady   \n4  AfricanAmerican    Male  ...      No          No  Steady   \n\n  glyburide-metformin  glipizide-metformin  glimepiride-pioglitazone  \\\n0                  No                   No                        No   \n1                  No                   No                        No   \n2                  No                   No                        No   \n3                  No                   No                        No   \n4                  No                   No                        No   \n\n   metformin-rosiglitazone metformin-pioglitazone change diabetesMed  \n0                       No                     No     Ch         Yes  \n1                       No                     No     No         Yes  \n2                       No                     No     No         Yes  \n3                       No                     No     No         Yes  \n4                       No                     No     Ch         Yes  \n\n[5 rows x 44 columns]",
      "text/html": "<div>\n<style scoped>\n    .dataframe tbody tr th:only-of-type {\n        vertical-align: middle;\n    }\n\n    .dataframe tbody tr th {\n        vertical-align: top;\n    }\n\n    .dataframe thead th {\n        text-align: right;\n    }\n</style>\n<table border=\"1\" class=\"dataframe\">\n  <thead>\n    <tr style=\"text-align: right;\">\n      <th></th>\n      <th>number_diagnoses</th>\n      <th>time_in_hospital</th>\n      <th>num_lab_procedures</th>\n      <th>num_procedures</th>\n      <th>num_medications</th>\n      <th>number_outpatient</th>\n      <th>number_emergency</th>\n      <th>number_inpatient</th>\n      <th>race</th>\n      <th>gender</th>\n      <th>...</th>\n      <th>examide</th>\n      <th>citoglipton</th>\n      <th>insulin</th>\n      <th>glyburide-metformin</th>\n      <th>glipizide-metformin</th>\n      <th>glimepiride-pioglitazone</th>\n      <th>metformin-rosiglitazone</th>\n      <th>metformin-pioglitazone</th>\n      <th>change</th>\n      <th>diabetesMed</th>\n    </tr>\n  </thead>\n  <tbody>\n    <tr>\n      <th>0</th>\n      <td>9</td>\n      <td>3</td>\n      <td>59</td>\n      <td>0</td>\n      <td>18</td>\n      <td>0</td>\n      <td>0</td>\n      <td>0</td>\n      <td>Caucasian</td>\n      <td>Female</td>\n      <td>...</td>\n      <td>No</td>\n      <td>No</td>\n      <td>Up</td>\n      <td>No</td>\n      <td>No</td>\n      <td>No</td>\n      <td>No</td>\n      <td>No</td>\n      <td>Ch</td>\n      <td>Yes</td>\n    </tr>\n    <tr>\n      <th>1</th>\n      <td>9</td>\n      <td>3</td>\n      <td>31</td>\n      <td>6</td>\n      <td>16</td>\n      <td>0</td>\n      <td>0</td>\n      <td>0</td>\n      <td>Caucasian</td>\n      <td>Male</td>\n      <td>...</td>\n      <td>No</td>\n      <td>No</td>\n      <td>Steady</td>\n      <td>No</td>\n      <td>No</td>\n      <td>No</td>\n      <td>No</td>\n      <td>No</td>\n      <td>No</td>\n      <td>Yes</td>\n    </tr>\n    <tr>\n      <th>2</th>\n      <td>8</td>\n      <td>5</td>\n      <td>73</td>\n      <td>0</td>\n      <td>12</td>\n      <td>0</td>\n      <td>0</td>\n      <td>0</td>\n      <td>Caucasian</td>\n      <td>Male</td>\n      <td>...</td>\n      <td>No</td>\n      <td>No</td>\n      <td>No</td>\n      <td>No</td>\n      <td>No</td>\n      <td>No</td>\n      <td>No</td>\n      <td>No</td>\n      <td>No</td>\n      <td>Yes</td>\n    </tr>\n    <tr>\n      <th>3</th>\n      <td>9</td>\n      <td>9</td>\n      <td>47</td>\n      <td>2</td>\n      <td>17</td>\n      <td>0</td>\n      <td>0</td>\n      <td>0</td>\n      <td>AfricanAmerican</td>\n      <td>Female</td>\n      <td>...</td>\n      <td>No</td>\n      <td>No</td>\n      <td>Steady</td>\n      <td>No</td>\n      <td>No</td>\n      <td>No</td>\n      <td>No</td>\n      <td>No</td>\n      <td>No</td>\n      <td>Yes</td>\n    </tr>\n    <tr>\n      <th>4</th>\n      <td>7</td>\n      <td>7</td>\n      <td>62</td>\n      <td>0</td>\n      <td>11</td>\n      <td>0</td>\n      <td>0</td>\n      <td>0</td>\n      <td>AfricanAmerican</td>\n      <td>Male</td>\n      <td>...</td>\n      <td>No</td>\n      <td>No</td>\n      <td>Steady</td>\n      <td>No</td>\n      <td>No</td>\n      <td>No</td>\n      <td>No</td>\n      <td>No</td>\n      <td>Ch</td>\n      <td>Yes</td>\n    </tr>\n  </tbody>\n</table>\n<p>5 rows × 44 columns</p>\n</div>"
     },
     "execution_count": 9,
     "metadata": {},
     "output_type": "execute_result"
    }
   ],
   "source": [
    "data_loader = DiabetesDataset(dataset_path='./data/diabetes-clean.csv')\n",
    "data_loader.categorical_columns = [col for col in data_loader.categorical_columns if col not in ('diag_1', 'diag_2', 'diag_3')]\n",
    "data_loader.X_data.head()"
   ]
  },
  {
   "cell_type": "code",
   "execution_count": 10,
   "outputs": [
    {
     "data": {
      "text/plain": "0    34649\n1    11066\nName: readmitted, dtype: int64"
     },
     "execution_count": 10,
     "metadata": {},
     "output_type": "execute_result"
    }
   ],
   "source": [
    "data_loader.y_data.value_counts()"
   ],
   "metadata": {
    "collapsed": false
   }
  },
  {
   "cell_type": "code",
   "execution_count": 11,
   "id": "e7bc3ca6",
   "metadata": {},
   "outputs": [
    {
     "data": {
      "text/plain": "(45715, 44)"
     },
     "execution_count": 11,
     "metadata": {},
     "output_type": "execute_result"
    }
   ],
   "source": [
    "data_loader.X_data.shape"
   ]
  },
  {
   "cell_type": "code",
   "execution_count": 12,
   "outputs": [
    {
     "data": {
      "text/plain": "diag_1    0\ndiag_2    0\ndiag_3    0\ndtype: int64"
     },
     "execution_count": 12,
     "metadata": {},
     "output_type": "execute_result"
    }
   ],
   "source": [
    "data_loader.X_data[['diag_1', 'diag_2', 'diag_3']].isna().sum()"
   ],
   "metadata": {
    "collapsed": false
   }
  },
  {
   "cell_type": "code",
   "execution_count": 13,
   "outputs": [
    {
     "data": {
      "text/plain": "array(['Caucasian', 'AfricanAmerican', 'Other', 'Hispanic', 'Asian'],\n      dtype=object)"
     },
     "execution_count": 13,
     "metadata": {},
     "output_type": "execute_result"
    }
   ],
   "source": [
    "data_loader.X_data['race'].unique()"
   ],
   "metadata": {
    "collapsed": false
   }
  },
  {
   "cell_type": "code",
   "execution_count": 14,
   "outputs": [
    {
     "data": {
      "text/plain": "array(['Female', 'Male'], dtype=object)"
     },
     "execution_count": 14,
     "metadata": {},
     "output_type": "execute_result"
    }
   ],
   "source": [
    "data_loader.X_data['gender'].unique()"
   ],
   "metadata": {
    "collapsed": false
   }
  },
  {
   "cell_type": "code",
   "execution_count": 15,
   "outputs": [
    {
     "data": {
      "text/plain": "0    34649\n1    11066\nName: readmitted, dtype: int64"
     },
     "execution_count": 15,
     "metadata": {},
     "output_type": "execute_result"
    }
   ],
   "source": [
    "data_loader.y_data.value_counts()"
   ],
   "metadata": {
    "collapsed": false
   }
  },
  {
   "cell_type": "code",
   "execution_count": 15,
   "outputs": [],
   "source": [],
   "metadata": {
    "collapsed": false
   }
  },
  {
   "cell_type": "code",
   "execution_count": 20,
   "outputs": [],
   "source": [
    "from virny.preprocessing.basic_preprocessing import preprocess_dataset\n",
    "from source.preprocessing import remove_disparate_impact\n",
    "\n",
    "exp_iter_data_loader = copy.deepcopy(data_loader)  # Add deepcopy to avoid data leakage\n",
    "exp_iter_data_loader.categorical_columns = [col for col in exp_iter_data_loader.categorical_columns if col not in ('gender', 'race')]\n",
    "exp_iter_data_loader.X_data['race_binary'] = exp_iter_data_loader.X_data['race'].apply(lambda x: 1 if x == 'Caucasian' else 0)\n",
    "exp_iter_data_loader.full_df = exp_iter_data_loader.full_df.drop(['gender', 'race'], axis=1)\n",
    "exp_iter_data_loader.X_data = exp_iter_data_loader.X_data.drop(['gender', 'race'], axis=1)\n",
    "\n",
    "column_transformer = get_preprocessor_for_diabetes(exp_iter_data_loader)\n",
    "init_base_flow_dataset = preprocess_dataset(data_loader, column_transformer, TEST_SET_FRACTION, dataset_split_seed=100)\n",
    "init_base_flow_dataset.X_train_val['race_binary'] = exp_iter_data_loader.X_data.loc[init_base_flow_dataset.X_train_val.index, 'race_binary']\n",
    "init_base_flow_dataset.X_test['race_binary'] = exp_iter_data_loader.X_data.loc[init_base_flow_dataset.X_test.index, 'race_binary']"
   ],
   "metadata": {
    "collapsed": false
   }
  },
  {
   "cell_type": "code",
   "execution_count": 21,
   "outputs": [],
   "source": [
    "base_flow_dataset = remove_disparate_impact(init_base_flow_dataset, alpha=0.6)"
   ],
   "metadata": {
    "collapsed": false
   }
  },
  {
   "cell_type": "code",
   "execution_count": 22,
   "outputs": [
    {
     "data": {
      "text/plain": "       cat__age_[0-10)  cat__age_[10-20)  cat__age_[20-30)  cat__age_[30-40)  \\\n21652              0.0               0.0               0.0               0.0   \n40167              0.0               0.0               0.0               0.0   \n6145               0.0               0.0               0.0               0.0   \n29567              0.0               0.0               0.0               0.0   \n6210               0.0               0.0               0.0               0.0   \n\n       cat__age_[40-50)  cat__age_[50-60)  cat__age_[60-70)  cat__age_[70-80)  \\\n21652               0.0               0.0               0.0               0.0   \n40167               0.0               0.0               0.0               1.0   \n6145                0.0               0.0               0.0               1.0   \n29567               1.0               0.0               0.0               0.0   \n6210                0.0               0.0               0.0               1.0   \n\n       cat__age_[80-90)  cat__age_[90-100)  ...  enc__diag_2  enc__diag_3  \\\n21652               1.0                0.0  ...        336.0        401.0   \n40167               0.0                0.0  ...        110.0        240.0   \n6145                0.0                0.0  ...        252.0        229.0   \n29567               0.0                0.0  ...        574.0         18.0   \n6210                0.0                0.0  ...        539.0        333.0   \n\n       num__number_diagnoses  num__time_in_hospital  num__num_lab_procedures  \\\n21652               0.165281               1.472831                 1.745569   \n40167               0.165281              -0.192041                -0.099506   \n6145                0.165281               1.472831                 1.694317   \n29567              -0.994954              -1.190965                -0.765783   \n6210                0.165281               3.137704                 1.745569   \n\n       num__num_procedures  num__num_medications  num__number_outpatient  \\\n21652             0.438222              0.062790               -0.323894   \n40167            -0.762203             -1.099834               -0.323894   \n6145             -0.161990              0.708691               -0.323894   \n29567            -0.762203             -0.970654               -0.323894   \n6210              2.839073              2.904758               -0.323894   \n\n       num__number_emergency  num__number_inpatient  \n21652              -0.247384               0.038980  \n40167              -0.247384              -0.603038  \n6145               -0.247384              -0.603038  \n29567              -0.247384              -0.603038  \n6210               -0.247384              -0.603038  \n\n[5 rows x 142 columns]",
      "text/html": "<div>\n<style scoped>\n    .dataframe tbody tr th:only-of-type {\n        vertical-align: middle;\n    }\n\n    .dataframe tbody tr th {\n        vertical-align: top;\n    }\n\n    .dataframe thead th {\n        text-align: right;\n    }\n</style>\n<table border=\"1\" class=\"dataframe\">\n  <thead>\n    <tr style=\"text-align: right;\">\n      <th></th>\n      <th>cat__age_[0-10)</th>\n      <th>cat__age_[10-20)</th>\n      <th>cat__age_[20-30)</th>\n      <th>cat__age_[30-40)</th>\n      <th>cat__age_[40-50)</th>\n      <th>cat__age_[50-60)</th>\n      <th>cat__age_[60-70)</th>\n      <th>cat__age_[70-80)</th>\n      <th>cat__age_[80-90)</th>\n      <th>cat__age_[90-100)</th>\n      <th>...</th>\n      <th>enc__diag_2</th>\n      <th>enc__diag_3</th>\n      <th>num__number_diagnoses</th>\n      <th>num__time_in_hospital</th>\n      <th>num__num_lab_procedures</th>\n      <th>num__num_procedures</th>\n      <th>num__num_medications</th>\n      <th>num__number_outpatient</th>\n      <th>num__number_emergency</th>\n      <th>num__number_inpatient</th>\n    </tr>\n  </thead>\n  <tbody>\n    <tr>\n      <th>21652</th>\n      <td>0.0</td>\n      <td>0.0</td>\n      <td>0.0</td>\n      <td>0.0</td>\n      <td>0.0</td>\n      <td>0.0</td>\n      <td>0.0</td>\n      <td>0.0</td>\n      <td>1.0</td>\n      <td>0.0</td>\n      <td>...</td>\n      <td>336.0</td>\n      <td>401.0</td>\n      <td>0.165281</td>\n      <td>1.472831</td>\n      <td>1.745569</td>\n      <td>0.438222</td>\n      <td>0.062790</td>\n      <td>-0.323894</td>\n      <td>-0.247384</td>\n      <td>0.038980</td>\n    </tr>\n    <tr>\n      <th>40167</th>\n      <td>0.0</td>\n      <td>0.0</td>\n      <td>0.0</td>\n      <td>0.0</td>\n      <td>0.0</td>\n      <td>0.0</td>\n      <td>0.0</td>\n      <td>1.0</td>\n      <td>0.0</td>\n      <td>0.0</td>\n      <td>...</td>\n      <td>110.0</td>\n      <td>240.0</td>\n      <td>0.165281</td>\n      <td>-0.192041</td>\n      <td>-0.099506</td>\n      <td>-0.762203</td>\n      <td>-1.099834</td>\n      <td>-0.323894</td>\n      <td>-0.247384</td>\n      <td>-0.603038</td>\n    </tr>\n    <tr>\n      <th>6145</th>\n      <td>0.0</td>\n      <td>0.0</td>\n      <td>0.0</td>\n      <td>0.0</td>\n      <td>0.0</td>\n      <td>0.0</td>\n      <td>0.0</td>\n      <td>1.0</td>\n      <td>0.0</td>\n      <td>0.0</td>\n      <td>...</td>\n      <td>252.0</td>\n      <td>229.0</td>\n      <td>0.165281</td>\n      <td>1.472831</td>\n      <td>1.694317</td>\n      <td>-0.161990</td>\n      <td>0.708691</td>\n      <td>-0.323894</td>\n      <td>-0.247384</td>\n      <td>-0.603038</td>\n    </tr>\n    <tr>\n      <th>29567</th>\n      <td>0.0</td>\n      <td>0.0</td>\n      <td>0.0</td>\n      <td>0.0</td>\n      <td>1.0</td>\n      <td>0.0</td>\n      <td>0.0</td>\n      <td>0.0</td>\n      <td>0.0</td>\n      <td>0.0</td>\n      <td>...</td>\n      <td>574.0</td>\n      <td>18.0</td>\n      <td>-0.994954</td>\n      <td>-1.190965</td>\n      <td>-0.765783</td>\n      <td>-0.762203</td>\n      <td>-0.970654</td>\n      <td>-0.323894</td>\n      <td>-0.247384</td>\n      <td>-0.603038</td>\n    </tr>\n    <tr>\n      <th>6210</th>\n      <td>0.0</td>\n      <td>0.0</td>\n      <td>0.0</td>\n      <td>0.0</td>\n      <td>0.0</td>\n      <td>0.0</td>\n      <td>0.0</td>\n      <td>1.0</td>\n      <td>0.0</td>\n      <td>0.0</td>\n      <td>...</td>\n      <td>539.0</td>\n      <td>333.0</td>\n      <td>0.165281</td>\n      <td>3.137704</td>\n      <td>1.745569</td>\n      <td>2.839073</td>\n      <td>2.904758</td>\n      <td>-0.323894</td>\n      <td>-0.247384</td>\n      <td>-0.603038</td>\n    </tr>\n  </tbody>\n</table>\n<p>5 rows × 142 columns</p>\n</div>"
     },
     "execution_count": 22,
     "metadata": {},
     "output_type": "execute_result"
    }
   ],
   "source": [
    "base_flow_dataset.X_test.head(5)"
   ],
   "metadata": {
    "collapsed": false
   }
  },
  {
   "cell_type": "code",
   "execution_count": 23,
   "outputs": [
    {
     "data": {
      "text/plain": "       cat__age_[0-10)  cat__age_[10-20)  cat__age_[20-30)  cat__age_[30-40)  \\\n21652              0.0               0.0               0.0               0.0   \n40167              0.0               0.0               0.0               0.0   \n6145               0.0               0.0               0.0               0.0   \n29567              0.0               0.0               0.0               0.0   \n6210               0.0               0.0               0.0               0.0   \n\n       cat__age_[40-50)  cat__age_[50-60)  cat__age_[60-70)  cat__age_[70-80)  \\\n21652               0.0               0.0               0.0               0.0   \n40167               0.0               0.0               0.0               1.0   \n6145                0.0               0.0               0.0               1.0   \n29567               1.0               0.0               0.0               0.0   \n6210                0.0               0.0               0.0               1.0   \n\n       cat__age_[80-90)  cat__age_[90-100)  ...  enc__diag_3  \\\n21652               1.0                0.0  ...          418   \n40167               0.0                0.0  ...          244   \n6145                0.0                0.0  ...          231   \n29567               0.0                0.0  ...           28   \n6210                0.0                0.0  ...          346   \n\n       num__number_diagnoses  num__time_in_hospital  num__num_lab_procedures  \\\n21652               0.745398               1.472831                 2.001830   \n40167               0.745398              -0.192041                 0.054250   \n6145                0.745398               1.472831                 1.950578   \n29567              -0.994954              -1.190965                -0.765783   \n6210                0.745398               3.137704                 2.001830   \n\n       num__num_procedures  num__num_medications  num__number_outpatient  \\\n21652             0.438222              0.450331                0.340975   \n40167            -0.762203             -0.970654               -0.323894   \n6145             -0.161990              1.225413               -0.323894   \n29567            -0.762203             -0.970654               -0.323894   \n6210              2.839073              3.809020               -0.323894   \n\n       num__number_emergency  num__number_inpatient  race_binary  \n21652              -0.247384               0.038980            1  \n40167              -0.247384              -0.603038            1  \n6145               -0.247384              -0.603038            1  \n29567              -0.247384              -0.603038            0  \n6210               -0.247384              -0.603038            1  \n\n[5 rows x 143 columns]",
      "text/html": "<div>\n<style scoped>\n    .dataframe tbody tr th:only-of-type {\n        vertical-align: middle;\n    }\n\n    .dataframe tbody tr th {\n        vertical-align: top;\n    }\n\n    .dataframe thead th {\n        text-align: right;\n    }\n</style>\n<table border=\"1\" class=\"dataframe\">\n  <thead>\n    <tr style=\"text-align: right;\">\n      <th></th>\n      <th>cat__age_[0-10)</th>\n      <th>cat__age_[10-20)</th>\n      <th>cat__age_[20-30)</th>\n      <th>cat__age_[30-40)</th>\n      <th>cat__age_[40-50)</th>\n      <th>cat__age_[50-60)</th>\n      <th>cat__age_[60-70)</th>\n      <th>cat__age_[70-80)</th>\n      <th>cat__age_[80-90)</th>\n      <th>cat__age_[90-100)</th>\n      <th>...</th>\n      <th>enc__diag_3</th>\n      <th>num__number_diagnoses</th>\n      <th>num__time_in_hospital</th>\n      <th>num__num_lab_procedures</th>\n      <th>num__num_procedures</th>\n      <th>num__num_medications</th>\n      <th>num__number_outpatient</th>\n      <th>num__number_emergency</th>\n      <th>num__number_inpatient</th>\n      <th>race_binary</th>\n    </tr>\n  </thead>\n  <tbody>\n    <tr>\n      <th>21652</th>\n      <td>0.0</td>\n      <td>0.0</td>\n      <td>0.0</td>\n      <td>0.0</td>\n      <td>0.0</td>\n      <td>0.0</td>\n      <td>0.0</td>\n      <td>0.0</td>\n      <td>1.0</td>\n      <td>0.0</td>\n      <td>...</td>\n      <td>418</td>\n      <td>0.745398</td>\n      <td>1.472831</td>\n      <td>2.001830</td>\n      <td>0.438222</td>\n      <td>0.450331</td>\n      <td>0.340975</td>\n      <td>-0.247384</td>\n      <td>0.038980</td>\n      <td>1</td>\n    </tr>\n    <tr>\n      <th>40167</th>\n      <td>0.0</td>\n      <td>0.0</td>\n      <td>0.0</td>\n      <td>0.0</td>\n      <td>0.0</td>\n      <td>0.0</td>\n      <td>0.0</td>\n      <td>1.0</td>\n      <td>0.0</td>\n      <td>0.0</td>\n      <td>...</td>\n      <td>244</td>\n      <td>0.745398</td>\n      <td>-0.192041</td>\n      <td>0.054250</td>\n      <td>-0.762203</td>\n      <td>-0.970654</td>\n      <td>-0.323894</td>\n      <td>-0.247384</td>\n      <td>-0.603038</td>\n      <td>1</td>\n    </tr>\n    <tr>\n      <th>6145</th>\n      <td>0.0</td>\n      <td>0.0</td>\n      <td>0.0</td>\n      <td>0.0</td>\n      <td>0.0</td>\n      <td>0.0</td>\n      <td>0.0</td>\n      <td>1.0</td>\n      <td>0.0</td>\n      <td>0.0</td>\n      <td>...</td>\n      <td>231</td>\n      <td>0.745398</td>\n      <td>1.472831</td>\n      <td>1.950578</td>\n      <td>-0.161990</td>\n      <td>1.225413</td>\n      <td>-0.323894</td>\n      <td>-0.247384</td>\n      <td>-0.603038</td>\n      <td>1</td>\n    </tr>\n    <tr>\n      <th>29567</th>\n      <td>0.0</td>\n      <td>0.0</td>\n      <td>0.0</td>\n      <td>0.0</td>\n      <td>1.0</td>\n      <td>0.0</td>\n      <td>0.0</td>\n      <td>0.0</td>\n      <td>0.0</td>\n      <td>0.0</td>\n      <td>...</td>\n      <td>28</td>\n      <td>-0.994954</td>\n      <td>-1.190965</td>\n      <td>-0.765783</td>\n      <td>-0.762203</td>\n      <td>-0.970654</td>\n      <td>-0.323894</td>\n      <td>-0.247384</td>\n      <td>-0.603038</td>\n      <td>0</td>\n    </tr>\n    <tr>\n      <th>6210</th>\n      <td>0.0</td>\n      <td>0.0</td>\n      <td>0.0</td>\n      <td>0.0</td>\n      <td>0.0</td>\n      <td>0.0</td>\n      <td>0.0</td>\n      <td>1.0</td>\n      <td>0.0</td>\n      <td>0.0</td>\n      <td>...</td>\n      <td>346</td>\n      <td>0.745398</td>\n      <td>3.137704</td>\n      <td>2.001830</td>\n      <td>2.839073</td>\n      <td>3.809020</td>\n      <td>-0.323894</td>\n      <td>-0.247384</td>\n      <td>-0.603038</td>\n      <td>1</td>\n    </tr>\n  </tbody>\n</table>\n<p>5 rows × 143 columns</p>\n</div>"
     },
     "execution_count": 23,
     "metadata": {},
     "output_type": "execute_result"
    }
   ],
   "source": [
    "init_base_flow_dataset.X_test.head(5)"
   ],
   "metadata": {
    "collapsed": false
   }
  },
  {
   "cell_type": "code",
   "execution_count": 68,
   "outputs": [
    {
     "data": {
      "text/plain": "       number_diagnoses  time_in_hospital  num_lab_procedures  num_procedures  \\\n21652                 9                 9                  83               2   \n40167                 9                 4                  45               0   \n6145                  9                 9                  82               1   \n29567                 6                 1                  29               0   \n6210                  9                14                  83               6   \n\n       num_medications  number_outpatient  number_emergency  number_inpatient  \\\n21652               20                  1                 0                 1   \n40167                9                  0                 0                 0   \n6145                26                  0                 0                 0   \n29567                9                  0                 0                 0   \n6210                46                  0                 0                 0   \n\n            race  gender  ... examide citoglipton insulin glyburide-metformin  \\\n21652  Caucasian  Female  ...      No          No      No                  No   \n40167  Caucasian  Female  ...      No          No  Steady                  No   \n6145   Caucasian  Female  ...      No          No    Down                  No   \n29567   Hispanic  Female  ...      No          No  Steady                  No   \n6210   Caucasian    Male  ...      No          No  Steady                  No   \n\n       glipizide-metformin  glimepiride-pioglitazone  metformin-rosiglitazone  \\\n21652                   No                        No                       No   \n40167                   No                        No                       No   \n6145                    No                        No                       No   \n29567                   No                        No                       No   \n6210                    No                        No                       No   \n\n      metformin-pioglitazone change diabetesMed  \n21652                     No     No         Yes  \n40167                     No     No         Yes  \n6145                      No     Ch         Yes  \n29567                     No     No         Yes  \n6210                      No     No         Yes  \n\n[5 rows x 44 columns]",
      "text/html": "<div>\n<style scoped>\n    .dataframe tbody tr th:only-of-type {\n        vertical-align: middle;\n    }\n\n    .dataframe tbody tr th {\n        vertical-align: top;\n    }\n\n    .dataframe thead th {\n        text-align: right;\n    }\n</style>\n<table border=\"1\" class=\"dataframe\">\n  <thead>\n    <tr style=\"text-align: right;\">\n      <th></th>\n      <th>number_diagnoses</th>\n      <th>time_in_hospital</th>\n      <th>num_lab_procedures</th>\n      <th>num_procedures</th>\n      <th>num_medications</th>\n      <th>number_outpatient</th>\n      <th>number_emergency</th>\n      <th>number_inpatient</th>\n      <th>race</th>\n      <th>gender</th>\n      <th>...</th>\n      <th>examide</th>\n      <th>citoglipton</th>\n      <th>insulin</th>\n      <th>glyburide-metformin</th>\n      <th>glipizide-metformin</th>\n      <th>glimepiride-pioglitazone</th>\n      <th>metformin-rosiglitazone</th>\n      <th>metformin-pioglitazone</th>\n      <th>change</th>\n      <th>diabetesMed</th>\n    </tr>\n  </thead>\n  <tbody>\n    <tr>\n      <th>21652</th>\n      <td>9</td>\n      <td>9</td>\n      <td>83</td>\n      <td>2</td>\n      <td>20</td>\n      <td>1</td>\n      <td>0</td>\n      <td>1</td>\n      <td>Caucasian</td>\n      <td>Female</td>\n      <td>...</td>\n      <td>No</td>\n      <td>No</td>\n      <td>No</td>\n      <td>No</td>\n      <td>No</td>\n      <td>No</td>\n      <td>No</td>\n      <td>No</td>\n      <td>No</td>\n      <td>Yes</td>\n    </tr>\n    <tr>\n      <th>40167</th>\n      <td>9</td>\n      <td>4</td>\n      <td>45</td>\n      <td>0</td>\n      <td>9</td>\n      <td>0</td>\n      <td>0</td>\n      <td>0</td>\n      <td>Caucasian</td>\n      <td>Female</td>\n      <td>...</td>\n      <td>No</td>\n      <td>No</td>\n      <td>Steady</td>\n      <td>No</td>\n      <td>No</td>\n      <td>No</td>\n      <td>No</td>\n      <td>No</td>\n      <td>No</td>\n      <td>Yes</td>\n    </tr>\n    <tr>\n      <th>6145</th>\n      <td>9</td>\n      <td>9</td>\n      <td>82</td>\n      <td>1</td>\n      <td>26</td>\n      <td>0</td>\n      <td>0</td>\n      <td>0</td>\n      <td>Caucasian</td>\n      <td>Female</td>\n      <td>...</td>\n      <td>No</td>\n      <td>No</td>\n      <td>Down</td>\n      <td>No</td>\n      <td>No</td>\n      <td>No</td>\n      <td>No</td>\n      <td>No</td>\n      <td>Ch</td>\n      <td>Yes</td>\n    </tr>\n    <tr>\n      <th>29567</th>\n      <td>6</td>\n      <td>1</td>\n      <td>29</td>\n      <td>0</td>\n      <td>9</td>\n      <td>0</td>\n      <td>0</td>\n      <td>0</td>\n      <td>Hispanic</td>\n      <td>Female</td>\n      <td>...</td>\n      <td>No</td>\n      <td>No</td>\n      <td>Steady</td>\n      <td>No</td>\n      <td>No</td>\n      <td>No</td>\n      <td>No</td>\n      <td>No</td>\n      <td>No</td>\n      <td>Yes</td>\n    </tr>\n    <tr>\n      <th>6210</th>\n      <td>9</td>\n      <td>14</td>\n      <td>83</td>\n      <td>6</td>\n      <td>46</td>\n      <td>0</td>\n      <td>0</td>\n      <td>0</td>\n      <td>Caucasian</td>\n      <td>Male</td>\n      <td>...</td>\n      <td>No</td>\n      <td>No</td>\n      <td>Steady</td>\n      <td>No</td>\n      <td>No</td>\n      <td>No</td>\n      <td>No</td>\n      <td>No</td>\n      <td>No</td>\n      <td>Yes</td>\n    </tr>\n  </tbody>\n</table>\n<p>5 rows × 44 columns</p>\n</div>"
     },
     "execution_count": 68,
     "metadata": {},
     "output_type": "execute_result"
    }
   ],
   "source": [
    "data_loader.X_data.loc[init_base_flow_dataset.X_test.index, :].head()"
   ],
   "metadata": {
    "collapsed": false
   }
  },
  {
   "cell_type": "markdown",
   "id": "64a8f0f4",
   "metadata": {},
   "source": [
    "## Run experiment iterations"
   ]
  },
  {
   "cell_type": "markdown",
   "id": "2e4a4eed",
   "metadata": {},
   "source": [
    "### Experiment iteration 1"
   ]
  },
  {
   "cell_type": "code",
   "execution_count": 31,
   "id": "8ecce77d",
   "metadata": {},
   "outputs": [],
   "source": [
    "# tuned_params_filenames = ['tuning_results_Folktables_NY_2018_Employment_alpha_0.8_20230706__115508.csv']\n",
    "# tuned_params_df_paths = [os.path.join(ROOT_DIR, 'results', EXPERIMENT_NAME, tuned_params_filename)\n",
    "#                          for tuned_params_filename in tuned_params_filenames]"
   ]
  },
  {
   "cell_type": "code",
   "execution_count": 113,
   "id": "c454861e",
   "metadata": {},
   "outputs": [],
   "source": [
    "# Configs for an experiment iteration\n",
    "exp_iter_num = 1\n",
    "experiment_seed = EXPERIMENT_SEEDS[exp_iter_num - 1]\n",
    "custom_table_fields_dct['experiment_iteration'] = f'Exp_iter_{exp_iter_num}'\n",
    "\n",
    "exp_iter_data_loader = copy.deepcopy(data_loader)  # Add deepcopy to avoid data leakage\n",
    "models_params_for_tuning = get_model_params_for_mult_repair_levels(experiment_seed)"
   ]
  },
  {
   "cell_type": "code",
   "execution_count": 114,
   "id": "38631033",
   "metadata": {},
   "outputs": [
    {
     "name": "stderr",
     "output_type": "stream",
     "text": [
      "2023-08-04 01:29:54 experiment_interface.py INFO    : Start an experiment iteration for the following custom params:\n",
      "INFO:root:Start an experiment iteration for the following custom params:\n"
     ]
    },
    {
     "name": "stdout",
     "output_type": "stream",
     "text": [
      "{'dataset_split_seed': 100,\n",
      " 'experiment_iteration': 'Exp_iter_1',\n",
      " 'fair_intervention_params_lst': '[0.0, 0.2, 0.4]',\n",
      " 'intervention_param': 0.4,\n",
      " 'model_init_seed': 100,\n",
      " 'session_uuid': '163da20d-0491-493d-b718-b33de7b259fd'}\n",
      "\n",
      "\n"
     ]
    },
    {
     "name": "stderr",
     "output_type": "stream",
     "text": [
      "2023-08-04 01:29:54 experiment_interface.py INFO    : The dataset is preprocessed\n",
      "INFO:root:The dataset is preprocessed\n"
     ]
    },
    {
     "name": "stdout",
     "output_type": "stream",
     "text": [
      "Top indexes of an X_test in a base flow dataset:  Int64Index([28666, 33065, 17959, 24861,    34, 17810, 34743,  4256, 16528,\n",
      "            34310, 17161, 15937, 10740, 19844,  5115, 14586, 11307,  8230,\n",
      "            33832, 19081],\n",
      "           dtype='int64')\n",
      "Top indexes of an y_test in a base flow dataset:  Int64Index([28666, 33065, 17959, 24861,    34, 17810, 34743,  4256, 16528,\n",
      "            34310, 17161, 15937, 10740, 19844,  5115, 14586, 11307,  8230,\n",
      "            33832, 19081],\n",
      "           dtype='int64')\n"
     ]
    },
    {
     "data": {
      "text/plain": "Multiple alphas:   0%|          | 0/3 [00:00<?, ?it/s]",
      "application/vnd.jupyter.widget-view+json": {
       "version_major": 2,
       "version_minor": 0,
       "model_id": "493d9769718e4e63981b6788328d29d3"
      }
     },
     "metadata": {},
     "output_type": "display_data"
    },
    {
     "name": "stdout",
     "output_type": "stream",
     "text": [
      "intervention_param:  0.0\n",
      "2023/08/04, 01:30:06: Tuning RandomForestClassifier...\n"
     ]
    },
    {
     "name": "stderr",
     "output_type": "stream",
     "text": [
      "2023-08-04 01:30:26 experiment_interface.py INFO    : Models are tuned and saved to a file\n",
      "INFO:root:Models are tuned and saved to a file\n"
     ]
    },
    {
     "name": "stdout",
     "output_type": "stream",
     "text": [
      "2023/08/04, 01:30:26: Tuning for RandomForestClassifier is finished [F1 score = 0.4782452620671647, Accuracy = 0.7613333333333333]\n",
      "\n"
     ]
    },
    {
     "data": {
      "text/plain": "Multiple runs progress:   0%|          | 0/1 [00:00<?, ?it/s]",
      "application/vnd.jupyter.widget-view+json": {
       "version_major": 2,
       "version_minor": 0,
       "model_id": "4a05848cfa6b40c5b920fffa9ac01df0"
      }
     },
     "metadata": {},
     "output_type": "display_data"
    },
    {
     "data": {
      "text/plain": "Analyze models in one run:   0%|          | 0/1 [00:00<?, ?it/s]",
      "application/vnd.jupyter.widget-view+json": {
       "version_major": 2,
       "version_minor": 0,
       "model_id": "7f1fc212141f4f73813c61fa4adbbb15"
      }
     },
     "metadata": {},
     "output_type": "display_data"
    },
    {
     "data": {
      "text/plain": "Classifiers testing by bootstrap:   0%|          | 0/20 [00:00<?, ?it/s]",
      "application/vnd.jupyter.widget-view+json": {
       "version_major": 2,
       "version_minor": 0,
       "model_id": "f5b1f54ee23948e88a82868cc5687726"
      }
     },
     "metadata": {},
     "output_type": "display_data"
    },
    {
     "name": "stdout",
     "output_type": "stream",
     "text": [
      "intervention_param:  0.2\n"
     ]
    },
    {
     "ename": "KeyboardInterrupt",
     "evalue": "",
     "output_type": "error",
     "traceback": [
      "\u001B[0;31m---------------------------------------------------------------------------\u001B[0m",
      "\u001B[0;31mKeyboardInterrupt\u001B[0m                         Traceback (most recent call last)",
      "Cell \u001B[0;32mIn[114], line 1\u001B[0m\n\u001B[0;32m----> 1\u001B[0m \u001B[43mrun_exp_iter_with_disparate_impact\u001B[49m\u001B[43m(\u001B[49m\u001B[43mdata_loader\u001B[49m\u001B[38;5;241;43m=\u001B[39;49m\u001B[43mexp_iter_data_loader\u001B[49m\u001B[43m,\u001B[49m\n\u001B[1;32m      2\u001B[0m \u001B[43m                                   \u001B[49m\u001B[43mexperiment_seed\u001B[49m\u001B[38;5;241;43m=\u001B[39;49m\u001B[43mexperiment_seed\u001B[49m\u001B[43m,\u001B[49m\n\u001B[1;32m      3\u001B[0m \u001B[43m                                   \u001B[49m\u001B[43mtest_set_fraction\u001B[49m\u001B[38;5;241;43m=\u001B[39;49m\u001B[43mTEST_SET_FRACTION\u001B[49m\u001B[43m,\u001B[49m\n\u001B[1;32m      4\u001B[0m \u001B[43m                                   \u001B[49m\u001B[43mdb_writer_func\u001B[49m\u001B[38;5;241;43m=\u001B[39;49m\u001B[43mdb_writer_func\u001B[49m\u001B[43m,\u001B[49m\n\u001B[1;32m      5\u001B[0m \u001B[43m                                   \u001B[49m\u001B[43mfair_intervention_params_lst\u001B[49m\u001B[38;5;241;43m=\u001B[39;49m\u001B[43mFAIR_INTERVENTION_PARAMS_LST\u001B[49m\u001B[43m,\u001B[49m\n\u001B[1;32m      6\u001B[0m \u001B[43m                                   \u001B[49m\u001B[43mmodels_params_for_tuning\u001B[49m\u001B[38;5;241;43m=\u001B[39;49m\u001B[43mmodels_params_for_tuning\u001B[49m\u001B[43m,\u001B[49m\n\u001B[1;32m      7\u001B[0m \u001B[43m                                   \u001B[49m\u001B[43mmetrics_computation_config\u001B[49m\u001B[38;5;241;43m=\u001B[39;49m\u001B[43mmetrics_computation_config\u001B[49m\u001B[43m,\u001B[49m\n\u001B[1;32m      8\u001B[0m \u001B[43m                                   \u001B[49m\u001B[43mcustom_table_fields_dct\u001B[49m\u001B[38;5;241;43m=\u001B[39;49m\u001B[43mcustom_table_fields_dct\u001B[49m\u001B[43m,\u001B[49m\n\u001B[1;32m      9\u001B[0m \u001B[43m                                   \u001B[49m\u001B[43mwith_tuning\u001B[49m\u001B[38;5;241;43m=\u001B[39;49m\u001B[38;5;28;43;01mTrue\u001B[39;49;00m\u001B[43m,\u001B[49m\n\u001B[1;32m     10\u001B[0m \u001B[43m                                   \u001B[49m\u001B[38;5;66;43;03m# with_tuning=False,\u001B[39;49;00m\n\u001B[1;32m     11\u001B[0m \u001B[43m                                   \u001B[49m\u001B[38;5;66;43;03m# tuned_params_df_paths=tuned_params_df_paths,\u001B[39;49;00m\n\u001B[1;32m     12\u001B[0m \u001B[43m                                   \u001B[49m\u001B[43msave_results_dir_path\u001B[49m\u001B[38;5;241;43m=\u001B[39;49m\u001B[43mSAVE_RESULTS_DIR_PATH\u001B[49m\u001B[43m,\u001B[49m\n\u001B[1;32m     13\u001B[0m \u001B[43m                                   \u001B[49m\u001B[43mverbose\u001B[49m\u001B[38;5;241;43m=\u001B[39;49m\u001B[38;5;28;43;01mTrue\u001B[39;49;00m\u001B[43m)\u001B[49m\n",
      "File \u001B[0;32m~/UCU/4course_2term/Bachelor_Thesis/Code/fairness-variance/source/experiment_interface.py:136\u001B[0m, in \u001B[0;36mrun_exp_iter_with_disparate_impact\u001B[0;34m(data_loader, experiment_seed, test_set_fraction, db_writer_func, fair_intervention_params_lst, models_params_for_tuning, metrics_computation_config, custom_table_fields_dct, with_tuning, save_results_dir_path, tuned_params_df_paths, num_folds_for_tuning, verbose)\u001B[0m\n\u001B[1;32m    133\u001B[0m custom_table_fields_dct[\u001B[38;5;124m'\u001B[39m\u001B[38;5;124mintervention_param\u001B[39m\u001B[38;5;124m'\u001B[39m] \u001B[38;5;241m=\u001B[39m intervention_param\n\u001B[1;32m    135\u001B[0m \u001B[38;5;66;03m# Fair preprocessing\u001B[39;00m\n\u001B[0;32m--> 136\u001B[0m cur_base_flow_dataset \u001B[38;5;241m=\u001B[39m \u001B[43mremove_disparate_impact\u001B[49m\u001B[43m(\u001B[49m\u001B[43mbase_flow_dataset\u001B[49m\u001B[43m,\u001B[49m\u001B[43m \u001B[49m\u001B[43malpha\u001B[49m\u001B[38;5;241;43m=\u001B[39;49m\u001B[43mintervention_param\u001B[49m\u001B[43m)\u001B[49m\n\u001B[1;32m    138\u001B[0m \u001B[38;5;66;03m# Tune model parameters if needed\u001B[39;00m\n\u001B[1;32m    139\u001B[0m \u001B[38;5;28;01mif\u001B[39;00m with_tuning:\n\u001B[1;32m    140\u001B[0m     \u001B[38;5;66;03m# Tune models and create a models config for metrics computation\u001B[39;00m\n",
      "File \u001B[0;32m~/UCU/4course_2term/Bachelor_Thesis/Code/fairness-variance/source/preprocessing.py:89\u001B[0m, in \u001B[0;36mremove_disparate_impact\u001B[0;34m(init_base_flow_dataset, alpha)\u001B[0m\n\u001B[1;32m     82\u001B[0m test_binary_dataset \u001B[38;5;241m=\u001B[39m BinaryLabelDataset(df\u001B[38;5;241m=\u001B[39mtest_df,\n\u001B[1;32m     83\u001B[0m                                          label_names\u001B[38;5;241m=\u001B[39m[base_flow_dataset\u001B[38;5;241m.\u001B[39mtarget],\n\u001B[1;32m     84\u001B[0m                                          protected_attribute_names\u001B[38;5;241m=\u001B[39m[sensitive_attribute],\n\u001B[1;32m     85\u001B[0m                                          favorable_label\u001B[38;5;241m=\u001B[39m\u001B[38;5;241m1\u001B[39m,\n\u001B[1;32m     86\u001B[0m                                          unfavorable_label\u001B[38;5;241m=\u001B[39m\u001B[38;5;241m0\u001B[39m)\n\u001B[1;32m     88\u001B[0m di \u001B[38;5;241m=\u001B[39m DisparateImpactRemover(repair_level\u001B[38;5;241m=\u001B[39malpha, sensitive_attribute\u001B[38;5;241m=\u001B[39msensitive_attribute)\n\u001B[0;32m---> 89\u001B[0m train_repaired_df, _ \u001B[38;5;241m=\u001B[39m \u001B[43mdi\u001B[49m\u001B[38;5;241;43m.\u001B[39;49m\u001B[43mfit_transform\u001B[49m\u001B[43m(\u001B[49m\u001B[43mtrain_binary_dataset\u001B[49m\u001B[43m)\u001B[49m\u001B[38;5;241m.\u001B[39mconvert_to_dataframe()\n\u001B[1;32m     90\u001B[0m test_repaired_df , _ \u001B[38;5;241m=\u001B[39m di\u001B[38;5;241m.\u001B[39mfit_transform(test_binary_dataset)\u001B[38;5;241m.\u001B[39mconvert_to_dataframe()\n\u001B[1;32m     91\u001B[0m train_repaired_df\u001B[38;5;241m.\u001B[39mindex \u001B[38;5;241m=\u001B[39m train_repaired_df\u001B[38;5;241m.\u001B[39mindex\u001B[38;5;241m.\u001B[39mastype(dtype\u001B[38;5;241m=\u001B[39m\u001B[38;5;124m'\u001B[39m\u001B[38;5;124mint64\u001B[39m\u001B[38;5;124m'\u001B[39m)\n",
      "File \u001B[0;32m~/UCU/4course_2term/Bachelor_Thesis/Code/fairness-variance/faact_venv/lib/python3.8/site-packages/aif360/algorithms/transformer.py:27\u001B[0m, in \u001B[0;36maddmetadata.<locals>.wrapper\u001B[0;34m(self, *args, **kwargs)\u001B[0m\n\u001B[1;32m     25\u001B[0m \u001B[38;5;129m@wraps\u001B[39m(func)\n\u001B[1;32m     26\u001B[0m \u001B[38;5;28;01mdef\u001B[39;00m \u001B[38;5;21mwrapper\u001B[39m(\u001B[38;5;28mself\u001B[39m, \u001B[38;5;241m*\u001B[39margs, \u001B[38;5;241m*\u001B[39m\u001B[38;5;241m*\u001B[39mkwargs):\n\u001B[0;32m---> 27\u001B[0m     new_dataset \u001B[38;5;241m=\u001B[39m \u001B[43mfunc\u001B[49m\u001B[43m(\u001B[49m\u001B[38;5;28;43mself\u001B[39;49m\u001B[43m,\u001B[49m\u001B[43m \u001B[49m\u001B[38;5;241;43m*\u001B[39;49m\u001B[43margs\u001B[49m\u001B[43m,\u001B[49m\u001B[43m \u001B[49m\u001B[38;5;241;43m*\u001B[39;49m\u001B[38;5;241;43m*\u001B[39;49m\u001B[43mkwargs\u001B[49m\u001B[43m)\u001B[49m\n\u001B[1;32m     28\u001B[0m     \u001B[38;5;28;01mif\u001B[39;00m \u001B[38;5;28misinstance\u001B[39m(new_dataset, Dataset):\n\u001B[1;32m     29\u001B[0m         new_dataset\u001B[38;5;241m.\u001B[39mmetadata \u001B[38;5;241m=\u001B[39m new_dataset\u001B[38;5;241m.\u001B[39mmetadata\u001B[38;5;241m.\u001B[39mcopy()\n",
      "File \u001B[0;32m~/UCU/4course_2term/Bachelor_Thesis/Code/fairness-variance/faact_venv/lib/python3.8/site-packages/aif360/algorithms/preprocessing/disparate_impact_remover.py:60\u001B[0m, in \u001B[0;36mDisparateImpactRemover.fit_transform\u001B[0;34m(self, dataset)\u001B[0m\n\u001B[1;32m     57\u001B[0m repairer \u001B[38;5;241m=\u001B[39m \u001B[38;5;28mself\u001B[39m\u001B[38;5;241m.\u001B[39mRepairer(features, index, \u001B[38;5;28mself\u001B[39m\u001B[38;5;241m.\u001B[39mrepair_level, \u001B[38;5;28;01mFalse\u001B[39;00m)\n\u001B[1;32m     59\u001B[0m repaired \u001B[38;5;241m=\u001B[39m dataset\u001B[38;5;241m.\u001B[39mcopy()\n\u001B[0;32m---> 60\u001B[0m repaired_features \u001B[38;5;241m=\u001B[39m \u001B[43mrepairer\u001B[49m\u001B[38;5;241;43m.\u001B[39;49m\u001B[43mrepair\u001B[49m\u001B[43m(\u001B[49m\u001B[43mfeatures\u001B[49m\u001B[43m)\u001B[49m\n\u001B[1;32m     61\u001B[0m repaired\u001B[38;5;241m.\u001B[39mfeatures \u001B[38;5;241m=\u001B[39m np\u001B[38;5;241m.\u001B[39marray(repaired_features, dtype\u001B[38;5;241m=\u001B[39mnp\u001B[38;5;241m.\u001B[39mfloat64)\n\u001B[1;32m     62\u001B[0m \u001B[38;5;66;03m# protected attribute shouldn't change\u001B[39;00m\n",
      "File \u001B[0;32m~/UCU/4course_2term/Bachelor_Thesis/Code/fairness-variance/faact_venv/lib/python3.8/site-packages/BlackBoxAuditing/repairers/GeneralRepairer.py:20\u001B[0m, in \u001B[0;36mRepairer.repair\u001B[0;34m(self, data_to_repair)\u001B[0m\n\u001B[1;32m     19\u001B[0m \u001B[38;5;28;01mdef\u001B[39;00m \u001B[38;5;21mrepair\u001B[39m(\u001B[38;5;28mself\u001B[39m, data_to_repair):\n\u001B[0;32m---> 20\u001B[0m   \u001B[38;5;28;01mreturn\u001B[39;00m \u001B[38;5;28;43mself\u001B[39;49m\u001B[38;5;241;43m.\u001B[39;49m\u001B[43mrepairer\u001B[49m\u001B[38;5;241;43m.\u001B[39;49m\u001B[43mrepair\u001B[49m\u001B[43m(\u001B[49m\u001B[43mdata_to_repair\u001B[49m\u001B[43m)\u001B[49m\n",
      "File \u001B[0;32m~/UCU/4course_2term/Bachelor_Thesis/Code/fairness-variance/faact_venv/lib/python3.8/site-packages/BlackBoxAuditing/repairers/NumericRepairer.py:28\u001B[0m, in \u001B[0;36mRepairer.repair\u001B[0;34m(self, data_to_repair)\u001B[0m\n\u001B[1;32m     25\u001B[0m   category_vals \u001B[38;5;241m=\u001B[39m [data_to_repair[j][\u001B[38;5;28mself\u001B[39m\u001B[38;5;241m.\u001B[39mfeature_to_repair] \u001B[38;5;28;01mfor\u001B[39;00m j \u001B[38;5;129;01min\u001B[39;00m index_bin]\n\u001B[1;32m     26\u001B[0m   category_medians[bin_name] \u001B[38;5;241m=\u001B[39m get_median(category_vals, \u001B[38;5;28mself\u001B[39m\u001B[38;5;241m.\u001B[39mkdd)\n\u001B[0;32m---> 28\u001B[0m repaired_data \u001B[38;5;241m=\u001B[39m \u001B[38;5;28;43mself\u001B[39;49m\u001B[38;5;241;43m.\u001B[39;49m\u001B[43mcategoric_repairer\u001B[49m\u001B[38;5;241;43m.\u001B[39;49m\u001B[43mrepair\u001B[49m\u001B[43m(\u001B[49m\u001B[43mbinned_data\u001B[49m\u001B[43m)\u001B[49m\n\u001B[1;32m     30\u001B[0m \u001B[38;5;66;03m# Replace the \"feature_to_repair\" column with the median numeric value.\u001B[39;00m\n\u001B[1;32m     31\u001B[0m \u001B[38;5;28;01mfor\u001B[39;00m i \u001B[38;5;129;01min\u001B[39;00m \u001B[38;5;28mrange\u001B[39m(\u001B[38;5;28mlen\u001B[39m(repaired_data)):\n",
      "File \u001B[0;32m~/UCU/4course_2term/Bachelor_Thesis/Code/fairness-variance/faact_venv/lib/python3.8/site-packages/BlackBoxAuditing/repairers/CategoricRepairer.py:88\u001B[0m, in \u001B[0;36mRepairer.repair\u001B[0;34m(self, data_to_repair)\u001B[0m\n\u001B[1;32m     86\u001B[0m group \u001B[38;5;241m=\u001B[39m \u001B[38;5;28mtuple\u001B[39m(row[col] \u001B[38;5;28;01mfor\u001B[39;00m col \u001B[38;5;129;01min\u001B[39;00m safe_stratify_cols)\n\u001B[1;32m     87\u001B[0m \u001B[38;5;28;01mfor\u001B[39;00m col_id \u001B[38;5;129;01min\u001B[39;00m cols_to_repair:\n\u001B[0;32m---> 88\u001B[0m   \u001B[43mval_sets\u001B[49m\u001B[43m[\u001B[49m\u001B[43mgroup\u001B[49m\u001B[43m]\u001B[49m\u001B[43m[\u001B[49m\u001B[43mcol_id\u001B[49m\u001B[43m]\u001B[49m\u001B[38;5;241;43m.\u001B[39;49m\u001B[43madd\u001B[49m\u001B[43m(\u001B[49m\u001B[43mrow\u001B[49m\u001B[43m[\u001B[49m\u001B[43mcol_id\u001B[49m\u001B[43m]\u001B[49m\u001B[43m)\u001B[49m\n\u001B[1;32m     90\u001B[0m \u001B[38;5;66;03m# Also remember that this row pertains to this strat-group.\u001B[39;00m\n\u001B[1;32m     91\u001B[0m stratified_group_indices[group]\u001B[38;5;241m.\u001B[39mappend(i)\n",
      "\u001B[0;31mKeyboardInterrupt\u001B[0m: "
     ]
    }
   ],
   "source": [
    "run_exp_iter_with_disparate_impact(data_loader=exp_iter_data_loader,\n",
    "                                   experiment_seed=experiment_seed,\n",
    "                                   test_set_fraction=TEST_SET_FRACTION,\n",
    "                                   db_writer_func=db_writer_func,\n",
    "                                   fair_intervention_params_lst=FAIR_INTERVENTION_PARAMS_LST,\n",
    "                                   models_params_for_tuning=models_params_for_tuning,\n",
    "                                   metrics_computation_config=metrics_computation_config,\n",
    "                                   custom_table_fields_dct=custom_table_fields_dct,\n",
    "                                   with_tuning=True,\n",
    "                                   # with_tuning=False,\n",
    "                                   # tuned_params_df_paths=tuned_params_df_paths,\n",
    "                                   save_results_dir_path=SAVE_RESULTS_DIR_PATH,\n",
    "                                   verbose=True)"
   ]
  },
  {
   "cell_type": "markdown",
   "id": "5c05763e",
   "metadata": {},
   "source": [
    "### Experiment iteration 2"
   ]
  },
  {
   "cell_type": "code",
   "execution_count": 44,
   "id": "bbc1334f",
   "metadata": {},
   "outputs": [],
   "source": [
    "# Configs for an experiment iteration\n",
    "exp_iter_num = 2\n",
    "experiment_seed = EXPERIMENT_SEEDS[exp_iter_num - 1]\n",
    "tuned_params_filenames = [\n",
    "    'tuning_results_Folktables_CA_2018_Public_Coverage_alpha_0.0_20230731__173053.csv',\n",
    "    'tuning_results_Folktables_CA_2018_Public_Coverage_alpha_0.1_20230731__174151.csv',\n",
    "    'tuning_results_Folktables_CA_2018_Public_Coverage_alpha_0.2_20230731__173153.csv',\n",
    "    'tuning_results_Folktables_CA_2018_Public_Coverage_alpha_0.3_20230731__174153.csv',\n",
    "    'tuning_results_Folktables_CA_2018_Public_Coverage_alpha_0.4_20230731__173254.csv',\n",
    "]\n",
    "tuned_params_df_paths = [os.path.join(ROOT_DIR, 'results', EXPERIMENT_NAME, tuned_params_filename)\n",
    "                         for tuned_params_filename in tuned_params_filenames]\n",
    "custom_table_fields_dct['experiment_iteration'] = f'Exp_iter_{exp_iter_num}'\n",
    "\n",
    "exp_iter_data_loader = copy.deepcopy(data_loader)  # Add deepcopy to avoid data leakage\n",
    "models_params_for_tuning = get_model_params_for_mult_repair_levels(experiment_seed)"
   ]
  },
  {
   "cell_type": "code",
   "execution_count": 45,
   "id": "c5da9d37",
   "metadata": {},
   "outputs": [
    {
     "name": "stderr",
     "output_type": "stream",
     "text": [
      "2023-07-31 14:43:04 experiment_interface.py INFO    : Start an experiment iteration for the following custom params:\n",
      "INFO:root:Start an experiment iteration for the following custom params:\n"
     ]
    },
    {
     "name": "stdout",
     "output_type": "stream",
     "text": [
      "{'dataset_split_seed': 200,\n",
      " 'experiment_iteration': 'Exp_iter_2',\n",
      " 'fair_intervention_params_lst': '[0.0, 0.1, 0.2, 0.3, 0.4]',\n",
      " 'model_init_seed': 200,\n",
      " 'session_uuid': '116104d6-7d63-4564-ae57-82b19b260fa5'}\n",
      "\n",
      "\n"
     ]
    },
    {
     "name": "stderr",
     "output_type": "stream",
     "text": [
      "2023-07-31 14:43:04 experiment_interface.py INFO    : The dataset is preprocessed\n",
      "INFO:root:The dataset is preprocessed\n"
     ]
    },
    {
     "name": "stdout",
     "output_type": "stream",
     "text": [
      "Top indexes of an X_test in a base flow dataset:  Int64Index([ 6043,  3745,  5159,  7241,  7820,  3695, 11501, 11432,  1163,\n",
      "             8994,  7972,  2554,  9884,  2008,  6884, 11995,  5200,  4649,\n",
      "            10244, 13775],\n",
      "           dtype='int64')\n",
      "Top indexes of an y_test in a base flow dataset:  Int64Index([ 6043,  3745,  5159,  7241,  7820,  3695, 11501, 11432,  1163,\n",
      "             8994,  7972,  2554,  9884,  2008,  6884, 11995,  5200,  4649,\n",
      "            10244, 13775],\n",
      "           dtype='int64')\n"
     ]
    },
    {
     "data": {
      "application/vnd.jupyter.widget-view+json": {
       "model_id": "a61112d4f671449ea75500898e668cf2",
       "version_major": 2,
       "version_minor": 0
      },
      "text/plain": [
       "Multiple alphas:   0%|          | 0/5 [00:00<?, ?it/s]"
      ]
     },
     "metadata": {},
     "output_type": "display_data"
    },
    {
     "name": "stdout",
     "output_type": "stream",
     "text": [
      "intervention_param:  0.0\n"
     ]
    },
    {
     "name": "stderr",
     "output_type": "stream",
     "text": [
      "2023-07-31 14:43:07 experiment_interface.py INFO    : Models config is loaded from the input file\n",
      "INFO:root:Models config is loaded from the input file\n"
     ]
    },
    {
     "name": "stdout",
     "output_type": "stream",
     "text": [
      "Path for tuned params:  /home/dh3553/projects/fairness-variance/results/mult_repair_levels_pubcov_CA/tuning_results_Folktables_CA_2018_Public_Coverage_alpha_0.0_20230731__173053.csv\n",
      "RandomForestClassifier:  {'bootstrap': True, 'ccp_alpha': 0.0, 'class_weight': None, 'criterion': 'gini', 'max_depth': 30, 'max_features': 'sqrt', 'max_leaf_nodes': None, 'max_samples': None, 'min_impurity_decrease': 0.0, 'min_samples_leaf': 2, 'min_samples_split': 2, 'min_weight_fraction_leaf': 0.0, 'n_estimators': 100, 'n_jobs': None, 'oob_score': False, 'random_state': 200, 'verbose': 0, 'warm_start': False}\n"
     ]
    },
    {
     "data": {
      "application/vnd.jupyter.widget-view+json": {
       "model_id": "cf858e906e464a2d8d6ef38b1292b045",
       "version_major": 2,
       "version_minor": 0
      },
      "text/plain": [
       "Multiple runs progress:   0%|          | 0/1 [00:00<?, ?it/s]"
      ]
     },
     "metadata": {},
     "output_type": "display_data"
    },
    {
     "data": {
      "application/vnd.jupyter.widget-view+json": {
       "model_id": "e8610f51651f42ce9904495d1e7ad1af",
       "version_major": 2,
       "version_minor": 0
      },
      "text/plain": [
       "Analyze models in one run:   0%|          | 0/1 [00:00<?, ?it/s]"
      ]
     },
     "metadata": {},
     "output_type": "display_data"
    },
    {
     "data": {
      "application/vnd.jupyter.widget-view+json": {
       "model_id": "357be48bb32f4419a6a52f2f52fb8288",
       "version_major": 2,
       "version_minor": 0
      },
      "text/plain": [
       "Classifiers testing by bootstrap:   0%|          | 0/200 [00:00<?, ?it/s]"
      ]
     },
     "metadata": {},
     "output_type": "display_data"
    },
    {
     "name": "stdout",
     "output_type": "stream",
     "text": [
      "intervention_param:  0.1\n",
      "Path for tuned params:  /home/dh3553/projects/fairness-variance/results/mult_repair_levels_pubcov_CA/tuning_results_Folktables_CA_2018_Public_Coverage_alpha_0.1_20230731__174151.csv\n",
      "RandomForestClassifier:  {'bootstrap': False, 'ccp_alpha': 0.0, 'class_weight': None, 'criterion': 'gini', 'max_depth': 40, 'max_features': 'sqrt', 'max_leaf_nodes': None, 'max_samples': None, 'min_impurity_decrease': 0.0, 'min_samples_leaf': 2, 'min_samples_split': 10, 'min_weight_fraction_leaf': 0.0, 'n_estimators': 100, 'n_jobs': None, 'oob_score': False, 'random_state': 201, 'verbose': 0, 'warm_start': False}\n"
     ]
    },
    {
     "data": {
      "application/vnd.jupyter.widget-view+json": {
       "model_id": "fe5f5a656c024752a4d2eba155c40544",
       "version_major": 2,
       "version_minor": 0
      },
      "text/plain": [
       "Multiple runs progress:   0%|          | 0/1 [00:00<?, ?it/s]"
      ]
     },
     "metadata": {},
     "output_type": "display_data"
    },
    {
     "data": {
      "application/vnd.jupyter.widget-view+json": {
       "model_id": "dea80e750b054925a6311b8a6ef50bdf",
       "version_major": 2,
       "version_minor": 0
      },
      "text/plain": [
       "Analyze models in one run:   0%|          | 0/1 [00:00<?, ?it/s]"
      ]
     },
     "metadata": {},
     "output_type": "display_data"
    },
    {
     "data": {
      "application/vnd.jupyter.widget-view+json": {
       "model_id": "5f2809aadd424ece82c08630e8c75148",
       "version_major": 2,
       "version_minor": 0
      },
      "text/plain": [
       "Classifiers testing by bootstrap:   0%|          | 0/200 [00:00<?, ?it/s]"
      ]
     },
     "metadata": {},
     "output_type": "display_data"
    },
    {
     "name": "stdout",
     "output_type": "stream",
     "text": [
      "intervention_param:  0.2\n",
      "Path for tuned params:  /home/dh3553/projects/fairness-variance/results/mult_repair_levels_pubcov_CA/tuning_results_Folktables_CA_2018_Public_Coverage_alpha_0.2_20230731__173153.csv\n",
      "RandomForestClassifier:  {'bootstrap': True, 'ccp_alpha': 0.0, 'class_weight': None, 'criterion': 'gini', 'max_depth': 30, 'max_features': 'sqrt', 'max_leaf_nodes': None, 'max_samples': None, 'min_impurity_decrease': 0.0, 'min_samples_leaf': 1, 'min_samples_split': 10, 'min_weight_fraction_leaf': 0.0, 'n_estimators': 100, 'n_jobs': None, 'oob_score': False, 'random_state': 201, 'verbose': 0, 'warm_start': False}\n"
     ]
    },
    {
     "data": {
      "application/vnd.jupyter.widget-view+json": {
       "model_id": "6bfa050434834f8ebb1ee09c0f1e5c09",
       "version_major": 2,
       "version_minor": 0
      },
      "text/plain": [
       "Multiple runs progress:   0%|          | 0/1 [00:00<?, ?it/s]"
      ]
     },
     "metadata": {},
     "output_type": "display_data"
    },
    {
     "data": {
      "application/vnd.jupyter.widget-view+json": {
       "model_id": "64400f50c7a242dfbece40249228a91d",
       "version_major": 2,
       "version_minor": 0
      },
      "text/plain": [
       "Analyze models in one run:   0%|          | 0/1 [00:00<?, ?it/s]"
      ]
     },
     "metadata": {},
     "output_type": "display_data"
    },
    {
     "data": {
      "application/vnd.jupyter.widget-view+json": {
       "model_id": "24d8192bde474723b49f1060d4cba74e",
       "version_major": 2,
       "version_minor": 0
      },
      "text/plain": [
       "Classifiers testing by bootstrap:   0%|          | 0/200 [00:00<?, ?it/s]"
      ]
     },
     "metadata": {},
     "output_type": "display_data"
    },
    {
     "name": "stdout",
     "output_type": "stream",
     "text": [
      "intervention_param:  0.3\n",
      "Path for tuned params:  /home/dh3553/projects/fairness-variance/results/mult_repair_levels_pubcov_CA/tuning_results_Folktables_CA_2018_Public_Coverage_alpha_0.3_20230731__174153.csv\n",
      "RandomForestClassifier:  {'bootstrap': True, 'ccp_alpha': 0.0, 'class_weight': None, 'criterion': 'gini', 'max_depth': 30, 'max_features': 'sqrt', 'max_leaf_nodes': None, 'max_samples': None, 'min_impurity_decrease': 0.0, 'min_samples_leaf': 2, 'min_samples_split': 5, 'min_weight_fraction_leaf': 0.0, 'n_estimators': 100, 'n_jobs': None, 'oob_score': False, 'random_state': 201, 'verbose': 0, 'warm_start': False}\n"
     ]
    },
    {
     "data": {
      "application/vnd.jupyter.widget-view+json": {
       "model_id": "30f9103e12cd4dd8b0177e26924a366d",
       "version_major": 2,
       "version_minor": 0
      },
      "text/plain": [
       "Multiple runs progress:   0%|          | 0/1 [00:00<?, ?it/s]"
      ]
     },
     "metadata": {},
     "output_type": "display_data"
    },
    {
     "data": {
      "application/vnd.jupyter.widget-view+json": {
       "model_id": "d72a8dd49bd5477280e68b6e82baefc4",
       "version_major": 2,
       "version_minor": 0
      },
      "text/plain": [
       "Analyze models in one run:   0%|          | 0/1 [00:00<?, ?it/s]"
      ]
     },
     "metadata": {},
     "output_type": "display_data"
    },
    {
     "data": {
      "application/vnd.jupyter.widget-view+json": {
       "model_id": "2c849efcd1c1481e8938d1b393b045aa",
       "version_major": 2,
       "version_minor": 0
      },
      "text/plain": [
       "Classifiers testing by bootstrap:   0%|          | 0/200 [00:00<?, ?it/s]"
      ]
     },
     "metadata": {},
     "output_type": "display_data"
    },
    {
     "name": "stdout",
     "output_type": "stream",
     "text": [
      "intervention_param:  0.4\n",
      "Path for tuned params:  /home/dh3553/projects/fairness-variance/results/mult_repair_levels_pubcov_CA/tuning_results_Folktables_CA_2018_Public_Coverage_alpha_0.4_20230731__173254.csv\n",
      "RandomForestClassifier:  {'bootstrap': True, 'ccp_alpha': 0.0, 'class_weight': None, 'criterion': 'gini', 'max_depth': 40, 'max_features': 'sqrt', 'max_leaf_nodes': None, 'max_samples': None, 'min_impurity_decrease': 0.0, 'min_samples_leaf': 1, 'min_samples_split': 10, 'min_weight_fraction_leaf': 0.0, 'n_estimators': 100, 'n_jobs': None, 'oob_score': False, 'random_state': 201, 'verbose': 0, 'warm_start': False}\n"
     ]
    },
    {
     "data": {
      "application/vnd.jupyter.widget-view+json": {
       "model_id": "1e685daf549749468cf5447696b40ee4",
       "version_major": 2,
       "version_minor": 0
      },
      "text/plain": [
       "Multiple runs progress:   0%|          | 0/1 [00:00<?, ?it/s]"
      ]
     },
     "metadata": {},
     "output_type": "display_data"
    },
    {
     "data": {
      "application/vnd.jupyter.widget-view+json": {
       "model_id": "6513ab7eddfb4e9f827be11f7258fe72",
       "version_major": 2,
       "version_minor": 0
      },
      "text/plain": [
       "Analyze models in one run:   0%|          | 0/1 [00:00<?, ?it/s]"
      ]
     },
     "metadata": {},
     "output_type": "display_data"
    },
    {
     "data": {
      "application/vnd.jupyter.widget-view+json": {
       "model_id": "066a5fe53a314243a95e055a9ef84f85",
       "version_major": 2,
       "version_minor": 0
      },
      "text/plain": [
       "Classifiers testing by bootstrap:   0%|          | 0/200 [00:00<?, ?it/s]"
      ]
     },
     "metadata": {},
     "output_type": "display_data"
    }
   ],
   "source": [
    "run_exp_iter_with_disparate_impact(data_loader=exp_iter_data_loader,\n",
    "                                   experiment_seed=experiment_seed,\n",
    "                                   test_set_fraction=TEST_SET_FRACTION,\n",
    "                                   db_writer_func=db_writer_func,\n",
    "                                   fair_intervention_params_lst=FAIR_INTERVENTION_PARAMS_LST,\n",
    "                                   models_params_for_tuning=models_params_for_tuning,\n",
    "                                   metrics_computation_config=metrics_computation_config,\n",
    "                                   custom_table_fields_dct=custom_table_fields_dct,\n",
    "#                                    with_tuning=True,\n",
    "                                   with_tuning=False,\n",
    "                                   tuned_params_df_paths=tuned_params_df_paths,\n",
    "                                   save_results_dir_path=SAVE_RESULTS_DIR_PATH,\n",
    "                                   verbose=True)"
   ]
  },
  {
   "cell_type": "markdown",
   "id": "1b31b576",
   "metadata": {},
   "source": [
    "### Experiment iteration 3"
   ]
  },
  {
   "cell_type": "code",
   "execution_count": null,
   "id": "38e15002",
   "metadata": {},
   "outputs": [],
   "source": [
    "# Configs for an experiment iteration\n",
    "exp_iter_num = 3\n",
    "experiment_seed = EXPERIMENT_SEEDS[exp_iter_num - 1]\n",
    "tuned_params_filenames = [\n",
    "    'tuning_results_Folktables_CA_2018_Public_Coverage_alpha_0.0_20230731__173053.csv',\n",
    "    'tuning_results_Folktables_CA_2018_Public_Coverage_alpha_0.1_20230731__174151.csv',\n",
    "    'tuning_results_Folktables_CA_2018_Public_Coverage_alpha_0.2_20230731__173153.csv',\n",
    "    'tuning_results_Folktables_CA_2018_Public_Coverage_alpha_0.3_20230731__174153.csv',\n",
    "    'tuning_results_Folktables_CA_2018_Public_Coverage_alpha_0.4_20230731__173254.csv',\n",
    "]\n",
    "tuned_params_df_paths = [os.path.join(ROOT_DIR, 'results', EXPERIMENT_NAME, tuned_params_filename)\n",
    "                         for tuned_params_filename in tuned_params_filenames]\n",
    "custom_table_fields_dct['experiment_iteration'] = f'Exp_iter_{exp_iter_num}'\n",
    "\n",
    "exp_iter_data_loader = copy.deepcopy(data_loader)  # Add deepcopy to avoid data leakage\n",
    "models_params_for_tuning = get_model_params_for_mult_repair_levels(experiment_seed)"
   ]
  },
  {
   "cell_type": "code",
   "execution_count": null,
   "id": "4985b3df",
   "metadata": {},
   "outputs": [],
   "source": [
    "run_exp_iter_with_disparate_impact(data_loader=exp_iter_data_loader,\n",
    "                                   experiment_seed=experiment_seed,\n",
    "                                   test_set_fraction=TEST_SET_FRACTION,\n",
    "                                   db_writer_func=db_writer_func,\n",
    "                                   fair_intervention_params_lst=FAIR_INTERVENTION_PARAMS_LST,\n",
    "                                   models_params_for_tuning=models_params_for_tuning,\n",
    "                                   metrics_computation_config=metrics_computation_config,\n",
    "                                   custom_table_fields_dct=custom_table_fields_dct,\n",
    "#                                    with_tuning=True,\n",
    "                                   with_tuning=False,\n",
    "                                   tuned_params_df_paths=tuned_params_df_paths,\n",
    "                                   save_results_dir_path=SAVE_RESULTS_DIR_PATH,\n",
    "                                   verbose=True)"
   ]
  },
  {
   "cell_type": "markdown",
   "id": "dc52e737",
   "metadata": {},
   "source": [
    "### Experiment iteration 4"
   ]
  },
  {
   "cell_type": "code",
   "execution_count": null,
   "id": "10ff9ecf",
   "metadata": {},
   "outputs": [],
   "source": [
    "# Configs for an experiment iteration\n",
    "exp_iter_num = 4\n",
    "experiment_seed = EXPERIMENT_SEEDS[exp_iter_num - 1]\n",
    "tuned_params_filenames = [\n",
    "    'tuning_results_Folktables_CA_2018_Public_Coverage_alpha_0.0_20230731__173053.csv',\n",
    "    'tuning_results_Folktables_CA_2018_Public_Coverage_alpha_0.1_20230731__174151.csv',\n",
    "    'tuning_results_Folktables_CA_2018_Public_Coverage_alpha_0.2_20230731__173153.csv',\n",
    "    'tuning_results_Folktables_CA_2018_Public_Coverage_alpha_0.3_20230731__174153.csv',\n",
    "    'tuning_results_Folktables_CA_2018_Public_Coverage_alpha_0.4_20230731__173254.csv',\n",
    "]\n",
    "tuned_params_df_paths = [os.path.join(ROOT_DIR, 'results', EXPERIMENT_NAME, tuned_params_filename)\n",
    "                         for tuned_params_filename in tuned_params_filenames]\n",
    "custom_table_fields_dct['experiment_iteration'] = f'Exp_iter_{exp_iter_num}'\n",
    "\n",
    "exp_iter_data_loader = copy.deepcopy(data_loader)  # Add deepcopy to avoid data leakage\n",
    "models_params_for_tuning = get_model_params_for_mult_repair_levels(experiment_seed)"
   ]
  },
  {
   "cell_type": "code",
   "execution_count": 46,
   "id": "ae7b9b14",
   "metadata": {},
   "outputs": [],
   "source": [
    "run_exp_iter_with_disparate_impact(data_loader=exp_iter_data_loader,\n",
    "                                   experiment_seed=experiment_seed,\n",
    "                                   test_set_fraction=TEST_SET_FRACTION,\n",
    "                                   db_writer_func=db_writer_func,\n",
    "                                   fair_intervention_params_lst=FAIR_INTERVENTION_PARAMS_LST,\n",
    "                                   models_params_for_tuning=models_params_for_tuning,\n",
    "                                   metrics_computation_config=metrics_computation_config,\n",
    "                                   custom_table_fields_dct=custom_table_fields_dct,\n",
    "#                                    with_tuning=True,\n",
    "                                   with_tuning=False,\n",
    "                                   tuned_params_df_paths=tuned_params_df_paths,\n",
    "                                   save_results_dir_path=SAVE_RESULTS_DIR_PATH,\n",
    "                                   verbose=True)"
   ]
  },
  {
   "cell_type": "markdown",
   "id": "a66e2d01",
   "metadata": {},
   "source": [
    "### Experiment iteration 5"
   ]
  },
  {
   "cell_type": "code",
   "execution_count": null,
   "id": "f4d208c2",
   "metadata": {},
   "outputs": [],
   "source": [
    "# Configs for an experiment iteration\n",
    "exp_iter_num = 5\n",
    "experiment_seed = EXPERIMENT_SEEDS[exp_iter_num - 1]\n",
    "tuned_params_filenames = [\n",
    "    'tuning_results_Folktables_CA_2018_Public_Coverage_alpha_0.0_20230731__173053.csv',\n",
    "    'tuning_results_Folktables_CA_2018_Public_Coverage_alpha_0.1_20230731__174151.csv',\n",
    "    'tuning_results_Folktables_CA_2018_Public_Coverage_alpha_0.2_20230731__173153.csv',\n",
    "    'tuning_results_Folktables_CA_2018_Public_Coverage_alpha_0.3_20230731__174153.csv',\n",
    "    'tuning_results_Folktables_CA_2018_Public_Coverage_alpha_0.4_20230731__173254.csv',\n",
    "]\n",
    "tuned_params_df_paths = [os.path.join(ROOT_DIR, 'results', EXPERIMENT_NAME, tuned_params_filename)\n",
    "                         for tuned_params_filename in tuned_params_filenames]\n",
    "custom_table_fields_dct['experiment_iteration'] = f'Exp_iter_{exp_iter_num}'\n",
    "\n",
    "exp_iter_data_loader = copy.deepcopy(data_loader)  # Add deepcopy to avoid data leakage\n",
    "models_params_for_tuning = get_model_params_for_mult_repair_levels(experiment_seed)"
   ]
  },
  {
   "cell_type": "code",
   "execution_count": null,
   "id": "79ea772d",
   "metadata": {},
   "outputs": [],
   "source": [
    "run_exp_iter_with_disparate_impact(data_loader=exp_iter_data_loader,\n",
    "                                   experiment_seed=experiment_seed,\n",
    "                                   test_set_fraction=TEST_SET_FRACTION,\n",
    "                                   db_writer_func=db_writer_func,\n",
    "                                   fair_intervention_params_lst=FAIR_INTERVENTION_PARAMS_LST,\n",
    "                                   models_params_for_tuning=models_params_for_tuning,\n",
    "                                   metrics_computation_config=metrics_computation_config,\n",
    "                                   custom_table_fields_dct=custom_table_fields_dct,\n",
    "#                                    with_tuning=True,\n",
    "                                   with_tuning=False,\n",
    "                                   tuned_params_df_paths=tuned_params_df_paths,\n",
    "                                   save_results_dir_path=SAVE_RESULTS_DIR_PATH,\n",
    "                                   verbose=True)"
   ]
  },
  {
   "cell_type": "markdown",
   "id": "176f231b",
   "metadata": {},
   "source": [
    "### Experiment iteration 6"
   ]
  },
  {
   "cell_type": "code",
   "execution_count": null,
   "id": "c1ff72a4",
   "metadata": {},
   "outputs": [],
   "source": [
    "# Configs for an experiment iteration\n",
    "exp_iter_num = 6\n",
    "experiment_seed = EXPERIMENT_SEEDS[exp_iter_num - 1]\n",
    "tuned_params_filenames = [\n",
    "    'tuning_results_Folktables_CA_2018_Public_Coverage_alpha_0.0_20230731__173053.csv',\n",
    "    'tuning_results_Folktables_CA_2018_Public_Coverage_alpha_0.1_20230731__174151.csv',\n",
    "    'tuning_results_Folktables_CA_2018_Public_Coverage_alpha_0.2_20230731__173153.csv',\n",
    "    'tuning_results_Folktables_CA_2018_Public_Coverage_alpha_0.3_20230731__174153.csv',\n",
    "    'tuning_results_Folktables_CA_2018_Public_Coverage_alpha_0.4_20230731__173254.csv',\n",
    "]\n",
    "tuned_params_df_paths = [os.path.join(ROOT_DIR, 'results', EXPERIMENT_NAME, tuned_params_filename)\n",
    "                         for tuned_params_filename in tuned_params_filenames]\n",
    "custom_table_fields_dct['experiment_iteration'] = f'Exp_iter_{exp_iter_num}'\n",
    "\n",
    "exp_iter_data_loader = copy.deepcopy(data_loader)  # Add deepcopy to avoid data leakage\n",
    "models_params_for_tuning = get_model_params_for_mult_repair_levels(experiment_seed)"
   ]
  },
  {
   "cell_type": "code",
   "execution_count": null,
   "id": "d43c9b2a",
   "metadata": {},
   "outputs": [],
   "source": [
    "run_exp_iter_with_disparate_impact(data_loader=exp_iter_data_loader,\n",
    "                                   experiment_seed=experiment_seed,\n",
    "                                   test_set_fraction=TEST_SET_FRACTION,\n",
    "                                   db_writer_func=db_writer_func,\n",
    "                                   fair_intervention_params_lst=FAIR_INTERVENTION_PARAMS_LST,\n",
    "                                   models_params_for_tuning=models_params_for_tuning,\n",
    "                                   metrics_computation_config=metrics_computation_config,\n",
    "                                   custom_table_fields_dct=custom_table_fields_dct,\n",
    "#                                    with_tuning=True,\n",
    "                                   with_tuning=False,\n",
    "                                   tuned_params_df_paths=tuned_params_df_paths,\n",
    "                                   save_results_dir_path=SAVE_RESULTS_DIR_PATH,\n",
    "                                   verbose=True)"
   ]
  },
  {
   "cell_type": "code",
   "execution_count": null,
   "id": "d12b97fa",
   "metadata": {},
   "outputs": [],
   "source": []
  }
 ],
 "metadata": {
  "kernelspec": {
   "display_name": "Python 3",
   "language": "python",
   "name": "python3"
  },
  "language_info": {
   "codemirror_mode": {
    "name": "ipython",
    "version": 3
   },
   "file_extension": ".py",
   "mimetype": "text/x-python",
   "name": "python",
   "nbconvert_exporter": "python",
   "pygments_lexer": "ipython3",
   "version": "3.8.5"
  }
 },
 "nbformat": 4,
 "nbformat_minor": 5
}
