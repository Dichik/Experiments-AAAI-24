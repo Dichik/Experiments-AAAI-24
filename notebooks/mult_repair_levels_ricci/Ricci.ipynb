{
 "cells": [
  {
   "cell_type": "code",
   "execution_count": 15,
   "id": "344088ab",
   "metadata": {},
   "outputs": [],
   "source": [
    "# !pip install -r ./requirements.txt"
   ]
  },
  {
   "cell_type": "code",
   "execution_count": 2,
   "id": "66d3062d",
   "metadata": {},
   "outputs": [],
   "source": [
    "# !pip uninstall virny -y"
   ]
  },
  {
   "cell_type": "code",
   "execution_count": 4,
   "id": "814ce2d8",
   "metadata": {},
   "outputs": [],
   "source": [
    "# Install using an HTTP link\n",
    "# !pip install git+https://github.com/DataResponsibly/Virny.git@development\n",
    "\n",
    "# Install using an SSH link\n",
    "# !pip install git+ssh://git@github.com/DataResponsibly/Virny.git@development"
   ]
  },
  {
   "cell_type": "code",
   "execution_count": 5,
   "id": "138ece33",
   "metadata": {},
   "outputs": [],
   "source": [
    "# !pip install aif360"
   ]
  },
  {
   "cell_type": "code",
   "execution_count": 6,
   "id": "bd295f59",
   "metadata": {},
   "outputs": [],
   "source": [
    "# !pip install BlackBoxAuditing==0.1.54"
   ]
  },
  {
   "cell_type": "code",
   "execution_count": 37,
   "id": "c06a96b5",
   "metadata": {},
   "outputs": [
    {
     "name": "stdout",
     "output_type": "stream",
     "text": [
      "The autoreload extension is already loaded. To reload it, use:\n",
      "  %reload_ext autoreload\n"
     ]
    }
   ],
   "source": [
    "%matplotlib inline\n",
    "%load_ext autoreload\n",
    "%autoreload 2"
   ]
  },
  {
   "cell_type": "code",
   "execution_count": 38,
   "id": "c9d14345",
   "metadata": {},
   "outputs": [],
   "source": [
    "import os\n",
    "import warnings\n",
    "warnings.filterwarnings('ignore')\n",
    "os.environ[\"PYTHONWARNINGS\"] = \"ignore\""
   ]
  },
  {
   "cell_type": "code",
   "execution_count": 39,
   "id": "f7c13aa0",
   "metadata": {},
   "outputs": [
    {
     "name": "stdout",
     "output_type": "stream",
     "text": [
      "Current location:  /home/dh3553/projects/fairness-variance\n"
     ]
    }
   ],
   "source": [
    "cur_folder_name = os.getcwd().split('/')[-1]\n",
    "if cur_folder_name != \"fairness-variance\":\n",
    "    os.chdir(\"../..\")\n",
    "\n",
    "print('Current location: ', os.getcwd())"
   ]
  },
  {
   "cell_type": "markdown",
   "id": "bc7804a4",
   "metadata": {},
   "source": [
    "## Import dependencies"
   ]
  },
  {
   "cell_type": "code",
   "execution_count": 40,
   "id": "483ed474",
   "metadata": {},
   "outputs": [],
   "source": [
    "import os\n",
    "import copy\n",
    "\n",
    "from virny.utils.custom_initializers import create_config_obj\n",
    "from virny.datasets import RicciDataset\n",
    "\n",
    "from configs.constants import TEST_SET_FRACTION, EXPERIMENT_SEEDS\n",
    "from configs.models_config_for_tuning import get_model_params_for_mult_repair_levels\n",
    "\n",
    "from source.preprocessing import get_simple_preprocessor\n",
    "from source.experiment_interface import run_exp_iter_with_disparate_impact"
   ]
  },
  {
   "cell_type": "markdown",
   "id": "6c6f700b",
   "metadata": {},
   "source": [
    "## Define Input Variables"
   ]
  },
  {
   "cell_type": "code",
   "execution_count": 41,
   "id": "1284037e",
   "metadata": {},
   "outputs": [],
   "source": [
    "# ROOT_DIR = os.path.join(os.getcwd(), \"..\", \"..\")\n",
    "ROOT_DIR = os.getcwd()\n",
    "EXPERIMENT_NAME = 'mult_repair_levels_ricci'\n",
    "DB_COLLECTION_NAME = 'exp_mult_repair_levels'\n",
    "SAVE_RESULTS_DIR_PATH = os.path.join(ROOT_DIR, 'results', EXPERIMENT_NAME)\n",
    "FAIR_INTERVENTION_PARAMS_LST = [0.0, 0.1, 0.2, 0.3, 0.4, 0.5, 0.6, 0.7, 0.8, 0.9, 1.0]\n",
    "# FAIR_INTERVENTION_PARAMS_LST = [0.0, 0.1, 0.2, 0.3]\n",
    "\n",
    "config_yaml_path = os.path.join(ROOT_DIR, 'notebooks', EXPERIMENT_NAME, 'ricci_config.yaml')\n",
    "metrics_computation_config = create_config_obj(config_yaml_path=config_yaml_path)"
   ]
  },
  {
   "cell_type": "markdown",
   "id": "08d085b5",
   "metadata": {},
   "source": [
    "## Define a db writer and custom fields to insert into your database"
   ]
  },
  {
   "cell_type": "code",
   "execution_count": 42,
   "id": "b2576783",
   "metadata": {},
   "outputs": [
    {
     "data": {
      "text/plain": [
       "'fairness_variance'"
      ]
     },
     "execution_count": 42,
     "metadata": {},
     "output_type": "execute_result"
    }
   ],
   "source": [
    "import os\n",
    "from dotenv import load_dotenv\n",
    "\n",
    "load_dotenv('./configs/secrets.env')\n",
    "os.getenv(\"DB_NAME\")"
   ]
  },
  {
   "cell_type": "code",
   "execution_count": 43,
   "id": "bb96df78",
   "metadata": {},
   "outputs": [],
   "source": [
    "from source.utils.db_functions import connect_to_mongodb\n",
    "\n",
    "client, collection_obj, db_writer_func = connect_to_mongodb(DB_COLLECTION_NAME)"
   ]
  },
  {
   "cell_type": "code",
   "execution_count": 44,
   "id": "24bc886b",
   "metadata": {},
   "outputs": [
    {
     "name": "stdout",
     "output_type": "stream",
     "text": [
      "Current session uuid:  431019cf-ba79-4256-8478-509186d8b0b5\n"
     ]
    }
   ],
   "source": [
    "import uuid\n",
    "\n",
    "custom_table_fields_dct = {\n",
    "#     'session_uuid': str(uuid.uuid4()),\n",
    "    'session_uuid': '431019cf-ba79-4256-8478-509186d8b0b5',\n",
    "}\n",
    "print('Current session uuid: ', custom_table_fields_dct['session_uuid'])"
   ]
  },
  {
   "cell_type": "markdown",
   "id": "a131fe14",
   "metadata": {},
   "source": [
    "## Initialize custom objects"
   ]
  },
  {
   "cell_type": "code",
   "execution_count": 45,
   "id": "0b37e1d4",
   "metadata": {},
   "outputs": [
    {
     "data": {
      "text/html": [
       "<div>\n",
       "<style scoped>\n",
       "    .dataframe tbody tr th:only-of-type {\n",
       "        vertical-align: middle;\n",
       "    }\n",
       "\n",
       "    .dataframe tbody tr th {\n",
       "        vertical-align: top;\n",
       "    }\n",
       "\n",
       "    .dataframe thead th {\n",
       "        text-align: right;\n",
       "    }\n",
       "</style>\n",
       "<table border=\"1\" class=\"dataframe\">\n",
       "  <thead>\n",
       "    <tr style=\"text-align: right;\">\n",
       "      <th></th>\n",
       "      <th>Oral</th>\n",
       "      <th>Written</th>\n",
       "      <th>Combine</th>\n",
       "      <th>Position</th>\n",
       "      <th>Race</th>\n",
       "    </tr>\n",
       "  </thead>\n",
       "  <tbody>\n",
       "    <tr>\n",
       "      <th>0</th>\n",
       "      <td>89.52</td>\n",
       "      <td>95</td>\n",
       "      <td>92.808</td>\n",
       "      <td>Captain</td>\n",
       "      <td>White</td>\n",
       "    </tr>\n",
       "    <tr>\n",
       "      <th>1</th>\n",
       "      <td>80.00</td>\n",
       "      <td>95</td>\n",
       "      <td>89.000</td>\n",
       "      <td>Captain</td>\n",
       "      <td>White</td>\n",
       "    </tr>\n",
       "    <tr>\n",
       "      <th>2</th>\n",
       "      <td>82.38</td>\n",
       "      <td>87</td>\n",
       "      <td>85.152</td>\n",
       "      <td>Captain</td>\n",
       "      <td>White</td>\n",
       "    </tr>\n",
       "    <tr>\n",
       "      <th>3</th>\n",
       "      <td>88.57</td>\n",
       "      <td>76</td>\n",
       "      <td>81.028</td>\n",
       "      <td>Captain</td>\n",
       "      <td>White</td>\n",
       "    </tr>\n",
       "    <tr>\n",
       "      <th>4</th>\n",
       "      <td>76.19</td>\n",
       "      <td>84</td>\n",
       "      <td>80.876</td>\n",
       "      <td>Captain</td>\n",
       "      <td>White</td>\n",
       "    </tr>\n",
       "  </tbody>\n",
       "</table>\n",
       "</div>"
      ],
      "text/plain": [
       "    Oral  Written  Combine Position   Race\n",
       "0  89.52       95   92.808  Captain  White\n",
       "1  80.00       95   89.000  Captain  White\n",
       "2  82.38       87   85.152  Captain  White\n",
       "3  88.57       76   81.028  Captain  White\n",
       "4  76.19       84   80.876  Captain  White"
      ]
     },
     "execution_count": 45,
     "metadata": {},
     "output_type": "execute_result"
    }
   ],
   "source": [
    "data_loader = RicciDataset()\n",
    "data_loader.X_data.head()"
   ]
  },
  {
   "cell_type": "code",
   "execution_count": 46,
   "id": "fafda726",
   "metadata": {},
   "outputs": [
    {
     "data": {
      "text/plain": [
       "0    62\n",
       "1    56\n",
       "Name: Promoted, dtype: int64"
      ]
     },
     "execution_count": 46,
     "metadata": {},
     "output_type": "execute_result"
    }
   ],
   "source": [
    "data_loader.y_data.value_counts()"
   ]
  },
  {
   "cell_type": "code",
   "execution_count": 47,
   "id": "045be9f4",
   "metadata": {},
   "outputs": [
    {
     "data": {
      "text/plain": [
       "(118, 5)"
      ]
     },
     "execution_count": 47,
     "metadata": {},
     "output_type": "execute_result"
    }
   ],
   "source": [
    "data_loader.X_data.shape"
   ]
  },
  {
   "cell_type": "code",
   "execution_count": 48,
   "id": "3ad9177b",
   "metadata": {},
   "outputs": [
    {
     "data": {
      "text/plain": [
       "White        68\n",
       "Non-White    50\n",
       "Name: Race, dtype: int64"
      ]
     },
     "execution_count": 48,
     "metadata": {},
     "output_type": "execute_result"
    }
   ],
   "source": [
    "data_loader.X_data['Race'].value_counts()"
   ]
  },
  {
   "cell_type": "markdown",
   "id": "a5008fe2",
   "metadata": {},
   "source": [
    "## Run experiment iterations"
   ]
  },
  {
   "cell_type": "markdown",
   "id": "10538343",
   "metadata": {},
   "source": [
    "### Experiment iteration 1"
   ]
  },
  {
   "cell_type": "code",
   "execution_count": 49,
   "id": "4decabb2",
   "metadata": {},
   "outputs": [],
   "source": [
    "# tuned_params_filenames = ['tuning_results_Ricci_alpha_0.0_20230806__143119.csv']\n",
    "# tuned_params_df_paths = [os.path.join(ROOT_DIR, 'results', EXPERIMENT_NAME, tuned_params_filename)\n",
    "#                          for tuned_params_filename in tuned_params_filenames]"
   ]
  },
  {
   "cell_type": "code",
   "execution_count": 50,
   "id": "586a342c",
   "metadata": {},
   "outputs": [],
   "source": [
    "# Configs for an experiment iteration\n",
    "exp_iter_num = 1\n",
    "experiment_seed = EXPERIMENT_SEEDS[exp_iter_num - 1]\n",
    "custom_table_fields_dct['experiment_iteration'] = f'Exp_iter_{exp_iter_num}'\n",
    "\n",
    "exp_iter_data_loader = copy.deepcopy(data_loader)  # Add deepcopy to avoid data leakage\n",
    "models_params_for_tuning = get_model_params_for_mult_repair_levels(experiment_seed)"
   ]
  },
  {
   "cell_type": "code",
   "execution_count": 51,
   "id": "7991cc8c",
   "metadata": {},
   "outputs": [
    {
     "name": "stderr",
     "output_type": "stream",
     "text": [
      "2023-08-06 10:45:35 experiment_interface.py INFO    : Start an experiment iteration for the following custom params:\n",
      "INFO:root:Start an experiment iteration for the following custom params:\n"
     ]
    },
    {
     "name": "stdout",
     "output_type": "stream",
     "text": [
      "{'dataset_split_seed': 100,\n",
      " 'experiment_iteration': 'Exp_iter_1',\n",
      " 'fair_intervention_params_lst': '[0.0, 0.1, 0.2, 0.3, 0.4, 0.5, 0.6, 0.7, '\n",
      "                                 '0.8, 0.9, 1.0]',\n",
      " 'model_init_seed': 100,\n",
      " 'session_uuid': '431019cf-ba79-4256-8478-509186d8b0b5'}\n",
      "\n",
      "\n"
     ]
    },
    {
     "name": "stderr",
     "output_type": "stream",
     "text": [
      "2023-08-06 10:45:35 experiment_interface.py INFO    : The dataset is preprocessed\n",
      "INFO:root:The dataset is preprocessed\n"
     ]
    },
    {
     "name": "stdout",
     "output_type": "stream",
     "text": [
      "Top indexes of an X_test in a base flow dataset:  Int64Index([84, 85, 37, 45, 97, 26, 101, 112, 21, 33, 11, 46], dtype='int64')\n",
      "Top indexes of an y_test in a base flow dataset:  Int64Index([84, 85, 37, 45, 97, 26, 101, 112, 21, 33, 11, 46], dtype='int64')\n"
     ]
    },
    {
     "data": {
      "application/vnd.jupyter.widget-view+json": {
       "model_id": "fda6cb5951ff41a58657bb4993baddbc",
       "version_major": 2,
       "version_minor": 0
      },
      "text/plain": [
       "Multiple alphas:   0%|          | 0/11 [00:00<?, ?it/s]"
      ]
     },
     "metadata": {},
     "output_type": "display_data"
    },
    {
     "name": "stdout",
     "output_type": "stream",
     "text": [
      "intervention_param:  0.0\n",
      "2023/08/06, 10:45:35: Tuning RandomForestClassifier...\n"
     ]
    },
    {
     "name": "stderr",
     "output_type": "stream",
     "text": [
      "2023-08-06 10:46:10 experiment_interface.py INFO    : Models are tuned and saved to a file\n",
      "INFO:root:Models are tuned and saved to a file\n"
     ]
    },
    {
     "name": "stdout",
     "output_type": "stream",
     "text": [
      "2023/08/06, 10:46:10: Tuning for RandomForestClassifier is finished [F1 score = 1.0, Accuracy = 1.0]\n",
      "\n"
     ]
    },
    {
     "data": {
      "application/vnd.jupyter.widget-view+json": {
       "model_id": "eb6263ffdd294dc5a89444385e4192a6",
       "version_major": 2,
       "version_minor": 0
      },
      "text/plain": [
       "Multiple runs progress:   0%|          | 0/1 [00:00<?, ?it/s]"
      ]
     },
     "metadata": {},
     "output_type": "display_data"
    },
    {
     "data": {
      "application/vnd.jupyter.widget-view+json": {
       "model_id": "4c232b68b7944380a3d3019afc91ec1e",
       "version_major": 2,
       "version_minor": 0
      },
      "text/plain": [
       "Analyze models in one run:   0%|          | 0/1 [00:00<?, ?it/s]"
      ]
     },
     "metadata": {},
     "output_type": "display_data"
    },
    {
     "name": "stdout",
     "output_type": "stream",
     "text": [
      "##############################  [Model 1 / 1] Analyze RandomForestClassifier  ##############################\n",
      "Model seed:  101\n",
      "\n",
      "Protected groups splits:\n",
      "Race_priv (7, 1)\n",
      "Race_dis (5, 1)\n",
      "\n",
      "\n"
     ]
    },
    {
     "name": "stderr",
     "output_type": "stream",
     "text": [
      "2023-08-06 10:46:10 abstract_overall_variance_analyzer.py INFO    : Start classifiers testing by bootstrap\n",
      "INFO:root:Start classifiers testing by bootstrap\n"
     ]
    },
    {
     "data": {
      "application/vnd.jupyter.widget-view+json": {
       "model_id": "6330649e4a3546a28f85c57b8f02559a",
       "version_major": 2,
       "version_minor": 0
      },
      "text/plain": [
       "Classifiers testing by bootstrap:   0%|          | 0/200 [00:00<?, ?it/s]"
      ]
     },
     "metadata": {},
     "output_type": "display_data"
    },
    {
     "name": "stdout",
     "output_type": "stream",
     "text": [
      "\n",
      "\n"
     ]
    },
    {
     "name": "stderr",
     "output_type": "stream",
     "text": [
      "2023-08-06 10:46:35 abstract_overall_variance_analyzer.py INFO    : Successfully tested classifiers by bootstrap\n",
      "INFO:root:Successfully tested classifiers by bootstrap\n",
      "2023-08-06 10:46:35 abstract_overall_variance_analyzer.py INFO    : Successfully computed predict proba metrics\n",
      "INFO:root:Successfully computed predict proba metrics\n"
     ]
    },
    {
     "name": "stdout",
     "output_type": "stream",
     "text": [
      "\n",
      "[RandomForestClassifier] Metrics matrix:\n"
     ]
    },
    {
     "data": {
      "text/html": [
       "<div>\n",
       "<style scoped>\n",
       "    .dataframe tbody tr th:only-of-type {\n",
       "        vertical-align: middle;\n",
       "    }\n",
       "\n",
       "    .dataframe tbody tr th {\n",
       "        vertical-align: top;\n",
       "    }\n",
       "\n",
       "    .dataframe thead th {\n",
       "        text-align: right;\n",
       "    }\n",
       "</style>\n",
       "<table border=\"1\" class=\"dataframe\">\n",
       "  <thead>\n",
       "    <tr style=\"text-align: right;\">\n",
       "      <th></th>\n",
       "      <th>Metric</th>\n",
       "      <th>overall</th>\n",
       "      <th>Race_priv</th>\n",
       "      <th>Race_dis</th>\n",
       "      <th>Model_Seed</th>\n",
       "      <th>Model_Name</th>\n",
       "      <th>Model_Params</th>\n",
       "    </tr>\n",
       "  </thead>\n",
       "  <tbody>\n",
       "    <tr>\n",
       "      <th>0</th>\n",
       "      <td>Mean</td>\n",
       "      <td>0.663583</td>\n",
       "      <td>0.535514</td>\n",
       "      <td>0.842880</td>\n",
       "      <td>101</td>\n",
       "      <td>RandomForestClassifier</td>\n",
       "      <td>{'bootstrap': True, 'ccp_alpha': 0.0, 'class_w...</td>\n",
       "    </tr>\n",
       "    <tr>\n",
       "      <th>1</th>\n",
       "      <td>Std</td>\n",
       "      <td>0.025310</td>\n",
       "      <td>0.024682</td>\n",
       "      <td>0.026189</td>\n",
       "      <td>101</td>\n",
       "      <td>RandomForestClassifier</td>\n",
       "      <td>{'bootstrap': True, 'ccp_alpha': 0.0, 'class_w...</td>\n",
       "    </tr>\n",
       "    <tr>\n",
       "      <th>2</th>\n",
       "      <td>IQR</td>\n",
       "      <td>0.027500</td>\n",
       "      <td>0.027143</td>\n",
       "      <td>0.028000</td>\n",
       "      <td>101</td>\n",
       "      <td>RandomForestClassifier</td>\n",
       "      <td>{'bootstrap': True, 'ccp_alpha': 0.0, 'class_w...</td>\n",
       "    </tr>\n",
       "    <tr>\n",
       "      <th>3</th>\n",
       "      <td>Aleatoric_Uncertainty</td>\n",
       "      <td>0.171558</td>\n",
       "      <td>0.156923</td>\n",
       "      <td>0.192047</td>\n",
       "      <td>101</td>\n",
       "      <td>RandomForestClassifier</td>\n",
       "      <td>{'bootstrap': True, 'ccp_alpha': 0.0, 'class_w...</td>\n",
       "    </tr>\n",
       "    <tr>\n",
       "      <th>4</th>\n",
       "      <td>Overall_Uncertainty</td>\n",
       "      <td>0.186077</td>\n",
       "      <td>0.171436</td>\n",
       "      <td>0.206574</td>\n",
       "      <td>101</td>\n",
       "      <td>RandomForestClassifier</td>\n",
       "      <td>{'bootstrap': True, 'ccp_alpha': 0.0, 'class_w...</td>\n",
       "    </tr>\n",
       "    <tr>\n",
       "      <th>5</th>\n",
       "      <td>Statistical_Bias</td>\n",
       "      <td>0.044925</td>\n",
       "      <td>0.038243</td>\n",
       "      <td>0.054280</td>\n",
       "      <td>101</td>\n",
       "      <td>RandomForestClassifier</td>\n",
       "      <td>{'bootstrap': True, 'ccp_alpha': 0.0, 'class_w...</td>\n",
       "    </tr>\n",
       "    <tr>\n",
       "      <th>6</th>\n",
       "      <td>Jitter</td>\n",
       "      <td>0.000833</td>\n",
       "      <td>0.000000</td>\n",
       "      <td>0.002000</td>\n",
       "      <td>101</td>\n",
       "      <td>RandomForestClassifier</td>\n",
       "      <td>{'bootstrap': True, 'ccp_alpha': 0.0, 'class_w...</td>\n",
       "    </tr>\n",
       "    <tr>\n",
       "      <th>7</th>\n",
       "      <td>Per_Sample_Accuracy</td>\n",
       "      <td>0.999583</td>\n",
       "      <td>1.000000</td>\n",
       "      <td>0.999000</td>\n",
       "      <td>101</td>\n",
       "      <td>RandomForestClassifier</td>\n",
       "      <td>{'bootstrap': True, 'ccp_alpha': 0.0, 'class_w...</td>\n",
       "    </tr>\n",
       "    <tr>\n",
       "      <th>8</th>\n",
       "      <td>Label_Stability</td>\n",
       "      <td>0.999167</td>\n",
       "      <td>1.000000</td>\n",
       "      <td>0.998000</td>\n",
       "      <td>101</td>\n",
       "      <td>RandomForestClassifier</td>\n",
       "      <td>{'bootstrap': True, 'ccp_alpha': 0.0, 'class_w...</td>\n",
       "    </tr>\n",
       "    <tr>\n",
       "      <th>9</th>\n",
       "      <td>TPR</td>\n",
       "      <td>1.000000</td>\n",
       "      <td>1.000000</td>\n",
       "      <td>1.000000</td>\n",
       "      <td>101</td>\n",
       "      <td>RandomForestClassifier</td>\n",
       "      <td>{'bootstrap': True, 'ccp_alpha': 0.0, 'class_w...</td>\n",
       "    </tr>\n",
       "    <tr>\n",
       "      <th>10</th>\n",
       "      <td>TNR</td>\n",
       "      <td>1.000000</td>\n",
       "      <td>1.000000</td>\n",
       "      <td>1.000000</td>\n",
       "      <td>101</td>\n",
       "      <td>RandomForestClassifier</td>\n",
       "      <td>{'bootstrap': True, 'ccp_alpha': 0.0, 'class_w...</td>\n",
       "    </tr>\n",
       "    <tr>\n",
       "      <th>11</th>\n",
       "      <td>PPV</td>\n",
       "      <td>1.000000</td>\n",
       "      <td>1.000000</td>\n",
       "      <td>1.000000</td>\n",
       "      <td>101</td>\n",
       "      <td>RandomForestClassifier</td>\n",
       "      <td>{'bootstrap': True, 'ccp_alpha': 0.0, 'class_w...</td>\n",
       "    </tr>\n",
       "    <tr>\n",
       "      <th>12</th>\n",
       "      <td>FNR</td>\n",
       "      <td>0.000000</td>\n",
       "      <td>0.000000</td>\n",
       "      <td>0.000000</td>\n",
       "      <td>101</td>\n",
       "      <td>RandomForestClassifier</td>\n",
       "      <td>{'bootstrap': True, 'ccp_alpha': 0.0, 'class_w...</td>\n",
       "    </tr>\n",
       "    <tr>\n",
       "      <th>13</th>\n",
       "      <td>FPR</td>\n",
       "      <td>0.000000</td>\n",
       "      <td>0.000000</td>\n",
       "      <td>0.000000</td>\n",
       "      <td>101</td>\n",
       "      <td>RandomForestClassifier</td>\n",
       "      <td>{'bootstrap': True, 'ccp_alpha': 0.0, 'class_w...</td>\n",
       "    </tr>\n",
       "    <tr>\n",
       "      <th>14</th>\n",
       "      <td>Accuracy</td>\n",
       "      <td>1.000000</td>\n",
       "      <td>1.000000</td>\n",
       "      <td>1.000000</td>\n",
       "      <td>101</td>\n",
       "      <td>RandomForestClassifier</td>\n",
       "      <td>{'bootstrap': True, 'ccp_alpha': 0.0, 'class_w...</td>\n",
       "    </tr>\n",
       "    <tr>\n",
       "      <th>15</th>\n",
       "      <td>F1</td>\n",
       "      <td>1.000000</td>\n",
       "      <td>1.000000</td>\n",
       "      <td>1.000000</td>\n",
       "      <td>101</td>\n",
       "      <td>RandomForestClassifier</td>\n",
       "      <td>{'bootstrap': True, 'ccp_alpha': 0.0, 'class_w...</td>\n",
       "    </tr>\n",
       "    <tr>\n",
       "      <th>16</th>\n",
       "      <td>Selection-Rate</td>\n",
       "      <td>0.333333</td>\n",
       "      <td>0.428571</td>\n",
       "      <td>0.200000</td>\n",
       "      <td>101</td>\n",
       "      <td>RandomForestClassifier</td>\n",
       "      <td>{'bootstrap': True, 'ccp_alpha': 0.0, 'class_w...</td>\n",
       "    </tr>\n",
       "    <tr>\n",
       "      <th>17</th>\n",
       "      <td>Positive-Rate</td>\n",
       "      <td>1.000000</td>\n",
       "      <td>1.000000</td>\n",
       "      <td>1.000000</td>\n",
       "      <td>101</td>\n",
       "      <td>RandomForestClassifier</td>\n",
       "      <td>{'bootstrap': True, 'ccp_alpha': 0.0, 'class_w...</td>\n",
       "    </tr>\n",
       "    <tr>\n",
       "      <th>18</th>\n",
       "      <td>Sample_Size</td>\n",
       "      <td>12.000000</td>\n",
       "      <td>NaN</td>\n",
       "      <td>NaN</td>\n",
       "      <td>101</td>\n",
       "      <td>RandomForestClassifier</td>\n",
       "      <td>{'bootstrap': True, 'ccp_alpha': 0.0, 'class_w...</td>\n",
       "    </tr>\n",
       "  </tbody>\n",
       "</table>\n",
       "</div>"
      ],
      "text/plain": [
       "                   Metric    overall  Race_priv  Race_dis  Model_Seed  \\\n",
       "0                    Mean   0.663583   0.535514  0.842880         101   \n",
       "1                     Std   0.025310   0.024682  0.026189         101   \n",
       "2                     IQR   0.027500   0.027143  0.028000         101   \n",
       "3   Aleatoric_Uncertainty   0.171558   0.156923  0.192047         101   \n",
       "4     Overall_Uncertainty   0.186077   0.171436  0.206574         101   \n",
       "5        Statistical_Bias   0.044925   0.038243  0.054280         101   \n",
       "6                  Jitter   0.000833   0.000000  0.002000         101   \n",
       "7     Per_Sample_Accuracy   0.999583   1.000000  0.999000         101   \n",
       "8         Label_Stability   0.999167   1.000000  0.998000         101   \n",
       "9                     TPR   1.000000   1.000000  1.000000         101   \n",
       "10                    TNR   1.000000   1.000000  1.000000         101   \n",
       "11                    PPV   1.000000   1.000000  1.000000         101   \n",
       "12                    FNR   0.000000   0.000000  0.000000         101   \n",
       "13                    FPR   0.000000   0.000000  0.000000         101   \n",
       "14               Accuracy   1.000000   1.000000  1.000000         101   \n",
       "15                     F1   1.000000   1.000000  1.000000         101   \n",
       "16         Selection-Rate   0.333333   0.428571  0.200000         101   \n",
       "17          Positive-Rate   1.000000   1.000000  1.000000         101   \n",
       "18            Sample_Size  12.000000        NaN       NaN         101   \n",
       "\n",
       "                Model_Name                                       Model_Params  \n",
       "0   RandomForestClassifier  {'bootstrap': True, 'ccp_alpha': 0.0, 'class_w...  \n",
       "1   RandomForestClassifier  {'bootstrap': True, 'ccp_alpha': 0.0, 'class_w...  \n",
       "2   RandomForestClassifier  {'bootstrap': True, 'ccp_alpha': 0.0, 'class_w...  \n",
       "3   RandomForestClassifier  {'bootstrap': True, 'ccp_alpha': 0.0, 'class_w...  \n",
       "4   RandomForestClassifier  {'bootstrap': True, 'ccp_alpha': 0.0, 'class_w...  \n",
       "5   RandomForestClassifier  {'bootstrap': True, 'ccp_alpha': 0.0, 'class_w...  \n",
       "6   RandomForestClassifier  {'bootstrap': True, 'ccp_alpha': 0.0, 'class_w...  \n",
       "7   RandomForestClassifier  {'bootstrap': True, 'ccp_alpha': 0.0, 'class_w...  \n",
       "8   RandomForestClassifier  {'bootstrap': True, 'ccp_alpha': 0.0, 'class_w...  \n",
       "9   RandomForestClassifier  {'bootstrap': True, 'ccp_alpha': 0.0, 'class_w...  \n",
       "10  RandomForestClassifier  {'bootstrap': True, 'ccp_alpha': 0.0, 'class_w...  \n",
       "11  RandomForestClassifier  {'bootstrap': True, 'ccp_alpha': 0.0, 'class_w...  \n",
       "12  RandomForestClassifier  {'bootstrap': True, 'ccp_alpha': 0.0, 'class_w...  \n",
       "13  RandomForestClassifier  {'bootstrap': True, 'ccp_alpha': 0.0, 'class_w...  \n",
       "14  RandomForestClassifier  {'bootstrap': True, 'ccp_alpha': 0.0, 'class_w...  \n",
       "15  RandomForestClassifier  {'bootstrap': True, 'ccp_alpha': 0.0, 'class_w...  \n",
       "16  RandomForestClassifier  {'bootstrap': True, 'ccp_alpha': 0.0, 'class_w...  \n",
       "17  RandomForestClassifier  {'bootstrap': True, 'ccp_alpha': 0.0, 'class_w...  \n",
       "18  RandomForestClassifier  {'bootstrap': True, 'ccp_alpha': 0.0, 'class_w...  "
      ]
     },
     "metadata": {},
     "output_type": "display_data"
    },
    {
     "name": "stdout",
     "output_type": "stream",
     "text": [
      "\n",
      "\n",
      "\n",
      "\n",
      "intervention_param:  0.1\n",
      "2023/08/06, 10:46:36: Tuning RandomForestClassifier...\n"
     ]
    },
    {
     "name": "stderr",
     "output_type": "stream",
     "text": [
      "2023-08-06 10:47:10 experiment_interface.py INFO    : Models are tuned and saved to a file\n",
      "INFO:root:Models are tuned and saved to a file\n"
     ]
    },
    {
     "name": "stdout",
     "output_type": "stream",
     "text": [
      "2023/08/06, 10:47:10: Tuning for RandomForestClassifier is finished [F1 score = 1.0, Accuracy = 1.0]\n",
      "\n"
     ]
    },
    {
     "data": {
      "application/vnd.jupyter.widget-view+json": {
       "model_id": "c789aa3911954fc3a501a27c26080a91",
       "version_major": 2,
       "version_minor": 0
      },
      "text/plain": [
       "Multiple runs progress:   0%|          | 0/1 [00:00<?, ?it/s]"
      ]
     },
     "metadata": {},
     "output_type": "display_data"
    },
    {
     "data": {
      "application/vnd.jupyter.widget-view+json": {
       "model_id": "8a1ff7ddc45549ec89a761130b2bbd17",
       "version_major": 2,
       "version_minor": 0
      },
      "text/plain": [
       "Analyze models in one run:   0%|          | 0/1 [00:00<?, ?it/s]"
      ]
     },
     "metadata": {},
     "output_type": "display_data"
    },
    {
     "name": "stdout",
     "output_type": "stream",
     "text": [
      "##############################  [Model 1 / 1] Analyze RandomForestClassifier  ##############################\n",
      "Model seed:  101\n",
      "\n",
      "Protected groups splits:\n",
      "Race_priv (7, 1)\n",
      "Race_dis (5, 1)\n",
      "\n",
      "\n"
     ]
    },
    {
     "name": "stderr",
     "output_type": "stream",
     "text": [
      "2023-08-06 10:47:10 abstract_overall_variance_analyzer.py INFO    : Start classifiers testing by bootstrap\n",
      "INFO:root:Start classifiers testing by bootstrap\n"
     ]
    },
    {
     "data": {
      "application/vnd.jupyter.widget-view+json": {
       "model_id": "63212ca78ede417c93e7ec98451f703e",
       "version_major": 2,
       "version_minor": 0
      },
      "text/plain": [
       "Classifiers testing by bootstrap:   0%|          | 0/200 [00:00<?, ?it/s]"
      ]
     },
     "metadata": {},
     "output_type": "display_data"
    },
    {
     "name": "stdout",
     "output_type": "stream",
     "text": [
      "\n",
      "\n"
     ]
    },
    {
     "name": "stderr",
     "output_type": "stream",
     "text": [
      "2023-08-06 10:47:36 abstract_overall_variance_analyzer.py INFO    : Successfully tested classifiers by bootstrap\n",
      "INFO:root:Successfully tested classifiers by bootstrap\n",
      "2023-08-06 10:47:36 abstract_overall_variance_analyzer.py INFO    : Successfully computed predict proba metrics\n",
      "INFO:root:Successfully computed predict proba metrics\n"
     ]
    },
    {
     "name": "stdout",
     "output_type": "stream",
     "text": [
      "\n",
      "[RandomForestClassifier] Metrics matrix:\n"
     ]
    },
    {
     "data": {
      "text/html": [
       "<div>\n",
       "<style scoped>\n",
       "    .dataframe tbody tr th:only-of-type {\n",
       "        vertical-align: middle;\n",
       "    }\n",
       "\n",
       "    .dataframe tbody tr th {\n",
       "        vertical-align: top;\n",
       "    }\n",
       "\n",
       "    .dataframe thead th {\n",
       "        text-align: right;\n",
       "    }\n",
       "</style>\n",
       "<table border=\"1\" class=\"dataframe\">\n",
       "  <thead>\n",
       "    <tr style=\"text-align: right;\">\n",
       "      <th></th>\n",
       "      <th>Metric</th>\n",
       "      <th>overall</th>\n",
       "      <th>Race_priv</th>\n",
       "      <th>Race_dis</th>\n",
       "      <th>Model_Seed</th>\n",
       "      <th>Model_Name</th>\n",
       "      <th>Model_Params</th>\n",
       "    </tr>\n",
       "  </thead>\n",
       "  <tbody>\n",
       "    <tr>\n",
       "      <th>0</th>\n",
       "      <td>Mean</td>\n",
       "      <td>0.649142</td>\n",
       "      <td>0.528036</td>\n",
       "      <td>0.818690</td>\n",
       "      <td>101</td>\n",
       "      <td>RandomForestClassifier</td>\n",
       "      <td>{'bootstrap': True, 'ccp_alpha': 0.0, 'class_w...</td>\n",
       "    </tr>\n",
       "    <tr>\n",
       "      <th>1</th>\n",
       "      <td>Std</td>\n",
       "      <td>0.027291</td>\n",
       "      <td>0.027683</td>\n",
       "      <td>0.026742</td>\n",
       "      <td>101</td>\n",
       "      <td>RandomForestClassifier</td>\n",
       "      <td>{'bootstrap': True, 'ccp_alpha': 0.0, 'class_w...</td>\n",
       "    </tr>\n",
       "    <tr>\n",
       "      <th>2</th>\n",
       "      <td>IQR</td>\n",
       "      <td>0.030208</td>\n",
       "      <td>0.031429</td>\n",
       "      <td>0.028500</td>\n",
       "      <td>101</td>\n",
       "      <td>RandomForestClassifier</td>\n",
       "      <td>{'bootstrap': True, 'ccp_alpha': 0.0, 'class_w...</td>\n",
       "    </tr>\n",
       "    <tr>\n",
       "      <th>3</th>\n",
       "      <td>Aleatoric_Uncertainty</td>\n",
       "      <td>0.176394</td>\n",
       "      <td>0.174719</td>\n",
       "      <td>0.178738</td>\n",
       "      <td>101</td>\n",
       "      <td>RandomForestClassifier</td>\n",
       "      <td>{'bootstrap': True, 'ccp_alpha': 0.0, 'class_w...</td>\n",
       "    </tr>\n",
       "    <tr>\n",
       "      <th>4</th>\n",
       "      <td>Overall_Uncertainty</td>\n",
       "      <td>0.192285</td>\n",
       "      <td>0.190370</td>\n",
       "      <td>0.194966</td>\n",
       "      <td>101</td>\n",
       "      <td>RandomForestClassifier</td>\n",
       "      <td>{'bootstrap': True, 'ccp_alpha': 0.0, 'class_w...</td>\n",
       "    </tr>\n",
       "    <tr>\n",
       "      <th>5</th>\n",
       "      <td>Statistical_Bias</td>\n",
       "      <td>0.042642</td>\n",
       "      <td>0.044636</td>\n",
       "      <td>0.039850</td>\n",
       "      <td>101</td>\n",
       "      <td>RandomForestClassifier</td>\n",
       "      <td>{'bootstrap': True, 'ccp_alpha': 0.0, 'class_w...</td>\n",
       "    </tr>\n",
       "    <tr>\n",
       "      <th>6</th>\n",
       "      <td>Jitter</td>\n",
       "      <td>0.001658</td>\n",
       "      <td>0.002843</td>\n",
       "      <td>0.000000</td>\n",
       "      <td>101</td>\n",
       "      <td>RandomForestClassifier</td>\n",
       "      <td>{'bootstrap': True, 'ccp_alpha': 0.0, 'class_w...</td>\n",
       "    </tr>\n",
       "    <tr>\n",
       "      <th>7</th>\n",
       "      <td>Per_Sample_Accuracy</td>\n",
       "      <td>0.999167</td>\n",
       "      <td>0.998571</td>\n",
       "      <td>1.000000</td>\n",
       "      <td>101</td>\n",
       "      <td>RandomForestClassifier</td>\n",
       "      <td>{'bootstrap': True, 'ccp_alpha': 0.0, 'class_w...</td>\n",
       "    </tr>\n",
       "    <tr>\n",
       "      <th>8</th>\n",
       "      <td>Label_Stability</td>\n",
       "      <td>0.998333</td>\n",
       "      <td>0.997143</td>\n",
       "      <td>1.000000</td>\n",
       "      <td>101</td>\n",
       "      <td>RandomForestClassifier</td>\n",
       "      <td>{'bootstrap': True, 'ccp_alpha': 0.0, 'class_w...</td>\n",
       "    </tr>\n",
       "    <tr>\n",
       "      <th>9</th>\n",
       "      <td>TPR</td>\n",
       "      <td>1.000000</td>\n",
       "      <td>1.000000</td>\n",
       "      <td>1.000000</td>\n",
       "      <td>101</td>\n",
       "      <td>RandomForestClassifier</td>\n",
       "      <td>{'bootstrap': True, 'ccp_alpha': 0.0, 'class_w...</td>\n",
       "    </tr>\n",
       "    <tr>\n",
       "      <th>10</th>\n",
       "      <td>TNR</td>\n",
       "      <td>1.000000</td>\n",
       "      <td>1.000000</td>\n",
       "      <td>1.000000</td>\n",
       "      <td>101</td>\n",
       "      <td>RandomForestClassifier</td>\n",
       "      <td>{'bootstrap': True, 'ccp_alpha': 0.0, 'class_w...</td>\n",
       "    </tr>\n",
       "    <tr>\n",
       "      <th>11</th>\n",
       "      <td>PPV</td>\n",
       "      <td>1.000000</td>\n",
       "      <td>1.000000</td>\n",
       "      <td>1.000000</td>\n",
       "      <td>101</td>\n",
       "      <td>RandomForestClassifier</td>\n",
       "      <td>{'bootstrap': True, 'ccp_alpha': 0.0, 'class_w...</td>\n",
       "    </tr>\n",
       "    <tr>\n",
       "      <th>12</th>\n",
       "      <td>FNR</td>\n",
       "      <td>0.000000</td>\n",
       "      <td>0.000000</td>\n",
       "      <td>0.000000</td>\n",
       "      <td>101</td>\n",
       "      <td>RandomForestClassifier</td>\n",
       "      <td>{'bootstrap': True, 'ccp_alpha': 0.0, 'class_w...</td>\n",
       "    </tr>\n",
       "    <tr>\n",
       "      <th>13</th>\n",
       "      <td>FPR</td>\n",
       "      <td>0.000000</td>\n",
       "      <td>0.000000</td>\n",
       "      <td>0.000000</td>\n",
       "      <td>101</td>\n",
       "      <td>RandomForestClassifier</td>\n",
       "      <td>{'bootstrap': True, 'ccp_alpha': 0.0, 'class_w...</td>\n",
       "    </tr>\n",
       "    <tr>\n",
       "      <th>14</th>\n",
       "      <td>Accuracy</td>\n",
       "      <td>1.000000</td>\n",
       "      <td>1.000000</td>\n",
       "      <td>1.000000</td>\n",
       "      <td>101</td>\n",
       "      <td>RandomForestClassifier</td>\n",
       "      <td>{'bootstrap': True, 'ccp_alpha': 0.0, 'class_w...</td>\n",
       "    </tr>\n",
       "    <tr>\n",
       "      <th>15</th>\n",
       "      <td>F1</td>\n",
       "      <td>1.000000</td>\n",
       "      <td>1.000000</td>\n",
       "      <td>1.000000</td>\n",
       "      <td>101</td>\n",
       "      <td>RandomForestClassifier</td>\n",
       "      <td>{'bootstrap': True, 'ccp_alpha': 0.0, 'class_w...</td>\n",
       "    </tr>\n",
       "    <tr>\n",
       "      <th>16</th>\n",
       "      <td>Selection-Rate</td>\n",
       "      <td>0.333333</td>\n",
       "      <td>0.428571</td>\n",
       "      <td>0.200000</td>\n",
       "      <td>101</td>\n",
       "      <td>RandomForestClassifier</td>\n",
       "      <td>{'bootstrap': True, 'ccp_alpha': 0.0, 'class_w...</td>\n",
       "    </tr>\n",
       "    <tr>\n",
       "      <th>17</th>\n",
       "      <td>Positive-Rate</td>\n",
       "      <td>1.000000</td>\n",
       "      <td>1.000000</td>\n",
       "      <td>1.000000</td>\n",
       "      <td>101</td>\n",
       "      <td>RandomForestClassifier</td>\n",
       "      <td>{'bootstrap': True, 'ccp_alpha': 0.0, 'class_w...</td>\n",
       "    </tr>\n",
       "    <tr>\n",
       "      <th>18</th>\n",
       "      <td>Sample_Size</td>\n",
       "      <td>12.000000</td>\n",
       "      <td>NaN</td>\n",
       "      <td>NaN</td>\n",
       "      <td>101</td>\n",
       "      <td>RandomForestClassifier</td>\n",
       "      <td>{'bootstrap': True, 'ccp_alpha': 0.0, 'class_w...</td>\n",
       "    </tr>\n",
       "  </tbody>\n",
       "</table>\n",
       "</div>"
      ],
      "text/plain": [
       "                   Metric    overall  Race_priv  Race_dis  Model_Seed  \\\n",
       "0                    Mean   0.649142   0.528036  0.818690         101   \n",
       "1                     Std   0.027291   0.027683  0.026742         101   \n",
       "2                     IQR   0.030208   0.031429  0.028500         101   \n",
       "3   Aleatoric_Uncertainty   0.176394   0.174719  0.178738         101   \n",
       "4     Overall_Uncertainty   0.192285   0.190370  0.194966         101   \n",
       "5        Statistical_Bias   0.042642   0.044636  0.039850         101   \n",
       "6                  Jitter   0.001658   0.002843  0.000000         101   \n",
       "7     Per_Sample_Accuracy   0.999167   0.998571  1.000000         101   \n",
       "8         Label_Stability   0.998333   0.997143  1.000000         101   \n",
       "9                     TPR   1.000000   1.000000  1.000000         101   \n",
       "10                    TNR   1.000000   1.000000  1.000000         101   \n",
       "11                    PPV   1.000000   1.000000  1.000000         101   \n",
       "12                    FNR   0.000000   0.000000  0.000000         101   \n",
       "13                    FPR   0.000000   0.000000  0.000000         101   \n",
       "14               Accuracy   1.000000   1.000000  1.000000         101   \n",
       "15                     F1   1.000000   1.000000  1.000000         101   \n",
       "16         Selection-Rate   0.333333   0.428571  0.200000         101   \n",
       "17          Positive-Rate   1.000000   1.000000  1.000000         101   \n",
       "18            Sample_Size  12.000000        NaN       NaN         101   \n",
       "\n",
       "                Model_Name                                       Model_Params  \n",
       "0   RandomForestClassifier  {'bootstrap': True, 'ccp_alpha': 0.0, 'class_w...  \n",
       "1   RandomForestClassifier  {'bootstrap': True, 'ccp_alpha': 0.0, 'class_w...  \n",
       "2   RandomForestClassifier  {'bootstrap': True, 'ccp_alpha': 0.0, 'class_w...  \n",
       "3   RandomForestClassifier  {'bootstrap': True, 'ccp_alpha': 0.0, 'class_w...  \n",
       "4   RandomForestClassifier  {'bootstrap': True, 'ccp_alpha': 0.0, 'class_w...  \n",
       "5   RandomForestClassifier  {'bootstrap': True, 'ccp_alpha': 0.0, 'class_w...  \n",
       "6   RandomForestClassifier  {'bootstrap': True, 'ccp_alpha': 0.0, 'class_w...  \n",
       "7   RandomForestClassifier  {'bootstrap': True, 'ccp_alpha': 0.0, 'class_w...  \n",
       "8   RandomForestClassifier  {'bootstrap': True, 'ccp_alpha': 0.0, 'class_w...  \n",
       "9   RandomForestClassifier  {'bootstrap': True, 'ccp_alpha': 0.0, 'class_w...  \n",
       "10  RandomForestClassifier  {'bootstrap': True, 'ccp_alpha': 0.0, 'class_w...  \n",
       "11  RandomForestClassifier  {'bootstrap': True, 'ccp_alpha': 0.0, 'class_w...  \n",
       "12  RandomForestClassifier  {'bootstrap': True, 'ccp_alpha': 0.0, 'class_w...  \n",
       "13  RandomForestClassifier  {'bootstrap': True, 'ccp_alpha': 0.0, 'class_w...  \n",
       "14  RandomForestClassifier  {'bootstrap': True, 'ccp_alpha': 0.0, 'class_w...  \n",
       "15  RandomForestClassifier  {'bootstrap': True, 'ccp_alpha': 0.0, 'class_w...  \n",
       "16  RandomForestClassifier  {'bootstrap': True, 'ccp_alpha': 0.0, 'class_w...  \n",
       "17  RandomForestClassifier  {'bootstrap': True, 'ccp_alpha': 0.0, 'class_w...  \n",
       "18  RandomForestClassifier  {'bootstrap': True, 'ccp_alpha': 0.0, 'class_w...  "
      ]
     },
     "metadata": {},
     "output_type": "display_data"
    },
    {
     "name": "stdout",
     "output_type": "stream",
     "text": [
      "\n",
      "\n",
      "\n",
      "\n",
      "intervention_param:  0.2\n",
      "2023/08/06, 10:47:36: Tuning RandomForestClassifier...\n"
     ]
    },
    {
     "name": "stderr",
     "output_type": "stream",
     "text": [
      "2023-08-06 10:48:10 experiment_interface.py INFO    : Models are tuned and saved to a file\n",
      "INFO:root:Models are tuned and saved to a file\n"
     ]
    },
    {
     "name": "stdout",
     "output_type": "stream",
     "text": [
      "2023/08/06, 10:48:10: Tuning for RandomForestClassifier is finished [F1 score = 1.0, Accuracy = 1.0]\n",
      "\n"
     ]
    },
    {
     "data": {
      "application/vnd.jupyter.widget-view+json": {
       "model_id": "3437ff69692045f38e88f828e512db0c",
       "version_major": 2,
       "version_minor": 0
      },
      "text/plain": [
       "Multiple runs progress:   0%|          | 0/1 [00:00<?, ?it/s]"
      ]
     },
     "metadata": {},
     "output_type": "display_data"
    },
    {
     "data": {
      "application/vnd.jupyter.widget-view+json": {
       "model_id": "38c1c8a1870b4f32b212b2cb906fdac2",
       "version_major": 2,
       "version_minor": 0
      },
      "text/plain": [
       "Analyze models in one run:   0%|          | 0/1 [00:00<?, ?it/s]"
      ]
     },
     "metadata": {},
     "output_type": "display_data"
    },
    {
     "name": "stdout",
     "output_type": "stream",
     "text": [
      "##############################  [Model 1 / 1] Analyze RandomForestClassifier  ##############################\n",
      "Model seed:  101\n",
      "\n",
      "Protected groups splits:\n",
      "Race_priv (7, 1)\n",
      "Race_dis (5, 1)\n",
      "\n",
      "\n"
     ]
    },
    {
     "name": "stderr",
     "output_type": "stream",
     "text": [
      "2023-08-06 10:48:10 abstract_overall_variance_analyzer.py INFO    : Start classifiers testing by bootstrap\n",
      "INFO:root:Start classifiers testing by bootstrap\n"
     ]
    },
    {
     "data": {
      "application/vnd.jupyter.widget-view+json": {
       "model_id": "7ba073c47ecc4fa7b3f39ed79fb370ec",
       "version_major": 2,
       "version_minor": 0
      },
      "text/plain": [
       "Classifiers testing by bootstrap:   0%|          | 0/200 [00:00<?, ?it/s]"
      ]
     },
     "metadata": {},
     "output_type": "display_data"
    },
    {
     "name": "stdout",
     "output_type": "stream",
     "text": [
      "\n",
      "\n"
     ]
    },
    {
     "name": "stderr",
     "output_type": "stream",
     "text": [
      "2023-08-06 10:48:31 abstract_overall_variance_analyzer.py INFO    : Successfully tested classifiers by bootstrap\n",
      "INFO:root:Successfully tested classifiers by bootstrap\n",
      "2023-08-06 10:48:31 abstract_overall_variance_analyzer.py INFO    : Successfully computed predict proba metrics\n",
      "INFO:root:Successfully computed predict proba metrics\n"
     ]
    },
    {
     "name": "stdout",
     "output_type": "stream",
     "text": [
      "\n",
      "[RandomForestClassifier] Metrics matrix:\n"
     ]
    },
    {
     "data": {
      "text/html": [
       "<div>\n",
       "<style scoped>\n",
       "    .dataframe tbody tr th:only-of-type {\n",
       "        vertical-align: middle;\n",
       "    }\n",
       "\n",
       "    .dataframe tbody tr th {\n",
       "        vertical-align: top;\n",
       "    }\n",
       "\n",
       "    .dataframe thead th {\n",
       "        text-align: right;\n",
       "    }\n",
       "</style>\n",
       "<table border=\"1\" class=\"dataframe\">\n",
       "  <thead>\n",
       "    <tr style=\"text-align: right;\">\n",
       "      <th></th>\n",
       "      <th>Metric</th>\n",
       "      <th>overall</th>\n",
       "      <th>Race_priv</th>\n",
       "      <th>Race_dis</th>\n",
       "      <th>Model_Seed</th>\n",
       "      <th>Model_Name</th>\n",
       "      <th>Model_Params</th>\n",
       "    </tr>\n",
       "  </thead>\n",
       "  <tbody>\n",
       "    <tr>\n",
       "      <th>0</th>\n",
       "      <td>Mean</td>\n",
       "      <td>0.657521</td>\n",
       "      <td>0.551164</td>\n",
       "      <td>0.806420</td>\n",
       "      <td>101</td>\n",
       "      <td>RandomForestClassifier</td>\n",
       "      <td>{'bootstrap': False, 'ccp_alpha': 0.0, 'class_...</td>\n",
       "    </tr>\n",
       "    <tr>\n",
       "      <th>1</th>\n",
       "      <td>Std</td>\n",
       "      <td>0.031502</td>\n",
       "      <td>0.034046</td>\n",
       "      <td>0.027940</td>\n",
       "      <td>101</td>\n",
       "      <td>RandomForestClassifier</td>\n",
       "      <td>{'bootstrap': False, 'ccp_alpha': 0.0, 'class_...</td>\n",
       "    </tr>\n",
       "    <tr>\n",
       "      <th>2</th>\n",
       "      <td>IQR</td>\n",
       "      <td>0.022708</td>\n",
       "      <td>0.021429</td>\n",
       "      <td>0.024500</td>\n",
       "      <td>101</td>\n",
       "      <td>RandomForestClassifier</td>\n",
       "      <td>{'bootstrap': False, 'ccp_alpha': 0.0, 'class_...</td>\n",
       "    </tr>\n",
       "    <tr>\n",
       "      <th>3</th>\n",
       "      <td>Aleatoric_Uncertainty</td>\n",
       "      <td>0.110758</td>\n",
       "      <td>0.117628</td>\n",
       "      <td>0.101140</td>\n",
       "      <td>101</td>\n",
       "      <td>RandomForestClassifier</td>\n",
       "      <td>{'bootstrap': False, 'ccp_alpha': 0.0, 'class_...</td>\n",
       "    </tr>\n",
       "    <tr>\n",
       "      <th>4</th>\n",
       "      <td>Overall_Uncertainty</td>\n",
       "      <td>0.136560</td>\n",
       "      <td>0.144669</td>\n",
       "      <td>0.125208</td>\n",
       "      <td>101</td>\n",
       "      <td>RandomForestClassifier</td>\n",
       "      <td>{'bootstrap': False, 'ccp_alpha': 0.0, 'class_...</td>\n",
       "    </tr>\n",
       "    <tr>\n",
       "      <th>5</th>\n",
       "      <td>Statistical_Bias</td>\n",
       "      <td>0.024938</td>\n",
       "      <td>0.028079</td>\n",
       "      <td>0.020540</td>\n",
       "      <td>101</td>\n",
       "      <td>RandomForestClassifier</td>\n",
       "      <td>{'bootstrap': False, 'ccp_alpha': 0.0, 'class_...</td>\n",
       "    </tr>\n",
       "    <tr>\n",
       "      <th>6</th>\n",
       "      <td>Jitter</td>\n",
       "      <td>0.000833</td>\n",
       "      <td>0.001429</td>\n",
       "      <td>0.000000</td>\n",
       "      <td>101</td>\n",
       "      <td>RandomForestClassifier</td>\n",
       "      <td>{'bootstrap': False, 'ccp_alpha': 0.0, 'class_...</td>\n",
       "    </tr>\n",
       "    <tr>\n",
       "      <th>7</th>\n",
       "      <td>Per_Sample_Accuracy</td>\n",
       "      <td>0.999583</td>\n",
       "      <td>0.999286</td>\n",
       "      <td>1.000000</td>\n",
       "      <td>101</td>\n",
       "      <td>RandomForestClassifier</td>\n",
       "      <td>{'bootstrap': False, 'ccp_alpha': 0.0, 'class_...</td>\n",
       "    </tr>\n",
       "    <tr>\n",
       "      <th>8</th>\n",
       "      <td>Label_Stability</td>\n",
       "      <td>0.999167</td>\n",
       "      <td>0.998571</td>\n",
       "      <td>1.000000</td>\n",
       "      <td>101</td>\n",
       "      <td>RandomForestClassifier</td>\n",
       "      <td>{'bootstrap': False, 'ccp_alpha': 0.0, 'class_...</td>\n",
       "    </tr>\n",
       "    <tr>\n",
       "      <th>9</th>\n",
       "      <td>TPR</td>\n",
       "      <td>1.000000</td>\n",
       "      <td>1.000000</td>\n",
       "      <td>1.000000</td>\n",
       "      <td>101</td>\n",
       "      <td>RandomForestClassifier</td>\n",
       "      <td>{'bootstrap': False, 'ccp_alpha': 0.0, 'class_...</td>\n",
       "    </tr>\n",
       "    <tr>\n",
       "      <th>10</th>\n",
       "      <td>TNR</td>\n",
       "      <td>1.000000</td>\n",
       "      <td>1.000000</td>\n",
       "      <td>1.000000</td>\n",
       "      <td>101</td>\n",
       "      <td>RandomForestClassifier</td>\n",
       "      <td>{'bootstrap': False, 'ccp_alpha': 0.0, 'class_...</td>\n",
       "    </tr>\n",
       "    <tr>\n",
       "      <th>11</th>\n",
       "      <td>PPV</td>\n",
       "      <td>1.000000</td>\n",
       "      <td>1.000000</td>\n",
       "      <td>1.000000</td>\n",
       "      <td>101</td>\n",
       "      <td>RandomForestClassifier</td>\n",
       "      <td>{'bootstrap': False, 'ccp_alpha': 0.0, 'class_...</td>\n",
       "    </tr>\n",
       "    <tr>\n",
       "      <th>12</th>\n",
       "      <td>FNR</td>\n",
       "      <td>0.000000</td>\n",
       "      <td>0.000000</td>\n",
       "      <td>0.000000</td>\n",
       "      <td>101</td>\n",
       "      <td>RandomForestClassifier</td>\n",
       "      <td>{'bootstrap': False, 'ccp_alpha': 0.0, 'class_...</td>\n",
       "    </tr>\n",
       "    <tr>\n",
       "      <th>13</th>\n",
       "      <td>FPR</td>\n",
       "      <td>0.000000</td>\n",
       "      <td>0.000000</td>\n",
       "      <td>0.000000</td>\n",
       "      <td>101</td>\n",
       "      <td>RandomForestClassifier</td>\n",
       "      <td>{'bootstrap': False, 'ccp_alpha': 0.0, 'class_...</td>\n",
       "    </tr>\n",
       "    <tr>\n",
       "      <th>14</th>\n",
       "      <td>Accuracy</td>\n",
       "      <td>1.000000</td>\n",
       "      <td>1.000000</td>\n",
       "      <td>1.000000</td>\n",
       "      <td>101</td>\n",
       "      <td>RandomForestClassifier</td>\n",
       "      <td>{'bootstrap': False, 'ccp_alpha': 0.0, 'class_...</td>\n",
       "    </tr>\n",
       "    <tr>\n",
       "      <th>15</th>\n",
       "      <td>F1</td>\n",
       "      <td>1.000000</td>\n",
       "      <td>1.000000</td>\n",
       "      <td>1.000000</td>\n",
       "      <td>101</td>\n",
       "      <td>RandomForestClassifier</td>\n",
       "      <td>{'bootstrap': False, 'ccp_alpha': 0.0, 'class_...</td>\n",
       "    </tr>\n",
       "    <tr>\n",
       "      <th>16</th>\n",
       "      <td>Selection-Rate</td>\n",
       "      <td>0.333333</td>\n",
       "      <td>0.428571</td>\n",
       "      <td>0.200000</td>\n",
       "      <td>101</td>\n",
       "      <td>RandomForestClassifier</td>\n",
       "      <td>{'bootstrap': False, 'ccp_alpha': 0.0, 'class_...</td>\n",
       "    </tr>\n",
       "    <tr>\n",
       "      <th>17</th>\n",
       "      <td>Positive-Rate</td>\n",
       "      <td>1.000000</td>\n",
       "      <td>1.000000</td>\n",
       "      <td>1.000000</td>\n",
       "      <td>101</td>\n",
       "      <td>RandomForestClassifier</td>\n",
       "      <td>{'bootstrap': False, 'ccp_alpha': 0.0, 'class_...</td>\n",
       "    </tr>\n",
       "    <tr>\n",
       "      <th>18</th>\n",
       "      <td>Sample_Size</td>\n",
       "      <td>12.000000</td>\n",
       "      <td>NaN</td>\n",
       "      <td>NaN</td>\n",
       "      <td>101</td>\n",
       "      <td>RandomForestClassifier</td>\n",
       "      <td>{'bootstrap': False, 'ccp_alpha': 0.0, 'class_...</td>\n",
       "    </tr>\n",
       "  </tbody>\n",
       "</table>\n",
       "</div>"
      ],
      "text/plain": [
       "                   Metric    overall  Race_priv  Race_dis  Model_Seed  \\\n",
       "0                    Mean   0.657521   0.551164  0.806420         101   \n",
       "1                     Std   0.031502   0.034046  0.027940         101   \n",
       "2                     IQR   0.022708   0.021429  0.024500         101   \n",
       "3   Aleatoric_Uncertainty   0.110758   0.117628  0.101140         101   \n",
       "4     Overall_Uncertainty   0.136560   0.144669  0.125208         101   \n",
       "5        Statistical_Bias   0.024938   0.028079  0.020540         101   \n",
       "6                  Jitter   0.000833   0.001429  0.000000         101   \n",
       "7     Per_Sample_Accuracy   0.999583   0.999286  1.000000         101   \n",
       "8         Label_Stability   0.999167   0.998571  1.000000         101   \n",
       "9                     TPR   1.000000   1.000000  1.000000         101   \n",
       "10                    TNR   1.000000   1.000000  1.000000         101   \n",
       "11                    PPV   1.000000   1.000000  1.000000         101   \n",
       "12                    FNR   0.000000   0.000000  0.000000         101   \n",
       "13                    FPR   0.000000   0.000000  0.000000         101   \n",
       "14               Accuracy   1.000000   1.000000  1.000000         101   \n",
       "15                     F1   1.000000   1.000000  1.000000         101   \n",
       "16         Selection-Rate   0.333333   0.428571  0.200000         101   \n",
       "17          Positive-Rate   1.000000   1.000000  1.000000         101   \n",
       "18            Sample_Size  12.000000        NaN       NaN         101   \n",
       "\n",
       "                Model_Name                                       Model_Params  \n",
       "0   RandomForestClassifier  {'bootstrap': False, 'ccp_alpha': 0.0, 'class_...  \n",
       "1   RandomForestClassifier  {'bootstrap': False, 'ccp_alpha': 0.0, 'class_...  \n",
       "2   RandomForestClassifier  {'bootstrap': False, 'ccp_alpha': 0.0, 'class_...  \n",
       "3   RandomForestClassifier  {'bootstrap': False, 'ccp_alpha': 0.0, 'class_...  \n",
       "4   RandomForestClassifier  {'bootstrap': False, 'ccp_alpha': 0.0, 'class_...  \n",
       "5   RandomForestClassifier  {'bootstrap': False, 'ccp_alpha': 0.0, 'class_...  \n",
       "6   RandomForestClassifier  {'bootstrap': False, 'ccp_alpha': 0.0, 'class_...  \n",
       "7   RandomForestClassifier  {'bootstrap': False, 'ccp_alpha': 0.0, 'class_...  \n",
       "8   RandomForestClassifier  {'bootstrap': False, 'ccp_alpha': 0.0, 'class_...  \n",
       "9   RandomForestClassifier  {'bootstrap': False, 'ccp_alpha': 0.0, 'class_...  \n",
       "10  RandomForestClassifier  {'bootstrap': False, 'ccp_alpha': 0.0, 'class_...  \n",
       "11  RandomForestClassifier  {'bootstrap': False, 'ccp_alpha': 0.0, 'class_...  \n",
       "12  RandomForestClassifier  {'bootstrap': False, 'ccp_alpha': 0.0, 'class_...  \n",
       "13  RandomForestClassifier  {'bootstrap': False, 'ccp_alpha': 0.0, 'class_...  \n",
       "14  RandomForestClassifier  {'bootstrap': False, 'ccp_alpha': 0.0, 'class_...  \n",
       "15  RandomForestClassifier  {'bootstrap': False, 'ccp_alpha': 0.0, 'class_...  \n",
       "16  RandomForestClassifier  {'bootstrap': False, 'ccp_alpha': 0.0, 'class_...  \n",
       "17  RandomForestClassifier  {'bootstrap': False, 'ccp_alpha': 0.0, 'class_...  \n",
       "18  RandomForestClassifier  {'bootstrap': False, 'ccp_alpha': 0.0, 'class_...  "
      ]
     },
     "metadata": {},
     "output_type": "display_data"
    },
    {
     "name": "stdout",
     "output_type": "stream",
     "text": [
      "\n",
      "\n",
      "\n",
      "\n",
      "intervention_param:  0.3\n",
      "2023/08/06, 10:48:32: Tuning RandomForestClassifier...\n"
     ]
    },
    {
     "name": "stderr",
     "output_type": "stream",
     "text": [
      "2023-08-06 10:49:06 experiment_interface.py INFO    : Models are tuned and saved to a file\n",
      "INFO:root:Models are tuned and saved to a file\n"
     ]
    },
    {
     "name": "stdout",
     "output_type": "stream",
     "text": [
      "2023/08/06, 10:49:06: Tuning for RandomForestClassifier is finished [F1 score = 0.9703703703703704, Accuracy = 0.9722222222222222]\n",
      "\n"
     ]
    },
    {
     "data": {
      "application/vnd.jupyter.widget-view+json": {
       "model_id": "c95517d4d83347cabd480351cca6ef92",
       "version_major": 2,
       "version_minor": 0
      },
      "text/plain": [
       "Multiple runs progress:   0%|          | 0/1 [00:00<?, ?it/s]"
      ]
     },
     "metadata": {},
     "output_type": "display_data"
    },
    {
     "data": {
      "application/vnd.jupyter.widget-view+json": {
       "model_id": "f797a487911840dda40c59666e88c33d",
       "version_major": 2,
       "version_minor": 0
      },
      "text/plain": [
       "Analyze models in one run:   0%|          | 0/1 [00:00<?, ?it/s]"
      ]
     },
     "metadata": {},
     "output_type": "display_data"
    },
    {
     "name": "stdout",
     "output_type": "stream",
     "text": [
      "##############################  [Model 1 / 1] Analyze RandomForestClassifier  ##############################\n",
      "Model seed:  101\n",
      "\n",
      "Protected groups splits:\n",
      "Race_priv (7, 1)\n",
      "Race_dis (5, 1)\n",
      "\n",
      "\n"
     ]
    },
    {
     "name": "stderr",
     "output_type": "stream",
     "text": [
      "2023-08-06 10:49:06 abstract_overall_variance_analyzer.py INFO    : Start classifiers testing by bootstrap\n",
      "INFO:root:Start classifiers testing by bootstrap\n"
     ]
    },
    {
     "data": {
      "application/vnd.jupyter.widget-view+json": {
       "model_id": "8e848bbe14c842919a8f9247a36c6fc4",
       "version_major": 2,
       "version_minor": 0
      },
      "text/plain": [
       "Classifiers testing by bootstrap:   0%|          | 0/200 [00:00<?, ?it/s]"
      ]
     },
     "metadata": {},
     "output_type": "display_data"
    },
    {
     "name": "stdout",
     "output_type": "stream",
     "text": [
      "\n",
      "\n"
     ]
    },
    {
     "name": "stderr",
     "output_type": "stream",
     "text": [
      "2023-08-06 10:49:31 abstract_overall_variance_analyzer.py INFO    : Successfully tested classifiers by bootstrap\n",
      "INFO:root:Successfully tested classifiers by bootstrap\n",
      "2023-08-06 10:49:31 abstract_overall_variance_analyzer.py INFO    : Successfully computed predict proba metrics\n",
      "INFO:root:Successfully computed predict proba metrics\n"
     ]
    },
    {
     "name": "stdout",
     "output_type": "stream",
     "text": [
      "\n",
      "[RandomForestClassifier] Metrics matrix:\n"
     ]
    },
    {
     "data": {
      "text/html": [
       "<div>\n",
       "<style scoped>\n",
       "    .dataframe tbody tr th:only-of-type {\n",
       "        vertical-align: middle;\n",
       "    }\n",
       "\n",
       "    .dataframe tbody tr th {\n",
       "        vertical-align: top;\n",
       "    }\n",
       "\n",
       "    .dataframe thead th {\n",
       "        text-align: right;\n",
       "    }\n",
       "</style>\n",
       "<table border=\"1\" class=\"dataframe\">\n",
       "  <thead>\n",
       "    <tr style=\"text-align: right;\">\n",
       "      <th></th>\n",
       "      <th>Metric</th>\n",
       "      <th>overall</th>\n",
       "      <th>Race_priv</th>\n",
       "      <th>Race_dis</th>\n",
       "      <th>Model_Seed</th>\n",
       "      <th>Model_Name</th>\n",
       "      <th>Model_Params</th>\n",
       "    </tr>\n",
       "  </thead>\n",
       "  <tbody>\n",
       "    <tr>\n",
       "      <th>0</th>\n",
       "      <td>Mean</td>\n",
       "      <td>0.649208</td>\n",
       "      <td>0.539450</td>\n",
       "      <td>0.802870</td>\n",
       "      <td>101</td>\n",
       "      <td>RandomForestClassifier</td>\n",
       "      <td>{'bootstrap': True, 'ccp_alpha': 0.0, 'class_w...</td>\n",
       "    </tr>\n",
       "    <tr>\n",
       "      <th>1</th>\n",
       "      <td>Std</td>\n",
       "      <td>0.030728</td>\n",
       "      <td>0.033071</td>\n",
       "      <td>0.027448</td>\n",
       "      <td>101</td>\n",
       "      <td>RandomForestClassifier</td>\n",
       "      <td>{'bootstrap': True, 'ccp_alpha': 0.0, 'class_w...</td>\n",
       "    </tr>\n",
       "    <tr>\n",
       "      <th>2</th>\n",
       "      <td>IQR</td>\n",
       "      <td>0.032708</td>\n",
       "      <td>0.036071</td>\n",
       "      <td>0.028000</td>\n",
       "      <td>101</td>\n",
       "      <td>RandomForestClassifier</td>\n",
       "      <td>{'bootstrap': True, 'ccp_alpha': 0.0, 'class_w...</td>\n",
       "    </tr>\n",
       "    <tr>\n",
       "      <th>3</th>\n",
       "      <td>Aleatoric_Uncertainty</td>\n",
       "      <td>0.167704</td>\n",
       "      <td>0.184684</td>\n",
       "      <td>0.143932</td>\n",
       "      <td>101</td>\n",
       "      <td>RandomForestClassifier</td>\n",
       "      <td>{'bootstrap': True, 'ccp_alpha': 0.0, 'class_w...</td>\n",
       "    </tr>\n",
       "    <tr>\n",
       "      <th>4</th>\n",
       "      <td>Overall_Uncertainty</td>\n",
       "      <td>0.188202</td>\n",
       "      <td>0.205831</td>\n",
       "      <td>0.163522</td>\n",
       "      <td>101</td>\n",
       "      <td>RandomForestClassifier</td>\n",
       "      <td>{'bootstrap': True, 'ccp_alpha': 0.0, 'class_w...</td>\n",
       "    </tr>\n",
       "    <tr>\n",
       "      <th>5</th>\n",
       "      <td>Statistical_Bias</td>\n",
       "      <td>0.036717</td>\n",
       "      <td>0.043307</td>\n",
       "      <td>0.027490</td>\n",
       "      <td>101</td>\n",
       "      <td>RandomForestClassifier</td>\n",
       "      <td>{'bootstrap': True, 'ccp_alpha': 0.0, 'class_w...</td>\n",
       "    </tr>\n",
       "    <tr>\n",
       "      <th>6</th>\n",
       "      <td>Jitter</td>\n",
       "      <td>0.000000</td>\n",
       "      <td>0.000000</td>\n",
       "      <td>0.000000</td>\n",
       "      <td>101</td>\n",
       "      <td>RandomForestClassifier</td>\n",
       "      <td>{'bootstrap': True, 'ccp_alpha': 0.0, 'class_w...</td>\n",
       "    </tr>\n",
       "    <tr>\n",
       "      <th>7</th>\n",
       "      <td>Per_Sample_Accuracy</td>\n",
       "      <td>1.000000</td>\n",
       "      <td>1.000000</td>\n",
       "      <td>1.000000</td>\n",
       "      <td>101</td>\n",
       "      <td>RandomForestClassifier</td>\n",
       "      <td>{'bootstrap': True, 'ccp_alpha': 0.0, 'class_w...</td>\n",
       "    </tr>\n",
       "    <tr>\n",
       "      <th>8</th>\n",
       "      <td>Label_Stability</td>\n",
       "      <td>1.000000</td>\n",
       "      <td>1.000000</td>\n",
       "      <td>1.000000</td>\n",
       "      <td>101</td>\n",
       "      <td>RandomForestClassifier</td>\n",
       "      <td>{'bootstrap': True, 'ccp_alpha': 0.0, 'class_w...</td>\n",
       "    </tr>\n",
       "    <tr>\n",
       "      <th>9</th>\n",
       "      <td>TPR</td>\n",
       "      <td>1.000000</td>\n",
       "      <td>1.000000</td>\n",
       "      <td>1.000000</td>\n",
       "      <td>101</td>\n",
       "      <td>RandomForestClassifier</td>\n",
       "      <td>{'bootstrap': True, 'ccp_alpha': 0.0, 'class_w...</td>\n",
       "    </tr>\n",
       "    <tr>\n",
       "      <th>10</th>\n",
       "      <td>TNR</td>\n",
       "      <td>1.000000</td>\n",
       "      <td>1.000000</td>\n",
       "      <td>1.000000</td>\n",
       "      <td>101</td>\n",
       "      <td>RandomForestClassifier</td>\n",
       "      <td>{'bootstrap': True, 'ccp_alpha': 0.0, 'class_w...</td>\n",
       "    </tr>\n",
       "    <tr>\n",
       "      <th>11</th>\n",
       "      <td>PPV</td>\n",
       "      <td>1.000000</td>\n",
       "      <td>1.000000</td>\n",
       "      <td>1.000000</td>\n",
       "      <td>101</td>\n",
       "      <td>RandomForestClassifier</td>\n",
       "      <td>{'bootstrap': True, 'ccp_alpha': 0.0, 'class_w...</td>\n",
       "    </tr>\n",
       "    <tr>\n",
       "      <th>12</th>\n",
       "      <td>FNR</td>\n",
       "      <td>0.000000</td>\n",
       "      <td>0.000000</td>\n",
       "      <td>0.000000</td>\n",
       "      <td>101</td>\n",
       "      <td>RandomForestClassifier</td>\n",
       "      <td>{'bootstrap': True, 'ccp_alpha': 0.0, 'class_w...</td>\n",
       "    </tr>\n",
       "    <tr>\n",
       "      <th>13</th>\n",
       "      <td>FPR</td>\n",
       "      <td>0.000000</td>\n",
       "      <td>0.000000</td>\n",
       "      <td>0.000000</td>\n",
       "      <td>101</td>\n",
       "      <td>RandomForestClassifier</td>\n",
       "      <td>{'bootstrap': True, 'ccp_alpha': 0.0, 'class_w...</td>\n",
       "    </tr>\n",
       "    <tr>\n",
       "      <th>14</th>\n",
       "      <td>Accuracy</td>\n",
       "      <td>1.000000</td>\n",
       "      <td>1.000000</td>\n",
       "      <td>1.000000</td>\n",
       "      <td>101</td>\n",
       "      <td>RandomForestClassifier</td>\n",
       "      <td>{'bootstrap': True, 'ccp_alpha': 0.0, 'class_w...</td>\n",
       "    </tr>\n",
       "    <tr>\n",
       "      <th>15</th>\n",
       "      <td>F1</td>\n",
       "      <td>1.000000</td>\n",
       "      <td>1.000000</td>\n",
       "      <td>1.000000</td>\n",
       "      <td>101</td>\n",
       "      <td>RandomForestClassifier</td>\n",
       "      <td>{'bootstrap': True, 'ccp_alpha': 0.0, 'class_w...</td>\n",
       "    </tr>\n",
       "    <tr>\n",
       "      <th>16</th>\n",
       "      <td>Selection-Rate</td>\n",
       "      <td>0.333333</td>\n",
       "      <td>0.428571</td>\n",
       "      <td>0.200000</td>\n",
       "      <td>101</td>\n",
       "      <td>RandomForestClassifier</td>\n",
       "      <td>{'bootstrap': True, 'ccp_alpha': 0.0, 'class_w...</td>\n",
       "    </tr>\n",
       "    <tr>\n",
       "      <th>17</th>\n",
       "      <td>Positive-Rate</td>\n",
       "      <td>1.000000</td>\n",
       "      <td>1.000000</td>\n",
       "      <td>1.000000</td>\n",
       "      <td>101</td>\n",
       "      <td>RandomForestClassifier</td>\n",
       "      <td>{'bootstrap': True, 'ccp_alpha': 0.0, 'class_w...</td>\n",
       "    </tr>\n",
       "    <tr>\n",
       "      <th>18</th>\n",
       "      <td>Sample_Size</td>\n",
       "      <td>12.000000</td>\n",
       "      <td>NaN</td>\n",
       "      <td>NaN</td>\n",
       "      <td>101</td>\n",
       "      <td>RandomForestClassifier</td>\n",
       "      <td>{'bootstrap': True, 'ccp_alpha': 0.0, 'class_w...</td>\n",
       "    </tr>\n",
       "  </tbody>\n",
       "</table>\n",
       "</div>"
      ],
      "text/plain": [
       "                   Metric    overall  Race_priv  Race_dis  Model_Seed  \\\n",
       "0                    Mean   0.649208   0.539450  0.802870         101   \n",
       "1                     Std   0.030728   0.033071  0.027448         101   \n",
       "2                     IQR   0.032708   0.036071  0.028000         101   \n",
       "3   Aleatoric_Uncertainty   0.167704   0.184684  0.143932         101   \n",
       "4     Overall_Uncertainty   0.188202   0.205831  0.163522         101   \n",
       "5        Statistical_Bias   0.036717   0.043307  0.027490         101   \n",
       "6                  Jitter   0.000000   0.000000  0.000000         101   \n",
       "7     Per_Sample_Accuracy   1.000000   1.000000  1.000000         101   \n",
       "8         Label_Stability   1.000000   1.000000  1.000000         101   \n",
       "9                     TPR   1.000000   1.000000  1.000000         101   \n",
       "10                    TNR   1.000000   1.000000  1.000000         101   \n",
       "11                    PPV   1.000000   1.000000  1.000000         101   \n",
       "12                    FNR   0.000000   0.000000  0.000000         101   \n",
       "13                    FPR   0.000000   0.000000  0.000000         101   \n",
       "14               Accuracy   1.000000   1.000000  1.000000         101   \n",
       "15                     F1   1.000000   1.000000  1.000000         101   \n",
       "16         Selection-Rate   0.333333   0.428571  0.200000         101   \n",
       "17          Positive-Rate   1.000000   1.000000  1.000000         101   \n",
       "18            Sample_Size  12.000000        NaN       NaN         101   \n",
       "\n",
       "                Model_Name                                       Model_Params  \n",
       "0   RandomForestClassifier  {'bootstrap': True, 'ccp_alpha': 0.0, 'class_w...  \n",
       "1   RandomForestClassifier  {'bootstrap': True, 'ccp_alpha': 0.0, 'class_w...  \n",
       "2   RandomForestClassifier  {'bootstrap': True, 'ccp_alpha': 0.0, 'class_w...  \n",
       "3   RandomForestClassifier  {'bootstrap': True, 'ccp_alpha': 0.0, 'class_w...  \n",
       "4   RandomForestClassifier  {'bootstrap': True, 'ccp_alpha': 0.0, 'class_w...  \n",
       "5   RandomForestClassifier  {'bootstrap': True, 'ccp_alpha': 0.0, 'class_w...  \n",
       "6   RandomForestClassifier  {'bootstrap': True, 'ccp_alpha': 0.0, 'class_w...  \n",
       "7   RandomForestClassifier  {'bootstrap': True, 'ccp_alpha': 0.0, 'class_w...  \n",
       "8   RandomForestClassifier  {'bootstrap': True, 'ccp_alpha': 0.0, 'class_w...  \n",
       "9   RandomForestClassifier  {'bootstrap': True, 'ccp_alpha': 0.0, 'class_w...  \n",
       "10  RandomForestClassifier  {'bootstrap': True, 'ccp_alpha': 0.0, 'class_w...  \n",
       "11  RandomForestClassifier  {'bootstrap': True, 'ccp_alpha': 0.0, 'class_w...  \n",
       "12  RandomForestClassifier  {'bootstrap': True, 'ccp_alpha': 0.0, 'class_w...  \n",
       "13  RandomForestClassifier  {'bootstrap': True, 'ccp_alpha': 0.0, 'class_w...  \n",
       "14  RandomForestClassifier  {'bootstrap': True, 'ccp_alpha': 0.0, 'class_w...  \n",
       "15  RandomForestClassifier  {'bootstrap': True, 'ccp_alpha': 0.0, 'class_w...  \n",
       "16  RandomForestClassifier  {'bootstrap': True, 'ccp_alpha': 0.0, 'class_w...  \n",
       "17  RandomForestClassifier  {'bootstrap': True, 'ccp_alpha': 0.0, 'class_w...  \n",
       "18  RandomForestClassifier  {'bootstrap': True, 'ccp_alpha': 0.0, 'class_w...  "
      ]
     },
     "metadata": {},
     "output_type": "display_data"
    },
    {
     "name": "stdout",
     "output_type": "stream",
     "text": [
      "\n",
      "\n",
      "\n",
      "\n",
      "intervention_param:  0.4\n",
      "2023/08/06, 10:49:32: Tuning RandomForestClassifier...\n"
     ]
    },
    {
     "name": "stderr",
     "output_type": "stream",
     "text": [
      "2023-08-06 10:50:06 experiment_interface.py INFO    : Models are tuned and saved to a file\n",
      "INFO:root:Models are tuned and saved to a file\n"
     ]
    },
    {
     "name": "stdout",
     "output_type": "stream",
     "text": [
      "2023/08/06, 10:50:06: Tuning for RandomForestClassifier is finished [F1 score = 0.9703703703703704, Accuracy = 0.9722222222222222]\n",
      "\n"
     ]
    },
    {
     "data": {
      "application/vnd.jupyter.widget-view+json": {
       "model_id": "729bca7d4be042af82c2fe9f0ec1a4fd",
       "version_major": 2,
       "version_minor": 0
      },
      "text/plain": [
       "Multiple runs progress:   0%|          | 0/1 [00:00<?, ?it/s]"
      ]
     },
     "metadata": {},
     "output_type": "display_data"
    },
    {
     "data": {
      "application/vnd.jupyter.widget-view+json": {
       "model_id": "212db051bbdd4956bc6464bf3019d9d2",
       "version_major": 2,
       "version_minor": 0
      },
      "text/plain": [
       "Analyze models in one run:   0%|          | 0/1 [00:00<?, ?it/s]"
      ]
     },
     "metadata": {},
     "output_type": "display_data"
    },
    {
     "name": "stdout",
     "output_type": "stream",
     "text": [
      "##############################  [Model 1 / 1] Analyze RandomForestClassifier  ##############################\n",
      "Model seed:  101\n",
      "\n",
      "Protected groups splits:\n",
      "Race_priv (7, 1)\n",
      "Race_dis (5, 1)\n",
      "\n",
      "\n"
     ]
    },
    {
     "name": "stderr",
     "output_type": "stream",
     "text": [
      "2023-08-06 10:50:06 abstract_overall_variance_analyzer.py INFO    : Start classifiers testing by bootstrap\n",
      "INFO:root:Start classifiers testing by bootstrap\n"
     ]
    },
    {
     "data": {
      "application/vnd.jupyter.widget-view+json": {
       "model_id": "c805646ac3e74b0d9e16c8774c3f5acd",
       "version_major": 2,
       "version_minor": 0
      },
      "text/plain": [
       "Classifiers testing by bootstrap:   0%|          | 0/200 [00:00<?, ?it/s]"
      ]
     },
     "metadata": {},
     "output_type": "display_data"
    },
    {
     "name": "stdout",
     "output_type": "stream",
     "text": [
      "\n",
      "\n"
     ]
    },
    {
     "name": "stderr",
     "output_type": "stream",
     "text": [
      "2023-08-06 10:50:32 abstract_overall_variance_analyzer.py INFO    : Successfully tested classifiers by bootstrap\n",
      "INFO:root:Successfully tested classifiers by bootstrap\n",
      "2023-08-06 10:50:32 abstract_overall_variance_analyzer.py INFO    : Successfully computed predict proba metrics\n",
      "INFO:root:Successfully computed predict proba metrics\n"
     ]
    },
    {
     "name": "stdout",
     "output_type": "stream",
     "text": [
      "\n",
      "[RandomForestClassifier] Metrics matrix:\n"
     ]
    },
    {
     "data": {
      "text/html": [
       "<div>\n",
       "<style scoped>\n",
       "    .dataframe tbody tr th:only-of-type {\n",
       "        vertical-align: middle;\n",
       "    }\n",
       "\n",
       "    .dataframe tbody tr th {\n",
       "        vertical-align: top;\n",
       "    }\n",
       "\n",
       "    .dataframe thead th {\n",
       "        text-align: right;\n",
       "    }\n",
       "</style>\n",
       "<table border=\"1\" class=\"dataframe\">\n",
       "  <thead>\n",
       "    <tr style=\"text-align: right;\">\n",
       "      <th></th>\n",
       "      <th>Metric</th>\n",
       "      <th>overall</th>\n",
       "      <th>Race_priv</th>\n",
       "      <th>Race_dis</th>\n",
       "      <th>Model_Seed</th>\n",
       "      <th>Model_Name</th>\n",
       "      <th>Model_Params</th>\n",
       "    </tr>\n",
       "  </thead>\n",
       "  <tbody>\n",
       "    <tr>\n",
       "      <th>0</th>\n",
       "      <td>Mean</td>\n",
       "      <td>0.678100</td>\n",
       "      <td>0.594779</td>\n",
       "      <td>0.794750</td>\n",
       "      <td>101</td>\n",
       "      <td>RandomForestClassifier</td>\n",
       "      <td>{'bootstrap': True, 'ccp_alpha': 0.0, 'class_w...</td>\n",
       "    </tr>\n",
       "    <tr>\n",
       "      <th>1</th>\n",
       "      <td>Std</td>\n",
       "      <td>0.047818</td>\n",
       "      <td>0.058569</td>\n",
       "      <td>0.032767</td>\n",
       "      <td>101</td>\n",
       "      <td>RandomForestClassifier</td>\n",
       "      <td>{'bootstrap': True, 'ccp_alpha': 0.0, 'class_w...</td>\n",
       "    </tr>\n",
       "    <tr>\n",
       "      <th>2</th>\n",
       "      <td>IQR</td>\n",
       "      <td>0.060208</td>\n",
       "      <td>0.076071</td>\n",
       "      <td>0.038000</td>\n",
       "      <td>101</td>\n",
       "      <td>RandomForestClassifier</td>\n",
       "      <td>{'bootstrap': True, 'ccp_alpha': 0.0, 'class_w...</td>\n",
       "    </tr>\n",
       "    <tr>\n",
       "      <th>3</th>\n",
       "      <td>Aleatoric_Uncertainty</td>\n",
       "      <td>0.232133</td>\n",
       "      <td>0.280050</td>\n",
       "      <td>0.165048</td>\n",
       "      <td>101</td>\n",
       "      <td>RandomForestClassifier</td>\n",
       "      <td>{'bootstrap': True, 'ccp_alpha': 0.0, 'class_w...</td>\n",
       "    </tr>\n",
       "    <tr>\n",
       "      <th>4</th>\n",
       "      <td>Overall_Uncertainty</td>\n",
       "      <td>0.265782</td>\n",
       "      <td>0.320511</td>\n",
       "      <td>0.189163</td>\n",
       "      <td>101</td>\n",
       "      <td>RandomForestClassifier</td>\n",
       "      <td>{'bootstrap': True, 'ccp_alpha': 0.0, 'class_w...</td>\n",
       "    </tr>\n",
       "    <tr>\n",
       "      <th>5</th>\n",
       "      <td>Statistical_Bias</td>\n",
       "      <td>0.055792</td>\n",
       "      <td>0.072136</td>\n",
       "      <td>0.032910</td>\n",
       "      <td>101</td>\n",
       "      <td>RandomForestClassifier</td>\n",
       "      <td>{'bootstrap': True, 'ccp_alpha': 0.0, 'class_w...</td>\n",
       "    </tr>\n",
       "    <tr>\n",
       "      <th>6</th>\n",
       "      <td>Jitter</td>\n",
       "      <td>0.004874</td>\n",
       "      <td>0.008356</td>\n",
       "      <td>0.000000</td>\n",
       "      <td>101</td>\n",
       "      <td>RandomForestClassifier</td>\n",
       "      <td>{'bootstrap': True, 'ccp_alpha': 0.0, 'class_w...</td>\n",
       "    </tr>\n",
       "    <tr>\n",
       "      <th>7</th>\n",
       "      <td>Per_Sample_Accuracy</td>\n",
       "      <td>0.997500</td>\n",
       "      <td>0.995714</td>\n",
       "      <td>1.000000</td>\n",
       "      <td>101</td>\n",
       "      <td>RandomForestClassifier</td>\n",
       "      <td>{'bootstrap': True, 'ccp_alpha': 0.0, 'class_w...</td>\n",
       "    </tr>\n",
       "    <tr>\n",
       "      <th>8</th>\n",
       "      <td>Label_Stability</td>\n",
       "      <td>0.995000</td>\n",
       "      <td>0.991429</td>\n",
       "      <td>1.000000</td>\n",
       "      <td>101</td>\n",
       "      <td>RandomForestClassifier</td>\n",
       "      <td>{'bootstrap': True, 'ccp_alpha': 0.0, 'class_w...</td>\n",
       "    </tr>\n",
       "    <tr>\n",
       "      <th>9</th>\n",
       "      <td>TPR</td>\n",
       "      <td>1.000000</td>\n",
       "      <td>1.000000</td>\n",
       "      <td>1.000000</td>\n",
       "      <td>101</td>\n",
       "      <td>RandomForestClassifier</td>\n",
       "      <td>{'bootstrap': True, 'ccp_alpha': 0.0, 'class_w...</td>\n",
       "    </tr>\n",
       "    <tr>\n",
       "      <th>10</th>\n",
       "      <td>TNR</td>\n",
       "      <td>1.000000</td>\n",
       "      <td>1.000000</td>\n",
       "      <td>1.000000</td>\n",
       "      <td>101</td>\n",
       "      <td>RandomForestClassifier</td>\n",
       "      <td>{'bootstrap': True, 'ccp_alpha': 0.0, 'class_w...</td>\n",
       "    </tr>\n",
       "    <tr>\n",
       "      <th>11</th>\n",
       "      <td>PPV</td>\n",
       "      <td>1.000000</td>\n",
       "      <td>1.000000</td>\n",
       "      <td>1.000000</td>\n",
       "      <td>101</td>\n",
       "      <td>RandomForestClassifier</td>\n",
       "      <td>{'bootstrap': True, 'ccp_alpha': 0.0, 'class_w...</td>\n",
       "    </tr>\n",
       "    <tr>\n",
       "      <th>12</th>\n",
       "      <td>FNR</td>\n",
       "      <td>0.000000</td>\n",
       "      <td>0.000000</td>\n",
       "      <td>0.000000</td>\n",
       "      <td>101</td>\n",
       "      <td>RandomForestClassifier</td>\n",
       "      <td>{'bootstrap': True, 'ccp_alpha': 0.0, 'class_w...</td>\n",
       "    </tr>\n",
       "    <tr>\n",
       "      <th>13</th>\n",
       "      <td>FPR</td>\n",
       "      <td>0.000000</td>\n",
       "      <td>0.000000</td>\n",
       "      <td>0.000000</td>\n",
       "      <td>101</td>\n",
       "      <td>RandomForestClassifier</td>\n",
       "      <td>{'bootstrap': True, 'ccp_alpha': 0.0, 'class_w...</td>\n",
       "    </tr>\n",
       "    <tr>\n",
       "      <th>14</th>\n",
       "      <td>Accuracy</td>\n",
       "      <td>1.000000</td>\n",
       "      <td>1.000000</td>\n",
       "      <td>1.000000</td>\n",
       "      <td>101</td>\n",
       "      <td>RandomForestClassifier</td>\n",
       "      <td>{'bootstrap': True, 'ccp_alpha': 0.0, 'class_w...</td>\n",
       "    </tr>\n",
       "    <tr>\n",
       "      <th>15</th>\n",
       "      <td>F1</td>\n",
       "      <td>1.000000</td>\n",
       "      <td>1.000000</td>\n",
       "      <td>1.000000</td>\n",
       "      <td>101</td>\n",
       "      <td>RandomForestClassifier</td>\n",
       "      <td>{'bootstrap': True, 'ccp_alpha': 0.0, 'class_w...</td>\n",
       "    </tr>\n",
       "    <tr>\n",
       "      <th>16</th>\n",
       "      <td>Selection-Rate</td>\n",
       "      <td>0.333333</td>\n",
       "      <td>0.428571</td>\n",
       "      <td>0.200000</td>\n",
       "      <td>101</td>\n",
       "      <td>RandomForestClassifier</td>\n",
       "      <td>{'bootstrap': True, 'ccp_alpha': 0.0, 'class_w...</td>\n",
       "    </tr>\n",
       "    <tr>\n",
       "      <th>17</th>\n",
       "      <td>Positive-Rate</td>\n",
       "      <td>1.000000</td>\n",
       "      <td>1.000000</td>\n",
       "      <td>1.000000</td>\n",
       "      <td>101</td>\n",
       "      <td>RandomForestClassifier</td>\n",
       "      <td>{'bootstrap': True, 'ccp_alpha': 0.0, 'class_w...</td>\n",
       "    </tr>\n",
       "    <tr>\n",
       "      <th>18</th>\n",
       "      <td>Sample_Size</td>\n",
       "      <td>12.000000</td>\n",
       "      <td>NaN</td>\n",
       "      <td>NaN</td>\n",
       "      <td>101</td>\n",
       "      <td>RandomForestClassifier</td>\n",
       "      <td>{'bootstrap': True, 'ccp_alpha': 0.0, 'class_w...</td>\n",
       "    </tr>\n",
       "  </tbody>\n",
       "</table>\n",
       "</div>"
      ],
      "text/plain": [
       "                   Metric    overall  Race_priv  Race_dis  Model_Seed  \\\n",
       "0                    Mean   0.678100   0.594779  0.794750         101   \n",
       "1                     Std   0.047818   0.058569  0.032767         101   \n",
       "2                     IQR   0.060208   0.076071  0.038000         101   \n",
       "3   Aleatoric_Uncertainty   0.232133   0.280050  0.165048         101   \n",
       "4     Overall_Uncertainty   0.265782   0.320511  0.189163         101   \n",
       "5        Statistical_Bias   0.055792   0.072136  0.032910         101   \n",
       "6                  Jitter   0.004874   0.008356  0.000000         101   \n",
       "7     Per_Sample_Accuracy   0.997500   0.995714  1.000000         101   \n",
       "8         Label_Stability   0.995000   0.991429  1.000000         101   \n",
       "9                     TPR   1.000000   1.000000  1.000000         101   \n",
       "10                    TNR   1.000000   1.000000  1.000000         101   \n",
       "11                    PPV   1.000000   1.000000  1.000000         101   \n",
       "12                    FNR   0.000000   0.000000  0.000000         101   \n",
       "13                    FPR   0.000000   0.000000  0.000000         101   \n",
       "14               Accuracy   1.000000   1.000000  1.000000         101   \n",
       "15                     F1   1.000000   1.000000  1.000000         101   \n",
       "16         Selection-Rate   0.333333   0.428571  0.200000         101   \n",
       "17          Positive-Rate   1.000000   1.000000  1.000000         101   \n",
       "18            Sample_Size  12.000000        NaN       NaN         101   \n",
       "\n",
       "                Model_Name                                       Model_Params  \n",
       "0   RandomForestClassifier  {'bootstrap': True, 'ccp_alpha': 0.0, 'class_w...  \n",
       "1   RandomForestClassifier  {'bootstrap': True, 'ccp_alpha': 0.0, 'class_w...  \n",
       "2   RandomForestClassifier  {'bootstrap': True, 'ccp_alpha': 0.0, 'class_w...  \n",
       "3   RandomForestClassifier  {'bootstrap': True, 'ccp_alpha': 0.0, 'class_w...  \n",
       "4   RandomForestClassifier  {'bootstrap': True, 'ccp_alpha': 0.0, 'class_w...  \n",
       "5   RandomForestClassifier  {'bootstrap': True, 'ccp_alpha': 0.0, 'class_w...  \n",
       "6   RandomForestClassifier  {'bootstrap': True, 'ccp_alpha': 0.0, 'class_w...  \n",
       "7   RandomForestClassifier  {'bootstrap': True, 'ccp_alpha': 0.0, 'class_w...  \n",
       "8   RandomForestClassifier  {'bootstrap': True, 'ccp_alpha': 0.0, 'class_w...  \n",
       "9   RandomForestClassifier  {'bootstrap': True, 'ccp_alpha': 0.0, 'class_w...  \n",
       "10  RandomForestClassifier  {'bootstrap': True, 'ccp_alpha': 0.0, 'class_w...  \n",
       "11  RandomForestClassifier  {'bootstrap': True, 'ccp_alpha': 0.0, 'class_w...  \n",
       "12  RandomForestClassifier  {'bootstrap': True, 'ccp_alpha': 0.0, 'class_w...  \n",
       "13  RandomForestClassifier  {'bootstrap': True, 'ccp_alpha': 0.0, 'class_w...  \n",
       "14  RandomForestClassifier  {'bootstrap': True, 'ccp_alpha': 0.0, 'class_w...  \n",
       "15  RandomForestClassifier  {'bootstrap': True, 'ccp_alpha': 0.0, 'class_w...  \n",
       "16  RandomForestClassifier  {'bootstrap': True, 'ccp_alpha': 0.0, 'class_w...  \n",
       "17  RandomForestClassifier  {'bootstrap': True, 'ccp_alpha': 0.0, 'class_w...  \n",
       "18  RandomForestClassifier  {'bootstrap': True, 'ccp_alpha': 0.0, 'class_w...  "
      ]
     },
     "metadata": {},
     "output_type": "display_data"
    },
    {
     "name": "stdout",
     "output_type": "stream",
     "text": [
      "\n",
      "\n",
      "\n",
      "\n",
      "intervention_param:  0.5\n",
      "2023/08/06, 10:50:32: Tuning RandomForestClassifier...\n"
     ]
    },
    {
     "name": "stderr",
     "output_type": "stream",
     "text": [
      "2023-08-06 10:51:06 experiment_interface.py INFO    : Models are tuned and saved to a file\n",
      "INFO:root:Models are tuned and saved to a file\n"
     ]
    },
    {
     "name": "stdout",
     "output_type": "stream",
     "text": [
      "2023/08/06, 10:51:06: Tuning for RandomForestClassifier is finished [F1 score = 0.9703703703703704, Accuracy = 0.9722222222222222]\n",
      "\n"
     ]
    },
    {
     "data": {
      "application/vnd.jupyter.widget-view+json": {
       "model_id": "320942ea7e48428d9aba2884534d9125",
       "version_major": 2,
       "version_minor": 0
      },
      "text/plain": [
       "Multiple runs progress:   0%|          | 0/1 [00:00<?, ?it/s]"
      ]
     },
     "metadata": {},
     "output_type": "display_data"
    },
    {
     "data": {
      "application/vnd.jupyter.widget-view+json": {
       "model_id": "fe0af6b079a14796913a8a44fa27e6ab",
       "version_major": 2,
       "version_minor": 0
      },
      "text/plain": [
       "Analyze models in one run:   0%|          | 0/1 [00:00<?, ?it/s]"
      ]
     },
     "metadata": {},
     "output_type": "display_data"
    },
    {
     "name": "stdout",
     "output_type": "stream",
     "text": [
      "##############################  [Model 1 / 1] Analyze RandomForestClassifier  ##############################\n",
      "Model seed:  101\n",
      "\n",
      "Protected groups splits:\n",
      "Race_priv (7, 1)\n",
      "Race_dis (5, 1)\n",
      "\n",
      "\n"
     ]
    },
    {
     "name": "stderr",
     "output_type": "stream",
     "text": [
      "2023-08-06 10:51:06 abstract_overall_variance_analyzer.py INFO    : Start classifiers testing by bootstrap\n",
      "INFO:root:Start classifiers testing by bootstrap\n"
     ]
    },
    {
     "data": {
      "application/vnd.jupyter.widget-view+json": {
       "model_id": "2ed7898ae64f428188d63a1fbf3b4a03",
       "version_major": 2,
       "version_minor": 0
      },
      "text/plain": [
       "Classifiers testing by bootstrap:   0%|          | 0/200 [00:00<?, ?it/s]"
      ]
     },
     "metadata": {},
     "output_type": "display_data"
    },
    {
     "name": "stdout",
     "output_type": "stream",
     "text": [
      "\n",
      "\n"
     ]
    },
    {
     "name": "stderr",
     "output_type": "stream",
     "text": [
      "2023-08-06 10:51:32 abstract_overall_variance_analyzer.py INFO    : Successfully tested classifiers by bootstrap\n",
      "INFO:root:Successfully tested classifiers by bootstrap\n",
      "2023-08-06 10:51:32 abstract_overall_variance_analyzer.py INFO    : Successfully computed predict proba metrics\n",
      "INFO:root:Successfully computed predict proba metrics\n"
     ]
    },
    {
     "name": "stdout",
     "output_type": "stream",
     "text": [
      "\n",
      "[RandomForestClassifier] Metrics matrix:\n"
     ]
    },
    {
     "data": {
      "text/html": [
       "<div>\n",
       "<style scoped>\n",
       "    .dataframe tbody tr th:only-of-type {\n",
       "        vertical-align: middle;\n",
       "    }\n",
       "\n",
       "    .dataframe tbody tr th {\n",
       "        vertical-align: top;\n",
       "    }\n",
       "\n",
       "    .dataframe thead th {\n",
       "        text-align: right;\n",
       "    }\n",
       "</style>\n",
       "<table border=\"1\" class=\"dataframe\">\n",
       "  <thead>\n",
       "    <tr style=\"text-align: right;\">\n",
       "      <th></th>\n",
       "      <th>Metric</th>\n",
       "      <th>overall</th>\n",
       "      <th>Race_priv</th>\n",
       "      <th>Race_dis</th>\n",
       "      <th>Model_Seed</th>\n",
       "      <th>Model_Name</th>\n",
       "      <th>Model_Params</th>\n",
       "    </tr>\n",
       "  </thead>\n",
       "  <tbody>\n",
       "    <tr>\n",
       "      <th>0</th>\n",
       "      <td>Mean</td>\n",
       "      <td>0.665496</td>\n",
       "      <td>0.588171</td>\n",
       "      <td>0.773750</td>\n",
       "      <td>101</td>\n",
       "      <td>RandomForestClassifier</td>\n",
       "      <td>{'bootstrap': True, 'ccp_alpha': 0.0, 'class_w...</td>\n",
       "    </tr>\n",
       "    <tr>\n",
       "      <th>1</th>\n",
       "      <td>Std</td>\n",
       "      <td>0.058949</td>\n",
       "      <td>0.064307</td>\n",
       "      <td>0.051447</td>\n",
       "      <td>101</td>\n",
       "      <td>RandomForestClassifier</td>\n",
       "      <td>{'bootstrap': True, 'ccp_alpha': 0.0, 'class_w...</td>\n",
       "    </tr>\n",
       "    <tr>\n",
       "      <th>2</th>\n",
       "      <td>IQR</td>\n",
       "      <td>0.068333</td>\n",
       "      <td>0.078571</td>\n",
       "      <td>0.054000</td>\n",
       "      <td>101</td>\n",
       "      <td>RandomForestClassifier</td>\n",
       "      <td>{'bootstrap': True, 'ccp_alpha': 0.0, 'class_w...</td>\n",
       "    </tr>\n",
       "    <tr>\n",
       "      <th>3</th>\n",
       "      <td>Aleatoric_Uncertainty</td>\n",
       "      <td>0.282900</td>\n",
       "      <td>0.319458</td>\n",
       "      <td>0.231719</td>\n",
       "      <td>101</td>\n",
       "      <td>RandomForestClassifier</td>\n",
       "      <td>{'bootstrap': True, 'ccp_alpha': 0.0, 'class_w...</td>\n",
       "    </tr>\n",
       "    <tr>\n",
       "      <th>4</th>\n",
       "      <td>Overall_Uncertainty</td>\n",
       "      <td>0.321922</td>\n",
       "      <td>0.360780</td>\n",
       "      <td>0.267521</td>\n",
       "      <td>101</td>\n",
       "      <td>RandomForestClassifier</td>\n",
       "      <td>{'bootstrap': True, 'ccp_alpha': 0.0, 'class_w...</td>\n",
       "    </tr>\n",
       "    <tr>\n",
       "      <th>5</th>\n",
       "      <td>Statistical_Bias</td>\n",
       "      <td>0.071446</td>\n",
       "      <td>0.084343</td>\n",
       "      <td>0.053390</td>\n",
       "      <td>101</td>\n",
       "      <td>RandomForestClassifier</td>\n",
       "      <td>{'bootstrap': True, 'ccp_alpha': 0.0, 'class_w...</td>\n",
       "    </tr>\n",
       "    <tr>\n",
       "      <th>6</th>\n",
       "      <td>Jitter</td>\n",
       "      <td>0.012023</td>\n",
       "      <td>0.017767</td>\n",
       "      <td>0.003980</td>\n",
       "      <td>101</td>\n",
       "      <td>RandomForestClassifier</td>\n",
       "      <td>{'bootstrap': True, 'ccp_alpha': 0.0, 'class_w...</td>\n",
       "    </tr>\n",
       "    <tr>\n",
       "      <th>7</th>\n",
       "      <td>Per_Sample_Accuracy</td>\n",
       "      <td>0.993750</td>\n",
       "      <td>0.990714</td>\n",
       "      <td>0.998000</td>\n",
       "      <td>101</td>\n",
       "      <td>RandomForestClassifier</td>\n",
       "      <td>{'bootstrap': True, 'ccp_alpha': 0.0, 'class_w...</td>\n",
       "    </tr>\n",
       "    <tr>\n",
       "      <th>8</th>\n",
       "      <td>Label_Stability</td>\n",
       "      <td>0.987500</td>\n",
       "      <td>0.981429</td>\n",
       "      <td>0.996000</td>\n",
       "      <td>101</td>\n",
       "      <td>RandomForestClassifier</td>\n",
       "      <td>{'bootstrap': True, 'ccp_alpha': 0.0, 'class_w...</td>\n",
       "    </tr>\n",
       "    <tr>\n",
       "      <th>9</th>\n",
       "      <td>TPR</td>\n",
       "      <td>1.000000</td>\n",
       "      <td>1.000000</td>\n",
       "      <td>1.000000</td>\n",
       "      <td>101</td>\n",
       "      <td>RandomForestClassifier</td>\n",
       "      <td>{'bootstrap': True, 'ccp_alpha': 0.0, 'class_w...</td>\n",
       "    </tr>\n",
       "    <tr>\n",
       "      <th>10</th>\n",
       "      <td>TNR</td>\n",
       "      <td>1.000000</td>\n",
       "      <td>1.000000</td>\n",
       "      <td>1.000000</td>\n",
       "      <td>101</td>\n",
       "      <td>RandomForestClassifier</td>\n",
       "      <td>{'bootstrap': True, 'ccp_alpha': 0.0, 'class_w...</td>\n",
       "    </tr>\n",
       "    <tr>\n",
       "      <th>11</th>\n",
       "      <td>PPV</td>\n",
       "      <td>1.000000</td>\n",
       "      <td>1.000000</td>\n",
       "      <td>1.000000</td>\n",
       "      <td>101</td>\n",
       "      <td>RandomForestClassifier</td>\n",
       "      <td>{'bootstrap': True, 'ccp_alpha': 0.0, 'class_w...</td>\n",
       "    </tr>\n",
       "    <tr>\n",
       "      <th>12</th>\n",
       "      <td>FNR</td>\n",
       "      <td>0.000000</td>\n",
       "      <td>0.000000</td>\n",
       "      <td>0.000000</td>\n",
       "      <td>101</td>\n",
       "      <td>RandomForestClassifier</td>\n",
       "      <td>{'bootstrap': True, 'ccp_alpha': 0.0, 'class_w...</td>\n",
       "    </tr>\n",
       "    <tr>\n",
       "      <th>13</th>\n",
       "      <td>FPR</td>\n",
       "      <td>0.000000</td>\n",
       "      <td>0.000000</td>\n",
       "      <td>0.000000</td>\n",
       "      <td>101</td>\n",
       "      <td>RandomForestClassifier</td>\n",
       "      <td>{'bootstrap': True, 'ccp_alpha': 0.0, 'class_w...</td>\n",
       "    </tr>\n",
       "    <tr>\n",
       "      <th>14</th>\n",
       "      <td>Accuracy</td>\n",
       "      <td>1.000000</td>\n",
       "      <td>1.000000</td>\n",
       "      <td>1.000000</td>\n",
       "      <td>101</td>\n",
       "      <td>RandomForestClassifier</td>\n",
       "      <td>{'bootstrap': True, 'ccp_alpha': 0.0, 'class_w...</td>\n",
       "    </tr>\n",
       "    <tr>\n",
       "      <th>15</th>\n",
       "      <td>F1</td>\n",
       "      <td>1.000000</td>\n",
       "      <td>1.000000</td>\n",
       "      <td>1.000000</td>\n",
       "      <td>101</td>\n",
       "      <td>RandomForestClassifier</td>\n",
       "      <td>{'bootstrap': True, 'ccp_alpha': 0.0, 'class_w...</td>\n",
       "    </tr>\n",
       "    <tr>\n",
       "      <th>16</th>\n",
       "      <td>Selection-Rate</td>\n",
       "      <td>0.333333</td>\n",
       "      <td>0.428571</td>\n",
       "      <td>0.200000</td>\n",
       "      <td>101</td>\n",
       "      <td>RandomForestClassifier</td>\n",
       "      <td>{'bootstrap': True, 'ccp_alpha': 0.0, 'class_w...</td>\n",
       "    </tr>\n",
       "    <tr>\n",
       "      <th>17</th>\n",
       "      <td>Positive-Rate</td>\n",
       "      <td>1.000000</td>\n",
       "      <td>1.000000</td>\n",
       "      <td>1.000000</td>\n",
       "      <td>101</td>\n",
       "      <td>RandomForestClassifier</td>\n",
       "      <td>{'bootstrap': True, 'ccp_alpha': 0.0, 'class_w...</td>\n",
       "    </tr>\n",
       "    <tr>\n",
       "      <th>18</th>\n",
       "      <td>Sample_Size</td>\n",
       "      <td>12.000000</td>\n",
       "      <td>NaN</td>\n",
       "      <td>NaN</td>\n",
       "      <td>101</td>\n",
       "      <td>RandomForestClassifier</td>\n",
       "      <td>{'bootstrap': True, 'ccp_alpha': 0.0, 'class_w...</td>\n",
       "    </tr>\n",
       "  </tbody>\n",
       "</table>\n",
       "</div>"
      ],
      "text/plain": [
       "                   Metric    overall  Race_priv  Race_dis  Model_Seed  \\\n",
       "0                    Mean   0.665496   0.588171  0.773750         101   \n",
       "1                     Std   0.058949   0.064307  0.051447         101   \n",
       "2                     IQR   0.068333   0.078571  0.054000         101   \n",
       "3   Aleatoric_Uncertainty   0.282900   0.319458  0.231719         101   \n",
       "4     Overall_Uncertainty   0.321922   0.360780  0.267521         101   \n",
       "5        Statistical_Bias   0.071446   0.084343  0.053390         101   \n",
       "6                  Jitter   0.012023   0.017767  0.003980         101   \n",
       "7     Per_Sample_Accuracy   0.993750   0.990714  0.998000         101   \n",
       "8         Label_Stability   0.987500   0.981429  0.996000         101   \n",
       "9                     TPR   1.000000   1.000000  1.000000         101   \n",
       "10                    TNR   1.000000   1.000000  1.000000         101   \n",
       "11                    PPV   1.000000   1.000000  1.000000         101   \n",
       "12                    FNR   0.000000   0.000000  0.000000         101   \n",
       "13                    FPR   0.000000   0.000000  0.000000         101   \n",
       "14               Accuracy   1.000000   1.000000  1.000000         101   \n",
       "15                     F1   1.000000   1.000000  1.000000         101   \n",
       "16         Selection-Rate   0.333333   0.428571  0.200000         101   \n",
       "17          Positive-Rate   1.000000   1.000000  1.000000         101   \n",
       "18            Sample_Size  12.000000        NaN       NaN         101   \n",
       "\n",
       "                Model_Name                                       Model_Params  \n",
       "0   RandomForestClassifier  {'bootstrap': True, 'ccp_alpha': 0.0, 'class_w...  \n",
       "1   RandomForestClassifier  {'bootstrap': True, 'ccp_alpha': 0.0, 'class_w...  \n",
       "2   RandomForestClassifier  {'bootstrap': True, 'ccp_alpha': 0.0, 'class_w...  \n",
       "3   RandomForestClassifier  {'bootstrap': True, 'ccp_alpha': 0.0, 'class_w...  \n",
       "4   RandomForestClassifier  {'bootstrap': True, 'ccp_alpha': 0.0, 'class_w...  \n",
       "5   RandomForestClassifier  {'bootstrap': True, 'ccp_alpha': 0.0, 'class_w...  \n",
       "6   RandomForestClassifier  {'bootstrap': True, 'ccp_alpha': 0.0, 'class_w...  \n",
       "7   RandomForestClassifier  {'bootstrap': True, 'ccp_alpha': 0.0, 'class_w...  \n",
       "8   RandomForestClassifier  {'bootstrap': True, 'ccp_alpha': 0.0, 'class_w...  \n",
       "9   RandomForestClassifier  {'bootstrap': True, 'ccp_alpha': 0.0, 'class_w...  \n",
       "10  RandomForestClassifier  {'bootstrap': True, 'ccp_alpha': 0.0, 'class_w...  \n",
       "11  RandomForestClassifier  {'bootstrap': True, 'ccp_alpha': 0.0, 'class_w...  \n",
       "12  RandomForestClassifier  {'bootstrap': True, 'ccp_alpha': 0.0, 'class_w...  \n",
       "13  RandomForestClassifier  {'bootstrap': True, 'ccp_alpha': 0.0, 'class_w...  \n",
       "14  RandomForestClassifier  {'bootstrap': True, 'ccp_alpha': 0.0, 'class_w...  \n",
       "15  RandomForestClassifier  {'bootstrap': True, 'ccp_alpha': 0.0, 'class_w...  \n",
       "16  RandomForestClassifier  {'bootstrap': True, 'ccp_alpha': 0.0, 'class_w...  \n",
       "17  RandomForestClassifier  {'bootstrap': True, 'ccp_alpha': 0.0, 'class_w...  \n",
       "18  RandomForestClassifier  {'bootstrap': True, 'ccp_alpha': 0.0, 'class_w...  "
      ]
     },
     "metadata": {},
     "output_type": "display_data"
    },
    {
     "name": "stdout",
     "output_type": "stream",
     "text": [
      "\n",
      "\n",
      "\n",
      "\n",
      "intervention_param:  0.6\n",
      "2023/08/06, 10:51:33: Tuning RandomForestClassifier...\n"
     ]
    },
    {
     "name": "stderr",
     "output_type": "stream",
     "text": [
      "2023-08-06 10:52:07 experiment_interface.py INFO    : Models are tuned and saved to a file\n",
      "INFO:root:Models are tuned and saved to a file\n"
     ]
    },
    {
     "name": "stdout",
     "output_type": "stream",
     "text": [
      "2023/08/06, 10:52:07: Tuning for RandomForestClassifier is finished [F1 score = 0.9423983423983424, Accuracy = 0.9444444444444443]\n",
      "\n"
     ]
    },
    {
     "data": {
      "application/vnd.jupyter.widget-view+json": {
       "model_id": "2b7b340c26b6484cbce3c94a499f6ad0",
       "version_major": 2,
       "version_minor": 0
      },
      "text/plain": [
       "Multiple runs progress:   0%|          | 0/1 [00:00<?, ?it/s]"
      ]
     },
     "metadata": {},
     "output_type": "display_data"
    },
    {
     "data": {
      "application/vnd.jupyter.widget-view+json": {
       "model_id": "e623eff61eb345a1a2f1bd95a6341d28",
       "version_major": 2,
       "version_minor": 0
      },
      "text/plain": [
       "Analyze models in one run:   0%|          | 0/1 [00:00<?, ?it/s]"
      ]
     },
     "metadata": {},
     "output_type": "display_data"
    },
    {
     "name": "stdout",
     "output_type": "stream",
     "text": [
      "##############################  [Model 1 / 1] Analyze RandomForestClassifier  ##############################\n",
      "Model seed:  101\n",
      "\n",
      "Protected groups splits:\n",
      "Race_priv (7, 1)\n",
      "Race_dis (5, 1)\n",
      "\n",
      "\n"
     ]
    },
    {
     "name": "stderr",
     "output_type": "stream",
     "text": [
      "2023-08-06 10:52:07 abstract_overall_variance_analyzer.py INFO    : Start classifiers testing by bootstrap\n",
      "INFO:root:Start classifiers testing by bootstrap\n"
     ]
    },
    {
     "data": {
      "application/vnd.jupyter.widget-view+json": {
       "model_id": "c4b19a1f801647d8921fdafff33cd3bd",
       "version_major": 2,
       "version_minor": 0
      },
      "text/plain": [
       "Classifiers testing by bootstrap:   0%|          | 0/200 [00:00<?, ?it/s]"
      ]
     },
     "metadata": {},
     "output_type": "display_data"
    },
    {
     "name": "stdout",
     "output_type": "stream",
     "text": [
      "\n",
      "\n"
     ]
    },
    {
     "name": "stderr",
     "output_type": "stream",
     "text": [
      "2023-08-06 10:52:32 abstract_overall_variance_analyzer.py INFO    : Successfully tested classifiers by bootstrap\n",
      "INFO:root:Successfully tested classifiers by bootstrap\n",
      "2023-08-06 10:52:33 abstract_overall_variance_analyzer.py INFO    : Successfully computed predict proba metrics\n",
      "INFO:root:Successfully computed predict proba metrics\n"
     ]
    },
    {
     "name": "stdout",
     "output_type": "stream",
     "text": [
      "\n",
      "[RandomForestClassifier] Metrics matrix:\n"
     ]
    },
    {
     "data": {
      "text/html": [
       "<div>\n",
       "<style scoped>\n",
       "    .dataframe tbody tr th:only-of-type {\n",
       "        vertical-align: middle;\n",
       "    }\n",
       "\n",
       "    .dataframe tbody tr th {\n",
       "        vertical-align: top;\n",
       "    }\n",
       "\n",
       "    .dataframe thead th {\n",
       "        text-align: right;\n",
       "    }\n",
       "</style>\n",
       "<table border=\"1\" class=\"dataframe\">\n",
       "  <thead>\n",
       "    <tr style=\"text-align: right;\">\n",
       "      <th></th>\n",
       "      <th>Metric</th>\n",
       "      <th>overall</th>\n",
       "      <th>Race_priv</th>\n",
       "      <th>Race_dis</th>\n",
       "      <th>Model_Seed</th>\n",
       "      <th>Model_Name</th>\n",
       "      <th>Model_Params</th>\n",
       "    </tr>\n",
       "  </thead>\n",
       "  <tbody>\n",
       "    <tr>\n",
       "      <th>0</th>\n",
       "      <td>Mean</td>\n",
       "      <td>0.632250</td>\n",
       "      <td>0.577457</td>\n",
       "      <td>0.708960</td>\n",
       "      <td>101</td>\n",
       "      <td>RandomForestClassifier</td>\n",
       "      <td>{'bootstrap': True, 'ccp_alpha': 0.0, 'class_w...</td>\n",
       "    </tr>\n",
       "    <tr>\n",
       "      <th>1</th>\n",
       "      <td>Std</td>\n",
       "      <td>0.078265</td>\n",
       "      <td>0.086284</td>\n",
       "      <td>0.067038</td>\n",
       "      <td>101</td>\n",
       "      <td>RandomForestClassifier</td>\n",
       "      <td>{'bootstrap': True, 'ccp_alpha': 0.0, 'class_w...</td>\n",
       "    </tr>\n",
       "    <tr>\n",
       "      <th>2</th>\n",
       "      <td>IQR</td>\n",
       "      <td>0.095625</td>\n",
       "      <td>0.103929</td>\n",
       "      <td>0.084000</td>\n",
       "      <td>101</td>\n",
       "      <td>RandomForestClassifier</td>\n",
       "      <td>{'bootstrap': True, 'ccp_alpha': 0.0, 'class_w...</td>\n",
       "    </tr>\n",
       "    <tr>\n",
       "      <th>3</th>\n",
       "      <td>Aleatoric_Uncertainty</td>\n",
       "      <td>0.356694</td>\n",
       "      <td>0.388056</td>\n",
       "      <td>0.312788</td>\n",
       "      <td>101</td>\n",
       "      <td>RandomForestClassifier</td>\n",
       "      <td>{'bootstrap': True, 'ccp_alpha': 0.0, 'class_w...</td>\n",
       "    </tr>\n",
       "    <tr>\n",
       "      <th>4</th>\n",
       "      <td>Overall_Uncertainty</td>\n",
       "      <td>0.408830</td>\n",
       "      <td>0.445746</td>\n",
       "      <td>0.357147</td>\n",
       "      <td>101</td>\n",
       "      <td>RandomForestClassifier</td>\n",
       "      <td>{'bootstrap': True, 'ccp_alpha': 0.0, 'class_w...</td>\n",
       "    </tr>\n",
       "    <tr>\n",
       "      <th>5</th>\n",
       "      <td>Statistical_Bias</td>\n",
       "      <td>0.123167</td>\n",
       "      <td>0.128100</td>\n",
       "      <td>0.116260</td>\n",
       "      <td>101</td>\n",
       "      <td>RandomForestClassifier</td>\n",
       "      <td>{'bootstrap': True, 'ccp_alpha': 0.0, 'class_w...</td>\n",
       "    </tr>\n",
       "    <tr>\n",
       "      <th>6</th>\n",
       "      <td>Jitter</td>\n",
       "      <td>0.076914</td>\n",
       "      <td>0.062656</td>\n",
       "      <td>0.096874</td>\n",
       "      <td>101</td>\n",
       "      <td>RandomForestClassifier</td>\n",
       "      <td>{'bootstrap': True, 'ccp_alpha': 0.0, 'class_w...</td>\n",
       "    </tr>\n",
       "    <tr>\n",
       "      <th>7</th>\n",
       "      <td>Per_Sample_Accuracy</td>\n",
       "      <td>0.946250</td>\n",
       "      <td>0.965714</td>\n",
       "      <td>0.919000</td>\n",
       "      <td>101</td>\n",
       "      <td>RandomForestClassifier</td>\n",
       "      <td>{'bootstrap': True, 'ccp_alpha': 0.0, 'class_w...</td>\n",
       "    </tr>\n",
       "    <tr>\n",
       "      <th>8</th>\n",
       "      <td>Label_Stability</td>\n",
       "      <td>0.892500</td>\n",
       "      <td>0.931429</td>\n",
       "      <td>0.838000</td>\n",
       "      <td>101</td>\n",
       "      <td>RandomForestClassifier</td>\n",
       "      <td>{'bootstrap': True, 'ccp_alpha': 0.0, 'class_w...</td>\n",
       "    </tr>\n",
       "    <tr>\n",
       "      <th>9</th>\n",
       "      <td>TPR</td>\n",
       "      <td>1.000000</td>\n",
       "      <td>1.000000</td>\n",
       "      <td>1.000000</td>\n",
       "      <td>101</td>\n",
       "      <td>RandomForestClassifier</td>\n",
       "      <td>{'bootstrap': True, 'ccp_alpha': 0.0, 'class_w...</td>\n",
       "    </tr>\n",
       "    <tr>\n",
       "      <th>10</th>\n",
       "      <td>TNR</td>\n",
       "      <td>1.000000</td>\n",
       "      <td>1.000000</td>\n",
       "      <td>1.000000</td>\n",
       "      <td>101</td>\n",
       "      <td>RandomForestClassifier</td>\n",
       "      <td>{'bootstrap': True, 'ccp_alpha': 0.0, 'class_w...</td>\n",
       "    </tr>\n",
       "    <tr>\n",
       "      <th>11</th>\n",
       "      <td>PPV</td>\n",
       "      <td>1.000000</td>\n",
       "      <td>1.000000</td>\n",
       "      <td>1.000000</td>\n",
       "      <td>101</td>\n",
       "      <td>RandomForestClassifier</td>\n",
       "      <td>{'bootstrap': True, 'ccp_alpha': 0.0, 'class_w...</td>\n",
       "    </tr>\n",
       "    <tr>\n",
       "      <th>12</th>\n",
       "      <td>FNR</td>\n",
       "      <td>0.000000</td>\n",
       "      <td>0.000000</td>\n",
       "      <td>0.000000</td>\n",
       "      <td>101</td>\n",
       "      <td>RandomForestClassifier</td>\n",
       "      <td>{'bootstrap': True, 'ccp_alpha': 0.0, 'class_w...</td>\n",
       "    </tr>\n",
       "    <tr>\n",
       "      <th>13</th>\n",
       "      <td>FPR</td>\n",
       "      <td>0.000000</td>\n",
       "      <td>0.000000</td>\n",
       "      <td>0.000000</td>\n",
       "      <td>101</td>\n",
       "      <td>RandomForestClassifier</td>\n",
       "      <td>{'bootstrap': True, 'ccp_alpha': 0.0, 'class_w...</td>\n",
       "    </tr>\n",
       "    <tr>\n",
       "      <th>14</th>\n",
       "      <td>Accuracy</td>\n",
       "      <td>1.000000</td>\n",
       "      <td>1.000000</td>\n",
       "      <td>1.000000</td>\n",
       "      <td>101</td>\n",
       "      <td>RandomForestClassifier</td>\n",
       "      <td>{'bootstrap': True, 'ccp_alpha': 0.0, 'class_w...</td>\n",
       "    </tr>\n",
       "    <tr>\n",
       "      <th>15</th>\n",
       "      <td>F1</td>\n",
       "      <td>1.000000</td>\n",
       "      <td>1.000000</td>\n",
       "      <td>1.000000</td>\n",
       "      <td>101</td>\n",
       "      <td>RandomForestClassifier</td>\n",
       "      <td>{'bootstrap': True, 'ccp_alpha': 0.0, 'class_w...</td>\n",
       "    </tr>\n",
       "    <tr>\n",
       "      <th>16</th>\n",
       "      <td>Selection-Rate</td>\n",
       "      <td>0.333333</td>\n",
       "      <td>0.428571</td>\n",
       "      <td>0.200000</td>\n",
       "      <td>101</td>\n",
       "      <td>RandomForestClassifier</td>\n",
       "      <td>{'bootstrap': True, 'ccp_alpha': 0.0, 'class_w...</td>\n",
       "    </tr>\n",
       "    <tr>\n",
       "      <th>17</th>\n",
       "      <td>Positive-Rate</td>\n",
       "      <td>1.000000</td>\n",
       "      <td>1.000000</td>\n",
       "      <td>1.000000</td>\n",
       "      <td>101</td>\n",
       "      <td>RandomForestClassifier</td>\n",
       "      <td>{'bootstrap': True, 'ccp_alpha': 0.0, 'class_w...</td>\n",
       "    </tr>\n",
       "    <tr>\n",
       "      <th>18</th>\n",
       "      <td>Sample_Size</td>\n",
       "      <td>12.000000</td>\n",
       "      <td>NaN</td>\n",
       "      <td>NaN</td>\n",
       "      <td>101</td>\n",
       "      <td>RandomForestClassifier</td>\n",
       "      <td>{'bootstrap': True, 'ccp_alpha': 0.0, 'class_w...</td>\n",
       "    </tr>\n",
       "  </tbody>\n",
       "</table>\n",
       "</div>"
      ],
      "text/plain": [
       "                   Metric    overall  Race_priv  Race_dis  Model_Seed  \\\n",
       "0                    Mean   0.632250   0.577457  0.708960         101   \n",
       "1                     Std   0.078265   0.086284  0.067038         101   \n",
       "2                     IQR   0.095625   0.103929  0.084000         101   \n",
       "3   Aleatoric_Uncertainty   0.356694   0.388056  0.312788         101   \n",
       "4     Overall_Uncertainty   0.408830   0.445746  0.357147         101   \n",
       "5        Statistical_Bias   0.123167   0.128100  0.116260         101   \n",
       "6                  Jitter   0.076914   0.062656  0.096874         101   \n",
       "7     Per_Sample_Accuracy   0.946250   0.965714  0.919000         101   \n",
       "8         Label_Stability   0.892500   0.931429  0.838000         101   \n",
       "9                     TPR   1.000000   1.000000  1.000000         101   \n",
       "10                    TNR   1.000000   1.000000  1.000000         101   \n",
       "11                    PPV   1.000000   1.000000  1.000000         101   \n",
       "12                    FNR   0.000000   0.000000  0.000000         101   \n",
       "13                    FPR   0.000000   0.000000  0.000000         101   \n",
       "14               Accuracy   1.000000   1.000000  1.000000         101   \n",
       "15                     F1   1.000000   1.000000  1.000000         101   \n",
       "16         Selection-Rate   0.333333   0.428571  0.200000         101   \n",
       "17          Positive-Rate   1.000000   1.000000  1.000000         101   \n",
       "18            Sample_Size  12.000000        NaN       NaN         101   \n",
       "\n",
       "                Model_Name                                       Model_Params  \n",
       "0   RandomForestClassifier  {'bootstrap': True, 'ccp_alpha': 0.0, 'class_w...  \n",
       "1   RandomForestClassifier  {'bootstrap': True, 'ccp_alpha': 0.0, 'class_w...  \n",
       "2   RandomForestClassifier  {'bootstrap': True, 'ccp_alpha': 0.0, 'class_w...  \n",
       "3   RandomForestClassifier  {'bootstrap': True, 'ccp_alpha': 0.0, 'class_w...  \n",
       "4   RandomForestClassifier  {'bootstrap': True, 'ccp_alpha': 0.0, 'class_w...  \n",
       "5   RandomForestClassifier  {'bootstrap': True, 'ccp_alpha': 0.0, 'class_w...  \n",
       "6   RandomForestClassifier  {'bootstrap': True, 'ccp_alpha': 0.0, 'class_w...  \n",
       "7   RandomForestClassifier  {'bootstrap': True, 'ccp_alpha': 0.0, 'class_w...  \n",
       "8   RandomForestClassifier  {'bootstrap': True, 'ccp_alpha': 0.0, 'class_w...  \n",
       "9   RandomForestClassifier  {'bootstrap': True, 'ccp_alpha': 0.0, 'class_w...  \n",
       "10  RandomForestClassifier  {'bootstrap': True, 'ccp_alpha': 0.0, 'class_w...  \n",
       "11  RandomForestClassifier  {'bootstrap': True, 'ccp_alpha': 0.0, 'class_w...  \n",
       "12  RandomForestClassifier  {'bootstrap': True, 'ccp_alpha': 0.0, 'class_w...  \n",
       "13  RandomForestClassifier  {'bootstrap': True, 'ccp_alpha': 0.0, 'class_w...  \n",
       "14  RandomForestClassifier  {'bootstrap': True, 'ccp_alpha': 0.0, 'class_w...  \n",
       "15  RandomForestClassifier  {'bootstrap': True, 'ccp_alpha': 0.0, 'class_w...  \n",
       "16  RandomForestClassifier  {'bootstrap': True, 'ccp_alpha': 0.0, 'class_w...  \n",
       "17  RandomForestClassifier  {'bootstrap': True, 'ccp_alpha': 0.0, 'class_w...  \n",
       "18  RandomForestClassifier  {'bootstrap': True, 'ccp_alpha': 0.0, 'class_w...  "
      ]
     },
     "metadata": {},
     "output_type": "display_data"
    },
    {
     "name": "stdout",
     "output_type": "stream",
     "text": [
      "\n",
      "\n",
      "\n",
      "\n",
      "intervention_param:  0.7\n",
      "2023/08/06, 10:52:33: Tuning RandomForestClassifier...\n"
     ]
    },
    {
     "name": "stderr",
     "output_type": "stream",
     "text": [
      "2023-08-06 10:53:07 experiment_interface.py INFO    : Models are tuned and saved to a file\n",
      "INFO:root:Models are tuned and saved to a file\n"
     ]
    },
    {
     "name": "stdout",
     "output_type": "stream",
     "text": [
      "2023/08/06, 10:53:07: Tuning for RandomForestClassifier is finished [F1 score = 0.9423983423983424, Accuracy = 0.9444444444444443]\n",
      "\n"
     ]
    },
    {
     "data": {
      "application/vnd.jupyter.widget-view+json": {
       "model_id": "5dfee4962c59445dae185f8718f6de03",
       "version_major": 2,
       "version_minor": 0
      },
      "text/plain": [
       "Multiple runs progress:   0%|          | 0/1 [00:00<?, ?it/s]"
      ]
     },
     "metadata": {},
     "output_type": "display_data"
    },
    {
     "data": {
      "application/vnd.jupyter.widget-view+json": {
       "model_id": "8e08c487d6484e199ac7ff1d98d03cbf",
       "version_major": 2,
       "version_minor": 0
      },
      "text/plain": [
       "Analyze models in one run:   0%|          | 0/1 [00:00<?, ?it/s]"
      ]
     },
     "metadata": {},
     "output_type": "display_data"
    },
    {
     "name": "stdout",
     "output_type": "stream",
     "text": [
      "##############################  [Model 1 / 1] Analyze RandomForestClassifier  ##############################\n",
      "Model seed:  101\n",
      "\n",
      "Protected groups splits:\n",
      "Race_priv (7, 1)\n",
      "Race_dis (5, 1)\n",
      "\n",
      "\n"
     ]
    },
    {
     "name": "stderr",
     "output_type": "stream",
     "text": [
      "2023-08-06 10:53:07 abstract_overall_variance_analyzer.py INFO    : Start classifiers testing by bootstrap\n",
      "INFO:root:Start classifiers testing by bootstrap\n"
     ]
    },
    {
     "data": {
      "application/vnd.jupyter.widget-view+json": {
       "model_id": "db6b4be63ef1492a845050a1fd8ace5d",
       "version_major": 2,
       "version_minor": 0
      },
      "text/plain": [
       "Classifiers testing by bootstrap:   0%|          | 0/200 [00:00<?, ?it/s]"
      ]
     },
     "metadata": {},
     "output_type": "display_data"
    },
    {
     "name": "stdout",
     "output_type": "stream",
     "text": [
      "\n",
      "\n"
     ]
    },
    {
     "name": "stderr",
     "output_type": "stream",
     "text": [
      "2023-08-06 10:53:33 abstract_overall_variance_analyzer.py INFO    : Successfully tested classifiers by bootstrap\n",
      "INFO:root:Successfully tested classifiers by bootstrap\n",
      "2023-08-06 10:53:33 abstract_overall_variance_analyzer.py INFO    : Successfully computed predict proba metrics\n",
      "INFO:root:Successfully computed predict proba metrics\n"
     ]
    },
    {
     "name": "stdout",
     "output_type": "stream",
     "text": [
      "\n",
      "[RandomForestClassifier] Metrics matrix:\n"
     ]
    },
    {
     "data": {
      "text/html": [
       "<div>\n",
       "<style scoped>\n",
       "    .dataframe tbody tr th:only-of-type {\n",
       "        vertical-align: middle;\n",
       "    }\n",
       "\n",
       "    .dataframe tbody tr th {\n",
       "        vertical-align: top;\n",
       "    }\n",
       "\n",
       "    .dataframe thead th {\n",
       "        text-align: right;\n",
       "    }\n",
       "</style>\n",
       "<table border=\"1\" class=\"dataframe\">\n",
       "  <thead>\n",
       "    <tr style=\"text-align: right;\">\n",
       "      <th></th>\n",
       "      <th>Metric</th>\n",
       "      <th>overall</th>\n",
       "      <th>Race_priv</th>\n",
       "      <th>Race_dis</th>\n",
       "      <th>Model_Seed</th>\n",
       "      <th>Model_Name</th>\n",
       "      <th>Model_Params</th>\n",
       "    </tr>\n",
       "  </thead>\n",
       "  <tbody>\n",
       "    <tr>\n",
       "      <th>0</th>\n",
       "      <td>Mean</td>\n",
       "      <td>0.645251</td>\n",
       "      <td>0.623137</td>\n",
       "      <td>0.676211</td>\n",
       "      <td>101</td>\n",
       "      <td>RandomForestClassifier</td>\n",
       "      <td>{'bootstrap': True, 'ccp_alpha': 0.0, 'class_w...</td>\n",
       "    </tr>\n",
       "    <tr>\n",
       "      <th>1</th>\n",
       "      <td>Std</td>\n",
       "      <td>0.065506</td>\n",
       "      <td>0.062809</td>\n",
       "      <td>0.069281</td>\n",
       "      <td>101</td>\n",
       "      <td>RandomForestClassifier</td>\n",
       "      <td>{'bootstrap': True, 'ccp_alpha': 0.0, 'class_w...</td>\n",
       "    </tr>\n",
       "    <tr>\n",
       "      <th>2</th>\n",
       "      <td>IQR</td>\n",
       "      <td>0.086094</td>\n",
       "      <td>0.081662</td>\n",
       "      <td>0.092299</td>\n",
       "      <td>101</td>\n",
       "      <td>RandomForestClassifier</td>\n",
       "      <td>{'bootstrap': True, 'ccp_alpha': 0.0, 'class_w...</td>\n",
       "    </tr>\n",
       "    <tr>\n",
       "      <th>3</th>\n",
       "      <td>Aleatoric_Uncertainty</td>\n",
       "      <td>0.418675</td>\n",
       "      <td>0.410597</td>\n",
       "      <td>0.429984</td>\n",
       "      <td>101</td>\n",
       "      <td>RandomForestClassifier</td>\n",
       "      <td>{'bootstrap': True, 'ccp_alpha': 0.0, 'class_w...</td>\n",
       "    </tr>\n",
       "    <tr>\n",
       "      <th>4</th>\n",
       "      <td>Overall_Uncertainty</td>\n",
       "      <td>0.452168</td>\n",
       "      <td>0.442190</td>\n",
       "      <td>0.466138</td>\n",
       "      <td>101</td>\n",
       "      <td>RandomForestClassifier</td>\n",
       "      <td>{'bootstrap': True, 'ccp_alpha': 0.0, 'class_w...</td>\n",
       "    </tr>\n",
       "    <tr>\n",
       "      <th>5</th>\n",
       "      <td>Statistical_Bias</td>\n",
       "      <td>0.140953</td>\n",
       "      <td>0.125799</td>\n",
       "      <td>0.162169</td>\n",
       "      <td>101</td>\n",
       "      <td>RandomForestClassifier</td>\n",
       "      <td>{'bootstrap': True, 'ccp_alpha': 0.0, 'class_w...</td>\n",
       "    </tr>\n",
       "    <tr>\n",
       "      <th>6</th>\n",
       "      <td>Jitter</td>\n",
       "      <td>0.070415</td>\n",
       "      <td>0.054156</td>\n",
       "      <td>0.093176</td>\n",
       "      <td>101</td>\n",
       "      <td>RandomForestClassifier</td>\n",
       "      <td>{'bootstrap': True, 'ccp_alpha': 0.0, 'class_w...</td>\n",
       "    </tr>\n",
       "    <tr>\n",
       "      <th>7</th>\n",
       "      <td>Per_Sample_Accuracy</td>\n",
       "      <td>0.928750</td>\n",
       "      <td>0.968571</td>\n",
       "      <td>0.873000</td>\n",
       "      <td>101</td>\n",
       "      <td>RandomForestClassifier</td>\n",
       "      <td>{'bootstrap': True, 'ccp_alpha': 0.0, 'class_w...</td>\n",
       "    </tr>\n",
       "    <tr>\n",
       "      <th>8</th>\n",
       "      <td>Label_Stability</td>\n",
       "      <td>0.902500</td>\n",
       "      <td>0.937143</td>\n",
       "      <td>0.854000</td>\n",
       "      <td>101</td>\n",
       "      <td>RandomForestClassifier</td>\n",
       "      <td>{'bootstrap': True, 'ccp_alpha': 0.0, 'class_w...</td>\n",
       "    </tr>\n",
       "    <tr>\n",
       "      <th>9</th>\n",
       "      <td>TPR</td>\n",
       "      <td>1.000000</td>\n",
       "      <td>1.000000</td>\n",
       "      <td>1.000000</td>\n",
       "      <td>101</td>\n",
       "      <td>RandomForestClassifier</td>\n",
       "      <td>{'bootstrap': True, 'ccp_alpha': 0.0, 'class_w...</td>\n",
       "    </tr>\n",
       "    <tr>\n",
       "      <th>10</th>\n",
       "      <td>TNR</td>\n",
       "      <td>0.875000</td>\n",
       "      <td>1.000000</td>\n",
       "      <td>0.750000</td>\n",
       "      <td>101</td>\n",
       "      <td>RandomForestClassifier</td>\n",
       "      <td>{'bootstrap': True, 'ccp_alpha': 0.0, 'class_w...</td>\n",
       "    </tr>\n",
       "    <tr>\n",
       "      <th>11</th>\n",
       "      <td>PPV</td>\n",
       "      <td>0.800000</td>\n",
       "      <td>1.000000</td>\n",
       "      <td>0.500000</td>\n",
       "      <td>101</td>\n",
       "      <td>RandomForestClassifier</td>\n",
       "      <td>{'bootstrap': True, 'ccp_alpha': 0.0, 'class_w...</td>\n",
       "    </tr>\n",
       "    <tr>\n",
       "      <th>12</th>\n",
       "      <td>FNR</td>\n",
       "      <td>0.000000</td>\n",
       "      <td>0.000000</td>\n",
       "      <td>0.000000</td>\n",
       "      <td>101</td>\n",
       "      <td>RandomForestClassifier</td>\n",
       "      <td>{'bootstrap': True, 'ccp_alpha': 0.0, 'class_w...</td>\n",
       "    </tr>\n",
       "    <tr>\n",
       "      <th>13</th>\n",
       "      <td>FPR</td>\n",
       "      <td>0.125000</td>\n",
       "      <td>0.000000</td>\n",
       "      <td>0.250000</td>\n",
       "      <td>101</td>\n",
       "      <td>RandomForestClassifier</td>\n",
       "      <td>{'bootstrap': True, 'ccp_alpha': 0.0, 'class_w...</td>\n",
       "    </tr>\n",
       "    <tr>\n",
       "      <th>14</th>\n",
       "      <td>Accuracy</td>\n",
       "      <td>0.916667</td>\n",
       "      <td>1.000000</td>\n",
       "      <td>0.800000</td>\n",
       "      <td>101</td>\n",
       "      <td>RandomForestClassifier</td>\n",
       "      <td>{'bootstrap': True, 'ccp_alpha': 0.0, 'class_w...</td>\n",
       "    </tr>\n",
       "    <tr>\n",
       "      <th>15</th>\n",
       "      <td>F1</td>\n",
       "      <td>0.888889</td>\n",
       "      <td>1.000000</td>\n",
       "      <td>0.666667</td>\n",
       "      <td>101</td>\n",
       "      <td>RandomForestClassifier</td>\n",
       "      <td>{'bootstrap': True, 'ccp_alpha': 0.0, 'class_w...</td>\n",
       "    </tr>\n",
       "    <tr>\n",
       "      <th>16</th>\n",
       "      <td>Selection-Rate</td>\n",
       "      <td>0.416667</td>\n",
       "      <td>0.428571</td>\n",
       "      <td>0.400000</td>\n",
       "      <td>101</td>\n",
       "      <td>RandomForestClassifier</td>\n",
       "      <td>{'bootstrap': True, 'ccp_alpha': 0.0, 'class_w...</td>\n",
       "    </tr>\n",
       "    <tr>\n",
       "      <th>17</th>\n",
       "      <td>Positive-Rate</td>\n",
       "      <td>1.250000</td>\n",
       "      <td>1.000000</td>\n",
       "      <td>2.000000</td>\n",
       "      <td>101</td>\n",
       "      <td>RandomForestClassifier</td>\n",
       "      <td>{'bootstrap': True, 'ccp_alpha': 0.0, 'class_w...</td>\n",
       "    </tr>\n",
       "    <tr>\n",
       "      <th>18</th>\n",
       "      <td>Sample_Size</td>\n",
       "      <td>12.000000</td>\n",
       "      <td>NaN</td>\n",
       "      <td>NaN</td>\n",
       "      <td>101</td>\n",
       "      <td>RandomForestClassifier</td>\n",
       "      <td>{'bootstrap': True, 'ccp_alpha': 0.0, 'class_w...</td>\n",
       "    </tr>\n",
       "  </tbody>\n",
       "</table>\n",
       "</div>"
      ],
      "text/plain": [
       "                   Metric    overall  Race_priv  Race_dis  Model_Seed  \\\n",
       "0                    Mean   0.645251   0.623137  0.676211         101   \n",
       "1                     Std   0.065506   0.062809  0.069281         101   \n",
       "2                     IQR   0.086094   0.081662  0.092299         101   \n",
       "3   Aleatoric_Uncertainty   0.418675   0.410597  0.429984         101   \n",
       "4     Overall_Uncertainty   0.452168   0.442190  0.466138         101   \n",
       "5        Statistical_Bias   0.140953   0.125799  0.162169         101   \n",
       "6                  Jitter   0.070415   0.054156  0.093176         101   \n",
       "7     Per_Sample_Accuracy   0.928750   0.968571  0.873000         101   \n",
       "8         Label_Stability   0.902500   0.937143  0.854000         101   \n",
       "9                     TPR   1.000000   1.000000  1.000000         101   \n",
       "10                    TNR   0.875000   1.000000  0.750000         101   \n",
       "11                    PPV   0.800000   1.000000  0.500000         101   \n",
       "12                    FNR   0.000000   0.000000  0.000000         101   \n",
       "13                    FPR   0.125000   0.000000  0.250000         101   \n",
       "14               Accuracy   0.916667   1.000000  0.800000         101   \n",
       "15                     F1   0.888889   1.000000  0.666667         101   \n",
       "16         Selection-Rate   0.416667   0.428571  0.400000         101   \n",
       "17          Positive-Rate   1.250000   1.000000  2.000000         101   \n",
       "18            Sample_Size  12.000000        NaN       NaN         101   \n",
       "\n",
       "                Model_Name                                       Model_Params  \n",
       "0   RandomForestClassifier  {'bootstrap': True, 'ccp_alpha': 0.0, 'class_w...  \n",
       "1   RandomForestClassifier  {'bootstrap': True, 'ccp_alpha': 0.0, 'class_w...  \n",
       "2   RandomForestClassifier  {'bootstrap': True, 'ccp_alpha': 0.0, 'class_w...  \n",
       "3   RandomForestClassifier  {'bootstrap': True, 'ccp_alpha': 0.0, 'class_w...  \n",
       "4   RandomForestClassifier  {'bootstrap': True, 'ccp_alpha': 0.0, 'class_w...  \n",
       "5   RandomForestClassifier  {'bootstrap': True, 'ccp_alpha': 0.0, 'class_w...  \n",
       "6   RandomForestClassifier  {'bootstrap': True, 'ccp_alpha': 0.0, 'class_w...  \n",
       "7   RandomForestClassifier  {'bootstrap': True, 'ccp_alpha': 0.0, 'class_w...  \n",
       "8   RandomForestClassifier  {'bootstrap': True, 'ccp_alpha': 0.0, 'class_w...  \n",
       "9   RandomForestClassifier  {'bootstrap': True, 'ccp_alpha': 0.0, 'class_w...  \n",
       "10  RandomForestClassifier  {'bootstrap': True, 'ccp_alpha': 0.0, 'class_w...  \n",
       "11  RandomForestClassifier  {'bootstrap': True, 'ccp_alpha': 0.0, 'class_w...  \n",
       "12  RandomForestClassifier  {'bootstrap': True, 'ccp_alpha': 0.0, 'class_w...  \n",
       "13  RandomForestClassifier  {'bootstrap': True, 'ccp_alpha': 0.0, 'class_w...  \n",
       "14  RandomForestClassifier  {'bootstrap': True, 'ccp_alpha': 0.0, 'class_w...  \n",
       "15  RandomForestClassifier  {'bootstrap': True, 'ccp_alpha': 0.0, 'class_w...  \n",
       "16  RandomForestClassifier  {'bootstrap': True, 'ccp_alpha': 0.0, 'class_w...  \n",
       "17  RandomForestClassifier  {'bootstrap': True, 'ccp_alpha': 0.0, 'class_w...  \n",
       "18  RandomForestClassifier  {'bootstrap': True, 'ccp_alpha': 0.0, 'class_w...  "
      ]
     },
     "metadata": {},
     "output_type": "display_data"
    },
    {
     "name": "stdout",
     "output_type": "stream",
     "text": [
      "\n",
      "\n",
      "\n",
      "\n",
      "intervention_param:  0.8\n",
      "2023/08/06, 10:53:34: Tuning RandomForestClassifier...\n"
     ]
    },
    {
     "name": "stderr",
     "output_type": "stream",
     "text": [
      "2023-08-06 10:54:08 experiment_interface.py INFO    : Models are tuned and saved to a file\n",
      "INFO:root:Models are tuned and saved to a file\n"
     ]
    },
    {
     "name": "stdout",
     "output_type": "stream",
     "text": [
      "2023/08/06, 10:54:08: Tuning for RandomForestClassifier is finished [F1 score = 0.9423983423983424, Accuracy = 0.9444444444444443]\n",
      "\n"
     ]
    },
    {
     "data": {
      "application/vnd.jupyter.widget-view+json": {
       "model_id": "5ddae8965f8b436ab262908ed3810ac6",
       "version_major": 2,
       "version_minor": 0
      },
      "text/plain": [
       "Multiple runs progress:   0%|          | 0/1 [00:00<?, ?it/s]"
      ]
     },
     "metadata": {},
     "output_type": "display_data"
    },
    {
     "data": {
      "application/vnd.jupyter.widget-view+json": {
       "model_id": "fd5b1d40b9684c3683df96ab1d49d1dc",
       "version_major": 2,
       "version_minor": 0
      },
      "text/plain": [
       "Analyze models in one run:   0%|          | 0/1 [00:00<?, ?it/s]"
      ]
     },
     "metadata": {},
     "output_type": "display_data"
    },
    {
     "name": "stdout",
     "output_type": "stream",
     "text": [
      "##############################  [Model 1 / 1] Analyze RandomForestClassifier  ##############################\n",
      "Model seed:  101\n",
      "\n",
      "Protected groups splits:\n",
      "Race_priv (7, 1)\n",
      "Race_dis (5, 1)\n",
      "\n",
      "\n"
     ]
    },
    {
     "name": "stderr",
     "output_type": "stream",
     "text": [
      "2023-08-06 10:54:08 abstract_overall_variance_analyzer.py INFO    : Start classifiers testing by bootstrap\n",
      "INFO:root:Start classifiers testing by bootstrap\n"
     ]
    },
    {
     "data": {
      "application/vnd.jupyter.widget-view+json": {
       "model_id": "56bb2a81012944a08bdfbfa9b12a1e94",
       "version_major": 2,
       "version_minor": 0
      },
      "text/plain": [
       "Classifiers testing by bootstrap:   0%|          | 0/200 [00:00<?, ?it/s]"
      ]
     },
     "metadata": {},
     "output_type": "display_data"
    },
    {
     "name": "stdout",
     "output_type": "stream",
     "text": [
      "\n",
      "\n"
     ]
    },
    {
     "name": "stderr",
     "output_type": "stream",
     "text": [
      "2023-08-06 10:54:33 abstract_overall_variance_analyzer.py INFO    : Successfully tested classifiers by bootstrap\n",
      "INFO:root:Successfully tested classifiers by bootstrap\n",
      "2023-08-06 10:54:34 abstract_overall_variance_analyzer.py INFO    : Successfully computed predict proba metrics\n",
      "INFO:root:Successfully computed predict proba metrics\n"
     ]
    },
    {
     "name": "stdout",
     "output_type": "stream",
     "text": [
      "\n",
      "[RandomForestClassifier] Metrics matrix:\n"
     ]
    },
    {
     "data": {
      "text/html": [
       "<div>\n",
       "<style scoped>\n",
       "    .dataframe tbody tr th:only-of-type {\n",
       "        vertical-align: middle;\n",
       "    }\n",
       "\n",
       "    .dataframe tbody tr th {\n",
       "        vertical-align: top;\n",
       "    }\n",
       "\n",
       "    .dataframe thead th {\n",
       "        text-align: right;\n",
       "    }\n",
       "</style>\n",
       "<table border=\"1\" class=\"dataframe\">\n",
       "  <thead>\n",
       "    <tr style=\"text-align: right;\">\n",
       "      <th></th>\n",
       "      <th>Metric</th>\n",
       "      <th>overall</th>\n",
       "      <th>Race_priv</th>\n",
       "      <th>Race_dis</th>\n",
       "      <th>Model_Seed</th>\n",
       "      <th>Model_Name</th>\n",
       "      <th>Model_Params</th>\n",
       "    </tr>\n",
       "  </thead>\n",
       "  <tbody>\n",
       "    <tr>\n",
       "      <th>0</th>\n",
       "      <td>Mean</td>\n",
       "      <td>0.639878</td>\n",
       "      <td>0.621403</td>\n",
       "      <td>0.665742</td>\n",
       "      <td>101</td>\n",
       "      <td>RandomForestClassifier</td>\n",
       "      <td>{'bootstrap': True, 'ccp_alpha': 0.0, 'class_w...</td>\n",
       "    </tr>\n",
       "    <tr>\n",
       "      <th>1</th>\n",
       "      <td>Std</td>\n",
       "      <td>0.069918</td>\n",
       "      <td>0.065729</td>\n",
       "      <td>0.075783</td>\n",
       "      <td>101</td>\n",
       "      <td>RandomForestClassifier</td>\n",
       "      <td>{'bootstrap': True, 'ccp_alpha': 0.0, 'class_w...</td>\n",
       "    </tr>\n",
       "    <tr>\n",
       "      <th>2</th>\n",
       "      <td>IQR</td>\n",
       "      <td>0.087321</td>\n",
       "      <td>0.082197</td>\n",
       "      <td>0.094495</td>\n",
       "      <td>101</td>\n",
       "      <td>RandomForestClassifier</td>\n",
       "      <td>{'bootstrap': True, 'ccp_alpha': 0.0, 'class_w...</td>\n",
       "    </tr>\n",
       "    <tr>\n",
       "      <th>3</th>\n",
       "      <td>Aleatoric_Uncertainty</td>\n",
       "      <td>0.438154</td>\n",
       "      <td>0.421898</td>\n",
       "      <td>0.460913</td>\n",
       "      <td>101</td>\n",
       "      <td>RandomForestClassifier</td>\n",
       "      <td>{'bootstrap': True, 'ccp_alpha': 0.0, 'class_w...</td>\n",
       "    </tr>\n",
       "    <tr>\n",
       "      <th>4</th>\n",
       "      <td>Overall_Uncertainty</td>\n",
       "      <td>0.473950</td>\n",
       "      <td>0.454730</td>\n",
       "      <td>0.500857</td>\n",
       "      <td>101</td>\n",
       "      <td>RandomForestClassifier</td>\n",
       "      <td>{'bootstrap': True, 'ccp_alpha': 0.0, 'class_w...</td>\n",
       "    </tr>\n",
       "    <tr>\n",
       "      <th>5</th>\n",
       "      <td>Statistical_Bias</td>\n",
       "      <td>0.148921</td>\n",
       "      <td>0.127778</td>\n",
       "      <td>0.178521</td>\n",
       "      <td>101</td>\n",
       "      <td>RandomForestClassifier</td>\n",
       "      <td>{'bootstrap': True, 'ccp_alpha': 0.0, 'class_w...</td>\n",
       "    </tr>\n",
       "    <tr>\n",
       "      <th>6</th>\n",
       "      <td>Jitter</td>\n",
       "      <td>0.066160</td>\n",
       "      <td>0.054293</td>\n",
       "      <td>0.082774</td>\n",
       "      <td>101</td>\n",
       "      <td>RandomForestClassifier</td>\n",
       "      <td>{'bootstrap': True, 'ccp_alpha': 0.0, 'class_w...</td>\n",
       "    </tr>\n",
       "    <tr>\n",
       "      <th>7</th>\n",
       "      <td>Per_Sample_Accuracy</td>\n",
       "      <td>0.922917</td>\n",
       "      <td>0.969286</td>\n",
       "      <td>0.858000</td>\n",
       "      <td>101</td>\n",
       "      <td>RandomForestClassifier</td>\n",
       "      <td>{'bootstrap': True, 'ccp_alpha': 0.0, 'class_w...</td>\n",
       "    </tr>\n",
       "    <tr>\n",
       "      <th>8</th>\n",
       "      <td>Label_Stability</td>\n",
       "      <td>0.915833</td>\n",
       "      <td>0.938571</td>\n",
       "      <td>0.884000</td>\n",
       "      <td>101</td>\n",
       "      <td>RandomForestClassifier</td>\n",
       "      <td>{'bootstrap': True, 'ccp_alpha': 0.0, 'class_w...</td>\n",
       "    </tr>\n",
       "    <tr>\n",
       "      <th>9</th>\n",
       "      <td>TPR</td>\n",
       "      <td>1.000000</td>\n",
       "      <td>1.000000</td>\n",
       "      <td>1.000000</td>\n",
       "      <td>101</td>\n",
       "      <td>RandomForestClassifier</td>\n",
       "      <td>{'bootstrap': True, 'ccp_alpha': 0.0, 'class_w...</td>\n",
       "    </tr>\n",
       "    <tr>\n",
       "      <th>10</th>\n",
       "      <td>TNR</td>\n",
       "      <td>0.875000</td>\n",
       "      <td>1.000000</td>\n",
       "      <td>0.750000</td>\n",
       "      <td>101</td>\n",
       "      <td>RandomForestClassifier</td>\n",
       "      <td>{'bootstrap': True, 'ccp_alpha': 0.0, 'class_w...</td>\n",
       "    </tr>\n",
       "    <tr>\n",
       "      <th>11</th>\n",
       "      <td>PPV</td>\n",
       "      <td>0.800000</td>\n",
       "      <td>1.000000</td>\n",
       "      <td>0.500000</td>\n",
       "      <td>101</td>\n",
       "      <td>RandomForestClassifier</td>\n",
       "      <td>{'bootstrap': True, 'ccp_alpha': 0.0, 'class_w...</td>\n",
       "    </tr>\n",
       "    <tr>\n",
       "      <th>12</th>\n",
       "      <td>FNR</td>\n",
       "      <td>0.000000</td>\n",
       "      <td>0.000000</td>\n",
       "      <td>0.000000</td>\n",
       "      <td>101</td>\n",
       "      <td>RandomForestClassifier</td>\n",
       "      <td>{'bootstrap': True, 'ccp_alpha': 0.0, 'class_w...</td>\n",
       "    </tr>\n",
       "    <tr>\n",
       "      <th>13</th>\n",
       "      <td>FPR</td>\n",
       "      <td>0.125000</td>\n",
       "      <td>0.000000</td>\n",
       "      <td>0.250000</td>\n",
       "      <td>101</td>\n",
       "      <td>RandomForestClassifier</td>\n",
       "      <td>{'bootstrap': True, 'ccp_alpha': 0.0, 'class_w...</td>\n",
       "    </tr>\n",
       "    <tr>\n",
       "      <th>14</th>\n",
       "      <td>Accuracy</td>\n",
       "      <td>0.916667</td>\n",
       "      <td>1.000000</td>\n",
       "      <td>0.800000</td>\n",
       "      <td>101</td>\n",
       "      <td>RandomForestClassifier</td>\n",
       "      <td>{'bootstrap': True, 'ccp_alpha': 0.0, 'class_w...</td>\n",
       "    </tr>\n",
       "    <tr>\n",
       "      <th>15</th>\n",
       "      <td>F1</td>\n",
       "      <td>0.888889</td>\n",
       "      <td>1.000000</td>\n",
       "      <td>0.666667</td>\n",
       "      <td>101</td>\n",
       "      <td>RandomForestClassifier</td>\n",
       "      <td>{'bootstrap': True, 'ccp_alpha': 0.0, 'class_w...</td>\n",
       "    </tr>\n",
       "    <tr>\n",
       "      <th>16</th>\n",
       "      <td>Selection-Rate</td>\n",
       "      <td>0.416667</td>\n",
       "      <td>0.428571</td>\n",
       "      <td>0.400000</td>\n",
       "      <td>101</td>\n",
       "      <td>RandomForestClassifier</td>\n",
       "      <td>{'bootstrap': True, 'ccp_alpha': 0.0, 'class_w...</td>\n",
       "    </tr>\n",
       "    <tr>\n",
       "      <th>17</th>\n",
       "      <td>Positive-Rate</td>\n",
       "      <td>1.250000</td>\n",
       "      <td>1.000000</td>\n",
       "      <td>2.000000</td>\n",
       "      <td>101</td>\n",
       "      <td>RandomForestClassifier</td>\n",
       "      <td>{'bootstrap': True, 'ccp_alpha': 0.0, 'class_w...</td>\n",
       "    </tr>\n",
       "    <tr>\n",
       "      <th>18</th>\n",
       "      <td>Sample_Size</td>\n",
       "      <td>12.000000</td>\n",
       "      <td>NaN</td>\n",
       "      <td>NaN</td>\n",
       "      <td>101</td>\n",
       "      <td>RandomForestClassifier</td>\n",
       "      <td>{'bootstrap': True, 'ccp_alpha': 0.0, 'class_w...</td>\n",
       "    </tr>\n",
       "  </tbody>\n",
       "</table>\n",
       "</div>"
      ],
      "text/plain": [
       "                   Metric    overall  Race_priv  Race_dis  Model_Seed  \\\n",
       "0                    Mean   0.639878   0.621403  0.665742         101   \n",
       "1                     Std   0.069918   0.065729  0.075783         101   \n",
       "2                     IQR   0.087321   0.082197  0.094495         101   \n",
       "3   Aleatoric_Uncertainty   0.438154   0.421898  0.460913         101   \n",
       "4     Overall_Uncertainty   0.473950   0.454730  0.500857         101   \n",
       "5        Statistical_Bias   0.148921   0.127778  0.178521         101   \n",
       "6                  Jitter   0.066160   0.054293  0.082774         101   \n",
       "7     Per_Sample_Accuracy   0.922917   0.969286  0.858000         101   \n",
       "8         Label_Stability   0.915833   0.938571  0.884000         101   \n",
       "9                     TPR   1.000000   1.000000  1.000000         101   \n",
       "10                    TNR   0.875000   1.000000  0.750000         101   \n",
       "11                    PPV   0.800000   1.000000  0.500000         101   \n",
       "12                    FNR   0.000000   0.000000  0.000000         101   \n",
       "13                    FPR   0.125000   0.000000  0.250000         101   \n",
       "14               Accuracy   0.916667   1.000000  0.800000         101   \n",
       "15                     F1   0.888889   1.000000  0.666667         101   \n",
       "16         Selection-Rate   0.416667   0.428571  0.400000         101   \n",
       "17          Positive-Rate   1.250000   1.000000  2.000000         101   \n",
       "18            Sample_Size  12.000000        NaN       NaN         101   \n",
       "\n",
       "                Model_Name                                       Model_Params  \n",
       "0   RandomForestClassifier  {'bootstrap': True, 'ccp_alpha': 0.0, 'class_w...  \n",
       "1   RandomForestClassifier  {'bootstrap': True, 'ccp_alpha': 0.0, 'class_w...  \n",
       "2   RandomForestClassifier  {'bootstrap': True, 'ccp_alpha': 0.0, 'class_w...  \n",
       "3   RandomForestClassifier  {'bootstrap': True, 'ccp_alpha': 0.0, 'class_w...  \n",
       "4   RandomForestClassifier  {'bootstrap': True, 'ccp_alpha': 0.0, 'class_w...  \n",
       "5   RandomForestClassifier  {'bootstrap': True, 'ccp_alpha': 0.0, 'class_w...  \n",
       "6   RandomForestClassifier  {'bootstrap': True, 'ccp_alpha': 0.0, 'class_w...  \n",
       "7   RandomForestClassifier  {'bootstrap': True, 'ccp_alpha': 0.0, 'class_w...  \n",
       "8   RandomForestClassifier  {'bootstrap': True, 'ccp_alpha': 0.0, 'class_w...  \n",
       "9   RandomForestClassifier  {'bootstrap': True, 'ccp_alpha': 0.0, 'class_w...  \n",
       "10  RandomForestClassifier  {'bootstrap': True, 'ccp_alpha': 0.0, 'class_w...  \n",
       "11  RandomForestClassifier  {'bootstrap': True, 'ccp_alpha': 0.0, 'class_w...  \n",
       "12  RandomForestClassifier  {'bootstrap': True, 'ccp_alpha': 0.0, 'class_w...  \n",
       "13  RandomForestClassifier  {'bootstrap': True, 'ccp_alpha': 0.0, 'class_w...  \n",
       "14  RandomForestClassifier  {'bootstrap': True, 'ccp_alpha': 0.0, 'class_w...  \n",
       "15  RandomForestClassifier  {'bootstrap': True, 'ccp_alpha': 0.0, 'class_w...  \n",
       "16  RandomForestClassifier  {'bootstrap': True, 'ccp_alpha': 0.0, 'class_w...  \n",
       "17  RandomForestClassifier  {'bootstrap': True, 'ccp_alpha': 0.0, 'class_w...  \n",
       "18  RandomForestClassifier  {'bootstrap': True, 'ccp_alpha': 0.0, 'class_w...  "
      ]
     },
     "metadata": {},
     "output_type": "display_data"
    },
    {
     "name": "stdout",
     "output_type": "stream",
     "text": [
      "\n",
      "\n",
      "\n",
      "\n",
      "intervention_param:  0.9\n",
      "2023/08/06, 10:54:34: Tuning RandomForestClassifier...\n"
     ]
    },
    {
     "name": "stderr",
     "output_type": "stream",
     "text": [
      "2023-08-06 10:55:08 experiment_interface.py INFO    : Models are tuned and saved to a file\n",
      "INFO:root:Models are tuned and saved to a file\n"
     ]
    },
    {
     "name": "stdout",
     "output_type": "stream",
     "text": [
      "2023/08/06, 10:55:08: Tuning for RandomForestClassifier is finished [F1 score = 0.8815559440559441, Accuracy = 0.8888888888888888]\n",
      "\n"
     ]
    },
    {
     "data": {
      "application/vnd.jupyter.widget-view+json": {
       "model_id": "e051bd8d51404ed4a94eae6c2f0a4b4e",
       "version_major": 2,
       "version_minor": 0
      },
      "text/plain": [
       "Multiple runs progress:   0%|          | 0/1 [00:00<?, ?it/s]"
      ]
     },
     "metadata": {},
     "output_type": "display_data"
    },
    {
     "data": {
      "application/vnd.jupyter.widget-view+json": {
       "model_id": "5f732a729e734a00bdce6380d9da0f9b",
       "version_major": 2,
       "version_minor": 0
      },
      "text/plain": [
       "Analyze models in one run:   0%|          | 0/1 [00:00<?, ?it/s]"
      ]
     },
     "metadata": {},
     "output_type": "display_data"
    },
    {
     "name": "stdout",
     "output_type": "stream",
     "text": [
      "##############################  [Model 1 / 1] Analyze RandomForestClassifier  ##############################\n",
      "Model seed:  101\n",
      "\n",
      "Protected groups splits:\n",
      "Race_priv (7, 1)\n",
      "Race_dis (5, 1)\n",
      "\n",
      "\n"
     ]
    },
    {
     "name": "stderr",
     "output_type": "stream",
     "text": [
      "2023-08-06 10:55:08 abstract_overall_variance_analyzer.py INFO    : Start classifiers testing by bootstrap\n",
      "INFO:root:Start classifiers testing by bootstrap\n"
     ]
    },
    {
     "data": {
      "application/vnd.jupyter.widget-view+json": {
       "model_id": "b84097308e404ce583955bab4b1e233e",
       "version_major": 2,
       "version_minor": 0
      },
      "text/plain": [
       "Classifiers testing by bootstrap:   0%|          | 0/200 [00:00<?, ?it/s]"
      ]
     },
     "metadata": {},
     "output_type": "display_data"
    },
    {
     "name": "stdout",
     "output_type": "stream",
     "text": [
      "\n",
      "\n"
     ]
    },
    {
     "name": "stderr",
     "output_type": "stream",
     "text": [
      "2023-08-06 10:55:34 abstract_overall_variance_analyzer.py INFO    : Successfully tested classifiers by bootstrap\n",
      "INFO:root:Successfully tested classifiers by bootstrap\n",
      "2023-08-06 10:55:34 abstract_overall_variance_analyzer.py INFO    : Successfully computed predict proba metrics\n",
      "INFO:root:Successfully computed predict proba metrics\n"
     ]
    },
    {
     "name": "stdout",
     "output_type": "stream",
     "text": [
      "\n",
      "[RandomForestClassifier] Metrics matrix:\n"
     ]
    },
    {
     "data": {
      "text/html": [
       "<div>\n",
       "<style scoped>\n",
       "    .dataframe tbody tr th:only-of-type {\n",
       "        vertical-align: middle;\n",
       "    }\n",
       "\n",
       "    .dataframe tbody tr th {\n",
       "        vertical-align: top;\n",
       "    }\n",
       "\n",
       "    .dataframe thead th {\n",
       "        text-align: right;\n",
       "    }\n",
       "</style>\n",
       "<table border=\"1\" class=\"dataframe\">\n",
       "  <thead>\n",
       "    <tr style=\"text-align: right;\">\n",
       "      <th></th>\n",
       "      <th>Metric</th>\n",
       "      <th>overall</th>\n",
       "      <th>Race_priv</th>\n",
       "      <th>Race_dis</th>\n",
       "      <th>Model_Seed</th>\n",
       "      <th>Model_Name</th>\n",
       "      <th>Model_Params</th>\n",
       "    </tr>\n",
       "  </thead>\n",
       "  <tbody>\n",
       "    <tr>\n",
       "      <th>0</th>\n",
       "      <td>Mean</td>\n",
       "      <td>0.662277</td>\n",
       "      <td>0.662502</td>\n",
       "      <td>0.661961</td>\n",
       "      <td>101</td>\n",
       "      <td>RandomForestClassifier</td>\n",
       "      <td>{'bootstrap': True, 'ccp_alpha': 0.0, 'class_w...</td>\n",
       "    </tr>\n",
       "    <tr>\n",
       "      <th>1</th>\n",
       "      <td>Std</td>\n",
       "      <td>0.075386</td>\n",
       "      <td>0.072904</td>\n",
       "      <td>0.078860</td>\n",
       "      <td>101</td>\n",
       "      <td>RandomForestClassifier</td>\n",
       "      <td>{'bootstrap': True, 'ccp_alpha': 0.0, 'class_w...</td>\n",
       "    </tr>\n",
       "    <tr>\n",
       "      <th>2</th>\n",
       "      <td>IQR</td>\n",
       "      <td>0.103471</td>\n",
       "      <td>0.099197</td>\n",
       "      <td>0.109454</td>\n",
       "      <td>101</td>\n",
       "      <td>RandomForestClassifier</td>\n",
       "      <td>{'bootstrap': True, 'ccp_alpha': 0.0, 'class_w...</td>\n",
       "    </tr>\n",
       "    <tr>\n",
       "      <th>3</th>\n",
       "      <td>Aleatoric_Uncertainty</td>\n",
       "      <td>0.451137</td>\n",
       "      <td>0.437477</td>\n",
       "      <td>0.470261</td>\n",
       "      <td>101</td>\n",
       "      <td>RandomForestClassifier</td>\n",
       "      <td>{'bootstrap': True, 'ccp_alpha': 0.0, 'class_w...</td>\n",
       "    </tr>\n",
       "    <tr>\n",
       "      <th>4</th>\n",
       "      <td>Overall_Uncertainty</td>\n",
       "      <td>0.490709</td>\n",
       "      <td>0.475352</td>\n",
       "      <td>0.512208</td>\n",
       "      <td>101</td>\n",
       "      <td>RandomForestClassifier</td>\n",
       "      <td>{'bootstrap': True, 'ccp_alpha': 0.0, 'class_w...</td>\n",
       "    </tr>\n",
       "    <tr>\n",
       "      <th>5</th>\n",
       "      <td>Statistical_Bias</td>\n",
       "      <td>0.162066</td>\n",
       "      <td>0.146363</td>\n",
       "      <td>0.184049</td>\n",
       "      <td>101</td>\n",
       "      <td>RandomForestClassifier</td>\n",
       "      <td>{'bootstrap': True, 'ccp_alpha': 0.0, 'class_w...</td>\n",
       "    </tr>\n",
       "    <tr>\n",
       "      <th>6</th>\n",
       "      <td>Jitter</td>\n",
       "      <td>0.092391</td>\n",
       "      <td>0.100495</td>\n",
       "      <td>0.081045</td>\n",
       "      <td>101</td>\n",
       "      <td>RandomForestClassifier</td>\n",
       "      <td>{'bootstrap': True, 'ccp_alpha': 0.0, 'class_w...</td>\n",
       "    </tr>\n",
       "    <tr>\n",
       "      <th>7</th>\n",
       "      <td>Per_Sample_Accuracy</td>\n",
       "      <td>0.902083</td>\n",
       "      <td>0.935000</td>\n",
       "      <td>0.856000</td>\n",
       "      <td>101</td>\n",
       "      <td>RandomForestClassifier</td>\n",
       "      <td>{'bootstrap': True, 'ccp_alpha': 0.0, 'class_w...</td>\n",
       "    </tr>\n",
       "    <tr>\n",
       "      <th>8</th>\n",
       "      <td>Label_Stability</td>\n",
       "      <td>0.877500</td>\n",
       "      <td>0.870000</td>\n",
       "      <td>0.888000</td>\n",
       "      <td>101</td>\n",
       "      <td>RandomForestClassifier</td>\n",
       "      <td>{'bootstrap': True, 'ccp_alpha': 0.0, 'class_w...</td>\n",
       "    </tr>\n",
       "    <tr>\n",
       "      <th>9</th>\n",
       "      <td>TPR</td>\n",
       "      <td>1.000000</td>\n",
       "      <td>1.000000</td>\n",
       "      <td>1.000000</td>\n",
       "      <td>101</td>\n",
       "      <td>RandomForestClassifier</td>\n",
       "      <td>{'bootstrap': True, 'ccp_alpha': 0.0, 'class_w...</td>\n",
       "    </tr>\n",
       "    <tr>\n",
       "      <th>10</th>\n",
       "      <td>TNR</td>\n",
       "      <td>0.875000</td>\n",
       "      <td>1.000000</td>\n",
       "      <td>0.750000</td>\n",
       "      <td>101</td>\n",
       "      <td>RandomForestClassifier</td>\n",
       "      <td>{'bootstrap': True, 'ccp_alpha': 0.0, 'class_w...</td>\n",
       "    </tr>\n",
       "    <tr>\n",
       "      <th>11</th>\n",
       "      <td>PPV</td>\n",
       "      <td>0.800000</td>\n",
       "      <td>1.000000</td>\n",
       "      <td>0.500000</td>\n",
       "      <td>101</td>\n",
       "      <td>RandomForestClassifier</td>\n",
       "      <td>{'bootstrap': True, 'ccp_alpha': 0.0, 'class_w...</td>\n",
       "    </tr>\n",
       "    <tr>\n",
       "      <th>12</th>\n",
       "      <td>FNR</td>\n",
       "      <td>0.000000</td>\n",
       "      <td>0.000000</td>\n",
       "      <td>0.000000</td>\n",
       "      <td>101</td>\n",
       "      <td>RandomForestClassifier</td>\n",
       "      <td>{'bootstrap': True, 'ccp_alpha': 0.0, 'class_w...</td>\n",
       "    </tr>\n",
       "    <tr>\n",
       "      <th>13</th>\n",
       "      <td>FPR</td>\n",
       "      <td>0.125000</td>\n",
       "      <td>0.000000</td>\n",
       "      <td>0.250000</td>\n",
       "      <td>101</td>\n",
       "      <td>RandomForestClassifier</td>\n",
       "      <td>{'bootstrap': True, 'ccp_alpha': 0.0, 'class_w...</td>\n",
       "    </tr>\n",
       "    <tr>\n",
       "      <th>14</th>\n",
       "      <td>Accuracy</td>\n",
       "      <td>0.916667</td>\n",
       "      <td>1.000000</td>\n",
       "      <td>0.800000</td>\n",
       "      <td>101</td>\n",
       "      <td>RandomForestClassifier</td>\n",
       "      <td>{'bootstrap': True, 'ccp_alpha': 0.0, 'class_w...</td>\n",
       "    </tr>\n",
       "    <tr>\n",
       "      <th>15</th>\n",
       "      <td>F1</td>\n",
       "      <td>0.888889</td>\n",
       "      <td>1.000000</td>\n",
       "      <td>0.666667</td>\n",
       "      <td>101</td>\n",
       "      <td>RandomForestClassifier</td>\n",
       "      <td>{'bootstrap': True, 'ccp_alpha': 0.0, 'class_w...</td>\n",
       "    </tr>\n",
       "    <tr>\n",
       "      <th>16</th>\n",
       "      <td>Selection-Rate</td>\n",
       "      <td>0.416667</td>\n",
       "      <td>0.428571</td>\n",
       "      <td>0.400000</td>\n",
       "      <td>101</td>\n",
       "      <td>RandomForestClassifier</td>\n",
       "      <td>{'bootstrap': True, 'ccp_alpha': 0.0, 'class_w...</td>\n",
       "    </tr>\n",
       "    <tr>\n",
       "      <th>17</th>\n",
       "      <td>Positive-Rate</td>\n",
       "      <td>1.250000</td>\n",
       "      <td>1.000000</td>\n",
       "      <td>2.000000</td>\n",
       "      <td>101</td>\n",
       "      <td>RandomForestClassifier</td>\n",
       "      <td>{'bootstrap': True, 'ccp_alpha': 0.0, 'class_w...</td>\n",
       "    </tr>\n",
       "    <tr>\n",
       "      <th>18</th>\n",
       "      <td>Sample_Size</td>\n",
       "      <td>12.000000</td>\n",
       "      <td>NaN</td>\n",
       "      <td>NaN</td>\n",
       "      <td>101</td>\n",
       "      <td>RandomForestClassifier</td>\n",
       "      <td>{'bootstrap': True, 'ccp_alpha': 0.0, 'class_w...</td>\n",
       "    </tr>\n",
       "  </tbody>\n",
       "</table>\n",
       "</div>"
      ],
      "text/plain": [
       "                   Metric    overall  Race_priv  Race_dis  Model_Seed  \\\n",
       "0                    Mean   0.662277   0.662502  0.661961         101   \n",
       "1                     Std   0.075386   0.072904  0.078860         101   \n",
       "2                     IQR   0.103471   0.099197  0.109454         101   \n",
       "3   Aleatoric_Uncertainty   0.451137   0.437477  0.470261         101   \n",
       "4     Overall_Uncertainty   0.490709   0.475352  0.512208         101   \n",
       "5        Statistical_Bias   0.162066   0.146363  0.184049         101   \n",
       "6                  Jitter   0.092391   0.100495  0.081045         101   \n",
       "7     Per_Sample_Accuracy   0.902083   0.935000  0.856000         101   \n",
       "8         Label_Stability   0.877500   0.870000  0.888000         101   \n",
       "9                     TPR   1.000000   1.000000  1.000000         101   \n",
       "10                    TNR   0.875000   1.000000  0.750000         101   \n",
       "11                    PPV   0.800000   1.000000  0.500000         101   \n",
       "12                    FNR   0.000000   0.000000  0.000000         101   \n",
       "13                    FPR   0.125000   0.000000  0.250000         101   \n",
       "14               Accuracy   0.916667   1.000000  0.800000         101   \n",
       "15                     F1   0.888889   1.000000  0.666667         101   \n",
       "16         Selection-Rate   0.416667   0.428571  0.400000         101   \n",
       "17          Positive-Rate   1.250000   1.000000  2.000000         101   \n",
       "18            Sample_Size  12.000000        NaN       NaN         101   \n",
       "\n",
       "                Model_Name                                       Model_Params  \n",
       "0   RandomForestClassifier  {'bootstrap': True, 'ccp_alpha': 0.0, 'class_w...  \n",
       "1   RandomForestClassifier  {'bootstrap': True, 'ccp_alpha': 0.0, 'class_w...  \n",
       "2   RandomForestClassifier  {'bootstrap': True, 'ccp_alpha': 0.0, 'class_w...  \n",
       "3   RandomForestClassifier  {'bootstrap': True, 'ccp_alpha': 0.0, 'class_w...  \n",
       "4   RandomForestClassifier  {'bootstrap': True, 'ccp_alpha': 0.0, 'class_w...  \n",
       "5   RandomForestClassifier  {'bootstrap': True, 'ccp_alpha': 0.0, 'class_w...  \n",
       "6   RandomForestClassifier  {'bootstrap': True, 'ccp_alpha': 0.0, 'class_w...  \n",
       "7   RandomForestClassifier  {'bootstrap': True, 'ccp_alpha': 0.0, 'class_w...  \n",
       "8   RandomForestClassifier  {'bootstrap': True, 'ccp_alpha': 0.0, 'class_w...  \n",
       "9   RandomForestClassifier  {'bootstrap': True, 'ccp_alpha': 0.0, 'class_w...  \n",
       "10  RandomForestClassifier  {'bootstrap': True, 'ccp_alpha': 0.0, 'class_w...  \n",
       "11  RandomForestClassifier  {'bootstrap': True, 'ccp_alpha': 0.0, 'class_w...  \n",
       "12  RandomForestClassifier  {'bootstrap': True, 'ccp_alpha': 0.0, 'class_w...  \n",
       "13  RandomForestClassifier  {'bootstrap': True, 'ccp_alpha': 0.0, 'class_w...  \n",
       "14  RandomForestClassifier  {'bootstrap': True, 'ccp_alpha': 0.0, 'class_w...  \n",
       "15  RandomForestClassifier  {'bootstrap': True, 'ccp_alpha': 0.0, 'class_w...  \n",
       "16  RandomForestClassifier  {'bootstrap': True, 'ccp_alpha': 0.0, 'class_w...  \n",
       "17  RandomForestClassifier  {'bootstrap': True, 'ccp_alpha': 0.0, 'class_w...  \n",
       "18  RandomForestClassifier  {'bootstrap': True, 'ccp_alpha': 0.0, 'class_w...  "
      ]
     },
     "metadata": {},
     "output_type": "display_data"
    },
    {
     "name": "stdout",
     "output_type": "stream",
     "text": [
      "\n",
      "\n",
      "\n",
      "\n",
      "intervention_param:  1.0\n",
      "2023/08/06, 10:55:35: Tuning RandomForestClassifier...\n"
     ]
    },
    {
     "name": "stderr",
     "output_type": "stream",
     "text": [
      "2023-08-06 10:56:09 experiment_interface.py INFO    : Models are tuned and saved to a file\n",
      "INFO:root:Models are tuned and saved to a file\n"
     ]
    },
    {
     "name": "stdout",
     "output_type": "stream",
     "text": [
      "2023/08/06, 10:56:09: Tuning for RandomForestClassifier is finished [F1 score = 0.9144263144263144, Accuracy = 0.9166666666666666]\n",
      "\n"
     ]
    },
    {
     "data": {
      "application/vnd.jupyter.widget-view+json": {
       "model_id": "d3c7710906f349d7af7579770374facd",
       "version_major": 2,
       "version_minor": 0
      },
      "text/plain": [
       "Multiple runs progress:   0%|          | 0/1 [00:00<?, ?it/s]"
      ]
     },
     "metadata": {},
     "output_type": "display_data"
    },
    {
     "data": {
      "application/vnd.jupyter.widget-view+json": {
       "model_id": "e957fe2049554a2e8aa3066e2312dfbe",
       "version_major": 2,
       "version_minor": 0
      },
      "text/plain": [
       "Analyze models in one run:   0%|          | 0/1 [00:00<?, ?it/s]"
      ]
     },
     "metadata": {},
     "output_type": "display_data"
    },
    {
     "name": "stdout",
     "output_type": "stream",
     "text": [
      "##############################  [Model 1 / 1] Analyze RandomForestClassifier  ##############################\n",
      "Model seed:  101\n",
      "\n",
      "Protected groups splits:\n",
      "Race_priv (7, 1)\n",
      "Race_dis (5, 1)\n",
      "\n",
      "\n"
     ]
    },
    {
     "name": "stderr",
     "output_type": "stream",
     "text": [
      "2023-08-06 10:56:09 abstract_overall_variance_analyzer.py INFO    : Start classifiers testing by bootstrap\n",
      "INFO:root:Start classifiers testing by bootstrap\n"
     ]
    },
    {
     "data": {
      "application/vnd.jupyter.widget-view+json": {
       "model_id": "126fed043402476fae618bbe7b7391fc",
       "version_major": 2,
       "version_minor": 0
      },
      "text/plain": [
       "Classifiers testing by bootstrap:   0%|          | 0/200 [00:00<?, ?it/s]"
      ]
     },
     "metadata": {},
     "output_type": "display_data"
    },
    {
     "name": "stdout",
     "output_type": "stream",
     "text": [
      "\n",
      "\n"
     ]
    },
    {
     "name": "stderr",
     "output_type": "stream",
     "text": [
      "2023-08-06 10:56:34 abstract_overall_variance_analyzer.py INFO    : Successfully tested classifiers by bootstrap\n",
      "INFO:root:Successfully tested classifiers by bootstrap\n",
      "2023-08-06 10:56:35 abstract_overall_variance_analyzer.py INFO    : Successfully computed predict proba metrics\n",
      "INFO:root:Successfully computed predict proba metrics\n"
     ]
    },
    {
     "name": "stdout",
     "output_type": "stream",
     "text": [
      "\n",
      "[RandomForestClassifier] Metrics matrix:\n"
     ]
    },
    {
     "data": {
      "text/html": [
       "<div>\n",
       "<style scoped>\n",
       "    .dataframe tbody tr th:only-of-type {\n",
       "        vertical-align: middle;\n",
       "    }\n",
       "\n",
       "    .dataframe tbody tr th {\n",
       "        vertical-align: top;\n",
       "    }\n",
       "\n",
       "    .dataframe thead th {\n",
       "        text-align: right;\n",
       "    }\n",
       "</style>\n",
       "<table border=\"1\" class=\"dataframe\">\n",
       "  <thead>\n",
       "    <tr style=\"text-align: right;\">\n",
       "      <th></th>\n",
       "      <th>Metric</th>\n",
       "      <th>overall</th>\n",
       "      <th>Race_priv</th>\n",
       "      <th>Race_dis</th>\n",
       "      <th>Model_Seed</th>\n",
       "      <th>Model_Name</th>\n",
       "      <th>Model_Params</th>\n",
       "    </tr>\n",
       "  </thead>\n",
       "  <tbody>\n",
       "    <tr>\n",
       "      <th>0</th>\n",
       "      <td>Mean</td>\n",
       "      <td>0.632549</td>\n",
       "      <td>0.633838</td>\n",
       "      <td>0.630744</td>\n",
       "      <td>101</td>\n",
       "      <td>RandomForestClassifier</td>\n",
       "      <td>{'bootstrap': True, 'ccp_alpha': 0.0, 'class_w...</td>\n",
       "    </tr>\n",
       "    <tr>\n",
       "      <th>1</th>\n",
       "      <td>Std</td>\n",
       "      <td>0.082542</td>\n",
       "      <td>0.083720</td>\n",
       "      <td>0.080892</td>\n",
       "      <td>101</td>\n",
       "      <td>RandomForestClassifier</td>\n",
       "      <td>{'bootstrap': True, 'ccp_alpha': 0.0, 'class_w...</td>\n",
       "    </tr>\n",
       "    <tr>\n",
       "      <th>2</th>\n",
       "      <td>IQR</td>\n",
       "      <td>0.109888</td>\n",
       "      <td>0.111569</td>\n",
       "      <td>0.107534</td>\n",
       "      <td>101</td>\n",
       "      <td>RandomForestClassifier</td>\n",
       "      <td>{'bootstrap': True, 'ccp_alpha': 0.0, 'class_w...</td>\n",
       "    </tr>\n",
       "    <tr>\n",
       "      <th>3</th>\n",
       "      <td>Aleatoric_Uncertainty</td>\n",
       "      <td>0.520923</td>\n",
       "      <td>0.516485</td>\n",
       "      <td>0.527138</td>\n",
       "      <td>101</td>\n",
       "      <td>RandomForestClassifier</td>\n",
       "      <td>{'bootstrap': True, 'ccp_alpha': 0.0, 'class_w...</td>\n",
       "    </tr>\n",
       "    <tr>\n",
       "      <th>4</th>\n",
       "      <td>Overall_Uncertainty</td>\n",
       "      <td>0.561430</td>\n",
       "      <td>0.557825</td>\n",
       "      <td>0.566475</td>\n",
       "      <td>101</td>\n",
       "      <td>RandomForestClassifier</td>\n",
       "      <td>{'bootstrap': True, 'ccp_alpha': 0.0, 'class_w...</td>\n",
       "    </tr>\n",
       "    <tr>\n",
       "      <th>5</th>\n",
       "      <td>Statistical_Bias</td>\n",
       "      <td>0.187634</td>\n",
       "      <td>0.177422</td>\n",
       "      <td>0.201929</td>\n",
       "      <td>101</td>\n",
       "      <td>RandomForestClassifier</td>\n",
       "      <td>{'bootstrap': True, 'ccp_alpha': 0.0, 'class_w...</td>\n",
       "    </tr>\n",
       "    <tr>\n",
       "      <th>6</th>\n",
       "      <td>Jitter</td>\n",
       "      <td>0.099606</td>\n",
       "      <td>0.104889</td>\n",
       "      <td>0.092211</td>\n",
       "      <td>101</td>\n",
       "      <td>RandomForestClassifier</td>\n",
       "      <td>{'bootstrap': True, 'ccp_alpha': 0.0, 'class_w...</td>\n",
       "    </tr>\n",
       "    <tr>\n",
       "      <th>7</th>\n",
       "      <td>Per_Sample_Accuracy</td>\n",
       "      <td>0.903333</td>\n",
       "      <td>0.929286</td>\n",
       "      <td>0.867000</td>\n",
       "      <td>101</td>\n",
       "      <td>RandomForestClassifier</td>\n",
       "      <td>{'bootstrap': True, 'ccp_alpha': 0.0, 'class_w...</td>\n",
       "    </tr>\n",
       "    <tr>\n",
       "      <th>8</th>\n",
       "      <td>Label_Stability</td>\n",
       "      <td>0.860000</td>\n",
       "      <td>0.858571</td>\n",
       "      <td>0.862000</td>\n",
       "      <td>101</td>\n",
       "      <td>RandomForestClassifier</td>\n",
       "      <td>{'bootstrap': True, 'ccp_alpha': 0.0, 'class_w...</td>\n",
       "    </tr>\n",
       "    <tr>\n",
       "      <th>9</th>\n",
       "      <td>TPR</td>\n",
       "      <td>1.000000</td>\n",
       "      <td>1.000000</td>\n",
       "      <td>1.000000</td>\n",
       "      <td>101</td>\n",
       "      <td>RandomForestClassifier</td>\n",
       "      <td>{'bootstrap': True, 'ccp_alpha': 0.0, 'class_w...</td>\n",
       "    </tr>\n",
       "    <tr>\n",
       "      <th>10</th>\n",
       "      <td>TNR</td>\n",
       "      <td>0.875000</td>\n",
       "      <td>1.000000</td>\n",
       "      <td>0.750000</td>\n",
       "      <td>101</td>\n",
       "      <td>RandomForestClassifier</td>\n",
       "      <td>{'bootstrap': True, 'ccp_alpha': 0.0, 'class_w...</td>\n",
       "    </tr>\n",
       "    <tr>\n",
       "      <th>11</th>\n",
       "      <td>PPV</td>\n",
       "      <td>0.800000</td>\n",
       "      <td>1.000000</td>\n",
       "      <td>0.500000</td>\n",
       "      <td>101</td>\n",
       "      <td>RandomForestClassifier</td>\n",
       "      <td>{'bootstrap': True, 'ccp_alpha': 0.0, 'class_w...</td>\n",
       "    </tr>\n",
       "    <tr>\n",
       "      <th>12</th>\n",
       "      <td>FNR</td>\n",
       "      <td>0.000000</td>\n",
       "      <td>0.000000</td>\n",
       "      <td>0.000000</td>\n",
       "      <td>101</td>\n",
       "      <td>RandomForestClassifier</td>\n",
       "      <td>{'bootstrap': True, 'ccp_alpha': 0.0, 'class_w...</td>\n",
       "    </tr>\n",
       "    <tr>\n",
       "      <th>13</th>\n",
       "      <td>FPR</td>\n",
       "      <td>0.125000</td>\n",
       "      <td>0.000000</td>\n",
       "      <td>0.250000</td>\n",
       "      <td>101</td>\n",
       "      <td>RandomForestClassifier</td>\n",
       "      <td>{'bootstrap': True, 'ccp_alpha': 0.0, 'class_w...</td>\n",
       "    </tr>\n",
       "    <tr>\n",
       "      <th>14</th>\n",
       "      <td>Accuracy</td>\n",
       "      <td>0.916667</td>\n",
       "      <td>1.000000</td>\n",
       "      <td>0.800000</td>\n",
       "      <td>101</td>\n",
       "      <td>RandomForestClassifier</td>\n",
       "      <td>{'bootstrap': True, 'ccp_alpha': 0.0, 'class_w...</td>\n",
       "    </tr>\n",
       "    <tr>\n",
       "      <th>15</th>\n",
       "      <td>F1</td>\n",
       "      <td>0.888889</td>\n",
       "      <td>1.000000</td>\n",
       "      <td>0.666667</td>\n",
       "      <td>101</td>\n",
       "      <td>RandomForestClassifier</td>\n",
       "      <td>{'bootstrap': True, 'ccp_alpha': 0.0, 'class_w...</td>\n",
       "    </tr>\n",
       "    <tr>\n",
       "      <th>16</th>\n",
       "      <td>Selection-Rate</td>\n",
       "      <td>0.416667</td>\n",
       "      <td>0.428571</td>\n",
       "      <td>0.400000</td>\n",
       "      <td>101</td>\n",
       "      <td>RandomForestClassifier</td>\n",
       "      <td>{'bootstrap': True, 'ccp_alpha': 0.0, 'class_w...</td>\n",
       "    </tr>\n",
       "    <tr>\n",
       "      <th>17</th>\n",
       "      <td>Positive-Rate</td>\n",
       "      <td>1.250000</td>\n",
       "      <td>1.000000</td>\n",
       "      <td>2.000000</td>\n",
       "      <td>101</td>\n",
       "      <td>RandomForestClassifier</td>\n",
       "      <td>{'bootstrap': True, 'ccp_alpha': 0.0, 'class_w...</td>\n",
       "    </tr>\n",
       "    <tr>\n",
       "      <th>18</th>\n",
       "      <td>Sample_Size</td>\n",
       "      <td>12.000000</td>\n",
       "      <td>NaN</td>\n",
       "      <td>NaN</td>\n",
       "      <td>101</td>\n",
       "      <td>RandomForestClassifier</td>\n",
       "      <td>{'bootstrap': True, 'ccp_alpha': 0.0, 'class_w...</td>\n",
       "    </tr>\n",
       "  </tbody>\n",
       "</table>\n",
       "</div>"
      ],
      "text/plain": [
       "                   Metric    overall  Race_priv  Race_dis  Model_Seed  \\\n",
       "0                    Mean   0.632549   0.633838  0.630744         101   \n",
       "1                     Std   0.082542   0.083720  0.080892         101   \n",
       "2                     IQR   0.109888   0.111569  0.107534         101   \n",
       "3   Aleatoric_Uncertainty   0.520923   0.516485  0.527138         101   \n",
       "4     Overall_Uncertainty   0.561430   0.557825  0.566475         101   \n",
       "5        Statistical_Bias   0.187634   0.177422  0.201929         101   \n",
       "6                  Jitter   0.099606   0.104889  0.092211         101   \n",
       "7     Per_Sample_Accuracy   0.903333   0.929286  0.867000         101   \n",
       "8         Label_Stability   0.860000   0.858571  0.862000         101   \n",
       "9                     TPR   1.000000   1.000000  1.000000         101   \n",
       "10                    TNR   0.875000   1.000000  0.750000         101   \n",
       "11                    PPV   0.800000   1.000000  0.500000         101   \n",
       "12                    FNR   0.000000   0.000000  0.000000         101   \n",
       "13                    FPR   0.125000   0.000000  0.250000         101   \n",
       "14               Accuracy   0.916667   1.000000  0.800000         101   \n",
       "15                     F1   0.888889   1.000000  0.666667         101   \n",
       "16         Selection-Rate   0.416667   0.428571  0.400000         101   \n",
       "17          Positive-Rate   1.250000   1.000000  2.000000         101   \n",
       "18            Sample_Size  12.000000        NaN       NaN         101   \n",
       "\n",
       "                Model_Name                                       Model_Params  \n",
       "0   RandomForestClassifier  {'bootstrap': True, 'ccp_alpha': 0.0, 'class_w...  \n",
       "1   RandomForestClassifier  {'bootstrap': True, 'ccp_alpha': 0.0, 'class_w...  \n",
       "2   RandomForestClassifier  {'bootstrap': True, 'ccp_alpha': 0.0, 'class_w...  \n",
       "3   RandomForestClassifier  {'bootstrap': True, 'ccp_alpha': 0.0, 'class_w...  \n",
       "4   RandomForestClassifier  {'bootstrap': True, 'ccp_alpha': 0.0, 'class_w...  \n",
       "5   RandomForestClassifier  {'bootstrap': True, 'ccp_alpha': 0.0, 'class_w...  \n",
       "6   RandomForestClassifier  {'bootstrap': True, 'ccp_alpha': 0.0, 'class_w...  \n",
       "7   RandomForestClassifier  {'bootstrap': True, 'ccp_alpha': 0.0, 'class_w...  \n",
       "8   RandomForestClassifier  {'bootstrap': True, 'ccp_alpha': 0.0, 'class_w...  \n",
       "9   RandomForestClassifier  {'bootstrap': True, 'ccp_alpha': 0.0, 'class_w...  \n",
       "10  RandomForestClassifier  {'bootstrap': True, 'ccp_alpha': 0.0, 'class_w...  \n",
       "11  RandomForestClassifier  {'bootstrap': True, 'ccp_alpha': 0.0, 'class_w...  \n",
       "12  RandomForestClassifier  {'bootstrap': True, 'ccp_alpha': 0.0, 'class_w...  \n",
       "13  RandomForestClassifier  {'bootstrap': True, 'ccp_alpha': 0.0, 'class_w...  \n",
       "14  RandomForestClassifier  {'bootstrap': True, 'ccp_alpha': 0.0, 'class_w...  \n",
       "15  RandomForestClassifier  {'bootstrap': True, 'ccp_alpha': 0.0, 'class_w...  \n",
       "16  RandomForestClassifier  {'bootstrap': True, 'ccp_alpha': 0.0, 'class_w...  \n",
       "17  RandomForestClassifier  {'bootstrap': True, 'ccp_alpha': 0.0, 'class_w...  \n",
       "18  RandomForestClassifier  {'bootstrap': True, 'ccp_alpha': 0.0, 'class_w...  "
      ]
     },
     "metadata": {},
     "output_type": "display_data"
    },
    {
     "name": "stderr",
     "output_type": "stream",
     "text": [
      "2023-08-06 10:56:35 experiment_interface.py INFO    : Experiment run was successful!\n",
      "INFO:root:Experiment run was successful!\n"
     ]
    },
    {
     "name": "stdout",
     "output_type": "stream",
     "text": [
      "\n",
      "\n",
      "\n",
      "\n"
     ]
    }
   ],
   "source": [
    "run_exp_iter_with_disparate_impact(data_loader=exp_iter_data_loader,\n",
    "                                   experiment_seed=experiment_seed,\n",
    "                                   test_set_fraction=TEST_SET_FRACTION,\n",
    "                                   db_writer_func=db_writer_func,\n",
    "                                   fair_intervention_params_lst=FAIR_INTERVENTION_PARAMS_LST,\n",
    "                                   models_params_for_tuning=models_params_for_tuning,\n",
    "                                   metrics_computation_config=metrics_computation_config,\n",
    "                                   custom_table_fields_dct=custom_table_fields_dct,\n",
    "                                   with_tuning=True,\n",
    "#                                    with_tuning=False,\n",
    "#                                    tuned_params_df_paths=tuned_params_df_paths,\n",
    "                                   save_results_dir_path=SAVE_RESULTS_DIR_PATH,\n",
    "                                   verbose=True)"
   ]
  },
  {
   "cell_type": "markdown",
   "id": "848f56a2",
   "metadata": {},
   "source": [
    "### Experiment iteration 2"
   ]
  },
  {
   "cell_type": "code",
   "execution_count": 40,
   "id": "4a065937",
   "metadata": {},
   "outputs": [],
   "source": [
    "# Configs for an experiment iteration\n",
    "exp_iter_num = 2\n",
    "experiment_seed = EXPERIMENT_SEEDS[exp_iter_num - 1]\n",
    "tuned_params_filenames = [\n",
    "    'tuning_results_Diabetes_alpha_0.0_20230805__102158.csv',\n",
    "    'tuning_results_Diabetes_alpha_0.1_20230805__103027.csv',\n",
    "    'tuning_results_Diabetes_alpha_0.2_20230805__102953.csv',\n",
    "    'tuning_results_Diabetes_alpha_0.3_20230805__103437.csv'\n",
    "]\n",
    "tuned_params_df_paths = [os.path.join(ROOT_DIR, 'results', EXPERIMENT_NAME, tuned_params_filename)\n",
    "                         for tuned_params_filename in tuned_params_filenames]\n",
    "custom_table_fields_dct['experiment_iteration'] = f'Exp_iter_{exp_iter_num}'\n",
    "\n",
    "exp_iter_data_loader = copy.deepcopy(data_loader)  # Add deepcopy to avoid data leakage\n",
    "models_params_for_tuning = get_model_params_for_mult_repair_levels(experiment_seed)"
   ]
  },
  {
   "cell_type": "code",
   "execution_count": 41,
   "id": "3392213c",
   "metadata": {},
   "outputs": [
    {
     "name": "stderr",
     "output_type": "stream",
     "text": [
      "2023-08-05 10:00:05 experiment_interface.py INFO    : Start an experiment iteration for the following custom params:\n",
      "INFO:root:Start an experiment iteration for the following custom params:\n"
     ]
    },
    {
     "name": "stdout",
     "output_type": "stream",
     "text": [
      "{'dataset_split_seed': 200,\n",
      " 'experiment_iteration': 'Exp_iter_2',\n",
      " 'fair_intervention_params_lst': '[0.0, 0.1, 0.2, 0.3]',\n",
      " 'model_init_seed': 200,\n",
      " 'session_uuid': 'f88d9187-81c1-496e-a809-65185798edd6'}\n",
      "\n",
      "\n"
     ]
    },
    {
     "name": "stderr",
     "output_type": "stream",
     "text": [
      "2023-08-05 10:00:06 experiment_interface.py INFO    : The dataset is preprocessed\n",
      "INFO:root:The dataset is preprocessed\n"
     ]
    },
    {
     "name": "stdout",
     "output_type": "stream",
     "text": [
      "Top indexes of an X_test in a base flow dataset:  Int64Index([   45, 31369,  7833, 14675, 17571, 27012, 15348, 24086, 26152,\n",
      "            16484, 16793, 36148, 35949, 41185,  3126,  5804, 19698, 24548,\n",
      "             2101, 12216],\n",
      "           dtype='int64')\n",
      "Top indexes of an y_test in a base flow dataset:  Int64Index([   45, 31369,  7833, 14675, 17571, 27012, 15348, 24086, 26152,\n",
      "            16484, 16793, 36148, 35949, 41185,  3126,  5804, 19698, 24548,\n",
      "             2101, 12216],\n",
      "           dtype='int64')\n"
     ]
    },
    {
     "data": {
      "application/vnd.jupyter.widget-view+json": {
       "model_id": "4a9d10f07d4641a7acd328cc8d5e45ed",
       "version_major": 2,
       "version_minor": 0
      },
      "text/plain": [
       "Multiple alphas:   0%|          | 0/4 [00:00<?, ?it/s]"
      ]
     },
     "metadata": {},
     "output_type": "display_data"
    },
    {
     "name": "stdout",
     "output_type": "stream",
     "text": [
      "intervention_param:  0.0\n"
     ]
    },
    {
     "name": "stderr",
     "output_type": "stream",
     "text": [
      "2023-08-05 10:00:24 experiment_interface.py INFO    : Models config is loaded from the input file\n",
      "INFO:root:Models config is loaded from the input file\n"
     ]
    },
    {
     "name": "stdout",
     "output_type": "stream",
     "text": [
      "Path for tuned params:  /home/dh3553/projects/fairness-variance/results/mult_repair_levels_diabetes/tuning_results_Diabetes_alpha_0.0_20230805__102158.csv\n",
      "RandomForestClassifier:  {'bootstrap': False, 'ccp_alpha': 0.0, 'class_weight': None, 'criterion': 'gini', 'max_depth': 60, 'max_features': 'sqrt', 'max_leaf_nodes': None, 'max_samples': None, 'min_impurity_decrease': 0.0, 'min_samples_leaf': 1, 'min_samples_split': 2, 'min_weight_fraction_leaf': 0.0, 'n_estimators': 100, 'n_jobs': None, 'oob_score': False, 'random_state': 200, 'verbose': 0, 'warm_start': False}\n"
     ]
    },
    {
     "data": {
      "application/vnd.jupyter.widget-view+json": {
       "model_id": "7b62f53f3b0249b9a2fb09256426eb91",
       "version_major": 2,
       "version_minor": 0
      },
      "text/plain": [
       "Multiple runs progress:   0%|          | 0/1 [00:00<?, ?it/s]"
      ]
     },
     "metadata": {},
     "output_type": "display_data"
    },
    {
     "data": {
      "application/vnd.jupyter.widget-view+json": {
       "model_id": "f6e23d8e487c4a5f9a4521c1cfc9be9b",
       "version_major": 2,
       "version_minor": 0
      },
      "text/plain": [
       "Analyze models in one run:   0%|          | 0/1 [00:00<?, ?it/s]"
      ]
     },
     "metadata": {},
     "output_type": "display_data"
    },
    {
     "data": {
      "application/vnd.jupyter.widget-view+json": {
       "model_id": "0b42a7059e53404da11334385dd35b4e",
       "version_major": 2,
       "version_minor": 0
      },
      "text/plain": [
       "Classifiers testing by bootstrap:   0%|          | 0/200 [00:00<?, ?it/s]"
      ]
     },
     "metadata": {},
     "output_type": "display_data"
    },
    {
     "name": "stdout",
     "output_type": "stream",
     "text": [
      "intervention_param:  0.1\n",
      "Path for tuned params:  /home/dh3553/projects/fairness-variance/results/mult_repair_levels_diabetes/tuning_results_Diabetes_alpha_0.1_20230805__103027.csv\n",
      "RandomForestClassifier:  {'bootstrap': False, 'ccp_alpha': 0.0, 'class_weight': None, 'criterion': 'gini', 'max_depth': 60, 'max_features': 'sqrt', 'max_leaf_nodes': None, 'max_samples': None, 'min_impurity_decrease': 0.0, 'min_samples_leaf': 1, 'min_samples_split': 2, 'min_weight_fraction_leaf': 0.0, 'n_estimators': 100, 'n_jobs': None, 'oob_score': False, 'random_state': 201, 'verbose': 0, 'warm_start': False}\n"
     ]
    },
    {
     "data": {
      "application/vnd.jupyter.widget-view+json": {
       "model_id": "f1b108ed2349446eb454e3d8204fe9ed",
       "version_major": 2,
       "version_minor": 0
      },
      "text/plain": [
       "Multiple runs progress:   0%|          | 0/1 [00:00<?, ?it/s]"
      ]
     },
     "metadata": {},
     "output_type": "display_data"
    },
    {
     "data": {
      "application/vnd.jupyter.widget-view+json": {
       "model_id": "17f730b9160046d18429d0a7b24787b5",
       "version_major": 2,
       "version_minor": 0
      },
      "text/plain": [
       "Analyze models in one run:   0%|          | 0/1 [00:00<?, ?it/s]"
      ]
     },
     "metadata": {},
     "output_type": "display_data"
    },
    {
     "data": {
      "application/vnd.jupyter.widget-view+json": {
       "model_id": "579b4c4140dd4b2f99c9b7cbda0b2f6e",
       "version_major": 2,
       "version_minor": 0
      },
      "text/plain": [
       "Classifiers testing by bootstrap:   0%|          | 0/200 [00:00<?, ?it/s]"
      ]
     },
     "metadata": {},
     "output_type": "display_data"
    },
    {
     "name": "stdout",
     "output_type": "stream",
     "text": [
      "intervention_param:  0.2\n",
      "Path for tuned params:  /home/dh3553/projects/fairness-variance/results/mult_repair_levels_diabetes/tuning_results_Diabetes_alpha_0.2_20230805__102953.csv\n",
      "RandomForestClassifier:  {'bootstrap': False, 'ccp_alpha': 0.0, 'class_weight': None, 'criterion': 'gini', 'max_depth': 40, 'max_features': 'sqrt', 'max_leaf_nodes': None, 'max_samples': None, 'min_impurity_decrease': 0.0, 'min_samples_leaf': 1, 'min_samples_split': 2, 'min_weight_fraction_leaf': 0.0, 'n_estimators': 200, 'n_jobs': None, 'oob_score': False, 'random_state': 201, 'verbose': 0, 'warm_start': False}\n"
     ]
    },
    {
     "data": {
      "application/vnd.jupyter.widget-view+json": {
       "model_id": "7b59885fa04647b6a92eb5a56ad12631",
       "version_major": 2,
       "version_minor": 0
      },
      "text/plain": [
       "Multiple runs progress:   0%|          | 0/1 [00:00<?, ?it/s]"
      ]
     },
     "metadata": {},
     "output_type": "display_data"
    },
    {
     "data": {
      "application/vnd.jupyter.widget-view+json": {
       "model_id": "3dd4225a5c89465d9fb74b67a9184de8",
       "version_major": 2,
       "version_minor": 0
      },
      "text/plain": [
       "Analyze models in one run:   0%|          | 0/1 [00:00<?, ?it/s]"
      ]
     },
     "metadata": {},
     "output_type": "display_data"
    },
    {
     "data": {
      "application/vnd.jupyter.widget-view+json": {
       "model_id": "3e0ee23f401b4ba99fc00b07723263df",
       "version_major": 2,
       "version_minor": 0
      },
      "text/plain": [
       "Classifiers testing by bootstrap:   0%|          | 0/200 [00:00<?, ?it/s]"
      ]
     },
     "metadata": {},
     "output_type": "display_data"
    },
    {
     "name": "stdout",
     "output_type": "stream",
     "text": [
      "intervention_param:  0.3\n",
      "Path for tuned params:  /home/dh3553/projects/fairness-variance/results/mult_repair_levels_diabetes/tuning_results_Diabetes_alpha_0.3_20230805__103437.csv\n",
      "RandomForestClassifier:  {'bootstrap': False, 'ccp_alpha': 0.0, 'class_weight': None, 'criterion': 'gini', 'max_depth': 70, 'max_features': 'sqrt', 'max_leaf_nodes': None, 'max_samples': None, 'min_impurity_decrease': 0.0, 'min_samples_leaf': 1, 'min_samples_split': 2, 'min_weight_fraction_leaf': 0.0, 'n_estimators': 200, 'n_jobs': None, 'oob_score': False, 'random_state': 201, 'verbose': 0, 'warm_start': False}\n"
     ]
    },
    {
     "data": {
      "application/vnd.jupyter.widget-view+json": {
       "model_id": "a990e1420b4a4d0ca26c3f96b8f87994",
       "version_major": 2,
       "version_minor": 0
      },
      "text/plain": [
       "Multiple runs progress:   0%|          | 0/1 [00:00<?, ?it/s]"
      ]
     },
     "metadata": {},
     "output_type": "display_data"
    },
    {
     "data": {
      "application/vnd.jupyter.widget-view+json": {
       "model_id": "a942fa959c774059b3e842a73802929a",
       "version_major": 2,
       "version_minor": 0
      },
      "text/plain": [
       "Analyze models in one run:   0%|          | 0/1 [00:00<?, ?it/s]"
      ]
     },
     "metadata": {},
     "output_type": "display_data"
    },
    {
     "data": {
      "application/vnd.jupyter.widget-view+json": {
       "model_id": "01f8c76ac5f94e79a2a65dd3302ea3c6",
       "version_major": 2,
       "version_minor": 0
      },
      "text/plain": [
       "Classifiers testing by bootstrap:   0%|          | 0/200 [00:00<?, ?it/s]"
      ]
     },
     "metadata": {},
     "output_type": "display_data"
    }
   ],
   "source": [
    "run_exp_iter_with_disparate_impact(data_loader=exp_iter_data_loader,\n",
    "                                   experiment_seed=experiment_seed,\n",
    "                                   test_set_fraction=TEST_SET_FRACTION,\n",
    "                                   db_writer_func=db_writer_func,\n",
    "                                   fair_intervention_params_lst=FAIR_INTERVENTION_PARAMS_LST,\n",
    "                                   models_params_for_tuning=models_params_for_tuning,\n",
    "                                   metrics_computation_config=metrics_computation_config,\n",
    "                                   custom_table_fields_dct=custom_table_fields_dct,\n",
    "#                                    with_tuning=True,\n",
    "                                   with_tuning=False,\n",
    "                                   tuned_params_df_paths=tuned_params_df_paths,\n",
    "                                   save_results_dir_path=SAVE_RESULTS_DIR_PATH,\n",
    "                                   verbose=True)"
   ]
  },
  {
   "cell_type": "markdown",
   "id": "eee43824",
   "metadata": {},
   "source": [
    "### Experiment iteration 3"
   ]
  },
  {
   "cell_type": "code",
   "execution_count": null,
   "id": "b6a5dc71",
   "metadata": {},
   "outputs": [],
   "source": [
    "# Configs for an experiment iteration\n",
    "exp_iter_num = 3\n",
    "experiment_seed = EXPERIMENT_SEEDS[exp_iter_num - 1]\n",
    "tuned_params_filenames = [\n",
    "    'tuning_results_Diabetes_alpha_0.0_20230805__102158.csv',\n",
    "    'tuning_results_Diabetes_alpha_0.1_20230805__103027.csv',\n",
    "    'tuning_results_Diabetes_alpha_0.2_20230805__102953.csv',\n",
    "    'tuning_results_Diabetes_alpha_0.3_20230805__103437.csv'\n",
    "]\n",
    "tuned_params_df_paths = [os.path.join(ROOT_DIR, 'results', EXPERIMENT_NAME, tuned_params_filename)\n",
    "                         for tuned_params_filename in tuned_params_filenames]\n",
    "custom_table_fields_dct['experiment_iteration'] = f'Exp_iter_{exp_iter_num}'\n",
    "\n",
    "exp_iter_data_loader = copy.deepcopy(data_loader)  # Add deepcopy to avoid data leakage\n",
    "models_params_for_tuning = get_model_params_for_mult_repair_levels(experiment_seed)"
   ]
  },
  {
   "cell_type": "code",
   "execution_count": null,
   "id": "a50fed28",
   "metadata": {},
   "outputs": [],
   "source": [
    "run_exp_iter_with_disparate_impact(data_loader=exp_iter_data_loader,\n",
    "                                   experiment_seed=experiment_seed,\n",
    "                                   test_set_fraction=TEST_SET_FRACTION,\n",
    "                                   db_writer_func=db_writer_func,\n",
    "                                   fair_intervention_params_lst=FAIR_INTERVENTION_PARAMS_LST,\n",
    "                                   models_params_for_tuning=models_params_for_tuning,\n",
    "                                   metrics_computation_config=metrics_computation_config,\n",
    "                                   custom_table_fields_dct=custom_table_fields_dct,\n",
    "#                                    with_tuning=True,\n",
    "                                   with_tuning=False,\n",
    "                                   tuned_params_df_paths=tuned_params_df_paths,\n",
    "                                   save_results_dir_path=SAVE_RESULTS_DIR_PATH,\n",
    "                                   verbose=True)"
   ]
  },
  {
   "cell_type": "markdown",
   "id": "086f8fc6",
   "metadata": {},
   "source": [
    "### Experiment iteration 4"
   ]
  },
  {
   "cell_type": "code",
   "execution_count": null,
   "id": "6d937f8e",
   "metadata": {},
   "outputs": [],
   "source": [
    "# Configs for an experiment iteration\n",
    "exp_iter_num = 4\n",
    "experiment_seed = EXPERIMENT_SEEDS[exp_iter_num - 1]\n",
    "tuned_params_filenames = [\n",
    "    'tuning_results_Diabetes_alpha_0.0_20230805__102158.csv',\n",
    "    'tuning_results_Diabetes_alpha_0.1_20230805__103027.csv',\n",
    "    'tuning_results_Diabetes_alpha_0.2_20230805__102953.csv',\n",
    "    'tuning_results_Diabetes_alpha_0.3_20230805__103437.csv'\n",
    "]\n",
    "tuned_params_df_paths = [os.path.join(ROOT_DIR, 'results', EXPERIMENT_NAME, tuned_params_filename)\n",
    "                         for tuned_params_filename in tuned_params_filenames]\n",
    "custom_table_fields_dct['experiment_iteration'] = f'Exp_iter_{exp_iter_num}'\n",
    "\n",
    "exp_iter_data_loader = copy.deepcopy(data_loader)  # Add deepcopy to avoid data leakage\n",
    "models_params_for_tuning = get_model_params_for_mult_repair_levels(experiment_seed)"
   ]
  },
  {
   "cell_type": "code",
   "execution_count": 46,
   "id": "1f37c70b",
   "metadata": {},
   "outputs": [],
   "source": [
    "run_exp_iter_with_disparate_impact(data_loader=exp_iter_data_loader,\n",
    "                                   experiment_seed=experiment_seed,\n",
    "                                   test_set_fraction=TEST_SET_FRACTION,\n",
    "                                   db_writer_func=db_writer_func,\n",
    "                                   fair_intervention_params_lst=FAIR_INTERVENTION_PARAMS_LST,\n",
    "                                   models_params_for_tuning=models_params_for_tuning,\n",
    "                                   metrics_computation_config=metrics_computation_config,\n",
    "                                   custom_table_fields_dct=custom_table_fields_dct,\n",
    "#                                    with_tuning=True,\n",
    "                                   with_tuning=False,\n",
    "                                   tuned_params_df_paths=tuned_params_df_paths,\n",
    "                                   save_results_dir_path=SAVE_RESULTS_DIR_PATH,\n",
    "                                   verbose=True)"
   ]
  },
  {
   "cell_type": "markdown",
   "id": "e9aa25fa",
   "metadata": {},
   "source": [
    "### Experiment iteration 5"
   ]
  },
  {
   "cell_type": "code",
   "execution_count": null,
   "id": "7d37d81b",
   "metadata": {},
   "outputs": [],
   "source": [
    "# Configs for an experiment iteration\n",
    "exp_iter_num = 5\n",
    "experiment_seed = EXPERIMENT_SEEDS[exp_iter_num - 1]\n",
    "tuned_params_filenames = [\n",
    "    'tuning_results_Diabetes_alpha_0.0_20230805__102158.csv',\n",
    "    'tuning_results_Diabetes_alpha_0.1_20230805__103027.csv',\n",
    "    'tuning_results_Diabetes_alpha_0.2_20230805__102953.csv',\n",
    "    'tuning_results_Diabetes_alpha_0.3_20230805__103437.csv'\n",
    "]\n",
    "tuned_params_df_paths = [os.path.join(ROOT_DIR, 'results', EXPERIMENT_NAME, tuned_params_filename)\n",
    "                         for tuned_params_filename in tuned_params_filenames]\n",
    "custom_table_fields_dct['experiment_iteration'] = f'Exp_iter_{exp_iter_num}'\n",
    "\n",
    "exp_iter_data_loader = copy.deepcopy(data_loader)  # Add deepcopy to avoid data leakage\n",
    "models_params_for_tuning = get_model_params_for_mult_repair_levels(experiment_seed)"
   ]
  },
  {
   "cell_type": "code",
   "execution_count": null,
   "id": "a74f08cc",
   "metadata": {},
   "outputs": [],
   "source": [
    "run_exp_iter_with_disparate_impact(data_loader=exp_iter_data_loader,\n",
    "                                   experiment_seed=experiment_seed,\n",
    "                                   test_set_fraction=TEST_SET_FRACTION,\n",
    "                                   db_writer_func=db_writer_func,\n",
    "                                   fair_intervention_params_lst=FAIR_INTERVENTION_PARAMS_LST,\n",
    "                                   models_params_for_tuning=models_params_for_tuning,\n",
    "                                   metrics_computation_config=metrics_computation_config,\n",
    "                                   custom_table_fields_dct=custom_table_fields_dct,\n",
    "#                                    with_tuning=True,\n",
    "                                   with_tuning=False,\n",
    "                                   tuned_params_df_paths=tuned_params_df_paths,\n",
    "                                   save_results_dir_path=SAVE_RESULTS_DIR_PATH,\n",
    "                                   verbose=True)"
   ]
  },
  {
   "cell_type": "markdown",
   "id": "6d99bd77",
   "metadata": {},
   "source": [
    "### Experiment iteration 6"
   ]
  },
  {
   "cell_type": "code",
   "execution_count": null,
   "id": "ce484a23",
   "metadata": {},
   "outputs": [],
   "source": [
    "# Configs for an experiment iteration\n",
    "exp_iter_num = 6\n",
    "experiment_seed = EXPERIMENT_SEEDS[exp_iter_num - 1]\n",
    "tuned_params_filenames = [\n",
    "    'tuning_results_Diabetes_alpha_0.0_20230805__102158.csv',\n",
    "    'tuning_results_Diabetes_alpha_0.1_20230805__103027.csv',\n",
    "    'tuning_results_Diabetes_alpha_0.2_20230805__102953.csv',\n",
    "    'tuning_results_Diabetes_alpha_0.3_20230805__103437.csv'\n",
    "]\n",
    "tuned_params_df_paths = [os.path.join(ROOT_DIR, 'results', EXPERIMENT_NAME, tuned_params_filename)\n",
    "                         for tuned_params_filename in tuned_params_filenames]\n",
    "custom_table_fields_dct['experiment_iteration'] = f'Exp_iter_{exp_iter_num}'\n",
    "\n",
    "exp_iter_data_loader = copy.deepcopy(data_loader)  # Add deepcopy to avoid data leakage\n",
    "models_params_for_tuning = get_model_params_for_mult_repair_levels(experiment_seed)"
   ]
  },
  {
   "cell_type": "code",
   "execution_count": null,
   "id": "c51a6e96",
   "metadata": {},
   "outputs": [],
   "source": [
    "run_exp_iter_with_disparate_impact(data_loader=exp_iter_data_loader,\n",
    "                                   experiment_seed=experiment_seed,\n",
    "                                   test_set_fraction=TEST_SET_FRACTION,\n",
    "                                   db_writer_func=db_writer_func,\n",
    "                                   fair_intervention_params_lst=FAIR_INTERVENTION_PARAMS_LST,\n",
    "                                   models_params_for_tuning=models_params_for_tuning,\n",
    "                                   metrics_computation_config=metrics_computation_config,\n",
    "                                   custom_table_fields_dct=custom_table_fields_dct,\n",
    "#                                    with_tuning=True,\n",
    "                                   with_tuning=False,\n",
    "                                   tuned_params_df_paths=tuned_params_df_paths,\n",
    "                                   save_results_dir_path=SAVE_RESULTS_DIR_PATH,\n",
    "                                   verbose=True)"
   ]
  },
  {
   "cell_type": "code",
   "execution_count": null,
   "id": "e874e8b0",
   "metadata": {},
   "outputs": [],
   "source": []
  }
 ],
 "metadata": {
  "kernelspec": {
   "display_name": "Python 3",
   "language": "python",
   "name": "python3"
  },
  "language_info": {
   "codemirror_mode": {
    "name": "ipython",
    "version": 3
   },
   "file_extension": ".py",
   "mimetype": "text/x-python",
   "name": "python",
   "nbconvert_exporter": "python",
   "pygments_lexer": "ipython3",
   "version": "3.8.5"
  }
 },
 "nbformat": 4,
 "nbformat_minor": 5
}
