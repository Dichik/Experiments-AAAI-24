{
 "cells": [
  {
   "cell_type": "code",
   "execution_count": 15,
   "id": "3c0a286b",
   "metadata": {},
   "outputs": [],
   "source": [
    "# !pip install -r ./requirements.txt"
   ]
  },
  {
   "cell_type": "code",
   "execution_count": 2,
   "id": "a2461154",
   "metadata": {},
   "outputs": [],
   "source": [
    "# !pip uninstall virny -y"
   ]
  },
  {
   "cell_type": "code",
   "execution_count": 4,
   "id": "2009eb0d",
   "metadata": {},
   "outputs": [],
   "source": [
    "# Install using an HTTP link\n",
    "# !pip install git+https://github.com/DataResponsibly/Virny.git@development\n",
    "\n",
    "# Install using an SSH link\n",
    "# !pip install git+ssh://git@github.com/DataResponsibly/Virny.git@development"
   ]
  },
  {
   "cell_type": "code",
   "execution_count": 5,
   "id": "637cbdc0",
   "metadata": {},
   "outputs": [],
   "source": [
    "# !pip install lightgbm==3.3.5"
   ]
  },
  {
   "cell_type": "code",
   "execution_count": 6,
   "id": "73d31d38",
   "metadata": {},
   "outputs": [],
   "source": [
    "%matplotlib inline\n",
    "%load_ext autoreload\n",
    "%autoreload 2"
   ]
  },
  {
   "cell_type": "code",
   "execution_count": 7,
   "id": "ce3e0400",
   "metadata": {},
   "outputs": [],
   "source": [
    "import os\n",
    "import warnings\n",
    "warnings.filterwarnings('ignore')\n",
    "os.environ[\"PYTHONWARNINGS\"] = \"ignore\""
   ]
  },
  {
   "cell_type": "code",
   "execution_count": 8,
   "id": "f1c2d541",
   "metadata": {},
   "outputs": [
    {
     "name": "stdout",
     "output_type": "stream",
     "text": [
      "Current location:  /home/dh3553/projects/fairness-variance\n"
     ]
    }
   ],
   "source": [
    "cur_folder_name = os.getcwd().split('/')[-1]\n",
    "if cur_folder_name != \"fairness-variance\":\n",
    "    os.chdir(\"../..\")\n",
    "\n",
    "print('Current location: ', os.getcwd())"
   ]
  },
  {
   "cell_type": "markdown",
   "id": "0293ee0c",
   "metadata": {},
   "source": [
    "## Import dependencies"
   ]
  },
  {
   "cell_type": "code",
   "execution_count": 9,
   "id": "05863e2c",
   "metadata": {},
   "outputs": [],
   "source": [
    "import os\n",
    "import copy\n",
    "\n",
    "from virny.utils.custom_initializers import create_config_obj\n",
    "from virny.datasets import ACSIncomeDataset\n",
    "\n",
    "from configs.constants import TEST_SET_FRACTION, EXPERIMENT_SEEDS\n",
    "from configs.models_config_for_tuning import get_folktables_employment_models_params_for_tuning\n",
    "\n",
    "from source.preprocessing import get_simple_preprocessor\n",
    "from source.experiment_interface import run_exp_iter_with_preprocessing_intervention"
   ]
  },
  {
   "cell_type": "markdown",
   "id": "a2588a0b",
   "metadata": {},
   "source": [
    "## Define Input Variables"
   ]
  },
  {
   "cell_type": "code",
   "execution_count": 10,
   "id": "9a194304",
   "metadata": {},
   "outputs": [],
   "source": [
    "# ROOT_DIR = os.path.join(os.getcwd(), \"..\", \"..\")\n",
    "ROOT_DIR = os.getcwd()\n",
    "EXPERIMENT_NAME = 'mult_repair_levels_income_GA'\n",
    "DB_COLLECTION_NAME = 'exp_mult_repair_levels'\n",
    "SAVE_RESULTS_DIR_PATH = os.path.join(ROOT_DIR, 'results', EXPERIMENT_NAME)\n",
    "FAIR_INTERVENTION_PARAMS_LST = [0.0]\n",
    "\n",
    "config_yaml_path = os.path.join(ROOT_DIR, 'notebooks', EXPERIMENT_NAME, 'folk_GA_2018_config.yaml')\n",
    "metrics_computation_config = create_config_obj(config_yaml_path=config_yaml_path)"
   ]
  },
  {
   "cell_type": "markdown",
   "id": "b78a8b6b",
   "metadata": {},
   "source": [
    "## Define a db writer and custom fields to insert into your database"
   ]
  },
  {
   "cell_type": "code",
   "execution_count": 11,
   "id": "696b78d9",
   "metadata": {},
   "outputs": [
    {
     "data": {
      "text/plain": [
       "'fairness_variance'"
      ]
     },
     "execution_count": 11,
     "metadata": {},
     "output_type": "execute_result"
    }
   ],
   "source": [
    "import os\n",
    "from dotenv import load_dotenv\n",
    "\n",
    "load_dotenv('./configs/secrets.env')\n",
    "os.getenv(\"DB_NAME\")"
   ]
  },
  {
   "cell_type": "code",
   "execution_count": 12,
   "id": "68b0651e",
   "metadata": {},
   "outputs": [],
   "source": [
    "from source.utils.db_functions import connect_to_mongodb\n",
    "\n",
    "client, collection_obj, db_writer_func = connect_to_mongodb(DB_COLLECTION_NAME)"
   ]
  },
  {
   "cell_type": "code",
   "execution_count": 13,
   "id": "5330752a",
   "metadata": {},
   "outputs": [
    {
     "name": "stdout",
     "output_type": "stream",
     "text": [
      "Current session uuid:  78c3da49-e095-43f3-8cc1-fa34bab0357c\n"
     ]
    }
   ],
   "source": [
    "import uuid\n",
    "\n",
    "custom_table_fields_dct = {\n",
    "#     'session_uuid': str(uuid.uuid4()),\n",
    "    'session_uuid': '78c3da49-e095-43f3-8cc1-fa34bab0357c',\n",
    "}\n",
    "print('Current session uuid: ', custom_table_fields_dct['session_uuid'])"
   ]
  },
  {
   "cell_type": "markdown",
   "id": "a4217bee",
   "metadata": {},
   "source": [
    "## Initialize custom objects"
   ]
  },
  {
   "cell_type": "code",
   "execution_count": 14,
   "id": "b410d278",
   "metadata": {},
   "outputs": [
    {
     "data": {
      "text/html": [
       "<div>\n",
       "<style scoped>\n",
       "    .dataframe tbody tr th:only-of-type {\n",
       "        vertical-align: middle;\n",
       "    }\n",
       "\n",
       "    .dataframe tbody tr th {\n",
       "        vertical-align: top;\n",
       "    }\n",
       "\n",
       "    .dataframe thead th {\n",
       "        text-align: right;\n",
       "    }\n",
       "</style>\n",
       "<table border=\"1\" class=\"dataframe\">\n",
       "  <thead>\n",
       "    <tr style=\"text-align: right;\">\n",
       "      <th></th>\n",
       "      <th>SCHL</th>\n",
       "      <th>COW</th>\n",
       "      <th>MAR</th>\n",
       "      <th>OCCP</th>\n",
       "      <th>POBP</th>\n",
       "      <th>RELP</th>\n",
       "      <th>SEX</th>\n",
       "      <th>RAC1P</th>\n",
       "      <th>AGEP</th>\n",
       "      <th>WKHP</th>\n",
       "    </tr>\n",
       "  </thead>\n",
       "  <tbody>\n",
       "    <tr>\n",
       "      <th>0</th>\n",
       "      <td>23</td>\n",
       "      <td>7</td>\n",
       "      <td>3</td>\n",
       "      <td>230</td>\n",
       "      <td>36</td>\n",
       "      <td>0</td>\n",
       "      <td>1</td>\n",
       "      <td>1</td>\n",
       "      <td>55</td>\n",
       "      <td>55.0</td>\n",
       "    </tr>\n",
       "    <tr>\n",
       "      <th>1</th>\n",
       "      <td>16</td>\n",
       "      <td>1</td>\n",
       "      <td>5</td>\n",
       "      <td>4110</td>\n",
       "      <td>13</td>\n",
       "      <td>2</td>\n",
       "      <td>2</td>\n",
       "      <td>1</td>\n",
       "      <td>20</td>\n",
       "      <td>35.0</td>\n",
       "    </tr>\n",
       "    <tr>\n",
       "      <th>2</th>\n",
       "      <td>16</td>\n",
       "      <td>4</td>\n",
       "      <td>3</td>\n",
       "      <td>4130</td>\n",
       "      <td>51</td>\n",
       "      <td>0</td>\n",
       "      <td>2</td>\n",
       "      <td>1</td>\n",
       "      <td>59</td>\n",
       "      <td>30.0</td>\n",
       "    </tr>\n",
       "    <tr>\n",
       "      <th>3</th>\n",
       "      <td>18</td>\n",
       "      <td>4</td>\n",
       "      <td>1</td>\n",
       "      <td>4020</td>\n",
       "      <td>13</td>\n",
       "      <td>0</td>\n",
       "      <td>1</td>\n",
       "      <td>2</td>\n",
       "      <td>43</td>\n",
       "      <td>40.0</td>\n",
       "    </tr>\n",
       "    <tr>\n",
       "      <th>4</th>\n",
       "      <td>14</td>\n",
       "      <td>1</td>\n",
       "      <td>1</td>\n",
       "      <td>8300</td>\n",
       "      <td>20</td>\n",
       "      <td>1</td>\n",
       "      <td>2</td>\n",
       "      <td>2</td>\n",
       "      <td>33</td>\n",
       "      <td>20.0</td>\n",
       "    </tr>\n",
       "  </tbody>\n",
       "</table>\n",
       "</div>"
      ],
      "text/plain": [
       "  SCHL COW MAR  OCCP POBP RELP SEX RAC1P  AGEP  WKHP\n",
       "0   23   7   3   230   36    0   1     1    55  55.0\n",
       "1   16   1   5  4110   13    2   2     1    20  35.0\n",
       "2   16   4   3  4130   51    0   2     1    59  30.0\n",
       "3   18   4   1  4020   13    0   1     2    43  40.0\n",
       "4   14   1   1  8300   20    1   2     2    33  20.0"
      ]
     },
     "execution_count": 14,
     "metadata": {},
     "output_type": "execute_result"
    }
   ],
   "source": [
    "data_loader = ACSIncomeDataset(state=['GA'], year=2018, with_nulls=False,\n",
    "                               subsample_size=20_000, subsample_seed=42)\n",
    "data_loader.X_data.head()"
   ]
  },
  {
   "cell_type": "code",
   "execution_count": 15,
   "id": "fa478340",
   "metadata": {},
   "outputs": [
    {
     "data": {
      "text/plain": [
       "(20000, 10)"
      ]
     },
     "execution_count": 15,
     "metadata": {},
     "output_type": "execute_result"
    }
   ],
   "source": [
    "data_loader.X_data.shape"
   ]
  },
  {
   "cell_type": "code",
   "execution_count": 16,
   "id": "e77be7a6",
   "metadata": {},
   "outputs": [
    {
     "data": {
      "text/plain": [
       "array(['1', '2', '6', '9', '8', '7', '3', '5'], dtype=object)"
      ]
     },
     "execution_count": 16,
     "metadata": {},
     "output_type": "execute_result"
    }
   ],
   "source": [
    "# Check if RAC1P 4 is in the X_data\n",
    "data_loader.X_data.RAC1P.unique()"
   ]
  },
  {
   "cell_type": "markdown",
   "id": "cf0eb4e6",
   "metadata": {},
   "source": [
    "## Run experiment iterations"
   ]
  },
  {
   "cell_type": "markdown",
   "id": "0aa051af",
   "metadata": {},
   "source": [
    "### Experiment iteration 1"
   ]
  },
  {
   "cell_type": "code",
   "execution_count": 12,
   "id": "076be4d2",
   "metadata": {},
   "outputs": [],
   "source": [
    "# tuned_params_filenames = ['tuning_results_Folktables_NY_2018_Employment_alpha_0.8_20230706__115508.csv']\n",
    "# tuned_params_df_paths = [os.path.join(ROOT_DIR, 'results', EXPERIMENT_NAME, tuned_params_filename)\n",
    "#                          for tuned_params_filename in tuned_params_filenames]"
   ]
  },
  {
   "cell_type": "code",
   "execution_count": 13,
   "id": "1949afae",
   "metadata": {},
   "outputs": [],
   "source": [
    "# Configs for an experiment iteration\n",
    "exp_iter_num = 1\n",
    "experiment_seed = EXPERIMENT_SEEDS[exp_iter_num - 1]\n",
    "custom_table_fields_dct['experiment_iteration'] = f'Exp_iter_{exp_iter_num}'\n",
    "\n",
    "exp_iter_data_loader = copy.deepcopy(data_loader)  # Add deepcopy to avoid data leakage\n",
    "models_params_for_tuning = get_folktables_employment_models_params_for_tuning(experiment_seed)\n",
    "preprocessor = get_simple_preprocessor(exp_iter_data_loader)"
   ]
  },
  {
   "cell_type": "code",
   "execution_count": 14,
   "id": "218074f5",
   "metadata": {},
   "outputs": [
    {
     "name": "stderr",
     "output_type": "stream",
     "text": [
      "2023-07-18 05:38:17 experiment_interface.py INFO    : Start an experiment iteration for the following custom params:\n"
     ]
    },
    {
     "name": "stdout",
     "output_type": "stream",
     "text": [
      "{'dataset_split_seed': 100,\n",
      " 'experiment_iteration': 'Exp_iter_1',\n",
      " 'fair_intervention_params_lst': '[1.0]',\n",
      " 'model_init_seed': 100,\n",
      " 'session_uuid': '78c3da49-e095-43f3-8cc1-fa34bab0357c'}\n",
      "\n",
      "\n"
     ]
    },
    {
     "name": "stderr",
     "output_type": "stream",
     "text": [
      "2023-07-18 05:38:17 experiment_interface.py INFO    : The dataset is preprocessed\n"
     ]
    },
    {
     "name": "stdout",
     "output_type": "stream",
     "text": [
      "Top indexes of an X_test in a base flow dataset:  Int64Index([ 2917,  2234, 14396,  1781, 11102,   732,  7692, 10589, 16098,\n",
      "             4920,  6601,  7611,  3825, 18755,  6862,  3847,  7256, 13711,\n",
      "            12389,  9772],\n",
      "           dtype='int64')\n",
      "Top indexes of an y_test in a base flow dataset:  Int64Index([ 2917,  2234, 14396,  1781, 11102,   732,  7692, 10589, 16098,\n",
      "             4920,  6601,  7611,  3825, 18755,  6862,  3847,  7256, 13711,\n",
      "            12389,  9772],\n",
      "           dtype='int64')\n"
     ]
    },
    {
     "data": {
      "application/vnd.jupyter.widget-view+json": {
       "model_id": "6e271f8aecce487681e9f7cd0351ee8f",
       "version_major": 2,
       "version_minor": 0
      },
      "text/plain": [
       "Multiple alphas:   0%|          | 0/1 [00:00<?, ?it/s]"
      ]
     },
     "metadata": {},
     "output_type": "display_data"
    },
    {
     "name": "stdout",
     "output_type": "stream",
     "text": [
      "intervention_param:  1.0\n",
      "2023/07/18, 05:38:18: Tuning RandomForestClassifier...\n"
     ]
    },
    {
     "name": "stderr",
     "output_type": "stream",
     "text": [
      "2023-07-18 06:17:24 experiment_interface.py INFO    : Models are tuned and saved to a file\n"
     ]
    },
    {
     "name": "stdout",
     "output_type": "stream",
     "text": [
      "2023/07/18, 06:17:24: Tuning for RandomForestClassifier is finished [F1 score = 0.7851744243391806, Accuracy = 0.8099999999999999]\n",
      "\n"
     ]
    },
    {
     "data": {
      "application/vnd.jupyter.widget-view+json": {
       "model_id": "b9516efaab1244c3a29b07b212fbd7bb",
       "version_major": 2,
       "version_minor": 0
      },
      "text/plain": [
       "Multiple runs progress:   0%|          | 0/1 [00:00<?, ?it/s]"
      ]
     },
     "metadata": {},
     "output_type": "display_data"
    },
    {
     "data": {
      "application/vnd.jupyter.widget-view+json": {
       "model_id": "631962e0b79e46ff81ab4f83ba632278",
       "version_major": 2,
       "version_minor": 0
      },
      "text/plain": [
       "Analyze models in one run:   0%|          | 0/1 [00:00<?, ?it/s]"
      ]
     },
     "metadata": {},
     "output_type": "display_data"
    },
    {
     "data": {
      "application/vnd.jupyter.widget-view+json": {
       "model_id": "9fe919ab9cc24ff3934f63bd6cc387d5",
       "version_major": 2,
       "version_minor": 0
      },
      "text/plain": [
       "Classifiers testing by bootstrap:   0%|          | 0/200 [00:00<?, ?it/s]"
      ]
     },
     "metadata": {},
     "output_type": "display_data"
    }
   ],
   "source": [
    "run_exp_iter_with_preprocessing_intervention(data_loader=exp_iter_data_loader,\n",
    "                                             experiment_seed=experiment_seed,\n",
    "                                             test_set_fraction=TEST_SET_FRACTION,\n",
    "                                             db_writer_func=db_writer_func,\n",
    "                                             fair_intervention_params_lst=FAIR_INTERVENTION_PARAMS_LST,\n",
    "                                             column_transformer=preprocessor,\n",
    "                                             models_params_for_tuning=models_params_for_tuning,\n",
    "                                             metrics_computation_config=metrics_computation_config,\n",
    "                                             custom_table_fields_dct=custom_table_fields_dct,\n",
    "                                             with_tuning=True,\n",
    "#                                              with_tuning=False,\n",
    "#                                              tuned_params_df_paths=tuned_params_df_paths,\n",
    "                                             save_results_dir_path=SAVE_RESULTS_DIR_PATH,\n",
    "                                             verbose=True)"
   ]
  },
  {
   "cell_type": "markdown",
   "id": "e67501de",
   "metadata": {},
   "source": [
    "### Experiment iteration 2"
   ]
  },
  {
   "cell_type": "code",
   "execution_count": 17,
   "id": "0bdc8e01",
   "metadata": {},
   "outputs": [],
   "source": [
    "# Configs for an experiment iteration\n",
    "exp_iter_num = 2\n",
    "experiment_seed = EXPERIMENT_SEEDS[exp_iter_num - 1]\n",
    "tuned_params_filenames = [\n",
    "    'tuning_results_Folktables_GA_2018_Income_alpha_0.0_20230717__215443.csv',\n",
    "]\n",
    "tuned_params_df_paths = [os.path.join(ROOT_DIR, 'results', EXPERIMENT_NAME, tuned_params_filename)\n",
    "                         for tuned_params_filename in tuned_params_filenames]\n",
    "custom_table_fields_dct['experiment_iteration'] = f'Exp_iter_{exp_iter_num}'\n",
    "\n",
    "exp_iter_data_loader = copy.deepcopy(data_loader)  # Add deepcopy to avoid data leakage\n",
    "models_params_for_tuning = get_folktables_employment_models_params_for_tuning(experiment_seed)\n",
    "preprocessor = get_simple_preprocessor(exp_iter_data_loader)"
   ]
  },
  {
   "cell_type": "code",
   "execution_count": 18,
   "id": "731864bd",
   "metadata": {},
   "outputs": [
    {
     "name": "stderr",
     "output_type": "stream",
     "text": [
      "2023-07-19 05:37:12 experiment_interface.py INFO    : Start an experiment iteration for the following custom params:\n"
     ]
    },
    {
     "name": "stdout",
     "output_type": "stream",
     "text": [
      "{'dataset_split_seed': 200,\n",
      " 'experiment_iteration': 'Exp_iter_2',\n",
      " 'fair_intervention_params_lst': '[0.0]',\n",
      " 'model_init_seed': 200,\n",
      " 'session_uuid': '78c3da49-e095-43f3-8cc1-fa34bab0357c'}\n",
      "\n",
      "\n"
     ]
    },
    {
     "name": "stderr",
     "output_type": "stream",
     "text": [
      "2023-07-19 05:37:13 experiment_interface.py INFO    : The dataset is preprocessed\n"
     ]
    },
    {
     "name": "stdout",
     "output_type": "stream",
     "text": [
      "Top indexes of an X_test in a base flow dataset:  Int64Index([ 4298,  9201,   679, 18780,  6955,  8571,  9405, 13699,  3930,\n",
      "            13573,  3774,  9085, 12646, 16782, 13102, 18789,  8042, 19647,\n",
      "            13861,  8780],\n",
      "           dtype='int64')\n",
      "Top indexes of an y_test in a base flow dataset:  Int64Index([ 4298,  9201,   679, 18780,  6955,  8571,  9405, 13699,  3930,\n",
      "            13573,  3774,  9085, 12646, 16782, 13102, 18789,  8042, 19647,\n",
      "            13861,  8780],\n",
      "           dtype='int64')\n"
     ]
    },
    {
     "data": {
      "application/vnd.jupyter.widget-view+json": {
       "model_id": "8a77c788c99142d598a191f010d9f2a1",
       "version_major": 2,
       "version_minor": 0
      },
      "text/plain": [
       "Multiple alphas:   0%|          | 0/1 [00:00<?, ?it/s]"
      ]
     },
     "metadata": {},
     "output_type": "display_data"
    },
    {
     "name": "stdout",
     "output_type": "stream",
     "text": [
      "intervention_param:  0.0\n"
     ]
    },
    {
     "name": "stderr",
     "output_type": "stream",
     "text": [
      "2023-07-19 05:37:14 experiment_interface.py INFO    : Models config is loaded from the input file\n"
     ]
    },
    {
     "name": "stdout",
     "output_type": "stream",
     "text": [
      "Path for tuned params:  /home/dh3553/projects/fairness-variance/results/mult_repair_levels_income_GA/tuning_results_Folktables_GA_2018_Income_alpha_0.0_20230717__215443.csv\n",
      "RandomForestClassifier:  {'bootstrap': True, 'ccp_alpha': 0.0, 'class_weight': None, 'criterion': 'gini', 'max_depth': 100, 'max_features': 'sqrt', 'max_leaf_nodes': None, 'max_samples': None, 'min_impurity_decrease': 0.0, 'min_samples_leaf': 1, 'min_samples_split': 10, 'min_weight_fraction_leaf': 0.0, 'n_estimators': 1000, 'n_jobs': None, 'oob_score': False, 'random_state': 200, 'verbose': 0, 'warm_start': False}\n"
     ]
    },
    {
     "data": {
      "application/vnd.jupyter.widget-view+json": {
       "model_id": "03b6f16f298e45228da35dc04a85c312",
       "version_major": 2,
       "version_minor": 0
      },
      "text/plain": [
       "Multiple runs progress:   0%|          | 0/1 [00:00<?, ?it/s]"
      ]
     },
     "metadata": {},
     "output_type": "display_data"
    },
    {
     "data": {
      "application/vnd.jupyter.widget-view+json": {
       "model_id": "f3704a322221487e9a3b048938bbdea7",
       "version_major": 2,
       "version_minor": 0
      },
      "text/plain": [
       "Analyze models in one run:   0%|          | 0/1 [00:00<?, ?it/s]"
      ]
     },
     "metadata": {},
     "output_type": "display_data"
    },
    {
     "data": {
      "application/vnd.jupyter.widget-view+json": {
       "model_id": "ec8ce33e19f34c04919892fda3db4aa5",
       "version_major": 2,
       "version_minor": 0
      },
      "text/plain": [
       "Classifiers testing by bootstrap:   0%|          | 0/200 [00:00<?, ?it/s]"
      ]
     },
     "metadata": {},
     "output_type": "display_data"
    }
   ],
   "source": [
    "run_exp_iter_with_preprocessing_intervention(data_loader=exp_iter_data_loader,\n",
    "                                             experiment_seed=experiment_seed,\n",
    "                                             test_set_fraction=TEST_SET_FRACTION,\n",
    "                                             db_writer_func=db_writer_func,\n",
    "                                             fair_intervention_params_lst=FAIR_INTERVENTION_PARAMS_LST,\n",
    "                                             column_transformer=preprocessor,\n",
    "                                             models_params_for_tuning=models_params_for_tuning,\n",
    "                                             metrics_computation_config=metrics_computation_config,\n",
    "                                             custom_table_fields_dct=custom_table_fields_dct,\n",
    "                                             # with_tuning=True,\n",
    "                                             with_tuning=False,\n",
    "                                             tuned_params_df_paths=tuned_params_df_paths,\n",
    "                                             save_results_dir_path=SAVE_RESULTS_DIR_PATH,\n",
    "                                             verbose=True)"
   ]
  },
  {
   "cell_type": "markdown",
   "id": "f0794904",
   "metadata": {},
   "source": [
    "### Experiment iteration 3"
   ]
  },
  {
   "cell_type": "code",
   "execution_count": 17,
   "id": "9577cf69",
   "metadata": {},
   "outputs": [],
   "source": [
    "# Configs for an experiment iteration\n",
    "exp_iter_num = 3\n",
    "experiment_seed = EXPERIMENT_SEEDS[exp_iter_num - 1]\n",
    "tuned_params_filenames = [\n",
    "    'tuning_results_Folktables_GA_2018_Income_alpha_0.4_20230718__141431.csv',\n",
    "    'tuning_results_Folktables_GA_2018_Income_alpha_0.3_20230718__141438.csv',\n",
    "    'tuning_results_Folktables_GA_2018_Income_alpha_0.2_20230717__222835.csv',\n",
    "    'tuning_results_Folktables_GA_2018_Income_alpha_0.0_20230717__215443.csv',\n",
    "]\n",
    "tuned_params_df_paths = [os.path.join(ROOT_DIR, 'results', EXPERIMENT_NAME, tuned_params_filename)\n",
    "                         for tuned_params_filename in tuned_params_filenames]\n",
    "custom_table_fields_dct['experiment_iteration'] = f'Exp_iter_{exp_iter_num}'\n",
    "\n",
    "exp_iter_data_loader = copy.deepcopy(data_loader)  # Add deepcopy to avoid data leakage\n",
    "models_params_for_tuning = get_folktables_employment_models_params_for_tuning(experiment_seed)\n",
    "preprocessor = get_simple_preprocessor(exp_iter_data_loader)"
   ]
  },
  {
   "cell_type": "code",
   "execution_count": null,
   "id": "b328f955",
   "metadata": {},
   "outputs": [
    {
     "name": "stderr",
     "output_type": "stream",
     "text": [
      "2023-07-18 14:12:35 experiment_interface.py INFO    : Start an experiment iteration for the following custom params:\n"
     ]
    },
    {
     "name": "stdout",
     "output_type": "stream",
     "text": [
      "{'dataset_split_seed': 300,\n",
      " 'experiment_iteration': 'Exp_iter_3',\n",
      " 'fair_intervention_params_lst': '[0.4, 0.3, 0.2, 0.0]',\n",
      " 'model_init_seed': 300,\n",
      " 'session_uuid': '78c3da49-e095-43f3-8cc1-fa34bab0357c'}\n",
      "\n",
      "\n"
     ]
    },
    {
     "name": "stderr",
     "output_type": "stream",
     "text": [
      "2023-07-18 14:12:35 experiment_interface.py INFO    : The dataset is preprocessed\n"
     ]
    },
    {
     "name": "stdout",
     "output_type": "stream",
     "text": [
      "Top indexes of an X_test in a base flow dataset:  Int64Index([15600,  9192, 15929,  9841, 13477,  4588, 19303,  3778,  8371,\n",
      "             8013, 11558,  2597, 19554, 13439,  8458, 10642, 11502, 14988,\n",
      "            14354, 10879],\n",
      "           dtype='int64')\n",
      "Top indexes of an y_test in a base flow dataset:  Int64Index([15600,  9192, 15929,  9841, 13477,  4588, 19303,  3778,  8371,\n",
      "             8013, 11558,  2597, 19554, 13439,  8458, 10642, 11502, 14988,\n",
      "            14354, 10879],\n",
      "           dtype='int64')\n"
     ]
    },
    {
     "data": {
      "application/vnd.jupyter.widget-view+json": {
       "model_id": "84edb54bb11e47dab9caf30254609956",
       "version_major": 2,
       "version_minor": 0
      },
      "text/plain": [
       "Multiple alphas:   0%|          | 0/4 [00:00<?, ?it/s]"
      ]
     },
     "metadata": {},
     "output_type": "display_data"
    },
    {
     "name": "stdout",
     "output_type": "stream",
     "text": [
      "intervention_param:  0.4\n"
     ]
    },
    {
     "name": "stderr",
     "output_type": "stream",
     "text": [
      "2023-07-18 14:12:36 experiment_interface.py INFO    : Models config is loaded from the input file\n"
     ]
    },
    {
     "name": "stdout",
     "output_type": "stream",
     "text": [
      "Path for tuned params:  /home/dh3553/projects/fairness-variance/results/mult_repair_levels_income_GA/tuning_results_Folktables_GA_2018_Income_alpha_0.4_20230718__141431.csv\n",
      "RandomForestClassifier:  {'bootstrap': False, 'ccp_alpha': 0.0, 'class_weight': None, 'criterion': 'gini', 'max_depth': 100, 'max_features': 'sqrt', 'max_leaf_nodes': None, 'max_samples': None, 'min_impurity_decrease': 0.0, 'min_samples_leaf': 1, 'min_samples_split': 10, 'min_weight_fraction_leaf': 0.0, 'n_estimators': 500, 'n_jobs': None, 'oob_score': False, 'random_state': 300, 'verbose': 0, 'warm_start': False}\n"
     ]
    },
    {
     "data": {
      "application/vnd.jupyter.widget-view+json": {
       "model_id": "ddd0ca5c4f6b472096acd33cb466609e",
       "version_major": 2,
       "version_minor": 0
      },
      "text/plain": [
       "Multiple runs progress:   0%|          | 0/1 [00:00<?, ?it/s]"
      ]
     },
     "metadata": {},
     "output_type": "display_data"
    },
    {
     "data": {
      "application/vnd.jupyter.widget-view+json": {
       "model_id": "7a1dabea230f47059ed71d2c69ad4d4d",
       "version_major": 2,
       "version_minor": 0
      },
      "text/plain": [
       "Analyze models in one run:   0%|          | 0/1 [00:00<?, ?it/s]"
      ]
     },
     "metadata": {},
     "output_type": "display_data"
    },
    {
     "data": {
      "application/vnd.jupyter.widget-view+json": {
       "model_id": "1de98ff5e12f4fe0ba1ef3dddb855a94",
       "version_major": 2,
       "version_minor": 0
      },
      "text/plain": [
       "Classifiers testing by bootstrap:   0%|          | 0/200 [00:00<?, ?it/s]"
      ]
     },
     "metadata": {},
     "output_type": "display_data"
    },
    {
     "name": "stdout",
     "output_type": "stream",
     "text": [
      "intervention_param:  0.3\n",
      "Path for tuned params:  /home/dh3553/projects/fairness-variance/results/mult_repair_levels_income_GA/tuning_results_Folktables_GA_2018_Income_alpha_0.3_20230718__141438.csv\n",
      "RandomForestClassifier:  {'bootstrap': True, 'ccp_alpha': 0.0, 'class_weight': None, 'criterion': 'gini', 'max_depth': 70, 'max_features': 'sqrt', 'max_leaf_nodes': None, 'max_samples': None, 'min_impurity_decrease': 0.0, 'min_samples_leaf': 1, 'min_samples_split': 5, 'min_weight_fraction_leaf': 0.0, 'n_estimators': 200, 'n_jobs': None, 'oob_score': False, 'random_state': 301, 'verbose': 0, 'warm_start': False}\n"
     ]
    },
    {
     "data": {
      "application/vnd.jupyter.widget-view+json": {
       "model_id": "9c821c4f20304b359bcbec374bc5e29d",
       "version_major": 2,
       "version_minor": 0
      },
      "text/plain": [
       "Multiple runs progress:   0%|          | 0/1 [00:00<?, ?it/s]"
      ]
     },
     "metadata": {},
     "output_type": "display_data"
    },
    {
     "data": {
      "application/vnd.jupyter.widget-view+json": {
       "model_id": "26bc25f6018549baa12cad2071fd2ddd",
       "version_major": 2,
       "version_minor": 0
      },
      "text/plain": [
       "Analyze models in one run:   0%|          | 0/1 [00:00<?, ?it/s]"
      ]
     },
     "metadata": {},
     "output_type": "display_data"
    },
    {
     "data": {
      "application/vnd.jupyter.widget-view+json": {
       "model_id": "340fa91139d04cf2afb6f2418c7de81a",
       "version_major": 2,
       "version_minor": 0
      },
      "text/plain": [
       "Classifiers testing by bootstrap:   0%|          | 0/200 [00:00<?, ?it/s]"
      ]
     },
     "metadata": {},
     "output_type": "display_data"
    },
    {
     "name": "stdout",
     "output_type": "stream",
     "text": [
      "intervention_param:  0.2\n",
      "Path for tuned params:  /home/dh3553/projects/fairness-variance/results/mult_repair_levels_income_GA/tuning_results_Folktables_GA_2018_Income_alpha_0.2_20230717__222835.csv\n",
      "RandomForestClassifier:  {'bootstrap': True, 'ccp_alpha': 0.0, 'class_weight': None, 'criterion': 'gini', 'max_depth': 100, 'max_features': 'sqrt', 'max_leaf_nodes': None, 'max_samples': None, 'min_impurity_decrease': 0.0, 'min_samples_leaf': 1, 'min_samples_split': 10, 'min_weight_fraction_leaf': 0.0, 'n_estimators': 700, 'n_jobs': None, 'oob_score': False, 'random_state': 301, 'verbose': 0, 'warm_start': False}\n"
     ]
    },
    {
     "data": {
      "application/vnd.jupyter.widget-view+json": {
       "model_id": "e0e245d2eb20430cb7285af8c8f5a7a9",
       "version_major": 2,
       "version_minor": 0
      },
      "text/plain": [
       "Multiple runs progress:   0%|          | 0/1 [00:00<?, ?it/s]"
      ]
     },
     "metadata": {},
     "output_type": "display_data"
    },
    {
     "data": {
      "application/vnd.jupyter.widget-view+json": {
       "model_id": "4878e30a41d745aab470d55ea433cc5e",
       "version_major": 2,
       "version_minor": 0
      },
      "text/plain": [
       "Analyze models in one run:   0%|          | 0/1 [00:00<?, ?it/s]"
      ]
     },
     "metadata": {},
     "output_type": "display_data"
    },
    {
     "data": {
      "application/vnd.jupyter.widget-view+json": {
       "model_id": "d888bbc5ffd64fc8b9e69e7b455ba6e2",
       "version_major": 2,
       "version_minor": 0
      },
      "text/plain": [
       "Classifiers testing by bootstrap:   0%|          | 0/200 [00:00<?, ?it/s]"
      ]
     },
     "metadata": {},
     "output_type": "display_data"
    },
    {
     "name": "stdout",
     "output_type": "stream",
     "text": [
      "intervention_param:  0.0\n",
      "Path for tuned params:  /home/dh3553/projects/fairness-variance/results/mult_repair_levels_income_GA/tuning_results_Folktables_GA_2018_Income_alpha_0.0_20230717__215443.csv\n",
      "RandomForestClassifier:  {'bootstrap': True, 'ccp_alpha': 0.0, 'class_weight': None, 'criterion': 'gini', 'max_depth': 100, 'max_features': 'sqrt', 'max_leaf_nodes': None, 'max_samples': None, 'min_impurity_decrease': 0.0, 'min_samples_leaf': 1, 'min_samples_split': 10, 'min_weight_fraction_leaf': 0.0, 'n_estimators': 1000, 'n_jobs': None, 'oob_score': False, 'random_state': 301, 'verbose': 0, 'warm_start': False}\n"
     ]
    },
    {
     "data": {
      "application/vnd.jupyter.widget-view+json": {
       "model_id": "2a4d6cbb9d9349259498c5efe58a22a4",
       "version_major": 2,
       "version_minor": 0
      },
      "text/plain": [
       "Multiple runs progress:   0%|          | 0/1 [00:00<?, ?it/s]"
      ]
     },
     "metadata": {},
     "output_type": "display_data"
    },
    {
     "data": {
      "application/vnd.jupyter.widget-view+json": {
       "model_id": "d0d9a17ce6c74287acfd2af82812a225",
       "version_major": 2,
       "version_minor": 0
      },
      "text/plain": [
       "Analyze models in one run:   0%|          | 0/1 [00:00<?, ?it/s]"
      ]
     },
     "metadata": {},
     "output_type": "display_data"
    },
    {
     "data": {
      "application/vnd.jupyter.widget-view+json": {
       "model_id": "244f15674b384f1e8d9c7b6ed4d6d9cc",
       "version_major": 2,
       "version_minor": 0
      },
      "text/plain": [
       "Classifiers testing by bootstrap:   0%|          | 0/200 [00:00<?, ?it/s]"
      ]
     },
     "metadata": {},
     "output_type": "display_data"
    }
   ],
   "source": [
    "run_exp_iter_with_preprocessing_intervention(data_loader=exp_iter_data_loader,\n",
    "                                             experiment_seed=experiment_seed,\n",
    "                                             test_set_fraction=TEST_SET_FRACTION,\n",
    "                                             db_writer_func=db_writer_func,\n",
    "                                             fair_intervention_params_lst=FAIR_INTERVENTION_PARAMS_LST,\n",
    "                                             column_transformer=preprocessor,\n",
    "                                             models_params_for_tuning=models_params_for_tuning,\n",
    "                                             metrics_computation_config=metrics_computation_config,\n",
    "                                             custom_table_fields_dct=custom_table_fields_dct,\n",
    "                                             # with_tuning=True,\n",
    "                                             with_tuning=False,\n",
    "                                             tuned_params_df_paths=tuned_params_df_paths,\n",
    "                                             save_results_dir_path=SAVE_RESULTS_DIR_PATH,\n",
    "                                             verbose=True)"
   ]
  },
  {
   "cell_type": "markdown",
   "id": "bb0dddd8",
   "metadata": {},
   "source": [
    "### Experiment iteration 4"
   ]
  },
  {
   "cell_type": "code",
   "execution_count": 64,
   "id": "22e66533",
   "metadata": {},
   "outputs": [],
   "source": [
    "# Configs for an experiment iteration\n",
    "exp_iter_num = 4\n",
    "experiment_seed = EXPERIMENT_SEEDS[exp_iter_num - 1]\n",
    "tuned_params_filenames = [\n",
    "    'tuning_results_Folktables_GA_2018_Income_alpha_0.4_20230718__141431.csv',\n",
    "    'tuning_results_Folktables_GA_2018_Income_alpha_0.3_20230718__141438.csv',\n",
    "    'tuning_results_Folktables_GA_2018_Income_alpha_0.2_20230717__222835.csv',\n",
    "    'tuning_results_Folktables_GA_2018_Income_alpha_0.0_20230717__215443.csv',\n",
    "]\n",
    "tuned_params_df_paths = [os.path.join(ROOT_DIR, 'results', EXPERIMENT_NAME, tuned_params_filename)\n",
    "                         for tuned_params_filename in tuned_params_filenames]\n",
    "custom_table_fields_dct['experiment_iteration'] = f'Exp_iter_{exp_iter_num}'\n",
    "\n",
    "exp_iter_data_loader = copy.deepcopy(data_loader)  # Add deepcopy to avoid data leakage\n",
    "models_params_for_tuning = get_folktables_employment_models_params_for_tuning(experiment_seed)\n",
    "preprocessor = get_simple_preprocessor(exp_iter_data_loader)"
   ]
  },
  {
   "cell_type": "code",
   "execution_count": 6,
   "id": "b6064dd9",
   "metadata": {},
   "outputs": [],
   "source": [
    "run_exp_iter_with_preprocessing_intervention(data_loader=exp_iter_data_loader,\n",
    "                                             experiment_seed=experiment_seed,\n",
    "                                             test_set_fraction=TEST_SET_FRACTION,\n",
    "                                             db_writer_func=db_writer_func,\n",
    "                                             fair_intervention_params_lst=FAIR_INTERVENTION_PARAMS_LST,\n",
    "                                             column_transformer=preprocessor,\n",
    "                                             models_params_for_tuning=models_params_for_tuning,\n",
    "                                             metrics_computation_config=metrics_computation_config,\n",
    "                                             custom_table_fields_dct=custom_table_fields_dct,\n",
    "                                             # with_tuning=True,\n",
    "                                             with_tuning=False,\n",
    "                                             tuned_params_df_paths=tuned_params_df_paths,\n",
    "                                             save_results_dir_path=SAVE_RESULTS_DIR_PATH,\n",
    "                                             verbose=True)"
   ]
  },
  {
   "cell_type": "markdown",
   "id": "a5fb94f6",
   "metadata": {},
   "source": [
    "### Experiment iteration 5"
   ]
  },
  {
   "cell_type": "code",
   "execution_count": null,
   "id": "c3a9590d",
   "metadata": {},
   "outputs": [],
   "source": [
    "# Configs for an experiment iteration\n",
    "exp_iter_num = 5\n",
    "experiment_seed = EXPERIMENT_SEEDS[exp_iter_num - 1]\n",
    "tuned_params_filenames = [\n",
    "    'tuning_results_Folktables_GA_2018_Income_alpha_0.4_20230718__141431.csv',\n",
    "    'tuning_results_Folktables_GA_2018_Income_alpha_0.3_20230718__141438.csv',\n",
    "    'tuning_results_Folktables_GA_2018_Income_alpha_0.2_20230717__222835.csv',\n",
    "    'tuning_results_Folktables_GA_2018_Income_alpha_0.0_20230717__215443.csv',\n",
    "]\n",
    "tuned_params_df_paths = [os.path.join(ROOT_DIR, 'results', EXPERIMENT_NAME, tuned_params_filename)\n",
    "                         for tuned_params_filename in tuned_params_filenames]\n",
    "custom_table_fields_dct['experiment_iteration'] = f'Exp_iter_{exp_iter_num}'\n",
    "\n",
    "exp_iter_data_loader = copy.deepcopy(data_loader)  # Add deepcopy to avoid data leakage\n",
    "models_params_for_tuning = get_folktables_employment_models_params_for_tuning(experiment_seed)\n",
    "preprocessor = get_simple_preprocessor(exp_iter_data_loader)"
   ]
  },
  {
   "cell_type": "code",
   "execution_count": null,
   "id": "d5dbc665",
   "metadata": {},
   "outputs": [],
   "source": [
    "run_exp_iter_with_preprocessing_intervention(data_loader=exp_iter_data_loader,\n",
    "                                             experiment_seed=experiment_seed,\n",
    "                                             test_set_fraction=TEST_SET_FRACTION,\n",
    "                                             db_writer_func=db_writer_func,\n",
    "                                             fair_intervention_params_lst=FAIR_INTERVENTION_PARAMS_LST,\n",
    "                                             column_transformer=preprocessor,\n",
    "                                             models_params_for_tuning=models_params_for_tuning,\n",
    "                                             metrics_computation_config=metrics_computation_config,\n",
    "                                             custom_table_fields_dct=custom_table_fields_dct,\n",
    "                                             # with_tuning=True,\n",
    "                                             with_tuning=False,\n",
    "                                             tuned_params_df_paths=tuned_params_df_paths,\n",
    "                                             save_results_dir_path=SAVE_RESULTS_DIR_PATH,\n",
    "                                             verbose=True)"
   ]
  },
  {
   "cell_type": "markdown",
   "id": "4418dde4",
   "metadata": {},
   "source": [
    "### Experiment iteration 6"
   ]
  },
  {
   "cell_type": "code",
   "execution_count": null,
   "id": "0b7d354f",
   "metadata": {},
   "outputs": [],
   "source": [
    "# Configs for an experiment iteration\n",
    "exp_iter_num = 6\n",
    "experiment_seed = EXPERIMENT_SEEDS[exp_iter_num - 1]\n",
    "tuned_params_filenames = [\n",
    "    'tuning_results_Folktables_GA_2018_Income_alpha_0.4_20230718__141431.csv',\n",
    "    'tuning_results_Folktables_GA_2018_Income_alpha_0.3_20230718__141438.csv',\n",
    "    'tuning_results_Folktables_GA_2018_Income_alpha_0.2_20230717__222835.csv',\n",
    "    'tuning_results_Folktables_GA_2018_Income_alpha_0.0_20230717__215443.csv',\n",
    "]\n",
    "tuned_params_df_paths = [os.path.join(ROOT_DIR, 'results', EXPERIMENT_NAME, tuned_params_filename)\n",
    "                         for tuned_params_filename in tuned_params_filenames]\n",
    "custom_table_fields_dct['experiment_iteration'] = f'Exp_iter_{exp_iter_num}'\n",
    "\n",
    "exp_iter_data_loader = copy.deepcopy(data_loader)  # Add deepcopy to avoid data leakage\n",
    "models_params_for_tuning = get_folktables_employment_models_params_for_tuning(experiment_seed)\n",
    "preprocessor = get_simple_preprocessor(exp_iter_data_loader)"
   ]
  },
  {
   "cell_type": "code",
   "execution_count": null,
   "id": "58fbf3a0",
   "metadata": {},
   "outputs": [],
   "source": [
    "run_exp_iter_with_preprocessing_intervention(data_loader=exp_iter_data_loader,\n",
    "                                             experiment_seed=experiment_seed,\n",
    "                                             test_set_fraction=TEST_SET_FRACTION,\n",
    "                                             db_writer_func=db_writer_func,\n",
    "                                             fair_intervention_params_lst=FAIR_INTERVENTION_PARAMS_LST,\n",
    "                                             column_transformer=preprocessor,\n",
    "                                             models_params_for_tuning=models_params_for_tuning,\n",
    "                                             metrics_computation_config=metrics_computation_config,\n",
    "                                             custom_table_fields_dct=custom_table_fields_dct,\n",
    "                                             # with_tuning=True,\n",
    "                                             with_tuning=False,\n",
    "                                             tuned_params_df_paths=tuned_params_df_paths,\n",
    "                                             save_results_dir_path=SAVE_RESULTS_DIR_PATH,\n",
    "                                             verbose=True)"
   ]
  },
  {
   "cell_type": "code",
   "execution_count": null,
   "id": "c8bda3b0",
   "metadata": {},
   "outputs": [],
   "source": []
  }
 ],
 "metadata": {
  "kernelspec": {
   "display_name": "Python 3",
   "language": "python",
   "name": "python3"
  },
  "language_info": {
   "codemirror_mode": {
    "name": "ipython",
    "version": 3
   },
   "file_extension": ".py",
   "mimetype": "text/x-python",
   "name": "python",
   "nbconvert_exporter": "python",
   "pygments_lexer": "ipython3",
   "version": "3.8.5"
  }
 },
 "nbformat": 4,
 "nbformat_minor": 5
}
